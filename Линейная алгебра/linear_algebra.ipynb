{
 "cells": [
  {
   "cell_type": "markdown",
   "metadata": {},
   "source": [
    "# Защита персональных данных клиентов"
   ]
  },
  {
   "cell_type": "markdown",
   "metadata": {},
   "source": [
    "Вам нужно защитить данные клиентов страховой компании «Хоть потоп». Разработайте такой метод преобразования данных, чтобы по ним было сложно восстановить персональную информацию. Обоснуйте корректность его работы.\n",
    "\n",
    "Нужно защитить данные, чтобы при преобразовании качество моделей машинного обучения не ухудшилось. Подбирать наилучшую модель не требуется."
   ]
  },
  {
   "cell_type": "markdown",
   "metadata": {},
   "source": [
    "## Загрузка данных"
   ]
  },
  {
   "cell_type": "code",
   "execution_count": 1,
   "metadata": {},
   "outputs": [],
   "source": [
    "import pandas as pd\n",
    "import numpy as np\n",
    "from sklearn.model_selection import train_test_split\n",
    "from sklearn.linear_model import LinearRegression\n",
    "from sklearn.preprocessing import StandardScaler\n",
    "from sklearn.metrics import r2_score, mean_squared_error"
   ]
  },
  {
   "cell_type": "code",
   "execution_count": 2,
   "metadata": {},
   "outputs": [],
   "source": [
    "data = pd.read_csv('/datasets/insurance.csv')"
   ]
  },
  {
   "cell_type": "code",
   "execution_count": 3,
   "metadata": {},
   "outputs": [
    {
     "data": {
      "text/html": [
       "<div>\n",
       "<style scoped>\n",
       "    .dataframe tbody tr th:only-of-type {\n",
       "        vertical-align: middle;\n",
       "    }\n",
       "\n",
       "    .dataframe tbody tr th {\n",
       "        vertical-align: top;\n",
       "    }\n",
       "\n",
       "    .dataframe thead th {\n",
       "        text-align: right;\n",
       "    }\n",
       "</style>\n",
       "<table border=\"1\" class=\"dataframe\">\n",
       "  <thead>\n",
       "    <tr style=\"text-align: right;\">\n",
       "      <th></th>\n",
       "      <th>Пол</th>\n",
       "      <th>Возраст</th>\n",
       "      <th>Зарплата</th>\n",
       "      <th>Члены семьи</th>\n",
       "      <th>Страховые выплаты</th>\n",
       "    </tr>\n",
       "  </thead>\n",
       "  <tbody>\n",
       "    <tr>\n",
       "      <th>0</th>\n",
       "      <td>1</td>\n",
       "      <td>41.0</td>\n",
       "      <td>49600.0</td>\n",
       "      <td>1</td>\n",
       "      <td>0</td>\n",
       "    </tr>\n",
       "    <tr>\n",
       "      <th>1</th>\n",
       "      <td>0</td>\n",
       "      <td>46.0</td>\n",
       "      <td>38000.0</td>\n",
       "      <td>1</td>\n",
       "      <td>1</td>\n",
       "    </tr>\n",
       "    <tr>\n",
       "      <th>2</th>\n",
       "      <td>0</td>\n",
       "      <td>29.0</td>\n",
       "      <td>21000.0</td>\n",
       "      <td>0</td>\n",
       "      <td>0</td>\n",
       "    </tr>\n",
       "    <tr>\n",
       "      <th>3</th>\n",
       "      <td>0</td>\n",
       "      <td>21.0</td>\n",
       "      <td>41700.0</td>\n",
       "      <td>2</td>\n",
       "      <td>0</td>\n",
       "    </tr>\n",
       "    <tr>\n",
       "      <th>4</th>\n",
       "      <td>1</td>\n",
       "      <td>28.0</td>\n",
       "      <td>26100.0</td>\n",
       "      <td>0</td>\n",
       "      <td>0</td>\n",
       "    </tr>\n",
       "  </tbody>\n",
       "</table>\n",
       "</div>"
      ],
      "text/plain": [
       "   Пол  Возраст  Зарплата  Члены семьи  Страховые выплаты\n",
       "0    1     41.0   49600.0            1                  0\n",
       "1    0     46.0   38000.0            1                  1\n",
       "2    0     29.0   21000.0            0                  0\n",
       "3    0     21.0   41700.0            2                  0\n",
       "4    1     28.0   26100.0            0                  0"
      ]
     },
     "execution_count": 3,
     "metadata": {},
     "output_type": "execute_result"
    }
   ],
   "source": [
    "data.head()"
   ]
  },
  {
   "cell_type": "code",
   "execution_count": 4,
   "metadata": {},
   "outputs": [
    {
     "name": "stdout",
     "output_type": "stream",
     "text": [
      "Количество полных дубликатов: 153\n"
     ]
    }
   ],
   "source": [
    "print(f'Количество полных дубликатов: {data.duplicated().sum()}')"
   ]
  },
  {
   "cell_type": "code",
   "execution_count": 5,
   "metadata": {},
   "outputs": [
    {
     "data": {
      "text/plain": [
       "(5000, 5)"
      ]
     },
     "execution_count": 5,
     "metadata": {},
     "output_type": "execute_result"
    }
   ],
   "source": [
    "data.shape"
   ]
  },
  {
   "cell_type": "code",
   "execution_count": 6,
   "metadata": {},
   "outputs": [
    {
     "name": "stdout",
     "output_type": "stream",
     "text": [
      "<class 'pandas.core.frame.DataFrame'>\n",
      "RangeIndex: 5000 entries, 0 to 4999\n",
      "Data columns (total 5 columns):\n",
      " #   Column             Non-Null Count  Dtype  \n",
      "---  ------             --------------  -----  \n",
      " 0   Пол                5000 non-null   int64  \n",
      " 1   Возраст            5000 non-null   float64\n",
      " 2   Зарплата           5000 non-null   float64\n",
      " 3   Члены семьи        5000 non-null   int64  \n",
      " 4   Страховые выплаты  5000 non-null   int64  \n",
      "dtypes: float64(2), int64(3)\n",
      "memory usage: 195.4 KB\n"
     ]
    }
   ],
   "source": [
    "data.info()"
   ]
  },
  {
   "cell_type": "markdown",
   "metadata": {},
   "source": [
    "1. Таблица содержит 5000 наблюдений по 5 признаков в каждом\n",
    "2. Пропуски в данных отсутствуют\n",
    "3. Совокупность имеющихся признаков не позволяет говорить о наличии/отсутствии дубликатов со всей полнотой уверенности несмотря на 153 идентинчых строки"
   ]
  },
  {
   "cell_type": "markdown",
   "metadata": {},
   "source": [
    "## Умножение матриц"
   ]
  },
  {
   "cell_type": "markdown",
   "metadata": {},
   "source": [
    "В этом задании вы можете записывать формулы в *Jupyter Notebook.*\n",
    "\n",
    "Чтобы записать формулу внутри текста, окружите её символами доллара \\\\$; если снаружи —  двойными символами \\\\$\\\\$. Эти формулы записываются на языке вёрстки *LaTeX.* \n",
    "\n",
    "Для примера мы записали формулы линейной регрессии. Можете их скопировать и отредактировать, чтобы решить задачу.\n",
    "\n",
    "Работать в *LaTeX* необязательно."
   ]
  },
  {
   "cell_type": "markdown",
   "metadata": {},
   "source": [
    "**Задача**:\n",
    "\n",
    "Признаки умножают на обратимую матрицу. Изменится ли качество линейной регрессии?"
   ]
  },
  {
   "cell_type": "markdown",
   "metadata": {},
   "source": [
    "Обозначения:\n",
    "\n",
    "- $X$ — матрица признаков (нулевой столбец состоит из единиц)\n",
    "\n",
    "- $y$ — вектор целевого признака\n",
    "\n",
    "- $P$ — матрица, на которую умножаются признаки\n",
    "\n",
    "- $w$ — вектор весов линейной регрессии (нулевой элемент равен сдвигу)"
   ]
  },
  {
   "cell_type": "markdown",
   "metadata": {},
   "source": [
    "Предсказания:\n",
    "\n",
    "$$\n",
    "a = Xw\n",
    "$$\n",
    "\n",
    "Задача обучения:\n",
    "\n",
    "$$\n",
    "w = \\arg\\min_w MSE(Xw, y)\n",
    "$$\n",
    "\n",
    "Формула обучения:\n",
    "\n",
    "$$\n",
    "w = (X^T X)^{-1} X^T y\n",
    "$$"
   ]
  },
  {
   "cell_type": "markdown",
   "metadata": {},
   "source": [
    "**Ответ:** Качество линейной регрессии не изменится\n",
    "\n",
    "**Обоснование:** \n",
    "\n",
    "\n",
    "Так как предсказания вычисляются по уже известной нам формуле:\n",
    "\n",
    "$$\n",
    "w = (X^T X)^{-1} X^T y\n",
    "$$\n",
    "\n",
    "\n",
    "Формула для расчёта предсказаний при умножении матрицы признаков на обратимую матрицу будут выглядеть следующим образом (где, P - случайная обратимая матрица):\n",
    "\n",
    "$$\n",
    "w_1 = ((XP)^TXP)^{-1}(XP)^Ty\n",
    "$$\n",
    "\n",
    "Эту же формулу можно записать в другом виде:\n",
    "\n",
    "$$\n",
    "w_1 = (X^TP^TXP)^{-1}X^TP^Ty\n",
    "$$\n",
    "\n",
    "Далее раскрываем скобки и немного перегруппируем множители:\n",
    "\n",
    "$$\n",
    "w_1 = P^{-1}(X^TX)(P^T)^{-1}P^TX^Ty\n",
    "$$\n",
    "\n",
    "Так как $A^{-1}A=E$, то и $(P^T)^{-1}P^T = E$:\n",
    "\n",
    "$$\n",
    "w_1 = P^{-1}(X^TX)^{-1}EX^Ty\n",
    "$$\n",
    "\n",
    "Так как $AE=EA=A$, то:\n",
    "\n",
    "$$\n",
    "w_1 = P^{-1}(X^TX)^{-1}X^Ty\n",
    "$$\n",
    "\n",
    "Так как $w=(X^TX)^{-1}X^Ty$, то формулу можно записать следующим образом:\n",
    "\n",
    "$$\n",
    "w1=P^{-1}w\n",
    "$$\n",
    "\n",
    "Получить вектор предсказаний для исходной матрицы $Х$ мы можем по формуле $a=Xw$. Из этого следует, что вектор предсказаний $a1$ для видоизмененной матрицы $X1$ может быть получен по формуле $a1=X1w1$, где $X1=XP$. Следовательно: \n",
    "\n",
    "$$\n",
    "a1=XPP^{-1}w\n",
    "$$\n",
    "\n",
    "А так как $A^{-1}A=E$, то и $PP^{-1} = E$:\n",
    "\n",
    "$$\n",
    "a1=XEw\n",
    "$$\n",
    "\n",
    "Или:\n",
    "\n",
    "$$\n",
    "a1=Xw\n",
    "$$\n",
    "\n",
    "Из чего следует: \n",
    "\n",
    "$$\n",
    "a1=Xw=a\n",
    "$$"
   ]
  },
  {
   "cell_type": "markdown",
   "metadata": {},
   "source": [
    "**Вывод:** \n",
    "\n",
    "При умножении матрицы признаков на случайную обратимую матрицу качество предсказаний не изменится."
   ]
  },
  {
   "cell_type": "markdown",
   "metadata": {},
   "source": [
    "## Алгоритм преобразования"
   ]
  },
  {
   "cell_type": "markdown",
   "metadata": {},
   "source": [
    "**Алгоритм**\n",
    "\n",
    "Зашифруем признаки при помощи умножения матрицы признаков MN на случайную обратимую матрицу NN. Таким образом матрица, на которую мы умножим исходные данные, станет своеобразным ключом шифрования, а она же инвертированная позволит дешифровать данные. \n",
    "\n",
    "Ранее теоретически было обосновано, что такой алгоритм не ухудшит качество прогнозирования при помощи линейной регрессии, позволив защитить персональные данные клиентов. "
   ]
  },
  {
   "cell_type": "markdown",
   "metadata": {},
   "source": [
    "**Шаг 1** - Формируем случайную матрицу. Матрица должна быть квадратной со стороной, равной количеству признаков на основе которых мы производим предсказание."
   ]
  },
  {
   "cell_type": "code",
   "execution_count": 7,
   "metadata": {},
   "outputs": [
    {
     "data": {
      "text/plain": [
       "array([[-0.1158487 , -0.21041205, -2.449859  , -0.72837116],\n",
       "       [ 1.88700748,  0.56964131, -0.35911481,  1.26729595],\n",
       "       [-0.29689521,  0.03663712,  0.14743596,  1.12063037],\n",
       "       [ 2.92854064,  0.03015761,  0.65571972,  1.57083096]])"
      ]
     },
     "execution_count": 7,
     "metadata": {},
     "output_type": "execute_result"
    }
   ],
   "source": [
    "#генерируем матрицу\n",
    "random_matrix = np.random.normal(size=(4,4))\n",
    "random_matrix"
   ]
  },
  {
   "cell_type": "markdown",
   "metadata": {},
   "source": [
    "**Шаг 2** - Проводим проверку полученной матрицы на обратимость"
   ]
  },
  {
   "cell_type": "code",
   "execution_count": 8,
   "metadata": {},
   "outputs": [
    {
     "data": {
      "text/plain": [
       "array([[ 0.04794785,  0.02835839, -0.3997853 ,  0.2845608 ],\n",
       "       [-0.58478746,  1.64067893, -0.63145697, -1.14432314],\n",
       "       [-0.38473857, -0.13377353, -0.17360622,  0.05337721],\n",
       "       [ 0.08243995, -0.02852613,  0.82992238,  0.1057795 ]])"
      ]
     },
     "execution_count": 8,
     "metadata": {},
     "output_type": "execute_result"
    }
   ],
   "source": [
    "np.linalg.inv(random_matrix)"
   ]
  },
  {
   "cell_type": "markdown",
   "metadata": {},
   "source": [
    "**Шаг 3** - Производим подготовку данных"
   ]
  },
  {
   "cell_type": "code",
   "execution_count": 9,
   "metadata": {},
   "outputs": [],
   "source": [
    "#разделим данные на признаки и таргет\n",
    "features = data.drop(['Страховые выплаты'], axis=1)\n",
    "target = data['Страховые выплаты']"
   ]
  },
  {
   "cell_type": "code",
   "execution_count": 10,
   "metadata": {},
   "outputs": [],
   "source": [
    "#разделим данные на тренировочную и тестовую выборки\n",
    "train_features, test_features, train_target, test_target = train_test_split(\n",
    "        features,\n",
    "        target,\n",
    "        train_size=0.75,\n",
    "        random_state=12345\n",
    "    )"
   ]
  },
  {
   "cell_type": "code",
   "execution_count": 11,
   "metadata": {},
   "outputs": [],
   "source": [
    "#произведем масштабирование признаков\n",
    "scaler = StandardScaler()\n",
    "train_features = scaler.fit_transform(train_features)\n",
    "test_features = scaler.transform(test_features)"
   ]
  },
  {
   "cell_type": "markdown",
   "metadata": {},
   "source": [
    "**Шаг 4** - Проверка"
   ]
  },
  {
   "cell_type": "code",
   "execution_count": 12,
   "metadata": {},
   "outputs": [],
   "source": [
    "#создаем класс, который строит прогноз с использованием линейной регрессии\n",
    "class Linear_Regression:\n",
    "    def fit(self, train_features, train_target):\n",
    "        X = np.concatenate((np.ones((train_features.shape[0], 1)), train_features), axis=1)\n",
    "        y = train_target\n",
    "        w = np.linalg.inv(X.T @ X) @ X.T @ y\n",
    "        self.w = w[1:]\n",
    "        self.w0 = w[0]\n",
    "\n",
    "    def predict(self, test_features):\n",
    "        return test_features.dot(self.w) + self.w0"
   ]
  },
  {
   "cell_type": "code",
   "execution_count": 13,
   "metadata": {},
   "outputs": [],
   "source": [
    "#обучаем регрессию и сохраняем вектор предикта на чистых данных\n",
    "model = Linear_Regression()\n",
    "model.fit(train_features, train_target)\n",
    "initial_pred = model.predict(test_features)"
   ]
  },
  {
   "cell_type": "code",
   "execution_count": 14,
   "metadata": {},
   "outputs": [],
   "source": [
    "#проведем преобразование путем умножения на ранее сформированную случайную матрицу\n",
    "train_features_modified = train_features @ random_matrix\n",
    "test_features_modified = test_features @ random_matrix"
   ]
  },
  {
   "cell_type": "code",
   "execution_count": 15,
   "metadata": {},
   "outputs": [],
   "source": [
    "#повторно обучаем модель и сохраняем новый вектор предикта, но уже на измененных данных\n",
    "model.fit(train_features_modified, train_target)\n",
    "modified_pred = model.predict(test_features_modified)"
   ]
  },
  {
   "cell_type": "code",
   "execution_count": 16,
   "metadata": {},
   "outputs": [
    {
     "name": "stdout",
     "output_type": "stream",
     "text": [
      "Суммарная разность значений для двух полученных векторов предсказаний: 1.6528445279107018e-14\n"
     ]
    }
   ],
   "source": [
    "print(f'Суммарная разность значений для двух полученных векторов предсказаний: {(initial_pred - modified_pred).sum()}')"
   ]
  },
  {
   "cell_type": "markdown",
   "metadata": {},
   "source": [
    "Мы наблюдаем исчезающе малую суммарную разность векторов предсказаний, что может быт обусловлено погрешностью при вычислениях. Проведем еще одну проверку, округлив значения:"
   ]
  },
  {
   "cell_type": "code",
   "execution_count": 17,
   "metadata": {},
   "outputs": [
    {
     "data": {
      "text/html": [
       "<div>\n",
       "<style scoped>\n",
       "    .dataframe tbody tr th:only-of-type {\n",
       "        vertical-align: middle;\n",
       "    }\n",
       "\n",
       "    .dataframe tbody tr th {\n",
       "        vertical-align: top;\n",
       "    }\n",
       "\n",
       "    .dataframe thead th {\n",
       "        text-align: right;\n",
       "    }\n",
       "</style>\n",
       "<table border=\"1\" class=\"dataframe\">\n",
       "  <thead>\n",
       "    <tr style=\"text-align: right;\">\n",
       "      <th></th>\n",
       "      <th>initial</th>\n",
       "      <th>modified</th>\n",
       "      <th>is_equal?</th>\n",
       "    </tr>\n",
       "  </thead>\n",
       "  <tbody>\n",
       "    <tr>\n",
       "      <th>0</th>\n",
       "      <td>0.174948</td>\n",
       "      <td>0.174948</td>\n",
       "      <td>True</td>\n",
       "    </tr>\n",
       "    <tr>\n",
       "      <th>1</th>\n",
       "      <td>0.805235</td>\n",
       "      <td>0.805235</td>\n",
       "      <td>True</td>\n",
       "    </tr>\n",
       "    <tr>\n",
       "      <th>2</th>\n",
       "      <td>0.455993</td>\n",
       "      <td>0.455993</td>\n",
       "      <td>True</td>\n",
       "    </tr>\n",
       "    <tr>\n",
       "      <th>3</th>\n",
       "      <td>-0.236681</td>\n",
       "      <td>-0.236681</td>\n",
       "      <td>True</td>\n",
       "    </tr>\n",
       "    <tr>\n",
       "      <th>4</th>\n",
       "      <td>0.460185</td>\n",
       "      <td>0.460185</td>\n",
       "      <td>True</td>\n",
       "    </tr>\n",
       "    <tr>\n",
       "      <th>...</th>\n",
       "      <td>...</td>\n",
       "      <td>...</td>\n",
       "      <td>...</td>\n",
       "    </tr>\n",
       "    <tr>\n",
       "      <th>1245</th>\n",
       "      <td>0.866582</td>\n",
       "      <td>0.866582</td>\n",
       "      <td>True</td>\n",
       "    </tr>\n",
       "    <tr>\n",
       "      <th>1246</th>\n",
       "      <td>0.195173</td>\n",
       "      <td>0.195173</td>\n",
       "      <td>True</td>\n",
       "    </tr>\n",
       "    <tr>\n",
       "      <th>1247</th>\n",
       "      <td>0.312992</td>\n",
       "      <td>0.312992</td>\n",
       "      <td>True</td>\n",
       "    </tr>\n",
       "    <tr>\n",
       "      <th>1248</th>\n",
       "      <td>0.349261</td>\n",
       "      <td>0.349261</td>\n",
       "      <td>True</td>\n",
       "    </tr>\n",
       "    <tr>\n",
       "      <th>1249</th>\n",
       "      <td>0.788683</td>\n",
       "      <td>0.788683</td>\n",
       "      <td>True</td>\n",
       "    </tr>\n",
       "  </tbody>\n",
       "</table>\n",
       "<p>1250 rows × 3 columns</p>\n",
       "</div>"
      ],
      "text/plain": [
       "       initial  modified  is_equal?\n",
       "0     0.174948  0.174948       True\n",
       "1     0.805235  0.805235       True\n",
       "2     0.455993  0.455993       True\n",
       "3    -0.236681 -0.236681       True\n",
       "4     0.460185  0.460185       True\n",
       "...        ...       ...        ...\n",
       "1245  0.866582  0.866582       True\n",
       "1246  0.195173  0.195173       True\n",
       "1247  0.312992  0.312992       True\n",
       "1248  0.349261  0.349261       True\n",
       "1249  0.788683  0.788683       True\n",
       "\n",
       "[1250 rows x 3 columns]"
      ]
     },
     "execution_count": 17,
     "metadata": {},
     "output_type": "execute_result"
    }
   ],
   "source": [
    "predictions = pd.DataFrame(initial_pred, modified_pred).reset_index()\n",
    "predictions.columns=['initial', 'modified']\n",
    "predictions = predictions.round(12)\n",
    "predictions['is_equal?'] = predictions['initial'] == predictions['modified']\n",
    "predictions"
   ]
  },
  {
   "cell_type": "code",
   "execution_count": 18,
   "metadata": {},
   "outputs": [
    {
     "name": "stdout",
     "output_type": "stream",
     "text": [
      "Совпадает 1250 значений из 1250 \n"
     ]
    }
   ],
   "source": [
    "print(f'Совпадает {predictions[\"is_equal?\"].sum()} значений из {len(predictions)} ')  "
   ]
  },
  {
   "cell_type": "markdown",
   "metadata": {},
   "source": [
    "Качество предсказаний не изменилось."
   ]
  },
  {
   "cell_type": "markdown",
   "metadata": {},
   "source": [
    "**Шаг 5** - Восстановление исходных данных"
   ]
  },
  {
   "cell_type": "code",
   "execution_count": 19,
   "metadata": {},
   "outputs": [],
   "source": [
    "#восстановим данные путем умножения преобразованной матрицы на обратную матрицу\n",
    "decrypted_train_features = train_features_modified @ np.linalg.inv(random_matrix)\n",
    "decrypted_test_features = test_features_modified @ np.linalg.inv(random_matrix)"
   ]
  },
  {
   "cell_type": "code",
   "execution_count": 20,
   "metadata": {},
   "outputs": [
    {
     "name": "stdout",
     "output_type": "stream",
     "text": [
      "Суммарная разность значений для двух полученных векторов предсказаний: -8.508862017753138e-14\n"
     ]
    }
   ],
   "source": [
    "print(f'Суммарная разность значений для двух полученных векторов предсказаний: {(test_features - decrypted_test_features).sum()}')"
   ]
  },
  {
   "cell_type": "code",
   "execution_count": 28,
   "metadata": {},
   "outputs": [
    {
     "data": {
      "text/plain": [
       "0    1250\n",
       "1    1250\n",
       "2    1249\n",
       "3    1250\n",
       "dtype: int64"
      ]
     },
     "execution_count": 28,
     "metadata": {},
     "output_type": "execute_result"
    }
   ],
   "source": [
    "#сравним фреймы с исходными и восстановленными фичами\n",
    "(pd.DataFrame(decrypted_test_features).round(12) == pd.DataFrame(test_features).round(12)).sum()"
   ]
  },
  {
   "cell_type": "markdown",
   "metadata": {},
   "source": [
    "Различий в восстановленных и исходных признаках нет. "
   ]
  },
  {
   "cell_type": "markdown",
   "metadata": {},
   "source": [
    "## Проверка алгоритма"
   ]
  },
  {
   "cell_type": "markdown",
   "metadata": {},
   "source": [
    "Повторим процедуру сравнения предсказаний, но с использованием алгоритма линейной регрессии из библиотеки sklearn и метрик MSE/R2. "
   ]
  },
  {
   "cell_type": "code",
   "execution_count": 22,
   "metadata": {},
   "outputs": [],
   "source": [
    "model = LinearRegression()\n",
    "model.fit(train_features, train_target)\n",
    "initial_pred = model.predict(test_features)"
   ]
  },
  {
   "cell_type": "code",
   "execution_count": 23,
   "metadata": {},
   "outputs": [],
   "source": [
    "#повторно обучаем модель и сохраняем новый вектор предикта, но уже на измененных данных\n",
    "model.fit(train_features_modified, train_target)\n",
    "modified_pred = model.predict(test_features_modified)"
   ]
  },
  {
   "cell_type": "code",
   "execution_count": 24,
   "metadata": {},
   "outputs": [
    {
     "name": "stdout",
     "output_type": "stream",
     "text": [
      "R2 предсказаний на исходных данных - 0.4352275712702668\n",
      "MSE предсказаний на исходных данных - 0.11660517472525563\n",
      "\n",
      "R2 предсказаний на модифицированных данных - 0.4352275712702668\n",
      "MSE предсказаний на исходных данных - 0.11660517472525563\n"
     ]
    }
   ],
   "source": [
    "#считаем метрики\n",
    "print(f'R2 предсказаний на исходных данных - {r2_score(test_target, initial_pred)}')\n",
    "print(f'MSE предсказаний на исходных данных - {mean_squared_error(test_target, initial_pred)}')\n",
    "print()\n",
    "print(f'R2 предсказаний на модифицированных данных - {r2_score(test_target, modified_pred)}')\n",
    "print(f'MSE предсказаний на исходных данных - {mean_squared_error(test_target, modified_pred)}')"
   ]
  },
  {
   "cell_type": "markdown",
   "metadata": {},
   "source": [
    "Мы видим, что метрики качества модели практически идентичный (отличие в 16-17 знаке после точки скорее всего являются погрешностями вычислений)."
   ]
  },
  {
   "cell_type": "markdown",
   "metadata": {},
   "source": [
    "## Вывод"
   ]
  },
  {
   "cell_type": "markdown",
   "metadata": {},
   "source": [
    "1. Установлено, что преобразование данных с целью защиты путем перемножения их на обратимую матрицу не ухудшает качество прогнозирования с использованием алгоритма линейной регрессии\n",
    "2. Утверждение проверено эмпирически путем сравнения метрик качества прогнозирования и сравнения непосредственно значений"
   ]
  }
 ],
 "metadata": {
  "ExecuteTimeLog": [
   {
    "duration": 391,
    "start_time": "2022-04-04T10:12:59.726Z"
   },
   {
    "duration": 12,
    "start_time": "2022-04-04T10:13:20.290Z"
   },
   {
    "duration": 20,
    "start_time": "2022-04-04T10:13:26.949Z"
   },
   {
    "duration": 3,
    "start_time": "2022-04-04T12:32:52.080Z"
   },
   {
    "duration": 16,
    "start_time": "2022-04-04T12:32:52.859Z"
   },
   {
    "duration": 8,
    "start_time": "2022-04-04T12:32:53.294Z"
   },
   {
    "duration": 4,
    "start_time": "2022-04-04T12:33:11.924Z"
   },
   {
    "duration": 12,
    "start_time": "2022-04-04T12:34:11.355Z"
   },
   {
    "duration": 8,
    "start_time": "2022-04-04T12:34:23.309Z"
   },
   {
    "duration": 6,
    "start_time": "2022-04-04T12:34:27.825Z"
   },
   {
    "duration": 6,
    "start_time": "2022-04-04T12:34:32.532Z"
   },
   {
    "duration": 11,
    "start_time": "2022-04-04T12:34:47.384Z"
   },
   {
    "duration": 9,
    "start_time": "2022-04-04T12:34:54.464Z"
   },
   {
    "duration": 6,
    "start_time": "2022-04-04T12:36:34.284Z"
   },
   {
    "duration": 2,
    "start_time": "2022-04-04T12:40:42.514Z"
   },
   {
    "duration": 5,
    "start_time": "2022-04-04T13:06:00.916Z"
   },
   {
    "duration": 66,
    "start_time": "2022-04-06T10:26:44.568Z"
   },
   {
    "duration": 7,
    "start_time": "2022-04-06T10:26:51.737Z"
   },
   {
    "duration": 494,
    "start_time": "2022-04-06T10:26:55.251Z"
   },
   {
    "duration": 484,
    "start_time": "2022-04-06T10:27:02.468Z"
   },
   {
    "duration": 20,
    "start_time": "2022-04-06T10:27:02.955Z"
   },
   {
    "duration": 24,
    "start_time": "2022-04-06T10:27:02.977Z"
   },
   {
    "duration": 9,
    "start_time": "2022-04-06T10:27:03.004Z"
   },
   {
    "duration": 6,
    "start_time": "2022-04-06T10:27:03.017Z"
   },
   {
    "duration": 54,
    "start_time": "2022-04-06T10:27:03.025Z"
   },
   {
    "duration": 6,
    "start_time": "2022-04-06T10:27:03.082Z"
   },
   {
    "duration": 5,
    "start_time": "2022-04-06T10:27:32.497Z"
   },
   {
    "duration": 6,
    "start_time": "2022-04-06T10:27:43.814Z"
   },
   {
    "duration": 3,
    "start_time": "2022-04-06T10:28:16.282Z"
   },
   {
    "duration": 6,
    "start_time": "2022-04-06T10:28:20.696Z"
   },
   {
    "duration": 6,
    "start_time": "2022-04-06T10:28:47.267Z"
   },
   {
    "duration": 7,
    "start_time": "2022-04-06T10:30:22.357Z"
   },
   {
    "duration": 6,
    "start_time": "2022-04-06T10:30:24.609Z"
   },
   {
    "duration": 6,
    "start_time": "2022-04-06T10:30:26.129Z"
   },
   {
    "duration": 1000,
    "start_time": "2022-04-06T10:32:34.843Z"
   },
   {
    "duration": 6,
    "start_time": "2022-04-06T10:37:01.851Z"
   },
   {
    "duration": 7,
    "start_time": "2022-04-06T10:38:13.651Z"
   },
   {
    "duration": 5,
    "start_time": "2022-04-06T10:38:22.302Z"
   },
   {
    "duration": 14,
    "start_time": "2022-04-06T10:40:14.103Z"
   },
   {
    "duration": 6,
    "start_time": "2022-04-06T10:46:36.724Z"
   },
   {
    "duration": 4,
    "start_time": "2022-04-06T11:09:10.803Z"
   },
   {
    "duration": 6,
    "start_time": "2022-04-06T11:09:35.439Z"
   },
   {
    "duration": 6,
    "start_time": "2022-04-06T11:09:52.154Z"
   },
   {
    "duration": 6,
    "start_time": "2022-04-06T11:10:30.590Z"
   },
   {
    "duration": 5,
    "start_time": "2022-04-06T11:11:51.219Z"
   },
   {
    "duration": 6,
    "start_time": "2022-04-06T11:11:58.940Z"
   },
   {
    "duration": 6,
    "start_time": "2022-04-06T11:14:38.429Z"
   },
   {
    "duration": 7,
    "start_time": "2022-04-06T11:14:44.126Z"
   },
   {
    "duration": 6,
    "start_time": "2022-04-06T11:15:14.675Z"
   },
   {
    "duration": 13,
    "start_time": "2022-04-06T11:15:15.024Z"
   },
   {
    "duration": 7,
    "start_time": "2022-04-06T11:15:15.992Z"
   },
   {
    "duration": 4,
    "start_time": "2022-04-06T11:18:14.645Z"
   },
   {
    "duration": 5,
    "start_time": "2022-04-06T11:24:39.772Z"
   },
   {
    "duration": 5,
    "start_time": "2022-04-06T11:25:05.475Z"
   },
   {
    "duration": 6,
    "start_time": "2022-04-06T11:25:05.993Z"
   },
   {
    "duration": 3,
    "start_time": "2022-04-06T11:25:06.441Z"
   },
   {
    "duration": 5,
    "start_time": "2022-04-06T11:25:06.872Z"
   },
   {
    "duration": 5,
    "start_time": "2022-04-06T11:25:18.445Z"
   },
   {
    "duration": 6,
    "start_time": "2022-04-06T11:25:24.891Z"
   },
   {
    "duration": 9,
    "start_time": "2022-04-06T11:27:24.853Z"
   },
   {
    "duration": 6,
    "start_time": "2022-04-06T11:27:28.891Z"
   },
   {
    "duration": 5,
    "start_time": "2022-04-06T11:28:44.571Z"
   },
   {
    "duration": 6,
    "start_time": "2022-04-06T11:29:00.778Z"
   },
   {
    "duration": 6,
    "start_time": "2022-04-06T11:29:09.393Z"
   },
   {
    "duration": 5,
    "start_time": "2022-04-06T11:30:38.287Z"
   },
   {
    "duration": 12,
    "start_time": "2022-04-06T11:31:17.088Z"
   },
   {
    "duration": 180,
    "start_time": "2022-04-06T11:33:43.853Z"
   },
   {
    "duration": 116,
    "start_time": "2022-04-06T11:34:03.066Z"
   },
   {
    "duration": 11,
    "start_time": "2022-04-06T11:34:18.336Z"
   },
   {
    "duration": 12,
    "start_time": "2022-04-06T11:35:00.291Z"
   },
   {
    "duration": 19,
    "start_time": "2022-04-06T11:35:34.040Z"
   },
   {
    "duration": 21,
    "start_time": "2022-04-06T11:36:13.466Z"
   },
   {
    "duration": 15,
    "start_time": "2022-04-06T11:37:43.372Z"
   },
   {
    "duration": 20,
    "start_time": "2022-04-06T11:37:50.875Z"
   },
   {
    "duration": 13,
    "start_time": "2022-04-06T11:38:02.915Z"
   },
   {
    "duration": 13,
    "start_time": "2022-04-06T11:39:25.598Z"
   },
   {
    "duration": 17,
    "start_time": "2022-04-06T11:39:31.005Z"
   },
   {
    "duration": 13,
    "start_time": "2022-04-06T11:39:59.322Z"
   },
   {
    "duration": 7,
    "start_time": "2022-04-06T11:40:04.609Z"
   },
   {
    "duration": 16,
    "start_time": "2022-04-06T11:40:12.924Z"
   },
   {
    "duration": 22,
    "start_time": "2022-04-06T11:40:55.885Z"
   },
   {
    "duration": 20,
    "start_time": "2022-04-06T11:41:14.912Z"
   },
   {
    "duration": 21,
    "start_time": "2022-04-06T11:41:23.219Z"
   },
   {
    "duration": 6,
    "start_time": "2022-04-06T11:43:02.193Z"
   },
   {
    "duration": 140,
    "start_time": "2022-04-06T11:43:48.526Z"
   },
   {
    "duration": 5,
    "start_time": "2022-04-06T11:44:11.324Z"
   },
   {
    "duration": 12,
    "start_time": "2022-04-06T11:44:29.410Z"
   },
   {
    "duration": 5,
    "start_time": "2022-04-06T11:44:37.177Z"
   },
   {
    "duration": 6,
    "start_time": "2022-04-06T11:49:17.985Z"
   },
   {
    "duration": 8,
    "start_time": "2022-04-06T11:49:27.133Z"
   },
   {
    "duration": 5,
    "start_time": "2022-04-06T11:49:41.846Z"
   },
   {
    "duration": 6,
    "start_time": "2022-04-06T11:50:58.188Z"
   },
   {
    "duration": 7,
    "start_time": "2022-04-06T11:51:10.413Z"
   },
   {
    "duration": 5,
    "start_time": "2022-04-06T11:51:54.086Z"
   },
   {
    "duration": 27,
    "start_time": "2022-04-06T11:52:51.040Z"
   },
   {
    "duration": 27,
    "start_time": "2022-04-06T11:52:55.390Z"
   },
   {
    "duration": 25,
    "start_time": "2022-04-06T11:53:12.383Z"
   },
   {
    "duration": 25,
    "start_time": "2022-04-06T11:53:26.736Z"
   },
   {
    "duration": 5,
    "start_time": "2022-04-06T11:54:06.989Z"
   },
   {
    "duration": 16,
    "start_time": "2022-04-06T11:54:13.047Z"
   },
   {
    "duration": 3,
    "start_time": "2022-04-06T11:55:48.959Z"
   },
   {
    "duration": 7,
    "start_time": "2022-04-06T11:56:10.495Z"
   },
   {
    "duration": 8,
    "start_time": "2022-04-06T11:56:11.108Z"
   },
   {
    "duration": 14,
    "start_time": "2022-04-06T11:56:24.438Z"
   },
   {
    "duration": 8,
    "start_time": "2022-04-06T11:56:31.364Z"
   },
   {
    "duration": 15,
    "start_time": "2022-04-06T11:57:11.054Z"
   },
   {
    "duration": 4,
    "start_time": "2022-04-06T12:02:10.170Z"
   },
   {
    "duration": 6,
    "start_time": "2022-04-06T12:02:41.308Z"
   },
   {
    "duration": 6,
    "start_time": "2022-04-06T12:02:57.512Z"
   },
   {
    "duration": 6,
    "start_time": "2022-04-06T12:04:21.464Z"
   },
   {
    "duration": 8,
    "start_time": "2022-04-06T12:04:29.689Z"
   },
   {
    "duration": 6,
    "start_time": "2022-04-06T12:05:56.328Z"
   },
   {
    "duration": 9,
    "start_time": "2022-04-06T12:06:37.129Z"
   },
   {
    "duration": 10,
    "start_time": "2022-04-06T12:08:17.337Z"
   },
   {
    "duration": 1596,
    "start_time": "2022-04-06T12:22:58.851Z"
   },
   {
    "duration": 15,
    "start_time": "2022-04-06T12:23:00.450Z"
   },
   {
    "duration": 35,
    "start_time": "2022-04-06T12:23:00.468Z"
   },
   {
    "duration": 24,
    "start_time": "2022-04-06T12:23:00.505Z"
   },
   {
    "duration": 11,
    "start_time": "2022-04-06T12:23:00.532Z"
   },
   {
    "duration": 46,
    "start_time": "2022-04-06T12:23:00.547Z"
   },
   {
    "duration": 30,
    "start_time": "2022-04-06T12:23:00.595Z"
   },
   {
    "duration": 22,
    "start_time": "2022-04-06T12:23:00.628Z"
   },
   {
    "duration": 16,
    "start_time": "2022-04-06T12:23:00.653Z"
   },
   {
    "duration": 98,
    "start_time": "2022-04-06T12:23:00.672Z"
   },
   {
    "duration": 14,
    "start_time": "2022-04-06T12:23:00.773Z"
   },
   {
    "duration": 45,
    "start_time": "2022-04-06T12:23:00.790Z"
   },
   {
    "duration": 49,
    "start_time": "2022-04-06T12:23:00.837Z"
   },
   {
    "duration": 76,
    "start_time": "2022-04-06T12:23:00.893Z"
   },
   {
    "duration": 97,
    "start_time": "2022-04-06T12:23:00.973Z"
   },
   {
    "duration": 94,
    "start_time": "2022-04-06T12:23:01.075Z"
   },
   {
    "duration": 118,
    "start_time": "2022-04-06T12:23:01.172Z"
   },
   {
    "duration": 5,
    "start_time": "2022-04-06T12:23:01.293Z"
   },
   {
    "duration": 18,
    "start_time": "2022-04-06T12:23:01.300Z"
   },
   {
    "duration": 51,
    "start_time": "2022-04-06T12:23:01.320Z"
   },
   {
    "duration": 108,
    "start_time": "2022-04-06T12:23:01.374Z"
   },
   {
    "duration": 5,
    "start_time": "2022-04-06T12:23:01.485Z"
   },
   {
    "duration": 14,
    "start_time": "2022-04-06T12:23:01.493Z"
   },
   {
    "duration": 16,
    "start_time": "2022-04-06T12:23:01.509Z"
   },
   {
    "duration": 1080,
    "start_time": "2022-04-06T17:48:11.911Z"
   },
   {
    "duration": 17,
    "start_time": "2022-04-06T17:48:12.993Z"
   },
   {
    "duration": 13,
    "start_time": "2022-04-06T17:48:13.011Z"
   },
   {
    "duration": 5,
    "start_time": "2022-04-06T17:48:13.026Z"
   },
   {
    "duration": 3,
    "start_time": "2022-04-06T17:48:13.034Z"
   },
   {
    "duration": 9,
    "start_time": "2022-04-06T17:48:13.039Z"
   },
   {
    "duration": 4,
    "start_time": "2022-04-06T17:48:13.050Z"
   },
   {
    "duration": 27,
    "start_time": "2022-04-06T17:48:13.055Z"
   },
   {
    "duration": 4,
    "start_time": "2022-04-06T17:48:13.084Z"
   },
   {
    "duration": 9,
    "start_time": "2022-04-06T17:48:13.092Z"
   },
   {
    "duration": 11,
    "start_time": "2022-04-06T17:48:13.182Z"
   },
   {
    "duration": 4,
    "start_time": "2022-04-06T17:48:13.194Z"
   },
   {
    "duration": 10,
    "start_time": "2022-04-06T17:48:13.199Z"
   },
   {
    "duration": 4,
    "start_time": "2022-04-06T17:48:13.281Z"
   },
   {
    "duration": 12,
    "start_time": "2022-04-06T17:48:13.286Z"
   },
   {
    "duration": 85,
    "start_time": "2022-04-06T17:48:13.299Z"
   },
   {
    "duration": 104,
    "start_time": "2022-04-06T17:48:13.387Z"
   },
   {
    "duration": 3,
    "start_time": "2022-04-06T17:48:13.492Z"
   },
   {
    "duration": 5,
    "start_time": "2022-04-06T17:48:13.497Z"
   },
   {
    "duration": 7,
    "start_time": "2022-04-06T17:48:13.504Z"
   },
   {
    "duration": 74,
    "start_time": "2022-04-06T17:48:13.513Z"
   },
   {
    "duration": 6,
    "start_time": "2022-04-06T17:48:13.589Z"
   },
   {
    "duration": 4,
    "start_time": "2022-04-06T17:48:13.597Z"
   },
   {
    "duration": 5,
    "start_time": "2022-04-06T17:48:13.682Z"
   },
   {
    "duration": 1173,
    "start_time": "2022-04-07T13:06:44.556Z"
   },
   {
    "duration": 21,
    "start_time": "2022-04-07T13:06:45.731Z"
   },
   {
    "duration": 21,
    "start_time": "2022-04-07T13:06:45.754Z"
   },
   {
    "duration": 5,
    "start_time": "2022-04-07T13:06:45.777Z"
   },
   {
    "duration": 13,
    "start_time": "2022-04-07T13:06:45.785Z"
   },
   {
    "duration": 16,
    "start_time": "2022-04-07T13:06:45.800Z"
   },
   {
    "duration": 5,
    "start_time": "2022-04-07T13:06:45.818Z"
   },
   {
    "duration": 22,
    "start_time": "2022-04-07T13:06:45.825Z"
   },
   {
    "duration": 33,
    "start_time": "2022-04-07T13:06:45.849Z"
   },
   {
    "duration": 14,
    "start_time": "2022-04-07T13:06:45.884Z"
   },
   {
    "duration": 87,
    "start_time": "2022-04-07T13:06:45.901Z"
   },
   {
    "duration": 5,
    "start_time": "2022-04-07T13:06:45.990Z"
   },
   {
    "duration": 13,
    "start_time": "2022-04-07T13:06:45.996Z"
   },
   {
    "duration": 68,
    "start_time": "2022-04-07T13:06:46.013Z"
   },
   {
    "duration": 4,
    "start_time": "2022-04-07T13:06:46.084Z"
   },
   {
    "duration": 93,
    "start_time": "2022-04-07T13:06:46.090Z"
   },
   {
    "duration": 103,
    "start_time": "2022-04-07T13:06:46.186Z"
   },
   {
    "duration": 3,
    "start_time": "2022-04-07T13:06:46.291Z"
   },
   {
    "duration": 8,
    "start_time": "2022-04-07T13:06:46.295Z"
   },
   {
    "duration": 6,
    "start_time": "2022-04-07T13:06:46.305Z"
   },
   {
    "duration": 76,
    "start_time": "2022-04-07T13:06:46.313Z"
   },
   {
    "duration": 7,
    "start_time": "2022-04-07T13:06:46.391Z"
   },
   {
    "duration": 83,
    "start_time": "2022-04-07T13:06:46.400Z"
   },
   {
    "duration": 9,
    "start_time": "2022-04-07T13:06:46.485Z"
   },
   {
    "duration": 48,
    "start_time": "2022-04-07T14:21:32.024Z"
   },
   {
    "duration": 1110,
    "start_time": "2022-04-07T14:21:38.853Z"
   },
   {
    "duration": 12,
    "start_time": "2022-04-07T14:21:39.965Z"
   },
   {
    "duration": 15,
    "start_time": "2022-04-07T14:21:39.979Z"
   },
   {
    "duration": 6,
    "start_time": "2022-04-07T14:21:39.996Z"
   },
   {
    "duration": 5,
    "start_time": "2022-04-07T14:21:40.004Z"
   },
   {
    "duration": 30,
    "start_time": "2022-04-07T14:21:40.011Z"
   },
   {
    "duration": 12,
    "start_time": "2022-04-07T14:21:40.043Z"
   },
   {
    "duration": 11,
    "start_time": "2022-04-07T14:21:40.056Z"
   },
   {
    "duration": 71,
    "start_time": "2022-04-07T14:21:40.069Z"
   },
   {
    "duration": 8,
    "start_time": "2022-04-07T14:21:40.143Z"
   },
   {
    "duration": 94,
    "start_time": "2022-04-07T14:21:40.153Z"
   },
   {
    "duration": 4,
    "start_time": "2022-04-07T14:21:40.249Z"
   },
   {
    "duration": 7,
    "start_time": "2022-04-07T14:21:40.254Z"
   },
   {
    "duration": 75,
    "start_time": "2022-04-07T14:21:40.263Z"
   },
   {
    "duration": 7,
    "start_time": "2022-04-07T14:21:40.340Z"
   },
   {
    "duration": 99,
    "start_time": "2022-04-07T14:21:40.349Z"
   },
   {
    "duration": 101,
    "start_time": "2022-04-07T14:21:40.450Z"
   },
   {
    "duration": 4,
    "start_time": "2022-04-07T14:21:40.553Z"
   },
   {
    "duration": 10,
    "start_time": "2022-04-07T14:21:40.559Z"
   },
   {
    "duration": 68,
    "start_time": "2022-04-07T14:21:40.572Z"
   },
   {
    "duration": 96,
    "start_time": "2022-04-07T14:21:40.642Z"
   },
   {
    "duration": 13,
    "start_time": "2022-04-07T14:21:40.739Z"
   },
   {
    "duration": 10,
    "start_time": "2022-04-07T14:21:40.753Z"
   },
   {
    "duration": 9,
    "start_time": "2022-04-07T14:21:40.764Z"
   },
   {
    "duration": 1073,
    "start_time": "2022-04-07T14:22:01.573Z"
   },
   {
    "duration": 17,
    "start_time": "2022-04-07T14:22:02.648Z"
   },
   {
    "duration": 14,
    "start_time": "2022-04-07T14:22:02.667Z"
   },
   {
    "duration": 29,
    "start_time": "2022-04-07T14:22:02.683Z"
   },
   {
    "duration": 8,
    "start_time": "2022-04-07T14:22:02.715Z"
   },
   {
    "duration": 14,
    "start_time": "2022-04-07T14:22:02.725Z"
   },
   {
    "duration": 4,
    "start_time": "2022-04-07T14:22:02.741Z"
   },
   {
    "duration": 16,
    "start_time": "2022-04-07T14:22:02.747Z"
   },
   {
    "duration": 7,
    "start_time": "2022-04-07T14:22:02.765Z"
   },
   {
    "duration": 67,
    "start_time": "2022-04-07T14:22:02.774Z"
   },
   {
    "duration": 96,
    "start_time": "2022-04-07T14:22:02.843Z"
   },
   {
    "duration": 6,
    "start_time": "2022-04-07T14:22:02.941Z"
   },
   {
    "duration": 10,
    "start_time": "2022-04-07T14:22:02.948Z"
   },
   {
    "duration": 4,
    "start_time": "2022-04-07T14:22:02.963Z"
   },
   {
    "duration": 175,
    "start_time": "2022-04-07T14:22:02.969Z"
   },
   {
    "duration": 9,
    "start_time": "2022-04-07T14:22:03.147Z"
   },
   {
    "duration": 182,
    "start_time": "2022-04-07T14:22:03.158Z"
   },
   {
    "duration": 3,
    "start_time": "2022-04-07T14:22:03.343Z"
   },
   {
    "duration": 8,
    "start_time": "2022-04-07T14:22:03.348Z"
   },
   {
    "duration": 11,
    "start_time": "2022-04-07T14:22:03.358Z"
   },
   {
    "duration": 86,
    "start_time": "2022-04-07T14:22:03.370Z"
   },
   {
    "duration": 82,
    "start_time": "2022-04-07T14:22:03.458Z"
   },
   {
    "duration": 5,
    "start_time": "2022-04-07T14:22:03.541Z"
   },
   {
    "duration": 9,
    "start_time": "2022-04-07T14:22:03.548Z"
   },
   {
    "duration": 9,
    "start_time": "2022-04-07T14:22:18.365Z"
   },
   {
    "duration": 11,
    "start_time": "2022-04-07T14:22:22.114Z"
   },
   {
    "duration": 10,
    "start_time": "2022-04-07T14:22:27.438Z"
   },
   {
    "duration": 11,
    "start_time": "2022-04-07T14:22:31.689Z"
   }
  ],
  "kernelspec": {
   "display_name": "Python 3 (ipykernel)",
   "language": "python",
   "name": "python3"
  },
  "language_info": {
   "codemirror_mode": {
    "name": "ipython",
    "version": 3
   },
   "file_extension": ".py",
   "mimetype": "text/x-python",
   "name": "python",
   "nbconvert_exporter": "python",
   "pygments_lexer": "ipython3",
   "version": "3.9.7"
  },
  "toc": {
   "base_numbering": 1,
   "nav_menu": {},
   "number_sections": true,
   "sideBar": true,
   "skip_h1_title": true,
   "title_cell": "Содержание",
   "title_sidebar": "Contents",
   "toc_cell": true,
   "toc_position": {},
   "toc_section_display": true,
   "toc_window_display": true
  }
 },
 "nbformat": 4,
 "nbformat_minor": 4
}
