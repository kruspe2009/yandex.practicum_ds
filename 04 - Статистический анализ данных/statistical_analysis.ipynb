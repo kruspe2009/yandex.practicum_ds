{
 "cells": [
  {
   "cell_type": "code",
   "execution_count": 1,
   "metadata": {},
   "outputs": [],
   "source": [
    "import pandas as pd\n",
    "import numpy as np\n",
    "import matplotlib.pyplot as plt\n",
    "import statistics\n",
    "from scipy import stats as st\n",
    "\n",
    "users = pd.read_csv('/datasets/users.csv')\n",
    "tariffs = pd.read_csv('/datasets/tariffs.csv')\n",
    "calls = pd.read_csv('/datasets/calls.csv')\n",
    "internet = pd.read_csv('/datasets/internet.csv')\n",
    "messages = pd.read_csv('/datasets/messages.csv')"
   ]
  },
  {
   "cell_type": "markdown",
   "metadata": {},
   "source": [
    "# Информация об исследовании"
   ]
  },
  {
   "cell_type": "markdown",
   "metadata": {},
   "source": [
    "Требуется произвести предварительный анализ тарифов на небольшой выборке клиентов. В наличии данные 500 пользователей «Мегалайна»: кто они, откуда, каким тарифом пользуются, сколько звонков и сообщений каждый отправил за 2018 год. \n",
    "\n",
    "Требуется произвести анализ поведения клиентов и сделать вывод — какой тариф лучше."
   ]
  },
  {
   "cell_type": "markdown",
   "metadata": {},
   "source": [
    "# Знакомство с данными и их предобработка"
   ]
  },
  {
   "cell_type": "markdown",
   "metadata": {},
   "source": [
    "## Таблица `users`"
   ]
  },
  {
   "cell_type": "code",
   "execution_count": 2,
   "metadata": {},
   "outputs": [
    {
     "name": "stdout",
     "output_type": "stream",
     "text": [
      "<class 'pandas.core.frame.DataFrame'>\n",
      "RangeIndex: 500 entries, 0 to 499\n",
      "Data columns (total 8 columns):\n",
      "user_id       500 non-null int64\n",
      "age           500 non-null int64\n",
      "churn_date    38 non-null object\n",
      "city          500 non-null object\n",
      "first_name    500 non-null object\n",
      "last_name     500 non-null object\n",
      "reg_date      500 non-null object\n",
      "tariff        500 non-null object\n",
      "dtypes: int64(2), object(6)\n",
      "memory usage: 31.4+ KB\n"
     ]
    },
    {
     "data": {
      "text/html": [
       "<div>\n",
       "<style scoped>\n",
       "    .dataframe tbody tr th:only-of-type {\n",
       "        vertical-align: middle;\n",
       "    }\n",
       "\n",
       "    .dataframe tbody tr th {\n",
       "        vertical-align: top;\n",
       "    }\n",
       "\n",
       "    .dataframe thead th {\n",
       "        text-align: right;\n",
       "    }\n",
       "</style>\n",
       "<table border=\"1\" class=\"dataframe\">\n",
       "  <thead>\n",
       "    <tr style=\"text-align: right;\">\n",
       "      <th></th>\n",
       "      <th>user_id</th>\n",
       "      <th>age</th>\n",
       "      <th>churn_date</th>\n",
       "      <th>city</th>\n",
       "      <th>first_name</th>\n",
       "      <th>last_name</th>\n",
       "      <th>reg_date</th>\n",
       "      <th>tariff</th>\n",
       "    </tr>\n",
       "  </thead>\n",
       "  <tbody>\n",
       "    <tr>\n",
       "      <td>0</td>\n",
       "      <td>1000</td>\n",
       "      <td>52</td>\n",
       "      <td>NaN</td>\n",
       "      <td>Краснодар</td>\n",
       "      <td>Рафаил</td>\n",
       "      <td>Верещагин</td>\n",
       "      <td>2018-05-25</td>\n",
       "      <td>ultra</td>\n",
       "    </tr>\n",
       "    <tr>\n",
       "      <td>1</td>\n",
       "      <td>1001</td>\n",
       "      <td>41</td>\n",
       "      <td>NaN</td>\n",
       "      <td>Москва</td>\n",
       "      <td>Иван</td>\n",
       "      <td>Ежов</td>\n",
       "      <td>2018-11-01</td>\n",
       "      <td>smart</td>\n",
       "    </tr>\n",
       "    <tr>\n",
       "      <td>2</td>\n",
       "      <td>1002</td>\n",
       "      <td>59</td>\n",
       "      <td>NaN</td>\n",
       "      <td>Стерлитамак</td>\n",
       "      <td>Евгений</td>\n",
       "      <td>Абрамович</td>\n",
       "      <td>2018-06-17</td>\n",
       "      <td>smart</td>\n",
       "    </tr>\n",
       "    <tr>\n",
       "      <td>3</td>\n",
       "      <td>1003</td>\n",
       "      <td>23</td>\n",
       "      <td>NaN</td>\n",
       "      <td>Москва</td>\n",
       "      <td>Белла</td>\n",
       "      <td>Белякова</td>\n",
       "      <td>2018-08-17</td>\n",
       "      <td>ultra</td>\n",
       "    </tr>\n",
       "    <tr>\n",
       "      <td>4</td>\n",
       "      <td>1004</td>\n",
       "      <td>68</td>\n",
       "      <td>NaN</td>\n",
       "      <td>Новокузнецк</td>\n",
       "      <td>Татьяна</td>\n",
       "      <td>Авдеенко</td>\n",
       "      <td>2018-05-14</td>\n",
       "      <td>ultra</td>\n",
       "    </tr>\n",
       "  </tbody>\n",
       "</table>\n",
       "</div>"
      ],
      "text/plain": [
       "   user_id  age churn_date         city first_name  last_name    reg_date  \\\n",
       "0     1000   52        NaN    Краснодар     Рафаил  Верещагин  2018-05-25   \n",
       "1     1001   41        NaN       Москва       Иван       Ежов  2018-11-01   \n",
       "2     1002   59        NaN  Стерлитамак    Евгений  Абрамович  2018-06-17   \n",
       "3     1003   23        NaN       Москва      Белла   Белякова  2018-08-17   \n",
       "4     1004   68        NaN  Новокузнецк    Татьяна   Авдеенко  2018-05-14   \n",
       "\n",
       "  tariff  \n",
       "0  ultra  \n",
       "1  smart  \n",
       "2  smart  \n",
       "3  ultra  \n",
       "4  ultra  "
      ]
     },
     "execution_count": 2,
     "metadata": {},
     "output_type": "execute_result"
    }
   ],
   "source": [
    "#ознакомимся с типами данных в столбцах и качеством их заполнения\n",
    "users.info()\n",
    "users.head()"
   ]
  },
  {
   "cell_type": "markdown",
   "metadata": {},
   "source": [
    "<span style=\"text-decoration:underline\">Несколько выводов:</span>\n",
    "1. В столбце `churn_date` всего 38 значений из 500. Этот столбец не обязателен к заполнению => вероятней всего 38 пользователей из нашей выборки прекратили пользоваться тем тарифным планом, который указан в соответствующей строке\n",
    "2. В столбце `reg_date` используется строковый тип данных, хотя в нем указана дата\n",
    "\n",
    "<span style=\"text-decoration:underline\">Требуется проделать следующее:</span>\n",
    "1. Проверить наличие идентичных идентификаторов пользователей в столбце `user_id`, так как описание принципа, по которому значение попадает в этот столбец может подразумевать формирование новой записи в БД для уже существующего пользователя при изменении тарифного плана\n",
    "2. Преобразовать строковый тип данных столбцов `reg_date` и `churn_date` в дату\n",
    "3. Проверить корректность использованных значений и, при необходимости, исправить их"
   ]
  },
  {
   "cell_type": "code",
   "execution_count": 3,
   "metadata": {},
   "outputs": [
    {
     "data": {
      "text/plain": [
       "500"
      ]
     },
     "execution_count": 3,
     "metadata": {},
     "output_type": "execute_result"
    }
   ],
   "source": [
    "#при помощи функции len мы измеряем длину Series, в который отбираем уникальные значения столбца user_id\n",
    "len(users['user_id'].unique())"
   ]
  },
  {
   "cell_type": "code",
   "execution_count": 4,
   "metadata": {},
   "outputs": [],
   "source": [
    "users['reg_date'] = pd.to_datetime(users['reg_date'], format='%Y-%m-%d')\n",
    "users['churn_date'] = pd.to_datetime(users['churn_date'], format='%Y-%m-%d')\n",
    "#преобразуем значения столбцов 'reg_date' и 'churn_date' в дату из строки"
   ]
  },
  {
   "cell_type": "code",
   "execution_count": 5,
   "metadata": {},
   "outputs": [
    {
     "data": {
      "text/plain": [
       "count    500.00000\n",
       "mean      46.58800\n",
       "std       16.66763\n",
       "min       18.00000\n",
       "25%       32.00000\n",
       "50%       46.00000\n",
       "75%       62.00000\n",
       "max       75.00000\n",
       "Name: age, dtype: float64"
      ]
     },
     "execution_count": 5,
     "metadata": {},
     "output_type": "execute_result"
    }
   ],
   "source": [
    "#взглянем на столбец с возрастом абонентов\n",
    "users['age'].describe()"
   ]
  },
  {
   "cell_type": "markdown",
   "metadata": {},
   "source": [
    "Ничего необычного."
   ]
  },
  {
   "cell_type": "markdown",
   "metadata": {},
   "source": [
    "Имеет смысл также убедиться, что в столбцах `city` и `tariff` все значения записаны корректно, так как возможные варианты здесь - категориальные переменные, поэтому различное написание идентичных по смыслу городов или тарифов не допускается (может появиться искажение при анализе данных с использованием этих ключей). "
   ]
  },
  {
   "cell_type": "code",
   "execution_count": 6,
   "metadata": {},
   "outputs": [
    {
     "data": {
      "text/plain": [
       "smart    351\n",
       "ultra    149\n",
       "Name: tariff, dtype: int64"
      ]
     },
     "execution_count": 6,
     "metadata": {},
     "output_type": "execute_result"
    }
   ],
   "source": [
    "#смотрим распределение наблюдений по столбцу tariff и видим, что уникальных значений используется \n",
    "#всего два - это корректно\n",
    "users['tariff'].value_counts()"
   ]
  },
  {
   "cell_type": "code",
   "execution_count": 7,
   "metadata": {},
   "outputs": [
    {
     "name": "stdout",
     "output_type": "stream",
     "text": [
      "Архангельск\n",
      "Астрахань\n",
      "Балашиха\n",
      "Барнаул\n",
      "Белгород\n",
      "Брянск\n",
      "Владивосток\n",
      "Владикавказ\n",
      "Владимир\n",
      "Волгоград\n",
      "Волжский\n",
      "Вологда\n",
      "Воронеж\n",
      "Грозный\n",
      "Екатеринбург\n",
      "Иваново\n",
      "Ижевск\n",
      "Иркутск\n",
      "Казань\n",
      "Калининград\n",
      "Калуга\n",
      "Кемерово\n",
      "Киров\n",
      "Кострома\n",
      "Краснодар\n",
      "Красноярск\n",
      "Курган\n",
      "Курск\n",
      "Липецк\n",
      "Магнитогорск\n",
      "Махачкала\n",
      "Москва\n",
      "Мурманск\n",
      "Набережные Челны\n",
      "Нижневартовск\n",
      "Нижний Новгород\n",
      "Нижний Тагил\n",
      "Новокузнецк\n",
      "Новороссийск\n",
      "Новосибирск\n",
      "Омск\n",
      "Оренбург\n",
      "Орёл\n",
      "Пенза\n",
      "Пермь\n",
      "Петрозаводск\n",
      "Подольск\n",
      "Ростов-на-Дону\n",
      "Рязань\n",
      "Самара\n",
      "Санкт-Петербург\n",
      "Саранск\n",
      "Саратов\n",
      "Севастополь\n",
      "Смоленск\n",
      "Сочи\n",
      "Ставрополь\n",
      "Стерлитамак\n",
      "Сургут\n",
      "Тамбов\n",
      "Тверь\n",
      "Тольятти\n",
      "Томск\n",
      "Тула\n",
      "Тюмень\n",
      "Улан-Удэ\n",
      "Ульяновск\n",
      "Уфа\n",
      "Хабаровск\n",
      "Химки\n",
      "Чебоксары\n",
      "Челябинск\n",
      "Череповец\n",
      "Чита\n",
      "Якутск\n",
      "Ярославль\n"
     ]
    }
   ],
   "source": [
    "#так количество возможных значений в столбце city значительно больше различных вариаций тарифных планов,\n",
    "#мы обратимся в массиву с названиями городов из датафрейма, отсортируем его, сформируем диапазон уникальных значений\n",
    "#и выведем этот диапазон на экран для визуальной оценки\n",
    "for city in users['city'].sort_values().unique():\n",
    "    print(city)"
   ]
  },
  {
   "cell_type": "code",
   "execution_count": 8,
   "metadata": {},
   "outputs": [
    {
     "name": "stdout",
     "output_type": "stream",
     "text": [
      "<class 'pandas.core.frame.DataFrame'>\n",
      "RangeIndex: 500 entries, 0 to 499\n",
      "Data columns (total 8 columns):\n",
      "user_id       500 non-null int64\n",
      "age           500 non-null int64\n",
      "churn_date    38 non-null datetime64[ns]\n",
      "city          500 non-null object\n",
      "first_name    500 non-null object\n",
      "last_name     500 non-null object\n",
      "reg_date      500 non-null datetime64[ns]\n",
      "tariff        500 non-null object\n",
      "dtypes: datetime64[ns](2), int64(2), object(4)\n",
      "memory usage: 31.4+ KB\n"
     ]
    }
   ],
   "source": [
    "users.info()"
   ]
  },
  {
   "cell_type": "markdown",
   "metadata": {},
   "source": [
    "Мы видим, что столбец с наименованиями городов также заполнен корректными значениями."
   ]
  },
  {
   "cell_type": "markdown",
   "metadata": {},
   "source": [
    "## Таблица `calls`"
   ]
  },
  {
   "cell_type": "code",
   "execution_count": 9,
   "metadata": {},
   "outputs": [
    {
     "name": "stdout",
     "output_type": "stream",
     "text": [
      "<class 'pandas.core.frame.DataFrame'>\n",
      "RangeIndex: 202607 entries, 0 to 202606\n",
      "Data columns (total 4 columns):\n",
      "id           202607 non-null object\n",
      "call_date    202607 non-null object\n",
      "duration     202607 non-null float64\n",
      "user_id      202607 non-null int64\n",
      "dtypes: float64(1), int64(1), object(2)\n",
      "memory usage: 6.2+ MB\n"
     ]
    },
    {
     "data": {
      "text/html": [
       "<div>\n",
       "<style scoped>\n",
       "    .dataframe tbody tr th:only-of-type {\n",
       "        vertical-align: middle;\n",
       "    }\n",
       "\n",
       "    .dataframe tbody tr th {\n",
       "        vertical-align: top;\n",
       "    }\n",
       "\n",
       "    .dataframe thead th {\n",
       "        text-align: right;\n",
       "    }\n",
       "</style>\n",
       "<table border=\"1\" class=\"dataframe\">\n",
       "  <thead>\n",
       "    <tr style=\"text-align: right;\">\n",
       "      <th></th>\n",
       "      <th>id</th>\n",
       "      <th>call_date</th>\n",
       "      <th>duration</th>\n",
       "      <th>user_id</th>\n",
       "    </tr>\n",
       "  </thead>\n",
       "  <tbody>\n",
       "    <tr>\n",
       "      <td>0</td>\n",
       "      <td>1000_0</td>\n",
       "      <td>2018-07-25</td>\n",
       "      <td>0.00</td>\n",
       "      <td>1000</td>\n",
       "    </tr>\n",
       "    <tr>\n",
       "      <td>1</td>\n",
       "      <td>1000_1</td>\n",
       "      <td>2018-08-17</td>\n",
       "      <td>0.00</td>\n",
       "      <td>1000</td>\n",
       "    </tr>\n",
       "    <tr>\n",
       "      <td>2</td>\n",
       "      <td>1000_2</td>\n",
       "      <td>2018-06-11</td>\n",
       "      <td>2.85</td>\n",
       "      <td>1000</td>\n",
       "    </tr>\n",
       "    <tr>\n",
       "      <td>3</td>\n",
       "      <td>1000_3</td>\n",
       "      <td>2018-09-21</td>\n",
       "      <td>13.80</td>\n",
       "      <td>1000</td>\n",
       "    </tr>\n",
       "    <tr>\n",
       "      <td>4</td>\n",
       "      <td>1000_4</td>\n",
       "      <td>2018-12-15</td>\n",
       "      <td>5.18</td>\n",
       "      <td>1000</td>\n",
       "    </tr>\n",
       "  </tbody>\n",
       "</table>\n",
       "</div>"
      ],
      "text/plain": [
       "       id   call_date  duration  user_id\n",
       "0  1000_0  2018-07-25      0.00     1000\n",
       "1  1000_1  2018-08-17      0.00     1000\n",
       "2  1000_2  2018-06-11      2.85     1000\n",
       "3  1000_3  2018-09-21     13.80     1000\n",
       "4  1000_4  2018-12-15      5.18     1000"
      ]
     },
     "execution_count": 9,
     "metadata": {},
     "output_type": "execute_result"
    }
   ],
   "source": [
    "calls.info()\n",
    "calls.head()"
   ]
  },
  {
   "cell_type": "markdown",
   "metadata": {},
   "source": [
    "<span style=\"text-decoration:underline\">Несколько выводов:</span>\n",
    "1. В таблице 4 столбца и все 4 заполнены идентично - по 202607 значений в каждом столбце. Следовательно, пропусков в таблице нет\n",
    "2. Столбец `call_date` заполнен строковым значением, хотя содержит данные о дате совершения звонка\n",
    "3. Столбец `duration` заполнен числами с плавающей точкой, что корректно с точки зрения учета, но нам известна особенность биллинга оператора - округление продолжительности разговора в большую сторону до числа кратного 60, то есть до минут. Поэтому данные столбца вполне можно преобразовать в целое число\n",
    "\n",
    "<span style=\"text-decoration:underline\">Требуется проделать следующее:</span>\n",
    "1. Преобразовать значения столбца `call_date` в дату\n",
    "2. Округлить значения столбца `duration` в сторону повышения и преообразовать полученные значения в целые числа"
   ]
  },
  {
   "cell_type": "code",
   "execution_count": 10,
   "metadata": {},
   "outputs": [],
   "source": [
    "#Методом, аналогичным ранее использованному, мы преобразуем строковое значение в дату\n",
    "calls['call_date'] = pd.to_datetime(calls['call_date'], format='%Y-%m-%d')"
   ]
  },
  {
   "cell_type": "code",
   "execution_count": 11,
   "metadata": {},
   "outputs": [
    {
     "data": {
      "text/html": [
       "<div>\n",
       "<style scoped>\n",
       "    .dataframe tbody tr th:only-of-type {\n",
       "        vertical-align: middle;\n",
       "    }\n",
       "\n",
       "    .dataframe tbody tr th {\n",
       "        vertical-align: top;\n",
       "    }\n",
       "\n",
       "    .dataframe thead th {\n",
       "        text-align: right;\n",
       "    }\n",
       "</style>\n",
       "<table border=\"1\" class=\"dataframe\">\n",
       "  <thead>\n",
       "    <tr style=\"text-align: right;\">\n",
       "      <th></th>\n",
       "      <th>id</th>\n",
       "      <th>call_date</th>\n",
       "      <th>duration</th>\n",
       "      <th>user_id</th>\n",
       "    </tr>\n",
       "  </thead>\n",
       "  <tbody>\n",
       "    <tr>\n",
       "      <td>149268</td>\n",
       "      <td>1377_115</td>\n",
       "      <td>2018-08-11</td>\n",
       "      <td>15</td>\n",
       "      <td>1377</td>\n",
       "    </tr>\n",
       "    <tr>\n",
       "      <td>178070</td>\n",
       "      <td>1441_17</td>\n",
       "      <td>2018-12-29</td>\n",
       "      <td>0</td>\n",
       "      <td>1441</td>\n",
       "    </tr>\n",
       "    <tr>\n",
       "      <td>103064</td>\n",
       "      <td>1264_203</td>\n",
       "      <td>2018-06-01</td>\n",
       "      <td>5</td>\n",
       "      <td>1264</td>\n",
       "    </tr>\n",
       "  </tbody>\n",
       "</table>\n",
       "</div>"
      ],
      "text/plain": [
       "              id  call_date  duration  user_id\n",
       "149268  1377_115 2018-08-11        15     1377\n",
       "178070   1441_17 2018-12-29         0     1441\n",
       "103064  1264_203 2018-06-01         5     1264"
      ]
     },
     "execution_count": 11,
     "metadata": {},
     "output_type": "execute_result"
    }
   ],
   "source": [
    "#используем метод ceil библиотеки numpy для округления вверх и сразу же изменяем тип данных в столбце\n",
    "calls['duration'] = calls['duration'].apply(np.ceil).astype(int)\n",
    "calls.sample(3)"
   ]
  },
  {
   "cell_type": "code",
   "execution_count": 12,
   "metadata": {},
   "outputs": [
    {
     "data": {
      "text/plain": [
       "202607"
      ]
     },
     "execution_count": 12,
     "metadata": {},
     "output_type": "execute_result"
    }
   ],
   "source": [
    "#в качестве предосторожности проверим наличием дублирующих строк по идентификатору звонка\n",
    "len(calls['id'].unique())"
   ]
  },
  {
   "cell_type": "code",
   "execution_count": 13,
   "metadata": {},
   "outputs": [
    {
     "name": "stdout",
     "output_type": "stream",
     "text": [
      "Количество записей нулевой продолжительностью разговора: 39613\n",
      "Доля записей с нулевой продолжительностью разговора: 19.6%\n"
     ]
    }
   ],
   "source": [
    "#посмотрим на количество записей о звонках с нулевой продолжительностью\n",
    "print('Количество записей нулевой продолжительностью разговора:', len(calls.loc[calls['duration'] == 0]))\n",
    "print('Доля записей с нулевой продолжительностью разговора: {0:.1f}%'.format(len(calls.loc[calls['duration'] == 0]) / len(calls) * 100))"
   ]
  },
  {
   "cell_type": "code",
   "execution_count": 14,
   "metadata": {},
   "outputs": [
    {
     "name": "stdout",
     "output_type": "stream",
     "text": [
      "<class 'pandas.core.frame.DataFrame'>\n",
      "RangeIndex: 202607 entries, 0 to 202606\n",
      "Data columns (total 4 columns):\n",
      "id           202607 non-null object\n",
      "call_date    202607 non-null datetime64[ns]\n",
      "duration     202607 non-null int64\n",
      "user_id      202607 non-null int64\n",
      "dtypes: datetime64[ns](1), int64(2), object(1)\n",
      "memory usage: 6.2+ MB\n"
     ]
    }
   ],
   "source": [
    "calls.info()"
   ]
  },
  {
   "cell_type": "markdown",
   "metadata": {},
   "source": [
    "Таблица готова к использованию.\n",
    "\n",
    "Около 20% всех значений из таблицы - это звонки с нулевой продолжительностью. Вероятно, это пропущенные звонки. Для анализа экономики тарифов нам эта информация вряд ли пригодится. \n",
    "\n",
    "В теории, эти данные можно использовать для анализа поведения абонентов. Учитывая логику построения таблицы, мы можем предположить, что каждый пропущенный звонок - это попытка пользователя услуг связи \"нашей\" компании куда-то дозвониться, но при отсутствии данных (хотя бы косвенных) о причине \"недозвона\" будет достаточно сложно сделать какой-то осмысленный вывод на базе этих данных (например, корень причины технический или обусловлен поведением получателя звонка). "
   ]
  },
  {
   "cell_type": "markdown",
   "metadata": {},
   "source": [
    "## Таблица `internet`"
   ]
  },
  {
   "cell_type": "code",
   "execution_count": 15,
   "metadata": {},
   "outputs": [
    {
     "name": "stdout",
     "output_type": "stream",
     "text": [
      "<class 'pandas.core.frame.DataFrame'>\n",
      "RangeIndex: 149396 entries, 0 to 149395\n",
      "Data columns (total 5 columns):\n",
      "Unnamed: 0      149396 non-null int64\n",
      "id              149396 non-null object\n",
      "mb_used         149396 non-null float64\n",
      "session_date    149396 non-null object\n",
      "user_id         149396 non-null int64\n",
      "dtypes: float64(1), int64(2), object(2)\n",
      "memory usage: 5.7+ MB\n"
     ]
    },
    {
     "data": {
      "text/html": [
       "<div>\n",
       "<style scoped>\n",
       "    .dataframe tbody tr th:only-of-type {\n",
       "        vertical-align: middle;\n",
       "    }\n",
       "\n",
       "    .dataframe tbody tr th {\n",
       "        vertical-align: top;\n",
       "    }\n",
       "\n",
       "    .dataframe thead th {\n",
       "        text-align: right;\n",
       "    }\n",
       "</style>\n",
       "<table border=\"1\" class=\"dataframe\">\n",
       "  <thead>\n",
       "    <tr style=\"text-align: right;\">\n",
       "      <th></th>\n",
       "      <th>Unnamed: 0</th>\n",
       "      <th>id</th>\n",
       "      <th>mb_used</th>\n",
       "      <th>session_date</th>\n",
       "      <th>user_id</th>\n",
       "    </tr>\n",
       "  </thead>\n",
       "  <tbody>\n",
       "    <tr>\n",
       "      <td>0</td>\n",
       "      <td>0</td>\n",
       "      <td>1000_0</td>\n",
       "      <td>112.95</td>\n",
       "      <td>2018-11-25</td>\n",
       "      <td>1000</td>\n",
       "    </tr>\n",
       "    <tr>\n",
       "      <td>1</td>\n",
       "      <td>1</td>\n",
       "      <td>1000_1</td>\n",
       "      <td>1052.81</td>\n",
       "      <td>2018-09-07</td>\n",
       "      <td>1000</td>\n",
       "    </tr>\n",
       "    <tr>\n",
       "      <td>2</td>\n",
       "      <td>2</td>\n",
       "      <td>1000_2</td>\n",
       "      <td>1197.26</td>\n",
       "      <td>2018-06-25</td>\n",
       "      <td>1000</td>\n",
       "    </tr>\n",
       "    <tr>\n",
       "      <td>3</td>\n",
       "      <td>3</td>\n",
       "      <td>1000_3</td>\n",
       "      <td>550.27</td>\n",
       "      <td>2018-08-22</td>\n",
       "      <td>1000</td>\n",
       "    </tr>\n",
       "    <tr>\n",
       "      <td>4</td>\n",
       "      <td>4</td>\n",
       "      <td>1000_4</td>\n",
       "      <td>302.56</td>\n",
       "      <td>2018-09-24</td>\n",
       "      <td>1000</td>\n",
       "    </tr>\n",
       "  </tbody>\n",
       "</table>\n",
       "</div>"
      ],
      "text/plain": [
       "   Unnamed: 0      id  mb_used session_date  user_id\n",
       "0           0  1000_0   112.95   2018-11-25     1000\n",
       "1           1  1000_1  1052.81   2018-09-07     1000\n",
       "2           2  1000_2  1197.26   2018-06-25     1000\n",
       "3           3  1000_3   550.27   2018-08-22     1000\n",
       "4           4  1000_4   302.56   2018-09-24     1000"
      ]
     },
     "execution_count": 15,
     "metadata": {},
     "output_type": "execute_result"
    }
   ],
   "source": [
    "internet.info()\n",
    "internet.head()"
   ]
  },
  {
   "cell_type": "markdown",
   "metadata": {},
   "source": [
    "<span style=\"text-decoration:underline\">Несколько выводов:</span>\n",
    "1. Все столбцы заполнены данными\n",
    "2. Ситуация со столбцом `mb_used` аналогична столбцу `duration` в истории звонков - для биллинга используется округление вверх до ближайшего целого числа\n",
    "3. Дата подключения к интернету также отражена в виде строки вместо даты\n",
    "\n",
    "<span style=\"text-decoration:underline\">Требуется проделать следующее:</span>\n",
    "1. Преобразовать тип данных столбца `session_date` из строкового в дату\n",
    "2. Округлить вверх и привести к целому значения в столбце `mb_used`"
   ]
  },
  {
   "cell_type": "code",
   "execution_count": 16,
   "metadata": {},
   "outputs": [],
   "source": [
    "#в датасете образовался столбец с дубликатами индексов строк - его мы просто удалим\n",
    "del internet['Unnamed: 0']"
   ]
  },
  {
   "cell_type": "code",
   "execution_count": 17,
   "metadata": {},
   "outputs": [],
   "source": [
    "#Преобразуем дату Интернет-сессии из строкового типа данных в дату\n",
    "internet['session_date'] = pd.to_datetime(internet['session_date'], format='%Y-%m-%d')"
   ]
  },
  {
   "cell_type": "code",
   "execution_count": 18,
   "metadata": {},
   "outputs": [
    {
     "data": {
      "text/html": [
       "<div>\n",
       "<style scoped>\n",
       "    .dataframe tbody tr th:only-of-type {\n",
       "        vertical-align: middle;\n",
       "    }\n",
       "\n",
       "    .dataframe tbody tr th {\n",
       "        vertical-align: top;\n",
       "    }\n",
       "\n",
       "    .dataframe thead th {\n",
       "        text-align: right;\n",
       "    }\n",
       "</style>\n",
       "<table border=\"1\" class=\"dataframe\">\n",
       "  <thead>\n",
       "    <tr style=\"text-align: right;\">\n",
       "      <th></th>\n",
       "      <th>id</th>\n",
       "      <th>mb_used</th>\n",
       "      <th>session_date</th>\n",
       "      <th>user_id</th>\n",
       "    </tr>\n",
       "  </thead>\n",
       "  <tbody>\n",
       "    <tr>\n",
       "      <td>0</td>\n",
       "      <td>1000_0</td>\n",
       "      <td>113</td>\n",
       "      <td>2018-11-25</td>\n",
       "      <td>1000</td>\n",
       "    </tr>\n",
       "    <tr>\n",
       "      <td>1</td>\n",
       "      <td>1000_1</td>\n",
       "      <td>1053</td>\n",
       "      <td>2018-09-07</td>\n",
       "      <td>1000</td>\n",
       "    </tr>\n",
       "    <tr>\n",
       "      <td>2</td>\n",
       "      <td>1000_2</td>\n",
       "      <td>1198</td>\n",
       "      <td>2018-06-25</td>\n",
       "      <td>1000</td>\n",
       "    </tr>\n",
       "    <tr>\n",
       "      <td>3</td>\n",
       "      <td>1000_3</td>\n",
       "      <td>551</td>\n",
       "      <td>2018-08-22</td>\n",
       "      <td>1000</td>\n",
       "    </tr>\n",
       "    <tr>\n",
       "      <td>4</td>\n",
       "      <td>1000_4</td>\n",
       "      <td>303</td>\n",
       "      <td>2018-09-24</td>\n",
       "      <td>1000</td>\n",
       "    </tr>\n",
       "  </tbody>\n",
       "</table>\n",
       "</div>"
      ],
      "text/plain": [
       "       id  mb_used session_date  user_id\n",
       "0  1000_0      113   2018-11-25     1000\n",
       "1  1000_1     1053   2018-09-07     1000\n",
       "2  1000_2     1198   2018-06-25     1000\n",
       "3  1000_3      551   2018-08-22     1000\n",
       "4  1000_4      303   2018-09-24     1000"
      ]
     },
     "execution_count": 18,
     "metadata": {},
     "output_type": "execute_result"
    }
   ],
   "source": [
    "internet['mb_used'] = internet['mb_used'].apply(np.ceil).astype(int)\n",
    "internet.head()"
   ]
  },
  {
   "cell_type": "code",
   "execution_count": 19,
   "metadata": {},
   "outputs": [
    {
     "name": "stdout",
     "output_type": "stream",
     "text": [
      "Количество записей с 0 МБайт трафика в рамках 1 сессии: 19598\n",
      "Доля записей с 0 МБайт трафика: 13.1%\n"
     ]
    }
   ],
   "source": [
    "#оценка сэмпла данных после преобразования показала, что в таблице есть записи с 0 израсходованных МБайт трафика\n",
    "#в рамках 1 сессии. Посчитаем количество таких строк в датасете:\n",
    "#посмотрим на количество записей о звонках с нулевой продолжительностью\n",
    "print('Количество записей с 0 МБайт трафика в рамках 1 сессии:', len(internet.loc[internet['mb_used'] == 0]))\n",
    "print('Доля записей с 0 МБайт трафика: {0:.1f}%'.format(len(internet.loc[internet['mb_used'] == 0]) / len(internet) * 100))"
   ]
  },
  {
   "cell_type": "markdown",
   "metadata": {},
   "source": [
    "<span style=\"text-decoration:underline\">По аналогии с продолжительностью телефонных разговоров, мы можем предположить, что:</span>\n",
    "\n",
    "1. Сессия с 0 МБайт трафика - это попытка выйти в Интернет\n",
    "2. Попытка неудачная или прерванная, так как не был израсходован ни 1 КБайт трафика\n",
    "3. Вероятно, пользователи испытывают проблемы с качеством связи\n",
    "4. У нас нет привязки к конкретному времени попытки выхода в Интернет, либо конкретной локации в рамках населенного пункта, поэтому на основании таких данных мы не можем сформулировать гипотезу о зависимости качества покрытия сети и количества неудачных сессий выхода в Интернет\n",
    "5. Теоретически, такую логику можно распространить и на телефонные звонки, но в их случае больше условностей - телефонный звонок подразумевает двухсторонюю коммуникацию (другими словами, трубку могли просто не взять), а выход в Интернет в этом отношении проще\n",
    "\n",
    "Вывод: обработка таких значений не расширяет наши возможности по анализу экономики каждого из тарифных планов, но генерирует дополнительный объем работы для проверки предположений, которые не были поставлены на старте. Следовательно, мы можем отказаться от нулевых значений для поиска ответа на задачу и удалить эти записи из датасета. "
   ]
  },
  {
   "cell_type": "code",
   "execution_count": 20,
   "metadata": {},
   "outputs": [],
   "source": [
    "#удаляем \"нулевые\" строки из таблицы звонков\n",
    "calls.drop(calls.loc[calls['duration'] == 0].index, inplace=True) \n",
    "calls = calls.reset_index(drop=True)\n",
    "\n",
    "#удаляем \"нулевые\" строки из таблицы выходов в интернет\n",
    "internet.drop(internet.loc[internet['mb_used'] == 0].index, inplace=True) \n",
    "internet = internet.reset_index(drop=True)"
   ]
  },
  {
   "cell_type": "markdown",
   "metadata": {},
   "source": [
    "Таблица готова к использованию."
   ]
  },
  {
   "cell_type": "markdown",
   "metadata": {},
   "source": [
    "## Таблица `messages`"
   ]
  },
  {
   "cell_type": "code",
   "execution_count": 21,
   "metadata": {},
   "outputs": [
    {
     "name": "stdout",
     "output_type": "stream",
     "text": [
      "<class 'pandas.core.frame.DataFrame'>\n",
      "RangeIndex: 123036 entries, 0 to 123035\n",
      "Data columns (total 3 columns):\n",
      "id              123036 non-null object\n",
      "message_date    123036 non-null object\n",
      "user_id         123036 non-null int64\n",
      "dtypes: int64(1), object(2)\n",
      "memory usage: 2.8+ MB\n"
     ]
    },
    {
     "data": {
      "text/html": [
       "<div>\n",
       "<style scoped>\n",
       "    .dataframe tbody tr th:only-of-type {\n",
       "        vertical-align: middle;\n",
       "    }\n",
       "\n",
       "    .dataframe tbody tr th {\n",
       "        vertical-align: top;\n",
       "    }\n",
       "\n",
       "    .dataframe thead th {\n",
       "        text-align: right;\n",
       "    }\n",
       "</style>\n",
       "<table border=\"1\" class=\"dataframe\">\n",
       "  <thead>\n",
       "    <tr style=\"text-align: right;\">\n",
       "      <th></th>\n",
       "      <th>id</th>\n",
       "      <th>message_date</th>\n",
       "      <th>user_id</th>\n",
       "    </tr>\n",
       "  </thead>\n",
       "  <tbody>\n",
       "    <tr>\n",
       "      <td>0</td>\n",
       "      <td>1000_0</td>\n",
       "      <td>2018-06-27</td>\n",
       "      <td>1000</td>\n",
       "    </tr>\n",
       "    <tr>\n",
       "      <td>1</td>\n",
       "      <td>1000_1</td>\n",
       "      <td>2018-10-08</td>\n",
       "      <td>1000</td>\n",
       "    </tr>\n",
       "    <tr>\n",
       "      <td>2</td>\n",
       "      <td>1000_2</td>\n",
       "      <td>2018-08-04</td>\n",
       "      <td>1000</td>\n",
       "    </tr>\n",
       "    <tr>\n",
       "      <td>3</td>\n",
       "      <td>1000_3</td>\n",
       "      <td>2018-06-16</td>\n",
       "      <td>1000</td>\n",
       "    </tr>\n",
       "    <tr>\n",
       "      <td>4</td>\n",
       "      <td>1000_4</td>\n",
       "      <td>2018-12-05</td>\n",
       "      <td>1000</td>\n",
       "    </tr>\n",
       "  </tbody>\n",
       "</table>\n",
       "</div>"
      ],
      "text/plain": [
       "       id message_date  user_id\n",
       "0  1000_0   2018-06-27     1000\n",
       "1  1000_1   2018-10-08     1000\n",
       "2  1000_2   2018-08-04     1000\n",
       "3  1000_3   2018-06-16     1000\n",
       "4  1000_4   2018-12-05     1000"
      ]
     },
     "execution_count": 21,
     "metadata": {},
     "output_type": "execute_result"
    }
   ],
   "source": [
    "messages.info()\n",
    "messages.head()"
   ]
  },
  {
   "cell_type": "markdown",
   "metadata": {},
   "source": [
    "В данной таблице имеет смысл только преобразовать дату из строкового формата в формат даты."
   ]
  },
  {
   "cell_type": "code",
   "execution_count": 22,
   "metadata": {},
   "outputs": [],
   "source": [
    "#Преобразуем дату Интернет-сессии из строкового типа данных в дату\n",
    "messages['message_date'] = pd.to_datetime(messages['message_date'], format='%Y-%m-%d')"
   ]
  },
  {
   "cell_type": "code",
   "execution_count": 23,
   "metadata": {},
   "outputs": [
    {
     "name": "stdout",
     "output_type": "stream",
     "text": [
      "<class 'pandas.core.frame.DataFrame'>\n",
      "RangeIndex: 123036 entries, 0 to 123035\n",
      "Data columns (total 3 columns):\n",
      "id              123036 non-null object\n",
      "message_date    123036 non-null datetime64[ns]\n",
      "user_id         123036 non-null int64\n",
      "dtypes: datetime64[ns](1), int64(1), object(1)\n",
      "memory usage: 2.8+ MB\n"
     ]
    }
   ],
   "source": [
    "messages.info()"
   ]
  },
  {
   "cell_type": "markdown",
   "metadata": {},
   "source": [
    "Таблица готова к использованию."
   ]
  },
  {
   "cell_type": "markdown",
   "metadata": {},
   "source": [
    "## Таблица `tariffs`"
   ]
  },
  {
   "cell_type": "code",
   "execution_count": 24,
   "metadata": {},
   "outputs": [
    {
     "name": "stdout",
     "output_type": "stream",
     "text": [
      "<class 'pandas.core.frame.DataFrame'>\n",
      "RangeIndex: 2 entries, 0 to 1\n",
      "Data columns (total 8 columns):\n",
      "messages_included        2 non-null int64\n",
      "mb_per_month_included    2 non-null int64\n",
      "minutes_included         2 non-null int64\n",
      "rub_monthly_fee          2 non-null int64\n",
      "rub_per_gb               2 non-null int64\n",
      "rub_per_message          2 non-null int64\n",
      "rub_per_minute           2 non-null int64\n",
      "tariff_name              2 non-null object\n",
      "dtypes: int64(7), object(1)\n",
      "memory usage: 256.0+ bytes\n"
     ]
    },
    {
     "data": {
      "text/html": [
       "<div>\n",
       "<style scoped>\n",
       "    .dataframe tbody tr th:only-of-type {\n",
       "        vertical-align: middle;\n",
       "    }\n",
       "\n",
       "    .dataframe tbody tr th {\n",
       "        vertical-align: top;\n",
       "    }\n",
       "\n",
       "    .dataframe thead th {\n",
       "        text-align: right;\n",
       "    }\n",
       "</style>\n",
       "<table border=\"1\" class=\"dataframe\">\n",
       "  <thead>\n",
       "    <tr style=\"text-align: right;\">\n",
       "      <th></th>\n",
       "      <th>messages_included</th>\n",
       "      <th>mb_per_month_included</th>\n",
       "      <th>minutes_included</th>\n",
       "      <th>rub_monthly_fee</th>\n",
       "      <th>rub_per_gb</th>\n",
       "      <th>rub_per_message</th>\n",
       "      <th>rub_per_minute</th>\n",
       "      <th>tariff_name</th>\n",
       "    </tr>\n",
       "  </thead>\n",
       "  <tbody>\n",
       "    <tr>\n",
       "      <td>0</td>\n",
       "      <td>50</td>\n",
       "      <td>15360</td>\n",
       "      <td>500</td>\n",
       "      <td>550</td>\n",
       "      <td>200</td>\n",
       "      <td>3</td>\n",
       "      <td>3</td>\n",
       "      <td>smart</td>\n",
       "    </tr>\n",
       "    <tr>\n",
       "      <td>1</td>\n",
       "      <td>1000</td>\n",
       "      <td>30720</td>\n",
       "      <td>3000</td>\n",
       "      <td>1950</td>\n",
       "      <td>150</td>\n",
       "      <td>1</td>\n",
       "      <td>1</td>\n",
       "      <td>ultra</td>\n",
       "    </tr>\n",
       "  </tbody>\n",
       "</table>\n",
       "</div>"
      ],
      "text/plain": [
       "   messages_included  mb_per_month_included  minutes_included  \\\n",
       "0                 50                  15360               500   \n",
       "1               1000                  30720              3000   \n",
       "\n",
       "   rub_monthly_fee  rub_per_gb  rub_per_message  rub_per_minute tariff_name  \n",
       "0              550         200                3               3       smart  \n",
       "1             1950         150                1               1       ultra  "
      ]
     },
     "metadata": {},
     "output_type": "display_data"
    }
   ],
   "source": [
    "tariffs.info()\n",
    "display(tariffs)"
   ]
  },
  {
   "cell_type": "markdown",
   "metadata": {},
   "source": [
    "Таблица тарифов включает всего две записи по количеству тарифов. Типы данных во всех ячейках выбраны корректно. Данные о количестве доступных минут/мегабайт/сообщений также указаны корректно."
   ]
  },
  {
   "cell_type": "markdown",
   "metadata": {},
   "source": [
    "# Описание поведения пользователей"
   ]
  },
  {
   "cell_type": "markdown",
   "metadata": {},
   "source": [
    "## Минуты звонков, мегабайты и сообщения по месяцам"
   ]
  },
  {
   "cell_type": "markdown",
   "metadata": {},
   "source": [
    "Для подсчета количество израсходованных минут, мегабайт или сообщений для каждого пользователя нам не требуется персонификация каждого - достаточно сгруппировать данные по идентификаторам. "
   ]
  },
  {
   "cell_type": "code",
   "execution_count": 25,
   "metadata": {},
   "outputs": [
    {
     "data": {
      "text/html": [
       "<div>\n",
       "<style scoped>\n",
       "    .dataframe tbody tr th:only-of-type {\n",
       "        vertical-align: middle;\n",
       "    }\n",
       "\n",
       "    .dataframe tbody tr th {\n",
       "        vertical-align: top;\n",
       "    }\n",
       "\n",
       "    .dataframe thead th {\n",
       "        text-align: right;\n",
       "    }\n",
       "</style>\n",
       "<table border=\"1\" class=\"dataframe\">\n",
       "  <thead>\n",
       "    <tr style=\"text-align: right;\">\n",
       "      <th></th>\n",
       "      <th>id</th>\n",
       "      <th>call_date</th>\n",
       "      <th>duration</th>\n",
       "      <th>user_id</th>\n",
       "    </tr>\n",
       "  </thead>\n",
       "  <tbody>\n",
       "    <tr>\n",
       "      <td>0</td>\n",
       "      <td>1000_2</td>\n",
       "      <td>2018-06-11</td>\n",
       "      <td>3</td>\n",
       "      <td>1000</td>\n",
       "    </tr>\n",
       "    <tr>\n",
       "      <td>1</td>\n",
       "      <td>1000_3</td>\n",
       "      <td>2018-09-21</td>\n",
       "      <td>14</td>\n",
       "      <td>1000</td>\n",
       "    </tr>\n",
       "    <tr>\n",
       "      <td>2</td>\n",
       "      <td>1000_4</td>\n",
       "      <td>2018-12-15</td>\n",
       "      <td>6</td>\n",
       "      <td>1000</td>\n",
       "    </tr>\n",
       "    <tr>\n",
       "      <td>3</td>\n",
       "      <td>1000_7</td>\n",
       "      <td>2018-08-22</td>\n",
       "      <td>19</td>\n",
       "      <td>1000</td>\n",
       "    </tr>\n",
       "    <tr>\n",
       "      <td>4</td>\n",
       "      <td>1000_8</td>\n",
       "      <td>2018-09-15</td>\n",
       "      <td>19</td>\n",
       "      <td>1000</td>\n",
       "    </tr>\n",
       "  </tbody>\n",
       "</table>\n",
       "</div>"
      ],
      "text/plain": [
       "       id  call_date  duration  user_id\n",
       "0  1000_2 2018-06-11         3     1000\n",
       "1  1000_3 2018-09-21        14     1000\n",
       "2  1000_4 2018-12-15         6     1000\n",
       "3  1000_7 2018-08-22        19     1000\n",
       "4  1000_8 2018-09-15        19     1000"
      ]
     },
     "execution_count": 25,
     "metadata": {},
     "output_type": "execute_result"
    }
   ],
   "source": [
    "calls.head()"
   ]
  },
  {
   "cell_type": "code",
   "execution_count": 26,
   "metadata": {},
   "outputs": [
    {
     "data": {
      "text/html": [
       "<div>\n",
       "<style scoped>\n",
       "    .dataframe tbody tr th:only-of-type {\n",
       "        vertical-align: middle;\n",
       "    }\n",
       "\n",
       "    .dataframe tbody tr th {\n",
       "        vertical-align: top;\n",
       "    }\n",
       "\n",
       "    .dataframe thead th {\n",
       "        text-align: right;\n",
       "    }\n",
       "</style>\n",
       "<table border=\"1\" class=\"dataframe\">\n",
       "  <thead>\n",
       "    <tr style=\"text-align: right;\">\n",
       "      <th></th>\n",
       "      <th>01_January</th>\n",
       "      <th>02_February</th>\n",
       "      <th>03_March</th>\n",
       "      <th>04_April</th>\n",
       "      <th>05_May</th>\n",
       "      <th>06_June</th>\n",
       "      <th>07_July</th>\n",
       "      <th>08_August</th>\n",
       "      <th>09_September</th>\n",
       "      <th>10_October</th>\n",
       "      <th>11_November</th>\n",
       "      <th>12_December</th>\n",
       "    </tr>\n",
       "    <tr>\n",
       "      <th>user_id</th>\n",
       "      <th></th>\n",
       "      <th></th>\n",
       "      <th></th>\n",
       "      <th></th>\n",
       "      <th></th>\n",
       "      <th></th>\n",
       "      <th></th>\n",
       "      <th></th>\n",
       "      <th></th>\n",
       "      <th></th>\n",
       "      <th></th>\n",
       "      <th></th>\n",
       "    </tr>\n",
       "  </thead>\n",
       "  <tbody>\n",
       "    <tr>\n",
       "      <td>1000</td>\n",
       "      <td>0</td>\n",
       "      <td>0</td>\n",
       "      <td>0</td>\n",
       "      <td>0</td>\n",
       "      <td>159</td>\n",
       "      <td>172</td>\n",
       "      <td>340</td>\n",
       "      <td>408</td>\n",
       "      <td>466</td>\n",
       "      <td>350</td>\n",
       "      <td>338</td>\n",
       "      <td>333</td>\n",
       "    </tr>\n",
       "    <tr>\n",
       "      <td>1001</td>\n",
       "      <td>0</td>\n",
       "      <td>0</td>\n",
       "      <td>0</td>\n",
       "      <td>0</td>\n",
       "      <td>0</td>\n",
       "      <td>0</td>\n",
       "      <td>0</td>\n",
       "      <td>0</td>\n",
       "      <td>0</td>\n",
       "      <td>0</td>\n",
       "      <td>430</td>\n",
       "      <td>414</td>\n",
       "    </tr>\n",
       "    <tr>\n",
       "      <td>1002</td>\n",
       "      <td>0</td>\n",
       "      <td>0</td>\n",
       "      <td>0</td>\n",
       "      <td>0</td>\n",
       "      <td>0</td>\n",
       "      <td>117</td>\n",
       "      <td>214</td>\n",
       "      <td>289</td>\n",
       "      <td>206</td>\n",
       "      <td>212</td>\n",
       "      <td>243</td>\n",
       "      <td>236</td>\n",
       "    </tr>\n",
       "    <tr>\n",
       "      <td>1003</td>\n",
       "      <td>0</td>\n",
       "      <td>0</td>\n",
       "      <td>0</td>\n",
       "      <td>0</td>\n",
       "      <td>0</td>\n",
       "      <td>0</td>\n",
       "      <td>0</td>\n",
       "      <td>380</td>\n",
       "      <td>961</td>\n",
       "      <td>855</td>\n",
       "      <td>824</td>\n",
       "      <td>802</td>\n",
       "    </tr>\n",
       "    <tr>\n",
       "      <td>1004</td>\n",
       "      <td>0</td>\n",
       "      <td>0</td>\n",
       "      <td>0</td>\n",
       "      <td>0</td>\n",
       "      <td>35</td>\n",
       "      <td>171</td>\n",
       "      <td>135</td>\n",
       "      <td>137</td>\n",
       "      <td>117</td>\n",
       "      <td>145</td>\n",
       "      <td>117</td>\n",
       "      <td>130</td>\n",
       "    </tr>\n",
       "  </tbody>\n",
       "</table>\n",
       "</div>"
      ],
      "text/plain": [
       "         01_January  02_February  03_March  04_April  05_May  06_June  \\\n",
       "user_id                                                                 \n",
       "1000              0            0         0         0     159      172   \n",
       "1001              0            0         0         0       0        0   \n",
       "1002              0            0         0         0       0      117   \n",
       "1003              0            0         0         0       0        0   \n",
       "1004              0            0         0         0      35      171   \n",
       "\n",
       "         07_July  08_August  09_September  10_October  11_November  \\\n",
       "user_id                                                              \n",
       "1000         340        408           466         350          338   \n",
       "1001           0          0             0           0          430   \n",
       "1002         214        289           206         212          243   \n",
       "1003           0        380           961         855          824   \n",
       "1004         135        137           117         145          117   \n",
       "\n",
       "         12_December  \n",
       "user_id               \n",
       "1000             333  \n",
       "1001             414  \n",
       "1002             236  \n",
       "1003             802  \n",
       "1004             130  "
      ]
     },
     "execution_count": 26,
     "metadata": {},
     "output_type": "execute_result"
    }
   ],
   "source": [
    "#дополняем таблицу звонков отдельным столбцом с номером месяца\n",
    "calls['call_month'] = calls['call_date'].dt.month\n",
    "\n",
    "#для комфорта восприятия формируем два датафрейма с группировкой количества звонков и их общей продолжительности\n",
    "#по месяцам для каждого пользователя\n",
    "calls_statistics_duration = calls.pivot_table(index='user_id', columns='call_month', values='duration', aggfunc=['sum']).fillna(0).astype(int)\n",
    "calls_statistics_qty = calls.pivot_table(index='user_id', columns='call_month', values='duration', aggfunc=['count']).fillna(0).astype(int)\n",
    "calls_statistics_duration.columns=['01_January', '02_February', '03_March', '04_April', '05_May', '06_June', '07_July', '08_August', '09_September', '10_October', '11_November', '12_December']\n",
    "calls_statistics_duration.head()"
   ]
  },
  {
   "cell_type": "code",
   "execution_count": 27,
   "metadata": {},
   "outputs": [
    {
     "data": {
      "text/html": [
       "<div>\n",
       "<style scoped>\n",
       "    .dataframe tbody tr th:only-of-type {\n",
       "        vertical-align: middle;\n",
       "    }\n",
       "\n",
       "    .dataframe tbody tr th {\n",
       "        vertical-align: top;\n",
       "    }\n",
       "\n",
       "    .dataframe thead th {\n",
       "        text-align: right;\n",
       "    }\n",
       "</style>\n",
       "<table border=\"1\" class=\"dataframe\">\n",
       "  <thead>\n",
       "    <tr style=\"text-align: right;\">\n",
       "      <th></th>\n",
       "      <th>01_January</th>\n",
       "      <th>02_February</th>\n",
       "      <th>03_March</th>\n",
       "      <th>04_April</th>\n",
       "      <th>05_May</th>\n",
       "      <th>06_June</th>\n",
       "      <th>07_July</th>\n",
       "      <th>08_August</th>\n",
       "      <th>09_September</th>\n",
       "      <th>10_October</th>\n",
       "      <th>11_November</th>\n",
       "      <th>12_December</th>\n",
       "    </tr>\n",
       "    <tr>\n",
       "      <th>user_id</th>\n",
       "      <th></th>\n",
       "      <th></th>\n",
       "      <th></th>\n",
       "      <th></th>\n",
       "      <th></th>\n",
       "      <th></th>\n",
       "      <th></th>\n",
       "      <th></th>\n",
       "      <th></th>\n",
       "      <th></th>\n",
       "      <th></th>\n",
       "      <th></th>\n",
       "    </tr>\n",
       "  </thead>\n",
       "  <tbody>\n",
       "    <tr>\n",
       "      <td>1000</td>\n",
       "      <td>0</td>\n",
       "      <td>0</td>\n",
       "      <td>0</td>\n",
       "      <td>0</td>\n",
       "      <td>17</td>\n",
       "      <td>28</td>\n",
       "      <td>41</td>\n",
       "      <td>42</td>\n",
       "      <td>46</td>\n",
       "      <td>44</td>\n",
       "      <td>37</td>\n",
       "      <td>38</td>\n",
       "    </tr>\n",
       "    <tr>\n",
       "      <td>1001</td>\n",
       "      <td>0</td>\n",
       "      <td>0</td>\n",
       "      <td>0</td>\n",
       "      <td>0</td>\n",
       "      <td>0</td>\n",
       "      <td>0</td>\n",
       "      <td>0</td>\n",
       "      <td>0</td>\n",
       "      <td>0</td>\n",
       "      <td>0</td>\n",
       "      <td>45</td>\n",
       "      <td>47</td>\n",
       "    </tr>\n",
       "    <tr>\n",
       "      <td>1002</td>\n",
       "      <td>0</td>\n",
       "      <td>0</td>\n",
       "      <td>0</td>\n",
       "      <td>0</td>\n",
       "      <td>0</td>\n",
       "      <td>14</td>\n",
       "      <td>21</td>\n",
       "      <td>37</td>\n",
       "      <td>25</td>\n",
       "      <td>24</td>\n",
       "      <td>25</td>\n",
       "      <td>27</td>\n",
       "    </tr>\n",
       "    <tr>\n",
       "      <td>1003</td>\n",
       "      <td>0</td>\n",
       "      <td>0</td>\n",
       "      <td>0</td>\n",
       "      <td>0</td>\n",
       "      <td>0</td>\n",
       "      <td>0</td>\n",
       "      <td>0</td>\n",
       "      <td>43</td>\n",
       "      <td>105</td>\n",
       "      <td>97</td>\n",
       "      <td>95</td>\n",
       "      <td>88</td>\n",
       "    </tr>\n",
       "    <tr>\n",
       "      <td>1004</td>\n",
       "      <td>0</td>\n",
       "      <td>0</td>\n",
       "      <td>0</td>\n",
       "      <td>0</td>\n",
       "      <td>7</td>\n",
       "      <td>25</td>\n",
       "      <td>20</td>\n",
       "      <td>18</td>\n",
       "      <td>18</td>\n",
       "      <td>21</td>\n",
       "      <td>15</td>\n",
       "      <td>15</td>\n",
       "    </tr>\n",
       "  </tbody>\n",
       "</table>\n",
       "</div>"
      ],
      "text/plain": [
       "         01_January  02_February  03_March  04_April  05_May  06_June  \\\n",
       "user_id                                                                 \n",
       "1000              0            0         0         0      17       28   \n",
       "1001              0            0         0         0       0        0   \n",
       "1002              0            0         0         0       0       14   \n",
       "1003              0            0         0         0       0        0   \n",
       "1004              0            0         0         0       7       25   \n",
       "\n",
       "         07_July  08_August  09_September  10_October  11_November  \\\n",
       "user_id                                                              \n",
       "1000          41         42            46          44           37   \n",
       "1001           0          0             0           0           45   \n",
       "1002          21         37            25          24           25   \n",
       "1003           0         43           105          97           95   \n",
       "1004          20         18            18          21           15   \n",
       "\n",
       "         12_December  \n",
       "user_id               \n",
       "1000              38  \n",
       "1001              47  \n",
       "1002              27  \n",
       "1003              88  \n",
       "1004              15  "
      ]
     },
     "execution_count": 27,
     "metadata": {},
     "output_type": "execute_result"
    }
   ],
   "source": [
    "#таблица количества совершенных звонков по месяцам для каждого пользователя\n",
    "calls_statistics_qty.columns=['01_January', '02_February', '03_March', '04_April', '05_May', '06_June', '07_July', '08_August', '09_September', '10_October', '11_November', '12_December']\n",
    "calls_statistics_qty.head()"
   ]
  },
  {
   "cell_type": "markdown",
   "metadata": {},
   "source": [
    "<span style=\"text-decoration:underline\">Для подсчета выручки нам необходимо:</span>\n",
    "\n",
    "1. Знать тариф которым пользуется каждый из пользователей => необходимо из таблицы 'users' получить наименования тарифов \n",
    "2. Знать детали тарифа => получить из таблицы 'tariffs' цифры количества включенных минут разговора и стоимость каждой дополнительной минуты"
   ]
  },
  {
   "cell_type": "code",
   "execution_count": 28,
   "metadata": {},
   "outputs": [
    {
     "data": {
      "text/html": [
       "<div>\n",
       "<style scoped>\n",
       "    .dataframe tbody tr th:only-of-type {\n",
       "        vertical-align: middle;\n",
       "    }\n",
       "\n",
       "    .dataframe tbody tr th {\n",
       "        vertical-align: top;\n",
       "    }\n",
       "\n",
       "    .dataframe thead th {\n",
       "        text-align: right;\n",
       "    }\n",
       "</style>\n",
       "<table border=\"1\" class=\"dataframe\">\n",
       "  <thead>\n",
       "    <tr style=\"text-align: right;\">\n",
       "      <th></th>\n",
       "      <th>user_id</th>\n",
       "      <th>tariff</th>\n",
       "    </tr>\n",
       "  </thead>\n",
       "  <tbody>\n",
       "    <tr>\n",
       "      <td>0</td>\n",
       "      <td>1000</td>\n",
       "      <td>ultra</td>\n",
       "    </tr>\n",
       "    <tr>\n",
       "      <td>1</td>\n",
       "      <td>1001</td>\n",
       "      <td>smart</td>\n",
       "    </tr>\n",
       "    <tr>\n",
       "      <td>2</td>\n",
       "      <td>1002</td>\n",
       "      <td>smart</td>\n",
       "    </tr>\n",
       "    <tr>\n",
       "      <td>3</td>\n",
       "      <td>1003</td>\n",
       "      <td>ultra</td>\n",
       "    </tr>\n",
       "    <tr>\n",
       "      <td>4</td>\n",
       "      <td>1004</td>\n",
       "      <td>ultra</td>\n",
       "    </tr>\n",
       "  </tbody>\n",
       "</table>\n",
       "</div>"
      ],
      "text/plain": [
       "   user_id tariff\n",
       "0     1000  ultra\n",
       "1     1001  smart\n",
       "2     1002  smart\n",
       "3     1003  ultra\n",
       "4     1004  ultra"
      ]
     },
     "execution_count": 28,
     "metadata": {},
     "output_type": "execute_result"
    }
   ],
   "source": [
    "#формируем отдельный датасет на базе таблицы пользователей с идентификатором пользователя и тарифом\n",
    "user_tafiff = users[['user_id', 'tariff']]\n",
    "user_tafiff.head()"
   ]
  },
  {
   "cell_type": "code",
   "execution_count": 29,
   "metadata": {},
   "outputs": [],
   "source": [
    "#переназначаем индексы в таблицы тарифов для соединения таблиц\n",
    "tariffs.set_index('tariff_name', inplace=True)"
   ]
  },
  {
   "cell_type": "code",
   "execution_count": 30,
   "metadata": {},
   "outputs": [
    {
     "data": {
      "text/html": [
       "<div>\n",
       "<style scoped>\n",
       "    .dataframe tbody tr th:only-of-type {\n",
       "        vertical-align: middle;\n",
       "    }\n",
       "\n",
       "    .dataframe tbody tr th {\n",
       "        vertical-align: top;\n",
       "    }\n",
       "\n",
       "    .dataframe thead th {\n",
       "        text-align: right;\n",
       "    }\n",
       "</style>\n",
       "<table border=\"1\" class=\"dataframe\">\n",
       "  <thead>\n",
       "    <tr style=\"text-align: right;\">\n",
       "      <th></th>\n",
       "      <th>user_id</th>\n",
       "      <th>tariff</th>\n",
       "      <th>minutes_included</th>\n",
       "      <th>rub_per_minute</th>\n",
       "      <th>01_January</th>\n",
       "      <th>02_February</th>\n",
       "      <th>03_March</th>\n",
       "      <th>04_April</th>\n",
       "      <th>05_May</th>\n",
       "      <th>06_June</th>\n",
       "      <th>07_July</th>\n",
       "      <th>08_August</th>\n",
       "      <th>09_September</th>\n",
       "      <th>10_October</th>\n",
       "      <th>11_November</th>\n",
       "      <th>12_December</th>\n",
       "    </tr>\n",
       "  </thead>\n",
       "  <tbody>\n",
       "    <tr>\n",
       "      <td>0</td>\n",
       "      <td>1000</td>\n",
       "      <td>ultra</td>\n",
       "      <td>3000</td>\n",
       "      <td>1</td>\n",
       "      <td>0.0</td>\n",
       "      <td>0.0</td>\n",
       "      <td>0.0</td>\n",
       "      <td>0.0</td>\n",
       "      <td>159.0</td>\n",
       "      <td>172.0</td>\n",
       "      <td>340.0</td>\n",
       "      <td>408.0</td>\n",
       "      <td>466.0</td>\n",
       "      <td>350.0</td>\n",
       "      <td>338.0</td>\n",
       "      <td>333.0</td>\n",
       "    </tr>\n",
       "    <tr>\n",
       "      <td>1</td>\n",
       "      <td>1001</td>\n",
       "      <td>smart</td>\n",
       "      <td>500</td>\n",
       "      <td>3</td>\n",
       "      <td>0.0</td>\n",
       "      <td>0.0</td>\n",
       "      <td>0.0</td>\n",
       "      <td>0.0</td>\n",
       "      <td>0.0</td>\n",
       "      <td>0.0</td>\n",
       "      <td>0.0</td>\n",
       "      <td>0.0</td>\n",
       "      <td>0.0</td>\n",
       "      <td>0.0</td>\n",
       "      <td>430.0</td>\n",
       "      <td>414.0</td>\n",
       "    </tr>\n",
       "    <tr>\n",
       "      <td>2</td>\n",
       "      <td>1002</td>\n",
       "      <td>smart</td>\n",
       "      <td>500</td>\n",
       "      <td>3</td>\n",
       "      <td>0.0</td>\n",
       "      <td>0.0</td>\n",
       "      <td>0.0</td>\n",
       "      <td>0.0</td>\n",
       "      <td>0.0</td>\n",
       "      <td>117.0</td>\n",
       "      <td>214.0</td>\n",
       "      <td>289.0</td>\n",
       "      <td>206.0</td>\n",
       "      <td>212.0</td>\n",
       "      <td>243.0</td>\n",
       "      <td>236.0</td>\n",
       "    </tr>\n",
       "    <tr>\n",
       "      <td>3</td>\n",
       "      <td>1003</td>\n",
       "      <td>ultra</td>\n",
       "      <td>3000</td>\n",
       "      <td>1</td>\n",
       "      <td>0.0</td>\n",
       "      <td>0.0</td>\n",
       "      <td>0.0</td>\n",
       "      <td>0.0</td>\n",
       "      <td>0.0</td>\n",
       "      <td>0.0</td>\n",
       "      <td>0.0</td>\n",
       "      <td>380.0</td>\n",
       "      <td>961.0</td>\n",
       "      <td>855.0</td>\n",
       "      <td>824.0</td>\n",
       "      <td>802.0</td>\n",
       "    </tr>\n",
       "    <tr>\n",
       "      <td>4</td>\n",
       "      <td>1004</td>\n",
       "      <td>ultra</td>\n",
       "      <td>3000</td>\n",
       "      <td>1</td>\n",
       "      <td>0.0</td>\n",
       "      <td>0.0</td>\n",
       "      <td>0.0</td>\n",
       "      <td>0.0</td>\n",
       "      <td>35.0</td>\n",
       "      <td>171.0</td>\n",
       "      <td>135.0</td>\n",
       "      <td>137.0</td>\n",
       "      <td>117.0</td>\n",
       "      <td>145.0</td>\n",
       "      <td>117.0</td>\n",
       "      <td>130.0</td>\n",
       "    </tr>\n",
       "    <tr>\n",
       "      <td>5</td>\n",
       "      <td>1005</td>\n",
       "      <td>smart</td>\n",
       "      <td>500</td>\n",
       "      <td>3</td>\n",
       "      <td>95.0</td>\n",
       "      <td>456.0</td>\n",
       "      <td>606.0</td>\n",
       "      <td>712.0</td>\n",
       "      <td>595.0</td>\n",
       "      <td>612.0</td>\n",
       "      <td>569.0</td>\n",
       "      <td>619.0</td>\n",
       "      <td>479.0</td>\n",
       "      <td>723.0</td>\n",
       "      <td>547.0</td>\n",
       "      <td>592.0</td>\n",
       "    </tr>\n",
       "    <tr>\n",
       "      <td>6</td>\n",
       "      <td>1006</td>\n",
       "      <td>smart</td>\n",
       "      <td>500</td>\n",
       "      <td>3</td>\n",
       "      <td>0.0</td>\n",
       "      <td>42.0</td>\n",
       "      <td>286.0</td>\n",
       "      <td>356.0</td>\n",
       "      <td>370.0</td>\n",
       "      <td>478.0</td>\n",
       "      <td>316.0</td>\n",
       "      <td>275.0</td>\n",
       "      <td>360.0</td>\n",
       "      <td>267.0</td>\n",
       "      <td>372.0</td>\n",
       "      <td>379.0</td>\n",
       "    </tr>\n",
       "    <tr>\n",
       "      <td>7</td>\n",
       "      <td>1007</td>\n",
       "      <td>smart</td>\n",
       "      <td>500</td>\n",
       "      <td>3</td>\n",
       "      <td>0.0</td>\n",
       "      <td>0.0</td>\n",
       "      <td>0.0</td>\n",
       "      <td>198.0</td>\n",
       "      <td>480.0</td>\n",
       "      <td>545.0</td>\n",
       "      <td>577.0</td>\n",
       "      <td>458.0</td>\n",
       "      <td>655.0</td>\n",
       "      <td>465.0</td>\n",
       "      <td>580.0</td>\n",
       "      <td>421.0</td>\n",
       "    </tr>\n",
       "    <tr>\n",
       "      <td>8</td>\n",
       "      <td>1008</td>\n",
       "      <td>smart</td>\n",
       "      <td>500</td>\n",
       "      <td>3</td>\n",
       "      <td>0.0</td>\n",
       "      <td>0.0</td>\n",
       "      <td>0.0</td>\n",
       "      <td>0.0</td>\n",
       "      <td>0.0</td>\n",
       "      <td>0.0</td>\n",
       "      <td>0.0</td>\n",
       "      <td>0.0</td>\n",
       "      <td>0.0</td>\n",
       "      <td>0.0</td>\n",
       "      <td>0.0</td>\n",
       "      <td>339.0</td>\n",
       "    </tr>\n",
       "    <tr>\n",
       "      <td>9</td>\n",
       "      <td>1009</td>\n",
       "      <td>smart</td>\n",
       "      <td>500</td>\n",
       "      <td>3</td>\n",
       "      <td>0.0</td>\n",
       "      <td>0.0</td>\n",
       "      <td>109.0</td>\n",
       "      <td>324.0</td>\n",
       "      <td>170.0</td>\n",
       "      <td>289.0</td>\n",
       "      <td>183.0</td>\n",
       "      <td>249.0</td>\n",
       "      <td>133.0</td>\n",
       "      <td>213.0</td>\n",
       "      <td>290.0</td>\n",
       "      <td>229.0</td>\n",
       "    </tr>\n",
       "  </tbody>\n",
       "</table>\n",
       "</div>"
      ],
      "text/plain": [
       "   user_id tariff  minutes_included  rub_per_minute  01_January  02_February  \\\n",
       "0     1000  ultra              3000               1         0.0          0.0   \n",
       "1     1001  smart               500               3         0.0          0.0   \n",
       "2     1002  smart               500               3         0.0          0.0   \n",
       "3     1003  ultra              3000               1         0.0          0.0   \n",
       "4     1004  ultra              3000               1         0.0          0.0   \n",
       "5     1005  smart               500               3        95.0        456.0   \n",
       "6     1006  smart               500               3         0.0         42.0   \n",
       "7     1007  smart               500               3         0.0          0.0   \n",
       "8     1008  smart               500               3         0.0          0.0   \n",
       "9     1009  smart               500               3         0.0          0.0   \n",
       "\n",
       "   03_March  04_April  05_May  06_June  07_July  08_August  09_September  \\\n",
       "0       0.0       0.0   159.0    172.0    340.0      408.0         466.0   \n",
       "1       0.0       0.0     0.0      0.0      0.0        0.0           0.0   \n",
       "2       0.0       0.0     0.0    117.0    214.0      289.0         206.0   \n",
       "3       0.0       0.0     0.0      0.0      0.0      380.0         961.0   \n",
       "4       0.0       0.0    35.0    171.0    135.0      137.0         117.0   \n",
       "5     606.0     712.0   595.0    612.0    569.0      619.0         479.0   \n",
       "6     286.0     356.0   370.0    478.0    316.0      275.0         360.0   \n",
       "7       0.0     198.0   480.0    545.0    577.0      458.0         655.0   \n",
       "8       0.0       0.0     0.0      0.0      0.0        0.0           0.0   \n",
       "9     109.0     324.0   170.0    289.0    183.0      249.0         133.0   \n",
       "\n",
       "   10_October  11_November  12_December  \n",
       "0       350.0        338.0        333.0  \n",
       "1         0.0        430.0        414.0  \n",
       "2       212.0        243.0        236.0  \n",
       "3       855.0        824.0        802.0  \n",
       "4       145.0        117.0        130.0  \n",
       "5       723.0        547.0        592.0  \n",
       "6       267.0        372.0        379.0  \n",
       "7       465.0        580.0        421.0  \n",
       "8         0.0          0.0        339.0  \n",
       "9       213.0        290.0        229.0  "
      ]
     },
     "execution_count": 30,
     "metadata": {},
     "output_type": "execute_result"
    }
   ],
   "source": [
    "#формируем отдельный датафрейм путем склеивания user_tafiff с ключевыми параметрами для вычисления выручки\n",
    "#за телефонные звонки\n",
    "calls_earnings = user_tafiff.join(tariffs, on='tariff', how='left')[['user_id', 'tariff', 'minutes_included', 'rub_per_minute']]\n",
    "calls_earnings = calls_earnings.join(calls_statistics_duration, on='user_id', how='left')\n",
    "calls_earnings.head(10)"
   ]
  },
  {
   "cell_type": "code",
   "execution_count": 31,
   "metadata": {},
   "outputs": [],
   "source": [
    "#пишем функцию для расчета выручки по тарифу за услуги, оказанные свыше заложенных в тариф цифр\n",
    "#вместо указания именованных индексов ячеек для лимита минут и стоимость минуты используем ссылку на цифровой индекс\n",
    "#так мы сможем воспользоваться этой же функцией для расчета выручки за использование интернета\n",
    "def earnings_calculator(row):\n",
    "    limit = row[2]\n",
    "    additional_unit_cost = row[3]\n",
    "    for i in range(4, 16):\n",
    "        if row[i] <= limit:\n",
    "            row[i] = 0\n",
    "        elif row[i] > limit:\n",
    "            row[i] = (row[i] - limit) * additional_unit_cost\n",
    "    return row"
   ]
  },
  {
   "cell_type": "code",
   "execution_count": 32,
   "metadata": {},
   "outputs": [
    {
     "data": {
      "text/html": [
       "<div>\n",
       "<style scoped>\n",
       "    .dataframe tbody tr th:only-of-type {\n",
       "        vertical-align: middle;\n",
       "    }\n",
       "\n",
       "    .dataframe tbody tr th {\n",
       "        vertical-align: top;\n",
       "    }\n",
       "\n",
       "    .dataframe thead th {\n",
       "        text-align: right;\n",
       "    }\n",
       "</style>\n",
       "<table border=\"1\" class=\"dataframe\">\n",
       "  <thead>\n",
       "    <tr style=\"text-align: right;\">\n",
       "      <th></th>\n",
       "      <th>user_id</th>\n",
       "      <th>tariff</th>\n",
       "      <th>minutes_included</th>\n",
       "      <th>rub_per_minute</th>\n",
       "      <th>01_January</th>\n",
       "      <th>02_February</th>\n",
       "      <th>03_March</th>\n",
       "      <th>04_April</th>\n",
       "      <th>05_May</th>\n",
       "      <th>06_June</th>\n",
       "      <th>07_July</th>\n",
       "      <th>08_August</th>\n",
       "      <th>09_September</th>\n",
       "      <th>10_October</th>\n",
       "      <th>11_November</th>\n",
       "      <th>12_December</th>\n",
       "    </tr>\n",
       "  </thead>\n",
       "  <tbody>\n",
       "    <tr>\n",
       "      <td>0</td>\n",
       "      <td>1000</td>\n",
       "      <td>ultra</td>\n",
       "      <td>3000</td>\n",
       "      <td>1</td>\n",
       "      <td>0.0</td>\n",
       "      <td>0.0</td>\n",
       "      <td>0.0</td>\n",
       "      <td>0.0</td>\n",
       "      <td>0.0</td>\n",
       "      <td>0.0</td>\n",
       "      <td>0.0</td>\n",
       "      <td>0.0</td>\n",
       "      <td>0.0</td>\n",
       "      <td>0.0</td>\n",
       "      <td>0.0</td>\n",
       "      <td>0.0</td>\n",
       "    </tr>\n",
       "    <tr>\n",
       "      <td>1</td>\n",
       "      <td>1001</td>\n",
       "      <td>smart</td>\n",
       "      <td>500</td>\n",
       "      <td>3</td>\n",
       "      <td>0.0</td>\n",
       "      <td>0.0</td>\n",
       "      <td>0.0</td>\n",
       "      <td>0.0</td>\n",
       "      <td>0.0</td>\n",
       "      <td>0.0</td>\n",
       "      <td>0.0</td>\n",
       "      <td>0.0</td>\n",
       "      <td>0.0</td>\n",
       "      <td>0.0</td>\n",
       "      <td>0.0</td>\n",
       "      <td>0.0</td>\n",
       "    </tr>\n",
       "    <tr>\n",
       "      <td>2</td>\n",
       "      <td>1002</td>\n",
       "      <td>smart</td>\n",
       "      <td>500</td>\n",
       "      <td>3</td>\n",
       "      <td>0.0</td>\n",
       "      <td>0.0</td>\n",
       "      <td>0.0</td>\n",
       "      <td>0.0</td>\n",
       "      <td>0.0</td>\n",
       "      <td>0.0</td>\n",
       "      <td>0.0</td>\n",
       "      <td>0.0</td>\n",
       "      <td>0.0</td>\n",
       "      <td>0.0</td>\n",
       "      <td>0.0</td>\n",
       "      <td>0.0</td>\n",
       "    </tr>\n",
       "    <tr>\n",
       "      <td>3</td>\n",
       "      <td>1003</td>\n",
       "      <td>ultra</td>\n",
       "      <td>3000</td>\n",
       "      <td>1</td>\n",
       "      <td>0.0</td>\n",
       "      <td>0.0</td>\n",
       "      <td>0.0</td>\n",
       "      <td>0.0</td>\n",
       "      <td>0.0</td>\n",
       "      <td>0.0</td>\n",
       "      <td>0.0</td>\n",
       "      <td>0.0</td>\n",
       "      <td>0.0</td>\n",
       "      <td>0.0</td>\n",
       "      <td>0.0</td>\n",
       "      <td>0.0</td>\n",
       "    </tr>\n",
       "    <tr>\n",
       "      <td>4</td>\n",
       "      <td>1004</td>\n",
       "      <td>ultra</td>\n",
       "      <td>3000</td>\n",
       "      <td>1</td>\n",
       "      <td>0.0</td>\n",
       "      <td>0.0</td>\n",
       "      <td>0.0</td>\n",
       "      <td>0.0</td>\n",
       "      <td>0.0</td>\n",
       "      <td>0.0</td>\n",
       "      <td>0.0</td>\n",
       "      <td>0.0</td>\n",
       "      <td>0.0</td>\n",
       "      <td>0.0</td>\n",
       "      <td>0.0</td>\n",
       "      <td>0.0</td>\n",
       "    </tr>\n",
       "    <tr>\n",
       "      <td>5</td>\n",
       "      <td>1005</td>\n",
       "      <td>smart</td>\n",
       "      <td>500</td>\n",
       "      <td>3</td>\n",
       "      <td>0.0</td>\n",
       "      <td>0.0</td>\n",
       "      <td>318.0</td>\n",
       "      <td>636.0</td>\n",
       "      <td>285.0</td>\n",
       "      <td>336.0</td>\n",
       "      <td>207.0</td>\n",
       "      <td>357.0</td>\n",
       "      <td>0.0</td>\n",
       "      <td>669.0</td>\n",
       "      <td>141.0</td>\n",
       "      <td>276.0</td>\n",
       "    </tr>\n",
       "    <tr>\n",
       "      <td>6</td>\n",
       "      <td>1006</td>\n",
       "      <td>smart</td>\n",
       "      <td>500</td>\n",
       "      <td>3</td>\n",
       "      <td>0.0</td>\n",
       "      <td>0.0</td>\n",
       "      <td>0.0</td>\n",
       "      <td>0.0</td>\n",
       "      <td>0.0</td>\n",
       "      <td>0.0</td>\n",
       "      <td>0.0</td>\n",
       "      <td>0.0</td>\n",
       "      <td>0.0</td>\n",
       "      <td>0.0</td>\n",
       "      <td>0.0</td>\n",
       "      <td>0.0</td>\n",
       "    </tr>\n",
       "    <tr>\n",
       "      <td>7</td>\n",
       "      <td>1007</td>\n",
       "      <td>smart</td>\n",
       "      <td>500</td>\n",
       "      <td>3</td>\n",
       "      <td>0.0</td>\n",
       "      <td>0.0</td>\n",
       "      <td>0.0</td>\n",
       "      <td>0.0</td>\n",
       "      <td>0.0</td>\n",
       "      <td>135.0</td>\n",
       "      <td>231.0</td>\n",
       "      <td>0.0</td>\n",
       "      <td>465.0</td>\n",
       "      <td>0.0</td>\n",
       "      <td>240.0</td>\n",
       "      <td>0.0</td>\n",
       "    </tr>\n",
       "    <tr>\n",
       "      <td>8</td>\n",
       "      <td>1008</td>\n",
       "      <td>smart</td>\n",
       "      <td>500</td>\n",
       "      <td>3</td>\n",
       "      <td>0.0</td>\n",
       "      <td>0.0</td>\n",
       "      <td>0.0</td>\n",
       "      <td>0.0</td>\n",
       "      <td>0.0</td>\n",
       "      <td>0.0</td>\n",
       "      <td>0.0</td>\n",
       "      <td>0.0</td>\n",
       "      <td>0.0</td>\n",
       "      <td>0.0</td>\n",
       "      <td>0.0</td>\n",
       "      <td>0.0</td>\n",
       "    </tr>\n",
       "    <tr>\n",
       "      <td>9</td>\n",
       "      <td>1009</td>\n",
       "      <td>smart</td>\n",
       "      <td>500</td>\n",
       "      <td>3</td>\n",
       "      <td>0.0</td>\n",
       "      <td>0.0</td>\n",
       "      <td>0.0</td>\n",
       "      <td>0.0</td>\n",
       "      <td>0.0</td>\n",
       "      <td>0.0</td>\n",
       "      <td>0.0</td>\n",
       "      <td>0.0</td>\n",
       "      <td>0.0</td>\n",
       "      <td>0.0</td>\n",
       "      <td>0.0</td>\n",
       "      <td>0.0</td>\n",
       "    </tr>\n",
       "  </tbody>\n",
       "</table>\n",
       "</div>"
      ],
      "text/plain": [
       "   user_id tariff  minutes_included  rub_per_minute  01_January  02_February  \\\n",
       "0     1000  ultra              3000               1         0.0          0.0   \n",
       "1     1001  smart               500               3         0.0          0.0   \n",
       "2     1002  smart               500               3         0.0          0.0   \n",
       "3     1003  ultra              3000               1         0.0          0.0   \n",
       "4     1004  ultra              3000               1         0.0          0.0   \n",
       "5     1005  smart               500               3         0.0          0.0   \n",
       "6     1006  smart               500               3         0.0          0.0   \n",
       "7     1007  smart               500               3         0.0          0.0   \n",
       "8     1008  smart               500               3         0.0          0.0   \n",
       "9     1009  smart               500               3         0.0          0.0   \n",
       "\n",
       "   03_March  04_April  05_May  06_June  07_July  08_August  09_September  \\\n",
       "0       0.0       0.0     0.0      0.0      0.0        0.0           0.0   \n",
       "1       0.0       0.0     0.0      0.0      0.0        0.0           0.0   \n",
       "2       0.0       0.0     0.0      0.0      0.0        0.0           0.0   \n",
       "3       0.0       0.0     0.0      0.0      0.0        0.0           0.0   \n",
       "4       0.0       0.0     0.0      0.0      0.0        0.0           0.0   \n",
       "5     318.0     636.0   285.0    336.0    207.0      357.0           0.0   \n",
       "6       0.0       0.0     0.0      0.0      0.0        0.0           0.0   \n",
       "7       0.0       0.0     0.0    135.0    231.0        0.0         465.0   \n",
       "8       0.0       0.0     0.0      0.0      0.0        0.0           0.0   \n",
       "9       0.0       0.0     0.0      0.0      0.0        0.0           0.0   \n",
       "\n",
       "   10_October  11_November  12_December  \n",
       "0         0.0          0.0          0.0  \n",
       "1         0.0          0.0          0.0  \n",
       "2         0.0          0.0          0.0  \n",
       "3         0.0          0.0          0.0  \n",
       "4         0.0          0.0          0.0  \n",
       "5       669.0        141.0        276.0  \n",
       "6         0.0          0.0          0.0  \n",
       "7         0.0        240.0          0.0  \n",
       "8         0.0          0.0          0.0  \n",
       "9         0.0          0.0          0.0  "
      ]
     },
     "execution_count": 32,
     "metadata": {},
     "output_type": "execute_result"
    }
   ],
   "source": [
    "calls_earnings = calls_earnings.apply(earnings_calculator, axis=1)\n",
    "calls_earnings.head(10)\n",
    "#видим, что в таблице стало значительно больше нулей - остались те, кто не укладывается в ограничения тарифа"
   ]
  },
  {
   "cell_type": "code",
   "execution_count": 33,
   "metadata": {},
   "outputs": [
    {
     "data": {
      "text/html": [
       "<div>\n",
       "<style scoped>\n",
       "    .dataframe tbody tr th:only-of-type {\n",
       "        vertical-align: middle;\n",
       "    }\n",
       "\n",
       "    .dataframe tbody tr th {\n",
       "        vertical-align: top;\n",
       "    }\n",
       "\n",
       "    .dataframe thead th {\n",
       "        text-align: right;\n",
       "    }\n",
       "</style>\n",
       "<table border=\"1\" class=\"dataframe\">\n",
       "  <thead>\n",
       "    <tr style=\"text-align: right;\">\n",
       "      <th></th>\n",
       "      <th>user_id</th>\n",
       "      <th>tariff</th>\n",
       "      <th>mb_per_month_included</th>\n",
       "      <th>rub_per_gb</th>\n",
       "      <th>01_January</th>\n",
       "      <th>02_February</th>\n",
       "      <th>03_March</th>\n",
       "      <th>04_April</th>\n",
       "      <th>05_May</th>\n",
       "      <th>06_June</th>\n",
       "      <th>07_July</th>\n",
       "      <th>08_August</th>\n",
       "      <th>09_September</th>\n",
       "      <th>10_October</th>\n",
       "      <th>11_November</th>\n",
       "      <th>12_December</th>\n",
       "    </tr>\n",
       "  </thead>\n",
       "  <tbody>\n",
       "    <tr>\n",
       "      <td>0</td>\n",
       "      <td>1000</td>\n",
       "      <td>ultra</td>\n",
       "      <td>30720</td>\n",
       "      <td>150</td>\n",
       "      <td>0.0</td>\n",
       "      <td>0.0</td>\n",
       "      <td>0.0</td>\n",
       "      <td>0.0</td>\n",
       "      <td>2256.0</td>\n",
       "      <td>23257.0</td>\n",
       "      <td>14016.0</td>\n",
       "      <td>14070.0</td>\n",
       "      <td>14581.0</td>\n",
       "      <td>14717.0</td>\n",
       "      <td>14768.0</td>\n",
       "      <td>9827.0</td>\n",
       "    </tr>\n",
       "    <tr>\n",
       "      <td>1</td>\n",
       "      <td>1001</td>\n",
       "      <td>smart</td>\n",
       "      <td>15360</td>\n",
       "      <td>200</td>\n",
       "      <td>0.0</td>\n",
       "      <td>0.0</td>\n",
       "      <td>0.0</td>\n",
       "      <td>0.0</td>\n",
       "      <td>0.0</td>\n",
       "      <td>0.0</td>\n",
       "      <td>0.0</td>\n",
       "      <td>0.0</td>\n",
       "      <td>0.0</td>\n",
       "      <td>0.0</td>\n",
       "      <td>18452.0</td>\n",
       "      <td>14053.0</td>\n",
       "    </tr>\n",
       "    <tr>\n",
       "      <td>2</td>\n",
       "      <td>1002</td>\n",
       "      <td>smart</td>\n",
       "      <td>15360</td>\n",
       "      <td>200</td>\n",
       "      <td>0.0</td>\n",
       "      <td>0.0</td>\n",
       "      <td>0.0</td>\n",
       "      <td>0.0</td>\n",
       "      <td>0.0</td>\n",
       "      <td>10871.0</td>\n",
       "      <td>17601.0</td>\n",
       "      <td>20347.0</td>\n",
       "      <td>16712.0</td>\n",
       "      <td>13905.0</td>\n",
       "      <td>18610.0</td>\n",
       "      <td>18137.0</td>\n",
       "    </tr>\n",
       "    <tr>\n",
       "      <td>3</td>\n",
       "      <td>1003</td>\n",
       "      <td>ultra</td>\n",
       "      <td>30720</td>\n",
       "      <td>150</td>\n",
       "      <td>0.0</td>\n",
       "      <td>0.0</td>\n",
       "      <td>0.0</td>\n",
       "      <td>0.0</td>\n",
       "      <td>0.0</td>\n",
       "      <td>0.0</td>\n",
       "      <td>0.0</td>\n",
       "      <td>8571.0</td>\n",
       "      <td>12479.0</td>\n",
       "      <td>14779.0</td>\n",
       "      <td>11368.0</td>\n",
       "      <td>10132.0</td>\n",
       "    </tr>\n",
       "    <tr>\n",
       "      <td>4</td>\n",
       "      <td>1004</td>\n",
       "      <td>ultra</td>\n",
       "      <td>30720</td>\n",
       "      <td>150</td>\n",
       "      <td>0.0</td>\n",
       "      <td>0.0</td>\n",
       "      <td>0.0</td>\n",
       "      <td>0.0</td>\n",
       "      <td>13415.0</td>\n",
       "      <td>17619.0</td>\n",
       "      <td>22243.0</td>\n",
       "      <td>28607.0</td>\n",
       "      <td>15125.0</td>\n",
       "      <td>18494.0</td>\n",
       "      <td>15631.0</td>\n",
       "      <td>18038.0</td>\n",
       "    </tr>\n",
       "    <tr>\n",
       "      <td>5</td>\n",
       "      <td>1005</td>\n",
       "      <td>smart</td>\n",
       "      <td>15360</td>\n",
       "      <td>200</td>\n",
       "      <td>2730.0</td>\n",
       "      <td>7394.0</td>\n",
       "      <td>11117.0</td>\n",
       "      <td>9365.0</td>\n",
       "      <td>7877.0</td>\n",
       "      <td>9875.0</td>\n",
       "      <td>7703.0</td>\n",
       "      <td>7554.0</td>\n",
       "      <td>7027.0</td>\n",
       "      <td>7809.0</td>\n",
       "      <td>12682.0</td>\n",
       "      <td>8680.0</td>\n",
       "    </tr>\n",
       "    <tr>\n",
       "      <td>6</td>\n",
       "      <td>1006</td>\n",
       "      <td>smart</td>\n",
       "      <td>15360</td>\n",
       "      <td>200</td>\n",
       "      <td>0.0</td>\n",
       "      <td>1395.0</td>\n",
       "      <td>17309.0</td>\n",
       "      <td>13954.0</td>\n",
       "      <td>12984.0</td>\n",
       "      <td>12388.0</td>\n",
       "      <td>20000.0</td>\n",
       "      <td>19327.0</td>\n",
       "      <td>15543.0</td>\n",
       "      <td>19722.0</td>\n",
       "      <td>13275.0</td>\n",
       "      <td>18498.0</td>\n",
       "    </tr>\n",
       "    <tr>\n",
       "      <td>7</td>\n",
       "      <td>1007</td>\n",
       "      <td>smart</td>\n",
       "      <td>15360</td>\n",
       "      <td>200</td>\n",
       "      <td>0.0</td>\n",
       "      <td>0.0</td>\n",
       "      <td>0.0</td>\n",
       "      <td>8031.0</td>\n",
       "      <td>17708.0</td>\n",
       "      <td>13674.0</td>\n",
       "      <td>15680.0</td>\n",
       "      <td>20723.0</td>\n",
       "      <td>12630.0</td>\n",
       "      <td>14444.0</td>\n",
       "      <td>16390.0</td>\n",
       "      <td>12512.0</td>\n",
       "    </tr>\n",
       "    <tr>\n",
       "      <td>8</td>\n",
       "      <td>1008</td>\n",
       "      <td>smart</td>\n",
       "      <td>15360</td>\n",
       "      <td>200</td>\n",
       "      <td>0.0</td>\n",
       "      <td>0.0</td>\n",
       "      <td>0.0</td>\n",
       "      <td>0.0</td>\n",
       "      <td>0.0</td>\n",
       "      <td>0.0</td>\n",
       "      <td>0.0</td>\n",
       "      <td>0.0</td>\n",
       "      <td>0.0</td>\n",
       "      <td>0.0</td>\n",
       "      <td>0.0</td>\n",
       "      <td>13236.0</td>\n",
       "    </tr>\n",
       "    <tr>\n",
       "      <td>9</td>\n",
       "      <td>1009</td>\n",
       "      <td>smart</td>\n",
       "      <td>15360</td>\n",
       "      <td>200</td>\n",
       "      <td>0.0</td>\n",
       "      <td>0.0</td>\n",
       "      <td>7359.0</td>\n",
       "      <td>14730.0</td>\n",
       "      <td>13386.0</td>\n",
       "      <td>16084.0</td>\n",
       "      <td>24752.0</td>\n",
       "      <td>23738.0</td>\n",
       "      <td>21954.0</td>\n",
       "      <td>20112.0</td>\n",
       "      <td>16867.0</td>\n",
       "      <td>18642.0</td>\n",
       "    </tr>\n",
       "  </tbody>\n",
       "</table>\n",
       "</div>"
      ],
      "text/plain": [
       "   user_id tariff  mb_per_month_included  rub_per_gb  01_January  02_February  \\\n",
       "0     1000  ultra                  30720         150         0.0          0.0   \n",
       "1     1001  smart                  15360         200         0.0          0.0   \n",
       "2     1002  smart                  15360         200         0.0          0.0   \n",
       "3     1003  ultra                  30720         150         0.0          0.0   \n",
       "4     1004  ultra                  30720         150         0.0          0.0   \n",
       "5     1005  smart                  15360         200      2730.0       7394.0   \n",
       "6     1006  smart                  15360         200         0.0       1395.0   \n",
       "7     1007  smart                  15360         200         0.0          0.0   \n",
       "8     1008  smart                  15360         200         0.0          0.0   \n",
       "9     1009  smart                  15360         200         0.0          0.0   \n",
       "\n",
       "   03_March  04_April   05_May  06_June  07_July  08_August  09_September  \\\n",
       "0       0.0       0.0   2256.0  23257.0  14016.0    14070.0       14581.0   \n",
       "1       0.0       0.0      0.0      0.0      0.0        0.0           0.0   \n",
       "2       0.0       0.0      0.0  10871.0  17601.0    20347.0       16712.0   \n",
       "3       0.0       0.0      0.0      0.0      0.0     8571.0       12479.0   \n",
       "4       0.0       0.0  13415.0  17619.0  22243.0    28607.0       15125.0   \n",
       "5   11117.0    9365.0   7877.0   9875.0   7703.0     7554.0        7027.0   \n",
       "6   17309.0   13954.0  12984.0  12388.0  20000.0    19327.0       15543.0   \n",
       "7       0.0    8031.0  17708.0  13674.0  15680.0    20723.0       12630.0   \n",
       "8       0.0       0.0      0.0      0.0      0.0        0.0           0.0   \n",
       "9    7359.0   14730.0  13386.0  16084.0  24752.0    23738.0       21954.0   \n",
       "\n",
       "   10_October  11_November  12_December  \n",
       "0     14717.0      14768.0       9827.0  \n",
       "1         0.0      18452.0      14053.0  \n",
       "2     13905.0      18610.0      18137.0  \n",
       "3     14779.0      11368.0      10132.0  \n",
       "4     18494.0      15631.0      18038.0  \n",
       "5      7809.0      12682.0       8680.0  \n",
       "6     19722.0      13275.0      18498.0  \n",
       "7     14444.0      16390.0      12512.0  \n",
       "8         0.0          0.0      13236.0  \n",
       "9     20112.0      16867.0      18642.0  "
      ]
     },
     "execution_count": 33,
     "metadata": {},
     "output_type": "execute_result"
    }
   ],
   "source": [
    "#в таблице со статистикой выхода в Интернет формируем новый столбец с месяцем\n",
    "internet['session_month'] = internet['session_date'].dt.month\n",
    "\n",
    "#формируем сводную таблицу с аггрегированными данными по использованному трафику по месяцам для каждого пользователя\n",
    "internet_statistics_mb = internet.pivot_table(\n",
    "    index='user_id',\n",
    "    columns='session_month',\n",
    "    values='mb_used',\n",
    "    aggfunc=['sum']).fillna(0).astype(int)\n",
    "internet_statistics_mb.columns=['01_January', '02_February', '03_March', '04_April', '05_May', '06_June', '07_July', '08_August', '09_September', '10_October', '11_November', '12_December']\n",
    "\n",
    "\n",
    "internet_earnings = user_tafiff.join(tariffs, on='tariff')[['user_id', 'tariff', 'mb_per_month_included', 'rub_per_gb']]\n",
    "internet_earnings = internet_earnings.join(internet_statistics_mb, on='user_id')\n",
    "internet_earnings.head(10)"
   ]
  },
  {
   "cell_type": "markdown",
   "metadata": {},
   "source": [
    "Следует обратить внимание, что в отличие от голосовых вызовов, в данных о стоимости дополнительного трафика есть информация о стоимости 1 ГБайт трафика. Мы можем доработать функцию, которую использовали для расчета выручки сверх тарифа по голосовым вызовам. \n",
    "\n",
    "Однако мы предпочтем воспользоваться более простым способом - делением стоимости 1 ГБ на 1024 части (по количеству мегабайт, входящих в 1 ГБайт)."
   ]
  },
  {
   "cell_type": "code",
   "execution_count": 34,
   "metadata": {},
   "outputs": [],
   "source": [
    "internet_earnings['rub_per_gb'] = internet_earnings['rub_per_gb'] / 1024\n",
    "internet_earnings.columns=[\n",
    "    'user_id',\n",
    "    'tariff',\n",
    "    'mb_per_month_included',\n",
    "    'rub_per_mb',\n",
    "    '01_January',\n",
    "    '02_February',\n",
    "    '03_March',\n",
    "    '04_April',\n",
    "    '05_May',\n",
    "    '06_June',\n",
    "    '07_July',\n",
    "    '08_August',\n",
    "    '09_September',\n",
    "    '10_October', \n",
    "    '11_November',\n",
    "    '12_December']"
   ]
  },
  {
   "cell_type": "code",
   "execution_count": 35,
   "metadata": {},
   "outputs": [
    {
     "data": {
      "text/html": [
       "<div>\n",
       "<style scoped>\n",
       "    .dataframe tbody tr th:only-of-type {\n",
       "        vertical-align: middle;\n",
       "    }\n",
       "\n",
       "    .dataframe tbody tr th {\n",
       "        vertical-align: top;\n",
       "    }\n",
       "\n",
       "    .dataframe thead th {\n",
       "        text-align: right;\n",
       "    }\n",
       "</style>\n",
       "<table border=\"1\" class=\"dataframe\">\n",
       "  <thead>\n",
       "    <tr style=\"text-align: right;\">\n",
       "      <th></th>\n",
       "      <th>user_id</th>\n",
       "      <th>tariff</th>\n",
       "      <th>mb_per_month_included</th>\n",
       "      <th>rub_per_mb</th>\n",
       "      <th>01_January</th>\n",
       "      <th>02_February</th>\n",
       "      <th>03_March</th>\n",
       "      <th>04_April</th>\n",
       "      <th>05_May</th>\n",
       "      <th>06_June</th>\n",
       "      <th>07_July</th>\n",
       "      <th>08_August</th>\n",
       "      <th>09_September</th>\n",
       "      <th>10_October</th>\n",
       "      <th>11_November</th>\n",
       "      <th>12_December</th>\n",
       "    </tr>\n",
       "  </thead>\n",
       "  <tbody>\n",
       "    <tr>\n",
       "      <td>0</td>\n",
       "      <td>1000</td>\n",
       "      <td>ultra</td>\n",
       "      <td>30720</td>\n",
       "      <td>0.146484</td>\n",
       "      <td>0.0</td>\n",
       "      <td>0.0</td>\n",
       "      <td>0.000000</td>\n",
       "      <td>0.0</td>\n",
       "      <td>0.00000</td>\n",
       "      <td>0.00000</td>\n",
       "      <td>0.000000</td>\n",
       "      <td>0.000000</td>\n",
       "      <td>0.000000</td>\n",
       "      <td>0.000000</td>\n",
       "      <td>0.000000</td>\n",
       "      <td>0.000000</td>\n",
       "    </tr>\n",
       "    <tr>\n",
       "      <td>1</td>\n",
       "      <td>1001</td>\n",
       "      <td>smart</td>\n",
       "      <td>15360</td>\n",
       "      <td>0.195312</td>\n",
       "      <td>0.0</td>\n",
       "      <td>0.0</td>\n",
       "      <td>0.000000</td>\n",
       "      <td>0.0</td>\n",
       "      <td>0.00000</td>\n",
       "      <td>0.00000</td>\n",
       "      <td>0.000000</td>\n",
       "      <td>0.000000</td>\n",
       "      <td>0.000000</td>\n",
       "      <td>0.000000</td>\n",
       "      <td>603.906250</td>\n",
       "      <td>0.000000</td>\n",
       "    </tr>\n",
       "    <tr>\n",
       "      <td>2</td>\n",
       "      <td>1002</td>\n",
       "      <td>smart</td>\n",
       "      <td>15360</td>\n",
       "      <td>0.195312</td>\n",
       "      <td>0.0</td>\n",
       "      <td>0.0</td>\n",
       "      <td>0.000000</td>\n",
       "      <td>0.0</td>\n",
       "      <td>0.00000</td>\n",
       "      <td>0.00000</td>\n",
       "      <td>437.695312</td>\n",
       "      <td>974.023438</td>\n",
       "      <td>264.062500</td>\n",
       "      <td>0.000000</td>\n",
       "      <td>634.765625</td>\n",
       "      <td>542.382812</td>\n",
       "    </tr>\n",
       "    <tr>\n",
       "      <td>3</td>\n",
       "      <td>1003</td>\n",
       "      <td>ultra</td>\n",
       "      <td>30720</td>\n",
       "      <td>0.146484</td>\n",
       "      <td>0.0</td>\n",
       "      <td>0.0</td>\n",
       "      <td>0.000000</td>\n",
       "      <td>0.0</td>\n",
       "      <td>0.00000</td>\n",
       "      <td>0.00000</td>\n",
       "      <td>0.000000</td>\n",
       "      <td>0.000000</td>\n",
       "      <td>0.000000</td>\n",
       "      <td>0.000000</td>\n",
       "      <td>0.000000</td>\n",
       "      <td>0.000000</td>\n",
       "    </tr>\n",
       "    <tr>\n",
       "      <td>4</td>\n",
       "      <td>1004</td>\n",
       "      <td>ultra</td>\n",
       "      <td>30720</td>\n",
       "      <td>0.146484</td>\n",
       "      <td>0.0</td>\n",
       "      <td>0.0</td>\n",
       "      <td>0.000000</td>\n",
       "      <td>0.0</td>\n",
       "      <td>0.00000</td>\n",
       "      <td>0.00000</td>\n",
       "      <td>0.000000</td>\n",
       "      <td>0.000000</td>\n",
       "      <td>0.000000</td>\n",
       "      <td>0.000000</td>\n",
       "      <td>0.000000</td>\n",
       "      <td>0.000000</td>\n",
       "    </tr>\n",
       "    <tr>\n",
       "      <td>5</td>\n",
       "      <td>1005</td>\n",
       "      <td>smart</td>\n",
       "      <td>15360</td>\n",
       "      <td>0.195312</td>\n",
       "      <td>0.0</td>\n",
       "      <td>0.0</td>\n",
       "      <td>0.000000</td>\n",
       "      <td>0.0</td>\n",
       "      <td>0.00000</td>\n",
       "      <td>0.00000</td>\n",
       "      <td>0.000000</td>\n",
       "      <td>0.000000</td>\n",
       "      <td>0.000000</td>\n",
       "      <td>0.000000</td>\n",
       "      <td>0.000000</td>\n",
       "      <td>0.000000</td>\n",
       "    </tr>\n",
       "    <tr>\n",
       "      <td>6</td>\n",
       "      <td>1006</td>\n",
       "      <td>smart</td>\n",
       "      <td>15360</td>\n",
       "      <td>0.195312</td>\n",
       "      <td>0.0</td>\n",
       "      <td>0.0</td>\n",
       "      <td>380.664062</td>\n",
       "      <td>0.0</td>\n",
       "      <td>0.00000</td>\n",
       "      <td>0.00000</td>\n",
       "      <td>906.250000</td>\n",
       "      <td>774.804688</td>\n",
       "      <td>35.742188</td>\n",
       "      <td>851.953125</td>\n",
       "      <td>0.000000</td>\n",
       "      <td>612.890625</td>\n",
       "    </tr>\n",
       "    <tr>\n",
       "      <td>7</td>\n",
       "      <td>1007</td>\n",
       "      <td>smart</td>\n",
       "      <td>15360</td>\n",
       "      <td>0.195312</td>\n",
       "      <td>0.0</td>\n",
       "      <td>0.0</td>\n",
       "      <td>0.000000</td>\n",
       "      <td>0.0</td>\n",
       "      <td>458.59375</td>\n",
       "      <td>0.00000</td>\n",
       "      <td>62.500000</td>\n",
       "      <td>1047.460938</td>\n",
       "      <td>0.000000</td>\n",
       "      <td>0.000000</td>\n",
       "      <td>201.171875</td>\n",
       "      <td>0.000000</td>\n",
       "    </tr>\n",
       "    <tr>\n",
       "      <td>8</td>\n",
       "      <td>1008</td>\n",
       "      <td>smart</td>\n",
       "      <td>15360</td>\n",
       "      <td>0.195312</td>\n",
       "      <td>0.0</td>\n",
       "      <td>0.0</td>\n",
       "      <td>0.000000</td>\n",
       "      <td>0.0</td>\n",
       "      <td>0.00000</td>\n",
       "      <td>0.00000</td>\n",
       "      <td>0.000000</td>\n",
       "      <td>0.000000</td>\n",
       "      <td>0.000000</td>\n",
       "      <td>0.000000</td>\n",
       "      <td>0.000000</td>\n",
       "      <td>0.000000</td>\n",
       "    </tr>\n",
       "    <tr>\n",
       "      <td>9</td>\n",
       "      <td>1009</td>\n",
       "      <td>smart</td>\n",
       "      <td>15360</td>\n",
       "      <td>0.195312</td>\n",
       "      <td>0.0</td>\n",
       "      <td>0.0</td>\n",
       "      <td>0.000000</td>\n",
       "      <td>0.0</td>\n",
       "      <td>0.00000</td>\n",
       "      <td>141.40625</td>\n",
       "      <td>1834.375000</td>\n",
       "      <td>1636.328125</td>\n",
       "      <td>1287.890625</td>\n",
       "      <td>928.125000</td>\n",
       "      <td>294.335938</td>\n",
       "      <td>641.015625</td>\n",
       "    </tr>\n",
       "  </tbody>\n",
       "</table>\n",
       "</div>"
      ],
      "text/plain": [
       "   user_id tariff  mb_per_month_included  rub_per_mb  01_January  02_February  \\\n",
       "0     1000  ultra                  30720    0.146484         0.0          0.0   \n",
       "1     1001  smart                  15360    0.195312         0.0          0.0   \n",
       "2     1002  smart                  15360    0.195312         0.0          0.0   \n",
       "3     1003  ultra                  30720    0.146484         0.0          0.0   \n",
       "4     1004  ultra                  30720    0.146484         0.0          0.0   \n",
       "5     1005  smart                  15360    0.195312         0.0          0.0   \n",
       "6     1006  smart                  15360    0.195312         0.0          0.0   \n",
       "7     1007  smart                  15360    0.195312         0.0          0.0   \n",
       "8     1008  smart                  15360    0.195312         0.0          0.0   \n",
       "9     1009  smart                  15360    0.195312         0.0          0.0   \n",
       "\n",
       "     03_March  04_April     05_May    06_June      07_July    08_August  \\\n",
       "0    0.000000       0.0    0.00000    0.00000     0.000000     0.000000   \n",
       "1    0.000000       0.0    0.00000    0.00000     0.000000     0.000000   \n",
       "2    0.000000       0.0    0.00000    0.00000   437.695312   974.023438   \n",
       "3    0.000000       0.0    0.00000    0.00000     0.000000     0.000000   \n",
       "4    0.000000       0.0    0.00000    0.00000     0.000000     0.000000   \n",
       "5    0.000000       0.0    0.00000    0.00000     0.000000     0.000000   \n",
       "6  380.664062       0.0    0.00000    0.00000   906.250000   774.804688   \n",
       "7    0.000000       0.0  458.59375    0.00000    62.500000  1047.460938   \n",
       "8    0.000000       0.0    0.00000    0.00000     0.000000     0.000000   \n",
       "9    0.000000       0.0    0.00000  141.40625  1834.375000  1636.328125   \n",
       "\n",
       "   09_September  10_October  11_November  12_December  \n",
       "0      0.000000    0.000000     0.000000     0.000000  \n",
       "1      0.000000    0.000000   603.906250     0.000000  \n",
       "2    264.062500    0.000000   634.765625   542.382812  \n",
       "3      0.000000    0.000000     0.000000     0.000000  \n",
       "4      0.000000    0.000000     0.000000     0.000000  \n",
       "5      0.000000    0.000000     0.000000     0.000000  \n",
       "6     35.742188  851.953125     0.000000   612.890625  \n",
       "7      0.000000    0.000000   201.171875     0.000000  \n",
       "8      0.000000    0.000000     0.000000     0.000000  \n",
       "9   1287.890625  928.125000   294.335938   641.015625  "
      ]
     },
     "execution_count": 35,
     "metadata": {},
     "output_type": "execute_result"
    }
   ],
   "source": [
    "#применяем нашу функцию и получаем данные о выручке сверх тарифа за интернет\n",
    "internet_earnings = internet_earnings.apply(earnings_calculator, axis=1)\n",
    "internet_earnings.head(10)"
   ]
  },
  {
   "cell_type": "code",
   "execution_count": 36,
   "metadata": {},
   "outputs": [
    {
     "data": {
      "text/html": [
       "<div>\n",
       "<style scoped>\n",
       "    .dataframe tbody tr th:only-of-type {\n",
       "        vertical-align: middle;\n",
       "    }\n",
       "\n",
       "    .dataframe tbody tr th {\n",
       "        vertical-align: top;\n",
       "    }\n",
       "\n",
       "    .dataframe thead th {\n",
       "        text-align: right;\n",
       "    }\n",
       "</style>\n",
       "<table border=\"1\" class=\"dataframe\">\n",
       "  <thead>\n",
       "    <tr style=\"text-align: right;\">\n",
       "      <th></th>\n",
       "      <th>user_id</th>\n",
       "      <th>tariff</th>\n",
       "      <th>messages_included</th>\n",
       "      <th>rub_per_message</th>\n",
       "      <th>01_January</th>\n",
       "      <th>02_February</th>\n",
       "      <th>03_March</th>\n",
       "      <th>04_April</th>\n",
       "      <th>05_May</th>\n",
       "      <th>06_June</th>\n",
       "      <th>07_July</th>\n",
       "      <th>08_August</th>\n",
       "      <th>09_September</th>\n",
       "      <th>10_October</th>\n",
       "      <th>11_November</th>\n",
       "      <th>12_December</th>\n",
       "    </tr>\n",
       "  </thead>\n",
       "  <tbody>\n",
       "    <tr>\n",
       "      <td>0</td>\n",
       "      <td>1000</td>\n",
       "      <td>ultra</td>\n",
       "      <td>1000</td>\n",
       "      <td>1</td>\n",
       "      <td>0.0</td>\n",
       "      <td>0.0</td>\n",
       "      <td>0.0</td>\n",
       "      <td>0.0</td>\n",
       "      <td>22.0</td>\n",
       "      <td>60.0</td>\n",
       "      <td>75.0</td>\n",
       "      <td>81.0</td>\n",
       "      <td>57.0</td>\n",
       "      <td>73.0</td>\n",
       "      <td>58.0</td>\n",
       "      <td>70.0</td>\n",
       "    </tr>\n",
       "    <tr>\n",
       "      <td>1</td>\n",
       "      <td>1001</td>\n",
       "      <td>smart</td>\n",
       "      <td>50</td>\n",
       "      <td>3</td>\n",
       "      <td>0.0</td>\n",
       "      <td>0.0</td>\n",
       "      <td>0.0</td>\n",
       "      <td>0.0</td>\n",
       "      <td>0.0</td>\n",
       "      <td>0.0</td>\n",
       "      <td>0.0</td>\n",
       "      <td>0.0</td>\n",
       "      <td>0.0</td>\n",
       "      <td>0.0</td>\n",
       "      <td>0.0</td>\n",
       "      <td>0.0</td>\n",
       "    </tr>\n",
       "    <tr>\n",
       "      <td>2</td>\n",
       "      <td>1002</td>\n",
       "      <td>smart</td>\n",
       "      <td>50</td>\n",
       "      <td>3</td>\n",
       "      <td>0.0</td>\n",
       "      <td>0.0</td>\n",
       "      <td>0.0</td>\n",
       "      <td>0.0</td>\n",
       "      <td>0.0</td>\n",
       "      <td>4.0</td>\n",
       "      <td>11.0</td>\n",
       "      <td>13.0</td>\n",
       "      <td>4.0</td>\n",
       "      <td>10.0</td>\n",
       "      <td>16.0</td>\n",
       "      <td>12.0</td>\n",
       "    </tr>\n",
       "    <tr>\n",
       "      <td>3</td>\n",
       "      <td>1003</td>\n",
       "      <td>ultra</td>\n",
       "      <td>1000</td>\n",
       "      <td>1</td>\n",
       "      <td>0.0</td>\n",
       "      <td>0.0</td>\n",
       "      <td>0.0</td>\n",
       "      <td>0.0</td>\n",
       "      <td>0.0</td>\n",
       "      <td>0.0</td>\n",
       "      <td>0.0</td>\n",
       "      <td>37.0</td>\n",
       "      <td>91.0</td>\n",
       "      <td>83.0</td>\n",
       "      <td>94.0</td>\n",
       "      <td>75.0</td>\n",
       "    </tr>\n",
       "    <tr>\n",
       "      <td>4</td>\n",
       "      <td>1004</td>\n",
       "      <td>ultra</td>\n",
       "      <td>1000</td>\n",
       "      <td>1</td>\n",
       "      <td>0.0</td>\n",
       "      <td>0.0</td>\n",
       "      <td>0.0</td>\n",
       "      <td>0.0</td>\n",
       "      <td>95.0</td>\n",
       "      <td>134.0</td>\n",
       "      <td>181.0</td>\n",
       "      <td>151.0</td>\n",
       "      <td>146.0</td>\n",
       "      <td>165.0</td>\n",
       "      <td>158.0</td>\n",
       "      <td>162.0</td>\n",
       "    </tr>\n",
       "    <tr>\n",
       "      <td>5</td>\n",
       "      <td>1005</td>\n",
       "      <td>smart</td>\n",
       "      <td>50</td>\n",
       "      <td>3</td>\n",
       "      <td>7.0</td>\n",
       "      <td>38.0</td>\n",
       "      <td>56.0</td>\n",
       "      <td>41.0</td>\n",
       "      <td>42.0</td>\n",
       "      <td>47.0</td>\n",
       "      <td>56.0</td>\n",
       "      <td>64.0</td>\n",
       "      <td>52.0</td>\n",
       "      <td>44.0</td>\n",
       "      <td>51.0</td>\n",
       "      <td>54.0</td>\n",
       "    </tr>\n",
       "    <tr>\n",
       "      <td>6</td>\n",
       "      <td>1006</td>\n",
       "      <td>smart</td>\n",
       "      <td>50</td>\n",
       "      <td>3</td>\n",
       "      <td>0.0</td>\n",
       "      <td>0.0</td>\n",
       "      <td>0.0</td>\n",
       "      <td>0.0</td>\n",
       "      <td>0.0</td>\n",
       "      <td>0.0</td>\n",
       "      <td>0.0</td>\n",
       "      <td>0.0</td>\n",
       "      <td>0.0</td>\n",
       "      <td>0.0</td>\n",
       "      <td>0.0</td>\n",
       "      <td>0.0</td>\n",
       "    </tr>\n",
       "    <tr>\n",
       "      <td>7</td>\n",
       "      <td>1007</td>\n",
       "      <td>smart</td>\n",
       "      <td>50</td>\n",
       "      <td>3</td>\n",
       "      <td>0.0</td>\n",
       "      <td>0.0</td>\n",
       "      <td>0.0</td>\n",
       "      <td>11.0</td>\n",
       "      <td>39.0</td>\n",
       "      <td>26.0</td>\n",
       "      <td>26.0</td>\n",
       "      <td>27.0</td>\n",
       "      <td>31.0</td>\n",
       "      <td>18.0</td>\n",
       "      <td>21.0</td>\n",
       "      <td>26.0</td>\n",
       "    </tr>\n",
       "    <tr>\n",
       "      <td>8</td>\n",
       "      <td>1008</td>\n",
       "      <td>smart</td>\n",
       "      <td>50</td>\n",
       "      <td>3</td>\n",
       "      <td>0.0</td>\n",
       "      <td>0.0</td>\n",
       "      <td>0.0</td>\n",
       "      <td>0.0</td>\n",
       "      <td>0.0</td>\n",
       "      <td>0.0</td>\n",
       "      <td>0.0</td>\n",
       "      <td>0.0</td>\n",
       "      <td>0.0</td>\n",
       "      <td>0.0</td>\n",
       "      <td>0.0</td>\n",
       "      <td>56.0</td>\n",
       "    </tr>\n",
       "    <tr>\n",
       "      <td>9</td>\n",
       "      <td>1009</td>\n",
       "      <td>smart</td>\n",
       "      <td>50</td>\n",
       "      <td>3</td>\n",
       "      <td>0.0</td>\n",
       "      <td>0.0</td>\n",
       "      <td>2.0</td>\n",
       "      <td>14.0</td>\n",
       "      <td>7.0</td>\n",
       "      <td>14.0</td>\n",
       "      <td>14.0</td>\n",
       "      <td>9.0</td>\n",
       "      <td>12.0</td>\n",
       "      <td>15.0</td>\n",
       "      <td>11.0</td>\n",
       "      <td>12.0</td>\n",
       "    </tr>\n",
       "  </tbody>\n",
       "</table>\n",
       "</div>"
      ],
      "text/plain": [
       "   user_id tariff  messages_included  rub_per_message  01_January  \\\n",
       "0     1000  ultra               1000                1         0.0   \n",
       "1     1001  smart                 50                3         0.0   \n",
       "2     1002  smart                 50                3         0.0   \n",
       "3     1003  ultra               1000                1         0.0   \n",
       "4     1004  ultra               1000                1         0.0   \n",
       "5     1005  smart                 50                3         7.0   \n",
       "6     1006  smart                 50                3         0.0   \n",
       "7     1007  smart                 50                3         0.0   \n",
       "8     1008  smart                 50                3         0.0   \n",
       "9     1009  smart                 50                3         0.0   \n",
       "\n",
       "   02_February  03_March  04_April  05_May  06_June  07_July  08_August  \\\n",
       "0          0.0       0.0       0.0    22.0     60.0     75.0       81.0   \n",
       "1          0.0       0.0       0.0     0.0      0.0      0.0        0.0   \n",
       "2          0.0       0.0       0.0     0.0      4.0     11.0       13.0   \n",
       "3          0.0       0.0       0.0     0.0      0.0      0.0       37.0   \n",
       "4          0.0       0.0       0.0    95.0    134.0    181.0      151.0   \n",
       "5         38.0      56.0      41.0    42.0     47.0     56.0       64.0   \n",
       "6          0.0       0.0       0.0     0.0      0.0      0.0        0.0   \n",
       "7          0.0       0.0      11.0    39.0     26.0     26.0       27.0   \n",
       "8          0.0       0.0       0.0     0.0      0.0      0.0        0.0   \n",
       "9          0.0       2.0      14.0     7.0     14.0     14.0        9.0   \n",
       "\n",
       "   09_September  10_October  11_November  12_December  \n",
       "0          57.0        73.0         58.0         70.0  \n",
       "1           0.0         0.0          0.0          0.0  \n",
       "2           4.0        10.0         16.0         12.0  \n",
       "3          91.0        83.0         94.0         75.0  \n",
       "4         146.0       165.0        158.0        162.0  \n",
       "5          52.0        44.0         51.0         54.0  \n",
       "6           0.0         0.0          0.0          0.0  \n",
       "7          31.0        18.0         21.0         26.0  \n",
       "8           0.0         0.0          0.0         56.0  \n",
       "9          12.0        15.0         11.0         12.0  "
      ]
     },
     "execution_count": 36,
     "metadata": {},
     "output_type": "execute_result"
    }
   ],
   "source": [
    "#переходим к текстовым сообщениям и добавляем месяц, в котором было отправлено сообщение\n",
    "messages['message_month'] = messages['message_date'].dt.month\n",
    "\n",
    "#собираем таблицу с данными о количестве отправленных сообщений\n",
    "messages_statistics = messages.pivot_table(\n",
    "    index='user_id',\n",
    "    columns='message_month',\n",
    "    values='id',\n",
    "    aggfunc=['count']).fillna(0).astype(int)\n",
    "messages_statistics.columns=['01_January', '02_February', '03_March', '04_April', '05_May', '06_June', '07_July', '08_August', '09_September', '10_October', '11_November', '12_December']\n",
    "\n",
    "#собираем таблицу на которую мы наложим функцию\n",
    "#следует обратить внимание на NaN у некоторых пользователей - по ним нет статистики отправленных сообщений, \n",
    "#поэтому заменяем NaN на нули\n",
    "messages_earnings = user_tafiff.join(tariffs, on='tariff')[['user_id', 'tariff', 'messages_included', 'rub_per_message']]\n",
    "messages_earnings = messages_earnings.join(messages_statistics, on='user_id').fillna(0)\n",
    "messages_earnings.head(10)"
   ]
  },
  {
   "cell_type": "markdown",
   "metadata": {},
   "source": [
    "<span style=\"text-decoration:underline\">Отсутствие данных по количеству отправленных сообщений может быть следствием двух причин:</span>\n",
    "\n",
    "1. Некорректная выгрузка данных \n",
    "2. Отсутствие спроса на услугу у определенного сегмента пользователей \n",
    "\n",
    "Оба причины могут быть гипотезами для более глубокого исследования. Во-втором случае, вероятно, требуется скорректировать маркетинговую стратегию в отношении тарифов с большим количеством включенных текстовых сообщений - есть вероятность, что это уже не является конкурентным преимуществом. "
   ]
  },
  {
   "cell_type": "code",
   "execution_count": 37,
   "metadata": {},
   "outputs": [
    {
     "data": {
      "text/html": [
       "<div>\n",
       "<style scoped>\n",
       "    .dataframe tbody tr th:only-of-type {\n",
       "        vertical-align: middle;\n",
       "    }\n",
       "\n",
       "    .dataframe tbody tr th {\n",
       "        vertical-align: top;\n",
       "    }\n",
       "\n",
       "    .dataframe thead th {\n",
       "        text-align: right;\n",
       "    }\n",
       "</style>\n",
       "<table border=\"1\" class=\"dataframe\">\n",
       "  <thead>\n",
       "    <tr style=\"text-align: right;\">\n",
       "      <th></th>\n",
       "      <th>user_id</th>\n",
       "      <th>tariff</th>\n",
       "      <th>messages_included</th>\n",
       "      <th>rub_per_message</th>\n",
       "      <th>01_January</th>\n",
       "      <th>02_February</th>\n",
       "      <th>03_March</th>\n",
       "      <th>04_April</th>\n",
       "      <th>05_May</th>\n",
       "      <th>06_June</th>\n",
       "      <th>07_July</th>\n",
       "      <th>08_August</th>\n",
       "      <th>09_September</th>\n",
       "      <th>10_October</th>\n",
       "      <th>11_November</th>\n",
       "      <th>12_December</th>\n",
       "    </tr>\n",
       "  </thead>\n",
       "  <tbody>\n",
       "    <tr>\n",
       "      <td>0</td>\n",
       "      <td>1000</td>\n",
       "      <td>ultra</td>\n",
       "      <td>1000</td>\n",
       "      <td>1</td>\n",
       "      <td>0.0</td>\n",
       "      <td>0.0</td>\n",
       "      <td>0.0</td>\n",
       "      <td>0.0</td>\n",
       "      <td>0.0</td>\n",
       "      <td>0.0</td>\n",
       "      <td>0.0</td>\n",
       "      <td>0.0</td>\n",
       "      <td>0.0</td>\n",
       "      <td>0.0</td>\n",
       "      <td>0.0</td>\n",
       "      <td>0.0</td>\n",
       "    </tr>\n",
       "    <tr>\n",
       "      <td>1</td>\n",
       "      <td>1001</td>\n",
       "      <td>smart</td>\n",
       "      <td>50</td>\n",
       "      <td>3</td>\n",
       "      <td>0.0</td>\n",
       "      <td>0.0</td>\n",
       "      <td>0.0</td>\n",
       "      <td>0.0</td>\n",
       "      <td>0.0</td>\n",
       "      <td>0.0</td>\n",
       "      <td>0.0</td>\n",
       "      <td>0.0</td>\n",
       "      <td>0.0</td>\n",
       "      <td>0.0</td>\n",
       "      <td>0.0</td>\n",
       "      <td>0.0</td>\n",
       "    </tr>\n",
       "    <tr>\n",
       "      <td>2</td>\n",
       "      <td>1002</td>\n",
       "      <td>smart</td>\n",
       "      <td>50</td>\n",
       "      <td>3</td>\n",
       "      <td>0.0</td>\n",
       "      <td>0.0</td>\n",
       "      <td>0.0</td>\n",
       "      <td>0.0</td>\n",
       "      <td>0.0</td>\n",
       "      <td>0.0</td>\n",
       "      <td>0.0</td>\n",
       "      <td>0.0</td>\n",
       "      <td>0.0</td>\n",
       "      <td>0.0</td>\n",
       "      <td>0.0</td>\n",
       "      <td>0.0</td>\n",
       "    </tr>\n",
       "    <tr>\n",
       "      <td>3</td>\n",
       "      <td>1003</td>\n",
       "      <td>ultra</td>\n",
       "      <td>1000</td>\n",
       "      <td>1</td>\n",
       "      <td>0.0</td>\n",
       "      <td>0.0</td>\n",
       "      <td>0.0</td>\n",
       "      <td>0.0</td>\n",
       "      <td>0.0</td>\n",
       "      <td>0.0</td>\n",
       "      <td>0.0</td>\n",
       "      <td>0.0</td>\n",
       "      <td>0.0</td>\n",
       "      <td>0.0</td>\n",
       "      <td>0.0</td>\n",
       "      <td>0.0</td>\n",
       "    </tr>\n",
       "    <tr>\n",
       "      <td>4</td>\n",
       "      <td>1004</td>\n",
       "      <td>ultra</td>\n",
       "      <td>1000</td>\n",
       "      <td>1</td>\n",
       "      <td>0.0</td>\n",
       "      <td>0.0</td>\n",
       "      <td>0.0</td>\n",
       "      <td>0.0</td>\n",
       "      <td>0.0</td>\n",
       "      <td>0.0</td>\n",
       "      <td>0.0</td>\n",
       "      <td>0.0</td>\n",
       "      <td>0.0</td>\n",
       "      <td>0.0</td>\n",
       "      <td>0.0</td>\n",
       "      <td>0.0</td>\n",
       "    </tr>\n",
       "    <tr>\n",
       "      <td>5</td>\n",
       "      <td>1005</td>\n",
       "      <td>smart</td>\n",
       "      <td>50</td>\n",
       "      <td>3</td>\n",
       "      <td>0.0</td>\n",
       "      <td>0.0</td>\n",
       "      <td>18.0</td>\n",
       "      <td>0.0</td>\n",
       "      <td>0.0</td>\n",
       "      <td>0.0</td>\n",
       "      <td>18.0</td>\n",
       "      <td>42.0</td>\n",
       "      <td>6.0</td>\n",
       "      <td>0.0</td>\n",
       "      <td>3.0</td>\n",
       "      <td>12.0</td>\n",
       "    </tr>\n",
       "    <tr>\n",
       "      <td>6</td>\n",
       "      <td>1006</td>\n",
       "      <td>smart</td>\n",
       "      <td>50</td>\n",
       "      <td>3</td>\n",
       "      <td>0.0</td>\n",
       "      <td>0.0</td>\n",
       "      <td>0.0</td>\n",
       "      <td>0.0</td>\n",
       "      <td>0.0</td>\n",
       "      <td>0.0</td>\n",
       "      <td>0.0</td>\n",
       "      <td>0.0</td>\n",
       "      <td>0.0</td>\n",
       "      <td>0.0</td>\n",
       "      <td>0.0</td>\n",
       "      <td>0.0</td>\n",
       "    </tr>\n",
       "    <tr>\n",
       "      <td>7</td>\n",
       "      <td>1007</td>\n",
       "      <td>smart</td>\n",
       "      <td>50</td>\n",
       "      <td>3</td>\n",
       "      <td>0.0</td>\n",
       "      <td>0.0</td>\n",
       "      <td>0.0</td>\n",
       "      <td>0.0</td>\n",
       "      <td>0.0</td>\n",
       "      <td>0.0</td>\n",
       "      <td>0.0</td>\n",
       "      <td>0.0</td>\n",
       "      <td>0.0</td>\n",
       "      <td>0.0</td>\n",
       "      <td>0.0</td>\n",
       "      <td>0.0</td>\n",
       "    </tr>\n",
       "    <tr>\n",
       "      <td>8</td>\n",
       "      <td>1008</td>\n",
       "      <td>smart</td>\n",
       "      <td>50</td>\n",
       "      <td>3</td>\n",
       "      <td>0.0</td>\n",
       "      <td>0.0</td>\n",
       "      <td>0.0</td>\n",
       "      <td>0.0</td>\n",
       "      <td>0.0</td>\n",
       "      <td>0.0</td>\n",
       "      <td>0.0</td>\n",
       "      <td>0.0</td>\n",
       "      <td>0.0</td>\n",
       "      <td>0.0</td>\n",
       "      <td>0.0</td>\n",
       "      <td>18.0</td>\n",
       "    </tr>\n",
       "    <tr>\n",
       "      <td>9</td>\n",
       "      <td>1009</td>\n",
       "      <td>smart</td>\n",
       "      <td>50</td>\n",
       "      <td>3</td>\n",
       "      <td>0.0</td>\n",
       "      <td>0.0</td>\n",
       "      <td>0.0</td>\n",
       "      <td>0.0</td>\n",
       "      <td>0.0</td>\n",
       "      <td>0.0</td>\n",
       "      <td>0.0</td>\n",
       "      <td>0.0</td>\n",
       "      <td>0.0</td>\n",
       "      <td>0.0</td>\n",
       "      <td>0.0</td>\n",
       "      <td>0.0</td>\n",
       "    </tr>\n",
       "  </tbody>\n",
       "</table>\n",
       "</div>"
      ],
      "text/plain": [
       "   user_id tariff  messages_included  rub_per_message  01_January  \\\n",
       "0     1000  ultra               1000                1         0.0   \n",
       "1     1001  smart                 50                3         0.0   \n",
       "2     1002  smart                 50                3         0.0   \n",
       "3     1003  ultra               1000                1         0.0   \n",
       "4     1004  ultra               1000                1         0.0   \n",
       "5     1005  smart                 50                3         0.0   \n",
       "6     1006  smart                 50                3         0.0   \n",
       "7     1007  smart                 50                3         0.0   \n",
       "8     1008  smart                 50                3         0.0   \n",
       "9     1009  smart                 50                3         0.0   \n",
       "\n",
       "   02_February  03_March  04_April  05_May  06_June  07_July  08_August  \\\n",
       "0          0.0       0.0       0.0     0.0      0.0      0.0        0.0   \n",
       "1          0.0       0.0       0.0     0.0      0.0      0.0        0.0   \n",
       "2          0.0       0.0       0.0     0.0      0.0      0.0        0.0   \n",
       "3          0.0       0.0       0.0     0.0      0.0      0.0        0.0   \n",
       "4          0.0       0.0       0.0     0.0      0.0      0.0        0.0   \n",
       "5          0.0      18.0       0.0     0.0      0.0     18.0       42.0   \n",
       "6          0.0       0.0       0.0     0.0      0.0      0.0        0.0   \n",
       "7          0.0       0.0       0.0     0.0      0.0      0.0        0.0   \n",
       "8          0.0       0.0       0.0     0.0      0.0      0.0        0.0   \n",
       "9          0.0       0.0       0.0     0.0      0.0      0.0        0.0   \n",
       "\n",
       "   09_September  10_October  11_November  12_December  \n",
       "0           0.0         0.0          0.0          0.0  \n",
       "1           0.0         0.0          0.0          0.0  \n",
       "2           0.0         0.0          0.0          0.0  \n",
       "3           0.0         0.0          0.0          0.0  \n",
       "4           0.0         0.0          0.0          0.0  \n",
       "5           6.0         0.0          3.0         12.0  \n",
       "6           0.0         0.0          0.0          0.0  \n",
       "7           0.0         0.0          0.0          0.0  \n",
       "8           0.0         0.0          0.0         18.0  \n",
       "9           0.0         0.0          0.0          0.0  "
      ]
     },
     "execution_count": 37,
     "metadata": {},
     "output_type": "execute_result"
    }
   ],
   "source": [
    "#в 3 раз используем написанную ранее функцию\n",
    "messages_earnings = messages_earnings.apply(earnings_calculator, axis=1)\n",
    "messages_earnings.head(10)"
   ]
  },
  {
   "cell_type": "markdown",
   "metadata": {},
   "source": [
    "Теперь нам доступны таблицы с количеством израсходованных минут, мегабайт и сообщений для каждого абонента.\n",
    "\n",
    "Также по каждому виду услуг мы посчитали помесячный доход оператора, если он превышал сумму ежемесячной абонентской платы."
   ]
  },
  {
   "cell_type": "markdown",
   "metadata": {},
   "source": [
    "## Доход от каждого абонента по месяцам"
   ]
  },
  {
   "cell_type": "code",
   "execution_count": 38,
   "metadata": {},
   "outputs": [
    {
     "data": {
      "text/html": [
       "<div>\n",
       "<style scoped>\n",
       "    .dataframe tbody tr th:only-of-type {\n",
       "        vertical-align: middle;\n",
       "    }\n",
       "\n",
       "    .dataframe tbody tr th {\n",
       "        vertical-align: top;\n",
       "    }\n",
       "\n",
       "    .dataframe thead th {\n",
       "        text-align: right;\n",
       "    }\n",
       "</style>\n",
       "<table border=\"1\" class=\"dataframe\">\n",
       "  <thead>\n",
       "    <tr style=\"text-align: right;\">\n",
       "      <th></th>\n",
       "      <th>01_January</th>\n",
       "      <th>02_February</th>\n",
       "      <th>03_March</th>\n",
       "      <th>04_April</th>\n",
       "      <th>05_May</th>\n",
       "      <th>06_June</th>\n",
       "      <th>07_July</th>\n",
       "      <th>08_August</th>\n",
       "      <th>09_September</th>\n",
       "      <th>10_October</th>\n",
       "      <th>11_November</th>\n",
       "      <th>12_December</th>\n",
       "    </tr>\n",
       "    <tr>\n",
       "      <th>user_id</th>\n",
       "      <th></th>\n",
       "      <th></th>\n",
       "      <th></th>\n",
       "      <th></th>\n",
       "      <th></th>\n",
       "      <th></th>\n",
       "      <th></th>\n",
       "      <th></th>\n",
       "      <th></th>\n",
       "      <th></th>\n",
       "      <th></th>\n",
       "      <th></th>\n",
       "    </tr>\n",
       "  </thead>\n",
       "  <tbody>\n",
       "    <tr>\n",
       "      <td>1000</td>\n",
       "      <td>0</td>\n",
       "      <td>0</td>\n",
       "      <td>0</td>\n",
       "      <td>0</td>\n",
       "      <td>0</td>\n",
       "      <td>0</td>\n",
       "      <td>0</td>\n",
       "      <td>0</td>\n",
       "      <td>0</td>\n",
       "      <td>0</td>\n",
       "      <td>0</td>\n",
       "      <td>0</td>\n",
       "    </tr>\n",
       "    <tr>\n",
       "      <td>1001</td>\n",
       "      <td>0</td>\n",
       "      <td>0</td>\n",
       "      <td>0</td>\n",
       "      <td>0</td>\n",
       "      <td>0</td>\n",
       "      <td>0</td>\n",
       "      <td>0</td>\n",
       "      <td>0</td>\n",
       "      <td>0</td>\n",
       "      <td>0</td>\n",
       "      <td>604</td>\n",
       "      <td>0</td>\n",
       "    </tr>\n",
       "    <tr>\n",
       "      <td>1002</td>\n",
       "      <td>0</td>\n",
       "      <td>0</td>\n",
       "      <td>0</td>\n",
       "      <td>0</td>\n",
       "      <td>0</td>\n",
       "      <td>0</td>\n",
       "      <td>438</td>\n",
       "      <td>975</td>\n",
       "      <td>265</td>\n",
       "      <td>0</td>\n",
       "      <td>635</td>\n",
       "      <td>543</td>\n",
       "    </tr>\n",
       "    <tr>\n",
       "      <td>1003</td>\n",
       "      <td>0</td>\n",
       "      <td>0</td>\n",
       "      <td>0</td>\n",
       "      <td>0</td>\n",
       "      <td>0</td>\n",
       "      <td>0</td>\n",
       "      <td>0</td>\n",
       "      <td>0</td>\n",
       "      <td>0</td>\n",
       "      <td>0</td>\n",
       "      <td>0</td>\n",
       "      <td>0</td>\n",
       "    </tr>\n",
       "    <tr>\n",
       "      <td>1004</td>\n",
       "      <td>0</td>\n",
       "      <td>0</td>\n",
       "      <td>0</td>\n",
       "      <td>0</td>\n",
       "      <td>0</td>\n",
       "      <td>0</td>\n",
       "      <td>0</td>\n",
       "      <td>0</td>\n",
       "      <td>0</td>\n",
       "      <td>0</td>\n",
       "      <td>0</td>\n",
       "      <td>0</td>\n",
       "    </tr>\n",
       "    <tr>\n",
       "      <td>1005</td>\n",
       "      <td>0</td>\n",
       "      <td>0</td>\n",
       "      <td>336</td>\n",
       "      <td>636</td>\n",
       "      <td>285</td>\n",
       "      <td>336</td>\n",
       "      <td>225</td>\n",
       "      <td>399</td>\n",
       "      <td>6</td>\n",
       "      <td>669</td>\n",
       "      <td>144</td>\n",
       "      <td>288</td>\n",
       "    </tr>\n",
       "    <tr>\n",
       "      <td>1006</td>\n",
       "      <td>0</td>\n",
       "      <td>0</td>\n",
       "      <td>381</td>\n",
       "      <td>0</td>\n",
       "      <td>0</td>\n",
       "      <td>0</td>\n",
       "      <td>907</td>\n",
       "      <td>775</td>\n",
       "      <td>36</td>\n",
       "      <td>852</td>\n",
       "      <td>0</td>\n",
       "      <td>613</td>\n",
       "    </tr>\n",
       "    <tr>\n",
       "      <td>1007</td>\n",
       "      <td>0</td>\n",
       "      <td>0</td>\n",
       "      <td>0</td>\n",
       "      <td>0</td>\n",
       "      <td>459</td>\n",
       "      <td>135</td>\n",
       "      <td>294</td>\n",
       "      <td>1048</td>\n",
       "      <td>465</td>\n",
       "      <td>0</td>\n",
       "      <td>442</td>\n",
       "      <td>0</td>\n",
       "    </tr>\n",
       "    <tr>\n",
       "      <td>1008</td>\n",
       "      <td>0</td>\n",
       "      <td>0</td>\n",
       "      <td>0</td>\n",
       "      <td>0</td>\n",
       "      <td>0</td>\n",
       "      <td>0</td>\n",
       "      <td>0</td>\n",
       "      <td>0</td>\n",
       "      <td>0</td>\n",
       "      <td>0</td>\n",
       "      <td>0</td>\n",
       "      <td>18</td>\n",
       "    </tr>\n",
       "    <tr>\n",
       "      <td>1009</td>\n",
       "      <td>0</td>\n",
       "      <td>0</td>\n",
       "      <td>0</td>\n",
       "      <td>0</td>\n",
       "      <td>0</td>\n",
       "      <td>142</td>\n",
       "      <td>1835</td>\n",
       "      <td>1637</td>\n",
       "      <td>1288</td>\n",
       "      <td>929</td>\n",
       "      <td>295</td>\n",
       "      <td>642</td>\n",
       "    </tr>\n",
       "  </tbody>\n",
       "</table>\n",
       "</div>"
      ],
      "text/plain": [
       "         01_January  02_February  03_March  04_April  05_May  06_June  \\\n",
       "user_id                                                                 \n",
       "1000              0            0         0         0       0        0   \n",
       "1001              0            0         0         0       0        0   \n",
       "1002              0            0         0         0       0        0   \n",
       "1003              0            0         0         0       0        0   \n",
       "1004              0            0         0         0       0        0   \n",
       "1005              0            0       336       636     285      336   \n",
       "1006              0            0       381         0       0        0   \n",
       "1007              0            0         0         0     459      135   \n",
       "1008              0            0         0         0       0        0   \n",
       "1009              0            0         0         0       0      142   \n",
       "\n",
       "         07_July  08_August  09_September  10_October  11_November  \\\n",
       "user_id                                                              \n",
       "1000           0          0             0           0            0   \n",
       "1001           0          0             0           0          604   \n",
       "1002         438        975           265           0          635   \n",
       "1003           0          0             0           0            0   \n",
       "1004           0          0             0           0            0   \n",
       "1005         225        399             6         669          144   \n",
       "1006         907        775            36         852            0   \n",
       "1007         294       1048           465           0          442   \n",
       "1008           0          0             0           0            0   \n",
       "1009        1835       1637          1288         929          295   \n",
       "\n",
       "         12_December  \n",
       "user_id               \n",
       "1000               0  \n",
       "1001               0  \n",
       "1002             543  \n",
       "1003               0  \n",
       "1004               0  \n",
       "1005             288  \n",
       "1006             613  \n",
       "1007               0  \n",
       "1008              18  \n",
       "1009             642  "
      ]
     },
     "execution_count": 38,
     "metadata": {},
     "output_type": "execute_result"
    }
   ],
   "source": [
    "#складываем полученные датафреймы по всем источникам прибыли\n",
    "overall_earnings = calls_earnings.set_index('user_id').add(internet_earnings.set_index('user_id'), fill_value=0)\n",
    "overall_earnings = overall_earnings.add(messages_earnings.set_index('user_id'), fill_value=0)\n",
    "overall_earnings = overall_earnings.sort_index(axis=0)\n",
    "\n",
    "#убираем из датафрейма ненужные столбцы, округляем в сторону повышения до рубля и преобразуем в целые числа\n",
    "overall_earnings = overall_earnings[\n",
    "    ['01_January',\n",
    "     '02_February',\n",
    "     '03_March',\n",
    "     '04_April',\n",
    "     '05_May',\n",
    "     '06_June',\n",
    "     '07_July',\n",
    "     '08_August',\n",
    "     '09_September',\n",
    "     '10_October',\n",
    "     '11_November',\n",
    "     '12_December']].apply(np.ceil).astype(int)\n",
    "\n",
    "#del overall_earnings['mb_per_month_included']\n",
    "overall_earnings.head(10)"
   ]
  },
  {
   "cell_type": "markdown",
   "metadata": {},
   "source": [
    "Мы получили датафрейм, где каждому идентификатору пользователя соответствует сумма дохода, полученная от него за использование дополнительных услуг, не включенных в тариф. \n",
    "\n",
    "Теперь нам необходимо добавить к этой сумме ежемесячную абонентскую плату за тариф. \n",
    "\n",
    "Так как мы удалили дополнительные столбцы нам необходимо: \n",
    "\n",
    "1. Добавить в полученную таблицу столбец с тарифным планом, которым пользуется абонент\n",
    "2. Так как абонент мог начать пользоваться услугами нашей компании не с начала года, необходимо учесть этот факт при заполнении суммы дохода от абонентской платы\n",
    "3. Также необходимо учесть тех людей, которые прекратили пользоваться услугами оператора в течение 2018 года\n",
    "\n",
    "Всеми необходимыми датами мы располагаем в исходных датасетах. Кромет того:\n",
    "\n",
    "1. У нас отсутствует информация о способе внесения абонентской платы: если она списывается равными долями в течение равных периодов, то в месяц присоединения абонента, либо в месяц его отключения сумма дохода за счет абонентской платы будет ниже\n",
    "2. Если списание абонентской платы производится единоразово по факту истечения некоего фиксированного временного отрезка, то для некоторых абонентов списание будет производиться со смещением (иногда значительным) от начала месяца\n",
    "\n",
    "В рамках поставленной задачи мы сделаем допущение, что это нюансы не имеют принципиального значения."
   ]
  },
  {
   "cell_type": "code",
   "execution_count": 39,
   "metadata": {},
   "outputs": [],
   "source": [
    "#дополняем датасет с базой пользователей дополнительными столбцами для проверки в функции учета абонентской платы\n",
    "users['reg_year'] = users['reg_date'].dt.year\n",
    "users['reg_month'] = users['reg_date'].dt.month\n",
    "users['churn_month'] = users['churn_date'].dt.month.fillna(0).astype(int) #укажем 0, если абонент все еще пользуется\n",
    "#связбю оператора, которого мы анализируем\n",
    "\n",
    "#проверяем, все ли абоненты зарегистрировались в 2018 году \n",
    "users.pivot_table(index='reg_year', values='user_id', aggfunc=['count'])\n",
    "\n",
    "#шаг1 - формируем таблицу с доходами на базе базы пользователей и полученного датафрейма с доходами\n",
    "#так мы получаем всю необходимую информацию в рамках 1 таблицы\n",
    "overall_earnings = users.join(overall_earnings, on='user_id')\n",
    "overall_earnings = overall_earnings[\n",
    "    ['user_id',\n",
    "     'reg_date',\n",
    "     'tariff',\n",
    "     'reg_year',\n",
    "     'reg_month',\n",
    "     'churn_month',\n",
    "     '01_January',\n",
    "     '02_February',\n",
    "     '03_March',\n",
    "     '04_April',\n",
    "     '05_May',\n",
    "     '06_June',\n",
    "     '07_July',\n",
    "     '08_August',\n",
    "     '09_September',\n",
    "     '10_October',\n",
    "     '11_November',\n",
    "     '12_December']]"
   ]
  },
  {
   "cell_type": "code",
   "execution_count": 40,
   "metadata": {},
   "outputs": [],
   "source": [
    "#шаг2 - создаем функцию для обработки датасета и дополнения его информация о доходе за счет абонентской платы\n",
    "\n",
    "def tariff_fee_add(row):\n",
    "    start_index = row['reg_month'] + 5 #стартовый иднекс для цикла, которым в строке мы заполняем значения\n",
    "    if row['churn_month'] > 0: #если месяц прекращения использования услуг отличен от нуля, то\n",
    "        end_index = row['churn_month'] + 6 #к нему мы прибавляем смещение и получаем конечный индекс \n",
    "    else: #иначе в качестве конечного индекса мы используем длину строки, с которой работаем\n",
    "        end_index = len(row) \n",
    "    if row['tariff'] == 'smart': #на базе значения в ячейке с тарифом, мы определяем значение локальной переменной\n",
    "        tariff_fee = 550         #tafiff_fee\n",
    "    else:\n",
    "        tariff_fee = 1950\n",
    "    for i in range(start_index, end_index): #далее для каждого значения в диапазоне ячеек строки мы плюсуем аб.плату\n",
    "        row[i] = row[i] + tariff_fee\n",
    "    return row"
   ]
  },
  {
   "cell_type": "code",
   "execution_count": 41,
   "metadata": {},
   "outputs": [
    {
     "data": {
      "text/html": [
       "<div>\n",
       "<style scoped>\n",
       "    .dataframe tbody tr th:only-of-type {\n",
       "        vertical-align: middle;\n",
       "    }\n",
       "\n",
       "    .dataframe tbody tr th {\n",
       "        vertical-align: top;\n",
       "    }\n",
       "\n",
       "    .dataframe thead th {\n",
       "        text-align: right;\n",
       "    }\n",
       "</style>\n",
       "<table border=\"1\" class=\"dataframe\">\n",
       "  <thead>\n",
       "    <tr style=\"text-align: right;\">\n",
       "      <th></th>\n",
       "      <th>user_id</th>\n",
       "      <th>reg_date</th>\n",
       "      <th>tariff</th>\n",
       "      <th>reg_year</th>\n",
       "      <th>reg_month</th>\n",
       "      <th>churn_month</th>\n",
       "      <th>01_January</th>\n",
       "      <th>02_February</th>\n",
       "      <th>03_March</th>\n",
       "      <th>04_April</th>\n",
       "      <th>05_May</th>\n",
       "      <th>06_June</th>\n",
       "      <th>07_July</th>\n",
       "      <th>08_August</th>\n",
       "      <th>09_September</th>\n",
       "      <th>10_October</th>\n",
       "      <th>11_November</th>\n",
       "      <th>12_December</th>\n",
       "    </tr>\n",
       "  </thead>\n",
       "  <tbody>\n",
       "    <tr>\n",
       "      <td>0</td>\n",
       "      <td>1000</td>\n",
       "      <td>2018-05-25</td>\n",
       "      <td>ultra</td>\n",
       "      <td>2018</td>\n",
       "      <td>5</td>\n",
       "      <td>0</td>\n",
       "      <td>0</td>\n",
       "      <td>0</td>\n",
       "      <td>0</td>\n",
       "      <td>0</td>\n",
       "      <td>1950</td>\n",
       "      <td>1950</td>\n",
       "      <td>1950</td>\n",
       "      <td>1950</td>\n",
       "      <td>1950</td>\n",
       "      <td>1950</td>\n",
       "      <td>1950</td>\n",
       "      <td>1950</td>\n",
       "    </tr>\n",
       "    <tr>\n",
       "      <td>1</td>\n",
       "      <td>1001</td>\n",
       "      <td>2018-11-01</td>\n",
       "      <td>smart</td>\n",
       "      <td>2018</td>\n",
       "      <td>11</td>\n",
       "      <td>0</td>\n",
       "      <td>0</td>\n",
       "      <td>0</td>\n",
       "      <td>0</td>\n",
       "      <td>0</td>\n",
       "      <td>0</td>\n",
       "      <td>0</td>\n",
       "      <td>0</td>\n",
       "      <td>0</td>\n",
       "      <td>0</td>\n",
       "      <td>0</td>\n",
       "      <td>1154</td>\n",
       "      <td>550</td>\n",
       "    </tr>\n",
       "    <tr>\n",
       "      <td>2</td>\n",
       "      <td>1002</td>\n",
       "      <td>2018-06-17</td>\n",
       "      <td>smart</td>\n",
       "      <td>2018</td>\n",
       "      <td>6</td>\n",
       "      <td>0</td>\n",
       "      <td>0</td>\n",
       "      <td>0</td>\n",
       "      <td>0</td>\n",
       "      <td>0</td>\n",
       "      <td>0</td>\n",
       "      <td>550</td>\n",
       "      <td>988</td>\n",
       "      <td>1525</td>\n",
       "      <td>815</td>\n",
       "      <td>550</td>\n",
       "      <td>1185</td>\n",
       "      <td>1093</td>\n",
       "    </tr>\n",
       "    <tr>\n",
       "      <td>3</td>\n",
       "      <td>1003</td>\n",
       "      <td>2018-08-17</td>\n",
       "      <td>ultra</td>\n",
       "      <td>2018</td>\n",
       "      <td>8</td>\n",
       "      <td>0</td>\n",
       "      <td>0</td>\n",
       "      <td>0</td>\n",
       "      <td>0</td>\n",
       "      <td>0</td>\n",
       "      <td>0</td>\n",
       "      <td>0</td>\n",
       "      <td>0</td>\n",
       "      <td>1950</td>\n",
       "      <td>1950</td>\n",
       "      <td>1950</td>\n",
       "      <td>1950</td>\n",
       "      <td>1950</td>\n",
       "    </tr>\n",
       "    <tr>\n",
       "      <td>4</td>\n",
       "      <td>1004</td>\n",
       "      <td>2018-05-14</td>\n",
       "      <td>ultra</td>\n",
       "      <td>2018</td>\n",
       "      <td>5</td>\n",
       "      <td>0</td>\n",
       "      <td>0</td>\n",
       "      <td>0</td>\n",
       "      <td>0</td>\n",
       "      <td>0</td>\n",
       "      <td>1950</td>\n",
       "      <td>1950</td>\n",
       "      <td>1950</td>\n",
       "      <td>1950</td>\n",
       "      <td>1950</td>\n",
       "      <td>1950</td>\n",
       "      <td>1950</td>\n",
       "      <td>1950</td>\n",
       "    </tr>\n",
       "    <tr>\n",
       "      <td>5</td>\n",
       "      <td>1005</td>\n",
       "      <td>2018-01-25</td>\n",
       "      <td>smart</td>\n",
       "      <td>2018</td>\n",
       "      <td>1</td>\n",
       "      <td>0</td>\n",
       "      <td>550</td>\n",
       "      <td>550</td>\n",
       "      <td>886</td>\n",
       "      <td>1186</td>\n",
       "      <td>835</td>\n",
       "      <td>886</td>\n",
       "      <td>775</td>\n",
       "      <td>949</td>\n",
       "      <td>556</td>\n",
       "      <td>1219</td>\n",
       "      <td>694</td>\n",
       "      <td>838</td>\n",
       "    </tr>\n",
       "    <tr>\n",
       "      <td>6</td>\n",
       "      <td>1006</td>\n",
       "      <td>2018-02-26</td>\n",
       "      <td>smart</td>\n",
       "      <td>2018</td>\n",
       "      <td>2</td>\n",
       "      <td>0</td>\n",
       "      <td>0</td>\n",
       "      <td>550</td>\n",
       "      <td>931</td>\n",
       "      <td>550</td>\n",
       "      <td>550</td>\n",
       "      <td>550</td>\n",
       "      <td>1457</td>\n",
       "      <td>1325</td>\n",
       "      <td>586</td>\n",
       "      <td>1402</td>\n",
       "      <td>550</td>\n",
       "      <td>1163</td>\n",
       "    </tr>\n",
       "    <tr>\n",
       "      <td>7</td>\n",
       "      <td>1007</td>\n",
       "      <td>2018-04-19</td>\n",
       "      <td>smart</td>\n",
       "      <td>2018</td>\n",
       "      <td>4</td>\n",
       "      <td>0</td>\n",
       "      <td>0</td>\n",
       "      <td>0</td>\n",
       "      <td>0</td>\n",
       "      <td>550</td>\n",
       "      <td>1009</td>\n",
       "      <td>685</td>\n",
       "      <td>844</td>\n",
       "      <td>1598</td>\n",
       "      <td>1015</td>\n",
       "      <td>550</td>\n",
       "      <td>992</td>\n",
       "      <td>550</td>\n",
       "    </tr>\n",
       "    <tr>\n",
       "      <td>8</td>\n",
       "      <td>1008</td>\n",
       "      <td>2018-12-19</td>\n",
       "      <td>smart</td>\n",
       "      <td>2018</td>\n",
       "      <td>12</td>\n",
       "      <td>0</td>\n",
       "      <td>0</td>\n",
       "      <td>0</td>\n",
       "      <td>0</td>\n",
       "      <td>0</td>\n",
       "      <td>0</td>\n",
       "      <td>0</td>\n",
       "      <td>0</td>\n",
       "      <td>0</td>\n",
       "      <td>0</td>\n",
       "      <td>0</td>\n",
       "      <td>0</td>\n",
       "      <td>568</td>\n",
       "    </tr>\n",
       "    <tr>\n",
       "      <td>9</td>\n",
       "      <td>1009</td>\n",
       "      <td>2018-03-22</td>\n",
       "      <td>smart</td>\n",
       "      <td>2018</td>\n",
       "      <td>3</td>\n",
       "      <td>0</td>\n",
       "      <td>0</td>\n",
       "      <td>0</td>\n",
       "      <td>550</td>\n",
       "      <td>550</td>\n",
       "      <td>550</td>\n",
       "      <td>692</td>\n",
       "      <td>2385</td>\n",
       "      <td>2187</td>\n",
       "      <td>1838</td>\n",
       "      <td>1479</td>\n",
       "      <td>845</td>\n",
       "      <td>1192</td>\n",
       "    </tr>\n",
       "  </tbody>\n",
       "</table>\n",
       "</div>"
      ],
      "text/plain": [
       "   user_id   reg_date tariff  reg_year  reg_month  churn_month  01_January  \\\n",
       "0     1000 2018-05-25  ultra      2018          5            0           0   \n",
       "1     1001 2018-11-01  smart      2018         11            0           0   \n",
       "2     1002 2018-06-17  smart      2018          6            0           0   \n",
       "3     1003 2018-08-17  ultra      2018          8            0           0   \n",
       "4     1004 2018-05-14  ultra      2018          5            0           0   \n",
       "5     1005 2018-01-25  smart      2018          1            0         550   \n",
       "6     1006 2018-02-26  smart      2018          2            0           0   \n",
       "7     1007 2018-04-19  smart      2018          4            0           0   \n",
       "8     1008 2018-12-19  smart      2018         12            0           0   \n",
       "9     1009 2018-03-22  smart      2018          3            0           0   \n",
       "\n",
       "   02_February  03_March  04_April  05_May  06_June  07_July  08_August  \\\n",
       "0            0         0         0    1950     1950     1950       1950   \n",
       "1            0         0         0       0        0        0          0   \n",
       "2            0         0         0       0      550      988       1525   \n",
       "3            0         0         0       0        0        0       1950   \n",
       "4            0         0         0    1950     1950     1950       1950   \n",
       "5          550       886      1186     835      886      775        949   \n",
       "6          550       931       550     550      550     1457       1325   \n",
       "7            0         0       550    1009      685      844       1598   \n",
       "8            0         0         0       0        0        0          0   \n",
       "9            0       550       550     550      692     2385       2187   \n",
       "\n",
       "   09_September  10_October  11_November  12_December  \n",
       "0          1950        1950         1950         1950  \n",
       "1             0           0         1154          550  \n",
       "2           815         550         1185         1093  \n",
       "3          1950        1950         1950         1950  \n",
       "4          1950        1950         1950         1950  \n",
       "5           556        1219          694          838  \n",
       "6           586        1402          550         1163  \n",
       "7          1015         550          992          550  \n",
       "8             0           0            0          568  \n",
       "9          1838        1479          845         1192  "
      ]
     },
     "execution_count": 41,
     "metadata": {},
     "output_type": "execute_result"
    }
   ],
   "source": [
    "overall_earnings = overall_earnings.apply(tariff_fee_add, axis=1)\n",
    "overall_earnings.head(10)"
   ]
  },
  {
   "cell_type": "markdown",
   "metadata": {},
   "source": [
    "Мы получили таблицу с общим уровнем дохода от каждого абонента с учетом абонентской платы и стоимости услуг, израсходованных свыше включенного в тарифный план объема. "
   ]
  },
  {
   "cell_type": "markdown",
   "metadata": {},
   "source": [
    "## Поведение абонентов"
   ]
  },
  {
   "cell_type": "markdown",
   "metadata": {},
   "source": [
    "Нам необходимо вычислить среднее количество израсходованных каждым абонентом минут, а также дисперсию и стандартное отклонение. Однако для разных абонентов период использования услуг связи будет разным в силу отличных дат подключения к оператору и, возможно, отключения. \n",
    "\n",
    "Если мы учтем нулевые значения, то сильно сместим центральную тенденцию влево, поэтому необходима функция, которая учтет разные периоды. \n",
    "\n",
    "При подготовке функции мы будем исходить из предположения о том, что для расчета параметров используются только значения больше нуля."
   ]
  },
  {
   "cell_type": "code",
   "execution_count": 42,
   "metadata": {},
   "outputs": [],
   "source": [
    "def statistics_calculator(row):\n",
    "    base = [] #формируем пустой список, который мы наполним значениями для анализа \n",
    "    for i in range (0, len(row)): #для каждой ячейки в строке смотрим значение, если больше нуля - добавляем в список\n",
    "        if row[i] > 0:\n",
    "            base.append(row[i])\n",
    "        else:\n",
    "            continue\n",
    "    row['mean'] = round(sum(base) / len(base), 1) #вычисляем среднее. Среднее будет равно значению, если у нас есть\n",
    "    #данные только по 1 месяцу\n",
    "    #далее нам надо понять, можем ли мы посчитать стандартное отклоенение и дисперсию\n",
    "    if len(base) > 1:\n",
    "        row['variance'] = round(statistics.variance(base), 1)\n",
    "        row['std_dev'] = round(statistics.stdev(base), 1)\n",
    "    else:\n",
    "        row['variance'] = 0\n",
    "        row['std_dev'] = 0\n",
    "    return row"
   ]
  },
  {
   "cell_type": "code",
   "execution_count": 43,
   "metadata": {},
   "outputs": [
    {
     "data": {
      "text/html": [
       "<div>\n",
       "<style scoped>\n",
       "    .dataframe tbody tr th:only-of-type {\n",
       "        vertical-align: middle;\n",
       "    }\n",
       "\n",
       "    .dataframe tbody tr th {\n",
       "        vertical-align: top;\n",
       "    }\n",
       "\n",
       "    .dataframe thead th {\n",
       "        text-align: right;\n",
       "    }\n",
       "</style>\n",
       "<table border=\"1\" class=\"dataframe\">\n",
       "  <thead>\n",
       "    <tr style=\"text-align: right;\">\n",
       "      <th></th>\n",
       "      <th>01_January</th>\n",
       "      <th>02_February</th>\n",
       "      <th>03_March</th>\n",
       "      <th>04_April</th>\n",
       "      <th>05_May</th>\n",
       "      <th>06_June</th>\n",
       "      <th>07_July</th>\n",
       "      <th>08_August</th>\n",
       "      <th>09_September</th>\n",
       "      <th>10_October</th>\n",
       "      <th>11_November</th>\n",
       "      <th>12_December</th>\n",
       "      <th>mean</th>\n",
       "      <th>variance</th>\n",
       "      <th>std_dev</th>\n",
       "    </tr>\n",
       "    <tr>\n",
       "      <th>user_id</th>\n",
       "      <th></th>\n",
       "      <th></th>\n",
       "      <th></th>\n",
       "      <th></th>\n",
       "      <th></th>\n",
       "      <th></th>\n",
       "      <th></th>\n",
       "      <th></th>\n",
       "      <th></th>\n",
       "      <th></th>\n",
       "      <th></th>\n",
       "      <th></th>\n",
       "      <th></th>\n",
       "      <th></th>\n",
       "      <th></th>\n",
       "    </tr>\n",
       "  </thead>\n",
       "  <tbody>\n",
       "    <tr>\n",
       "      <td>1000</td>\n",
       "      <td>0.0</td>\n",
       "      <td>0.0</td>\n",
       "      <td>0.0</td>\n",
       "      <td>0.0</td>\n",
       "      <td>159.0</td>\n",
       "      <td>172.0</td>\n",
       "      <td>340.0</td>\n",
       "      <td>408.0</td>\n",
       "      <td>466.0</td>\n",
       "      <td>350.0</td>\n",
       "      <td>338.0</td>\n",
       "      <td>333.0</td>\n",
       "      <td>320.8</td>\n",
       "      <td>11239.0</td>\n",
       "      <td>106.0</td>\n",
       "    </tr>\n",
       "    <tr>\n",
       "      <td>1001</td>\n",
       "      <td>0.0</td>\n",
       "      <td>0.0</td>\n",
       "      <td>0.0</td>\n",
       "      <td>0.0</td>\n",
       "      <td>0.0</td>\n",
       "      <td>0.0</td>\n",
       "      <td>0.0</td>\n",
       "      <td>0.0</td>\n",
       "      <td>0.0</td>\n",
       "      <td>0.0</td>\n",
       "      <td>430.0</td>\n",
       "      <td>414.0</td>\n",
       "      <td>422.0</td>\n",
       "      <td>128.0</td>\n",
       "      <td>11.3</td>\n",
       "    </tr>\n",
       "    <tr>\n",
       "      <td>1002</td>\n",
       "      <td>0.0</td>\n",
       "      <td>0.0</td>\n",
       "      <td>0.0</td>\n",
       "      <td>0.0</td>\n",
       "      <td>0.0</td>\n",
       "      <td>117.0</td>\n",
       "      <td>214.0</td>\n",
       "      <td>289.0</td>\n",
       "      <td>206.0</td>\n",
       "      <td>212.0</td>\n",
       "      <td>243.0</td>\n",
       "      <td>236.0</td>\n",
       "      <td>216.7</td>\n",
       "      <td>2729.0</td>\n",
       "      <td>52.2</td>\n",
       "    </tr>\n",
       "    <tr>\n",
       "      <td>1003</td>\n",
       "      <td>0.0</td>\n",
       "      <td>0.0</td>\n",
       "      <td>0.0</td>\n",
       "      <td>0.0</td>\n",
       "      <td>0.0</td>\n",
       "      <td>0.0</td>\n",
       "      <td>0.0</td>\n",
       "      <td>380.0</td>\n",
       "      <td>961.0</td>\n",
       "      <td>855.0</td>\n",
       "      <td>824.0</td>\n",
       "      <td>802.0</td>\n",
       "      <td>764.4</td>\n",
       "      <td>49897.0</td>\n",
       "      <td>223.4</td>\n",
       "    </tr>\n",
       "    <tr>\n",
       "      <td>1004</td>\n",
       "      <td>0.0</td>\n",
       "      <td>0.0</td>\n",
       "      <td>0.0</td>\n",
       "      <td>0.0</td>\n",
       "      <td>35.0</td>\n",
       "      <td>171.0</td>\n",
       "      <td>135.0</td>\n",
       "      <td>137.0</td>\n",
       "      <td>117.0</td>\n",
       "      <td>145.0</td>\n",
       "      <td>117.0</td>\n",
       "      <td>130.0</td>\n",
       "      <td>123.4</td>\n",
       "      <td>1570.0</td>\n",
       "      <td>39.6</td>\n",
       "    </tr>\n",
       "  </tbody>\n",
       "</table>\n",
       "</div>"
      ],
      "text/plain": [
       "         01_January  02_February  03_March  04_April  05_May  06_June  \\\n",
       "user_id                                                                 \n",
       "1000            0.0          0.0       0.0       0.0   159.0    172.0   \n",
       "1001            0.0          0.0       0.0       0.0     0.0      0.0   \n",
       "1002            0.0          0.0       0.0       0.0     0.0    117.0   \n",
       "1003            0.0          0.0       0.0       0.0     0.0      0.0   \n",
       "1004            0.0          0.0       0.0       0.0    35.0    171.0   \n",
       "\n",
       "         07_July  08_August  09_September  10_October  11_November  \\\n",
       "user_id                                                              \n",
       "1000       340.0      408.0         466.0       350.0        338.0   \n",
       "1001         0.0        0.0           0.0         0.0        430.0   \n",
       "1002       214.0      289.0         206.0       212.0        243.0   \n",
       "1003         0.0      380.0         961.0       855.0        824.0   \n",
       "1004       135.0      137.0         117.0       145.0        117.0   \n",
       "\n",
       "         12_December   mean  variance  std_dev  \n",
       "user_id                                         \n",
       "1000           333.0  320.8   11239.0    106.0  \n",
       "1001           414.0  422.0     128.0     11.3  \n",
       "1002           236.0  216.7    2729.0     52.2  \n",
       "1003           802.0  764.4   49897.0    223.4  \n",
       "1004           130.0  123.4    1570.0     39.6  "
      ]
     },
     "execution_count": 43,
     "metadata": {},
     "output_type": "execute_result"
    }
   ],
   "source": [
    "calls_statistics_duration = calls_statistics_duration.apply(statistics_calculator, axis=1)\n",
    "calls_statistics_duration.head()"
   ]
  },
  {
   "cell_type": "code",
   "execution_count": 44,
   "metadata": {},
   "outputs": [
    {
     "data": {
      "text/html": [
       "<div>\n",
       "<style scoped>\n",
       "    .dataframe tbody tr th:only-of-type {\n",
       "        vertical-align: middle;\n",
       "    }\n",
       "\n",
       "    .dataframe tbody tr th {\n",
       "        vertical-align: top;\n",
       "    }\n",
       "\n",
       "    .dataframe thead th {\n",
       "        text-align: right;\n",
       "    }\n",
       "</style>\n",
       "<table border=\"1\" class=\"dataframe\">\n",
       "  <thead>\n",
       "    <tr style=\"text-align: right;\">\n",
       "      <th></th>\n",
       "      <th>01_January</th>\n",
       "      <th>02_February</th>\n",
       "      <th>03_March</th>\n",
       "      <th>04_April</th>\n",
       "      <th>05_May</th>\n",
       "      <th>06_June</th>\n",
       "      <th>07_July</th>\n",
       "      <th>08_August</th>\n",
       "      <th>09_September</th>\n",
       "      <th>10_October</th>\n",
       "      <th>11_November</th>\n",
       "      <th>12_December</th>\n",
       "      <th>mean</th>\n",
       "      <th>variance</th>\n",
       "      <th>std_dev</th>\n",
       "    </tr>\n",
       "    <tr>\n",
       "      <th>user_id</th>\n",
       "      <th></th>\n",
       "      <th></th>\n",
       "      <th></th>\n",
       "      <th></th>\n",
       "      <th></th>\n",
       "      <th></th>\n",
       "      <th></th>\n",
       "      <th></th>\n",
       "      <th></th>\n",
       "      <th></th>\n",
       "      <th></th>\n",
       "      <th></th>\n",
       "      <th></th>\n",
       "      <th></th>\n",
       "      <th></th>\n",
       "    </tr>\n",
       "  </thead>\n",
       "  <tbody>\n",
       "    <tr>\n",
       "      <td>1000</td>\n",
       "      <td>0.0</td>\n",
       "      <td>0.0</td>\n",
       "      <td>0.0</td>\n",
       "      <td>0.0</td>\n",
       "      <td>2256.0</td>\n",
       "      <td>23257.0</td>\n",
       "      <td>14016.0</td>\n",
       "      <td>14070.0</td>\n",
       "      <td>14581.0</td>\n",
       "      <td>14717.0</td>\n",
       "      <td>14768.0</td>\n",
       "      <td>9827.0</td>\n",
       "      <td>13436.5</td>\n",
       "      <td>34276269.0</td>\n",
       "      <td>5854.6</td>\n",
       "    </tr>\n",
       "    <tr>\n",
       "      <td>1001</td>\n",
       "      <td>0.0</td>\n",
       "      <td>0.0</td>\n",
       "      <td>0.0</td>\n",
       "      <td>0.0</td>\n",
       "      <td>0.0</td>\n",
       "      <td>0.0</td>\n",
       "      <td>0.0</td>\n",
       "      <td>0.0</td>\n",
       "      <td>0.0</td>\n",
       "      <td>0.0</td>\n",
       "      <td>18452.0</td>\n",
       "      <td>14053.0</td>\n",
       "      <td>16252.5</td>\n",
       "      <td>9675600.0</td>\n",
       "      <td>3110.6</td>\n",
       "    </tr>\n",
       "    <tr>\n",
       "      <td>1002</td>\n",
       "      <td>0.0</td>\n",
       "      <td>0.0</td>\n",
       "      <td>0.0</td>\n",
       "      <td>0.0</td>\n",
       "      <td>0.0</td>\n",
       "      <td>10871.0</td>\n",
       "      <td>17601.0</td>\n",
       "      <td>20347.0</td>\n",
       "      <td>16712.0</td>\n",
       "      <td>13905.0</td>\n",
       "      <td>18610.0</td>\n",
       "      <td>18137.0</td>\n",
       "      <td>16597.6</td>\n",
       "      <td>10256907.0</td>\n",
       "      <td>3202.6</td>\n",
       "    </tr>\n",
       "    <tr>\n",
       "      <td>1003</td>\n",
       "      <td>0.0</td>\n",
       "      <td>0.0</td>\n",
       "      <td>0.0</td>\n",
       "      <td>0.0</td>\n",
       "      <td>0.0</td>\n",
       "      <td>0.0</td>\n",
       "      <td>0.0</td>\n",
       "      <td>8571.0</td>\n",
       "      <td>12479.0</td>\n",
       "      <td>14779.0</td>\n",
       "      <td>11368.0</td>\n",
       "      <td>10132.0</td>\n",
       "      <td>11465.8</td>\n",
       "      <td>5543080.0</td>\n",
       "      <td>2354.4</td>\n",
       "    </tr>\n",
       "    <tr>\n",
       "      <td>1004</td>\n",
       "      <td>0.0</td>\n",
       "      <td>0.0</td>\n",
       "      <td>0.0</td>\n",
       "      <td>0.0</td>\n",
       "      <td>13415.0</td>\n",
       "      <td>17619.0</td>\n",
       "      <td>22243.0</td>\n",
       "      <td>28607.0</td>\n",
       "      <td>15125.0</td>\n",
       "      <td>18494.0</td>\n",
       "      <td>15631.0</td>\n",
       "      <td>18038.0</td>\n",
       "      <td>18646.5</td>\n",
       "      <td>23208350.0</td>\n",
       "      <td>4817.5</td>\n",
       "    </tr>\n",
       "  </tbody>\n",
       "</table>\n",
       "</div>"
      ],
      "text/plain": [
       "         01_January  02_February  03_March  04_April   05_May  06_June  \\\n",
       "user_id                                                                  \n",
       "1000            0.0          0.0       0.0       0.0   2256.0  23257.0   \n",
       "1001            0.0          0.0       0.0       0.0      0.0      0.0   \n",
       "1002            0.0          0.0       0.0       0.0      0.0  10871.0   \n",
       "1003            0.0          0.0       0.0       0.0      0.0      0.0   \n",
       "1004            0.0          0.0       0.0       0.0  13415.0  17619.0   \n",
       "\n",
       "         07_July  08_August  09_September  10_October  11_November  \\\n",
       "user_id                                                              \n",
       "1000     14016.0    14070.0       14581.0     14717.0      14768.0   \n",
       "1001         0.0        0.0           0.0         0.0      18452.0   \n",
       "1002     17601.0    20347.0       16712.0     13905.0      18610.0   \n",
       "1003         0.0     8571.0       12479.0     14779.0      11368.0   \n",
       "1004     22243.0    28607.0       15125.0     18494.0      15631.0   \n",
       "\n",
       "         12_December     mean    variance  std_dev  \n",
       "user_id                                             \n",
       "1000          9827.0  13436.5  34276269.0   5854.6  \n",
       "1001         14053.0  16252.5   9675600.0   3110.6  \n",
       "1002         18137.0  16597.6  10256907.0   3202.6  \n",
       "1003         10132.0  11465.8   5543080.0   2354.4  \n",
       "1004         18038.0  18646.5  23208350.0   4817.5  "
      ]
     },
     "execution_count": 44,
     "metadata": {},
     "output_type": "execute_result"
    }
   ],
   "source": [
    "internet_statistics_mb = internet_statistics_mb.apply(statistics_calculator, axis=1)\n",
    "internet_statistics_mb.head()"
   ]
  },
  {
   "cell_type": "code",
   "execution_count": 45,
   "metadata": {},
   "outputs": [
    {
     "data": {
      "text/html": [
       "<div>\n",
       "<style scoped>\n",
       "    .dataframe tbody tr th:only-of-type {\n",
       "        vertical-align: middle;\n",
       "    }\n",
       "\n",
       "    .dataframe tbody tr th {\n",
       "        vertical-align: top;\n",
       "    }\n",
       "\n",
       "    .dataframe thead th {\n",
       "        text-align: right;\n",
       "    }\n",
       "</style>\n",
       "<table border=\"1\" class=\"dataframe\">\n",
       "  <thead>\n",
       "    <tr style=\"text-align: right;\">\n",
       "      <th></th>\n",
       "      <th>01_January</th>\n",
       "      <th>02_February</th>\n",
       "      <th>03_March</th>\n",
       "      <th>04_April</th>\n",
       "      <th>05_May</th>\n",
       "      <th>06_June</th>\n",
       "      <th>07_July</th>\n",
       "      <th>08_August</th>\n",
       "      <th>09_September</th>\n",
       "      <th>10_October</th>\n",
       "      <th>11_November</th>\n",
       "      <th>12_December</th>\n",
       "      <th>mean</th>\n",
       "      <th>variance</th>\n",
       "      <th>std_dev</th>\n",
       "    </tr>\n",
       "    <tr>\n",
       "      <th>user_id</th>\n",
       "      <th></th>\n",
       "      <th></th>\n",
       "      <th></th>\n",
       "      <th></th>\n",
       "      <th></th>\n",
       "      <th></th>\n",
       "      <th></th>\n",
       "      <th></th>\n",
       "      <th></th>\n",
       "      <th></th>\n",
       "      <th></th>\n",
       "      <th></th>\n",
       "      <th></th>\n",
       "      <th></th>\n",
       "      <th></th>\n",
       "    </tr>\n",
       "  </thead>\n",
       "  <tbody>\n",
       "    <tr>\n",
       "      <td>1000</td>\n",
       "      <td>0.0</td>\n",
       "      <td>0.0</td>\n",
       "      <td>0.0</td>\n",
       "      <td>0.0</td>\n",
       "      <td>22.0</td>\n",
       "      <td>60.0</td>\n",
       "      <td>75.0</td>\n",
       "      <td>81.0</td>\n",
       "      <td>57.0</td>\n",
       "      <td>73.0</td>\n",
       "      <td>58.0</td>\n",
       "      <td>70.0</td>\n",
       "      <td>62.0</td>\n",
       "      <td>337.0</td>\n",
       "      <td>18.4</td>\n",
       "    </tr>\n",
       "    <tr>\n",
       "      <td>1002</td>\n",
       "      <td>0.0</td>\n",
       "      <td>0.0</td>\n",
       "      <td>0.0</td>\n",
       "      <td>0.0</td>\n",
       "      <td>0.0</td>\n",
       "      <td>4.0</td>\n",
       "      <td>11.0</td>\n",
       "      <td>13.0</td>\n",
       "      <td>4.0</td>\n",
       "      <td>10.0</td>\n",
       "      <td>16.0</td>\n",
       "      <td>12.0</td>\n",
       "      <td>10.0</td>\n",
       "      <td>20.0</td>\n",
       "      <td>4.5</td>\n",
       "    </tr>\n",
       "    <tr>\n",
       "      <td>1003</td>\n",
       "      <td>0.0</td>\n",
       "      <td>0.0</td>\n",
       "      <td>0.0</td>\n",
       "      <td>0.0</td>\n",
       "      <td>0.0</td>\n",
       "      <td>0.0</td>\n",
       "      <td>0.0</td>\n",
       "      <td>37.0</td>\n",
       "      <td>91.0</td>\n",
       "      <td>83.0</td>\n",
       "      <td>94.0</td>\n",
       "      <td>75.0</td>\n",
       "      <td>76.0</td>\n",
       "      <td>530.0</td>\n",
       "      <td>23.0</td>\n",
       "    </tr>\n",
       "    <tr>\n",
       "      <td>1004</td>\n",
       "      <td>0.0</td>\n",
       "      <td>0.0</td>\n",
       "      <td>0.0</td>\n",
       "      <td>0.0</td>\n",
       "      <td>95.0</td>\n",
       "      <td>134.0</td>\n",
       "      <td>181.0</td>\n",
       "      <td>151.0</td>\n",
       "      <td>146.0</td>\n",
       "      <td>165.0</td>\n",
       "      <td>158.0</td>\n",
       "      <td>162.0</td>\n",
       "      <td>149.0</td>\n",
       "      <td>669.0</td>\n",
       "      <td>25.9</td>\n",
       "    </tr>\n",
       "    <tr>\n",
       "      <td>1005</td>\n",
       "      <td>7.0</td>\n",
       "      <td>38.0</td>\n",
       "      <td>56.0</td>\n",
       "      <td>41.0</td>\n",
       "      <td>42.0</td>\n",
       "      <td>47.0</td>\n",
       "      <td>56.0</td>\n",
       "      <td>64.0</td>\n",
       "      <td>52.0</td>\n",
       "      <td>44.0</td>\n",
       "      <td>51.0</td>\n",
       "      <td>54.0</td>\n",
       "      <td>46.0</td>\n",
       "      <td>207.0</td>\n",
       "      <td>14.4</td>\n",
       "    </tr>\n",
       "  </tbody>\n",
       "</table>\n",
       "</div>"
      ],
      "text/plain": [
       "         01_January  02_February  03_March  04_April  05_May  06_June  \\\n",
       "user_id                                                                 \n",
       "1000            0.0          0.0       0.0       0.0    22.0     60.0   \n",
       "1002            0.0          0.0       0.0       0.0     0.0      4.0   \n",
       "1003            0.0          0.0       0.0       0.0     0.0      0.0   \n",
       "1004            0.0          0.0       0.0       0.0    95.0    134.0   \n",
       "1005            7.0         38.0      56.0      41.0    42.0     47.0   \n",
       "\n",
       "         07_July  08_August  09_September  10_October  11_November  \\\n",
       "user_id                                                              \n",
       "1000        75.0       81.0          57.0        73.0         58.0   \n",
       "1002        11.0       13.0           4.0        10.0         16.0   \n",
       "1003         0.0       37.0          91.0        83.0         94.0   \n",
       "1004       181.0      151.0         146.0       165.0        158.0   \n",
       "1005        56.0       64.0          52.0        44.0         51.0   \n",
       "\n",
       "         12_December   mean  variance  std_dev  \n",
       "user_id                                         \n",
       "1000            70.0   62.0     337.0     18.4  \n",
       "1002            12.0   10.0      20.0      4.5  \n",
       "1003            75.0   76.0     530.0     23.0  \n",
       "1004           162.0  149.0     669.0     25.9  \n",
       "1005            54.0   46.0     207.0     14.4  "
      ]
     },
     "execution_count": 45,
     "metadata": {},
     "output_type": "execute_result"
    }
   ],
   "source": [
    "messages_statistics = messages_statistics.apply(statistics_calculator, axis=1)\n",
    "messages_statistics.head()"
   ]
  },
  {
   "cell_type": "markdown",
   "metadata": {},
   "source": [
    "Мы применили функцию `statistics_calculator` и дополнили датасеты со статистикой использования различных услуг цифрами мер центральной тенденции. "
   ]
  },
  {
   "cell_type": "markdown",
   "metadata": {},
   "source": [
    "### Голосовая связь"
   ]
  },
  {
   "cell_type": "code",
   "execution_count": 46,
   "metadata": {},
   "outputs": [
    {
     "data": {
      "text/plain": [
       "count     492.000000\n",
       "mean      457.514837\n",
       "std       196.616843\n",
       "min        15.100000\n",
       "25%       320.625000\n",
       "50%       446.700000\n",
       "75%       560.250000\n",
       "max      1179.400000\n",
       "Name: mean, dtype: float64"
      ]
     },
     "execution_count": 46,
     "metadata": {},
     "output_type": "execute_result"
    }
   ],
   "source": [
    "#посмотрим на агрегированные данные по столбцу со средним количеством минут в течение года для каждого абонента\n",
    "calls_statistics_duration['mean'].describe()"
   ]
  },
  {
   "cell_type": "code",
   "execution_count": 47,
   "metadata": {},
   "outputs": [
    {
     "data": {
      "image/png": "[encoded data removed]",
      "text/plain": [
       "<Figure size 1152x576 with 1 Axes>"
      ]
     },
     "metadata": {
      "needs_background": "light"
     },
     "output_type": "display_data"
    }
   ],
   "source": [
    "plt.figure(figsize=[16,8])\n",
    "plt.hist(x=calls_statistics_duration['mean'], bins=40, ec='black')\n",
    "plt.grid(axis='y', alpha=0.5)\n",
    "plt.xlabel('Среднее количество минут разговора',fontsize=12)\n",
    "plt.ylabel('Количество абонентов',fontsize=12)\n",
    "plt.title('Среднее количество минут разговора на 1 абонента', fontsize=15)\n",
    "plt.show()"
   ]
  },
  {
   "cell_type": "code",
   "execution_count": 48,
   "metadata": {},
   "outputs": [
    {
     "data": {
      "text/plain": [
       "count    492.000000\n",
       "mean     134.867276\n",
       "std      115.423483\n",
       "min        0.000000\n",
       "25%       67.500000\n",
       "50%      109.200000\n",
       "75%      159.450000\n",
       "max      956.700000\n",
       "Name: std_dev, dtype: float64"
      ]
     },
     "execution_count": 48,
     "metadata": {},
     "output_type": "execute_result"
    }
   ],
   "source": [
    "calls_statistics_duration['std_dev'].describe()"
   ]
  },
  {
   "cell_type": "code",
   "execution_count": 49,
   "metadata": {},
   "outputs": [
    {
     "data": {
      "image/png": "[encoded data removed]",
      "text/plain": [
       "<Figure size 1152x576 with 1 Axes>"
      ]
     },
     "metadata": {
      "needs_background": "light"
     },
     "output_type": "display_data"
    }
   ],
   "source": [
    "plt.figure(figsize=[16,8])\n",
    "plt.hist(x=calls_statistics_duration['std_dev'], bins=40, ec='black')\n",
    "plt.grid(axis='y', alpha=0.5)\n",
    "plt.xlabel('Величина отклонения',fontsize=12)\n",
    "plt.ylabel('Количество абонентов',fontsize=12)\n",
    "plt.title('Стандартное отклонение для количества минут разговора', fontsize=15)\n",
    "plt.show()"
   ]
  },
  {
   "cell_type": "markdown",
   "metadata": {},
   "source": [
    "<span style=\"text-decoration:underline\">Выводы по данным о количестве минут разговора, израсходованных абонентами:</span>\n",
    "\n",
    "1. Мы видим, что распределение среднего количества минут, которые использует абонент в течение года - нормальное: на гистограмме отчетливо видна мода распределения - где-то на отметке 470-490 минут в месяц, медиана и среднее значение очень близки друг к другу, что говорит нам об относительно небольшом размахе выборки и отсутствии явных смещений в ту или иную сторону\n",
    "\n",
    "2. В среднем абоненты тратят 458 минут разговоров в месяц, что вписывается в оплаченный лимит в рамках тарифа \"Smart\"\n",
    "\n",
    "3. 3/4 абонентов тратят незначительно больше 500 предоплаченных минут (561 минуту в месяц)\n",
    "\n",
    "4. Средняя величина стандартного отклонения для всей выборки - 135 минут\n",
    "\n",
    "5. Мы видим, что распределение пользователей по величине стандартного отклонения в меньшей степени похоже на нормальное - явно виден \"хвост\" из значений. Мы видим, что некоторая относительно небольшая группа пользователей пользуется услугами голосовой связи с меньшей регулярностью - частота падает ниже 20 значений в районе отметки около 230 минут. Отдельные редки значения встречаются в том числе и на отметках в 400, 600 и 800 минут "
   ]
  },
  {
   "cell_type": "code",
   "execution_count": 50,
   "metadata": {},
   "outputs": [],
   "source": [
    "#формируем сводную таблицу, в которой будем хранить средние значения по всем типам услуг с идентификаторами пользователей\n",
    "users_agg_statistics = users.join(calls_statistics_duration, on='user_id')[['user_id', 'tariff', 'mean', 'std_dev']]\n",
    "users_agg_statistics.columns=['user_id', 'tariff', 'mean_calls', 'std_calls']\n",
    "users_agg_statistics = users_agg_statistics.fillna(0)"
   ]
  },
  {
   "cell_type": "code",
   "execution_count": 51,
   "metadata": {},
   "outputs": [
    {
     "data": {
      "text/html": [
       "<div>\n",
       "<style scoped>\n",
       "    .dataframe tbody tr th:only-of-type {\n",
       "        vertical-align: middle;\n",
       "    }\n",
       "\n",
       "    .dataframe tbody tr th {\n",
       "        vertical-align: top;\n",
       "    }\n",
       "\n",
       "    .dataframe thead th {\n",
       "        text-align: right;\n",
       "    }\n",
       "</style>\n",
       "<table border=\"1\" class=\"dataframe\">\n",
       "  <thead>\n",
       "    <tr style=\"text-align: right;\">\n",
       "      <th></th>\n",
       "      <th>user_id</th>\n",
       "      <th>tariff</th>\n",
       "      <th>mean_calls</th>\n",
       "      <th>std_calls</th>\n",
       "    </tr>\n",
       "  </thead>\n",
       "  <tbody>\n",
       "    <tr>\n",
       "      <td>0</td>\n",
       "      <td>1000</td>\n",
       "      <td>ultra</td>\n",
       "      <td>320.8</td>\n",
       "      <td>106.0</td>\n",
       "    </tr>\n",
       "    <tr>\n",
       "      <td>1</td>\n",
       "      <td>1001</td>\n",
       "      <td>smart</td>\n",
       "      <td>422.0</td>\n",
       "      <td>11.3</td>\n",
       "    </tr>\n",
       "    <tr>\n",
       "      <td>2</td>\n",
       "      <td>1002</td>\n",
       "      <td>smart</td>\n",
       "      <td>216.7</td>\n",
       "      <td>52.2</td>\n",
       "    </tr>\n",
       "    <tr>\n",
       "      <td>3</td>\n",
       "      <td>1003</td>\n",
       "      <td>ultra</td>\n",
       "      <td>764.4</td>\n",
       "      <td>223.4</td>\n",
       "    </tr>\n",
       "    <tr>\n",
       "      <td>4</td>\n",
       "      <td>1004</td>\n",
       "      <td>ultra</td>\n",
       "      <td>123.4</td>\n",
       "      <td>39.6</td>\n",
       "    </tr>\n",
       "  </tbody>\n",
       "</table>\n",
       "</div>"
      ],
      "text/plain": [
       "   user_id tariff  mean_calls  std_calls\n",
       "0     1000  ultra       320.8      106.0\n",
       "1     1001  smart       422.0       11.3\n",
       "2     1002  smart       216.7       52.2\n",
       "3     1003  ultra       764.4      223.4\n",
       "4     1004  ultra       123.4       39.6"
      ]
     },
     "execution_count": 51,
     "metadata": {},
     "output_type": "execute_result"
    }
   ],
   "source": [
    "#пример таблицы с данными о среднем количестве израсходованных минут и стандартном отклонении\n",
    "users_agg_statistics.head()"
   ]
  },
  {
   "cell_type": "code",
   "execution_count": 52,
   "metadata": {},
   "outputs": [
    {
     "data": {
      "text/html": [
       "<div>\n",
       "<style scoped>\n",
       "    .dataframe tbody tr th:only-of-type {\n",
       "        vertical-align: middle;\n",
       "    }\n",
       "\n",
       "    .dataframe tbody tr th {\n",
       "        vertical-align: top;\n",
       "    }\n",
       "\n",
       "    .dataframe thead th {\n",
       "        text-align: right;\n",
       "    }\n",
       "</style>\n",
       "<table border=\"1\" class=\"dataframe\">\n",
       "  <thead>\n",
       "    <tr style=\"text-align: right;\">\n",
       "      <th></th>\n",
       "      <th>user_id</th>\n",
       "      <th>mean_calls</th>\n",
       "      <th>std_calls</th>\n",
       "    </tr>\n",
       "  </thead>\n",
       "  <tbody>\n",
       "    <tr>\n",
       "      <td>count</td>\n",
       "      <td>351.000000</td>\n",
       "      <td>351.000000</td>\n",
       "      <td>351.000000</td>\n",
       "    </tr>\n",
       "    <tr>\n",
       "      <td>mean</td>\n",
       "      <td>1244.133903</td>\n",
       "      <td>418.452137</td>\n",
       "      <td>124.383761</td>\n",
       "    </tr>\n",
       "    <tr>\n",
       "      <td>std</td>\n",
       "      <td>144.985228</td>\n",
       "      <td>146.515632</td>\n",
       "      <td>102.328375</td>\n",
       "    </tr>\n",
       "    <tr>\n",
       "      <td>min</td>\n",
       "      <td>1001.000000</td>\n",
       "      <td>0.000000</td>\n",
       "      <td>0.000000</td>\n",
       "    </tr>\n",
       "    <tr>\n",
       "      <td>25%</td>\n",
       "      <td>1120.000000</td>\n",
       "      <td>315.950000</td>\n",
       "      <td>68.650000</td>\n",
       "    </tr>\n",
       "    <tr>\n",
       "      <td>50%</td>\n",
       "      <td>1236.000000</td>\n",
       "      <td>424.900000</td>\n",
       "      <td>103.100000</td>\n",
       "    </tr>\n",
       "    <tr>\n",
       "      <td>75%</td>\n",
       "      <td>1371.500000</td>\n",
       "      <td>518.600000</td>\n",
       "      <td>150.600000</td>\n",
       "    </tr>\n",
       "    <tr>\n",
       "      <td>max</td>\n",
       "      <td>1499.000000</td>\n",
       "      <td>891.500000</td>\n",
       "      <td>768.600000</td>\n",
       "    </tr>\n",
       "  </tbody>\n",
       "</table>\n",
       "</div>"
      ],
      "text/plain": [
       "           user_id  mean_calls   std_calls\n",
       "count   351.000000  351.000000  351.000000\n",
       "mean   1244.133903  418.452137  124.383761\n",
       "std     144.985228  146.515632  102.328375\n",
       "min    1001.000000    0.000000    0.000000\n",
       "25%    1120.000000  315.950000   68.650000\n",
       "50%    1236.000000  424.900000  103.100000\n",
       "75%    1371.500000  518.600000  150.600000\n",
       "max    1499.000000  891.500000  768.600000"
      ]
     },
     "execution_count": 52,
     "metadata": {},
     "output_type": "execute_result"
    }
   ],
   "source": [
    "users_agg_statistics.loc[users_agg_statistics['tariff'] == 'smart'].describe()"
   ]
  },
  {
   "cell_type": "code",
   "execution_count": 53,
   "metadata": {},
   "outputs": [
    {
     "data": {
      "image/png": "[encoded data removed]",
      "text/plain": [
       "<Figure size 1152x576 with 1 Axes>"
      ]
     },
     "metadata": {
      "needs_background": "light"
     },
     "output_type": "display_data"
    }
   ],
   "source": [
    "plt.figure(figsize=[16,8])\n",
    "plt.hist(x=users_agg_statistics.loc[users_agg_statistics['tariff'] == 'smart', 'mean_calls'], bins=20, ec='black')\n",
    "plt.grid(axis='y', alpha=0.5)\n",
    "plt.xlabel('Среднее количество минут разговора',fontsize=12)\n",
    "plt.ylabel('Количество абонентов',fontsize=12)\n",
    "plt.title('Распределение абонентов тарифа \"Smart\" по среднему количеству минут разговора', fontsize=15)\n",
    "plt.show()"
   ]
  },
  {
   "cell_type": "code",
   "execution_count": 54,
   "metadata": {},
   "outputs": [
    {
     "data": {
      "text/plain": [
       "count    102.000000\n",
       "mean     591.771569\n",
       "std       68.481735\n",
       "min      501.000000\n",
       "25%      539.850000\n",
       "50%      577.200000\n",
       "75%      633.350000\n",
       "max      891.500000\n",
       "Name: mean_calls, dtype: float64"
      ]
     },
     "execution_count": 54,
     "metadata": {},
     "output_type": "execute_result"
    }
   ],
   "source": [
    "#Группа пользователей тарифа \"Smart\", в которой среднее количество израсходованных в месяц минут превышает\n",
    "#включенное в тарифный план предопределенное количество\n",
    "users_agg_statistics.loc[(users_agg_statistics['tariff'] == 'smart') &\\\n",
    "(users_agg_statistics['mean_calls'] > 500), 'mean_calls'].describe()"
   ]
  },
  {
   "cell_type": "code",
   "execution_count": 55,
   "metadata": {},
   "outputs": [
    {
     "data": {
      "text/html": [
       "<div>\n",
       "<style scoped>\n",
       "    .dataframe tbody tr th:only-of-type {\n",
       "        vertical-align: middle;\n",
       "    }\n",
       "\n",
       "    .dataframe tbody tr th {\n",
       "        vertical-align: top;\n",
       "    }\n",
       "\n",
       "    .dataframe thead th {\n",
       "        text-align: right;\n",
       "    }\n",
       "</style>\n",
       "<table border=\"1\" class=\"dataframe\">\n",
       "  <thead>\n",
       "    <tr style=\"text-align: right;\">\n",
       "      <th></th>\n",
       "      <th>user_id</th>\n",
       "      <th>mean_calls</th>\n",
       "      <th>std_calls</th>\n",
       "    </tr>\n",
       "  </thead>\n",
       "  <tbody>\n",
       "    <tr>\n",
       "      <td>count</td>\n",
       "      <td>149.000000</td>\n",
       "      <td>149.000000</td>\n",
       "      <td>149.000000</td>\n",
       "    </tr>\n",
       "    <tr>\n",
       "      <td>mean</td>\n",
       "      <td>1262.140940</td>\n",
       "      <td>524.970470</td>\n",
       "      <td>152.322148</td>\n",
       "    </tr>\n",
       "    <tr>\n",
       "      <td>std</td>\n",
       "      <td>142.976516</td>\n",
       "      <td>283.900887</td>\n",
       "      <td>140.895883</td>\n",
       "    </tr>\n",
       "    <tr>\n",
       "      <td>min</td>\n",
       "      <td>1000.000000</td>\n",
       "      <td>0.000000</td>\n",
       "      <td>0.000000</td>\n",
       "    </tr>\n",
       "    <tr>\n",
       "      <td>25%</td>\n",
       "      <td>1143.000000</td>\n",
       "      <td>320.800000</td>\n",
       "      <td>60.900000</td>\n",
       "    </tr>\n",
       "    <tr>\n",
       "      <td>50%</td>\n",
       "      <td>1276.000000</td>\n",
       "      <td>515.800000</td>\n",
       "      <td>119.700000</td>\n",
       "    </tr>\n",
       "    <tr>\n",
       "      <td>75%</td>\n",
       "      <td>1379.000000</td>\n",
       "      <td>746.300000</td>\n",
       "      <td>206.900000</td>\n",
       "    </tr>\n",
       "    <tr>\n",
       "      <td>max</td>\n",
       "      <td>1495.000000</td>\n",
       "      <td>1179.400000</td>\n",
       "      <td>956.700000</td>\n",
       "    </tr>\n",
       "  </tbody>\n",
       "</table>\n",
       "</div>"
      ],
      "text/plain": [
       "           user_id   mean_calls   std_calls\n",
       "count   149.000000   149.000000  149.000000\n",
       "mean   1262.140940   524.970470  152.322148\n",
       "std     142.976516   283.900887  140.895883\n",
       "min    1000.000000     0.000000    0.000000\n",
       "25%    1143.000000   320.800000   60.900000\n",
       "50%    1276.000000   515.800000  119.700000\n",
       "75%    1379.000000   746.300000  206.900000\n",
       "max    1495.000000  1179.400000  956.700000"
      ]
     },
     "execution_count": 55,
     "metadata": {},
     "output_type": "execute_result"
    }
   ],
   "source": [
    "users_agg_statistics.loc[users_agg_statistics['tariff'] == 'ultra'].describe()"
   ]
  },
  {
   "cell_type": "code",
   "execution_count": 56,
   "metadata": {},
   "outputs": [
    {
     "data": {
      "image/png": "[encoded data removed]",
      "text/plain": [
       "<Figure size 1152x576 with 1 Axes>"
      ]
     },
     "metadata": {
      "needs_background": "light"
     },
     "output_type": "display_data"
    }
   ],
   "source": [
    "plt.figure(figsize=[16,8])\n",
    "plt.hist(x=users_agg_statistics.loc[users_agg_statistics['tariff'] == 'ultra', 'mean_calls'], bins=20, ec='black')\n",
    "plt.grid(axis='y', alpha=0.5)\n",
    "plt.xlabel('Среднее количество минут разговора',fontsize=12)\n",
    "plt.ylabel('Количество абонентов',fontsize=12)\n",
    "plt.title('Распределение абонентов тарифа \"Ultra\" по среднему количеству минут разговора', fontsize=15)\n",
    "plt.show()"
   ]
  },
  {
   "cell_type": "code",
   "execution_count": 57,
   "metadata": {},
   "outputs": [],
   "source": [
    "#сформируем датасет, который используем для построения распределения средней продолжительности вызова \n",
    "calls_tariff_info = calls.merge(users.reset_index()[['user_id', 'tariff']], how='left', on=['user_id'])"
   ]
  },
  {
   "cell_type": "code",
   "execution_count": 58,
   "metadata": {},
   "outputs": [
    {
     "data": {
      "image/png": "[encoded data removed]",
      "text/plain": [
       "<Figure size 1152x576 with 1 Axes>"
      ]
     },
     "metadata": {
      "needs_background": "light"
     },
     "output_type": "display_data"
    }
   ],
   "source": [
    "plt.figure(figsize=[16,8])\n",
    "plt.hist(x=calls_tariff_info.loc[calls_tariff_info['tariff'] == 'smart', 'duration'], bins=35, ec='black')\n",
    "plt.grid(axis='y', alpha=0.5)\n",
    "plt.xlabel('Продолжительность вызова',fontsize=12)\n",
    "plt.ylabel('Количество вызовов',fontsize=12)\n",
    "plt.title('Распределение продолжительностей вызова в тарифе \"Smart\"', fontsize=15)\n",
    "plt.show()"
   ]
  },
  {
   "cell_type": "code",
   "execution_count": 59,
   "metadata": {},
   "outputs": [
    {
     "data": {
      "image/png": "[encoded data removed]",
      "text/plain": [
       "<Figure size 1152x576 with 1 Axes>"
      ]
     },
     "metadata": {
      "needs_background": "light"
     },
     "output_type": "display_data"
    }
   ],
   "source": [
    "plt.figure(figsize=[16,8])\n",
    "plt.hist(x=calls_tariff_info.loc[calls_tariff_info['tariff'] == 'ultra', 'duration'], bins=35, ec='black')\n",
    "plt.grid(axis='y', alpha=0.5)\n",
    "plt.xlabel('Продолжительность вызова',fontsize=12)\n",
    "plt.ylabel('Количество вызовов',fontsize=12)\n",
    "plt.title('Распределение продолжительностей вызова в тарифе \"Ultra\"', fontsize=15)\n",
    "plt.show()"
   ]
  },
  {
   "cell_type": "code",
   "execution_count": 60,
   "metadata": {},
   "outputs": [
    {
     "data": {
      "text/html": [
       "<div>\n",
       "<style scoped>\n",
       "    .dataframe tbody tr th:only-of-type {\n",
       "        vertical-align: middle;\n",
       "    }\n",
       "\n",
       "    .dataframe tbody tr th {\n",
       "        vertical-align: top;\n",
       "    }\n",
       "\n",
       "    .dataframe thead tr th {\n",
       "        text-align: left;\n",
       "    }\n",
       "</style>\n",
       "<table border=\"1\" class=\"dataframe\">\n",
       "  <thead>\n",
       "    <tr>\n",
       "      <th></th>\n",
       "      <th>tariff</th>\n",
       "      <th colspan=\"3\" halign=\"left\">duration</th>\n",
       "    </tr>\n",
       "    <tr>\n",
       "      <th></th>\n",
       "      <th></th>\n",
       "      <th>mean</th>\n",
       "      <th>var</th>\n",
       "      <th>std</th>\n",
       "    </tr>\n",
       "  </thead>\n",
       "  <tbody>\n",
       "    <tr>\n",
       "      <td>0</td>\n",
       "      <td>smart</td>\n",
       "      <td>8.90</td>\n",
       "      <td>28.61</td>\n",
       "      <td>5.35</td>\n",
       "    </tr>\n",
       "    <tr>\n",
       "      <td>1</td>\n",
       "      <td>ultra</td>\n",
       "      <td>8.89</td>\n",
       "      <td>28.76</td>\n",
       "      <td>5.36</td>\n",
       "    </tr>\n",
       "  </tbody>\n",
       "</table>\n",
       "</div>"
      ],
      "text/plain": [
       "  tariff duration             \n",
       "             mean    var   std\n",
       "0  smart     8.90  28.61  5.35\n",
       "1  ultra     8.89  28.76  5.36"
      ]
     },
     "execution_count": 60,
     "metadata": {},
     "output_type": "execute_result"
    }
   ],
   "source": [
    "#добавим характеристику каждого звонка в разрезе тарифного плана\n",
    "calls_tariff_info = calls_tariff_info.groupby('tariff').agg({'duration': ['mean', 'var', 'std']}).reset_index().round(2)\n",
    "calls_tariff_info"
   ]
  },
  {
   "cell_type": "markdown",
   "metadata": {},
   "source": [
    "<span style=\"text-decoration:underline\">Выводы для распределения абонентов по тарифным планам:</span>\n",
    "\n",
    "1. Пропорция абонентов тарифов Smart и Ultra в выборке равна 70/30 соответственно\n",
    "2. Среди пользователей тарифа Smart наблюдается группа тех, среднее значение израсходованных минут разговора в разрезе года для которых превышает включенные в тариф 500 минут (от 501 до 892 минут). Эта группа составляет около 29% от всех пользователей тарифа Smart в выборке или около 20% от всех пользователей в выборке. \n",
    "3. Отталкиваясь от средних значений количества минут, мы можем говорить, что в среднем абоненты тарифа Smart, которым не хватает голосового пакета, доплачивают от 3 до 1176 рублей в месяц за минуты разговоров\n",
    "4. Распределение в группе пользователей Smart в большей степени похоже на классическое нормальное распределение, что видно на гистограмме. \n",
    "5. Абоненты тарифа Ultra, напротив, зачастую не утилизируют в полной мере включенный голосовой пакет. Среднее количество используемых минут абонентами этого тарифного плана составляет около 125% от среднего количества минут, используемого абонентами тарифа Smart (525 минут и 419 минут соответственно). При этом максимальное значение среднего количества минут по году 1180 минут, что составляет около 39% от общего количества минут, предоставляемого абонентам тарифа Ultra ежемесячно. \n",
    "6. Средняя продолжительность голосового вызова сопоставима у обоих тарифных планов и находится у отметки в 9 минут. Также сопоставимо среднеквадратичное отклонение этой продолжительности. \n",
    "7. На гистограммах распределения продолжительностей вызовов видно, что формы распределения для двух тарифных планов сопоставимы. Мода распределения лежит на отметке в 1 минуту. Также для тарифа Smart наблюдается повышение относительно предыдущего значения на 19 минутах. Такое распределение графически подтверждает схожесть среднего и среднеквадратического отклонения для двух тарифных планов.  "
   ]
  },
  {
   "cell_type": "markdown",
   "metadata": {},
   "source": [
    "### Интернет"
   ]
  },
  {
   "cell_type": "code",
   "execution_count": 61,
   "metadata": {},
   "outputs": [],
   "source": [
    "#формируем сводную таблицу, в которой будем хранить средние значения по всем типам услуг с идентификаторами пользователей\n",
    "users_agg_statistics = users_agg_statistics.join(internet_statistics_mb, on='user_id')[\n",
    "    ['user_id',\n",
    "     'tariff',\n",
    "     'mean_calls',\n",
    "     'std_calls',\n",
    "     'mean',\n",
    "     'std_dev']]\n",
    "users_agg_statistics.columns=['user_id', 'tariff', 'mean_calls', 'std_calls', 'mean_mb', 'std_mb']\n",
    "users_agg_statistics = users_agg_statistics.fillna(0)\n",
    "#мы дополнили таблицу со сводными данными по типам связи информацией о количестве используемого абонентами трафика"
   ]
  },
  {
   "cell_type": "code",
   "execution_count": 62,
   "metadata": {},
   "outputs": [
    {
     "data": {
      "text/html": [
       "<div>\n",
       "<style scoped>\n",
       "    .dataframe tbody tr th:only-of-type {\n",
       "        vertical-align: middle;\n",
       "    }\n",
       "\n",
       "    .dataframe tbody tr th {\n",
       "        vertical-align: top;\n",
       "    }\n",
       "\n",
       "    .dataframe thead th {\n",
       "        text-align: right;\n",
       "    }\n",
       "</style>\n",
       "<table border=\"1\" class=\"dataframe\">\n",
       "  <thead>\n",
       "    <tr style=\"text-align: right;\">\n",
       "      <th></th>\n",
       "      <th>user_id</th>\n",
       "      <th>tariff</th>\n",
       "      <th>mean_calls</th>\n",
       "      <th>std_calls</th>\n",
       "      <th>mean_mb</th>\n",
       "      <th>std_mb</th>\n",
       "    </tr>\n",
       "  </thead>\n",
       "  <tbody>\n",
       "    <tr>\n",
       "      <td>0</td>\n",
       "      <td>1000</td>\n",
       "      <td>ultra</td>\n",
       "      <td>320.8</td>\n",
       "      <td>106.0</td>\n",
       "      <td>13436.5</td>\n",
       "      <td>5854.6</td>\n",
       "    </tr>\n",
       "    <tr>\n",
       "      <td>1</td>\n",
       "      <td>1001</td>\n",
       "      <td>smart</td>\n",
       "      <td>422.0</td>\n",
       "      <td>11.3</td>\n",
       "      <td>16252.5</td>\n",
       "      <td>3110.6</td>\n",
       "    </tr>\n",
       "    <tr>\n",
       "      <td>2</td>\n",
       "      <td>1002</td>\n",
       "      <td>smart</td>\n",
       "      <td>216.7</td>\n",
       "      <td>52.2</td>\n",
       "      <td>16597.6</td>\n",
       "      <td>3202.6</td>\n",
       "    </tr>\n",
       "    <tr>\n",
       "      <td>3</td>\n",
       "      <td>1003</td>\n",
       "      <td>ultra</td>\n",
       "      <td>764.4</td>\n",
       "      <td>223.4</td>\n",
       "      <td>11465.8</td>\n",
       "      <td>2354.4</td>\n",
       "    </tr>\n",
       "    <tr>\n",
       "      <td>4</td>\n",
       "      <td>1004</td>\n",
       "      <td>ultra</td>\n",
       "      <td>123.4</td>\n",
       "      <td>39.6</td>\n",
       "      <td>18646.5</td>\n",
       "      <td>4817.5</td>\n",
       "    </tr>\n",
       "  </tbody>\n",
       "</table>\n",
       "</div>"
      ],
      "text/plain": [
       "   user_id tariff  mean_calls  std_calls  mean_mb  std_mb\n",
       "0     1000  ultra       320.8      106.0  13436.5  5854.6\n",
       "1     1001  smart       422.0       11.3  16252.5  3110.6\n",
       "2     1002  smart       216.7       52.2  16597.6  3202.6\n",
       "3     1003  ultra       764.4      223.4  11465.8  2354.4\n",
       "4     1004  ultra       123.4       39.6  18646.5  4817.5"
      ]
     },
     "execution_count": 62,
     "metadata": {},
     "output_type": "execute_result"
    }
   ],
   "source": [
    "users_agg_statistics.head()"
   ]
  },
  {
   "cell_type": "code",
   "execution_count": 63,
   "metadata": {},
   "outputs": [
    {
     "data": {
      "text/html": [
       "<div>\n",
       "<style scoped>\n",
       "    .dataframe tbody tr th:only-of-type {\n",
       "        vertical-align: middle;\n",
       "    }\n",
       "\n",
       "    .dataframe tbody tr th {\n",
       "        vertical-align: top;\n",
       "    }\n",
       "\n",
       "    .dataframe thead th {\n",
       "        text-align: right;\n",
       "    }\n",
       "</style>\n",
       "<table border=\"1\" class=\"dataframe\">\n",
       "  <thead>\n",
       "    <tr style=\"text-align: right;\">\n",
       "      <th></th>\n",
       "      <th>user_id</th>\n",
       "      <th>mean_calls</th>\n",
       "      <th>std_calls</th>\n",
       "      <th>mean_mb</th>\n",
       "      <th>std_mb</th>\n",
       "    </tr>\n",
       "  </thead>\n",
       "  <tbody>\n",
       "    <tr>\n",
       "      <td>count</td>\n",
       "      <td>351.000000</td>\n",
       "      <td>351.000000</td>\n",
       "      <td>351.000000</td>\n",
       "      <td>351.000000</td>\n",
       "      <td>351.000000</td>\n",
       "    </tr>\n",
       "    <tr>\n",
       "      <td>mean</td>\n",
       "      <td>1244.133903</td>\n",
       "      <td>418.452137</td>\n",
       "      <td>124.383761</td>\n",
       "      <td>16190.746154</td>\n",
       "      <td>4736.557835</td>\n",
       "    </tr>\n",
       "    <tr>\n",
       "      <td>std</td>\n",
       "      <td>144.985228</td>\n",
       "      <td>146.515632</td>\n",
       "      <td>102.328375</td>\n",
       "      <td>3724.196096</td>\n",
       "      <td>3651.886281</td>\n",
       "    </tr>\n",
       "    <tr>\n",
       "      <td>min</td>\n",
       "      <td>1001.000000</td>\n",
       "      <td>0.000000</td>\n",
       "      <td>0.000000</td>\n",
       "      <td>0.000000</td>\n",
       "      <td>0.000000</td>\n",
       "    </tr>\n",
       "    <tr>\n",
       "      <td>25%</td>\n",
       "      <td>1120.000000</td>\n",
       "      <td>315.950000</td>\n",
       "      <td>68.650000</td>\n",
       "      <td>13943.350000</td>\n",
       "      <td>2646.700000</td>\n",
       "    </tr>\n",
       "    <tr>\n",
       "      <td>50%</td>\n",
       "      <td>1236.000000</td>\n",
       "      <td>424.900000</td>\n",
       "      <td>103.100000</td>\n",
       "      <td>16276.000000</td>\n",
       "      <td>4102.300000</td>\n",
       "    </tr>\n",
       "    <tr>\n",
       "      <td>75%</td>\n",
       "      <td>1371.500000</td>\n",
       "      <td>518.600000</td>\n",
       "      <td>150.600000</td>\n",
       "      <td>18649.100000</td>\n",
       "      <td>5885.900000</td>\n",
       "    </tr>\n",
       "    <tr>\n",
       "      <td>max</td>\n",
       "      <td>1499.000000</td>\n",
       "      <td>891.500000</td>\n",
       "      <td>768.600000</td>\n",
       "      <td>27321.000000</td>\n",
       "      <td>24304.700000</td>\n",
       "    </tr>\n",
       "  </tbody>\n",
       "</table>\n",
       "</div>"
      ],
      "text/plain": [
       "           user_id  mean_calls   std_calls       mean_mb        std_mb\n",
       "count   351.000000  351.000000  351.000000    351.000000    351.000000\n",
       "mean   1244.133903  418.452137  124.383761  16190.746154   4736.557835\n",
       "std     144.985228  146.515632  102.328375   3724.196096   3651.886281\n",
       "min    1001.000000    0.000000    0.000000      0.000000      0.000000\n",
       "25%    1120.000000  315.950000   68.650000  13943.350000   2646.700000\n",
       "50%    1236.000000  424.900000  103.100000  16276.000000   4102.300000\n",
       "75%    1371.500000  518.600000  150.600000  18649.100000   5885.900000\n",
       "max    1499.000000  891.500000  768.600000  27321.000000  24304.700000"
      ]
     },
     "execution_count": 63,
     "metadata": {},
     "output_type": "execute_result"
    }
   ],
   "source": [
    "#значения для тарифа Smart\n",
    "users_agg_statistics.loc[users_agg_statistics['tariff'] == 'smart'].describe()"
   ]
  },
  {
   "cell_type": "code",
   "execution_count": 64,
   "metadata": {},
   "outputs": [
    {
     "data": {
      "text/html": [
       "<div>\n",
       "<style scoped>\n",
       "    .dataframe tbody tr th:only-of-type {\n",
       "        vertical-align: middle;\n",
       "    }\n",
       "\n",
       "    .dataframe tbody tr th {\n",
       "        vertical-align: top;\n",
       "    }\n",
       "\n",
       "    .dataframe thead th {\n",
       "        text-align: right;\n",
       "    }\n",
       "</style>\n",
       "<table border=\"1\" class=\"dataframe\">\n",
       "  <thead>\n",
       "    <tr style=\"text-align: right;\">\n",
       "      <th></th>\n",
       "      <th>user_id</th>\n",
       "      <th>mean_calls</th>\n",
       "      <th>std_calls</th>\n",
       "      <th>mean_mb</th>\n",
       "      <th>std_mb</th>\n",
       "    </tr>\n",
       "  </thead>\n",
       "  <tbody>\n",
       "    <tr>\n",
       "      <td>count</td>\n",
       "      <td>149.000000</td>\n",
       "      <td>149.000000</td>\n",
       "      <td>149.000000</td>\n",
       "      <td>149.000000</td>\n",
       "      <td>149.000000</td>\n",
       "    </tr>\n",
       "    <tr>\n",
       "      <td>mean</td>\n",
       "      <td>1262.140940</td>\n",
       "      <td>524.970470</td>\n",
       "      <td>152.322148</td>\n",
       "      <td>19497.167114</td>\n",
       "      <td>5926.581879</td>\n",
       "    </tr>\n",
       "    <tr>\n",
       "      <td>std</td>\n",
       "      <td>142.976516</td>\n",
       "      <td>283.900887</td>\n",
       "      <td>140.895883</td>\n",
       "      <td>8436.401237</td>\n",
       "      <td>4279.993175</td>\n",
       "    </tr>\n",
       "    <tr>\n",
       "      <td>min</td>\n",
       "      <td>1000.000000</td>\n",
       "      <td>0.000000</td>\n",
       "      <td>0.000000</td>\n",
       "      <td>0.000000</td>\n",
       "      <td>0.000000</td>\n",
       "    </tr>\n",
       "    <tr>\n",
       "      <td>25%</td>\n",
       "      <td>1143.000000</td>\n",
       "      <td>320.800000</td>\n",
       "      <td>60.900000</td>\n",
       "      <td>13562.800000</td>\n",
       "      <td>3362.800000</td>\n",
       "    </tr>\n",
       "    <tr>\n",
       "      <td>50%</td>\n",
       "      <td>1276.000000</td>\n",
       "      <td>515.800000</td>\n",
       "      <td>119.700000</td>\n",
       "      <td>18846.300000</td>\n",
       "      <td>5060.100000</td>\n",
       "    </tr>\n",
       "    <tr>\n",
       "      <td>75%</td>\n",
       "      <td>1379.000000</td>\n",
       "      <td>746.300000</td>\n",
       "      <td>206.900000</td>\n",
       "      <td>25824.600000</td>\n",
       "      <td>7632.200000</td>\n",
       "    </tr>\n",
       "    <tr>\n",
       "      <td>max</td>\n",
       "      <td>1495.000000</td>\n",
       "      <td>1179.400000</td>\n",
       "      <td>956.700000</td>\n",
       "      <td>38502.000000</td>\n",
       "      <td>22100.600000</td>\n",
       "    </tr>\n",
       "  </tbody>\n",
       "</table>\n",
       "</div>"
      ],
      "text/plain": [
       "           user_id   mean_calls   std_calls       mean_mb        std_mb\n",
       "count   149.000000   149.000000  149.000000    149.000000    149.000000\n",
       "mean   1262.140940   524.970470  152.322148  19497.167114   5926.581879\n",
       "std     142.976516   283.900887  140.895883   8436.401237   4279.993175\n",
       "min    1000.000000     0.000000    0.000000      0.000000      0.000000\n",
       "25%    1143.000000   320.800000   60.900000  13562.800000   3362.800000\n",
       "50%    1276.000000   515.800000  119.700000  18846.300000   5060.100000\n",
       "75%    1379.000000   746.300000  206.900000  25824.600000   7632.200000\n",
       "max    1495.000000  1179.400000  956.700000  38502.000000  22100.600000"
      ]
     },
     "execution_count": 64,
     "metadata": {},
     "output_type": "execute_result"
    }
   ],
   "source": [
    "#значения для тарифа Ultra\n",
    "users_agg_statistics.loc[users_agg_statistics['tariff'] == 'ultra'].describe()"
   ]
  },
  {
   "cell_type": "code",
   "execution_count": 65,
   "metadata": {},
   "outputs": [
    {
     "data": {
      "image/png": "[encoded data removed]",
      "text/plain": [
       "<Figure size 1152x576 with 1 Axes>"
      ]
     },
     "metadata": {
      "needs_background": "light"
     },
     "output_type": "display_data"
    }
   ],
   "source": [
    "plt.figure(figsize=[16,8])\n",
    "plt.hist(x=users_agg_statistics.loc[users_agg_statistics['tariff'] == 'smart', 'mean_mb'], bins=20, ec='black')\n",
    "plt.grid(axis='y', alpha=0.5)\n",
    "plt.xlabel('Среднее количество трафика',fontsize=12)\n",
    "plt.ylabel('Количество абонентов',fontsize=12)\n",
    "plt.title('Распределение абонентов тарифа \"Smart\" по среднему количеству трафика', fontsize=15)\n",
    "plt.show()"
   ]
  },
  {
   "cell_type": "code",
   "execution_count": 66,
   "metadata": {},
   "outputs": [
    {
     "data": {
      "text/plain": [
       "count      218.000000\n",
       "mean     18427.649083\n",
       "std       2370.745181\n",
       "min      15369.600000\n",
       "25%      16504.450000\n",
       "50%      17971.600000\n",
       "75%      19665.300000\n",
       "max      27321.000000\n",
       "Name: mean_mb, dtype: float64"
      ]
     },
     "execution_count": 66,
     "metadata": {},
     "output_type": "execute_result"
    }
   ],
   "source": [
    "#Группа пользователей тарифа \"Smart\", в которой среднее количество израсходованных в месяц мегабайт превышает\n",
    "#включенное в тарифный план предопределенное количество\n",
    "users_agg_statistics.loc[(users_agg_statistics['tariff'] == 'smart') &\\\n",
    "(users_agg_statistics['mean_mb'] > 15360), 'mean_mb'].describe()"
   ]
  },
  {
   "cell_type": "code",
   "execution_count": 67,
   "metadata": {},
   "outputs": [
    {
     "data": {
      "image/png": "[encoded data removed]",
      "text/plain": [
       "<Figure size 1152x576 with 1 Axes>"
      ]
     },
     "metadata": {
      "needs_background": "light"
     },
     "output_type": "display_data"
    }
   ],
   "source": [
    "plt.figure(figsize=[16,8])\n",
    "plt.hist(x=users_agg_statistics.loc[users_agg_statistics['tariff'] == 'ultra', 'mean_mb'], bins=20, ec='black')\n",
    "plt.grid(axis='y', alpha=0.5)\n",
    "plt.xlabel('Среднее количество трафика',fontsize=12)\n",
    "plt.ylabel('Количество абонентов',fontsize=12)\n",
    "plt.title('Распределение абонентов тарифа \"Ultra\" по среднему количеству трафика', fontsize=15)\n",
    "plt.show()"
   ]
  },
  {
   "cell_type": "code",
   "execution_count": 68,
   "metadata": {},
   "outputs": [
    {
     "data": {
      "text/plain": [
       "count       17.000000\n",
       "mean     33437.194118\n",
       "std       2383.673355\n",
       "min      30768.300000\n",
       "25%      31684.700000\n",
       "50%      32491.700000\n",
       "75%      34747.300000\n",
       "max      38502.000000\n",
       "Name: mean_mb, dtype: float64"
      ]
     },
     "execution_count": 68,
     "metadata": {},
     "output_type": "execute_result"
    }
   ],
   "source": [
    "#Группа пользователей тарифа \"Ultra\", в которой среднее количество израсходованных в месяц мегабайт превышает\n",
    "#включенное в тарифный план предопределенное количество\n",
    "users_agg_statistics.loc[(users_agg_statistics['tariff'] == 'ultra') &\\\n",
    "(users_agg_statistics['mean_mb'] > 30720), 'mean_mb'].describe()"
   ]
  },
  {
   "cell_type": "code",
   "execution_count": 69,
   "metadata": {},
   "outputs": [],
   "source": [
    "internet_tariff_info = internet.merge(users.reset_index()[['user_id', 'tariff']], how='left', on=['user_id'])"
   ]
  },
  {
   "cell_type": "code",
   "execution_count": 70,
   "metadata": {},
   "outputs": [
    {
     "data": {
      "image/png": "[encoded data removed]",
      "text/plain": [
       "<Figure size 1152x576 with 1 Axes>"
      ]
     },
     "metadata": {
      "needs_background": "light"
     },
     "output_type": "display_data"
    }
   ],
   "source": [
    "plt.figure(figsize=[16,8])\n",
    "plt.hist(x=internet_tariff_info.loc[internet_tariff_info['tariff'] == 'smart', 'mb_used'], bins=16, ec='black')\n",
    "plt.grid(axis='y', alpha=0.5)\n",
    "plt.xlabel('Объем трафика в рамках 1 сессии',fontsize=12)\n",
    "plt.ylabel('Количество сессий',fontsize=12)\n",
    "plt.title('Распределение объема трафика в рамках 1 сессии в тарифе \"Smart\"', fontsize=15)\n",
    "plt.show()"
   ]
  },
  {
   "cell_type": "code",
   "execution_count": 71,
   "metadata": {},
   "outputs": [
    {
     "data": {
      "image/png": "[encoded data removed]",
      "text/plain": [
       "<Figure size 1152x576 with 1 Axes>"
      ]
     },
     "metadata": {
      "needs_background": "light"
     },
     "output_type": "display_data"
    }
   ],
   "source": [
    "plt.figure(figsize=[16,8])\n",
    "plt.hist(x=internet_tariff_info.loc[internet_tariff_info['tariff'] == 'ultra', 'mb_used'], bins=18, ec='black')\n",
    "plt.grid(axis='y', alpha=0.5)\n",
    "plt.xlabel('Объем трафика в рамках 1 сессии',fontsize=12)\n",
    "plt.ylabel('Количество сессий',fontsize=12)\n",
    "plt.title('Распределение объема трафика в рамках 1 сессии в тарифе \"Ultra\"', fontsize=15)\n",
    "plt.show()"
   ]
  },
  {
   "cell_type": "code",
   "execution_count": 72,
   "metadata": {},
   "outputs": [
    {
     "data": {
      "text/html": [
       "<div>\n",
       "<style scoped>\n",
       "    .dataframe tbody tr th:only-of-type {\n",
       "        vertical-align: middle;\n",
       "    }\n",
       "\n",
       "    .dataframe tbody tr th {\n",
       "        vertical-align: top;\n",
       "    }\n",
       "\n",
       "    .dataframe thead tr th {\n",
       "        text-align: left;\n",
       "    }\n",
       "</style>\n",
       "<table border=\"1\" class=\"dataframe\">\n",
       "  <thead>\n",
       "    <tr>\n",
       "      <th></th>\n",
       "      <th>tariff</th>\n",
       "      <th colspan=\"3\" halign=\"left\">mb_used</th>\n",
       "    </tr>\n",
       "    <tr>\n",
       "      <th></th>\n",
       "      <th></th>\n",
       "      <th>mean</th>\n",
       "      <th>var</th>\n",
       "      <th>std</th>\n",
       "    </tr>\n",
       "  </thead>\n",
       "  <tbody>\n",
       "    <tr>\n",
       "      <td>0</td>\n",
       "      <td>smart</td>\n",
       "      <td>386.01</td>\n",
       "      <td>56366.13</td>\n",
       "      <td>237.42</td>\n",
       "    </tr>\n",
       "    <tr>\n",
       "      <td>1</td>\n",
       "      <td>ultra</td>\n",
       "      <td>531.97</td>\n",
       "      <td>73228.08</td>\n",
       "      <td>270.61</td>\n",
       "    </tr>\n",
       "  </tbody>\n",
       "</table>\n",
       "</div>"
      ],
      "text/plain": [
       "  tariff mb_used                  \n",
       "            mean       var     std\n",
       "0  smart  386.01  56366.13  237.42\n",
       "1  ultra  531.97  73228.08  270.61"
      ]
     },
     "execution_count": 72,
     "metadata": {},
     "output_type": "execute_result"
    }
   ],
   "source": [
    "#добавим характеристику средней интернет-сессии в разрезе тарифа\n",
    "internet_tariff_info = internet.merge(users.reset_index()[['user_id', 'tariff']], how='left', on=['user_id']).groupby('tariff').agg({'mb_used': ['mean', 'var', 'std']}).reset_index().round(2)\n",
    "internet_tariff_info"
   ]
  },
  {
   "cell_type": "markdown",
   "metadata": {},
   "source": [
    "1. Мы видим, что медианное и среднее значение среднего количества мегабайт израсходованных пользователями тарифа Smart близки друг к другу (16276 и 16191 МБайт соответственно). Медиана больше среднего значения - из этого мы делаем предположение о более \"равномерном\" использовании включенного пакета минут. При этом, смещение среднего влево относительно медианы говорит о том, что среди пользователей тарифа Smart много тех, кто использует Интернет в минимальном объеме, либо не использует вообще - вероятно, эти пользователи предпочитают использовать другие услуги (например, голосовую связь). \n",
    "\n",
    "2. Распределение близко к \"классическому\" нормальному по виду гистограммы: ярко выраженная мода, высокая плотность значений в центральной части графика, выбросы небольшие с исчезающе малой плотностью \n",
    "\n",
    "3. В среднем, пользователи тарифа Smart используют 15.8 ГБайт трафика в месяц (около 105% от квоты), что равносильно среднемесячной доплате за Интернет в 160 рублей\n",
    "\n",
    "4. Диапазон значений для пользователей, которые в среднем используют больше трафика, чем включено в тариф находтся между отметками 15370 МБайт и 27321 МБайт, что означает среднемесячную доплату за Интернет для пользователей тарифа Smart в диапазоне от 1.95 до 2336.13 рублей. \n",
    "\n",
    "5. Количество пользователей, превышающих квоту на трафик больше того же количества пользователей, превышающих лимит на минуты звонков - 218 и 102 человека соответственно. Это около 62% от общего числа пользователей тарифа Smart в выборке. Гипотеза - спрос на услуги связи смещается в направлении Интернета в связи с развитием коммуникации. Проверить ее можно путем анализа аналогичной выборки с данными об устройстве, которым пользуется каждый из абонентов (вероятно, более \"продвинутая\" модель телефона будет означать высокую вероятность повышенного потребления трафика)\n",
    "\n",
    "6. Средняя величина отклонения для пользователей тарифа Smart меньше в абсолютных значениях, чем аналогичное значение для тарифа Ultra (4737 и 5927 МБайт соответственно) - скорее всего это обусловлено большей \"степенью свободы\" у пользователей дорогого тарифного плана (все таки лимит МБайт вдвое больше). \n",
    "\n",
    "7. Мы видим, что в случае обоих тарифов максимальная величина отклонения превышает 20 ГБайт - вероятно в этой группе находятся все те выбросы, которыю задают нам максимальную планку при оценке размаха выборки. Можно предположить, что резкий \"пиковый\" спрос на трафик у таких пользователей был обусловлен использованием мобильного интернета в некой разовой нестандартной ситуации - например, при отсутствии друго источника интернета дома или в офисе. \n",
    "\n",
    "8. Среднее количество израсходованный мегабайт трафика для пользователей тарифа Ultra - 19498 МБайт (около 64% от квоты). Медианное значение - 18847 МБайт. Мы видим, что в данном случае среднее смещено вправо относительно медианы - значит в выборке по тарифному плану Ultra больше \"высоких\" значений - вероятно, у спроса на дорогой тариф наблюдается прямая корреляция со спросом на трафик.\n",
    "\n",
    "9. Если сравнить потребление трафика с потреблением минут у пользователей тарифа Ultra, то мы увидим существенное отличие: в выборке есть пользователи, которые не только выбирают весь доступный лимит, но и уходят за его пределы - таких пользователей в выборке 17 (около 11% от пользователей тарифа Ultra).\n",
    "\n",
    "10. В среднем, пользователи дорогого тарифа переплачивают около 398.14 рублей за интернет. Диапазон переплат лежит между отметками 7.03 и 1139.94 рубля. \n",
    "\n",
    "11. Мы видим, что средняя продолжительность интернет-сессии у пользователей тарифного плана \"Ultra\" больше примерно на 146 МБайт при том, что и величина среднеквадратического отклонения также больше. \n",
    "\n",
    "12. По графикам распределения средних продолжительностей интернет-сессий для пользователей разных тарифных планов видно, что в отличие от голосовых вызовов, что пользователи пользуются интернетом по-разному: мода распределения для тарифа \"Smart\" находится в районе 300 МБайт и незначительно ей уступает корзина с сессиями в районе 400 МБайт. В это же время мода распределения трафика сессии для пользователей более дорогого тарифа уже в районе 550 МБайт. "
   ]
  },
  {
   "cell_type": "markdown",
   "metadata": {},
   "source": [
    "### Сообщения"
   ]
  },
  {
   "cell_type": "code",
   "execution_count": 73,
   "metadata": {},
   "outputs": [],
   "source": [
    "users_agg_statistics = users_agg_statistics.join(messages_statistics, on='user_id')[\n",
    "    ['user_id',\n",
    "     'tariff',\n",
    "     'mean_calls',\n",
    "     'std_calls',\n",
    "     'mean_mb',\n",
    "     'std_mb',\n",
    "     'mean',\n",
    "     'std_dev']]\n",
    "users_agg_statistics.columns=['user_id', 'tariff', 'mean_calls', 'std_calls', 'mean_mb', 'std_mb', 'mean_msg', 'std_msg']\n",
    "users_agg_statistics = users_agg_statistics.fillna(0)\n",
    "#мы дополнили таблицу со сводными данными по типам связи информацией о количестве сообщений"
   ]
  },
  {
   "cell_type": "code",
   "execution_count": 74,
   "metadata": {},
   "outputs": [
    {
     "data": {
      "text/html": [
       "<div>\n",
       "<style scoped>\n",
       "    .dataframe tbody tr th:only-of-type {\n",
       "        vertical-align: middle;\n",
       "    }\n",
       "\n",
       "    .dataframe tbody tr th {\n",
       "        vertical-align: top;\n",
       "    }\n",
       "\n",
       "    .dataframe thead th {\n",
       "        text-align: right;\n",
       "    }\n",
       "</style>\n",
       "<table border=\"1\" class=\"dataframe\">\n",
       "  <thead>\n",
       "    <tr style=\"text-align: right;\">\n",
       "      <th></th>\n",
       "      <th>user_id</th>\n",
       "      <th>tariff</th>\n",
       "      <th>mean_calls</th>\n",
       "      <th>std_calls</th>\n",
       "      <th>mean_mb</th>\n",
       "      <th>std_mb</th>\n",
       "      <th>mean_msg</th>\n",
       "      <th>std_msg</th>\n",
       "    </tr>\n",
       "  </thead>\n",
       "  <tbody>\n",
       "    <tr>\n",
       "      <td>0</td>\n",
       "      <td>1000</td>\n",
       "      <td>ultra</td>\n",
       "      <td>320.8</td>\n",
       "      <td>106.0</td>\n",
       "      <td>13436.5</td>\n",
       "      <td>5854.6</td>\n",
       "      <td>62.0</td>\n",
       "      <td>18.4</td>\n",
       "    </tr>\n",
       "    <tr>\n",
       "      <td>1</td>\n",
       "      <td>1001</td>\n",
       "      <td>smart</td>\n",
       "      <td>422.0</td>\n",
       "      <td>11.3</td>\n",
       "      <td>16252.5</td>\n",
       "      <td>3110.6</td>\n",
       "      <td>0.0</td>\n",
       "      <td>0.0</td>\n",
       "    </tr>\n",
       "    <tr>\n",
       "      <td>2</td>\n",
       "      <td>1002</td>\n",
       "      <td>smart</td>\n",
       "      <td>216.7</td>\n",
       "      <td>52.2</td>\n",
       "      <td>16597.6</td>\n",
       "      <td>3202.6</td>\n",
       "      <td>10.0</td>\n",
       "      <td>4.5</td>\n",
       "    </tr>\n",
       "    <tr>\n",
       "      <td>3</td>\n",
       "      <td>1003</td>\n",
       "      <td>ultra</td>\n",
       "      <td>764.4</td>\n",
       "      <td>223.4</td>\n",
       "      <td>11465.8</td>\n",
       "      <td>2354.4</td>\n",
       "      <td>76.0</td>\n",
       "      <td>23.0</td>\n",
       "    </tr>\n",
       "    <tr>\n",
       "      <td>4</td>\n",
       "      <td>1004</td>\n",
       "      <td>ultra</td>\n",
       "      <td>123.4</td>\n",
       "      <td>39.6</td>\n",
       "      <td>18646.5</td>\n",
       "      <td>4817.5</td>\n",
       "      <td>149.0</td>\n",
       "      <td>25.9</td>\n",
       "    </tr>\n",
       "  </tbody>\n",
       "</table>\n",
       "</div>"
      ],
      "text/plain": [
       "   user_id tariff  mean_calls  std_calls  mean_mb  std_mb  mean_msg  std_msg\n",
       "0     1000  ultra       320.8      106.0  13436.5  5854.6      62.0     18.4\n",
       "1     1001  smart       422.0       11.3  16252.5  3110.6       0.0      0.0\n",
       "2     1002  smart       216.7       52.2  16597.6  3202.6      10.0      4.5\n",
       "3     1003  ultra       764.4      223.4  11465.8  2354.4      76.0     23.0\n",
       "4     1004  ultra       123.4       39.6  18646.5  4817.5     149.0     25.9"
      ]
     },
     "execution_count": 74,
     "metadata": {},
     "output_type": "execute_result"
    }
   ],
   "source": [
    "users_agg_statistics.head()"
   ]
  },
  {
   "cell_type": "code",
   "execution_count": 75,
   "metadata": {},
   "outputs": [
    {
     "data": {
      "text/html": [
       "<div>\n",
       "<style scoped>\n",
       "    .dataframe tbody tr th:only-of-type {\n",
       "        vertical-align: middle;\n",
       "    }\n",
       "\n",
       "    .dataframe tbody tr th {\n",
       "        vertical-align: top;\n",
       "    }\n",
       "\n",
       "    .dataframe thead th {\n",
       "        text-align: right;\n",
       "    }\n",
       "</style>\n",
       "<table border=\"1\" class=\"dataframe\">\n",
       "  <thead>\n",
       "    <tr style=\"text-align: right;\">\n",
       "      <th></th>\n",
       "      <th>user_id</th>\n",
       "      <th>mean_calls</th>\n",
       "      <th>std_calls</th>\n",
       "      <th>mean_mb</th>\n",
       "      <th>std_mb</th>\n",
       "      <th>mean_msg</th>\n",
       "      <th>std_msg</th>\n",
       "    </tr>\n",
       "  </thead>\n",
       "  <tbody>\n",
       "    <tr>\n",
       "      <td>count</td>\n",
       "      <td>351.000000</td>\n",
       "      <td>351.000000</td>\n",
       "      <td>351.000000</td>\n",
       "      <td>351.000000</td>\n",
       "      <td>351.000000</td>\n",
       "      <td>351.000000</td>\n",
       "      <td>351.000000</td>\n",
       "    </tr>\n",
       "    <tr>\n",
       "      <td>mean</td>\n",
       "      <td>1244.133903</td>\n",
       "      <td>418.452137</td>\n",
       "      <td>124.383761</td>\n",
       "      <td>16190.746154</td>\n",
       "      <td>4736.557835</td>\n",
       "      <td>32.330199</td>\n",
       "      <td>8.700855</td>\n",
       "    </tr>\n",
       "    <tr>\n",
       "      <td>std</td>\n",
       "      <td>144.985228</td>\n",
       "      <td>146.515632</td>\n",
       "      <td>102.328375</td>\n",
       "      <td>3724.196096</td>\n",
       "      <td>3651.886281</td>\n",
       "      <td>26.478608</td>\n",
       "      <td>9.513084</td>\n",
       "    </tr>\n",
       "    <tr>\n",
       "      <td>min</td>\n",
       "      <td>1001.000000</td>\n",
       "      <td>0.000000</td>\n",
       "      <td>0.000000</td>\n",
       "      <td>0.000000</td>\n",
       "      <td>0.000000</td>\n",
       "      <td>0.000000</td>\n",
       "      <td>0.000000</td>\n",
       "    </tr>\n",
       "    <tr>\n",
       "      <td>25%</td>\n",
       "      <td>1120.000000</td>\n",
       "      <td>315.950000</td>\n",
       "      <td>68.650000</td>\n",
       "      <td>13943.350000</td>\n",
       "      <td>2646.700000</td>\n",
       "      <td>11.000000</td>\n",
       "      <td>1.400000</td>\n",
       "    </tr>\n",
       "    <tr>\n",
       "      <td>50%</td>\n",
       "      <td>1236.000000</td>\n",
       "      <td>424.900000</td>\n",
       "      <td>103.100000</td>\n",
       "      <td>16276.000000</td>\n",
       "      <td>4102.300000</td>\n",
       "      <td>27.500000</td>\n",
       "      <td>6.300000</td>\n",
       "    </tr>\n",
       "    <tr>\n",
       "      <td>75%</td>\n",
       "      <td>1371.500000</td>\n",
       "      <td>518.600000</td>\n",
       "      <td>150.600000</td>\n",
       "      <td>18649.100000</td>\n",
       "      <td>5885.900000</td>\n",
       "      <td>48.000000</td>\n",
       "      <td>12.700000</td>\n",
       "    </tr>\n",
       "    <tr>\n",
       "      <td>max</td>\n",
       "      <td>1499.000000</td>\n",
       "      <td>891.500000</td>\n",
       "      <td>768.600000</td>\n",
       "      <td>27321.000000</td>\n",
       "      <td>24304.700000</td>\n",
       "      <td>118.000000</td>\n",
       "      <td>54.600000</td>\n",
       "    </tr>\n",
       "  </tbody>\n",
       "</table>\n",
       "</div>"
      ],
      "text/plain": [
       "           user_id  mean_calls   std_calls       mean_mb        std_mb  \\\n",
       "count   351.000000  351.000000  351.000000    351.000000    351.000000   \n",
       "mean   1244.133903  418.452137  124.383761  16190.746154   4736.557835   \n",
       "std     144.985228  146.515632  102.328375   3724.196096   3651.886281   \n",
       "min    1001.000000    0.000000    0.000000      0.000000      0.000000   \n",
       "25%    1120.000000  315.950000   68.650000  13943.350000   2646.700000   \n",
       "50%    1236.000000  424.900000  103.100000  16276.000000   4102.300000   \n",
       "75%    1371.500000  518.600000  150.600000  18649.100000   5885.900000   \n",
       "max    1499.000000  891.500000  768.600000  27321.000000  24304.700000   \n",
       "\n",
       "         mean_msg     std_msg  \n",
       "count  351.000000  351.000000  \n",
       "mean    32.330199    8.700855  \n",
       "std     26.478608    9.513084  \n",
       "min      0.000000    0.000000  \n",
       "25%     11.000000    1.400000  \n",
       "50%     27.500000    6.300000  \n",
       "75%     48.000000   12.700000  \n",
       "max    118.000000   54.600000  "
      ]
     },
     "execution_count": 75,
     "metadata": {},
     "output_type": "execute_result"
    }
   ],
   "source": [
    "users_agg_statistics.loc[users_agg_statistics['tariff'] == 'smart'].describe()"
   ]
  },
  {
   "cell_type": "code",
   "execution_count": 76,
   "metadata": {},
   "outputs": [
    {
     "data": {
      "text/html": [
       "<div>\n",
       "<style scoped>\n",
       "    .dataframe tbody tr th:only-of-type {\n",
       "        vertical-align: middle;\n",
       "    }\n",
       "\n",
       "    .dataframe tbody tr th {\n",
       "        vertical-align: top;\n",
       "    }\n",
       "\n",
       "    .dataframe thead th {\n",
       "        text-align: right;\n",
       "    }\n",
       "</style>\n",
       "<table border=\"1\" class=\"dataframe\">\n",
       "  <thead>\n",
       "    <tr style=\"text-align: right;\">\n",
       "      <th></th>\n",
       "      <th>user_id</th>\n",
       "      <th>mean_calls</th>\n",
       "      <th>std_calls</th>\n",
       "      <th>mean_mb</th>\n",
       "      <th>std_mb</th>\n",
       "      <th>mean_msg</th>\n",
       "      <th>std_msg</th>\n",
       "    </tr>\n",
       "  </thead>\n",
       "  <tbody>\n",
       "    <tr>\n",
       "      <td>count</td>\n",
       "      <td>149.000000</td>\n",
       "      <td>149.000000</td>\n",
       "      <td>149.000000</td>\n",
       "      <td>149.000000</td>\n",
       "      <td>149.000000</td>\n",
       "      <td>149.000000</td>\n",
       "      <td>149.000000</td>\n",
       "    </tr>\n",
       "    <tr>\n",
       "      <td>mean</td>\n",
       "      <td>1262.140940</td>\n",
       "      <td>524.970470</td>\n",
       "      <td>152.322148</td>\n",
       "      <td>19497.167114</td>\n",
       "      <td>5926.581879</td>\n",
       "      <td>53.722819</td>\n",
       "      <td>14.159732</td>\n",
       "    </tr>\n",
       "    <tr>\n",
       "      <td>std</td>\n",
       "      <td>142.976516</td>\n",
       "      <td>283.900887</td>\n",
       "      <td>140.895883</td>\n",
       "      <td>8436.401237</td>\n",
       "      <td>4279.993175</td>\n",
       "      <td>46.374823</td>\n",
       "      <td>15.501425</td>\n",
       "    </tr>\n",
       "    <tr>\n",
       "      <td>min</td>\n",
       "      <td>1000.000000</td>\n",
       "      <td>0.000000</td>\n",
       "      <td>0.000000</td>\n",
       "      <td>0.000000</td>\n",
       "      <td>0.000000</td>\n",
       "      <td>0.000000</td>\n",
       "      <td>0.000000</td>\n",
       "    </tr>\n",
       "    <tr>\n",
       "      <td>25%</td>\n",
       "      <td>1143.000000</td>\n",
       "      <td>320.800000</td>\n",
       "      <td>60.900000</td>\n",
       "      <td>13562.800000</td>\n",
       "      <td>3362.800000</td>\n",
       "      <td>18.000000</td>\n",
       "      <td>2.400000</td>\n",
       "    </tr>\n",
       "    <tr>\n",
       "      <td>50%</td>\n",
       "      <td>1276.000000</td>\n",
       "      <td>515.800000</td>\n",
       "      <td>119.700000</td>\n",
       "      <td>18846.300000</td>\n",
       "      <td>5060.100000</td>\n",
       "      <td>45.000000</td>\n",
       "      <td>9.100000</td>\n",
       "    </tr>\n",
       "    <tr>\n",
       "      <td>75%</td>\n",
       "      <td>1379.000000</td>\n",
       "      <td>746.300000</td>\n",
       "      <td>206.900000</td>\n",
       "      <td>25824.600000</td>\n",
       "      <td>7632.200000</td>\n",
       "      <td>84.000000</td>\n",
       "      <td>21.000000</td>\n",
       "    </tr>\n",
       "    <tr>\n",
       "      <td>max</td>\n",
       "      <td>1495.000000</td>\n",
       "      <td>1179.400000</td>\n",
       "      <td>956.700000</td>\n",
       "      <td>38502.000000</td>\n",
       "      <td>22100.600000</td>\n",
       "      <td>192.000000</td>\n",
       "      <td>81.900000</td>\n",
       "    </tr>\n",
       "  </tbody>\n",
       "</table>\n",
       "</div>"
      ],
      "text/plain": [
       "           user_id   mean_calls   std_calls       mean_mb        std_mb  \\\n",
       "count   149.000000   149.000000  149.000000    149.000000    149.000000   \n",
       "mean   1262.140940   524.970470  152.322148  19497.167114   5926.581879   \n",
       "std     142.976516   283.900887  140.895883   8436.401237   4279.993175   \n",
       "min    1000.000000     0.000000    0.000000      0.000000      0.000000   \n",
       "25%    1143.000000   320.800000   60.900000  13562.800000   3362.800000   \n",
       "50%    1276.000000   515.800000  119.700000  18846.300000   5060.100000   \n",
       "75%    1379.000000   746.300000  206.900000  25824.600000   7632.200000   \n",
       "max    1495.000000  1179.400000  956.700000  38502.000000  22100.600000   \n",
       "\n",
       "         mean_msg     std_msg  \n",
       "count  149.000000  149.000000  \n",
       "mean    53.722819   14.159732  \n",
       "std     46.374823   15.501425  \n",
       "min      0.000000    0.000000  \n",
       "25%     18.000000    2.400000  \n",
       "50%     45.000000    9.100000  \n",
       "75%     84.000000   21.000000  \n",
       "max    192.000000   81.900000  "
      ]
     },
     "execution_count": 76,
     "metadata": {},
     "output_type": "execute_result"
    }
   ],
   "source": [
    "users_agg_statistics.loc[users_agg_statistics['tariff'] == 'ultra'].describe()"
   ]
  },
  {
   "cell_type": "code",
   "execution_count": 77,
   "metadata": {},
   "outputs": [
    {
     "data": {
      "image/png": "[encoded data removed]",
      "text/plain": [
       "<Figure size 1152x576 with 1 Axes>"
      ]
     },
     "metadata": {
      "needs_background": "light"
     },
     "output_type": "display_data"
    }
   ],
   "source": [
    "plt.figure(figsize=[16,8])\n",
    "plt.hist(x=users_agg_statistics.loc[users_agg_statistics['tariff'] == 'smart', 'mean_msg'], bins=20, ec='black')\n",
    "plt.grid(axis='y', alpha=0.5)\n",
    "plt.xlabel('Среднее количество сообщений',fontsize=12)\n",
    "plt.ylabel('Количество абонентов',fontsize=12)\n",
    "plt.title('Распределение абонентов тарифа \"Smart\" по среднему количеству сообщений', fontsize=15)\n",
    "plt.show()"
   ]
  },
  {
   "cell_type": "code",
   "execution_count": 78,
   "metadata": {},
   "outputs": [
    {
     "data": {
      "image/png": "[encoded data removed]",
      "text/plain": [
       "<Figure size 1152x576 with 1 Axes>"
      ]
     },
     "metadata": {
      "needs_background": "light"
     },
     "output_type": "display_data"
    }
   ],
   "source": [
    "plt.figure(figsize=[16,8])\n",
    "plt.hist(x=users_agg_statistics.loc[users_agg_statistics['tariff'] == 'ultra', 'mean_msg'], bins=20, ec='black')\n",
    "plt.grid(axis='y', alpha=0.5)\n",
    "plt.xlabel('Среднее количество сообщений',fontsize=12)\n",
    "plt.ylabel('Количество абонентов',fontsize=12)\n",
    "plt.title('Распределение абонентов тарифа \"Ultra\" по среднему количеству сообщений', fontsize=15)\n",
    "plt.show()"
   ]
  },
  {
   "cell_type": "code",
   "execution_count": 79,
   "metadata": {},
   "outputs": [
    {
     "data": {
      "text/html": [
       "<div>\n",
       "<style scoped>\n",
       "    .dataframe tbody tr th:only-of-type {\n",
       "        vertical-align: middle;\n",
       "    }\n",
       "\n",
       "    .dataframe tbody tr th {\n",
       "        vertical-align: top;\n",
       "    }\n",
       "\n",
       "    .dataframe thead th {\n",
       "        text-align: right;\n",
       "    }\n",
       "</style>\n",
       "<table border=\"1\" class=\"dataframe\">\n",
       "  <thead>\n",
       "    <tr style=\"text-align: right;\">\n",
       "      <th></th>\n",
       "      <th>user_id</th>\n",
       "      <th>mean_calls</th>\n",
       "      <th>std_calls</th>\n",
       "      <th>mean_mb</th>\n",
       "      <th>std_mb</th>\n",
       "      <th>mean_msg</th>\n",
       "      <th>std_msg</th>\n",
       "    </tr>\n",
       "  </thead>\n",
       "  <tbody>\n",
       "    <tr>\n",
       "      <td>count</td>\n",
       "      <td>80.000000</td>\n",
       "      <td>80.000000</td>\n",
       "      <td>80.00000</td>\n",
       "      <td>80.000000</td>\n",
       "      <td>80.000000</td>\n",
       "      <td>80.000000</td>\n",
       "      <td>80.000000</td>\n",
       "    </tr>\n",
       "    <tr>\n",
       "      <td>mean</td>\n",
       "      <td>1251.900000</td>\n",
       "      <td>444.673750</td>\n",
       "      <td>114.55625</td>\n",
       "      <td>16282.621250</td>\n",
       "      <td>4395.401250</td>\n",
       "      <td>71.452500</td>\n",
       "      <td>17.040000</td>\n",
       "    </tr>\n",
       "    <tr>\n",
       "      <td>std</td>\n",
       "      <td>147.194145</td>\n",
       "      <td>133.280529</td>\n",
       "      <td>81.58582</td>\n",
       "      <td>3639.777125</td>\n",
       "      <td>3439.673325</td>\n",
       "      <td>15.691899</td>\n",
       "      <td>11.650323</td>\n",
       "    </tr>\n",
       "    <tr>\n",
       "      <td>min</td>\n",
       "      <td>1008.000000</td>\n",
       "      <td>192.500000</td>\n",
       "      <td>0.00000</td>\n",
       "      <td>5391.200000</td>\n",
       "      <td>0.000000</td>\n",
       "      <td>52.000000</td>\n",
       "      <td>0.000000</td>\n",
       "    </tr>\n",
       "    <tr>\n",
       "      <td>25%</td>\n",
       "      <td>1133.000000</td>\n",
       "      <td>345.550000</td>\n",
       "      <td>70.52500</td>\n",
       "      <td>13569.900000</td>\n",
       "      <td>2611.475000</td>\n",
       "      <td>59.000000</td>\n",
       "      <td>9.375000</td>\n",
       "    </tr>\n",
       "    <tr>\n",
       "      <td>50%</td>\n",
       "      <td>1236.000000</td>\n",
       "      <td>456.150000</td>\n",
       "      <td>99.45000</td>\n",
       "      <td>16055.200000</td>\n",
       "      <td>3823.700000</td>\n",
       "      <td>66.000000</td>\n",
       "      <td>15.550000</td>\n",
       "    </tr>\n",
       "    <tr>\n",
       "      <td>75%</td>\n",
       "      <td>1393.000000</td>\n",
       "      <td>541.775000</td>\n",
       "      <td>148.22500</td>\n",
       "      <td>18842.075000</td>\n",
       "      <td>5510.675000</td>\n",
       "      <td>82.000000</td>\n",
       "      <td>21.525000</td>\n",
       "    </tr>\n",
       "    <tr>\n",
       "      <td>max</td>\n",
       "      <td>1488.000000</td>\n",
       "      <td>711.900000</td>\n",
       "      <td>504.20000</td>\n",
       "      <td>25112.300000</td>\n",
       "      <td>21425.200000</td>\n",
       "      <td>118.000000</td>\n",
       "      <td>54.600000</td>\n",
       "    </tr>\n",
       "  </tbody>\n",
       "</table>\n",
       "</div>"
      ],
      "text/plain": [
       "           user_id  mean_calls  std_calls       mean_mb        std_mb  \\\n",
       "count    80.000000   80.000000   80.00000     80.000000     80.000000   \n",
       "mean   1251.900000  444.673750  114.55625  16282.621250   4395.401250   \n",
       "std     147.194145  133.280529   81.58582   3639.777125   3439.673325   \n",
       "min    1008.000000  192.500000    0.00000   5391.200000      0.000000   \n",
       "25%    1133.000000  345.550000   70.52500  13569.900000   2611.475000   \n",
       "50%    1236.000000  456.150000   99.45000  16055.200000   3823.700000   \n",
       "75%    1393.000000  541.775000  148.22500  18842.075000   5510.675000   \n",
       "max    1488.000000  711.900000  504.20000  25112.300000  21425.200000   \n",
       "\n",
       "         mean_msg    std_msg  \n",
       "count   80.000000  80.000000  \n",
       "mean    71.452500  17.040000  \n",
       "std     15.691899  11.650323  \n",
       "min     52.000000   0.000000  \n",
       "25%     59.000000   9.375000  \n",
       "50%     66.000000  15.550000  \n",
       "75%     82.000000  21.525000  \n",
       "max    118.000000  54.600000  "
      ]
     },
     "execution_count": 79,
     "metadata": {},
     "output_type": "execute_result"
    }
   ],
   "source": [
    "users_agg_statistics.loc[(users_agg_statistics['tariff'] == 'smart') & (users_agg_statistics['mean_msg'] > 50)].describe()"
   ]
  },
  {
   "cell_type": "code",
   "execution_count": 80,
   "metadata": {},
   "outputs": [
    {
     "name": "stdout",
     "output_type": "stream",
     "text": [
      "Доля пользователей тарифа Smart, которые укладываются в лимит сообщений: 77.2%\n",
      "Доля пользователей тарифа Ultra, которые укладываются в лимит сообщений: 100.0%\n"
     ]
    }
   ],
   "source": [
    "print('Доля пользователей тарифа Smart, которые укладываются в лимит сообщений: {0:.1f}%'.\\\n",
    "format(len(users_agg_statistics.loc[(users_agg_statistics['mean_msg'] <= 50) &\\\n",
    "(users_agg_statistics['tariff'] == 'smart')]) /\\\n",
    "len(users_agg_statistics.loc[users_agg_statistics['tariff'] == 'smart'])* 100))\n",
    "\n",
    "print('Доля пользователей тарифа Ultra, которые укладываются в лимит сообщений: {0:.1f}%'.\\\n",
    "format(len(users_agg_statistics.loc[(users_agg_statistics['mean_msg'] <= 1000) &\\\n",
    "(users_agg_statistics['tariff'] == 'ultra')]) /\\\n",
    "len(users_agg_statistics.loc[users_agg_statistics['tariff'] == 'ultra'])* 100))"
   ]
  },
  {
   "cell_type": "code",
   "execution_count": 81,
   "metadata": {},
   "outputs": [
    {
     "data": {
      "text/html": [
       "<div>\n",
       "<style scoped>\n",
       "    .dataframe tbody tr th:only-of-type {\n",
       "        vertical-align: middle;\n",
       "    }\n",
       "\n",
       "    .dataframe tbody tr th {\n",
       "        vertical-align: top;\n",
       "    }\n",
       "\n",
       "    .dataframe thead tr th {\n",
       "        text-align: left;\n",
       "    }\n",
       "\n",
       "    .dataframe thead tr:last-of-type th {\n",
       "        text-align: right;\n",
       "    }\n",
       "</style>\n",
       "<table border=\"1\" class=\"dataframe\">\n",
       "  <thead>\n",
       "    <tr>\n",
       "      <th></th>\n",
       "      <th colspan=\"4\" halign=\"left\">user_id</th>\n",
       "    </tr>\n",
       "    <tr>\n",
       "      <th></th>\n",
       "      <th>nunique</th>\n",
       "      <th>mean</th>\n",
       "      <th>var</th>\n",
       "      <th>std</th>\n",
       "    </tr>\n",
       "    <tr>\n",
       "      <th>tariff</th>\n",
       "      <th></th>\n",
       "      <th></th>\n",
       "      <th></th>\n",
       "      <th></th>\n",
       "    </tr>\n",
       "  </thead>\n",
       "  <tbody>\n",
       "    <tr>\n",
       "      <td>smart</td>\n",
       "      <td>302</td>\n",
       "      <td>1253.0</td>\n",
       "      <td>21622.0</td>\n",
       "      <td>147.0</td>\n",
       "    </tr>\n",
       "    <tr>\n",
       "      <td>ultra</td>\n",
       "      <td>124</td>\n",
       "      <td>1263.0</td>\n",
       "      <td>18983.0</td>\n",
       "      <td>138.0</td>\n",
       "    </tr>\n",
       "  </tbody>\n",
       "</table>\n",
       "</div>"
      ],
      "text/plain": [
       "       user_id                        \n",
       "       nunique    mean      var    std\n",
       "tariff                                \n",
       "smart      302  1253.0  21622.0  147.0\n",
       "ultra      124  1263.0  18983.0  138.0"
      ]
     },
     "execution_count": 81,
     "metadata": {},
     "output_type": "execute_result"
    }
   ],
   "source": [
    "messages_tariff_info = messages.merge(users.reset_index()[['user_id', 'tariff']], how='left', on=['user_id']).groupby('tariff').agg({'user_id': ['nunique', 'mean', 'var', 'std']}).round(0)\n",
    "messages_tariff_info"
   ]
  },
  {
   "cell_type": "markdown",
   "metadata": {},
   "source": [
    "1. Мы видим, что распределение для количества использованных текстовых сообщений радикально отличается от распределения звонков и сообщений - значение не сконцентрированы вокруг среднего. В данном случае мы наблюдаем ступечантое сокращение частоты значений в выборке по мере роста количества используемых сообщений. \n",
    "\n",
    "2. \"Тяжелая\" часть графика для тарифов Smart и Ultra заканчивается в районе отметок 45-50 и 100-105 сообщений соответственно. Такое распределение говорит нам о низкой/снижающейся популярности текстовых сообщений. Учитывая тенденцию на рост спроса на трафик, можем предположить, что для коммуникации в формате текстовых сообщений пользователи предпочитают использовать онлайн-мессенджеры. \n",
    "\n",
    "3. 77.2% пользователей тарифа Smart укладываются в квоту сообщений. 100% пользователей тарифа Ultra укладываются в отведенную квоту сообщений. \n",
    "\n",
    "4. При среднем количестве количестве сообщений для пользователей тарифа Smart равном 32, среднее стандартное отклонение около 9, то есть на +2 сигмы вправо распрделение \"вписывается\" в квоту 50 сообщений.\n",
    "\n",
    "5. 80 пользователей тарифа Smart в среднем превышают квоту на количество используемых сообщений. Среднее значение в этой группе - 72 сообщения в месяц (то есть, средня переплата за текстовые сообщения составляет около 66 рублей). Диапазон доплаты лежит между отметками 6 и 204 рубля). \n",
    "\n",
    "6. В среднем пользователи тарифа Ultra используют 5.4% доступного пакета сообщений\n",
    "\n",
    "7. Взглянув на характеристику тарифов по среднему количеству отправленных сообщений за исследуемый период мы наблюдаем, что при примерно в 2.5 меньшем числе пользователей тарифа \"Ultra\" среднее количество отправленных сообщений в этом тарифе сопоставимо, а значит пользователи более дорогого тарифе чаще пользуются данной услугой."
   ]
  },
  {
   "cell_type": "markdown",
   "metadata": {},
   "source": [
    "# Проверка гипотез"
   ]
  },
  {
   "cell_type": "markdown",
   "metadata": {},
   "source": [
    "## Гипотеза 1 - средняя выручка пользователей тарифов «Ультра» и «Смарт» различается"
   ]
  },
  {
   "cell_type": "markdown",
   "metadata": {},
   "source": [
    "В соответствии с правилами формулирования гипотез:\n",
    "\n",
    "- **Нулевая гипотеза (H₀): Средняя выручка пользователей тарифов \"Ультра\" и \"Смарт\" одинакова**\n",
    "- **Альтернативная гипотеза (H₀): Средняя выручка пользователей тарифов \"Ультра\" и \"Смарт\" различается**\n",
    "\n",
    "Для проверки используем максимально высокий критерий статистической значимости, предполагая, что размер выборки может дать несколько искаженные данные. "
   ]
  },
  {
   "cell_type": "code",
   "execution_count": 82,
   "metadata": {},
   "outputs": [
    {
     "data": {
      "text/html": [
       "<div>\n",
       "<style scoped>\n",
       "    .dataframe tbody tr th:only-of-type {\n",
       "        vertical-align: middle;\n",
       "    }\n",
       "\n",
       "    .dataframe tbody tr th {\n",
       "        vertical-align: top;\n",
       "    }\n",
       "\n",
       "    .dataframe thead th {\n",
       "        text-align: right;\n",
       "    }\n",
       "</style>\n",
       "<table border=\"1\" class=\"dataframe\">\n",
       "  <thead>\n",
       "    <tr style=\"text-align: right;\">\n",
       "      <th></th>\n",
       "      <th>user_id</th>\n",
       "      <th>month</th>\n",
       "      <th>earnings</th>\n",
       "    </tr>\n",
       "  </thead>\n",
       "  <tbody>\n",
       "    <tr>\n",
       "      <td>2</td>\n",
       "      <td>1005</td>\n",
       "      <td>01_January</td>\n",
       "      <td>550</td>\n",
       "    </tr>\n",
       "    <tr>\n",
       "      <td>22</td>\n",
       "      <td>1032</td>\n",
       "      <td>01_January</td>\n",
       "      <td>2267</td>\n",
       "    </tr>\n",
       "    <tr>\n",
       "      <td>34</td>\n",
       "      <td>1045</td>\n",
       "      <td>01_January</td>\n",
       "      <td>550</td>\n",
       "    </tr>\n",
       "    <tr>\n",
       "      <td>40</td>\n",
       "      <td>1055</td>\n",
       "      <td>01_January</td>\n",
       "      <td>1045</td>\n",
       "    </tr>\n",
       "    <tr>\n",
       "      <td>53</td>\n",
       "      <td>1071</td>\n",
       "      <td>01_January</td>\n",
       "      <td>602</td>\n",
       "    </tr>\n",
       "    <tr>\n",
       "      <td>...</td>\n",
       "      <td>...</td>\n",
       "      <td>...</td>\n",
       "      <td>...</td>\n",
       "    </tr>\n",
       "    <tr>\n",
       "      <td>4206</td>\n",
       "      <td>1492</td>\n",
       "      <td>12_December</td>\n",
       "      <td>3259</td>\n",
       "    </tr>\n",
       "    <tr>\n",
       "      <td>4207</td>\n",
       "      <td>1494</td>\n",
       "      <td>12_December</td>\n",
       "      <td>997</td>\n",
       "    </tr>\n",
       "    <tr>\n",
       "      <td>4208</td>\n",
       "      <td>1496</td>\n",
       "      <td>12_December</td>\n",
       "      <td>1662</td>\n",
       "    </tr>\n",
       "    <tr>\n",
       "      <td>4209</td>\n",
       "      <td>1497</td>\n",
       "      <td>12_December</td>\n",
       "      <td>1580</td>\n",
       "    </tr>\n",
       "    <tr>\n",
       "      <td>4211</td>\n",
       "      <td>1499</td>\n",
       "      <td>12_December</td>\n",
       "      <td>598</td>\n",
       "    </tr>\n",
       "  </tbody>\n",
       "</table>\n",
       "<p>2230 rows × 3 columns</p>\n",
       "</div>"
      ],
      "text/plain": [
       "      user_id        month  earnings\n",
       "2        1005   01_January       550\n",
       "22       1032   01_January      2267\n",
       "34       1045   01_January       550\n",
       "40       1055   01_January      1045\n",
       "53       1071   01_January       602\n",
       "...       ...          ...       ...\n",
       "4206     1492  12_December      3259\n",
       "4207     1494  12_December       997\n",
       "4208     1496  12_December      1662\n",
       "4209     1497  12_December      1580\n",
       "4211     1499  12_December       598\n",
       "\n",
       "[2230 rows x 3 columns]"
      ]
     },
     "execution_count": 82,
     "metadata": {},
     "output_type": "execute_result"
    }
   ],
   "source": [
    "overall_earnings_smart = overall_earnings[overall_earnings['tariff'] == 'smart'][\n",
    "    [\n",
    "        'user_id',\n",
    "        '01_January',\n",
    "        '02_February',\n",
    "        '03_March',\n",
    "        '04_April',\n",
    "        '05_May',\n",
    "        '06_June',\n",
    "        '07_July',\n",
    "        '08_August',\n",
    "        '09_September',\n",
    "        '10_October',\n",
    "        '11_November',\n",
    "        '12_December'\n",
    "    ]].reset_index(drop=True)\n",
    "\n",
    "overall_earnings_smart = pd.melt(overall_earnings_smart, id_vars='user_id', var_name='month', value_name='earnings', value_vars=[\n",
    "        '01_January',\n",
    "        '02_February',\n",
    "        '03_March',\n",
    "        '04_April',\n",
    "        '05_May',\n",
    "        '06_June',\n",
    "        '07_July',\n",
    "        '08_August',\n",
    "        '09_September',\n",
    "        '10_October',\n",
    "        '11_November',\n",
    "        '12_December'])\n",
    "\n",
    "overall_earnings_smart = overall_earnings_smart[overall_earnings_smart['earnings'] > 0]\n",
    "overall_earnings_smart"
   ]
  },
  {
   "cell_type": "code",
   "execution_count": 83,
   "metadata": {},
   "outputs": [
    {
     "data": {
      "text/html": [
       "<div>\n",
       "<style scoped>\n",
       "    .dataframe tbody tr th:only-of-type {\n",
       "        vertical-align: middle;\n",
       "    }\n",
       "\n",
       "    .dataframe tbody tr th {\n",
       "        vertical-align: top;\n",
       "    }\n",
       "\n",
       "    .dataframe thead th {\n",
       "        text-align: right;\n",
       "    }\n",
       "</style>\n",
       "<table border=\"1\" class=\"dataframe\">\n",
       "  <thead>\n",
       "    <tr style=\"text-align: right;\">\n",
       "      <th></th>\n",
       "      <th>user_id</th>\n",
       "      <th>month</th>\n",
       "      <th>earnings</th>\n",
       "    </tr>\n",
       "  </thead>\n",
       "  <tbody>\n",
       "    <tr>\n",
       "      <td>32</td>\n",
       "      <td>1120</td>\n",
       "      <td>01_January</td>\n",
       "      <td>1950</td>\n",
       "    </tr>\n",
       "    <tr>\n",
       "      <td>35</td>\n",
       "      <td>1126</td>\n",
       "      <td>01_January</td>\n",
       "      <td>1950</td>\n",
       "    </tr>\n",
       "    <tr>\n",
       "      <td>46</td>\n",
       "      <td>1168</td>\n",
       "      <td>01_January</td>\n",
       "      <td>1950</td>\n",
       "    </tr>\n",
       "    <tr>\n",
       "      <td>65</td>\n",
       "      <td>1254</td>\n",
       "      <td>01_January</td>\n",
       "      <td>1950</td>\n",
       "    </tr>\n",
       "    <tr>\n",
       "      <td>109</td>\n",
       "      <td>1375</td>\n",
       "      <td>01_January</td>\n",
       "      <td>1950</td>\n",
       "    </tr>\n",
       "    <tr>\n",
       "      <td>...</td>\n",
       "      <td>...</td>\n",
       "      <td>...</td>\n",
       "      <td>...</td>\n",
       "    </tr>\n",
       "    <tr>\n",
       "      <td>1783</td>\n",
       "      <td>1476</td>\n",
       "      <td>12_December</td>\n",
       "      <td>1950</td>\n",
       "    </tr>\n",
       "    <tr>\n",
       "      <td>1784</td>\n",
       "      <td>1485</td>\n",
       "      <td>12_December</td>\n",
       "      <td>1950</td>\n",
       "    </tr>\n",
       "    <tr>\n",
       "      <td>1785</td>\n",
       "      <td>1491</td>\n",
       "      <td>12_December</td>\n",
       "      <td>1950</td>\n",
       "    </tr>\n",
       "    <tr>\n",
       "      <td>1786</td>\n",
       "      <td>1493</td>\n",
       "      <td>12_December</td>\n",
       "      <td>3717</td>\n",
       "    </tr>\n",
       "    <tr>\n",
       "      <td>1787</td>\n",
       "      <td>1495</td>\n",
       "      <td>12_December</td>\n",
       "      <td>1950</td>\n",
       "    </tr>\n",
       "  </tbody>\n",
       "</table>\n",
       "<p>986 rows × 3 columns</p>\n",
       "</div>"
      ],
      "text/plain": [
       "      user_id        month  earnings\n",
       "32       1120   01_January      1950\n",
       "35       1126   01_January      1950\n",
       "46       1168   01_January      1950\n",
       "65       1254   01_January      1950\n",
       "109      1375   01_January      1950\n",
       "...       ...          ...       ...\n",
       "1783     1476  12_December      1950\n",
       "1784     1485  12_December      1950\n",
       "1785     1491  12_December      1950\n",
       "1786     1493  12_December      3717\n",
       "1787     1495  12_December      1950\n",
       "\n",
       "[986 rows x 3 columns]"
      ]
     },
     "execution_count": 83,
     "metadata": {},
     "output_type": "execute_result"
    }
   ],
   "source": [
    "overall_earnings_ultra = overall_earnings[overall_earnings['tariff'] == 'ultra'][\n",
    "    [\n",
    "        'user_id',\n",
    "        '01_January',\n",
    "        '02_February',\n",
    "        '03_March',\n",
    "        '04_April',\n",
    "        '05_May',\n",
    "        '06_June',\n",
    "        '07_July',\n",
    "        '08_August',\n",
    "        '09_September',\n",
    "        '10_October',\n",
    "        '11_November',\n",
    "        '12_December'\n",
    "    ]].reset_index(drop=True)\n",
    "\n",
    "overall_earnings_ultra = pd.melt(overall_earnings_ultra, id_vars='user_id', var_name='month', value_name='earnings', value_vars=[\n",
    "        '01_January',\n",
    "        '02_February',\n",
    "        '03_March',\n",
    "        '04_April',\n",
    "        '05_May',\n",
    "        '06_June',\n",
    "        '07_July',\n",
    "        '08_August',\n",
    "        '09_September',\n",
    "        '10_October',\n",
    "        '11_November',\n",
    "        '12_December'])\n",
    "\n",
    "overall_earnings_ultra = overall_earnings_ultra[overall_earnings_ultra['earnings'] > 0]\n",
    "overall_earnings_ultra"
   ]
  },
  {
   "cell_type": "markdown",
   "metadata": {},
   "source": [
    "Для проверки гипотезы используем Т-тест для проверка равенства средних двух выборок. Также будет исходить из предположения о неравенстве дисперсий выборок для оценки дисперсии каждой из них по отдельности."
   ]
  },
  {
   "cell_type": "code",
   "execution_count": 84,
   "metadata": {},
   "outputs": [
    {
     "name": "stdout",
     "output_type": "stream",
     "text": [
      "p-значение: 6.654511917309927e-296\n",
      "Отвергаем нулевую гипотезу\n"
     ]
    }
   ],
   "source": [
    "alpha = 0.05 #зададим критический уровень статистической значимости в 5%\n",
    "\n",
    "results = st.ttest_ind(\n",
    "    overall_earnings_smart['earnings'], \n",
    "    overall_earnings_ultra['earnings'],\n",
    "    equal_var=False) \n",
    "\n",
    "print('p-значение:', results.pvalue)\n",
    "\n",
    "if (results.pvalue < alpha):\n",
    "    print(\"Отвергаем нулевую гипотезу\")\n",
    "else:\n",
    "    print(\"Не получилось отвергнуть нулевую гипотезу\") "
   ]
  },
  {
   "cell_type": "code",
   "execution_count": 85,
   "metadata": {},
   "outputs": [
    {
     "name": "stdout",
     "output_type": "stream",
     "text": [
      "Средняя выручка для тарифа \"Smart\": 1233.33\n",
      "Средняя выручка для тарифа \"Ultra\": 2060.49\n"
     ]
    }
   ],
   "source": [
    "print('Средняя выручка для тарифа \"Smart\":', overall_earnings_smart['earnings'].mean().round(2))\n",
    "print('Средняя выручка для тарифа \"Ultra\":', overall_earnings_ultra['earnings'].mean().round(2))"
   ]
  },
  {
   "cell_type": "markdown",
   "metadata": {},
   "source": [
    "Значения, которые мы анализируем противоречат нулевой гипотезе. Располагая данными о среднегодовой выручке пользователей разных тарифов, мы можем говорить о разной выручке от пользователей разных тарифов. "
   ]
  },
  {
   "cell_type": "markdown",
   "metadata": {},
   "source": [
    "## Гипотеза 2 - средняя выручка пользователей из Москвы отличается от выручки пользователей из других регионов"
   ]
  },
  {
   "cell_type": "markdown",
   "metadata": {},
   "source": [
    "В соответствии с правилами формулирования гипотез:\n",
    "\n",
    "- **Нулевая гипотеза (H₀): Средняя выручка пользователей из Москвы и других регионов одинакова**\n",
    "- **Альтернативная гипотеза (H₀): Средняя выручка пользователей из Москвы и других регионов различается**\n",
    "\n",
    "Для проверки используем максимально высокий критерий статистической значимости, предполагая, что размер выборки может дать несколько искаженные данные. "
   ]
  },
  {
   "cell_type": "code",
   "execution_count": 86,
   "metadata": {},
   "outputs": [
    {
     "data": {
      "text/html": [
       "<div>\n",
       "<style scoped>\n",
       "    .dataframe tbody tr th:only-of-type {\n",
       "        vertical-align: middle;\n",
       "    }\n",
       "\n",
       "    .dataframe tbody tr th {\n",
       "        vertical-align: top;\n",
       "    }\n",
       "\n",
       "    .dataframe thead th {\n",
       "        text-align: right;\n",
       "    }\n",
       "</style>\n",
       "<table border=\"1\" class=\"dataframe\">\n",
       "  <thead>\n",
       "    <tr style=\"text-align: right;\">\n",
       "      <th></th>\n",
       "      <th>user_id</th>\n",
       "      <th>reg_date</th>\n",
       "      <th>tariff</th>\n",
       "      <th>reg_year</th>\n",
       "      <th>reg_month</th>\n",
       "      <th>churn_month</th>\n",
       "      <th>01_January</th>\n",
       "      <th>02_February</th>\n",
       "      <th>03_March</th>\n",
       "      <th>04_April</th>\n",
       "      <th>05_May</th>\n",
       "      <th>06_June</th>\n",
       "      <th>07_July</th>\n",
       "      <th>08_August</th>\n",
       "      <th>09_September</th>\n",
       "      <th>10_October</th>\n",
       "      <th>11_November</th>\n",
       "      <th>12_December</th>\n",
       "      <th>city</th>\n",
       "    </tr>\n",
       "  </thead>\n",
       "  <tbody>\n",
       "    <tr>\n",
       "      <td>385</td>\n",
       "      <td>1385</td>\n",
       "      <td>2018-01-13</td>\n",
       "      <td>ultra</td>\n",
       "      <td>2018</td>\n",
       "      <td>1</td>\n",
       "      <td>0</td>\n",
       "      <td>1950</td>\n",
       "      <td>2234</td>\n",
       "      <td>2032</td>\n",
       "      <td>1950</td>\n",
       "      <td>1950</td>\n",
       "      <td>1950</td>\n",
       "      <td>2957</td>\n",
       "      <td>2684</td>\n",
       "      <td>2468</td>\n",
       "      <td>1950</td>\n",
       "      <td>2484</td>\n",
       "      <td>3068</td>\n",
       "      <td>Москва</td>\n",
       "    </tr>\n",
       "    <tr>\n",
       "      <td>18</td>\n",
       "      <td>1018</td>\n",
       "      <td>2018-04-01</td>\n",
       "      <td>ultra</td>\n",
       "      <td>2018</td>\n",
       "      <td>4</td>\n",
       "      <td>0</td>\n",
       "      <td>0</td>\n",
       "      <td>0</td>\n",
       "      <td>0</td>\n",
       "      <td>1950</td>\n",
       "      <td>1950</td>\n",
       "      <td>1950</td>\n",
       "      <td>1950</td>\n",
       "      <td>1950</td>\n",
       "      <td>1950</td>\n",
       "      <td>1950</td>\n",
       "      <td>1950</td>\n",
       "      <td>1950</td>\n",
       "      <td>Уфа</td>\n",
       "    </tr>\n",
       "    <tr>\n",
       "      <td>495</td>\n",
       "      <td>1495</td>\n",
       "      <td>2018-08-28</td>\n",
       "      <td>ultra</td>\n",
       "      <td>2018</td>\n",
       "      <td>8</td>\n",
       "      <td>0</td>\n",
       "      <td>0</td>\n",
       "      <td>0</td>\n",
       "      <td>0</td>\n",
       "      <td>0</td>\n",
       "      <td>0</td>\n",
       "      <td>0</td>\n",
       "      <td>0</td>\n",
       "      <td>1950</td>\n",
       "      <td>2300</td>\n",
       "      <td>1950</td>\n",
       "      <td>3159</td>\n",
       "      <td>1950</td>\n",
       "      <td>Иркутск</td>\n",
       "    </tr>\n",
       "    <tr>\n",
       "      <td>200</td>\n",
       "      <td>1200</td>\n",
       "      <td>2018-04-28</td>\n",
       "      <td>ultra</td>\n",
       "      <td>2018</td>\n",
       "      <td>4</td>\n",
       "      <td>0</td>\n",
       "      <td>0</td>\n",
       "      <td>0</td>\n",
       "      <td>0</td>\n",
       "      <td>1950</td>\n",
       "      <td>1950</td>\n",
       "      <td>1950</td>\n",
       "      <td>1950</td>\n",
       "      <td>1950</td>\n",
       "      <td>1950</td>\n",
       "      <td>1950</td>\n",
       "      <td>1950</td>\n",
       "      <td>1950</td>\n",
       "      <td>Санкт-Петербург</td>\n",
       "    </tr>\n",
       "    <tr>\n",
       "      <td>357</td>\n",
       "      <td>1357</td>\n",
       "      <td>2018-09-02</td>\n",
       "      <td>smart</td>\n",
       "      <td>2018</td>\n",
       "      <td>9</td>\n",
       "      <td>0</td>\n",
       "      <td>0</td>\n",
       "      <td>0</td>\n",
       "      <td>0</td>\n",
       "      <td>0</td>\n",
       "      <td>0</td>\n",
       "      <td>0</td>\n",
       "      <td>0</td>\n",
       "      <td>0</td>\n",
       "      <td>550</td>\n",
       "      <td>1459</td>\n",
       "      <td>1775</td>\n",
       "      <td>1060</td>\n",
       "      <td>Томск</td>\n",
       "    </tr>\n",
       "  </tbody>\n",
       "</table>\n",
       "</div>"
      ],
      "text/plain": [
       "     user_id   reg_date tariff  reg_year  reg_month  churn_month  01_January  \\\n",
       "385     1385 2018-01-13  ultra      2018          1            0        1950   \n",
       "18      1018 2018-04-01  ultra      2018          4            0           0   \n",
       "495     1495 2018-08-28  ultra      2018          8            0           0   \n",
       "200     1200 2018-04-28  ultra      2018          4            0           0   \n",
       "357     1357 2018-09-02  smart      2018          9            0           0   \n",
       "\n",
       "     02_February  03_March  04_April  05_May  06_June  07_July  08_August  \\\n",
       "385         2234      2032      1950    1950     1950     2957       2684   \n",
       "18             0         0      1950    1950     1950     1950       1950   \n",
       "495            0         0         0       0        0        0       1950   \n",
       "200            0         0      1950    1950     1950     1950       1950   \n",
       "357            0         0         0       0        0        0          0   \n",
       "\n",
       "     09_September  10_October  11_November  12_December             city  \n",
       "385          2468        1950         2484         3068           Москва  \n",
       "18           1950        1950         1950         1950              Уфа  \n",
       "495          2300        1950         3159         1950          Иркутск  \n",
       "200          1950        1950         1950         1950  Санкт-Петербург  \n",
       "357           550        1459         1775         1060            Томск  "
      ]
     },
     "execution_count": 86,
     "metadata": {},
     "output_type": "execute_result"
    }
   ],
   "source": [
    "users = users.set_index('user_id') #для join назначаем столбец идентификаторов пользователей индексами строк\n",
    "users_cities = users['city'] #выделяем series с городами\n",
    "overall_earnings = overall_earnings.join(users_cities, on='user_id') #соединяем его с таблицей выручки\n",
    "overall_earnings.sample(5) #смотрим на полученный семпл"
   ]
  },
  {
   "cell_type": "markdown",
   "metadata": {},
   "source": [
    "Так как детализация до уровня городов нам не требуется, при помощи функции мы можем перезаполнить столбец двумя значениями: \"Москва\" и \"Регион\". "
   ]
  },
  {
   "cell_type": "code",
   "execution_count": 88,
   "metadata": {},
   "outputs": [],
   "source": [
    "def hyp2_transformer(row):\n",
    "    if row['city'] == 'Москва':\n",
    "        row['city'] = row['city']\n",
    "    else: \n",
    "        row['city'] = 'Регион'\n",
    "    return row"
   ]
  },
  {
   "cell_type": "code",
   "execution_count": 89,
   "metadata": {},
   "outputs": [],
   "source": [
    "overall_earnings = overall_earnings.apply(hyp2_transformer, axis=1)"
   ]
  },
  {
   "cell_type": "code",
   "execution_count": 108,
   "metadata": {},
   "outputs": [],
   "source": [
    "#соберем датафрейм с помесячной выручкой в Москве\n",
    "overall_earnings_moscow = overall_earnings[overall_earnings['city'] == 'Москва'][\n",
    "    [\n",
    "        'user_id',\n",
    "        'city',\n",
    "        '01_January',\n",
    "        '02_February',\n",
    "        '03_March',\n",
    "        '04_April',\n",
    "        '05_May',\n",
    "        '06_June',\n",
    "        '07_July',\n",
    "        '08_August',\n",
    "        '09_September',\n",
    "        '10_October',\n",
    "        '11_November',\n",
    "        '12_December'\n",
    "    ]].reset_index(drop=True)\n",
    "\n",
    "overall_earnings_moscow = pd.melt(overall_earnings_moscow, id_vars='city', var_name='month', value_name='earnings', value_vars=[\n",
    "        '01_January',\n",
    "        '02_February',\n",
    "        '03_March',\n",
    "        '04_April',\n",
    "        '05_May',\n",
    "        '06_June',\n",
    "        '07_July',\n",
    "        '08_August',\n",
    "        '09_September',\n",
    "        '10_October',\n",
    "        '11_November',\n",
    "        '12_December'])\n",
    "\n",
    "overall_earnings_moscow = overall_earnings_moscow[overall_earnings_moscow['earnings'] > 0]"
   ]
  },
  {
   "cell_type": "code",
   "execution_count": 109,
   "metadata": {},
   "outputs": [],
   "source": [
    "#и аналогичный датафрейм для регионов\n",
    "overall_earnings_region = overall_earnings[overall_earnings['city'] == 'Регион'][\n",
    "    [\n",
    "        'user_id',\n",
    "        'city',\n",
    "        '01_January',\n",
    "        '02_February',\n",
    "        '03_March',\n",
    "        '04_April',\n",
    "        '05_May',\n",
    "        '06_June',\n",
    "        '07_July',\n",
    "        '08_August',\n",
    "        '09_September',\n",
    "        '10_October',\n",
    "        '11_November',\n",
    "        '12_December'\n",
    "    ]].reset_index(drop=True)\n",
    "\n",
    "overall_earnings_region = pd.melt(overall_earnings_region, id_vars='city', var_name='month', value_name='earnings', value_vars=[\n",
    "        '01_January',\n",
    "        '02_February',\n",
    "        '03_March',\n",
    "        '04_April',\n",
    "        '05_May',\n",
    "        '06_June',\n",
    "        '07_July',\n",
    "        '08_August',\n",
    "        '09_September',\n",
    "        '10_October',\n",
    "        '11_November',\n",
    "        '12_December'])\n",
    "\n",
    "overall_earnings_region = overall_earnings_region[overall_earnings_region['earnings'] > 0]"
   ]
  },
  {
   "cell_type": "markdown",
   "metadata": {},
   "source": [
    "Видим, что среднегодовые значения близки друг к другу. Перейдем к проверке гипотезы:"
   ]
  },
  {
   "cell_type": "code",
   "execution_count": 110,
   "metadata": {},
   "outputs": [
    {
     "name": "stdout",
     "output_type": "stream",
     "text": [
      "p-значение: 0.4521716010094218\n",
      "Не получилось отвергнуть нулевую гипотезу\n"
     ]
    }
   ],
   "source": [
    "alpha = 0.05 #зададим критический уровень статистической значимости в 5%\n",
    "\n",
    "results = st.ttest_ind(\n",
    "    overall_earnings_moscow['earnings'], \n",
    "    overall_earnings_region['earnings'],\n",
    "    equal_var=False)\n",
    "\n",
    "print('p-значение:', results.pvalue)\n",
    "\n",
    "if (results.pvalue < alpha):\n",
    "    print(\"Отвергаем нулевую гипотезу\")\n",
    "else:\n",
    "    print(\"Не получилось отвергнуть нулевую гипотезу\") "
   ]
  },
  {
   "cell_type": "code",
   "execution_count": 114,
   "metadata": {},
   "outputs": [
    {
     "name": "stdout",
     "output_type": "stream",
     "text": [
      "Средняя выручка в Москве: 1507.48\n",
      "Средняя выручка в Регионе: 1482.11\n"
     ]
    }
   ],
   "source": [
    "print('Средняя выручка в Москве:', overall_earnings_moscow['earnings'].mean().round(2))\n",
    "print('Средняя выручка в Регионе:', overall_earnings_region['earnings'].mean().round(2))"
   ]
  },
  {
   "cell_type": "markdown",
   "metadata": {},
   "source": [
    "Данные не противоречат нулевой гипотезе. Таким образом, мы можем говорить о сопоставимой среднегодовой выручке с 1 пользователя в Москве и в регионах. "
   ]
  },
  {
   "cell_type": "markdown",
   "metadata": {},
   "source": [
    "# Выводы"
   ]
  },
  {
   "cell_type": "markdown",
   "metadata": {},
   "source": [
    "1. 70% выборки - абоненты тарифа Smart. 30% - абоненты тарифа Ultra. \n",
    "\n",
    "2. Среднегодовая выручка от пользователя тарифа Smart составляет 1215.18 рублей, что составляет 221% от суммы ежемесячной абонентской платы.\n",
    "\n",
    "3. Среднегодовая выручка от пользователя тарифа Smart составляет 3125.47 рублей, что составляет 160% от суммы ежемесячной абонентской платы.\n",
    "\n",
    "4. Существенная доплата за дополнительные услуги наблюдается на обоих тарифных планах, что говорит об их несбалансированности - требуется углубленное исследование точек роста за счет которых возможно сегментирование пользователей различных услуг в рамках тарифа. Это возможно сделать, либо за счет расширения сетки тарифов, либо расширения пула дополнительных услуг, что потенциально даст более позитивное восприятие компании пользователями и стабильный доход с меньшим отклонением от среднего. \n",
    "\n",
    "5. Около 25%  пользователей тарифа Smart в среднем используют большее количество минут разговоров, чем предоставляет пакет со средним количеством минут превышения - 92 минуты (276 рублей). Возможно, предложение вида \"дополнительные 150 минут за 300 рублей\" позволило мы увеличить и стабилизировать поток выручки за счет этой группы пользователей.\n",
    "\n",
    "6. Около 62% пользователей тарифа Smart в среднем превышают доступную квоту Интернет-трафика. Средний размер превышения около 0.8 ГБайт (160 рублей). Здесь можно рассмотреть несколько альтернативных вариантов: дополнительные пакеты вида \"дополнительный 1/3/5 ГБайт за 180/450/600 рублей; исследование и сегментация трафика для дополнительных предложений расширенного или неограниченного лимита в зависимости от предпочтительного направления расхода трафика. \n",
    "\n",
    "7. Около 19% (67 человек) пользователей тарифа Smart в среднем превышают доступную квоту на минуты и трафик. В среднем превышение составляет 92 минуты и 2.94 ГБайт, что в сумме дает среднемесячную переплату по году в 864 рубля. Вероятно имеет смысл рассмотреть возможность создания промежуточных тарифных планов между Smart и Ultra для стабилизации и наращивания потока выручки. \n",
    "\n",
    "8. Среди пользователей тарифа Ultra никто не превышает доступный пакет минут. Максимальный уровень утилизации голосового пакета находится на уровне отметки в 30%. \n",
    "\n",
    "9. В среднем пользователи тарифного плана Ultra также превышают квоту доступного трафика. Среднее превышение составляет около 2.65 ГБайт (398 рублей). Это говорит о явной тенденции к росту спроса на трафик и уход других способов коммуникции в плоскость интернета. Так как Ultra - дорогой тарифный план, имеет смысл также рассмотреть опцию с дополнительными пакетами трафика, либо снятием лимита за отдельную плату (возможно, на отдельные направления расхода трафика).\n",
    "\n",
    "10. Анализ количества используемых сообщений показал, что значение несущественно для тарифа Ultra - порядка 5% от пакета. Абоненты тарифного плана Smart иногда превышают квоту (около 23% от всех пользователей), однако превышение несущественное - среднее значение в группе \"превышающих\" - 72 сообщения. 3 квартиль по тарифу Smart лежит на отметке в 48 сообщений. Возможно, имеет смысл рассмотреть этот вид коммуникации как инструмент улучшения имиджа и предоставить \"расширенный\" пакет сообщений в рамках стандартного тарифного плана (например, увелить квоту до 100 сообщений)\n",
    "\n",
    "11. Гипотеза о равенстве среднегодовой выручки для абонентов разных тарифных планов не нашла подтверждения, что неудивительно, учитывая значения, приведенные в пунктах 2 и 3\n",
    "\n",
    "12. Гипотеза о равенстве среднегодовой выручки для абонентов из Москвы и региональных городов не противоречит нашим данным. С вероятностью около 45% мы можем получить идентичное или большее различие, что значительно больше критического уровня статистической значимости "
   ]
  },
  {
   "cell_type": "code",
   "execution_count": null,
   "metadata": {},
   "outputs": [],
   "source": []
  }
 ],
 "metadata": {
  "ExecuteTimeLog": [
   {
    "duration": 1733,
    "start_time": "2022-01-02T01:29:51.579Z"
   },
   {
    "duration": 32,
    "start_time": "2022-01-02T01:35:31.495Z"
   },
   {
    "duration": 21,
    "start_time": "2022-01-02T01:35:45.826Z"
   },
   {
    "duration": 6,
    "start_time": "2022-01-02T01:37:51.485Z"
   },
   {
    "duration": 9,
    "start_time": "2022-01-02T01:38:04.086Z"
   },
   {
    "duration": 12,
    "start_time": "2022-01-02T01:38:13.178Z"
   },
   {
    "duration": 8,
    "start_time": "2022-01-02T01:38:58.223Z"
   },
   {
    "duration": 9,
    "start_time": "2022-01-02T01:40:09.336Z"
   },
   {
    "duration": 15,
    "start_time": "2022-01-02T01:40:51.854Z"
   },
   {
    "duration": 10,
    "start_time": "2022-01-02T01:41:27.120Z"
   },
   {
    "duration": 127,
    "start_time": "2022-01-02T01:41:41.060Z"
   },
   {
    "duration": 44,
    "start_time": "2022-01-02T01:42:51.967Z"
   },
   {
    "duration": 38,
    "start_time": "2022-01-02T01:42:55.737Z"
   },
   {
    "duration": 44,
    "start_time": "2022-01-02T01:44:44.121Z"
   },
   {
    "duration": 29,
    "start_time": "2022-01-02T01:44:51.583Z"
   },
   {
    "duration": 82,
    "start_time": "2022-01-02T01:45:10.676Z"
   },
   {
    "duration": 19,
    "start_time": "2022-01-02T01:45:31.664Z"
   },
   {
    "duration": 20,
    "start_time": "2022-01-02T01:45:53.744Z"
   },
   {
    "duration": 37,
    "start_time": "2022-01-02T01:47:00.147Z"
   },
   {
    "duration": 30,
    "start_time": "2022-01-02T01:47:03.587Z"
   },
   {
    "duration": 112,
    "start_time": "2022-01-02T01:47:58.813Z"
   },
   {
    "duration": 4,
    "start_time": "2022-01-02T01:48:38.829Z"
   },
   {
    "duration": 30,
    "start_time": "2022-01-02T01:48:46.482Z"
   },
   {
    "duration": 16,
    "start_time": "2022-01-02T01:48:56.355Z"
   },
   {
    "duration": 19,
    "start_time": "2022-01-02T01:49:07.746Z"
   },
   {
    "duration": 65,
    "start_time": "2022-01-02T01:50:32.865Z"
   },
   {
    "duration": 26,
    "start_time": "2022-01-02T01:51:34.811Z"
   },
   {
    "duration": 26,
    "start_time": "2022-01-02T01:51:53.444Z"
   },
   {
    "duration": 15,
    "start_time": "2022-01-02T01:51:59.187Z"
   },
   {
    "duration": 18,
    "start_time": "2022-01-02T01:52:43.362Z"
   },
   {
    "duration": 12,
    "start_time": "2022-01-02T01:54:09.883Z"
   },
   {
    "duration": 123,
    "start_time": "2022-01-02T01:54:44.505Z"
   },
   {
    "duration": 106,
    "start_time": "2022-01-02T01:54:54.924Z"
   },
   {
    "duration": 15,
    "start_time": "2022-01-02T01:55:10.844Z"
   },
   {
    "duration": 16,
    "start_time": "2022-01-02T01:55:16.496Z"
   },
   {
    "duration": 111,
    "start_time": "2022-01-02T01:55:35.096Z"
   },
   {
    "duration": 11,
    "start_time": "2022-01-02T01:56:18.324Z"
   },
   {
    "duration": 12,
    "start_time": "2022-01-02T01:56:28.034Z"
   },
   {
    "duration": 5,
    "start_time": "2022-01-02T01:57:01.784Z"
   },
   {
    "duration": 36,
    "start_time": "2022-01-02T01:57:07.516Z"
   },
   {
    "duration": 36,
    "start_time": "2022-01-02T01:57:55.924Z"
   },
   {
    "duration": 5,
    "start_time": "2022-01-02T01:59:45.816Z"
   },
   {
    "duration": 387,
    "start_time": "2022-01-02T01:59:53.153Z"
   },
   {
    "duration": 404,
    "start_time": "2022-01-02T02:00:07.434Z"
   },
   {
    "duration": 369,
    "start_time": "2022-01-02T02:00:16.215Z"
   },
   {
    "duration": 368,
    "start_time": "2022-01-02T02:06:31.445Z"
   },
   {
    "duration": 1742,
    "start_time": "2022-01-02T02:06:57.488Z"
   },
   {
    "duration": 36,
    "start_time": "2022-01-02T02:06:59.233Z"
   },
   {
    "duration": 5,
    "start_time": "2022-01-02T02:06:59.272Z"
   },
   {
    "duration": 13,
    "start_time": "2022-01-02T02:06:59.279Z"
   },
   {
    "duration": 15,
    "start_time": "2022-01-02T02:06:59.294Z"
   },
   {
    "duration": 17,
    "start_time": "2022-01-02T02:06:59.312Z"
   },
   {
    "duration": 53,
    "start_time": "2022-01-02T02:06:59.331Z"
   },
   {
    "duration": 10,
    "start_time": "2022-01-02T02:06:59.387Z"
   },
   {
    "duration": 35,
    "start_time": "2022-01-02T02:06:59.400Z"
   },
   {
    "duration": 46,
    "start_time": "2022-01-02T02:06:59.468Z"
   },
   {
    "duration": 53,
    "start_time": "2022-01-02T02:06:59.516Z"
   },
   {
    "duration": 96,
    "start_time": "2022-01-02T02:06:59.572Z"
   },
   {
    "duration": 18,
    "start_time": "2022-01-02T02:06:59.671Z"
   },
   {
    "duration": 19,
    "start_time": "2022-01-02T02:06:59.691Z"
   },
   {
    "duration": 59,
    "start_time": "2022-01-02T02:06:59.713Z"
   },
   {
    "duration": 4,
    "start_time": "2022-01-02T02:06:59.775Z"
   },
   {
    "duration": 43,
    "start_time": "2022-01-02T02:06:59.781Z"
   },
   {
    "duration": 12,
    "start_time": "2022-01-02T02:06:59.827Z"
   },
   {
    "duration": 39,
    "start_time": "2022-01-02T02:06:59.842Z"
   },
   {
    "duration": 84,
    "start_time": "2022-01-02T02:06:59.883Z"
   },
   {
    "duration": 25,
    "start_time": "2022-01-02T02:06:59.970Z"
   },
   {
    "duration": 25,
    "start_time": "2022-01-02T02:06:59.998Z"
   },
   {
    "duration": 43,
    "start_time": "2022-01-02T02:07:00.025Z"
   },
   {
    "duration": 18,
    "start_time": "2022-01-02T02:07:00.071Z"
   },
   {
    "duration": 17,
    "start_time": "2022-01-02T02:07:00.091Z"
   },
   {
    "duration": 182,
    "start_time": "2022-01-02T02:07:00.111Z"
   },
   {
    "duration": 22,
    "start_time": "2022-01-02T02:07:00.299Z"
   },
   {
    "duration": 25,
    "start_time": "2022-01-02T02:07:00.324Z"
   },
   {
    "duration": 43,
    "start_time": "2022-01-02T02:07:00.351Z"
   },
   {
    "duration": 64,
    "start_time": "2022-01-02T02:07:00.396Z"
   },
   {
    "duration": 12,
    "start_time": "2022-01-02T02:07:00.462Z"
   },
   {
    "duration": 398,
    "start_time": "2022-01-02T02:07:00.477Z"
   },
   {
    "duration": 82,
    "start_time": "2022-01-02T02:08:06.033Z"
   },
   {
    "duration": 10,
    "start_time": "2022-01-02T02:08:34.844Z"
   },
   {
    "duration": 7490,
    "start_time": "2022-01-02T02:09:09.410Z"
   },
   {
    "duration": 1695,
    "start_time": "2022-01-02T02:09:31.712Z"
   },
   {
    "duration": 33,
    "start_time": "2022-01-02T02:09:33.410Z"
   },
   {
    "duration": 24,
    "start_time": "2022-01-02T02:09:33.448Z"
   },
   {
    "duration": 10,
    "start_time": "2022-01-02T02:09:33.476Z"
   },
   {
    "duration": 15,
    "start_time": "2022-01-02T02:09:33.490Z"
   },
   {
    "duration": 10,
    "start_time": "2022-01-02T02:09:33.508Z"
   },
   {
    "duration": 61,
    "start_time": "2022-01-02T02:09:33.522Z"
   },
   {
    "duration": 11,
    "start_time": "2022-01-02T02:09:33.585Z"
   },
   {
    "duration": 68,
    "start_time": "2022-01-02T02:09:33.600Z"
   },
   {
    "duration": 45,
    "start_time": "2022-01-02T02:09:33.671Z"
   },
   {
    "duration": 49,
    "start_time": "2022-01-02T02:09:33.719Z"
   },
   {
    "duration": 78,
    "start_time": "2022-01-02T02:09:33.771Z"
   },
   {
    "duration": 28,
    "start_time": "2022-01-02T02:09:33.852Z"
   },
   {
    "duration": 20,
    "start_time": "2022-01-02T02:09:33.883Z"
   },
   {
    "duration": 65,
    "start_time": "2022-01-02T02:09:33.905Z"
   },
   {
    "duration": 4,
    "start_time": "2022-01-02T02:09:33.972Z"
   },
   {
    "duration": 33,
    "start_time": "2022-01-02T02:09:33.978Z"
   },
   {
    "duration": 13,
    "start_time": "2022-01-02T02:09:34.014Z"
   },
   {
    "duration": 51,
    "start_time": "2022-01-02T02:09:34.030Z"
   },
   {
    "duration": 64,
    "start_time": "2022-01-02T02:09:34.083Z"
   },
   {
    "duration": 43,
    "start_time": "2022-01-02T02:09:34.149Z"
   },
   {
    "duration": 25,
    "start_time": "2022-01-02T02:09:34.194Z"
   },
   {
    "duration": 14,
    "start_time": "2022-01-02T02:09:34.221Z"
   },
   {
    "duration": 17,
    "start_time": "2022-01-02T02:09:34.268Z"
   },
   {
    "duration": 13,
    "start_time": "2022-01-02T02:09:34.287Z"
   },
   {
    "duration": 146,
    "start_time": "2022-01-02T02:09:34.302Z"
   },
   {
    "duration": 16,
    "start_time": "2022-01-02T02:09:34.453Z"
   },
   {
    "duration": 13,
    "start_time": "2022-01-02T02:09:34.471Z"
   },
   {
    "duration": 7,
    "start_time": "2022-01-02T02:09:34.486Z"
   },
   {
    "duration": 40,
    "start_time": "2022-01-02T02:09:34.495Z"
   },
   {
    "duration": 34,
    "start_time": "2022-01-02T02:09:34.537Z"
   },
   {
    "duration": 394,
    "start_time": "2022-01-02T02:09:34.573Z"
   },
   {
    "duration": 84,
    "start_time": "2022-01-02T02:09:34.969Z"
   },
   {
    "duration": 10,
    "start_time": "2022-01-02T02:09:35.067Z"
   },
   {
    "duration": 445,
    "start_time": "2022-01-02T02:09:46.746Z"
   },
   {
    "duration": 88,
    "start_time": "2022-01-02T02:10:43.905Z"
   },
   {
    "duration": 368,
    "start_time": "2022-01-02T02:11:08.376Z"
   },
   {
    "duration": 296,
    "start_time": "2022-01-02T02:13:12.948Z"
   },
   {
    "duration": 28,
    "start_time": "2022-01-02T02:15:35.725Z"
   },
   {
    "duration": 26,
    "start_time": "2022-01-02T02:15:54.265Z"
   },
   {
    "duration": 6,
    "start_time": "2022-01-02T02:16:58.236Z"
   },
   {
    "duration": 269,
    "start_time": "2022-01-02T02:17:03.834Z"
   },
   {
    "duration": 6,
    "start_time": "2022-01-02T02:18:41.530Z"
   },
   {
    "duration": 2305,
    "start_time": "2022-01-02T02:18:53.847Z"
   },
   {
    "duration": 563,
    "start_time": "2022-01-02T02:19:28.329Z"
   },
   {
    "duration": 1738,
    "start_time": "2022-01-02T02:19:39.371Z"
   },
   {
    "duration": 31,
    "start_time": "2022-01-02T02:19:41.112Z"
   },
   {
    "duration": 19,
    "start_time": "2022-01-02T02:19:41.148Z"
   },
   {
    "duration": 10,
    "start_time": "2022-01-02T02:19:41.169Z"
   },
   {
    "duration": 14,
    "start_time": "2022-01-02T02:19:41.181Z"
   },
   {
    "duration": 9,
    "start_time": "2022-01-02T02:19:41.197Z"
   },
   {
    "duration": 62,
    "start_time": "2022-01-02T02:19:41.209Z"
   },
   {
    "duration": 12,
    "start_time": "2022-01-02T02:19:41.276Z"
   },
   {
    "duration": 37,
    "start_time": "2022-01-02T02:19:41.292Z"
   },
   {
    "duration": 79,
    "start_time": "2022-01-02T02:19:41.331Z"
   },
   {
    "duration": 56,
    "start_time": "2022-01-02T02:19:41.413Z"
   },
   {
    "duration": 96,
    "start_time": "2022-01-02T02:19:41.473Z"
   },
   {
    "duration": 18,
    "start_time": "2022-01-02T02:19:41.571Z"
   },
   {
    "duration": 20,
    "start_time": "2022-01-02T02:19:41.591Z"
   },
   {
    "duration": 32,
    "start_time": "2022-01-02T02:19:41.613Z"
   },
   {
    "duration": 20,
    "start_time": "2022-01-02T02:19:41.647Z"
   },
   {
    "duration": 28,
    "start_time": "2022-01-02T02:19:41.670Z"
   },
   {
    "duration": 13,
    "start_time": "2022-01-02T02:19:41.701Z"
   },
   {
    "duration": 18,
    "start_time": "2022-01-02T02:19:41.716Z"
   },
   {
    "duration": 74,
    "start_time": "2022-01-02T02:19:41.737Z"
   },
   {
    "duration": 26,
    "start_time": "2022-01-02T02:19:41.814Z"
   },
   {
    "duration": 38,
    "start_time": "2022-01-02T02:19:41.843Z"
   },
   {
    "duration": 15,
    "start_time": "2022-01-02T02:19:41.886Z"
   },
   {
    "duration": 16,
    "start_time": "2022-01-02T02:19:41.904Z"
   },
   {
    "duration": 12,
    "start_time": "2022-01-02T02:19:41.923Z"
   },
   {
    "duration": 134,
    "start_time": "2022-01-02T02:19:41.938Z"
   },
   {
    "duration": 16,
    "start_time": "2022-01-02T02:19:42.075Z"
   },
   {
    "duration": 15,
    "start_time": "2022-01-02T02:19:42.094Z"
   },
   {
    "duration": 5,
    "start_time": "2022-01-02T02:19:42.111Z"
   },
   {
    "duration": 37,
    "start_time": "2022-01-02T02:19:42.118Z"
   },
   {
    "duration": 11,
    "start_time": "2022-01-02T02:19:42.157Z"
   },
   {
    "duration": 390,
    "start_time": "2022-01-02T02:19:42.170Z"
   },
   {
    "duration": 146,
    "start_time": "2022-01-02T02:19:42.563Z"
   },
   {
    "duration": 11,
    "start_time": "2022-01-02T02:19:42.711Z"
   },
   {
    "duration": 876,
    "start_time": "2022-01-02T02:19:42.725Z"
   },
   {
    "duration": 102,
    "start_time": "2022-01-02T02:19:43.604Z"
   },
   {
    "duration": 382,
    "start_time": "2022-01-02T02:19:43.708Z"
   },
   {
    "duration": 285,
    "start_time": "2022-01-02T02:19:44.092Z"
   },
   {
    "duration": 26,
    "start_time": "2022-01-02T02:19:44.379Z"
   },
   {
    "duration": 8,
    "start_time": "2022-01-02T02:19:44.408Z"
   },
   {
    "duration": 300,
    "start_time": "2022-01-02T02:19:44.418Z"
   },
   {
    "duration": 7,
    "start_time": "2022-01-02T02:19:44.720Z"
   },
   {
    "duration": 1897,
    "start_time": "2022-01-02T02:19:44.729Z"
   },
   {
    "duration": 1893,
    "start_time": "2022-01-02T02:20:11.992Z"
   },
   {
    "duration": 1623,
    "start_time": "2022-01-02T02:20:41.552Z"
   },
   {
    "duration": 11,
    "start_time": "2022-01-02T02:21:20.961Z"
   },
   {
    "duration": 617,
    "start_time": "2022-01-02T02:21:31.921Z"
   },
   {
    "duration": 522,
    "start_time": "2022-01-02T02:23:18.441Z"
   },
   {
    "duration": 1925,
    "start_time": "2022-01-02T02:23:28.853Z"
   },
   {
    "duration": 26,
    "start_time": "2022-01-02T02:23:30.781Z"
   },
   {
    "duration": 16,
    "start_time": "2022-01-02T02:23:30.810Z"
   },
   {
    "duration": 24,
    "start_time": "2022-01-02T02:23:30.829Z"
   },
   {
    "duration": 27,
    "start_time": "2022-01-02T02:23:30.856Z"
   },
   {
    "duration": 21,
    "start_time": "2022-01-02T02:23:30.886Z"
   },
   {
    "duration": 31,
    "start_time": "2022-01-02T02:23:30.909Z"
   },
   {
    "duration": 35,
    "start_time": "2022-01-02T02:23:30.944Z"
   },
   {
    "duration": 118,
    "start_time": "2022-01-02T02:23:30.982Z"
   },
   {
    "duration": 69,
    "start_time": "2022-01-02T02:23:31.103Z"
   },
   {
    "duration": 29,
    "start_time": "2022-01-02T02:23:31.175Z"
   },
   {
    "duration": 107,
    "start_time": "2022-01-02T02:23:31.207Z"
   },
   {
    "duration": 20,
    "start_time": "2022-01-02T02:23:31.317Z"
   },
   {
    "duration": 43,
    "start_time": "2022-01-02T02:23:31.341Z"
   },
   {
    "duration": 34,
    "start_time": "2022-01-02T02:23:31.387Z"
   },
   {
    "duration": 6,
    "start_time": "2022-01-02T02:23:31.424Z"
   },
   {
    "duration": 63,
    "start_time": "2022-01-02T02:23:31.433Z"
   },
   {
    "duration": 16,
    "start_time": "2022-01-02T02:23:31.499Z"
   },
   {
    "duration": 55,
    "start_time": "2022-01-02T02:23:31.518Z"
   },
   {
    "duration": 67,
    "start_time": "2022-01-02T02:23:31.576Z"
   },
   {
    "duration": 43,
    "start_time": "2022-01-02T02:23:31.646Z"
   },
   {
    "duration": 49,
    "start_time": "2022-01-02T02:23:31.691Z"
   },
   {
    "duration": 29,
    "start_time": "2022-01-02T02:23:31.745Z"
   },
   {
    "duration": 35,
    "start_time": "2022-01-02T02:23:31.777Z"
   },
   {
    "duration": 24,
    "start_time": "2022-01-02T02:23:31.814Z"
   },
   {
    "duration": 134,
    "start_time": "2022-01-02T02:23:31.841Z"
   },
   {
    "duration": 17,
    "start_time": "2022-01-02T02:23:31.977Z"
   },
   {
    "duration": 31,
    "start_time": "2022-01-02T02:23:31.996Z"
   },
   {
    "duration": 22,
    "start_time": "2022-01-02T02:23:32.030Z"
   },
   {
    "duration": 54,
    "start_time": "2022-01-02T02:23:32.054Z"
   },
   {
    "duration": 5,
    "start_time": "2022-01-02T02:23:32.111Z"
   },
   {
    "duration": 402,
    "start_time": "2022-01-02T02:23:32.119Z"
   },
   {
    "duration": 98,
    "start_time": "2022-01-02T02:23:32.523Z"
   },
   {
    "duration": 10,
    "start_time": "2022-01-02T02:23:32.623Z"
   },
   {
    "duration": 405,
    "start_time": "2022-01-02T02:23:32.636Z"
   },
   {
    "duration": 100,
    "start_time": "2022-01-02T02:23:33.043Z"
   },
   {
    "duration": 380,
    "start_time": "2022-01-02T02:23:33.146Z"
   },
   {
    "duration": 304,
    "start_time": "2022-01-02T02:23:33.528Z"
   },
   {
    "duration": 39,
    "start_time": "2022-01-02T02:23:33.834Z"
   },
   {
    "duration": 5,
    "start_time": "2022-01-02T02:23:33.876Z"
   },
   {
    "duration": 282,
    "start_time": "2022-01-02T02:23:33.884Z"
   },
   {
    "duration": 7,
    "start_time": "2022-01-02T02:23:34.168Z"
   },
   {
    "duration": 1879,
    "start_time": "2022-01-02T02:23:34.177Z"
   },
   {
    "duration": 1985,
    "start_time": "2022-01-02T02:23:36.067Z"
   },
   {
    "duration": 1674,
    "start_time": "2022-01-02T02:23:38.054Z"
   },
   {
    "duration": 11,
    "start_time": "2022-01-02T02:23:39.731Z"
   },
   {
    "duration": 540,
    "start_time": "2022-01-02T02:23:39.744Z"
   },
   {
    "duration": 602,
    "start_time": "2022-01-02T02:24:59.334Z"
   },
   {
    "duration": 578,
    "start_time": "2022-01-02T02:25:06.624Z"
   },
   {
    "duration": 557,
    "start_time": "2022-01-02T02:25:48.924Z"
   },
   {
    "duration": 10,
    "start_time": "2022-01-02T02:26:12.343Z"
   },
   {
    "duration": 655,
    "start_time": "2022-01-02T02:27:15.315Z"
   },
   {
    "duration": 13,
    "start_time": "2022-01-02T02:27:43.173Z"
   },
   {
    "duration": 18,
    "start_time": "2022-01-02T02:27:46.632Z"
   },
   {
    "duration": 12,
    "start_time": "2022-01-02T02:28:22.574Z"
   },
   {
    "duration": 27,
    "start_time": "2022-01-02T02:28:31.895Z"
   },
   {
    "duration": 508,
    "start_time": "2022-01-02T02:30:25.559Z"
   },
   {
    "duration": 504,
    "start_time": "2022-01-02T02:31:10.063Z"
   },
   {
    "duration": 14,
    "start_time": "2022-01-02T02:37:20.344Z"
   },
   {
    "duration": 30,
    "start_time": "2022-01-02T02:37:35.936Z"
   },
   {
    "duration": 537,
    "start_time": "2022-01-02T02:38:44.786Z"
   },
   {
    "duration": 12,
    "start_time": "2022-01-02T02:39:35.252Z"
   },
   {
    "duration": 12,
    "start_time": "2022-01-02T02:39:56.330Z"
   },
   {
    "duration": 15,
    "start_time": "2022-01-02T02:40:20.188Z"
   },
   {
    "duration": 42,
    "start_time": "2022-01-02T02:40:29.491Z"
   },
   {
    "duration": 37,
    "start_time": "2022-01-02T02:40:36.610Z"
   },
   {
    "duration": 514,
    "start_time": "2022-01-02T02:41:30.011Z"
   },
   {
    "duration": 14,
    "start_time": "2022-01-02T02:41:43.361Z"
   },
   {
    "duration": 554,
    "start_time": "2022-01-02T02:42:15.429Z"
   },
   {
    "duration": 15,
    "start_time": "2022-01-02T02:42:28.979Z"
   },
   {
    "duration": 13,
    "start_time": "2022-01-02T02:43:39.100Z"
   },
   {
    "duration": 16,
    "start_time": "2022-01-02T02:43:45.287Z"
   },
   {
    "duration": 48,
    "start_time": "2022-01-02T02:43:52.089Z"
   },
   {
    "duration": 16,
    "start_time": "2022-01-02T02:44:06.468Z"
   },
   {
    "duration": 47,
    "start_time": "2022-01-02T02:44:15.198Z"
   },
   {
    "duration": 528,
    "start_time": "2022-01-02T02:44:52.619Z"
   },
   {
    "duration": 542,
    "start_time": "2022-01-02T02:45:43.440Z"
   },
   {
    "duration": 45,
    "start_time": "2022-01-02T02:45:56.591Z"
   },
   {
    "duration": 14,
    "start_time": "2022-01-02T02:46:06.718Z"
   },
   {
    "duration": 19,
    "start_time": "2022-01-02T02:47:52.276Z"
   },
   {
    "duration": 5,
    "start_time": "2022-01-02T02:48:15.909Z"
   },
   {
    "duration": 746,
    "start_time": "2022-01-02T02:48:32.071Z"
   },
   {
    "duration": 20,
    "start_time": "2022-01-02T02:48:33.225Z"
   },
   {
    "duration": 13,
    "start_time": "2022-01-02T02:49:01.107Z"
   },
   {
    "duration": 10,
    "start_time": "2022-01-02T02:51:30.648Z"
   },
   {
    "duration": 101,
    "start_time": "2022-01-02T02:51:44.471Z"
   },
   {
    "duration": 14,
    "start_time": "2022-01-02T02:51:56.378Z"
   },
   {
    "duration": 13,
    "start_time": "2022-01-02T02:52:03.050Z"
   },
   {
    "duration": 10,
    "start_time": "2022-01-02T02:53:58.675Z"
   },
   {
    "duration": 28,
    "start_time": "2022-01-02T02:54:46.389Z"
   },
   {
    "duration": 5,
    "start_time": "2022-01-02T02:55:06.417Z"
   },
   {
    "duration": 117,
    "start_time": "2022-01-02T02:55:11.839Z"
   },
   {
    "duration": 21,
    "start_time": "2022-01-02T02:55:21.678Z"
   },
   {
    "duration": 9,
    "start_time": "2022-01-02T02:55:32.298Z"
   },
   {
    "duration": 9,
    "start_time": "2022-01-02T02:56:18.889Z"
   },
   {
    "duration": 9,
    "start_time": "2022-01-02T02:56:26.321Z"
   },
   {
    "duration": 11,
    "start_time": "2022-01-02T02:56:31.402Z"
   },
   {
    "duration": 13,
    "start_time": "2022-01-02T02:56:57.830Z"
   },
   {
    "duration": 13,
    "start_time": "2022-01-02T02:57:14.902Z"
   },
   {
    "duration": 1959,
    "start_time": "2022-01-04T17:17:25.309Z"
   },
   {
    "duration": 26,
    "start_time": "2022-01-04T17:17:27.270Z"
   },
   {
    "duration": 5,
    "start_time": "2022-01-04T17:17:27.299Z"
   },
   {
    "duration": 10,
    "start_time": "2022-01-04T17:17:27.307Z"
   },
   {
    "duration": 48,
    "start_time": "2022-01-04T17:17:27.319Z"
   },
   {
    "duration": 8,
    "start_time": "2022-01-04T17:17:27.370Z"
   },
   {
    "duration": 19,
    "start_time": "2022-01-04T17:17:27.380Z"
   },
   {
    "duration": 10,
    "start_time": "2022-01-04T17:17:27.403Z"
   },
   {
    "duration": 78,
    "start_time": "2022-01-04T17:17:27.417Z"
   },
   {
    "duration": 45,
    "start_time": "2022-01-04T17:17:27.498Z"
   },
   {
    "duration": 46,
    "start_time": "2022-01-04T17:17:27.546Z"
   },
   {
    "duration": 104,
    "start_time": "2022-01-04T17:17:27.595Z"
   },
   {
    "duration": 18,
    "start_time": "2022-01-04T17:17:27.702Z"
   },
   {
    "duration": 44,
    "start_time": "2022-01-04T17:17:27.723Z"
   },
   {
    "duration": 32,
    "start_time": "2022-01-04T17:17:27.770Z"
   },
   {
    "duration": 4,
    "start_time": "2022-01-04T17:17:27.805Z"
   },
   {
    "duration": 64,
    "start_time": "2022-01-04T17:17:27.812Z"
   },
   {
    "duration": 14,
    "start_time": "2022-01-04T17:17:27.879Z"
   },
   {
    "duration": 18,
    "start_time": "2022-01-04T17:17:27.896Z"
   },
   {
    "duration": 92,
    "start_time": "2022-01-04T17:17:27.916Z"
   },
   {
    "duration": 28,
    "start_time": "2022-01-04T17:17:28.011Z"
   },
   {
    "duration": 45,
    "start_time": "2022-01-04T17:17:28.042Z"
   },
   {
    "duration": 16,
    "start_time": "2022-01-04T17:17:28.093Z"
   },
   {
    "duration": 17,
    "start_time": "2022-01-04T17:17:28.114Z"
   },
   {
    "duration": 41,
    "start_time": "2022-01-04T17:17:28.134Z"
   },
   {
    "duration": 146,
    "start_time": "2022-01-04T17:17:28.178Z"
   },
   {
    "duration": 17,
    "start_time": "2022-01-04T17:17:28.327Z"
   },
   {
    "duration": 29,
    "start_time": "2022-01-04T17:17:28.347Z"
   },
   {
    "duration": 8,
    "start_time": "2022-01-04T17:17:28.379Z"
   },
   {
    "duration": 37,
    "start_time": "2022-01-04T17:17:28.390Z"
   },
   {
    "duration": 39,
    "start_time": "2022-01-04T17:17:28.429Z"
   },
   {
    "duration": 396,
    "start_time": "2022-01-04T17:17:28.470Z"
   },
   {
    "duration": 81,
    "start_time": "2022-01-04T17:17:28.869Z"
   },
   {
    "duration": 23,
    "start_time": "2022-01-04T17:17:28.953Z"
   },
   {
    "duration": 408,
    "start_time": "2022-01-04T17:17:28.979Z"
   },
   {
    "duration": 100,
    "start_time": "2022-01-04T17:17:29.390Z"
   },
   {
    "duration": 488,
    "start_time": "2022-01-04T17:17:29.492Z"
   },
   {
    "duration": 300,
    "start_time": "2022-01-04T17:17:29.983Z"
   },
   {
    "duration": 28,
    "start_time": "2022-01-04T17:17:30.286Z"
   },
   {
    "duration": 21,
    "start_time": "2022-01-04T17:17:30.317Z"
   },
   {
    "duration": 278,
    "start_time": "2022-01-04T17:17:30.340Z"
   },
   {
    "duration": 6,
    "start_time": "2022-01-04T17:17:30.620Z"
   },
   {
    "duration": 1941,
    "start_time": "2022-01-04T17:17:30.629Z"
   },
   {
    "duration": 2107,
    "start_time": "2022-01-04T17:17:32.572Z"
   },
   {
    "duration": 1663,
    "start_time": "2022-01-04T17:17:34.682Z"
   },
   {
    "duration": 21,
    "start_time": "2022-01-04T17:17:36.347Z"
   },
   {
    "duration": 583,
    "start_time": "2022-01-04T17:17:36.371Z"
   },
   {
    "duration": 15,
    "start_time": "2022-01-04T17:17:36.956Z"
   },
   {
    "duration": 586,
    "start_time": "2022-01-04T17:17:36.974Z"
   },
   {
    "duration": 13,
    "start_time": "2022-01-04T17:17:37.562Z"
   },
   {
    "duration": 11,
    "start_time": "2022-01-04T17:17:37.577Z"
   },
   {
    "duration": 30,
    "start_time": "2022-01-04T17:17:37.590Z"
   },
   {
    "duration": 553,
    "start_time": "2022-01-04T17:17:37.622Z"
   },
   {
    "duration": 14,
    "start_time": "2022-01-04T17:17:38.177Z"
   },
   {
    "duration": 30,
    "start_time": "2022-01-04T17:17:38.193Z"
   },
   {
    "duration": 568,
    "start_time": "2022-01-04T17:17:38.225Z"
   },
   {
    "duration": 11,
    "start_time": "2022-01-04T17:17:38.795Z"
   },
   {
    "duration": 14,
    "start_time": "2022-01-04T17:17:38.809Z"
   },
   {
    "duration": 66,
    "start_time": "2022-01-04T17:17:38.825Z"
   },
   {
    "duration": 124,
    "start_time": "2022-01-04T17:17:38.893Z"
   },
   {
    "duration": 548,
    "start_time": "2022-01-04T17:17:39.019Z"
   },
   {
    "duration": 15,
    "start_time": "2022-01-04T17:17:39.569Z"
   },
   {
    "duration": 580,
    "start_time": "2022-01-04T17:17:39.587Z"
   },
   {
    "duration": 16,
    "start_time": "2022-01-04T17:17:40.170Z"
   },
   {
    "duration": 10,
    "start_time": "2022-01-04T17:17:40.189Z"
   },
   {
    "duration": 15,
    "start_time": "2022-01-04T17:17:40.202Z"
   },
   {
    "duration": 86,
    "start_time": "2022-01-04T17:17:40.219Z"
   },
   {
    "duration": 72,
    "start_time": "2022-01-04T17:17:40.312Z"
   },
   {
    "duration": 541,
    "start_time": "2022-01-04T17:17:40.387Z"
   },
   {
    "duration": 556,
    "start_time": "2022-01-04T17:17:40.931Z"
   },
   {
    "duration": 44,
    "start_time": "2022-01-04T17:17:41.489Z"
   },
   {
    "duration": 36,
    "start_time": "2022-01-04T17:17:41.536Z"
   },
   {
    "duration": 20,
    "start_time": "2022-01-04T17:17:41.575Z"
   },
   {
    "duration": 5,
    "start_time": "2022-01-04T17:17:41.598Z"
   },
   {
    "duration": 774,
    "start_time": "2022-01-04T17:17:41.605Z"
   },
   {
    "duration": 20,
    "start_time": "2022-01-04T17:17:42.382Z"
   },
   {
    "duration": 22,
    "start_time": "2022-01-04T17:17:42.405Z"
   },
   {
    "duration": 10,
    "start_time": "2022-01-04T17:17:42.430Z"
   },
   {
    "duration": 38,
    "start_time": "2022-01-04T17:17:42.442Z"
   },
   {
    "duration": 12,
    "start_time": "2022-01-04T17:17:42.483Z"
   },
   {
    "duration": 31,
    "start_time": "2022-01-04T17:17:42.497Z"
   },
   {
    "duration": 37,
    "start_time": "2022-01-04T17:17:42.530Z"
   },
   {
    "duration": 144,
    "start_time": "2022-01-04T17:17:42.570Z"
   },
   {
    "duration": 21,
    "start_time": "2022-01-04T17:17:42.716Z"
   },
   {
    "duration": 28,
    "start_time": "2022-01-04T17:17:42.739Z"
   },
   {
    "duration": 9,
    "start_time": "2022-01-04T17:17:42.770Z"
   },
   {
    "duration": 20,
    "start_time": "2022-01-04T17:17:42.781Z"
   },
   {
    "duration": 12,
    "start_time": "2022-01-04T17:17:42.804Z"
   },
   {
    "duration": 2021,
    "start_time": "2022-01-04T17:39:33.778Z"
   },
   {
    "duration": 27,
    "start_time": "2022-01-04T17:39:35.803Z"
   },
   {
    "duration": 11,
    "start_time": "2022-01-04T17:39:35.833Z"
   },
   {
    "duration": 27,
    "start_time": "2022-01-04T17:39:35.847Z"
   },
   {
    "duration": 14,
    "start_time": "2022-01-04T17:39:35.876Z"
   },
   {
    "duration": 8,
    "start_time": "2022-01-04T17:39:35.893Z"
   },
   {
    "duration": 23,
    "start_time": "2022-01-04T17:39:35.904Z"
   },
   {
    "duration": 42,
    "start_time": "2022-01-04T17:39:35.931Z"
   },
   {
    "duration": 42,
    "start_time": "2022-01-04T17:39:35.975Z"
   },
   {
    "duration": 70,
    "start_time": "2022-01-04T17:39:36.021Z"
   },
   {
    "duration": 26,
    "start_time": "2022-01-04T17:39:36.094Z"
   },
   {
    "duration": 101,
    "start_time": "2022-01-04T17:39:36.123Z"
   },
   {
    "duration": 19,
    "start_time": "2022-01-04T17:39:36.227Z"
   },
   {
    "duration": 37,
    "start_time": "2022-01-04T17:39:36.248Z"
   },
   {
    "duration": 35,
    "start_time": "2022-01-04T17:39:36.288Z"
   },
   {
    "duration": 4,
    "start_time": "2022-01-04T17:39:36.326Z"
   },
   {
    "duration": 33,
    "start_time": "2022-01-04T17:39:36.367Z"
   },
   {
    "duration": 14,
    "start_time": "2022-01-04T17:39:36.402Z"
   },
   {
    "duration": 17,
    "start_time": "2022-01-04T17:39:36.419Z"
   },
   {
    "duration": 69,
    "start_time": "2022-01-04T17:39:36.468Z"
   },
   {
    "duration": 40,
    "start_time": "2022-01-04T17:39:36.540Z"
   },
   {
    "duration": 26,
    "start_time": "2022-01-04T17:39:36.583Z"
   },
   {
    "duration": 15,
    "start_time": "2022-01-04T17:39:36.615Z"
   },
   {
    "duration": 17,
    "start_time": "2022-01-04T17:39:36.667Z"
   },
   {
    "duration": 14,
    "start_time": "2022-01-04T17:39:36.686Z"
   },
   {
    "duration": 143,
    "start_time": "2022-01-04T17:39:36.702Z"
   },
   {
    "duration": 22,
    "start_time": "2022-01-04T17:39:36.847Z"
   },
   {
    "duration": 20,
    "start_time": "2022-01-04T17:39:36.872Z"
   },
   {
    "duration": 5,
    "start_time": "2022-01-04T17:39:36.895Z"
   },
   {
    "duration": 39,
    "start_time": "2022-01-04T17:39:36.902Z"
   },
   {
    "duration": 28,
    "start_time": "2022-01-04T17:39:36.943Z"
   },
   {
    "duration": 406,
    "start_time": "2022-01-04T17:39:36.974Z"
   },
   {
    "duration": 102,
    "start_time": "2022-01-04T17:39:37.384Z"
   },
   {
    "duration": 11,
    "start_time": "2022-01-04T17:39:37.489Z"
   },
   {
    "duration": 413,
    "start_time": "2022-01-04T17:39:37.503Z"
   },
   {
    "duration": 108,
    "start_time": "2022-01-04T17:39:37.920Z"
   },
   {
    "duration": 558,
    "start_time": "2022-01-04T17:39:38.031Z"
   },
   {
    "duration": -1065,
    "start_time": "2022-01-04T17:39:39.658Z"
   },
   {
    "duration": -1069,
    "start_time": "2022-01-04T17:39:39.664Z"
   },
   {
    "duration": -1072,
    "start_time": "2022-01-04T17:39:39.669Z"
   },
   {
    "duration": -1074,
    "start_time": "2022-01-04T17:39:39.673Z"
   },
   {
    "duration": -1077,
    "start_time": "2022-01-04T17:39:39.678Z"
   },
   {
    "duration": -1080,
    "start_time": "2022-01-04T17:39:39.683Z"
   },
   {
    "duration": -1142,
    "start_time": "2022-01-04T17:39:39.748Z"
   },
   {
    "duration": -1145,
    "start_time": "2022-01-04T17:39:39.753Z"
   },
   {
    "duration": -1148,
    "start_time": "2022-01-04T17:39:39.759Z"
   },
   {
    "duration": -1151,
    "start_time": "2022-01-04T17:39:39.764Z"
   },
   {
    "duration": -1155,
    "start_time": "2022-01-04T17:39:39.770Z"
   },
   {
    "duration": -1160,
    "start_time": "2022-01-04T17:39:39.777Z"
   },
   {
    "duration": -1164,
    "start_time": "2022-01-04T17:39:39.783Z"
   },
   {
    "duration": -1168,
    "start_time": "2022-01-04T17:39:39.789Z"
   },
   {
    "duration": -1172,
    "start_time": "2022-01-04T17:39:39.796Z"
   },
   {
    "duration": -1176,
    "start_time": "2022-01-04T17:39:39.802Z"
   },
   {
    "duration": -1181,
    "start_time": "2022-01-04T17:39:39.809Z"
   },
   {
    "duration": -1185,
    "start_time": "2022-01-04T17:39:39.815Z"
   },
   {
    "duration": -1190,
    "start_time": "2022-01-04T17:39:39.821Z"
   },
   {
    "duration": -1195,
    "start_time": "2022-01-04T17:39:39.827Z"
   },
   {
    "duration": -1166,
    "start_time": "2022-01-04T17:39:39.834Z"
   },
   {
    "duration": -1169,
    "start_time": "2022-01-04T17:39:39.839Z"
   },
   {
    "duration": -1208,
    "start_time": "2022-01-04T17:39:39.880Z"
   },
   {
    "duration": -1211,
    "start_time": "2022-01-04T17:39:39.886Z"
   },
   {
    "duration": -1216,
    "start_time": "2022-01-04T17:39:39.892Z"
   },
   {
    "duration": -1219,
    "start_time": "2022-01-04T17:39:39.898Z"
   },
   {
    "duration": -1223,
    "start_time": "2022-01-04T17:39:39.904Z"
   },
   {
    "duration": -1227,
    "start_time": "2022-01-04T17:39:39.910Z"
   },
   {
    "duration": -1232,
    "start_time": "2022-01-04T17:39:39.917Z"
   },
   {
    "duration": -1235,
    "start_time": "2022-01-04T17:39:39.922Z"
   },
   {
    "duration": -1239,
    "start_time": "2022-01-04T17:39:39.928Z"
   },
   {
    "duration": -1241,
    "start_time": "2022-01-04T17:39:39.932Z"
   },
   {
    "duration": -1245,
    "start_time": "2022-01-04T17:39:39.938Z"
   },
   {
    "duration": -1248,
    "start_time": "2022-01-04T17:39:39.943Z"
   },
   {
    "duration": -1251,
    "start_time": "2022-01-04T17:39:39.948Z"
   },
   {
    "duration": -1254,
    "start_time": "2022-01-04T17:39:39.953Z"
   },
   {
    "duration": -1257,
    "start_time": "2022-01-04T17:39:39.958Z"
   },
   {
    "duration": -1260,
    "start_time": "2022-01-04T17:39:39.963Z"
   },
   {
    "duration": -1201,
    "start_time": "2022-01-04T17:39:39.968Z"
   },
   {
    "duration": -1205,
    "start_time": "2022-01-04T17:39:39.973Z"
   },
   {
    "duration": -1238,
    "start_time": "2022-01-04T17:39:40.008Z"
   },
   {
    "duration": -1242,
    "start_time": "2022-01-04T17:39:40.013Z"
   },
   {
    "duration": -1247,
    "start_time": "2022-01-04T17:39:40.019Z"
   },
   {
    "duration": -1251,
    "start_time": "2022-01-04T17:39:40.024Z"
   },
   {
    "duration": -1255,
    "start_time": "2022-01-04T17:39:40.030Z"
   },
   {
    "duration": -1258,
    "start_time": "2022-01-04T17:39:40.034Z"
   },
   {
    "duration": -1262,
    "start_time": "2022-01-04T17:39:40.039Z"
   },
   {
    "duration": -1265,
    "start_time": "2022-01-04T17:39:40.044Z"
   },
   {
    "duration": -1269,
    "start_time": "2022-01-04T17:39:40.049Z"
   },
   {
    "duration": -1271,
    "start_time": "2022-01-04T17:39:40.053Z"
   },
   {
    "duration": -1275,
    "start_time": "2022-01-04T17:39:40.058Z"
   },
   {
    "duration": -1279,
    "start_time": "2022-01-04T17:39:40.063Z"
   },
   {
    "duration": 5,
    "start_time": "2022-01-04T17:39:54.435Z"
   },
   {
    "duration": 402,
    "start_time": "2022-01-04T17:44:23.611Z"
   },
   {
    "duration": 301,
    "start_time": "2022-01-04T17:44:24.016Z"
   },
   {
    "duration": 47,
    "start_time": "2022-01-04T17:44:24.320Z"
   },
   {
    "duration": 5,
    "start_time": "2022-01-04T17:44:24.370Z"
   },
   {
    "duration": 282,
    "start_time": "2022-01-04T17:44:24.377Z"
   },
   {
    "duration": 7,
    "start_time": "2022-01-04T17:44:24.666Z"
   },
   {
    "duration": 1954,
    "start_time": "2022-01-04T17:44:24.676Z"
   },
   {
    "duration": 2020,
    "start_time": "2022-01-04T17:44:26.634Z"
   },
   {
    "duration": 1726,
    "start_time": "2022-01-04T17:44:28.657Z"
   },
   {
    "duration": 13,
    "start_time": "2022-01-04T17:44:30.386Z"
   },
   {
    "duration": 623,
    "start_time": "2022-01-04T17:44:30.402Z"
   },
   {
    "duration": 12,
    "start_time": "2022-01-04T17:44:31.028Z"
   },
   {
    "duration": 615,
    "start_time": "2022-01-04T17:44:31.043Z"
   },
   {
    "duration": 13,
    "start_time": "2022-01-04T17:44:31.667Z"
   },
   {
    "duration": 15,
    "start_time": "2022-01-04T17:44:31.683Z"
   },
   {
    "duration": 32,
    "start_time": "2022-01-04T17:44:31.700Z"
   },
   {
    "duration": 541,
    "start_time": "2022-01-04T17:44:31.734Z"
   },
   {
    "duration": 12,
    "start_time": "2022-01-04T17:44:32.278Z"
   },
   {
    "duration": 27,
    "start_time": "2022-01-04T17:44:32.293Z"
   },
   {
    "duration": 551,
    "start_time": "2022-01-04T17:44:32.323Z"
   },
   {
    "duration": 11,
    "start_time": "2022-01-04T17:44:32.876Z"
   },
   {
    "duration": 22,
    "start_time": "2022-01-04T17:44:32.890Z"
   },
   {
    "duration": 61,
    "start_time": "2022-01-04T17:44:32.917Z"
   },
   {
    "duration": 40,
    "start_time": "2022-01-04T17:44:32.982Z"
   },
   {
    "duration": 629,
    "start_time": "2022-01-04T17:44:33.025Z"
   },
   {
    "duration": 21,
    "start_time": "2022-01-04T17:44:33.656Z"
   },
   {
    "duration": 576,
    "start_time": "2022-01-04T17:44:33.680Z"
   },
   {
    "duration": 19,
    "start_time": "2022-01-04T17:44:34.258Z"
   },
   {
    "duration": 11,
    "start_time": "2022-01-04T17:44:34.279Z"
   },
   {
    "duration": 16,
    "start_time": "2022-01-04T17:44:34.292Z"
   },
   {
    "duration": 79,
    "start_time": "2022-01-04T17:44:34.310Z"
   },
   {
    "duration": 46,
    "start_time": "2022-01-04T17:44:34.392Z"
   },
   {
    "duration": 567,
    "start_time": "2022-01-04T17:44:34.440Z"
   },
   {
    "duration": 560,
    "start_time": "2022-01-04T17:44:35.010Z"
   },
   {
    "duration": 49,
    "start_time": "2022-01-04T17:44:35.572Z"
   },
   {
    "duration": 14,
    "start_time": "2022-01-04T17:44:35.624Z"
   },
   {
    "duration": 20,
    "start_time": "2022-01-04T17:44:35.668Z"
   },
   {
    "duration": 5,
    "start_time": "2022-01-04T17:44:35.691Z"
   },
   {
    "duration": 775,
    "start_time": "2022-01-04T17:44:35.699Z"
   },
   {
    "duration": 21,
    "start_time": "2022-01-04T17:44:36.476Z"
   },
   {
    "duration": 12,
    "start_time": "2022-01-04T17:44:36.499Z"
   },
   {
    "duration": 9,
    "start_time": "2022-01-04T17:44:36.513Z"
   },
   {
    "duration": 50,
    "start_time": "2022-01-04T17:44:36.524Z"
   },
   {
    "duration": 15,
    "start_time": "2022-01-04T17:44:36.576Z"
   },
   {
    "duration": 30,
    "start_time": "2022-01-04T17:44:36.595Z"
   },
   {
    "duration": 5,
    "start_time": "2022-01-04T17:44:36.628Z"
   },
   {
    "duration": 144,
    "start_time": "2022-01-04T17:44:36.669Z"
   },
   {
    "duration": 22,
    "start_time": "2022-01-04T17:44:36.816Z"
   },
   {
    "duration": 28,
    "start_time": "2022-01-04T17:44:36.840Z"
   },
   {
    "duration": 13,
    "start_time": "2022-01-04T17:44:36.870Z"
   },
   {
    "duration": 16,
    "start_time": "2022-01-04T17:44:36.886Z"
   },
   {
    "duration": 12,
    "start_time": "2022-01-04T17:44:36.905Z"
   },
   {
    "duration": 2208,
    "start_time": "2022-01-04T20:58:25.462Z"
   },
   {
    "duration": 25,
    "start_time": "2022-01-04T20:58:27.673Z"
   },
   {
    "duration": 5,
    "start_time": "2022-01-04T20:58:27.701Z"
   },
   {
    "duration": 10,
    "start_time": "2022-01-04T20:58:27.709Z"
   },
   {
    "duration": 43,
    "start_time": "2022-01-04T20:58:27.721Z"
   },
   {
    "duration": 10,
    "start_time": "2022-01-04T20:58:27.768Z"
   },
   {
    "duration": 19,
    "start_time": "2022-01-04T20:58:27.781Z"
   },
   {
    "duration": 12,
    "start_time": "2022-01-04T20:58:27.802Z"
   },
   {
    "duration": 37,
    "start_time": "2022-01-04T20:58:27.861Z"
   },
   {
    "duration": 74,
    "start_time": "2022-01-04T20:58:27.903Z"
   },
   {
    "duration": 30,
    "start_time": "2022-01-04T20:58:27.979Z"
   },
   {
    "duration": 112,
    "start_time": "2022-01-04T20:58:28.012Z"
   },
   {
    "duration": 19,
    "start_time": "2022-01-04T20:58:28.127Z"
   },
   {
    "duration": 20,
    "start_time": "2022-01-04T20:58:28.160Z"
   },
   {
    "duration": 31,
    "start_time": "2022-01-04T20:58:28.182Z"
   },
   {
    "duration": 4,
    "start_time": "2022-01-04T20:58:28.215Z"
   },
   {
    "duration": 31,
    "start_time": "2022-01-04T20:58:28.260Z"
   },
   {
    "duration": 13,
    "start_time": "2022-01-04T20:58:28.293Z"
   },
   {
    "duration": 16,
    "start_time": "2022-01-04T20:58:28.309Z"
   },
   {
    "duration": 96,
    "start_time": "2022-01-04T20:58:28.327Z"
   },
   {
    "duration": 44,
    "start_time": "2022-01-04T20:58:28.425Z"
   },
   {
    "duration": 27,
    "start_time": "2022-01-04T20:58:28.472Z"
   },
   {
    "duration": 16,
    "start_time": "2022-01-04T20:58:28.502Z"
   },
   {
    "duration": 54,
    "start_time": "2022-01-04T20:58:28.521Z"
   },
   {
    "duration": 26,
    "start_time": "2022-01-04T20:58:28.578Z"
   },
   {
    "duration": 157,
    "start_time": "2022-01-04T20:58:28.607Z"
   },
   {
    "duration": 16,
    "start_time": "2022-01-04T20:58:28.771Z"
   },
   {
    "duration": 10,
    "start_time": "2022-01-04T20:58:28.790Z"
   },
   {
    "duration": 4,
    "start_time": "2022-01-04T20:58:28.802Z"
   },
   {
    "duration": 70,
    "start_time": "2022-01-04T20:58:28.808Z"
   },
   {
    "duration": 5,
    "start_time": "2022-01-04T20:58:28.880Z"
   },
   {
    "duration": 482,
    "start_time": "2022-01-04T20:58:28.887Z"
   },
   {
    "duration": 90,
    "start_time": "2022-01-04T20:58:29.371Z"
   },
   {
    "duration": 13,
    "start_time": "2022-01-04T20:58:29.463Z"
   },
   {
    "duration": 389,
    "start_time": "2022-01-04T20:58:29.478Z"
   },
   {
    "duration": 100,
    "start_time": "2022-01-04T20:58:29.869Z"
   },
   {
    "duration": 376,
    "start_time": "2022-01-04T20:58:29.972Z"
   },
   {
    "duration": 416,
    "start_time": "2022-01-04T20:58:30.351Z"
   },
   {
    "duration": 27,
    "start_time": "2022-01-04T20:58:30.769Z"
   },
   {
    "duration": 8,
    "start_time": "2022-01-04T20:58:30.798Z"
   },
   {
    "duration": 300,
    "start_time": "2022-01-04T20:58:30.808Z"
   },
   {
    "duration": 7,
    "start_time": "2022-01-04T20:58:31.111Z"
   },
   {
    "duration": 2154,
    "start_time": "2022-01-04T20:58:31.120Z"
   },
   {
    "duration": 1884,
    "start_time": "2022-01-04T20:58:33.276Z"
   },
   {
    "duration": 1599,
    "start_time": "2022-01-04T20:58:35.163Z"
   },
   {
    "duration": 12,
    "start_time": "2022-01-04T20:58:36.765Z"
   },
   {
    "duration": 583,
    "start_time": "2022-01-04T20:58:36.779Z"
   },
   {
    "duration": 13,
    "start_time": "2022-01-04T20:58:37.364Z"
   },
   {
    "duration": 569,
    "start_time": "2022-01-04T20:58:37.380Z"
   },
   {
    "duration": 16,
    "start_time": "2022-01-04T20:58:37.951Z"
   },
   {
    "duration": 11,
    "start_time": "2022-01-04T20:58:37.970Z"
   },
   {
    "duration": 27,
    "start_time": "2022-01-04T20:58:37.983Z"
   },
   {
    "duration": 520,
    "start_time": "2022-01-04T20:58:38.012Z"
   },
   {
    "duration": 29,
    "start_time": "2022-01-04T20:58:38.535Z"
   },
   {
    "duration": 28,
    "start_time": "2022-01-04T20:58:38.567Z"
   },
   {
    "duration": 561,
    "start_time": "2022-01-04T20:58:38.598Z"
   },
   {
    "duration": 13,
    "start_time": "2022-01-04T20:58:39.161Z"
   },
   {
    "duration": 15,
    "start_time": "2022-01-04T20:58:39.177Z"
   },
   {
    "duration": 70,
    "start_time": "2022-01-04T20:58:39.195Z"
   },
   {
    "duration": 127,
    "start_time": "2022-01-04T20:58:39.268Z"
   },
   {
    "duration": 525,
    "start_time": "2022-01-04T20:58:39.398Z"
   },
   {
    "duration": 12,
    "start_time": "2022-01-04T20:58:39.926Z"
   },
   {
    "duration": 545,
    "start_time": "2022-01-04T20:58:39.941Z"
   },
   {
    "duration": 13,
    "start_time": "2022-01-04T20:58:40.488Z"
   },
   {
    "duration": 11,
    "start_time": "2022-01-04T20:58:40.503Z"
   },
   {
    "duration": 43,
    "start_time": "2022-01-04T20:58:40.516Z"
   },
   {
    "duration": 43,
    "start_time": "2022-01-04T20:58:40.561Z"
   },
   {
    "duration": 71,
    "start_time": "2022-01-04T20:58:40.607Z"
   },
   {
    "duration": 529,
    "start_time": "2022-01-04T20:58:40.680Z"
   },
   {
    "duration": 533,
    "start_time": "2022-01-04T20:58:41.211Z"
   },
   {
    "duration": 54,
    "start_time": "2022-01-04T20:58:41.746Z"
   },
   {
    "duration": 14,
    "start_time": "2022-01-04T20:58:41.802Z"
   },
   {
    "duration": 47,
    "start_time": "2022-01-04T20:58:41.818Z"
   },
   {
    "duration": 8,
    "start_time": "2022-01-04T20:58:41.867Z"
   },
   {
    "duration": 720,
    "start_time": "2022-01-04T20:58:41.877Z"
   },
   {
    "duration": 19,
    "start_time": "2022-01-04T20:58:42.599Z"
   },
   {
    "duration": 12,
    "start_time": "2022-01-04T20:58:42.621Z"
   },
   {
    "duration": 31,
    "start_time": "2022-01-04T20:58:42.635Z"
   },
   {
    "duration": 17,
    "start_time": "2022-01-04T20:58:42.668Z"
   },
   {
    "duration": 12,
    "start_time": "2022-01-04T20:58:42.687Z"
   },
   {
    "duration": 72,
    "start_time": "2022-01-04T20:58:42.709Z"
   },
   {
    "duration": 4,
    "start_time": "2022-01-04T20:58:42.784Z"
   },
   {
    "duration": 134,
    "start_time": "2022-01-04T20:58:42.790Z"
   },
   {
    "duration": 20,
    "start_time": "2022-01-04T20:58:42.926Z"
   },
   {
    "duration": 8,
    "start_time": "2022-01-04T20:58:42.959Z"
   },
   {
    "duration": 12,
    "start_time": "2022-01-04T20:58:42.969Z"
   },
   {
    "duration": 21,
    "start_time": "2022-01-04T20:58:42.984Z"
   },
   {
    "duration": 12,
    "start_time": "2022-01-04T20:58:43.007Z"
   },
   {
    "duration": 1923,
    "start_time": "2022-01-04T22:31:20.288Z"
   },
   {
    "duration": 26,
    "start_time": "2022-01-04T22:31:22.214Z"
   },
   {
    "duration": 20,
    "start_time": "2022-01-04T22:31:22.243Z"
   },
   {
    "duration": 9,
    "start_time": "2022-01-04T22:31:22.266Z"
   },
   {
    "duration": 13,
    "start_time": "2022-01-04T22:31:22.277Z"
   },
   {
    "duration": 8,
    "start_time": "2022-01-04T22:31:22.293Z"
   },
   {
    "duration": 69,
    "start_time": "2022-01-04T22:31:22.303Z"
   },
   {
    "duration": 11,
    "start_time": "2022-01-04T22:31:22.376Z"
   },
   {
    "duration": 35,
    "start_time": "2022-01-04T22:31:22.390Z"
   },
   {
    "duration": 71,
    "start_time": "2022-01-04T22:31:22.428Z"
   },
   {
    "duration": 27,
    "start_time": "2022-01-04T22:31:22.502Z"
   },
   {
    "duration": 98,
    "start_time": "2022-01-04T22:31:22.531Z"
   },
   {
    "duration": 39,
    "start_time": "2022-01-04T22:31:22.631Z"
   },
   {
    "duration": 19,
    "start_time": "2022-01-04T22:31:22.673Z"
   },
   {
    "duration": 30,
    "start_time": "2022-01-04T22:31:22.695Z"
   },
   {
    "duration": 5,
    "start_time": "2022-01-04T22:31:22.759Z"
   },
   {
    "duration": 31,
    "start_time": "2022-01-04T22:31:22.766Z"
   },
   {
    "duration": 14,
    "start_time": "2022-01-04T22:31:22.799Z"
   },
   {
    "duration": 46,
    "start_time": "2022-01-04T22:31:22.815Z"
   },
   {
    "duration": 61,
    "start_time": "2022-01-04T22:31:22.864Z"
   },
   {
    "duration": 41,
    "start_time": "2022-01-04T22:31:22.927Z"
   },
   {
    "duration": 24,
    "start_time": "2022-01-04T22:31:22.971Z"
   },
   {
    "duration": 14,
    "start_time": "2022-01-04T22:31:23.001Z"
   },
   {
    "duration": 47,
    "start_time": "2022-01-04T22:31:23.019Z"
   },
   {
    "duration": 11,
    "start_time": "2022-01-04T22:31:23.068Z"
   },
   {
    "duration": 143,
    "start_time": "2022-01-04T22:31:23.082Z"
   },
   {
    "duration": 15,
    "start_time": "2022-01-04T22:31:23.227Z"
   },
   {
    "duration": 11,
    "start_time": "2022-01-04T22:31:23.259Z"
   },
   {
    "duration": 5,
    "start_time": "2022-01-04T22:31:23.272Z"
   },
   {
    "duration": 33,
    "start_time": "2022-01-04T22:31:23.279Z"
   },
   {
    "duration": 6,
    "start_time": "2022-01-04T22:31:23.314Z"
   },
   {
    "duration": 377,
    "start_time": "2022-01-04T22:31:23.360Z"
   },
   {
    "duration": 91,
    "start_time": "2022-01-04T22:31:23.740Z"
   },
   {
    "duration": 28,
    "start_time": "2022-01-04T22:31:23.833Z"
   },
   {
    "duration": 399,
    "start_time": "2022-01-04T22:31:23.864Z"
   },
   {
    "duration": 95,
    "start_time": "2022-01-04T22:31:24.265Z"
   },
   {
    "duration": 373,
    "start_time": "2022-01-04T22:31:24.363Z"
   },
   {
    "duration": 300,
    "start_time": "2022-01-04T22:31:24.738Z"
   },
   {
    "duration": 32,
    "start_time": "2022-01-04T22:31:25.041Z"
   },
   {
    "duration": 5,
    "start_time": "2022-01-04T22:31:25.076Z"
   },
   {
    "duration": 277,
    "start_time": "2022-01-04T22:31:25.084Z"
   },
   {
    "duration": 7,
    "start_time": "2022-01-04T22:31:25.363Z"
   },
   {
    "duration": 1898,
    "start_time": "2022-01-04T22:31:25.372Z"
   },
   {
    "duration": 1897,
    "start_time": "2022-01-04T22:31:27.272Z"
   },
   {
    "duration": 1653,
    "start_time": "2022-01-04T22:31:29.171Z"
   },
   {
    "duration": 33,
    "start_time": "2022-01-04T22:31:30.826Z"
   },
   {
    "duration": 11,
    "start_time": "2022-01-04T22:31:30.862Z"
   },
   {
    "duration": 598,
    "start_time": "2022-01-04T22:31:30.876Z"
   },
   {
    "duration": 12,
    "start_time": "2022-01-04T22:31:31.477Z"
   },
   {
    "duration": 581,
    "start_time": "2022-01-04T22:31:31.492Z"
   },
   {
    "duration": 15,
    "start_time": "2022-01-04T22:31:32.076Z"
   },
   {
    "duration": 14,
    "start_time": "2022-01-04T22:31:32.094Z"
   },
   {
    "duration": 70,
    "start_time": "2022-01-04T22:31:32.110Z"
   },
   {
    "duration": 517,
    "start_time": "2022-01-04T22:31:32.182Z"
   },
   {
    "duration": 14,
    "start_time": "2022-01-04T22:31:32.702Z"
   },
   {
    "duration": 49,
    "start_time": "2022-01-04T22:31:32.718Z"
   },
   {
    "duration": 525,
    "start_time": "2022-01-04T22:31:32.769Z"
   },
   {
    "duration": 11,
    "start_time": "2022-01-04T22:31:33.296Z"
   },
   {
    "duration": 20,
    "start_time": "2022-01-04T22:31:33.309Z"
   },
   {
    "duration": 57,
    "start_time": "2022-01-04T22:31:33.331Z"
   },
   {
    "duration": 129,
    "start_time": "2022-01-04T22:31:33.390Z"
   },
   {
    "duration": 544,
    "start_time": "2022-01-04T22:31:33.521Z"
   },
   {
    "duration": 12,
    "start_time": "2022-01-04T22:31:34.068Z"
   },
   {
    "duration": 652,
    "start_time": "2022-01-04T22:31:34.083Z"
   },
   {
    "duration": 26,
    "start_time": "2022-01-04T22:31:34.737Z"
   },
   {
    "duration": 10,
    "start_time": "2022-01-04T22:31:34.766Z"
   },
   {
    "duration": 15,
    "start_time": "2022-01-04T22:31:34.779Z"
   },
   {
    "duration": 76,
    "start_time": "2022-01-04T22:31:34.803Z"
   },
   {
    "duration": 44,
    "start_time": "2022-01-04T22:31:34.882Z"
   },
   {
    "duration": 545,
    "start_time": "2022-01-04T22:31:34.929Z"
   },
   {
    "duration": 533,
    "start_time": "2022-01-04T22:31:35.476Z"
   },
   {
    "duration": 67,
    "start_time": "2022-01-04T22:31:36.011Z"
   },
   {
    "duration": 15,
    "start_time": "2022-01-04T22:31:36.081Z"
   },
   {
    "duration": 21,
    "start_time": "2022-01-04T22:31:36.099Z"
   },
   {
    "duration": 41,
    "start_time": "2022-01-04T22:31:36.123Z"
   },
   {
    "duration": 730,
    "start_time": "2022-01-04T22:31:36.167Z"
   },
   {
    "duration": 22,
    "start_time": "2022-01-04T22:31:36.900Z"
   },
   {
    "duration": 36,
    "start_time": "2022-01-04T22:31:36.925Z"
   },
   {
    "duration": 11,
    "start_time": "2022-01-04T22:31:36.964Z"
   },
   {
    "duration": 14,
    "start_time": "2022-01-04T22:31:36.978Z"
   },
   {
    "duration": 11,
    "start_time": "2022-01-04T22:31:36.994Z"
   },
   {
    "duration": 74,
    "start_time": "2022-01-04T22:31:37.008Z"
   },
   {
    "duration": 5,
    "start_time": "2022-01-04T22:31:37.084Z"
   },
   {
    "duration": 133,
    "start_time": "2022-01-04T22:31:37.091Z"
   },
   {
    "duration": 20,
    "start_time": "2022-01-04T22:31:37.227Z"
   },
   {
    "duration": 8,
    "start_time": "2022-01-04T22:31:37.259Z"
   },
   {
    "duration": 15,
    "start_time": "2022-01-04T22:31:37.269Z"
   },
   {
    "duration": 20,
    "start_time": "2022-01-04T22:31:37.286Z"
   },
   {
    "duration": 16,
    "start_time": "2022-01-04T22:31:37.308Z"
   },
   {
    "duration": 451,
    "start_time": "2022-01-04T22:33:32.215Z"
   },
   {
    "duration": 10756,
    "start_time": "2022-01-04T22:34:25.807Z"
   },
   {
    "duration": 8075,
    "start_time": "2022-01-04T22:34:39.566Z"
   },
   {
    "duration": 353,
    "start_time": "2022-01-04T22:35:50.458Z"
   },
   {
    "duration": 12,
    "start_time": "2022-01-04T22:36:19.890Z"
   },
   {
    "duration": 17,
    "start_time": "2022-01-04T22:36:46.778Z"
   },
   {
    "duration": 17,
    "start_time": "2022-01-04T22:37:19.153Z"
   },
   {
    "duration": 18,
    "start_time": "2022-01-04T22:37:34.757Z"
   },
   {
    "duration": 46,
    "start_time": "2022-01-04T22:37:58.102Z"
   },
   {
    "duration": 20,
    "start_time": "2022-01-04T22:38:02.618Z"
   },
   {
    "duration": 1851,
    "start_time": "2022-01-04T22:40:27.482Z"
   },
   {
    "duration": 29,
    "start_time": "2022-01-04T22:40:29.335Z"
   },
   {
    "duration": 5,
    "start_time": "2022-01-04T22:40:29.367Z"
   },
   {
    "duration": 13,
    "start_time": "2022-01-04T22:40:29.374Z"
   },
   {
    "duration": 12,
    "start_time": "2022-01-04T22:40:29.390Z"
   },
   {
    "duration": 9,
    "start_time": "2022-01-04T22:40:29.404Z"
   },
   {
    "duration": 56,
    "start_time": "2022-01-04T22:40:29.416Z"
   },
   {
    "duration": 10,
    "start_time": "2022-01-04T22:40:29.475Z"
   },
   {
    "duration": 39,
    "start_time": "2022-01-04T22:40:29.488Z"
   },
   {
    "duration": 73,
    "start_time": "2022-01-04T22:40:29.530Z"
   },
   {
    "duration": 27,
    "start_time": "2022-01-04T22:40:29.605Z"
   },
   {
    "duration": 95,
    "start_time": "2022-01-04T22:40:29.634Z"
   },
   {
    "duration": 38,
    "start_time": "2022-01-04T22:40:29.731Z"
   },
   {
    "duration": 20,
    "start_time": "2022-01-04T22:40:29.771Z"
   },
   {
    "duration": 31,
    "start_time": "2022-01-04T22:40:29.794Z"
   },
   {
    "duration": 34,
    "start_time": "2022-01-04T22:40:29.827Z"
   },
   {
    "duration": 30,
    "start_time": "2022-01-04T22:40:29.863Z"
   },
   {
    "duration": 13,
    "start_time": "2022-01-04T22:40:29.896Z"
   },
   {
    "duration": 49,
    "start_time": "2022-01-04T22:40:29.911Z"
   },
   {
    "duration": 60,
    "start_time": "2022-01-04T22:40:29.963Z"
   },
   {
    "duration": 42,
    "start_time": "2022-01-04T22:40:30.025Z"
   },
   {
    "duration": 24,
    "start_time": "2022-01-04T22:40:30.070Z"
   },
   {
    "duration": 15,
    "start_time": "2022-01-04T22:40:30.100Z"
   },
   {
    "duration": 46,
    "start_time": "2022-01-04T22:40:30.119Z"
   },
   {
    "duration": 11,
    "start_time": "2022-01-04T22:40:30.168Z"
   },
   {
    "duration": 183,
    "start_time": "2022-01-04T22:40:30.182Z"
   },
   {
    "duration": 18,
    "start_time": "2022-01-04T22:40:30.368Z"
   },
   {
    "duration": 22,
    "start_time": "2022-01-04T22:40:30.389Z"
   },
   {
    "duration": 11,
    "start_time": "2022-01-04T22:40:30.413Z"
   },
   {
    "duration": 52,
    "start_time": "2022-01-04T22:40:30.426Z"
   },
   {
    "duration": 8,
    "start_time": "2022-01-04T22:40:30.481Z"
   },
   {
    "duration": 429,
    "start_time": "2022-01-04T22:40:30.492Z"
   },
   {
    "duration": 92,
    "start_time": "2022-01-04T22:40:30.923Z"
   },
   {
    "duration": 13,
    "start_time": "2022-01-04T22:40:31.017Z"
   },
   {
    "duration": 396,
    "start_time": "2022-01-04T22:40:31.033Z"
   },
   {
    "duration": 90,
    "start_time": "2022-01-04T22:40:31.431Z"
   },
   {
    "duration": 478,
    "start_time": "2022-01-04T22:40:31.523Z"
   },
   {
    "duration": 424,
    "start_time": "2022-01-04T22:40:32.003Z"
   },
   {
    "duration": 36,
    "start_time": "2022-01-04T22:40:32.429Z"
   },
   {
    "duration": 5,
    "start_time": "2022-01-04T22:40:32.468Z"
   },
   {
    "duration": 261,
    "start_time": "2022-01-04T22:40:32.475Z"
   },
   {
    "duration": 7,
    "start_time": "2022-01-04T22:40:32.739Z"
   },
   {
    "duration": 1828,
    "start_time": "2022-01-04T22:40:32.760Z"
   },
   {
    "duration": 1904,
    "start_time": "2022-01-04T22:40:34.592Z"
   },
   {
    "duration": 1603,
    "start_time": "2022-01-04T22:40:36.498Z"
   },
   {
    "duration": 56,
    "start_time": "2022-01-04T22:40:38.103Z"
   },
   {
    "duration": 54,
    "start_time": "2022-01-04T22:40:38.161Z"
   },
   {
    "duration": 10,
    "start_time": "2022-01-04T22:40:38.217Z"
   },
   {
    "duration": 584,
    "start_time": "2022-01-04T22:40:38.230Z"
   },
   {
    "duration": 44,
    "start_time": "2022-01-04T22:40:38.817Z"
   },
   {
    "duration": 1261,
    "start_time": "2022-01-04T22:40:38.864Z"
   },
   {
    "duration": 13,
    "start_time": "2022-01-04T22:40:40.128Z"
   },
   {
    "duration": 11,
    "start_time": "2022-01-04T22:40:40.160Z"
   },
   {
    "duration": 32,
    "start_time": "2022-01-04T22:40:40.174Z"
   },
   {
    "duration": 526,
    "start_time": "2022-01-04T22:40:40.209Z"
   },
   {
    "duration": 28,
    "start_time": "2022-01-04T22:40:40.739Z"
   },
   {
    "duration": 27,
    "start_time": "2022-01-04T22:40:40.769Z"
   },
   {
    "duration": 643,
    "start_time": "2022-01-04T22:40:40.798Z"
   },
   {
    "duration": 21,
    "start_time": "2022-01-04T22:40:41.444Z"
   },
   {
    "duration": 17,
    "start_time": "2022-01-04T22:40:41.468Z"
   },
   {
    "duration": 35,
    "start_time": "2022-01-04T22:40:41.488Z"
   },
   {
    "duration": 59,
    "start_time": "2022-01-04T22:40:41.526Z"
   },
   {
    "duration": 595,
    "start_time": "2022-01-04T22:40:41.588Z"
   },
   {
    "duration": 13,
    "start_time": "2022-01-04T22:40:42.185Z"
   },
   {
    "duration": 676,
    "start_time": "2022-01-04T22:40:42.200Z"
   },
   {
    "duration": 13,
    "start_time": "2022-01-04T22:40:42.878Z"
   },
   {
    "duration": 12,
    "start_time": "2022-01-04T22:40:42.894Z"
   },
   {
    "duration": 16,
    "start_time": "2022-01-04T22:40:42.966Z"
   },
   {
    "duration": 92,
    "start_time": "2022-01-04T22:40:42.985Z"
   },
   {
    "duration": 96,
    "start_time": "2022-01-04T22:40:43.080Z"
   },
   {
    "duration": 668,
    "start_time": "2022-01-04T22:40:43.178Z"
   },
   {
    "duration": 535,
    "start_time": "2022-01-04T22:40:43.848Z"
   },
   {
    "duration": 44,
    "start_time": "2022-01-04T22:40:44.386Z"
   },
   {
    "duration": 31,
    "start_time": "2022-01-04T22:40:44.432Z"
   },
   {
    "duration": 19,
    "start_time": "2022-01-04T22:40:44.465Z"
   },
   {
    "duration": 6,
    "start_time": "2022-01-04T22:40:44.486Z"
   },
   {
    "duration": 761,
    "start_time": "2022-01-04T22:40:44.494Z"
   },
   {
    "duration": 20,
    "start_time": "2022-01-04T22:40:45.260Z"
   },
   {
    "duration": 13,
    "start_time": "2022-01-04T22:40:45.282Z"
   },
   {
    "duration": 12,
    "start_time": "2022-01-04T22:40:45.297Z"
   },
   {
    "duration": 51,
    "start_time": "2022-01-04T22:40:45.311Z"
   },
   {
    "duration": 12,
    "start_time": "2022-01-04T22:40:45.364Z"
   },
   {
    "duration": 27,
    "start_time": "2022-01-04T22:40:45.379Z"
   },
   {
    "duration": 4,
    "start_time": "2022-01-04T22:40:45.409Z"
   },
   {
    "duration": 219,
    "start_time": "2022-01-04T22:40:45.415Z"
   },
   {
    "duration": 27,
    "start_time": "2022-01-04T22:40:45.636Z"
   },
   {
    "duration": 8,
    "start_time": "2022-01-04T22:40:45.665Z"
   },
   {
    "duration": 17,
    "start_time": "2022-01-04T22:40:45.675Z"
   },
   {
    "duration": 19,
    "start_time": "2022-01-04T22:40:45.694Z"
   },
   {
    "duration": 18,
    "start_time": "2022-01-04T22:40:45.715Z"
   },
   {
    "duration": 97,
    "start_time": "2022-01-04T22:41:15.395Z"
   },
   {
    "duration": 13,
    "start_time": "2022-01-04T22:41:17.472Z"
   },
   {
    "duration": 83,
    "start_time": "2022-01-04T22:41:31.455Z"
   },
   {
    "duration": 14,
    "start_time": "2022-01-04T22:41:32.384Z"
   },
   {
    "duration": 17,
    "start_time": "2022-01-04T22:42:20.476Z"
   },
   {
    "duration": 37,
    "start_time": "2022-01-04T22:42:38.834Z"
   },
   {
    "duration": 22,
    "start_time": "2022-01-04T22:42:46.886Z"
   },
   {
    "duration": 63,
    "start_time": "2022-01-04T22:43:45.701Z"
   },
   {
    "duration": 41,
    "start_time": "2022-01-04T22:44:02.684Z"
   },
   {
    "duration": 9249,
    "start_time": "2022-01-04T22:44:46.208Z"
   },
   {
    "duration": 8232,
    "start_time": "2022-01-04T22:45:04.652Z"
   },
   {
    "duration": 7,
    "start_time": "2022-01-04T22:45:17.492Z"
   },
   {
    "duration": 64,
    "start_time": "2022-01-04T22:45:58.964Z"
   },
   {
    "duration": 56,
    "start_time": "2022-01-04T22:47:08.804Z"
   },
   {
    "duration": 50,
    "start_time": "2022-01-04T22:47:19.292Z"
   },
   {
    "duration": 13,
    "start_time": "2022-01-04T22:47:41.093Z"
   },
   {
    "duration": 12,
    "start_time": "2022-01-04T22:48:27.092Z"
   },
   {
    "duration": 88,
    "start_time": "2022-01-04T22:49:04.803Z"
   },
   {
    "duration": 13,
    "start_time": "2022-01-04T22:49:11.081Z"
   },
   {
    "duration": 16,
    "start_time": "2022-01-04T22:49:38.756Z"
   },
   {
    "duration": 319,
    "start_time": "2022-01-04T22:50:47.447Z"
   },
   {
    "duration": 36,
    "start_time": "2022-01-04T22:50:56.522Z"
   },
   {
    "duration": 20,
    "start_time": "2022-01-04T22:51:00.333Z"
   },
   {
    "duration": 1902,
    "start_time": "2022-01-04T22:59:20.531Z"
   },
   {
    "duration": 30,
    "start_time": "2022-01-04T22:59:22.436Z"
   },
   {
    "duration": 6,
    "start_time": "2022-01-04T22:59:22.469Z"
   },
   {
    "duration": 11,
    "start_time": "2022-01-04T22:59:22.477Z"
   },
   {
    "duration": 17,
    "start_time": "2022-01-04T22:59:22.491Z"
   },
   {
    "duration": 13,
    "start_time": "2022-01-04T22:59:22.510Z"
   },
   {
    "duration": 50,
    "start_time": "2022-01-04T22:59:22.526Z"
   },
   {
    "duration": 10,
    "start_time": "2022-01-04T22:59:22.579Z"
   },
   {
    "duration": 68,
    "start_time": "2022-01-04T22:59:22.593Z"
   },
   {
    "duration": 43,
    "start_time": "2022-01-04T22:59:22.664Z"
   },
   {
    "duration": 27,
    "start_time": "2022-01-04T22:59:22.709Z"
   },
   {
    "duration": 73,
    "start_time": "2022-01-04T22:59:22.760Z"
   },
   {
    "duration": 33,
    "start_time": "2022-01-04T22:59:22.836Z"
   },
   {
    "duration": 19,
    "start_time": "2022-01-04T22:59:22.871Z"
   },
   {
    "duration": 30,
    "start_time": "2022-01-04T22:59:22.892Z"
   },
   {
    "duration": 35,
    "start_time": "2022-01-04T22:59:22.925Z"
   },
   {
    "duration": 31,
    "start_time": "2022-01-04T22:59:22.963Z"
   },
   {
    "duration": 14,
    "start_time": "2022-01-04T22:59:22.996Z"
   },
   {
    "duration": 46,
    "start_time": "2022-01-04T22:59:23.013Z"
   },
   {
    "duration": 62,
    "start_time": "2022-01-04T22:59:23.062Z"
   },
   {
    "duration": 43,
    "start_time": "2022-01-04T22:59:23.126Z"
   },
   {
    "duration": 29,
    "start_time": "2022-01-04T22:59:23.171Z"
   },
   {
    "duration": 15,
    "start_time": "2022-01-04T22:59:23.202Z"
   },
   {
    "duration": 51,
    "start_time": "2022-01-04T22:59:23.219Z"
   },
   {
    "duration": 11,
    "start_time": "2022-01-04T22:59:23.273Z"
   },
   {
    "duration": 137,
    "start_time": "2022-01-04T22:59:23.287Z"
   },
   {
    "duration": 29,
    "start_time": "2022-01-04T22:59:23.431Z"
   },
   {
    "duration": 11,
    "start_time": "2022-01-04T22:59:23.464Z"
   },
   {
    "duration": 4,
    "start_time": "2022-01-04T22:59:23.477Z"
   },
   {
    "duration": 32,
    "start_time": "2022-01-04T22:59:23.484Z"
   },
   {
    "duration": 5,
    "start_time": "2022-01-04T22:59:23.518Z"
   },
   {
    "duration": 377,
    "start_time": "2022-01-04T22:59:23.559Z"
   },
   {
    "duration": 88,
    "start_time": "2022-01-04T22:59:23.938Z"
   },
   {
    "duration": 12,
    "start_time": "2022-01-04T22:59:24.029Z"
   },
   {
    "duration": 385,
    "start_time": "2022-01-04T22:59:24.043Z"
   },
   {
    "duration": 133,
    "start_time": "2022-01-04T22:59:24.431Z"
   },
   {
    "duration": 472,
    "start_time": "2022-01-04T22:59:24.567Z"
   },
   {
    "duration": 287,
    "start_time": "2022-01-04T22:59:25.042Z"
   },
   {
    "duration": 42,
    "start_time": "2022-01-04T22:59:25.332Z"
   },
   {
    "duration": 7,
    "start_time": "2022-01-04T22:59:25.377Z"
   },
   {
    "duration": 256,
    "start_time": "2022-01-04T22:59:25.386Z"
   },
   {
    "duration": 15,
    "start_time": "2022-01-04T22:59:25.644Z"
   },
   {
    "duration": 1840,
    "start_time": "2022-01-04T22:59:25.662Z"
   },
   {
    "duration": 1900,
    "start_time": "2022-01-04T22:59:27.504Z"
   },
   {
    "duration": 1690,
    "start_time": "2022-01-04T22:59:29.407Z"
   },
   {
    "duration": 111,
    "start_time": "2022-01-04T22:59:31.099Z"
   },
   {
    "duration": 13,
    "start_time": "2022-01-04T22:59:31.213Z"
   },
   {
    "duration": 106,
    "start_time": "2022-01-04T22:59:31.228Z"
   },
   {
    "duration": 13,
    "start_time": "2022-01-04T22:59:31.336Z"
   },
   {
    "duration": 37,
    "start_time": "2022-01-04T22:59:31.351Z"
   },
   {
    "duration": 74,
    "start_time": "2022-01-04T22:59:31.390Z"
   },
   {
    "duration": 15,
    "start_time": "2022-01-04T22:59:31.467Z"
   },
   {
    "duration": 12,
    "start_time": "2022-01-04T22:59:31.485Z"
   },
   {
    "duration": 583,
    "start_time": "2022-01-04T22:59:31.500Z"
   },
   {
    "duration": 12,
    "start_time": "2022-01-04T22:59:32.085Z"
   },
   {
    "duration": 793,
    "start_time": "2022-01-04T22:59:32.100Z"
   },
   {
    "duration": 64,
    "start_time": "2022-01-04T22:59:32.896Z"
   },
   {
    "duration": 12,
    "start_time": "2022-01-04T22:59:32.962Z"
   },
   {
    "duration": 26,
    "start_time": "2022-01-04T22:59:32.976Z"
   },
   {
    "duration": 656,
    "start_time": "2022-01-04T22:59:33.060Z"
   },
   {
    "duration": 14,
    "start_time": "2022-01-04T22:59:33.719Z"
   },
   {
    "duration": 46,
    "start_time": "2022-01-04T22:59:33.736Z"
   },
   {
    "duration": 630,
    "start_time": "2022-01-04T22:59:33.785Z"
   },
   {
    "duration": 13,
    "start_time": "2022-01-04T22:59:34.418Z"
   },
   {
    "duration": 38,
    "start_time": "2022-01-04T22:59:34.434Z"
   },
   {
    "duration": 36,
    "start_time": "2022-01-04T22:59:34.475Z"
   },
   {
    "duration": 66,
    "start_time": "2022-01-04T22:59:34.514Z"
   },
   {
    "duration": 580,
    "start_time": "2022-01-04T22:59:34.583Z"
   },
   {
    "duration": 15,
    "start_time": "2022-01-04T22:59:35.166Z"
   },
   {
    "duration": 550,
    "start_time": "2022-01-04T22:59:35.184Z"
   },
   {
    "duration": 24,
    "start_time": "2022-01-04T22:59:35.736Z"
   },
   {
    "duration": 10,
    "start_time": "2022-01-04T22:59:35.763Z"
   },
   {
    "duration": 15,
    "start_time": "2022-01-04T22:59:35.775Z"
   },
   {
    "duration": 72,
    "start_time": "2022-01-04T22:59:35.793Z"
   },
   {
    "duration": 45,
    "start_time": "2022-01-04T22:59:35.867Z"
   },
   {
    "duration": 649,
    "start_time": "2022-01-04T22:59:35.915Z"
   },
   {
    "duration": 543,
    "start_time": "2022-01-04T22:59:36.567Z"
   },
   {
    "duration": 65,
    "start_time": "2022-01-04T22:59:37.114Z"
   },
   {
    "duration": 15,
    "start_time": "2022-01-04T22:59:37.182Z"
   },
   {
    "duration": 20,
    "start_time": "2022-01-04T22:59:37.200Z"
   },
   {
    "duration": 5,
    "start_time": "2022-01-04T22:59:37.259Z"
   },
   {
    "duration": 731,
    "start_time": "2022-01-04T22:59:37.268Z"
   },
   {
    "duration": 22,
    "start_time": "2022-01-04T22:59:38.001Z"
   },
   {
    "duration": 34,
    "start_time": "2022-01-04T22:59:38.026Z"
   },
   {
    "duration": 12,
    "start_time": "2022-01-04T22:59:38.063Z"
   },
   {
    "duration": 13,
    "start_time": "2022-01-04T22:59:38.078Z"
   },
   {
    "duration": 12,
    "start_time": "2022-01-04T22:59:38.094Z"
   },
   {
    "duration": 77,
    "start_time": "2022-01-04T22:59:38.109Z"
   },
   {
    "duration": 5,
    "start_time": "2022-01-04T22:59:38.190Z"
   },
   {
    "duration": 143,
    "start_time": "2022-01-04T22:59:38.198Z"
   },
   {
    "duration": 31,
    "start_time": "2022-01-04T22:59:38.344Z"
   },
   {
    "duration": 9,
    "start_time": "2022-01-04T22:59:38.378Z"
   },
   {
    "duration": 10,
    "start_time": "2022-01-04T22:59:38.391Z"
   },
   {
    "duration": 13,
    "start_time": "2022-01-04T22:59:38.404Z"
   },
   {
    "duration": 14,
    "start_time": "2022-01-04T22:59:38.460Z"
   },
   {
    "duration": 35,
    "start_time": "2022-01-04T23:00:23.095Z"
   },
   {
    "duration": 38,
    "start_time": "2022-01-04T23:02:35.317Z"
   },
   {
    "duration": 101,
    "start_time": "2022-01-04T23:02:58.804Z"
   },
   {
    "duration": 13,
    "start_time": "2022-01-04T23:02:59.704Z"
   },
   {
    "duration": 86,
    "start_time": "2022-01-04T23:03:06.767Z"
   },
   {
    "duration": 14,
    "start_time": "2022-01-04T23:03:09.172Z"
   },
   {
    "duration": 91,
    "start_time": "2022-01-04T23:04:33.915Z"
   },
   {
    "duration": 12,
    "start_time": "2022-01-04T23:04:34.627Z"
   },
   {
    "duration": 90,
    "start_time": "2022-01-04T23:04:35.815Z"
   },
   {
    "duration": 13,
    "start_time": "2022-01-04T23:04:36.634Z"
   },
   {
    "duration": 71,
    "start_time": "2022-01-04T23:05:00.694Z"
   },
   {
    "duration": 13,
    "start_time": "2022-01-04T23:05:09.807Z"
   },
   {
    "duration": 32,
    "start_time": "2022-01-04T23:06:26.017Z"
   },
   {
    "duration": 103,
    "start_time": "2022-01-04T23:10:02.944Z"
   },
   {
    "duration": 111,
    "start_time": "2022-01-04T23:10:10.247Z"
   },
   {
    "duration": 18,
    "start_time": "2022-01-04T23:11:04.327Z"
   },
   {
    "duration": 32,
    "start_time": "2022-01-04T23:11:19.179Z"
   },
   {
    "duration": 106,
    "start_time": "2022-01-04T23:11:28.185Z"
   },
   {
    "duration": 13,
    "start_time": "2022-01-04T23:11:29.367Z"
   },
   {
    "duration": 96,
    "start_time": "2022-01-04T23:11:43.486Z"
   },
   {
    "duration": 13,
    "start_time": "2022-01-04T23:11:44.779Z"
   },
   {
    "duration": 102,
    "start_time": "2022-01-04T23:12:47.703Z"
   },
   {
    "duration": 89,
    "start_time": "2022-01-04T23:19:37.125Z"
   },
   {
    "duration": 90,
    "start_time": "2022-01-04T23:19:43.535Z"
   },
   {
    "duration": 95,
    "start_time": "2022-01-04T23:23:00.083Z"
   },
   {
    "duration": 17,
    "start_time": "2022-01-04T23:24:08.158Z"
   },
   {
    "duration": 8381,
    "start_time": "2022-01-04T23:24:33.249Z"
   },
   {
    "duration": 430,
    "start_time": "2022-01-04T23:24:54.931Z"
   },
   {
    "duration": 59,
    "start_time": "2022-01-04T23:25:52.897Z"
   },
   {
    "duration": 532,
    "start_time": "2022-01-04T23:26:11.345Z"
   },
   {
    "duration": 63,
    "start_time": "2022-01-04T23:27:07.745Z"
   },
   {
    "duration": 46,
    "start_time": "2022-01-04T23:27:14.732Z"
   },
   {
    "duration": 539,
    "start_time": "2022-01-04T23:28:00.655Z"
   },
   {
    "duration": 608,
    "start_time": "2022-01-04T23:28:22.890Z"
   },
   {
    "duration": 587,
    "start_time": "2022-01-04T23:28:27.749Z"
   },
   {
    "duration": 634,
    "start_time": "2022-01-04T23:28:32.865Z"
   },
   {
    "duration": 40,
    "start_time": "2022-01-04T23:29:55.495Z"
   },
   {
    "duration": 555,
    "start_time": "2022-01-04T23:30:10.709Z"
   },
   {
    "duration": 52,
    "start_time": "2022-01-04T23:39:23.585Z"
   },
   {
    "duration": 570,
    "start_time": "2022-01-04T23:40:40.924Z"
   },
   {
    "duration": 539,
    "start_time": "2022-01-04T23:41:01.316Z"
   },
   {
    "duration": 513,
    "start_time": "2022-01-04T23:41:17.630Z"
   },
   {
    "duration": 505,
    "start_time": "2022-01-04T23:41:55.405Z"
   },
   {
    "duration": 504,
    "start_time": "2022-01-04T23:42:06.740Z"
   },
   {
    "duration": 87,
    "start_time": "2022-01-04T23:47:07.587Z"
   },
   {
    "duration": 6,
    "start_time": "2022-01-05T00:09:30.834Z"
   },
   {
    "duration": 39,
    "start_time": "2022-01-05T00:09:35.105Z"
   },
   {
    "duration": 33,
    "start_time": "2022-01-05T00:10:04.657Z"
   },
   {
    "duration": 36,
    "start_time": "2022-01-05T00:13:18.996Z"
   },
   {
    "duration": 21,
    "start_time": "2022-01-05T00:13:35.950Z"
   },
   {
    "duration": 22,
    "start_time": "2022-01-05T00:13:56.350Z"
   },
   {
    "duration": 23,
    "start_time": "2022-01-05T00:16:03.005Z"
   },
   {
    "duration": 21,
    "start_time": "2022-01-05T00:16:06.511Z"
   },
   {
    "duration": 125,
    "start_time": "2022-01-05T00:18:40.559Z"
   },
   {
    "duration": 327,
    "start_time": "2022-01-05T00:18:43.977Z"
   },
   {
    "duration": 23,
    "start_time": "2022-01-05T00:18:59.687Z"
   },
   {
    "duration": 21,
    "start_time": "2022-01-05T00:20:29.539Z"
   },
   {
    "duration": 36,
    "start_time": "2022-01-05T00:21:16.072Z"
   },
   {
    "duration": 16,
    "start_time": "2022-01-05T00:21:32.915Z"
   },
   {
    "duration": 27,
    "start_time": "2022-01-05T00:21:39.497Z"
   },
   {
    "duration": 393,
    "start_time": "2022-01-05T00:22:52.227Z"
   },
   {
    "duration": 1940,
    "start_time": "2022-01-05T00:23:10.604Z"
   },
   {
    "duration": 24,
    "start_time": "2022-01-05T00:23:12.547Z"
   },
   {
    "duration": 4,
    "start_time": "2022-01-05T00:23:12.574Z"
   },
   {
    "duration": 9,
    "start_time": "2022-01-05T00:23:12.581Z"
   },
   {
    "duration": 10,
    "start_time": "2022-01-05T00:23:12.592Z"
   },
   {
    "duration": 56,
    "start_time": "2022-01-05T00:23:12.605Z"
   },
   {
    "duration": 22,
    "start_time": "2022-01-05T00:23:12.663Z"
   },
   {
    "duration": 9,
    "start_time": "2022-01-05T00:23:12.687Z"
   },
   {
    "duration": 64,
    "start_time": "2022-01-05T00:23:12.700Z"
   },
   {
    "duration": 47,
    "start_time": "2022-01-05T00:23:12.767Z"
   },
   {
    "duration": 47,
    "start_time": "2022-01-05T00:23:12.816Z"
   },
   {
    "duration": 94,
    "start_time": "2022-01-05T00:23:12.866Z"
   },
   {
    "duration": 19,
    "start_time": "2022-01-05T00:23:12.963Z"
   },
   {
    "duration": 19,
    "start_time": "2022-01-05T00:23:12.985Z"
   },
   {
    "duration": 63,
    "start_time": "2022-01-05T00:23:13.006Z"
   },
   {
    "duration": 4,
    "start_time": "2022-01-05T00:23:13.071Z"
   },
   {
    "duration": 31,
    "start_time": "2022-01-05T00:23:13.077Z"
   },
   {
    "duration": 15,
    "start_time": "2022-01-05T00:23:13.111Z"
   },
   {
    "duration": 20,
    "start_time": "2022-01-05T00:23:13.161Z"
   },
   {
    "duration": 94,
    "start_time": "2022-01-05T00:23:13.184Z"
   },
   {
    "duration": 28,
    "start_time": "2022-01-05T00:23:13.280Z"
   },
   {
    "duration": 54,
    "start_time": "2022-01-05T00:23:13.311Z"
   },
   {
    "duration": 17,
    "start_time": "2022-01-05T00:23:13.368Z"
   },
   {
    "duration": 17,
    "start_time": "2022-01-05T00:23:13.388Z"
   },
   {
    "duration": 13,
    "start_time": "2022-01-05T00:23:13.408Z"
   },
   {
    "duration": 124,
    "start_time": "2022-01-05T00:23:13.461Z"
   },
   {
    "duration": 15,
    "start_time": "2022-01-05T00:23:13.593Z"
   },
   {
    "duration": 12,
    "start_time": "2022-01-05T00:23:13.614Z"
   },
   {
    "duration": 33,
    "start_time": "2022-01-05T00:23:13.628Z"
   },
   {
    "duration": 35,
    "start_time": "2022-01-05T00:23:13.665Z"
   },
   {
    "duration": 5,
    "start_time": "2022-01-05T00:23:13.702Z"
   },
   {
    "duration": 403,
    "start_time": "2022-01-05T00:23:13.709Z"
   },
   {
    "duration": 92,
    "start_time": "2022-01-05T00:23:14.114Z"
   },
   {
    "duration": 12,
    "start_time": "2022-01-05T00:23:14.208Z"
   },
   {
    "duration": 391,
    "start_time": "2022-01-05T00:23:14.222Z"
   },
   {
    "duration": 101,
    "start_time": "2022-01-05T00:23:14.615Z"
   },
   {
    "duration": 375,
    "start_time": "2022-01-05T00:23:14.718Z"
   },
   {
    "duration": 287,
    "start_time": "2022-01-05T00:23:15.096Z"
   },
   {
    "duration": 8516,
    "start_time": "2022-01-05T00:23:15.386Z"
   },
   {
    "duration": 213,
    "start_time": "2022-01-05T00:23:23.693Z"
   },
   {
    "duration": 212,
    "start_time": "2022-01-05T00:23:23.695Z"
   },
   {
    "duration": 212,
    "start_time": "2022-01-05T00:23:23.697Z"
   },
   {
    "duration": 211,
    "start_time": "2022-01-05T00:23:23.699Z"
   },
   {
    "duration": 210,
    "start_time": "2022-01-05T00:23:23.701Z"
   },
   {
    "duration": 206,
    "start_time": "2022-01-05T00:23:23.707Z"
   },
   {
    "duration": 205,
    "start_time": "2022-01-05T00:23:23.709Z"
   },
   {
    "duration": 205,
    "start_time": "2022-01-05T00:23:23.711Z"
   },
   {
    "duration": 205,
    "start_time": "2022-01-05T00:23:23.712Z"
   },
   {
    "duration": 205,
    "start_time": "2022-01-05T00:23:23.714Z"
   },
   {
    "duration": 204,
    "start_time": "2022-01-05T00:23:23.716Z"
   },
   {
    "duration": 205,
    "start_time": "2022-01-05T00:23:23.717Z"
   },
   {
    "duration": 204,
    "start_time": "2022-01-05T00:23:23.719Z"
   },
   {
    "duration": 204,
    "start_time": "2022-01-05T00:23:23.721Z"
   },
   {
    "duration": 13,
    "start_time": "2022-01-05T00:23:23.913Z"
   },
   {
    "duration": -48,
    "start_time": "2022-01-05T00:23:23.975Z"
   },
   {
    "duration": -47,
    "start_time": "2022-01-05T00:23:23.976Z"
   },
   {
    "duration": -48,
    "start_time": "2022-01-05T00:23:23.978Z"
   },
   {
    "duration": -48,
    "start_time": "2022-01-05T00:23:23.980Z"
   },
   {
    "duration": -49,
    "start_time": "2022-01-05T00:23:23.982Z"
   },
   {
    "duration": -48,
    "start_time": "2022-01-05T00:23:23.983Z"
   },
   {
    "duration": -48,
    "start_time": "2022-01-05T00:23:23.984Z"
   },
   {
    "duration": -48,
    "start_time": "2022-01-05T00:23:23.986Z"
   },
   {
    "duration": -48,
    "start_time": "2022-01-05T00:23:23.987Z"
   },
   {
    "duration": -48,
    "start_time": "2022-01-05T00:23:23.989Z"
   },
   {
    "duration": -47,
    "start_time": "2022-01-05T00:23:23.990Z"
   },
   {
    "duration": -48,
    "start_time": "2022-01-05T00:23:23.992Z"
   },
   {
    "duration": -48,
    "start_time": "2022-01-05T00:23:23.993Z"
   },
   {
    "duration": -48,
    "start_time": "2022-01-05T00:23:23.994Z"
   },
   {
    "duration": -37,
    "start_time": "2022-01-05T00:23:23.996Z"
   },
   {
    "duration": -36,
    "start_time": "2022-01-05T00:23:23.997Z"
   },
   {
    "duration": -37,
    "start_time": "2022-01-05T00:23:23.999Z"
   },
   {
    "duration": -36,
    "start_time": "2022-01-05T00:23:24.000Z"
   },
   {
    "duration": -36,
    "start_time": "2022-01-05T00:23:24.001Z"
   },
   {
    "duration": -36,
    "start_time": "2022-01-05T00:23:24.003Z"
   },
   {
    "duration": -36,
    "start_time": "2022-01-05T00:23:24.004Z"
   },
   {
    "duration": -36,
    "start_time": "2022-01-05T00:23:24.005Z"
   },
   {
    "duration": -36,
    "start_time": "2022-01-05T00:23:24.007Z"
   },
   {
    "duration": -36,
    "start_time": "2022-01-05T00:23:24.008Z"
   },
   {
    "duration": -35,
    "start_time": "2022-01-05T00:23:24.009Z"
   },
   {
    "duration": -35,
    "start_time": "2022-01-05T00:23:24.011Z"
   },
   {
    "duration": -35,
    "start_time": "2022-01-05T00:23:24.012Z"
   },
   {
    "duration": -35,
    "start_time": "2022-01-05T00:23:24.014Z"
   },
   {
    "duration": -35,
    "start_time": "2022-01-05T00:23:24.015Z"
   },
   {
    "duration": -36,
    "start_time": "2022-01-05T00:23:24.017Z"
   },
   {
    "duration": -36,
    "start_time": "2022-01-05T00:23:24.018Z"
   },
   {
    "duration": -35,
    "start_time": "2022-01-05T00:23:24.019Z"
   },
   {
    "duration": -36,
    "start_time": "2022-01-05T00:23:24.021Z"
   },
   {
    "duration": -35,
    "start_time": "2022-01-05T00:23:24.022Z"
   },
   {
    "duration": -36,
    "start_time": "2022-01-05T00:23:24.024Z"
   },
   {
    "duration": -36,
    "start_time": "2022-01-05T00:23:24.025Z"
   },
   {
    "duration": -36,
    "start_time": "2022-01-05T00:23:24.026Z"
   },
   {
    "duration": -36,
    "start_time": "2022-01-05T00:23:24.028Z"
   },
   {
    "duration": -36,
    "start_time": "2022-01-05T00:23:24.029Z"
   },
   {
    "duration": -36,
    "start_time": "2022-01-05T00:23:24.030Z"
   },
   {
    "duration": -37,
    "start_time": "2022-01-05T00:23:24.032Z"
   },
   {
    "duration": 30,
    "start_time": "2022-01-05T00:23:24.033Z"
   },
   {
    "duration": 23,
    "start_time": "2022-01-05T00:23:24.042Z"
   },
   {
    "duration": 23,
    "start_time": "2022-01-05T00:23:24.043Z"
   },
   {
    "duration": 23,
    "start_time": "2022-01-05T00:23:24.045Z"
   },
   {
    "duration": 23,
    "start_time": "2022-01-05T00:23:24.046Z"
   },
   {
    "duration": 1906,
    "start_time": "2022-01-05T00:25:18.143Z"
   },
   {
    "duration": 26,
    "start_time": "2022-01-05T00:25:20.052Z"
   },
   {
    "duration": 5,
    "start_time": "2022-01-05T00:25:20.081Z"
   },
   {
    "duration": 11,
    "start_time": "2022-01-05T00:25:20.089Z"
   },
   {
    "duration": 13,
    "start_time": "2022-01-05T00:25:20.102Z"
   },
   {
    "duration": 45,
    "start_time": "2022-01-05T00:25:20.117Z"
   },
   {
    "duration": 20,
    "start_time": "2022-01-05T00:25:20.164Z"
   },
   {
    "duration": 9,
    "start_time": "2022-01-05T00:25:20.187Z"
   },
   {
    "duration": 71,
    "start_time": "2022-01-05T00:25:20.200Z"
   },
   {
    "duration": 40,
    "start_time": "2022-01-05T00:25:20.274Z"
   },
   {
    "duration": 51,
    "start_time": "2022-01-05T00:25:20.317Z"
   },
   {
    "duration": 71,
    "start_time": "2022-01-05T00:25:20.370Z"
   },
   {
    "duration": 29,
    "start_time": "2022-01-05T00:25:20.444Z"
   },
   {
    "duration": 20,
    "start_time": "2022-01-05T00:25:20.476Z"
   },
   {
    "duration": 63,
    "start_time": "2022-01-05T00:25:20.499Z"
   },
   {
    "duration": 4,
    "start_time": "2022-01-05T00:25:20.564Z"
   },
   {
    "duration": 29,
    "start_time": "2022-01-05T00:25:20.570Z"
   },
   {
    "duration": 13,
    "start_time": "2022-01-05T00:25:20.602Z"
   },
   {
    "duration": 50,
    "start_time": "2022-01-05T00:25:20.617Z"
   },
   {
    "duration": 59,
    "start_time": "2022-01-05T00:25:20.669Z"
   },
   {
    "duration": 48,
    "start_time": "2022-01-05T00:25:20.731Z"
   },
   {
    "duration": 28,
    "start_time": "2022-01-05T00:25:20.782Z"
   },
   {
    "duration": 50,
    "start_time": "2022-01-05T00:25:20.812Z"
   },
   {
    "duration": 19,
    "start_time": "2022-01-05T00:25:20.865Z"
   },
   {
    "duration": 13,
    "start_time": "2022-01-05T00:25:20.887Z"
   },
   {
    "duration": 157,
    "start_time": "2022-01-05T00:25:20.904Z"
   },
   {
    "duration": 16,
    "start_time": "2022-01-05T00:25:21.070Z"
   },
   {
    "duration": 12,
    "start_time": "2022-01-05T00:25:21.092Z"
   },
   {
    "duration": 6,
    "start_time": "2022-01-05T00:25:21.108Z"
   },
   {
    "duration": 39,
    "start_time": "2022-01-05T00:25:21.160Z"
   },
   {
    "duration": 6,
    "start_time": "2022-01-05T00:25:21.202Z"
   },
   {
    "duration": 402,
    "start_time": "2022-01-05T00:25:21.211Z"
   },
   {
    "duration": 101,
    "start_time": "2022-01-05T00:25:21.616Z"
   },
   {
    "duration": 14,
    "start_time": "2022-01-05T00:25:21.720Z"
   },
   {
    "duration": 395,
    "start_time": "2022-01-05T00:25:21.736Z"
   },
   {
    "duration": 98,
    "start_time": "2022-01-05T00:25:22.135Z"
   },
   {
    "duration": 381,
    "start_time": "2022-01-05T00:25:22.236Z"
   },
   {
    "duration": 311,
    "start_time": "2022-01-05T00:25:22.619Z"
   },
   {
    "duration": 38,
    "start_time": "2022-01-05T00:25:22.933Z"
   },
   {
    "duration": 6,
    "start_time": "2022-01-05T00:25:22.973Z"
   },
   {
    "duration": 273,
    "start_time": "2022-01-05T00:25:22.982Z"
   },
   {
    "duration": 6,
    "start_time": "2022-01-05T00:25:23.259Z"
   },
   {
    "duration": 1906,
    "start_time": "2022-01-05T00:25:23.267Z"
   },
   {
    "duration": 1939,
    "start_time": "2022-01-05T00:25:25.175Z"
   },
   {
    "duration": 1668,
    "start_time": "2022-01-05T00:25:27.117Z"
   },
   {
    "duration": 10,
    "start_time": "2022-01-05T00:25:28.788Z"
   },
   {
    "duration": 665,
    "start_time": "2022-01-05T00:25:28.800Z"
   },
   {
    "duration": 10,
    "start_time": "2022-01-05T00:25:29.468Z"
   },
   {
    "duration": 559,
    "start_time": "2022-01-05T00:25:29.481Z"
   },
   {
    "duration": 21,
    "start_time": "2022-01-05T00:25:30.043Z"
   },
   {
    "duration": 11,
    "start_time": "2022-01-05T00:25:30.067Z"
   },
   {
    "duration": 30,
    "start_time": "2022-01-05T00:25:30.081Z"
   },
   {
    "duration": 565,
    "start_time": "2022-01-05T00:25:30.115Z"
   },
   {
    "duration": 13,
    "start_time": "2022-01-05T00:25:30.683Z"
   },
   {
    "duration": 51,
    "start_time": "2022-01-05T00:25:30.698Z"
   },
   {
    "duration": 792,
    "start_time": "2022-01-05T00:25:30.767Z"
   },
   {
    "duration": 46,
    "start_time": "2022-01-05T00:25:31.561Z"
   },
   {
    "duration": 737,
    "start_time": "2022-01-05T00:25:31.609Z"
   },
   {
    "duration": 669,
    "start_time": "2022-01-05T00:25:32.348Z"
   },
   {
    "duration": 80,
    "start_time": "2022-01-05T00:25:33.020Z"
   },
   {
    "duration": 10,
    "start_time": "2022-01-05T00:25:33.103Z"
   },
   {
    "duration": 12,
    "start_time": "2022-01-05T00:25:33.115Z"
   },
   {
    "duration": 61,
    "start_time": "2022-01-05T00:25:33.130Z"
   },
   {
    "duration": 37,
    "start_time": "2022-01-05T00:25:33.194Z"
   },
   {
    "duration": 528,
    "start_time": "2022-01-05T00:25:33.234Z"
   },
   {
    "duration": 14,
    "start_time": "2022-01-05T00:25:33.765Z"
   },
   {
    "duration": 549,
    "start_time": "2022-01-05T00:25:33.781Z"
   },
   {
    "duration": 12,
    "start_time": "2022-01-05T00:25:34.333Z"
   },
   {
    "duration": 52,
    "start_time": "2022-01-05T00:25:34.347Z"
   },
   {
    "duration": 668,
    "start_time": "2022-01-05T00:25:34.401Z"
   },
   {
    "duration": 528,
    "start_time": "2022-01-05T00:25:35.071Z"
   },
   {
    "duration": 123,
    "start_time": "2022-01-05T00:25:35.601Z"
   },
   {
    "duration": 11,
    "start_time": "2022-01-05T00:25:35.726Z"
   },
   {
    "duration": 28,
    "start_time": "2022-01-05T00:25:35.739Z"
   },
   {
    "duration": 45,
    "start_time": "2022-01-05T00:25:35.770Z"
   },
   {
    "duration": 72,
    "start_time": "2022-01-05T00:25:35.817Z"
   },
   {
    "duration": 578,
    "start_time": "2022-01-05T00:25:35.891Z"
   },
   {
    "duration": 528,
    "start_time": "2022-01-05T00:25:36.471Z"
   },
   {
    "duration": 61,
    "start_time": "2022-01-05T00:25:37.002Z"
   },
   {
    "duration": 13,
    "start_time": "2022-01-05T00:25:37.066Z"
   },
   {
    "duration": 97,
    "start_time": "2022-01-05T00:25:37.089Z"
   },
   {
    "duration": 18,
    "start_time": "2022-01-05T00:25:37.189Z"
   },
   {
    "duration": 5,
    "start_time": "2022-01-05T00:25:37.210Z"
   },
   {
    "duration": 758,
    "start_time": "2022-01-05T00:25:37.218Z"
   },
   {
    "duration": 21,
    "start_time": "2022-01-05T00:25:37.979Z"
   },
   {
    "duration": 12,
    "start_time": "2022-01-05T00:25:38.004Z"
   },
   {
    "duration": 44,
    "start_time": "2022-01-05T00:25:38.020Z"
   },
   {
    "duration": 14,
    "start_time": "2022-01-05T00:25:38.067Z"
   },
   {
    "duration": 13,
    "start_time": "2022-01-05T00:25:38.084Z"
   },
   {
    "duration": 76,
    "start_time": "2022-01-05T00:25:38.099Z"
   },
   {
    "duration": 5,
    "start_time": "2022-01-05T00:25:38.179Z"
   },
   {
    "duration": 132,
    "start_time": "2022-01-05T00:25:38.187Z"
   },
   {
    "duration": 23,
    "start_time": "2022-01-05T00:25:38.322Z"
   },
   {
    "duration": 9,
    "start_time": "2022-01-05T00:25:38.359Z"
   },
   {
    "duration": 22,
    "start_time": "2022-01-05T00:25:38.370Z"
   },
   {
    "duration": 17,
    "start_time": "2022-01-05T00:25:38.394Z"
   },
   {
    "duration": 20,
    "start_time": "2022-01-05T00:25:38.413Z"
   },
   {
    "duration": 471,
    "start_time": "2022-01-05T00:25:38.435Z"
   },
   {
    "duration": 27,
    "start_time": "2022-01-05T00:25:56.097Z"
   },
   {
    "duration": 1944,
    "start_time": "2022-01-05T00:26:56.199Z"
   },
   {
    "duration": 25,
    "start_time": "2022-01-05T00:26:58.146Z"
   },
   {
    "duration": 5,
    "start_time": "2022-01-05T00:26:58.175Z"
   },
   {
    "duration": 10,
    "start_time": "2022-01-05T00:26:58.183Z"
   },
   {
    "duration": 10,
    "start_time": "2022-01-05T00:26:58.195Z"
   },
   {
    "duration": 54,
    "start_time": "2022-01-05T00:26:58.208Z"
   },
   {
    "duration": 20,
    "start_time": "2022-01-05T00:26:58.265Z"
   },
   {
    "duration": 9,
    "start_time": "2022-01-05T00:26:58.288Z"
   },
   {
    "duration": 77,
    "start_time": "2022-01-05T00:26:58.301Z"
   },
   {
    "duration": 40,
    "start_time": "2022-01-05T00:26:58.381Z"
   },
   {
    "duration": 52,
    "start_time": "2022-01-05T00:26:58.424Z"
   },
   {
    "duration": 88,
    "start_time": "2022-01-05T00:26:58.479Z"
   },
   {
    "duration": 17,
    "start_time": "2022-01-05T00:26:58.569Z"
   },
   {
    "duration": 19,
    "start_time": "2022-01-05T00:26:58.588Z"
   },
   {
    "duration": 60,
    "start_time": "2022-01-05T00:26:58.609Z"
   },
   {
    "duration": 4,
    "start_time": "2022-01-05T00:26:58.672Z"
   },
   {
    "duration": 31,
    "start_time": "2022-01-05T00:26:58.678Z"
   },
   {
    "duration": 48,
    "start_time": "2022-01-05T00:26:58.712Z"
   },
   {
    "duration": 16,
    "start_time": "2022-01-05T00:26:58.763Z"
   },
   {
    "duration": 79,
    "start_time": "2022-01-05T00:26:58.781Z"
   },
   {
    "duration": 29,
    "start_time": "2022-01-05T00:26:58.863Z"
   },
   {
    "duration": 24,
    "start_time": "2022-01-05T00:26:58.894Z"
   },
   {
    "duration": 38,
    "start_time": "2022-01-05T00:26:58.924Z"
   },
   {
    "duration": 16,
    "start_time": "2022-01-05T00:26:58.966Z"
   },
   {
    "duration": 11,
    "start_time": "2022-01-05T00:26:58.984Z"
   },
   {
    "duration": 144,
    "start_time": "2022-01-05T00:26:58.997Z"
   },
   {
    "duration": 19,
    "start_time": "2022-01-05T00:26:59.143Z"
   },
   {
    "duration": 11,
    "start_time": "2022-01-05T00:26:59.164Z"
   },
   {
    "duration": 4,
    "start_time": "2022-01-05T00:26:59.178Z"
   },
   {
    "duration": 75,
    "start_time": "2022-01-05T00:26:59.184Z"
   },
   {
    "duration": 7,
    "start_time": "2022-01-05T00:26:59.262Z"
   },
   {
    "duration": 381,
    "start_time": "2022-01-05T00:26:59.272Z"
   },
   {
    "duration": 85,
    "start_time": "2022-01-05T00:26:59.655Z"
   },
   {
    "duration": 11,
    "start_time": "2022-01-05T00:26:59.759Z"
   },
   {
    "duration": 402,
    "start_time": "2022-01-05T00:26:59.773Z"
   },
   {
    "duration": 107,
    "start_time": "2022-01-05T00:27:00.178Z"
   },
   {
    "duration": 411,
    "start_time": "2022-01-05T00:27:00.288Z"
   },
   {
    "duration": 298,
    "start_time": "2022-01-05T00:27:00.702Z"
   },
   {
    "duration": 30,
    "start_time": "2022-01-05T00:27:01.003Z"
   },
   {
    "duration": 27,
    "start_time": "2022-01-05T00:27:01.035Z"
   },
   {
    "duration": 280,
    "start_time": "2022-01-05T00:27:01.065Z"
   },
   {
    "duration": 13,
    "start_time": "2022-01-05T00:27:01.347Z"
   },
   {
    "duration": 1917,
    "start_time": "2022-01-05T00:27:01.362Z"
   },
   {
    "duration": 1958,
    "start_time": "2022-01-05T00:27:03.282Z"
   },
   {
    "duration": 1634,
    "start_time": "2022-01-05T00:27:05.243Z"
   },
   {
    "duration": 12,
    "start_time": "2022-01-05T00:27:06.879Z"
   },
   {
    "duration": 579,
    "start_time": "2022-01-05T00:27:06.894Z"
   },
   {
    "duration": 14,
    "start_time": "2022-01-05T00:27:07.476Z"
   },
   {
    "duration": 687,
    "start_time": "2022-01-05T00:27:07.493Z"
   },
   {
    "duration": 15,
    "start_time": "2022-01-05T00:27:08.183Z"
   },
   {
    "duration": 14,
    "start_time": "2022-01-05T00:27:08.200Z"
   },
   {
    "duration": 61,
    "start_time": "2022-01-05T00:27:08.217Z"
   },
   {
    "duration": 509,
    "start_time": "2022-01-05T00:27:08.281Z"
   },
   {
    "duration": 13,
    "start_time": "2022-01-05T00:27:08.792Z"
   },
   {
    "duration": 58,
    "start_time": "2022-01-05T00:27:08.808Z"
   },
   {
    "duration": 539,
    "start_time": "2022-01-05T00:27:08.869Z"
   },
   {
    "duration": 60,
    "start_time": "2022-01-05T00:27:09.411Z"
   },
   {
    "duration": 634,
    "start_time": "2022-01-05T00:27:09.473Z"
   },
   {
    "duration": 583,
    "start_time": "2022-01-05T00:27:10.109Z"
   },
   {
    "duration": 74,
    "start_time": "2022-01-05T00:27:10.694Z"
   },
   {
    "duration": 11,
    "start_time": "2022-01-05T00:27:10.770Z"
   },
   {
    "duration": 14,
    "start_time": "2022-01-05T00:27:10.784Z"
   },
   {
    "duration": 65,
    "start_time": "2022-01-05T00:27:10.800Z"
   },
   {
    "duration": 35,
    "start_time": "2022-01-05T00:27:10.868Z"
   },
   {
    "duration": 541,
    "start_time": "2022-01-05T00:27:10.905Z"
   },
   {
    "duration": 21,
    "start_time": "2022-01-05T00:27:11.449Z"
   },
   {
    "duration": 555,
    "start_time": "2022-01-05T00:27:11.473Z"
   },
   {
    "duration": 25,
    "start_time": "2022-01-05T00:27:12.039Z"
   },
   {
    "duration": 38,
    "start_time": "2022-01-05T00:27:12.067Z"
   },
   {
    "duration": 539,
    "start_time": "2022-01-05T00:27:12.108Z"
   },
   {
    "duration": 532,
    "start_time": "2022-01-05T00:27:12.650Z"
   },
   {
    "duration": 109,
    "start_time": "2022-01-05T00:27:13.184Z"
   },
   {
    "duration": 10,
    "start_time": "2022-01-05T00:27:13.295Z"
   },
   {
    "duration": 27,
    "start_time": "2022-01-05T00:27:13.307Z"
   },
   {
    "duration": 59,
    "start_time": "2022-01-05T00:27:13.337Z"
   },
   {
    "duration": 44,
    "start_time": "2022-01-05T00:27:13.398Z"
   },
   {
    "duration": 517,
    "start_time": "2022-01-05T00:27:13.460Z"
   },
   {
    "duration": 536,
    "start_time": "2022-01-05T00:27:13.979Z"
   },
   {
    "duration": 59,
    "start_time": "2022-01-05T00:27:14.517Z"
   },
   {
    "duration": 15,
    "start_time": "2022-01-05T00:27:14.578Z"
   },
   {
    "duration": 103,
    "start_time": "2022-01-05T00:27:14.595Z"
   },
   {
    "duration": 29,
    "start_time": "2022-01-05T00:27:14.700Z"
   },
   {
    "duration": 38,
    "start_time": "2022-01-05T00:27:14.732Z"
   },
   {
    "duration": 7,
    "start_time": "2022-01-05T00:27:14.774Z"
   },
   {
    "duration": 883,
    "start_time": "2022-01-05T00:27:14.783Z"
   },
   {
    "duration": 19,
    "start_time": "2022-01-05T00:27:15.668Z"
   },
   {
    "duration": 11,
    "start_time": "2022-01-05T00:27:15.689Z"
   },
   {
    "duration": 9,
    "start_time": "2022-01-05T00:27:15.703Z"
   },
   {
    "duration": 49,
    "start_time": "2022-01-05T00:27:15.714Z"
   },
   {
    "duration": 10,
    "start_time": "2022-01-05T00:27:15.766Z"
   },
   {
    "duration": 31,
    "start_time": "2022-01-05T00:27:15.779Z"
   },
   {
    "duration": 4,
    "start_time": "2022-01-05T00:27:15.813Z"
   },
   {
    "duration": 144,
    "start_time": "2022-01-05T00:27:15.819Z"
   },
   {
    "duration": 19,
    "start_time": "2022-01-05T00:27:15.966Z"
   },
   {
    "duration": 9,
    "start_time": "2022-01-05T00:27:15.987Z"
   },
   {
    "duration": 9,
    "start_time": "2022-01-05T00:27:15.999Z"
   },
   {
    "duration": 51,
    "start_time": "2022-01-05T00:27:16.010Z"
   },
   {
    "duration": 13,
    "start_time": "2022-01-05T00:27:16.063Z"
   },
   {
    "duration": 516,
    "start_time": "2022-01-05T00:28:14.081Z"
   },
   {
    "duration": 30,
    "start_time": "2022-01-05T00:28:40.064Z"
   },
   {
    "duration": 29,
    "start_time": "2022-01-05T00:28:42.407Z"
   },
   {
    "duration": 8,
    "start_time": "2022-01-05T00:29:39.642Z"
   },
   {
    "duration": 5,
    "start_time": "2022-01-05T00:30:23.414Z"
   },
   {
    "duration": 5,
    "start_time": "2022-01-05T00:30:28.894Z"
   },
   {
    "duration": 6,
    "start_time": "2022-01-05T00:31:03.225Z"
   },
   {
    "duration": 292,
    "start_time": "2022-01-05T09:39:41.915Z"
   },
   {
    "duration": 1479,
    "start_time": "2022-01-05T09:39:53.971Z"
   },
   {
    "duration": 17,
    "start_time": "2022-01-05T09:39:55.452Z"
   },
   {
    "duration": 4,
    "start_time": "2022-01-05T09:39:55.471Z"
   },
   {
    "duration": 7,
    "start_time": "2022-01-05T09:39:55.477Z"
   },
   {
    "duration": 8,
    "start_time": "2022-01-05T09:39:55.486Z"
   },
   {
    "duration": 9,
    "start_time": "2022-01-05T09:39:55.496Z"
   },
   {
    "duration": 15,
    "start_time": "2022-01-05T09:39:55.506Z"
   },
   {
    "duration": 7,
    "start_time": "2022-01-05T09:39:55.523Z"
   },
   {
    "duration": 26,
    "start_time": "2022-01-05T09:39:55.561Z"
   },
   {
    "duration": 31,
    "start_time": "2022-01-05T09:39:55.588Z"
   },
   {
    "duration": 40,
    "start_time": "2022-01-05T09:39:55.621Z"
   },
   {
    "duration": 56,
    "start_time": "2022-01-05T09:39:55.663Z"
   },
   {
    "duration": 14,
    "start_time": "2022-01-05T09:39:55.721Z"
   },
   {
    "duration": 36,
    "start_time": "2022-01-05T09:39:55.736Z"
   },
   {
    "duration": 22,
    "start_time": "2022-01-05T09:39:55.774Z"
   },
   {
    "duration": 3,
    "start_time": "2022-01-05T09:39:55.797Z"
   },
   {
    "duration": 25,
    "start_time": "2022-01-05T09:39:55.802Z"
   },
   {
    "duration": 9,
    "start_time": "2022-01-05T09:39:55.828Z"
   },
   {
    "duration": 33,
    "start_time": "2022-01-05T09:39:55.838Z"
   },
   {
    "duration": 45,
    "start_time": "2022-01-05T09:39:55.872Z"
   },
   {
    "duration": 17,
    "start_time": "2022-01-05T09:39:55.919Z"
   },
   {
    "duration": 38,
    "start_time": "2022-01-05T09:39:55.937Z"
   },
   {
    "duration": 11,
    "start_time": "2022-01-05T09:39:55.980Z"
   },
   {
    "duration": 11,
    "start_time": "2022-01-05T09:39:55.994Z"
   },
   {
    "duration": 8,
    "start_time": "2022-01-05T09:39:56.008Z"
   },
   {
    "duration": 110,
    "start_time": "2022-01-05T09:39:56.018Z"
   },
   {
    "duration": 9,
    "start_time": "2022-01-05T09:39:56.130Z"
   },
   {
    "duration": 23,
    "start_time": "2022-01-05T09:39:56.141Z"
   },
   {
    "duration": 4,
    "start_time": "2022-01-05T09:39:56.166Z"
   },
   {
    "duration": 21,
    "start_time": "2022-01-05T09:39:56.172Z"
   },
   {
    "duration": 4,
    "start_time": "2022-01-05T09:39:56.195Z"
   },
   {
    "duration": 229,
    "start_time": "2022-01-05T09:39:56.201Z"
   },
   {
    "duration": 61,
    "start_time": "2022-01-05T09:39:56.432Z"
   },
   {
    "duration": 9,
    "start_time": "2022-01-05T09:39:56.496Z"
   },
   {
    "duration": 225,
    "start_time": "2022-01-05T09:39:56.506Z"
   },
   {
    "duration": 67,
    "start_time": "2022-01-05T09:39:56.734Z"
   },
   {
    "duration": 213,
    "start_time": "2022-01-05T09:39:56.803Z"
   },
   {
    "duration": 174,
    "start_time": "2022-01-05T09:39:57.018Z"
   },
   {
    "duration": 18,
    "start_time": "2022-01-05T09:39:57.193Z"
   },
   {
    "duration": 5,
    "start_time": "2022-01-05T09:39:57.212Z"
   },
   {
    "duration": 151,
    "start_time": "2022-01-05T09:39:57.219Z"
   },
   {
    "duration": 4,
    "start_time": "2022-01-05T09:39:57.372Z"
   },
   {
    "duration": 1118,
    "start_time": "2022-01-05T09:39:57.378Z"
   },
   {
    "duration": 1097,
    "start_time": "2022-01-05T09:39:58.498Z"
   },
   {
    "duration": 983,
    "start_time": "2022-01-05T09:39:59.597Z"
   },
   {
    "duration": 9,
    "start_time": "2022-01-05T09:40:00.582Z"
   },
   {
    "duration": 378,
    "start_time": "2022-01-05T09:40:00.593Z"
   },
   {
    "duration": 9,
    "start_time": "2022-01-05T09:40:00.973Z"
   },
   {
    "duration": 362,
    "start_time": "2022-01-05T09:40:00.984Z"
   },
   {
    "duration": 19,
    "start_time": "2022-01-05T09:40:01.349Z"
   },
   {
    "duration": 10,
    "start_time": "2022-01-05T09:40:01.370Z"
   },
   {
    "duration": 26,
    "start_time": "2022-01-05T09:40:01.382Z"
   },
   {
    "duration": 340,
    "start_time": "2022-01-05T09:40:01.410Z"
   },
   {
    "duration": 15,
    "start_time": "2022-01-05T09:40:01.752Z"
   },
   {
    "duration": 23,
    "start_time": "2022-01-05T09:40:01.769Z"
   },
   {
    "duration": 360,
    "start_time": "2022-01-05T09:40:01.794Z"
   },
   {
    "duration": 35,
    "start_time": "2022-01-05T09:40:02.160Z"
   },
   {
    "duration": 449,
    "start_time": "2022-01-05T09:40:02.197Z"
   },
   {
    "duration": 365,
    "start_time": "2022-01-05T09:40:02.648Z"
   },
   {
    "duration": 54,
    "start_time": "2022-01-05T09:40:03.015Z"
   },
   {
    "duration": 7,
    "start_time": "2022-01-05T09:40:03.071Z"
   },
   {
    "duration": 9,
    "start_time": "2022-01-05T09:40:03.080Z"
   },
   {
    "duration": 24,
    "start_time": "2022-01-05T09:40:03.091Z"
   },
   {
    "duration": 57,
    "start_time": "2022-01-05T09:40:03.117Z"
   },
   {
    "duration": 416,
    "start_time": "2022-01-05T09:40:03.176Z"
   },
   {
    "duration": 9,
    "start_time": "2022-01-05T09:40:03.594Z"
   },
   {
    "duration": 335,
    "start_time": "2022-01-05T09:40:03.605Z"
   },
   {
    "duration": 16,
    "start_time": "2022-01-05T09:40:03.945Z"
   },
   {
    "duration": 30,
    "start_time": "2022-01-05T09:40:03.964Z"
   },
   {
    "duration": 337,
    "start_time": "2022-01-05T09:40:03.995Z"
   },
   {
    "duration": 318,
    "start_time": "2022-01-05T09:40:04.333Z"
   },
   {
    "duration": 68,
    "start_time": "2022-01-05T09:40:04.660Z"
   },
   {
    "duration": 7,
    "start_time": "2022-01-05T09:40:04.729Z"
   },
   {
    "duration": 27,
    "start_time": "2022-01-05T09:40:04.737Z"
   },
   {
    "duration": 27,
    "start_time": "2022-01-05T09:40:04.766Z"
   },
   {
    "duration": 28,
    "start_time": "2022-01-05T09:40:04.794Z"
   },
   {
    "duration": 340,
    "start_time": "2022-01-05T09:40:04.825Z"
   },
   {
    "duration": 321,
    "start_time": "2022-01-05T09:40:05.166Z"
   },
   {
    "duration": 29,
    "start_time": "2022-01-05T09:40:05.489Z"
   },
   {
    "duration": 9,
    "start_time": "2022-01-05T09:40:05.519Z"
   },
   {
    "duration": 77,
    "start_time": "2022-01-05T09:40:05.530Z"
   },
   {
    "duration": 17,
    "start_time": "2022-01-05T09:40:05.609Z"
   },
   {
    "duration": 17,
    "start_time": "2022-01-05T09:40:05.628Z"
   },
   {
    "duration": 5,
    "start_time": "2022-01-05T09:40:05.661Z"
   },
   {
    "duration": 7,
    "start_time": "2022-01-05T09:40:05.668Z"
   },
   {
    "duration": 21,
    "start_time": "2022-01-05T09:40:05.677Z"
   },
   {
    "duration": 10,
    "start_time": "2022-01-05T09:40:05.700Z"
   },
   {
    "duration": 6,
    "start_time": "2022-01-05T09:40:05.712Z"
   },
   {
    "duration": 77,
    "start_time": "2022-01-05T09:40:05.720Z"
   },
   {
    "duration": 12,
    "start_time": "2022-01-05T09:40:05.799Z"
   },
   {
    "duration": 6125,
    "start_time": "2022-01-05T09:40:05.813Z"
   },
   {
    "duration": -607,
    "start_time": "2022-01-05T09:40:12.547Z"
   },
   {
    "duration": -619,
    "start_time": "2022-01-05T09:40:12.560Z"
   },
   {
    "duration": -630,
    "start_time": "2022-01-05T09:40:12.572Z"
   },
   {
    "duration": 19,
    "start_time": "2022-01-05T09:40:25.229Z"
   },
   {
    "duration": 19,
    "start_time": "2022-01-05T09:40:45.820Z"
   },
   {
    "duration": 16,
    "start_time": "2022-01-05T09:42:00.551Z"
   },
   {
    "duration": 11,
    "start_time": "2022-01-05T09:42:22.485Z"
   },
   {
    "duration": 21,
    "start_time": "2022-01-05T09:42:27.920Z"
   },
   {
    "duration": 22,
    "start_time": "2022-01-05T09:42:59.759Z"
   },
   {
    "duration": 233,
    "start_time": "2022-01-05T09:43:37.277Z"
   },
   {
    "duration": 219,
    "start_time": "2022-01-05T09:44:05.868Z"
   },
   {
    "duration": 13,
    "start_time": "2022-01-05T09:44:44.169Z"
   },
   {
    "duration": 19,
    "start_time": "2022-01-05T09:45:32.220Z"
   },
   {
    "duration": 5,
    "start_time": "2022-01-05T09:45:47.094Z"
   },
   {
    "duration": 16,
    "start_time": "2022-01-05T09:45:51.189Z"
   },
   {
    "duration": 10,
    "start_time": "2022-01-05T09:46:24.809Z"
   },
   {
    "duration": 18,
    "start_time": "2022-01-05T09:46:30.719Z"
   },
   {
    "duration": 11,
    "start_time": "2022-01-05T09:47:05.148Z"
   },
   {
    "duration": 21,
    "start_time": "2022-01-05T09:47:08.546Z"
   },
   {
    "duration": 11,
    "start_time": "2022-01-05T09:48:19.641Z"
   },
   {
    "duration": 13,
    "start_time": "2022-01-05T09:48:20.708Z"
   },
   {
    "duration": 6,
    "start_time": "2022-01-05T09:49:05.419Z"
   },
   {
    "duration": 25,
    "start_time": "2022-01-05T09:50:02.619Z"
   },
   {
    "duration": 22,
    "start_time": "2022-01-05T09:50:51.679Z"
   },
   {
    "duration": 5,
    "start_time": "2022-01-05T09:50:56.637Z"
   },
   {
    "duration": 5,
    "start_time": "2022-01-05T09:51:06.377Z"
   }
  ],
  "kernelspec": {
   "display_name": "Python 3 (ipykernel)",
   "language": "python",
   "name": "python3"
  },
  "language_info": {
   "codemirror_mode": {
    "name": "ipython",
    "version": 3
   },
   "file_extension": ".py",
   "mimetype": "text/x-python",
   "name": "python",
   "nbconvert_exporter": "python",
   "pygments_lexer": "ipython3",
   "version": "3.9.7"
  },
  "toc": {
   "base_numbering": 1,
   "nav_menu": {},
   "number_sections": true,
   "sideBar": true,
   "skip_h1_title": false,
   "title_cell": "Table of Contents",
   "title_sidebar": "Contents",
   "toc_cell": false,
   "toc_position": {
    "height": "calc(100% - 180px)",
    "left": "10px",
    "top": "150px",
    "width": "356.179px"
   },
   "toc_section_display": true,
   "toc_window_display": false
  }
 },
 "nbformat": 4,
 "nbformat_minor": 4
}
