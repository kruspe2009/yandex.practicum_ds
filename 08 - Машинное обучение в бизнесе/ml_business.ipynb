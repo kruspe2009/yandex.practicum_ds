{
 "cells": [
  {
   "cell_type": "markdown",
   "metadata": {},
   "source": [
    "# Описание задачи"
   ]
  },
  {
   "cell_type": "markdown",
   "metadata": {},
   "source": [
    "В наличии пробы нефти в трёх регионах: в каждом 10 000 месторождений, где измерили качество нефти и объём её запасов. Постройте модель машинного обучения, которая поможет определить регион, где добыча принесёт наибольшую прибыль. Проанализируйте возможную прибыль и риски техникой *Bootstrap.*\n",
    "\n",
    "Шаги для выбора локации:\n",
    "\n",
    "- В избранном регионе ищут месторождения, для каждого определяют значения признаков;\n",
    "- Строят модель и оценивают объём запасов;\n",
    "- Выбирают месторождения с самым высокими оценками значений. Количество месторождений зависит от бюджета компании и стоимости разработки одной скважины;\n",
    "- Прибыль равна суммарной прибыли отобранных месторождений."
   ]
  },
  {
   "cell_type": "markdown",
   "metadata": {},
   "source": [
    "Условия задачи:\n",
    "* Для обучения модели подходит только линейная регрессия (остальные — недостаточно предсказуемые).\n",
    "* При разведке региона исследуют 500 точек, из которых с помощью машинного обучения выбирают 200 лучших для разработки.\n",
    "* Бюджет на разработку скважин в регионе — 10 млрд рублей.\n",
    "* При нынешних ценах один баррель сырья приносит 450 рублей дохода. Доход с каждой единицы продукта составляет 450 тыс. рублей, поскольку объём указан в тысячах баррелей.\n",
    "* После оценки рисков нужно оставить лишь те регионы, в которых вероятность убытков меньше 2.5%. Среди них выбирают регион с наибольшей средней прибылью."
   ]
  },
  {
   "cell_type": "markdown",
   "metadata": {},
   "source": [
    "Описание столбцов в дата-сете:\n",
    "\n",
    "* `id` - уникальный идентификатор скважины\n",
    "* `f0`, `f1`, `f2` - \"анонимные\" признаки каждой скважины\n",
    "* `product` - объем запасов в скважине (тысяч баррелей). Целевой признак"
   ]
  },
  {
   "cell_type": "markdown",
   "metadata": {},
   "source": [
    "# Загрузка, предобработка и подготовка данных"
   ]
  },
  {
   "cell_type": "markdown",
   "metadata": {},
   "source": [
    "## Загрузка и предобработка данных"
   ]
  },
  {
   "cell_type": "code",
   "execution_count": 1,
   "metadata": {},
   "outputs": [],
   "source": [
    "# вызываем необходимые библиотеки и расширения\n",
    "import pandas as pd\n",
    "import numpy as np\n",
    "import matplotlib.pyplot as plt\n",
    "import seaborn as sns\n",
    "from scipy import stats as st\n",
    "from sklearn.model_selection import train_test_split\n",
    "from sklearn.model_selection import cross_val_score\n",
    "from sklearn.preprocessing import StandardScaler\n",
    "from sklearn.linear_model import LinearRegression\n",
    "from sklearn.linear_model import SGDRegressor\n",
    "from sklearn.metrics import mean_squared_error"
   ]
  },
  {
   "cell_type": "code",
   "execution_count": 2,
   "metadata": {},
   "outputs": [],
   "source": [
    "# зачитываем данные\n",
    "geo_data_0 = pd.read_csv(\"/datasets/geo_data_0.csv\")\n",
    "geo_data_1 = pd.read_csv(\"/datasets/geo_data_1.csv\")\n",
    "geo_data_2 = pd.read_csv(\"/datasets/geo_data_2.csv\")"
   ]
  },
  {
   "cell_type": "code",
   "execution_count": 3,
   "metadata": {},
   "outputs": [
    {
     "name": "stdout",
     "output_type": "stream",
     "text": [
      "(100000, 5)\n",
      "Количество полных дубликатов в данных: 0\n",
      "\n",
      "(100000, 5)\n",
      "Количество полных дубликатов в данных: 0\n",
      "\n",
      "(100000, 5)\n",
      "Количество полных дубликатов в данных: 0\n",
      "\n"
     ]
    }
   ],
   "source": [
    "# посмотрим на размеры дата сета\n",
    "for ds in [geo_data_0, geo_data_1, geo_data_2]:\n",
    "    print(ds.shape)\n",
    "    print(\"Количество полных дубликатов в данных:\", ds.duplicated().sum())\n",
    "    print()"
   ]
  },
  {
   "cell_type": "code",
   "execution_count": 4,
   "metadata": {},
   "outputs": [
    {
     "name": "stdout",
     "output_type": "stream",
     "text": [
      "<class 'pandas.core.frame.DataFrame'>\n",
      "RangeIndex: 100000 entries, 0 to 99999\n",
      "Data columns (total 5 columns):\n",
      "id         100000 non-null object\n",
      "f0         100000 non-null float64\n",
      "f1         100000 non-null float64\n",
      "f2         100000 non-null float64\n",
      "product    100000 non-null float64\n",
      "dtypes: float64(4), object(1)\n",
      "memory usage: 3.8+ MB\n",
      "None\n",
      "\n",
      "<class 'pandas.core.frame.DataFrame'>\n",
      "RangeIndex: 100000 entries, 0 to 99999\n",
      "Data columns (total 5 columns):\n",
      "id         100000 non-null object\n",
      "f0         100000 non-null float64\n",
      "f1         100000 non-null float64\n",
      "f2         100000 non-null float64\n",
      "product    100000 non-null float64\n",
      "dtypes: float64(4), object(1)\n",
      "memory usage: 3.8+ MB\n",
      "None\n",
      "\n",
      "<class 'pandas.core.frame.DataFrame'>\n",
      "RangeIndex: 100000 entries, 0 to 99999\n",
      "Data columns (total 5 columns):\n",
      "id         100000 non-null object\n",
      "f0         100000 non-null float64\n",
      "f1         100000 non-null float64\n",
      "f2         100000 non-null float64\n",
      "product    100000 non-null float64\n",
      "dtypes: float64(4), object(1)\n",
      "memory usage: 3.8+ MB\n",
      "None\n",
      "\n"
     ]
    }
   ],
   "source": [
    "# посмотрим на размеры дата сета и одновременно посчитаем количество полных дубликатов (при наличии)\n",
    "for ds in [geo_data_0, geo_data_1, geo_data_2]:\n",
    "    print(ds.info())\n",
    "    print()"
   ]
  },
  {
   "cell_type": "code",
   "execution_count": 5,
   "metadata": {},
   "outputs": [
    {
     "name": "stdout",
     "output_type": "stream",
     "text": [
      "Количество уникальных идентификаторов скважин: 99990\n",
      "\n",
      "Количество уникальных идентификаторов скважин: 99996\n",
      "\n",
      "Количество уникальных идентификаторов скважин: 99996\n",
      "\n"
     ]
    }
   ],
   "source": [
    "# проверим все ли идентификаторы в датасете уникальны\n",
    "for ds in [geo_data_0, geo_data_1, geo_data_2]:\n",
    "    print(\"Количество уникальных идентификаторов скважин:\", len(ds[\"id\"].unique()))\n",
    "    print()"
   ]
  },
  {
   "cell_type": "code",
   "execution_count": 6,
   "metadata": {},
   "outputs": [
    {
     "data": {
      "text/html": [
       "<div>\n",
       "<style scoped>\n",
       "    .dataframe tbody tr th:only-of-type {\n",
       "        vertical-align: middle;\n",
       "    }\n",
       "\n",
       "    .dataframe tbody tr th {\n",
       "        vertical-align: top;\n",
       "    }\n",
       "\n",
       "    .dataframe thead th {\n",
       "        text-align: right;\n",
       "    }\n",
       "</style>\n",
       "<table border=\"1\" class=\"dataframe\">\n",
       "  <thead>\n",
       "    <tr style=\"text-align: right;\">\n",
       "      <th></th>\n",
       "      <th>id</th>\n",
       "      <th>f0</th>\n",
       "      <th>f1</th>\n",
       "      <th>f2</th>\n",
       "      <th>product</th>\n",
       "    </tr>\n",
       "  </thead>\n",
       "  <tbody>\n",
       "    <tr>\n",
       "      <td>66136</td>\n",
       "      <td>74z30</td>\n",
       "      <td>1.084962</td>\n",
       "      <td>-0.312358</td>\n",
       "      <td>6.990771</td>\n",
       "      <td>127.643327</td>\n",
       "    </tr>\n",
       "    <tr>\n",
       "      <td>64022</td>\n",
       "      <td>74z30</td>\n",
       "      <td>0.741456</td>\n",
       "      <td>0.459229</td>\n",
       "      <td>5.153109</td>\n",
       "      <td>140.771492</td>\n",
       "    </tr>\n",
       "    <tr>\n",
       "      <td>51970</td>\n",
       "      <td>A5aEY</td>\n",
       "      <td>-0.180335</td>\n",
       "      <td>0.935548</td>\n",
       "      <td>-2.094773</td>\n",
       "      <td>33.020205</td>\n",
       "    </tr>\n",
       "    <tr>\n",
       "      <td>3389</td>\n",
       "      <td>A5aEY</td>\n",
       "      <td>-0.039949</td>\n",
       "      <td>0.156872</td>\n",
       "      <td>0.209861</td>\n",
       "      <td>89.249364</td>\n",
       "    </tr>\n",
       "    <tr>\n",
       "      <td>69163</td>\n",
       "      <td>AGS9W</td>\n",
       "      <td>-0.933795</td>\n",
       "      <td>0.116194</td>\n",
       "      <td>-3.655896</td>\n",
       "      <td>19.230453</td>\n",
       "    </tr>\n",
       "    <tr>\n",
       "      <td>42529</td>\n",
       "      <td>AGS9W</td>\n",
       "      <td>1.454747</td>\n",
       "      <td>-0.479651</td>\n",
       "      <td>0.683380</td>\n",
       "      <td>126.370504</td>\n",
       "    </tr>\n",
       "    <tr>\n",
       "      <td>931</td>\n",
       "      <td>HZww2</td>\n",
       "      <td>0.755284</td>\n",
       "      <td>0.368511</td>\n",
       "      <td>1.863211</td>\n",
       "      <td>30.681774</td>\n",
       "    </tr>\n",
       "    <tr>\n",
       "      <td>7530</td>\n",
       "      <td>HZww2</td>\n",
       "      <td>1.061194</td>\n",
       "      <td>-0.373969</td>\n",
       "      <td>10.430210</td>\n",
       "      <td>158.828695</td>\n",
       "    </tr>\n",
       "    <tr>\n",
       "      <td>63593</td>\n",
       "      <td>QcMuo</td>\n",
       "      <td>0.635635</td>\n",
       "      <td>-0.473422</td>\n",
       "      <td>0.862670</td>\n",
       "      <td>64.578675</td>\n",
       "    </tr>\n",
       "    <tr>\n",
       "      <td>1949</td>\n",
       "      <td>QcMuo</td>\n",
       "      <td>0.506563</td>\n",
       "      <td>-0.323775</td>\n",
       "      <td>-2.215583</td>\n",
       "      <td>75.496502</td>\n",
       "    </tr>\n",
       "    <tr>\n",
       "      <td>75715</td>\n",
       "      <td>Tdehs</td>\n",
       "      <td>0.112079</td>\n",
       "      <td>0.430296</td>\n",
       "      <td>3.218993</td>\n",
       "      <td>60.964018</td>\n",
       "    </tr>\n",
       "    <tr>\n",
       "      <td>21426</td>\n",
       "      <td>Tdehs</td>\n",
       "      <td>0.829407</td>\n",
       "      <td>0.298807</td>\n",
       "      <td>-0.049563</td>\n",
       "      <td>96.035308</td>\n",
       "    </tr>\n",
       "    <tr>\n",
       "      <td>92341</td>\n",
       "      <td>TtcGQ</td>\n",
       "      <td>0.110711</td>\n",
       "      <td>1.022689</td>\n",
       "      <td>0.911381</td>\n",
       "      <td>101.318008</td>\n",
       "    </tr>\n",
       "    <tr>\n",
       "      <td>60140</td>\n",
       "      <td>TtcGQ</td>\n",
       "      <td>0.569276</td>\n",
       "      <td>-0.104876</td>\n",
       "      <td>6.440215</td>\n",
       "      <td>85.350186</td>\n",
       "    </tr>\n",
       "    <tr>\n",
       "      <td>89582</td>\n",
       "      <td>bsk9y</td>\n",
       "      <td>0.398908</td>\n",
       "      <td>-0.400253</td>\n",
       "      <td>10.122376</td>\n",
       "      <td>163.433078</td>\n",
       "    </tr>\n",
       "    <tr>\n",
       "      <td>97785</td>\n",
       "      <td>bsk9y</td>\n",
       "      <td>0.378429</td>\n",
       "      <td>0.005837</td>\n",
       "      <td>0.160827</td>\n",
       "      <td>160.637302</td>\n",
       "    </tr>\n",
       "    <tr>\n",
       "      <td>41724</td>\n",
       "      <td>bxg6G</td>\n",
       "      <td>-0.823752</td>\n",
       "      <td>0.546319</td>\n",
       "      <td>3.630479</td>\n",
       "      <td>93.007798</td>\n",
       "    </tr>\n",
       "    <tr>\n",
       "      <td>1364</td>\n",
       "      <td>bxg6G</td>\n",
       "      <td>0.411645</td>\n",
       "      <td>0.856830</td>\n",
       "      <td>-3.653440</td>\n",
       "      <td>73.604260</td>\n",
       "    </tr>\n",
       "    <tr>\n",
       "      <td>16633</td>\n",
       "      <td>fiKDv</td>\n",
       "      <td>0.157341</td>\n",
       "      <td>1.028359</td>\n",
       "      <td>5.585586</td>\n",
       "      <td>95.817889</td>\n",
       "    </tr>\n",
       "    <tr>\n",
       "      <td>90815</td>\n",
       "      <td>fiKDv</td>\n",
       "      <td>0.049883</td>\n",
       "      <td>0.841313</td>\n",
       "      <td>6.394613</td>\n",
       "      <td>137.346586</td>\n",
       "    </tr>\n",
       "  </tbody>\n",
       "</table>\n",
       "</div>"
      ],
      "text/plain": [
       "          id        f0        f1         f2     product\n",
       "66136  74z30  1.084962 -0.312358   6.990771  127.643327\n",
       "64022  74z30  0.741456  0.459229   5.153109  140.771492\n",
       "51970  A5aEY -0.180335  0.935548  -2.094773   33.020205\n",
       "3389   A5aEY -0.039949  0.156872   0.209861   89.249364\n",
       "69163  AGS9W -0.933795  0.116194  -3.655896   19.230453\n",
       "42529  AGS9W  1.454747 -0.479651   0.683380  126.370504\n",
       "931    HZww2  0.755284  0.368511   1.863211   30.681774\n",
       "7530   HZww2  1.061194 -0.373969  10.430210  158.828695\n",
       "63593  QcMuo  0.635635 -0.473422   0.862670   64.578675\n",
       "1949   QcMuo  0.506563 -0.323775  -2.215583   75.496502\n",
       "75715  Tdehs  0.112079  0.430296   3.218993   60.964018\n",
       "21426  Tdehs  0.829407  0.298807  -0.049563   96.035308\n",
       "92341  TtcGQ  0.110711  1.022689   0.911381  101.318008\n",
       "60140  TtcGQ  0.569276 -0.104876   6.440215   85.350186\n",
       "89582  bsk9y  0.398908 -0.400253  10.122376  163.433078\n",
       "97785  bsk9y  0.378429  0.005837   0.160827  160.637302\n",
       "41724  bxg6G -0.823752  0.546319   3.630479   93.007798\n",
       "1364   bxg6G  0.411645  0.856830  -3.653440   73.604260\n",
       "16633  fiKDv  0.157341  1.028359   5.585586   95.817889\n",
       "90815  fiKDv  0.049883  0.841313   6.394613  137.346586"
      ]
     },
     "execution_count": 6,
     "metadata": {},
     "output_type": "execute_result"
    }
   ],
   "source": [
    "# посмотрим на строки, содержащие дубликаты идентификаторов\n",
    "\n",
    "geo_data_0.loc[\n",
    "    geo_data_0[\"id\"].isin(list(geo_data_0[geo_data_0[\"id\"].duplicated()][\"id\"]))\n",
    "].sort_values(by=\"id\")"
   ]
  },
  {
   "cell_type": "code",
   "execution_count": 7,
   "metadata": {},
   "outputs": [
    {
     "data": {
      "image/png": "[encoded data removed]",
      "text/plain": [
       "<Figure size 720x360 with 2 Axes>"
      ]
     },
     "metadata": {
      "needs_background": "light"
     },
     "output_type": "display_data"
    },
    {
     "data": {
      "image/png": "[encoded data removed]",
      "text/plain": [
       "<Figure size 720x360 with 2 Axes>"
      ]
     },
     "metadata": {
      "needs_background": "light"
     },
     "output_type": "display_data"
    },
    {
     "data": {
      "image/png": "[encoded data removed]",
      "text/plain": [
       "<Figure size 720x360 with 2 Axes>"
      ]
     },
     "metadata": {
      "needs_background": "light"
     },
     "output_type": "display_data"
    }
   ],
   "source": [
    "# взглянем на линейные зависимости между признаками в каждом дата-сете\n",
    "\n",
    "for df in [geo_data_0, geo_data_1, geo_data_2]:\n",
    "    plt.figure(figsize=[10, 5])\n",
    "    plt.title(\"Корреляция между признаками\")\n",
    "    dataplot = sns.heatmap(df.corr(), cmap=\"YlGnBu\", annot=True)\n",
    "    plt.show()"
   ]
  },
  {
   "cell_type": "markdown",
   "metadata": {},
   "source": [
    "Промежуточные выводы:\n",
    "\n",
    "1. Ни в одном из дата-сетов нет пропусков\n",
    "2. Ни один из дата-сетов не имеет полных дубликтов\n",
    "3. Столбец `id` несмотря на свое название содержит дублированные значения. Строки с идентичными идентификаторами скважин содержат отличающиеся параметры. Вероятно то какая-то ошибка измерений или получения данных. Так как мы не располагаем возможностью обратиться за уточнением, такие строки можно убрать из всех датасетов, так как максимальная доля записей с дублированными идентификаторами - 0.2%\n",
    "4. Датасет по региону 2 вызывает вопросы, так как наблюдается очень сильная прямая линейная зависимость между целевым признаком и `f2` (стремится к 1)"
   ]
  },
  {
   "cell_type": "code",
   "execution_count": 8,
   "metadata": {},
   "outputs": [],
   "source": [
    "# убираем строки с дублированными идентификаторами из дата-сета\n",
    "\n",
    "geo_data_0 = geo_data_0[\n",
    "    ~geo_data_0[\"id\"].isin(list(geo_data_0[geo_data_0[\"id\"].duplicated()][\"id\"]))\n",
    "].reset_index(drop=True)\n",
    "\n",
    "geo_data_1 = geo_data_1[\n",
    "    ~geo_data_1[\"id\"].isin(list(geo_data_1[geo_data_1[\"id\"].duplicated()][\"id\"]))\n",
    "].reset_index(drop=True)\n",
    "\n",
    "geo_data_2 = geo_data_2[\n",
    "    ~geo_data_2[\"id\"].isin(list(geo_data_2[geo_data_2[\"id\"].duplicated()][\"id\"]))\n",
    "].reset_index(drop=True)"
   ]
  },
  {
   "cell_type": "markdown",
   "metadata": {},
   "source": [
    "## Подготовка данных для обучения"
   ]
  },
  {
   "cell_type": "code",
   "execution_count": 9,
   "metadata": {},
   "outputs": [],
   "source": [
    "# делим дата-сеты на зависимую и независимые переменные\n",
    "\n",
    "features_geo_0 = geo_data_0.drop([\"id\", \"product\"], axis=1)\n",
    "target_geo_0 = geo_data_0[\"product\"]\n",
    "\n",
    "features_geo_1 = geo_data_1.drop([\"id\", \"product\"], axis=1)\n",
    "target_geo_1 = geo_data_1[\"product\"]\n",
    "\n",
    "features_geo_2 = geo_data_2.drop([\"id\", \"product\"], axis=1)\n",
    "target_geo_2 = geo_data_2[\"product\"]"
   ]
  },
  {
   "cell_type": "code",
   "execution_count": 10,
   "metadata": {},
   "outputs": [],
   "source": [
    "# данные каждого региона разделим на обучающую и валидационную выборки\n",
    "\n",
    "train_features_0, valid_features_0, train_target_0, valid_target_0 = train_test_split(\n",
    "    features_geo_0, target_geo_0, train_size=0.75, random_state=12345\n",
    ")\n",
    "\n",
    "train_features_1, valid_features_1, train_target_1, valid_target_1 = train_test_split(\n",
    "    features_geo_1, target_geo_1, train_size=0.75, random_state=12345\n",
    ")\n",
    "\n",
    "train_features_2, valid_features_2, train_target_2, valid_target_2 = train_test_split(\n",
    "    features_geo_2, target_geo_2, train_size=0.75, random_state=12345\n",
    ")"
   ]
  },
  {
   "cell_type": "code",
   "execution_count": 11,
   "metadata": {},
   "outputs": [
    {
     "data": {
      "text/html": [
       "<div>\n",
       "<style scoped>\n",
       "    .dataframe tbody tr th:only-of-type {\n",
       "        vertical-align: middle;\n",
       "    }\n",
       "\n",
       "    .dataframe tbody tr th {\n",
       "        vertical-align: top;\n",
       "    }\n",
       "\n",
       "    .dataframe thead th {\n",
       "        text-align: right;\n",
       "    }\n",
       "</style>\n",
       "<table border=\"1\" class=\"dataframe\">\n",
       "  <thead>\n",
       "    <tr style=\"text-align: right;\">\n",
       "      <th></th>\n",
       "      <th>f0</th>\n",
       "      <th>f1</th>\n",
       "      <th>f2</th>\n",
       "    </tr>\n",
       "  </thead>\n",
       "  <tbody>\n",
       "    <tr>\n",
       "      <td>86197</td>\n",
       "      <td>0.245635</td>\n",
       "      <td>0.128953</td>\n",
       "      <td>2.753394</td>\n",
       "    </tr>\n",
       "    <tr>\n",
       "      <td>50770</td>\n",
       "      <td>0.463011</td>\n",
       "      <td>0.891989</td>\n",
       "      <td>3.742645</td>\n",
       "    </tr>\n",
       "    <tr>\n",
       "      <td>84497</td>\n",
       "      <td>0.340691</td>\n",
       "      <td>-0.148729</td>\n",
       "      <td>4.693089</td>\n",
       "    </tr>\n",
       "    <tr>\n",
       "      <td>43375</td>\n",
       "      <td>-0.291562</td>\n",
       "      <td>1.111994</td>\n",
       "      <td>1.345046</td>\n",
       "    </tr>\n",
       "    <tr>\n",
       "      <td>69525</td>\n",
       "      <td>-0.453448</td>\n",
       "      <td>0.885378</td>\n",
       "      <td>6.621671</td>\n",
       "    </tr>\n",
       "    <tr>\n",
       "      <td>...</td>\n",
       "      <td>...</td>\n",
       "      <td>...</td>\n",
       "      <td>...</td>\n",
       "    </tr>\n",
       "    <tr>\n",
       "      <td>4094</td>\n",
       "      <td>-1.131123</td>\n",
       "      <td>0.053078</td>\n",
       "      <td>-1.589662</td>\n",
       "    </tr>\n",
       "    <tr>\n",
       "      <td>85412</td>\n",
       "      <td>1.008319</td>\n",
       "      <td>0.439898</td>\n",
       "      <td>3.961555</td>\n",
       "    </tr>\n",
       "    <tr>\n",
       "      <td>2177</td>\n",
       "      <td>1.083401</td>\n",
       "      <td>0.128404</td>\n",
       "      <td>2.425737</td>\n",
       "    </tr>\n",
       "    <tr>\n",
       "      <td>77285</td>\n",
       "      <td>2.186453</td>\n",
       "      <td>0.041494</td>\n",
       "      <td>5.414335</td>\n",
       "    </tr>\n",
       "    <tr>\n",
       "      <td>86498</td>\n",
       "      <td>0.655609</td>\n",
       "      <td>0.723851</td>\n",
       "      <td>1.648690</td>\n",
       "    </tr>\n",
       "  </tbody>\n",
       "</table>\n",
       "<p>74985 rows × 3 columns</p>\n",
       "</div>"
      ],
      "text/plain": [
       "             f0        f1        f2\n",
       "86197  0.245635  0.128953  2.753394\n",
       "50770  0.463011  0.891989  3.742645\n",
       "84497  0.340691 -0.148729  4.693089\n",
       "43375 -0.291562  1.111994  1.345046\n",
       "69525 -0.453448  0.885378  6.621671\n",
       "...         ...       ...       ...\n",
       "4094  -1.131123  0.053078 -1.589662\n",
       "85412  1.008319  0.439898  3.961555\n",
       "2177   1.083401  0.128404  2.425737\n",
       "77285  2.186453  0.041494  5.414335\n",
       "86498  0.655609  0.723851  1.648690\n",
       "\n",
       "[74985 rows x 3 columns]"
      ]
     },
     "execution_count": 11,
     "metadata": {},
     "output_type": "execute_result"
    }
   ],
   "source": [
    "# вероятно потребуется стандартизация числовых признаков, поэтому еще раз взглянем на данные\n",
    "\n",
    "train_features_0"
   ]
  },
  {
   "cell_type": "code",
   "execution_count": 12,
   "metadata": {},
   "outputs": [],
   "source": [
    "# стандартизируем числовые признаки, анализ которых будет делать алгоритм\n",
    "\n",
    "scaler = StandardScaler()\n",
    "\n",
    "train_features_0 = scaler.fit_transform(train_features_0)\n",
    "valid_features_0 = scaler.transform(valid_features_0)\n",
    "\n",
    "train_features_1 = scaler.fit_transform(train_features_1)\n",
    "valid_features_1 = scaler.transform(valid_features_1)\n",
    "\n",
    "train_features_2 = scaler.fit_transform(train_features_2)\n",
    "valid_features_2 = scaler.transform(valid_features_2)"
   ]
  },
  {
   "cell_type": "markdown",
   "metadata": {},
   "source": [
    "# Обучение и проверка модели"
   ]
  },
  {
   "cell_type": "markdown",
   "metadata": {},
   "source": [
    "## Регион 1"
   ]
  },
  {
   "cell_type": "code",
   "execution_count": 13,
   "metadata": {},
   "outputs": [],
   "source": [
    "# создаем переменную куда кладем алгоритм линейной регрессии\n",
    "model_0 = LinearRegression()"
   ]
  },
  {
   "cell_type": "code",
   "execution_count": 14,
   "metadata": {},
   "outputs": [],
   "source": [
    "# обучаем модель\n",
    "model_0.fit(train_features_0, train_target_0)\n",
    "predictions_valid_0 = model_0.predict(valid_features_0)"
   ]
  },
  {
   "cell_type": "code",
   "execution_count": 15,
   "metadata": {},
   "outputs": [
    {
     "name": "stdout",
     "output_type": "stream",
     "text": [
      "RMSE модели линейной регрессии на валидационной выборке: 37.716904960382735\n",
      "\n",
      "Средний запас предсказанного сырья (тыс. баррелей): 92.42384109947358\n"
     ]
    }
   ],
   "source": [
    "result = mean_squared_error(y_true=valid_target_0, y_pred=predictions_valid_0) ** 0.5\n",
    "print(\"RMSE модели линейной регрессии на валидационной выборке:\", result)\n",
    "print()\n",
    "print(\"Средний запас предсказанного сырья (тыс. баррелей):\", predictions_valid_0.mean())"
   ]
  },
  {
   "cell_type": "code",
   "execution_count": 16,
   "metadata": {},
   "outputs": [
    {
     "data": {
      "image/png": "[encoded data removed]",
      "text/plain": [
       "<Figure size 576x288 with 1 Axes>"
      ]
     },
     "metadata": {
      "needs_background": "light"
     },
     "output_type": "display_data"
    }
   ],
   "source": [
    "plt.figure(figsize=(8, 4))\n",
    "plt.title('Вес \"фичей\" в модели')\n",
    "plt.grid()\n",
    "sns.barplot(y=model_0.coef_, x=[\"f0\", \"f1\", \"f2\"])\n",
    "plt.show()"
   ]
  },
  {
   "cell_type": "markdown",
   "metadata": {},
   "source": [
    "## Регион 2"
   ]
  },
  {
   "cell_type": "code",
   "execution_count": 17,
   "metadata": {},
   "outputs": [],
   "source": [
    "# создаем переменную куда кладем алгоритм линейной регрессии\n",
    "model_1 = LinearRegression()"
   ]
  },
  {
   "cell_type": "code",
   "execution_count": 18,
   "metadata": {},
   "outputs": [],
   "source": [
    "# обучаем модель\n",
    "model_1.fit(train_features_1, train_target_1)\n",
    "predictions_valid_1 = model_1.predict(valid_features_1)"
   ]
  },
  {
   "cell_type": "code",
   "execution_count": 19,
   "metadata": {},
   "outputs": [
    {
     "name": "stdout",
     "output_type": "stream",
     "text": [
      "RMSE модели линейной регрессии на валидационной выборке: 0.8914901390348529\n",
      "\n",
      "Средний запас предсказанного сырья (тыс. баррелей): 68.98311857983121\n"
     ]
    }
   ],
   "source": [
    "result = mean_squared_error(y_true=valid_target_1, y_pred=predictions_valid_1) ** 0.5\n",
    "print(\"RMSE модели линейной регрессии на валидационной выборке:\", result)\n",
    "print()\n",
    "print(\"Средний запас предсказанного сырья (тыс. баррелей):\", predictions_valid_1.mean())"
   ]
  },
  {
   "cell_type": "code",
   "execution_count": 20,
   "metadata": {},
   "outputs": [
    {
     "name": "stdout",
     "output_type": "stream",
     "text": [
      "RMSE модели линейной регрессии на валидационной выборке: 0.8914901390348529\n",
      "\n",
      "Средний запас предсказанного сырья (тыс. баррелей): 68.98311857983121\n"
     ]
    }
   ],
   "source": [
    "result = mean_squared_error(y_true=valid_target_1, y_pred=predictions_valid_1) ** 0.5\n",
    "print(\"RMSE модели линейной регрессии на валидационной выборке:\", result)\n",
    "print()\n",
    "print(\"Средний запас предсказанного сырья (тыс. баррелей):\", predictions_valid_1.mean())"
   ]
  },
  {
   "cell_type": "markdown",
   "metadata": {},
   "source": [
    "## Регион 3"
   ]
  },
  {
   "cell_type": "code",
   "execution_count": 21,
   "metadata": {},
   "outputs": [],
   "source": [
    "# создаем переменную куда кладем алгоритм линейной регрессии\n",
    "model_2 = LinearRegression()"
   ]
  },
  {
   "cell_type": "code",
   "execution_count": 22,
   "metadata": {},
   "outputs": [],
   "source": [
    "# обучаем модель\n",
    "model_2.fit(train_features_2, train_target_2)\n",
    "predictions_valid_2 = model_2.predict(valid_features_2)"
   ]
  },
  {
   "cell_type": "code",
   "execution_count": 23,
   "metadata": {},
   "outputs": [
    {
     "name": "stdout",
     "output_type": "stream",
     "text": [
      "RMSE модели линейной регрессии на валидационной выборке: 39.975543264382345\n",
      "\n",
      "Средний запас предсказанного сырья (тыс. баррелей): 95.11622302076478\n"
     ]
    }
   ],
   "source": [
    "result = mean_squared_error(y_true=valid_target_2, y_pred=predictions_valid_2) ** 0.5\n",
    "print(\"RMSE модели линейной регрессии на валидационной выборке:\", result)\n",
    "print()\n",
    "print(\"Средний запас предсказанного сырья (тыс. баррелей):\", predictions_valid_2.mean())"
   ]
  },
  {
   "cell_type": "code",
   "execution_count": 24,
   "metadata": {},
   "outputs": [
    {
     "data": {
      "image/png": "[encoded data removed]",
      "text/plain": [
       "<Figure size 576x288 with 1 Axes>"
      ]
     },
     "metadata": {
      "needs_background": "light"
     },
     "output_type": "display_data"
    }
   ],
   "source": [
    "plt.figure(figsize=(8, 4))\n",
    "plt.title('Вес \"фичей\" в модели')\n",
    "plt.grid()\n",
    "sns.barplot(y=model_2.coef_, x=[\"f0\", \"f1\", \"f2\"])\n",
    "plt.show()"
   ]
  },
  {
   "cell_type": "markdown",
   "metadata": {},
   "source": [
    "## Промежуточные выводы"
   ]
  },
  {
   "cell_type": "markdown",
   "metadata": {},
   "source": [
    "Наблюдаем следующее:\n",
    "\n",
    "1. Средний запас сырья на предсказания по валидационной выборке в регионах 1 и 3 сопоставим - среднеквадратичная ошибка регрессии в регионе 1 немного меньше (37.7 против 40), но и среднее предсказанное количество сырья из 1 скважины в ней меньше\n",
    "2. Для Региона 2 наблюдаем значительно меньшее количество среднее спрогнозированное количество сырья, но при этом среднеквадратичная ошибка крайне низкая (0.89 против 38 и 40). По всей видимости, такую точность дает прямая линейная связь между признаком `f2` и целевым признаком (ее мы наблюдали в процессе исследования данных)\n",
    "3. Визуализация значений коэффициентов регрессии показывает, что при прогнозировании целевого признака для регионов 2 и 3 определяющее значение имеет признак `f2`. При этом коэффициент этого признака для региона 2 более чем вдвое превышает коэффициент для региона 3 - это, по всей видимости, результат очень сильной прямой линейной связи между ним и целевым признаком. На мой взгляд, требуется уточнить следующее (похоже, в данных какая-то ошибка):\n",
    "    * Что это за признак: как он работает? действительно ли он связан с целевым признаком?\n",
    "    * Как собирались данные?\n",
    "    * Как данные обрабатывались и готовились к отправке для анализа? "
   ]
  },
  {
   "cell_type": "markdown",
   "metadata": {},
   "source": [
    "# Расчет прибыли и рисков"
   ]
  },
  {
   "cell_type": "markdown",
   "metadata": {},
   "source": [
    "## Подготовка к расчету"
   ]
  },
  {
   "cell_type": "code",
   "execution_count": 25,
   "metadata": {},
   "outputs": [],
   "source": [
    "# фиксируем значения констант\n",
    "\n",
    "razvedka = 500\n",
    "razrabotka = 200\n",
    "budget = 10000000000\n",
    "revenue_per_unit = 450000"
   ]
  },
  {
   "cell_type": "code",
   "execution_count": 26,
   "metadata": {},
   "outputs": [
    {
     "name": "stdout",
     "output_type": "stream",
     "text": [
      "Среднее требуемое количество сырья из 1 скважины для достижения точки безубыточности (тыс. баррелей): 111.11\n"
     ]
    }
   ],
   "source": [
    "required_raw_material_volume = (budget / razrabotka) / revenue_per_unit\n",
    "print(\n",
    "    \"Среднее требуемое количество сырья из 1 скважины для достижения точки безубыточности (тыс. баррелей):\",\n",
    "    round(required_raw_material_volume, 2),\n",
    ")"
   ]
  },
  {
   "cell_type": "code",
   "execution_count": 27,
   "metadata": {},
   "outputs": [
    {
     "name": "stdout",
     "output_type": "stream",
     "text": [
      "Дельта между средним прогнозируемым количеством с 1 скважины в регионе и требуемым количеством для региона 1: -18.69\n",
      "\n",
      "Дельта между средним прогнозируемым количеством с 1 скважины в регионе и требуемым количеством для региона 2: -42.13\n",
      "\n",
      "Дельта между средним прогнозируемым количеством с 1 скважины в регионе и требуемым количеством для региона 3: -15.99\n",
      "\n"
     ]
    }
   ],
   "source": [
    "# сравним целевую метрику (количество сырья из 1 скважины для достижения точки безубыточности)\n",
    "\n",
    "region = 1\n",
    "\n",
    "for predictions in [predictions_valid_0, predictions_valid_1, predictions_valid_2]:\n",
    "    mean_raw_material = predictions.mean()\n",
    "    print(\n",
    "        f\"Дельта между средним прогнозируемым количеством с 1 скважины в регионе и требуемым количеством для региона {region}:\",\n",
    "        round(mean_raw_material - required_raw_material_volume, 2),\n",
    "    )\n",
    "    print()\n",
    "    region += 1"
   ]
  },
  {
   "cell_type": "markdown",
   "metadata": {},
   "source": [
    "## Расчет прибыли "
   ]
  },
  {
   "cell_type": "markdown",
   "metadata": {},
   "source": [
    "### Функция для определения потенциальной прибыли"
   ]
  },
  {
   "cell_type": "code",
   "execution_count": 30,
   "metadata": {},
   "outputs": [],
   "source": [
    "#формируем последовательности, содержащие реальные запасы сырья для скважин, отобранных моделью \n",
    "\n",
    "region_1 = (\n",
    "    pd.concat(\n",
    "        [\n",
    "            pd.Series(valid_target_0).reset_index(drop=True),\n",
    "            pd.Series(predictions_valid_0),\n",
    "        ],\n",
    "        axis=1,\n",
    "    )\n",
    "    .sort_values(by=0, ascending=False)\n",
    "    .head(200)[\"product\"]\n",
    ")\n",
    "\n",
    "region_2 = (\n",
    "    pd.concat(\n",
    "        [\n",
    "            pd.Series(valid_target_1).reset_index(drop=True),\n",
    "            pd.Series(predictions_valid_1),\n",
    "        ],\n",
    "        axis=1,\n",
    "    )\n",
    "    .sort_values(by=0, ascending=False)\n",
    "    .head(200)[\"product\"]\n",
    ")\n",
    "\n",
    "region_3 = (\n",
    "    pd.concat(\n",
    "        [\n",
    "            pd.Series(valid_target_2).reset_index(drop=True),\n",
    "            pd.Series(predictions_valid_2),\n",
    "        ],\n",
    "        axis=1,\n",
    "    )\n",
    "    .sort_values(by=0, ascending=False)\n",
    "    .head(200)[\"product\"]\n",
    ")"
   ]
  },
  {
   "cell_type": "code",
   "execution_count": 32,
   "metadata": {},
   "outputs": [],
   "source": [
    "def profit_calculator(data):\n",
    "    total_raw_material = data.sum()\n",
    "    revenue = total_raw_material * revenue_per_unit\n",
    "    profit = round(int(revenue - budget) / 1000000000, 3)\n",
    "    return profit"
   ]
  },
  {
   "cell_type": "code",
   "execution_count": 54,
   "metadata": {},
   "outputs": [
    {
     "name": "stdout",
     "output_type": "stream",
     "text": [
      "Прибыль для региона 1 составит 3.136 млрд. рублей\n",
      "Прибыль для региона 2 составит 2.415 млрд. рублей\n",
      "Прибыль для региона 3 составит 2.466 млрд. рублей\n"
     ]
    }
   ],
   "source": [
    "counter = 1\n",
    "for region in [region_1, region_2, region_3]:\n",
    "    profit = profit_calculator(region)\n",
    "    print(f'Прибыль для региона {counter} составит {profit} млрд. рублей')\n",
    "    counter += 1"
   ]
  },
  {
   "cell_type": "markdown",
   "metadata": {},
   "source": [
    "### Риски"
   ]
  },
  {
   "cell_type": "markdown",
   "metadata": {},
   "source": [
    "#### Подготовка функции для бутстрепа"
   ]
  },
  {
   "cell_type": "code",
   "execution_count": 33,
   "metadata": {},
   "outputs": [],
   "source": [
    "def bootstrap(target, bootstrap_samples=1000):\n",
    "    state = np.random.RandomState(12345)\n",
    "    counter = 0\n",
    "    profit_values = []\n",
    "    for sample in range(bootstrap_samples):\n",
    "        subsample = (\n",
    "            pd.Series(target)\n",
    "            .sample(n=500, replace=True, random_state=state)\n",
    "            .sort_values(ascending=False)\n",
    "        )\n",
    "        subsample = subsample.head(200)\n",
    "        profit = profit_calculator(subsample)\n",
    "        profit_values.append(profit)\n",
    "    return pd.Series(profit_values)"
   ]
  },
  {
   "cell_type": "markdown",
   "metadata": {},
   "source": [
    "#### Регион 1"
   ]
  },
  {
   "cell_type": "code",
   "execution_count": 34,
   "metadata": {},
   "outputs": [
    {
     "name": "stdout",
     "output_type": "stream",
     "text": [
      "CPU times: user 1.48 s, sys: 0 ns, total: 1.48 s\n",
      "Wall time: 1.72 s\n"
     ]
    }
   ],
   "source": [
    "%%time\n",
    "\n",
    "region_1_profits = bootstrap(predictions_valid_0)"
   ]
  },
  {
   "cell_type": "code",
   "execution_count": 35,
   "metadata": {},
   "outputs": [
    {
     "data": {
      "text/plain": [
       "<matplotlib.axes._subplots.AxesSubplot at 0x7f9f41a433d0>"
      ]
     },
     "execution_count": 35,
     "metadata": {},
     "output_type": "execute_result"
    },
    {
     "data": {
      "image/png": "[encoded data removed]",
      "text/plain": [
       "<Figure size 432x288 with 1 Axes>"
      ]
     },
     "metadata": {
      "needs_background": "light"
     },
     "output_type": "display_data"
    }
   ],
   "source": [
    "region_1_profits.hist()"
   ]
  },
  {
   "cell_type": "code",
   "execution_count": 36,
   "metadata": {},
   "outputs": [
    {
     "name": "stdout",
     "output_type": "stream",
     "text": [
      "95% доверительный интервал прибыли лежит в диапазоне от 0.114 до 0.559 млрд. рублей\n"
     ]
    }
   ],
   "source": [
    "lower = region_1_profits.quantile(0.025)\n",
    "upper = region_1_profits.quantile(0.975)\n",
    "print(f'95% доверительный интервал прибыли лежит в диапазоне от {round(lower, 3)} до {round(upper, 3)} млрд. рублей')"
   ]
  },
  {
   "cell_type": "code",
   "execution_count": 37,
   "metadata": {},
   "outputs": [
    {
     "name": "stdout",
     "output_type": "stream",
     "text": [
      "Вероятность получения отрицательной прибыли составляет 0.2%\n",
      "Среднее значение прибыли: 0.339 млрд. рублей\n"
     ]
    }
   ],
   "source": [
    "print(f\"Вероятность получения отрицательной прибыли составляет {(region_1_profits < 0).mean():.1%}\")\n",
    "print(f\"Среднее значение прибыли: {round(np.mean(region_1_profits), 3)} млрд. рублей\")"
   ]
  },
  {
   "cell_type": "markdown",
   "metadata": {},
   "source": [
    "#### Регион 2"
   ]
  },
  {
   "cell_type": "code",
   "execution_count": 38,
   "metadata": {},
   "outputs": [
    {
     "name": "stdout",
     "output_type": "stream",
     "text": [
      "CPU times: user 1.44 s, sys: 0 ns, total: 1.44 s\n",
      "Wall time: 1.56 s\n"
     ]
    }
   ],
   "source": [
    "%%time\n",
    "\n",
    "region_2_profits = bootstrap(predictions_valid_1)"
   ]
  },
  {
   "cell_type": "code",
   "execution_count": 39,
   "metadata": {},
   "outputs": [
    {
     "data": {
      "text/plain": [
       "<matplotlib.axes._subplots.AxesSubplot at 0x7f9f3fc398d0>"
      ]
     },
     "execution_count": 39,
     "metadata": {},
     "output_type": "execute_result"
    },
    {
     "data": {
      "image/png": "[encoded data removed]",
      "text/plain": [
       "<Figure size 432x288 with 1 Axes>"
      ]
     },
     "metadata": {
      "needs_background": "light"
     },
     "output_type": "display_data"
    }
   ],
   "source": [
    "region_2_profits.hist()"
   ]
  },
  {
   "cell_type": "code",
   "execution_count": 40,
   "metadata": {},
   "outputs": [
    {
     "name": "stdout",
     "output_type": "stream",
     "text": [
      "95% доверительный интервал прибыли лежит в диапазоне от 0.058 до 0.898 млрд. рублей\n"
     ]
    }
   ],
   "source": [
    "lower = region_2_profits.quantile(0.025)\n",
    "upper = region_2_profits.quantile(0.975)\n",
    "print(f'95% доверительный интервал прибыли лежит в диапазоне от {round(lower, 3)} до {round(upper, 3)} млрд. рублей')"
   ]
  },
  {
   "cell_type": "code",
   "execution_count": 41,
   "metadata": {},
   "outputs": [
    {
     "name": "stdout",
     "output_type": "stream",
     "text": [
      "Вероятность получения отрицательной прибыли составляет 2.0%\n",
      "Среднее значение прибыли: 0.476 млрд. рублей\n"
     ]
    }
   ],
   "source": [
    "print(f\"Вероятность получения отрицательной прибыли составляет {(region_2_profits < 0).mean():.1%}\")\n",
    "print(f\"Среднее значение прибыли: {round(np.mean(region_2_profits), 3)} млрд. рублей\")"
   ]
  },
  {
   "cell_type": "markdown",
   "metadata": {},
   "source": [
    "#### Регион 3"
   ]
  },
  {
   "cell_type": "code",
   "execution_count": 42,
   "metadata": {},
   "outputs": [
    {
     "name": "stdout",
     "output_type": "stream",
     "text": [
      "CPU times: user 1.69 s, sys: 0 ns, total: 1.69 s\n",
      "Wall time: 1.73 s\n"
     ]
    }
   ],
   "source": [
    "%%time\n",
    "\n",
    "region_3_profits = bootstrap(predictions_valid_2)"
   ]
  },
  {
   "cell_type": "code",
   "execution_count": 43,
   "metadata": {},
   "outputs": [
    {
     "data": {
      "text/plain": [
       "<matplotlib.axes._subplots.AxesSubplot at 0x7f9f4076b390>"
      ]
     },
     "execution_count": 43,
     "metadata": {},
     "output_type": "execute_result"
    },
    {
     "data": {
      "image/png": "[encoded data removed]",
      "text/plain": [
       "<Figure size 432x288 with 1 Axes>"
      ]
     },
     "metadata": {
      "needs_background": "light"
     },
     "output_type": "display_data"
    }
   ],
   "source": [
    "region_3_profits.hist()"
   ]
  },
  {
   "cell_type": "code",
   "execution_count": 44,
   "metadata": {},
   "outputs": [
    {
     "name": "stdout",
     "output_type": "stream",
     "text": [
      "95% доверительный интервал прибыли лежит в диапазоне от 0.097 до 0.512 млрд. рублей\n"
     ]
    }
   ],
   "source": [
    "lower = region_3_profits.quantile(0.025)\n",
    "upper = region_3_profits.quantile(0.975)\n",
    "print(f'95% доверительный интервал прибыли лежит в диапазоне от {round(lower, 3)} до {round(upper, 3)} млрд. рублей')"
   ]
  },
  {
   "cell_type": "code",
   "execution_count": 45,
   "metadata": {},
   "outputs": [
    {
     "name": "stdout",
     "output_type": "stream",
     "text": [
      "Вероятность получения отрицательной прибыли составляет 0.3%\n",
      "Среднее значение прибыли: 0.305 млрд. рублей\n"
     ]
    }
   ],
   "source": [
    "print(f\"Вероятность получения отрицательной прибыли составляет {(region_3_profits < 0).mean():.1%}\")\n",
    "print(f\"Среднее значение прибыли: {round(np.mean(region_3_profits), 3)} млрд. рублей\")"
   ]
  },
  {
   "cell_type": "markdown",
   "metadata": {},
   "source": [
    "# Выводы"
   ]
  },
  {
   "cell_type": "markdown",
   "metadata": {},
   "source": [
    "1. Для предсказания спроса для каждого из регионов была обучена модель, котороая впоследствии была использована для отбора 200 наиболее перспективных скважин\n",
    "2. На основании данных о предсказании объемов залежей нефти, наиболее перспективным оказался Регион 1. В то время как регионы 2 и 3 показали сопоставимые цифры\n",
    "3. Любой из регионов дает вероятность убытков менее 2.5%, что установлено в процессе бутстрепа. По этой причине выбор региона необходимо обосновать с позиции наибольшей средней прибыли. \n",
    "4. Лидером с точки зрения прибыли после бутстрепа стал регион 2 со значением в 0.476 миллиарда рублей\n",
    "\n",
    "Таким образом - рекомендуем Регион 2. "
   ]
  },
  {
   "cell_type": "code",
   "execution_count": null,
   "metadata": {},
   "outputs": [],
   "source": []
  }
 ],
 "metadata": {
  "ExecuteTimeLog": [
   {
    "duration": 1983,
    "start_time": "2022-03-03T21:46:12.453Z"
   },
   {
    "duration": 3,
    "start_time": "2022-03-03T21:46:17.637Z"
   },
   {
    "duration": 5739,
    "start_time": "2022-03-03T21:46:50.417Z"
   },
   {
    "duration": 105,
    "start_time": "2022-03-03T21:47:11.580Z"
   },
   {
    "duration": 21,
    "start_time": "2022-03-03T21:47:20.117Z"
   },
   {
    "duration": 32,
    "start_time": "2022-03-03T21:47:31.175Z"
   },
   {
    "duration": 30,
    "start_time": "2022-03-03T21:47:42.237Z"
   },
   {
    "duration": 951,
    "start_time": "2022-03-03T21:47:55.572Z"
   },
   {
    "duration": 66,
    "start_time": "2022-03-03T21:48:15.837Z"
   },
   {
    "duration": 9,
    "start_time": "2022-03-03T21:48:45.338Z"
   },
   {
    "duration": 11,
    "start_time": "2022-03-03T21:48:50.817Z"
   },
   {
    "duration": 40,
    "start_time": "2022-03-03T21:48:59.303Z"
   },
   {
    "duration": 8,
    "start_time": "2022-03-03T21:49:07.217Z"
   },
   {
    "duration": 20,
    "start_time": "2022-03-03T21:49:15.629Z"
   },
   {
    "duration": 2,
    "start_time": "2022-03-03T21:49:46.728Z"
   },
   {
    "duration": 17,
    "start_time": "2022-03-03T21:49:54.353Z"
   },
   {
    "duration": 5,
    "start_time": "2022-03-03T21:50:03.530Z"
   },
   {
    "duration": 119,
    "start_time": "2022-03-03T21:50:22.339Z"
   },
   {
    "duration": 3,
    "start_time": "2022-03-03T21:50:47.773Z"
   },
   {
    "duration": 9,
    "start_time": "2022-03-03T21:51:00.801Z"
   },
   {
    "duration": 5,
    "start_time": "2022-03-03T21:51:08.398Z"
   },
   {
    "duration": 5,
    "start_time": "2022-03-03T21:51:13.997Z"
   },
   {
    "duration": 2,
    "start_time": "2022-03-03T21:51:29.621Z"
   },
   {
    "duration": 17,
    "start_time": "2022-03-03T21:51:35.187Z"
   },
   {
    "duration": 5,
    "start_time": "2022-03-03T21:51:40.418Z"
   },
   {
    "duration": 142,
    "start_time": "2022-03-03T21:51:47.738Z"
   },
   {
    "duration": 3,
    "start_time": "2022-03-03T21:52:39.534Z"
   },
   {
    "duration": 3,
    "start_time": "2022-03-03T21:52:44.741Z"
   },
   {
    "duration": 4,
    "start_time": "2022-03-03T21:52:51.363Z"
   },
   {
    "duration": 5,
    "start_time": "2022-03-03T21:53:12.419Z"
   },
   {
    "duration": 17,
    "start_time": "2022-03-03T21:53:18.518Z"
   },
   {
    "duration": 5,
    "start_time": "2022-03-03T21:53:27.379Z"
   },
   {
    "duration": 129,
    "start_time": "2022-03-03T21:53:33.225Z"
   },
   {
    "duration": 5,
    "start_time": "2022-03-03T21:54:15.001Z"
   },
   {
    "duration": 764,
    "start_time": "2022-03-03T21:54:30.639Z"
   },
   {
    "duration": 245,
    "start_time": "2022-03-03T21:54:41.262Z"
   },
   {
    "duration": 208,
    "start_time": "2022-03-03T21:55:36.288Z"
   },
   {
    "duration": 5,
    "start_time": "2022-03-03T21:55:48.702Z"
   },
   {
    "duration": 4,
    "start_time": "2022-03-03T21:55:54.583Z"
   },
   {
    "duration": 731,
    "start_time": "2022-03-03T21:56:11.724Z"
   },
   {
    "duration": 155,
    "start_time": "2022-03-03T21:56:24.386Z"
   },
   {
    "duration": 5,
    "start_time": "2022-03-03T21:56:33.890Z"
   },
   {
    "duration": 5,
    "start_time": "2022-03-03T21:56:39.782Z"
   },
   {
    "duration": 716,
    "start_time": "2022-03-03T21:56:57.062Z"
   },
   {
    "duration": 149,
    "start_time": "2022-03-03T21:57:10.688Z"
   },
   {
    "duration": 5,
    "start_time": "2022-03-03T21:57:25.898Z"
   },
   {
    "duration": 5,
    "start_time": "2022-03-03T21:57:31.149Z"
   },
   {
    "duration": 1124,
    "start_time": "2022-03-03T21:58:13.728Z"
   },
   {
    "duration": 319,
    "start_time": "2022-03-03T21:58:14.854Z"
   },
   {
    "duration": 90,
    "start_time": "2022-03-03T21:58:15.175Z"
   },
   {
    "duration": 21,
    "start_time": "2022-03-03T21:58:15.267Z"
   },
   {
    "duration": 43,
    "start_time": "2022-03-03T21:58:15.290Z"
   },
   {
    "duration": 28,
    "start_time": "2022-03-03T21:58:15.335Z"
   },
   {
    "duration": 965,
    "start_time": "2022-03-03T21:58:15.365Z"
   },
   {
    "duration": 66,
    "start_time": "2022-03-03T21:58:16.332Z"
   },
   {
    "duration": 8,
    "start_time": "2022-03-03T21:58:16.406Z"
   },
   {
    "duration": 34,
    "start_time": "2022-03-03T21:58:16.416Z"
   },
   {
    "duration": 8,
    "start_time": "2022-03-03T21:58:16.451Z"
   },
   {
    "duration": 20,
    "start_time": "2022-03-03T21:58:16.461Z"
   },
   {
    "duration": 2,
    "start_time": "2022-03-03T21:58:16.482Z"
   },
   {
    "duration": 16,
    "start_time": "2022-03-03T21:58:16.505Z"
   },
   {
    "duration": 88,
    "start_time": "2022-03-03T21:58:16.523Z"
   },
   {
    "duration": 214,
    "start_time": "2022-03-03T21:58:16.614Z"
   },
   {
    "duration": 2,
    "start_time": "2022-03-03T21:58:16.830Z"
   },
   {
    "duration": 10,
    "start_time": "2022-03-03T21:58:16.834Z"
   },
   {
    "duration": 63,
    "start_time": "2022-03-03T21:58:16.846Z"
   },
   {
    "duration": 102,
    "start_time": "2022-03-03T21:58:16.911Z"
   },
   {
    "duration": 2,
    "start_time": "2022-03-03T21:58:17.015Z"
   },
   {
    "duration": 9,
    "start_time": "2022-03-03T21:58:17.019Z"
   },
   {
    "duration": 85,
    "start_time": "2022-03-03T21:58:17.030Z"
   },
   {
    "duration": 142,
    "start_time": "2022-03-03T21:58:17.206Z"
   },
   {
    "duration": 3,
    "start_time": "2022-03-03T21:58:17.349Z"
   },
   {
    "duration": 11,
    "start_time": "2022-03-03T21:58:17.353Z"
   },
   {
    "duration": 5,
    "start_time": "2022-03-03T21:58:17.367Z"
   },
   {
    "duration": 3,
    "start_time": "2022-03-03T21:58:17.374Z"
   },
   {
    "duration": 34,
    "start_time": "2022-03-03T21:58:17.379Z"
   },
   {
    "duration": 4,
    "start_time": "2022-03-03T21:58:17.415Z"
   },
   {
    "duration": 189,
    "start_time": "2022-03-03T21:58:17.421Z"
   },
   {
    "duration": 4,
    "start_time": "2022-03-03T21:58:17.611Z"
   },
   {
    "duration": 731,
    "start_time": "2022-03-03T21:58:17.616Z"
   },
   {
    "duration": 161,
    "start_time": "2022-03-03T21:58:18.349Z"
   },
   {
    "duration": 4,
    "start_time": "2022-03-03T21:58:18.512Z"
   },
   {
    "duration": 5,
    "start_time": "2022-03-03T21:58:18.518Z"
   },
   {
    "duration": 732,
    "start_time": "2022-03-03T21:58:18.525Z"
   },
   {
    "duration": 168,
    "start_time": "2022-03-03T21:58:19.258Z"
   },
   {
    "duration": 5,
    "start_time": "2022-03-03T21:58:19.427Z"
   },
   {
    "duration": 6,
    "start_time": "2022-03-03T21:58:19.433Z"
   },
   {
    "duration": 731,
    "start_time": "2022-03-03T21:58:19.441Z"
   },
   {
    "duration": 168,
    "start_time": "2022-03-03T21:58:20.174Z"
   },
   {
    "duration": 5,
    "start_time": "2022-03-03T21:58:20.344Z"
   },
   {
    "duration": 9,
    "start_time": "2022-03-03T21:58:20.351Z"
   },
   {
    "duration": 1633,
    "start_time": "2022-03-04T20:33:03.287Z"
   },
   {
    "duration": 472,
    "start_time": "2022-03-04T20:33:04.922Z"
   },
   {
    "duration": 243,
    "start_time": "2022-03-04T20:33:05.397Z"
   },
   {
    "duration": 51,
    "start_time": "2022-03-04T20:33:05.643Z"
   },
   {
    "duration": 81,
    "start_time": "2022-03-04T20:33:05.696Z"
   },
   {
    "duration": 47,
    "start_time": "2022-03-04T20:33:05.779Z"
   },
   {
    "duration": 1438,
    "start_time": "2022-03-04T20:33:05.829Z"
   },
   {
    "duration": 135,
    "start_time": "2022-03-04T20:33:07.273Z"
   },
   {
    "duration": 15,
    "start_time": "2022-03-04T20:33:07.414Z"
   },
   {
    "duration": 70,
    "start_time": "2022-03-04T20:33:07.432Z"
   },
   {
    "duration": 13,
    "start_time": "2022-03-04T20:33:07.505Z"
   },
   {
    "duration": 33,
    "start_time": "2022-03-04T20:33:07.520Z"
   },
   {
    "duration": 18,
    "start_time": "2022-03-04T20:33:07.555Z"
   },
   {
    "duration": 10,
    "start_time": "2022-03-04T20:33:07.575Z"
   },
   {
    "duration": 85,
    "start_time": "2022-03-04T20:33:07.588Z"
   },
   {
    "duration": 331,
    "start_time": "2022-03-04T20:33:07.675Z"
   },
   {
    "duration": 3,
    "start_time": "2022-03-04T20:33:08.008Z"
   },
   {
    "duration": 15,
    "start_time": "2022-03-04T20:33:08.013Z"
   },
   {
    "duration": 99,
    "start_time": "2022-03-04T20:33:08.075Z"
   },
   {
    "duration": 7,
    "start_time": "2022-03-04T20:33:08.177Z"
   },
   {
    "duration": 4,
    "start_time": "2022-03-04T20:33:08.187Z"
   },
   {
    "duration": 81,
    "start_time": "2022-03-04T20:33:08.194Z"
   },
   {
    "duration": 101,
    "start_time": "2022-03-04T20:33:08.278Z"
   },
   {
    "duration": 270,
    "start_time": "2022-03-04T20:33:08.382Z"
   },
   {
    "duration": 4,
    "start_time": "2022-03-04T20:33:08.655Z"
   },
   {
    "duration": 5,
    "start_time": "2022-03-04T20:33:08.674Z"
   },
   {
    "duration": 7,
    "start_time": "2022-03-04T20:33:08.687Z"
   },
   {
    "duration": 8,
    "start_time": "2022-03-04T20:33:08.698Z"
   },
   {
    "duration": 70,
    "start_time": "2022-03-04T20:33:08.708Z"
   },
   {
    "duration": 7,
    "start_time": "2022-03-04T20:33:08.780Z"
   },
   {
    "duration": 324,
    "start_time": "2022-03-04T20:33:08.789Z"
   },
   {
    "duration": 6,
    "start_time": "2022-03-04T20:33:09.115Z"
   },
   {
    "duration": 1457,
    "start_time": "2022-03-04T20:33:09.123Z"
   },
   {
    "duration": 328,
    "start_time": "2022-03-04T20:33:10.582Z"
   },
   {
    "duration": 7,
    "start_time": "2022-03-04T20:33:10.912Z"
   },
   {
    "duration": 10,
    "start_time": "2022-03-04T20:33:10.922Z"
   },
   {
    "duration": 1467,
    "start_time": "2022-03-04T20:33:10.934Z"
   },
   {
    "duration": 322,
    "start_time": "2022-03-04T20:33:12.403Z"
   },
   {
    "duration": 8,
    "start_time": "2022-03-04T20:33:12.728Z"
   },
   {
    "duration": 29,
    "start_time": "2022-03-04T20:33:12.738Z"
   },
   {
    "duration": 1476,
    "start_time": "2022-03-04T20:33:12.773Z"
   },
   {
    "duration": 326,
    "start_time": "2022-03-04T20:33:14.252Z"
   },
   {
    "duration": 9,
    "start_time": "2022-03-04T20:33:14.580Z"
   },
   {
    "duration": 9,
    "start_time": "2022-03-04T20:33:14.591Z"
   },
   {
    "duration": 5,
    "start_time": "2022-03-04T20:43:14.670Z"
   },
   {
    "duration": 4,
    "start_time": "2022-03-04T20:43:17.307Z"
   },
   {
    "duration": 6,
    "start_time": "2022-03-04T20:43:24.755Z"
   },
   {
    "duration": 1477,
    "start_time": "2022-03-04T20:43:28.383Z"
   },
   {
    "duration": 301,
    "start_time": "2022-03-04T20:43:31.457Z"
   },
   {
    "duration": 6,
    "start_time": "2022-03-04T20:43:45.640Z"
   },
   {
    "duration": 1568,
    "start_time": "2022-03-04T20:43:47.980Z"
   },
   {
    "duration": 302,
    "start_time": "2022-03-04T20:43:50.710Z"
   },
   {
    "duration": 9,
    "start_time": "2022-03-04T20:43:55.006Z"
   },
   {
    "duration": 8,
    "start_time": "2022-03-04T20:46:06.174Z"
   },
   {
    "duration": 8,
    "start_time": "2022-03-04T20:48:43.054Z"
   },
   {
    "duration": 7,
    "start_time": "2022-03-04T20:48:58.867Z"
   },
   {
    "duration": 1522,
    "start_time": "2022-03-04T20:49:43.189Z"
   },
   {
    "duration": 479,
    "start_time": "2022-03-04T20:49:44.714Z"
   },
   {
    "duration": 210,
    "start_time": "2022-03-04T20:49:45.196Z"
   },
   {
    "duration": 34,
    "start_time": "2022-03-04T20:49:45.409Z"
   },
   {
    "duration": 71,
    "start_time": "2022-03-04T20:49:45.446Z"
   },
   {
    "duration": 63,
    "start_time": "2022-03-04T20:49:45.519Z"
   },
   {
    "duration": 1390,
    "start_time": "2022-03-04T20:49:45.584Z"
   },
   {
    "duration": 129,
    "start_time": "2022-03-04T20:49:46.978Z"
   },
   {
    "duration": 12,
    "start_time": "2022-03-04T20:49:47.110Z"
   },
   {
    "duration": 71,
    "start_time": "2022-03-04T20:49:47.125Z"
   },
   {
    "duration": 14,
    "start_time": "2022-03-04T20:49:47.198Z"
   },
   {
    "duration": 36,
    "start_time": "2022-03-04T20:49:47.214Z"
   },
   {
    "duration": 3,
    "start_time": "2022-03-04T20:49:47.253Z"
   },
   {
    "duration": 12,
    "start_time": "2022-03-04T20:49:47.274Z"
   },
   {
    "duration": 93,
    "start_time": "2022-03-04T20:49:47.290Z"
   },
   {
    "duration": 328,
    "start_time": "2022-03-04T20:49:47.386Z"
   },
   {
    "duration": 3,
    "start_time": "2022-03-04T20:49:47.717Z"
   },
   {
    "duration": 55,
    "start_time": "2022-03-04T20:49:47.722Z"
   },
   {
    "duration": 97,
    "start_time": "2022-03-04T20:49:47.781Z"
   },
   {
    "duration": 8,
    "start_time": "2022-03-04T20:49:47.881Z"
   },
   {
    "duration": 3,
    "start_time": "2022-03-04T20:49:47.892Z"
   },
   {
    "duration": 76,
    "start_time": "2022-03-04T20:49:47.898Z"
   },
   {
    "duration": 97,
    "start_time": "2022-03-04T20:49:47.982Z"
   },
   {
    "duration": 274,
    "start_time": "2022-03-04T20:49:48.082Z"
   },
   {
    "duration": 14,
    "start_time": "2022-03-04T20:49:48.359Z"
   },
   {
    "duration": 8,
    "start_time": "2022-03-04T20:49:48.376Z"
   },
   {
    "duration": 8,
    "start_time": "2022-03-04T20:49:48.387Z"
   },
   {
    "duration": 10,
    "start_time": "2022-03-04T20:49:48.398Z"
   },
   {
    "duration": 7,
    "start_time": "2022-03-04T20:49:48.411Z"
   },
   {
    "duration": 1594,
    "start_time": "2022-03-04T20:49:48.420Z"
   },
   {
    "duration": 384,
    "start_time": "2022-03-04T20:49:50.017Z"
   },
   {
    "duration": 11,
    "start_time": "2022-03-04T20:49:50.404Z"
   },
   {
    "duration": 9,
    "start_time": "2022-03-04T20:49:50.418Z"
   },
   {
    "duration": 1426,
    "start_time": "2022-03-04T20:49:50.430Z"
   },
   {
    "duration": 330,
    "start_time": "2022-03-04T20:49:51.859Z"
   },
   {
    "duration": 9,
    "start_time": "2022-03-04T20:49:52.193Z"
   },
   {
    "duration": 8,
    "start_time": "2022-03-04T20:49:52.205Z"
   },
   {
    "duration": 1464,
    "start_time": "2022-03-04T20:49:52.216Z"
   },
   {
    "duration": 321,
    "start_time": "2022-03-04T20:49:53.683Z"
   },
   {
    "duration": 9,
    "start_time": "2022-03-04T20:49:54.007Z"
   },
   {
    "duration": 11,
    "start_time": "2022-03-04T20:49:54.019Z"
   },
   {
    "duration": 7,
    "start_time": "2022-03-04T20:50:14.800Z"
   },
   {
    "duration": 8,
    "start_time": "2022-03-04T20:50:18.798Z"
   },
   {
    "duration": 8,
    "start_time": "2022-03-04T20:50:31.001Z"
   },
   {
    "duration": 9,
    "start_time": "2022-03-04T20:50:56.122Z"
   },
   {
    "duration": 8,
    "start_time": "2022-03-04T20:51:08.770Z"
   },
   {
    "duration": 8,
    "start_time": "2022-03-04T20:51:23.222Z"
   },
   {
    "duration": 8,
    "start_time": "2022-03-04T20:53:35.751Z"
   },
   {
    "duration": 6,
    "start_time": "2022-03-04T20:53:42.236Z"
   },
   {
    "duration": 8,
    "start_time": "2022-03-04T20:53:54.788Z"
   },
   {
    "duration": 7,
    "start_time": "2022-03-04T20:53:59.619Z"
   },
   {
    "duration": 6,
    "start_time": "2022-03-04T20:54:21.541Z"
   },
   {
    "duration": 6,
    "start_time": "2022-03-04T20:54:35.801Z"
   },
   {
    "duration": 116,
    "start_time": "2022-03-04T20:55:10.331Z"
   },
   {
    "duration": 323,
    "start_time": "2022-03-05T21:34:46.953Z"
   },
   {
    "duration": 1577,
    "start_time": "2022-03-05T21:35:08.251Z"
   },
   {
    "duration": 493,
    "start_time": "2022-03-05T21:35:09.831Z"
   },
   {
    "duration": 235,
    "start_time": "2022-03-05T21:35:10.327Z"
   },
   {
    "duration": 39,
    "start_time": "2022-03-05T21:35:10.564Z"
   },
   {
    "duration": 91,
    "start_time": "2022-03-05T21:35:10.605Z"
   },
   {
    "duration": 47,
    "start_time": "2022-03-05T21:35:10.698Z"
   },
   {
    "duration": 1416,
    "start_time": "2022-03-05T21:35:10.748Z"
   },
   {
    "duration": 129,
    "start_time": "2022-03-05T21:35:12.167Z"
   },
   {
    "duration": 13,
    "start_time": "2022-03-05T21:35:12.301Z"
   },
   {
    "duration": 72,
    "start_time": "2022-03-05T21:35:12.317Z"
   },
   {
    "duration": 14,
    "start_time": "2022-03-05T21:35:12.392Z"
   },
   {
    "duration": 61,
    "start_time": "2022-03-05T21:35:12.409Z"
   },
   {
    "duration": 7,
    "start_time": "2022-03-05T21:35:12.473Z"
   },
   {
    "duration": 94,
    "start_time": "2022-03-05T21:35:12.482Z"
   },
   {
    "duration": 98,
    "start_time": "2022-03-05T21:35:12.580Z"
   },
   {
    "duration": 251,
    "start_time": "2022-03-05T21:35:12.681Z"
   },
   {
    "duration": 3,
    "start_time": "2022-03-05T21:35:12.935Z"
   },
   {
    "duration": 38,
    "start_time": "2022-03-05T21:35:12.940Z"
   },
   {
    "duration": 94,
    "start_time": "2022-03-05T21:35:12.983Z"
   },
   {
    "duration": 110,
    "start_time": "2022-03-05T21:35:13.080Z"
   },
   {
    "duration": 20,
    "start_time": "2022-03-05T21:35:13.193Z"
   },
   {
    "duration": 61,
    "start_time": "2022-03-05T21:35:13.215Z"
   },
   {
    "duration": 98,
    "start_time": "2022-03-05T21:35:13.280Z"
   },
   {
    "duration": 277,
    "start_time": "2022-03-05T21:35:13.381Z"
   },
   {
    "duration": 3,
    "start_time": "2022-03-05T21:35:13.660Z"
   },
   {
    "duration": 9,
    "start_time": "2022-03-05T21:35:13.673Z"
   },
   {
    "duration": 7,
    "start_time": "2022-03-05T21:35:13.687Z"
   },
   {
    "duration": 12,
    "start_time": "2022-03-05T21:35:13.697Z"
   },
   {
    "duration": 7,
    "start_time": "2022-03-05T21:35:13.712Z"
   },
   {
    "duration": 11,
    "start_time": "2022-03-05T21:35:13.722Z"
   },
   {
    "duration": 37,
    "start_time": "2022-03-05T21:35:13.736Z"
   },
   {
    "duration": 1452,
    "start_time": "2022-03-05T21:35:13.776Z"
   },
   {
    "duration": 400,
    "start_time": "2022-03-05T21:35:15.230Z"
   },
   {
    "duration": 8,
    "start_time": "2022-03-05T21:35:15.632Z"
   },
   {
    "duration": 12,
    "start_time": "2022-03-05T21:35:15.642Z"
   },
   {
    "duration": 1457,
    "start_time": "2022-03-05T21:35:15.673Z"
   },
   {
    "duration": 319,
    "start_time": "2022-03-05T21:35:17.132Z"
   },
   {
    "duration": 19,
    "start_time": "2022-03-05T21:35:17.454Z"
   },
   {
    "duration": 9,
    "start_time": "2022-03-05T21:35:17.476Z"
   },
   {
    "duration": 1473,
    "start_time": "2022-03-05T21:35:17.487Z"
   },
   {
    "duration": 321,
    "start_time": "2022-03-05T21:35:18.963Z"
   },
   {
    "duration": 8,
    "start_time": "2022-03-05T21:35:19.287Z"
   },
   {
    "duration": 8,
    "start_time": "2022-03-05T21:35:19.298Z"
   },
   {
    "duration": 8,
    "start_time": "2022-03-05T21:36:03.624Z"
   },
   {
    "duration": 8,
    "start_time": "2022-03-05T21:36:21.068Z"
   },
   {
    "duration": 25,
    "start_time": "2022-03-05T21:37:00.808Z"
   },
   {
    "duration": 14,
    "start_time": "2022-03-05T21:37:29.173Z"
   },
   {
    "duration": 12,
    "start_time": "2022-03-05T21:38:16.347Z"
   },
   {
    "duration": 13,
    "start_time": "2022-03-05T21:38:24.101Z"
   },
   {
    "duration": 16,
    "start_time": "2022-03-05T21:40:24.805Z"
   },
   {
    "duration": 13,
    "start_time": "2022-03-05T21:40:32.222Z"
   },
   {
    "duration": 13,
    "start_time": "2022-03-05T21:40:45.455Z"
   },
   {
    "duration": 26,
    "start_time": "2022-03-05T21:41:12.653Z"
   },
   {
    "duration": 7,
    "start_time": "2022-03-05T21:41:14.753Z"
   },
   {
    "duration": 9,
    "start_time": "2022-03-05T21:41:17.999Z"
   },
   {
    "duration": 8,
    "start_time": "2022-03-05T21:41:21.298Z"
   },
   {
    "duration": 8,
    "start_time": "2022-03-05T21:41:29.421Z"
   },
   {
    "duration": 8,
    "start_time": "2022-03-05T21:41:36.666Z"
   },
   {
    "duration": 6,
    "start_time": "2022-03-05T21:41:42.961Z"
   },
   {
    "duration": 1569,
    "start_time": "2022-03-05T21:42:01.045Z"
   },
   {
    "duration": 484,
    "start_time": "2022-03-05T21:42:02.616Z"
   },
   {
    "duration": 232,
    "start_time": "2022-03-05T21:42:03.103Z"
   },
   {
    "duration": 52,
    "start_time": "2022-03-05T21:42:03.338Z"
   },
   {
    "duration": 61,
    "start_time": "2022-03-05T21:42:03.392Z"
   },
   {
    "duration": 71,
    "start_time": "2022-03-05T21:42:03.455Z"
   },
   {
    "duration": 1505,
    "start_time": "2022-03-05T21:42:03.529Z"
   },
   {
    "duration": 127,
    "start_time": "2022-03-05T21:42:05.038Z"
   },
   {
    "duration": 13,
    "start_time": "2022-03-05T21:42:05.175Z"
   },
   {
    "duration": 67,
    "start_time": "2022-03-05T21:42:05.191Z"
   },
   {
    "duration": 20,
    "start_time": "2022-03-05T21:42:05.261Z"
   },
   {
    "duration": 33,
    "start_time": "2022-03-05T21:42:05.284Z"
   },
   {
    "duration": 3,
    "start_time": "2022-03-05T21:42:05.320Z"
   },
   {
    "duration": 57,
    "start_time": "2022-03-05T21:42:05.325Z"
   },
   {
    "duration": 9,
    "start_time": "2022-03-05T21:42:05.475Z"
   },
   {
    "duration": 268,
    "start_time": "2022-03-05T21:42:05.487Z"
   },
   {
    "duration": 15,
    "start_time": "2022-03-05T21:42:05.758Z"
   },
   {
    "duration": 21,
    "start_time": "2022-03-05T21:42:05.776Z"
   },
   {
    "duration": 83,
    "start_time": "2022-03-05T21:42:05.800Z"
   },
   {
    "duration": 8,
    "start_time": "2022-03-05T21:42:05.974Z"
   },
   {
    "duration": 12,
    "start_time": "2022-03-05T21:42:05.984Z"
   },
   {
    "duration": 25,
    "start_time": "2022-03-05T21:42:05.998Z"
   },
   {
    "duration": 101,
    "start_time": "2022-03-05T21:42:06.074Z"
   },
   {
    "duration": 269,
    "start_time": "2022-03-05T21:42:06.178Z"
   },
   {
    "duration": 3,
    "start_time": "2022-03-05T21:42:06.449Z"
   },
   {
    "duration": 20,
    "start_time": "2022-03-05T21:42:06.454Z"
   },
   {
    "duration": 10,
    "start_time": "2022-03-05T21:42:06.476Z"
   },
   {
    "duration": 9,
    "start_time": "2022-03-05T21:42:06.488Z"
   },
   {
    "duration": 8,
    "start_time": "2022-03-05T21:42:06.499Z"
   },
   {
    "duration": 141,
    "start_time": "2022-03-05T21:42:06.509Z"
   },
   {
    "duration": 5,
    "start_time": "2022-03-05T21:42:06.653Z"
   },
   {
    "duration": 4,
    "start_time": "2022-03-05T21:42:06.673Z"
   },
   {
    "duration": 11,
    "start_time": "2022-03-05T21:42:06.680Z"
   },
   {
    "duration": 1735,
    "start_time": "2022-03-05T21:42:06.694Z"
   },
   {
    "duration": 327,
    "start_time": "2022-03-05T21:42:08.432Z"
   },
   {
    "duration": 15,
    "start_time": "2022-03-05T21:42:08.762Z"
   },
   {
    "duration": 10,
    "start_time": "2022-03-05T21:42:08.779Z"
   },
   {
    "duration": 1562,
    "start_time": "2022-03-05T21:42:08.791Z"
   },
   {
    "duration": 321,
    "start_time": "2022-03-05T21:42:10.355Z"
   },
   {
    "duration": 10,
    "start_time": "2022-03-05T21:42:10.679Z"
   },
   {
    "duration": 11,
    "start_time": "2022-03-05T21:42:10.692Z"
   },
   {
    "duration": 1731,
    "start_time": "2022-03-05T21:42:10.706Z"
   },
   {
    "duration": 314,
    "start_time": "2022-03-05T21:42:12.440Z"
   },
   {
    "duration": 17,
    "start_time": "2022-03-05T21:42:12.756Z"
   },
   {
    "duration": 7,
    "start_time": "2022-03-05T21:42:12.775Z"
   },
   {
    "duration": 8,
    "start_time": "2022-03-05T21:42:19.999Z"
   },
   {
    "duration": 7,
    "start_time": "2022-03-05T21:42:23.429Z"
   },
   {
    "duration": 7,
    "start_time": "2022-03-05T21:42:28.841Z"
   },
   {
    "duration": 5,
    "start_time": "2022-03-05T21:42:33.577Z"
   },
   {
    "duration": 9,
    "start_time": "2022-03-05T21:42:46.783Z"
   },
   {
    "duration": 8,
    "start_time": "2022-03-05T21:42:58.207Z"
   },
   {
    "duration": 15,
    "start_time": "2022-03-05T21:43:14.326Z"
   },
   {
    "duration": 20,
    "start_time": "2022-03-05T21:43:31.851Z"
   },
   {
    "duration": 6,
    "start_time": "2022-03-05T21:48:36.959Z"
   }
  ],
  "kernelspec": {
   "display_name": "Python 3 (ipykernel)",
   "language": "python",
   "name": "python3"
  },
  "language_info": {
   "codemirror_mode": {
    "name": "ipython",
    "version": 3
   },
   "file_extension": ".py",
   "mimetype": "text/x-python",
   "name": "python",
   "nbconvert_exporter": "python",
   "pygments_lexer": "ipython3",
   "version": "3.9.7"
  },
  "toc": {
   "base_numbering": 1,
   "nav_menu": {},
   "number_sections": true,
   "sideBar": true,
   "skip_h1_title": false,
   "title_cell": "Table of Contents",
   "title_sidebar": "Contents",
   "toc_cell": false,
   "toc_position": {
    "height": "calc(100% - 180px)",
    "left": "10px",
    "top": "150px",
    "width": "517.6px"
   },
   "toc_section_display": true,
   "toc_window_display": false
  }
 },
 "nbformat": 4,
 "nbformat_minor": 4
}
