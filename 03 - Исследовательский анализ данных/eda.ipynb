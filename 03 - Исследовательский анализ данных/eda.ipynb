{
 "cells": [
  {
   "cell_type": "markdown",
   "metadata": {},
   "source": [
    "# Исследование объявлений о продаже квартир\n",
    "\n",
    "В вашем распоряжении данные сервиса Яндекс.Недвижимость — архив объявлений о продаже квартир в Санкт-Петербурге и соседних населённых пунктах за несколько лет. Нужно научиться определять рыночную стоимость объектов недвижимости. Ваша задача — установить параметры. Это позволит построить автоматизированную систему: она отследит аномалии и мошенническую деятельность. \n",
    "\n",
    "По каждой квартире на продажу доступны два вида данных. Первые вписаны пользователем, вторые получены автоматически на основе картографических данных. Например, расстояние до центра, аэропорта, ближайшего парка и водоёма. "
   ]
  },
  {
   "cell_type": "markdown",
   "metadata": {},
   "source": [
    "## Изучение данных из файла"
   ]
  },
  {
   "cell_type": "code",
   "execution_count": 1,
   "metadata": {},
   "outputs": [],
   "source": [
    "import pandas as pd\n",
    "from datetime import datetime\n",
    "import matplotlib.pyplot as plt\n",
    "import numpy as np\n",
    "import math\n",
    "import warnings\n",
    "pd.set_option('max_columns', None)\n",
    "warnings.simplefilter('ignore') "
   ]
  },
  {
   "cell_type": "code",
   "execution_count": 2,
   "metadata": {},
   "outputs": [],
   "source": [
    "#на этапе чтения используем кастомный парсер даты для преобразования строковых данных в дату\n",
    "custom_date_parser = lambda dates: [datetime.strptime(d, '%Y-%m-%dT%H:%M:%S') for d in dates]\n",
    "data = pd.read_csv(\n",
    "    '/datasets/real_estate_data.csv',\n",
    "    sep='\\t',\n",
    "    parse_dates=['first_day_exposition'],\n",
    "    date_parser=custom_date_parser\n",
    ")"
   ]
  },
  {
   "cell_type": "code",
   "execution_count": 3,
   "metadata": {},
   "outputs": [],
   "source": [
    "data.head()\n",
    "initial_dataset_lenght = len(data)"
   ]
  },
  {
   "cell_type": "code",
   "execution_count": 4,
   "metadata": {},
   "outputs": [
    {
     "name": "stdout",
     "output_type": "stream",
     "text": [
      "<class 'pandas.core.frame.DataFrame'>\n",
      "RangeIndex: 23699 entries, 0 to 23698\n",
      "Data columns (total 22 columns):\n",
      "total_images            23699 non-null int64\n",
      "last_price              23699 non-null float64\n",
      "total_area              23699 non-null float64\n",
      "first_day_exposition    23699 non-null datetime64[ns]\n",
      "rooms                   23699 non-null int64\n",
      "ceiling_height          14504 non-null float64\n",
      "floors_total            23613 non-null float64\n",
      "living_area             21796 non-null float64\n",
      "floor                   23699 non-null int64\n",
      "is_apartment            2775 non-null object\n",
      "studio                  23699 non-null bool\n",
      "open_plan               23699 non-null bool\n",
      "kitchen_area            21421 non-null float64\n",
      "balcony                 12180 non-null float64\n",
      "locality_name           23650 non-null object\n",
      "airports_nearest        18157 non-null float64\n",
      "cityCenters_nearest     18180 non-null float64\n",
      "parks_around3000        18181 non-null float64\n",
      "parks_nearest           8079 non-null float64\n",
      "ponds_around3000        18181 non-null float64\n",
      "ponds_nearest           9110 non-null float64\n",
      "days_exposition         20518 non-null float64\n",
      "dtypes: bool(2), datetime64[ns](1), float64(14), int64(3), object(2)\n",
      "memory usage: 3.7+ MB\n"
     ]
    }
   ],
   "source": [
    "data.info()"
   ]
  },
  {
   "cell_type": "code",
   "execution_count": 5,
   "metadata": {},
   "outputs": [
    {
     "data": {
      "text/plain": [
       "float64           14\n",
       "int64              3\n",
       "object             2\n",
       "bool               2\n",
       "datetime64[ns]     1\n",
       "dtype: int64"
      ]
     },
     "execution_count": 5,
     "metadata": {},
     "output_type": "execute_result"
    }
   ],
   "source": [
    "data.dtypes.value_counts()"
   ]
  },
  {
   "cell_type": "code",
   "execution_count": 6,
   "metadata": {},
   "outputs": [
    {
     "data": {
      "text/plain": [
       "total_images                0\n",
       "last_price                  0\n",
       "total_area                  0\n",
       "first_day_exposition        0\n",
       "rooms                       0\n",
       "ceiling_height           9195\n",
       "floors_total               86\n",
       "living_area              1903\n",
       "floor                       0\n",
       "is_apartment            20924\n",
       "studio                      0\n",
       "open_plan                   0\n",
       "kitchen_area             2278\n",
       "balcony                 11519\n",
       "locality_name              49\n",
       "airports_nearest         5542\n",
       "cityCenters_nearest      5519\n",
       "parks_around3000         5518\n",
       "parks_nearest           15620\n",
       "ponds_around3000         5518\n",
       "ponds_nearest           14589\n",
       "days_exposition          3181\n",
       "dtype: int64"
      ]
     },
     "execution_count": 6,
     "metadata": {},
     "output_type": "execute_result"
    }
   ],
   "source": [
    "#для простоты восприятия инвертируем информацию о заполненных значениях в методе info \n",
    "#и выведем сумму пропуском по каждому из столбцов\n",
    "data.isna().sum()"
   ]
  },
  {
   "cell_type": "code",
   "execution_count": 7,
   "metadata": {},
   "outputs": [
    {
     "name": "stdout",
     "output_type": "stream",
     "text": [
      "Количество полных дубликатов в сете: 0\n"
     ]
    }
   ],
   "source": [
    "print('Количество полных дубликатов в сете:', sum(data.duplicated()))"
   ]
  },
  {
   "cell_type": "markdown",
   "metadata": {},
   "source": [
    "### Вывод"
   ]
  },
  {
   "cell_type": "markdown",
   "metadata": {},
   "source": [
    "1. Датасет состоит из следующих строк:\n",
    "    + `airports_nearest` — расстояние до ближайшего аэропорта в метрах (м)\n",
    "    + `balcony` — число балконов\n",
    "    + `ceiling_height` — высота потолков (м)\n",
    "    + `cityCenters_nearest` — расстояние до центра города (м)\n",
    "    + `days_exposition` — сколько дней было размещено объявление (от публикации до снятия)\n",
    "    + `first_day_exposition` — дата публикации\n",
    "    + `floor` — этаж\n",
    "    + `floors_total` — всего этажей в доме\n",
    "    + `is_apartment` — апартаменты (булев тип)\n",
    "    + `kitchen_area` — площадь кухни в квадратных метрах (м²)\n",
    "    + `last_price` — цена на момент снятия с публикации\n",
    "    + `living_area` — жилая площадь в квадратных метрах (м²)\n",
    "    + `locality_name` — название населённого пункта\n",
    "    + `open_plan` — свободная планировка (булев тип)\n",
    "    + `parks_around3000` — число парков в радиусе 3 км\n",
    "    + `parks_nearest` — расстояние до ближайшего парка (м)\n",
    "    + `ponds_around3000` — число водоёмов в радиусе 3 км\n",
    "    + `ponds_nearest` — расстояние до ближайшего водоёма (м)\n",
    "    + `rooms` — число комнат\n",
    "    + `studio` — квартира-студия (булев тип)\n",
    "    + `total_area` — площадь квартиры в квадратных метрах (м²)\n",
    "    + `total_images` — число фотографий квартиры в объявлении\n",
    "2. В файле содержатся 22699 строк и 22 столбца\n",
    "3. Только в 8 из 22 столбцов нет пропусков. Следовательно, потребуется трудоемкая работа по очистке пропусков\n",
    "4. В исходном датафрейме 4 типа данных: целые числа и числа с плавающей точкой, строковый тип и булевы значения. Также мы на этапе чтения преобразовали дату в соответствующий формат.\n",
    "5. Полных дубликатов в датасете нет\n"
   ]
  },
  {
   "cell_type": "markdown",
   "metadata": {},
   "source": [
    "## Предобработка данных"
   ]
  },
  {
   "cell_type": "markdown",
   "metadata": {},
   "source": [
    "### Заполнение пропусков и очистка данных"
   ]
  },
  {
   "cell_type": "markdown",
   "metadata": {},
   "source": [
    "#### Столбец `first_day_exposition` "
   ]
  },
  {
   "cell_type": "markdown",
   "metadata": {},
   "source": [
    "Проверим даты в столбце:"
   ]
  },
  {
   "cell_type": "code",
   "execution_count": 8,
   "metadata": {},
   "outputs": [
    {
     "name": "stdout",
     "output_type": "stream",
     "text": [
      "2014-11-27 00:00:00\n",
      "2019-05-03 00:00:00\n"
     ]
    }
   ],
   "source": [
    "print(data['first_day_exposition'].min())\n",
    "print(data['first_day_exposition'].max())"
   ]
  },
  {
   "cell_type": "markdown",
   "metadata": {},
   "source": [
    "Похоже, что с датами все в порядке."
   ]
  },
  {
   "cell_type": "markdown",
   "metadata": {},
   "source": [
    "#### Столбец `last_price`"
   ]
  },
  {
   "cell_type": "code",
   "execution_count": 9,
   "metadata": {},
   "outputs": [
    {
     "data": {
      "text/plain": [
       "count    2.369900e+04\n",
       "mean     6.541549e+06\n",
       "std      1.088701e+07\n",
       "min      1.219000e+04\n",
       "25%      3.400000e+06\n",
       "50%      4.650000e+06\n",
       "75%      6.800000e+06\n",
       "max      7.630000e+08\n",
       "Name: last_price, dtype: float64"
      ]
     },
     "execution_count": 9,
     "metadata": {},
     "output_type": "execute_result"
    }
   ],
   "source": [
    "data['last_price'].describe()"
   ]
  },
  {
   "cell_type": "markdown",
   "metadata": {},
   "source": [
    "В данном случае вызывает вопросы минимальная стоимость объекта - примерно 12190 рублей, что выглядит как ошибка в данных. "
   ]
  },
  {
   "cell_type": "code",
   "execution_count": 10,
   "metadata": {},
   "outputs": [
    {
     "data": {
      "text/html": [
       "<div>\n",
       "<style scoped>\n",
       "    .dataframe tbody tr th:only-of-type {\n",
       "        vertical-align: middle;\n",
       "    }\n",
       "\n",
       "    .dataframe tbody tr th {\n",
       "        vertical-align: top;\n",
       "    }\n",
       "\n",
       "    .dataframe thead th {\n",
       "        text-align: right;\n",
       "    }\n",
       "</style>\n",
       "<table border=\"1\" class=\"dataframe\">\n",
       "  <thead>\n",
       "    <tr style=\"text-align: right;\">\n",
       "      <th></th>\n",
       "      <th>total_images</th>\n",
       "      <th>last_price</th>\n",
       "      <th>total_area</th>\n",
       "      <th>first_day_exposition</th>\n",
       "      <th>rooms</th>\n",
       "      <th>ceiling_height</th>\n",
       "      <th>floors_total</th>\n",
       "      <th>living_area</th>\n",
       "      <th>floor</th>\n",
       "      <th>is_apartment</th>\n",
       "      <th>studio</th>\n",
       "      <th>open_plan</th>\n",
       "      <th>kitchen_area</th>\n",
       "      <th>balcony</th>\n",
       "      <th>locality_name</th>\n",
       "      <th>airports_nearest</th>\n",
       "      <th>cityCenters_nearest</th>\n",
       "      <th>parks_around3000</th>\n",
       "      <th>parks_nearest</th>\n",
       "      <th>ponds_around3000</th>\n",
       "      <th>ponds_nearest</th>\n",
       "      <th>days_exposition</th>\n",
       "    </tr>\n",
       "  </thead>\n",
       "  <tbody>\n",
       "    <tr>\n",
       "      <td>8793</td>\n",
       "      <td>7</td>\n",
       "      <td>12190.0</td>\n",
       "      <td>109.0</td>\n",
       "      <td>2019-03-20</td>\n",
       "      <td>2</td>\n",
       "      <td>2.75</td>\n",
       "      <td>25.0</td>\n",
       "      <td>32.0</td>\n",
       "      <td>25</td>\n",
       "      <td>NaN</td>\n",
       "      <td>False</td>\n",
       "      <td>False</td>\n",
       "      <td>40.5</td>\n",
       "      <td>NaN</td>\n",
       "      <td>Санкт-Петербург</td>\n",
       "      <td>36421.0</td>\n",
       "      <td>9176.0</td>\n",
       "      <td>1.0</td>\n",
       "      <td>805.0</td>\n",
       "      <td>0.0</td>\n",
       "      <td>NaN</td>\n",
       "      <td>8.0</td>\n",
       "    </tr>\n",
       "    <tr>\n",
       "      <td>17456</td>\n",
       "      <td>7</td>\n",
       "      <td>430000.0</td>\n",
       "      <td>30.4</td>\n",
       "      <td>2019-04-22</td>\n",
       "      <td>1</td>\n",
       "      <td>NaN</td>\n",
       "      <td>2.0</td>\n",
       "      <td>16.0</td>\n",
       "      <td>1</td>\n",
       "      <td>NaN</td>\n",
       "      <td>False</td>\n",
       "      <td>False</td>\n",
       "      <td>6.0</td>\n",
       "      <td>NaN</td>\n",
       "      <td>Сланцы</td>\n",
       "      <td>NaN</td>\n",
       "      <td>NaN</td>\n",
       "      <td>NaN</td>\n",
       "      <td>NaN</td>\n",
       "      <td>NaN</td>\n",
       "      <td>NaN</td>\n",
       "      <td>NaN</td>\n",
       "    </tr>\n",
       "    <tr>\n",
       "      <td>14911</td>\n",
       "      <td>5</td>\n",
       "      <td>430000.0</td>\n",
       "      <td>54.0</td>\n",
       "      <td>2018-06-26</td>\n",
       "      <td>2</td>\n",
       "      <td>NaN</td>\n",
       "      <td>3.0</td>\n",
       "      <td>NaN</td>\n",
       "      <td>3</td>\n",
       "      <td>NaN</td>\n",
       "      <td>False</td>\n",
       "      <td>False</td>\n",
       "      <td>NaN</td>\n",
       "      <td>NaN</td>\n",
       "      <td>посёлок станции Свирь</td>\n",
       "      <td>NaN</td>\n",
       "      <td>NaN</td>\n",
       "      <td>NaN</td>\n",
       "      <td>NaN</td>\n",
       "      <td>NaN</td>\n",
       "      <td>NaN</td>\n",
       "      <td>44.0</td>\n",
       "    </tr>\n",
       "    <tr>\n",
       "      <td>16274</td>\n",
       "      <td>18</td>\n",
       "      <td>440000.0</td>\n",
       "      <td>40.0</td>\n",
       "      <td>2018-07-10</td>\n",
       "      <td>1</td>\n",
       "      <td>NaN</td>\n",
       "      <td>5.0</td>\n",
       "      <td>NaN</td>\n",
       "      <td>1</td>\n",
       "      <td>NaN</td>\n",
       "      <td>False</td>\n",
       "      <td>False</td>\n",
       "      <td>NaN</td>\n",
       "      <td>NaN</td>\n",
       "      <td>деревня Старополье</td>\n",
       "      <td>NaN</td>\n",
       "      <td>NaN</td>\n",
       "      <td>NaN</td>\n",
       "      <td>NaN</td>\n",
       "      <td>NaN</td>\n",
       "      <td>NaN</td>\n",
       "      <td>45.0</td>\n",
       "    </tr>\n",
       "    <tr>\n",
       "      <td>17676</td>\n",
       "      <td>0</td>\n",
       "      <td>450000.0</td>\n",
       "      <td>36.5</td>\n",
       "      <td>2018-02-01</td>\n",
       "      <td>1</td>\n",
       "      <td>NaN</td>\n",
       "      <td>5.0</td>\n",
       "      <td>17.3</td>\n",
       "      <td>4</td>\n",
       "      <td>NaN</td>\n",
       "      <td>False</td>\n",
       "      <td>False</td>\n",
       "      <td>8.5</td>\n",
       "      <td>1.0</td>\n",
       "      <td>деревня Ям-Тесово</td>\n",
       "      <td>NaN</td>\n",
       "      <td>NaN</td>\n",
       "      <td>NaN</td>\n",
       "      <td>NaN</td>\n",
       "      <td>NaN</td>\n",
       "      <td>NaN</td>\n",
       "      <td>120.0</td>\n",
       "    </tr>\n",
       "    <tr>\n",
       "      <td>16219</td>\n",
       "      <td>14</td>\n",
       "      <td>450000.0</td>\n",
       "      <td>38.5</td>\n",
       "      <td>2018-07-11</td>\n",
       "      <td>2</td>\n",
       "      <td>2.65</td>\n",
       "      <td>2.0</td>\n",
       "      <td>NaN</td>\n",
       "      <td>1</td>\n",
       "      <td>NaN</td>\n",
       "      <td>False</td>\n",
       "      <td>False</td>\n",
       "      <td>NaN</td>\n",
       "      <td>NaN</td>\n",
       "      <td>деревня Вахнова Кара</td>\n",
       "      <td>NaN</td>\n",
       "      <td>NaN</td>\n",
       "      <td>NaN</td>\n",
       "      <td>NaN</td>\n",
       "      <td>NaN</td>\n",
       "      <td>NaN</td>\n",
       "      <td>45.0</td>\n",
       "    </tr>\n",
       "    <tr>\n",
       "      <td>9581</td>\n",
       "      <td>7</td>\n",
       "      <td>450000.0</td>\n",
       "      <td>43.4</td>\n",
       "      <td>2018-08-31</td>\n",
       "      <td>2</td>\n",
       "      <td>NaN</td>\n",
       "      <td>5.0</td>\n",
       "      <td>30.3</td>\n",
       "      <td>3</td>\n",
       "      <td>NaN</td>\n",
       "      <td>False</td>\n",
       "      <td>False</td>\n",
       "      <td>5.5</td>\n",
       "      <td>NaN</td>\n",
       "      <td>деревня Старополье</td>\n",
       "      <td>NaN</td>\n",
       "      <td>NaN</td>\n",
       "      <td>NaN</td>\n",
       "      <td>NaN</td>\n",
       "      <td>NaN</td>\n",
       "      <td>NaN</td>\n",
       "      <td>96.0</td>\n",
       "    </tr>\n",
       "    <tr>\n",
       "      <td>5698</td>\n",
       "      <td>7</td>\n",
       "      <td>450000.0</td>\n",
       "      <td>42.0</td>\n",
       "      <td>2017-07-31</td>\n",
       "      <td>2</td>\n",
       "      <td>NaN</td>\n",
       "      <td>1.0</td>\n",
       "      <td>23.0</td>\n",
       "      <td>1</td>\n",
       "      <td>NaN</td>\n",
       "      <td>False</td>\n",
       "      <td>False</td>\n",
       "      <td>5.8</td>\n",
       "      <td>NaN</td>\n",
       "      <td>городской посёлок Будогощь</td>\n",
       "      <td>NaN</td>\n",
       "      <td>NaN</td>\n",
       "      <td>NaN</td>\n",
       "      <td>NaN</td>\n",
       "      <td>NaN</td>\n",
       "      <td>NaN</td>\n",
       "      <td>233.0</td>\n",
       "    </tr>\n",
       "    <tr>\n",
       "      <td>21912</td>\n",
       "      <td>0</td>\n",
       "      <td>470000.0</td>\n",
       "      <td>37.0</td>\n",
       "      <td>2018-02-18</td>\n",
       "      <td>1</td>\n",
       "      <td>NaN</td>\n",
       "      <td>3.0</td>\n",
       "      <td>NaN</td>\n",
       "      <td>3</td>\n",
       "      <td>NaN</td>\n",
       "      <td>False</td>\n",
       "      <td>False</td>\n",
       "      <td>NaN</td>\n",
       "      <td>NaN</td>\n",
       "      <td>поселок Совхозный</td>\n",
       "      <td>NaN</td>\n",
       "      <td>NaN</td>\n",
       "      <td>NaN</td>\n",
       "      <td>NaN</td>\n",
       "      <td>NaN</td>\n",
       "      <td>NaN</td>\n",
       "      <td>45.0</td>\n",
       "    </tr>\n",
       "    <tr>\n",
       "      <td>18867</td>\n",
       "      <td>1</td>\n",
       "      <td>470000.0</td>\n",
       "      <td>41.0</td>\n",
       "      <td>2018-02-11</td>\n",
       "      <td>1</td>\n",
       "      <td>NaN</td>\n",
       "      <td>5.0</td>\n",
       "      <td>32.0</td>\n",
       "      <td>3</td>\n",
       "      <td>NaN</td>\n",
       "      <td>False</td>\n",
       "      <td>False</td>\n",
       "      <td>9.0</td>\n",
       "      <td>NaN</td>\n",
       "      <td>деревня Выскатка</td>\n",
       "      <td>NaN</td>\n",
       "      <td>NaN</td>\n",
       "      <td>NaN</td>\n",
       "      <td>NaN</td>\n",
       "      <td>NaN</td>\n",
       "      <td>NaN</td>\n",
       "      <td>46.0</td>\n",
       "    </tr>\n",
       "  </tbody>\n",
       "</table>\n",
       "</div>"
      ],
      "text/plain": [
       "       total_images  last_price  total_area first_day_exposition  rooms  \\\n",
       "8793              7     12190.0       109.0           2019-03-20      2   \n",
       "17456             7    430000.0        30.4           2019-04-22      1   \n",
       "14911             5    430000.0        54.0           2018-06-26      2   \n",
       "16274            18    440000.0        40.0           2018-07-10      1   \n",
       "17676             0    450000.0        36.5           2018-02-01      1   \n",
       "16219            14    450000.0        38.5           2018-07-11      2   \n",
       "9581              7    450000.0        43.4           2018-08-31      2   \n",
       "5698              7    450000.0        42.0           2017-07-31      2   \n",
       "21912             0    470000.0        37.0           2018-02-18      1   \n",
       "18867             1    470000.0        41.0           2018-02-11      1   \n",
       "\n",
       "       ceiling_height  floors_total  living_area  floor is_apartment  studio  \\\n",
       "8793             2.75          25.0         32.0     25          NaN   False   \n",
       "17456             NaN           2.0         16.0      1          NaN   False   \n",
       "14911             NaN           3.0          NaN      3          NaN   False   \n",
       "16274             NaN           5.0          NaN      1          NaN   False   \n",
       "17676             NaN           5.0         17.3      4          NaN   False   \n",
       "16219            2.65           2.0          NaN      1          NaN   False   \n",
       "9581              NaN           5.0         30.3      3          NaN   False   \n",
       "5698              NaN           1.0         23.0      1          NaN   False   \n",
       "21912             NaN           3.0          NaN      3          NaN   False   \n",
       "18867             NaN           5.0         32.0      3          NaN   False   \n",
       "\n",
       "       open_plan  kitchen_area  balcony               locality_name  \\\n",
       "8793       False          40.5      NaN             Санкт-Петербург   \n",
       "17456      False           6.0      NaN                      Сланцы   \n",
       "14911      False           NaN      NaN       посёлок станции Свирь   \n",
       "16274      False           NaN      NaN          деревня Старополье   \n",
       "17676      False           8.5      1.0           деревня Ям-Тесово   \n",
       "16219      False           NaN      NaN        деревня Вахнова Кара   \n",
       "9581       False           5.5      NaN          деревня Старополье   \n",
       "5698       False           5.8      NaN  городской посёлок Будогощь   \n",
       "21912      False           NaN      NaN           поселок Совхозный   \n",
       "18867      False           9.0      NaN            деревня Выскатка   \n",
       "\n",
       "       airports_nearest  cityCenters_nearest  parks_around3000  parks_nearest  \\\n",
       "8793            36421.0               9176.0               1.0          805.0   \n",
       "17456               NaN                  NaN               NaN            NaN   \n",
       "14911               NaN                  NaN               NaN            NaN   \n",
       "16274               NaN                  NaN               NaN            NaN   \n",
       "17676               NaN                  NaN               NaN            NaN   \n",
       "16219               NaN                  NaN               NaN            NaN   \n",
       "9581                NaN                  NaN               NaN            NaN   \n",
       "5698                NaN                  NaN               NaN            NaN   \n",
       "21912               NaN                  NaN               NaN            NaN   \n",
       "18867               NaN                  NaN               NaN            NaN   \n",
       "\n",
       "       ponds_around3000  ponds_nearest  days_exposition  \n",
       "8793                0.0            NaN              8.0  \n",
       "17456               NaN            NaN              NaN  \n",
       "14911               NaN            NaN             44.0  \n",
       "16274               NaN            NaN             45.0  \n",
       "17676               NaN            NaN            120.0  \n",
       "16219               NaN            NaN             45.0  \n",
       "9581                NaN            NaN             96.0  \n",
       "5698                NaN            NaN            233.0  \n",
       "21912               NaN            NaN             45.0  \n",
       "18867               NaN            NaN             46.0  "
      ]
     },
     "execution_count": 10,
     "metadata": {},
     "output_type": "execute_result"
    }
   ],
   "source": [
    "data.sort_values(by='last_price').head(10)"
   ]
  },
  {
   "cell_type": "markdown",
   "metadata": {},
   "source": [
    "Фактически, такой объект один. Учитывая, что он располагается в СПб и имеет площадь более 100 квадратных метров, мы можем предположить, что при вводе данных забыли ввести три нуля. Исправим эту ошибку вручную:"
   ]
  },
  {
   "cell_type": "code",
   "execution_count": 11,
   "metadata": {},
   "outputs": [],
   "source": [
    "data.loc[8793, 'last_price'] = data.loc[8793, 'last_price'] * 1000"
   ]
  },
  {
   "cell_type": "markdown",
   "metadata": {},
   "source": [
    "#### Столбец `ceiling_height`"
   ]
  },
  {
   "cell_type": "code",
   "execution_count": 12,
   "metadata": {},
   "outputs": [
    {
     "data": {
      "text/plain": [
       "total_images                0\n",
       "last_price                  0\n",
       "total_area                  0\n",
       "first_day_exposition        0\n",
       "rooms                       0\n",
       "ceiling_height           9195\n",
       "floors_total               86\n",
       "living_area              1903\n",
       "floor                       0\n",
       "is_apartment            20924\n",
       "studio                      0\n",
       "open_plan                   0\n",
       "kitchen_area             2278\n",
       "balcony                 11519\n",
       "locality_name              49\n",
       "airports_nearest         5542\n",
       "cityCenters_nearest      5519\n",
       "parks_around3000         5518\n",
       "parks_nearest           15620\n",
       "ponds_around3000         5518\n",
       "ponds_nearest           14589\n",
       "days_exposition          3181\n",
       "dtype: int64"
      ]
     },
     "execution_count": 12,
     "metadata": {},
     "output_type": "execute_result"
    }
   ],
   "source": [
    "data.isna().sum()"
   ]
  },
  {
   "cell_type": "code",
   "execution_count": 13,
   "metadata": {},
   "outputs": [
    {
     "data": {
      "text/plain": [
       "count    14504.000000\n",
       "mean         2.771499\n",
       "std          1.261056\n",
       "min          1.000000\n",
       "25%          2.520000\n",
       "50%          2.650000\n",
       "75%          2.800000\n",
       "max        100.000000\n",
       "Name: ceiling_height, dtype: float64"
      ]
     },
     "execution_count": 13,
     "metadata": {},
     "output_type": "execute_result"
    }
   ],
   "source": [
    "#Проанализируем столбец ceiling_height\n",
    "data['ceiling_height'].describe()"
   ]
  },
  {
   "cell_type": "markdown",
   "metadata": {},
   "source": [
    "Наблюдаем максимальное значение на 100 метрах и минимальное на 1 метре. Это наводит на мысль об ошибках в высоте. Предположим, что для оценки рынка недвижимости нам подойдут объекты, у которых высота потолка не более 5 метров и не менее 2 метров."
   ]
  },
  {
   "cell_type": "code",
   "execution_count": 14,
   "metadata": {},
   "outputs": [],
   "source": [
    "min_ceiling_height, max_ceiling_height = 2, 5"
   ]
  },
  {
   "cell_type": "markdown",
   "metadata": {},
   "source": [
    "Заполним пропуски в высоте потолка средним значением для группы по общей этажности дома."
   ]
  },
  {
   "cell_type": "code",
   "execution_count": 15,
   "metadata": {},
   "outputs": [
    {
     "data": {
      "text/plain": [
       "floors_total\n",
       "1.0    2.740000\n",
       "2.0    2.781502\n",
       "3.0    2.885152\n",
       "4.0    2.956358\n",
       "5.0    2.705900\n",
       "Name: ceiling_height, dtype: float64"
      ]
     },
     "execution_count": 15,
     "metadata": {},
     "output_type": "execute_result"
    }
   ],
   "source": [
    "ceiling_heights_by_floors = (\n",
    "    data[(~data['ceiling_height'].isna()) & (data['ceiling_height'] < max_ceiling_height)]\n",
    "    .groupby('floors_total')['ceiling_height']\n",
    "    .agg('mean')\n",
    ")\n",
    "\n",
    "ceiling_heights_by_floors.head(5)"
   ]
  },
  {
   "cell_type": "code",
   "execution_count": 16,
   "metadata": {},
   "outputs": [
    {
     "data": {
      "text/plain": [
       "2.72"
      ]
     },
     "execution_count": 16,
     "metadata": {},
     "output_type": "execute_result"
    }
   ],
   "source": [
    "mean_ceiling_height = round(data[(~data['ceiling_height'].isna()) & (data['ceiling_height'] < max_ceiling_height)]['ceiling_height'].mean(), 2)\n",
    "mean_ceiling_height"
   ]
  },
  {
   "cell_type": "code",
   "execution_count": 17,
   "metadata": {},
   "outputs": [],
   "source": [
    "def ceiling_height_filler(row):\n",
    "    if  pd.isna(row['ceiling_height']) or row['ceiling_height'] > max_ceiling_height:\n",
    "        try:\n",
    "            row['ceiling_height'] = round(ceiling_heights_by_floors[row['floor']], 2)\n",
    "        except:\n",
    "            row['ceiling_height'] = mean_ceiling_height\n",
    "    return row"
   ]
  },
  {
   "cell_type": "code",
   "execution_count": 18,
   "metadata": {},
   "outputs": [],
   "source": [
    "data = data.apply(ceiling_height_filler, axis=1)"
   ]
  },
  {
   "cell_type": "code",
   "execution_count": 19,
   "metadata": {},
   "outputs": [
    {
     "name": "stdout",
     "output_type": "stream",
     "text": [
      "Количество пропусков высоты потолка в датасете: 0\n"
     ]
    }
   ],
   "source": [
    "print('Количество пропусков высоты потолка в датасете:', data['ceiling_height'].isna().sum())"
   ]
  },
  {
   "cell_type": "code",
   "execution_count": 20,
   "metadata": {},
   "outputs": [
    {
     "data": {
      "text/plain": [
       "23684"
      ]
     },
     "execution_count": 20,
     "metadata": {},
     "output_type": "execute_result"
    }
   ],
   "source": [
    "#теперь оставим в датасете только объекты, высота потолка которых находится в пределах заданного нами диапазона\n",
    "data = data.query('@min_ceiling_height < ceiling_height < @max_ceiling_height')\n",
    "len(data)"
   ]
  },
  {
   "cell_type": "markdown",
   "metadata": {},
   "source": [
    "Последним шагом нормализуем значения в столбце:"
   ]
  },
  {
   "cell_type": "code",
   "execution_count": 21,
   "metadata": {},
   "outputs": [],
   "source": [
    "data['ceiling_height'] = (data['ceiling_height'] // 0.05)*0.05"
   ]
  },
  {
   "cell_type": "markdown",
   "metadata": {},
   "source": [
    "#### Столбец `rooms`"
   ]
  },
  {
   "cell_type": "markdown",
   "metadata": {},
   "source": [
    "Изучим данные в столбце комнат:"
   ]
  },
  {
   "cell_type": "code",
   "execution_count": 22,
   "metadata": {},
   "outputs": [
    {
     "data": {
      "text/plain": [
       "count    23684.000000\n",
       "mean         2.070892\n",
       "std          1.078516\n",
       "min          0.000000\n",
       "25%          1.000000\n",
       "50%          2.000000\n",
       "75%          3.000000\n",
       "max         19.000000\n",
       "Name: rooms, dtype: float64"
      ]
     },
     "execution_count": 22,
     "metadata": {},
     "output_type": "execute_result"
    }
   ],
   "source": [
    "data['rooms'].describe()"
   ]
  },
  {
   "cell_type": "markdown",
   "metadata": {},
   "source": [
    "Первое, что вызывает вопрос - это ноль в качестве общего количества комнат. "
   ]
  },
  {
   "cell_type": "code",
   "execution_count": 23,
   "metadata": {},
   "outputs": [
    {
     "data": {
      "text/html": [
       "<div>\n",
       "<style scoped>\n",
       "    .dataframe tbody tr th:only-of-type {\n",
       "        vertical-align: middle;\n",
       "    }\n",
       "\n",
       "    .dataframe tbody tr th {\n",
       "        vertical-align: top;\n",
       "    }\n",
       "\n",
       "    .dataframe thead th {\n",
       "        text-align: right;\n",
       "    }\n",
       "</style>\n",
       "<table border=\"1\" class=\"dataframe\">\n",
       "  <thead>\n",
       "    <tr style=\"text-align: right;\">\n",
       "      <th></th>\n",
       "      <th>total_images</th>\n",
       "      <th>last_price</th>\n",
       "      <th>total_area</th>\n",
       "      <th>first_day_exposition</th>\n",
       "      <th>rooms</th>\n",
       "      <th>ceiling_height</th>\n",
       "      <th>floors_total</th>\n",
       "      <th>living_area</th>\n",
       "      <th>floor</th>\n",
       "      <th>is_apartment</th>\n",
       "      <th>studio</th>\n",
       "      <th>open_plan</th>\n",
       "      <th>kitchen_area</th>\n",
       "      <th>balcony</th>\n",
       "      <th>locality_name</th>\n",
       "      <th>airports_nearest</th>\n",
       "      <th>cityCenters_nearest</th>\n",
       "      <th>parks_around3000</th>\n",
       "      <th>parks_nearest</th>\n",
       "      <th>ponds_around3000</th>\n",
       "      <th>ponds_nearest</th>\n",
       "      <th>days_exposition</th>\n",
       "    </tr>\n",
       "  </thead>\n",
       "  <tbody>\n",
       "    <tr>\n",
       "      <td>19392</td>\n",
       "      <td>5</td>\n",
       "      <td>71000000.0</td>\n",
       "      <td>371.0</td>\n",
       "      <td>2018-07-26</td>\n",
       "      <td>0</td>\n",
       "      <td>3.55</td>\n",
       "      <td>7.0</td>\n",
       "      <td>NaN</td>\n",
       "      <td>6</td>\n",
       "      <td>NaN</td>\n",
       "      <td>False</td>\n",
       "      <td>True</td>\n",
       "      <td>NaN</td>\n",
       "      <td>NaN</td>\n",
       "      <td>Санкт-Петербург</td>\n",
       "      <td>25257.0</td>\n",
       "      <td>6060.0</td>\n",
       "      <td>1.0</td>\n",
       "      <td>761.0</td>\n",
       "      <td>1.0</td>\n",
       "      <td>584.0</td>\n",
       "      <td>90.0</td>\n",
       "    </tr>\n",
       "    <tr>\n",
       "      <td>20082</td>\n",
       "      <td>10</td>\n",
       "      <td>16300000.0</td>\n",
       "      <td>98.4</td>\n",
       "      <td>2017-11-08</td>\n",
       "      <td>0</td>\n",
       "      <td>3.05</td>\n",
       "      <td>5.0</td>\n",
       "      <td>60.5</td>\n",
       "      <td>2</td>\n",
       "      <td>NaN</td>\n",
       "      <td>True</td>\n",
       "      <td>False</td>\n",
       "      <td>NaN</td>\n",
       "      <td>NaN</td>\n",
       "      <td>Санкт-Петербург</td>\n",
       "      <td>26972.0</td>\n",
       "      <td>5819.0</td>\n",
       "      <td>0.0</td>\n",
       "      <td>NaN</td>\n",
       "      <td>1.0</td>\n",
       "      <td>674.0</td>\n",
       "      <td>537.0</td>\n",
       "    </tr>\n",
       "    <tr>\n",
       "      <td>3458</td>\n",
       "      <td>6</td>\n",
       "      <td>7400000.0</td>\n",
       "      <td>73.6</td>\n",
       "      <td>2017-05-18</td>\n",
       "      <td>0</td>\n",
       "      <td>2.70</td>\n",
       "      <td>3.0</td>\n",
       "      <td>50.0</td>\n",
       "      <td>1</td>\n",
       "      <td>NaN</td>\n",
       "      <td>True</td>\n",
       "      <td>False</td>\n",
       "      <td>NaN</td>\n",
       "      <td>0.0</td>\n",
       "      <td>Санкт-Петербург</td>\n",
       "      <td>26581.0</td>\n",
       "      <td>6085.0</td>\n",
       "      <td>0.0</td>\n",
       "      <td>NaN</td>\n",
       "      <td>1.0</td>\n",
       "      <td>348.0</td>\n",
       "      <td>60.0</td>\n",
       "    </tr>\n",
       "    <tr>\n",
       "      <td>21227</td>\n",
       "      <td>0</td>\n",
       "      <td>8200000.0</td>\n",
       "      <td>71.0</td>\n",
       "      <td>2017-07-21</td>\n",
       "      <td>0</td>\n",
       "      <td>2.70</td>\n",
       "      <td>5.0</td>\n",
       "      <td>68.0</td>\n",
       "      <td>5</td>\n",
       "      <td>NaN</td>\n",
       "      <td>True</td>\n",
       "      <td>False</td>\n",
       "      <td>NaN</td>\n",
       "      <td>0.0</td>\n",
       "      <td>Санкт-Петербург</td>\n",
       "      <td>20170.0</td>\n",
       "      <td>1261.0</td>\n",
       "      <td>2.0</td>\n",
       "      <td>295.0</td>\n",
       "      <td>3.0</td>\n",
       "      <td>366.0</td>\n",
       "      <td>30.0</td>\n",
       "    </tr>\n",
       "    <tr>\n",
       "      <td>13613</td>\n",
       "      <td>16</td>\n",
       "      <td>8100000.0</td>\n",
       "      <td>58.4</td>\n",
       "      <td>2019-04-26</td>\n",
       "      <td>0</td>\n",
       "      <td>3.25</td>\n",
       "      <td>7.0</td>\n",
       "      <td>33.0</td>\n",
       "      <td>6</td>\n",
       "      <td>NaN</td>\n",
       "      <td>True</td>\n",
       "      <td>False</td>\n",
       "      <td>NaN</td>\n",
       "      <td>NaN</td>\n",
       "      <td>Санкт-Петербург</td>\n",
       "      <td>14509.0</td>\n",
       "      <td>8288.0</td>\n",
       "      <td>0.0</td>\n",
       "      <td>NaN</td>\n",
       "      <td>0.0</td>\n",
       "      <td>NaN</td>\n",
       "      <td>NaN</td>\n",
       "    </tr>\n",
       "    <tr>\n",
       "      <td>...</td>\n",
       "      <td>...</td>\n",
       "      <td>...</td>\n",
       "      <td>...</td>\n",
       "      <td>...</td>\n",
       "      <td>...</td>\n",
       "      <td>...</td>\n",
       "      <td>...</td>\n",
       "      <td>...</td>\n",
       "      <td>...</td>\n",
       "      <td>...</td>\n",
       "      <td>...</td>\n",
       "      <td>...</td>\n",
       "      <td>...</td>\n",
       "      <td>...</td>\n",
       "      <td>...</td>\n",
       "      <td>...</td>\n",
       "      <td>...</td>\n",
       "      <td>...</td>\n",
       "      <td>...</td>\n",
       "      <td>...</td>\n",
       "      <td>...</td>\n",
       "      <td>...</td>\n",
       "    </tr>\n",
       "    <tr>\n",
       "      <td>8755</td>\n",
       "      <td>1</td>\n",
       "      <td>1350000.0</td>\n",
       "      <td>18.8</td>\n",
       "      <td>2017-11-22</td>\n",
       "      <td>0</td>\n",
       "      <td>2.70</td>\n",
       "      <td>19.0</td>\n",
       "      <td>15.8</td>\n",
       "      <td>1</td>\n",
       "      <td>NaN</td>\n",
       "      <td>True</td>\n",
       "      <td>False</td>\n",
       "      <td>NaN</td>\n",
       "      <td>NaN</td>\n",
       "      <td>Санкт-Петербург</td>\n",
       "      <td>37636.0</td>\n",
       "      <td>14479.0</td>\n",
       "      <td>0.0</td>\n",
       "      <td>NaN</td>\n",
       "      <td>1.0</td>\n",
       "      <td>1127.0</td>\n",
       "      <td>128.0</td>\n",
       "    </tr>\n",
       "    <tr>\n",
       "      <td>12996</td>\n",
       "      <td>8</td>\n",
       "      <td>1900000.0</td>\n",
       "      <td>18.0</td>\n",
       "      <td>2019-01-25</td>\n",
       "      <td>0</td>\n",
       "      <td>2.55</td>\n",
       "      <td>5.0</td>\n",
       "      <td>16.0</td>\n",
       "      <td>3</td>\n",
       "      <td>NaN</td>\n",
       "      <td>True</td>\n",
       "      <td>False</td>\n",
       "      <td>NaN</td>\n",
       "      <td>NaN</td>\n",
       "      <td>Санкт-Петербург</td>\n",
       "      <td>19573.0</td>\n",
       "      <td>15772.0</td>\n",
       "      <td>2.0</td>\n",
       "      <td>149.0</td>\n",
       "      <td>2.0</td>\n",
       "      <td>496.0</td>\n",
       "      <td>10.0</td>\n",
       "    </tr>\n",
       "    <tr>\n",
       "      <td>716</td>\n",
       "      <td>5</td>\n",
       "      <td>1500000.0</td>\n",
       "      <td>17.0</td>\n",
       "      <td>2017-06-07</td>\n",
       "      <td>0</td>\n",
       "      <td>2.70</td>\n",
       "      <td>9.0</td>\n",
       "      <td>12.0</td>\n",
       "      <td>1</td>\n",
       "      <td>NaN</td>\n",
       "      <td>True</td>\n",
       "      <td>False</td>\n",
       "      <td>NaN</td>\n",
       "      <td>0.0</td>\n",
       "      <td>посёлок Шушары</td>\n",
       "      <td>18654.0</td>\n",
       "      <td>29846.0</td>\n",
       "      <td>0.0</td>\n",
       "      <td>NaN</td>\n",
       "      <td>0.0</td>\n",
       "      <td>NaN</td>\n",
       "      <td>40.0</td>\n",
       "    </tr>\n",
       "    <tr>\n",
       "      <td>9412</td>\n",
       "      <td>5</td>\n",
       "      <td>2100000.0</td>\n",
       "      <td>16.0</td>\n",
       "      <td>2017-12-10</td>\n",
       "      <td>0</td>\n",
       "      <td>2.70</td>\n",
       "      <td>6.0</td>\n",
       "      <td>13.0</td>\n",
       "      <td>1</td>\n",
       "      <td>NaN</td>\n",
       "      <td>False</td>\n",
       "      <td>True</td>\n",
       "      <td>NaN</td>\n",
       "      <td>NaN</td>\n",
       "      <td>Санкт-Петербург</td>\n",
       "      <td>20735.0</td>\n",
       "      <td>2111.0</td>\n",
       "      <td>2.0</td>\n",
       "      <td>228.0</td>\n",
       "      <td>3.0</td>\n",
       "      <td>72.0</td>\n",
       "      <td>3.0</td>\n",
       "    </tr>\n",
       "    <tr>\n",
       "      <td>8886</td>\n",
       "      <td>10</td>\n",
       "      <td>2450000.0</td>\n",
       "      <td>15.5</td>\n",
       "      <td>2018-08-22</td>\n",
       "      <td>0</td>\n",
       "      <td>2.75</td>\n",
       "      <td>5.0</td>\n",
       "      <td>10.0</td>\n",
       "      <td>2</td>\n",
       "      <td>NaN</td>\n",
       "      <td>True</td>\n",
       "      <td>False</td>\n",
       "      <td>NaN</td>\n",
       "      <td>NaN</td>\n",
       "      <td>Санкт-Петербург</td>\n",
       "      <td>24326.0</td>\n",
       "      <td>4589.0</td>\n",
       "      <td>0.0</td>\n",
       "      <td>NaN</td>\n",
       "      <td>1.0</td>\n",
       "      <td>446.0</td>\n",
       "      <td>27.0</td>\n",
       "    </tr>\n",
       "  </tbody>\n",
       "</table>\n",
       "<p>197 rows × 22 columns</p>\n",
       "</div>"
      ],
      "text/plain": [
       "       total_images  last_price  total_area first_day_exposition  rooms  \\\n",
       "19392             5  71000000.0       371.0           2018-07-26      0   \n",
       "20082            10  16300000.0        98.4           2017-11-08      0   \n",
       "3458              6   7400000.0        73.6           2017-05-18      0   \n",
       "21227             0   8200000.0        71.0           2017-07-21      0   \n",
       "13613            16   8100000.0        58.4           2019-04-26      0   \n",
       "...             ...         ...         ...                  ...    ...   \n",
       "8755              1   1350000.0        18.8           2017-11-22      0   \n",
       "12996             8   1900000.0        18.0           2019-01-25      0   \n",
       "716               5   1500000.0        17.0           2017-06-07      0   \n",
       "9412              5   2100000.0        16.0           2017-12-10      0   \n",
       "8886             10   2450000.0        15.5           2018-08-22      0   \n",
       "\n",
       "       ceiling_height  floors_total  living_area  floor is_apartment  studio  \\\n",
       "19392            3.55           7.0          NaN      6          NaN   False   \n",
       "20082            3.05           5.0         60.5      2          NaN    True   \n",
       "3458             2.70           3.0         50.0      1          NaN    True   \n",
       "21227            2.70           5.0         68.0      5          NaN    True   \n",
       "13613            3.25           7.0         33.0      6          NaN    True   \n",
       "...               ...           ...          ...    ...          ...     ...   \n",
       "8755             2.70          19.0         15.8      1          NaN    True   \n",
       "12996            2.55           5.0         16.0      3          NaN    True   \n",
       "716              2.70           9.0         12.0      1          NaN    True   \n",
       "9412             2.70           6.0         13.0      1          NaN   False   \n",
       "8886             2.75           5.0         10.0      2          NaN    True   \n",
       "\n",
       "       open_plan  kitchen_area  balcony    locality_name  airports_nearest  \\\n",
       "19392       True           NaN      NaN  Санкт-Петербург           25257.0   \n",
       "20082      False           NaN      NaN  Санкт-Петербург           26972.0   \n",
       "3458       False           NaN      0.0  Санкт-Петербург           26581.0   \n",
       "21227      False           NaN      0.0  Санкт-Петербург           20170.0   \n",
       "13613      False           NaN      NaN  Санкт-Петербург           14509.0   \n",
       "...          ...           ...      ...              ...               ...   \n",
       "8755       False           NaN      NaN  Санкт-Петербург           37636.0   \n",
       "12996      False           NaN      NaN  Санкт-Петербург           19573.0   \n",
       "716        False           NaN      0.0   посёлок Шушары           18654.0   \n",
       "9412        True           NaN      NaN  Санкт-Петербург           20735.0   \n",
       "8886       False           NaN      NaN  Санкт-Петербург           24326.0   \n",
       "\n",
       "       cityCenters_nearest  parks_around3000  parks_nearest  ponds_around3000  \\\n",
       "19392               6060.0               1.0          761.0               1.0   \n",
       "20082               5819.0               0.0            NaN               1.0   \n",
       "3458                6085.0               0.0            NaN               1.0   \n",
       "21227               1261.0               2.0          295.0               3.0   \n",
       "13613               8288.0               0.0            NaN               0.0   \n",
       "...                    ...               ...            ...               ...   \n",
       "8755               14479.0               0.0            NaN               1.0   \n",
       "12996              15772.0               2.0          149.0               2.0   \n",
       "716                29846.0               0.0            NaN               0.0   \n",
       "9412                2111.0               2.0          228.0               3.0   \n",
       "8886                4589.0               0.0            NaN               1.0   \n",
       "\n",
       "       ponds_nearest  days_exposition  \n",
       "19392          584.0             90.0  \n",
       "20082          674.0            537.0  \n",
       "3458           348.0             60.0  \n",
       "21227          366.0             30.0  \n",
       "13613            NaN              NaN  \n",
       "...              ...              ...  \n",
       "8755          1127.0            128.0  \n",
       "12996          496.0             10.0  \n",
       "716              NaN             40.0  \n",
       "9412            72.0              3.0  \n",
       "8886           446.0             27.0  \n",
       "\n",
       "[197 rows x 22 columns]"
      ]
     },
     "execution_count": 23,
     "metadata": {},
     "output_type": "execute_result"
    }
   ],
   "source": [
    "data[data['rooms'] == 0].sort_values(by='total_area', ascending=False)"
   ]
  },
  {
   "cell_type": "markdown",
   "metadata": {},
   "source": [
    "Мы видим, что у квартир с нулем комнат площадь варьируется от почти 100 квадратных метров до 15.5\n",
    "Заполним пропуски, рассчитав среднее значение площади для каждого количества комнат. "
   ]
  },
  {
   "cell_type": "code",
   "execution_count": 24,
   "metadata": {},
   "outputs": [
    {
     "data": {
      "text/html": [
       "<div>\n",
       "<style scoped>\n",
       "    .dataframe tbody tr th:only-of-type {\n",
       "        vertical-align: middle;\n",
       "    }\n",
       "\n",
       "    .dataframe tbody tr th {\n",
       "        vertical-align: top;\n",
       "    }\n",
       "\n",
       "    .dataframe thead th {\n",
       "        text-align: right;\n",
       "    }\n",
       "</style>\n",
       "<table border=\"1\" class=\"dataframe\">\n",
       "  <thead>\n",
       "    <tr style=\"text-align: right;\">\n",
       "      <th></th>\n",
       "      <th>rooms</th>\n",
       "      <th>total_area</th>\n",
       "    </tr>\n",
       "  </thead>\n",
       "  <tbody>\n",
       "    <tr>\n",
       "      <td>0</td>\n",
       "      <td>1</td>\n",
       "      <td>37.647247</td>\n",
       "    </tr>\n",
       "    <tr>\n",
       "      <td>1</td>\n",
       "      <td>2</td>\n",
       "      <td>55.859124</td>\n",
       "    </tr>\n",
       "    <tr>\n",
       "      <td>2</td>\n",
       "      <td>3</td>\n",
       "      <td>77.769226</td>\n",
       "    </tr>\n",
       "    <tr>\n",
       "      <td>3</td>\n",
       "      <td>4</td>\n",
       "      <td>107.610763</td>\n",
       "    </tr>\n",
       "    <tr>\n",
       "      <td>4</td>\n",
       "      <td>5</td>\n",
       "      <td>161.474816</td>\n",
       "    </tr>\n",
       "    <tr>\n",
       "      <td>5</td>\n",
       "      <td>6</td>\n",
       "      <td>201.537619</td>\n",
       "    </tr>\n",
       "    <tr>\n",
       "      <td>6</td>\n",
       "      <td>7</td>\n",
       "      <td>265.325424</td>\n",
       "    </tr>\n",
       "    <tr>\n",
       "      <td>7</td>\n",
       "      <td>8</td>\n",
       "      <td>259.233333</td>\n",
       "    </tr>\n",
       "    <tr>\n",
       "      <td>8</td>\n",
       "      <td>9</td>\n",
       "      <td>305.975000</td>\n",
       "    </tr>\n",
       "    <tr>\n",
       "      <td>9</td>\n",
       "      <td>10</td>\n",
       "      <td>259.566667</td>\n",
       "    </tr>\n",
       "    <tr>\n",
       "      <td>10</td>\n",
       "      <td>11</td>\n",
       "      <td>188.900000</td>\n",
       "    </tr>\n",
       "    <tr>\n",
       "      <td>11</td>\n",
       "      <td>12</td>\n",
       "      <td>900.000000</td>\n",
       "    </tr>\n",
       "    <tr>\n",
       "      <td>12</td>\n",
       "      <td>14</td>\n",
       "      <td>304.200000</td>\n",
       "    </tr>\n",
       "    <tr>\n",
       "      <td>13</td>\n",
       "      <td>15</td>\n",
       "      <td>590.000000</td>\n",
       "    </tr>\n",
       "    <tr>\n",
       "      <td>14</td>\n",
       "      <td>16</td>\n",
       "      <td>270.000000</td>\n",
       "    </tr>\n",
       "    <tr>\n",
       "      <td>15</td>\n",
       "      <td>19</td>\n",
       "      <td>374.600000</td>\n",
       "    </tr>\n",
       "  </tbody>\n",
       "</table>\n",
       "</div>"
      ],
      "text/plain": [
       "    rooms  total_area\n",
       "0       1   37.647247\n",
       "1       2   55.859124\n",
       "2       3   77.769226\n",
       "3       4  107.610763\n",
       "4       5  161.474816\n",
       "5       6  201.537619\n",
       "6       7  265.325424\n",
       "7       8  259.233333\n",
       "8       9  305.975000\n",
       "9      10  259.566667\n",
       "10     11  188.900000\n",
       "11     12  900.000000\n",
       "12     14  304.200000\n",
       "13     15  590.000000\n",
       "14     16  270.000000\n",
       "15     19  374.600000"
      ]
     },
     "execution_count": 24,
     "metadata": {},
     "output_type": "execute_result"
    }
   ],
   "source": [
    "avg_total_area_by_rooms = data[data['rooms'] > 0].groupby(['rooms'], as_index=False).agg({'total_area': 'mean'})\n",
    "avg_total_area_by_rooms"
   ]
  },
  {
   "cell_type": "markdown",
   "metadata": {},
   "source": [
    "Используя наш самодельный классификатор, заполним нулевые значения количества комнат референтными при помощи специально написанной для этого функции."
   ]
  },
  {
   "cell_type": "code",
   "execution_count": 25,
   "metadata": {},
   "outputs": [],
   "source": [
    "def rooms_filler(row):\n",
    "    if row['rooms'] == 0:\n",
    "        for value in avg_total_area_by_rooms['total_area']:\n",
    "            if row['total_area'] <= value:\n",
    "                row['rooms'] = avg_total_area_by_rooms.loc[avg_total_area_by_rooms['total_area'] == value, 'rooms'].values[0]\n",
    "                break\n",
    "    return row\n"
   ]
  },
  {
   "cell_type": "code",
   "execution_count": 26,
   "metadata": {},
   "outputs": [],
   "source": [
    "data = data.apply(rooms_filler, axis=1)"
   ]
  },
  {
   "cell_type": "markdown",
   "metadata": {},
   "source": [
    "#### Столбец `floors_total`"
   ]
  },
  {
   "cell_type": "code",
   "execution_count": 27,
   "metadata": {},
   "outputs": [
    {
     "data": {
      "text/plain": [
       "count    23598.000000\n",
       "mean        10.674167\n",
       "std          6.595473\n",
       "min          1.000000\n",
       "25%          5.000000\n",
       "50%          9.000000\n",
       "75%         16.000000\n",
       "max         60.000000\n",
       "Name: floors_total, dtype: float64"
      ]
     },
     "execution_count": 27,
     "metadata": {},
     "output_type": "execute_result"
    }
   ],
   "source": [
    "data['floors_total'].describe()"
   ]
  },
  {
   "cell_type": "markdown",
   "metadata": {},
   "source": [
    "Мы видим, что максимальная высота здания - 60 этажей, что вызывает вопросы, но не выглядит абсолютно нереалистично. Посмотрим на гистограмму и, возможно, избавимся также от значений, у которых по общей этажности здания будет слишком мало наблюдений. "
   ]
  },
  {
   "cell_type": "code",
   "execution_count": 28,
   "metadata": {},
   "outputs": [
    {
     "data": {
      "image/png": "[encoded data removed]",
      "text/plain": [
       "<Figure size 1152x576 with 1 Axes>"
      ]
     },
     "metadata": {
      "needs_background": "light"
     },
     "output_type": "display_data"
    }
   ],
   "source": [
    "plt.figure(figsize=[16,8])\n",
    "plt.hist(x=data['floors_total'], bins=int(data['floors_total'].max()), ec='black')\n",
    "plt.grid(axis='y', alpha=0.5)\n",
    "plt.xlabel('Общее количество этажей в здании',fontsize=12)\n",
    "plt.axvline(x=data[(~data['floors_total'].isna())]['floors_total'].median(), color='r', label='Median total floors number')\n",
    "plt.legend()\n",
    "plt.title('Распределение наблюдений в датасете по общему количеству этажей в здании', fontsize=15)\n",
    "plt.show()"
   ]
  },
  {
   "cell_type": "markdown",
   "metadata": {},
   "source": [
    "Наблюдаем следующее: \n",
    "1. Основная масса значений сконцентрирована в пределах общего количества этажей в здании равном 30\n",
    "2. После 40 этаже на гистограмме нет никаких визуально выделяющихся значений\n",
    "\n",
    "Посчитаем общее количество объектов в датасете, у которых более 35 этажей в здании"
   ]
  },
  {
   "cell_type": "code",
   "execution_count": 29,
   "metadata": {},
   "outputs": [
    {
     "data": {
      "text/plain": [
       "5"
      ]
     },
     "execution_count": 29,
     "metadata": {},
     "output_type": "execute_result"
    }
   ],
   "source": [
    "len(data.query('floors_total > 35'))"
   ]
  },
  {
   "cell_type": "markdown",
   "metadata": {},
   "source": [
    "Количество наблюдений достаточно мало для оценки его как \"шум\" и очистки датафрейма от него. "
   ]
  },
  {
   "cell_type": "code",
   "execution_count": 30,
   "metadata": {},
   "outputs": [
    {
     "data": {
      "text/plain": [
       "23679"
      ]
     },
     "execution_count": 30,
     "metadata": {},
     "output_type": "execute_result"
    }
   ],
   "source": [
    "data = data[(data['floors_total'].isna()) | (data['floors_total'] < 36)]\n",
    "len(data)"
   ]
  },
  {
   "cell_type": "markdown",
   "metadata": {},
   "source": [
    "Повторно оценим гистограмму:"
   ]
  },
  {
   "cell_type": "code",
   "execution_count": 31,
   "metadata": {},
   "outputs": [
    {
     "data": {
      "image/png": "[encoded data removed]",
      "text/plain": [
       "<Figure size 1152x576 with 1 Axes>"
      ]
     },
     "metadata": {
      "needs_background": "light"
     },
     "output_type": "display_data"
    }
   ],
   "source": [
    "plt.figure(figsize=[16,8])\n",
    "plt.hist(x=data['floors_total'], bins=int(data['floors_total'].max()), ec='black')\n",
    "plt.grid(axis='y', alpha=0.5)\n",
    "plt.xlabel('Общее количество этажей в здании',fontsize=12)\n",
    "plt.axvline(x=data[(~data['floors_total'].isna())]['floors_total'].median(), color='r', label='Median total floors number')\n",
    "plt.legend()\n",
    "plt.title('Распределение наблюдений в датасете по общему количеству этажей в здании', fontsize=15)\n",
    "plt.show()"
   ]
  },
  {
   "cell_type": "markdown",
   "metadata": {},
   "source": [
    "Оценим пропуски по количеству этажей:"
   ]
  },
  {
   "cell_type": "code",
   "execution_count": 32,
   "metadata": {},
   "outputs": [
    {
     "data": {
      "text/html": [
       "<div>\n",
       "<style scoped>\n",
       "    .dataframe tbody tr th:only-of-type {\n",
       "        vertical-align: middle;\n",
       "    }\n",
       "\n",
       "    .dataframe tbody tr th {\n",
       "        vertical-align: top;\n",
       "    }\n",
       "\n",
       "    .dataframe thead th {\n",
       "        text-align: right;\n",
       "    }\n",
       "</style>\n",
       "<table border=\"1\" class=\"dataframe\">\n",
       "  <thead>\n",
       "    <tr style=\"text-align: right;\">\n",
       "      <th></th>\n",
       "      <th>total_images</th>\n",
       "      <th>last_price</th>\n",
       "      <th>total_area</th>\n",
       "      <th>first_day_exposition</th>\n",
       "      <th>rooms</th>\n",
       "      <th>ceiling_height</th>\n",
       "      <th>floors_total</th>\n",
       "      <th>living_area</th>\n",
       "      <th>floor</th>\n",
       "      <th>is_apartment</th>\n",
       "      <th>studio</th>\n",
       "      <th>open_plan</th>\n",
       "      <th>kitchen_area</th>\n",
       "      <th>balcony</th>\n",
       "      <th>locality_name</th>\n",
       "      <th>airports_nearest</th>\n",
       "      <th>cityCenters_nearest</th>\n",
       "      <th>parks_around3000</th>\n",
       "      <th>parks_nearest</th>\n",
       "      <th>ponds_around3000</th>\n",
       "      <th>ponds_nearest</th>\n",
       "      <th>days_exposition</th>\n",
       "    </tr>\n",
       "  </thead>\n",
       "  <tbody>\n",
       "    <tr>\n",
       "      <td>186</td>\n",
       "      <td>12</td>\n",
       "      <td>11640000.0</td>\n",
       "      <td>65.2</td>\n",
       "      <td>2018-10-02</td>\n",
       "      <td>2</td>\n",
       "      <td>2.95</td>\n",
       "      <td>NaN</td>\n",
       "      <td>30.80</td>\n",
       "      <td>4</td>\n",
       "      <td>NaN</td>\n",
       "      <td>False</td>\n",
       "      <td>False</td>\n",
       "      <td>12.00</td>\n",
       "      <td>NaN</td>\n",
       "      <td>Санкт-Петербург</td>\n",
       "      <td>39197.0</td>\n",
       "      <td>12373.0</td>\n",
       "      <td>1.0</td>\n",
       "      <td>123.0</td>\n",
       "      <td>0.0</td>\n",
       "      <td>NaN</td>\n",
       "      <td>49.0</td>\n",
       "    </tr>\n",
       "    <tr>\n",
       "      <td>237</td>\n",
       "      <td>4</td>\n",
       "      <td>2438033.0</td>\n",
       "      <td>28.1</td>\n",
       "      <td>2016-11-23</td>\n",
       "      <td>1</td>\n",
       "      <td>2.70</td>\n",
       "      <td>NaN</td>\n",
       "      <td>20.75</td>\n",
       "      <td>1</td>\n",
       "      <td>NaN</td>\n",
       "      <td>False</td>\n",
       "      <td>False</td>\n",
       "      <td>NaN</td>\n",
       "      <td>0.0</td>\n",
       "      <td>Санкт-Петербург</td>\n",
       "      <td>22041.0</td>\n",
       "      <td>17369.0</td>\n",
       "      <td>0.0</td>\n",
       "      <td>NaN</td>\n",
       "      <td>1.0</td>\n",
       "      <td>374.0</td>\n",
       "      <td>251.0</td>\n",
       "    </tr>\n",
       "    <tr>\n",
       "      <td>457</td>\n",
       "      <td>4</td>\n",
       "      <td>9788348.0</td>\n",
       "      <td>70.8</td>\n",
       "      <td>2015-08-01</td>\n",
       "      <td>2</td>\n",
       "      <td>2.60</td>\n",
       "      <td>NaN</td>\n",
       "      <td>38.40</td>\n",
       "      <td>12</td>\n",
       "      <td>NaN</td>\n",
       "      <td>False</td>\n",
       "      <td>False</td>\n",
       "      <td>10.63</td>\n",
       "      <td>0.0</td>\n",
       "      <td>Санкт-Петербург</td>\n",
       "      <td>37364.0</td>\n",
       "      <td>8322.0</td>\n",
       "      <td>2.0</td>\n",
       "      <td>309.0</td>\n",
       "      <td>2.0</td>\n",
       "      <td>706.0</td>\n",
       "      <td>727.0</td>\n",
       "    </tr>\n",
       "    <tr>\n",
       "      <td>671</td>\n",
       "      <td>4</td>\n",
       "      <td>6051191.0</td>\n",
       "      <td>93.6</td>\n",
       "      <td>2017-04-06</td>\n",
       "      <td>3</td>\n",
       "      <td>2.80</td>\n",
       "      <td>NaN</td>\n",
       "      <td>47.10</td>\n",
       "      <td>8</td>\n",
       "      <td>NaN</td>\n",
       "      <td>False</td>\n",
       "      <td>False</td>\n",
       "      <td>16.80</td>\n",
       "      <td>0.0</td>\n",
       "      <td>Санкт-Петербург</td>\n",
       "      <td>22041.0</td>\n",
       "      <td>17369.0</td>\n",
       "      <td>0.0</td>\n",
       "      <td>NaN</td>\n",
       "      <td>1.0</td>\n",
       "      <td>374.0</td>\n",
       "      <td>123.0</td>\n",
       "    </tr>\n",
       "    <tr>\n",
       "      <td>1757</td>\n",
       "      <td>5</td>\n",
       "      <td>3600000.0</td>\n",
       "      <td>39.0</td>\n",
       "      <td>2017-04-22</td>\n",
       "      <td>1</td>\n",
       "      <td>2.55</td>\n",
       "      <td>NaN</td>\n",
       "      <td>NaN</td>\n",
       "      <td>9</td>\n",
       "      <td>NaN</td>\n",
       "      <td>False</td>\n",
       "      <td>False</td>\n",
       "      <td>NaN</td>\n",
       "      <td>0.0</td>\n",
       "      <td>Санкт-Петербург</td>\n",
       "      <td>22735.0</td>\n",
       "      <td>11618.0</td>\n",
       "      <td>1.0</td>\n",
       "      <td>835.0</td>\n",
       "      <td>1.0</td>\n",
       "      <td>652.0</td>\n",
       "      <td>77.0</td>\n",
       "    </tr>\n",
       "    <tr>\n",
       "      <td>...</td>\n",
       "      <td>...</td>\n",
       "      <td>...</td>\n",
       "      <td>...</td>\n",
       "      <td>...</td>\n",
       "      <td>...</td>\n",
       "      <td>...</td>\n",
       "      <td>...</td>\n",
       "      <td>...</td>\n",
       "      <td>...</td>\n",
       "      <td>...</td>\n",
       "      <td>...</td>\n",
       "      <td>...</td>\n",
       "      <td>...</td>\n",
       "      <td>...</td>\n",
       "      <td>...</td>\n",
       "      <td>...</td>\n",
       "      <td>...</td>\n",
       "      <td>...</td>\n",
       "      <td>...</td>\n",
       "      <td>...</td>\n",
       "      <td>...</td>\n",
       "      <td>...</td>\n",
       "    </tr>\n",
       "    <tr>\n",
       "      <td>22542</td>\n",
       "      <td>5</td>\n",
       "      <td>8500000.0</td>\n",
       "      <td>63.5</td>\n",
       "      <td>2017-05-24</td>\n",
       "      <td>2</td>\n",
       "      <td>2.75</td>\n",
       "      <td>NaN</td>\n",
       "      <td>NaN</td>\n",
       "      <td>3</td>\n",
       "      <td>NaN</td>\n",
       "      <td>False</td>\n",
       "      <td>False</td>\n",
       "      <td>NaN</td>\n",
       "      <td>NaN</td>\n",
       "      <td>Санкт-Петербург</td>\n",
       "      <td>51340.0</td>\n",
       "      <td>15363.0</td>\n",
       "      <td>0.0</td>\n",
       "      <td>NaN</td>\n",
       "      <td>1.0</td>\n",
       "      <td>853.0</td>\n",
       "      <td>512.0</td>\n",
       "    </tr>\n",
       "    <tr>\n",
       "      <td>22656</td>\n",
       "      <td>4</td>\n",
       "      <td>4574160.0</td>\n",
       "      <td>64.5</td>\n",
       "      <td>2017-04-02</td>\n",
       "      <td>2</td>\n",
       "      <td>2.75</td>\n",
       "      <td>NaN</td>\n",
       "      <td>31.70</td>\n",
       "      <td>20</td>\n",
       "      <td>NaN</td>\n",
       "      <td>False</td>\n",
       "      <td>False</td>\n",
       "      <td>14.40</td>\n",
       "      <td>0.0</td>\n",
       "      <td>Санкт-Петербург</td>\n",
       "      <td>22041.0</td>\n",
       "      <td>17369.0</td>\n",
       "      <td>0.0</td>\n",
       "      <td>NaN</td>\n",
       "      <td>1.0</td>\n",
       "      <td>374.0</td>\n",
       "      <td>127.0</td>\n",
       "    </tr>\n",
       "    <tr>\n",
       "      <td>22808</td>\n",
       "      <td>0</td>\n",
       "      <td>14569263.0</td>\n",
       "      <td>110.4</td>\n",
       "      <td>2016-11-20</td>\n",
       "      <td>3</td>\n",
       "      <td>3.05</td>\n",
       "      <td>NaN</td>\n",
       "      <td>45.38</td>\n",
       "      <td>6</td>\n",
       "      <td>NaN</td>\n",
       "      <td>False</td>\n",
       "      <td>False</td>\n",
       "      <td>23.42</td>\n",
       "      <td>0.0</td>\n",
       "      <td>Санкт-Петербург</td>\n",
       "      <td>19095.0</td>\n",
       "      <td>4529.0</td>\n",
       "      <td>0.0</td>\n",
       "      <td>NaN</td>\n",
       "      <td>0.0</td>\n",
       "      <td>NaN</td>\n",
       "      <td>260.0</td>\n",
       "    </tr>\n",
       "    <tr>\n",
       "      <td>23590</td>\n",
       "      <td>0</td>\n",
       "      <td>21187872.0</td>\n",
       "      <td>123.3</td>\n",
       "      <td>2017-04-25</td>\n",
       "      <td>3</td>\n",
       "      <td>2.70</td>\n",
       "      <td>NaN</td>\n",
       "      <td>50.40</td>\n",
       "      <td>18</td>\n",
       "      <td>NaN</td>\n",
       "      <td>False</td>\n",
       "      <td>False</td>\n",
       "      <td>23.60</td>\n",
       "      <td>0.0</td>\n",
       "      <td>Санкт-Петербург</td>\n",
       "      <td>19095.0</td>\n",
       "      <td>4529.0</td>\n",
       "      <td>0.0</td>\n",
       "      <td>NaN</td>\n",
       "      <td>0.0</td>\n",
       "      <td>NaN</td>\n",
       "      <td>104.0</td>\n",
       "    </tr>\n",
       "    <tr>\n",
       "      <td>23658</td>\n",
       "      <td>6</td>\n",
       "      <td>3063600.0</td>\n",
       "      <td>43.8</td>\n",
       "      <td>2016-11-28</td>\n",
       "      <td>1</td>\n",
       "      <td>2.70</td>\n",
       "      <td>NaN</td>\n",
       "      <td>14.00</td>\n",
       "      <td>8</td>\n",
       "      <td>NaN</td>\n",
       "      <td>False</td>\n",
       "      <td>False</td>\n",
       "      <td>15.50</td>\n",
       "      <td>2.0</td>\n",
       "      <td>Санкт-Петербург</td>\n",
       "      <td>8426.0</td>\n",
       "      <td>12082.0</td>\n",
       "      <td>2.0</td>\n",
       "      <td>24.0</td>\n",
       "      <td>1.0</td>\n",
       "      <td>271.0</td>\n",
       "      <td>246.0</td>\n",
       "    </tr>\n",
       "  </tbody>\n",
       "</table>\n",
       "<p>86 rows × 22 columns</p>\n",
       "</div>"
      ],
      "text/plain": [
       "       total_images  last_price  total_area first_day_exposition  rooms  \\\n",
       "186              12  11640000.0        65.2           2018-10-02      2   \n",
       "237               4   2438033.0        28.1           2016-11-23      1   \n",
       "457               4   9788348.0        70.8           2015-08-01      2   \n",
       "671               4   6051191.0        93.6           2017-04-06      3   \n",
       "1757              5   3600000.0        39.0           2017-04-22      1   \n",
       "...             ...         ...         ...                  ...    ...   \n",
       "22542             5   8500000.0        63.5           2017-05-24      2   \n",
       "22656             4   4574160.0        64.5           2017-04-02      2   \n",
       "22808             0  14569263.0       110.4           2016-11-20      3   \n",
       "23590             0  21187872.0       123.3           2017-04-25      3   \n",
       "23658             6   3063600.0        43.8           2016-11-28      1   \n",
       "\n",
       "       ceiling_height  floors_total  living_area  floor is_apartment  studio  \\\n",
       "186              2.95           NaN        30.80      4          NaN   False   \n",
       "237              2.70           NaN        20.75      1          NaN   False   \n",
       "457              2.60           NaN        38.40     12          NaN   False   \n",
       "671              2.80           NaN        47.10      8          NaN   False   \n",
       "1757             2.55           NaN          NaN      9          NaN   False   \n",
       "...               ...           ...          ...    ...          ...     ...   \n",
       "22542            2.75           NaN          NaN      3          NaN   False   \n",
       "22656            2.75           NaN        31.70     20          NaN   False   \n",
       "22808            3.05           NaN        45.38      6          NaN   False   \n",
       "23590            2.70           NaN        50.40     18          NaN   False   \n",
       "23658            2.70           NaN        14.00      8          NaN   False   \n",
       "\n",
       "       open_plan  kitchen_area  balcony    locality_name  airports_nearest  \\\n",
       "186        False         12.00      NaN  Санкт-Петербург           39197.0   \n",
       "237        False           NaN      0.0  Санкт-Петербург           22041.0   \n",
       "457        False         10.63      0.0  Санкт-Петербург           37364.0   \n",
       "671        False         16.80      0.0  Санкт-Петербург           22041.0   \n",
       "1757       False           NaN      0.0  Санкт-Петербург           22735.0   \n",
       "...          ...           ...      ...              ...               ...   \n",
       "22542      False           NaN      NaN  Санкт-Петербург           51340.0   \n",
       "22656      False         14.40      0.0  Санкт-Петербург           22041.0   \n",
       "22808      False         23.42      0.0  Санкт-Петербург           19095.0   \n",
       "23590      False         23.60      0.0  Санкт-Петербург           19095.0   \n",
       "23658      False         15.50      2.0  Санкт-Петербург            8426.0   \n",
       "\n",
       "       cityCenters_nearest  parks_around3000  parks_nearest  ponds_around3000  \\\n",
       "186                12373.0               1.0          123.0               0.0   \n",
       "237                17369.0               0.0            NaN               1.0   \n",
       "457                 8322.0               2.0          309.0               2.0   \n",
       "671                17369.0               0.0            NaN               1.0   \n",
       "1757               11618.0               1.0          835.0               1.0   \n",
       "...                    ...               ...            ...               ...   \n",
       "22542              15363.0               0.0            NaN               1.0   \n",
       "22656              17369.0               0.0            NaN               1.0   \n",
       "22808               4529.0               0.0            NaN               0.0   \n",
       "23590               4529.0               0.0            NaN               0.0   \n",
       "23658              12082.0               2.0           24.0               1.0   \n",
       "\n",
       "       ponds_nearest  days_exposition  \n",
       "186              NaN             49.0  \n",
       "237            374.0            251.0  \n",
       "457            706.0            727.0  \n",
       "671            374.0            123.0  \n",
       "1757           652.0             77.0  \n",
       "...              ...              ...  \n",
       "22542          853.0            512.0  \n",
       "22656          374.0            127.0  \n",
       "22808            NaN            260.0  \n",
       "23590            NaN            104.0  \n",
       "23658          271.0            246.0  \n",
       "\n",
       "[86 rows x 22 columns]"
      ]
     },
     "execution_count": 32,
     "metadata": {},
     "output_type": "execute_result"
    }
   ],
   "source": [
    "data[data['floors_total'].isna()]"
   ]
  },
  {
   "cell_type": "markdown",
   "metadata": {},
   "source": [
    "Исходя из предположения о взаимосвязи высоты потолков в здании и его этажности, а также принимая во внимание наличие всех значений в столбце с высотой потолка и малое количество записей без этаже, мы воспользуемся обратной уже использованной логикой - заполним этажность исходя из высоты потолка. "
   ]
  },
  {
   "cell_type": "code",
   "execution_count": 33,
   "metadata": {},
   "outputs": [],
   "source": [
    "floors_by_ceiling_heights = (\n",
    "    data[~data['floors_total'].isna()]\n",
    "    .groupby('ceiling_height')['floors_total']\n",
    "    .agg('mean')\n",
    ")\n",
    "\n",
    "floors_by_ceiling_heights = floors_by_ceiling_heights.apply(lambda x: math.ceil(x))"
   ]
  },
  {
   "cell_type": "code",
   "execution_count": 34,
   "metadata": {},
   "outputs": [
    {
     "data": {
      "text/html": [
       "<div>\n",
       "<style scoped>\n",
       "    .dataframe tbody tr th:only-of-type {\n",
       "        vertical-align: middle;\n",
       "    }\n",
       "\n",
       "    .dataframe tbody tr th {\n",
       "        vertical-align: top;\n",
       "    }\n",
       "\n",
       "    .dataframe thead th {\n",
       "        text-align: right;\n",
       "    }\n",
       "</style>\n",
       "<table border=\"1\" class=\"dataframe\">\n",
       "  <thead>\n",
       "    <tr style=\"text-align: right;\">\n",
       "      <th></th>\n",
       "      <th>total_images</th>\n",
       "      <th>last_price</th>\n",
       "      <th>total_area</th>\n",
       "      <th>first_day_exposition</th>\n",
       "      <th>rooms</th>\n",
       "      <th>ceiling_height</th>\n",
       "      <th>floors_total</th>\n",
       "      <th>living_area</th>\n",
       "      <th>floor</th>\n",
       "      <th>is_apartment</th>\n",
       "      <th>studio</th>\n",
       "      <th>open_plan</th>\n",
       "      <th>kitchen_area</th>\n",
       "      <th>balcony</th>\n",
       "      <th>locality_name</th>\n",
       "      <th>airports_nearest</th>\n",
       "      <th>cityCenters_nearest</th>\n",
       "      <th>parks_around3000</th>\n",
       "      <th>parks_nearest</th>\n",
       "      <th>ponds_around3000</th>\n",
       "      <th>ponds_nearest</th>\n",
       "      <th>days_exposition</th>\n",
       "    </tr>\n",
       "  </thead>\n",
       "  <tbody>\n",
       "    <tr>\n",
       "      <td>0</td>\n",
       "      <td>20</td>\n",
       "      <td>13000000.0</td>\n",
       "      <td>108.0</td>\n",
       "      <td>2019-03-07</td>\n",
       "      <td>3</td>\n",
       "      <td>2.70</td>\n",
       "      <td>16.0</td>\n",
       "      <td>51.0</td>\n",
       "      <td>8</td>\n",
       "      <td>NaN</td>\n",
       "      <td>False</td>\n",
       "      <td>False</td>\n",
       "      <td>25.0</td>\n",
       "      <td>NaN</td>\n",
       "      <td>Санкт-Петербург</td>\n",
       "      <td>18863.0</td>\n",
       "      <td>16028.0</td>\n",
       "      <td>1.0</td>\n",
       "      <td>482.0</td>\n",
       "      <td>2.0</td>\n",
       "      <td>755.0</td>\n",
       "      <td>NaN</td>\n",
       "    </tr>\n",
       "    <tr>\n",
       "      <td>1</td>\n",
       "      <td>7</td>\n",
       "      <td>3350000.0</td>\n",
       "      <td>40.4</td>\n",
       "      <td>2018-12-04</td>\n",
       "      <td>1</td>\n",
       "      <td>2.70</td>\n",
       "      <td>11.0</td>\n",
       "      <td>18.6</td>\n",
       "      <td>1</td>\n",
       "      <td>NaN</td>\n",
       "      <td>False</td>\n",
       "      <td>False</td>\n",
       "      <td>11.0</td>\n",
       "      <td>2.0</td>\n",
       "      <td>посёлок Шушары</td>\n",
       "      <td>12817.0</td>\n",
       "      <td>18603.0</td>\n",
       "      <td>0.0</td>\n",
       "      <td>NaN</td>\n",
       "      <td>0.0</td>\n",
       "      <td>NaN</td>\n",
       "      <td>81.0</td>\n",
       "    </tr>\n",
       "    <tr>\n",
       "      <td>2</td>\n",
       "      <td>10</td>\n",
       "      <td>5196000.0</td>\n",
       "      <td>56.0</td>\n",
       "      <td>2015-08-20</td>\n",
       "      <td>2</td>\n",
       "      <td>2.95</td>\n",
       "      <td>5.0</td>\n",
       "      <td>34.3</td>\n",
       "      <td>4</td>\n",
       "      <td>NaN</td>\n",
       "      <td>False</td>\n",
       "      <td>False</td>\n",
       "      <td>8.3</td>\n",
       "      <td>0.0</td>\n",
       "      <td>Санкт-Петербург</td>\n",
       "      <td>21741.0</td>\n",
       "      <td>13933.0</td>\n",
       "      <td>1.0</td>\n",
       "      <td>90.0</td>\n",
       "      <td>2.0</td>\n",
       "      <td>574.0</td>\n",
       "      <td>558.0</td>\n",
       "    </tr>\n",
       "    <tr>\n",
       "      <td>3</td>\n",
       "      <td>0</td>\n",
       "      <td>64900000.0</td>\n",
       "      <td>159.0</td>\n",
       "      <td>2015-07-24</td>\n",
       "      <td>3</td>\n",
       "      <td>2.55</td>\n",
       "      <td>14.0</td>\n",
       "      <td>NaN</td>\n",
       "      <td>9</td>\n",
       "      <td>NaN</td>\n",
       "      <td>False</td>\n",
       "      <td>False</td>\n",
       "      <td>NaN</td>\n",
       "      <td>0.0</td>\n",
       "      <td>Санкт-Петербург</td>\n",
       "      <td>28098.0</td>\n",
       "      <td>6800.0</td>\n",
       "      <td>2.0</td>\n",
       "      <td>84.0</td>\n",
       "      <td>3.0</td>\n",
       "      <td>234.0</td>\n",
       "      <td>424.0</td>\n",
       "    </tr>\n",
       "    <tr>\n",
       "      <td>4</td>\n",
       "      <td>2</td>\n",
       "      <td>10000000.0</td>\n",
       "      <td>100.0</td>\n",
       "      <td>2018-06-19</td>\n",
       "      <td>2</td>\n",
       "      <td>3.00</td>\n",
       "      <td>14.0</td>\n",
       "      <td>32.0</td>\n",
       "      <td>13</td>\n",
       "      <td>NaN</td>\n",
       "      <td>False</td>\n",
       "      <td>False</td>\n",
       "      <td>41.0</td>\n",
       "      <td>NaN</td>\n",
       "      <td>Санкт-Петербург</td>\n",
       "      <td>31856.0</td>\n",
       "      <td>8098.0</td>\n",
       "      <td>2.0</td>\n",
       "      <td>112.0</td>\n",
       "      <td>1.0</td>\n",
       "      <td>48.0</td>\n",
       "      <td>121.0</td>\n",
       "    </tr>\n",
       "  </tbody>\n",
       "</table>\n",
       "</div>"
      ],
      "text/plain": [
       "   total_images  last_price  total_area first_day_exposition  rooms  \\\n",
       "0            20  13000000.0       108.0           2019-03-07      3   \n",
       "1             7   3350000.0        40.4           2018-12-04      1   \n",
       "2            10   5196000.0        56.0           2015-08-20      2   \n",
       "3             0  64900000.0       159.0           2015-07-24      3   \n",
       "4             2  10000000.0       100.0           2018-06-19      2   \n",
       "\n",
       "   ceiling_height  floors_total  living_area  floor is_apartment  studio  \\\n",
       "0            2.70          16.0         51.0      8          NaN   False   \n",
       "1            2.70          11.0         18.6      1          NaN   False   \n",
       "2            2.95           5.0         34.3      4          NaN   False   \n",
       "3            2.55          14.0          NaN      9          NaN   False   \n",
       "4            3.00          14.0         32.0     13          NaN   False   \n",
       "\n",
       "   open_plan  kitchen_area  balcony    locality_name  airports_nearest  \\\n",
       "0      False          25.0      NaN  Санкт-Петербург           18863.0   \n",
       "1      False          11.0      2.0   посёлок Шушары           12817.0   \n",
       "2      False           8.3      0.0  Санкт-Петербург           21741.0   \n",
       "3      False           NaN      0.0  Санкт-Петербург           28098.0   \n",
       "4      False          41.0      NaN  Санкт-Петербург           31856.0   \n",
       "\n",
       "   cityCenters_nearest  parks_around3000  parks_nearest  ponds_around3000  \\\n",
       "0              16028.0               1.0          482.0               2.0   \n",
       "1              18603.0               0.0            NaN               0.0   \n",
       "2              13933.0               1.0           90.0               2.0   \n",
       "3               6800.0               2.0           84.0               3.0   \n",
       "4               8098.0               2.0          112.0               1.0   \n",
       "\n",
       "   ponds_nearest  days_exposition  \n",
       "0          755.0              NaN  \n",
       "1            NaN             81.0  \n",
       "2          574.0            558.0  \n",
       "3          234.0            424.0  \n",
       "4           48.0            121.0  "
      ]
     },
     "execution_count": 34,
     "metadata": {},
     "output_type": "execute_result"
    }
   ],
   "source": [
    "data.head()"
   ]
  },
  {
   "cell_type": "code",
   "execution_count": 35,
   "metadata": {},
   "outputs": [
    {
     "data": {
      "text/plain": [
       "ceiling_height\n",
       "2.20     4\n",
       "2.25     5\n",
       "2.30     5\n",
       "2.35     7\n",
       "2.45     8\n",
       "2.50     9\n",
       "2.55    11\n",
       "2.60    16\n",
       "2.65    16\n",
       "2.70    14\n",
       "Name: floors_total, dtype: int64"
      ]
     },
     "execution_count": 35,
     "metadata": {},
     "output_type": "execute_result"
    }
   ],
   "source": [
    "floors_by_ceiling_heights.head(10)"
   ]
  },
  {
   "cell_type": "markdown",
   "metadata": {},
   "source": [
    "Так как количество этажей в здании переменная более дискретная, чем высота потолков, то для случаев, когда не будет возможности заполнить этажность на основании средней высоты потолка, мы используем медиану. "
   ]
  },
  {
   "cell_type": "code",
   "execution_count": 36,
   "metadata": {},
   "outputs": [],
   "source": [
    "median_floors_number = int(data['floors_total'].median())"
   ]
  },
  {
   "cell_type": "code",
   "execution_count": 37,
   "metadata": {},
   "outputs": [],
   "source": [
    "def floors_total_filler(row):\n",
    "    if pd.isna(row['floors_total']):\n",
    "        try:\n",
    "            row['floors_total'] = floors_by_ceiling_heights[row['ceiling_height']]\n",
    "        except:\n",
    "            row['ceiling_height'] = median_floors_number\n",
    "    if row['floor'] > row['floors_total']: #устраним логическую ошибку - этаж объекта больше этажности здания\n",
    "        row['floors_total'] = row['floor']\n",
    "    return row"
   ]
  },
  {
   "cell_type": "code",
   "execution_count": 38,
   "metadata": {},
   "outputs": [],
   "source": [
    "data = data.apply(floors_total_filler, axis=1)"
   ]
  },
  {
   "cell_type": "markdown",
   "metadata": {},
   "source": [
    "В итоге:\n",
    "1. Удалены нерелеватные строки (шум) в данных\n",
    "2. Заполнены пропуски для строк с пропусками по общей этажности здания"
   ]
  },
  {
   "cell_type": "markdown",
   "metadata": {},
   "source": [
    "#### Столбец `floor`"
   ]
  },
  {
   "cell_type": "markdown",
   "metadata": {},
   "source": [
    "Взглянем на значения в столбце с текущим этажом расположения объекта недвижимости:"
   ]
  },
  {
   "cell_type": "code",
   "execution_count": 39,
   "metadata": {},
   "outputs": [
    {
     "data": {
      "text/plain": [
       "count    23679.000000\n",
       "mean         5.890240\n",
       "std          4.881248\n",
       "min          1.000000\n",
       "25%          2.000000\n",
       "50%          4.000000\n",
       "75%          8.000000\n",
       "max         33.000000\n",
       "Name: floor, dtype: float64"
      ]
     },
     "execution_count": 39,
     "metadata": {},
     "output_type": "execute_result"
    }
   ],
   "source": [
    "data['floor'].describe()"
   ]
  },
  {
   "cell_type": "markdown",
   "metadata": {},
   "source": [
    "Данные выглядят нормально. \"Нереально\" больших этажей не наблюдается."
   ]
  },
  {
   "cell_type": "markdown",
   "metadata": {},
   "source": [
    "#### Столбец `total_area`"
   ]
  },
  {
   "cell_type": "markdown",
   "metadata": {},
   "source": [
    "В данном столбце пропуски значений не наблюдались, поэтому проведем только исследование и очистку данных."
   ]
  },
  {
   "cell_type": "code",
   "execution_count": 40,
   "metadata": {},
   "outputs": [
    {
     "data": {
      "text/plain": [
       "count    23679.000000\n",
       "mean        60.358548\n",
       "std         35.664358\n",
       "min         12.000000\n",
       "25%         40.000000\n",
       "50%         52.000000\n",
       "75%         69.900000\n",
       "max        900.000000\n",
       "Name: total_area, dtype: float64"
      ]
     },
     "execution_count": 40,
     "metadata": {},
     "output_type": "execute_result"
    }
   ],
   "source": [
    "data['total_area'].describe()"
   ]
  },
  {
   "cell_type": "markdown",
   "metadata": {},
   "source": [
    "1. Минимальное значение в 12 квадратных, конечно, небольшое, но такие квартиры теоретически могут существовать как очень малогабаритное жилье\n",
    "2. Максимальное значение в 900 квадратных по смыслу больше похоже на ошибку, так как вряд ли существуют такие объекты недвижимости стандартной планировки. Кроме того, такое значение скорее сместить меры центральной тенденции, которые мы можем использовать в исследовании, чем принесет пользу - рассмотрим возможность избавления от таких значений.\n",
    "\n",
    "Для начала снова посмотрим на распределение данных по этому признаку:"
   ]
  },
  {
   "cell_type": "code",
   "execution_count": 41,
   "metadata": {},
   "outputs": [
    {
     "data": {
      "image/png": "[encoded data removed]",
      "text/plain": [
       "<Figure size 1152x576 with 1 Axes>"
      ]
     },
     "metadata": {
      "needs_background": "light"
     },
     "output_type": "display_data"
    }
   ],
   "source": [
    "plt.figure(figsize=[16,8])\n",
    "plt.hist(x=data['total_area'], bins=60, ec='black')\n",
    "plt.grid(axis='y', alpha=0.5)\n",
    "plt.xlabel('Общая площадь объектов',fontsize=12)\n",
    "plt.axvline(x=data[(~data['total_area'].isna())]['total_area'].median(), color='r', label='Median total area')\n",
    "plt.axvline(x=np.percentile(data['total_area'], 99), color='g', label='99th percentile')\n",
    "plt.legend()\n",
    "plt.title('Распределение наблюдений в датасете по общей площади', fontsize=15)\n",
    "plt.show()"
   ]
  },
  {
   "cell_type": "markdown",
   "metadata": {},
   "source": [
    "Мы видим, что после отметки в 200 квадратных метров количество наблюдений становится исчезающе малым. 99-й процентиль лежит у отметки в 197 квадратных метров общей площади."
   ]
  },
  {
   "cell_type": "code",
   "execution_count": 42,
   "metadata": {},
   "outputs": [
    {
     "name": "stdout",
     "output_type": "stream",
     "text": [
      "99-й процентиль по общей площади объекта составляет: 197.3540000000008\n",
      "Удаление данных за 99м процентилем уберет из датасета следующее количество наблюдений: 237\n"
     ]
    }
   ],
   "source": [
    "print('99-й процентиль по общей площади объекта составляет:', np.percentile(data['total_area'], 99))\n",
    "print('Удаление данных за 99м процентилем уберет из датасета следующее количество наблюдений:', len(data[data['total_area'] > np.percentile(data['total_area'], 99)]))"
   ]
  },
  {
   "cell_type": "code",
   "execution_count": 43,
   "metadata": {},
   "outputs": [],
   "source": [
    "data = data[data['total_area'] < np.percentile(data['total_area'], 99)]"
   ]
  },
  {
   "cell_type": "markdown",
   "metadata": {},
   "source": [
    "Повторно построим распределение:"
   ]
  },
  {
   "cell_type": "code",
   "execution_count": 44,
   "metadata": {},
   "outputs": [
    {
     "data": {
      "image/png": "[encoded data removed]",
      "text/plain": [
       "<Figure size 1152x576 with 1 Axes>"
      ]
     },
     "metadata": {
      "needs_background": "light"
     },
     "output_type": "display_data"
    }
   ],
   "source": [
    "plt.figure(figsize=[16,8])\n",
    "plt.hist(x=data['total_area'], bins=20, ec='black')\n",
    "plt.grid(axis='y', alpha=0.5)\n",
    "plt.xlabel('Общая площадь объектов',fontsize=12)\n",
    "plt.axvline(x=data[(~data['total_area'].isna())]['total_area'].median(), color='r', label='Median total area')\n",
    "plt.axvline(x=np.percentile(data['total_area'], 99), color='g', label='99th percentile')\n",
    "plt.legend()\n",
    "plt.title('Распределение наблюдений в датасете по общей площади', fontsize=15)\n",
    "plt.show()"
   ]
  },
  {
   "cell_type": "markdown",
   "metadata": {},
   "source": [
    "Мы видим, что хоть распределение и не приняло форму нормального в полном виде но стало ближе к нему. \"Хвост\" наблюдений свидетельствует о наличии некоторого количества люксовых объектов, что звучит нормально, когда мы говорим об анализе предложений на рынке недвижимости. "
   ]
  },
  {
   "cell_type": "markdown",
   "metadata": {},
   "source": [
    "#### Столбец `living_area`"
   ]
  },
  {
   "cell_type": "code",
   "execution_count": 45,
   "metadata": {},
   "outputs": [
    {
     "name": "stdout",
     "output_type": "stream",
     "text": [
      "Доля пропусков в столбце living area: 7.97%\n"
     ]
    }
   ],
   "source": [
    "print('Доля пропусков в столбце living area: {:.2f}%'.format(data['living_area'].isna().sum() / len(data)*100))"
   ]
  },
  {
   "cell_type": "markdown",
   "metadata": {},
   "source": [
    "В данном столбце наблюдается порядка 8% пропусков. С точки зрения здравого смысла пропусков в данном столбце быть не должно, так как \"жилая\" площадь есть в любой квартире. Следовательно, рассмотрим столбец на предмет выбросов и попробуем оценить возможности по его заполнению. "
   ]
  },
  {
   "cell_type": "code",
   "execution_count": 46,
   "metadata": {},
   "outputs": [
    {
     "data": {
      "text/plain": [
       "count    21573.000000\n",
       "mean        33.231714\n",
       "std         17.309041\n",
       "min          2.000000\n",
       "25%         18.600000\n",
       "50%         30.000000\n",
       "75%         42.000000\n",
       "max        164.700000\n",
       "Name: living_area, dtype: float64"
      ]
     },
     "execution_count": 46,
     "metadata": {},
     "output_type": "execute_result"
    }
   ],
   "source": [
    "data['living_area'].describe()"
   ]
  },
  {
   "cell_type": "markdown",
   "metadata": {},
   "source": [
    "Начнем с изучения минимальных значений:"
   ]
  },
  {
   "cell_type": "code",
   "execution_count": 47,
   "metadata": {},
   "outputs": [
    {
     "data": {
      "text/html": [
       "<div>\n",
       "<style scoped>\n",
       "    .dataframe tbody tr th:only-of-type {\n",
       "        vertical-align: middle;\n",
       "    }\n",
       "\n",
       "    .dataframe tbody tr th {\n",
       "        vertical-align: top;\n",
       "    }\n",
       "\n",
       "    .dataframe thead th {\n",
       "        text-align: right;\n",
       "    }\n",
       "</style>\n",
       "<table border=\"1\" class=\"dataframe\">\n",
       "  <thead>\n",
       "    <tr style=\"text-align: right;\">\n",
       "      <th></th>\n",
       "      <th>total_images</th>\n",
       "      <th>last_price</th>\n",
       "      <th>total_area</th>\n",
       "      <th>first_day_exposition</th>\n",
       "      <th>rooms</th>\n",
       "      <th>ceiling_height</th>\n",
       "      <th>floors_total</th>\n",
       "      <th>living_area</th>\n",
       "      <th>floor</th>\n",
       "      <th>is_apartment</th>\n",
       "      <th>studio</th>\n",
       "      <th>open_plan</th>\n",
       "      <th>kitchen_area</th>\n",
       "      <th>balcony</th>\n",
       "      <th>locality_name</th>\n",
       "      <th>airports_nearest</th>\n",
       "      <th>cityCenters_nearest</th>\n",
       "      <th>parks_around3000</th>\n",
       "      <th>parks_nearest</th>\n",
       "      <th>ponds_around3000</th>\n",
       "      <th>ponds_nearest</th>\n",
       "      <th>days_exposition</th>\n",
       "    </tr>\n",
       "  </thead>\n",
       "  <tbody>\n",
       "    <tr>\n",
       "      <td>13915</td>\n",
       "      <td>20</td>\n",
       "      <td>6350000.0</td>\n",
       "      <td>52.0</td>\n",
       "      <td>2018-02-06</td>\n",
       "      <td>2</td>\n",
       "      <td>2.95</td>\n",
       "      <td>6.0</td>\n",
       "      <td>2.0</td>\n",
       "      <td>2</td>\n",
       "      <td>NaN</td>\n",
       "      <td>False</td>\n",
       "      <td>False</td>\n",
       "      <td>9.0</td>\n",
       "      <td>NaN</td>\n",
       "      <td>Санкт-Петербург</td>\n",
       "      <td>32453.0</td>\n",
       "      <td>6521.0</td>\n",
       "      <td>0.0</td>\n",
       "      <td>NaN</td>\n",
       "      <td>1.0</td>\n",
       "      <td>1012.0</td>\n",
       "      <td>91.0</td>\n",
       "    </tr>\n",
       "    <tr>\n",
       "      <td>21758</td>\n",
       "      <td>0</td>\n",
       "      <td>2330000.0</td>\n",
       "      <td>23.0</td>\n",
       "      <td>2018-01-01</td>\n",
       "      <td>1</td>\n",
       "      <td>2.70</td>\n",
       "      <td>24.0</td>\n",
       "      <td>2.0</td>\n",
       "      <td>22</td>\n",
       "      <td>NaN</td>\n",
       "      <td>True</td>\n",
       "      <td>False</td>\n",
       "      <td>NaN</td>\n",
       "      <td>NaN</td>\n",
       "      <td>посёлок Мурино</td>\n",
       "      <td>NaN</td>\n",
       "      <td>NaN</td>\n",
       "      <td>NaN</td>\n",
       "      <td>NaN</td>\n",
       "      <td>NaN</td>\n",
       "      <td>NaN</td>\n",
       "      <td>66.0</td>\n",
       "    </tr>\n",
       "    <tr>\n",
       "      <td>3242</td>\n",
       "      <td>7</td>\n",
       "      <td>4440000.0</td>\n",
       "      <td>41.0</td>\n",
       "      <td>2017-07-02</td>\n",
       "      <td>1</td>\n",
       "      <td>2.70</td>\n",
       "      <td>17.0</td>\n",
       "      <td>3.0</td>\n",
       "      <td>17</td>\n",
       "      <td>NaN</td>\n",
       "      <td>False</td>\n",
       "      <td>False</td>\n",
       "      <td>11.0</td>\n",
       "      <td>NaN</td>\n",
       "      <td>Санкт-Петербург</td>\n",
       "      <td>19272.0</td>\n",
       "      <td>13073.0</td>\n",
       "      <td>0.0</td>\n",
       "      <td>NaN</td>\n",
       "      <td>0.0</td>\n",
       "      <td>NaN</td>\n",
       "      <td>216.0</td>\n",
       "    </tr>\n",
       "    <tr>\n",
       "      <td>23574</td>\n",
       "      <td>14</td>\n",
       "      <td>64990000.0</td>\n",
       "      <td>139.0</td>\n",
       "      <td>2015-11-24</td>\n",
       "      <td>3</td>\n",
       "      <td>2.95</td>\n",
       "      <td>8.0</td>\n",
       "      <td>3.0</td>\n",
       "      <td>8</td>\n",
       "      <td>NaN</td>\n",
       "      <td>False</td>\n",
       "      <td>False</td>\n",
       "      <td>16.0</td>\n",
       "      <td>1.0</td>\n",
       "      <td>Санкт-Петербург</td>\n",
       "      <td>33255.0</td>\n",
       "      <td>5975.0</td>\n",
       "      <td>1.0</td>\n",
       "      <td>630.0</td>\n",
       "      <td>3.0</td>\n",
       "      <td>100.0</td>\n",
       "      <td>280.0</td>\n",
       "    </tr>\n",
       "    <tr>\n",
       "      <td>17582</td>\n",
       "      <td>11</td>\n",
       "      <td>2680000.0</td>\n",
       "      <td>22.0</td>\n",
       "      <td>2018-08-11</td>\n",
       "      <td>1</td>\n",
       "      <td>2.80</td>\n",
       "      <td>25.0</td>\n",
       "      <td>5.0</td>\n",
       "      <td>8</td>\n",
       "      <td>NaN</td>\n",
       "      <td>True</td>\n",
       "      <td>False</td>\n",
       "      <td>NaN</td>\n",
       "      <td>2.0</td>\n",
       "      <td>Санкт-Петербург</td>\n",
       "      <td>22735.0</td>\n",
       "      <td>11618.0</td>\n",
       "      <td>1.0</td>\n",
       "      <td>835.0</td>\n",
       "      <td>1.0</td>\n",
       "      <td>652.0</td>\n",
       "      <td>70.0</td>\n",
       "    </tr>\n",
       "  </tbody>\n",
       "</table>\n",
       "</div>"
      ],
      "text/plain": [
       "       total_images  last_price  total_area first_day_exposition  rooms  \\\n",
       "13915            20   6350000.0        52.0           2018-02-06      2   \n",
       "21758             0   2330000.0        23.0           2018-01-01      1   \n",
       "3242              7   4440000.0        41.0           2017-07-02      1   \n",
       "23574            14  64990000.0       139.0           2015-11-24      3   \n",
       "17582            11   2680000.0        22.0           2018-08-11      1   \n",
       "\n",
       "       ceiling_height  floors_total  living_area  floor is_apartment  studio  \\\n",
       "13915            2.95           6.0          2.0      2          NaN   False   \n",
       "21758            2.70          24.0          2.0     22          NaN    True   \n",
       "3242             2.70          17.0          3.0     17          NaN   False   \n",
       "23574            2.95           8.0          3.0      8          NaN   False   \n",
       "17582            2.80          25.0          5.0      8          NaN    True   \n",
       "\n",
       "       open_plan  kitchen_area  balcony    locality_name  airports_nearest  \\\n",
       "13915      False           9.0      NaN  Санкт-Петербург           32453.0   \n",
       "21758      False           NaN      NaN   посёлок Мурино               NaN   \n",
       "3242       False          11.0      NaN  Санкт-Петербург           19272.0   \n",
       "23574      False          16.0      1.0  Санкт-Петербург           33255.0   \n",
       "17582      False           NaN      2.0  Санкт-Петербург           22735.0   \n",
       "\n",
       "       cityCenters_nearest  parks_around3000  parks_nearest  ponds_around3000  \\\n",
       "13915               6521.0               0.0            NaN               1.0   \n",
       "21758                  NaN               NaN            NaN               NaN   \n",
       "3242               13073.0               0.0            NaN               0.0   \n",
       "23574               5975.0               1.0          630.0               3.0   \n",
       "17582              11618.0               1.0          835.0               1.0   \n",
       "\n",
       "       ponds_nearest  days_exposition  \n",
       "13915         1012.0             91.0  \n",
       "21758            NaN             66.0  \n",
       "3242             NaN            216.0  \n",
       "23574          100.0            280.0  \n",
       "17582          652.0             70.0  "
      ]
     },
     "execution_count": 47,
     "metadata": {},
     "output_type": "execute_result"
    }
   ],
   "source": [
    "data.sort_values('living_area').head()"
   ]
  },
  {
   "cell_type": "markdown",
   "metadata": {},
   "source": [
    "Наблюдается нечто похожее на ошибку - у некоторых объектов площадь кухни превышает площадь жилой зоны. Например, для первой строки в отфильтрованном датасете мы наблюдаем 2 квадратных метра жилой площади и 9 метров площади кухни. Однако у нас в наличии общая площадь квартиры и в ней нет пропусков, поэтому вычислим жилую площадь путем нахождения разности общей площади и площади кухни. Также в данных наблюдаются значения жилой площади менее 10% от общей площади объекта - исходя из допущения о том, что жилая площадь не может быть меньше 70% площади объекта, посчитаем ее как произведение общей площади на 70%. "
   ]
  },
  {
   "cell_type": "code",
   "execution_count": 48,
   "metadata": {},
   "outputs": [],
   "source": [
    "def living_area_calc(row):\n",
    "    if pd.isna(row['living_area']) == True:\n",
    "        row['living_area'] = row['total_area'] - row['kitchen_area']\n",
    "    elif row['living_area'] < row['kitchen_area']:\n",
    "        row['living_area'] = row['total_area'] - row['kitchen_area']\n",
    "    elif (row['living_area'] / row['total_area']) < 0.7 and pd.isna(row['kitchen_area']):\n",
    "        row['living_area'] = row['total_area'] * 0.7\n",
    "    return row"
   ]
  },
  {
   "cell_type": "code",
   "execution_count": 49,
   "metadata": {},
   "outputs": [],
   "source": [
    "data = data.apply(living_area_calc, axis=1)"
   ]
  },
  {
   "cell_type": "markdown",
   "metadata": {},
   "source": [
    "Таким образом:\n",
    "1. Часть данных очищена от ошибок через пересчет жилой площади относительно площади кухни\n",
    "2. Устранено около 450 пропусков столбца  living area"
   ]
  },
  {
   "cell_type": "markdown",
   "metadata": {},
   "source": [
    "Далее заполним жилую площадь квартир расчетными референтными значениями. "
   ]
  },
  {
   "cell_type": "code",
   "execution_count": 50,
   "metadata": {},
   "outputs": [],
   "source": [
    "living_area_filled_old = data.loc[data['living_area'] != 0] #в отдельный массив отбираем значения с заполненной жил.площадью\n",
    "living_area_filled_old['living_area_part'] = living_area_filled_old['living_area'] / living_area_filled_old['total_area']\n",
    "#добавляем вычисляемый столбцев с долей жилой площади относительно общей площади\n",
    "\n",
    "room_liv_area_part_groups_old = living_area_filled_old.groupby('rooms')['living_area_part'].mean().to_dict()\n",
    "room_liv_area_part_groups_old[13] = room_liv_area_part_groups_old[11]"
   ]
  },
  {
   "cell_type": "code",
   "execution_count": 51,
   "metadata": {},
   "outputs": [],
   "source": [
    "living_area_filled = data.loc[(data['living_area'] != 0) & (data['living_area'] >= data['living_area'].mean())] #в отдельный массив отбираем значения с заполненной жил.площадью\n",
    "living_area_filled['living_area_part'] = living_area_filled['living_area'] / living_area_filled['total_area']\n",
    "#добавляем вычисляемый столбцев с долей жилой площади относительно общей площади\n",
    "\n",
    "room_liv_area_part_groups = living_area_filled.groupby('rooms')['living_area_part'].mean().to_dict()\n",
    "room_liv_area_part_groups[13] = room_liv_area_part_groups[11]"
   ]
  },
  {
   "cell_type": "code",
   "execution_count": 52,
   "metadata": {},
   "outputs": [],
   "source": [
    "room_liv_area_part_groups_comparison1 = pd.DataFrame.from_dict(room_liv_area_part_groups, orient='index', columns=['rows'])\n",
    "room_liv_area_part_groups_comparison1.reset_index(inplace=True)\n",
    "room_liv_area_part_groups_comparison1.columns=['rooms', 'living_area_part']\n",
    "room_liv_area_part_groups_comparison2 = pd.DataFrame.from_dict(room_liv_area_part_groups_old, orient='index', columns=['rows'])\n",
    "room_liv_area_part_groups_comparison = room_liv_area_part_groups_comparison1.join(room_liv_area_part_groups_comparison2, on='rooms')\n",
    "room_liv_area_part_groups_comparison.columns=['rooms', 'new_liv_area_part', 'old_liv_area_part']"
   ]
  },
  {
   "cell_type": "code",
   "execution_count": 53,
   "metadata": {},
   "outputs": [],
   "source": [
    "living_area_filled = data.loc[(data['living_area'] != 0) & (data['living_area'] >= data['living_area'].mean())] #в отдельный массив отбираем значения с заполненной жил.площадью\n",
    "living_area_filled['living_area_part'] = living_area_filled['living_area'] / living_area_filled['total_area']\n",
    "#добавляем вычисляемый столбцев с долей жилой площади относительно общей площади\n",
    "\n",
    "room_liv_area_part_groups = living_area_filled.groupby('rooms')['living_area_part'].mean().to_dict()\n",
    "room_liv_area_part_groups[13] = room_liv_area_part_groups[11]\n",
    "#формируем словарь с парами количество комнат-доля жилой площади для применения в функции для заполнения \n",
    "#нулевых значений\n",
    "\n",
    "data['living_area'] = data['living_area'].fillna(0) #заполняем незаполненные строки нулями\n",
    "\n",
    "def living_area_filler(row):\n",
    "    if row['living_area'] == 0:\n",
    "        if row['rooms'] in room_liv_area_part_groups.keys():\n",
    "            row['living_area'] = row['total_area'] * room_liv_area_part_groups[row['rooms']]\n",
    "    return row\n",
    "    \n",
    "data = data.apply(living_area_filler, axis=1) #применяем функцию"
   ]
  },
  {
   "cell_type": "markdown",
   "metadata": {},
   "source": [
    "#### Столбец `kitchen_area`"
   ]
  },
  {
   "cell_type": "markdown",
   "metadata": {},
   "source": [
    "Перейдем к анализу и заполнению данных о площади кухни. Можно предположить, что отсутствие данных о кухне равносильно отсутствию кухни в квартире и это возможно (в отличие от нулевого или идентичного общей площади значения жилой площади квартиры). Однако отсутствие отдельной кухни характерно для квартир типа \"студия\", что означает возможное нулевое значение кухни для группы однокомнатных квартир. \n",
    "\n",
    "По этой причине мы можем присвоить нулевую площадь кухни однокомнатным квартирам, а для остального пула необходимо произвести расчет по аналогии с жилой площадью. "
   ]
  },
  {
   "cell_type": "code",
   "execution_count": 54,
   "metadata": {},
   "outputs": [
    {
     "name": "stdout",
     "output_type": "stream",
     "text": [
      "1018\n"
     ]
    }
   ],
   "source": [
    "data['kitchen_area'] = data['kitchen_area'].fillna(0) #заполняем все пустые строки нулевыми значениями\n",
    "print(len(data.loc[(data['kitchen_area'] == 0)&(data['rooms'] == 1)])) #считаем количество значений с нулевой\n",
    "#площадью кухни у однокомнатных квартир"
   ]
  },
  {
   "cell_type": "markdown",
   "metadata": {},
   "source": [
    "Однако принудительное присвоение нулевого значения 1000 строк только на основании количества комнат может значительно исказить наши данные, поэтому для заполнения нулевых значений площади кухни в однокомнатных квартирах мы вычислим медианное значение общей площади квартиры и оставим нулевое значение только у тех записей, площадь которых находится ниже второго квартиля. \n",
    "\n",
    "Нижнюю половину также можно классифицировать по количеству этажей - если этажность не превышает 12 этажей, то вероятней всего - эти дома старой постройки и в них также есть отдельная кухня.\n",
    "\n",
    "Также мы в явном виде используем значение в столбце open_plan."
   ]
  },
  {
   "cell_type": "code",
   "execution_count": 55,
   "metadata": {},
   "outputs": [
    {
     "data": {
      "text/html": [
       "<div>\n",
       "<style scoped>\n",
       "    .dataframe tbody tr th:only-of-type {\n",
       "        vertical-align: middle;\n",
       "    }\n",
       "\n",
       "    .dataframe tbody tr th {\n",
       "        vertical-align: top;\n",
       "    }\n",
       "\n",
       "    .dataframe thead tr th {\n",
       "        text-align: left;\n",
       "    }\n",
       "\n",
       "    .dataframe thead tr:last-of-type th {\n",
       "        text-align: right;\n",
       "    }\n",
       "</style>\n",
       "<table border=\"1\" class=\"dataframe\">\n",
       "  <thead>\n",
       "    <tr>\n",
       "      <th></th>\n",
       "      <th colspan=\"2\" halign=\"left\">mean</th>\n",
       "      <th colspan=\"2\" halign=\"left\">median</th>\n",
       "      <th colspan=\"2\" halign=\"left\">min</th>\n",
       "    </tr>\n",
       "    <tr>\n",
       "      <th></th>\n",
       "      <th>kitchen_area</th>\n",
       "      <th>total_area</th>\n",
       "      <th>kitchen_area</th>\n",
       "      <th>total_area</th>\n",
       "      <th>kitchen_area</th>\n",
       "      <th>total_area</th>\n",
       "    </tr>\n",
       "    <tr>\n",
       "      <th>rooms</th>\n",
       "      <th></th>\n",
       "      <th></th>\n",
       "      <th></th>\n",
       "      <th></th>\n",
       "      <th></th>\n",
       "      <th></th>\n",
       "    </tr>\n",
       "  </thead>\n",
       "  <tbody>\n",
       "    <tr>\n",
       "      <td>1</td>\n",
       "      <td>9.550300</td>\n",
       "      <td>37.816965</td>\n",
       "      <td>9.045</td>\n",
       "      <td>36.8</td>\n",
       "      <td>1.3</td>\n",
       "      <td>14.0</td>\n",
       "    </tr>\n",
       "    <tr>\n",
       "      <td>2</td>\n",
       "      <td>9.978836</td>\n",
       "      <td>55.840565</td>\n",
       "      <td>8.800</td>\n",
       "      <td>53.0</td>\n",
       "      <td>2.0</td>\n",
       "      <td>20.0</td>\n",
       "    </tr>\n",
       "    <tr>\n",
       "      <td>3</td>\n",
       "      <td>11.243819</td>\n",
       "      <td>77.256364</td>\n",
       "      <td>9.500</td>\n",
       "      <td>72.8</td>\n",
       "      <td>4.0</td>\n",
       "      <td>40.1</td>\n",
       "    </tr>\n",
       "    <tr>\n",
       "      <td>4</td>\n",
       "      <td>12.999597</td>\n",
       "      <td>102.141950</td>\n",
       "      <td>11.000</td>\n",
       "      <td>98.0</td>\n",
       "      <td>4.8</td>\n",
       "      <td>48.0</td>\n",
       "    </tr>\n",
       "    <tr>\n",
       "      <td>5</td>\n",
       "      <td>15.509437</td>\n",
       "      <td>135.967489</td>\n",
       "      <td>14.000</td>\n",
       "      <td>134.0</td>\n",
       "      <td>5.0</td>\n",
       "      <td>40.0</td>\n",
       "    </tr>\n",
       "    <tr>\n",
       "      <td>6</td>\n",
       "      <td>16.334545</td>\n",
       "      <td>150.956364</td>\n",
       "      <td>15.400</td>\n",
       "      <td>155.8</td>\n",
       "      <td>5.9</td>\n",
       "      <td>87.0</td>\n",
       "    </tr>\n",
       "    <tr>\n",
       "      <td>7</td>\n",
       "      <td>15.878947</td>\n",
       "      <td>161.547368</td>\n",
       "      <td>15.900</td>\n",
       "      <td>162.0</td>\n",
       "      <td>5.0</td>\n",
       "      <td>125.0</td>\n",
       "    </tr>\n",
       "    <tr>\n",
       "      <td>8</td>\n",
       "      <td>6.100000</td>\n",
       "      <td>170.600000</td>\n",
       "      <td>6.100</td>\n",
       "      <td>170.6</td>\n",
       "      <td>5.0</td>\n",
       "      <td>150.0</td>\n",
       "    </tr>\n",
       "    <tr>\n",
       "      <td>11</td>\n",
       "      <td>12.600000</td>\n",
       "      <td>188.900000</td>\n",
       "      <td>12.600</td>\n",
       "      <td>188.9</td>\n",
       "      <td>11.9</td>\n",
       "      <td>183.7</td>\n",
       "    </tr>\n",
       "  </tbody>\n",
       "</table>\n",
       "</div>"
      ],
      "text/plain": [
       "              mean                   median                     min           \n",
       "      kitchen_area  total_area kitchen_area total_area kitchen_area total_area\n",
       "rooms                                                                         \n",
       "1         9.550300   37.816965        9.045       36.8          1.3       14.0\n",
       "2         9.978836   55.840565        8.800       53.0          2.0       20.0\n",
       "3        11.243819   77.256364        9.500       72.8          4.0       40.1\n",
       "4        12.999597  102.141950       11.000       98.0          4.8       48.0\n",
       "5        15.509437  135.967489       14.000      134.0          5.0       40.0\n",
       "6        16.334545  150.956364       15.400      155.8          5.9       87.0\n",
       "7        15.878947  161.547368       15.900      162.0          5.0      125.0\n",
       "8         6.100000  170.600000        6.100      170.6          5.0      150.0\n",
       "11       12.600000  188.900000       12.600      188.9         11.9      183.7"
      ]
     },
     "execution_count": 55,
     "metadata": {},
     "output_type": "execute_result"
    }
   ],
   "source": [
    "#строим сводную таблицу для поиска решения по заполнению пропусков у однокомнатных квартир\n",
    "data.loc[data['kitchen_area'] != 0].pivot_table(index='rooms', values=['kitchen_area', 'total_area'], \\\n",
    "aggfunc=['mean', 'median', 'min']) "
   ]
  },
  {
   "cell_type": "code",
   "execution_count": 56,
   "metadata": {},
   "outputs": [],
   "source": [
    "data['kitchen_area_part'] = data['kitchen_area'] / data['total_area'] #добавляем вычисляемый столбец\n",
    "kitchen_area_part_groups = data.loc[data['kitchen_area'] != 0].\\\n",
    "groupby('rooms')['kitchen_area_part'].mean().to_dict() #делаем список для функции\n",
    "del data['kitchen_area_part'] #удаляем вычисляемый столбец\n",
    "\n",
    "def kitchen_area_filler(row): #функцией заполняем площадь кухни\n",
    "    if row['kitchen_area'] == 0:\n",
    "        if row['rooms'] == 1 and row['floor'] > 12 and row['total_area'] < 36.8 or row['open_plan'] == True: \n",
    "            row['kitchen_area'] = row['kitchen_area']\n",
    "        elif row['rooms'] in kitchen_area_part_groups.keys():\n",
    "            row['kitchen_area'] = row['total_area'] * kitchen_area_part_groups[row['rooms']]\n",
    "        else:\n",
    "            row['kitchen_area'] = row['total_area'] * kitchen_area_part_groups[row['rooms'] + 1]\n",
    "    return row\n",
    "\n",
    "data = data.apply(kitchen_area_filler, axis=1) #применяем функцию"
   ]
  },
  {
   "cell_type": "code",
   "execution_count": 57,
   "metadata": {},
   "outputs": [
    {
     "name": "stdout",
     "output_type": "stream",
     "text": [
      "192\n"
     ]
    }
   ],
   "source": [
    "print(len(data.loc[(data['kitchen_area'] == 0)&(data['rooms'] == 1)]))\n",
    "#в итоге, мы сократили площадь квартир с нулевой площадью с порядка 2000 тысяч строк до 192"
   ]
  },
  {
   "cell_type": "markdown",
   "metadata": {},
   "source": [
    "#### Столбец `balcony`"
   ]
  },
  {
   "cell_type": "markdown",
   "metadata": {},
   "source": [
    "В качестве следующего шага исправим пропуски в столбце balcony. Так как балкон - довольно существенный параметр, напрямую влияющий на стоимость квартиры и ее привлекательность как объекта недвижимости для некоторых категорий покупателей, пустую строку мы будем расценивать как ноль. Соответственно пропуски в количестве балконов заполним нулями, а также преобразуем значения столбца в целое число. "
   ]
  },
  {
   "cell_type": "code",
   "execution_count": 58,
   "metadata": {},
   "outputs": [
    {
     "data": {
      "text/plain": [
       "0    15085\n",
       "1     4150\n",
       "2     3650\n",
       "5      299\n",
       "4      180\n",
       "3       78\n",
       "Name: balcony, dtype: int64"
      ]
     },
     "execution_count": 58,
     "metadata": {},
     "output_type": "execute_result"
    }
   ],
   "source": [
    "data['balcony'] = data['balcony'].fillna(0).astype(int)\n",
    "data['balcony'].value_counts()"
   ]
  },
  {
   "cell_type": "markdown",
   "metadata": {},
   "source": [
    "#### Столбец `locality_name`"
   ]
  },
  {
   "cell_type": "markdown",
   "metadata": {},
   "source": [
    "Первичное ознакомление со столбцом locality_name"
   ]
  },
  {
   "cell_type": "code",
   "execution_count": 59,
   "metadata": {},
   "outputs": [
    {
     "data": {
      "text/plain": [
       "363"
      ]
     },
     "metadata": {},
     "output_type": "display_data"
    }
   ],
   "source": [
    "display(len(data['locality_name'].value_counts()))\n",
    "data['locality_name'] = data['locality_name'].fillna('Не указано')\n",
    "data = data.reset_index(drop=True)"
   ]
  },
  {
   "cell_type": "markdown",
   "metadata": {},
   "source": [
    "При помощи нескольких итераций визуальной оценки семплов дета сета по столбцу locality_name, удалось определить наиболее распространенные избыточно длинные или немного различные значения (количество уникальных значений по столбцу сократилось на 7). "
   ]
  },
  {
   "cell_type": "code",
   "execution_count": 60,
   "metadata": {},
   "outputs": [],
   "source": [
    "def locality_adjustment(row):\n",
    "    if 'посёлок' in row['locality_name']:\n",
    "        row['locality_name'] = row['locality_name'].replace('посёлок', 'п.')\n",
    "    elif 'поселок' in row['locality_name']:\n",
    "        row['locality_name'] = row['locality_name'].replace('поселок', 'п.')\n",
    "    elif 'садоводческое некоммерческое товарищество' in row['locality_name']:\n",
    "        row['locality_name'] = row['locality_name'].replace('садоводческое некоммерческое товарищество', 'снт')\n",
    "    elif 'садовое товарищество' in row['locality_name']:\n",
    "        row['locality_name'] = row['locality_name'].replace('садовое товарищество', 'снт')\n",
    "    elif 'городской поселок' in row['locality_name']:\n",
    "        row['locality_name'] = row['locality_name'].replace('городской поселок', 'пгт')\n",
    "    elif 'поселок городского типа' in row['locality_name']:\n",
    "        row['locality_name'] = row['locality_name'].replace('поселок городского типа', 'пгт')\n",
    "    elif 'деревня' in row['locality_name']:\n",
    "        row['locality_name'] = row['locality_name'].replace('деревня', 'д.')\n",
    "    return row\n",
    "\n",
    "data = data.apply(locality_adjustment, axis=1)"
   ]
  },
  {
   "cell_type": "markdown",
   "metadata": {},
   "source": [
    "После произведенных манипуляций, мы видим, что данными заполнены почти все столбцы. Исключение - столбцы с расстояними до ближайших важных инфраструктурных объектов, но к анализу данных приступить можно уже сейчас. Однако перед этим имеет смысл произвести преобразование данных ряда столбцов из формата вещественных чисел в целые.\n",
    "\n",
    "Во-первых, наличие данных о копейках в цене квартиры не имеет определяющего значения для исследования;\n",
    "\n",
    "Во-вторых, столбцы с площадями также не требуют такой точности."
   ]
  },
  {
   "cell_type": "markdown",
   "metadata": {},
   "source": [
    "#### Преобразование типов данных"
   ]
  },
  {
   "cell_type": "markdown",
   "metadata": {},
   "source": [
    "Еще раз оценим информацию о датасете (типы данных) и посмотрим непосредственно на сами данные:"
   ]
  },
  {
   "cell_type": "code",
   "execution_count": 61,
   "metadata": {},
   "outputs": [
    {
     "data": {
      "text/plain": [
       "total_images                     int64\n",
       "last_price                     float64\n",
       "total_area                     float64\n",
       "first_day_exposition    datetime64[ns]\n",
       "rooms                            int64\n",
       "ceiling_height                 float64\n",
       "floors_total                   float64\n",
       "living_area                    float64\n",
       "floor                            int64\n",
       "is_apartment                    object\n",
       "studio                            bool\n",
       "open_plan                         bool\n",
       "kitchen_area                   float64\n",
       "balcony                          int64\n",
       "locality_name                   object\n",
       "airports_nearest               float64\n",
       "cityCenters_nearest            float64\n",
       "parks_around3000               float64\n",
       "parks_nearest                  float64\n",
       "ponds_around3000               float64\n",
       "ponds_nearest                  float64\n",
       "days_exposition                float64\n",
       "dtype: object"
      ]
     },
     "execution_count": 61,
     "metadata": {},
     "output_type": "execute_result"
    }
   ],
   "source": [
    "data.dtypes"
   ]
  },
  {
   "cell_type": "code",
   "execution_count": 62,
   "metadata": {},
   "outputs": [
    {
     "name": "stdout",
     "output_type": "stream",
     "text": [
      "<class 'pandas.core.frame.DataFrame'>\n",
      "RangeIndex: 23442 entries, 0 to 23441\n",
      "Data columns (total 22 columns):\n",
      "total_images            23442 non-null int64\n",
      "last_price              23442 non-null float64\n",
      "total_area              23442 non-null float64\n",
      "first_day_exposition    23442 non-null datetime64[ns]\n",
      "rooms                   23442 non-null int64\n",
      "ceiling_height          23442 non-null float64\n",
      "floors_total            23442 non-null float64\n",
      "living_area             23442 non-null float64\n",
      "floor                   23442 non-null int64\n",
      "is_apartment            2752 non-null object\n",
      "studio                  23442 non-null bool\n",
      "open_plan               23442 non-null bool\n",
      "kitchen_area            23442 non-null float64\n",
      "balcony                 23442 non-null int64\n",
      "locality_name           23442 non-null object\n",
      "airports_nearest        17917 non-null float64\n",
      "cityCenters_nearest     17937 non-null float64\n",
      "parks_around3000        17938 non-null float64\n",
      "parks_nearest           7920 non-null float64\n",
      "ponds_around3000        17938 non-null float64\n",
      "ponds_nearest           8936 non-null float64\n",
      "days_exposition         20318 non-null float64\n",
      "dtypes: bool(2), datetime64[ns](1), float64(13), int64(4), object(2)\n",
      "memory usage: 3.6+ MB\n"
     ]
    }
   ],
   "source": [
    "data.info()"
   ]
  },
  {
   "cell_type": "code",
   "execution_count": 63,
   "metadata": {},
   "outputs": [
    {
     "data": {
      "text/html": [
       "<div>\n",
       "<style scoped>\n",
       "    .dataframe tbody tr th:only-of-type {\n",
       "        vertical-align: middle;\n",
       "    }\n",
       "\n",
       "    .dataframe tbody tr th {\n",
       "        vertical-align: top;\n",
       "    }\n",
       "\n",
       "    .dataframe thead th {\n",
       "        text-align: right;\n",
       "    }\n",
       "</style>\n",
       "<table border=\"1\" class=\"dataframe\">\n",
       "  <thead>\n",
       "    <tr style=\"text-align: right;\">\n",
       "      <th></th>\n",
       "      <th>total_images</th>\n",
       "      <th>last_price</th>\n",
       "      <th>total_area</th>\n",
       "      <th>first_day_exposition</th>\n",
       "      <th>rooms</th>\n",
       "      <th>ceiling_height</th>\n",
       "      <th>floors_total</th>\n",
       "      <th>living_area</th>\n",
       "      <th>floor</th>\n",
       "      <th>is_apartment</th>\n",
       "      <th>studio</th>\n",
       "      <th>open_plan</th>\n",
       "      <th>kitchen_area</th>\n",
       "      <th>balcony</th>\n",
       "      <th>locality_name</th>\n",
       "      <th>airports_nearest</th>\n",
       "      <th>cityCenters_nearest</th>\n",
       "      <th>parks_around3000</th>\n",
       "      <th>parks_nearest</th>\n",
       "      <th>ponds_around3000</th>\n",
       "      <th>ponds_nearest</th>\n",
       "      <th>days_exposition</th>\n",
       "    </tr>\n",
       "  </thead>\n",
       "  <tbody>\n",
       "    <tr>\n",
       "      <td>0</td>\n",
       "      <td>20</td>\n",
       "      <td>13000000.0</td>\n",
       "      <td>108.0</td>\n",
       "      <td>2019-03-07</td>\n",
       "      <td>3</td>\n",
       "      <td>2.70</td>\n",
       "      <td>16.0</td>\n",
       "      <td>51.000000</td>\n",
       "      <td>8</td>\n",
       "      <td>NaN</td>\n",
       "      <td>False</td>\n",
       "      <td>False</td>\n",
       "      <td>25.00000</td>\n",
       "      <td>0</td>\n",
       "      <td>Санкт-Петербург</td>\n",
       "      <td>18863.0</td>\n",
       "      <td>16028.0</td>\n",
       "      <td>1.0</td>\n",
       "      <td>482.0</td>\n",
       "      <td>2.0</td>\n",
       "      <td>755.0</td>\n",
       "      <td>NaN</td>\n",
       "    </tr>\n",
       "    <tr>\n",
       "      <td>1</td>\n",
       "      <td>7</td>\n",
       "      <td>3350000.0</td>\n",
       "      <td>40.4</td>\n",
       "      <td>2018-12-04</td>\n",
       "      <td>1</td>\n",
       "      <td>2.70</td>\n",
       "      <td>11.0</td>\n",
       "      <td>18.600000</td>\n",
       "      <td>1</td>\n",
       "      <td>NaN</td>\n",
       "      <td>False</td>\n",
       "      <td>False</td>\n",
       "      <td>11.00000</td>\n",
       "      <td>2</td>\n",
       "      <td>п. Шушары</td>\n",
       "      <td>12817.0</td>\n",
       "      <td>18603.0</td>\n",
       "      <td>0.0</td>\n",
       "      <td>NaN</td>\n",
       "      <td>0.0</td>\n",
       "      <td>NaN</td>\n",
       "      <td>81.0</td>\n",
       "    </tr>\n",
       "    <tr>\n",
       "      <td>2</td>\n",
       "      <td>10</td>\n",
       "      <td>5196000.0</td>\n",
       "      <td>56.0</td>\n",
       "      <td>2015-08-20</td>\n",
       "      <td>2</td>\n",
       "      <td>2.95</td>\n",
       "      <td>5.0</td>\n",
       "      <td>34.300000</td>\n",
       "      <td>4</td>\n",
       "      <td>NaN</td>\n",
       "      <td>False</td>\n",
       "      <td>False</td>\n",
       "      <td>8.30000</td>\n",
       "      <td>0</td>\n",
       "      <td>Санкт-Петербург</td>\n",
       "      <td>21741.0</td>\n",
       "      <td>13933.0</td>\n",
       "      <td>1.0</td>\n",
       "      <td>90.0</td>\n",
       "      <td>2.0</td>\n",
       "      <td>574.0</td>\n",
       "      <td>558.0</td>\n",
       "    </tr>\n",
       "    <tr>\n",
       "      <td>3</td>\n",
       "      <td>0</td>\n",
       "      <td>64900000.0</td>\n",
       "      <td>159.0</td>\n",
       "      <td>2015-07-24</td>\n",
       "      <td>3</td>\n",
       "      <td>2.55</td>\n",
       "      <td>14.0</td>\n",
       "      <td>100.880117</td>\n",
       "      <td>9</td>\n",
       "      <td>NaN</td>\n",
       "      <td>False</td>\n",
       "      <td>False</td>\n",
       "      <td>22.40742</td>\n",
       "      <td>0</td>\n",
       "      <td>Санкт-Петербург</td>\n",
       "      <td>28098.0</td>\n",
       "      <td>6800.0</td>\n",
       "      <td>2.0</td>\n",
       "      <td>84.0</td>\n",
       "      <td>3.0</td>\n",
       "      <td>234.0</td>\n",
       "      <td>424.0</td>\n",
       "    </tr>\n",
       "    <tr>\n",
       "      <td>4</td>\n",
       "      <td>2</td>\n",
       "      <td>10000000.0</td>\n",
       "      <td>100.0</td>\n",
       "      <td>2018-06-19</td>\n",
       "      <td>2</td>\n",
       "      <td>3.00</td>\n",
       "      <td>14.0</td>\n",
       "      <td>59.000000</td>\n",
       "      <td>13</td>\n",
       "      <td>NaN</td>\n",
       "      <td>False</td>\n",
       "      <td>False</td>\n",
       "      <td>41.00000</td>\n",
       "      <td>0</td>\n",
       "      <td>Санкт-Петербург</td>\n",
       "      <td>31856.0</td>\n",
       "      <td>8098.0</td>\n",
       "      <td>2.0</td>\n",
       "      <td>112.0</td>\n",
       "      <td>1.0</td>\n",
       "      <td>48.0</td>\n",
       "      <td>121.0</td>\n",
       "    </tr>\n",
       "  </tbody>\n",
       "</table>\n",
       "</div>"
      ],
      "text/plain": [
       "   total_images  last_price  total_area first_day_exposition  rooms  \\\n",
       "0            20  13000000.0       108.0           2019-03-07      3   \n",
       "1             7   3350000.0        40.4           2018-12-04      1   \n",
       "2            10   5196000.0        56.0           2015-08-20      2   \n",
       "3             0  64900000.0       159.0           2015-07-24      3   \n",
       "4             2  10000000.0       100.0           2018-06-19      2   \n",
       "\n",
       "   ceiling_height  floors_total  living_area  floor is_apartment  studio  \\\n",
       "0            2.70          16.0    51.000000      8          NaN   False   \n",
       "1            2.70          11.0    18.600000      1          NaN   False   \n",
       "2            2.95           5.0    34.300000      4          NaN   False   \n",
       "3            2.55          14.0   100.880117      9          NaN   False   \n",
       "4            3.00          14.0    59.000000     13          NaN   False   \n",
       "\n",
       "   open_plan  kitchen_area  balcony    locality_name  airports_nearest  \\\n",
       "0      False      25.00000        0  Санкт-Петербург           18863.0   \n",
       "1      False      11.00000        2        п. Шушары           12817.0   \n",
       "2      False       8.30000        0  Санкт-Петербург           21741.0   \n",
       "3      False      22.40742        0  Санкт-Петербург           28098.0   \n",
       "4      False      41.00000        0  Санкт-Петербург           31856.0   \n",
       "\n",
       "   cityCenters_nearest  parks_around3000  parks_nearest  ponds_around3000  \\\n",
       "0              16028.0               1.0          482.0               2.0   \n",
       "1              18603.0               0.0            NaN               0.0   \n",
       "2              13933.0               1.0           90.0               2.0   \n",
       "3               6800.0               2.0           84.0               3.0   \n",
       "4               8098.0               2.0          112.0               1.0   \n",
       "\n",
       "   ponds_nearest  days_exposition  \n",
       "0          755.0              NaN  \n",
       "1            NaN             81.0  \n",
       "2          574.0            558.0  \n",
       "3          234.0            424.0  \n",
       "4           48.0            121.0  "
      ]
     },
     "execution_count": 63,
     "metadata": {},
     "output_type": "execute_result"
    }
   ],
   "source": [
    "data.head()"
   ]
  },
  {
   "cell_type": "markdown",
   "metadata": {},
   "source": [
    "Преобразуем столбцы с ценой и общим числом этажей к целом числу, так как по цене точность до копеек нам не требуется, а количество этажей не может измеряться не целыми числами. Также преобразуем к целым числам и другие значения, детализация до знаков после точки которым не требуется. "
   ]
  },
  {
   "cell_type": "code",
   "execution_count": 64,
   "metadata": {},
   "outputs": [],
   "source": [
    "data[['last_price',\n",
    "     'floors_total',\n",
    "     'airports_nearest',\n",
    "     'cityCenters_nearest',\n",
    "     'parks_around3000',\n",
    "     'ponds_nearest']] = data[\n",
    "    ['last_price',\n",
    "     'floors_total',\n",
    "     'airports_nearest',\n",
    "     'cityCenters_nearest',\n",
    "     'parks_around3000',\n",
    "     'ponds_nearest'\n",
    "    ]].fillna(0).astype('int').replace(0, np.nan)"
   ]
  },
  {
   "cell_type": "markdown",
   "metadata": {},
   "source": [
    "Также округлим площади кухни и жилой зоны в квартирах:"
   ]
  },
  {
   "cell_type": "code",
   "execution_count": 65,
   "metadata": {},
   "outputs": [
    {
     "data": {
      "text/plain": [
       "48"
      ]
     },
     "execution_count": 65,
     "metadata": {},
     "output_type": "execute_result"
    }
   ],
   "source": [
    "len(data[data['is_apartment'] == True])"
   ]
  },
  {
   "cell_type": "code",
   "execution_count": 66,
   "metadata": {},
   "outputs": [],
   "source": [
    "data[['living_area', 'kitchen_area']] = round(data[['living_area', 'kitchen_area']], 1)"
   ]
  },
  {
   "cell_type": "markdown",
   "metadata": {},
   "source": [
    "Исходя из предположени о том, что отсутствие признака \"апартаменты\" означает равносильно несоответствию объекта критерию апартаментов, заполним пропуски \"ложью\" - в результате тип данных в столбце также будет исправлен. "
   ]
  },
  {
   "cell_type": "code",
   "execution_count": 67,
   "metadata": {},
   "outputs": [
    {
     "data": {
      "text/plain": [
       "48"
      ]
     },
     "execution_count": 67,
     "metadata": {},
     "output_type": "execute_result"
    }
   ],
   "source": [
    "len(data[data['is_apartment'] == True])"
   ]
  },
  {
   "cell_type": "markdown",
   "metadata": {},
   "source": [
    "Мы видим, что количество положительных значений сохранилось - в датасете по-прежнему 48 апартаментов."
   ]
  },
  {
   "cell_type": "code",
   "execution_count": 68,
   "metadata": {},
   "outputs": [],
   "source": [
    "data['is_apartment'] = data['is_apartment'].fillna(False)"
   ]
  },
  {
   "cell_type": "markdown",
   "metadata": {},
   "source": [
    "#### Выводы по итогам очистки и заполнения пропусков"
   ]
  },
  {
   "cell_type": "markdown",
   "metadata": {},
   "source": [
    "1. Так как у нас не указаны временные границы в описании сета, можем предполагать, что даты в пределах валидного диапазона\n",
    "2. Исправлена 1 ошибка ввода цены объекта\n",
    "3. Заполнены пропуски в столбце с высотой потолка на основе референтных значений, полученных из этого же датасета\n",
    "4. У порядка 160 записей в таблице 0 в количестве комнат заменен на количество, более релевантное указанной площади объекта\n",
    "5. Заполнены пропуски в общем количестве этажей в здании, а также на упреждение исправлена ошибка при которой расчетное значение может быть меньше этажа объекта\n",
    "6. Пропуски в столбцах с жилой площадью и площадью кухни объекта заполнены расчтеными значениями, полученными из имеющихся данных\n",
    "7. По итогам удалено около 250 записей из датасета, что составляет порядка 1% от общего объема исходных данных, что допустимо"
   ]
  },
  {
   "cell_type": "markdown",
   "metadata": {},
   "source": [
    "## Расчёты, добавление результатов в таблицу и исследовательский анализ"
   ]
  },
  {
   "cell_type": "markdown",
   "metadata": {},
   "source": [
    "### Категоризация объектов по этажу и добавление отношения площадей"
   ]
  },
  {
   "cell_type": "code",
   "execution_count": 69,
   "metadata": {},
   "outputs": [],
   "source": [
    "#считаем стоимость 1 квадратного метра жилой площади и одновременно меняем тип полученных данных на целое число\n",
    "data['price_per_sqm'] = (data['last_price'] / data['total_area']).astype(int)\n",
    "\n",
    "#из ранее преобразованной даты получаем день недели, в которые объявление впервые было опубликовано\n",
    "data['weekday_published'] = pd.to_datetime(data['first_day_exposition']).dt.dayofweek\n",
    "\n",
    "#функция определит группу объекта недвижимости по этажности\n",
    "def floor_gr_identifier(row):\n",
    "    if row['floor'] == 1:\n",
    "        row['floor_quality'] = 'Первый этаж'\n",
    "    elif row['floors_total'] - row['floor'] == 0:\n",
    "        row['floor_quality'] = 'Последний этаж'\n",
    "    else:\n",
    "        row['floor_quality'] = 'Другой'\n",
    "    return row\n",
    "\n",
    "data = data.apply(floor_gr_identifier, axis=1) #используем написанную функцию"
   ]
  },
  {
   "cell_type": "code",
   "execution_count": 70,
   "metadata": {},
   "outputs": [],
   "source": [
    "#считаем долю жилой площади и площади кухни относительно общей площади объектов недвижимости\n",
    "data['living_area_part'] = round(data['living_area'] / data['total_area'], 2)\n",
    "data['kitchen_area_part'] = round(data['kitchen_area'] / data['total_area'], 2)"
   ]
  },
  {
   "cell_type": "code",
   "execution_count": 71,
   "metadata": {},
   "outputs": [
    {
     "data": {
      "text/html": [
       "<div>\n",
       "<style scoped>\n",
       "    .dataframe tbody tr th:only-of-type {\n",
       "        vertical-align: middle;\n",
       "    }\n",
       "\n",
       "    .dataframe tbody tr th {\n",
       "        vertical-align: top;\n",
       "    }\n",
       "\n",
       "    .dataframe thead th {\n",
       "        text-align: right;\n",
       "    }\n",
       "</style>\n",
       "<table border=\"1\" class=\"dataframe\">\n",
       "  <thead>\n",
       "    <tr style=\"text-align: right;\">\n",
       "      <th></th>\n",
       "      <th>total_images</th>\n",
       "      <th>last_price</th>\n",
       "      <th>total_area</th>\n",
       "      <th>first_day_exposition</th>\n",
       "      <th>rooms</th>\n",
       "      <th>ceiling_height</th>\n",
       "      <th>floors_total</th>\n",
       "      <th>living_area</th>\n",
       "      <th>floor</th>\n",
       "      <th>is_apartment</th>\n",
       "      <th>studio</th>\n",
       "      <th>open_plan</th>\n",
       "      <th>kitchen_area</th>\n",
       "      <th>balcony</th>\n",
       "      <th>locality_name</th>\n",
       "      <th>airports_nearest</th>\n",
       "      <th>cityCenters_nearest</th>\n",
       "      <th>parks_around3000</th>\n",
       "      <th>parks_nearest</th>\n",
       "      <th>ponds_around3000</th>\n",
       "      <th>ponds_nearest</th>\n",
       "      <th>days_exposition</th>\n",
       "      <th>price_per_sqm</th>\n",
       "      <th>weekday_published</th>\n",
       "      <th>floor_quality</th>\n",
       "      <th>living_area_part</th>\n",
       "      <th>kitchen_area_part</th>\n",
       "    </tr>\n",
       "  </thead>\n",
       "  <tbody>\n",
       "    <tr>\n",
       "      <td>0</td>\n",
       "      <td>20</td>\n",
       "      <td>13000000</td>\n",
       "      <td>108.0</td>\n",
       "      <td>2019-03-07</td>\n",
       "      <td>3</td>\n",
       "      <td>2.70</td>\n",
       "      <td>16</td>\n",
       "      <td>51.0</td>\n",
       "      <td>8</td>\n",
       "      <td>False</td>\n",
       "      <td>False</td>\n",
       "      <td>False</td>\n",
       "      <td>25.0</td>\n",
       "      <td>0</td>\n",
       "      <td>Санкт-Петербург</td>\n",
       "      <td>18863.0</td>\n",
       "      <td>16028.0</td>\n",
       "      <td>1.0</td>\n",
       "      <td>482.0</td>\n",
       "      <td>2.0</td>\n",
       "      <td>755.0</td>\n",
       "      <td>NaN</td>\n",
       "      <td>120370</td>\n",
       "      <td>3</td>\n",
       "      <td>Другой</td>\n",
       "      <td>0.47</td>\n",
       "      <td>0.23</td>\n",
       "    </tr>\n",
       "    <tr>\n",
       "      <td>1</td>\n",
       "      <td>7</td>\n",
       "      <td>3350000</td>\n",
       "      <td>40.4</td>\n",
       "      <td>2018-12-04</td>\n",
       "      <td>1</td>\n",
       "      <td>2.70</td>\n",
       "      <td>11</td>\n",
       "      <td>18.6</td>\n",
       "      <td>1</td>\n",
       "      <td>False</td>\n",
       "      <td>False</td>\n",
       "      <td>False</td>\n",
       "      <td>11.0</td>\n",
       "      <td>2</td>\n",
       "      <td>п. Шушары</td>\n",
       "      <td>12817.0</td>\n",
       "      <td>18603.0</td>\n",
       "      <td>NaN</td>\n",
       "      <td>NaN</td>\n",
       "      <td>0.0</td>\n",
       "      <td>NaN</td>\n",
       "      <td>81.0</td>\n",
       "      <td>82920</td>\n",
       "      <td>1</td>\n",
       "      <td>Первый этаж</td>\n",
       "      <td>0.46</td>\n",
       "      <td>0.27</td>\n",
       "    </tr>\n",
       "    <tr>\n",
       "      <td>2</td>\n",
       "      <td>10</td>\n",
       "      <td>5196000</td>\n",
       "      <td>56.0</td>\n",
       "      <td>2015-08-20</td>\n",
       "      <td>2</td>\n",
       "      <td>2.95</td>\n",
       "      <td>5</td>\n",
       "      <td>34.3</td>\n",
       "      <td>4</td>\n",
       "      <td>False</td>\n",
       "      <td>False</td>\n",
       "      <td>False</td>\n",
       "      <td>8.3</td>\n",
       "      <td>0</td>\n",
       "      <td>Санкт-Петербург</td>\n",
       "      <td>21741.0</td>\n",
       "      <td>13933.0</td>\n",
       "      <td>1.0</td>\n",
       "      <td>90.0</td>\n",
       "      <td>2.0</td>\n",
       "      <td>574.0</td>\n",
       "      <td>558.0</td>\n",
       "      <td>92785</td>\n",
       "      <td>3</td>\n",
       "      <td>Другой</td>\n",
       "      <td>0.61</td>\n",
       "      <td>0.15</td>\n",
       "    </tr>\n",
       "    <tr>\n",
       "      <td>3</td>\n",
       "      <td>0</td>\n",
       "      <td>64900000</td>\n",
       "      <td>159.0</td>\n",
       "      <td>2015-07-24</td>\n",
       "      <td>3</td>\n",
       "      <td>2.55</td>\n",
       "      <td>14</td>\n",
       "      <td>100.9</td>\n",
       "      <td>9</td>\n",
       "      <td>False</td>\n",
       "      <td>False</td>\n",
       "      <td>False</td>\n",
       "      <td>22.4</td>\n",
       "      <td>0</td>\n",
       "      <td>Санкт-Петербург</td>\n",
       "      <td>28098.0</td>\n",
       "      <td>6800.0</td>\n",
       "      <td>2.0</td>\n",
       "      <td>84.0</td>\n",
       "      <td>3.0</td>\n",
       "      <td>234.0</td>\n",
       "      <td>424.0</td>\n",
       "      <td>408176</td>\n",
       "      <td>4</td>\n",
       "      <td>Другой</td>\n",
       "      <td>0.63</td>\n",
       "      <td>0.14</td>\n",
       "    </tr>\n",
       "    <tr>\n",
       "      <td>4</td>\n",
       "      <td>2</td>\n",
       "      <td>10000000</td>\n",
       "      <td>100.0</td>\n",
       "      <td>2018-06-19</td>\n",
       "      <td>2</td>\n",
       "      <td>3.00</td>\n",
       "      <td>14</td>\n",
       "      <td>59.0</td>\n",
       "      <td>13</td>\n",
       "      <td>False</td>\n",
       "      <td>False</td>\n",
       "      <td>False</td>\n",
       "      <td>41.0</td>\n",
       "      <td>0</td>\n",
       "      <td>Санкт-Петербург</td>\n",
       "      <td>31856.0</td>\n",
       "      <td>8098.0</td>\n",
       "      <td>2.0</td>\n",
       "      <td>112.0</td>\n",
       "      <td>1.0</td>\n",
       "      <td>48.0</td>\n",
       "      <td>121.0</td>\n",
       "      <td>100000</td>\n",
       "      <td>1</td>\n",
       "      <td>Другой</td>\n",
       "      <td>0.59</td>\n",
       "      <td>0.41</td>\n",
       "    </tr>\n",
       "  </tbody>\n",
       "</table>\n",
       "</div>"
      ],
      "text/plain": [
       "   total_images  last_price  total_area first_day_exposition  rooms  \\\n",
       "0            20    13000000       108.0           2019-03-07      3   \n",
       "1             7     3350000        40.4           2018-12-04      1   \n",
       "2            10     5196000        56.0           2015-08-20      2   \n",
       "3             0    64900000       159.0           2015-07-24      3   \n",
       "4             2    10000000       100.0           2018-06-19      2   \n",
       "\n",
       "   ceiling_height  floors_total  living_area  floor  is_apartment  studio  \\\n",
       "0            2.70            16         51.0      8         False   False   \n",
       "1            2.70            11         18.6      1         False   False   \n",
       "2            2.95             5         34.3      4         False   False   \n",
       "3            2.55            14        100.9      9         False   False   \n",
       "4            3.00            14         59.0     13         False   False   \n",
       "\n",
       "   open_plan  kitchen_area  balcony    locality_name  airports_nearest  \\\n",
       "0      False          25.0        0  Санкт-Петербург           18863.0   \n",
       "1      False          11.0        2        п. Шушары           12817.0   \n",
       "2      False           8.3        0  Санкт-Петербург           21741.0   \n",
       "3      False          22.4        0  Санкт-Петербург           28098.0   \n",
       "4      False          41.0        0  Санкт-Петербург           31856.0   \n",
       "\n",
       "   cityCenters_nearest  parks_around3000  parks_nearest  ponds_around3000  \\\n",
       "0              16028.0               1.0          482.0               2.0   \n",
       "1              18603.0               NaN            NaN               0.0   \n",
       "2              13933.0               1.0           90.0               2.0   \n",
       "3               6800.0               2.0           84.0               3.0   \n",
       "4               8098.0               2.0          112.0               1.0   \n",
       "\n",
       "   ponds_nearest  days_exposition  price_per_sqm  weekday_published  \\\n",
       "0          755.0              NaN         120370                  3   \n",
       "1            NaN             81.0          82920                  1   \n",
       "2          574.0            558.0          92785                  3   \n",
       "3          234.0            424.0         408176                  4   \n",
       "4           48.0            121.0         100000                  1   \n",
       "\n",
       "  floor_quality  living_area_part  kitchen_area_part  \n",
       "0        Другой              0.47               0.23  \n",
       "1   Первый этаж              0.46               0.27  \n",
       "2        Другой              0.61               0.15  \n",
       "3        Другой              0.63               0.14  \n",
       "4        Другой              0.59               0.41  "
      ]
     },
     "execution_count": 71,
     "metadata": {},
     "output_type": "execute_result"
    }
   ],
   "source": [
    "data.head()"
   ]
  },
  {
   "cell_type": "markdown",
   "metadata": {},
   "source": [
    "### Исследовательский анализ данных"
   ]
  },
  {
   "cell_type": "markdown",
   "metadata": {},
   "source": [
    "#### Анализ площади"
   ]
  },
  {
   "cell_type": "code",
   "execution_count": 72,
   "metadata": {},
   "outputs": [
    {
     "data": {
      "text/plain": [
       "count    23442.000000\n",
       "mean        58.127871\n",
       "std         26.383219\n",
       "min         12.000000\n",
       "25%         40.000000\n",
       "50%         51.850000\n",
       "75%         68.900000\n",
       "max        197.200000\n",
       "Name: total_area, dtype: float64"
      ]
     },
     "execution_count": 72,
     "metadata": {},
     "output_type": "execute_result"
    }
   ],
   "source": [
    "data['total_area'].describe()"
   ]
  },
  {
   "cell_type": "markdown",
   "metadata": {},
   "source": [
    "При помощи метода describe мы можем оценить, как распределяются площади квартир из нашего среза. В среднем, площадь квартиры из объявления почти 60 квадратных метров. Медианное значение, конечно, немного ниже - 52 метра, но все равно эта цифра положительно характеризует ситуацию с площадью квартиры на рынке недвижимости. \n",
    "\n",
    "Для наглядности, посмотрим на данные в трех разрезах, сгруппировав их по количеству комнат."
   ]
  },
  {
   "cell_type": "code",
   "execution_count": 73,
   "metadata": {},
   "outputs": [
    {
     "data": {
      "text/html": [
       "<div>\n",
       "<style scoped>\n",
       "    .dataframe tbody tr th:only-of-type {\n",
       "        vertical-align: middle;\n",
       "    }\n",
       "\n",
       "    .dataframe tbody tr th {\n",
       "        vertical-align: top;\n",
       "    }\n",
       "\n",
       "    .dataframe thead tr th {\n",
       "        text-align: left;\n",
       "    }\n",
       "\n",
       "    .dataframe thead tr:last-of-type th {\n",
       "        text-align: right;\n",
       "    }\n",
       "</style>\n",
       "<table border=\"1\" class=\"dataframe\">\n",
       "  <thead>\n",
       "    <tr>\n",
       "      <th></th>\n",
       "      <th colspan=\"3\" halign=\"left\">median</th>\n",
       "      <th colspan=\"3\" halign=\"left\">mean</th>\n",
       "      <th colspan=\"3\" halign=\"left\">max</th>\n",
       "    </tr>\n",
       "    <tr>\n",
       "      <th></th>\n",
       "      <th>kitchen_area</th>\n",
       "      <th>living_area</th>\n",
       "      <th>total_area</th>\n",
       "      <th>kitchen_area</th>\n",
       "      <th>living_area</th>\n",
       "      <th>total_area</th>\n",
       "      <th>kitchen_area</th>\n",
       "      <th>living_area</th>\n",
       "      <th>total_area</th>\n",
       "    </tr>\n",
       "    <tr>\n",
       "      <th>rooms</th>\n",
       "      <th></th>\n",
       "      <th></th>\n",
       "      <th></th>\n",
       "      <th></th>\n",
       "      <th></th>\n",
       "      <th></th>\n",
       "      <th></th>\n",
       "      <th></th>\n",
       "      <th></th>\n",
       "    </tr>\n",
       "  </thead>\n",
       "  <tbody>\n",
       "    <tr>\n",
       "      <td>1</td>\n",
       "      <td>9.00</td>\n",
       "      <td>18.0</td>\n",
       "      <td>36.30</td>\n",
       "      <td>9.253222</td>\n",
       "      <td>19.148650</td>\n",
       "      <td>37.329438</td>\n",
       "      <td>58.4</td>\n",
       "      <td>136.7</td>\n",
       "      <td>190.0</td>\n",
       "    </tr>\n",
       "    <tr>\n",
       "      <td>2</td>\n",
       "      <td>8.90</td>\n",
       "      <td>31.0</td>\n",
       "      <td>53.00</td>\n",
       "      <td>9.956659</td>\n",
       "      <td>32.608567</td>\n",
       "      <td>55.846547</td>\n",
       "      <td>93.0</td>\n",
       "      <td>128.0</td>\n",
       "      <td>196.0</td>\n",
       "    </tr>\n",
       "    <tr>\n",
       "      <td>3</td>\n",
       "      <td>9.60</td>\n",
       "      <td>45.2</td>\n",
       "      <td>72.80</td>\n",
       "      <td>11.218110</td>\n",
       "      <td>48.080459</td>\n",
       "      <td>77.284358</td>\n",
       "      <td>93.2</td>\n",
       "      <td>165.8</td>\n",
       "      <td>193.0</td>\n",
       "    </tr>\n",
       "    <tr>\n",
       "      <td>4</td>\n",
       "      <td>11.00</td>\n",
       "      <td>63.3</td>\n",
       "      <td>98.00</td>\n",
       "      <td>12.947711</td>\n",
       "      <td>65.433803</td>\n",
       "      <td>102.052746</td>\n",
       "      <td>75.0</td>\n",
       "      <td>164.7</td>\n",
       "      <td>197.0</td>\n",
       "    </tr>\n",
       "    <tr>\n",
       "      <td>5</td>\n",
       "      <td>14.00</td>\n",
       "      <td>88.0</td>\n",
       "      <td>131.75</td>\n",
       "      <td>15.258779</td>\n",
       "      <td>88.730916</td>\n",
       "      <td>134.469046</td>\n",
       "      <td>65.0</td>\n",
       "      <td>173.0</td>\n",
       "      <td>197.2</td>\n",
       "    </tr>\n",
       "    <tr>\n",
       "      <td>6</td>\n",
       "      <td>16.00</td>\n",
       "      <td>105.0</td>\n",
       "      <td>155.80</td>\n",
       "      <td>16.372131</td>\n",
       "      <td>104.978689</td>\n",
       "      <td>151.404918</td>\n",
       "      <td>32.0</td>\n",
       "      <td>159.6</td>\n",
       "      <td>197.0</td>\n",
       "    </tr>\n",
       "    <tr>\n",
       "      <td>7</td>\n",
       "      <td>15.45</td>\n",
       "      <td>111.5</td>\n",
       "      <td>160.25</td>\n",
       "      <td>15.595000</td>\n",
       "      <td>106.745000</td>\n",
       "      <td>158.500000</td>\n",
       "      <td>25.0</td>\n",
       "      <td>145.0</td>\n",
       "      <td>197.0</td>\n",
       "    </tr>\n",
       "    <tr>\n",
       "      <td>8</td>\n",
       "      <td>6.10</td>\n",
       "      <td>111.4</td>\n",
       "      <td>170.60</td>\n",
       "      <td>6.100000</td>\n",
       "      <td>111.400000</td>\n",
       "      <td>170.600000</td>\n",
       "      <td>7.2</td>\n",
       "      <td>115.8</td>\n",
       "      <td>191.2</td>\n",
       "    </tr>\n",
       "    <tr>\n",
       "      <td>11</td>\n",
       "      <td>12.60</td>\n",
       "      <td>133.9</td>\n",
       "      <td>188.90</td>\n",
       "      <td>12.600000</td>\n",
       "      <td>133.900000</td>\n",
       "      <td>188.900000</td>\n",
       "      <td>13.3</td>\n",
       "      <td>138.8</td>\n",
       "      <td>194.1</td>\n",
       "    </tr>\n",
       "  </tbody>\n",
       "</table>\n",
       "</div>"
      ],
      "text/plain": [
       "            median                                mean              \\\n",
       "      kitchen_area living_area total_area kitchen_area living_area   \n",
       "rooms                                                                \n",
       "1             9.00        18.0      36.30     9.253222   19.148650   \n",
       "2             8.90        31.0      53.00     9.956659   32.608567   \n",
       "3             9.60        45.2      72.80    11.218110   48.080459   \n",
       "4            11.00        63.3      98.00    12.947711   65.433803   \n",
       "5            14.00        88.0     131.75    15.258779   88.730916   \n",
       "6            16.00       105.0     155.80    16.372131  104.978689   \n",
       "7            15.45       111.5     160.25    15.595000  106.745000   \n",
       "8             6.10       111.4     170.60     6.100000  111.400000   \n",
       "11           12.60       133.9     188.90    12.600000  133.900000   \n",
       "\n",
       "                           max                         \n",
       "       total_area kitchen_area living_area total_area  \n",
       "rooms                                                  \n",
       "1       37.329438         58.4       136.7      190.0  \n",
       "2       55.846547         93.0       128.0      196.0  \n",
       "3       77.284358         93.2       165.8      193.0  \n",
       "4      102.052746         75.0       164.7      197.0  \n",
       "5      134.469046         65.0       173.0      197.2  \n",
       "6      151.404918         32.0       159.6      197.0  \n",
       "7      158.500000         25.0       145.0      197.0  \n",
       "8      170.600000          7.2       115.8      191.2  \n",
       "11     188.900000         13.3       138.8      194.1  "
      ]
     },
     "execution_count": 73,
     "metadata": {},
     "output_type": "execute_result"
    }
   ],
   "source": [
    "data.pivot_table(index='rooms', values=['total_area', 'living_area', 'kitchen_area'], aggfunc=['median', 'mean', 'max'])"
   ]
  },
  {
   "cell_type": "markdown",
   "metadata": {},
   "source": [
    "К себе сразу же привлекает внимание сегмент \"люкс\". В сводной таблице видна \"солидарность\" и \"ровность\" медианных и средних значений для квартир с 7 и более комнатами. Вероятно, таких значений немного, но они существенно влияют на цифры, описывающие весь датасет. \n",
    "\n",
    "Природа таких данных в данном случае требует более глубокого погружения для понимания, что избыточно в рамках исследования. \n",
    "\n",
    "Оценим количество таких записей в датасете:"
   ]
  },
  {
   "cell_type": "code",
   "execution_count": 74,
   "metadata": {},
   "outputs": [
    {
     "data": {
      "text/plain": [
       "4"
      ]
     },
     "metadata": {},
     "output_type": "display_data"
    },
    {
     "data": {
      "text/plain": [
       "0.00017063390495691494"
      ]
     },
     "metadata": {},
     "output_type": "display_data"
    }
   ],
   "source": [
    "display(len(data.loc[data['rooms'] > 7]))\n",
    "display(len(data.loc[data['rooms'] > 7]) / len(data))"
   ]
  },
  {
   "cell_type": "markdown",
   "metadata": {},
   "source": [
    "Мы видим, что таких записей всего 4, что составляет порядка 0,017% от общего текущего объема датасета. Можем сделать допущение, что такие записи возможно исключить из набора."
   ]
  },
  {
   "cell_type": "code",
   "execution_count": 75,
   "metadata": {},
   "outputs": [
    {
     "data": {
      "text/html": [
       "<div>\n",
       "<style scoped>\n",
       "    .dataframe tbody tr th:only-of-type {\n",
       "        vertical-align: middle;\n",
       "    }\n",
       "\n",
       "    .dataframe tbody tr th {\n",
       "        vertical-align: top;\n",
       "    }\n",
       "\n",
       "    .dataframe thead tr th {\n",
       "        text-align: left;\n",
       "    }\n",
       "\n",
       "    .dataframe thead tr:last-of-type th {\n",
       "        text-align: right;\n",
       "    }\n",
       "</style>\n",
       "<table border=\"1\" class=\"dataframe\">\n",
       "  <thead>\n",
       "    <tr>\n",
       "      <th></th>\n",
       "      <th colspan=\"3\" halign=\"left\">median</th>\n",
       "      <th colspan=\"3\" halign=\"left\">mean</th>\n",
       "      <th colspan=\"3\" halign=\"left\">max</th>\n",
       "    </tr>\n",
       "    <tr>\n",
       "      <th></th>\n",
       "      <th>kitchen_area</th>\n",
       "      <th>living_area</th>\n",
       "      <th>total_area</th>\n",
       "      <th>kitchen_area</th>\n",
       "      <th>living_area</th>\n",
       "      <th>total_area</th>\n",
       "      <th>kitchen_area</th>\n",
       "      <th>living_area</th>\n",
       "      <th>total_area</th>\n",
       "    </tr>\n",
       "    <tr>\n",
       "      <th>rooms</th>\n",
       "      <th></th>\n",
       "      <th></th>\n",
       "      <th></th>\n",
       "      <th></th>\n",
       "      <th></th>\n",
       "      <th></th>\n",
       "      <th></th>\n",
       "      <th></th>\n",
       "      <th></th>\n",
       "    </tr>\n",
       "  </thead>\n",
       "  <tbody>\n",
       "    <tr>\n",
       "      <td>1</td>\n",
       "      <td>9.00</td>\n",
       "      <td>18.0</td>\n",
       "      <td>36.30</td>\n",
       "      <td>9.253222</td>\n",
       "      <td>19.148650</td>\n",
       "      <td>37.329438</td>\n",
       "      <td>58.4</td>\n",
       "      <td>136.7</td>\n",
       "      <td>190.0</td>\n",
       "    </tr>\n",
       "    <tr>\n",
       "      <td>2</td>\n",
       "      <td>8.90</td>\n",
       "      <td>31.0</td>\n",
       "      <td>53.00</td>\n",
       "      <td>9.956659</td>\n",
       "      <td>32.608567</td>\n",
       "      <td>55.846547</td>\n",
       "      <td>93.0</td>\n",
       "      <td>128.0</td>\n",
       "      <td>196.0</td>\n",
       "    </tr>\n",
       "    <tr>\n",
       "      <td>3</td>\n",
       "      <td>9.60</td>\n",
       "      <td>45.2</td>\n",
       "      <td>72.80</td>\n",
       "      <td>11.218110</td>\n",
       "      <td>48.080459</td>\n",
       "      <td>77.284358</td>\n",
       "      <td>93.2</td>\n",
       "      <td>165.8</td>\n",
       "      <td>193.0</td>\n",
       "    </tr>\n",
       "    <tr>\n",
       "      <td>4</td>\n",
       "      <td>11.00</td>\n",
       "      <td>63.3</td>\n",
       "      <td>98.00</td>\n",
       "      <td>12.947711</td>\n",
       "      <td>65.433803</td>\n",
       "      <td>102.052746</td>\n",
       "      <td>75.0</td>\n",
       "      <td>164.7</td>\n",
       "      <td>197.0</td>\n",
       "    </tr>\n",
       "    <tr>\n",
       "      <td>5</td>\n",
       "      <td>14.00</td>\n",
       "      <td>88.0</td>\n",
       "      <td>131.75</td>\n",
       "      <td>15.258779</td>\n",
       "      <td>88.730916</td>\n",
       "      <td>134.469046</td>\n",
       "      <td>65.0</td>\n",
       "      <td>173.0</td>\n",
       "      <td>197.2</td>\n",
       "    </tr>\n",
       "    <tr>\n",
       "      <td>6</td>\n",
       "      <td>16.00</td>\n",
       "      <td>105.0</td>\n",
       "      <td>155.80</td>\n",
       "      <td>16.372131</td>\n",
       "      <td>104.978689</td>\n",
       "      <td>151.404918</td>\n",
       "      <td>32.0</td>\n",
       "      <td>159.6</td>\n",
       "      <td>197.0</td>\n",
       "    </tr>\n",
       "    <tr>\n",
       "      <td>7</td>\n",
       "      <td>15.45</td>\n",
       "      <td>111.5</td>\n",
       "      <td>160.25</td>\n",
       "      <td>15.595000</td>\n",
       "      <td>106.745000</td>\n",
       "      <td>158.500000</td>\n",
       "      <td>25.0</td>\n",
       "      <td>145.0</td>\n",
       "      <td>197.0</td>\n",
       "    </tr>\n",
       "  </tbody>\n",
       "</table>\n",
       "</div>"
      ],
      "text/plain": [
       "            median                                mean              \\\n",
       "      kitchen_area living_area total_area kitchen_area living_area   \n",
       "rooms                                                                \n",
       "1             9.00        18.0      36.30     9.253222   19.148650   \n",
       "2             8.90        31.0      53.00     9.956659   32.608567   \n",
       "3             9.60        45.2      72.80    11.218110   48.080459   \n",
       "4            11.00        63.3      98.00    12.947711   65.433803   \n",
       "5            14.00        88.0     131.75    15.258779   88.730916   \n",
       "6            16.00       105.0     155.80    16.372131  104.978689   \n",
       "7            15.45       111.5     160.25    15.595000  106.745000   \n",
       "\n",
       "                           max                         \n",
       "       total_area kitchen_area living_area total_area  \n",
       "rooms                                                  \n",
       "1       37.329438         58.4       136.7      190.0  \n",
       "2       55.846547         93.0       128.0      196.0  \n",
       "3       77.284358         93.2       165.8      193.0  \n",
       "4      102.052746         75.0       164.7      197.0  \n",
       "5      134.469046         65.0       173.0      197.2  \n",
       "6      151.404918         32.0       159.6      197.0  \n",
       "7      158.500000         25.0       145.0      197.0  "
      ]
     },
     "execution_count": 75,
     "metadata": {},
     "output_type": "execute_result"
    }
   ],
   "source": [
    "data.drop(data.loc[data['rooms'] > 7].index, inplace=True) \n",
    "data = data.reset_index(drop=True) #сбрасываем индексы\n",
    "data.pivot_table(index='rooms', values=['total_area', 'living_area', 'kitchen_area'], aggfunc=['median', 'mean', 'max'])"
   ]
  },
  {
   "cell_type": "markdown",
   "metadata": {},
   "source": [
    "В результате нескольких итераций очистки мы убрали чуть более 1% записей исходного датасета, но значительно сжали структуру объектов недвижимости и упростили восприятие датасета. "
   ]
  },
  {
   "cell_type": "markdown",
   "metadata": {},
   "source": [
    "#### Анализ цен"
   ]
  },
  {
   "cell_type": "markdown",
   "metadata": {},
   "source": [
    "Проанализируем цены на недвижимость как в виде абсолютных значений, так и виде цены квадратного метра, которую мы рассчитали чуть выше. Для удобства мы добавим дополнительный вычисляемый столбец, цена в котором будет зафиксирована в миллионах. "
   ]
  },
  {
   "cell_type": "code",
   "execution_count": 76,
   "metadata": {},
   "outputs": [],
   "source": [
    "data['last_price_mlns'] = round(data['last_price'] / 1000000, 2)\n",
    "#после точки оставим два знака для удобства ориентирования в объектах недвижимости бюджетного сегмента"
   ]
  },
  {
   "cell_type": "code",
   "execution_count": 77,
   "metadata": {},
   "outputs": [
    {
     "data": {
      "text/plain": [
       "count    23438.000000\n",
       "mean         6.016745\n",
       "std          6.216026\n",
       "min          0.430000\n",
       "25%          3.400000\n",
       "50%          4.600000\n",
       "75%          6.700000\n",
       "max        330.000000\n",
       "Name: last_price_mlns, dtype: float64"
      ]
     },
     "execution_count": 77,
     "metadata": {},
     "output_type": "execute_result"
    }
   ],
   "source": [
    "data['last_price_mlns'].describe()"
   ]
  },
  {
   "cell_type": "markdown",
   "metadata": {},
   "source": [
    "Мы видим, что квартили выглядт вполне привычно: нижний ценовой сегмент находится в районе отметки в 3 миллиона - это, вероятно, распространенный вариант малогабаритной однокомнатной квартиры; далее отметка 4.5-5 миллионов - 2 комнаты и порядка 7 миллонов для трехкомнатных квартир - эти данные понятны на интуитивном уровне. \n",
    "\n",
    "Однако внимание в очередной раз привлекают внимание крайние значения выборки. Кроме того, довольно высоко среднеквадратичное отклонение. "
   ]
  },
  {
   "cell_type": "code",
   "execution_count": 78,
   "metadata": {},
   "outputs": [
    {
     "name": "stdout",
     "output_type": "stream",
     "text": [
      "Количество квартир дешевле 1 миллиона рублей:  243\n"
     ]
    },
    {
     "data": {
      "text/html": [
       "<div>\n",
       "<style scoped>\n",
       "    .dataframe tbody tr th:only-of-type {\n",
       "        vertical-align: middle;\n",
       "    }\n",
       "\n",
       "    .dataframe tbody tr th {\n",
       "        vertical-align: top;\n",
       "    }\n",
       "\n",
       "    .dataframe thead th {\n",
       "        text-align: right;\n",
       "    }\n",
       "</style>\n",
       "<table border=\"1\" class=\"dataframe\">\n",
       "  <thead>\n",
       "    <tr style=\"text-align: right;\">\n",
       "      <th></th>\n",
       "      <th>last_price_mlns</th>\n",
       "      <th>price_per_sqm</th>\n",
       "      <th>total_area</th>\n",
       "    </tr>\n",
       "    <tr>\n",
       "      <th>rooms</th>\n",
       "      <th></th>\n",
       "      <th></th>\n",
       "      <th></th>\n",
       "    </tr>\n",
       "  </thead>\n",
       "  <tbody>\n",
       "    <tr>\n",
       "      <td>1</td>\n",
       "      <td>0.768018</td>\n",
       "      <td>24213.180180</td>\n",
       "      <td>32.526667</td>\n",
       "    </tr>\n",
       "    <tr>\n",
       "      <td>2</td>\n",
       "      <td>0.784184</td>\n",
       "      <td>17780.693878</td>\n",
       "      <td>45.147959</td>\n",
       "    </tr>\n",
       "    <tr>\n",
       "      <td>3</td>\n",
       "      <td>0.884545</td>\n",
       "      <td>14837.000000</td>\n",
       "      <td>60.275758</td>\n",
       "    </tr>\n",
       "    <tr>\n",
       "      <td>4</td>\n",
       "      <td>1.000000</td>\n",
       "      <td>16112.000000</td>\n",
       "      <td>62.000000</td>\n",
       "    </tr>\n",
       "  </tbody>\n",
       "</table>\n",
       "</div>"
      ],
      "text/plain": [
       "       last_price_mlns  price_per_sqm  total_area\n",
       "rooms                                            \n",
       "1             0.768018   24213.180180   32.526667\n",
       "2             0.784184   17780.693878   45.147959\n",
       "3             0.884545   14837.000000   60.275758\n",
       "4             1.000000   16112.000000   62.000000"
      ]
     },
     "execution_count": 78,
     "metadata": {},
     "output_type": "execute_result"
    }
   ],
   "source": [
    "#посмотрим на количество квартир дешевле миллиона\n",
    "print('Количество квартир дешевле 1 миллиона рублей: ', len(data.loc[data['last_price_mlns'] <= 1]))\n",
    "data.loc[data['last_price_mlns'] <= 1].pivot_table(index='rooms', values=['total_area', 'price_per_sqm', 'last_price_mlns'])"
   ]
  },
  {
   "cell_type": "markdown",
   "metadata": {},
   "source": [
    "Из сводной таблицы, где в качестве индексов выступает количество комнат в квартире, мы видим, что  диапазон комнат варьируется от отметки в 1 комнату, до 4. Мы можем предположить, что не все из этих значений являются аномалиями в чистом виде, но в целом - такие значения можно удалить из таблицы для повышения точности результатов итогового исследования;\n",
    "\n",
    "Необходимо проверить гипотезу - крайне низкая цена обусловлена локацией. Для проверки гипотезы добавим в датасет столбец, в котором каждый объект будет отнесен к одной из трех групп: непосредственно Санкт-Петербург, областные города и \"сельская местность\" (населенные пункты, не являющиеся городами). "
   ]
  },
  {
   "cell_type": "code",
   "execution_count": 79,
   "metadata": {},
   "outputs": [],
   "source": [
    "def location_group(row):\n",
    "    if row['locality_name'] == 'Санкт-Петербург':\n",
    "        row['urban_group'] = 'Санкт-Петербург'\n",
    "    elif len(row['locality_name'].split()) == 1:\n",
    "        row['urban_group'] = 'Областной город'\n",
    "    elif 'д.' or 'п.' or 'пгт' or 'снт' in row['locality_name'].split():\n",
    "        row['urban_group'] = 'Сельская местность'\n",
    "        \n",
    "    return row\n",
    "        \n",
    "data = data.apply(location_group, axis=1)"
   ]
  },
  {
   "cell_type": "code",
   "execution_count": 80,
   "metadata": {},
   "outputs": [
    {
     "data": {
      "text/html": [
       "<div>\n",
       "<style scoped>\n",
       "    .dataframe tbody tr th:only-of-type {\n",
       "        vertical-align: middle;\n",
       "    }\n",
       "\n",
       "    .dataframe tbody tr th {\n",
       "        vertical-align: top;\n",
       "    }\n",
       "\n",
       "    .dataframe thead th {\n",
       "        text-align: right;\n",
       "    }\n",
       "</style>\n",
       "<table border=\"1\" class=\"dataframe\">\n",
       "  <thead>\n",
       "    <tr style=\"text-align: right;\">\n",
       "      <th></th>\n",
       "      <th>last_price_mlns</th>\n",
       "      <th>price_per_sqm</th>\n",
       "      <th>total_area</th>\n",
       "    </tr>\n",
       "    <tr>\n",
       "      <th>urban_group</th>\n",
       "      <th></th>\n",
       "      <th></th>\n",
       "      <th></th>\n",
       "    </tr>\n",
       "  </thead>\n",
       "  <tbody>\n",
       "    <tr>\n",
       "      <td>Областной город</td>\n",
       "      <td>0.786556</td>\n",
       "      <td>20033.536424</td>\n",
       "      <td>41.785828</td>\n",
       "    </tr>\n",
       "    <tr>\n",
       "      <td>Сельская местность</td>\n",
       "      <td>0.799130</td>\n",
       "      <td>20770.000000</td>\n",
       "      <td>41.047826</td>\n",
       "    </tr>\n",
       "  </tbody>\n",
       "</table>\n",
       "</div>"
      ],
      "text/plain": [
       "                    last_price_mlns  price_per_sqm  total_area\n",
       "urban_group                                                   \n",
       "Областной город            0.786556   20033.536424   41.785828\n",
       "Сельская местность         0.799130   20770.000000   41.047826"
      ]
     },
     "execution_count": 80,
     "metadata": {},
     "output_type": "execute_result"
    }
   ],
   "source": [
    "#Теперь построим сводную таблицу по новому столбцу\n",
    "data.loc[(data['last_price_mlns'] <= 1) & (data['rooms'] > 0)].\\\n",
    "pivot_table(index='urban_group', values=['total_area', 'price_per_sqm', 'last_price_mlns'])"
   ]
  },
  {
   "cell_type": "code",
   "execution_count": 81,
   "metadata": {},
   "outputs": [
    {
     "data": {
      "image/png": "[encoded data removed]",
      "text/plain": [
       "<Figure size 1152x576 with 1 Axes>"
      ]
     },
     "metadata": {
      "needs_background": "light"
     },
     "output_type": "display_data"
    }
   ],
   "source": [
    "plt.figure(figsize=[16,8])\n",
    "plt.hist(x=data[data['last_price_mlns'] <= 100]['last_price_mlns'], bins=50, ec='black')\n",
    "plt.grid(axis='y', alpha=0.5)\n",
    "plt.xlabel('Стоимость объектов в миллионах рублей',fontsize=12)\n",
    "#plt.axvline(x=data[(~data['total_area'].isna())]['total_area'].median(), color='r', label='Median total area')\n",
    "#plt.axvline(x=np.percentile(data['total_area'], 99), color='g', label='99th percentile')\n",
    "#plt.legend()\n",
    "plt.title('Распределение наблюдений в датасете по стоимости в миллионах', fontsize=15)\n",
    "plt.show()"
   ]
  },
  {
   "cell_type": "markdown",
   "metadata": {},
   "source": [
    "Как и следовало ожидать, мода распределения на шаге 2-4 миллиона рублей. То есть, это либо однокомнатная квартира в городе, либо двухкомнатная в пригороде. "
   ]
  },
  {
   "cell_type": "markdown",
   "metadata": {},
   "source": [
    "#### Анализ количества комнат"
   ]
  },
  {
   "cell_type": "code",
   "execution_count": 82,
   "metadata": {},
   "outputs": [
    {
     "data": {
      "text/plain": [
       "count    23438.000000\n",
       "mean         2.041642\n",
       "std          0.976739\n",
       "min          1.000000\n",
       "25%          1.000000\n",
       "50%          2.000000\n",
       "75%          3.000000\n",
       "max          7.000000\n",
       "Name: rooms, dtype: float64"
      ]
     },
     "execution_count": 82,
     "metadata": {},
     "output_type": "execute_result"
    }
   ],
   "source": [
    "data['rooms'].describe()"
   ]
  },
  {
   "cell_type": "markdown",
   "metadata": {},
   "source": [
    "Высказанные выше предположения о количестве комнат в наиболее распространнеых вариантах жилья находят подтверждение при оценки данных столбца:\n",
    "\n",
    "1) Среднее и медианное значения практически одинаковы - 2 комнаты;\n",
    "\n",
    "2) Отклонение - 1 комната\n",
    "\n",
    "Анализ аномальных значений, заполнение пропусков и корректировка количества комнат уже были произведены."
   ]
  },
  {
   "cell_type": "code",
   "execution_count": 83,
   "metadata": {},
   "outputs": [
    {
     "data": {
      "image/png": "[encoded data removed]",
      "text/plain": [
       "<Figure size 1152x576 with 1 Axes>"
      ]
     },
     "metadata": {
      "needs_background": "light"
     },
     "output_type": "display_data"
    }
   ],
   "source": [
    "#ограничим количество корзин в гистограмме количеством возможных вариантов количества комнат в квартире - 7\n",
    "plt.figure(figsize=[16,8])\n",
    "plt.hist(x=data['rooms'], bins=int(data['rooms'].max()), ec='black')\n",
    "plt.grid(axis='y', alpha=0.5)\n",
    "plt.xlabel('Количество комнат в квартире',fontsize=12)\n",
    "#plt.axvline(x=data['rooms'].median(), color='r', label='Median total area')\n",
    "#plt.axvline(x=np.percentile(data['total_area'], 99), color='g', label='99th percentile')\n",
    "#plt.legend()\n",
    "plt.title('Распределение наблюдений в датасете по количеству комнат', fontsize=15)\n",
    "plt.show()"
   ]
  },
  {
   "cell_type": "markdown",
   "metadata": {},
   "source": [
    "Мы видим, что большая часть объявлений - это \"народные\" варианты в 1-2 комнаты (примерно 16 тысяч записей с незначительным преимуществом однокомнатных вариантов). Трехкомнатные квартиры также достаточно популярны, но количество таких объявление составляет примерно 75% от количества двухкомнатных (или однокомнатных) вариантов. С 4 комнат виден значительный \"провал\" - такой формат жилья уже доступен меньшему количеству покупателей. В относительных значения картина сопоставима и для пар 5-4 комнат, 6-5 комнат. "
   ]
  },
  {
   "cell_type": "markdown",
   "metadata": {},
   "source": [
    "#### Анализ высоты потолков"
   ]
  },
  {
   "cell_type": "markdown",
   "metadata": {},
   "source": [
    "Ранее в рамках анализа также была произведена нормализация данных в столбце с высотами потолков, поэтому мы можем просто оценить полученный результат и понять, какие варианты в наибольшей степени популярны."
   ]
  },
  {
   "cell_type": "code",
   "execution_count": 84,
   "metadata": {},
   "outputs": [
    {
     "data": {
      "text/plain": [
       "count    23438.000000\n",
       "mean         2.715498\n",
       "std          0.223713\n",
       "min          2.200000\n",
       "25%          2.550000\n",
       "50%          2.700000\n",
       "75%          2.800000\n",
       "max          4.750000\n",
       "Name: ceiling_height, dtype: float64"
      ]
     },
     "execution_count": 84,
     "metadata": {},
     "output_type": "execute_result"
    }
   ],
   "source": [
    "data['ceiling_height'].describe()"
   ]
  },
  {
   "cell_type": "markdown",
   "metadata": {},
   "source": [
    "Как видим, метод describe действительно возвращает нам вполне реалистиные значения. Среднее и медианные значения находятся на одном уровне (2.6-2.7 метра). Не обладая экспертизой в области возможных планировок квартир и высот потолков, я бы сказал, что средняя высота довольно большая. Вероятно, на это влияет год постройки дома, но мы не располагаем соответствующими данными для проверки гипотезы. "
   ]
  },
  {
   "cell_type": "code",
   "execution_count": 85,
   "metadata": {},
   "outputs": [
    {
     "data": {
      "image/png": "[encoded data removed]",
      "text/plain": [
       "<Figure size 1152x576 with 1 Axes>"
      ]
     },
     "metadata": {
      "needs_background": "light"
     },
     "output_type": "display_data"
    }
   ],
   "source": [
    "#ограничим количество корзин в гистограмме количеством возможных вариантов количества комнат в квартире - 7\n",
    "plt.figure(figsize=[16,8])\n",
    "plt.hist(x=data['ceiling_height'], bins=20, ec='black')\n",
    "plt.grid(axis='y', alpha=0.5)\n",
    "plt.xlabel('Нормализованная высота потолков',fontsize=12)\n",
    "#plt.axvline(x=data['rooms'].median(), color='r', label='Median total area')\n",
    "#plt.axvline(x=np.percentile(data['total_area'], 99), color='g', label='99th percentile')\n",
    "#plt.legend()\n",
    "plt.title('Распределение наблюдений в датасете по высоте потолков', fontsize=15)\n",
    "plt.show()"
   ]
  },
  {
   "cell_type": "markdown",
   "metadata": {},
   "source": [
    "Пиковое значение находится у отметки 2.6-2.7 метра. "
   ]
  },
  {
   "cell_type": "markdown",
   "metadata": {},
   "source": [
    "#### Анализ по времени продажи квартир"
   ]
  },
  {
   "cell_type": "code",
   "execution_count": 86,
   "metadata": {},
   "outputs": [
    {
     "data": {
      "text/plain": [
       "count    20316.000000\n",
       "mean       179.711656\n",
       "std        218.330662\n",
       "min          1.000000\n",
       "25%         45.000000\n",
       "50%         95.000000\n",
       "75%        230.000000\n",
       "max       1580.000000\n",
       "Name: days_exposition, dtype: float64"
      ]
     },
     "execution_count": 86,
     "metadata": {},
     "output_type": "execute_result"
    }
   ],
   "source": [
    "data['days_exposition'].loc[data['days_exposition'] > 0].describe()"
   ]
  },
  {
   "cell_type": "markdown",
   "metadata": {},
   "source": [
    "В общем, 1 квартиль лежит на уровне 45 дней, но на уровне субъективной оценки - это довольно большой срок для недорогих \"народных\" вариантов жилья, поэтому на средние и медианные значения имеет смысль посмотреть через призму количества комнат в квартире. \n",
    "\n",
    "Необычно долгим же значение можно назвать все, что более 1 года (хотя 3 квартиль лежит на отметке в 230 дней). Субъективно, записи с временем продажи более 1 года вызывают вопросы относительно своей достоверности. "
   ]
  },
  {
   "cell_type": "code",
   "execution_count": 87,
   "metadata": {},
   "outputs": [
    {
     "data": {
      "image/png": "[encoded data removed]",
      "text/plain": [
       "<Figure size 1152x576 with 1 Axes>"
      ]
     },
     "metadata": {
      "needs_background": "light"
     },
     "output_type": "display_data"
    }
   ],
   "source": [
    "#ограничим количество корзин в гистограмме количеством возможных вариантов количества комнат в квартире - 7\n",
    "plt.figure(figsize=[16,8])\n",
    "plt.hist(x=data['days_exposition'].loc[data['days_exposition'] > 0], bins=25, ec='black')\n",
    "plt.grid(axis='y', alpha=0.5)\n",
    "plt.xlabel('Количество дней с момента публикации объявления',fontsize=12)\n",
    "#plt.axvline(x=data['rooms'].median(), color='r', label='Median total area')\n",
    "#plt.axvline(x=np.percentile(data['total_area'], 99), color='g', label='99th percentile')\n",
    "#plt.legend()\n",
    "plt.title('Распределение наблюдений в датасете по времени с момента публикации объявления', fontsize=15)\n",
    "plt.show()"
   ]
  },
  {
   "cell_type": "code",
   "execution_count": 88,
   "metadata": {},
   "outputs": [
    {
     "data": {
      "text/html": [
       "<div>\n",
       "<style scoped>\n",
       "    .dataframe tbody tr th:only-of-type {\n",
       "        vertical-align: middle;\n",
       "    }\n",
       "\n",
       "    .dataframe tbody tr th {\n",
       "        vertical-align: top;\n",
       "    }\n",
       "\n",
       "    .dataframe thead tr th {\n",
       "        text-align: left;\n",
       "    }\n",
       "\n",
       "    .dataframe thead tr:last-of-type th {\n",
       "        text-align: right;\n",
       "    }\n",
       "</style>\n",
       "<table border=\"1\" class=\"dataframe\">\n",
       "  <thead>\n",
       "    <tr>\n",
       "      <th></th>\n",
       "      <th></th>\n",
       "      <th colspan=\"2\" halign=\"left\">mean</th>\n",
       "      <th colspan=\"2\" halign=\"left\">median</th>\n",
       "    </tr>\n",
       "    <tr>\n",
       "      <th></th>\n",
       "      <th></th>\n",
       "      <th>days_exposition</th>\n",
       "      <th>last_price_mlns</th>\n",
       "      <th>days_exposition</th>\n",
       "      <th>last_price_mlns</th>\n",
       "    </tr>\n",
       "    <tr>\n",
       "      <th>urban_group</th>\n",
       "      <th>rooms</th>\n",
       "      <th></th>\n",
       "      <th></th>\n",
       "      <th></th>\n",
       "      <th></th>\n",
       "    </tr>\n",
       "  </thead>\n",
       "  <tbody>\n",
       "    <tr>\n",
       "      <td rowspan=\"6\" valign=\"top\">Областной город</td>\n",
       "      <td>1</td>\n",
       "      <td>167.415833</td>\n",
       "      <td>2.728805</td>\n",
       "      <td>84.0</td>\n",
       "      <td>2.650</td>\n",
       "    </tr>\n",
       "    <tr>\n",
       "      <td>2</td>\n",
       "      <td>181.107874</td>\n",
       "      <td>3.546827</td>\n",
       "      <td>98.0</td>\n",
       "      <td>3.250</td>\n",
       "    </tr>\n",
       "    <tr>\n",
       "      <td>3</td>\n",
       "      <td>197.707835</td>\n",
       "      <td>4.603246</td>\n",
       "      <td>114.0</td>\n",
       "      <td>4.150</td>\n",
       "    </tr>\n",
       "    <tr>\n",
       "      <td>4</td>\n",
       "      <td>237.623762</td>\n",
       "      <td>6.226142</td>\n",
       "      <td>155.0</td>\n",
       "      <td>4.600</td>\n",
       "    </tr>\n",
       "    <tr>\n",
       "      <td>5</td>\n",
       "      <td>173.000000</td>\n",
       "      <td>7.555263</td>\n",
       "      <td>117.0</td>\n",
       "      <td>5.900</td>\n",
       "    </tr>\n",
       "    <tr>\n",
       "      <td>6</td>\n",
       "      <td>96.000000</td>\n",
       "      <td>10.300000</td>\n",
       "      <td>96.0</td>\n",
       "      <td>10.300</td>\n",
       "    </tr>\n",
       "    <tr>\n",
       "      <td rowspan=\"7\" valign=\"top\">Санкт-Петербург</td>\n",
       "      <td>1</td>\n",
       "      <td>155.205895</td>\n",
       "      <td>4.448363</td>\n",
       "      <td>76.0</td>\n",
       "      <td>4.070</td>\n",
       "    </tr>\n",
       "    <tr>\n",
       "      <td>2</td>\n",
       "      <td>171.015464</td>\n",
       "      <td>6.760507</td>\n",
       "      <td>90.0</td>\n",
       "      <td>5.650</td>\n",
       "    </tr>\n",
       "    <tr>\n",
       "      <td>3</td>\n",
       "      <td>205.360942</td>\n",
       "      <td>9.488202</td>\n",
       "      <td>114.0</td>\n",
       "      <td>7.160</td>\n",
       "    </tr>\n",
       "    <tr>\n",
       "      <td>4</td>\n",
       "      <td>257.502003</td>\n",
       "      <td>13.060880</td>\n",
       "      <td>155.0</td>\n",
       "      <td>9.875</td>\n",
       "    </tr>\n",
       "    <tr>\n",
       "      <td>5</td>\n",
       "      <td>290.403409</td>\n",
       "      <td>16.106623</td>\n",
       "      <td>163.5</td>\n",
       "      <td>12.945</td>\n",
       "    </tr>\n",
       "    <tr>\n",
       "      <td>6</td>\n",
       "      <td>281.150000</td>\n",
       "      <td>16.778246</td>\n",
       "      <td>192.0</td>\n",
       "      <td>13.500</td>\n",
       "    </tr>\n",
       "    <tr>\n",
       "      <td>7</td>\n",
       "      <td>182.727273</td>\n",
       "      <td>18.682000</td>\n",
       "      <td>130.0</td>\n",
       "      <td>16.750</td>\n",
       "    </tr>\n",
       "    <tr>\n",
       "      <td rowspan=\"6\" valign=\"top\">Сельская местность</td>\n",
       "      <td>1</td>\n",
       "      <td>158.124321</td>\n",
       "      <td>2.852232</td>\n",
       "      <td>86.0</td>\n",
       "      <td>2.900</td>\n",
       "    </tr>\n",
       "    <tr>\n",
       "      <td>2</td>\n",
       "      <td>173.300847</td>\n",
       "      <td>3.424043</td>\n",
       "      <td>97.5</td>\n",
       "      <td>3.400</td>\n",
       "    </tr>\n",
       "    <tr>\n",
       "      <td>3</td>\n",
       "      <td>201.951140</td>\n",
       "      <td>4.435089</td>\n",
       "      <td>118.5</td>\n",
       "      <td>4.400</td>\n",
       "    </tr>\n",
       "    <tr>\n",
       "      <td>4</td>\n",
       "      <td>235.016949</td>\n",
       "      <td>5.287143</td>\n",
       "      <td>172.0</td>\n",
       "      <td>4.940</td>\n",
       "    </tr>\n",
       "    <tr>\n",
       "      <td>5</td>\n",
       "      <td>273.375000</td>\n",
       "      <td>6.451333</td>\n",
       "      <td>157.0</td>\n",
       "      <td>5.500</td>\n",
       "    </tr>\n",
       "    <tr>\n",
       "      <td>6</td>\n",
       "      <td>357.500000</td>\n",
       "      <td>14.400000</td>\n",
       "      <td>357.5</td>\n",
       "      <td>14.400</td>\n",
       "    </tr>\n",
       "  </tbody>\n",
       "</table>\n",
       "</div>"
      ],
      "text/plain": [
       "                                    mean                          median  \\\n",
       "                         days_exposition last_price_mlns days_exposition   \n",
       "urban_group        rooms                                                   \n",
       "Областной город    1          167.415833        2.728805            84.0   \n",
       "                   2          181.107874        3.546827            98.0   \n",
       "                   3          197.707835        4.603246           114.0   \n",
       "                   4          237.623762        6.226142           155.0   \n",
       "                   5          173.000000        7.555263           117.0   \n",
       "                   6           96.000000       10.300000            96.0   \n",
       "Санкт-Петербург    1          155.205895        4.448363            76.0   \n",
       "                   2          171.015464        6.760507            90.0   \n",
       "                   3          205.360942        9.488202           114.0   \n",
       "                   4          257.502003       13.060880           155.0   \n",
       "                   5          290.403409       16.106623           163.5   \n",
       "                   6          281.150000       16.778246           192.0   \n",
       "                   7          182.727273       18.682000           130.0   \n",
       "Сельская местность 1          158.124321        2.852232            86.0   \n",
       "                   2          173.300847        3.424043            97.5   \n",
       "                   3          201.951140        4.435089           118.5   \n",
       "                   4          235.016949        5.287143           172.0   \n",
       "                   5          273.375000        6.451333           157.0   \n",
       "                   6          357.500000       14.400000           357.5   \n",
       "\n",
       "                                          \n",
       "                         last_price_mlns  \n",
       "urban_group        rooms                  \n",
       "Областной город    1               2.650  \n",
       "                   2               3.250  \n",
       "                   3               4.150  \n",
       "                   4               4.600  \n",
       "                   5               5.900  \n",
       "                   6              10.300  \n",
       "Санкт-Петербург    1               4.070  \n",
       "                   2               5.650  \n",
       "                   3               7.160  \n",
       "                   4               9.875  \n",
       "                   5              12.945  \n",
       "                   6              13.500  \n",
       "                   7              16.750  \n",
       "Сельская местность 1               2.900  \n",
       "                   2               3.400  \n",
       "                   3               4.400  \n",
       "                   4               4.940  \n",
       "                   5               5.500  \n",
       "                   6              14.400  "
      ]
     },
     "execution_count": 88,
     "metadata": {},
     "output_type": "execute_result"
    }
   ],
   "source": [
    "data.pivot_table(index=['urban_group', 'rooms'], values=['days_exposition', 'last_price_mlns'], aggfunc=['mean', 'median'])"
   ]
  },
  {
   "cell_type": "code",
   "execution_count": 114,
   "metadata": {},
   "outputs": [
    {
     "name": "stdout",
     "output_type": "stream",
     "text": [
      "Количество удаленных из датасета наблюдений: 1.10%\n"
     ]
    }
   ],
   "source": [
    "print('Количество удаленных из датасета наблюдений: {:.2%}'.format(1 - (len(data)/initial_dataset_lenght)))"
   ]
  },
  {
   "cell_type": "markdown",
   "metadata": {},
   "source": [
    "**Из полученной сводной таблицы можем сделать следующие выводы:**\n",
    "\n",
    "1) Время продажи до 45 дней действительно можно считать хорошим. Условно, можно говорить о месяце как действительно \"хорошем\" времени продажи. Наша гипотеза не подтвердилась;\n",
    "\n",
    "2) Мы видим, что \"экономичные\" варианты (1 и 2 комнаты) продаются максимально быстро в Санкт-Петербурге. Начиная с 3 и более комнат в квартире ситуация меняется - среднее время продажи для Санкт-Петербурга растет, а для области сокращается - вероятно; \n",
    "\n",
    "3) Обратная пропорциональная зависимость, вероятней всего, обусловлена средней стоимостью объекта недвижимости в Санкт-Петербурге и области (например, медианная стоимость двухкомнатной квартиры в СПб находится на уровне 4-5 комнатной квартиры в области). \n",
    "\n",
    "Все эти выводы, при необходимости, можно детализировать и уточнить через более глубокую сегментацию данных. "
   ]
  },
  {
   "cell_type": "markdown",
   "metadata": {},
   "source": [
    "#### Анализ факторов, влияющих на стоимость продажи квартиры"
   ]
  },
  {
   "cell_type": "markdown",
   "metadata": {},
   "source": [
    "В числе факторов, от которых потенциально может зависить стоимость объекта, по условию задания следующие:\n",
    "\n",
    "- Цена 1 квадратного метра недвижимости\n",
    "- Число комнат\n",
    "- Этаж (первый или последний)\n",
    "- Удаленность от центра\n",
    "\n",
    "Таким образом, пул значений для проверки будет ограничен следующими критериями:\n",
    "\n",
    "- Этаж первый или последний (промежуточные значения не учитываем)\n",
    "- Удаленность от центра должна быть указана\n"
   ]
  },
  {
   "cell_type": "code",
   "execution_count": 90,
   "metadata": {},
   "outputs": [
    {
     "data": {
      "text/plain": [
       "4257"
      ]
     },
     "execution_count": 90,
     "metadata": {},
     "output_type": "execute_result"
    }
   ],
   "source": [
    "len(data.loc[(data['cityCenters_nearest'].isnull() == False) & (data['floor_quality'] != 'Другой')])"
   ]
  },
  {
   "cell_type": "markdown",
   "metadata": {},
   "source": [
    "Для надежности стоит проверить записей в датасете, которые имеют указанное значение расстояния до центра, но при этом не принадлежат к локации \"Санкт-Петербург\" для ответа на вопрос: \"Не указано ли расстояние у таких записей до центра другого города\". "
   ]
  },
  {
   "cell_type": "code",
   "execution_count": 91,
   "metadata": {},
   "outputs": [
    {
     "data": {
      "text/plain": [
       "п. Шушары             436\n",
       "Пушкин                363\n",
       "Колпино               336\n",
       "п. Парголово          326\n",
       "Петергоф              200\n",
       "Сестрорецк            182\n",
       "Красное Село          174\n",
       "Ломоносов             132\n",
       "Кронштадт              94\n",
       "п. Металлострой        65\n",
       "п. Стрельна            42\n",
       "Не указано             41\n",
       "Павловск               38\n",
       "Зеленогорск            24\n",
       "п. Понтонный           20\n",
       "п. Сапёрный             6\n",
       "п. Молодёжное           5\n",
       "п. Репино               4\n",
       "п. Песочный             4\n",
       "п. Лисий Нос            3\n",
       "п. Александровская      2\n",
       "п. Мурино               2\n",
       "п. Усть-Ижора           2\n",
       "п. Белоостров           1\n",
       "п. Петро-Славянка       1\n",
       "п. Левашово             1\n",
       "п. Щеглово              1\n",
       "Name: locality_name, dtype: int64"
      ]
     },
     "execution_count": 91,
     "metadata": {},
     "output_type": "execute_result"
    }
   ],
   "source": [
    "#Посмотрим, как распределились такие значения по населенным пунктам\n",
    "data.loc[(data['cityCenters_nearest'].isnull() == False) & (data['locality_name'] != 'Санкт-Петербург'), 'locality_name'].value_counts()"
   ]
  },
  {
   "cell_type": "markdown",
   "metadata": {},
   "source": [
    "Так как я не обладаю экспертизой в областных городах-сателлитах Санкт-Петербурга, посмотрим на среднее расстояние до центра города по этим населенным пунктам:"
   ]
  },
  {
   "cell_type": "code",
   "execution_count": 92,
   "metadata": {},
   "outputs": [
    {
     "data": {
      "text/html": [
       "<div>\n",
       "<style scoped>\n",
       "    .dataframe tbody tr th:only-of-type {\n",
       "        vertical-align: middle;\n",
       "    }\n",
       "\n",
       "    .dataframe tbody tr th {\n",
       "        vertical-align: top;\n",
       "    }\n",
       "\n",
       "    .dataframe thead th {\n",
       "        text-align: right;\n",
       "    }\n",
       "</style>\n",
       "<table border=\"1\" class=\"dataframe\">\n",
       "  <thead>\n",
       "    <tr style=\"text-align: right;\">\n",
       "      <th></th>\n",
       "      <th>cityCenters_nearest</th>\n",
       "    </tr>\n",
       "    <tr>\n",
       "      <th>locality_name</th>\n",
       "      <th></th>\n",
       "    </tr>\n",
       "  </thead>\n",
       "  <tbody>\n",
       "    <tr>\n",
       "      <td>Зеленогорск</td>\n",
       "      <td>54617.583333</td>\n",
       "    </tr>\n",
       "    <tr>\n",
       "      <td>Колпино</td>\n",
       "      <td>32107.764881</td>\n",
       "    </tr>\n",
       "    <tr>\n",
       "      <td>Красное Село</td>\n",
       "      <td>30033.672414</td>\n",
       "    </tr>\n",
       "    <tr>\n",
       "      <td>Кронштадт</td>\n",
       "      <td>49192.617021</td>\n",
       "    </tr>\n",
       "    <tr>\n",
       "      <td>Ломоносов</td>\n",
       "      <td>50739.969697</td>\n",
       "    </tr>\n",
       "    <tr>\n",
       "      <td>Не указано</td>\n",
       "      <td>11278.902439</td>\n",
       "    </tr>\n",
       "    <tr>\n",
       "      <td>Павловск</td>\n",
       "      <td>33206.921053</td>\n",
       "    </tr>\n",
       "    <tr>\n",
       "      <td>Петергоф</td>\n",
       "      <td>35475.360000</td>\n",
       "    </tr>\n",
       "    <tr>\n",
       "      <td>Пушкин</td>\n",
       "      <td>28742.195592</td>\n",
       "    </tr>\n",
       "    <tr>\n",
       "      <td>Сестрорецк</td>\n",
       "      <td>34630.565934</td>\n",
       "    </tr>\n",
       "    <tr>\n",
       "      <td>п. Александровская</td>\n",
       "      <td>27468.000000</td>\n",
       "    </tr>\n",
       "    <tr>\n",
       "      <td>п. Белоостров</td>\n",
       "      <td>38868.000000</td>\n",
       "    </tr>\n",
       "    <tr>\n",
       "      <td>п. Левашово</td>\n",
       "      <td>25727.000000</td>\n",
       "    </tr>\n",
       "    <tr>\n",
       "      <td>п. Лисий Нос</td>\n",
       "      <td>27613.333333</td>\n",
       "    </tr>\n",
       "    <tr>\n",
       "      <td>п. Металлострой</td>\n",
       "      <td>27570.292308</td>\n",
       "    </tr>\n",
       "    <tr>\n",
       "      <td>п. Молодёжное</td>\n",
       "      <td>65529.200000</td>\n",
       "    </tr>\n",
       "    <tr>\n",
       "      <td>п. Мурино</td>\n",
       "      <td>21888.000000</td>\n",
       "    </tr>\n",
       "    <tr>\n",
       "      <td>п. Парголово</td>\n",
       "      <td>19922.506135</td>\n",
       "    </tr>\n",
       "    <tr>\n",
       "      <td>п. Песочный</td>\n",
       "      <td>26475.250000</td>\n",
       "    </tr>\n",
       "    <tr>\n",
       "      <td>п. Петро-Славянка</td>\n",
       "      <td>27165.000000</td>\n",
       "    </tr>\n",
       "    <tr>\n",
       "      <td>п. Понтонный</td>\n",
       "      <td>32293.450000</td>\n",
       "    </tr>\n",
       "    <tr>\n",
       "      <td>п. Репино</td>\n",
       "      <td>43392.250000</td>\n",
       "    </tr>\n",
       "    <tr>\n",
       "      <td>п. Сапёрный</td>\n",
       "      <td>35854.666667</td>\n",
       "    </tr>\n",
       "    <tr>\n",
       "      <td>п. Стрельна</td>\n",
       "      <td>23346.214286</td>\n",
       "    </tr>\n",
       "    <tr>\n",
       "      <td>п. Усть-Ижора</td>\n",
       "      <td>28222.500000</td>\n",
       "    </tr>\n",
       "    <tr>\n",
       "      <td>п. Шушары</td>\n",
       "      <td>24243.387615</td>\n",
       "    </tr>\n",
       "    <tr>\n",
       "      <td>п. Щеглово</td>\n",
       "      <td>34085.000000</td>\n",
       "    </tr>\n",
       "  </tbody>\n",
       "</table>\n",
       "</div>"
      ],
      "text/plain": [
       "                    cityCenters_nearest\n",
       "locality_name                          \n",
       "Зеленогорск                54617.583333\n",
       "Колпино                    32107.764881\n",
       "Красное Село               30033.672414\n",
       "Кронштадт                  49192.617021\n",
       "Ломоносов                  50739.969697\n",
       "Не указано                 11278.902439\n",
       "Павловск                   33206.921053\n",
       "Петергоф                   35475.360000\n",
       "Пушкин                     28742.195592\n",
       "Сестрорецк                 34630.565934\n",
       "п. Александровская         27468.000000\n",
       "п. Белоостров              38868.000000\n",
       "п. Левашово                25727.000000\n",
       "п. Лисий Нос               27613.333333\n",
       "п. Металлострой            27570.292308\n",
       "п. Молодёжное              65529.200000\n",
       "п. Мурино                  21888.000000\n",
       "п. Парголово               19922.506135\n",
       "п. Песочный                26475.250000\n",
       "п. Петро-Славянка          27165.000000\n",
       "п. Понтонный               32293.450000\n",
       "п. Репино                  43392.250000\n",
       "п. Сапёрный                35854.666667\n",
       "п. Стрельна                23346.214286\n",
       "п. Усть-Ижора              28222.500000\n",
       "п. Шушары                  24243.387615\n",
       "п. Щеглово                 34085.000000"
      ]
     },
     "execution_count": 92,
     "metadata": {},
     "output_type": "execute_result"
    }
   ],
   "source": [
    "data.loc[(data['cityCenters_nearest'].isnull() == False) & (data['locality_name'] != 'Санкт-Петербург')]\\\n",
    ".pivot_table(index='locality_name', values='cityCenters_nearest')"
   ]
  },
  {
   "cell_type": "markdown",
   "metadata": {},
   "source": [
    "Построим матрицу корреляции между интересующими нас параметрами каждого объекта недвижимости:"
   ]
  },
  {
   "cell_type": "code",
   "execution_count": 93,
   "metadata": {},
   "outputs": [
    {
     "data": {
      "text/html": [
       "<div>\n",
       "<style scoped>\n",
       "    .dataframe tbody tr th:only-of-type {\n",
       "        vertical-align: middle;\n",
       "    }\n",
       "\n",
       "    .dataframe tbody tr th {\n",
       "        vertical-align: top;\n",
       "    }\n",
       "\n",
       "    .dataframe thead th {\n",
       "        text-align: right;\n",
       "    }\n",
       "</style>\n",
       "<table border=\"1\" class=\"dataframe\">\n",
       "  <thead>\n",
       "    <tr style=\"text-align: right;\">\n",
       "      <th></th>\n",
       "      <th>last_price</th>\n",
       "      <th>price_per_sqm</th>\n",
       "      <th>total_area</th>\n",
       "      <th>rooms</th>\n",
       "      <th>floor</th>\n",
       "      <th>cityCenters_nearest</th>\n",
       "    </tr>\n",
       "  </thead>\n",
       "  <tbody>\n",
       "    <tr>\n",
       "      <td>last_price</td>\n",
       "      <td>1.000000</td>\n",
       "      <td>0.827793</td>\n",
       "      <td>0.599550</td>\n",
       "      <td>0.333698</td>\n",
       "      <td>0.070508</td>\n",
       "      <td>-0.219183</td>\n",
       "    </tr>\n",
       "    <tr>\n",
       "      <td>price_per_sqm</td>\n",
       "      <td>0.827793</td>\n",
       "      <td>1.000000</td>\n",
       "      <td>0.215544</td>\n",
       "      <td>-0.021565</td>\n",
       "      <td>0.110979</td>\n",
       "      <td>-0.297661</td>\n",
       "    </tr>\n",
       "    <tr>\n",
       "      <td>total_area</td>\n",
       "      <td>0.599550</td>\n",
       "      <td>0.215544</td>\n",
       "      <td>1.000000</td>\n",
       "      <td>0.766221</td>\n",
       "      <td>0.049230</td>\n",
       "      <td>-0.190944</td>\n",
       "    </tr>\n",
       "    <tr>\n",
       "      <td>rooms</td>\n",
       "      <td>0.333698</td>\n",
       "      <td>-0.021565</td>\n",
       "      <td>0.766221</td>\n",
       "      <td>1.000000</td>\n",
       "      <td>-0.073014</td>\n",
       "      <td>-0.161948</td>\n",
       "    </tr>\n",
       "    <tr>\n",
       "      <td>floor</td>\n",
       "      <td>0.070508</td>\n",
       "      <td>0.110979</td>\n",
       "      <td>0.049230</td>\n",
       "      <td>-0.073014</td>\n",
       "      <td>1.000000</td>\n",
       "      <td>-0.046394</td>\n",
       "    </tr>\n",
       "    <tr>\n",
       "      <td>cityCenters_nearest</td>\n",
       "      <td>-0.219183</td>\n",
       "      <td>-0.297661</td>\n",
       "      <td>-0.190944</td>\n",
       "      <td>-0.161948</td>\n",
       "      <td>-0.046394</td>\n",
       "      <td>1.000000</td>\n",
       "    </tr>\n",
       "  </tbody>\n",
       "</table>\n",
       "</div>"
      ],
      "text/plain": [
       "                     last_price  price_per_sqm  total_area     rooms  \\\n",
       "last_price             1.000000       0.827793    0.599550  0.333698   \n",
       "price_per_sqm          0.827793       1.000000    0.215544 -0.021565   \n",
       "total_area             0.599550       0.215544    1.000000  0.766221   \n",
       "rooms                  0.333698      -0.021565    0.766221  1.000000   \n",
       "floor                  0.070508       0.110979    0.049230 -0.073014   \n",
       "cityCenters_nearest   -0.219183      -0.297661   -0.190944 -0.161948   \n",
       "\n",
       "                        floor  cityCenters_nearest  \n",
       "last_price           0.070508            -0.219183  \n",
       "price_per_sqm        0.110979            -0.297661  \n",
       "total_area           0.049230            -0.190944  \n",
       "rooms               -0.073014            -0.161948  \n",
       "floor                1.000000            -0.046394  \n",
       "cityCenters_nearest -0.046394             1.000000  "
      ]
     },
     "execution_count": 93,
     "metadata": {},
     "output_type": "execute_result"
    }
   ],
   "source": [
    "data.loc[(data['cityCenters_nearest'].isnull() == False) & (data['floor_quality'] != 'Другой')]\\\n",
    "[['last_price', 'price_per_sqm', 'total_area', 'rooms', 'floor', 'cityCenters_nearest']].corr()"
   ]
  },
  {
   "cell_type": "markdown",
   "metadata": {},
   "source": [
    "1) Видна довольна очевидная сильная корреляция между общей стоимостью объекта недвижимости и ценой 1 квадратного метра;\n",
    "\n",
    "2) Присутствует слабая корреляция между количеством комнат и стоимостью объекта недвижимости - это вполне объяснимый факт, так как количество комнат не позволяет в полной мере охарактеризовать качество объекта в целом (например, комнаты могут быть многочисленными, но малогабаритными)\n",
    "\n",
    "3) Наиболее интересная зависимость между расстоянием до центра города и стоимостью одного квадратного метра недвижимости - она слабая и отрицательная (то есть, уменьшение одного параметра влияет на рост другого), но довольно существенно выделяется на фоне остальных метрик, поэтому имеет смысл принимать ее во внимание при оценке недвижимости;\n",
    "\n",
    "4) Очень слабая отрицательная корреляция между ценой объекта в общем и расстоянием от этого объекта до центра города, а также между расстоянием и количеством комнат. "
   ]
  },
  {
   "cell_type": "code",
   "execution_count": 94,
   "metadata": {},
   "outputs": [
    {
     "data": {
      "image/png": "[encoded data removed]",
      "text/plain": [
       "<Figure size 1152x576 with 1 Axes>"
      ]
     },
     "metadata": {
      "needs_background": "light"
     },
     "output_type": "display_data"
    }
   ],
   "source": [
    "analysis = data.loc[(data['cityCenters_nearest'].isnull() == False)]\\\n",
    ".pivot_table(index='weekday_published', values='last_price_mlns').sort_values('weekday_published')\n",
    "analysis = analysis.reset_index()\n",
    "\n",
    "index = analysis['weekday_published']\n",
    "values = analysis['last_price_mlns']\n",
    "\n",
    "plt.figure(figsize=[16,8])\n",
    "plt.bar(index, values, ec='black')\n",
    "plt.ylabel('Средняя цена в млн. руб.',fontsize=12)\n",
    "plt.xlabel('День недели',fontsize=12)\n",
    "plt.show()"
   ]
  },
  {
   "cell_type": "markdown",
   "metadata": {},
   "source": [
    "Средняя цена объекта недвижимости примерно равна и находится у отметки в 7 миллионов рублей. "
   ]
  },
  {
   "cell_type": "code",
   "execution_count": 95,
   "metadata": {},
   "outputs": [
    {
     "data": {
      "text/html": [
       "<div>\n",
       "<style scoped>\n",
       "    .dataframe tbody tr th:only-of-type {\n",
       "        vertical-align: middle;\n",
       "    }\n",
       "\n",
       "    .dataframe tbody tr th {\n",
       "        vertical-align: top;\n",
       "    }\n",
       "\n",
       "    .dataframe thead th {\n",
       "        text-align: right;\n",
       "    }\n",
       "</style>\n",
       "<table border=\"1\" class=\"dataframe\">\n",
       "  <thead>\n",
       "    <tr style=\"text-align: right;\">\n",
       "      <th></th>\n",
       "      <th>first_day_exposition</th>\n",
       "      <th>last_price_mlns</th>\n",
       "      <th>month_published</th>\n",
       "      <th>year_published</th>\n",
       "    </tr>\n",
       "  </thead>\n",
       "  <tbody>\n",
       "    <tr>\n",
       "      <td>6023</td>\n",
       "      <td>2018-07-19</td>\n",
       "      <td>11.30</td>\n",
       "      <td>7</td>\n",
       "      <td>2018</td>\n",
       "    </tr>\n",
       "    <tr>\n",
       "      <td>655</td>\n",
       "      <td>2018-07-16</td>\n",
       "      <td>3.72</td>\n",
       "      <td>7</td>\n",
       "      <td>2018</td>\n",
       "    </tr>\n",
       "    <tr>\n",
       "      <td>20049</td>\n",
       "      <td>2016-05-29</td>\n",
       "      <td>3.85</td>\n",
       "      <td>5</td>\n",
       "      <td>2016</td>\n",
       "    </tr>\n",
       "    <tr>\n",
       "      <td>8088</td>\n",
       "      <td>2018-03-06</td>\n",
       "      <td>4.60</td>\n",
       "      <td>3</td>\n",
       "      <td>2018</td>\n",
       "    </tr>\n",
       "    <tr>\n",
       "      <td>17429</td>\n",
       "      <td>2017-11-21</td>\n",
       "      <td>31.49</td>\n",
       "      <td>11</td>\n",
       "      <td>2017</td>\n",
       "    </tr>\n",
       "    <tr>\n",
       "      <td>7119</td>\n",
       "      <td>2018-06-01</td>\n",
       "      <td>3.65</td>\n",
       "      <td>6</td>\n",
       "      <td>2018</td>\n",
       "    </tr>\n",
       "    <tr>\n",
       "      <td>14308</td>\n",
       "      <td>2018-10-03</td>\n",
       "      <td>4.00</td>\n",
       "      <td>10</td>\n",
       "      <td>2018</td>\n",
       "    </tr>\n",
       "    <tr>\n",
       "      <td>17662</td>\n",
       "      <td>2019-03-06</td>\n",
       "      <td>23.50</td>\n",
       "      <td>3</td>\n",
       "      <td>2019</td>\n",
       "    </tr>\n",
       "    <tr>\n",
       "      <td>7492</td>\n",
       "      <td>2017-07-27</td>\n",
       "      <td>2.80</td>\n",
       "      <td>7</td>\n",
       "      <td>2017</td>\n",
       "    </tr>\n",
       "    <tr>\n",
       "      <td>12662</td>\n",
       "      <td>2018-05-17</td>\n",
       "      <td>4.65</td>\n",
       "      <td>5</td>\n",
       "      <td>2018</td>\n",
       "    </tr>\n",
       "  </tbody>\n",
       "</table>\n",
       "</div>"
      ],
      "text/plain": [
       "      first_day_exposition  last_price_mlns  month_published  year_published\n",
       "6023            2018-07-19            11.30                7            2018\n",
       "655             2018-07-16             3.72                7            2018\n",
       "20049           2016-05-29             3.85                5            2016\n",
       "8088            2018-03-06             4.60                3            2018\n",
       "17429           2017-11-21            31.49               11            2017\n",
       "7119            2018-06-01             3.65                6            2018\n",
       "14308           2018-10-03             4.00               10            2018\n",
       "17662           2019-03-06            23.50                3            2019\n",
       "7492            2017-07-27             2.80                7            2017\n",
       "12662           2018-05-17             4.65                5            2018"
      ]
     },
     "execution_count": 95,
     "metadata": {},
     "output_type": "execute_result"
    }
   ],
   "source": [
    "analysis = data.loc[(data['cityCenters_nearest'].isnull() == False),\\\n",
    "['first_day_exposition', 'last_price_mlns']]\n",
    "analysis['month_published'] = pd.to_datetime(data['first_day_exposition']).dt.month\n",
    "analysis['year_published'] = pd.to_datetime(data['first_day_exposition']).dt.year\n",
    "#если в первом случае мы воспользовались днем недели, который добавили в исходный датафрейм изначально, то для\n",
    "#построения графиков по месяцу и году используем отдельный небольшой датафрейм с нужными данными\n",
    "\n",
    "analysis.sample(10)"
   ]
  },
  {
   "cell_type": "code",
   "execution_count": 96,
   "metadata": {},
   "outputs": [
    {
     "data": {
      "image/png": "[encoded data removed]",
      "text/plain": [
       "<Figure size 1152x576 with 1 Axes>"
      ]
     },
     "metadata": {
      "needs_background": "light"
     },
     "output_type": "display_data"
    }
   ],
   "source": [
    "month_pivot = analysis.pivot_table(index='month_published', values='last_price_mlns').sort_values('month_published')\n",
    "month_pivot = month_pivot.reset_index()\n",
    "\n",
    "index = month_pivot['month_published']\n",
    "values = month_pivot['last_price_mlns']\n",
    "\n",
    "plt.figure(figsize=[16,8])\n",
    "plt.bar(index, values, ec='black')\n",
    "plt.ylabel('Средняя цена в млн. руб.',fontsize=12)\n",
    "plt.xlabel('Месяц публикации объявления',fontsize=12)\n",
    "plt.xticks(np.arange(0, 13, step=1))\n",
    "plt.show()"
   ]
  },
  {
   "cell_type": "markdown",
   "metadata": {},
   "source": [
    "По месяцам публикации также не удается увидеть какие-то значимые отличия. Единственное, что привлекает внимание - это колебания средней стоимости ближе к концу года. Вероятно есть некоторые изменения в активности спроса, но не столь существенные. "
   ]
  },
  {
   "cell_type": "code",
   "execution_count": 97,
   "metadata": {},
   "outputs": [
    {
     "data": {
      "image/png": "[encoded data removed]",
      "text/plain": [
       "<Figure size 1152x576 with 1 Axes>"
      ]
     },
     "metadata": {
      "needs_background": "light"
     },
     "output_type": "display_data"
    }
   ],
   "source": [
    "yr_pivot = analysis.pivot_table(index='year_published', values='last_price_mlns').sort_values('year_published')\n",
    "yr_pivot = yr_pivot.reset_index()\n",
    "\n",
    "index = yr_pivot['year_published']\n",
    "values = yr_pivot['last_price_mlns']\n",
    "\n",
    "plt.figure(figsize=[16,8])\n",
    "plt.bar(index, values, ec='black')\n",
    "plt.ylabel('Средняя цена в млн. руб.',fontsize=12)\n",
    "plt.xlabel('Год публикации объявления',fontsize=12)\n",
    "plt.show()"
   ]
  },
  {
   "cell_type": "markdown",
   "metadata": {},
   "source": [
    "Наиболее выраженный перепад мы наблюдаем при анализе средней цены объекта недвижимости за год - мы видим двухкратное снижение в период между 2014 и 2015 годами. В 2016-2017 годах продолжается снижение, но минимальное. Можно предположить, что резкий спад обусловлен последствиями начавшегося экономического кризиса и резкого снижения доходов населения. Влоть до 2018 года средняя цена объекта недвижимости снижалась и только в 2019 году начала расти. \n",
    "\n",
    "Гипотеза: снижение стоимости на \"люксовую\" недвижимость вкупе с ростом спроса на бюджетные объекты - это два ключевых драйвера рыночной тенденции, представленной на графике. "
   ]
  },
  {
   "cell_type": "code",
   "execution_count": 98,
   "metadata": {},
   "outputs": [
    {
     "data": {
      "text/html": [
       "<div>\n",
       "<style scoped>\n",
       "    .dataframe tbody tr th:only-of-type {\n",
       "        vertical-align: middle;\n",
       "    }\n",
       "\n",
       "    .dataframe tbody tr th {\n",
       "        vertical-align: top;\n",
       "    }\n",
       "\n",
       "    .dataframe thead th {\n",
       "        text-align: right;\n",
       "    }\n",
       "</style>\n",
       "<table border=\"1\" class=\"dataframe\">\n",
       "  <thead>\n",
       "    <tr style=\"text-align: right;\">\n",
       "      <th></th>\n",
       "      <th>last_price_mlns</th>\n",
       "    </tr>\n",
       "    <tr>\n",
       "      <th>month_published</th>\n",
       "      <th></th>\n",
       "    </tr>\n",
       "  </thead>\n",
       "  <tbody>\n",
       "    <tr>\n",
       "      <td>11</td>\n",
       "      <td>13.538000</td>\n",
       "    </tr>\n",
       "    <tr>\n",
       "      <td>12</td>\n",
       "      <td>12.239239</td>\n",
       "    </tr>\n",
       "  </tbody>\n",
       "</table>\n",
       "</div>"
      ],
      "text/plain": [
       "                 last_price_mlns\n",
       "month_published                 \n",
       "11                     13.538000\n",
       "12                     12.239239"
      ]
     },
     "metadata": {},
     "output_type": "display_data"
    }
   ],
   "source": [
    "yr_pivot_2014 = analysis.loc[analysis['year_published'] == 2014].pivot_table(index='month_published',\\\n",
    "values='last_price_mlns')\n",
    "display(yr_pivot_2014)"
   ]
  },
  {
   "cell_type": "markdown",
   "metadata": {},
   "source": [
    "Мы видим, что располагаем информацией об опубликованных в 2014 году объявлениях только за два месяца: ноябрь и декабрь. Это менее 20% данных по году, поэтому выводы на базе этой информации будут еще менее точными. Однако, мы понимаем, что кризис в 2014 году начался ранее и такие цены на недвижимость в конце года - это попытка \"заморозить\" деньги, обсуловленная резким падением курса валюты. "
   ]
  },
  {
   "cell_type": "code",
   "execution_count": 99,
   "metadata": {},
   "outputs": [
    {
     "data": {
      "text/html": [
       "<div>\n",
       "<style scoped>\n",
       "    .dataframe tbody tr th:only-of-type {\n",
       "        vertical-align: middle;\n",
       "    }\n",
       "\n",
       "    .dataframe tbody tr th {\n",
       "        vertical-align: top;\n",
       "    }\n",
       "\n",
       "    .dataframe thead th {\n",
       "        text-align: right;\n",
       "    }\n",
       "</style>\n",
       "<table border=\"1\" class=\"dataframe\">\n",
       "  <thead>\n",
       "    <tr style=\"text-align: right;\">\n",
       "      <th></th>\n",
       "      <th>locality_name</th>\n",
       "      <th>rows</th>\n",
       "    </tr>\n",
       "  </thead>\n",
       "  <tbody>\n",
       "    <tr>\n",
       "      <td>0</td>\n",
       "      <td>Санкт-Петербург</td>\n",
       "      <td>15487</td>\n",
       "    </tr>\n",
       "    <tr>\n",
       "      <td>1</td>\n",
       "      <td>п. Мурино</td>\n",
       "      <td>556</td>\n",
       "    </tr>\n",
       "    <tr>\n",
       "      <td>2</td>\n",
       "      <td>п. Шушары</td>\n",
       "      <td>440</td>\n",
       "    </tr>\n",
       "    <tr>\n",
       "      <td>3</td>\n",
       "      <td>Всеволожск</td>\n",
       "      <td>397</td>\n",
       "    </tr>\n",
       "    <tr>\n",
       "      <td>4</td>\n",
       "      <td>Пушкин</td>\n",
       "      <td>364</td>\n",
       "    </tr>\n",
       "    <tr>\n",
       "      <td>5</td>\n",
       "      <td>Колпино</td>\n",
       "      <td>337</td>\n",
       "    </tr>\n",
       "    <tr>\n",
       "      <td>6</td>\n",
       "      <td>п. Парголово</td>\n",
       "      <td>326</td>\n",
       "    </tr>\n",
       "    <tr>\n",
       "      <td>7</td>\n",
       "      <td>Гатчина</td>\n",
       "      <td>307</td>\n",
       "    </tr>\n",
       "    <tr>\n",
       "      <td>8</td>\n",
       "      <td>д. Кудрово</td>\n",
       "      <td>299</td>\n",
       "    </tr>\n",
       "    <tr>\n",
       "      <td>9</td>\n",
       "      <td>Выборг</td>\n",
       "      <td>235</td>\n",
       "    </tr>\n",
       "  </tbody>\n",
       "</table>\n",
       "</div>"
      ],
      "text/plain": [
       "     locality_name   rows\n",
       "0  Санкт-Петербург  15487\n",
       "1        п. Мурино    556\n",
       "2        п. Шушары    440\n",
       "3       Всеволожск    397\n",
       "4           Пушкин    364\n",
       "5          Колпино    337\n",
       "6     п. Парголово    326\n",
       "7          Гатчина    307\n",
       "8       д. Кудрово    299\n",
       "9           Выборг    235"
      ]
     },
     "execution_count": 99,
     "metadata": {},
     "output_type": "execute_result"
    }
   ],
   "source": [
    "locality_top10 = pd.DataFrame.from_dict(data['locality_name'].value_counts().head(10).to_dict(), \\\n",
    "orient='index', columns=['rows'])\n",
    "#отбираем 10 населенных пунктов с наибольшим количеством объявлений и записываем их в словарь, который преобразуем в\n",
    "#датафрейм\n",
    "locality_top10.reset_index(inplace=True)\n",
    "locality_top10.columns=['locality_name', 'rows']\n",
    "\n",
    "locality_top10.head(10)"
   ]
  },
  {
   "cell_type": "code",
   "execution_count": 100,
   "metadata": {},
   "outputs": [],
   "source": [
    "data_grouped = data.groupby('locality_name')\n",
    "data_grouped = data_grouped['last_price', 'price_per_sqm'].mean().astype(int)\n",
    "#группируем исходный датафрейм по локации и считаем среднее по цене и цене за квадратный метр - на выходе получаем\n",
    "#новый датафрейм с нужными параметрами и полным списком локаций из выборки"
   ]
  },
  {
   "cell_type": "code",
   "execution_count": 101,
   "metadata": {},
   "outputs": [
    {
     "data": {
      "text/html": [
       "<div>\n",
       "<style scoped>\n",
       "    .dataframe tbody tr th:only-of-type {\n",
       "        vertical-align: middle;\n",
       "    }\n",
       "\n",
       "    .dataframe tbody tr th {\n",
       "        vertical-align: top;\n",
       "    }\n",
       "\n",
       "    .dataframe thead th {\n",
       "        text-align: right;\n",
       "    }\n",
       "</style>\n",
       "<table border=\"1\" class=\"dataframe\">\n",
       "  <thead>\n",
       "    <tr style=\"text-align: right;\">\n",
       "      <th></th>\n",
       "      <th>locality_name</th>\n",
       "      <th>rows</th>\n",
       "      <th>last_price</th>\n",
       "      <th>price_per_sqm</th>\n",
       "    </tr>\n",
       "  </thead>\n",
       "  <tbody>\n",
       "    <tr>\n",
       "      <td>0</td>\n",
       "      <td>Санкт-Петербург</td>\n",
       "      <td>15487</td>\n",
       "      <td>7301796</td>\n",
       "      <td>113544</td>\n",
       "    </tr>\n",
       "    <tr>\n",
       "      <td>1</td>\n",
       "      <td>п. Мурино</td>\n",
       "      <td>556</td>\n",
       "      <td>3652361</td>\n",
       "      <td>85681</td>\n",
       "    </tr>\n",
       "    <tr>\n",
       "      <td>2</td>\n",
       "      <td>п. Шушары</td>\n",
       "      <td>440</td>\n",
       "      <td>4108081</td>\n",
       "      <td>78676</td>\n",
       "    </tr>\n",
       "    <tr>\n",
       "      <td>3</td>\n",
       "      <td>Всеволожск</td>\n",
       "      <td>397</td>\n",
       "      <td>3792818</td>\n",
       "      <td>68718</td>\n",
       "    </tr>\n",
       "    <tr>\n",
       "      <td>4</td>\n",
       "      <td>Пушкин</td>\n",
       "      <td>364</td>\n",
       "      <td>6153453</td>\n",
       "      <td>103122</td>\n",
       "    </tr>\n",
       "    <tr>\n",
       "      <td>5</td>\n",
       "      <td>Колпино</td>\n",
       "      <td>337</td>\n",
       "      <td>3866288</td>\n",
       "      <td>75332</td>\n",
       "    </tr>\n",
       "    <tr>\n",
       "      <td>6</td>\n",
       "      <td>п. Парголово</td>\n",
       "      <td>326</td>\n",
       "      <td>4477608</td>\n",
       "      <td>90331</td>\n",
       "    </tr>\n",
       "    <tr>\n",
       "      <td>7</td>\n",
       "      <td>Гатчина</td>\n",
       "      <td>307</td>\n",
       "      <td>3488336</td>\n",
       "      <td>68745</td>\n",
       "    </tr>\n",
       "    <tr>\n",
       "      <td>8</td>\n",
       "      <td>д. Кудрово</td>\n",
       "      <td>299</td>\n",
       "      <td>4234157</td>\n",
       "      <td>92473</td>\n",
       "    </tr>\n",
       "    <tr>\n",
       "      <td>9</td>\n",
       "      <td>Выборг</td>\n",
       "      <td>235</td>\n",
       "      <td>3260778</td>\n",
       "      <td>58237</td>\n",
       "    </tr>\n",
       "  </tbody>\n",
       "</table>\n",
       "</div>"
      ],
      "text/plain": [
       "     locality_name   rows  last_price  price_per_sqm\n",
       "0  Санкт-Петербург  15487     7301796         113544\n",
       "1        п. Мурино    556     3652361          85681\n",
       "2        п. Шушары    440     4108081          78676\n",
       "3       Всеволожск    397     3792818          68718\n",
       "4           Пушкин    364     6153453         103122\n",
       "5          Колпино    337     3866288          75332\n",
       "6     п. Парголово    326     4477608          90331\n",
       "7          Гатчина    307     3488336          68745\n",
       "8       д. Кудрово    299     4234157          92473\n",
       "9           Выборг    235     3260778          58237"
      ]
     },
     "metadata": {},
     "output_type": "display_data"
    }
   ],
   "source": [
    "locality_top10 = locality_top10.join(data_grouped, on='locality_name')\n",
    "#соеднияем два полученных датафрейма и получаем топ10 населенных пунктов с количеством объявлений, средней ценой и \n",
    "#средней ценой за квадратный метр\n",
    "display(locality_top10)"
   ]
  },
  {
   "cell_type": "markdown",
   "metadata": {},
   "source": [
    "Выводы:\n",
    "\n",
    "1) Санкт-Петербург лидер по всем параметрам: больше всего объявлений, самая высокая средняя стоимость объекта недвижимости и самая высокая цена 1 квадратного метра;\n",
    "\n",
    "2) На втором месте по стоимости с незначительным отрывом - Пушкин.  Эти два населенных пункта можно назвать самыми дорогими в нашем датасете. \n",
    "\n",
    "3) Самые \"бюджетные\" варианты располагаются во Всеволожске и Выборге. "
   ]
  },
  {
   "cell_type": "markdown",
   "metadata": {},
   "source": [
    "#### Анализ расстояния до ценра города"
   ]
  },
  {
   "cell_type": "markdown",
   "metadata": {},
   "source": [
    "В соответствии с условиями поставленной задачи, нам необходимо добавить в таблицу новый столбец с расстоянием в километрах и округлить его до целых значений, однако ранее мы уже пересчитали значения исходного столбца в километры и округлили до 1 знака после точки из соображений упрощения восприятия значений в таблице, так как десятки и единицы метров в расстоянии до таких объектов вряд ли будут иметь принципиальное значение. Поэтому мы добавим новый столбец без пересчета, но с округлением до целого значения:"
   ]
  },
  {
   "cell_type": "code",
   "execution_count": 102,
   "metadata": {},
   "outputs": [
    {
     "data": {
      "text/html": [
       "<div>\n",
       "<style scoped>\n",
       "    .dataframe tbody tr th:only-of-type {\n",
       "        vertical-align: middle;\n",
       "    }\n",
       "\n",
       "    .dataframe tbody tr th {\n",
       "        vertical-align: top;\n",
       "    }\n",
       "\n",
       "    .dataframe thead th {\n",
       "        text-align: right;\n",
       "    }\n",
       "</style>\n",
       "<table border=\"1\" class=\"dataframe\">\n",
       "  <thead>\n",
       "    <tr style=\"text-align: right;\">\n",
       "      <th></th>\n",
       "      <th>last_price_mlns</th>\n",
       "    </tr>\n",
       "    <tr>\n",
       "      <th>cityCenters_nearest_km</th>\n",
       "      <th></th>\n",
       "    </tr>\n",
       "  </thead>\n",
       "  <tbody>\n",
       "    <tr>\n",
       "      <td>0.0</td>\n",
       "      <td>23.804800</td>\n",
       "    </tr>\n",
       "    <tr>\n",
       "      <td>1.0</td>\n",
       "      <td>16.065434</td>\n",
       "    </tr>\n",
       "    <tr>\n",
       "      <td>2.0</td>\n",
       "      <td>13.563427</td>\n",
       "    </tr>\n",
       "    <tr>\n",
       "      <td>3.0</td>\n",
       "      <td>10.275103</td>\n",
       "    </tr>\n",
       "    <tr>\n",
       "      <td>4.0</td>\n",
       "      <td>10.760241</td>\n",
       "    </tr>\n",
       "    <tr>\n",
       "      <td>5.0</td>\n",
       "      <td>11.532964</td>\n",
       "    </tr>\n",
       "    <tr>\n",
       "      <td>6.0</td>\n",
       "      <td>12.414014</td>\n",
       "    </tr>\n",
       "    <tr>\n",
       "      <td>7.0</td>\n",
       "      <td>13.622244</td>\n",
       "    </tr>\n",
       "    <tr>\n",
       "      <td>8.0</td>\n",
       "      <td>8.936350</td>\n",
       "    </tr>\n",
       "    <tr>\n",
       "      <td>9.0</td>\n",
       "      <td>6.891607</td>\n",
       "    </tr>\n",
       "    <tr>\n",
       "      <td>10.0</td>\n",
       "      <td>6.335610</td>\n",
       "    </tr>\n",
       "    <tr>\n",
       "      <td>11.0</td>\n",
       "      <td>6.184451</td>\n",
       "    </tr>\n",
       "    <tr>\n",
       "      <td>12.0</td>\n",
       "      <td>5.773696</td>\n",
       "    </tr>\n",
       "    <tr>\n",
       "      <td>13.0</td>\n",
       "      <td>6.058088</td>\n",
       "    </tr>\n",
       "    <tr>\n",
       "      <td>14.0</td>\n",
       "      <td>5.586489</td>\n",
       "    </tr>\n",
       "    <tr>\n",
       "      <td>15.0</td>\n",
       "      <td>5.804545</td>\n",
       "    </tr>\n",
       "    <tr>\n",
       "      <td>16.0</td>\n",
       "      <td>5.364066</td>\n",
       "    </tr>\n",
       "    <tr>\n",
       "      <td>17.0</td>\n",
       "      <td>5.188771</td>\n",
       "    </tr>\n",
       "    <tr>\n",
       "      <td>18.0</td>\n",
       "      <td>4.868178</td>\n",
       "    </tr>\n",
       "    <tr>\n",
       "      <td>19.0</td>\n",
       "      <td>5.037707</td>\n",
       "    </tr>\n",
       "    <tr>\n",
       "      <td>20.0</td>\n",
       "      <td>5.870889</td>\n",
       "    </tr>\n",
       "    <tr>\n",
       "      <td>21.0</td>\n",
       "      <td>5.493675</td>\n",
       "    </tr>\n",
       "    <tr>\n",
       "      <td>22.0</td>\n",
       "      <td>5.415644</td>\n",
       "    </tr>\n",
       "    <tr>\n",
       "      <td>23.0</td>\n",
       "      <td>4.689880</td>\n",
       "    </tr>\n",
       "    <tr>\n",
       "      <td>24.0</td>\n",
       "      <td>3.854615</td>\n",
       "    </tr>\n",
       "    <tr>\n",
       "      <td>25.0</td>\n",
       "      <td>4.053077</td>\n",
       "    </tr>\n",
       "    <tr>\n",
       "      <td>26.0</td>\n",
       "      <td>3.972642</td>\n",
       "    </tr>\n",
       "    <tr>\n",
       "      <td>27.0</td>\n",
       "      <td>8.300000</td>\n",
       "    </tr>\n",
       "    <tr>\n",
       "      <td>28.0</td>\n",
       "      <td>5.025714</td>\n",
       "    </tr>\n",
       "    <tr>\n",
       "      <td>29.0</td>\n",
       "      <td>4.236667</td>\n",
       "    </tr>\n",
       "  </tbody>\n",
       "</table>\n",
       "</div>"
      ],
      "text/plain": [
       "                        last_price_mlns\n",
       "cityCenters_nearest_km                 \n",
       "0.0                           23.804800\n",
       "1.0                           16.065434\n",
       "2.0                           13.563427\n",
       "3.0                           10.275103\n",
       "4.0                           10.760241\n",
       "5.0                           11.532964\n",
       "6.0                           12.414014\n",
       "7.0                           13.622244\n",
       "8.0                            8.936350\n",
       "9.0                            6.891607\n",
       "10.0                           6.335610\n",
       "11.0                           6.184451\n",
       "12.0                           5.773696\n",
       "13.0                           6.058088\n",
       "14.0                           5.586489\n",
       "15.0                           5.804545\n",
       "16.0                           5.364066\n",
       "17.0                           5.188771\n",
       "18.0                           4.868178\n",
       "19.0                           5.037707\n",
       "20.0                           5.870889\n",
       "21.0                           5.493675\n",
       "22.0                           5.415644\n",
       "23.0                           4.689880\n",
       "24.0                           3.854615\n",
       "25.0                           4.053077\n",
       "26.0                           3.972642\n",
       "27.0                           8.300000\n",
       "28.0                           5.025714\n",
       "29.0                           4.236667"
      ]
     },
     "execution_count": 102,
     "metadata": {},
     "output_type": "execute_result"
    }
   ],
   "source": [
    "data['cityCenters_nearest_km'] = round(data['cityCenters_nearest'] / 1000, 0)\n",
    "data.loc[data['locality_name'] == 'Санкт-Петербург']\\\n",
    ".pivot_table(index='cityCenters_nearest_km', values='last_price_mlns')\n",
    "#по значениям исходного датасета, где в качестве локации указан Санкт-Петербург, мы строим сводную таблицу\n",
    "#при этом, используем в качестве значений столбец с ценой объекта в миллионах - в противном случае\n",
    "#данные о средней цене будут представлены в научной нотации, что затрудняет восприятие"
   ]
  },
  {
   "cell_type": "code",
   "execution_count": 103,
   "metadata": {},
   "outputs": [
    {
     "data": {
      "image/png": "[encoded data removed]",
      "text/plain": [
       "<Figure size 1080x1080 with 1 Axes>"
      ]
     },
     "metadata": {
      "needs_background": "light"
     },
     "output_type": "display_data"
    }
   ],
   "source": [
    "data.loc[data['locality_name'] == 'Санкт-Петербург'].plot(\n",
    "    figsize=(15, 15),\n",
    "    alpha=0.5, \n",
    "    grid=True, \n",
    "    y='last_price_mlns', \n",
    "    x='cityCenters_nearest_km',\n",
    "    style='x', \n",
    "    ylim=(0, 30), \n",
    "    kind='scatter', \n",
    "    title='Распределение квартир в группы по расстоянию до цента в зависимости от цены в млн. рублей')\n",
    "plt.show()"
   ]
  },
  {
   "cell_type": "code",
   "execution_count": 104,
   "metadata": {},
   "outputs": [
    {
     "data": {
      "text/plain": [
       "<matplotlib.axes._subplots.AxesSubplot at 0x7fe368089150>"
      ]
     },
     "execution_count": 104,
     "metadata": {},
     "output_type": "execute_result"
    },
    {
     "data": {
      "image/png": "[encoded data removed]",
      "text/plain": [
       "<Figure size 1080x1080 with 1 Axes>"
      ]
     },
     "metadata": {
      "needs_background": "light"
     },
     "output_type": "display_data"
    }
   ],
   "source": [
    "pivot_for_scatter = data.loc[data['locality_name'] == 'Санкт-Петербург'].pivot_table(\n",
    "    index='cityCenters_nearest_km', \n",
    "    values='last_price_mlns')\n",
    "pivot_for_scatter = pivot_for_scatter.reset_index()\n",
    "pivot_for_scatter.plot(\n",
    "    grid=True, \n",
    "    y='last_price_mlns', \n",
    "    x='cityCenters_nearest_km', \n",
    "    style='x', \n",
    "    figsize=(15, 15), \n",
    "    ylim=(0, 30), \n",
    "    kind='scatter',\n",
    "    title='Распределение квартир в группы по расстоянию до цента в зависимости от средней цены в млн. рублей')"
   ]
  },
  {
   "cell_type": "markdown",
   "metadata": {},
   "source": [
    "**Выводы:**\n",
    "\n",
    "Судя по малому графику, \"спальные районы\" (то есть такие, в которых целенаправленно большую часть площади застраивают домами высокой плотности) начинаются примерно с 8 километра от центра. \n",
    "\n",
    "Однако на двух графиках видно, что \"первый круг\" центра - это отметка между 3 и 4 километром от центра (наиболее популярный сегмент жилья тут от 5 до 12-13 миллионов).\n",
    "\n",
    "\"Второй круг\" - это отметка 8-9 километров - здесь линии становятся максимально плотными (много вариантов жилья). Кроме того, здесь существенно смещается к оси Y средняя стоимость объектов недвижимости - диапазон от 2.5 до 7.5 миллионов. "
   ]
  },
  {
   "cell_type": "markdown",
   "metadata": {},
   "source": [
    "#### Анализ \"квартир в центре\""
   ]
  },
  {
   "cell_type": "markdown",
   "metadata": {},
   "source": [
    "Построим сводную таблицу для анализа целевых параметров по сегменту \"квартир в центре\" в Санкт-Петербурге:"
   ]
  },
  {
   "cell_type": "code",
   "execution_count": 105,
   "metadata": {},
   "outputs": [
    {
     "data": {
      "text/html": [
       "<div>\n",
       "<style scoped>\n",
       "    .dataframe tbody tr th:only-of-type {\n",
       "        vertical-align: middle;\n",
       "    }\n",
       "\n",
       "    .dataframe tbody tr th {\n",
       "        vertical-align: top;\n",
       "    }\n",
       "\n",
       "    .dataframe thead tr th {\n",
       "        text-align: left;\n",
       "    }\n",
       "\n",
       "    .dataframe thead tr:last-of-type th {\n",
       "        text-align: right;\n",
       "    }\n",
       "</style>\n",
       "<table border=\"1\" class=\"dataframe\">\n",
       "  <thead>\n",
       "    <tr>\n",
       "      <th></th>\n",
       "      <th colspan=\"4\" halign=\"left\">mean</th>\n",
       "      <th colspan=\"4\" halign=\"left\">median</th>\n",
       "      <th colspan=\"4\" halign=\"left\">count</th>\n",
       "    </tr>\n",
       "    <tr>\n",
       "      <th></th>\n",
       "      <th>ceiling_height</th>\n",
       "      <th>last_price_mlns</th>\n",
       "      <th>rooms</th>\n",
       "      <th>total_area</th>\n",
       "      <th>ceiling_height</th>\n",
       "      <th>last_price_mlns</th>\n",
       "      <th>rooms</th>\n",
       "      <th>total_area</th>\n",
       "      <th>ceiling_height</th>\n",
       "      <th>last_price_mlns</th>\n",
       "      <th>rooms</th>\n",
       "      <th>total_area</th>\n",
       "    </tr>\n",
       "    <tr>\n",
       "      <th>cityCenters_nearest_km</th>\n",
       "      <th></th>\n",
       "      <th></th>\n",
       "      <th></th>\n",
       "      <th></th>\n",
       "      <th></th>\n",
       "      <th></th>\n",
       "      <th></th>\n",
       "      <th></th>\n",
       "      <th></th>\n",
       "      <th></th>\n",
       "      <th></th>\n",
       "      <th></th>\n",
       "    </tr>\n",
       "  </thead>\n",
       "  <tbody>\n",
       "    <tr>\n",
       "      <td>0.0</td>\n",
       "      <td>3.224000</td>\n",
       "      <td>23.804800</td>\n",
       "      <td>3.000000</td>\n",
       "      <td>107.600000</td>\n",
       "      <td>3.20</td>\n",
       "      <td>13.90</td>\n",
       "      <td>3</td>\n",
       "      <td>98.000</td>\n",
       "      <td>25</td>\n",
       "      <td>25</td>\n",
       "      <td>25</td>\n",
       "      <td>25</td>\n",
       "    </tr>\n",
       "    <tr>\n",
       "      <td>1.0</td>\n",
       "      <td>3.038439</td>\n",
       "      <td>16.065434</td>\n",
       "      <td>3.017341</td>\n",
       "      <td>89.094682</td>\n",
       "      <td>2.95</td>\n",
       "      <td>10.20</td>\n",
       "      <td>3</td>\n",
       "      <td>83.000</td>\n",
       "      <td>173</td>\n",
       "      <td>173</td>\n",
       "      <td>173</td>\n",
       "      <td>173</td>\n",
       "    </tr>\n",
       "    <tr>\n",
       "      <td>2.0</td>\n",
       "      <td>3.070804</td>\n",
       "      <td>13.563427</td>\n",
       "      <td>2.926573</td>\n",
       "      <td>89.538951</td>\n",
       "      <td>2.95</td>\n",
       "      <td>9.50</td>\n",
       "      <td>3</td>\n",
       "      <td>83.250</td>\n",
       "      <td>286</td>\n",
       "      <td>286</td>\n",
       "      <td>286</td>\n",
       "      <td>286</td>\n",
       "    </tr>\n",
       "    <tr>\n",
       "      <td>3.0</td>\n",
       "      <td>3.014516</td>\n",
       "      <td>10.275103</td>\n",
       "      <td>2.891496</td>\n",
       "      <td>85.234604</td>\n",
       "      <td>2.95</td>\n",
       "      <td>8.30</td>\n",
       "      <td>3</td>\n",
       "      <td>78.600</td>\n",
       "      <td>341</td>\n",
       "      <td>341</td>\n",
       "      <td>341</td>\n",
       "      <td>341</td>\n",
       "    </tr>\n",
       "    <tr>\n",
       "      <td>4.0</td>\n",
       "      <td>2.974398</td>\n",
       "      <td>10.760241</td>\n",
       "      <td>2.837349</td>\n",
       "      <td>85.394940</td>\n",
       "      <td>2.95</td>\n",
       "      <td>8.99</td>\n",
       "      <td>3</td>\n",
       "      <td>78.000</td>\n",
       "      <td>664</td>\n",
       "      <td>664</td>\n",
       "      <td>664</td>\n",
       "      <td>664</td>\n",
       "    </tr>\n",
       "    <tr>\n",
       "      <td>5.0</td>\n",
       "      <td>2.948443</td>\n",
       "      <td>11.532964</td>\n",
       "      <td>2.655133</td>\n",
       "      <td>83.457636</td>\n",
       "      <td>2.95</td>\n",
       "      <td>9.00</td>\n",
       "      <td>3</td>\n",
       "      <td>77.000</td>\n",
       "      <td>867</td>\n",
       "      <td>867</td>\n",
       "      <td>867</td>\n",
       "      <td>867</td>\n",
       "    </tr>\n",
       "    <tr>\n",
       "      <td>6.0</td>\n",
       "      <td>2.862457</td>\n",
       "      <td>12.414014</td>\n",
       "      <td>2.384083</td>\n",
       "      <td>77.460917</td>\n",
       "      <td>2.85</td>\n",
       "      <td>8.50</td>\n",
       "      <td>2</td>\n",
       "      <td>69.300</td>\n",
       "      <td>578</td>\n",
       "      <td>578</td>\n",
       "      <td>578</td>\n",
       "      <td>578</td>\n",
       "    </tr>\n",
       "    <tr>\n",
       "      <td>7.0</td>\n",
       "      <td>2.819634</td>\n",
       "      <td>13.622244</td>\n",
       "      <td>2.385366</td>\n",
       "      <td>76.768610</td>\n",
       "      <td>2.80</td>\n",
       "      <td>7.65</td>\n",
       "      <td>2</td>\n",
       "      <td>67.885</td>\n",
       "      <td>410</td>\n",
       "      <td>410</td>\n",
       "      <td>410</td>\n",
       "      <td>410</td>\n",
       "    </tr>\n",
       "    <tr>\n",
       "      <td>8.0</td>\n",
       "      <td>2.796944</td>\n",
       "      <td>8.936350</td>\n",
       "      <td>2.256367</td>\n",
       "      <td>69.918557</td>\n",
       "      <td>2.75</td>\n",
       "      <td>7.40</td>\n",
       "      <td>2</td>\n",
       "      <td>62.000</td>\n",
       "      <td>589</td>\n",
       "      <td>589</td>\n",
       "      <td>589</td>\n",
       "      <td>589</td>\n",
       "    </tr>\n",
       "  </tbody>\n",
       "</table>\n",
       "</div>"
      ],
      "text/plain": [
       "                                 mean                                        \\\n",
       "                       ceiling_height last_price_mlns     rooms  total_area   \n",
       "cityCenters_nearest_km                                                        \n",
       "0.0                          3.224000       23.804800  3.000000  107.600000   \n",
       "1.0                          3.038439       16.065434  3.017341   89.094682   \n",
       "2.0                          3.070804       13.563427  2.926573   89.538951   \n",
       "3.0                          3.014516       10.275103  2.891496   85.234604   \n",
       "4.0                          2.974398       10.760241  2.837349   85.394940   \n",
       "5.0                          2.948443       11.532964  2.655133   83.457636   \n",
       "6.0                          2.862457       12.414014  2.384083   77.460917   \n",
       "7.0                          2.819634       13.622244  2.385366   76.768610   \n",
       "8.0                          2.796944        8.936350  2.256367   69.918557   \n",
       "\n",
       "                               median                                   \\\n",
       "                       ceiling_height last_price_mlns rooms total_area   \n",
       "cityCenters_nearest_km                                                   \n",
       "0.0                              3.20           13.90     3     98.000   \n",
       "1.0                              2.95           10.20     3     83.000   \n",
       "2.0                              2.95            9.50     3     83.250   \n",
       "3.0                              2.95            8.30     3     78.600   \n",
       "4.0                              2.95            8.99     3     78.000   \n",
       "5.0                              2.95            9.00     3     77.000   \n",
       "6.0                              2.85            8.50     2     69.300   \n",
       "7.0                              2.80            7.65     2     67.885   \n",
       "8.0                              2.75            7.40     2     62.000   \n",
       "\n",
       "                                count                                   \n",
       "                       ceiling_height last_price_mlns rooms total_area  \n",
       "cityCenters_nearest_km                                                  \n",
       "0.0                                25              25    25         25  \n",
       "1.0                               173             173   173        173  \n",
       "2.0                               286             286   286        286  \n",
       "3.0                               341             341   341        341  \n",
       "4.0                               664             664   664        664  \n",
       "5.0                               867             867   867        867  \n",
       "6.0                               578             578   578        578  \n",
       "7.0                               410             410   410        410  \n",
       "8.0                               589             589   589        589  "
      ]
     },
     "execution_count": 105,
     "metadata": {},
     "output_type": "execute_result"
    }
   ],
   "source": [
    "data.loc[(data['cityCenters_nearest_km'] <= 8) & (data['locality_name'] == 'Санкт-Петербург')].\\\n",
    "pivot_table(index='cityCenters_nearest_km', values=['total_area', 'last_price_mlns', 'rooms', 'ceiling_height'], \\\n",
    "aggfunc=['mean', 'median', 'count'])"
   ]
  },
  {
   "cell_type": "markdown",
   "metadata": {},
   "source": [
    "**Выводы:**\n",
    "\n",
    "1) В сегменте бюджетных квартир самая высота потолка находится у отметки в 2.7-2.8 метра. В центральной части эта цифра стремится к 3 метрам с небольшим снижением по мере удаления от центра: вероятно, высокие потолки - это историческое наследие. Снижение высоты потолков объясняется типовой советской застройкой (предполагаю, активно она начинается с 5-6 километра от центра)\n",
    "\n",
    "2) В отличие от центрообразуещей отметки в 5 миллионов за квартиру в бюджетном сегменте и среднего значение всей выборки в 6.4 миллиона, стоимость жилья в центре по медиане выше до двух раз, а среднее значение в центре и вовсе выше в 2-3 раза, что говорит нам о существенном разрыве в стоимости двух сегментов и высоком престиже проживания в центре города \n",
    "\n",
    "3) Количество комнат у квартир в центре также больше, чем у бюджетных вариантов: ранее мы определили, что 2 комнаты - это одновременно и среднее и медианное значение для всей выборки. Такой формат наиболее популярен в бюджетном сегменте, хотя трехкомнатные квартиры также пользуются популярностью - вероятно, \"для расширения площади\" в силу житейских обстоятельств (например, с рождением детей). В центре же комнат обычно больше на 1 - и среднее и медианное значению тяготеют к отметке в 3 комнаты. Вероятно, это можно объяснить общей состоятельностью покупателей таких объектов недвижимости\n",
    "\n",
    "4) Ранее было установлено, что для бюджетных вариантов можно выделить 3 наиболее популярных типоразмера квартир по площади (цифры ориентировочные): 35, 42 и 50 квадратных метров. Медиана для выборки - 52 квадратных метра. В случае квартир в центре мы можем выделить два важных момента: медианная и средняя площадь \"квартир в центре\" тем больше, чем ближе квартире к центру города - это объяснимо снижением приоритета \"вопроса денег\" над уровнем комфорта для покупателей таких объектов недвижимости; медианная площадь квартиры примерно на 30-60% больше, чем в сегменте бюджетного жилья. "
   ]
  },
  {
   "cell_type": "code",
   "execution_count": 106,
   "metadata": {},
   "outputs": [
    {
     "data": {
      "text/html": [
       "<div>\n",
       "<style scoped>\n",
       "    .dataframe tbody tr th:only-of-type {\n",
       "        vertical-align: middle;\n",
       "    }\n",
       "\n",
       "    .dataframe tbody tr th {\n",
       "        vertical-align: top;\n",
       "    }\n",
       "\n",
       "    .dataframe thead th {\n",
       "        text-align: right;\n",
       "    }\n",
       "</style>\n",
       "<table border=\"1\" class=\"dataframe\">\n",
       "  <thead>\n",
       "    <tr style=\"text-align: right;\">\n",
       "      <th></th>\n",
       "      <th>last_price</th>\n",
       "      <th>price_per_sqm</th>\n",
       "      <th>total_area</th>\n",
       "      <th>rooms</th>\n",
       "      <th>floor</th>\n",
       "      <th>cityCenters_nearest</th>\n",
       "    </tr>\n",
       "  </thead>\n",
       "  <tbody>\n",
       "    <tr>\n",
       "      <td>last_price</td>\n",
       "      <td>1.000000</td>\n",
       "      <td>0.868563</td>\n",
       "      <td>0.530900</td>\n",
       "      <td>0.263153</td>\n",
       "      <td>0.192255</td>\n",
       "      <td>-0.080469</td>\n",
       "    </tr>\n",
       "    <tr>\n",
       "      <td>price_per_sqm</td>\n",
       "      <td>0.868563</td>\n",
       "      <td>1.000000</td>\n",
       "      <td>0.181101</td>\n",
       "      <td>-0.048436</td>\n",
       "      <td>0.157021</td>\n",
       "      <td>-0.034461</td>\n",
       "    </tr>\n",
       "    <tr>\n",
       "      <td>total_area</td>\n",
       "      <td>0.530900</td>\n",
       "      <td>0.181101</td>\n",
       "      <td>1.000000</td>\n",
       "      <td>0.787004</td>\n",
       "      <td>0.273038</td>\n",
       "      <td>-0.191940</td>\n",
       "    </tr>\n",
       "    <tr>\n",
       "      <td>rooms</td>\n",
       "      <td>0.263153</td>\n",
       "      <td>-0.048436</td>\n",
       "      <td>0.787004</td>\n",
       "      <td>1.000000</td>\n",
       "      <td>0.084817</td>\n",
       "      <td>-0.190937</td>\n",
       "    </tr>\n",
       "    <tr>\n",
       "      <td>floor</td>\n",
       "      <td>0.192255</td>\n",
       "      <td>0.157021</td>\n",
       "      <td>0.273038</td>\n",
       "      <td>0.084817</td>\n",
       "      <td>1.000000</td>\n",
       "      <td>0.148021</td>\n",
       "    </tr>\n",
       "    <tr>\n",
       "      <td>cityCenters_nearest</td>\n",
       "      <td>-0.080469</td>\n",
       "      <td>-0.034461</td>\n",
       "      <td>-0.191940</td>\n",
       "      <td>-0.190937</td>\n",
       "      <td>0.148021</td>\n",
       "      <td>1.000000</td>\n",
       "    </tr>\n",
       "  </tbody>\n",
       "</table>\n",
       "</div>"
      ],
      "text/plain": [
       "                     last_price  price_per_sqm  total_area     rooms  \\\n",
       "last_price             1.000000       0.868563    0.530900  0.263153   \n",
       "price_per_sqm          0.868563       1.000000    0.181101 -0.048436   \n",
       "total_area             0.530900       0.181101    1.000000  0.787004   \n",
       "rooms                  0.263153      -0.048436    0.787004  1.000000   \n",
       "floor                  0.192255       0.157021    0.273038  0.084817   \n",
       "cityCenters_nearest   -0.080469      -0.034461   -0.191940 -0.190937   \n",
       "\n",
       "                        floor  cityCenters_nearest  \n",
       "last_price           0.192255            -0.080469  \n",
       "price_per_sqm        0.157021            -0.034461  \n",
       "total_area           0.273038            -0.191940  \n",
       "rooms                0.084817            -0.190937  \n",
       "floor                1.000000             0.148021  \n",
       "cityCenters_nearest  0.148021             1.000000  "
      ]
     },
     "execution_count": 106,
     "metadata": {},
     "output_type": "execute_result"
    }
   ],
   "source": [
    "data.loc[(data['locality_name'] == 'Санкт-Петербург') & (data['floor_quality'] != 'Другой') &\\\n",
    "         (data['cityCenters_nearest_km'] <=8)]\\\n",
    "[['last_price', 'price_per_sqm', 'total_area', 'rooms', 'floor', 'cityCenters_nearest']].corr()\n",
    "#посмотрим на корреляцию для центра СПб"
   ]
  },
  {
   "cell_type": "code",
   "execution_count": 107,
   "metadata": {},
   "outputs": [
    {
     "data": {
      "text/html": [
       "<div>\n",
       "<style scoped>\n",
       "    .dataframe tbody tr th:only-of-type {\n",
       "        vertical-align: middle;\n",
       "    }\n",
       "\n",
       "    .dataframe tbody tr th {\n",
       "        vertical-align: top;\n",
       "    }\n",
       "\n",
       "    .dataframe thead th {\n",
       "        text-align: right;\n",
       "    }\n",
       "</style>\n",
       "<table border=\"1\" class=\"dataframe\">\n",
       "  <thead>\n",
       "    <tr style=\"text-align: right;\">\n",
       "      <th></th>\n",
       "      <th>last_price</th>\n",
       "      <th>price_per_sqm</th>\n",
       "      <th>total_area</th>\n",
       "      <th>rooms</th>\n",
       "      <th>floor</th>\n",
       "      <th>cityCenters_nearest</th>\n",
       "    </tr>\n",
       "  </thead>\n",
       "  <tbody>\n",
       "    <tr>\n",
       "      <td>last_price</td>\n",
       "      <td>1.000000</td>\n",
       "      <td>0.545311</td>\n",
       "      <td>0.821031</td>\n",
       "      <td>0.452011</td>\n",
       "      <td>0.147820</td>\n",
       "      <td>-0.073579</td>\n",
       "    </tr>\n",
       "    <tr>\n",
       "      <td>price_per_sqm</td>\n",
       "      <td>0.545311</td>\n",
       "      <td>1.000000</td>\n",
       "      <td>0.034413</td>\n",
       "      <td>-0.246895</td>\n",
       "      <td>0.248780</td>\n",
       "      <td>-0.212196</td>\n",
       "    </tr>\n",
       "    <tr>\n",
       "      <td>total_area</td>\n",
       "      <td>0.821031</td>\n",
       "      <td>0.034413</td>\n",
       "      <td>1.000000</td>\n",
       "      <td>0.734631</td>\n",
       "      <td>0.055527</td>\n",
       "      <td>0.035651</td>\n",
       "    </tr>\n",
       "    <tr>\n",
       "      <td>rooms</td>\n",
       "      <td>0.452011</td>\n",
       "      <td>-0.246895</td>\n",
       "      <td>0.734631</td>\n",
       "      <td>1.000000</td>\n",
       "      <td>-0.112770</td>\n",
       "      <td>-0.027138</td>\n",
       "    </tr>\n",
       "    <tr>\n",
       "      <td>floor</td>\n",
       "      <td>0.147820</td>\n",
       "      <td>0.248780</td>\n",
       "      <td>0.055527</td>\n",
       "      <td>-0.112770</td>\n",
       "      <td>1.000000</td>\n",
       "      <td>0.019958</td>\n",
       "    </tr>\n",
       "    <tr>\n",
       "      <td>cityCenters_nearest</td>\n",
       "      <td>-0.073579</td>\n",
       "      <td>-0.212196</td>\n",
       "      <td>0.035651</td>\n",
       "      <td>-0.027138</td>\n",
       "      <td>0.019958</td>\n",
       "      <td>1.000000</td>\n",
       "    </tr>\n",
       "  </tbody>\n",
       "</table>\n",
       "</div>"
      ],
      "text/plain": [
       "                     last_price  price_per_sqm  total_area     rooms  \\\n",
       "last_price             1.000000       0.545311    0.821031  0.452011   \n",
       "price_per_sqm          0.545311       1.000000    0.034413 -0.246895   \n",
       "total_area             0.821031       0.034413    1.000000  0.734631   \n",
       "rooms                  0.452011      -0.246895    0.734631  1.000000   \n",
       "floor                  0.147820       0.248780    0.055527 -0.112770   \n",
       "cityCenters_nearest   -0.073579      -0.212196    0.035651 -0.027138   \n",
       "\n",
       "                        floor  cityCenters_nearest  \n",
       "last_price           0.147820            -0.073579  \n",
       "price_per_sqm        0.248780            -0.212196  \n",
       "total_area           0.055527             0.035651  \n",
       "rooms               -0.112770            -0.027138  \n",
       "floor                1.000000             0.019958  \n",
       "cityCenters_nearest  0.019958             1.000000  "
      ]
     },
     "execution_count": 107,
     "metadata": {},
     "output_type": "execute_result"
    }
   ],
   "source": [
    "data.loc[(data['locality_name'] == 'Санкт-Петербург') & (data['floor_quality'] != 'Другой') &\\\n",
    "         (data['cityCenters_nearest_km'] > 8)]\\\n",
    "[['last_price', 'price_per_sqm', 'total_area', 'rooms', 'floor', 'cityCenters_nearest']].corr()\n",
    "#и такая же матрица корреляции, но для квартир за пределами \"центра\""
   ]
  },
  {
   "cell_type": "markdown",
   "metadata": {},
   "source": [
    "**Есть несколько заметных отличий:**\n",
    "\n",
    "1. Для центра СПб наблюдается сильная корреляция между стоимость 1 квадратного метра и общей стоимостью квартиры. Для квартир за пределами центра она падает ниже среднего. Это обусловлено меньшей площадью \"центра\" и более высокой концентрацией объектов недвижимости в нем - выше \"конкуренция\" за 1 кв. м.\n",
    "\n",
    "2. Но наблюдается противоположная тенденция - зависимость между общей площадью и ценой становится значительно более выраженной - в бюджетном сегменте люди предпочитают получить больше метров за свои деньги. Учитывае ранее сформулированный вывод о средней площади и количестве комнат в бюджетном и люксовом сегментах, это вполне объяснимо: покупка двухкомнатной квартиры в 45-50 квадратов существенно улучшает жилищные условия, если ранее речь шла о варианте в 1 комнату площадью 30-35 квадратных метров;\n",
    "\n",
    "3. От слабых значение к условно \"слабо-средним\" поднимается зависимость цены от количества комнат в бюджетном сегменте"
   ]
  },
  {
   "cell_type": "code",
   "execution_count": 108,
   "metadata": {},
   "outputs": [],
   "source": [
    "analysis = data.loc[(data['cityCenters_nearest'].isnull() == False) & (data['cityCenters_nearest_km'] <= 8) ,['first_day_exposition', 'last_price_mlns']]\n",
    "analysis['weekday_published'] = pd.to_datetime(data['first_day_exposition']).dt.dayofweek\n",
    "analysis['month_published'] = pd.to_datetime(data['first_day_exposition']).dt.month\n",
    "analysis['year_published'] = pd.to_datetime(data['first_day_exposition']).dt.year"
   ]
  },
  {
   "cell_type": "code",
   "execution_count": 109,
   "metadata": {},
   "outputs": [
    {
     "data": {
      "image/png": "[encoded data removed]",
      "text/plain": [
       "<Figure size 1152x576 with 1 Axes>"
      ]
     },
     "metadata": {
      "needs_background": "light"
     },
     "output_type": "display_data"
    }
   ],
   "source": [
    "weekday_pivot = analysis.pivot_table(index='weekday_published', values='last_price_mlns')\n",
    "weekday_pivot = weekday_pivot.reset_index()\n",
    "\n",
    "index = weekday_pivot['weekday_published']\n",
    "values = weekday_pivot['last_price_mlns']\n",
    "\n",
    "plt.figure(figsize=[16,8])\n",
    "plt.bar(index, values, ec='black')\n",
    "plt.ylabel('Средняя цена в млн. руб.',fontsize=12)\n",
    "plt.xlabel('День недели',fontsize=12)\n",
    "plt.show()"
   ]
  },
  {
   "cell_type": "markdown",
   "metadata": {},
   "source": [
    "Аналогичная картина - существенных колебаний в разрезе недели не наблюдается."
   ]
  },
  {
   "cell_type": "code",
   "execution_count": 110,
   "metadata": {},
   "outputs": [
    {
     "data": {
      "image/png": "[encoded data removed]",
      "text/plain": [
       "<Figure size 1152x576 with 1 Axes>"
      ]
     },
     "metadata": {
      "needs_background": "light"
     },
     "output_type": "display_data"
    }
   ],
   "source": [
    "month_pivot = analysis.pivot_table(index='month_published', values='last_price_mlns')\n",
    "month_pivot = month_pivot.reset_index()\n",
    "\n",
    "index = month_pivot['month_published']\n",
    "values = month_pivot['last_price_mlns']\n",
    "\n",
    "plt.figure(figsize=[16,8])\n",
    "plt.bar(index, values, ec='black')\n",
    "plt.ylabel('Средняя цена в млн. руб.',fontsize=12)\n",
    "plt.xlabel('Месяц публикации объявления',fontsize=12)\n",
    "plt.xticks(np.arange(0, 13, step=1))\n",
    "plt.show()"
   ]
  },
  {
   "cell_type": "markdown",
   "metadata": {},
   "source": [
    "Аналогично: в целом средняя стоимость объекта стабильна и находится в районе 11-12 миллионов."
   ]
  },
  {
   "cell_type": "code",
   "execution_count": 111,
   "metadata": {},
   "outputs": [
    {
     "data": {
      "image/png": "[encoded data removed]",
      "text/plain": [
       "<Figure size 1152x576 with 1 Axes>"
      ]
     },
     "metadata": {
      "needs_background": "light"
     },
     "output_type": "display_data"
    }
   ],
   "source": [
    "yr_pivot = analysis.pivot_table(index='year_published', values='last_price_mlns')\n",
    "yr_pivot = yr_pivot.reset_index()\n",
    "\n",
    "index = yr_pivot['year_published']\n",
    "values = yr_pivot['last_price_mlns']\n",
    "\n",
    "plt.figure(figsize=[16,8])\n",
    "plt.bar(index, values, ec='black')\n",
    "plt.ylabel('Средняя цена в млн. руб.',fontsize=12)\n",
    "plt.xlabel('Год публикации объявления',fontsize=12)\n",
    "plt.show()"
   ]
  },
  {
   "cell_type": "markdown",
   "metadata": {},
   "source": [
    "Тенденция к спаду в период 2014-2015 годов сохраняется для элитного жилья. Более того, учитывая влияние цен дорогих объектов недвижимости на общую величину среднего, можно сформулировать гипотезу: спад средней цены объекта недвижимости в 2014-2015 годах произошел в большей степени за счет снижения спроса на люксовые квартиры."
   ]
  },
  {
   "cell_type": "markdown",
   "metadata": {},
   "source": [
    "## Общий вывод"
   ]
  },
  {
   "cell_type": "markdown",
   "metadata": {},
   "source": [
    "**Общие выводы по проекту:**\n",
    "\n",
    "1. Установлено, что квартиры, в целом, можно разделить на два вида: **дорогие** в центре города и **бюджетные**, расположенные в других районах города или пригороде;\n",
    "\n",
    "2. Условная средняя квартира бюджетного сегмента имеет ряд характерных признаков: площадь в диапазоне 30-50 квадратных метров; количество комнат 1-2, высота потолков около 2.5 метров;\n",
    "\n",
    "3. Условная средняя квартира в центре города также имеет ряд характерных признаков: площадь 70-100 квадратных метров, не менее 3 комнат, высота потолков 2.7 метра и выше;\n",
    "\n",
    "4. Самый \"дешевый\" этаж - 1 (медианная цена объекта недвижимости тут - 3.9 млн. рублей). Самый \"дорогой\" этаж - 30 (медианная цена объекта - 10.15 млн. рублей)\n",
    "\n",
    "4. Наиболее важные факторы для квартир бюджетного сегмента: цена объекта, цена квадратного метра, общая площадь объекта. Люди готовы жертвовать расстоянием до центра города и инфраструктурных объектов для получения большей площади за свои деньги;\n",
    "\n",
    "5. Наиболее важные факторы для \"дорогих\" квартир: площадь, количество комнат, высота потолков, удаленность от центра города и инфраструктурных объектов;\n",
    "\n",
    "6. Для дорогих и дешевых квартир наблюдается интересная зависимость: на цену объекта в бюджетном сегменте в большей степени влияет общее количество квадратных метров, в то время как в дорогом сегменте усиливается влияение стоимости 1 квадратного метра;\n",
    "\n",
    "7. Выявлено, что в сегмент \"дорогих\" квартир входят те, расстояние у которых до центра города равно или менее 8 километров. При этом, по расстоянию до центра города этот сегмент делится на две части 0-4 километра от центра города и 4-8 километров от центра города;\n",
    "\n",
    "8. По аналогии, в бюджетном сегменте также можно выделить две группы: областные города (города сателлиты) и селькая местность (различные поселки, деревни и села). В среднем, в сельской местности ниже время размещения объявления для квартир с более чем 4 комнатами. При наличии данных о типе объекта недвижимости можно было бы проверить гипотезу, являются ли \"многокомнатные\" объекты недвижимости домами;\n",
    "\n",
    "9. Если исключить из выборки Санкт-Петербург, то наиболее популярные населенные пункты: п. Мурино, п. Шушары, г. Всеволожск, г. Пушкин. При этом, Всеволожск среди приведенных отличается значительно меньшей средней стоимостью 1 квадратного метра жилья: порядка 70 тысяч против 80-100 в других населенных пунктах.\n"
   ]
  }
 ],
 "metadata": {
  "ExecuteTimeLog": [
   {
    "duration": 589,
    "start_time": "2021-12-14T19:49:26.863Z"
   },
   {
    "duration": 2,
    "start_time": "2021-12-14T19:49:33.387Z"
   },
   {
    "duration": 61,
    "start_time": "2021-12-14T19:50:15.247Z"
   },
   {
    "duration": 62,
    "start_time": "2021-12-14T19:50:22.280Z"
   },
   {
    "duration": 11,
    "start_time": "2021-12-14T19:50:28.867Z"
   },
   {
    "duration": 12,
    "start_time": "2021-12-14T19:50:44.634Z"
   },
   {
    "duration": 116,
    "start_time": "2021-12-14T19:50:52.976Z"
   },
   {
    "duration": 85,
    "start_time": "2021-12-14T19:51:01.214Z"
   },
   {
    "duration": 87,
    "start_time": "2021-12-14T19:51:09.059Z"
   },
   {
    "duration": 115,
    "start_time": "2021-12-14T19:51:16.038Z"
   },
   {
    "duration": 77,
    "start_time": "2021-12-14T19:52:03.791Z"
   },
   {
    "duration": 56,
    "start_time": "2021-12-14T19:52:17.962Z"
   },
   {
    "duration": 8,
    "start_time": "2021-12-14T19:52:19.493Z"
   },
   {
    "duration": 58,
    "start_time": "2021-12-14T19:53:14.788Z"
   },
   {
    "duration": 7,
    "start_time": "2021-12-14T19:53:15.913Z"
   },
   {
    "duration": 111,
    "start_time": "2021-12-14T19:54:40.059Z"
   },
   {
    "duration": 6,
    "start_time": "2021-12-14T19:54:42.217Z"
   },
   {
    "duration": 67,
    "start_time": "2021-12-14T19:54:57.528Z"
   },
   {
    "duration": 23,
    "start_time": "2021-12-14T19:54:59.297Z"
   },
   {
    "duration": 23,
    "start_time": "2021-12-14T19:55:28.098Z"
   },
   {
    "duration": 11,
    "start_time": "2021-12-14T19:55:35.435Z"
   },
   {
    "duration": 11,
    "start_time": "2021-12-14T19:56:27.630Z"
   },
   {
    "duration": 11,
    "start_time": "2021-12-14T19:56:43.631Z"
   },
   {
    "duration": 9,
    "start_time": "2021-12-14T19:58:21.626Z"
   },
   {
    "duration": 19,
    "start_time": "2021-12-14T19:58:42.695Z"
   },
   {
    "duration": 16,
    "start_time": "2021-12-14T19:58:49.533Z"
   },
   {
    "duration": 10,
    "start_time": "2021-12-14T19:59:17.130Z"
   },
   {
    "duration": 11,
    "start_time": "2021-12-14T19:59:37.251Z"
   },
   {
    "duration": 26,
    "start_time": "2021-12-14T19:59:43.773Z"
   },
   {
    "duration": 9,
    "start_time": "2021-12-14T19:59:49.313Z"
   },
   {
    "duration": 1081,
    "start_time": "2021-12-14T19:59:52.656Z"
   },
   {
    "duration": 389,
    "start_time": "2021-12-14T20:01:13.516Z"
   },
   {
    "duration": 6,
    "start_time": "2021-12-14T20:02:03.913Z"
   },
   {
    "duration": 330,
    "start_time": "2021-12-14T20:02:19.911Z"
   },
   {
    "duration": 3,
    "start_time": "2021-12-14T20:02:34.079Z"
   },
   {
    "duration": 3,
    "start_time": "2021-12-14T20:02:52.400Z"
   },
   {
    "duration": 5,
    "start_time": "2021-12-14T20:03:05.917Z"
   },
   {
    "duration": 7,
    "start_time": "2021-12-14T20:03:11.214Z"
   },
   {
    "duration": 66,
    "start_time": "2021-12-14T20:04:57.113Z"
   },
   {
    "duration": 23,
    "start_time": "2021-12-14T20:04:58.637Z"
   },
   {
    "duration": 70,
    "start_time": "2021-12-14T20:08:13.087Z"
   },
   {
    "duration": 18,
    "start_time": "2021-12-14T20:08:14.152Z"
   },
   {
    "duration": 11,
    "start_time": "2021-12-14T20:08:17.981Z"
   },
   {
    "duration": 3,
    "start_time": "2021-12-14T20:09:10.053Z"
   },
   {
    "duration": 71,
    "start_time": "2021-12-14T20:09:38.922Z"
   },
   {
    "duration": 3363,
    "start_time": "2021-12-14T20:11:01.341Z"
   },
   {
    "duration": 4292,
    "start_time": "2021-12-14T20:13:44.994Z"
   },
   {
    "duration": 3682,
    "start_time": "2021-12-14T20:19:01.975Z"
   },
   {
    "duration": 3871,
    "start_time": "2021-12-14T20:19:14.060Z"
   },
   {
    "duration": 5564,
    "start_time": "2021-12-14T20:20:23.671Z"
   },
   {
    "duration": 3550,
    "start_time": "2021-12-14T20:21:55.809Z"
   },
   {
    "duration": 326,
    "start_time": "2021-12-14T20:22:26.766Z"
   },
   {
    "duration": 313,
    "start_time": "2021-12-14T20:22:56.178Z"
   },
   {
    "duration": 31,
    "start_time": "2021-12-14T20:22:58.352Z"
   },
   {
    "duration": 15,
    "start_time": "2021-12-14T20:23:01.224Z"
   },
   {
    "duration": 259,
    "start_time": "2021-12-14T20:25:55.572Z"
   },
   {
    "duration": 20,
    "start_time": "2021-12-14T20:25:57.414Z"
   },
   {
    "duration": 11,
    "start_time": "2021-12-14T20:31:43.527Z"
   },
   {
    "duration": 358,
    "start_time": "2021-12-14T20:32:00.109Z"
   },
   {
    "duration": 27,
    "start_time": "2021-12-14T20:32:05.885Z"
   },
   {
    "duration": 24,
    "start_time": "2021-12-14T20:32:21.998Z"
   },
   {
    "duration": 8,
    "start_time": "2021-12-14T20:37:23.851Z"
   },
   {
    "duration": 6,
    "start_time": "2021-12-14T20:38:25.517Z"
   },
   {
    "duration": 10,
    "start_time": "2021-12-14T20:38:35.786Z"
   },
   {
    "duration": 9,
    "start_time": "2021-12-14T20:38:56.293Z"
   },
   {
    "duration": 8,
    "start_time": "2021-12-14T20:39:26.685Z"
   },
   {
    "duration": 489,
    "start_time": "2021-12-14T20:40:11.961Z"
   },
   {
    "duration": 28,
    "start_time": "2021-12-14T20:40:27.953Z"
   },
   {
    "duration": 27,
    "start_time": "2021-12-14T20:40:35.957Z"
   },
   {
    "duration": 9,
    "start_time": "2021-12-14T20:42:35.743Z"
   },
   {
    "duration": 26,
    "start_time": "2021-12-14T20:43:56.635Z"
   },
   {
    "duration": 11,
    "start_time": "2021-12-14T20:45:08.998Z"
   },
   {
    "duration": 10,
    "start_time": "2021-12-14T20:55:51.200Z"
   },
   {
    "duration": 12,
    "start_time": "2021-12-14T20:57:38.138Z"
   },
   {
    "duration": 14,
    "start_time": "2021-12-14T20:57:55.650Z"
   },
   {
    "duration": 12,
    "start_time": "2021-12-14T20:58:02.420Z"
   },
   {
    "duration": 12,
    "start_time": "2021-12-14T20:58:10.463Z"
   },
   {
    "duration": 15,
    "start_time": "2021-12-14T20:58:25.480Z"
   },
   {
    "duration": 9,
    "start_time": "2021-12-14T21:00:12.196Z"
   },
   {
    "duration": 10,
    "start_time": "2021-12-14T21:00:17.428Z"
   },
   {
    "duration": 13,
    "start_time": "2021-12-14T21:00:24.693Z"
   },
   {
    "duration": 12,
    "start_time": "2021-12-14T21:00:38.396Z"
   },
   {
    "duration": 119,
    "start_time": "2021-12-14T21:05:44.984Z"
   },
   {
    "duration": 115,
    "start_time": "2021-12-14T21:05:49.891Z"
   },
   {
    "duration": 329,
    "start_time": "2021-12-14T21:07:43.762Z"
   },
   {
    "duration": 9,
    "start_time": "2021-12-14T21:07:57.638Z"
   },
   {
    "duration": 8,
    "start_time": "2021-12-14T21:08:15.409Z"
   },
   {
    "duration": 4,
    "start_time": "2021-12-14T21:08:53.441Z"
   },
   {
    "duration": 4,
    "start_time": "2021-12-14T21:09:44.732Z"
   },
   {
    "duration": 4,
    "start_time": "2021-12-14T21:10:41.144Z"
   },
   {
    "duration": 5,
    "start_time": "2021-12-14T21:14:46.535Z"
   },
   {
    "duration": 4,
    "start_time": "2021-12-14T21:15:22.744Z"
   },
   {
    "duration": 877,
    "start_time": "2021-12-14T21:15:28.058Z"
   },
   {
    "duration": 4,
    "start_time": "2021-12-14T21:16:52.020Z"
   },
   {
    "duration": 780,
    "start_time": "2021-12-14T21:16:52.916Z"
   },
   {
    "duration": 5,
    "start_time": "2021-12-14T21:18:27.705Z"
   },
   {
    "duration": 725,
    "start_time": "2021-12-14T21:18:28.408Z"
   },
   {
    "duration": 5,
    "start_time": "2021-12-14T21:18:41.637Z"
   },
   {
    "duration": 879,
    "start_time": "2021-12-14T21:18:42.075Z"
   },
   {
    "duration": 4,
    "start_time": "2021-12-14T21:20:24.622Z"
   },
   {
    "duration": 1302,
    "start_time": "2021-12-14T21:20:25.454Z"
   },
   {
    "duration": 4,
    "start_time": "2021-12-14T21:21:31.222Z"
   },
   {
    "duration": 844,
    "start_time": "2021-12-14T21:21:32.449Z"
   },
   {
    "duration": 5,
    "start_time": "2021-12-14T21:22:43.228Z"
   },
   {
    "duration": 782,
    "start_time": "2021-12-14T21:22:44.200Z"
   },
   {
    "duration": 12,
    "start_time": "2021-12-14T21:23:14.836Z"
   },
   {
    "duration": 7,
    "start_time": "2021-12-14T21:30:49.073Z"
   },
   {
    "duration": 118,
    "start_time": "2021-12-14T21:30:51.034Z"
   },
   {
    "duration": 794,
    "start_time": "2021-12-14T21:31:30.057Z"
   },
   {
    "duration": 12967,
    "start_time": "2021-12-14T21:34:14.209Z"
   },
   {
    "duration": 5,
    "start_time": "2021-12-14T21:37:20.429Z"
   },
   {
    "duration": 10556,
    "start_time": "2021-12-14T21:37:22.016Z"
   },
   {
    "duration": 5,
    "start_time": "2021-12-14T21:38:19.103Z"
   },
   {
    "duration": 886,
    "start_time": "2021-12-14T21:38:20.318Z"
   },
   {
    "duration": 6,
    "start_time": "2021-12-14T21:39:50.163Z"
   },
   {
    "duration": 900,
    "start_time": "2021-12-14T21:39:50.824Z"
   },
   {
    "duration": 6,
    "start_time": "2021-12-14T21:40:06.893Z"
   },
   {
    "duration": 2499,
    "start_time": "2021-12-14T21:40:17.242Z"
   },
   {
    "duration": 115,
    "start_time": "2021-12-14T21:42:19.370Z"
   },
   {
    "duration": 4,
    "start_time": "2021-12-14T21:43:57.822Z"
   },
   {
    "duration": 2439,
    "start_time": "2021-12-14T21:43:59.201Z"
   },
   {
    "duration": 19,
    "start_time": "2021-12-14T21:44:18.458Z"
   },
   {
    "duration": 8,
    "start_time": "2021-12-14T21:47:20.693Z"
   },
   {
    "duration": 154,
    "start_time": "2021-12-14T21:47:21.471Z"
   },
   {
    "duration": 5,
    "start_time": "2021-12-14T21:47:35.041Z"
   },
   {
    "duration": 2315,
    "start_time": "2021-12-14T21:47:36.646Z"
   },
   {
    "duration": 5,
    "start_time": "2021-12-14T21:47:51.745Z"
   },
   {
    "duration": 2615,
    "start_time": "2021-12-14T21:47:53.105Z"
   },
   {
    "duration": 2517,
    "start_time": "2021-12-14T21:48:39.313Z"
   },
   {
    "duration": 18,
    "start_time": "2021-12-14T21:48:43.303Z"
   },
   {
    "duration": 5,
    "start_time": "2021-12-14T21:50:46.279Z"
   },
   {
    "duration": 3992,
    "start_time": "2021-12-14T21:50:47.145Z"
   },
   {
    "duration": 20,
    "start_time": "2021-12-14T21:50:53.943Z"
   },
   {
    "duration": 6,
    "start_time": "2021-12-14T21:54:07.179Z"
   },
   {
    "duration": 2073,
    "start_time": "2021-12-14T21:54:09.086Z"
   },
   {
    "duration": 18,
    "start_time": "2021-12-14T21:54:13.673Z"
   },
   {
    "duration": 638,
    "start_time": "2021-12-14T21:54:55.373Z"
   },
   {
    "duration": 308,
    "start_time": "2021-12-14T21:54:56.013Z"
   },
   {
    "duration": 26,
    "start_time": "2021-12-14T21:54:56.323Z"
   },
   {
    "duration": 11,
    "start_time": "2021-12-14T21:54:56.351Z"
   },
   {
    "duration": 8,
    "start_time": "2021-12-14T21:54:56.364Z"
   },
   {
    "duration": 37,
    "start_time": "2021-12-14T21:54:56.374Z"
   },
   {
    "duration": 28,
    "start_time": "2021-12-14T21:54:56.413Z"
   },
   {
    "duration": 9,
    "start_time": "2021-12-14T21:54:56.443Z"
   },
   {
    "duration": 9,
    "start_time": "2021-12-14T21:54:56.454Z"
   },
   {
    "duration": 61,
    "start_time": "2021-12-14T21:54:56.465Z"
   },
   {
    "duration": 12,
    "start_time": "2021-12-14T21:54:56.528Z"
   },
   {
    "duration": 108,
    "start_time": "2021-12-14T21:54:56.542Z"
   },
   {
    "duration": 28,
    "start_time": "2021-12-14T21:54:56.624Z"
   },
   {
    "duration": 24,
    "start_time": "2021-12-14T21:54:56.629Z"
   },
   {
    "duration": 26,
    "start_time": "2021-12-14T21:54:56.629Z"
   },
   {
    "duration": 26,
    "start_time": "2021-12-14T21:54:56.630Z"
   },
   {
    "duration": 25,
    "start_time": "2021-12-14T21:54:56.633Z"
   },
   {
    "duration": 25,
    "start_time": "2021-12-14T21:54:56.634Z"
   },
   {
    "duration": 9,
    "start_time": "2021-12-14T21:55:08.519Z"
   },
   {
    "duration": 5,
    "start_time": "2021-12-14T21:55:09.065Z"
   },
   {
    "duration": 6,
    "start_time": "2021-12-14T21:55:09.585Z"
   },
   {
    "duration": 5,
    "start_time": "2021-12-14T21:55:11.362Z"
   },
   {
    "duration": 6477,
    "start_time": "2021-12-14T21:55:14.066Z"
   },
   {
    "duration": 20,
    "start_time": "2021-12-14T21:55:27.643Z"
   },
   {
    "duration": 713,
    "start_time": "2021-12-14T21:56:02.615Z"
   },
   {
    "duration": 278,
    "start_time": "2021-12-14T21:56:03.330Z"
   },
   {
    "duration": 25,
    "start_time": "2021-12-14T21:56:03.610Z"
   },
   {
    "duration": 12,
    "start_time": "2021-12-14T21:56:03.638Z"
   },
   {
    "duration": 7,
    "start_time": "2021-12-14T21:56:03.652Z"
   },
   {
    "duration": 10,
    "start_time": "2021-12-14T21:56:03.661Z"
   },
   {
    "duration": 29,
    "start_time": "2021-12-14T21:56:03.707Z"
   },
   {
    "duration": 8,
    "start_time": "2021-12-14T21:56:03.739Z"
   },
   {
    "duration": 8,
    "start_time": "2021-12-14T21:56:03.749Z"
   },
   {
    "duration": 60,
    "start_time": "2021-12-14T21:56:03.759Z"
   },
   {
    "duration": 12,
    "start_time": "2021-12-14T21:56:03.821Z"
   },
   {
    "duration": 9,
    "start_time": "2021-12-14T21:56:03.835Z"
   },
   {
    "duration": 4,
    "start_time": "2021-12-14T21:56:03.846Z"
   },
   {
    "duration": 6,
    "start_time": "2021-12-14T21:56:03.851Z"
   },
   {
    "duration": 7,
    "start_time": "2021-12-14T21:56:03.858Z"
   },
   {
    "duration": 6603,
    "start_time": "2021-12-14T21:56:03.867Z"
   },
   {
    "duration": 18,
    "start_time": "2021-12-14T21:56:10.472Z"
   },
   {
    "duration": 29,
    "start_time": "2021-12-14T21:56:32.538Z"
   },
   {
    "duration": 401,
    "start_time": "2021-12-14T21:57:19.200Z"
   },
   {
    "duration": 9,
    "start_time": "2021-12-14T21:57:24.828Z"
   },
   {
    "duration": 591,
    "start_time": "2021-12-14T21:58:14.356Z"
   },
   {
    "duration": 269,
    "start_time": "2021-12-14T21:58:14.949Z"
   },
   {
    "duration": 25,
    "start_time": "2021-12-14T21:58:15.220Z"
   },
   {
    "duration": 10,
    "start_time": "2021-12-14T21:58:15.247Z"
   },
   {
    "duration": 6,
    "start_time": "2021-12-14T21:58:15.259Z"
   },
   {
    "duration": 9,
    "start_time": "2021-12-14T21:58:15.266Z"
   },
   {
    "duration": 27,
    "start_time": "2021-12-14T21:58:15.307Z"
   },
   {
    "duration": 7,
    "start_time": "2021-12-14T21:58:15.336Z"
   },
   {
    "duration": 8,
    "start_time": "2021-12-14T21:58:15.345Z"
   },
   {
    "duration": 63,
    "start_time": "2021-12-14T21:58:15.355Z"
   },
   {
    "duration": 10,
    "start_time": "2021-12-14T21:58:15.419Z"
   },
   {
    "duration": 8,
    "start_time": "2021-12-14T21:58:15.431Z"
   },
   {
    "duration": 5,
    "start_time": "2021-12-14T21:58:15.440Z"
   },
   {
    "duration": 13,
    "start_time": "2021-12-14T21:58:15.446Z"
   },
   {
    "duration": 6795,
    "start_time": "2021-12-14T21:58:15.460Z"
   },
   {
    "duration": 19,
    "start_time": "2021-12-14T21:58:22.257Z"
   },
   {
    "duration": 10,
    "start_time": "2021-12-14T21:58:22.278Z"
   },
   {
    "duration": 584,
    "start_time": "2021-12-14T21:59:50.636Z"
   },
   {
    "duration": 273,
    "start_time": "2021-12-14T21:59:51.222Z"
   },
   {
    "duration": 27,
    "start_time": "2021-12-14T21:59:51.497Z"
   },
   {
    "duration": 10,
    "start_time": "2021-12-14T21:59:51.525Z"
   },
   {
    "duration": 6,
    "start_time": "2021-12-14T21:59:51.538Z"
   },
   {
    "duration": 10,
    "start_time": "2021-12-14T21:59:51.546Z"
   },
   {
    "duration": 63,
    "start_time": "2021-12-14T21:59:51.558Z"
   },
   {
    "duration": 7,
    "start_time": "2021-12-14T21:59:51.624Z"
   },
   {
    "duration": 8,
    "start_time": "2021-12-14T21:59:51.633Z"
   },
   {
    "duration": 40,
    "start_time": "2021-12-14T21:59:51.643Z"
   },
   {
    "duration": 22,
    "start_time": "2021-12-14T21:59:51.685Z"
   },
   {
    "duration": 8,
    "start_time": "2021-12-14T21:59:51.709Z"
   },
   {
    "duration": 10666,
    "start_time": "2021-12-14T21:59:51.719Z"
   },
   {
    "duration": 34,
    "start_time": "2021-12-14T22:00:02.388Z"
   },
   {
    "duration": 11,
    "start_time": "2021-12-14T22:00:02.424Z"
   },
   {
    "duration": 47,
    "start_time": "2021-12-14T22:00:12.118Z"
   },
   {
    "duration": 614,
    "start_time": "2021-12-18T11:02:44.895Z"
   },
   {
    "duration": 254,
    "start_time": "2021-12-18T11:02:45.511Z"
   },
   {
    "duration": 25,
    "start_time": "2021-12-18T11:02:45.767Z"
   },
   {
    "duration": 18,
    "start_time": "2021-12-18T11:02:45.794Z"
   },
   {
    "duration": 5,
    "start_time": "2021-12-18T11:02:45.814Z"
   },
   {
    "duration": 9,
    "start_time": "2021-12-18T11:02:45.821Z"
   },
   {
    "duration": 25,
    "start_time": "2021-12-18T11:02:45.832Z"
   },
   {
    "duration": 8,
    "start_time": "2021-12-18T11:02:45.859Z"
   },
   {
    "duration": 41,
    "start_time": "2021-12-18T11:02:45.870Z"
   },
   {
    "duration": 365,
    "start_time": "2021-12-18T11:02:45.913Z"
   },
   {
    "duration": -264,
    "start_time": "2021-12-18T11:02:46.544Z"
   },
   {
    "duration": -265,
    "start_time": "2021-12-18T11:02:46.546Z"
   },
   {
    "duration": 582,
    "start_time": "2021-12-18T11:02:57.946Z"
   },
   {
    "duration": 277,
    "start_time": "2021-12-18T11:02:58.530Z"
   },
   {
    "duration": 25,
    "start_time": "2021-12-18T11:02:58.808Z"
   },
   {
    "duration": 10,
    "start_time": "2021-12-18T11:02:58.834Z"
   },
   {
    "duration": 6,
    "start_time": "2021-12-18T11:02:58.845Z"
   },
   {
    "duration": 9,
    "start_time": "2021-12-18T11:02:58.852Z"
   },
   {
    "duration": 26,
    "start_time": "2021-12-18T11:02:58.862Z"
   },
   {
    "duration": 8,
    "start_time": "2021-12-18T11:02:58.890Z"
   },
   {
    "duration": 9,
    "start_time": "2021-12-18T11:02:58.907Z"
   },
   {
    "duration": 623,
    "start_time": "2021-12-18T11:02:58.917Z"
   },
   {
    "duration": -501,
    "start_time": "2021-12-18T11:03:00.043Z"
   },
   {
    "duration": -500,
    "start_time": "2021-12-18T11:03:00.043Z"
   },
   {
    "duration": 36,
    "start_time": "2021-12-18T11:03:25.297Z"
   },
   {
    "duration": 6,
    "start_time": "2021-12-18T11:03:40.587Z"
   },
   {
    "duration": 6,
    "start_time": "2021-12-18T11:03:45.203Z"
   },
   {
    "duration": 7,
    "start_time": "2021-12-18T11:03:49.068Z"
   },
   {
    "duration": 7,
    "start_time": "2021-12-18T11:04:02.770Z"
   },
   {
    "duration": 7,
    "start_time": "2021-12-18T11:04:06.185Z"
   },
   {
    "duration": 6,
    "start_time": "2021-12-18T11:05:20.927Z"
   },
   {
    "duration": 7,
    "start_time": "2021-12-18T11:06:13.859Z"
   },
   {
    "duration": 255,
    "start_time": "2021-12-18T11:06:34.837Z"
   },
   {
    "duration": 10,
    "start_time": "2021-12-18T11:06:53.794Z"
   },
   {
    "duration": 148,
    "start_time": "2021-12-18T11:08:21.739Z"
   },
   {
    "duration": 109,
    "start_time": "2021-12-18T11:09:22.864Z"
   },
   {
    "duration": 9,
    "start_time": "2021-12-18T11:09:41.730Z"
   },
   {
    "duration": 11,
    "start_time": "2021-12-18T11:13:38.705Z"
   },
   {
    "duration": 9,
    "start_time": "2021-12-18T11:13:43.251Z"
   },
   {
    "duration": 10,
    "start_time": "2021-12-18T11:13:57.360Z"
   },
   {
    "duration": 9,
    "start_time": "2021-12-18T11:14:19.341Z"
   },
   {
    "duration": 11,
    "start_time": "2021-12-18T11:15:13.550Z"
   },
   {
    "duration": 11,
    "start_time": "2021-12-18T11:24:21.840Z"
   },
   {
    "duration": 11,
    "start_time": "2021-12-18T11:24:31.593Z"
   },
   {
    "duration": 21,
    "start_time": "2021-12-18T11:24:42.475Z"
   },
   {
    "duration": -52,
    "start_time": "2021-12-18T11:26:20.125Z"
   },
   {
    "duration": 4,
    "start_time": "2021-12-18T11:26:34.214Z"
   },
   {
    "duration": 4,
    "start_time": "2021-12-18T11:27:35.870Z"
   },
   {
    "duration": 4,
    "start_time": "2021-12-18T11:27:54.647Z"
   },
   {
    "duration": 4,
    "start_time": "2021-12-18T11:28:00.110Z"
   },
   {
    "duration": 3,
    "start_time": "2021-12-18T11:28:41.590Z"
   },
   {
    "duration": 3,
    "start_time": "2021-12-18T11:38:41.555Z"
   },
   {
    "duration": 3,
    "start_time": "2021-12-18T11:38:52.433Z"
   },
   {
    "duration": 829,
    "start_time": "2021-12-18T11:39:08.160Z"
   },
   {
    "duration": 8,
    "start_time": "2021-12-18T11:55:42.587Z"
   },
   {
    "duration": 10,
    "start_time": "2021-12-18T11:56:00.150Z"
   },
   {
    "duration": 8,
    "start_time": "2021-12-18T11:56:22.535Z"
   },
   {
    "duration": 3,
    "start_time": "2021-12-18T11:56:47.435Z"
   },
   {
    "duration": 719,
    "start_time": "2021-12-18T11:57:20.765Z"
   },
   {
    "duration": 3,
    "start_time": "2021-12-18T11:59:04.073Z"
   },
   {
    "duration": 2951,
    "start_time": "2021-12-18T11:59:07.639Z"
   },
   {
    "duration": 19,
    "start_time": "2021-12-18T11:59:21.049Z"
   },
   {
    "duration": 3,
    "start_time": "2021-12-18T11:59:51.570Z"
   },
   {
    "duration": 2842,
    "start_time": "2021-12-18T11:59:52.119Z"
   },
   {
    "duration": 19,
    "start_time": "2021-12-18T11:59:56.333Z"
   },
   {
    "duration": 3,
    "start_time": "2021-12-18T12:00:20.276Z"
   },
   {
    "duration": 2792,
    "start_time": "2021-12-18T12:00:20.775Z"
   },
   {
    "duration": 19,
    "start_time": "2021-12-18T12:00:24.266Z"
   },
   {
    "duration": 716,
    "start_time": "2021-12-18T12:00:39.066Z"
   },
   {
    "duration": 269,
    "start_time": "2021-12-18T12:00:39.784Z"
   },
   {
    "duration": 26,
    "start_time": "2021-12-18T12:00:40.055Z"
   },
   {
    "duration": 23,
    "start_time": "2021-12-18T12:00:40.083Z"
   },
   {
    "duration": 6,
    "start_time": "2021-12-18T12:00:40.108Z"
   },
   {
    "duration": 10,
    "start_time": "2021-12-18T12:00:40.115Z"
   },
   {
    "duration": 27,
    "start_time": "2021-12-18T12:00:40.127Z"
   },
   {
    "duration": 7,
    "start_time": "2021-12-18T12:00:40.156Z"
   },
   {
    "duration": 9,
    "start_time": "2021-12-18T12:00:40.166Z"
   },
   {
    "duration": 14,
    "start_time": "2021-12-18T12:00:40.207Z"
   },
   {
    "duration": 11,
    "start_time": "2021-12-18T12:00:40.223Z"
   },
   {
    "duration": 8,
    "start_time": "2021-12-18T12:00:40.236Z"
   },
   {
    "duration": 19,
    "start_time": "2021-12-18T12:00:40.246Z"
   },
   {
    "duration": 4,
    "start_time": "2021-12-18T12:00:40.267Z"
   },
   {
    "duration": 391,
    "start_time": "2021-12-18T12:00:40.272Z"
   },
   {
    "duration": 41,
    "start_time": "2021-12-18T12:00:40.624Z"
   },
   {
    "duration": 39,
    "start_time": "2021-12-18T12:00:40.627Z"
   },
   {
    "duration": 37,
    "start_time": "2021-12-18T12:00:40.630Z"
   },
   {
    "duration": 36,
    "start_time": "2021-12-18T12:00:40.632Z"
   },
   {
    "duration": 2,
    "start_time": "2021-12-18T12:00:53.509Z"
   },
   {
    "duration": 3321,
    "start_time": "2021-12-18T12:00:55.910Z"
   },
   {
    "duration": 19,
    "start_time": "2021-12-18T12:00:59.920Z"
   },
   {
    "duration": 22,
    "start_time": "2021-12-18T12:01:22.356Z"
   },
   {
    "duration": 616,
    "start_time": "2021-12-18T12:03:28.201Z"
   },
   {
    "duration": 262,
    "start_time": "2021-12-18T12:03:28.819Z"
   },
   {
    "duration": 31,
    "start_time": "2021-12-18T12:03:29.083Z"
   },
   {
    "duration": 10,
    "start_time": "2021-12-18T12:03:29.116Z"
   },
   {
    "duration": 5,
    "start_time": "2021-12-18T12:03:29.127Z"
   },
   {
    "duration": 8,
    "start_time": "2021-12-18T12:03:29.134Z"
   },
   {
    "duration": 26,
    "start_time": "2021-12-18T12:03:29.144Z"
   },
   {
    "duration": 35,
    "start_time": "2021-12-18T12:03:29.173Z"
   },
   {
    "duration": 10,
    "start_time": "2021-12-18T12:03:29.210Z"
   },
   {
    "duration": 12,
    "start_time": "2021-12-18T12:03:29.222Z"
   },
   {
    "duration": 10,
    "start_time": "2021-12-18T12:03:29.235Z"
   },
   {
    "duration": 7,
    "start_time": "2021-12-18T12:03:29.246Z"
   },
   {
    "duration": 17,
    "start_time": "2021-12-18T12:03:29.255Z"
   },
   {
    "duration": 33,
    "start_time": "2021-12-18T12:03:29.274Z"
   },
   {
    "duration": 5,
    "start_time": "2021-12-18T12:03:29.309Z"
   },
   {
    "duration": 3446,
    "start_time": "2021-12-18T12:03:29.315Z"
   },
   {
    "duration": 23,
    "start_time": "2021-12-18T12:03:32.763Z"
   },
   {
    "duration": 495,
    "start_time": "2021-12-18T12:03:32.788Z"
   },
   {
    "duration": 23,
    "start_time": "2021-12-18T12:03:33.262Z"
   },
   {
    "duration": 617,
    "start_time": "2021-12-18T12:03:45.025Z"
   },
   {
    "duration": 268,
    "start_time": "2021-12-18T12:03:45.644Z"
   },
   {
    "duration": 26,
    "start_time": "2021-12-18T12:03:45.915Z"
   },
   {
    "duration": 12,
    "start_time": "2021-12-18T12:03:45.943Z"
   },
   {
    "duration": 5,
    "start_time": "2021-12-18T12:03:45.957Z"
   },
   {
    "duration": 9,
    "start_time": "2021-12-18T12:03:45.964Z"
   },
   {
    "duration": 56,
    "start_time": "2021-12-18T12:03:45.974Z"
   },
   {
    "duration": 10,
    "start_time": "2021-12-18T12:03:46.032Z"
   },
   {
    "duration": 9,
    "start_time": "2021-12-18T12:03:46.046Z"
   },
   {
    "duration": 24,
    "start_time": "2021-12-18T12:03:46.058Z"
   },
   {
    "duration": 33,
    "start_time": "2021-12-18T12:03:46.084Z"
   },
   {
    "duration": 12,
    "start_time": "2021-12-18T12:03:46.119Z"
   },
   {
    "duration": 19,
    "start_time": "2021-12-18T12:03:46.134Z"
   },
   {
    "duration": 3,
    "start_time": "2021-12-18T12:03:46.155Z"
   },
   {
    "duration": 5,
    "start_time": "2021-12-18T12:03:46.159Z"
   },
   {
    "duration": 3376,
    "start_time": "2021-12-18T12:03:46.166Z"
   },
   {
    "duration": 22,
    "start_time": "2021-12-18T12:03:49.544Z"
   },
   {
    "duration": 464,
    "start_time": "2021-12-18T12:03:49.568Z"
   },
   {
    "duration": -245,
    "start_time": "2021-12-18T12:03:50.279Z"
   },
   {
    "duration": 8,
    "start_time": "2021-12-18T12:04:41.812Z"
   },
   {
    "duration": 8,
    "start_time": "2021-12-18T12:04:45.622Z"
   },
   {
    "duration": 22,
    "start_time": "2021-12-18T12:04:55.539Z"
   },
   {
    "duration": 609,
    "start_time": "2021-12-18T12:05:28.589Z"
   },
   {
    "duration": 257,
    "start_time": "2021-12-18T12:05:29.200Z"
   },
   {
    "duration": 25,
    "start_time": "2021-12-18T12:05:29.459Z"
   },
   {
    "duration": 9,
    "start_time": "2021-12-18T12:05:29.486Z"
   },
   {
    "duration": 5,
    "start_time": "2021-12-18T12:05:29.506Z"
   },
   {
    "duration": 10,
    "start_time": "2021-12-18T12:05:29.512Z"
   },
   {
    "duration": 24,
    "start_time": "2021-12-18T12:05:29.523Z"
   },
   {
    "duration": 7,
    "start_time": "2021-12-18T12:05:29.549Z"
   },
   {
    "duration": 8,
    "start_time": "2021-12-18T12:05:29.557Z"
   },
   {
    "duration": 8,
    "start_time": "2021-12-18T12:05:29.566Z"
   },
   {
    "duration": 9,
    "start_time": "2021-12-18T12:05:29.607Z"
   },
   {
    "duration": 7,
    "start_time": "2021-12-18T12:05:29.618Z"
   },
   {
    "duration": 23,
    "start_time": "2021-12-18T12:05:29.627Z"
   },
   {
    "duration": 5,
    "start_time": "2021-12-18T12:05:29.652Z"
   },
   {
    "duration": 336,
    "start_time": "2021-12-18T12:05:29.659Z"
   },
   {
    "duration": 75,
    "start_time": "2021-12-18T12:05:29.922Z"
   },
   {
    "duration": 3191,
    "start_time": "2021-12-18T12:05:41.460Z"
   },
   {
    "duration": 23,
    "start_time": "2021-12-18T12:05:46.192Z"
   },
   {
    "duration": 22,
    "start_time": "2021-12-18T12:05:52.988Z"
   },
   {
    "duration": 10,
    "start_time": "2021-12-18T12:07:22.044Z"
   },
   {
    "duration": 710,
    "start_time": "2021-12-18T12:07:44.296Z"
   },
   {
    "duration": 270,
    "start_time": "2021-12-18T12:07:45.008Z"
   },
   {
    "duration": 41,
    "start_time": "2021-12-18T12:07:45.284Z"
   },
   {
    "duration": 10,
    "start_time": "2021-12-18T12:07:45.327Z"
   },
   {
    "duration": 5,
    "start_time": "2021-12-18T12:07:45.339Z"
   },
   {
    "duration": 11,
    "start_time": "2021-12-18T12:07:45.346Z"
   },
   {
    "duration": 52,
    "start_time": "2021-12-18T12:07:45.359Z"
   },
   {
    "duration": 9,
    "start_time": "2021-12-18T12:07:45.413Z"
   },
   {
    "duration": 10,
    "start_time": "2021-12-18T12:07:45.424Z"
   },
   {
    "duration": 509,
    "start_time": "2021-12-18T12:07:45.436Z"
   },
   {
    "duration": -27,
    "start_time": "2021-12-18T12:07:45.974Z"
   },
   {
    "duration": -32,
    "start_time": "2021-12-18T12:07:45.980Z"
   },
   {
    "duration": -33,
    "start_time": "2021-12-18T12:07:45.982Z"
   },
   {
    "duration": -36,
    "start_time": "2021-12-18T12:07:45.986Z"
   },
   {
    "duration": -36,
    "start_time": "2021-12-18T12:07:45.987Z"
   },
   {
    "duration": 3,
    "start_time": "2021-12-18T12:08:26.031Z"
   },
   {
    "duration": 332,
    "start_time": "2021-12-18T12:09:33.452Z"
   },
   {
    "duration": 3,
    "start_time": "2021-12-18T12:09:45.977Z"
   },
   {
    "duration": 315,
    "start_time": "2021-12-18T12:09:47.482Z"
   },
   {
    "duration": 2,
    "start_time": "2021-12-18T12:10:06.113Z"
   },
   {
    "duration": 1905,
    "start_time": "2021-12-18T12:10:07.380Z"
   },
   {
    "duration": 8,
    "start_time": "2021-12-18T12:10:14.280Z"
   },
   {
    "duration": 3,
    "start_time": "2021-12-18T12:10:29.143Z"
   },
   {
    "duration": 9,
    "start_time": "2021-12-18T12:10:30.037Z"
   },
   {
    "duration": 9,
    "start_time": "2021-12-18T12:10:41.859Z"
   },
   {
    "duration": 641,
    "start_time": "2021-12-18T12:11:17.389Z"
   },
   {
    "duration": 258,
    "start_time": "2021-12-18T12:11:18.031Z"
   },
   {
    "duration": 30,
    "start_time": "2021-12-18T12:11:18.294Z"
   },
   {
    "duration": 10,
    "start_time": "2021-12-18T12:11:18.325Z"
   },
   {
    "duration": 5,
    "start_time": "2021-12-18T12:11:18.337Z"
   },
   {
    "duration": 9,
    "start_time": "2021-12-18T12:11:18.344Z"
   },
   {
    "duration": 61,
    "start_time": "2021-12-18T12:11:18.356Z"
   },
   {
    "duration": 10,
    "start_time": "2021-12-18T12:11:18.420Z"
   },
   {
    "duration": 10,
    "start_time": "2021-12-18T12:11:18.432Z"
   },
   {
    "duration": 3,
    "start_time": "2021-12-18T12:11:18.444Z"
   },
   {
    "duration": 4,
    "start_time": "2021-12-18T12:11:18.449Z"
   },
   {
    "duration": 15,
    "start_time": "2021-12-18T12:11:18.455Z"
   },
   {
    "duration": 45,
    "start_time": "2021-12-18T12:11:18.472Z"
   },
   {
    "duration": 29,
    "start_time": "2021-12-18T12:11:18.519Z"
   },
   {
    "duration": 4,
    "start_time": "2021-12-18T12:11:18.550Z"
   },
   {
    "duration": 3219,
    "start_time": "2021-12-18T12:11:18.556Z"
   },
   {
    "duration": 32,
    "start_time": "2021-12-18T12:11:21.777Z"
   },
   {
    "duration": 5,
    "start_time": "2021-12-18T12:23:18.140Z"
   },
   {
    "duration": 5,
    "start_time": "2021-12-18T12:23:44.902Z"
   },
   {
    "duration": 4,
    "start_time": "2021-12-18T12:23:53.627Z"
   },
   {
    "duration": 14,
    "start_time": "2021-12-18T12:25:49.426Z"
   },
   {
    "duration": 11,
    "start_time": "2021-12-18T12:25:54.567Z"
   },
   {
    "duration": 9,
    "start_time": "2021-12-18T12:26:46.669Z"
   },
   {
    "duration": 9,
    "start_time": "2021-12-18T12:28:58.932Z"
   },
   {
    "duration": 4355,
    "start_time": "2021-12-18T12:31:04.919Z"
   },
   {
    "duration": 318,
    "start_time": "2021-12-18T12:31:16.636Z"
   },
   {
    "duration": 450,
    "start_time": "2021-12-18T12:31:34.356Z"
   },
   {
    "duration": 423,
    "start_time": "2021-12-18T12:31:39.023Z"
   },
   {
    "duration": 3,
    "start_time": "2021-12-18T12:32:04.658Z"
   },
   {
    "duration": 375,
    "start_time": "2021-12-18T12:32:11.827Z"
   },
   {
    "duration": 537,
    "start_time": "2021-12-18T12:32:48.083Z"
   },
   {
    "duration": 514,
    "start_time": "2021-12-18T12:33:28.268Z"
   },
   {
    "duration": 291,
    "start_time": "2021-12-18T12:34:43.449Z"
   },
   {
    "duration": 321,
    "start_time": "2021-12-18T12:34:59.151Z"
   },
   {
    "duration": 100,
    "start_time": "2021-12-18T12:36:27.618Z"
   },
   {
    "duration": 301,
    "start_time": "2021-12-18T12:36:33.184Z"
   },
   {
    "duration": 14886,
    "start_time": "2021-12-18T12:36:43.036Z"
   },
   {
    "duration": 48542,
    "start_time": "2021-12-18T12:36:59.758Z"
   },
   {
    "duration": 3561,
    "start_time": "2021-12-18T12:39:41.053Z"
   },
   {
    "duration": 344,
    "start_time": "2021-12-18T12:39:56.417Z"
   },
   {
    "duration": 367,
    "start_time": "2021-12-18T12:40:23.676Z"
   },
   {
    "duration": 357,
    "start_time": "2021-12-18T12:40:30.933Z"
   },
   {
    "duration": 390,
    "start_time": "2021-12-18T12:41:08.395Z"
   },
   {
    "duration": 362,
    "start_time": "2021-12-18T12:41:16.453Z"
   },
   {
    "duration": 364,
    "start_time": "2021-12-18T12:41:41.837Z"
   },
   {
    "duration": 357,
    "start_time": "2021-12-18T12:41:44.643Z"
   },
   {
    "duration": 751,
    "start_time": "2021-12-18T12:43:37.204Z"
   },
   {
    "duration": 719,
    "start_time": "2021-12-18T12:43:55.700Z"
   },
   {
    "duration": 506,
    "start_time": "2021-12-18T12:44:05.701Z"
   },
   {
    "duration": 499,
    "start_time": "2021-12-18T12:44:12.845Z"
   },
   {
    "duration": 513,
    "start_time": "2021-12-18T12:44:36.199Z"
   },
   {
    "duration": 543,
    "start_time": "2021-12-18T12:44:52.999Z"
   },
   {
    "duration": 740,
    "start_time": "2021-12-18T12:46:48.481Z"
   },
   {
    "duration": 548,
    "start_time": "2021-12-18T12:47:06.657Z"
   },
   {
    "duration": 302,
    "start_time": "2021-12-18T12:48:10.981Z"
   },
   {
    "duration": 509,
    "start_time": "2021-12-18T12:48:24.299Z"
   },
   {
    "duration": 3,
    "start_time": "2021-12-18T12:55:39.426Z"
   },
   {
    "duration": 9,
    "start_time": "2021-12-18T12:59:12.530Z"
   },
   {
    "duration": 7,
    "start_time": "2021-12-18T12:59:18.206Z"
   },
   {
    "duration": 8,
    "start_time": "2021-12-18T12:59:30.198Z"
   },
   {
    "duration": 7,
    "start_time": "2021-12-18T12:59:33.762Z"
   },
   {
    "duration": 6,
    "start_time": "2021-12-18T13:02:37.167Z"
   },
   {
    "duration": 9,
    "start_time": "2021-12-18T13:02:43.287Z"
   },
   {
    "duration": 10,
    "start_time": "2021-12-18T13:02:52.106Z"
   },
   {
    "duration": 31,
    "start_time": "2021-12-18T13:03:28.857Z"
   },
   {
    "duration": 17,
    "start_time": "2021-12-18T13:03:47.877Z"
   },
   {
    "duration": 661,
    "start_time": "2021-12-18T13:04:31.211Z"
   },
   {
    "duration": 273,
    "start_time": "2021-12-18T13:04:31.874Z"
   },
   {
    "duration": 23,
    "start_time": "2021-12-18T13:04:32.150Z"
   },
   {
    "duration": 9,
    "start_time": "2021-12-18T13:04:32.175Z"
   },
   {
    "duration": 23,
    "start_time": "2021-12-18T13:04:32.186Z"
   },
   {
    "duration": 10,
    "start_time": "2021-12-18T13:04:32.211Z"
   },
   {
    "duration": 29,
    "start_time": "2021-12-18T13:04:32.223Z"
   },
   {
    "duration": 8,
    "start_time": "2021-12-18T13:04:32.255Z"
   },
   {
    "duration": 8,
    "start_time": "2021-12-18T13:04:32.266Z"
   },
   {
    "duration": 3,
    "start_time": "2021-12-18T13:04:32.275Z"
   },
   {
    "duration": 6,
    "start_time": "2021-12-18T13:04:32.307Z"
   },
   {
    "duration": 11,
    "start_time": "2021-12-18T13:04:32.315Z"
   },
   {
    "duration": 7,
    "start_time": "2021-12-18T13:04:32.328Z"
   },
   {
    "duration": 3,
    "start_time": "2021-12-18T13:04:32.336Z"
   },
   {
    "duration": 4030,
    "start_time": "2021-12-18T13:04:32.341Z"
   },
   {
    "duration": 4,
    "start_time": "2021-12-18T13:04:36.372Z"
   },
   {
    "duration": 17,
    "start_time": "2021-12-18T13:04:36.378Z"
   },
   {
    "duration": 16,
    "start_time": "2021-12-18T13:04:36.397Z"
   },
   {
    "duration": 507,
    "start_time": "2021-12-18T13:04:36.414Z"
   },
   {
    "duration": 7,
    "start_time": "2021-12-18T13:04:36.922Z"
   },
   {
    "duration": 8,
    "start_time": "2021-12-18T13:04:36.931Z"
   },
   {
    "duration": 34,
    "start_time": "2021-12-18T13:04:36.940Z"
   },
   {
    "duration": 8,
    "start_time": "2021-12-18T13:05:05.808Z"
   },
   {
    "duration": 752,
    "start_time": "2021-12-18T13:05:54.464Z"
   },
   {
    "duration": 271,
    "start_time": "2021-12-18T13:05:55.218Z"
   },
   {
    "duration": 29,
    "start_time": "2021-12-18T13:05:55.491Z"
   },
   {
    "duration": 10,
    "start_time": "2021-12-18T13:05:55.522Z"
   },
   {
    "duration": 6,
    "start_time": "2021-12-18T13:05:55.533Z"
   },
   {
    "duration": 9,
    "start_time": "2021-12-18T13:05:55.541Z"
   },
   {
    "duration": 56,
    "start_time": "2021-12-18T13:05:55.551Z"
   },
   {
    "duration": 8,
    "start_time": "2021-12-18T13:05:55.610Z"
   },
   {
    "duration": 9,
    "start_time": "2021-12-18T13:05:55.620Z"
   },
   {
    "duration": 2,
    "start_time": "2021-12-18T13:05:55.630Z"
   },
   {
    "duration": 4,
    "start_time": "2021-12-18T13:05:55.634Z"
   },
   {
    "duration": 12,
    "start_time": "2021-12-18T13:05:55.640Z"
   },
   {
    "duration": 10,
    "start_time": "2021-12-18T13:05:55.654Z"
   },
   {
    "duration": 44,
    "start_time": "2021-12-18T13:05:55.665Z"
   },
   {
    "duration": 3482,
    "start_time": "2021-12-18T13:05:55.711Z"
   },
   {
    "duration": 4,
    "start_time": "2021-12-18T13:05:59.195Z"
   },
   {
    "duration": 24,
    "start_time": "2021-12-18T13:05:59.207Z"
   },
   {
    "duration": 8,
    "start_time": "2021-12-18T13:05:59.233Z"
   },
   {
    "duration": 568,
    "start_time": "2021-12-18T13:05:59.243Z"
   },
   {
    "duration": 7,
    "start_time": "2021-12-18T13:05:59.812Z"
   },
   {
    "duration": 9,
    "start_time": "2021-12-18T13:05:59.821Z"
   },
   {
    "duration": 20,
    "start_time": "2021-12-18T13:05:59.831Z"
   },
   {
    "duration": 710,
    "start_time": "2021-12-18T13:06:47.196Z"
   },
   {
    "duration": 283,
    "start_time": "2021-12-18T13:06:47.908Z"
   },
   {
    "duration": 24,
    "start_time": "2021-12-18T13:06:48.193Z"
   },
   {
    "duration": 12,
    "start_time": "2021-12-18T13:06:48.219Z"
   },
   {
    "duration": 5,
    "start_time": "2021-12-18T13:06:48.233Z"
   },
   {
    "duration": 11,
    "start_time": "2021-12-18T13:06:48.240Z"
   },
   {
    "duration": 27,
    "start_time": "2021-12-18T13:06:48.253Z"
   },
   {
    "duration": 8,
    "start_time": "2021-12-18T13:06:48.308Z"
   },
   {
    "duration": 7,
    "start_time": "2021-12-18T13:06:48.318Z"
   },
   {
    "duration": 3,
    "start_time": "2021-12-18T13:06:48.327Z"
   },
   {
    "duration": 8,
    "start_time": "2021-12-18T13:06:48.332Z"
   },
   {
    "duration": 15,
    "start_time": "2021-12-18T13:06:48.341Z"
   },
   {
    "duration": 9,
    "start_time": "2021-12-18T13:06:48.357Z"
   },
   {
    "duration": 3,
    "start_time": "2021-12-18T13:06:48.367Z"
   },
   {
    "duration": 3317,
    "start_time": "2021-12-18T13:06:48.372Z"
   },
   {
    "duration": 4,
    "start_time": "2021-12-18T13:06:51.690Z"
   },
   {
    "duration": 22,
    "start_time": "2021-12-18T13:06:51.696Z"
   },
   {
    "duration": 8,
    "start_time": "2021-12-18T13:06:51.720Z"
   },
   {
    "duration": 530,
    "start_time": "2021-12-18T13:06:51.730Z"
   },
   {
    "duration": 8,
    "start_time": "2021-12-18T13:06:52.262Z"
   },
   {
    "duration": 10,
    "start_time": "2021-12-18T13:06:52.271Z"
   },
   {
    "duration": 595,
    "start_time": "2021-12-18T13:07:00.555Z"
   },
   {
    "duration": 520,
    "start_time": "2021-12-18T13:08:39.936Z"
   },
   {
    "duration": 1422,
    "start_time": "2021-12-18T13:08:48.194Z"
   },
   {
    "duration": 997,
    "start_time": "2021-12-18T13:08:49.618Z"
   },
   {
    "duration": 20,
    "start_time": "2021-12-18T13:08:50.618Z"
   },
   {
    "duration": 14,
    "start_time": "2021-12-18T13:08:50.641Z"
   },
   {
    "duration": 6,
    "start_time": "2021-12-18T13:08:50.657Z"
   },
   {
    "duration": 9,
    "start_time": "2021-12-18T13:08:50.665Z"
   },
   {
    "duration": 53,
    "start_time": "2021-12-18T13:08:50.676Z"
   },
   {
    "duration": 7,
    "start_time": "2021-12-18T13:08:50.730Z"
   },
   {
    "duration": 7,
    "start_time": "2021-12-18T13:08:50.740Z"
   },
   {
    "duration": 2,
    "start_time": "2021-12-18T13:08:50.749Z"
   },
   {
    "duration": 4,
    "start_time": "2021-12-18T13:08:50.753Z"
   },
   {
    "duration": 11,
    "start_time": "2021-12-18T13:08:50.759Z"
   },
   {
    "duration": 35,
    "start_time": "2021-12-18T13:08:50.772Z"
   },
   {
    "duration": 3,
    "start_time": "2021-12-18T13:08:50.809Z"
   },
   {
    "duration": 3143,
    "start_time": "2021-12-18T13:08:50.814Z"
   },
   {
    "duration": 4,
    "start_time": "2021-12-18T13:08:53.958Z"
   },
   {
    "duration": 19,
    "start_time": "2021-12-18T13:08:53.964Z"
   },
   {
    "duration": 16,
    "start_time": "2021-12-18T13:08:53.985Z"
   },
   {
    "duration": 527,
    "start_time": "2021-12-18T13:08:54.003Z"
   },
   {
    "duration": 7,
    "start_time": "2021-12-18T13:08:54.532Z"
   },
   {
    "duration": 8,
    "start_time": "2021-12-18T13:08:54.540Z"
   },
   {
    "duration": 602,
    "start_time": "2021-12-18T13:08:54.550Z"
   },
   {
    "duration": 491,
    "start_time": "2021-12-18T13:09:35.230Z"
   },
   {
    "duration": 2372,
    "start_time": "2021-12-18T13:10:21.226Z"
   },
   {
    "duration": 6,
    "start_time": "2021-12-18T13:10:39.937Z"
   },
   {
    "duration": 6,
    "start_time": "2021-12-18T13:10:52.015Z"
   },
   {
    "duration": 537,
    "start_time": "2021-12-18T13:10:58.006Z"
   },
   {
    "duration": 504,
    "start_time": "2021-12-18T13:11:09.014Z"
   },
   {
    "duration": 646,
    "start_time": "2021-12-18T13:11:15.151Z"
   },
   {
    "duration": 276,
    "start_time": "2021-12-18T13:11:15.799Z"
   },
   {
    "duration": 32,
    "start_time": "2021-12-18T13:11:16.080Z"
   },
   {
    "duration": 11,
    "start_time": "2021-12-18T13:11:16.114Z"
   },
   {
    "duration": 6,
    "start_time": "2021-12-18T13:11:16.126Z"
   },
   {
    "duration": 11,
    "start_time": "2021-12-18T13:11:16.134Z"
   },
   {
    "duration": 26,
    "start_time": "2021-12-18T13:11:16.147Z"
   },
   {
    "duration": 37,
    "start_time": "2021-12-18T13:11:16.176Z"
   },
   {
    "duration": 9,
    "start_time": "2021-12-18T13:11:16.215Z"
   },
   {
    "duration": 3,
    "start_time": "2021-12-18T13:11:16.226Z"
   },
   {
    "duration": 5,
    "start_time": "2021-12-18T13:11:16.230Z"
   },
   {
    "duration": 12,
    "start_time": "2021-12-18T13:11:16.236Z"
   },
   {
    "duration": 8,
    "start_time": "2021-12-18T13:11:16.250Z"
   },
   {
    "duration": 6,
    "start_time": "2021-12-18T13:11:16.260Z"
   },
   {
    "duration": 3318,
    "start_time": "2021-12-18T13:11:16.267Z"
   },
   {
    "duration": 4,
    "start_time": "2021-12-18T13:11:19.587Z"
   },
   {
    "duration": 25,
    "start_time": "2021-12-18T13:11:19.593Z"
   },
   {
    "duration": 7,
    "start_time": "2021-12-18T13:11:19.620Z"
   },
   {
    "duration": 4,
    "start_time": "2021-12-18T13:11:19.629Z"
   },
   {
    "duration": 526,
    "start_time": "2021-12-18T13:11:19.635Z"
   },
   {
    "duration": 7,
    "start_time": "2021-12-18T13:11:20.163Z"
   },
   {
    "duration": 9,
    "start_time": "2021-12-18T13:11:20.171Z"
   },
   {
    "duration": 509,
    "start_time": "2021-12-18T13:11:20.181Z"
   },
   {
    "duration": 32,
    "start_time": "2021-12-18T13:12:58.666Z"
   },
   {
    "duration": 6,
    "start_time": "2021-12-18T13:16:21.145Z"
   },
   {
    "duration": 9,
    "start_time": "2021-12-18T13:20:04.460Z"
   },
   {
    "duration": 6,
    "start_time": "2021-12-18T13:20:11.673Z"
   },
   {
    "duration": 6,
    "start_time": "2021-12-18T13:20:24.424Z"
   },
   {
    "duration": 67,
    "start_time": "2021-12-18T14:49:32.254Z"
   },
   {
    "duration": 127,
    "start_time": "2021-12-18T14:51:37.970Z"
   },
   {
    "duration": 3,
    "start_time": "2021-12-18T14:52:10.315Z"
   },
   {
    "duration": 4,
    "start_time": "2021-12-18T14:52:42.554Z"
   },
   {
    "duration": 5,
    "start_time": "2021-12-18T14:52:49.504Z"
   },
   {
    "duration": 4,
    "start_time": "2021-12-18T14:53:22.891Z"
   },
   {
    "duration": 4,
    "start_time": "2021-12-18T14:53:31.819Z"
   },
   {
    "duration": 2717,
    "start_time": "2021-12-18T14:54:13.669Z"
   },
   {
    "duration": 20,
    "start_time": "2021-12-18T14:54:26.122Z"
   },
   {
    "duration": 5,
    "start_time": "2021-12-18T14:56:05.321Z"
   },
   {
    "duration": 2984,
    "start_time": "2021-12-18T14:57:27.944Z"
   },
   {
    "duration": 10,
    "start_time": "2021-12-18T14:57:43.725Z"
   },
   {
    "duration": 8,
    "start_time": "2021-12-18T15:07:52.500Z"
   },
   {
    "duration": 33,
    "start_time": "2021-12-18T15:09:04.175Z"
   },
   {
    "duration": 29,
    "start_time": "2021-12-18T15:09:19.375Z"
   },
   {
    "duration": 29,
    "start_time": "2021-12-18T15:11:26.748Z"
   },
   {
    "duration": 1146,
    "start_time": "2021-12-18T15:37:04.250Z"
   },
   {
    "duration": 306,
    "start_time": "2021-12-18T15:37:05.398Z"
   },
   {
    "duration": 25,
    "start_time": "2021-12-18T15:37:05.706Z"
   },
   {
    "duration": 11,
    "start_time": "2021-12-18T15:37:05.733Z"
   },
   {
    "duration": 6,
    "start_time": "2021-12-18T15:37:05.746Z"
   },
   {
    "duration": 10,
    "start_time": "2021-12-18T15:37:05.754Z"
   },
   {
    "duration": 56,
    "start_time": "2021-12-18T15:37:05.766Z"
   },
   {
    "duration": 10,
    "start_time": "2021-12-18T15:37:05.825Z"
   },
   {
    "duration": 10,
    "start_time": "2021-12-18T15:37:05.837Z"
   },
   {
    "duration": 20,
    "start_time": "2021-12-18T15:37:05.848Z"
   },
   {
    "duration": 23,
    "start_time": "2021-12-18T15:37:05.870Z"
   },
   {
    "duration": 18,
    "start_time": "2021-12-18T15:37:05.896Z"
   },
   {
    "duration": 14,
    "start_time": "2021-12-18T15:37:05.916Z"
   },
   {
    "duration": 4,
    "start_time": "2021-12-18T15:37:05.932Z"
   },
   {
    "duration": 3543,
    "start_time": "2021-12-18T15:37:05.939Z"
   },
   {
    "duration": 6,
    "start_time": "2021-12-18T15:37:09.483Z"
   },
   {
    "duration": 28,
    "start_time": "2021-12-18T15:37:09.492Z"
   },
   {
    "duration": 10,
    "start_time": "2021-12-18T15:37:09.522Z"
   },
   {
    "duration": 739,
    "start_time": "2021-12-18T15:37:09.534Z"
   },
   {
    "duration": 9,
    "start_time": "2021-12-18T15:37:10.275Z"
   },
   {
    "duration": 32,
    "start_time": "2021-12-18T15:37:10.286Z"
   },
   {
    "duration": 520,
    "start_time": "2021-12-18T15:37:10.320Z"
   },
   {
    "duration": 51,
    "start_time": "2021-12-18T15:37:10.845Z"
   },
   {
    "duration": 14,
    "start_time": "2021-12-18T15:37:10.898Z"
   },
   {
    "duration": 19,
    "start_time": "2021-12-18T15:37:10.913Z"
   },
   {
    "duration": 8,
    "start_time": "2021-12-18T15:37:10.935Z"
   },
   {
    "duration": 5,
    "start_time": "2021-12-18T15:37:10.945Z"
   },
   {
    "duration": 3,
    "start_time": "2021-12-18T15:37:10.952Z"
   },
   {
    "duration": 2860,
    "start_time": "2021-12-18T15:37:10.957Z"
   },
   {
    "duration": 9,
    "start_time": "2021-12-18T15:37:13.820Z"
   },
   {
    "duration": 42,
    "start_time": "2021-12-18T15:37:13.831Z"
   },
   {
    "duration": 48,
    "start_time": "2021-12-18T15:45:00.617Z"
   },
   {
    "duration": 347,
    "start_time": "2021-12-18T15:48:39.661Z"
   },
   {
    "duration": 4,
    "start_time": "2021-12-18T15:48:44.088Z"
   },
   {
    "duration": 468,
    "start_time": "2021-12-18T15:48:44.842Z"
   },
   {
    "duration": 358,
    "start_time": "2021-12-18T15:48:56.434Z"
   },
   {
    "duration": 315,
    "start_time": "2021-12-18T15:49:14.941Z"
   },
   {
    "duration": 662,
    "start_time": "2021-12-18T15:49:33.742Z"
   },
   {
    "duration": 266,
    "start_time": "2021-12-18T15:49:34.406Z"
   },
   {
    "duration": 31,
    "start_time": "2021-12-18T15:49:34.676Z"
   },
   {
    "duration": 11,
    "start_time": "2021-12-18T15:49:34.709Z"
   },
   {
    "duration": 5,
    "start_time": "2021-12-18T15:49:34.722Z"
   },
   {
    "duration": 16,
    "start_time": "2021-12-18T15:49:34.729Z"
   },
   {
    "duration": 26,
    "start_time": "2021-12-18T15:49:34.748Z"
   },
   {
    "duration": 36,
    "start_time": "2021-12-18T15:49:34.777Z"
   },
   {
    "duration": 8,
    "start_time": "2021-12-18T15:49:34.815Z"
   },
   {
    "duration": 3,
    "start_time": "2021-12-18T15:49:34.825Z"
   },
   {
    "duration": 4,
    "start_time": "2021-12-18T15:49:34.829Z"
   },
   {
    "duration": 12,
    "start_time": "2021-12-18T15:49:34.835Z"
   },
   {
    "duration": 9,
    "start_time": "2021-12-18T15:49:34.849Z"
   },
   {
    "duration": 4,
    "start_time": "2021-12-18T15:49:34.860Z"
   },
   {
    "duration": 3251,
    "start_time": "2021-12-18T15:49:34.866Z"
   },
   {
    "duration": 4,
    "start_time": "2021-12-18T15:49:38.119Z"
   },
   {
    "duration": 16,
    "start_time": "2021-12-18T15:49:38.124Z"
   },
   {
    "duration": 8,
    "start_time": "2021-12-18T15:49:38.142Z"
   },
   {
    "duration": 580,
    "start_time": "2021-12-18T15:49:38.152Z"
   },
   {
    "duration": 7,
    "start_time": "2021-12-18T15:49:38.734Z"
   },
   {
    "duration": 8,
    "start_time": "2021-12-18T15:49:38.743Z"
   },
   {
    "duration": 516,
    "start_time": "2021-12-18T15:49:38.754Z"
   },
   {
    "duration": 57,
    "start_time": "2021-12-18T15:49:39.272Z"
   },
   {
    "duration": 11,
    "start_time": "2021-12-18T15:49:39.331Z"
   },
   {
    "duration": 29,
    "start_time": "2021-12-18T15:49:39.344Z"
   },
   {
    "duration": 31,
    "start_time": "2021-12-18T15:49:39.375Z"
   },
   {
    "duration": 5,
    "start_time": "2021-12-18T15:49:39.409Z"
   },
   {
    "duration": 5,
    "start_time": "2021-12-18T15:49:39.415Z"
   },
   {
    "duration": 2727,
    "start_time": "2021-12-18T15:49:39.421Z"
   },
   {
    "duration": 8,
    "start_time": "2021-12-18T15:49:42.150Z"
   },
   {
    "duration": 29,
    "start_time": "2021-12-18T15:49:42.160Z"
   },
   {
    "duration": 15,
    "start_time": "2021-12-18T15:49:42.191Z"
   },
   {
    "duration": 2658,
    "start_time": "2021-12-18T15:49:42.208Z"
   },
   {
    "duration": 40,
    "start_time": "2021-12-18T15:49:44.868Z"
   },
   {
    "duration": 26,
    "start_time": "2021-12-18T15:50:05.680Z"
   },
   {
    "duration": 4,
    "start_time": "2021-12-18T15:54:16.220Z"
   },
   {
    "duration": 5445,
    "start_time": "2021-12-18T15:54:19.527Z"
   },
   {
    "duration": 18,
    "start_time": "2021-12-18T15:54:29.786Z"
   },
   {
    "duration": 12,
    "start_time": "2021-12-18T15:54:38.374Z"
   },
   {
    "duration": 31,
    "start_time": "2021-12-18T15:55:21.248Z"
   },
   {
    "duration": 780,
    "start_time": "2021-12-18T15:59:11.674Z"
   },
   {
    "duration": 312,
    "start_time": "2021-12-18T15:59:12.456Z"
   },
   {
    "duration": 26,
    "start_time": "2021-12-18T15:59:12.773Z"
   },
   {
    "duration": 15,
    "start_time": "2021-12-18T15:59:12.807Z"
   },
   {
    "duration": 9,
    "start_time": "2021-12-18T15:59:12.825Z"
   },
   {
    "duration": 12,
    "start_time": "2021-12-18T15:59:12.836Z"
   },
   {
    "duration": 62,
    "start_time": "2021-12-18T15:59:12.850Z"
   },
   {
    "duration": 9,
    "start_time": "2021-12-18T15:59:12.915Z"
   },
   {
    "duration": 11,
    "start_time": "2021-12-18T15:59:12.928Z"
   },
   {
    "duration": 5,
    "start_time": "2021-12-18T15:59:12.941Z"
   },
   {
    "duration": 34,
    "start_time": "2021-12-18T15:59:12.949Z"
   },
   {
    "duration": 44,
    "start_time": "2021-12-18T15:59:12.986Z"
   },
   {
    "duration": 23,
    "start_time": "2021-12-18T15:59:13.032Z"
   },
   {
    "duration": 13,
    "start_time": "2021-12-18T15:59:13.057Z"
   },
   {
    "duration": 3507,
    "start_time": "2021-12-18T15:59:13.072Z"
   },
   {
    "duration": 5,
    "start_time": "2021-12-18T15:59:16.581Z"
   },
   {
    "duration": 25,
    "start_time": "2021-12-18T15:59:16.588Z"
   },
   {
    "duration": 9,
    "start_time": "2021-12-18T15:59:16.615Z"
   },
   {
    "duration": 540,
    "start_time": "2021-12-18T15:59:16.625Z"
   },
   {
    "duration": 7,
    "start_time": "2021-12-18T15:59:17.167Z"
   },
   {
    "duration": 8,
    "start_time": "2021-12-18T15:59:17.176Z"
   },
   {
    "duration": 523,
    "start_time": "2021-12-18T15:59:17.186Z"
   },
   {
    "duration": 32,
    "start_time": "2021-12-18T15:59:17.710Z"
   },
   {
    "duration": 7,
    "start_time": "2021-12-18T15:59:17.744Z"
   },
   {
    "duration": 19,
    "start_time": "2021-12-18T15:59:17.753Z"
   },
   {
    "duration": 34,
    "start_time": "2021-12-18T15:59:17.774Z"
   },
   {
    "duration": 16,
    "start_time": "2021-12-18T15:59:17.811Z"
   },
   {
    "duration": 3,
    "start_time": "2021-12-18T15:59:17.829Z"
   },
   {
    "duration": 2652,
    "start_time": "2021-12-18T15:59:17.834Z"
   },
   {
    "duration": 18,
    "start_time": "2021-12-18T15:59:20.488Z"
   },
   {
    "duration": 22,
    "start_time": "2021-12-18T15:59:20.508Z"
   },
   {
    "duration": 29,
    "start_time": "2021-12-18T15:59:20.532Z"
   },
   {
    "duration": 4,
    "start_time": "2021-12-18T15:59:20.562Z"
   },
   {
    "duration": 3077,
    "start_time": "2021-12-18T15:59:20.568Z"
   },
   {
    "duration": 31,
    "start_time": "2021-12-18T15:59:23.648Z"
   },
   {
    "duration": 23,
    "start_time": "2021-12-18T15:59:49.176Z"
   },
   {
    "duration": 29,
    "start_time": "2021-12-18T16:01:30.103Z"
   },
   {
    "duration": 5,
    "start_time": "2021-12-18T16:02:24.973Z"
   },
   {
    "duration": 8,
    "start_time": "2021-12-18T16:02:40.996Z"
   },
   {
    "duration": 5,
    "start_time": "2021-12-18T16:02:44.591Z"
   },
   {
    "duration": 9,
    "start_time": "2021-12-18T16:02:52.447Z"
   },
   {
    "duration": 5,
    "start_time": "2021-12-18T16:02:55.378Z"
   },
   {
    "duration": 4,
    "start_time": "2021-12-18T16:03:57.619Z"
   },
   {
    "duration": 8,
    "start_time": "2021-12-18T16:04:50.578Z"
   },
   {
    "duration": 5,
    "start_time": "2021-12-18T16:04:52.771Z"
   },
   {
    "duration": 23,
    "start_time": "2021-12-18T16:05:03.557Z"
   },
   {
    "duration": 10,
    "start_time": "2021-12-18T16:05:35.541Z"
   },
   {
    "duration": 389,
    "start_time": "2021-12-18T16:06:02.335Z"
   },
   {
    "duration": 9,
    "start_time": "2021-12-18T16:06:38.590Z"
   },
   {
    "duration": 9,
    "start_time": "2021-12-18T16:06:40.962Z"
   },
   {
    "duration": 4,
    "start_time": "2021-12-18T16:06:48.132Z"
   },
   {
    "duration": 3,
    "start_time": "2021-12-18T16:06:49.574Z"
   },
   {
    "duration": 2939,
    "start_time": "2021-12-18T16:06:50.346Z"
   },
   {
    "duration": 31,
    "start_time": "2021-12-18T16:06:55.140Z"
   },
   {
    "duration": 708,
    "start_time": "2021-12-18T16:07:12.163Z"
   },
   {
    "duration": 282,
    "start_time": "2021-12-18T16:07:12.873Z"
   },
   {
    "duration": 23,
    "start_time": "2021-12-18T16:07:13.158Z"
   },
   {
    "duration": 29,
    "start_time": "2021-12-18T16:07:13.184Z"
   },
   {
    "duration": 8,
    "start_time": "2021-12-18T16:07:13.215Z"
   },
   {
    "duration": 14,
    "start_time": "2021-12-18T16:07:13.225Z"
   },
   {
    "duration": 65,
    "start_time": "2021-12-18T16:07:13.242Z"
   },
   {
    "duration": 12,
    "start_time": "2021-12-18T16:07:13.309Z"
   },
   {
    "duration": 13,
    "start_time": "2021-12-18T16:07:13.325Z"
   },
   {
    "duration": 3,
    "start_time": "2021-12-18T16:07:13.341Z"
   },
   {
    "duration": 10,
    "start_time": "2021-12-18T16:07:13.345Z"
   },
   {
    "duration": 14,
    "start_time": "2021-12-18T16:07:13.357Z"
   },
   {
    "duration": 34,
    "start_time": "2021-12-18T16:07:13.373Z"
   },
   {
    "duration": 4,
    "start_time": "2021-12-18T16:07:13.409Z"
   },
   {
    "duration": 3350,
    "start_time": "2021-12-18T16:07:13.415Z"
   },
   {
    "duration": 5,
    "start_time": "2021-12-18T16:07:16.766Z"
   },
   {
    "duration": 27,
    "start_time": "2021-12-18T16:07:16.772Z"
   },
   {
    "duration": 10,
    "start_time": "2021-12-18T16:07:16.800Z"
   },
   {
    "duration": 524,
    "start_time": "2021-12-18T16:07:16.812Z"
   },
   {
    "duration": 7,
    "start_time": "2021-12-18T16:07:17.338Z"
   },
   {
    "duration": 12,
    "start_time": "2021-12-18T16:07:17.346Z"
   },
   {
    "duration": 509,
    "start_time": "2021-12-18T16:07:17.359Z"
   },
   {
    "duration": 40,
    "start_time": "2021-12-18T16:07:17.870Z"
   },
   {
    "duration": 8,
    "start_time": "2021-12-18T16:07:17.911Z"
   },
   {
    "duration": 17,
    "start_time": "2021-12-18T16:07:17.921Z"
   },
   {
    "duration": 6,
    "start_time": "2021-12-18T16:07:17.940Z"
   },
   {
    "duration": 4,
    "start_time": "2021-12-18T16:07:17.949Z"
   },
   {
    "duration": 4,
    "start_time": "2021-12-18T16:07:17.955Z"
   },
   {
    "duration": 2591,
    "start_time": "2021-12-18T16:07:17.960Z"
   },
   {
    "duration": 25,
    "start_time": "2021-12-18T16:07:20.553Z"
   },
   {
    "duration": 9,
    "start_time": "2021-12-18T16:07:20.580Z"
   },
   {
    "duration": 22,
    "start_time": "2021-12-18T16:07:20.607Z"
   },
   {
    "duration": 30,
    "start_time": "2021-12-18T16:07:20.631Z"
   },
   {
    "duration": 4,
    "start_time": "2021-12-18T16:07:20.663Z"
   },
   {
    "duration": 3001,
    "start_time": "2021-12-18T16:07:20.668Z"
   },
   {
    "duration": 21,
    "start_time": "2021-12-18T16:07:23.671Z"
   },
   {
    "duration": 5,
    "start_time": "2021-12-18T16:08:57.331Z"
   },
   {
    "duration": 4,
    "start_time": "2021-12-18T16:11:46.524Z"
   },
   {
    "duration": 3107,
    "start_time": "2021-12-18T16:11:48.551Z"
   },
   {
    "duration": 11,
    "start_time": "2021-12-18T16:11:52.647Z"
   },
   {
    "duration": 5,
    "start_time": "2021-12-18T16:26:03.659Z"
   },
   {
    "duration": 4,
    "start_time": "2021-12-18T16:26:08.699Z"
   },
   {
    "duration": 21,
    "start_time": "2021-12-18T16:26:15.134Z"
   },
   {
    "duration": 4,
    "start_time": "2021-12-18T16:26:42.638Z"
   },
   {
    "duration": 8,
    "start_time": "2021-12-18T16:30:06.775Z"
   },
   {
    "duration": 13,
    "start_time": "2021-12-18T16:30:12.458Z"
   },
   {
    "duration": 801,
    "start_time": "2021-12-18T16:31:09.930Z"
   },
   {
    "duration": 284,
    "start_time": "2021-12-18T16:31:10.733Z"
   },
   {
    "duration": 34,
    "start_time": "2021-12-18T16:31:11.020Z"
   },
   {
    "duration": 16,
    "start_time": "2021-12-18T16:31:11.057Z"
   },
   {
    "duration": 31,
    "start_time": "2021-12-18T16:31:11.076Z"
   },
   {
    "duration": 11,
    "start_time": "2021-12-18T16:31:11.110Z"
   },
   {
    "duration": 29,
    "start_time": "2021-12-18T16:31:11.123Z"
   },
   {
    "duration": 11,
    "start_time": "2021-12-18T16:31:11.156Z"
   },
   {
    "duration": 11,
    "start_time": "2021-12-18T16:31:11.207Z"
   },
   {
    "duration": 3,
    "start_time": "2021-12-18T16:31:11.220Z"
   },
   {
    "duration": 5,
    "start_time": "2021-12-18T16:31:11.225Z"
   },
   {
    "duration": 16,
    "start_time": "2021-12-18T16:31:11.232Z"
   },
   {
    "duration": 10,
    "start_time": "2021-12-18T16:31:11.250Z"
   },
   {
    "duration": 4,
    "start_time": "2021-12-18T16:31:11.262Z"
   },
   {
    "duration": 3801,
    "start_time": "2021-12-18T16:31:11.308Z"
   },
   {
    "duration": 4,
    "start_time": "2021-12-18T16:31:15.111Z"
   },
   {
    "duration": 17,
    "start_time": "2021-12-18T16:31:15.117Z"
   },
   {
    "duration": 8,
    "start_time": "2021-12-18T16:31:15.136Z"
   },
   {
    "duration": 601,
    "start_time": "2021-12-18T16:31:15.146Z"
   },
   {
    "duration": 9,
    "start_time": "2021-12-18T16:31:15.749Z"
   },
   {
    "duration": 15,
    "start_time": "2021-12-18T16:31:15.760Z"
   },
   {
    "duration": 684,
    "start_time": "2021-12-18T16:31:15.777Z"
   },
   {
    "duration": 44,
    "start_time": "2021-12-18T16:31:16.465Z"
   },
   {
    "duration": 10,
    "start_time": "2021-12-18T16:31:16.512Z"
   },
   {
    "duration": 31,
    "start_time": "2021-12-18T16:31:16.524Z"
   },
   {
    "duration": 9,
    "start_time": "2021-12-18T16:31:16.558Z"
   },
   {
    "duration": 37,
    "start_time": "2021-12-18T16:31:16.569Z"
   },
   {
    "duration": 5,
    "start_time": "2021-12-18T16:31:16.608Z"
   },
   {
    "duration": 6174,
    "start_time": "2021-12-18T16:31:16.615Z"
   },
   {
    "duration": 15,
    "start_time": "2021-12-18T16:31:22.792Z"
   },
   {
    "duration": 27,
    "start_time": "2021-12-18T16:31:22.809Z"
   },
   {
    "duration": 32,
    "start_time": "2021-12-18T16:31:22.838Z"
   },
   {
    "duration": 4,
    "start_time": "2021-12-18T16:31:22.871Z"
   },
   {
    "duration": 2991,
    "start_time": "2021-12-18T16:31:22.876Z"
   },
   {
    "duration": 8,
    "start_time": "2021-12-18T16:31:25.869Z"
   },
   {
    "duration": 373,
    "start_time": "2021-12-18T16:31:25.879Z"
   },
   {
    "duration": -28,
    "start_time": "2021-12-18T16:31:26.282Z"
   },
   {
    "duration": -32,
    "start_time": "2021-12-18T16:31:26.287Z"
   },
   {
    "duration": 14,
    "start_time": "2021-12-18T16:31:45.461Z"
   },
   {
    "duration": 8,
    "start_time": "2021-12-18T16:31:59.826Z"
   },
   {
    "duration": 13,
    "start_time": "2021-12-18T16:32:00.429Z"
   },
   {
    "duration": 11,
    "start_time": "2021-12-18T16:34:18.040Z"
   },
   {
    "duration": 14,
    "start_time": "2021-12-18T16:34:19.173Z"
   },
   {
    "duration": 12,
    "start_time": "2021-12-18T16:35:30.657Z"
   },
   {
    "duration": 16,
    "start_time": "2021-12-18T16:36:00.353Z"
   },
   {
    "duration": 11,
    "start_time": "2021-12-18T16:37:07.186Z"
   },
   {
    "duration": 17,
    "start_time": "2021-12-18T16:37:08.033Z"
   },
   {
    "duration": 19,
    "start_time": "2021-12-18T16:37:09.922Z"
   },
   {
    "duration": 16,
    "start_time": "2021-12-18T16:38:38.446Z"
   },
   {
    "duration": 16,
    "start_time": "2021-12-18T16:39:07.944Z"
   },
   {
    "duration": 9,
    "start_time": "2021-12-18T16:39:36.472Z"
   },
   {
    "duration": 16,
    "start_time": "2021-12-18T16:39:41.301Z"
   },
   {
    "duration": 56,
    "start_time": "2021-12-18T16:39:56.376Z"
   },
   {
    "duration": 32,
    "start_time": "2021-12-18T16:40:41.204Z"
   },
   {
    "duration": 5,
    "start_time": "2021-12-18T16:46:43.070Z"
   },
   {
    "duration": 7842,
    "start_time": "2021-12-18T16:46:45.114Z"
   },
   {
    "duration": 8001,
    "start_time": "2021-12-18T16:47:24.268Z"
   },
   {
    "duration": 774,
    "start_time": "2021-12-18T16:47:45.594Z"
   },
   {
    "duration": 261,
    "start_time": "2021-12-18T16:47:46.370Z"
   },
   {
    "duration": 23,
    "start_time": "2021-12-18T16:47:46.633Z"
   },
   {
    "duration": 11,
    "start_time": "2021-12-18T16:47:46.658Z"
   },
   {
    "duration": 7,
    "start_time": "2021-12-18T16:47:46.671Z"
   },
   {
    "duration": 31,
    "start_time": "2021-12-18T16:47:46.679Z"
   },
   {
    "duration": 28,
    "start_time": "2021-12-18T16:47:46.712Z"
   },
   {
    "duration": 11,
    "start_time": "2021-12-18T16:47:46.742Z"
   },
   {
    "duration": 12,
    "start_time": "2021-12-18T16:47:46.757Z"
   },
   {
    "duration": 35,
    "start_time": "2021-12-18T16:47:46.772Z"
   },
   {
    "duration": 5,
    "start_time": "2021-12-18T16:47:46.809Z"
   },
   {
    "duration": 15,
    "start_time": "2021-12-18T16:47:46.816Z"
   },
   {
    "duration": 12,
    "start_time": "2021-12-18T16:47:46.833Z"
   },
   {
    "duration": 5,
    "start_time": "2021-12-18T16:47:46.847Z"
   },
   {
    "duration": 6910,
    "start_time": "2021-12-18T16:47:46.855Z"
   },
   {
    "duration": 5,
    "start_time": "2021-12-18T16:47:53.767Z"
   },
   {
    "duration": 21,
    "start_time": "2021-12-18T16:47:53.775Z"
   },
   {
    "duration": 11,
    "start_time": "2021-12-18T16:47:53.807Z"
   },
   {
    "duration": 793,
    "start_time": "2021-12-18T16:47:53.821Z"
   },
   {
    "duration": 10,
    "start_time": "2021-12-18T16:47:54.616Z"
   },
   {
    "duration": 10,
    "start_time": "2021-12-18T16:47:54.628Z"
   },
   {
    "duration": 742,
    "start_time": "2021-12-18T16:47:54.640Z"
   },
   {
    "duration": 59,
    "start_time": "2021-12-18T16:47:55.385Z"
   },
   {
    "duration": 13,
    "start_time": "2021-12-18T16:47:55.446Z"
   },
   {
    "duration": 26,
    "start_time": "2021-12-18T16:47:55.462Z"
   },
   {
    "duration": 6,
    "start_time": "2021-12-18T16:47:55.507Z"
   },
   {
    "duration": 4,
    "start_time": "2021-12-18T16:47:55.517Z"
   },
   {
    "duration": 4,
    "start_time": "2021-12-18T16:47:55.523Z"
   },
   {
    "duration": 3124,
    "start_time": "2021-12-18T16:47:55.529Z"
   },
   {
    "duration": 9,
    "start_time": "2021-12-18T16:47:58.655Z"
   },
   {
    "duration": 24,
    "start_time": "2021-12-18T16:47:58.666Z"
   },
   {
    "duration": 35,
    "start_time": "2021-12-18T16:47:58.706Z"
   },
   {
    "duration": 7,
    "start_time": "2021-12-18T16:47:58.743Z"
   },
   {
    "duration": 818,
    "start_time": "2021-12-18T16:47:58.752Z"
   },
   {
    "duration": -13,
    "start_time": "2021-12-18T16:47:59.585Z"
   },
   {
    "duration": -17,
    "start_time": "2021-12-18T16:47:59.590Z"
   },
   {
    "duration": -17,
    "start_time": "2021-12-18T16:47:59.591Z"
   },
   {
    "duration": 27,
    "start_time": "2021-12-18T16:48:20.643Z"
   },
   {
    "duration": 7950,
    "start_time": "2021-12-18T16:48:24.058Z"
   },
   {
    "duration": 682,
    "start_time": "2021-12-18T16:48:50.019Z"
   },
   {
    "duration": 265,
    "start_time": "2021-12-18T16:48:50.703Z"
   },
   {
    "duration": 21,
    "start_time": "2021-12-18T16:48:50.970Z"
   },
   {
    "duration": 22,
    "start_time": "2021-12-18T16:48:50.994Z"
   },
   {
    "duration": 8,
    "start_time": "2021-12-18T16:48:51.019Z"
   },
   {
    "duration": 10,
    "start_time": "2021-12-18T16:48:51.029Z"
   },
   {
    "duration": 26,
    "start_time": "2021-12-18T16:48:51.041Z"
   },
   {
    "duration": 42,
    "start_time": "2021-12-18T16:48:51.070Z"
   },
   {
    "duration": 9,
    "start_time": "2021-12-18T16:48:51.115Z"
   },
   {
    "duration": 3,
    "start_time": "2021-12-18T16:48:51.125Z"
   },
   {
    "duration": 4,
    "start_time": "2021-12-18T16:48:51.129Z"
   },
   {
    "duration": 12,
    "start_time": "2021-12-18T16:48:51.135Z"
   },
   {
    "duration": 8,
    "start_time": "2021-12-18T16:48:51.149Z"
   },
   {
    "duration": 48,
    "start_time": "2021-12-18T16:48:51.159Z"
   },
   {
    "duration": 3288,
    "start_time": "2021-12-18T16:48:51.209Z"
   },
   {
    "duration": 9,
    "start_time": "2021-12-18T16:48:54.498Z"
   },
   {
    "duration": 13,
    "start_time": "2021-12-18T16:48:54.509Z"
   },
   {
    "duration": 9,
    "start_time": "2021-12-18T16:48:54.524Z"
   },
   {
    "duration": 590,
    "start_time": "2021-12-18T16:48:54.534Z"
   },
   {
    "duration": 10,
    "start_time": "2021-12-18T16:48:55.126Z"
   },
   {
    "duration": 12,
    "start_time": "2021-12-18T16:48:55.138Z"
   },
   {
    "duration": 724,
    "start_time": "2021-12-18T16:48:55.152Z"
   },
   {
    "duration": 58,
    "start_time": "2021-12-18T16:48:55.881Z"
   },
   {
    "duration": 9,
    "start_time": "2021-12-18T16:48:55.942Z"
   },
   {
    "duration": 19,
    "start_time": "2021-12-18T16:48:55.953Z"
   },
   {
    "duration": 6,
    "start_time": "2021-12-18T16:48:55.974Z"
   },
   {
    "duration": 26,
    "start_time": "2021-12-18T16:48:55.982Z"
   },
   {
    "duration": 4,
    "start_time": "2021-12-18T16:48:56.010Z"
   },
   {
    "duration": 3028,
    "start_time": "2021-12-18T16:48:56.015Z"
   },
   {
    "duration": 10,
    "start_time": "2021-12-18T16:48:59.045Z"
   },
   {
    "duration": 24,
    "start_time": "2021-12-18T16:48:59.057Z"
   },
   {
    "duration": 51,
    "start_time": "2021-12-18T16:48:59.083Z"
   },
   {
    "duration": 4,
    "start_time": "2021-12-18T16:48:59.136Z"
   },
   {
    "duration": 2891,
    "start_time": "2021-12-18T16:48:59.142Z"
   },
   {
    "duration": 27,
    "start_time": "2021-12-18T16:49:02.035Z"
   },
   {
    "duration": 18,
    "start_time": "2021-12-18T16:49:02.064Z"
   },
   {
    "duration": 40,
    "start_time": "2021-12-18T16:49:02.084Z"
   },
   {
    "duration": 4,
    "start_time": "2021-12-18T16:53:31.126Z"
   },
   {
    "duration": 53137,
    "start_time": "2021-12-18T16:53:56.327Z"
   },
   {
    "duration": 35,
    "start_time": "2021-12-18T16:55:08.111Z"
   },
   {
    "duration": 114,
    "start_time": "2021-12-18T17:23:55.997Z"
   },
   {
    "duration": 3,
    "start_time": "2021-12-18T17:25:30.871Z"
   },
   {
    "duration": 3400,
    "start_time": "2021-12-18T17:25:50.887Z"
   },
   {
    "duration": 33,
    "start_time": "2021-12-18T17:26:15.556Z"
   },
   {
    "duration": 7,
    "start_time": "2021-12-18T17:26:54.523Z"
   },
   {
    "duration": 10,
    "start_time": "2021-12-18T17:27:27.664Z"
   },
   {
    "duration": 3,
    "start_time": "2021-12-18T17:28:46.587Z"
   },
   {
    "duration": 3540,
    "start_time": "2021-12-18T17:28:47.924Z"
   },
   {
    "duration": 6,
    "start_time": "2021-12-18T17:28:52.340Z"
   },
   {
    "duration": 9,
    "start_time": "2021-12-18T17:28:54.011Z"
   },
   {
    "duration": 711,
    "start_time": "2021-12-18T17:29:10.870Z"
   },
   {
    "duration": 271,
    "start_time": "2021-12-18T17:29:11.584Z"
   },
   {
    "duration": 23,
    "start_time": "2021-12-18T17:29:11.860Z"
   },
   {
    "duration": 27,
    "start_time": "2021-12-18T17:29:11.884Z"
   },
   {
    "duration": 6,
    "start_time": "2021-12-18T17:29:11.913Z"
   },
   {
    "duration": 10,
    "start_time": "2021-12-18T17:29:11.920Z"
   },
   {
    "duration": 26,
    "start_time": "2021-12-18T17:29:11.933Z"
   },
   {
    "duration": 8,
    "start_time": "2021-12-18T17:29:11.961Z"
   },
   {
    "duration": 42,
    "start_time": "2021-12-18T17:29:11.972Z"
   },
   {
    "duration": 3,
    "start_time": "2021-12-18T17:29:12.015Z"
   },
   {
    "duration": 7,
    "start_time": "2021-12-18T17:29:12.019Z"
   },
   {
    "duration": 14,
    "start_time": "2021-12-18T17:29:12.027Z"
   },
   {
    "duration": 9,
    "start_time": "2021-12-18T17:29:12.042Z"
   },
   {
    "duration": 5,
    "start_time": "2021-12-18T17:29:12.052Z"
   },
   {
    "duration": 3477,
    "start_time": "2021-12-18T17:29:12.059Z"
   },
   {
    "duration": 3,
    "start_time": "2021-12-18T17:29:15.538Z"
   },
   {
    "duration": 16,
    "start_time": "2021-12-18T17:29:15.543Z"
   },
   {
    "duration": 7,
    "start_time": "2021-12-18T17:29:15.561Z"
   },
   {
    "duration": 558,
    "start_time": "2021-12-18T17:29:15.570Z"
   },
   {
    "duration": 10,
    "start_time": "2021-12-18T17:29:16.130Z"
   },
   {
    "duration": 8,
    "start_time": "2021-12-18T17:29:16.142Z"
   },
   {
    "duration": 515,
    "start_time": "2021-12-18T17:29:16.153Z"
   },
   {
    "duration": 37,
    "start_time": "2021-12-18T17:29:16.670Z"
   },
   {
    "duration": 7,
    "start_time": "2021-12-18T17:29:16.709Z"
   },
   {
    "duration": 17,
    "start_time": "2021-12-18T17:29:16.718Z"
   },
   {
    "duration": 7,
    "start_time": "2021-12-18T17:29:16.736Z"
   },
   {
    "duration": 7,
    "start_time": "2021-12-18T17:29:16.744Z"
   },
   {
    "duration": 7,
    "start_time": "2021-12-18T17:29:16.753Z"
   },
   {
    "duration": 2955,
    "start_time": "2021-12-18T17:29:16.761Z"
   },
   {
    "duration": 8,
    "start_time": "2021-12-18T17:29:19.718Z"
   },
   {
    "duration": 22,
    "start_time": "2021-12-18T17:29:19.727Z"
   },
   {
    "duration": 3,
    "start_time": "2021-12-18T17:29:19.751Z"
   },
   {
    "duration": 3757,
    "start_time": "2021-12-18T17:29:19.755Z"
   },
   {
    "duration": 6,
    "start_time": "2021-12-18T17:29:23.514Z"
   },
   {
    "duration": 11,
    "start_time": "2021-12-18T17:29:23.522Z"
   },
   {
    "duration": 9,
    "start_time": "2021-12-18T17:29:56.045Z"
   },
   {
    "duration": 475,
    "start_time": "2021-12-18T17:30:12.299Z"
   },
   {
    "duration": 32,
    "start_time": "2021-12-18T17:30:46.823Z"
   },
   {
    "duration": 4,
    "start_time": "2021-12-18T17:35:06.016Z"
   },
   {
    "duration": 4234,
    "start_time": "2021-12-18T17:35:07.024Z"
   },
   {
    "duration": 6,
    "start_time": "2021-12-18T17:35:14.143Z"
   },
   {
    "duration": 8,
    "start_time": "2021-12-18T17:35:16.342Z"
   },
   {
    "duration": 3,
    "start_time": "2021-12-18T17:35:58.032Z"
   },
   {
    "duration": 4069,
    "start_time": "2021-12-18T17:35:58.832Z"
   },
   {
    "duration": 7,
    "start_time": "2021-12-18T17:36:04.399Z"
   },
   {
    "duration": 12,
    "start_time": "2021-12-18T17:36:05.491Z"
   },
   {
    "duration": 54,
    "start_time": "2021-12-18T17:36:08.280Z"
   },
   {
    "duration": 740,
    "start_time": "2021-12-18T17:36:35.605Z"
   },
   {
    "duration": 10,
    "start_time": "2021-12-18T17:36:41.139Z"
   },
   {
    "duration": 31,
    "start_time": "2021-12-18T17:38:46.917Z"
   },
   {
    "duration": 34,
    "start_time": "2021-12-18T17:39:04.145Z"
   },
   {
    "duration": 40,
    "start_time": "2021-12-18T17:40:49.902Z"
   },
   {
    "duration": 360,
    "start_time": "2021-12-19T14:17:03.119Z"
   },
   {
    "duration": 1040,
    "start_time": "2021-12-19T14:17:12.685Z"
   },
   {
    "duration": 474,
    "start_time": "2021-12-19T14:17:13.728Z"
   },
   {
    "duration": 38,
    "start_time": "2021-12-19T14:17:14.205Z"
   },
   {
    "duration": 32,
    "start_time": "2021-12-19T14:17:14.247Z"
   },
   {
    "duration": 16,
    "start_time": "2021-12-19T14:17:14.282Z"
   },
   {
    "duration": 17,
    "start_time": "2021-12-19T14:17:14.301Z"
   },
   {
    "duration": 81,
    "start_time": "2021-12-19T14:17:14.321Z"
   },
   {
    "duration": 13,
    "start_time": "2021-12-19T14:17:14.408Z"
   },
   {
    "duration": 47,
    "start_time": "2021-12-19T14:17:14.426Z"
   },
   {
    "duration": 7,
    "start_time": "2021-12-19T14:17:14.477Z"
   },
   {
    "duration": 14,
    "start_time": "2021-12-19T14:17:14.488Z"
   },
   {
    "duration": 24,
    "start_time": "2021-12-19T14:17:14.505Z"
   },
   {
    "duration": 12,
    "start_time": "2021-12-19T14:17:14.531Z"
   },
   {
    "duration": 6,
    "start_time": "2021-12-19T14:17:14.571Z"
   },
   {
    "duration": 7755,
    "start_time": "2021-12-19T14:17:14.592Z"
   },
   {
    "duration": 18,
    "start_time": "2021-12-19T14:17:22.350Z"
   },
   {
    "duration": 20,
    "start_time": "2021-12-19T14:17:22.370Z"
   },
   {
    "duration": 13,
    "start_time": "2021-12-19T14:17:22.392Z"
   },
   {
    "duration": 999,
    "start_time": "2021-12-19T14:17:22.408Z"
   },
   {
    "duration": 10,
    "start_time": "2021-12-19T14:17:23.410Z"
   },
   {
    "duration": 16,
    "start_time": "2021-12-19T14:17:23.423Z"
   },
   {
    "duration": 943,
    "start_time": "2021-12-19T14:17:23.442Z"
   },
   {
    "duration": 49,
    "start_time": "2021-12-19T14:17:24.390Z"
   },
   {
    "duration": 29,
    "start_time": "2021-12-19T14:17:24.442Z"
   },
   {
    "duration": 39,
    "start_time": "2021-12-19T14:17:24.475Z"
   },
   {
    "duration": 8,
    "start_time": "2021-12-19T14:17:24.516Z"
   },
   {
    "duration": 7,
    "start_time": "2021-12-19T14:17:24.526Z"
   },
   {
    "duration": 7,
    "start_time": "2021-12-19T14:17:24.568Z"
   },
   {
    "duration": 6175,
    "start_time": "2021-12-19T14:17:24.578Z"
   },
   {
    "duration": 6,
    "start_time": "2021-12-19T14:17:30.755Z"
   },
   {
    "duration": 169,
    "start_time": "2021-12-19T14:17:30.767Z"
   },
   {
    "duration": 45,
    "start_time": "2021-12-19T14:17:30.940Z"
   },
   {
    "duration": 5,
    "start_time": "2021-12-19T14:17:30.989Z"
   },
   {
    "duration": 9777,
    "start_time": "2021-12-19T14:17:30.996Z"
   },
   {
    "duration": 9,
    "start_time": "2021-12-19T14:17:40.776Z"
   },
   {
    "duration": 13,
    "start_time": "2021-12-19T14:17:40.787Z"
   },
   {
    "duration": 100,
    "start_time": "2021-12-19T14:17:40.803Z"
   },
   {
    "duration": 8,
    "start_time": "2021-12-19T14:17:56.946Z"
   },
   {
    "duration": 5,
    "start_time": "2021-12-19T14:18:18.612Z"
   },
   {
    "duration": 5,
    "start_time": "2021-12-19T14:18:52.839Z"
   },
   {
    "duration": 6,
    "start_time": "2021-12-19T14:19:06.390Z"
   },
   {
    "duration": 6,
    "start_time": "2021-12-19T14:19:12.754Z"
   },
   {
    "duration": 10,
    "start_time": "2021-12-19T14:19:18.173Z"
   },
   {
    "duration": 930,
    "start_time": "2021-12-19T14:21:58.893Z"
   },
   {
    "duration": 462,
    "start_time": "2021-12-19T14:21:59.826Z"
   },
   {
    "duration": 40,
    "start_time": "2021-12-19T14:22:00.292Z"
   },
   {
    "duration": 49,
    "start_time": "2021-12-19T14:22:00.335Z"
   },
   {
    "duration": 11,
    "start_time": "2021-12-19T14:22:00.388Z"
   },
   {
    "duration": 15,
    "start_time": "2021-12-19T14:22:00.401Z"
   },
   {
    "duration": 77,
    "start_time": "2021-12-19T14:22:00.418Z"
   },
   {
    "duration": 12,
    "start_time": "2021-12-19T14:22:00.497Z"
   },
   {
    "duration": 13,
    "start_time": "2021-12-19T14:22:00.513Z"
   },
   {
    "duration": 4,
    "start_time": "2021-12-19T14:22:00.529Z"
   },
   {
    "duration": 38,
    "start_time": "2021-12-19T14:22:00.535Z"
   },
   {
    "duration": 20,
    "start_time": "2021-12-19T14:22:00.576Z"
   },
   {
    "duration": 12,
    "start_time": "2021-12-19T14:22:00.599Z"
   },
   {
    "duration": 5,
    "start_time": "2021-12-19T14:22:00.613Z"
   },
   {
    "duration": 7178,
    "start_time": "2021-12-19T14:22:00.621Z"
   },
   {
    "duration": 5,
    "start_time": "2021-12-19T14:22:07.802Z"
   },
   {
    "duration": 21,
    "start_time": "2021-12-19T14:22:07.810Z"
   },
   {
    "duration": 36,
    "start_time": "2021-12-19T14:22:07.833Z"
   },
   {
    "duration": 964,
    "start_time": "2021-12-19T14:22:07.871Z"
   },
   {
    "duration": 10,
    "start_time": "2021-12-19T14:22:08.838Z"
   },
   {
    "duration": 29,
    "start_time": "2021-12-19T14:22:08.850Z"
   },
   {
    "duration": 742,
    "start_time": "2021-12-19T14:22:08.882Z"
   },
   {
    "duration": 66,
    "start_time": "2021-12-19T14:22:09.627Z"
   },
   {
    "duration": 13,
    "start_time": "2021-12-19T14:22:09.695Z"
   },
   {
    "duration": 32,
    "start_time": "2021-12-19T14:22:09.710Z"
   },
   {
    "duration": 11,
    "start_time": "2021-12-19T14:22:09.767Z"
   },
   {
    "duration": 8,
    "start_time": "2021-12-19T14:22:09.783Z"
   },
   {
    "duration": 13,
    "start_time": "2021-12-19T14:22:09.793Z"
   },
   {
    "duration": 6051,
    "start_time": "2021-12-19T14:22:09.808Z"
   },
   {
    "duration": 10,
    "start_time": "2021-12-19T14:22:15.862Z"
   },
   {
    "duration": 15,
    "start_time": "2021-12-19T14:22:15.874Z"
   },
   {
    "duration": 38,
    "start_time": "2021-12-19T14:22:15.892Z"
   },
   {
    "duration": 39,
    "start_time": "2021-12-19T14:22:15.933Z"
   },
   {
    "duration": 7796,
    "start_time": "2021-12-19T14:22:15.975Z"
   },
   {
    "duration": 53,
    "start_time": "2021-12-19T14:22:23.773Z"
   },
   {
    "duration": 12,
    "start_time": "2021-12-19T14:22:23.828Z"
   },
   {
    "duration": 83,
    "start_time": "2021-12-19T14:22:23.842Z"
   },
   {
    "duration": 57,
    "start_time": "2021-12-19T14:25:31.299Z"
   },
   {
    "duration": 5,
    "start_time": "2021-12-19T14:26:02.833Z"
   },
   {
    "duration": 7644,
    "start_time": "2021-12-19T14:26:04.185Z"
   },
   {
    "duration": 54,
    "start_time": "2021-12-19T14:26:14.447Z"
   },
   {
    "duration": 6,
    "start_time": "2021-12-19T14:26:40.659Z"
   },
   {
    "duration": 6547,
    "start_time": "2021-12-19T14:26:42.309Z"
   },
   {
    "duration": 52,
    "start_time": "2021-12-19T14:26:52.763Z"
   },
   {
    "duration": 13,
    "start_time": "2021-12-19T14:27:59.513Z"
   },
   {
    "duration": 12,
    "start_time": "2021-12-19T14:28:08.628Z"
   },
   {
    "duration": 6539,
    "start_time": "2021-12-19T14:28:21.868Z"
   },
   {
    "duration": 13,
    "start_time": "2021-12-19T14:30:13.731Z"
   },
   {
    "duration": 867,
    "start_time": "2021-12-19T14:31:55.894Z"
   },
   {
    "duration": 445,
    "start_time": "2021-12-19T14:31:56.764Z"
   },
   {
    "duration": 34,
    "start_time": "2021-12-19T14:31:57.212Z"
   },
   {
    "duration": 35,
    "start_time": "2021-12-19T14:31:57.249Z"
   },
   {
    "duration": 12,
    "start_time": "2021-12-19T14:31:57.288Z"
   },
   {
    "duration": 13,
    "start_time": "2021-12-19T14:31:57.303Z"
   },
   {
    "duration": 80,
    "start_time": "2021-12-19T14:31:57.319Z"
   },
   {
    "duration": 14,
    "start_time": "2021-12-19T14:31:57.402Z"
   },
   {
    "duration": 14,
    "start_time": "2021-12-19T14:31:57.419Z"
   },
   {
    "duration": 7,
    "start_time": "2021-12-19T14:31:57.467Z"
   },
   {
    "duration": 8,
    "start_time": "2021-12-19T14:31:57.479Z"
   },
   {
    "duration": 17,
    "start_time": "2021-12-19T14:31:57.490Z"
   },
   {
    "duration": 14,
    "start_time": "2021-12-19T14:31:57.510Z"
   },
   {
    "duration": 5,
    "start_time": "2021-12-19T14:31:57.527Z"
   },
   {
    "duration": 6751,
    "start_time": "2021-12-19T14:31:57.571Z"
   },
   {
    "duration": 5,
    "start_time": "2021-12-19T14:32:04.325Z"
   },
   {
    "duration": 37,
    "start_time": "2021-12-19T14:32:04.333Z"
   },
   {
    "duration": 18,
    "start_time": "2021-12-19T14:32:04.374Z"
   },
   {
    "duration": 924,
    "start_time": "2021-12-19T14:32:04.395Z"
   },
   {
    "duration": 10,
    "start_time": "2021-12-19T14:32:05.321Z"
   },
   {
    "duration": 39,
    "start_time": "2021-12-19T14:32:05.334Z"
   },
   {
    "duration": 765,
    "start_time": "2021-12-19T14:32:05.376Z"
   },
   {
    "duration": 65,
    "start_time": "2021-12-19T14:32:06.143Z"
   },
   {
    "duration": 19,
    "start_time": "2021-12-19T14:32:06.212Z"
   },
   {
    "duration": 67,
    "start_time": "2021-12-19T14:32:06.234Z"
   },
   {
    "duration": 6,
    "start_time": "2021-12-19T14:32:06.304Z"
   },
   {
    "duration": 6,
    "start_time": "2021-12-19T14:32:06.313Z"
   },
   {
    "duration": 6,
    "start_time": "2021-12-19T14:32:06.321Z"
   },
   {
    "duration": 5874,
    "start_time": "2021-12-19T14:32:06.329Z"
   },
   {
    "duration": 6,
    "start_time": "2021-12-19T14:32:12.205Z"
   },
   {
    "duration": 13,
    "start_time": "2021-12-19T14:32:12.215Z"
   },
   {
    "duration": 63,
    "start_time": "2021-12-19T14:32:12.231Z"
   },
   {
    "duration": 6,
    "start_time": "2021-12-19T14:32:12.297Z"
   },
   {
    "duration": 6827,
    "start_time": "2021-12-19T14:32:12.306Z"
   },
   {
    "duration": 12,
    "start_time": "2021-12-19T14:33:47.900Z"
   },
   {
    "duration": 12,
    "start_time": "2021-12-19T14:33:54.550Z"
   },
   {
    "duration": 887,
    "start_time": "2021-12-19T14:39:11.164Z"
   },
   {
    "duration": 844,
    "start_time": "2021-12-19T14:39:35.847Z"
   },
   {
    "duration": 1024,
    "start_time": "2021-12-19T14:39:47.959Z"
   },
   {
    "duration": 866,
    "start_time": "2021-12-19T14:39:59.474Z"
   },
   {
    "duration": 65,
    "start_time": "2021-12-19T14:40:36.457Z"
   },
   {
    "duration": 8,
    "start_time": "2021-12-19T14:40:49.400Z"
   },
   {
    "duration": 9,
    "start_time": "2021-12-19T14:40:54.895Z"
   },
   {
    "duration": 8,
    "start_time": "2021-12-19T14:40:59.512Z"
   },
   {
    "duration": 9,
    "start_time": "2021-12-19T14:41:07.675Z"
   },
   {
    "duration": 7,
    "start_time": "2021-12-19T14:47:38.220Z"
   },
   {
    "duration": 6,
    "start_time": "2021-12-19T14:47:45.866Z"
   },
   {
    "duration": 6,
    "start_time": "2021-12-19T14:47:51.146Z"
   },
   {
    "duration": 7,
    "start_time": "2021-12-19T14:47:57.448Z"
   },
   {
    "duration": 7,
    "start_time": "2021-12-19T14:48:02.863Z"
   },
   {
    "duration": 814,
    "start_time": "2021-12-19T14:48:51.867Z"
   },
   {
    "duration": 9,
    "start_time": "2021-12-19T14:49:50.802Z"
   },
   {
    "duration": 5,
    "start_time": "2021-12-19T14:49:57.387Z"
   },
   {
    "duration": 9,
    "start_time": "2021-12-19T14:51:00.043Z"
   },
   {
    "duration": 10,
    "start_time": "2021-12-19T14:52:12.278Z"
   },
   {
    "duration": 8,
    "start_time": "2021-12-19T14:53:26.201Z"
   },
   {
    "duration": 8,
    "start_time": "2021-12-19T14:53:36.513Z"
   },
   {
    "duration": 92,
    "start_time": "2021-12-19T14:53:41.859Z"
   },
   {
    "duration": 924,
    "start_time": "2021-12-19T14:54:05.943Z"
   },
   {
    "duration": 428,
    "start_time": "2021-12-19T14:54:06.870Z"
   },
   {
    "duration": 39,
    "start_time": "2021-12-19T14:54:07.301Z"
   },
   {
    "duration": 37,
    "start_time": "2021-12-19T14:54:07.343Z"
   },
   {
    "duration": 10,
    "start_time": "2021-12-19T14:54:07.383Z"
   },
   {
    "duration": 13,
    "start_time": "2021-12-19T14:54:07.395Z"
   },
   {
    "duration": 68,
    "start_time": "2021-12-19T14:54:07.410Z"
   },
   {
    "duration": 10,
    "start_time": "2021-12-19T14:54:07.481Z"
   },
   {
    "duration": 13,
    "start_time": "2021-12-19T14:54:07.495Z"
   },
   {
    "duration": 4,
    "start_time": "2021-12-19T14:54:07.511Z"
   },
   {
    "duration": 50,
    "start_time": "2021-12-19T14:54:07.517Z"
   },
   {
    "duration": 15,
    "start_time": "2021-12-19T14:54:07.570Z"
   },
   {
    "duration": 12,
    "start_time": "2021-12-19T14:54:07.587Z"
   },
   {
    "duration": 6,
    "start_time": "2021-12-19T14:54:07.602Z"
   },
   {
    "duration": 6256,
    "start_time": "2021-12-19T14:54:07.611Z"
   },
   {
    "duration": 7,
    "start_time": "2021-12-19T14:54:13.869Z"
   },
   {
    "duration": 22,
    "start_time": "2021-12-19T14:54:13.879Z"
   },
   {
    "duration": 14,
    "start_time": "2021-12-19T14:54:13.904Z"
   },
   {
    "duration": 872,
    "start_time": "2021-12-19T14:54:13.921Z"
   },
   {
    "duration": 11,
    "start_time": "2021-12-19T14:54:14.796Z"
   },
   {
    "duration": 14,
    "start_time": "2021-12-19T14:54:14.810Z"
   },
   {
    "duration": 746,
    "start_time": "2021-12-19T14:54:14.827Z"
   },
   {
    "duration": 51,
    "start_time": "2021-12-19T14:54:15.576Z"
   },
   {
    "duration": 41,
    "start_time": "2021-12-19T14:54:15.630Z"
   },
   {
    "duration": 33,
    "start_time": "2021-12-19T14:54:15.674Z"
   },
   {
    "duration": 13,
    "start_time": "2021-12-19T14:54:15.710Z"
   },
   {
    "duration": 6,
    "start_time": "2021-12-19T14:54:15.730Z"
   },
   {
    "duration": 5,
    "start_time": "2021-12-19T14:54:15.769Z"
   },
   {
    "duration": 5712,
    "start_time": "2021-12-19T14:54:15.777Z"
   },
   {
    "duration": 12,
    "start_time": "2021-12-19T14:54:21.491Z"
   },
   {
    "duration": 854,
    "start_time": "2021-12-19T14:54:21.505Z"
   },
   {
    "duration": 14,
    "start_time": "2021-12-19T14:54:22.361Z"
   },
   {
    "duration": 13,
    "start_time": "2021-12-19T14:54:22.378Z"
   },
   {
    "duration": 135,
    "start_time": "2021-12-19T14:54:22.393Z"
   },
   {
    "duration": 5,
    "start_time": "2021-12-19T14:54:22.530Z"
   },
   {
    "duration": 34,
    "start_time": "2021-12-19T14:54:22.538Z"
   },
   {
    "duration": 40,
    "start_time": "2021-12-19T14:54:22.574Z"
   },
   {
    "duration": 7,
    "start_time": "2021-12-19T14:54:22.616Z"
   },
   {
    "duration": 6325,
    "start_time": "2021-12-19T14:54:22.626Z"
   },
   {
    "duration": 11,
    "start_time": "2021-12-19T14:55:53.091Z"
   },
   {
    "duration": 694,
    "start_time": "2021-12-19T14:56:19.323Z"
   },
   {
    "duration": 971,
    "start_time": "2021-12-19T14:56:29.228Z"
   },
   {
    "duration": 13,
    "start_time": "2021-12-19T14:58:34.342Z"
   },
   {
    "duration": 12,
    "start_time": "2021-12-19T15:01:11.889Z"
   },
   {
    "duration": 11,
    "start_time": "2021-12-19T15:03:02.442Z"
   },
   {
    "duration": 49,
    "start_time": "2021-12-19T15:03:58.186Z"
   },
   {
    "duration": 423,
    "start_time": "2021-12-19T15:04:18.783Z"
   },
   {
    "duration": 52,
    "start_time": "2021-12-19T15:04:36.080Z"
   },
   {
    "duration": 4158,
    "start_time": "2021-12-19T15:07:45.361Z"
   },
   {
    "duration": 18,
    "start_time": "2021-12-19T15:16:36.833Z"
   },
   {
    "duration": 18,
    "start_time": "2021-12-19T15:17:21.423Z"
   },
   {
    "duration": 6,
    "start_time": "2021-12-19T15:22:01.939Z"
   },
   {
    "duration": 20,
    "start_time": "2021-12-19T15:22:32.927Z"
   },
   {
    "duration": 21,
    "start_time": "2021-12-19T15:22:47.858Z"
   },
   {
    "duration": 11036,
    "start_time": "2021-12-19T15:23:05.235Z"
   },
   {
    "duration": 79,
    "start_time": "2021-12-19T15:23:16.195Z"
   },
   {
    "duration": 17,
    "start_time": "2021-12-19T15:23:18.575Z"
   },
   {
    "duration": 7598,
    "start_time": "2021-12-19T15:23:21.433Z"
   },
   {
    "duration": 6,
    "start_time": "2021-12-19T15:23:40.463Z"
   },
   {
    "duration": 6,
    "start_time": "2021-12-19T15:24:35.637Z"
   },
   {
    "duration": 317,
    "start_time": "2021-12-19T15:24:45.221Z"
   },
   {
    "duration": 6,
    "start_time": "2021-12-19T15:26:34.768Z"
   },
   {
    "duration": 5,
    "start_time": "2021-12-19T15:27:04.630Z"
   },
   {
    "duration": 6,
    "start_time": "2021-12-19T15:27:17.483Z"
   },
   {
    "duration": 364,
    "start_time": "2021-12-19T15:27:26.237Z"
   },
   {
    "duration": 515,
    "start_time": "2021-12-19T15:27:31.424Z"
   },
   {
    "duration": 332,
    "start_time": "2021-12-19T15:27:41.575Z"
   },
   {
    "duration": 6,
    "start_time": "2021-12-19T15:27:49.925Z"
   },
   {
    "duration": 116,
    "start_time": "2021-12-19T15:30:02.981Z"
   },
   {
    "duration": 20,
    "start_time": "2021-12-19T15:30:19.263Z"
   },
   {
    "duration": 7736,
    "start_time": "2021-12-19T15:30:32.200Z"
   },
   {
    "duration": 11,
    "start_time": "2021-12-19T15:30:57.127Z"
   },
   {
    "duration": 5,
    "start_time": "2021-12-19T15:31:01.209Z"
   },
   {
    "duration": 11,
    "start_time": "2021-12-19T15:31:54.511Z"
   },
   {
    "duration": 19,
    "start_time": "2021-12-19T15:32:32.884Z"
   },
   {
    "duration": 8229,
    "start_time": "2021-12-19T15:32:34.261Z"
   },
   {
    "duration": 6,
    "start_time": "2021-12-19T15:32:45.873Z"
   },
   {
    "duration": 20,
    "start_time": "2021-12-19T15:34:19.548Z"
   },
   {
    "duration": 281,
    "start_time": "2021-12-19T15:34:36.803Z"
   },
   {
    "duration": 21,
    "start_time": "2021-12-19T15:34:48.012Z"
   },
   {
    "duration": 292,
    "start_time": "2021-12-19T15:34:49.064Z"
   },
   {
    "duration": 6,
    "start_time": "2021-12-19T15:35:07.993Z"
   },
   {
    "duration": 7,
    "start_time": "2021-12-19T15:36:06.521Z"
   },
   {
    "duration": 316,
    "start_time": "2021-12-19T15:36:25.125Z"
   },
   {
    "duration": 106,
    "start_time": "2021-12-19T15:37:00.730Z"
   },
   {
    "duration": 30,
    "start_time": "2021-12-19T15:37:08.050Z"
   },
   {
    "duration": 21,
    "start_time": "2021-12-19T15:37:39.905Z"
   },
   {
    "duration": 29,
    "start_time": "2021-12-19T15:37:48.822Z"
   },
   {
    "duration": 16,
    "start_time": "2021-12-19T15:38:28.091Z"
   },
   {
    "duration": 16,
    "start_time": "2021-12-19T15:38:46.840Z"
   },
   {
    "duration": 315,
    "start_time": "2021-12-19T15:39:51.623Z"
   },
   {
    "duration": 12,
    "start_time": "2021-12-19T15:40:03.027Z"
   },
   {
    "duration": 16,
    "start_time": "2021-12-19T15:41:07.265Z"
   },
   {
    "duration": 12,
    "start_time": "2021-12-19T15:41:23.204Z"
   },
   {
    "duration": 853,
    "start_time": "2021-12-19T15:43:52.696Z"
   },
   {
    "duration": 5,
    "start_time": "2021-12-19T15:44:02.998Z"
   },
   {
    "duration": 8,
    "start_time": "2021-12-19T15:44:32.288Z"
   },
   {
    "duration": 1179,
    "start_time": "2021-12-19T15:44:48.294Z"
   },
   {
    "duration": 50,
    "start_time": "2021-12-19T15:44:56.089Z"
   },
   {
    "duration": 5,
    "start_time": "2021-12-19T15:45:26.608Z"
   },
   {
    "duration": 230,
    "start_time": "2021-12-19T15:45:27.243Z"
   },
   {
    "duration": 51,
    "start_time": "2021-12-19T15:45:28.160Z"
   },
   {
    "duration": 5,
    "start_time": "2021-12-19T15:46:31.920Z"
   },
   {
    "duration": 655,
    "start_time": "2021-12-19T15:46:32.933Z"
   },
   {
    "duration": 47,
    "start_time": "2021-12-19T15:46:33.804Z"
   },
   {
    "duration": 5,
    "start_time": "2021-12-19T15:46:47.802Z"
   },
   {
    "duration": 714,
    "start_time": "2021-12-19T15:46:48.565Z"
   },
   {
    "duration": 5,
    "start_time": "2021-12-19T15:53:41.952Z"
   },
   {
    "duration": 665,
    "start_time": "2021-12-19T15:53:42.944Z"
   },
   {
    "duration": 107,
    "start_time": "2021-12-19T15:53:58.121Z"
   },
   {
    "duration": 706,
    "start_time": "2021-12-19T15:53:59.325Z"
   },
   {
    "duration": 5,
    "start_time": "2021-12-19T15:54:04.781Z"
   },
   {
    "duration": 226,
    "start_time": "2021-12-19T15:54:05.488Z"
   },
   {
    "duration": 54,
    "start_time": "2021-12-19T15:54:06.399Z"
   },
   {
    "duration": 7,
    "start_time": "2021-12-19T15:54:57.764Z"
   },
   {
    "duration": 263,
    "start_time": "2021-12-19T15:54:58.448Z"
   },
   {
    "duration": 75,
    "start_time": "2021-12-19T15:54:59.276Z"
   },
   {
    "duration": 308,
    "start_time": "2021-12-19T15:55:21.080Z"
   },
   {
    "duration": 28,
    "start_time": "2021-12-19T15:55:22.852Z"
   },
   {
    "duration": 9,
    "start_time": "2021-12-19T15:55:53.213Z"
   },
   {
    "duration": 1191,
    "start_time": "2021-12-19T15:56:17.616Z"
   },
   {
    "duration": 447,
    "start_time": "2021-12-19T15:56:18.810Z"
   },
   {
    "duration": 52,
    "start_time": "2021-12-19T15:56:19.261Z"
   },
   {
    "duration": 25,
    "start_time": "2021-12-19T15:56:19.317Z"
   },
   {
    "duration": 28,
    "start_time": "2021-12-19T15:56:19.345Z"
   },
   {
    "duration": 16,
    "start_time": "2021-12-19T15:56:19.375Z"
   },
   {
    "duration": 75,
    "start_time": "2021-12-19T15:56:19.394Z"
   },
   {
    "duration": 13,
    "start_time": "2021-12-19T15:56:19.472Z"
   },
   {
    "duration": 17,
    "start_time": "2021-12-19T15:56:19.490Z"
   },
   {
    "duration": 4,
    "start_time": "2021-12-19T15:56:19.509Z"
   },
   {
    "duration": 61,
    "start_time": "2021-12-19T15:56:19.516Z"
   },
   {
    "duration": 16,
    "start_time": "2021-12-19T15:56:19.581Z"
   },
   {
    "duration": 12,
    "start_time": "2021-12-19T15:56:19.600Z"
   },
   {
    "duration": 7735,
    "start_time": "2021-12-19T15:56:19.616Z"
   },
   {
    "duration": 5,
    "start_time": "2021-12-19T15:56:27.353Z"
   },
   {
    "duration": 18,
    "start_time": "2021-12-19T15:56:27.368Z"
   },
   {
    "duration": 12,
    "start_time": "2021-12-19T15:56:27.388Z"
   },
   {
    "duration": 83,
    "start_time": "2021-12-19T15:56:27.403Z"
   },
   {
    "duration": 22,
    "start_time": "2021-12-19T15:56:27.488Z"
   },
   {
    "duration": 5,
    "start_time": "2021-12-19T15:56:27.512Z"
   },
   {
    "duration": 470,
    "start_time": "2021-12-19T15:56:27.519Z"
   },
   {
    "duration": 63,
    "start_time": "2021-12-19T15:56:27.929Z"
   },
   {
    "duration": 63,
    "start_time": "2021-12-19T15:56:27.931Z"
   },
   {
    "duration": 63,
    "start_time": "2021-12-19T15:56:27.932Z"
   },
   {
    "duration": 64,
    "start_time": "2021-12-19T15:56:27.933Z"
   },
   {
    "duration": 63,
    "start_time": "2021-12-19T15:56:27.935Z"
   },
   {
    "duration": 59,
    "start_time": "2021-12-19T15:56:27.941Z"
   },
   {
    "duration": 60,
    "start_time": "2021-12-19T15:56:27.942Z"
   },
   {
    "duration": 61,
    "start_time": "2021-12-19T15:56:27.943Z"
   },
   {
    "duration": 57,
    "start_time": "2021-12-19T15:56:27.948Z"
   },
   {
    "duration": 58,
    "start_time": "2021-12-19T15:56:27.949Z"
   },
   {
    "duration": 58,
    "start_time": "2021-12-19T15:56:27.950Z"
   },
   {
    "duration": 58,
    "start_time": "2021-12-19T15:56:27.951Z"
   },
   {
    "duration": 56,
    "start_time": "2021-12-19T15:56:27.955Z"
   },
   {
    "duration": 56,
    "start_time": "2021-12-19T15:56:27.956Z"
   },
   {
    "duration": 56,
    "start_time": "2021-12-19T15:56:27.957Z"
   },
   {
    "duration": 57,
    "start_time": "2021-12-19T15:56:27.958Z"
   },
   {
    "duration": 58,
    "start_time": "2021-12-19T15:56:27.960Z"
   },
   {
    "duration": 58,
    "start_time": "2021-12-19T15:56:27.961Z"
   },
   {
    "duration": 33,
    "start_time": "2021-12-19T15:56:27.987Z"
   },
   {
    "duration": 31,
    "start_time": "2021-12-19T15:56:27.990Z"
   },
   {
    "duration": 30,
    "start_time": "2021-12-19T15:56:27.992Z"
   },
   {
    "duration": 25,
    "start_time": "2021-12-19T15:56:27.998Z"
   },
   {
    "duration": 25,
    "start_time": "2021-12-19T15:56:27.999Z"
   },
   {
    "duration": 885,
    "start_time": "2021-12-19T15:57:01.206Z"
   },
   {
    "duration": 434,
    "start_time": "2021-12-19T15:57:02.094Z"
   },
   {
    "duration": 48,
    "start_time": "2021-12-19T15:57:02.533Z"
   },
   {
    "duration": 15,
    "start_time": "2021-12-19T15:57:02.585Z"
   },
   {
    "duration": 11,
    "start_time": "2021-12-19T15:57:02.602Z"
   },
   {
    "duration": 18,
    "start_time": "2021-12-19T15:57:02.615Z"
   },
   {
    "duration": 64,
    "start_time": "2021-12-19T15:57:02.635Z"
   },
   {
    "duration": 14,
    "start_time": "2021-12-19T15:57:02.702Z"
   },
   {
    "duration": 48,
    "start_time": "2021-12-19T15:57:02.722Z"
   },
   {
    "duration": 4,
    "start_time": "2021-12-19T15:57:02.775Z"
   },
   {
    "duration": 28,
    "start_time": "2021-12-19T15:57:02.783Z"
   },
   {
    "duration": 18,
    "start_time": "2021-12-19T15:57:02.814Z"
   },
   {
    "duration": 31,
    "start_time": "2021-12-19T15:57:02.836Z"
   },
   {
    "duration": 6145,
    "start_time": "2021-12-19T15:57:02.871Z"
   },
   {
    "duration": 7,
    "start_time": "2021-12-19T15:57:09.019Z"
   },
   {
    "duration": 41,
    "start_time": "2021-12-19T15:57:09.029Z"
   },
   {
    "duration": 13,
    "start_time": "2021-12-19T15:57:09.073Z"
   },
   {
    "duration": 81,
    "start_time": "2021-12-19T15:57:09.088Z"
   },
   {
    "duration": 21,
    "start_time": "2021-12-19T15:57:09.172Z"
   },
   {
    "duration": 5,
    "start_time": "2021-12-19T15:57:09.195Z"
   },
   {
    "duration": 4996,
    "start_time": "2021-12-19T15:57:09.202Z"
   },
   {
    "duration": 12,
    "start_time": "2021-12-19T15:57:14.201Z"
   },
   {
    "duration": 832,
    "start_time": "2021-12-19T15:57:14.215Z"
   },
   {
    "duration": 20,
    "start_time": "2021-12-19T15:57:15.049Z"
   },
   {
    "duration": 16,
    "start_time": "2021-12-19T15:57:15.072Z"
   },
   {
    "duration": 782,
    "start_time": "2021-12-19T15:57:15.091Z"
   },
   {
    "duration": 51,
    "start_time": "2021-12-19T15:57:15.878Z"
   },
   {
    "duration": 37,
    "start_time": "2021-12-19T15:57:15.932Z"
   },
   {
    "duration": 30,
    "start_time": "2021-12-19T15:57:15.971Z"
   },
   {
    "duration": 6,
    "start_time": "2021-12-19T15:57:16.004Z"
   },
   {
    "duration": 11,
    "start_time": "2021-12-19T15:57:16.012Z"
   },
   {
    "duration": 43,
    "start_time": "2021-12-19T15:57:16.026Z"
   },
   {
    "duration": 6299,
    "start_time": "2021-12-19T15:57:16.071Z"
   },
   {
    "duration": 12,
    "start_time": "2021-12-19T15:57:22.373Z"
   },
   {
    "duration": 12,
    "start_time": "2021-12-19T15:57:22.387Z"
   },
   {
    "duration": 879,
    "start_time": "2021-12-19T15:57:22.402Z"
   },
   {
    "duration": 10,
    "start_time": "2021-12-19T15:57:23.284Z"
   },
   {
    "duration": 10,
    "start_time": "2021-12-19T15:57:23.297Z"
   },
   {
    "duration": 1038,
    "start_time": "2021-12-19T15:57:23.309Z"
   },
   {
    "duration": 17,
    "start_time": "2021-12-19T15:57:24.351Z"
   },
   {
    "duration": 14,
    "start_time": "2021-12-19T15:57:24.371Z"
   },
   {
    "duration": 38,
    "start_time": "2021-12-19T15:57:24.388Z"
   },
   {
    "duration": 38,
    "start_time": "2021-12-19T15:57:24.429Z"
   },
   {
    "duration": 6317,
    "start_time": "2021-12-19T15:57:24.470Z"
   },
   {
    "duration": 11,
    "start_time": "2021-12-19T15:58:31.679Z"
   },
   {
    "duration": 12,
    "start_time": "2021-12-19T15:59:05.107Z"
   },
   {
    "duration": 14,
    "start_time": "2021-12-19T16:00:08.330Z"
   },
   {
    "duration": 7,
    "start_time": "2021-12-19T16:00:28.222Z"
   },
   {
    "duration": 6,
    "start_time": "2021-12-19T16:00:39.454Z"
   },
   {
    "duration": 56,
    "start_time": "2021-12-19T16:02:30.362Z"
   },
   {
    "duration": 41,
    "start_time": "2021-12-19T16:02:49.739Z"
   },
   {
    "duration": 11,
    "start_time": "2021-12-19T16:05:39.625Z"
   },
   {
    "duration": 6,
    "start_time": "2021-12-19T16:06:11.678Z"
   },
   {
    "duration": 5,
    "start_time": "2021-12-19T16:06:21.034Z"
   },
   {
    "duration": 10,
    "start_time": "2021-12-19T16:06:35.231Z"
   },
   {
    "duration": 6,
    "start_time": "2021-12-19T16:06:49.122Z"
   },
   {
    "duration": 6,
    "start_time": "2021-12-19T16:08:30.554Z"
   },
   {
    "duration": 5,
    "start_time": "2021-12-19T16:08:42.380Z"
   },
   {
    "duration": 6,
    "start_time": "2021-12-19T16:08:49.023Z"
   },
   {
    "duration": 6,
    "start_time": "2021-12-19T16:11:31.184Z"
   },
   {
    "duration": 16,
    "start_time": "2021-12-19T16:16:28.410Z"
   },
   {
    "duration": 8,
    "start_time": "2021-12-19T16:16:35.491Z"
   },
   {
    "duration": 30,
    "start_time": "2021-12-19T16:16:44.742Z"
   },
   {
    "duration": 18,
    "start_time": "2021-12-19T16:34:33.202Z"
   },
   {
    "duration": 16,
    "start_time": "2021-12-19T16:34:50.922Z"
   },
   {
    "duration": 396,
    "start_time": "2021-12-19T16:35:08.131Z"
   },
   {
    "duration": 5,
    "start_time": "2021-12-19T16:35:21.178Z"
   },
   {
    "duration": 17,
    "start_time": "2021-12-19T16:35:27.992Z"
   },
   {
    "duration": 52,
    "start_time": "2021-12-19T16:35:37.732Z"
   },
   {
    "duration": 11,
    "start_time": "2021-12-19T16:36:58.688Z"
   },
   {
    "duration": 7826,
    "start_time": "2021-12-19T16:37:25.559Z"
   },
   {
    "duration": 12,
    "start_time": "2021-12-19T16:39:38.267Z"
   },
   {
    "duration": 11,
    "start_time": "2021-12-19T16:41:14.658Z"
   },
   {
    "duration": 12,
    "start_time": "2021-12-19T16:41:24.895Z"
   },
   {
    "duration": 6,
    "start_time": "2021-12-19T16:44:44.195Z"
   },
   {
    "duration": 10,
    "start_time": "2021-12-19T16:47:42.199Z"
   },
   {
    "duration": 50,
    "start_time": "2021-12-19T16:48:19.475Z"
   },
   {
    "duration": 5406,
    "start_time": "2021-12-19T16:49:00.419Z"
   },
   {
    "duration": 12,
    "start_time": "2021-12-19T16:49:19.909Z"
   },
   {
    "duration": 11,
    "start_time": "2021-12-19T16:49:24.649Z"
   },
   {
    "duration": 14,
    "start_time": "2021-12-19T16:51:09.131Z"
   },
   {
    "duration": 13,
    "start_time": "2021-12-19T16:52:34.706Z"
   },
   {
    "duration": 16,
    "start_time": "2021-12-19T16:53:58.227Z"
   },
   {
    "duration": 6783,
    "start_time": "2021-12-19T16:54:30.728Z"
   },
   {
    "duration": 94,
    "start_time": "2021-12-19T16:57:09.479Z"
   },
   {
    "duration": 332,
    "start_time": "2021-12-19T16:57:22.434Z"
   },
   {
    "duration": 942,
    "start_time": "2021-12-19T17:23:11.033Z"
   },
   {
    "duration": 430,
    "start_time": "2021-12-19T17:23:11.977Z"
   },
   {
    "duration": 35,
    "start_time": "2021-12-19T17:23:12.410Z"
   },
   {
    "duration": 31,
    "start_time": "2021-12-19T17:23:12.447Z"
   },
   {
    "duration": 11,
    "start_time": "2021-12-19T17:23:12.481Z"
   },
   {
    "duration": 12,
    "start_time": "2021-12-19T17:23:12.495Z"
   },
   {
    "duration": 76,
    "start_time": "2021-12-19T17:23:12.510Z"
   },
   {
    "duration": 5,
    "start_time": "2021-12-19T17:23:12.591Z"
   },
   {
    "duration": 11,
    "start_time": "2021-12-19T17:23:12.600Z"
   },
   {
    "duration": 77,
    "start_time": "2021-12-19T17:23:12.613Z"
   },
   {
    "duration": 5,
    "start_time": "2021-12-19T17:23:12.693Z"
   },
   {
    "duration": 15,
    "start_time": "2021-12-19T17:23:12.701Z"
   },
   {
    "duration": 12,
    "start_time": "2021-12-19T17:23:12.718Z"
   },
   {
    "duration": 35,
    "start_time": "2021-12-19T17:23:12.732Z"
   },
   {
    "duration": 20,
    "start_time": "2021-12-19T17:23:12.770Z"
   },
   {
    "duration": 12,
    "start_time": "2021-12-19T17:23:12.793Z"
   },
   {
    "duration": 5,
    "start_time": "2021-12-19T17:23:12.807Z"
   },
   {
    "duration": 6310,
    "start_time": "2021-12-19T17:23:12.814Z"
   },
   {
    "duration": 5,
    "start_time": "2021-12-19T17:23:19.127Z"
   },
   {
    "duration": 38,
    "start_time": "2021-12-19T17:23:19.135Z"
   },
   {
    "duration": 10,
    "start_time": "2021-12-19T17:23:19.176Z"
   },
   {
    "duration": 53,
    "start_time": "2021-12-19T17:23:19.189Z"
   },
   {
    "duration": 21,
    "start_time": "2021-12-19T17:23:19.272Z"
   },
   {
    "duration": 5,
    "start_time": "2021-12-19T17:23:19.296Z"
   },
   {
    "duration": 5272,
    "start_time": "2021-12-19T17:23:19.303Z"
   },
   {
    "duration": 13,
    "start_time": "2021-12-19T17:23:24.577Z"
   },
   {
    "duration": 877,
    "start_time": "2021-12-19T17:23:24.593Z"
   },
   {
    "duration": 9,
    "start_time": "2021-12-19T17:23:25.473Z"
   },
   {
    "duration": 16,
    "start_time": "2021-12-19T17:23:25.485Z"
   },
   {
    "duration": 763,
    "start_time": "2021-12-19T17:23:25.504Z"
   },
   {
    "duration": 50,
    "start_time": "2021-12-19T17:23:26.269Z"
   },
   {
    "duration": 12,
    "start_time": "2021-12-19T17:23:26.322Z"
   },
   {
    "duration": 56,
    "start_time": "2021-12-19T17:23:26.336Z"
   },
   {
    "duration": 7,
    "start_time": "2021-12-19T17:23:26.395Z"
   },
   {
    "duration": 6,
    "start_time": "2021-12-19T17:23:26.405Z"
   },
   {
    "duration": 5,
    "start_time": "2021-12-19T17:23:26.413Z"
   },
   {
    "duration": 5925,
    "start_time": "2021-12-19T17:23:26.421Z"
   },
   {
    "duration": 24,
    "start_time": "2021-12-19T17:23:32.348Z"
   },
   {
    "duration": 13,
    "start_time": "2021-12-19T17:23:32.379Z"
   },
   {
    "duration": 838,
    "start_time": "2021-12-19T17:23:32.394Z"
   },
   {
    "duration": 9,
    "start_time": "2021-12-19T17:23:33.235Z"
   },
   {
    "duration": 25,
    "start_time": "2021-12-19T17:23:33.247Z"
   },
   {
    "duration": 696,
    "start_time": "2021-12-19T17:23:33.275Z"
   },
   {
    "duration": 5,
    "start_time": "2021-12-19T17:23:33.974Z"
   },
   {
    "duration": 19,
    "start_time": "2021-12-19T17:23:33.982Z"
   },
   {
    "duration": 64,
    "start_time": "2021-12-19T17:23:34.003Z"
   },
   {
    "duration": 7,
    "start_time": "2021-12-19T17:23:34.070Z"
   },
   {
    "duration": 6598,
    "start_time": "2021-12-19T17:23:34.080Z"
   },
   {
    "duration": 16,
    "start_time": "2021-12-19T17:23:40.680Z"
   },
   {
    "duration": 14,
    "start_time": "2021-12-19T17:23:40.698Z"
   },
   {
    "duration": 10,
    "start_time": "2021-12-19T17:23:40.715Z"
   },
   {
    "duration": 5100,
    "start_time": "2021-12-19T17:23:40.728Z"
   },
   {
    "duration": 10,
    "start_time": "2021-12-19T17:23:45.831Z"
   },
   {
    "duration": 66,
    "start_time": "2021-12-19T17:23:45.844Z"
   },
   {
    "duration": 4868,
    "start_time": "2021-12-19T17:23:45.913Z"
   },
   {
    "duration": 9,
    "start_time": "2021-12-19T17:23:50.785Z"
   },
   {
    "duration": 76,
    "start_time": "2021-12-19T17:23:50.797Z"
   },
   {
    "duration": 115,
    "start_time": "2021-12-19T17:23:50.876Z"
   },
   {
    "duration": 6682,
    "start_time": "2021-12-19T17:23:50.994Z"
   },
   {
    "duration": 7,
    "start_time": "2021-12-19T17:23:57.679Z"
   },
   {
    "duration": 32,
    "start_time": "2021-12-19T17:23:57.688Z"
   },
   {
    "duration": 13,
    "start_time": "2021-12-19T17:24:26.792Z"
   },
   {
    "duration": 9,
    "start_time": "2021-12-19T17:25:21.316Z"
   },
   {
    "duration": 8,
    "start_time": "2021-12-19T17:26:45.313Z"
   },
   {
    "duration": 9,
    "start_time": "2021-12-19T17:27:45.297Z"
   },
   {
    "duration": 32,
    "start_time": "2021-12-19T17:27:49.481Z"
   },
   {
    "duration": 9,
    "start_time": "2021-12-19T17:27:58.461Z"
   },
   {
    "duration": 30,
    "start_time": "2021-12-19T17:28:01.248Z"
   },
   {
    "duration": 34650,
    "start_time": "2021-12-19T17:52:11.343Z"
   },
   {
    "duration": 38,
    "start_time": "2021-12-19T17:53:11.444Z"
   },
   {
    "duration": 925,
    "start_time": "2021-12-19T17:54:01.053Z"
   },
   {
    "duration": 530,
    "start_time": "2021-12-19T17:54:01.981Z"
   },
   {
    "duration": 35,
    "start_time": "2021-12-19T17:54:02.515Z"
   },
   {
    "duration": 17,
    "start_time": "2021-12-19T17:54:02.568Z"
   },
   {
    "duration": 9,
    "start_time": "2021-12-19T17:54:02.588Z"
   },
   {
    "duration": 13,
    "start_time": "2021-12-19T17:54:02.600Z"
   },
   {
    "duration": 79,
    "start_time": "2021-12-19T17:54:02.615Z"
   },
   {
    "duration": 6,
    "start_time": "2021-12-19T17:54:02.698Z"
   },
   {
    "duration": 16,
    "start_time": "2021-12-19T17:54:02.707Z"
   },
   {
    "duration": 70,
    "start_time": "2021-12-19T17:54:02.726Z"
   },
   {
    "duration": 6,
    "start_time": "2021-12-19T17:54:02.799Z"
   },
   {
    "duration": 12,
    "start_time": "2021-12-19T17:54:02.807Z"
   },
   {
    "duration": 12,
    "start_time": "2021-12-19T17:54:02.821Z"
   },
   {
    "duration": 4,
    "start_time": "2021-12-19T17:54:02.868Z"
   },
   {
    "duration": 18,
    "start_time": "2021-12-19T17:54:02.875Z"
   },
   {
    "duration": 12,
    "start_time": "2021-12-19T17:54:02.896Z"
   },
   {
    "duration": 5,
    "start_time": "2021-12-19T17:54:02.910Z"
   },
   {
    "duration": 6317,
    "start_time": "2021-12-19T17:54:02.918Z"
   },
   {
    "duration": 6,
    "start_time": "2021-12-19T17:54:09.238Z"
   },
   {
    "duration": 35,
    "start_time": "2021-12-19T17:54:09.246Z"
   },
   {
    "duration": 13,
    "start_time": "2021-12-19T17:54:09.283Z"
   },
   {
    "duration": 77,
    "start_time": "2021-12-19T17:54:09.299Z"
   },
   {
    "duration": 21,
    "start_time": "2021-12-19T17:54:09.383Z"
   },
   {
    "duration": 4,
    "start_time": "2021-12-19T17:54:09.407Z"
   },
   {
    "duration": 5290,
    "start_time": "2021-12-19T17:54:09.413Z"
   },
   {
    "duration": 12,
    "start_time": "2021-12-19T17:54:14.705Z"
   },
   {
    "duration": 829,
    "start_time": "2021-12-19T17:54:14.720Z"
   },
   {
    "duration": 21,
    "start_time": "2021-12-19T17:54:15.551Z"
   },
   {
    "duration": 15,
    "start_time": "2021-12-19T17:54:15.574Z"
   },
   {
    "duration": 909,
    "start_time": "2021-12-19T17:54:15.592Z"
   },
   {
    "duration": 68,
    "start_time": "2021-12-19T17:54:16.503Z"
   },
   {
    "duration": 12,
    "start_time": "2021-12-19T17:54:16.574Z"
   },
   {
    "duration": 31,
    "start_time": "2021-12-19T17:54:16.588Z"
   },
   {
    "duration": 7,
    "start_time": "2021-12-19T17:54:16.622Z"
   },
   {
    "duration": 7,
    "start_time": "2021-12-19T17:54:16.668Z"
   },
   {
    "duration": 7,
    "start_time": "2021-12-19T17:54:16.679Z"
   },
   {
    "duration": 6050,
    "start_time": "2021-12-19T17:54:16.689Z"
   },
   {
    "duration": 13,
    "start_time": "2021-12-19T17:54:22.742Z"
   },
   {
    "duration": 13,
    "start_time": "2021-12-19T17:54:22.768Z"
   },
   {
    "duration": 859,
    "start_time": "2021-12-19T17:54:22.784Z"
   },
   {
    "duration": 20,
    "start_time": "2021-12-19T17:54:23.647Z"
   },
   {
    "duration": 10,
    "start_time": "2021-12-19T17:54:23.670Z"
   },
   {
    "duration": 758,
    "start_time": "2021-12-19T17:54:23.683Z"
   },
   {
    "duration": 7,
    "start_time": "2021-12-19T17:54:24.443Z"
   },
   {
    "duration": 11,
    "start_time": "2021-12-19T17:54:24.468Z"
   },
   {
    "duration": 42,
    "start_time": "2021-12-19T17:54:24.482Z"
   },
   {
    "duration": 6,
    "start_time": "2021-12-19T17:54:24.527Z"
   },
   {
    "duration": 6322,
    "start_time": "2021-12-19T17:54:24.568Z"
   },
   {
    "duration": 15,
    "start_time": "2021-12-19T17:54:30.893Z"
   },
   {
    "duration": 15,
    "start_time": "2021-12-19T17:54:30.911Z"
   },
   {
    "duration": 14,
    "start_time": "2021-12-19T17:54:30.929Z"
   },
   {
    "duration": 4997,
    "start_time": "2021-12-19T17:54:30.969Z"
   },
   {
    "duration": 14,
    "start_time": "2021-12-19T17:54:35.969Z"
   },
   {
    "duration": 92,
    "start_time": "2021-12-19T17:54:35.986Z"
   },
   {
    "duration": 7678,
    "start_time": "2021-12-19T17:54:36.082Z"
   },
   {
    "duration": 9,
    "start_time": "2021-12-19T17:54:43.762Z"
   },
   {
    "duration": 12,
    "start_time": "2021-12-19T17:54:43.773Z"
   },
   {
    "duration": 16,
    "start_time": "2021-12-19T17:54:43.788Z"
   },
   {
    "duration": 6501,
    "start_time": "2021-12-19T17:54:43.806Z"
   },
   {
    "duration": 7,
    "start_time": "2021-12-19T17:54:50.310Z"
   },
   {
    "duration": 54,
    "start_time": "2021-12-19T17:54:50.320Z"
   },
   {
    "duration": 12,
    "start_time": "2021-12-19T17:54:50.377Z"
   },
   {
    "duration": 13,
    "start_time": "2021-12-19T17:54:50.392Z"
   },
   {
    "duration": 1004,
    "start_time": "2021-12-19T17:54:50.408Z"
   },
   {
    "duration": 17,
    "start_time": "2021-12-19T17:54:51.398Z"
   },
   {
    "duration": 18,
    "start_time": "2021-12-19T17:54:51.400Z"
   },
   {
    "duration": 902,
    "start_time": "2021-12-19T17:57:29.397Z"
   },
   {
    "duration": 442,
    "start_time": "2021-12-19T17:57:30.302Z"
   },
   {
    "duration": 39,
    "start_time": "2021-12-19T17:57:30.747Z"
   },
   {
    "duration": 19,
    "start_time": "2021-12-19T17:57:30.789Z"
   },
   {
    "duration": 13,
    "start_time": "2021-12-19T17:57:30.811Z"
   },
   {
    "duration": 41,
    "start_time": "2021-12-19T17:57:30.826Z"
   },
   {
    "duration": 41,
    "start_time": "2021-12-19T17:57:30.869Z"
   },
   {
    "duration": 6,
    "start_time": "2021-12-19T17:57:30.914Z"
   },
   {
    "duration": 77,
    "start_time": "2021-12-19T17:57:30.923Z"
   },
   {
    "duration": 50,
    "start_time": "2021-12-19T17:57:31.002Z"
   },
   {
    "duration": 6,
    "start_time": "2021-12-19T17:57:31.055Z"
   },
   {
    "duration": 34,
    "start_time": "2021-12-19T17:57:31.063Z"
   },
   {
    "duration": 18,
    "start_time": "2021-12-19T17:57:31.100Z"
   },
   {
    "duration": 6,
    "start_time": "2021-12-19T17:57:31.121Z"
   },
   {
    "duration": 33,
    "start_time": "2021-12-19T17:57:31.130Z"
   },
   {
    "duration": 11,
    "start_time": "2021-12-19T17:57:31.165Z"
   },
   {
    "duration": 11,
    "start_time": "2021-12-19T17:57:31.178Z"
   },
   {
    "duration": 6235,
    "start_time": "2021-12-19T17:57:31.192Z"
   },
   {
    "duration": 6,
    "start_time": "2021-12-19T17:57:37.430Z"
   },
   {
    "duration": 62,
    "start_time": "2021-12-19T17:57:37.438Z"
   },
   {
    "duration": 20,
    "start_time": "2021-12-19T17:57:37.503Z"
   },
   {
    "duration": 65,
    "start_time": "2021-12-19T17:57:37.525Z"
   },
   {
    "duration": 22,
    "start_time": "2021-12-19T17:57:37.598Z"
   },
   {
    "duration": 4,
    "start_time": "2021-12-19T17:57:37.624Z"
   },
   {
    "duration": 5460,
    "start_time": "2021-12-19T17:57:37.631Z"
   },
   {
    "duration": 11,
    "start_time": "2021-12-19T17:57:43.094Z"
   },
   {
    "duration": 854,
    "start_time": "2021-12-19T17:57:43.107Z"
   },
   {
    "duration": 11,
    "start_time": "2021-12-19T17:57:43.963Z"
   },
   {
    "duration": 95,
    "start_time": "2021-12-19T17:57:43.977Z"
   },
   {
    "duration": 802,
    "start_time": "2021-12-19T17:57:44.075Z"
   },
   {
    "duration": 48,
    "start_time": "2021-12-19T17:57:44.880Z"
   },
   {
    "duration": 37,
    "start_time": "2021-12-19T17:57:44.931Z"
   },
   {
    "duration": 31,
    "start_time": "2021-12-19T17:57:44.971Z"
   },
   {
    "duration": 13,
    "start_time": "2021-12-19T17:57:45.004Z"
   },
   {
    "duration": 13,
    "start_time": "2021-12-19T17:57:45.020Z"
   },
   {
    "duration": 5,
    "start_time": "2021-12-19T17:57:45.035Z"
   },
   {
    "duration": 5766,
    "start_time": "2021-12-19T17:57:45.067Z"
   },
   {
    "duration": 12,
    "start_time": "2021-12-19T17:57:50.836Z"
   },
   {
    "duration": 104,
    "start_time": "2021-12-19T17:57:50.851Z"
   },
   {
    "duration": 893,
    "start_time": "2021-12-19T17:57:50.958Z"
   },
   {
    "duration": 17,
    "start_time": "2021-12-19T17:57:51.854Z"
   },
   {
    "duration": 10,
    "start_time": "2021-12-19T17:57:51.873Z"
   },
   {
    "duration": 771,
    "start_time": "2021-12-19T17:57:51.886Z"
   },
   {
    "duration": 6,
    "start_time": "2021-12-19T17:57:52.667Z"
   },
   {
    "duration": 14,
    "start_time": "2021-12-19T17:57:52.676Z"
   },
   {
    "duration": 39,
    "start_time": "2021-12-19T17:57:52.692Z"
   },
   {
    "duration": 34,
    "start_time": "2021-12-19T17:57:52.733Z"
   },
   {
    "duration": 6410,
    "start_time": "2021-12-19T17:57:52.770Z"
   },
   {
    "duration": 15,
    "start_time": "2021-12-19T17:57:59.182Z"
   },
   {
    "duration": 14,
    "start_time": "2021-12-19T17:57:59.199Z"
   },
   {
    "duration": 10,
    "start_time": "2021-12-19T17:57:59.215Z"
   },
   {
    "duration": 5144,
    "start_time": "2021-12-19T17:57:59.228Z"
   },
   {
    "duration": 11,
    "start_time": "2021-12-19T17:58:04.376Z"
   },
   {
    "duration": 49,
    "start_time": "2021-12-19T17:58:04.389Z"
   },
   {
    "duration": 5365,
    "start_time": "2021-12-19T17:58:04.468Z"
   },
   {
    "duration": 8,
    "start_time": "2021-12-19T17:58:09.836Z"
   },
   {
    "duration": 26,
    "start_time": "2021-12-19T17:58:09.847Z"
   },
   {
    "duration": 17,
    "start_time": "2021-12-19T17:58:09.875Z"
   },
   {
    "duration": 6414,
    "start_time": "2021-12-19T17:58:09.895Z"
   },
   {
    "duration": 8,
    "start_time": "2021-12-19T17:58:16.312Z"
   },
   {
    "duration": 56,
    "start_time": "2021-12-19T17:58:16.324Z"
   },
   {
    "duration": 10,
    "start_time": "2021-12-19T17:58:16.382Z"
   },
   {
    "duration": 13,
    "start_time": "2021-12-19T17:58:16.395Z"
   },
   {
    "duration": 48595,
    "start_time": "2021-12-19T17:58:16.411Z"
   },
   {
    "duration": 20,
    "start_time": "2021-12-19T17:59:04.989Z"
   },
   {
    "duration": 893,
    "start_time": "2021-12-19T17:59:18.261Z"
   },
   {
    "duration": 446,
    "start_time": "2021-12-19T17:59:19.158Z"
   },
   {
    "duration": 38,
    "start_time": "2021-12-19T17:59:19.608Z"
   },
   {
    "duration": 17,
    "start_time": "2021-12-19T17:59:19.668Z"
   },
   {
    "duration": 9,
    "start_time": "2021-12-19T17:59:19.687Z"
   },
   {
    "duration": 12,
    "start_time": "2021-12-19T17:59:19.699Z"
   },
   {
    "duration": 81,
    "start_time": "2021-12-19T17:59:19.713Z"
   },
   {
    "duration": 7,
    "start_time": "2021-12-19T17:59:19.797Z"
   },
   {
    "duration": 14,
    "start_time": "2021-12-19T17:59:19.810Z"
   },
   {
    "duration": 83,
    "start_time": "2021-12-19T17:59:19.828Z"
   },
   {
    "duration": 6,
    "start_time": "2021-12-19T17:59:19.914Z"
   },
   {
    "duration": 46,
    "start_time": "2021-12-19T17:59:19.923Z"
   },
   {
    "duration": 14,
    "start_time": "2021-12-19T17:59:19.973Z"
   },
   {
    "duration": 4,
    "start_time": "2021-12-19T17:59:19.990Z"
   },
   {
    "duration": 17,
    "start_time": "2021-12-19T17:59:19.998Z"
   },
   {
    "duration": 56,
    "start_time": "2021-12-19T17:59:20.018Z"
   },
   {
    "duration": 4,
    "start_time": "2021-12-19T17:59:20.077Z"
   },
   {
    "duration": 7684,
    "start_time": "2021-12-19T17:59:20.084Z"
   },
   {
    "duration": 8,
    "start_time": "2021-12-19T17:59:27.771Z"
   },
   {
    "duration": 34,
    "start_time": "2021-12-19T17:59:27.781Z"
   },
   {
    "duration": 12,
    "start_time": "2021-12-19T17:59:27.818Z"
   },
   {
    "duration": 84,
    "start_time": "2021-12-19T17:59:27.833Z"
   },
   {
    "duration": 54,
    "start_time": "2021-12-19T17:59:27.921Z"
   },
   {
    "duration": 6,
    "start_time": "2021-12-19T17:59:27.978Z"
   },
   {
    "duration": 5307,
    "start_time": "2021-12-19T17:59:27.987Z"
   },
   {
    "duration": 15,
    "start_time": "2021-12-19T17:59:33.296Z"
   },
   {
    "duration": 894,
    "start_time": "2021-12-19T17:59:33.318Z"
   },
   {
    "duration": 11,
    "start_time": "2021-12-19T17:59:34.215Z"
   },
   {
    "duration": 38,
    "start_time": "2021-12-19T17:59:34.229Z"
   },
   {
    "duration": 761,
    "start_time": "2021-12-19T17:59:34.270Z"
   },
   {
    "duration": 64,
    "start_time": "2021-12-19T17:59:35.034Z"
   },
   {
    "duration": 14,
    "start_time": "2021-12-19T17:59:35.101Z"
   },
   {
    "duration": 59,
    "start_time": "2021-12-19T17:59:35.120Z"
   },
   {
    "duration": 8,
    "start_time": "2021-12-19T17:59:35.182Z"
   },
   {
    "duration": 8,
    "start_time": "2021-12-19T17:59:35.193Z"
   },
   {
    "duration": 11,
    "start_time": "2021-12-19T17:59:35.204Z"
   },
   {
    "duration": 6190,
    "start_time": "2021-12-19T17:59:35.219Z"
   },
   {
    "duration": 12,
    "start_time": "2021-12-19T17:59:41.412Z"
   },
   {
    "duration": 15,
    "start_time": "2021-12-19T17:59:41.426Z"
   },
   {
    "duration": 877,
    "start_time": "2021-12-19T17:59:41.443Z"
   },
   {
    "duration": 9,
    "start_time": "2021-12-19T17:59:42.323Z"
   },
   {
    "duration": 10,
    "start_time": "2021-12-19T17:59:42.334Z"
   },
   {
    "duration": 674,
    "start_time": "2021-12-19T17:59:42.367Z"
   },
   {
    "duration": 5,
    "start_time": "2021-12-19T17:59:43.044Z"
   },
   {
    "duration": 25,
    "start_time": "2021-12-19T17:59:43.052Z"
   },
   {
    "duration": 43,
    "start_time": "2021-12-19T17:59:43.079Z"
   },
   {
    "duration": 5,
    "start_time": "2021-12-19T17:59:43.124Z"
   },
   {
    "duration": 6462,
    "start_time": "2021-12-19T17:59:43.131Z"
   },
   {
    "duration": 15,
    "start_time": "2021-12-19T17:59:49.596Z"
   },
   {
    "duration": 14,
    "start_time": "2021-12-19T17:59:49.613Z"
   },
   {
    "duration": 10,
    "start_time": "2021-12-19T17:59:49.630Z"
   },
   {
    "duration": 5028,
    "start_time": "2021-12-19T17:59:49.667Z"
   },
   {
    "duration": 10,
    "start_time": "2021-12-19T17:59:54.698Z"
   },
   {
    "duration": 76,
    "start_time": "2021-12-19T17:59:54.710Z"
   },
   {
    "duration": 5063,
    "start_time": "2021-12-19T17:59:54.789Z"
   },
   {
    "duration": 14,
    "start_time": "2021-12-19T17:59:59.855Z"
   },
   {
    "duration": 18,
    "start_time": "2021-12-19T17:59:59.871Z"
   },
   {
    "duration": 16,
    "start_time": "2021-12-19T17:59:59.892Z"
   },
   {
    "duration": 6496,
    "start_time": "2021-12-19T17:59:59.910Z"
   },
   {
    "duration": 7,
    "start_time": "2021-12-19T18:00:06.408Z"
   },
   {
    "duration": 50,
    "start_time": "2021-12-19T18:00:06.418Z"
   },
   {
    "duration": 8,
    "start_time": "2021-12-19T18:00:06.471Z"
   },
   {
    "duration": 9,
    "start_time": "2021-12-19T18:00:06.482Z"
   },
   {
    "duration": 31186,
    "start_time": "2021-12-19T18:00:06.493Z"
   },
   {
    "duration": 30,
    "start_time": "2021-12-19T18:00:37.682Z"
   },
   {
    "duration": 8,
    "start_time": "2021-12-19T18:00:55.383Z"
   },
   {
    "duration": 35,
    "start_time": "2021-12-19T18:01:01.523Z"
   },
   {
    "duration": 12,
    "start_time": "2021-12-19T18:04:55.315Z"
   },
   {
    "duration": 76,
    "start_time": "2021-12-19T18:06:00.971Z"
   },
   {
    "duration": 11,
    "start_time": "2021-12-19T18:08:20.329Z"
   },
   {
    "duration": 96,
    "start_time": "2021-12-19T18:08:42.465Z"
   },
   {
    "duration": 65,
    "start_time": "2021-12-19T18:09:07.882Z"
   },
   {
    "duration": 6,
    "start_time": "2021-12-19T18:12:14.563Z"
   },
   {
    "duration": 5,
    "start_time": "2021-12-19T18:12:19.393Z"
   },
   {
    "duration": 12,
    "start_time": "2021-12-19T18:12:28.784Z"
   },
   {
    "duration": 150,
    "start_time": "2021-12-19T18:13:04.902Z"
   },
   {
    "duration": 30,
    "start_time": "2021-12-19T18:13:19.598Z"
   },
   {
    "duration": 127,
    "start_time": "2021-12-19T18:13:36.000Z"
   },
   {
    "duration": 29689,
    "start_time": "2021-12-19T18:13:50.615Z"
   },
   {
    "duration": 5491,
    "start_time": "2021-12-19T18:14:26.526Z"
   },
   {
    "duration": 26,
    "start_time": "2021-12-19T18:14:36.409Z"
   },
   {
    "duration": 26,
    "start_time": "2021-12-19T18:14:56.748Z"
   },
   {
    "duration": 705,
    "start_time": "2021-12-19T18:16:45.912Z"
   },
   {
    "duration": 614,
    "start_time": "2021-12-19T18:16:53.943Z"
   },
   {
    "duration": 2468,
    "start_time": "2021-12-19T18:17:21.073Z"
   },
   {
    "duration": 618,
    "start_time": "2021-12-19T18:17:34.136Z"
   },
   {
    "duration": 12,
    "start_time": "2021-12-19T18:19:50.724Z"
   },
   {
    "duration": 886,
    "start_time": "2021-12-19T18:22:03.691Z"
   },
   {
    "duration": 19,
    "start_time": "2021-12-19T18:23:42.064Z"
   },
   {
    "duration": 11,
    "start_time": "2021-12-19T18:23:57.945Z"
   },
   {
    "duration": 4607,
    "start_time": "2021-12-19T18:25:57.545Z"
   },
   {
    "duration": 5,
    "start_time": "2021-12-19T18:27:15.230Z"
   },
   {
    "duration": 7,
    "start_time": "2021-12-19T18:27:19.388Z"
   },
   {
    "duration": 46,
    "start_time": "2021-12-19T18:27:28.530Z"
   },
   {
    "duration": 1264,
    "start_time": "2021-12-19T18:27:38.239Z"
   },
   {
    "duration": 449,
    "start_time": "2021-12-19T18:27:39.508Z"
   },
   {
    "duration": 42,
    "start_time": "2021-12-19T18:27:39.966Z"
   },
   {
    "duration": 16,
    "start_time": "2021-12-19T18:27:40.011Z"
   },
   {
    "duration": 40,
    "start_time": "2021-12-19T18:27:40.029Z"
   },
   {
    "duration": 16,
    "start_time": "2021-12-19T18:27:40.072Z"
   },
   {
    "duration": 44,
    "start_time": "2021-12-19T18:27:40.093Z"
   },
   {
    "duration": 9,
    "start_time": "2021-12-19T18:27:40.169Z"
   },
   {
    "duration": 17,
    "start_time": "2021-12-19T18:27:40.181Z"
   },
   {
    "duration": 87,
    "start_time": "2021-12-19T18:27:40.201Z"
   },
   {
    "duration": 5,
    "start_time": "2021-12-19T18:27:40.291Z"
   },
   {
    "duration": 12,
    "start_time": "2021-12-19T18:27:40.299Z"
   },
   {
    "duration": 14,
    "start_time": "2021-12-19T18:27:40.314Z"
   },
   {
    "duration": 37,
    "start_time": "2021-12-19T18:27:40.330Z"
   },
   {
    "duration": 19,
    "start_time": "2021-12-19T18:27:40.370Z"
   },
   {
    "duration": 11,
    "start_time": "2021-12-19T18:27:40.392Z"
   },
   {
    "duration": 4,
    "start_time": "2021-12-19T18:27:40.406Z"
   },
   {
    "duration": 6731,
    "start_time": "2021-12-19T18:27:40.413Z"
   },
   {
    "duration": 6,
    "start_time": "2021-12-19T18:27:47.146Z"
   },
   {
    "duration": 34,
    "start_time": "2021-12-19T18:27:47.168Z"
   },
   {
    "duration": 7,
    "start_time": "2021-12-19T18:27:47.205Z"
   },
   {
    "duration": 20,
    "start_time": "2021-12-19T18:27:47.222Z"
   },
   {
    "duration": 72,
    "start_time": "2021-12-19T18:27:47.247Z"
   },
   {
    "duration": 45,
    "start_time": "2021-12-19T18:27:47.322Z"
   },
   {
    "duration": 5,
    "start_time": "2021-12-19T18:27:47.370Z"
   },
   {
    "duration": 5604,
    "start_time": "2021-12-19T18:27:47.377Z"
   },
   {
    "duration": 13,
    "start_time": "2021-12-19T18:27:52.984Z"
   },
   {
    "duration": 867,
    "start_time": "2021-12-19T18:27:53.000Z"
   },
   {
    "duration": 13,
    "start_time": "2021-12-19T18:27:53.870Z"
   },
   {
    "duration": 12,
    "start_time": "2021-12-19T18:27:53.885Z"
   },
   {
    "duration": 809,
    "start_time": "2021-12-19T18:27:53.899Z"
   },
   {
    "duration": 72,
    "start_time": "2021-12-19T18:27:54.711Z"
   },
   {
    "duration": 16,
    "start_time": "2021-12-19T18:27:54.787Z"
   },
   {
    "duration": 30,
    "start_time": "2021-12-19T18:27:54.806Z"
   },
   {
    "duration": 36,
    "start_time": "2021-12-19T18:27:54.839Z"
   },
   {
    "duration": 8,
    "start_time": "2021-12-19T18:27:54.878Z"
   },
   {
    "duration": 8,
    "start_time": "2021-12-19T18:27:54.889Z"
   },
   {
    "duration": 5953,
    "start_time": "2021-12-19T18:27:54.899Z"
   },
   {
    "duration": 18,
    "start_time": "2021-12-19T18:28:00.856Z"
   },
   {
    "duration": 24,
    "start_time": "2021-12-19T18:28:00.876Z"
   },
   {
    "duration": 941,
    "start_time": "2021-12-19T18:28:00.904Z"
   },
   {
    "duration": 23,
    "start_time": "2021-12-19T18:28:01.847Z"
   },
   {
    "duration": 10,
    "start_time": "2021-12-19T18:28:01.872Z"
   },
   {
    "duration": 769,
    "start_time": "2021-12-19T18:28:01.885Z"
   },
   {
    "duration": 12,
    "start_time": "2021-12-19T18:28:02.657Z"
   },
   {
    "duration": 14,
    "start_time": "2021-12-19T18:28:02.672Z"
   },
   {
    "duration": 39,
    "start_time": "2021-12-19T18:28:02.689Z"
   },
   {
    "duration": 38,
    "start_time": "2021-12-19T18:28:02.731Z"
   },
   {
    "duration": 6723,
    "start_time": "2021-12-19T18:28:02.772Z"
   },
   {
    "duration": 17,
    "start_time": "2021-12-19T18:28:09.498Z"
   },
   {
    "duration": 16,
    "start_time": "2021-12-19T18:28:09.517Z"
   },
   {
    "duration": 34,
    "start_time": "2021-12-19T18:28:09.536Z"
   },
   {
    "duration": 5125,
    "start_time": "2021-12-19T18:28:09.572Z"
   },
   {
    "duration": 13,
    "start_time": "2021-12-19T18:28:14.700Z"
   },
   {
    "duration": 80,
    "start_time": "2021-12-19T18:28:14.716Z"
   },
   {
    "duration": 5252,
    "start_time": "2021-12-19T18:28:14.798Z"
   },
   {
    "duration": 17,
    "start_time": "2021-12-19T18:28:20.052Z"
   },
   {
    "duration": 19,
    "start_time": "2021-12-19T18:28:20.072Z"
   },
   {
    "duration": 16,
    "start_time": "2021-12-19T18:28:20.093Z"
   },
   {
    "duration": 6666,
    "start_time": "2021-12-19T18:28:20.112Z"
   },
   {
    "duration": 9,
    "start_time": "2021-12-19T18:28:26.780Z"
   },
   {
    "duration": 30,
    "start_time": "2021-12-19T18:28:26.793Z"
   },
   {
    "duration": 41,
    "start_time": "2021-12-19T18:28:26.826Z"
   },
   {
    "duration": 9,
    "start_time": "2021-12-19T18:28:26.869Z"
   },
   {
    "duration": 31401,
    "start_time": "2021-12-19T18:28:26.881Z"
   },
   {
    "duration": 10,
    "start_time": "2021-12-19T18:28:58.285Z"
   },
   {
    "duration": 33,
    "start_time": "2021-12-19T18:28:58.303Z"
   },
   {
    "duration": 38,
    "start_time": "2021-12-19T18:28:58.339Z"
   },
   {
    "duration": 55,
    "start_time": "2021-12-19T18:28:58.380Z"
   },
   {
    "duration": 34,
    "start_time": "2021-12-19T18:28:58.437Z"
   },
   {
    "duration": 59,
    "start_time": "2021-12-19T18:28:58.474Z"
   },
   {
    "duration": 5,
    "start_time": "2021-12-19T18:28:58.535Z"
   },
   {
    "duration": 12,
    "start_time": "2021-12-19T18:28:58.568Z"
   },
   {
    "duration": 31,
    "start_time": "2021-12-19T18:28:58.583Z"
   },
   {
    "duration": 32679,
    "start_time": "2021-12-19T18:28:58.616Z"
   },
   {
    "duration": 27,
    "start_time": "2021-12-19T18:29:31.298Z"
   },
   {
    "duration": 578,
    "start_time": "2021-12-19T18:29:31.328Z"
   },
   {
    "duration": 658,
    "start_time": "2021-12-19T18:29:31.909Z"
   },
   {
    "duration": 11,
    "start_time": "2021-12-19T18:29:32.569Z"
   },
   {
    "duration": 642,
    "start_time": "2021-12-19T18:29:32.583Z"
   },
   {
    "duration": 14,
    "start_time": "2021-12-19T18:30:22.104Z"
   },
   {
    "duration": 516,
    "start_time": "2021-12-19T18:32:33.918Z"
   },
   {
    "duration": 797,
    "start_time": "2021-12-19T18:32:45.838Z"
   },
   {
    "duration": 838,
    "start_time": "2021-12-19T18:32:54.117Z"
   },
   {
    "duration": 632,
    "start_time": "2021-12-19T18:33:16.645Z"
   },
   {
    "duration": 16,
    "start_time": "2021-12-19T18:34:54.995Z"
   },
   {
    "duration": 774,
    "start_time": "2021-12-19T18:36:43.232Z"
   },
   {
    "duration": 565,
    "start_time": "2021-12-19T18:37:11.276Z"
   },
   {
    "duration": 60,
    "start_time": "2021-12-19T18:37:35.793Z"
   },
   {
    "duration": 41,
    "start_time": "2021-12-19T18:39:02.063Z"
   },
   {
    "duration": 13,
    "start_time": "2021-12-19T18:40:15.811Z"
   },
   {
    "duration": 16,
    "start_time": "2021-12-19T18:40:37.273Z"
   },
   {
    "duration": 102,
    "start_time": "2021-12-19T18:40:48.838Z"
   },
   {
    "duration": 29,
    "start_time": "2021-12-19T18:41:03.119Z"
   },
   {
    "duration": 114,
    "start_time": "2021-12-19T18:42:27.109Z"
   },
   {
    "duration": 24,
    "start_time": "2021-12-19T18:42:38.898Z"
   },
   {
    "duration": 24,
    "start_time": "2021-12-19T18:45:36.860Z"
   },
   {
    "duration": 42,
    "start_time": "2021-12-19T18:45:51.503Z"
   },
   {
    "duration": 338,
    "start_time": "2021-12-19T18:47:13.382Z"
   },
   {
    "duration": 336,
    "start_time": "2021-12-19T18:47:41.919Z"
   },
   {
    "duration": 480,
    "start_time": "2021-12-19T18:47:55.271Z"
   },
   {
    "duration": 509,
    "start_time": "2021-12-19T18:48:03.767Z"
   },
   {
    "duration": 489,
    "start_time": "2021-12-19T18:48:28.167Z"
   },
   {
    "duration": 532,
    "start_time": "2021-12-19T18:48:40.538Z"
   },
   {
    "duration": 563,
    "start_time": "2021-12-19T18:49:06.673Z"
   },
   {
    "duration": 481,
    "start_time": "2021-12-19T18:49:28.659Z"
   },
   {
    "duration": 485,
    "start_time": "2021-12-19T18:49:36.711Z"
   },
   {
    "duration": 524,
    "start_time": "2021-12-19T18:49:56.357Z"
   },
   {
    "duration": 330,
    "start_time": "2021-12-19T18:50:06.780Z"
   },
   {
    "duration": 582,
    "start_time": "2021-12-19T18:50:13.307Z"
   },
   {
    "duration": 500,
    "start_time": "2021-12-19T18:50:18.558Z"
   },
   {
    "duration": 338,
    "start_time": "2021-12-19T18:57:50.810Z"
   },
   {
    "duration": 38,
    "start_time": "2021-12-19T18:58:32.440Z"
   },
   {
    "duration": 394,
    "start_time": "2021-12-19T18:58:42.838Z"
   },
   {
    "duration": 533,
    "start_time": "2021-12-19T18:58:56.779Z"
   },
   {
    "duration": 502,
    "start_time": "2021-12-19T18:59:10.674Z"
   },
   {
    "duration": 517,
    "start_time": "2021-12-19T18:59:41.187Z"
   },
   {
    "duration": 614,
    "start_time": "2021-12-19T19:00:39.819Z"
   },
   {
    "duration": 515,
    "start_time": "2021-12-19T19:00:45.356Z"
   },
   {
    "duration": 530,
    "start_time": "2021-12-19T19:02:25.236Z"
   },
   {
    "duration": 564,
    "start_time": "2021-12-19T19:02:44.677Z"
   },
   {
    "duration": 486,
    "start_time": "2021-12-19T19:03:00.766Z"
   },
   {
    "duration": 21,
    "start_time": "2021-12-19T19:03:21.548Z"
   },
   {
    "duration": 19,
    "start_time": "2021-12-19T19:04:59.384Z"
   },
   {
    "duration": 14,
    "start_time": "2021-12-19T19:05:09.799Z"
   },
   {
    "duration": 15,
    "start_time": "2021-12-19T19:05:18.259Z"
   },
   {
    "duration": 32,
    "start_time": "2021-12-19T19:06:44.279Z"
   },
   {
    "duration": 923,
    "start_time": "2021-12-19T19:06:59.315Z"
   },
   {
    "duration": 813,
    "start_time": "2021-12-19T19:07:12.333Z"
   },
   {
    "duration": 188,
    "start_time": "2021-12-19T19:08:21.031Z"
   },
   {
    "duration": 1057,
    "start_time": "2021-12-19T19:08:24.798Z"
   },
   {
    "duration": 1198,
    "start_time": "2021-12-19T19:08:39.780Z"
   },
   {
    "duration": 996,
    "start_time": "2021-12-19T19:11:24.948Z"
   },
   {
    "duration": 1058,
    "start_time": "2021-12-19T19:12:27.367Z"
   },
   {
    "duration": 886,
    "start_time": "2021-12-19T19:14:21.687Z"
   },
   {
    "duration": 812,
    "start_time": "2021-12-19T19:14:36.559Z"
   },
   {
    "duration": 65,
    "start_time": "2021-12-19T19:15:38.873Z"
   },
   {
    "duration": 30,
    "start_time": "2021-12-19T19:19:25.158Z"
   },
   {
    "duration": 28,
    "start_time": "2021-12-19T19:19:34.404Z"
   },
   {
    "duration": 31,
    "start_time": "2021-12-19T19:21:18.484Z"
   },
   {
    "duration": 381,
    "start_time": "2021-12-19T19:21:30.582Z"
   },
   {
    "duration": 483,
    "start_time": "2021-12-19T19:21:52.128Z"
   },
   {
    "duration": 471,
    "start_time": "2021-12-19T19:22:21.515Z"
   },
   {
    "duration": 492,
    "start_time": "2021-12-19T19:22:31.525Z"
   },
   {
    "duration": 489,
    "start_time": "2021-12-19T19:22:37.073Z"
   },
   {
    "duration": 439,
    "start_time": "2021-12-19T19:22:47.887Z"
   },
   {
    "duration": 457,
    "start_time": "2021-12-19T19:22:52.746Z"
   },
   {
    "duration": 480,
    "start_time": "2021-12-19T19:23:01.533Z"
   },
   {
    "duration": 381,
    "start_time": "2021-12-19T19:23:50.177Z"
   },
   {
    "duration": 666,
    "start_time": "2021-12-19T19:24:08.327Z"
   },
   {
    "duration": 503,
    "start_time": "2021-12-19T19:24:53.758Z"
   },
   {
    "duration": 481,
    "start_time": "2021-12-19T19:25:11.086Z"
   },
   {
    "duration": 970,
    "start_time": "2021-12-19T19:28:20.102Z"
   },
   {
    "duration": 432,
    "start_time": "2021-12-19T19:28:21.076Z"
   },
   {
    "duration": 35,
    "start_time": "2021-12-19T19:28:21.511Z"
   },
   {
    "duration": 27,
    "start_time": "2021-12-19T19:28:21.549Z"
   },
   {
    "duration": 8,
    "start_time": "2021-12-19T19:28:21.578Z"
   },
   {
    "duration": 11,
    "start_time": "2021-12-19T19:28:21.589Z"
   },
   {
    "duration": 79,
    "start_time": "2021-12-19T19:28:21.603Z"
   },
   {
    "duration": 5,
    "start_time": "2021-12-19T19:28:21.685Z"
   },
   {
    "duration": 13,
    "start_time": "2021-12-19T19:28:21.694Z"
   },
   {
    "duration": 70,
    "start_time": "2021-12-19T19:28:21.710Z"
   },
   {
    "duration": 6,
    "start_time": "2021-12-19T19:28:21.782Z"
   },
   {
    "duration": 11,
    "start_time": "2021-12-19T19:28:21.790Z"
   },
   {
    "duration": 16,
    "start_time": "2021-12-19T19:28:21.803Z"
   },
   {
    "duration": 9,
    "start_time": "2021-12-19T19:28:21.821Z"
   },
   {
    "duration": 16,
    "start_time": "2021-12-19T19:28:21.868Z"
   },
   {
    "duration": 14,
    "start_time": "2021-12-19T19:28:21.886Z"
   },
   {
    "duration": 5,
    "start_time": "2021-12-19T19:28:21.902Z"
   },
   {
    "duration": 6339,
    "start_time": "2021-12-19T19:28:21.910Z"
   },
   {
    "duration": 5,
    "start_time": "2021-12-19T19:28:28.252Z"
   },
   {
    "duration": 19,
    "start_time": "2021-12-19T19:28:28.267Z"
   },
   {
    "duration": 7,
    "start_time": "2021-12-19T19:28:28.289Z"
   },
   {
    "duration": 11,
    "start_time": "2021-12-19T19:28:28.298Z"
   },
   {
    "duration": 91,
    "start_time": "2021-12-19T19:28:28.313Z"
   },
   {
    "duration": 23,
    "start_time": "2021-12-19T19:28:28.406Z"
   },
   {
    "duration": 5,
    "start_time": "2021-12-19T19:28:28.431Z"
   },
   {
    "duration": 5176,
    "start_time": "2021-12-19T19:28:28.438Z"
   },
   {
    "duration": 12,
    "start_time": "2021-12-19T19:28:33.620Z"
   },
   {
    "duration": 843,
    "start_time": "2021-12-19T19:28:33.636Z"
   },
   {
    "duration": 11,
    "start_time": "2021-12-19T19:28:34.481Z"
   },
   {
    "duration": 23,
    "start_time": "2021-12-19T19:28:34.495Z"
   },
   {
    "duration": 758,
    "start_time": "2021-12-19T19:28:34.520Z"
   },
   {
    "duration": 54,
    "start_time": "2021-12-19T19:28:35.281Z"
   },
   {
    "duration": 41,
    "start_time": "2021-12-19T19:28:35.337Z"
   },
   {
    "duration": 44,
    "start_time": "2021-12-19T19:28:35.381Z"
   },
   {
    "duration": 29,
    "start_time": "2021-12-19T19:28:35.428Z"
   },
   {
    "duration": 13,
    "start_time": "2021-12-19T19:28:35.460Z"
   },
   {
    "duration": 12,
    "start_time": "2021-12-19T19:28:35.476Z"
   },
   {
    "duration": 5906,
    "start_time": "2021-12-19T19:28:35.490Z"
   },
   {
    "duration": 11,
    "start_time": "2021-12-19T19:28:41.398Z"
   },
   {
    "duration": 13,
    "start_time": "2021-12-19T19:28:41.411Z"
   },
   {
    "duration": 969,
    "start_time": "2021-12-19T19:28:41.427Z"
   },
   {
    "duration": 9,
    "start_time": "2021-12-19T19:28:42.398Z"
   },
   {
    "duration": 9,
    "start_time": "2021-12-19T19:28:42.409Z"
   },
   {
    "duration": 829,
    "start_time": "2021-12-19T19:28:42.421Z"
   },
   {
    "duration": 14,
    "start_time": "2021-12-19T19:28:43.253Z"
   },
   {
    "duration": 11,
    "start_time": "2021-12-19T19:28:43.270Z"
   },
   {
    "duration": 40,
    "start_time": "2021-12-19T19:28:43.284Z"
   },
   {
    "duration": 6,
    "start_time": "2021-12-19T19:28:43.326Z"
   },
   {
    "duration": 6239,
    "start_time": "2021-12-19T19:28:43.334Z"
   },
   {
    "duration": 15,
    "start_time": "2021-12-19T19:28:49.576Z"
   },
   {
    "duration": 15,
    "start_time": "2021-12-19T19:28:49.593Z"
   },
   {
    "duration": 10,
    "start_time": "2021-12-19T19:28:49.611Z"
   },
   {
    "duration": 5399,
    "start_time": "2021-12-19T19:28:49.624Z"
   },
   {
    "duration": 12,
    "start_time": "2021-12-19T19:28:55.026Z"
   },
   {
    "duration": 66,
    "start_time": "2021-12-19T19:28:55.041Z"
   },
   {
    "duration": 5202,
    "start_time": "2021-12-19T19:28:55.110Z"
   },
   {
    "duration": 9,
    "start_time": "2021-12-19T19:29:00.315Z"
   },
   {
    "duration": 24,
    "start_time": "2021-12-19T19:29:00.327Z"
   },
   {
    "duration": 17,
    "start_time": "2021-12-19T19:29:00.369Z"
   },
   {
    "duration": 6559,
    "start_time": "2021-12-19T19:29:00.388Z"
   },
   {
    "duration": 8,
    "start_time": "2021-12-19T19:29:06.950Z"
   },
   {
    "duration": 30,
    "start_time": "2021-12-19T19:29:06.967Z"
   },
   {
    "duration": 9,
    "start_time": "2021-12-19T19:29:06.999Z"
   },
   {
    "duration": 9,
    "start_time": "2021-12-19T19:29:07.011Z"
   },
   {
    "duration": 30524,
    "start_time": "2021-12-19T19:29:07.023Z"
   },
   {
    "duration": 18,
    "start_time": "2021-12-19T19:29:37.550Z"
   },
   {
    "duration": 35,
    "start_time": "2021-12-19T19:29:37.570Z"
   },
   {
    "duration": 79,
    "start_time": "2021-12-19T19:29:37.608Z"
   },
   {
    "duration": 58,
    "start_time": "2021-12-19T19:29:37.691Z"
   },
   {
    "duration": 24,
    "start_time": "2021-12-19T19:29:37.752Z"
   },
   {
    "duration": 59,
    "start_time": "2021-12-19T19:29:37.780Z"
   },
   {
    "duration": 28,
    "start_time": "2021-12-19T19:29:37.841Z"
   },
   {
    "duration": 20,
    "start_time": "2021-12-19T19:29:37.872Z"
   },
   {
    "duration": 30,
    "start_time": "2021-12-19T19:29:37.895Z"
   },
   {
    "duration": 30562,
    "start_time": "2021-12-19T19:29:37.927Z"
   },
   {
    "duration": 28,
    "start_time": "2021-12-19T19:30:08.492Z"
   },
   {
    "duration": 862,
    "start_time": "2021-12-19T19:30:08.523Z"
   },
   {
    "duration": 12,
    "start_time": "2021-12-19T19:30:09.387Z"
   },
   {
    "duration": 525,
    "start_time": "2021-12-19T19:30:09.402Z"
   },
   {
    "duration": 13,
    "start_time": "2021-12-19T19:30:09.930Z"
   },
   {
    "duration": 534,
    "start_time": "2021-12-19T19:30:09.969Z"
   },
   {
    "duration": 13,
    "start_time": "2021-12-19T19:30:10.506Z"
   },
   {
    "duration": 645,
    "start_time": "2021-12-19T19:30:10.522Z"
   },
   {
    "duration": 51,
    "start_time": "2021-12-19T19:30:11.170Z"
   },
   {
    "duration": 15,
    "start_time": "2021-12-19T19:30:11.224Z"
   },
   {
    "duration": 17,
    "start_time": "2021-12-19T19:30:11.269Z"
   },
   {
    "duration": 29,
    "start_time": "2021-12-19T19:30:11.289Z"
   },
   {
    "duration": 65,
    "start_time": "2021-12-19T19:30:11.321Z"
   },
   {
    "duration": 496,
    "start_time": "2021-12-19T19:30:11.389Z"
   },
   {
    "duration": 37,
    "start_time": "2021-12-19T19:30:11.888Z"
   },
   {
    "duration": 542,
    "start_time": "2021-12-19T19:30:11.928Z"
   },
   {
    "duration": 488,
    "start_time": "2021-12-19T19:30:12.473Z"
   },
   {
    "duration": 22,
    "start_time": "2021-12-19T19:30:12.967Z"
   },
   {
    "duration": 21,
    "start_time": "2021-12-19T19:30:12.992Z"
   },
   {
    "duration": 13,
    "start_time": "2021-12-19T19:30:13.015Z"
   },
   {
    "duration": 50,
    "start_time": "2021-12-19T19:30:13.030Z"
   },
   {
    "duration": 35,
    "start_time": "2021-12-19T19:30:13.083Z"
   },
   {
    "duration": 1034,
    "start_time": "2021-12-19T19:30:13.120Z"
   },
   {
    "duration": 777,
    "start_time": "2021-12-19T19:30:14.157Z"
   },
   {
    "duration": 76,
    "start_time": "2021-12-19T19:30:14.936Z"
   },
   {
    "duration": 26,
    "start_time": "2021-12-19T19:30:15.015Z"
   },
   {
    "duration": 43,
    "start_time": "2021-12-19T19:30:15.043Z"
   },
   {
    "duration": 29,
    "start_time": "2021-12-19T19:30:15.088Z"
   },
   {
    "duration": 495,
    "start_time": "2021-12-19T19:30:15.119Z"
   },
   {
    "duration": 509,
    "start_time": "2021-12-19T19:30:15.616Z"
   },
   {
    "duration": 495,
    "start_time": "2021-12-19T19:30:16.128Z"
   },
   {
    "duration": 121,
    "start_time": "2021-12-20T13:29:57.266Z"
   },
   {
    "duration": 189,
    "start_time": "2021-12-20T18:11:53.991Z"
   },
   {
    "duration": 671,
    "start_time": "2021-12-20T18:12:01.382Z"
   },
   {
    "duration": 263,
    "start_time": "2021-12-20T18:12:02.055Z"
   },
   {
    "duration": 25,
    "start_time": "2021-12-20T18:12:02.320Z"
   },
   {
    "duration": 10,
    "start_time": "2021-12-20T18:12:02.348Z"
   },
   {
    "duration": 6,
    "start_time": "2021-12-20T18:12:02.359Z"
   },
   {
    "duration": 31,
    "start_time": "2021-12-20T18:12:02.367Z"
   },
   {
    "duration": 28,
    "start_time": "2021-12-20T18:12:02.400Z"
   },
   {
    "duration": 4,
    "start_time": "2021-12-20T18:12:02.430Z"
   },
   {
    "duration": 15,
    "start_time": "2021-12-20T18:12:02.436Z"
   },
   {
    "duration": 58,
    "start_time": "2021-12-20T18:12:02.453Z"
   },
   {
    "duration": 5,
    "start_time": "2021-12-20T18:12:02.512Z"
   },
   {
    "duration": 11,
    "start_time": "2021-12-20T18:12:02.518Z"
   },
   {
    "duration": 8,
    "start_time": "2021-12-20T18:12:02.531Z"
   },
   {
    "duration": 3,
    "start_time": "2021-12-20T18:12:02.541Z"
   },
   {
    "duration": 15,
    "start_time": "2021-12-20T18:12:02.546Z"
   },
   {
    "duration": 11,
    "start_time": "2021-12-20T18:12:02.592Z"
   },
   {
    "duration": 5,
    "start_time": "2021-12-20T18:12:02.605Z"
   },
   {
    "duration": 3215,
    "start_time": "2021-12-20T18:12:02.611Z"
   },
   {
    "duration": 5,
    "start_time": "2021-12-20T18:12:05.827Z"
   },
   {
    "duration": 19,
    "start_time": "2021-12-20T18:12:05.833Z"
   },
   {
    "duration": 23,
    "start_time": "2021-12-20T18:12:05.854Z"
   },
   {
    "duration": 17,
    "start_time": "2021-12-20T18:12:05.879Z"
   },
   {
    "duration": 42,
    "start_time": "2021-12-20T18:12:05.897Z"
   },
   {
    "duration": 15,
    "start_time": "2021-12-20T18:12:05.940Z"
   },
   {
    "duration": 13,
    "start_time": "2021-12-20T18:12:05.956Z"
   },
   {
    "duration": 2624,
    "start_time": "2021-12-20T18:12:05.971Z"
   },
   {
    "duration": 8,
    "start_time": "2021-12-20T18:12:08.601Z"
   },
   {
    "duration": 545,
    "start_time": "2021-12-20T18:12:08.612Z"
   },
   {
    "duration": 8,
    "start_time": "2021-12-20T18:12:09.159Z"
   },
   {
    "duration": 24,
    "start_time": "2021-12-20T18:12:09.168Z"
   },
   {
    "duration": 498,
    "start_time": "2021-12-20T18:12:09.194Z"
   },
   {
    "duration": 49,
    "start_time": "2021-12-20T18:12:09.694Z"
   },
   {
    "duration": 10,
    "start_time": "2021-12-20T18:12:09.746Z"
   },
   {
    "duration": 44,
    "start_time": "2021-12-20T18:12:09.758Z"
   },
   {
    "duration": 13,
    "start_time": "2021-12-20T18:12:09.804Z"
   },
   {
    "duration": 7,
    "start_time": "2021-12-20T18:12:09.819Z"
   },
   {
    "duration": 6,
    "start_time": "2021-12-20T18:12:09.827Z"
   },
   {
    "duration": 2916,
    "start_time": "2021-12-20T18:12:09.834Z"
   },
   {
    "duration": 10,
    "start_time": "2021-12-20T18:12:12.752Z"
   },
   {
    "duration": 8,
    "start_time": "2021-12-20T18:12:12.764Z"
   },
   {
    "duration": 528,
    "start_time": "2021-12-20T18:12:12.792Z"
   },
   {
    "duration": 7,
    "start_time": "2021-12-20T18:12:13.321Z"
   },
   {
    "duration": 12,
    "start_time": "2021-12-20T18:12:13.330Z"
   },
   {
    "duration": 520,
    "start_time": "2021-12-20T18:12:13.343Z"
   },
   {
    "duration": 4,
    "start_time": "2021-12-20T18:12:13.864Z"
   },
   {
    "duration": 32,
    "start_time": "2021-12-20T18:12:13.870Z"
   },
   {
    "duration": 26,
    "start_time": "2021-12-20T18:12:13.904Z"
   },
   {
    "duration": 4,
    "start_time": "2021-12-20T18:12:13.932Z"
   },
   {
    "duration": 3237,
    "start_time": "2021-12-20T18:12:13.937Z"
   },
   {
    "duration": 19,
    "start_time": "2021-12-20T18:12:17.176Z"
   },
   {
    "duration": 9,
    "start_time": "2021-12-20T18:12:17.197Z"
   },
   {
    "duration": 7,
    "start_time": "2021-12-20T18:12:17.207Z"
   },
   {
    "duration": 2516,
    "start_time": "2021-12-20T18:12:17.216Z"
   },
   {
    "duration": 7,
    "start_time": "2021-12-20T18:12:19.734Z"
   },
   {
    "duration": 49,
    "start_time": "2021-12-20T18:12:19.743Z"
   },
   {
    "duration": 2536,
    "start_time": "2021-12-20T18:12:19.793Z"
   },
   {
    "duration": 6,
    "start_time": "2021-12-20T18:12:22.331Z"
   },
   {
    "duration": 14,
    "start_time": "2021-12-20T18:12:22.339Z"
   },
   {
    "duration": 36,
    "start_time": "2021-12-20T18:12:22.355Z"
   },
   {
    "duration": 3278,
    "start_time": "2021-12-20T18:12:22.394Z"
   },
   {
    "duration": 6,
    "start_time": "2021-12-20T18:12:25.674Z"
   },
   {
    "duration": 28,
    "start_time": "2021-12-20T18:12:25.682Z"
   },
   {
    "duration": 7,
    "start_time": "2021-12-20T18:12:25.712Z"
   },
   {
    "duration": 7,
    "start_time": "2021-12-20T18:12:25.721Z"
   },
   {
    "duration": 4,
    "start_time": "2021-12-20T18:12:25.730Z"
   },
   {
    "duration": 16165,
    "start_time": "2021-12-20T18:12:25.735Z"
   },
   {
    "duration": 6,
    "start_time": "2021-12-20T18:12:41.901Z"
   },
   {
    "duration": 22,
    "start_time": "2021-12-20T18:12:41.908Z"
   },
   {
    "duration": 11,
    "start_time": "2021-12-20T18:12:41.932Z"
   },
   {
    "duration": 55,
    "start_time": "2021-12-20T18:12:41.944Z"
   },
   {
    "duration": 8,
    "start_time": "2021-12-20T18:12:42.000Z"
   },
   {
    "duration": 39,
    "start_time": "2021-12-20T18:12:42.010Z"
   },
   {
    "duration": 5,
    "start_time": "2021-12-20T18:12:42.051Z"
   },
   {
    "duration": 39,
    "start_time": "2021-12-20T18:12:42.058Z"
   },
   {
    "duration": 19,
    "start_time": "2021-12-20T18:12:42.099Z"
   },
   {
    "duration": 16522,
    "start_time": "2021-12-20T18:12:42.120Z"
   },
   {
    "duration": 17,
    "start_time": "2021-12-20T18:12:58.643Z"
   },
   {
    "duration": 384,
    "start_time": "2021-12-20T18:12:58.662Z"
   },
   {
    "duration": 8,
    "start_time": "2021-12-20T18:12:59.048Z"
   },
   {
    "duration": 307,
    "start_time": "2021-12-20T18:12:59.057Z"
   },
   {
    "duration": 9,
    "start_time": "2021-12-20T18:12:59.369Z"
   },
   {
    "duration": 415,
    "start_time": "2021-12-20T18:12:59.393Z"
   },
   {
    "duration": 9,
    "start_time": "2021-12-20T18:12:59.810Z"
   },
   {
    "duration": 417,
    "start_time": "2021-12-20T18:12:59.820Z"
   },
   {
    "duration": 32,
    "start_time": "2021-12-20T18:13:00.238Z"
   },
   {
    "duration": 24,
    "start_time": "2021-12-20T18:13:00.272Z"
   },
   {
    "duration": 16,
    "start_time": "2021-12-20T18:13:00.298Z"
   },
   {
    "duration": 19,
    "start_time": "2021-12-20T18:13:00.316Z"
   },
   {
    "duration": 16,
    "start_time": "2021-12-20T18:13:00.337Z"
   },
   {
    "duration": 313,
    "start_time": "2021-12-20T18:13:00.355Z"
   },
   {
    "duration": 34,
    "start_time": "2021-12-20T18:13:00.671Z"
   },
   {
    "duration": 307,
    "start_time": "2021-12-20T18:13:00.706Z"
   },
   {
    "duration": 322,
    "start_time": "2021-12-20T18:13:01.015Z"
   },
   {
    "duration": 17,
    "start_time": "2021-12-20T18:13:01.339Z"
   },
   {
    "duration": 45,
    "start_time": "2021-12-20T18:13:01.358Z"
   },
   {
    "duration": 28,
    "start_time": "2021-12-20T18:13:01.406Z"
   },
   {
    "duration": 16,
    "start_time": "2021-12-20T18:13:01.436Z"
   },
   {
    "duration": 35,
    "start_time": "2021-12-20T18:13:01.454Z"
   },
   {
    "duration": 661,
    "start_time": "2021-12-20T18:13:01.491Z"
   },
   {
    "duration": 556,
    "start_time": "2021-12-20T18:13:02.154Z"
   },
   {
    "duration": 43,
    "start_time": "2021-12-20T18:13:02.711Z"
   },
   {
    "duration": 35,
    "start_time": "2021-12-20T18:13:02.756Z"
   },
   {
    "duration": 19,
    "start_time": "2021-12-20T18:13:02.793Z"
   },
   {
    "duration": 20,
    "start_time": "2021-12-20T18:13:02.814Z"
   },
   {
    "duration": 311,
    "start_time": "2021-12-20T18:13:02.836Z"
   },
   {
    "duration": 306,
    "start_time": "2021-12-20T18:13:03.148Z"
   },
   {
    "duration": 334,
    "start_time": "2021-12-20T18:13:03.457Z"
   },
   {
    "duration": 25,
    "start_time": "2021-12-20T18:14:05.072Z"
   },
   {
    "duration": 12,
    "start_time": "2021-12-20T18:14:21.312Z"
   },
   {
    "duration": 700,
    "start_time": "2021-12-20T18:15:04.392Z"
   },
   {
    "duration": 260,
    "start_time": "2021-12-20T18:15:05.094Z"
   },
   {
    "duration": 35,
    "start_time": "2021-12-20T18:15:05.356Z"
   },
   {
    "duration": 10,
    "start_time": "2021-12-20T18:15:05.393Z"
   },
   {
    "duration": 13,
    "start_time": "2021-12-20T18:15:05.405Z"
   },
   {
    "duration": 13,
    "start_time": "2021-12-20T18:15:05.420Z"
   },
   {
    "duration": 29,
    "start_time": "2021-12-20T18:15:05.435Z"
   },
   {
    "duration": 5,
    "start_time": "2021-12-20T18:15:05.467Z"
   },
   {
    "duration": 30,
    "start_time": "2021-12-20T18:15:05.474Z"
   },
   {
    "duration": 32,
    "start_time": "2021-12-20T18:15:05.506Z"
   },
   {
    "duration": 4,
    "start_time": "2021-12-20T18:15:05.540Z"
   },
   {
    "duration": 19,
    "start_time": "2021-12-20T18:15:05.546Z"
   },
   {
    "duration": 30,
    "start_time": "2021-12-20T18:15:05.567Z"
   },
   {
    "duration": 3,
    "start_time": "2021-12-20T18:15:05.598Z"
   },
   {
    "duration": 34,
    "start_time": "2021-12-20T18:15:05.603Z"
   },
   {
    "duration": 22,
    "start_time": "2021-12-20T18:15:05.638Z"
   },
   {
    "duration": 25,
    "start_time": "2021-12-20T18:15:05.662Z"
   },
   {
    "duration": 3286,
    "start_time": "2021-12-20T18:15:05.689Z"
   },
   {
    "duration": 4,
    "start_time": "2021-12-20T18:15:08.977Z"
   },
   {
    "duration": 16,
    "start_time": "2021-12-20T18:15:08.992Z"
   },
   {
    "duration": 5,
    "start_time": "2021-12-20T18:15:09.010Z"
   },
   {
    "duration": 10,
    "start_time": "2021-12-20T18:15:09.016Z"
   },
   {
    "duration": 32,
    "start_time": "2021-12-20T18:15:09.030Z"
   },
   {
    "duration": 42,
    "start_time": "2021-12-20T18:15:09.064Z"
   },
   {
    "duration": 4,
    "start_time": "2021-12-20T18:15:09.107Z"
   },
   {
    "duration": 2821,
    "start_time": "2021-12-20T18:15:09.112Z"
   },
   {
    "duration": 11,
    "start_time": "2021-12-20T18:15:11.935Z"
   },
   {
    "duration": 613,
    "start_time": "2021-12-20T18:15:11.948Z"
   },
   {
    "duration": 10,
    "start_time": "2021-12-20T18:15:12.563Z"
   },
   {
    "duration": 23,
    "start_time": "2021-12-20T18:15:12.575Z"
   },
   {
    "duration": 524,
    "start_time": "2021-12-20T18:15:12.601Z"
   },
   {
    "duration": 33,
    "start_time": "2021-12-20T18:15:13.128Z"
   },
   {
    "duration": 30,
    "start_time": "2021-12-20T18:15:13.163Z"
   },
   {
    "duration": 22,
    "start_time": "2021-12-20T18:15:13.195Z"
   },
   {
    "duration": 6,
    "start_time": "2021-12-20T18:15:13.219Z"
   },
   {
    "duration": 8,
    "start_time": "2021-12-20T18:15:13.227Z"
   },
   {
    "duration": 5,
    "start_time": "2021-12-20T18:15:13.237Z"
   },
   {
    "duration": 2994,
    "start_time": "2021-12-20T18:15:13.244Z"
   },
   {
    "duration": 11,
    "start_time": "2021-12-20T18:15:16.240Z"
   },
   {
    "duration": 11,
    "start_time": "2021-12-20T18:15:16.253Z"
   },
   {
    "duration": 606,
    "start_time": "2021-12-20T18:15:16.267Z"
   },
   {
    "duration": 16,
    "start_time": "2021-12-20T18:15:16.875Z"
   },
   {
    "duration": 9,
    "start_time": "2021-12-20T18:15:16.894Z"
   },
   {
    "duration": 511,
    "start_time": "2021-12-20T18:15:16.906Z"
   },
   {
    "duration": 4,
    "start_time": "2021-12-20T18:15:17.419Z"
   },
   {
    "duration": 12,
    "start_time": "2021-12-20T18:15:17.425Z"
   },
   {
    "duration": 24,
    "start_time": "2021-12-20T18:15:17.438Z"
   },
   {
    "duration": 4,
    "start_time": "2021-12-20T18:15:17.464Z"
   },
   {
    "duration": 3374,
    "start_time": "2021-12-20T18:15:17.492Z"
   },
   {
    "duration": 11,
    "start_time": "2021-12-20T18:15:20.868Z"
   },
   {
    "duration": 17,
    "start_time": "2021-12-20T18:15:20.881Z"
   },
   {
    "duration": 21,
    "start_time": "2021-12-20T18:15:20.900Z"
   },
   {
    "duration": 2651,
    "start_time": "2021-12-20T18:15:20.923Z"
   },
   {
    "duration": 15,
    "start_time": "2021-12-20T18:15:23.576Z"
   },
   {
    "duration": 107,
    "start_time": "2021-12-20T18:15:23.594Z"
   },
   {
    "duration": 2692,
    "start_time": "2021-12-20T18:15:23.703Z"
   },
   {
    "duration": 7,
    "start_time": "2021-12-20T18:15:26.398Z"
   },
   {
    "duration": 14,
    "start_time": "2021-12-20T18:15:26.406Z"
   },
   {
    "duration": 10,
    "start_time": "2021-12-20T18:15:26.422Z"
   },
   {
    "duration": 3392,
    "start_time": "2021-12-20T18:15:26.433Z"
   },
   {
    "duration": 6,
    "start_time": "2021-12-20T18:15:29.827Z"
   },
   {
    "duration": 20,
    "start_time": "2021-12-20T18:15:29.834Z"
   },
   {
    "duration": 9,
    "start_time": "2021-12-20T18:15:29.856Z"
   },
   {
    "duration": 27,
    "start_time": "2021-12-20T18:15:29.867Z"
   },
   {
    "duration": 226,
    "start_time": "2021-12-20T18:15:29.895Z"
   },
   {
    "duration": -48,
    "start_time": "2021-12-20T18:15:30.173Z"
   },
   {
    "duration": -50,
    "start_time": "2021-12-20T18:15:30.176Z"
   },
   {
    "duration": -51,
    "start_time": "2021-12-20T18:15:30.178Z"
   },
   {
    "duration": -59,
    "start_time": "2021-12-20T18:15:30.187Z"
   },
   {
    "duration": -60,
    "start_time": "2021-12-20T18:15:30.189Z"
   },
   {
    "duration": -61,
    "start_time": "2021-12-20T18:15:30.191Z"
   },
   {
    "duration": -62,
    "start_time": "2021-12-20T18:15:30.193Z"
   },
   {
    "duration": -71,
    "start_time": "2021-12-20T18:15:30.203Z"
   },
   {
    "duration": -72,
    "start_time": "2021-12-20T18:15:30.205Z"
   },
   {
    "duration": -74,
    "start_time": "2021-12-20T18:15:30.208Z"
   },
   {
    "duration": -75,
    "start_time": "2021-12-20T18:15:30.210Z"
   },
   {
    "duration": -83,
    "start_time": "2021-12-20T18:15:30.219Z"
   },
   {
    "duration": -90,
    "start_time": "2021-12-20T18:15:30.227Z"
   },
   {
    "duration": -92,
    "start_time": "2021-12-20T18:15:30.230Z"
   },
   {
    "duration": -93,
    "start_time": "2021-12-20T18:15:30.232Z"
   },
   {
    "duration": -95,
    "start_time": "2021-12-20T18:15:30.235Z"
   },
   {
    "duration": -103,
    "start_time": "2021-12-20T18:15:30.244Z"
   },
   {
    "duration": -111,
    "start_time": "2021-12-20T18:15:30.253Z"
   },
   {
    "duration": -118,
    "start_time": "2021-12-20T18:15:30.262Z"
   },
   {
    "duration": -119,
    "start_time": "2021-12-20T18:15:30.264Z"
   },
   {
    "duration": -120,
    "start_time": "2021-12-20T18:15:30.266Z"
   },
   {
    "duration": -121,
    "start_time": "2021-12-20T18:15:30.268Z"
   },
   {
    "duration": -129,
    "start_time": "2021-12-20T18:15:30.277Z"
   },
   {
    "duration": -136,
    "start_time": "2021-12-20T18:15:30.285Z"
   },
   {
    "duration": -143,
    "start_time": "2021-12-20T18:15:30.293Z"
   },
   {
    "duration": -151,
    "start_time": "2021-12-20T18:15:30.302Z"
   },
   {
    "duration": -159,
    "start_time": "2021-12-20T18:15:30.311Z"
   },
   {
    "duration": -167,
    "start_time": "2021-12-20T18:15:30.320Z"
   },
   {
    "duration": -175,
    "start_time": "2021-12-20T18:15:30.329Z"
   },
   {
    "duration": -176,
    "start_time": "2021-12-20T18:15:30.331Z"
   },
   {
    "duration": -177,
    "start_time": "2021-12-20T18:15:30.333Z"
   },
   {
    "duration": -178,
    "start_time": "2021-12-20T18:15:30.335Z"
   },
   {
    "duration": -186,
    "start_time": "2021-12-20T18:15:30.344Z"
   },
   {
    "duration": -161,
    "start_time": "2021-12-20T18:15:30.352Z"
   },
   {
    "duration": -169,
    "start_time": "2021-12-20T18:15:30.361Z"
   },
   {
    "duration": -176,
    "start_time": "2021-12-20T18:15:30.369Z"
   },
   {
    "duration": -184,
    "start_time": "2021-12-20T18:15:30.378Z"
   },
   {
    "duration": -192,
    "start_time": "2021-12-20T18:15:30.387Z"
   },
   {
    "duration": -199,
    "start_time": "2021-12-20T18:15:30.395Z"
   },
   {
    "duration": -201,
    "start_time": "2021-12-20T18:15:30.398Z"
   },
   {
    "duration": -202,
    "start_time": "2021-12-20T18:15:30.400Z"
   },
   {
    "duration": -211,
    "start_time": "2021-12-20T18:15:30.410Z"
   },
   {
    "duration": 10,
    "start_time": "2021-12-20T18:16:12.782Z"
   },
   {
    "duration": 10,
    "start_time": "2021-12-20T18:17:45.200Z"
   },
   {
    "duration": 11,
    "start_time": "2021-12-20T18:17:50.832Z"
   },
   {
    "duration": 6,
    "start_time": "2021-12-20T18:18:47.117Z"
   },
   {
    "duration": 14,
    "start_time": "2021-12-20T18:18:53.609Z"
   },
   {
    "duration": 643,
    "start_time": "2021-12-20T18:19:04.404Z"
   },
   {
    "duration": 274,
    "start_time": "2021-12-20T18:19:05.049Z"
   },
   {
    "duration": 23,
    "start_time": "2021-12-20T18:19:05.325Z"
   },
   {
    "duration": 10,
    "start_time": "2021-12-20T18:19:05.350Z"
   },
   {
    "duration": 6,
    "start_time": "2021-12-20T18:19:05.361Z"
   },
   {
    "duration": 8,
    "start_time": "2021-12-20T18:19:05.392Z"
   },
   {
    "duration": 26,
    "start_time": "2021-12-20T18:19:05.402Z"
   },
   {
    "duration": 5,
    "start_time": "2021-12-20T18:19:05.430Z"
   },
   {
    "duration": 9,
    "start_time": "2021-12-20T18:19:05.436Z"
   },
   {
    "duration": 59,
    "start_time": "2021-12-20T18:19:05.447Z"
   },
   {
    "duration": 3,
    "start_time": "2021-12-20T18:19:05.508Z"
   },
   {
    "duration": 11,
    "start_time": "2021-12-20T18:19:05.513Z"
   },
   {
    "duration": 10,
    "start_time": "2021-12-20T18:19:05.526Z"
   },
   {
    "duration": 4,
    "start_time": "2021-12-20T18:19:05.538Z"
   },
   {
    "duration": 48,
    "start_time": "2021-12-20T18:19:05.544Z"
   },
   {
    "duration": 9,
    "start_time": "2021-12-20T18:19:05.594Z"
   },
   {
    "duration": 4,
    "start_time": "2021-12-20T18:19:05.605Z"
   },
   {
    "duration": 3220,
    "start_time": "2021-12-20T18:19:05.611Z"
   },
   {
    "duration": 5,
    "start_time": "2021-12-20T18:19:08.833Z"
   },
   {
    "duration": 54,
    "start_time": "2021-12-20T18:19:08.840Z"
   },
   {
    "duration": 61,
    "start_time": "2021-12-20T18:19:08.896Z"
   },
   {
    "duration": 25,
    "start_time": "2021-12-20T18:19:08.959Z"
   },
   {
    "duration": 39,
    "start_time": "2021-12-20T18:19:08.989Z"
   },
   {
    "duration": 15,
    "start_time": "2021-12-20T18:19:09.031Z"
   },
   {
    "duration": 3,
    "start_time": "2021-12-20T18:19:09.047Z"
   },
   {
    "duration": 2750,
    "start_time": "2021-12-20T18:19:09.051Z"
   },
   {
    "duration": 9,
    "start_time": "2021-12-20T18:19:11.803Z"
   },
   {
    "duration": 542,
    "start_time": "2021-12-20T18:19:11.814Z"
   },
   {
    "duration": 7,
    "start_time": "2021-12-20T18:19:12.358Z"
   },
   {
    "duration": 25,
    "start_time": "2021-12-20T18:19:12.367Z"
   },
   {
    "duration": 524,
    "start_time": "2021-12-20T18:19:12.394Z"
   },
   {
    "duration": 29,
    "start_time": "2021-12-20T18:19:12.920Z"
   },
   {
    "duration": 9,
    "start_time": "2021-12-20T18:19:12.951Z"
   },
   {
    "duration": 40,
    "start_time": "2021-12-20T18:19:12.962Z"
   },
   {
    "duration": 7,
    "start_time": "2021-12-20T18:19:13.004Z"
   },
   {
    "duration": 7,
    "start_time": "2021-12-20T18:19:13.013Z"
   },
   {
    "duration": 8,
    "start_time": "2021-12-20T18:19:13.022Z"
   },
   {
    "duration": 2990,
    "start_time": "2021-12-20T18:19:13.031Z"
   },
   {
    "duration": 10,
    "start_time": "2021-12-20T18:19:16.024Z"
   },
   {
    "duration": 10,
    "start_time": "2021-12-20T18:19:16.036Z"
   },
   {
    "duration": 623,
    "start_time": "2021-12-20T18:19:16.048Z"
   },
   {
    "duration": 7,
    "start_time": "2021-12-20T18:19:16.673Z"
   },
   {
    "duration": 20,
    "start_time": "2021-12-20T18:19:16.681Z"
   },
   {
    "duration": 488,
    "start_time": "2021-12-20T18:19:16.703Z"
   },
   {
    "duration": 4,
    "start_time": "2021-12-20T18:19:17.193Z"
   },
   {
    "duration": 18,
    "start_time": "2021-12-20T18:19:17.199Z"
   },
   {
    "duration": 25,
    "start_time": "2021-12-20T18:19:17.218Z"
   },
   {
    "duration": 4,
    "start_time": "2021-12-20T18:19:17.245Z"
   },
   {
    "duration": 3348,
    "start_time": "2021-12-20T18:19:17.250Z"
   },
   {
    "duration": 11,
    "start_time": "2021-12-20T18:19:20.600Z"
   },
   {
    "duration": 10,
    "start_time": "2021-12-20T18:19:20.613Z"
   },
   {
    "duration": 8,
    "start_time": "2021-12-20T18:19:20.624Z"
   },
   {
    "duration": 2575,
    "start_time": "2021-12-20T18:19:20.634Z"
   },
   {
    "duration": 9,
    "start_time": "2021-12-20T18:19:23.211Z"
   },
   {
    "duration": 31,
    "start_time": "2021-12-20T18:19:23.222Z"
   },
   {
    "duration": 2545,
    "start_time": "2021-12-20T18:19:23.255Z"
   },
   {
    "duration": 8,
    "start_time": "2021-12-20T18:19:25.802Z"
   },
   {
    "duration": 9,
    "start_time": "2021-12-20T18:19:25.812Z"
   },
   {
    "duration": 13,
    "start_time": "2021-12-20T18:19:25.823Z"
   },
   {
    "duration": 3362,
    "start_time": "2021-12-20T18:19:25.838Z"
   },
   {
    "duration": 7,
    "start_time": "2021-12-20T18:19:29.202Z"
   },
   {
    "duration": 13,
    "start_time": "2021-12-20T18:19:29.210Z"
   },
   {
    "duration": 18,
    "start_time": "2021-12-20T18:19:29.225Z"
   },
   {
    "duration": 7,
    "start_time": "2021-12-20T18:19:29.245Z"
   },
   {
    "duration": 6,
    "start_time": "2021-12-20T18:19:29.254Z"
   },
   {
    "duration": 6,
    "start_time": "2021-12-20T18:19:29.291Z"
   },
   {
    "duration": 16652,
    "start_time": "2021-12-20T18:19:29.299Z"
   },
   {
    "duration": 6,
    "start_time": "2021-12-20T18:19:45.957Z"
   },
   {
    "duration": 40,
    "start_time": "2021-12-20T18:19:45.965Z"
   },
   {
    "duration": 8,
    "start_time": "2021-12-20T18:19:46.007Z"
   },
   {
    "duration": 45,
    "start_time": "2021-12-20T18:19:46.017Z"
   },
   {
    "duration": 8,
    "start_time": "2021-12-20T18:19:46.063Z"
   },
   {
    "duration": 39,
    "start_time": "2021-12-20T18:19:46.091Z"
   },
   {
    "duration": 3,
    "start_time": "2021-12-20T18:19:46.132Z"
   },
   {
    "duration": 29,
    "start_time": "2021-12-20T18:19:46.137Z"
   },
   {
    "duration": 28,
    "start_time": "2021-12-20T18:19:46.167Z"
   },
   {
    "duration": 16421,
    "start_time": "2021-12-20T18:19:46.196Z"
   },
   {
    "duration": 17,
    "start_time": "2021-12-20T18:20:02.619Z"
   },
   {
    "duration": 387,
    "start_time": "2021-12-20T18:20:02.638Z"
   },
   {
    "duration": 9,
    "start_time": "2021-12-20T18:20:03.027Z"
   },
   {
    "duration": 318,
    "start_time": "2021-12-20T18:20:03.037Z"
   },
   {
    "duration": 9,
    "start_time": "2021-12-20T18:20:03.357Z"
   },
   {
    "duration": 337,
    "start_time": "2021-12-20T18:20:03.368Z"
   },
   {
    "duration": 10,
    "start_time": "2021-12-20T18:20:03.707Z"
   },
   {
    "duration": 412,
    "start_time": "2021-12-20T18:20:03.718Z"
   },
   {
    "duration": 30,
    "start_time": "2021-12-20T18:20:04.132Z"
   },
   {
    "duration": 29,
    "start_time": "2021-12-20T18:20:04.164Z"
   },
   {
    "duration": 10,
    "start_time": "2021-12-20T18:20:04.194Z"
   },
   {
    "duration": 18,
    "start_time": "2021-12-20T18:20:04.206Z"
   },
   {
    "duration": 15,
    "start_time": "2021-12-20T18:20:04.226Z"
   },
   {
    "duration": 338,
    "start_time": "2021-12-20T18:20:04.243Z"
   },
   {
    "duration": 31,
    "start_time": "2021-12-20T18:20:04.583Z"
   },
   {
    "duration": 320,
    "start_time": "2021-12-20T18:20:04.616Z"
   },
   {
    "duration": 290,
    "start_time": "2021-12-20T18:20:04.938Z"
   },
   {
    "duration": 14,
    "start_time": "2021-12-20T18:20:05.229Z"
   },
   {
    "duration": 13,
    "start_time": "2021-12-20T18:20:05.245Z"
   },
   {
    "duration": 10,
    "start_time": "2021-12-20T18:20:05.259Z"
   },
   {
    "duration": 10,
    "start_time": "2021-12-20T18:20:05.291Z"
   },
   {
    "duration": 22,
    "start_time": "2021-12-20T18:20:05.303Z"
   },
   {
    "duration": 708,
    "start_time": "2021-12-20T18:20:05.327Z"
   },
   {
    "duration": 505,
    "start_time": "2021-12-20T18:20:06.037Z"
   },
   {
    "duration": 54,
    "start_time": "2021-12-20T18:20:06.543Z"
   },
   {
    "duration": 18,
    "start_time": "2021-12-20T18:20:06.599Z"
   },
   {
    "duration": 18,
    "start_time": "2021-12-20T18:20:06.619Z"
   },
   {
    "duration": 20,
    "start_time": "2021-12-20T18:20:06.638Z"
   },
   {
    "duration": 318,
    "start_time": "2021-12-20T18:20:06.659Z"
   },
   {
    "duration": 309,
    "start_time": "2021-12-20T18:20:06.979Z"
   },
   {
    "duration": 301,
    "start_time": "2021-12-20T18:20:07.290Z"
   },
   {
    "duration": 13,
    "start_time": "2021-12-20T18:20:18.440Z"
   },
   {
    "duration": 590,
    "start_time": "2021-12-20T18:22:55.842Z"
   },
   {
    "duration": 256,
    "start_time": "2021-12-20T18:22:56.434Z"
   },
   {
    "duration": 23,
    "start_time": "2021-12-20T18:22:56.693Z"
   },
   {
    "duration": 14,
    "start_time": "2021-12-20T18:22:56.718Z"
   },
   {
    "duration": 6,
    "start_time": "2021-12-20T18:22:56.734Z"
   },
   {
    "duration": 10,
    "start_time": "2021-12-20T18:22:56.742Z"
   },
   {
    "duration": 59,
    "start_time": "2021-12-20T18:22:56.754Z"
   },
   {
    "duration": 5,
    "start_time": "2021-12-20T18:22:56.816Z"
   },
   {
    "duration": 11,
    "start_time": "2021-12-20T18:22:56.823Z"
   },
   {
    "duration": 30,
    "start_time": "2021-12-20T18:22:56.835Z"
   },
   {
    "duration": 29,
    "start_time": "2021-12-20T18:22:56.866Z"
   },
   {
    "duration": 10,
    "start_time": "2021-12-20T18:22:56.897Z"
   },
   {
    "duration": 9,
    "start_time": "2021-12-20T18:22:56.908Z"
   },
   {
    "duration": 2,
    "start_time": "2021-12-20T18:22:56.918Z"
   },
   {
    "duration": 13,
    "start_time": "2021-12-20T18:22:56.922Z"
   },
   {
    "duration": 8,
    "start_time": "2021-12-20T18:22:56.938Z"
   },
   {
    "duration": 4,
    "start_time": "2021-12-20T18:22:56.948Z"
   },
   {
    "duration": 3274,
    "start_time": "2021-12-20T18:22:56.953Z"
   },
   {
    "duration": 5,
    "start_time": "2021-12-20T18:23:00.229Z"
   },
   {
    "duration": 25,
    "start_time": "2021-12-20T18:23:00.236Z"
   },
   {
    "duration": 7,
    "start_time": "2021-12-20T18:23:00.263Z"
   },
   {
    "duration": 40,
    "start_time": "2021-12-20T18:23:00.272Z"
   },
   {
    "duration": 53,
    "start_time": "2021-12-20T18:23:00.317Z"
   },
   {
    "duration": 23,
    "start_time": "2021-12-20T18:23:00.374Z"
   },
   {
    "duration": 4,
    "start_time": "2021-12-20T18:23:00.399Z"
   },
   {
    "duration": 2993,
    "start_time": "2021-12-20T18:23:00.405Z"
   },
   {
    "duration": 9,
    "start_time": "2021-12-20T18:23:03.400Z"
   },
   {
    "duration": 546,
    "start_time": "2021-12-20T18:23:03.411Z"
   },
   {
    "duration": 8,
    "start_time": "2021-12-20T18:23:03.959Z"
   },
   {
    "duration": 22,
    "start_time": "2021-12-20T18:23:03.969Z"
   },
   {
    "duration": 508,
    "start_time": "2021-12-20T18:23:03.993Z"
   },
   {
    "duration": 35,
    "start_time": "2021-12-20T18:23:04.503Z"
   },
   {
    "duration": 20,
    "start_time": "2021-12-20T18:23:04.540Z"
   },
   {
    "duration": 38,
    "start_time": "2021-12-20T18:23:04.562Z"
   },
   {
    "duration": 24,
    "start_time": "2021-12-20T18:23:04.601Z"
   },
   {
    "duration": 38,
    "start_time": "2021-12-20T18:23:04.627Z"
   },
   {
    "duration": 11,
    "start_time": "2021-12-20T18:23:04.667Z"
   },
   {
    "duration": 3027,
    "start_time": "2021-12-20T18:23:04.680Z"
   },
   {
    "duration": 8,
    "start_time": "2021-12-20T18:23:07.710Z"
   },
   {
    "duration": 22,
    "start_time": "2021-12-20T18:23:07.720Z"
   },
   {
    "duration": 589,
    "start_time": "2021-12-20T18:23:07.744Z"
   },
   {
    "duration": 7,
    "start_time": "2021-12-20T18:23:08.334Z"
   },
   {
    "duration": 8,
    "start_time": "2021-12-20T18:23:08.342Z"
   },
   {
    "duration": 523,
    "start_time": "2021-12-20T18:23:08.352Z"
   },
   {
    "duration": 4,
    "start_time": "2021-12-20T18:23:08.877Z"
   },
   {
    "duration": 20,
    "start_time": "2021-12-20T18:23:08.882Z"
   },
   {
    "duration": 25,
    "start_time": "2021-12-20T18:23:08.904Z"
   },
   {
    "duration": 4,
    "start_time": "2021-12-20T18:23:08.931Z"
   },
   {
    "duration": 3365,
    "start_time": "2021-12-20T18:23:08.937Z"
   },
   {
    "duration": 13,
    "start_time": "2021-12-20T18:23:12.304Z"
   },
   {
    "duration": 11,
    "start_time": "2021-12-20T18:23:12.318Z"
   },
   {
    "duration": 8,
    "start_time": "2021-12-20T18:23:12.331Z"
   },
   {
    "duration": 2648,
    "start_time": "2021-12-20T18:23:12.341Z"
   },
   {
    "duration": 7,
    "start_time": "2021-12-20T18:23:14.992Z"
   },
   {
    "duration": 40,
    "start_time": "2021-12-20T18:23:15.000Z"
   },
   {
    "duration": 2668,
    "start_time": "2021-12-20T18:23:15.042Z"
   },
   {
    "duration": 6,
    "start_time": "2021-12-20T18:23:17.712Z"
   },
   {
    "duration": 45,
    "start_time": "2021-12-20T18:23:17.720Z"
   },
   {
    "duration": 41,
    "start_time": "2021-12-20T18:23:17.767Z"
   },
   {
    "duration": 3377,
    "start_time": "2021-12-20T18:23:17.810Z"
   },
   {
    "duration": 5,
    "start_time": "2021-12-20T18:23:21.190Z"
   },
   {
    "duration": 15,
    "start_time": "2021-12-20T18:23:21.196Z"
   },
   {
    "duration": 20,
    "start_time": "2021-12-20T18:23:21.213Z"
   },
   {
    "duration": 8,
    "start_time": "2021-12-20T18:23:21.234Z"
   },
   {
    "duration": 13,
    "start_time": "2021-12-20T18:23:49.521Z"
   },
   {
    "duration": 205,
    "start_time": "2021-12-20T18:24:06.250Z"
   },
   {
    "duration": 10,
    "start_time": "2021-12-20T18:24:19.550Z"
   },
   {
    "duration": 53,
    "start_time": "2021-12-20T18:24:29.467Z"
   },
   {
    "duration": 8,
    "start_time": "2021-12-20T18:24:42.681Z"
   },
   {
    "duration": 7,
    "start_time": "2021-12-20T18:24:44.663Z"
   },
   {
    "duration": 7,
    "start_time": "2021-12-20T18:24:51.191Z"
   },
   {
    "duration": 6,
    "start_time": "2021-12-20T18:25:03.875Z"
   },
   {
    "duration": 6,
    "start_time": "2021-12-20T18:25:17.219Z"
   },
   {
    "duration": 646,
    "start_time": "2021-12-20T18:25:23.815Z"
   },
   {
    "duration": 258,
    "start_time": "2021-12-20T18:25:24.463Z"
   },
   {
    "duration": 24,
    "start_time": "2021-12-20T18:25:24.724Z"
   },
   {
    "duration": 26,
    "start_time": "2021-12-20T18:25:24.750Z"
   },
   {
    "duration": 18,
    "start_time": "2021-12-20T18:25:24.778Z"
   },
   {
    "duration": 9,
    "start_time": "2021-12-20T18:25:24.798Z"
   },
   {
    "duration": 27,
    "start_time": "2021-12-20T18:25:24.809Z"
   },
   {
    "duration": 4,
    "start_time": "2021-12-20T18:25:24.840Z"
   },
   {
    "duration": 9,
    "start_time": "2021-12-20T18:25:24.847Z"
   },
   {
    "duration": 59,
    "start_time": "2021-12-20T18:25:24.858Z"
   },
   {
    "duration": 3,
    "start_time": "2021-12-20T18:25:24.919Z"
   },
   {
    "duration": 9,
    "start_time": "2021-12-20T18:25:24.924Z"
   },
   {
    "duration": 8,
    "start_time": "2021-12-20T18:25:24.934Z"
   },
   {
    "duration": 2,
    "start_time": "2021-12-20T18:25:24.943Z"
   },
   {
    "duration": 45,
    "start_time": "2021-12-20T18:25:24.947Z"
   },
   {
    "duration": 8,
    "start_time": "2021-12-20T18:25:24.994Z"
   },
   {
    "duration": 3,
    "start_time": "2021-12-20T18:25:25.004Z"
   },
   {
    "duration": 3191,
    "start_time": "2021-12-20T18:25:25.008Z"
   },
   {
    "duration": 4,
    "start_time": "2021-12-20T18:25:28.201Z"
   },
   {
    "duration": 13,
    "start_time": "2021-12-20T18:25:28.207Z"
   },
   {
    "duration": 8,
    "start_time": "2021-12-20T18:25:28.221Z"
   },
   {
    "duration": 8,
    "start_time": "2021-12-20T18:25:28.231Z"
   },
   {
    "duration": 51,
    "start_time": "2021-12-20T18:25:28.244Z"
   },
   {
    "duration": 15,
    "start_time": "2021-12-20T18:25:28.297Z"
   },
   {
    "duration": 3,
    "start_time": "2021-12-20T18:25:28.314Z"
   },
   {
    "duration": 2569,
    "start_time": "2021-12-20T18:25:28.318Z"
   },
   {
    "duration": 9,
    "start_time": "2021-12-20T18:25:30.891Z"
   },
   {
    "duration": 572,
    "start_time": "2021-12-20T18:25:30.901Z"
   },
   {
    "duration": 8,
    "start_time": "2021-12-20T18:25:31.476Z"
   },
   {
    "duration": 21,
    "start_time": "2021-12-20T18:25:31.492Z"
   },
   {
    "duration": 552,
    "start_time": "2021-12-20T18:25:31.515Z"
   },
   {
    "duration": 39,
    "start_time": "2021-12-20T18:25:32.068Z"
   },
   {
    "duration": 20,
    "start_time": "2021-12-20T18:25:32.108Z"
   },
   {
    "duration": 32,
    "start_time": "2021-12-20T18:25:32.129Z"
   },
   {
    "duration": 22,
    "start_time": "2021-12-20T18:25:32.163Z"
   },
   {
    "duration": 14,
    "start_time": "2021-12-20T18:25:32.187Z"
   },
   {
    "duration": 13,
    "start_time": "2021-12-20T18:25:32.202Z"
   },
   {
    "duration": 2935,
    "start_time": "2021-12-20T18:25:32.216Z"
   },
   {
    "duration": 8,
    "start_time": "2021-12-20T18:25:35.153Z"
   },
   {
    "duration": 9,
    "start_time": "2021-12-20T18:25:35.162Z"
   },
   {
    "duration": 556,
    "start_time": "2021-12-20T18:25:35.172Z"
   },
   {
    "duration": 7,
    "start_time": "2021-12-20T18:25:35.730Z"
   },
   {
    "duration": 32,
    "start_time": "2021-12-20T18:25:35.739Z"
   },
   {
    "duration": 469,
    "start_time": "2021-12-20T18:25:35.773Z"
   },
   {
    "duration": 4,
    "start_time": "2021-12-20T18:25:36.244Z"
   },
   {
    "duration": 22,
    "start_time": "2021-12-20T18:25:36.250Z"
   },
   {
    "duration": 30,
    "start_time": "2021-12-20T18:25:36.274Z"
   },
   {
    "duration": 4,
    "start_time": "2021-12-20T18:25:36.306Z"
   },
   {
    "duration": 3247,
    "start_time": "2021-12-20T18:25:36.311Z"
   },
   {
    "duration": 10,
    "start_time": "2021-12-20T18:25:39.560Z"
   },
   {
    "duration": 21,
    "start_time": "2021-12-20T18:25:39.572Z"
   },
   {
    "duration": 7,
    "start_time": "2021-12-20T18:25:39.595Z"
   },
   {
    "duration": 2601,
    "start_time": "2021-12-20T18:25:39.603Z"
   },
   {
    "duration": 7,
    "start_time": "2021-12-20T18:25:42.205Z"
   },
   {
    "duration": 33,
    "start_time": "2021-12-20T18:25:42.214Z"
   },
   {
    "duration": 2571,
    "start_time": "2021-12-20T18:25:42.249Z"
   },
   {
    "duration": 6,
    "start_time": "2021-12-20T18:25:44.822Z"
   },
   {
    "duration": 60,
    "start_time": "2021-12-20T18:25:44.830Z"
   },
   {
    "duration": 25,
    "start_time": "2021-12-20T18:25:44.891Z"
   },
   {
    "duration": 3318,
    "start_time": "2021-12-20T18:25:44.917Z"
   },
   {
    "duration": 5,
    "start_time": "2021-12-20T18:25:48.236Z"
   },
   {
    "duration": 13,
    "start_time": "2021-12-20T18:25:48.243Z"
   },
   {
    "duration": 33,
    "start_time": "2021-12-20T18:25:48.258Z"
   },
   {
    "duration": 7,
    "start_time": "2021-12-20T18:25:48.294Z"
   },
   {
    "duration": 8,
    "start_time": "2021-12-20T18:25:48.303Z"
   },
   {
    "duration": 8,
    "start_time": "2021-12-20T18:25:48.312Z"
   },
   {
    "duration": 6,
    "start_time": "2021-12-20T18:25:48.322Z"
   },
   {
    "duration": 5,
    "start_time": "2021-12-20T18:25:48.334Z"
   },
   {
    "duration": 16571,
    "start_time": "2021-12-20T18:25:48.341Z"
   },
   {
    "duration": 5,
    "start_time": "2021-12-20T18:26:04.914Z"
   },
   {
    "duration": 60,
    "start_time": "2021-12-20T18:26:04.921Z"
   },
   {
    "duration": 44,
    "start_time": "2021-12-20T18:26:04.983Z"
   },
   {
    "duration": 77,
    "start_time": "2021-12-20T18:26:05.028Z"
   },
   {
    "duration": 19,
    "start_time": "2021-12-20T18:26:05.107Z"
   },
   {
    "duration": 82,
    "start_time": "2021-12-20T18:26:05.128Z"
   },
   {
    "duration": 4,
    "start_time": "2021-12-20T18:26:05.212Z"
   },
   {
    "duration": 58,
    "start_time": "2021-12-20T18:26:05.218Z"
   },
   {
    "duration": 56,
    "start_time": "2021-12-20T18:26:05.278Z"
   },
   {
    "duration": 16220,
    "start_time": "2021-12-20T18:26:05.336Z"
   },
   {
    "duration": 17,
    "start_time": "2021-12-20T18:26:21.558Z"
   },
   {
    "duration": 399,
    "start_time": "2021-12-20T18:26:21.576Z"
   },
   {
    "duration": 16,
    "start_time": "2021-12-20T18:26:21.976Z"
   },
   {
    "duration": 325,
    "start_time": "2021-12-20T18:26:21.994Z"
   },
   {
    "duration": 8,
    "start_time": "2021-12-20T18:26:22.321Z"
   },
   {
    "duration": 346,
    "start_time": "2021-12-20T18:26:22.331Z"
   },
   {
    "duration": 14,
    "start_time": "2021-12-20T18:26:22.679Z"
   },
   {
    "duration": 420,
    "start_time": "2021-12-20T18:26:22.695Z"
   },
   {
    "duration": 33,
    "start_time": "2021-12-20T18:26:23.117Z"
   },
   {
    "duration": 10,
    "start_time": "2021-12-20T18:26:23.152Z"
   },
   {
    "duration": 32,
    "start_time": "2021-12-20T18:26:23.164Z"
   },
   {
    "duration": 18,
    "start_time": "2021-12-20T18:26:23.198Z"
   },
   {
    "duration": 16,
    "start_time": "2021-12-20T18:26:23.218Z"
   },
   {
    "duration": 318,
    "start_time": "2021-12-20T18:26:23.235Z"
   },
   {
    "duration": 24,
    "start_time": "2021-12-20T18:26:23.554Z"
   },
   {
    "duration": 312,
    "start_time": "2021-12-20T18:26:23.592Z"
   },
   {
    "duration": 297,
    "start_time": "2021-12-20T18:26:23.906Z"
   },
   {
    "duration": 13,
    "start_time": "2021-12-20T18:26:24.205Z"
   },
   {
    "duration": 14,
    "start_time": "2021-12-20T18:26:24.220Z"
   },
   {
    "duration": 11,
    "start_time": "2021-12-20T18:26:24.235Z"
   },
   {
    "duration": 9,
    "start_time": "2021-12-20T18:26:24.247Z"
   },
   {
    "duration": 52,
    "start_time": "2021-12-20T18:26:24.258Z"
   },
   {
    "duration": 664,
    "start_time": "2021-12-20T18:26:24.312Z"
   },
   {
    "duration": 544,
    "start_time": "2021-12-20T18:26:24.978Z"
   },
   {
    "duration": 40,
    "start_time": "2021-12-20T18:26:25.524Z"
   },
   {
    "duration": 33,
    "start_time": "2021-12-20T18:26:25.566Z"
   },
   {
    "duration": 17,
    "start_time": "2021-12-20T18:26:25.601Z"
   },
   {
    "duration": 19,
    "start_time": "2021-12-20T18:26:25.619Z"
   },
   {
    "duration": 314,
    "start_time": "2021-12-20T18:26:25.640Z"
   },
   {
    "duration": 307,
    "start_time": "2021-12-20T18:26:25.956Z"
   },
   {
    "duration": 303,
    "start_time": "2021-12-20T18:26:26.264Z"
   },
   {
    "duration": 13,
    "start_time": "2021-12-20T18:26:35.694Z"
   },
   {
    "duration": 7,
    "start_time": "2021-12-20T18:27:25.141Z"
   },
   {
    "duration": 252,
    "start_time": "2021-12-20T18:28:47.681Z"
   },
   {
    "duration": 138,
    "start_time": "2021-12-20T18:29:24.932Z"
   },
   {
    "duration": 126,
    "start_time": "2021-12-20T18:29:54.547Z"
   },
   {
    "duration": 12,
    "start_time": "2021-12-20T18:30:00.588Z"
   },
   {
    "duration": 39,
    "start_time": "2021-12-20T18:31:18.008Z"
   },
   {
    "duration": 3404,
    "start_time": "2021-12-20T18:32:31.171Z"
   },
   {
    "duration": 6,
    "start_time": "2021-12-20T18:33:02.849Z"
   },
   {
    "duration": 14,
    "start_time": "2021-12-20T18:33:10.411Z"
   },
   {
    "duration": 137,
    "start_time": "2021-12-20T18:34:07.623Z"
   },
   {
    "duration": 134,
    "start_time": "2021-12-20T18:36:13.142Z"
   },
   {
    "duration": 45,
    "start_time": "2021-12-20T18:36:33.197Z"
   },
   {
    "duration": 10,
    "start_time": "2021-12-20T18:36:42.083Z"
   },
   {
    "duration": 668,
    "start_time": "2021-12-20T18:37:02.024Z"
   },
   {
    "duration": 327,
    "start_time": "2021-12-20T18:37:02.697Z"
   },
   {
    "duration": 79,
    "start_time": "2021-12-20T18:37:03.041Z"
   },
   {
    "duration": 21,
    "start_time": "2021-12-20T18:37:03.132Z"
   },
   {
    "duration": 6,
    "start_time": "2021-12-20T18:37:03.155Z"
   },
   {
    "duration": 13,
    "start_time": "2021-12-20T18:37:03.164Z"
   },
   {
    "duration": 32,
    "start_time": "2021-12-20T18:37:03.179Z"
   },
   {
    "duration": 6,
    "start_time": "2021-12-20T18:37:03.215Z"
   },
   {
    "duration": 33,
    "start_time": "2021-12-20T18:37:03.224Z"
   },
   {
    "duration": 37,
    "start_time": "2021-12-20T18:37:03.259Z"
   },
   {
    "duration": 5,
    "start_time": "2021-12-20T18:37:03.299Z"
   },
   {
    "duration": 10,
    "start_time": "2021-12-20T18:37:03.306Z"
   },
   {
    "duration": 9,
    "start_time": "2021-12-20T18:37:03.318Z"
   },
   {
    "duration": 3,
    "start_time": "2021-12-20T18:37:03.329Z"
   },
   {
    "duration": 12,
    "start_time": "2021-12-20T18:37:03.334Z"
   },
   {
    "duration": 49,
    "start_time": "2021-12-20T18:37:03.348Z"
   },
   {
    "duration": 5,
    "start_time": "2021-12-20T18:37:03.399Z"
   },
   {
    "duration": 3302,
    "start_time": "2021-12-20T18:37:03.406Z"
   },
   {
    "duration": 3,
    "start_time": "2021-12-20T18:37:06.710Z"
   },
   {
    "duration": 13,
    "start_time": "2021-12-20T18:37:06.715Z"
   },
   {
    "duration": 5,
    "start_time": "2021-12-20T18:37:06.730Z"
   },
   {
    "duration": 9,
    "start_time": "2021-12-20T18:37:06.736Z"
   },
   {
    "duration": 60,
    "start_time": "2021-12-20T18:37:06.746Z"
   },
   {
    "duration": 13,
    "start_time": "2021-12-20T18:37:06.807Z"
   },
   {
    "duration": 3,
    "start_time": "2021-12-20T18:37:06.822Z"
   },
   {
    "duration": 2625,
    "start_time": "2021-12-20T18:37:06.829Z"
   },
   {
    "duration": 10,
    "start_time": "2021-12-20T18:37:09.457Z"
   },
   {
    "duration": 586,
    "start_time": "2021-12-20T18:37:09.468Z"
   },
   {
    "duration": 8,
    "start_time": "2021-12-20T18:37:10.055Z"
   },
   {
    "duration": 12,
    "start_time": "2021-12-20T18:37:10.064Z"
   },
   {
    "duration": 575,
    "start_time": "2021-12-20T18:37:10.090Z"
   },
   {
    "duration": 37,
    "start_time": "2021-12-20T18:37:10.667Z"
   },
   {
    "duration": 8,
    "start_time": "2021-12-20T18:37:10.706Z"
   },
   {
    "duration": 20,
    "start_time": "2021-12-20T18:37:10.715Z"
   },
   {
    "duration": 13,
    "start_time": "2021-12-20T18:37:10.737Z"
   },
   {
    "duration": 5,
    "start_time": "2021-12-20T18:37:10.751Z"
   },
   {
    "duration": 4,
    "start_time": "2021-12-20T18:37:10.758Z"
   },
   {
    "duration": 2880,
    "start_time": "2021-12-20T18:37:10.763Z"
   },
   {
    "duration": 9,
    "start_time": "2021-12-20T18:37:13.645Z"
   },
   {
    "duration": 8,
    "start_time": "2021-12-20T18:37:13.655Z"
   },
   {
    "duration": 543,
    "start_time": "2021-12-20T18:37:13.664Z"
   },
   {
    "duration": 6,
    "start_time": "2021-12-20T18:37:14.209Z"
   },
   {
    "duration": 6,
    "start_time": "2021-12-20T18:37:14.217Z"
   },
   {
    "duration": 450,
    "start_time": "2021-12-20T18:37:14.224Z"
   },
   {
    "duration": 5,
    "start_time": "2021-12-20T18:37:14.676Z"
   },
   {
    "duration": 9,
    "start_time": "2021-12-20T18:37:14.692Z"
   },
   {
    "duration": 26,
    "start_time": "2021-12-20T18:37:14.703Z"
   },
   {
    "duration": 4,
    "start_time": "2021-12-20T18:37:14.731Z"
   },
   {
    "duration": 3266,
    "start_time": "2021-12-20T18:37:14.737Z"
   },
   {
    "duration": 11,
    "start_time": "2021-12-20T18:37:18.005Z"
   },
   {
    "duration": 9,
    "start_time": "2021-12-20T18:37:18.018Z"
   },
   {
    "duration": 13,
    "start_time": "2021-12-20T18:37:18.028Z"
   },
   {
    "duration": 2548,
    "start_time": "2021-12-20T18:37:18.043Z"
   },
   {
    "duration": 7,
    "start_time": "2021-12-20T18:37:20.593Z"
   },
   {
    "duration": 33,
    "start_time": "2021-12-20T18:37:20.601Z"
   },
   {
    "duration": 2645,
    "start_time": "2021-12-20T18:37:20.636Z"
   },
   {
    "duration": 11,
    "start_time": "2021-12-20T18:37:23.283Z"
   },
   {
    "duration": 9,
    "start_time": "2021-12-20T18:37:23.295Z"
   },
   {
    "duration": 9,
    "start_time": "2021-12-20T18:37:23.306Z"
   },
   {
    "duration": 3302,
    "start_time": "2021-12-20T18:37:23.317Z"
   },
   {
    "duration": 4,
    "start_time": "2021-12-20T18:37:26.622Z"
   },
   {
    "duration": 12,
    "start_time": "2021-12-20T18:37:26.628Z"
   },
   {
    "duration": 18,
    "start_time": "2021-12-20T18:37:26.641Z"
   },
   {
    "duration": 34,
    "start_time": "2021-12-20T18:37:26.661Z"
   },
   {
    "duration": 6,
    "start_time": "2021-12-20T18:37:26.697Z"
   },
   {
    "duration": 7,
    "start_time": "2021-12-20T18:37:26.705Z"
   },
   {
    "duration": 9,
    "start_time": "2021-12-20T18:37:26.713Z"
   },
   {
    "duration": 9,
    "start_time": "2021-12-20T18:37:26.723Z"
   },
   {
    "duration": 16326,
    "start_time": "2021-12-20T18:37:26.734Z"
   },
   {
    "duration": 7,
    "start_time": "2021-12-20T18:37:43.063Z"
   },
   {
    "duration": 29,
    "start_time": "2021-12-20T18:37:43.072Z"
   },
   {
    "duration": 8,
    "start_time": "2021-12-20T18:37:43.103Z"
   },
   {
    "duration": 50,
    "start_time": "2021-12-20T18:37:43.113Z"
   },
   {
    "duration": 32,
    "start_time": "2021-12-20T18:37:43.165Z"
   },
   {
    "duration": 48,
    "start_time": "2021-12-20T18:37:43.199Z"
   },
   {
    "duration": 4,
    "start_time": "2021-12-20T18:37:43.250Z"
   },
   {
    "duration": 22,
    "start_time": "2021-12-20T18:37:43.256Z"
   },
   {
    "duration": 21,
    "start_time": "2021-12-20T18:37:43.292Z"
   },
   {
    "duration": 16219,
    "start_time": "2021-12-20T18:37:43.315Z"
   },
   {
    "duration": 19,
    "start_time": "2021-12-20T18:37:59.541Z"
   },
   {
    "duration": 392,
    "start_time": "2021-12-20T18:37:59.562Z"
   },
   {
    "duration": 9,
    "start_time": "2021-12-20T18:37:59.956Z"
   },
   {
    "duration": 328,
    "start_time": "2021-12-20T18:37:59.966Z"
   },
   {
    "duration": 8,
    "start_time": "2021-12-20T18:38:00.296Z"
   },
   {
    "duration": 333,
    "start_time": "2021-12-20T18:38:00.306Z"
   },
   {
    "duration": 9,
    "start_time": "2021-12-20T18:38:00.641Z"
   },
   {
    "duration": 392,
    "start_time": "2021-12-20T18:38:00.652Z"
   },
   {
    "duration": 49,
    "start_time": "2021-12-20T18:38:01.046Z"
   },
   {
    "duration": 12,
    "start_time": "2021-12-20T18:38:01.097Z"
   },
   {
    "duration": 19,
    "start_time": "2021-12-20T18:38:01.111Z"
   },
   {
    "duration": 27,
    "start_time": "2021-12-20T18:38:01.132Z"
   },
   {
    "duration": 52,
    "start_time": "2021-12-20T18:38:01.161Z"
   },
   {
    "duration": 322,
    "start_time": "2021-12-20T18:38:01.215Z"
   },
   {
    "duration": 24,
    "start_time": "2021-12-20T18:38:01.539Z"
   },
   {
    "duration": 318,
    "start_time": "2021-12-20T18:38:01.565Z"
   },
   {
    "duration": 296,
    "start_time": "2021-12-20T18:38:01.885Z"
   },
   {
    "duration": 19,
    "start_time": "2021-12-20T18:38:02.183Z"
   },
   {
    "duration": 21,
    "start_time": "2021-12-20T18:38:02.203Z"
   },
   {
    "duration": 15,
    "start_time": "2021-12-20T18:38:02.226Z"
   },
   {
    "duration": 10,
    "start_time": "2021-12-20T18:38:02.242Z"
   },
   {
    "duration": 38,
    "start_time": "2021-12-20T18:38:02.254Z"
   },
   {
    "duration": 672,
    "start_time": "2021-12-20T18:38:02.294Z"
   },
   {
    "duration": 619,
    "start_time": "2021-12-20T18:38:02.968Z"
   },
   {
    "duration": 47,
    "start_time": "2021-12-20T18:38:03.589Z"
   },
   {
    "duration": 19,
    "start_time": "2021-12-20T18:38:03.638Z"
   },
   {
    "duration": 42,
    "start_time": "2021-12-20T18:38:03.659Z"
   },
   {
    "duration": 21,
    "start_time": "2021-12-20T18:38:03.703Z"
   },
   {
    "duration": 304,
    "start_time": "2021-12-20T18:38:03.725Z"
   },
   {
    "duration": 310,
    "start_time": "2021-12-20T18:38:04.030Z"
   },
   {
    "duration": 296,
    "start_time": "2021-12-20T18:38:04.342Z"
   },
   {
    "duration": 12,
    "start_time": "2021-12-20T18:39:04.789Z"
   },
   {
    "duration": 14,
    "start_time": "2021-12-20T18:39:17.959Z"
   },
   {
    "duration": 7,
    "start_time": "2021-12-20T18:40:24.572Z"
   },
   {
    "duration": 641,
    "start_time": "2021-12-20T18:42:53.193Z"
   },
   {
    "duration": 270,
    "start_time": "2021-12-20T18:42:53.836Z"
   },
   {
    "duration": 3,
    "start_time": "2021-12-20T18:42:54.110Z"
   },
   {
    "duration": 19,
    "start_time": "2021-12-20T18:42:54.115Z"
   },
   {
    "duration": 9,
    "start_time": "2021-12-20T18:42:54.135Z"
   },
   {
    "duration": 15,
    "start_time": "2021-12-20T18:42:54.146Z"
   },
   {
    "duration": 41,
    "start_time": "2021-12-20T18:42:54.163Z"
   },
   {
    "duration": 5,
    "start_time": "2021-12-20T18:42:54.207Z"
   },
   {
    "duration": 21,
    "start_time": "2021-12-20T18:42:54.214Z"
   },
   {
    "duration": 34,
    "start_time": "2021-12-20T18:42:54.237Z"
   },
   {
    "duration": 4,
    "start_time": "2021-12-20T18:42:54.272Z"
   },
   {
    "duration": 30,
    "start_time": "2021-12-20T18:42:54.277Z"
   },
   {
    "duration": 9,
    "start_time": "2021-12-20T18:42:54.309Z"
   },
   {
    "duration": 3,
    "start_time": "2021-12-20T18:42:54.319Z"
   },
   {
    "duration": 12,
    "start_time": "2021-12-20T18:42:54.323Z"
   },
   {
    "duration": 8,
    "start_time": "2021-12-20T18:42:54.336Z"
   },
   {
    "duration": 4,
    "start_time": "2021-12-20T18:42:54.346Z"
   },
   {
    "duration": 3192,
    "start_time": "2021-12-20T18:42:54.352Z"
   },
   {
    "duration": 4,
    "start_time": "2021-12-20T18:42:57.547Z"
   },
   {
    "duration": 15,
    "start_time": "2021-12-20T18:42:57.553Z"
   },
   {
    "duration": 24,
    "start_time": "2021-12-20T18:42:57.570Z"
   },
   {
    "duration": 12,
    "start_time": "2021-12-20T18:42:57.598Z"
   },
   {
    "duration": 32,
    "start_time": "2021-12-20T18:42:57.613Z"
   },
   {
    "duration": 22,
    "start_time": "2021-12-20T18:42:57.648Z"
   },
   {
    "duration": 20,
    "start_time": "2021-12-20T18:42:57.672Z"
   },
   {
    "duration": 2630,
    "start_time": "2021-12-20T18:42:57.694Z"
   },
   {
    "duration": 8,
    "start_time": "2021-12-20T18:43:00.326Z"
   },
   {
    "duration": 609,
    "start_time": "2021-12-20T18:43:00.336Z"
   },
   {
    "duration": 9,
    "start_time": "2021-12-20T18:43:00.947Z"
   },
   {
    "duration": 22,
    "start_time": "2021-12-20T18:43:00.958Z"
   },
   {
    "duration": 523,
    "start_time": "2021-12-20T18:43:00.982Z"
   },
   {
    "duration": 33,
    "start_time": "2021-12-20T18:43:01.507Z"
   },
   {
    "duration": 18,
    "start_time": "2021-12-20T18:43:01.542Z"
   },
   {
    "duration": 36,
    "start_time": "2021-12-20T18:43:01.562Z"
   },
   {
    "duration": 24,
    "start_time": "2021-12-20T18:43:01.601Z"
   },
   {
    "duration": 22,
    "start_time": "2021-12-20T18:43:01.627Z"
   },
   {
    "duration": 21,
    "start_time": "2021-12-20T18:43:01.651Z"
   },
   {
    "duration": 3124,
    "start_time": "2021-12-20T18:43:01.674Z"
   },
   {
    "duration": 8,
    "start_time": "2021-12-20T18:43:04.800Z"
   },
   {
    "duration": 8,
    "start_time": "2021-12-20T18:43:04.810Z"
   },
   {
    "duration": 596,
    "start_time": "2021-12-20T18:43:04.820Z"
   },
   {
    "duration": 6,
    "start_time": "2021-12-20T18:43:05.418Z"
   },
   {
    "duration": 6,
    "start_time": "2021-12-20T18:43:05.426Z"
   },
   {
    "duration": 463,
    "start_time": "2021-12-20T18:43:05.434Z"
   },
   {
    "duration": 4,
    "start_time": "2021-12-20T18:43:05.899Z"
   },
   {
    "duration": 20,
    "start_time": "2021-12-20T18:43:05.905Z"
   },
   {
    "duration": 27,
    "start_time": "2021-12-20T18:43:05.926Z"
   },
   {
    "duration": 5,
    "start_time": "2021-12-20T18:43:05.955Z"
   },
   {
    "duration": 3365,
    "start_time": "2021-12-20T18:43:05.962Z"
   },
   {
    "duration": 11,
    "start_time": "2021-12-20T18:43:09.329Z"
   },
   {
    "duration": 9,
    "start_time": "2021-12-20T18:43:09.342Z"
   },
   {
    "duration": 16,
    "start_time": "2021-12-20T18:43:09.353Z"
   },
   {
    "duration": 2654,
    "start_time": "2021-12-20T18:43:09.371Z"
   },
   {
    "duration": 7,
    "start_time": "2021-12-20T18:43:12.027Z"
   },
   {
    "duration": 33,
    "start_time": "2021-12-20T18:43:12.035Z"
   },
   {
    "duration": 2605,
    "start_time": "2021-12-20T18:43:12.069Z"
   },
   {
    "duration": 7,
    "start_time": "2021-12-20T18:43:14.676Z"
   },
   {
    "duration": 8,
    "start_time": "2021-12-20T18:43:14.691Z"
   },
   {
    "duration": 12,
    "start_time": "2021-12-20T18:43:14.701Z"
   },
   {
    "duration": 3488,
    "start_time": "2021-12-20T18:43:14.715Z"
   },
   {
    "duration": 6,
    "start_time": "2021-12-20T18:43:18.205Z"
   },
   {
    "duration": 13,
    "start_time": "2021-12-20T18:43:18.212Z"
   },
   {
    "duration": 25,
    "start_time": "2021-12-20T18:43:18.227Z"
   },
   {
    "duration": 44,
    "start_time": "2021-12-20T18:43:18.254Z"
   },
   {
    "duration": 6,
    "start_time": "2021-12-20T18:43:18.300Z"
   },
   {
    "duration": 6,
    "start_time": "2021-12-20T18:43:18.308Z"
   },
   {
    "duration": 6,
    "start_time": "2021-12-20T18:43:18.320Z"
   },
   {
    "duration": 5,
    "start_time": "2021-12-20T18:43:18.328Z"
   },
   {
    "duration": 17050,
    "start_time": "2021-12-20T18:43:18.335Z"
   },
   {
    "duration": 7,
    "start_time": "2021-12-20T18:43:35.387Z"
   },
   {
    "duration": 24,
    "start_time": "2021-12-20T18:43:35.396Z"
   },
   {
    "duration": 11,
    "start_time": "2021-12-20T18:43:35.422Z"
   },
   {
    "duration": 57,
    "start_time": "2021-12-20T18:43:35.434Z"
   },
   {
    "duration": 8,
    "start_time": "2021-12-20T18:43:35.493Z"
   },
   {
    "duration": 39,
    "start_time": "2021-12-20T18:43:35.503Z"
   },
   {
    "duration": 4,
    "start_time": "2021-12-20T18:43:35.544Z"
   },
   {
    "duration": 18,
    "start_time": "2021-12-20T18:43:35.549Z"
   },
   {
    "duration": 42,
    "start_time": "2021-12-20T18:43:35.569Z"
   },
   {
    "duration": 16838,
    "start_time": "2021-12-20T18:43:35.613Z"
   },
   {
    "duration": 18,
    "start_time": "2021-12-20T18:43:52.453Z"
   },
   {
    "duration": 395,
    "start_time": "2021-12-20T18:43:52.473Z"
   },
   {
    "duration": 8,
    "start_time": "2021-12-20T18:43:52.869Z"
   },
   {
    "duration": 318,
    "start_time": "2021-12-20T18:43:52.879Z"
   },
   {
    "duration": 8,
    "start_time": "2021-12-20T18:43:53.199Z"
   },
   {
    "duration": 338,
    "start_time": "2021-12-20T18:43:53.208Z"
   },
   {
    "duration": 11,
    "start_time": "2021-12-20T18:43:53.547Z"
   },
   {
    "duration": 422,
    "start_time": "2021-12-20T18:43:53.559Z"
   },
   {
    "duration": 37,
    "start_time": "2021-12-20T18:43:53.983Z"
   },
   {
    "duration": 3,
    "start_time": "2021-12-20T18:43:54.022Z"
   },
   {
    "duration": 12,
    "start_time": "2021-12-20T18:43:54.026Z"
   },
   {
    "duration": 10,
    "start_time": "2021-12-20T18:43:54.040Z"
   },
   {
    "duration": 51,
    "start_time": "2021-12-20T18:43:54.052Z"
   },
   {
    "duration": 16,
    "start_time": "2021-12-20T18:43:54.104Z"
   },
   {
    "duration": 300,
    "start_time": "2021-12-20T18:43:54.122Z"
   },
   {
    "duration": 26,
    "start_time": "2021-12-20T18:43:54.423Z"
   },
   {
    "duration": 315,
    "start_time": "2021-12-20T18:43:54.451Z"
   },
   {
    "duration": 286,
    "start_time": "2021-12-20T18:43:54.768Z"
   },
   {
    "duration": 12,
    "start_time": "2021-12-20T18:43:55.056Z"
   },
   {
    "duration": 29,
    "start_time": "2021-12-20T18:43:55.070Z"
   },
   {
    "duration": 18,
    "start_time": "2021-12-20T18:43:55.101Z"
   },
   {
    "duration": 18,
    "start_time": "2021-12-20T18:43:55.121Z"
   },
   {
    "duration": 29,
    "start_time": "2021-12-20T18:43:55.141Z"
   },
   {
    "duration": 669,
    "start_time": "2021-12-20T18:43:55.172Z"
   },
   {
    "duration": 504,
    "start_time": "2021-12-20T18:43:55.843Z"
   },
   {
    "duration": 51,
    "start_time": "2021-12-20T18:43:56.349Z"
   },
   {
    "duration": 19,
    "start_time": "2021-12-20T18:43:56.402Z"
   },
   {
    "duration": 18,
    "start_time": "2021-12-20T18:43:56.424Z"
   },
   {
    "duration": 19,
    "start_time": "2021-12-20T18:43:56.444Z"
   },
   {
    "duration": 326,
    "start_time": "2021-12-20T18:43:56.465Z"
   },
   {
    "duration": 315,
    "start_time": "2021-12-20T18:43:56.793Z"
   },
   {
    "duration": 304,
    "start_time": "2021-12-20T18:43:57.110Z"
   },
   {
    "duration": 3,
    "start_time": "2021-12-20T18:45:42.949Z"
   },
   {
    "duration": 4,
    "start_time": "2021-12-20T18:46:38.401Z"
   },
   {
    "duration": 3,
    "start_time": "2021-12-20T18:46:49.005Z"
   }
  ],
  "kernelspec": {
   "display_name": "Python 3 (ipykernel)",
   "language": "python",
   "name": "python3"
  },
  "language_info": {
   "codemirror_mode": {
    "name": "ipython",
    "version": 3
   },
   "file_extension": ".py",
   "mimetype": "text/x-python",
   "name": "python",
   "nbconvert_exporter": "python",
   "pygments_lexer": "ipython3",
   "version": "3.9.7"
  },
  "toc": {
   "base_numbering": 1,
   "nav_menu": {},
   "number_sections": true,
   "sideBar": true,
   "skip_h1_title": true,
   "title_cell": "Содержание",
   "title_sidebar": "Contents",
   "toc_cell": true,
   "toc_position": {
    "height": "calc(100% - 180px)",
    "left": "10px",
    "top": "150px",
    "width": "356.179px"
   },
   "toc_section_display": true,
   "toc_window_display": true
  }
 },
 "nbformat": 4,
 "nbformat_minor": 4
}
