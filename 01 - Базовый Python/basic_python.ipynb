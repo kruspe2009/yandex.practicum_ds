{
 "cells": [
  {
   "cell_type": "markdown",
   "metadata": {},
   "source": [
    "# Исследование надёжности заёмщиков\n",
    "\n",
    "Заказчик — кредитный отдел банка. Нужно разобраться, влияет ли семейное положение и количество детей клиента на факт погашения кредита в срок. Входные данные от банка — статистика о платёжеспособности клиентов.\n",
    "\n",
    "Результаты исследования будут учтены при построении модели **кредитного скоринга** — специальной системы, которая оценивает способность потенциального заёмщика вернуть кредит банку."
   ]
  },
  {
   "cell_type": "markdown",
   "metadata": {},
   "source": [
    "## Шаг 1. Откройте файл с данными и изучите общую информацию"
   ]
  },
  {
   "cell_type": "code",
   "execution_count": 1,
   "metadata": {},
   "outputs": [],
   "source": [
    "import pandas as pd\n",
    "from pymystem3 import Mystem\n",
    "from collections import Counter\n",
    "import numpy as np\n",
    "pd.set_option('display.max_columns', 20)\n",
    "m = Mystem()"
   ]
  },
  {
   "cell_type": "code",
   "execution_count": 2,
   "metadata": {},
   "outputs": [],
   "source": [
    "data = pd.read_csv('/datasets/data.csv')"
   ]
  },
  {
   "cell_type": "code",
   "execution_count": 3,
   "metadata": {},
   "outputs": [
    {
     "name": "stdout",
     "output_type": "stream",
     "text": [
      "<class 'pandas.core.frame.DataFrame'>\n",
      "RangeIndex: 21525 entries, 0 to 21524\n",
      "Data columns (total 12 columns):\n",
      " #   Column            Non-Null Count  Dtype  \n",
      "---  ------            --------------  -----  \n",
      " 0   children          21525 non-null  int64  \n",
      " 1   days_employed     19351 non-null  float64\n",
      " 2   dob_years         21525 non-null  int64  \n",
      " 3   education         21525 non-null  object \n",
      " 4   education_id      21525 non-null  int64  \n",
      " 5   family_status     21525 non-null  object \n",
      " 6   family_status_id  21525 non-null  int64  \n",
      " 7   gender            21525 non-null  object \n",
      " 8   income_type       21525 non-null  object \n",
      " 9   debt              21525 non-null  int64  \n",
      " 10  total_income      19351 non-null  float64\n",
      " 11  purpose           21525 non-null  object \n",
      "dtypes: float64(2), int64(5), object(5)\n",
      "memory usage: 2.0+ MB\n"
     ]
    }
   ],
   "source": [
    "data.info()"
   ]
  },
  {
   "cell_type": "code",
   "execution_count": 4,
   "metadata": {},
   "outputs": [
    {
     "data": {
      "text/html": [
       "<div>\n",
       "<style scoped>\n",
       "    .dataframe tbody tr th:only-of-type {\n",
       "        vertical-align: middle;\n",
       "    }\n",
       "\n",
       "    .dataframe tbody tr th {\n",
       "        vertical-align: top;\n",
       "    }\n",
       "\n",
       "    .dataframe thead th {\n",
       "        text-align: right;\n",
       "    }\n",
       "</style>\n",
       "<table border=\"1\" class=\"dataframe\">\n",
       "  <thead>\n",
       "    <tr style=\"text-align: right;\">\n",
       "      <th></th>\n",
       "      <th>children</th>\n",
       "      <th>days_employed</th>\n",
       "      <th>dob_years</th>\n",
       "      <th>education</th>\n",
       "      <th>education_id</th>\n",
       "      <th>family_status</th>\n",
       "      <th>family_status_id</th>\n",
       "      <th>gender</th>\n",
       "      <th>income_type</th>\n",
       "      <th>debt</th>\n",
       "      <th>total_income</th>\n",
       "      <th>purpose</th>\n",
       "    </tr>\n",
       "  </thead>\n",
       "  <tbody>\n",
       "    <tr>\n",
       "      <th>0</th>\n",
       "      <td>1</td>\n",
       "      <td>-8437.673028</td>\n",
       "      <td>42</td>\n",
       "      <td>высшее</td>\n",
       "      <td>0</td>\n",
       "      <td>женат / замужем</td>\n",
       "      <td>0</td>\n",
       "      <td>F</td>\n",
       "      <td>сотрудник</td>\n",
       "      <td>0</td>\n",
       "      <td>253875.639453</td>\n",
       "      <td>покупка жилья</td>\n",
       "    </tr>\n",
       "    <tr>\n",
       "      <th>1</th>\n",
       "      <td>1</td>\n",
       "      <td>-4024.803754</td>\n",
       "      <td>36</td>\n",
       "      <td>среднее</td>\n",
       "      <td>1</td>\n",
       "      <td>женат / замужем</td>\n",
       "      <td>0</td>\n",
       "      <td>F</td>\n",
       "      <td>сотрудник</td>\n",
       "      <td>0</td>\n",
       "      <td>112080.014102</td>\n",
       "      <td>приобретение автомобиля</td>\n",
       "    </tr>\n",
       "    <tr>\n",
       "      <th>2</th>\n",
       "      <td>0</td>\n",
       "      <td>-5623.422610</td>\n",
       "      <td>33</td>\n",
       "      <td>Среднее</td>\n",
       "      <td>1</td>\n",
       "      <td>женат / замужем</td>\n",
       "      <td>0</td>\n",
       "      <td>M</td>\n",
       "      <td>сотрудник</td>\n",
       "      <td>0</td>\n",
       "      <td>145885.952297</td>\n",
       "      <td>покупка жилья</td>\n",
       "    </tr>\n",
       "    <tr>\n",
       "      <th>3</th>\n",
       "      <td>3</td>\n",
       "      <td>-4124.747207</td>\n",
       "      <td>32</td>\n",
       "      <td>среднее</td>\n",
       "      <td>1</td>\n",
       "      <td>женат / замужем</td>\n",
       "      <td>0</td>\n",
       "      <td>M</td>\n",
       "      <td>сотрудник</td>\n",
       "      <td>0</td>\n",
       "      <td>267628.550329</td>\n",
       "      <td>дополнительное образование</td>\n",
       "    </tr>\n",
       "    <tr>\n",
       "      <th>4</th>\n",
       "      <td>0</td>\n",
       "      <td>340266.072047</td>\n",
       "      <td>53</td>\n",
       "      <td>среднее</td>\n",
       "      <td>1</td>\n",
       "      <td>гражданский брак</td>\n",
       "      <td>1</td>\n",
       "      <td>F</td>\n",
       "      <td>пенсионер</td>\n",
       "      <td>0</td>\n",
       "      <td>158616.077870</td>\n",
       "      <td>сыграть свадьбу</td>\n",
       "    </tr>\n",
       "  </tbody>\n",
       "</table>\n",
       "</div>"
      ],
      "text/plain": [
       "   children  days_employed  dob_years education  education_id  \\\n",
       "0         1   -8437.673028         42    высшее             0   \n",
       "1         1   -4024.803754         36   среднее             1   \n",
       "2         0   -5623.422610         33   Среднее             1   \n",
       "3         3   -4124.747207         32   среднее             1   \n",
       "4         0  340266.072047         53   среднее             1   \n",
       "\n",
       "      family_status  family_status_id gender income_type  debt   total_income  \\\n",
       "0   женат / замужем                 0      F   сотрудник     0  253875.639453   \n",
       "1   женат / замужем                 0      F   сотрудник     0  112080.014102   \n",
       "2   женат / замужем                 0      M   сотрудник     0  145885.952297   \n",
       "3   женат / замужем                 0      M   сотрудник     0  267628.550329   \n",
       "4  гражданский брак                 1      F   пенсионер     0  158616.077870   \n",
       "\n",
       "                      purpose  \n",
       "0               покупка жилья  \n",
       "1     приобретение автомобиля  \n",
       "2               покупка жилья  \n",
       "3  дополнительное образование  \n",
       "4             сыграть свадьбу  "
      ]
     },
     "execution_count": 4,
     "metadata": {},
     "output_type": "execute_result"
    }
   ],
   "source": [
    "data.head()"
   ]
  },
  {
   "cell_type": "code",
   "execution_count": 5,
   "metadata": {},
   "outputs": [
    {
     "data": {
      "text/plain": [
       "children                                   1\n",
       "days_employed                  -18388.949901\n",
       "dob_years                                 61\n",
       "education                            среднее\n",
       "education_id                               1\n",
       "family_status                женат / замужем\n",
       "family_status_id                           0\n",
       "gender                                     F\n",
       "income_type                        сотрудник\n",
       "debt                                       0\n",
       "total_income                   186178.934089\n",
       "purpose             операции с недвижимостью\n",
       "Name: 16335, dtype: object"
      ]
     },
     "execution_count": 5,
     "metadata": {},
     "output_type": "execute_result"
    }
   ],
   "source": [
    "data.loc[16335]"
   ]
  },
  {
   "cell_type": "code",
   "execution_count": 6,
   "metadata": {},
   "outputs": [
    {
     "name": "stdout",
     "output_type": "stream",
     "text": [
      "Количество полных дубликатов в сете: 54\n"
     ]
    }
   ],
   "source": [
    "print('Количество полных дубликатов в сете:', sum(data.duplicated()))"
   ]
  },
  {
   "cell_type": "markdown",
   "metadata": {},
   "source": [
    "**Вывод**"
   ]
  },
  {
   "cell_type": "markdown",
   "metadata": {},
   "source": [
    "1. Дата-сет состоит из следующих столбцов: \n",
    "    + children — количество детей в семье\n",
    "    + days_employed — общий трудовой стаж в днях\n",
    "    + dob_years — возраст клиента в годах\n",
    "    + education — уровень образования клиента\n",
    "    + education_id — идентификатор уровня образования\n",
    "    + family_status — семейное положение\n",
    "    + family_status_id — идентификатор семейного положения\n",
    "    + gender — пол клиента\n",
    "    + income_type — тип занятости\n",
    "    + debt — имел ли задолженность по возврату кредитов\n",
    "    + total_income — ежемесячный доход\n",
    "    + purpose — цель получения кредита\n",
    "2. В столбцах `days_employed` и `total_income` наблюдаются пропуски. Количество пропусков идентично в обоих столбцах - можем предположить, что это связано\n",
    "3. В столбце `days_employed` также наблюдаются отрицательные значения, что противоречит описанию данных в стобце - требуется нормализация. В этом же столбце мы наблюдаем избыточно большое значение. \n",
    "4. В столбце `education` наблюдается разное написание уровня образования. Вероятно, категории заемщиков по уровню образования дублируют друг друга.\n",
    "5. Также в датасете наблюдаются 54 полных дубликата строк. Вероятно, при очистке данных, количество полных дубликатов строк может измениться"
   ]
  },
  {
   "cell_type": "markdown",
   "metadata": {},
   "source": [
    "## Шаг 2. Предобработка данных"
   ]
  },
  {
   "cell_type": "markdown",
   "metadata": {},
   "source": [
    "### Обработка пропусков"
   ]
  },
  {
   "cell_type": "code",
   "execution_count": 7,
   "metadata": {},
   "outputs": [
    {
     "name": "stdout",
     "output_type": "stream",
     "text": [
      "Количество строк с пропусками в столбце \"days_employed\": 2174\n",
      "Количество строк с пропусками в столбце \"total_income\" для строк с пропусками в столбце \"days_employed\": 2174\n"
     ]
    }
   ],
   "source": [
    "#проверим предположение о том, что пропуски в двух столбцах наблюдаются в одних и тех же строках\n",
    "print('Количество строк с пропусками в столбце \"days_employed\":', len(data[data['days_employed'].isnull()]))\n",
    "print('Количество строк с пропусками в столбце \"total_income\" для строк с пропусками в столбце \"days_employed\":', len(data[data['days_employed'].isnull()]['total_income'].isnull()))"
   ]
  },
  {
   "cell_type": "markdown",
   "metadata": {},
   "source": [
    "Идентичное количество пропусков означает, что эти данные не были введены, либо были потеряны одновременно. \n",
    "Мы можем заполнить пропуски в обоих столбцах следующими способами:\n",
    "1. Столбец `days_employed` в целях снижения рисков путем завышения потенциального рейтинга клиента заполним нулями для пустых значений. Экстремумы исследуем отдельно. \n",
    "2. Столбец `total_income` можно запонить медианным уровнем дохода для конкретной категории заемщиков"
   ]
  },
  {
   "cell_type": "code",
   "execution_count": 8,
   "metadata": {},
   "outputs": [],
   "source": [
    "data = data.fillna(0) #заполним пропуски в таблице нулями"
   ]
  },
  {
   "cell_type": "code",
   "execution_count": 9,
   "metadata": {},
   "outputs": [
    {
     "name": "stdout",
     "output_type": "stream",
     "text": [
      "Количество отрицательных значений в столбце \"days_employed\": 15906\n"
     ]
    }
   ],
   "source": [
    "#посчитаем количество отрицательных значений в таблице\n",
    "print('Количество отрицательных значений в столбце \"days_employed\":', len(data[data['days_employed'] < 0]))"
   ]
  },
  {
   "cell_type": "markdown",
   "metadata": {},
   "source": [
    "Наблюдаем примерно 3/4 наблюдений в таблице с отрицательным значением в столбце. Маловероятно, что на этапе ввода данных заемщик мог ввести отрицательное значение - вероятно он указывал даты, а далее внутри системы происходило какое-то вычисление - вероятно, в процессе этого вычисления была допущена ошибка. Добавим в датафрейм столбец, куда запишем примерный возраст начала трудовой деятельности (в процессе отрицательные значения превратим в положительные). Так мы сможем отбросить избыточно высокие значения. "
   ]
  },
  {
   "cell_type": "code",
   "execution_count": 10,
   "metadata": {},
   "outputs": [
    {
     "name": "stdout",
     "output_type": "stream",
     "text": [
      "Количество отрицательных значений в столбце \"days_employed\": 0\n"
     ]
    },
    {
     "data": {
      "text/html": [
       "<div>\n",
       "<style scoped>\n",
       "    .dataframe tbody tr th:only-of-type {\n",
       "        vertical-align: middle;\n",
       "    }\n",
       "\n",
       "    .dataframe tbody tr th {\n",
       "        vertical-align: top;\n",
       "    }\n",
       "\n",
       "    .dataframe thead th {\n",
       "        text-align: right;\n",
       "    }\n",
       "</style>\n",
       "<table border=\"1\" class=\"dataframe\">\n",
       "  <thead>\n",
       "    <tr style=\"text-align: right;\">\n",
       "      <th></th>\n",
       "      <th>children</th>\n",
       "      <th>days_employed</th>\n",
       "      <th>dob_years</th>\n",
       "      <th>education</th>\n",
       "      <th>education_id</th>\n",
       "      <th>family_status</th>\n",
       "      <th>family_status_id</th>\n",
       "      <th>gender</th>\n",
       "      <th>income_type</th>\n",
       "      <th>debt</th>\n",
       "      <th>total_income</th>\n",
       "      <th>purpose</th>\n",
       "    </tr>\n",
       "  </thead>\n",
       "  <tbody>\n",
       "    <tr>\n",
       "      <th>0</th>\n",
       "      <td>1</td>\n",
       "      <td>8437.673028</td>\n",
       "      <td>42</td>\n",
       "      <td>высшее</td>\n",
       "      <td>0</td>\n",
       "      <td>женат / замужем</td>\n",
       "      <td>0</td>\n",
       "      <td>F</td>\n",
       "      <td>сотрудник</td>\n",
       "      <td>0</td>\n",
       "      <td>253875.639453</td>\n",
       "      <td>покупка жилья</td>\n",
       "    </tr>\n",
       "    <tr>\n",
       "      <th>1</th>\n",
       "      <td>1</td>\n",
       "      <td>4024.803754</td>\n",
       "      <td>36</td>\n",
       "      <td>среднее</td>\n",
       "      <td>1</td>\n",
       "      <td>женат / замужем</td>\n",
       "      <td>0</td>\n",
       "      <td>F</td>\n",
       "      <td>сотрудник</td>\n",
       "      <td>0</td>\n",
       "      <td>112080.014102</td>\n",
       "      <td>приобретение автомобиля</td>\n",
       "    </tr>\n",
       "    <tr>\n",
       "      <th>2</th>\n",
       "      <td>0</td>\n",
       "      <td>5623.422610</td>\n",
       "      <td>33</td>\n",
       "      <td>Среднее</td>\n",
       "      <td>1</td>\n",
       "      <td>женат / замужем</td>\n",
       "      <td>0</td>\n",
       "      <td>M</td>\n",
       "      <td>сотрудник</td>\n",
       "      <td>0</td>\n",
       "      <td>145885.952297</td>\n",
       "      <td>покупка жилья</td>\n",
       "    </tr>\n",
       "    <tr>\n",
       "      <th>3</th>\n",
       "      <td>3</td>\n",
       "      <td>4124.747207</td>\n",
       "      <td>32</td>\n",
       "      <td>среднее</td>\n",
       "      <td>1</td>\n",
       "      <td>женат / замужем</td>\n",
       "      <td>0</td>\n",
       "      <td>M</td>\n",
       "      <td>сотрудник</td>\n",
       "      <td>0</td>\n",
       "      <td>267628.550329</td>\n",
       "      <td>дополнительное образование</td>\n",
       "    </tr>\n",
       "    <tr>\n",
       "      <th>4</th>\n",
       "      <td>0</td>\n",
       "      <td>340266.072047</td>\n",
       "      <td>53</td>\n",
       "      <td>среднее</td>\n",
       "      <td>1</td>\n",
       "      <td>гражданский брак</td>\n",
       "      <td>1</td>\n",
       "      <td>F</td>\n",
       "      <td>пенсионер</td>\n",
       "      <td>0</td>\n",
       "      <td>158616.077870</td>\n",
       "      <td>сыграть свадьбу</td>\n",
       "    </tr>\n",
       "  </tbody>\n",
       "</table>\n",
       "</div>"
      ],
      "text/plain": [
       "   children  days_employed  dob_years education  education_id  \\\n",
       "0         1    8437.673028         42    высшее             0   \n",
       "1         1    4024.803754         36   среднее             1   \n",
       "2         0    5623.422610         33   Среднее             1   \n",
       "3         3    4124.747207         32   среднее             1   \n",
       "4         0  340266.072047         53   среднее             1   \n",
       "\n",
       "      family_status  family_status_id gender income_type  debt   total_income  \\\n",
       "0   женат / замужем                 0      F   сотрудник     0  253875.639453   \n",
       "1   женат / замужем                 0      F   сотрудник     0  112080.014102   \n",
       "2   женат / замужем                 0      M   сотрудник     0  145885.952297   \n",
       "3   женат / замужем                 0      M   сотрудник     0  267628.550329   \n",
       "4  гражданский брак                 1      F   пенсионер     0  158616.077870   \n",
       "\n",
       "                      purpose  \n",
       "0               покупка жилья  \n",
       "1     приобретение автомобиля  \n",
       "2               покупка жилья  \n",
       "3  дополнительное образование  \n",
       "4             сыграть свадьбу  "
      ]
     },
     "metadata": {},
     "output_type": "display_data"
    }
   ],
   "source": [
    "#убираем нули\n",
    "data['days_employed'] = data['days_employed'].apply(lambda x: x if x >= 0 else x*(-1))\n",
    "print('Количество отрицательных значений в столбце \"days_employed\":', len(data[data['days_employed'] < 0]))\n",
    "display(data.head())"
   ]
  },
  {
   "cell_type": "markdown",
   "metadata": {},
   "source": [
    "А теперь прикинем \"реалистичность\" заявленных цифр, преобразовав дни в годы стажа и отняв этот стаж от заявленного возраста заемщика - так мы сразу увидим ошибки."
   ]
  },
  {
   "cell_type": "code",
   "execution_count": 11,
   "metadata": {},
   "outputs": [],
   "source": [
    "data['age_started_working'] = data['days_employed'].apply(lambda x: x / 365)\n",
    "data['age_started_working'] = round(data['dob_years'] - data['age_started_working'], 1)"
   ]
  },
  {
   "cell_type": "code",
   "execution_count": 12,
   "metadata": {},
   "outputs": [
    {
     "data": {
      "text/plain": [
       "<AxesSubplot:>"
      ]
     },
     "execution_count": 12,
     "metadata": {},
     "output_type": "execute_result"
    },
    {
     "data": {
      "image/png": "[encoded data removed]",
      "text/plain": [
       "<Figure size 1080x576 with 1 Axes>"
      ]
     },
     "metadata": {
      "needs_background": "light"
     },
     "output_type": "display_data"
    }
   ],
   "source": [
    "#построим гистограмму распределения значений\n",
    "data['age_started_working'].hist(figsize=(15, 8), bins=20)"
   ]
  },
  {
   "cell_type": "markdown",
   "metadata": {},
   "source": [
    "На гистограмме наблюдается относительная большая группа отрицательных значений (в некоторых корзинах около 1000 значений). Вероятно, в данных о количестве дней трудоустройства также есть некая системная ошибка и выбрасывать эти данные будет неправильно. Поближе посмотрим на данные:"
   ]
  },
  {
   "cell_type": "code",
   "execution_count": 13,
   "metadata": {},
   "outputs": [
    {
     "data": {
      "text/html": [
       "<div>\n",
       "<style scoped>\n",
       "    .dataframe tbody tr th:only-of-type {\n",
       "        vertical-align: middle;\n",
       "    }\n",
       "\n",
       "    .dataframe tbody tr th {\n",
       "        vertical-align: top;\n",
       "    }\n",
       "\n",
       "    .dataframe thead th {\n",
       "        text-align: right;\n",
       "    }\n",
       "</style>\n",
       "<table border=\"1\" class=\"dataframe\">\n",
       "  <thead>\n",
       "    <tr style=\"text-align: right;\">\n",
       "      <th></th>\n",
       "      <th>children</th>\n",
       "      <th>days_employed</th>\n",
       "      <th>dob_years</th>\n",
       "      <th>education</th>\n",
       "      <th>education_id</th>\n",
       "      <th>family_status</th>\n",
       "      <th>family_status_id</th>\n",
       "      <th>gender</th>\n",
       "      <th>income_type</th>\n",
       "      <th>debt</th>\n",
       "      <th>total_income</th>\n",
       "      <th>purpose</th>\n",
       "      <th>age_started_working</th>\n",
       "    </tr>\n",
       "  </thead>\n",
       "  <tbody>\n",
       "    <tr>\n",
       "      <th>21179</th>\n",
       "      <td>2</td>\n",
       "      <td>108.967042</td>\n",
       "      <td>0</td>\n",
       "      <td>высшее</td>\n",
       "      <td>0</td>\n",
       "      <td>женат / замужем</td>\n",
       "      <td>0</td>\n",
       "      <td>M</td>\n",
       "      <td>компаньон</td>\n",
       "      <td>0</td>\n",
       "      <td>240702.007382</td>\n",
       "      <td>строительство жилой недвижимости</td>\n",
       "      <td>-0.3</td>\n",
       "    </tr>\n",
       "    <tr>\n",
       "      <th>6071</th>\n",
       "      <td>1</td>\n",
       "      <td>162.936952</td>\n",
       "      <td>0</td>\n",
       "      <td>среднее</td>\n",
       "      <td>1</td>\n",
       "      <td>гражданский брак</td>\n",
       "      <td>1</td>\n",
       "      <td>F</td>\n",
       "      <td>сотрудник</td>\n",
       "      <td>0</td>\n",
       "      <td>106956.800302</td>\n",
       "      <td>на покупку автомобиля</td>\n",
       "      <td>-0.4</td>\n",
       "    </tr>\n",
       "    <tr>\n",
       "      <th>16042</th>\n",
       "      <td>2</td>\n",
       "      <td>176.404487</td>\n",
       "      <td>0</td>\n",
       "      <td>среднее</td>\n",
       "      <td>1</td>\n",
       "      <td>женат / замужем</td>\n",
       "      <td>0</td>\n",
       "      <td>F</td>\n",
       "      <td>сотрудник</td>\n",
       "      <td>0</td>\n",
       "      <td>137563.630693</td>\n",
       "      <td>жилье</td>\n",
       "      <td>-0.5</td>\n",
       "    </tr>\n",
       "    <tr>\n",
       "      <th>11990</th>\n",
       "      <td>1</td>\n",
       "      <td>202.600508</td>\n",
       "      <td>0</td>\n",
       "      <td>СРЕДНЕЕ</td>\n",
       "      <td>1</td>\n",
       "      <td>женат / замужем</td>\n",
       "      <td>0</td>\n",
       "      <td>F</td>\n",
       "      <td>компаньон</td>\n",
       "      <td>1</td>\n",
       "      <td>167889.299943</td>\n",
       "      <td>на покупку автомобиля</td>\n",
       "      <td>-0.6</td>\n",
       "    </tr>\n",
       "    <tr>\n",
       "      <th>11289</th>\n",
       "      <td>1</td>\n",
       "      <td>223.709545</td>\n",
       "      <td>0</td>\n",
       "      <td>неоконченное высшее</td>\n",
       "      <td>2</td>\n",
       "      <td>гражданский брак</td>\n",
       "      <td>1</td>\n",
       "      <td>M</td>\n",
       "      <td>сотрудник</td>\n",
       "      <td>0</td>\n",
       "      <td>256070.541695</td>\n",
       "      <td>сыграть свадьбу</td>\n",
       "      <td>-0.6</td>\n",
       "    </tr>\n",
       "    <tr>\n",
       "      <th>...</th>\n",
       "      <td>...</td>\n",
       "      <td>...</td>\n",
       "      <td>...</td>\n",
       "      <td>...</td>\n",
       "      <td>...</td>\n",
       "      <td>...</td>\n",
       "      <td>...</td>\n",
       "      <td>...</td>\n",
       "      <td>...</td>\n",
       "      <td>...</td>\n",
       "      <td>...</td>\n",
       "      <td>...</td>\n",
       "      <td>...</td>\n",
       "    </tr>\n",
       "    <tr>\n",
       "      <th>7794</th>\n",
       "      <td>0</td>\n",
       "      <td>401663.850046</td>\n",
       "      <td>61</td>\n",
       "      <td>среднее</td>\n",
       "      <td>1</td>\n",
       "      <td>гражданский брак</td>\n",
       "      <td>1</td>\n",
       "      <td>F</td>\n",
       "      <td>пенсионер</td>\n",
       "      <td>0</td>\n",
       "      <td>48286.441362</td>\n",
       "      <td>свадьба</td>\n",
       "      <td>-1039.4</td>\n",
       "    </tr>\n",
       "    <tr>\n",
       "      <th>2156</th>\n",
       "      <td>0</td>\n",
       "      <td>401674.466633</td>\n",
       "      <td>60</td>\n",
       "      <td>среднее</td>\n",
       "      <td>1</td>\n",
       "      <td>женат / замужем</td>\n",
       "      <td>0</td>\n",
       "      <td>M</td>\n",
       "      <td>пенсионер</td>\n",
       "      <td>0</td>\n",
       "      <td>325395.724541</td>\n",
       "      <td>автомобили</td>\n",
       "      <td>-1040.5</td>\n",
       "    </tr>\n",
       "    <tr>\n",
       "      <th>7664</th>\n",
       "      <td>1</td>\n",
       "      <td>401675.093434</td>\n",
       "      <td>61</td>\n",
       "      <td>среднее</td>\n",
       "      <td>1</td>\n",
       "      <td>женат / замужем</td>\n",
       "      <td>0</td>\n",
       "      <td>F</td>\n",
       "      <td>пенсионер</td>\n",
       "      <td>0</td>\n",
       "      <td>126214.519212</td>\n",
       "      <td>операции с жильем</td>\n",
       "      <td>-1039.5</td>\n",
       "    </tr>\n",
       "    <tr>\n",
       "      <th>10006</th>\n",
       "      <td>0</td>\n",
       "      <td>401715.811749</td>\n",
       "      <td>69</td>\n",
       "      <td>высшее</td>\n",
       "      <td>0</td>\n",
       "      <td>Не женат / не замужем</td>\n",
       "      <td>4</td>\n",
       "      <td>F</td>\n",
       "      <td>пенсионер</td>\n",
       "      <td>0</td>\n",
       "      <td>57390.256908</td>\n",
       "      <td>получение образования</td>\n",
       "      <td>-1031.6</td>\n",
       "    </tr>\n",
       "    <tr>\n",
       "      <th>6954</th>\n",
       "      <td>0</td>\n",
       "      <td>401755.400475</td>\n",
       "      <td>56</td>\n",
       "      <td>среднее</td>\n",
       "      <td>1</td>\n",
       "      <td>вдовец / вдова</td>\n",
       "      <td>2</td>\n",
       "      <td>F</td>\n",
       "      <td>пенсионер</td>\n",
       "      <td>0</td>\n",
       "      <td>176278.441171</td>\n",
       "      <td>ремонт жилью</td>\n",
       "      <td>-1044.7</td>\n",
       "    </tr>\n",
       "  </tbody>\n",
       "</table>\n",
       "<p>3519 rows × 13 columns</p>\n",
       "</div>"
      ],
      "text/plain": [
       "       children  days_employed  dob_years            education  education_id  \\\n",
       "21179         2     108.967042          0               высшее             0   \n",
       "6071          1     162.936952          0              среднее             1   \n",
       "16042         2     176.404487          0              среднее             1   \n",
       "11990         1     202.600508          0              СРЕДНЕЕ             1   \n",
       "11289         1     223.709545          0  неоконченное высшее             2   \n",
       "...         ...            ...        ...                  ...           ...   \n",
       "7794          0  401663.850046         61              среднее             1   \n",
       "2156          0  401674.466633         60              среднее             1   \n",
       "7664          1  401675.093434         61              среднее             1   \n",
       "10006         0  401715.811749         69               высшее             0   \n",
       "6954          0  401755.400475         56              среднее             1   \n",
       "\n",
       "               family_status  family_status_id gender income_type  debt  \\\n",
       "21179        женат / замужем                 0      M   компаньон     0   \n",
       "6071        гражданский брак                 1      F   сотрудник     0   \n",
       "16042        женат / замужем                 0      F   сотрудник     0   \n",
       "11990        женат / замужем                 0      F   компаньон     1   \n",
       "11289       гражданский брак                 1      M   сотрудник     0   \n",
       "...                      ...               ...    ...         ...   ...   \n",
       "7794        гражданский брак                 1      F   пенсионер     0   \n",
       "2156         женат / замужем                 0      M   пенсионер     0   \n",
       "7664         женат / замужем                 0      F   пенсионер     0   \n",
       "10006  Не женат / не замужем                 4      F   пенсионер     0   \n",
       "6954          вдовец / вдова                 2      F   пенсионер     0   \n",
       "\n",
       "        total_income                           purpose  age_started_working  \n",
       "21179  240702.007382  строительство жилой недвижимости                 -0.3  \n",
       "6071   106956.800302             на покупку автомобиля                 -0.4  \n",
       "16042  137563.630693                             жилье                 -0.5  \n",
       "11990  167889.299943             на покупку автомобиля                 -0.6  \n",
       "11289  256070.541695                   сыграть свадьбу                 -0.6  \n",
       "...              ...                               ...                  ...  \n",
       "7794    48286.441362                           свадьба              -1039.4  \n",
       "2156   325395.724541                        автомобили              -1040.5  \n",
       "7664   126214.519212                 операции с жильем              -1039.5  \n",
       "10006   57390.256908             получение образования              -1031.6  \n",
       "6954   176278.441171                      ремонт жилью              -1044.7  \n",
       "\n",
       "[3519 rows x 13 columns]"
      ]
     },
     "execution_count": 13,
     "metadata": {},
     "output_type": "execute_result"
    }
   ],
   "source": [
    "data[data['age_started_working'] < 0].sort_values(by='days_employed')"
   ]
  },
  {
   "cell_type": "markdown",
   "metadata": {},
   "source": [
    "В датасете присутствуют данные о заемщиках без указанного возраста, что смазывает картину. Исключим такие строки:"
   ]
  },
  {
   "cell_type": "code",
   "execution_count": 14,
   "metadata": {},
   "outputs": [
    {
     "data": {
      "text/html": [
       "<div>\n",
       "<style scoped>\n",
       "    .dataframe tbody tr th:only-of-type {\n",
       "        vertical-align: middle;\n",
       "    }\n",
       "\n",
       "    .dataframe tbody tr th {\n",
       "        vertical-align: top;\n",
       "    }\n",
       "\n",
       "    .dataframe thead th {\n",
       "        text-align: right;\n",
       "    }\n",
       "</style>\n",
       "<table border=\"1\" class=\"dataframe\">\n",
       "  <thead>\n",
       "    <tr style=\"text-align: right;\">\n",
       "      <th></th>\n",
       "      <th>children</th>\n",
       "      <th>days_employed</th>\n",
       "      <th>dob_years</th>\n",
       "      <th>education</th>\n",
       "      <th>education_id</th>\n",
       "      <th>family_status</th>\n",
       "      <th>family_status_id</th>\n",
       "      <th>gender</th>\n",
       "      <th>income_type</th>\n",
       "      <th>debt</th>\n",
       "      <th>total_income</th>\n",
       "      <th>purpose</th>\n",
       "      <th>age_started_working</th>\n",
       "    </tr>\n",
       "  </thead>\n",
       "  <tbody>\n",
       "    <tr>\n",
       "      <th>20444</th>\n",
       "      <td>0</td>\n",
       "      <td>328728.720605</td>\n",
       "      <td>72</td>\n",
       "      <td>среднее</td>\n",
       "      <td>1</td>\n",
       "      <td>вдовец / вдова</td>\n",
       "      <td>2</td>\n",
       "      <td>F</td>\n",
       "      <td>пенсионер</td>\n",
       "      <td>0</td>\n",
       "      <td>96519.339647</td>\n",
       "      <td>покупка жилья для семьи</td>\n",
       "      <td>-828.6</td>\n",
       "    </tr>\n",
       "    <tr>\n",
       "      <th>9328</th>\n",
       "      <td>2</td>\n",
       "      <td>328734.923996</td>\n",
       "      <td>41</td>\n",
       "      <td>высшее</td>\n",
       "      <td>0</td>\n",
       "      <td>женат / замужем</td>\n",
       "      <td>0</td>\n",
       "      <td>M</td>\n",
       "      <td>пенсионер</td>\n",
       "      <td>0</td>\n",
       "      <td>126997.497760</td>\n",
       "      <td>операции со своей недвижимостью</td>\n",
       "      <td>-859.6</td>\n",
       "    </tr>\n",
       "    <tr>\n",
       "      <th>17782</th>\n",
       "      <td>0</td>\n",
       "      <td>328771.341387</td>\n",
       "      <td>56</td>\n",
       "      <td>среднее</td>\n",
       "      <td>1</td>\n",
       "      <td>женат / замужем</td>\n",
       "      <td>0</td>\n",
       "      <td>F</td>\n",
       "      <td>пенсионер</td>\n",
       "      <td>0</td>\n",
       "      <td>68648.047062</td>\n",
       "      <td>операции с коммерческой недвижимостью</td>\n",
       "      <td>-844.7</td>\n",
       "    </tr>\n",
       "    <tr>\n",
       "      <th>14783</th>\n",
       "      <td>0</td>\n",
       "      <td>328795.726728</td>\n",
       "      <td>62</td>\n",
       "      <td>высшее</td>\n",
       "      <td>0</td>\n",
       "      <td>женат / замужем</td>\n",
       "      <td>0</td>\n",
       "      <td>F</td>\n",
       "      <td>пенсионер</td>\n",
       "      <td>0</td>\n",
       "      <td>79940.196752</td>\n",
       "      <td>на покупку своего автомобиля</td>\n",
       "      <td>-838.8</td>\n",
       "    </tr>\n",
       "    <tr>\n",
       "      <th>7229</th>\n",
       "      <td>1</td>\n",
       "      <td>328827.345667</td>\n",
       "      <td>32</td>\n",
       "      <td>среднее</td>\n",
       "      <td>1</td>\n",
       "      <td>гражданский брак</td>\n",
       "      <td>1</td>\n",
       "      <td>F</td>\n",
       "      <td>пенсионер</td>\n",
       "      <td>0</td>\n",
       "      <td>122162.965695</td>\n",
       "      <td>сыграть свадьбу</td>\n",
       "      <td>-868.9</td>\n",
       "    </tr>\n",
       "    <tr>\n",
       "      <th>...</th>\n",
       "      <td>...</td>\n",
       "      <td>...</td>\n",
       "      <td>...</td>\n",
       "      <td>...</td>\n",
       "      <td>...</td>\n",
       "      <td>...</td>\n",
       "      <td>...</td>\n",
       "      <td>...</td>\n",
       "      <td>...</td>\n",
       "      <td>...</td>\n",
       "      <td>...</td>\n",
       "      <td>...</td>\n",
       "      <td>...</td>\n",
       "    </tr>\n",
       "    <tr>\n",
       "      <th>7794</th>\n",
       "      <td>0</td>\n",
       "      <td>401663.850046</td>\n",
       "      <td>61</td>\n",
       "      <td>среднее</td>\n",
       "      <td>1</td>\n",
       "      <td>гражданский брак</td>\n",
       "      <td>1</td>\n",
       "      <td>F</td>\n",
       "      <td>пенсионер</td>\n",
       "      <td>0</td>\n",
       "      <td>48286.441362</td>\n",
       "      <td>свадьба</td>\n",
       "      <td>-1039.4</td>\n",
       "    </tr>\n",
       "    <tr>\n",
       "      <th>2156</th>\n",
       "      <td>0</td>\n",
       "      <td>401674.466633</td>\n",
       "      <td>60</td>\n",
       "      <td>среднее</td>\n",
       "      <td>1</td>\n",
       "      <td>женат / замужем</td>\n",
       "      <td>0</td>\n",
       "      <td>M</td>\n",
       "      <td>пенсионер</td>\n",
       "      <td>0</td>\n",
       "      <td>325395.724541</td>\n",
       "      <td>автомобили</td>\n",
       "      <td>-1040.5</td>\n",
       "    </tr>\n",
       "    <tr>\n",
       "      <th>7664</th>\n",
       "      <td>1</td>\n",
       "      <td>401675.093434</td>\n",
       "      <td>61</td>\n",
       "      <td>среднее</td>\n",
       "      <td>1</td>\n",
       "      <td>женат / замужем</td>\n",
       "      <td>0</td>\n",
       "      <td>F</td>\n",
       "      <td>пенсионер</td>\n",
       "      <td>0</td>\n",
       "      <td>126214.519212</td>\n",
       "      <td>операции с жильем</td>\n",
       "      <td>-1039.5</td>\n",
       "    </tr>\n",
       "    <tr>\n",
       "      <th>10006</th>\n",
       "      <td>0</td>\n",
       "      <td>401715.811749</td>\n",
       "      <td>69</td>\n",
       "      <td>высшее</td>\n",
       "      <td>0</td>\n",
       "      <td>Не женат / не замужем</td>\n",
       "      <td>4</td>\n",
       "      <td>F</td>\n",
       "      <td>пенсионер</td>\n",
       "      <td>0</td>\n",
       "      <td>57390.256908</td>\n",
       "      <td>получение образования</td>\n",
       "      <td>-1031.6</td>\n",
       "    </tr>\n",
       "    <tr>\n",
       "      <th>6954</th>\n",
       "      <td>0</td>\n",
       "      <td>401755.400475</td>\n",
       "      <td>56</td>\n",
       "      <td>среднее</td>\n",
       "      <td>1</td>\n",
       "      <td>вдовец / вдова</td>\n",
       "      <td>2</td>\n",
       "      <td>F</td>\n",
       "      <td>пенсионер</td>\n",
       "      <td>0</td>\n",
       "      <td>176278.441171</td>\n",
       "      <td>ремонт жилью</td>\n",
       "      <td>-1044.7</td>\n",
       "    </tr>\n",
       "  </tbody>\n",
       "</table>\n",
       "<p>3428 rows × 13 columns</p>\n",
       "</div>"
      ],
      "text/plain": [
       "       children  days_employed  dob_years education  education_id  \\\n",
       "20444         0  328728.720605         72   среднее             1   \n",
       "9328          2  328734.923996         41    высшее             0   \n",
       "17782         0  328771.341387         56   среднее             1   \n",
       "14783         0  328795.726728         62    высшее             0   \n",
       "7229          1  328827.345667         32   среднее             1   \n",
       "...         ...            ...        ...       ...           ...   \n",
       "7794          0  401663.850046         61   среднее             1   \n",
       "2156          0  401674.466633         60   среднее             1   \n",
       "7664          1  401675.093434         61   среднее             1   \n",
       "10006         0  401715.811749         69    высшее             0   \n",
       "6954          0  401755.400475         56   среднее             1   \n",
       "\n",
       "               family_status  family_status_id gender income_type  debt  \\\n",
       "20444         вдовец / вдова                 2      F   пенсионер     0   \n",
       "9328         женат / замужем                 0      M   пенсионер     0   \n",
       "17782        женат / замужем                 0      F   пенсионер     0   \n",
       "14783        женат / замужем                 0      F   пенсионер     0   \n",
       "7229        гражданский брак                 1      F   пенсионер     0   \n",
       "...                      ...               ...    ...         ...   ...   \n",
       "7794        гражданский брак                 1      F   пенсионер     0   \n",
       "2156         женат / замужем                 0      M   пенсионер     0   \n",
       "7664         женат / замужем                 0      F   пенсионер     0   \n",
       "10006  Не женат / не замужем                 4      F   пенсионер     0   \n",
       "6954          вдовец / вдова                 2      F   пенсионер     0   \n",
       "\n",
       "        total_income                                purpose  \\\n",
       "20444   96519.339647                покупка жилья для семьи   \n",
       "9328   126997.497760        операции со своей недвижимостью   \n",
       "17782   68648.047062  операции с коммерческой недвижимостью   \n",
       "14783   79940.196752           на покупку своего автомобиля   \n",
       "7229   122162.965695                        сыграть свадьбу   \n",
       "...              ...                                    ...   \n",
       "7794    48286.441362                                свадьба   \n",
       "2156   325395.724541                             автомобили   \n",
       "7664   126214.519212                      операции с жильем   \n",
       "10006   57390.256908                  получение образования   \n",
       "6954   176278.441171                           ремонт жилью   \n",
       "\n",
       "       age_started_working  \n",
       "20444               -828.6  \n",
       "9328                -859.6  \n",
       "17782               -844.7  \n",
       "14783               -838.8  \n",
       "7229                -868.9  \n",
       "...                    ...  \n",
       "7794               -1039.4  \n",
       "2156               -1040.5  \n",
       "7664               -1039.5  \n",
       "10006              -1031.6  \n",
       "6954               -1044.7  \n",
       "\n",
       "[3428 rows x 13 columns]"
      ]
     },
     "execution_count": 14,
     "metadata": {},
     "output_type": "execute_result"
    }
   ],
   "source": [
    "data[(data['dob_years'] != 0) & (data['age_started_working'] < 0)].sort_values(by='days_employed')"
   ]
  },
  {
   "cell_type": "markdown",
   "metadata": {},
   "source": [
    "Предположим, что максимально возможный трудовой стаж - 60 лет, что равно 21900 дню. Любые значения выше этой планки мы можем обработать в соответствии с определенной логикой - значения в таблице выглядят завышенными на два порядка, что мы исправим:"
   ]
  },
  {
   "cell_type": "code",
   "execution_count": 15,
   "metadata": {},
   "outputs": [
    {
     "name": "stdout",
     "output_type": "stream",
     "text": [
      "Количество записей, соответствующих условия из приведенной выше таблицы: 0\n"
     ]
    }
   ],
   "source": [
    "data['days_employed'] = data['days_employed'].apply(lambda x: x / 100 if x > (60*365) else x)\n",
    "#и снова пересчитаем возраст начала трудовой деятельности\n",
    "data['age_started_working'] = data['days_employed'].apply(lambda x: x / 365)\n",
    "print('Количество записей, соответствующих условия из приведенной выше таблицы:', len(data[(data['dob_years'] != 0) & (data['age_started_working'] < 0)].sort_values(by='days_employed')))\n",
    "del data['age_started_working']"
   ]
  },
  {
   "cell_type": "code",
   "execution_count": 16,
   "metadata": {},
   "outputs": [],
   "source": [
    "#добавим в сет дополнительный срез для аналитики - общее количество трудового стажа\n",
    "data['yrs_employed'] = round(data['days_employed'] / 365, 1)"
   ]
  },
  {
   "cell_type": "markdown",
   "metadata": {},
   "source": [
    "А теперь проверим, стыкуется ли количество стажа с указанным возрастом:"
   ]
  },
  {
   "cell_type": "code",
   "execution_count": 17,
   "metadata": {},
   "outputs": [
    {
     "data": {
      "text/html": [
       "<div>\n",
       "<style scoped>\n",
       "    .dataframe tbody tr th:only-of-type {\n",
       "        vertical-align: middle;\n",
       "    }\n",
       "\n",
       "    .dataframe tbody tr th {\n",
       "        vertical-align: top;\n",
       "    }\n",
       "\n",
       "    .dataframe thead th {\n",
       "        text-align: right;\n",
       "    }\n",
       "</style>\n",
       "<table border=\"1\" class=\"dataframe\">\n",
       "  <thead>\n",
       "    <tr style=\"text-align: right;\">\n",
       "      <th></th>\n",
       "      <th>children</th>\n",
       "      <th>days_employed</th>\n",
       "      <th>dob_years</th>\n",
       "      <th>education</th>\n",
       "      <th>education_id</th>\n",
       "      <th>family_status</th>\n",
       "      <th>family_status_id</th>\n",
       "      <th>gender</th>\n",
       "      <th>income_type</th>\n",
       "      <th>debt</th>\n",
       "      <th>total_income</th>\n",
       "      <th>purpose</th>\n",
       "      <th>yrs_employed</th>\n",
       "      <th>started_working</th>\n",
       "    </tr>\n",
       "  </thead>\n",
       "  <tbody>\n",
       "    <tr>\n",
       "      <th>16335</th>\n",
       "      <td>1</td>\n",
       "      <td>18388.949901</td>\n",
       "      <td>61</td>\n",
       "      <td>среднее</td>\n",
       "      <td>1</td>\n",
       "      <td>женат / замужем</td>\n",
       "      <td>0</td>\n",
       "      <td>F</td>\n",
       "      <td>сотрудник</td>\n",
       "      <td>0</td>\n",
       "      <td>186178.934089</td>\n",
       "      <td>операции с недвижимостью</td>\n",
       "      <td>50.4</td>\n",
       "      <td>10.6</td>\n",
       "    </tr>\n",
       "    <tr>\n",
       "      <th>5708</th>\n",
       "      <td>0</td>\n",
       "      <td>13210.485012</td>\n",
       "      <td>47</td>\n",
       "      <td>среднее</td>\n",
       "      <td>1</td>\n",
       "      <td>женат / замужем</td>\n",
       "      <td>0</td>\n",
       "      <td>F</td>\n",
       "      <td>сотрудник</td>\n",
       "      <td>0</td>\n",
       "      <td>144845.875361</td>\n",
       "      <td>покупка недвижимости</td>\n",
       "      <td>36.2</td>\n",
       "      <td>10.8</td>\n",
       "    </tr>\n",
       "    <tr>\n",
       "      <th>397</th>\n",
       "      <td>0</td>\n",
       "      <td>12506.318296</td>\n",
       "      <td>46</td>\n",
       "      <td>среднее</td>\n",
       "      <td>1</td>\n",
       "      <td>женат / замужем</td>\n",
       "      <td>0</td>\n",
       "      <td>F</td>\n",
       "      <td>сотрудник</td>\n",
       "      <td>0</td>\n",
       "      <td>292843.287967</td>\n",
       "      <td>недвижимость</td>\n",
       "      <td>34.3</td>\n",
       "      <td>11.7</td>\n",
       "    </tr>\n",
       "    <tr>\n",
       "      <th>5959</th>\n",
       "      <td>0</td>\n",
       "      <td>10939.299825</td>\n",
       "      <td>42</td>\n",
       "      <td>среднее</td>\n",
       "      <td>1</td>\n",
       "      <td>женат / замужем</td>\n",
       "      <td>0</td>\n",
       "      <td>F</td>\n",
       "      <td>сотрудник</td>\n",
       "      <td>0</td>\n",
       "      <td>74840.802028</td>\n",
       "      <td>автомобиль</td>\n",
       "      <td>30.0</td>\n",
       "      <td>12.0</td>\n",
       "    </tr>\n",
       "    <tr>\n",
       "      <th>13531</th>\n",
       "      <td>0</td>\n",
       "      <td>9762.839918</td>\n",
       "      <td>39</td>\n",
       "      <td>среднее</td>\n",
       "      <td>1</td>\n",
       "      <td>женат / замужем</td>\n",
       "      <td>0</td>\n",
       "      <td>F</td>\n",
       "      <td>сотрудник</td>\n",
       "      <td>0</td>\n",
       "      <td>129855.627483</td>\n",
       "      <td>операции с коммерческой недвижимостью</td>\n",
       "      <td>26.7</td>\n",
       "      <td>12.3</td>\n",
       "    </tr>\n",
       "    <tr>\n",
       "      <th>...</th>\n",
       "      <td>...</td>\n",
       "      <td>...</td>\n",
       "      <td>...</td>\n",
       "      <td>...</td>\n",
       "      <td>...</td>\n",
       "      <td>...</td>\n",
       "      <td>...</td>\n",
       "      <td>...</td>\n",
       "      <td>...</td>\n",
       "      <td>...</td>\n",
       "      <td>...</td>\n",
       "      <td>...</td>\n",
       "      <td>...</td>\n",
       "      <td>...</td>\n",
       "    </tr>\n",
       "    <tr>\n",
       "      <th>11548</th>\n",
       "      <td>0</td>\n",
       "      <td>0.000000</td>\n",
       "      <td>71</td>\n",
       "      <td>среднее</td>\n",
       "      <td>1</td>\n",
       "      <td>женат / замужем</td>\n",
       "      <td>0</td>\n",
       "      <td>M</td>\n",
       "      <td>пенсионер</td>\n",
       "      <td>0</td>\n",
       "      <td>0.000000</td>\n",
       "      <td>покупка жилой недвижимости</td>\n",
       "      <td>0.0</td>\n",
       "      <td>71.0</td>\n",
       "    </tr>\n",
       "    <tr>\n",
       "      <th>6537</th>\n",
       "      <td>0</td>\n",
       "      <td>0.000000</td>\n",
       "      <td>71</td>\n",
       "      <td>Среднее</td>\n",
       "      <td>1</td>\n",
       "      <td>гражданский брак</td>\n",
       "      <td>1</td>\n",
       "      <td>F</td>\n",
       "      <td>пенсионер</td>\n",
       "      <td>0</td>\n",
       "      <td>0.000000</td>\n",
       "      <td>на проведение свадьбы</td>\n",
       "      <td>0.0</td>\n",
       "      <td>71.0</td>\n",
       "    </tr>\n",
       "    <tr>\n",
       "      <th>10563</th>\n",
       "      <td>0</td>\n",
       "      <td>0.000000</td>\n",
       "      <td>72</td>\n",
       "      <td>Среднее</td>\n",
       "      <td>1</td>\n",
       "      <td>Не женат / не замужем</td>\n",
       "      <td>4</td>\n",
       "      <td>F</td>\n",
       "      <td>пенсионер</td>\n",
       "      <td>1</td>\n",
       "      <td>0.000000</td>\n",
       "      <td>приобретение автомобиля</td>\n",
       "      <td>0.0</td>\n",
       "      <td>72.0</td>\n",
       "    </tr>\n",
       "    <tr>\n",
       "      <th>13864</th>\n",
       "      <td>0</td>\n",
       "      <td>0.000000</td>\n",
       "      <td>72</td>\n",
       "      <td>среднее</td>\n",
       "      <td>1</td>\n",
       "      <td>женат / замужем</td>\n",
       "      <td>0</td>\n",
       "      <td>F</td>\n",
       "      <td>компаньон</td>\n",
       "      <td>0</td>\n",
       "      <td>0.000000</td>\n",
       "      <td>сделка с автомобилем</td>\n",
       "      <td>0.0</td>\n",
       "      <td>72.0</td>\n",
       "    </tr>\n",
       "    <tr>\n",
       "      <th>18664</th>\n",
       "      <td>1</td>\n",
       "      <td>0.000000</td>\n",
       "      <td>73</td>\n",
       "      <td>среднее</td>\n",
       "      <td>1</td>\n",
       "      <td>женат / замужем</td>\n",
       "      <td>0</td>\n",
       "      <td>F</td>\n",
       "      <td>пенсионер</td>\n",
       "      <td>0</td>\n",
       "      <td>0.000000</td>\n",
       "      <td>дополнительное образование</td>\n",
       "      <td>0.0</td>\n",
       "      <td>73.0</td>\n",
       "    </tr>\n",
       "  </tbody>\n",
       "</table>\n",
       "<p>21424 rows × 14 columns</p>\n",
       "</div>"
      ],
      "text/plain": [
       "       children  days_employed  dob_years education  education_id  \\\n",
       "16335         1   18388.949901         61   среднее             1   \n",
       "5708          0   13210.485012         47   среднее             1   \n",
       "397           0   12506.318296         46   среднее             1   \n",
       "5959          0   10939.299825         42   среднее             1   \n",
       "13531         0    9762.839918         39   среднее             1   \n",
       "...         ...            ...        ...       ...           ...   \n",
       "11548         0       0.000000         71   среднее             1   \n",
       "6537          0       0.000000         71   Среднее             1   \n",
       "10563         0       0.000000         72   Среднее             1   \n",
       "13864         0       0.000000         72   среднее             1   \n",
       "18664         1       0.000000         73   среднее             1   \n",
       "\n",
       "               family_status  family_status_id gender income_type  debt  \\\n",
       "16335        женат / замужем                 0      F   сотрудник     0   \n",
       "5708         женат / замужем                 0      F   сотрудник     0   \n",
       "397          женат / замужем                 0      F   сотрудник     0   \n",
       "5959         женат / замужем                 0      F   сотрудник     0   \n",
       "13531        женат / замужем                 0      F   сотрудник     0   \n",
       "...                      ...               ...    ...         ...   ...   \n",
       "11548        женат / замужем                 0      M   пенсионер     0   \n",
       "6537        гражданский брак                 1      F   пенсионер     0   \n",
       "10563  Не женат / не замужем                 4      F   пенсионер     1   \n",
       "13864        женат / замужем                 0      F   компаньон     0   \n",
       "18664        женат / замужем                 0      F   пенсионер     0   \n",
       "\n",
       "        total_income                                purpose  yrs_employed  \\\n",
       "16335  186178.934089               операции с недвижимостью          50.4   \n",
       "5708   144845.875361                   покупка недвижимости          36.2   \n",
       "397    292843.287967                           недвижимость          34.3   \n",
       "5959    74840.802028                             автомобиль          30.0   \n",
       "13531  129855.627483  операции с коммерческой недвижимостью          26.7   \n",
       "...              ...                                    ...           ...   \n",
       "11548       0.000000             покупка жилой недвижимости           0.0   \n",
       "6537        0.000000                  на проведение свадьбы           0.0   \n",
       "10563       0.000000                приобретение автомобиля           0.0   \n",
       "13864       0.000000                   сделка с автомобилем           0.0   \n",
       "18664       0.000000             дополнительное образование           0.0   \n",
       "\n",
       "       started_working  \n",
       "16335             10.6  \n",
       "5708              10.8  \n",
       "397               11.7  \n",
       "5959              12.0  \n",
       "13531             12.3  \n",
       "...                ...  \n",
       "11548             71.0  \n",
       "6537              71.0  \n",
       "10563             72.0  \n",
       "13864             72.0  \n",
       "18664             73.0  \n",
       "\n",
       "[21424 rows x 14 columns]"
      ]
     },
     "execution_count": 17,
     "metadata": {},
     "output_type": "execute_result"
    }
   ],
   "source": [
    "data['started_working'] = data['dob_years'] - data['yrs_employed']\n",
    "data[data['dob_years'] != 0].sort_values(by='started_working')"
   ]
  },
  {
   "cell_type": "markdown",
   "metadata": {},
   "source": [
    "Наблюдаем странные значения (начало трудовой деятельности в 10-11 лет). Вероятно, такие данные не заслуживают полного доверия и следовало бы уточнить их происхождение у поставщика в реальных условиях, но так как мы такой возможностью не располагаем, такие значения можно будет не использовать впоследствии - по закону граждане могут начинать трудовую деятельность с 16 лет, поэтому посчитаем количество заемщиков с меньшим указанным возрастом:"
   ]
  },
  {
   "cell_type": "code",
   "execution_count": 18,
   "metadata": {},
   "outputs": [
    {
     "name": "stdout",
     "output_type": "stream",
     "text": [
      "Количество потенциальных заемщиков, начавших трудовую деятельность ранее 16 лет: 191\n"
     ]
    }
   ],
   "source": [
    "#data[(data['dob_years'] != 0) & (data['started_working'] >= 16)].sort_values(by='started_working')\n",
    "print('Количество потенциальных заемщиков, начавших трудовую деятельность ранее 16 лет:', len(data[data['started_working'] < 16]))"
   ]
  },
  {
   "cell_type": "code",
   "execution_count": 19,
   "metadata": {},
   "outputs": [],
   "source": [
    "#оставим в датасете только заслуживающие доверия записи\n",
    "data = data[data['started_working'] >= 16].reset_index(drop=True)"
   ]
  },
  {
   "cell_type": "markdown",
   "metadata": {},
   "source": [
    "Для заполнения пропусков в уровне дохода используем медианный уровень дохода группы, состоящей из нескольких признаков:\n",
    "1. income_type\n",
    "2. dob_years\n",
    "3. education\n",
    "\n",
    "Для этого потребуется:\n",
    "1. Проверить значения в соответствующих столбцах и нормализовать их при необходимости\n",
    "2. Сформировать категории по возрасту"
   ]
  },
  {
   "cell_type": "code",
   "execution_count": 20,
   "metadata": {},
   "outputs": [
    {
     "data": {
      "text/html": [
       "<div>\n",
       "<style scoped>\n",
       "    .dataframe tbody tr th:only-of-type {\n",
       "        vertical-align: middle;\n",
       "    }\n",
       "\n",
       "    .dataframe tbody tr th {\n",
       "        vertical-align: top;\n",
       "    }\n",
       "\n",
       "    .dataframe thead th {\n",
       "        text-align: right;\n",
       "    }\n",
       "</style>\n",
       "<table border=\"1\" class=\"dataframe\">\n",
       "  <thead>\n",
       "    <tr style=\"text-align: right;\">\n",
       "      <th></th>\n",
       "      <th>children</th>\n",
       "      <th>days_employed</th>\n",
       "      <th>dob_years</th>\n",
       "      <th>education</th>\n",
       "      <th>education_id</th>\n",
       "      <th>family_status</th>\n",
       "      <th>family_status_id</th>\n",
       "      <th>gender</th>\n",
       "      <th>income_type</th>\n",
       "      <th>debt</th>\n",
       "      <th>total_income</th>\n",
       "      <th>purpose</th>\n",
       "      <th>yrs_employed</th>\n",
       "      <th>started_working</th>\n",
       "    </tr>\n",
       "  </thead>\n",
       "  <tbody>\n",
       "    <tr>\n",
       "      <th>0</th>\n",
       "      <td>1</td>\n",
       "      <td>8437.673028</td>\n",
       "      <td>42</td>\n",
       "      <td>высшее</td>\n",
       "      <td>0</td>\n",
       "      <td>женат / замужем</td>\n",
       "      <td>0</td>\n",
       "      <td>F</td>\n",
       "      <td>сотрудник</td>\n",
       "      <td>0</td>\n",
       "      <td>253875.639453</td>\n",
       "      <td>покупка жилья</td>\n",
       "      <td>23.1</td>\n",
       "      <td>18.9</td>\n",
       "    </tr>\n",
       "    <tr>\n",
       "      <th>1</th>\n",
       "      <td>1</td>\n",
       "      <td>4024.803754</td>\n",
       "      <td>36</td>\n",
       "      <td>среднее</td>\n",
       "      <td>1</td>\n",
       "      <td>женат / замужем</td>\n",
       "      <td>0</td>\n",
       "      <td>F</td>\n",
       "      <td>сотрудник</td>\n",
       "      <td>0</td>\n",
       "      <td>112080.014102</td>\n",
       "      <td>приобретение автомобиля</td>\n",
       "      <td>11.0</td>\n",
       "      <td>25.0</td>\n",
       "    </tr>\n",
       "    <tr>\n",
       "      <th>2</th>\n",
       "      <td>0</td>\n",
       "      <td>5623.422610</td>\n",
       "      <td>33</td>\n",
       "      <td>Среднее</td>\n",
       "      <td>1</td>\n",
       "      <td>женат / замужем</td>\n",
       "      <td>0</td>\n",
       "      <td>M</td>\n",
       "      <td>сотрудник</td>\n",
       "      <td>0</td>\n",
       "      <td>145885.952297</td>\n",
       "      <td>покупка жилья</td>\n",
       "      <td>15.4</td>\n",
       "      <td>17.6</td>\n",
       "    </tr>\n",
       "    <tr>\n",
       "      <th>3</th>\n",
       "      <td>3</td>\n",
       "      <td>4124.747207</td>\n",
       "      <td>32</td>\n",
       "      <td>среднее</td>\n",
       "      <td>1</td>\n",
       "      <td>женат / замужем</td>\n",
       "      <td>0</td>\n",
       "      <td>M</td>\n",
       "      <td>сотрудник</td>\n",
       "      <td>0</td>\n",
       "      <td>267628.550329</td>\n",
       "      <td>дополнительное образование</td>\n",
       "      <td>11.3</td>\n",
       "      <td>20.7</td>\n",
       "    </tr>\n",
       "    <tr>\n",
       "      <th>4</th>\n",
       "      <td>0</td>\n",
       "      <td>3402.660720</td>\n",
       "      <td>53</td>\n",
       "      <td>среднее</td>\n",
       "      <td>1</td>\n",
       "      <td>гражданский брак</td>\n",
       "      <td>1</td>\n",
       "      <td>F</td>\n",
       "      <td>пенсионер</td>\n",
       "      <td>0</td>\n",
       "      <td>158616.077870</td>\n",
       "      <td>сыграть свадьбу</td>\n",
       "      <td>9.3</td>\n",
       "      <td>43.7</td>\n",
       "    </tr>\n",
       "  </tbody>\n",
       "</table>\n",
       "</div>"
      ],
      "text/plain": [
       "   children  days_employed  dob_years education  education_id  \\\n",
       "0         1    8437.673028         42    высшее             0   \n",
       "1         1    4024.803754         36   среднее             1   \n",
       "2         0    5623.422610         33   Среднее             1   \n",
       "3         3    4124.747207         32   среднее             1   \n",
       "4         0    3402.660720         53   среднее             1   \n",
       "\n",
       "      family_status  family_status_id gender income_type  debt   total_income  \\\n",
       "0   женат / замужем                 0      F   сотрудник     0  253875.639453   \n",
       "1   женат / замужем                 0      F   сотрудник     0  112080.014102   \n",
       "2   женат / замужем                 0      M   сотрудник     0  145885.952297   \n",
       "3   женат / замужем                 0      M   сотрудник     0  267628.550329   \n",
       "4  гражданский брак                 1      F   пенсионер     0  158616.077870   \n",
       "\n",
       "                      purpose  yrs_employed  started_working  \n",
       "0               покупка жилья          23.1             18.9  \n",
       "1     приобретение автомобиля          11.0             25.0  \n",
       "2               покупка жилья          15.4             17.6  \n",
       "3  дополнительное образование          11.3             20.7  \n",
       "4             сыграть свадьбу           9.3             43.7  "
      ]
     },
     "execution_count": 20,
     "metadata": {},
     "output_type": "execute_result"
    }
   ],
   "source": [
    "data.head()"
   ]
  },
  {
   "cell_type": "markdown",
   "metadata": {},
   "source": [
    "Наблюдаем разный регистр написания уровня образования, что фактически является дублями, но мы исправим это сейчас для корректного формирования групп и последующего расчета медианного дохода для заполнения пропусков."
   ]
  },
  {
   "cell_type": "code",
   "execution_count": 21,
   "metadata": {},
   "outputs": [
    {
     "data": {
      "text/plain": [
       "среднее                15100\n",
       "высшее                  5207\n",
       "неоконченное высшее      741\n",
       "начальное                280\n",
       "ученая степень             6\n",
       "Name: education, dtype: int64"
      ]
     },
     "execution_count": 21,
     "metadata": {},
     "output_type": "execute_result"
    }
   ],
   "source": [
    "data['education'] = data['education'].str.lower()\n",
    "data['education'].value_counts()"
   ]
  },
  {
   "cell_type": "markdown",
   "metadata": {},
   "source": [
    "Видим, что дублей в значениях нет. Также проверим тип дохода:"
   ]
  },
  {
   "cell_type": "code",
   "execution_count": 22,
   "metadata": {},
   "outputs": [
    {
     "data": {
      "text/plain": [
       "сотрудник          11000\n",
       "компаньон           5053\n",
       "пенсионер           3834\n",
       "госслужащий         1441\n",
       "предприниматель        2\n",
       "безработный            2\n",
       "студент                1\n",
       "в декрете              1\n",
       "Name: income_type, dtype: int64"
      ]
     },
     "execution_count": 22,
     "metadata": {},
     "output_type": "execute_result"
    }
   ],
   "source": [
    "data['income_type'].value_counts()"
   ]
  },
  {
   "cell_type": "markdown",
   "metadata": {},
   "source": [
    "При помощи функции классифицируем значения по возрастным группам:"
   ]
  },
  {
   "cell_type": "code",
   "execution_count": 23,
   "metadata": {},
   "outputs": [],
   "source": [
    "def age_classifier(row):\n",
    "    age = row['dob_years']\n",
    "    if age < 18:\n",
    "        row['age_group'] = 'несовершеннолетние'\n",
    "    elif 18 <= age <= 35:\n",
    "        row['age_group'] = 'молодежь'\n",
    "    elif 36 <= age <= 60:\n",
    "        row['age_group'] = 'зрелые люди'\n",
    "    elif age > 60 and row['gender'] == 'F':\n",
    "        row['age_group'] = 'пенсионеры'\n",
    "    elif age > 65 and row['gender'] == 'M':\n",
    "        row['age_group'] = 'пенсионеры'\n",
    "    else:\n",
    "        row['age_group'] = 'зрелые люди'\n",
    "    return row"
   ]
  },
  {
   "cell_type": "code",
   "execution_count": 24,
   "metadata": {},
   "outputs": [],
   "source": [
    "data['age_group'] = ''\n",
    "data = data.apply(age_classifier, axis=1)"
   ]
  },
  {
   "cell_type": "code",
   "execution_count": 25,
   "metadata": {},
   "outputs": [
    {
     "data": {
      "text/html": [
       "<div>\n",
       "<style scoped>\n",
       "    .dataframe tbody tr th:only-of-type {\n",
       "        vertical-align: middle;\n",
       "    }\n",
       "\n",
       "    .dataframe tbody tr th {\n",
       "        vertical-align: top;\n",
       "    }\n",
       "\n",
       "    .dataframe thead th {\n",
       "        text-align: right;\n",
       "    }\n",
       "</style>\n",
       "<table border=\"1\" class=\"dataframe\">\n",
       "  <thead>\n",
       "    <tr style=\"text-align: right;\">\n",
       "      <th></th>\n",
       "      <th>children</th>\n",
       "      <th>days_employed</th>\n",
       "      <th>dob_years</th>\n",
       "      <th>education</th>\n",
       "      <th>education_id</th>\n",
       "      <th>family_status</th>\n",
       "      <th>family_status_id</th>\n",
       "      <th>gender</th>\n",
       "      <th>income_type</th>\n",
       "      <th>debt</th>\n",
       "      <th>total_income</th>\n",
       "      <th>purpose</th>\n",
       "      <th>yrs_employed</th>\n",
       "      <th>started_working</th>\n",
       "      <th>age_group</th>\n",
       "    </tr>\n",
       "  </thead>\n",
       "  <tbody>\n",
       "    <tr>\n",
       "      <th>0</th>\n",
       "      <td>1</td>\n",
       "      <td>8437.673028</td>\n",
       "      <td>42</td>\n",
       "      <td>высшее</td>\n",
       "      <td>0</td>\n",
       "      <td>женат / замужем</td>\n",
       "      <td>0</td>\n",
       "      <td>F</td>\n",
       "      <td>сотрудник</td>\n",
       "      <td>0</td>\n",
       "      <td>253875.639453</td>\n",
       "      <td>покупка жилья</td>\n",
       "      <td>23.1</td>\n",
       "      <td>18.9</td>\n",
       "      <td>зрелые люди</td>\n",
       "    </tr>\n",
       "    <tr>\n",
       "      <th>1</th>\n",
       "      <td>1</td>\n",
       "      <td>4024.803754</td>\n",
       "      <td>36</td>\n",
       "      <td>среднее</td>\n",
       "      <td>1</td>\n",
       "      <td>женат / замужем</td>\n",
       "      <td>0</td>\n",
       "      <td>F</td>\n",
       "      <td>сотрудник</td>\n",
       "      <td>0</td>\n",
       "      <td>112080.014102</td>\n",
       "      <td>приобретение автомобиля</td>\n",
       "      <td>11.0</td>\n",
       "      <td>25.0</td>\n",
       "      <td>зрелые люди</td>\n",
       "    </tr>\n",
       "    <tr>\n",
       "      <th>2</th>\n",
       "      <td>0</td>\n",
       "      <td>5623.422610</td>\n",
       "      <td>33</td>\n",
       "      <td>среднее</td>\n",
       "      <td>1</td>\n",
       "      <td>женат / замужем</td>\n",
       "      <td>0</td>\n",
       "      <td>M</td>\n",
       "      <td>сотрудник</td>\n",
       "      <td>0</td>\n",
       "      <td>145885.952297</td>\n",
       "      <td>покупка жилья</td>\n",
       "      <td>15.4</td>\n",
       "      <td>17.6</td>\n",
       "      <td>молодежь</td>\n",
       "    </tr>\n",
       "    <tr>\n",
       "      <th>3</th>\n",
       "      <td>3</td>\n",
       "      <td>4124.747207</td>\n",
       "      <td>32</td>\n",
       "      <td>среднее</td>\n",
       "      <td>1</td>\n",
       "      <td>женат / замужем</td>\n",
       "      <td>0</td>\n",
       "      <td>M</td>\n",
       "      <td>сотрудник</td>\n",
       "      <td>0</td>\n",
       "      <td>267628.550329</td>\n",
       "      <td>дополнительное образование</td>\n",
       "      <td>11.3</td>\n",
       "      <td>20.7</td>\n",
       "      <td>молодежь</td>\n",
       "    </tr>\n",
       "    <tr>\n",
       "      <th>4</th>\n",
       "      <td>0</td>\n",
       "      <td>3402.660720</td>\n",
       "      <td>53</td>\n",
       "      <td>среднее</td>\n",
       "      <td>1</td>\n",
       "      <td>гражданский брак</td>\n",
       "      <td>1</td>\n",
       "      <td>F</td>\n",
       "      <td>пенсионер</td>\n",
       "      <td>0</td>\n",
       "      <td>158616.077870</td>\n",
       "      <td>сыграть свадьбу</td>\n",
       "      <td>9.3</td>\n",
       "      <td>43.7</td>\n",
       "      <td>зрелые люди</td>\n",
       "    </tr>\n",
       "  </tbody>\n",
       "</table>\n",
       "</div>"
      ],
      "text/plain": [
       "   children  days_employed  dob_years education  education_id  \\\n",
       "0         1    8437.673028         42    высшее             0   \n",
       "1         1    4024.803754         36   среднее             1   \n",
       "2         0    5623.422610         33   среднее             1   \n",
       "3         3    4124.747207         32   среднее             1   \n",
       "4         0    3402.660720         53   среднее             1   \n",
       "\n",
       "      family_status  family_status_id gender income_type  debt   total_income  \\\n",
       "0   женат / замужем                 0      F   сотрудник     0  253875.639453   \n",
       "1   женат / замужем                 0      F   сотрудник     0  112080.014102   \n",
       "2   женат / замужем                 0      M   сотрудник     0  145885.952297   \n",
       "3   женат / замужем                 0      M   сотрудник     0  267628.550329   \n",
       "4  гражданский брак                 1      F   пенсионер     0  158616.077870   \n",
       "\n",
       "                      purpose  yrs_employed  started_working    age_group  \n",
       "0               покупка жилья          23.1             18.9  зрелые люди  \n",
       "1     приобретение автомобиля          11.0             25.0  зрелые люди  \n",
       "2               покупка жилья          15.4             17.6     молодежь  \n",
       "3  дополнительное образование          11.3             20.7     молодежь  \n",
       "4             сыграть свадьбу           9.3             43.7  зрелые люди  "
      ]
     },
     "execution_count": 25,
     "metadata": {},
     "output_type": "execute_result"
    }
   ],
   "source": [
    "data.head()"
   ]
  },
  {
   "cell_type": "code",
   "execution_count": 26,
   "metadata": {},
   "outputs": [],
   "source": [
    "#соберем детализированный датафрейм с медианным доходом по группам, сформированным из 3 признаков\n",
    "median_income = data.groupby(['education', 'income_type', 'age_group'], as_index=False)['total_income'].median()\n",
    "median_income = median_income.rename(columns={'total_income': 'median_income'})\n",
    "#присоединим его к исходному датафрейму\n",
    "data = data.merge(median_income, on=['education', 'age_group', 'income_type'], how='left')"
   ]
  },
  {
   "cell_type": "code",
   "execution_count": 27,
   "metadata": {},
   "outputs": [],
   "source": [
    "def income_filler(row):\n",
    "    salary = row['total_income']\n",
    "    if salary == 0:\n",
    "        row['total_income'] = row['median_income']\n",
    "    return row"
   ]
  },
  {
   "cell_type": "code",
   "execution_count": 28,
   "metadata": {},
   "outputs": [
    {
     "name": "stdout",
     "output_type": "stream",
     "text": [
      "Количество потенциальных заемщиков с нулевым доходом ДО: 2164\n"
     ]
    }
   ],
   "source": [
    "print('Количество потенциальных заемщиков с нулевым доходом ДО:', len(data[data['total_income'] == 0]))\n",
    "data = data.apply(income_filler, axis=1)"
   ]
  },
  {
   "cell_type": "code",
   "execution_count": 29,
   "metadata": {},
   "outputs": [
    {
     "name": "stdout",
     "output_type": "stream",
     "text": [
      "Количество потенциальных заемщиков с нулевым доходом ПОСЛЕ: 2\n"
     ]
    }
   ],
   "source": [
    "print('Количество потенциальных заемщиков с нулевым доходом ПОСЛЕ:', len(data[data['total_income'] == 0]))"
   ]
  },
  {
   "cell_type": "markdown",
   "metadata": {},
   "source": [
    "Количество потенциальных заемщиком, для которых в референтных группах не был подобран медианный доход равно двум (вероятно, своему появлению группы обязаны этим необычным значениям). Для целей исследования таких клиентов можем исключить:"
   ]
  },
  {
   "cell_type": "code",
   "execution_count": 30,
   "metadata": {},
   "outputs": [
    {
     "data": {
      "text/html": [
       "<div>\n",
       "<style scoped>\n",
       "    .dataframe tbody tr th:only-of-type {\n",
       "        vertical-align: middle;\n",
       "    }\n",
       "\n",
       "    .dataframe tbody tr th {\n",
       "        vertical-align: top;\n",
       "    }\n",
       "\n",
       "    .dataframe thead th {\n",
       "        text-align: right;\n",
       "    }\n",
       "</style>\n",
       "<table border=\"1\" class=\"dataframe\">\n",
       "  <thead>\n",
       "    <tr style=\"text-align: right;\">\n",
       "      <th></th>\n",
       "      <th>children</th>\n",
       "      <th>days_employed</th>\n",
       "      <th>dob_years</th>\n",
       "      <th>education</th>\n",
       "      <th>education_id</th>\n",
       "      <th>family_status</th>\n",
       "      <th>family_status_id</th>\n",
       "      <th>gender</th>\n",
       "      <th>income_type</th>\n",
       "      <th>debt</th>\n",
       "      <th>total_income</th>\n",
       "      <th>purpose</th>\n",
       "      <th>yrs_employed</th>\n",
       "      <th>started_working</th>\n",
       "      <th>age_group</th>\n",
       "    </tr>\n",
       "  </thead>\n",
       "  <tbody>\n",
       "    <tr>\n",
       "      <th>0</th>\n",
       "      <td>1</td>\n",
       "      <td>8437.673028</td>\n",
       "      <td>42</td>\n",
       "      <td>высшее</td>\n",
       "      <td>0</td>\n",
       "      <td>женат / замужем</td>\n",
       "      <td>0</td>\n",
       "      <td>F</td>\n",
       "      <td>сотрудник</td>\n",
       "      <td>0</td>\n",
       "      <td>253875.639453</td>\n",
       "      <td>покупка жилья</td>\n",
       "      <td>23.1</td>\n",
       "      <td>18.9</td>\n",
       "      <td>зрелые люди</td>\n",
       "    </tr>\n",
       "    <tr>\n",
       "      <th>1</th>\n",
       "      <td>1</td>\n",
       "      <td>4024.803754</td>\n",
       "      <td>36</td>\n",
       "      <td>среднее</td>\n",
       "      <td>1</td>\n",
       "      <td>женат / замужем</td>\n",
       "      <td>0</td>\n",
       "      <td>F</td>\n",
       "      <td>сотрудник</td>\n",
       "      <td>0</td>\n",
       "      <td>112080.014102</td>\n",
       "      <td>приобретение автомобиля</td>\n",
       "      <td>11.0</td>\n",
       "      <td>25.0</td>\n",
       "      <td>зрелые люди</td>\n",
       "    </tr>\n",
       "    <tr>\n",
       "      <th>2</th>\n",
       "      <td>0</td>\n",
       "      <td>5623.422610</td>\n",
       "      <td>33</td>\n",
       "      <td>среднее</td>\n",
       "      <td>1</td>\n",
       "      <td>женат / замужем</td>\n",
       "      <td>0</td>\n",
       "      <td>M</td>\n",
       "      <td>сотрудник</td>\n",
       "      <td>0</td>\n",
       "      <td>145885.952297</td>\n",
       "      <td>покупка жилья</td>\n",
       "      <td>15.4</td>\n",
       "      <td>17.6</td>\n",
       "      <td>молодежь</td>\n",
       "    </tr>\n",
       "    <tr>\n",
       "      <th>3</th>\n",
       "      <td>3</td>\n",
       "      <td>4124.747207</td>\n",
       "      <td>32</td>\n",
       "      <td>среднее</td>\n",
       "      <td>1</td>\n",
       "      <td>женат / замужем</td>\n",
       "      <td>0</td>\n",
       "      <td>M</td>\n",
       "      <td>сотрудник</td>\n",
       "      <td>0</td>\n",
       "      <td>267628.550329</td>\n",
       "      <td>дополнительное образование</td>\n",
       "      <td>11.3</td>\n",
       "      <td>20.7</td>\n",
       "      <td>молодежь</td>\n",
       "    </tr>\n",
       "    <tr>\n",
       "      <th>4</th>\n",
       "      <td>0</td>\n",
       "      <td>3402.660720</td>\n",
       "      <td>53</td>\n",
       "      <td>среднее</td>\n",
       "      <td>1</td>\n",
       "      <td>гражданский брак</td>\n",
       "      <td>1</td>\n",
       "      <td>F</td>\n",
       "      <td>пенсионер</td>\n",
       "      <td>0</td>\n",
       "      <td>158616.077870</td>\n",
       "      <td>сыграть свадьбу</td>\n",
       "      <td>9.3</td>\n",
       "      <td>43.7</td>\n",
       "      <td>зрелые люди</td>\n",
       "    </tr>\n",
       "  </tbody>\n",
       "</table>\n",
       "</div>"
      ],
      "text/plain": [
       "   children  days_employed  dob_years education  education_id  \\\n",
       "0         1    8437.673028         42    высшее             0   \n",
       "1         1    4024.803754         36   среднее             1   \n",
       "2         0    5623.422610         33   среднее             1   \n",
       "3         3    4124.747207         32   среднее             1   \n",
       "4         0    3402.660720         53   среднее             1   \n",
       "\n",
       "      family_status  family_status_id gender income_type  debt   total_income  \\\n",
       "0   женат / замужем                 0      F   сотрудник     0  253875.639453   \n",
       "1   женат / замужем                 0      F   сотрудник     0  112080.014102   \n",
       "2   женат / замужем                 0      M   сотрудник     0  145885.952297   \n",
       "3   женат / замужем                 0      M   сотрудник     0  267628.550329   \n",
       "4  гражданский брак                 1      F   пенсионер     0  158616.077870   \n",
       "\n",
       "                      purpose  yrs_employed  started_working    age_group  \n",
       "0               покупка жилья          23.1             18.9  зрелые люди  \n",
       "1     приобретение автомобиля          11.0             25.0  зрелые люди  \n",
       "2               покупка жилья          15.4             17.6     молодежь  \n",
       "3  дополнительное образование          11.3             20.7     молодежь  \n",
       "4             сыграть свадьбу           9.3             43.7  зрелые люди  "
      ]
     },
     "execution_count": 30,
     "metadata": {},
     "output_type": "execute_result"
    }
   ],
   "source": [
    "data = data[data['total_income'] > 0]\n",
    "del data['median_income']\n",
    "data.head()"
   ]
  },
  {
   "cell_type": "code",
   "execution_count": 31,
   "metadata": {},
   "outputs": [
    {
     "name": "stdout",
     "output_type": "stream",
     "text": [
      "<class 'pandas.core.frame.DataFrame'>\n",
      "Int64Index: 21332 entries, 0 to 21333\n",
      "Data columns (total 15 columns):\n",
      " #   Column            Non-Null Count  Dtype  \n",
      "---  ------            --------------  -----  \n",
      " 0   children          21332 non-null  int64  \n",
      " 1   days_employed     21332 non-null  float64\n",
      " 2   dob_years         21332 non-null  int64  \n",
      " 3   education         21332 non-null  object \n",
      " 4   education_id      21332 non-null  int64  \n",
      " 5   family_status     21332 non-null  object \n",
      " 6   family_status_id  21332 non-null  int64  \n",
      " 7   gender            21332 non-null  object \n",
      " 8   income_type       21332 non-null  object \n",
      " 9   debt              21332 non-null  int64  \n",
      " 10  total_income      21332 non-null  float64\n",
      " 11  purpose           21332 non-null  object \n",
      " 12  yrs_employed      21332 non-null  float64\n",
      " 13  started_working   21332 non-null  float64\n",
      " 14  age_group         21332 non-null  object \n",
      "dtypes: float64(4), int64(5), object(6)\n",
      "memory usage: 2.6+ MB\n"
     ]
    }
   ],
   "source": [
    "#посмотрим на данные после производенной обработки\n",
    "data.info()"
   ]
  },
  {
   "cell_type": "code",
   "execution_count": 32,
   "metadata": {},
   "outputs": [
    {
     "data": {
      "text/html": [
       "<div>\n",
       "<style scoped>\n",
       "    .dataframe tbody tr th:only-of-type {\n",
       "        vertical-align: middle;\n",
       "    }\n",
       "\n",
       "    .dataframe tbody tr th {\n",
       "        vertical-align: top;\n",
       "    }\n",
       "\n",
       "    .dataframe thead th {\n",
       "        text-align: right;\n",
       "    }\n",
       "</style>\n",
       "<table border=\"1\" class=\"dataframe\">\n",
       "  <thead>\n",
       "    <tr style=\"text-align: right;\">\n",
       "      <th></th>\n",
       "      <th>children</th>\n",
       "      <th>days_employed</th>\n",
       "      <th>dob_years</th>\n",
       "      <th>education_id</th>\n",
       "      <th>family_status_id</th>\n",
       "      <th>debt</th>\n",
       "      <th>total_income</th>\n",
       "      <th>yrs_employed</th>\n",
       "      <th>started_working</th>\n",
       "    </tr>\n",
       "  </thead>\n",
       "  <tbody>\n",
       "    <tr>\n",
       "      <th>count</th>\n",
       "      <td>21332.000000</td>\n",
       "      <td>21332.000000</td>\n",
       "      <td>21332.000000</td>\n",
       "      <td>21332.000000</td>\n",
       "      <td>21332.000000</td>\n",
       "      <td>21332.000000</td>\n",
       "      <td>2.133200e+04</td>\n",
       "      <td>21332.000000</td>\n",
       "      <td>21332.000000</td>\n",
       "    </tr>\n",
       "    <tr>\n",
       "      <th>mean</th>\n",
       "      <td>0.538956</td>\n",
       "      <td>2295.241717</td>\n",
       "      <td>43.512704</td>\n",
       "      <td>0.817692</td>\n",
       "      <td>0.971686</td>\n",
       "      <td>0.081052</td>\n",
       "      <td>1.644249e+05</td>\n",
       "      <td>6.288168</td>\n",
       "      <td>37.224536</td>\n",
       "    </tr>\n",
       "    <tr>\n",
       "      <th>std</th>\n",
       "      <td>1.379590</td>\n",
       "      <td>2126.947825</td>\n",
       "      <td>12.251172</td>\n",
       "      <td>0.548095</td>\n",
       "      <td>1.419687</td>\n",
       "      <td>0.272921</td>\n",
       "      <td>9.826288e+04</td>\n",
       "      <td>5.827190</td>\n",
       "      <td>11.620147</td>\n",
       "    </tr>\n",
       "    <tr>\n",
       "      <th>min</th>\n",
       "      <td>-1.000000</td>\n",
       "      <td>0.000000</td>\n",
       "      <td>19.000000</td>\n",
       "      <td>0.000000</td>\n",
       "      <td>0.000000</td>\n",
       "      <td>0.000000</td>\n",
       "      <td>2.066726e+04</td>\n",
       "      <td>0.000000</td>\n",
       "      <td>16.000000</td>\n",
       "    </tr>\n",
       "    <tr>\n",
       "      <th>25%</th>\n",
       "      <td>0.000000</td>\n",
       "      <td>604.745199</td>\n",
       "      <td>33.000000</td>\n",
       "      <td>1.000000</td>\n",
       "      <td>0.000000</td>\n",
       "      <td>0.000000</td>\n",
       "      <td>1.065532e+05</td>\n",
       "      <td>1.700000</td>\n",
       "      <td>27.400000</td>\n",
       "    </tr>\n",
       "    <tr>\n",
       "      <th>50%</th>\n",
       "      <td>0.000000</td>\n",
       "      <td>1798.809701</td>\n",
       "      <td>43.000000</td>\n",
       "      <td>1.000000</td>\n",
       "      <td>0.000000</td>\n",
       "      <td>0.000000</td>\n",
       "      <td>1.428943e+05</td>\n",
       "      <td>4.900000</td>\n",
       "      <td>36.300000</td>\n",
       "    </tr>\n",
       "    <tr>\n",
       "      <th>75%</th>\n",
       "      <td>1.000000</td>\n",
       "      <td>3558.212227</td>\n",
       "      <td>53.000000</td>\n",
       "      <td>1.000000</td>\n",
       "      <td>1.000000</td>\n",
       "      <td>0.000000</td>\n",
       "      <td>1.970500e+05</td>\n",
       "      <td>9.700000</td>\n",
       "      <td>46.500000</td>\n",
       "    </tr>\n",
       "    <tr>\n",
       "      <th>max</th>\n",
       "      <td>20.000000</td>\n",
       "      <td>16119.687737</td>\n",
       "      <td>75.000000</td>\n",
       "      <td>4.000000</td>\n",
       "      <td>4.000000</td>\n",
       "      <td>1.000000</td>\n",
       "      <td>2.265604e+06</td>\n",
       "      <td>44.200000</td>\n",
       "      <td>73.000000</td>\n",
       "    </tr>\n",
       "  </tbody>\n",
       "</table>\n",
       "</div>"
      ],
      "text/plain": [
       "           children  days_employed     dob_years  education_id  \\\n",
       "count  21332.000000   21332.000000  21332.000000  21332.000000   \n",
       "mean       0.538956    2295.241717     43.512704      0.817692   \n",
       "std        1.379590    2126.947825     12.251172      0.548095   \n",
       "min       -1.000000       0.000000     19.000000      0.000000   \n",
       "25%        0.000000     604.745199     33.000000      1.000000   \n",
       "50%        0.000000    1798.809701     43.000000      1.000000   \n",
       "75%        1.000000    3558.212227     53.000000      1.000000   \n",
       "max       20.000000   16119.687737     75.000000      4.000000   \n",
       "\n",
       "       family_status_id          debt  total_income  yrs_employed  \\\n",
       "count      21332.000000  21332.000000  2.133200e+04  21332.000000   \n",
       "mean           0.971686      0.081052  1.644249e+05      6.288168   \n",
       "std            1.419687      0.272921  9.826288e+04      5.827190   \n",
       "min            0.000000      0.000000  2.066726e+04      0.000000   \n",
       "25%            0.000000      0.000000  1.065532e+05      1.700000   \n",
       "50%            0.000000      0.000000  1.428943e+05      4.900000   \n",
       "75%            1.000000      0.000000  1.970500e+05      9.700000   \n",
       "max            4.000000      1.000000  2.265604e+06     44.200000   \n",
       "\n",
       "       started_working  \n",
       "count     21332.000000  \n",
       "mean         37.224536  \n",
       "std          11.620147  \n",
       "min          16.000000  \n",
       "25%          27.400000  \n",
       "50%          36.300000  \n",
       "75%          46.500000  \n",
       "max          73.000000  "
      ]
     },
     "execution_count": 32,
     "metadata": {},
     "output_type": "execute_result"
    }
   ],
   "source": [
    "#теперь проверим корректность данных по числовым признакам\n",
    "data.describe()"
   ]
  },
  {
   "cell_type": "code",
   "execution_count": 33,
   "metadata": {},
   "outputs": [
    {
     "data": {
      "text/plain": [
       " 0     14014\n",
       " 1      4784\n",
       " 2      2035\n",
       " 3       327\n",
       " 20       75\n",
       "-1        47\n",
       " 4        41\n",
       " 5         9\n",
       "Name: children, dtype: int64"
      ]
     },
     "execution_count": 33,
     "metadata": {},
     "output_type": "execute_result"
    }
   ],
   "source": [
    "data['children'].value_counts()"
   ]
  },
  {
   "cell_type": "code",
   "execution_count": 34,
   "metadata": {},
   "outputs": [
    {
     "name": "stdout",
     "output_type": "stream",
     "text": [
      "Доля записей с отрицательным или избыточно большим числом детей в сете 0.57%\n"
     ]
    }
   ],
   "source": [
    "irrelevant_children_number_lenght = len(data[(data['children'] == -1) | (data['children'] == 20)])/len(data)\n",
    "print(f'Доля записей с отрицательным или избыточно большим числом детей в сете {irrelevant_children_number_lenght:.2%}')"
   ]
  },
  {
   "cell_type": "markdown",
   "metadata": {},
   "source": [
    "В столбце с количеством детей две явных аномалии:\n",
    "1. Отрицательно значение\n",
    "2. Избыточно большое количество - 20 детей\n",
    "\n",
    "Решение следующее:\n",
    "1. У отрицательного значения изменим знак, предполагая, что это ошибка преобразования данных\n",
    "2. Так как между 5 и 20 детьми нет значений, это наводит на мысль об ошибке ввода. Исправим 20 на 2 детей.\n",
    "\n",
    "Эти варианты можно считать подходящими, так как общая доля таких записей в таблице невелика (0.57%), при этом эти же строки могут содержать потенциально ценную информацию для ответа на другие вопросы исследования. "
   ]
  },
  {
   "cell_type": "code",
   "execution_count": 35,
   "metadata": {},
   "outputs": [],
   "source": [
    "data['children'] = data['children'].apply(lambda x: x*(-1) if x < 0 else 2 if x == 20 else x)"
   ]
  },
  {
   "cell_type": "code",
   "execution_count": 36,
   "metadata": {},
   "outputs": [
    {
     "data": {
      "text/plain": [
       "0    14014\n",
       "1     4831\n",
       "2     2110\n",
       "3      327\n",
       "4       41\n",
       "5        9\n",
       "Name: children, dtype: int64"
      ]
     },
     "execution_count": 36,
     "metadata": {},
     "output_type": "execute_result"
    }
   ],
   "source": [
    "#проверим\n",
    "data['children'].value_counts()"
   ]
  },
  {
   "cell_type": "markdown",
   "metadata": {},
   "source": [
    "Проверим, нет ли ошибок в столбце с полом заемщика:"
   ]
  },
  {
   "cell_type": "code",
   "execution_count": 37,
   "metadata": {},
   "outputs": [
    {
     "data": {
      "text/plain": [
       "F      14089\n",
       "M       7242\n",
       "XNA        1\n",
       "Name: gender, dtype: int64"
      ]
     },
     "execution_count": 37,
     "metadata": {},
     "output_type": "execute_result"
    }
   ],
   "source": [
    "data['gender'].value_counts()"
   ]
  },
  {
   "cell_type": "code",
   "execution_count": 38,
   "metadata": {},
   "outputs": [],
   "source": [
    "#оставим в датасете записи, у которых нет ошибок в вводе пола\n",
    "data = data[data['gender'] != 'XNA']"
   ]
  },
  {
   "cell_type": "markdown",
   "metadata": {},
   "source": [
    "Проверим, нет ли ошибок в идентификаторе семейного статуса и уровня образования и непосредственно самом названии такого статуса и уровня образования:"
   ]
  },
  {
   "cell_type": "code",
   "execution_count": 39,
   "metadata": {},
   "outputs": [
    {
     "data": {
      "text/plain": [
       "education\n",
       "высшее                 0\n",
       "начальное              3\n",
       "неоконченное высшее    2\n",
       "среднее                1\n",
       "ученая степень         4\n",
       "Name: education_id, dtype: int64"
      ]
     },
     "metadata": {},
     "output_type": "display_data"
    },
    {
     "name": "stdout",
     "output_type": "stream",
     "text": [
      "\n"
     ]
    },
    {
     "data": {
      "text/plain": [
       "family_status\n",
       "Не женат / не замужем    4\n",
       "в разводе                3\n",
       "вдовец / вдова           2\n",
       "гражданский брак         1\n",
       "женат / замужем          0\n",
       "Name: family_status_id, dtype: int64"
      ]
     },
     "metadata": {},
     "output_type": "display_data"
    }
   ],
   "source": [
    "display(data.groupby(['education'])['education_id'].mean())\n",
    "print()\n",
    "display(data.groupby(['family_status'])['family_status_id'].mean())"
   ]
  },
  {
   "cell_type": "markdown",
   "metadata": {},
   "source": [
    "**Вывод**"
   ]
  },
  {
   "cell_type": "markdown",
   "metadata": {},
   "source": [
    "Были произведены следующие действия: \n",
    "\n",
    "1. Удалены пропуски в количестве лет трудового стажа. Была произведена замена на нулевое значение, так как заполнение этого признака средним значение для группы могло бы повлиять на оценку кредитного потенциала клиента в сторону повышения риска (заемщику с нулевым трудовым стажем присвоено отличное от нуля значение, что повышает его оценку, но не отражает действительность, а значит повышает риск невозврата денежных средств\n",
    "2. Уровень доходов был заполнен медианными значениями, полученных для групп очень низкого уровня (комбинация трех признаков: группа возраста, источник дохода, уровень образования\n",
    "3. Для обозначенных выше целей также было выполнено преобразование строк в столбце с уровнем образования в нижний регистр для исключения дубликатов категорийной переменной и произведена категоризация по возрастным группам\n",
    "4. Исправлены аномалии в столбце `children`\n",
    "5. Из датасета исключена 1 запись с неверно записанным полом - так как данные обезличены, установить вручную, какой конкретно пол у данного заемщика - возможным не представляется, поэтому эту одну запись просто уберем из сета\n",
    "6. Также произведена проверка корректных связок идентификаторов категорий семейного положения и уровня образования"
   ]
  },
  {
   "cell_type": "markdown",
   "metadata": {},
   "source": [
    "### Замена типа данных"
   ]
  },
  {
   "cell_type": "markdown",
   "metadata": {},
   "source": [
    "Оценим потребность столбцов датасета в замене данных:"
   ]
  },
  {
   "cell_type": "code",
   "execution_count": 40,
   "metadata": {},
   "outputs": [
    {
     "name": "stdout",
     "output_type": "stream",
     "text": [
      "<class 'pandas.core.frame.DataFrame'>\n",
      "Int64Index: 21331 entries, 0 to 21333\n",
      "Data columns (total 15 columns):\n",
      " #   Column            Non-Null Count  Dtype  \n",
      "---  ------            --------------  -----  \n",
      " 0   children          21331 non-null  int64  \n",
      " 1   days_employed     21331 non-null  float64\n",
      " 2   dob_years         21331 non-null  int64  \n",
      " 3   education         21331 non-null  object \n",
      " 4   education_id      21331 non-null  int64  \n",
      " 5   family_status     21331 non-null  object \n",
      " 6   family_status_id  21331 non-null  int64  \n",
      " 7   gender            21331 non-null  object \n",
      " 8   income_type       21331 non-null  object \n",
      " 9   debt              21331 non-null  int64  \n",
      " 10  total_income      21331 non-null  float64\n",
      " 11  purpose           21331 non-null  object \n",
      " 12  yrs_employed      21331 non-null  float64\n",
      " 13  started_working   21331 non-null  float64\n",
      " 14  age_group         21331 non-null  object \n",
      "dtypes: float64(4), int64(5), object(6)\n",
      "memory usage: 2.6+ MB\n"
     ]
    },
    {
     "data": {
      "text/plain": [
       "None"
      ]
     },
     "metadata": {},
     "output_type": "display_data"
    },
    {
     "name": "stdout",
     "output_type": "stream",
     "text": [
      "\n"
     ]
    },
    {
     "data": {
      "text/html": [
       "<div>\n",
       "<style scoped>\n",
       "    .dataframe tbody tr th:only-of-type {\n",
       "        vertical-align: middle;\n",
       "    }\n",
       "\n",
       "    .dataframe tbody tr th {\n",
       "        vertical-align: top;\n",
       "    }\n",
       "\n",
       "    .dataframe thead th {\n",
       "        text-align: right;\n",
       "    }\n",
       "</style>\n",
       "<table border=\"1\" class=\"dataframe\">\n",
       "  <thead>\n",
       "    <tr style=\"text-align: right;\">\n",
       "      <th></th>\n",
       "      <th>children</th>\n",
       "      <th>days_employed</th>\n",
       "      <th>dob_years</th>\n",
       "      <th>education</th>\n",
       "      <th>education_id</th>\n",
       "      <th>family_status</th>\n",
       "      <th>family_status_id</th>\n",
       "      <th>gender</th>\n",
       "      <th>income_type</th>\n",
       "      <th>debt</th>\n",
       "      <th>total_income</th>\n",
       "      <th>purpose</th>\n",
       "      <th>yrs_employed</th>\n",
       "      <th>started_working</th>\n",
       "      <th>age_group</th>\n",
       "    </tr>\n",
       "  </thead>\n",
       "  <tbody>\n",
       "    <tr>\n",
       "      <th>0</th>\n",
       "      <td>1</td>\n",
       "      <td>8437.673028</td>\n",
       "      <td>42</td>\n",
       "      <td>высшее</td>\n",
       "      <td>0</td>\n",
       "      <td>женат / замужем</td>\n",
       "      <td>0</td>\n",
       "      <td>F</td>\n",
       "      <td>сотрудник</td>\n",
       "      <td>0</td>\n",
       "      <td>253875.639453</td>\n",
       "      <td>покупка жилья</td>\n",
       "      <td>23.1</td>\n",
       "      <td>18.9</td>\n",
       "      <td>зрелые люди</td>\n",
       "    </tr>\n",
       "    <tr>\n",
       "      <th>1</th>\n",
       "      <td>1</td>\n",
       "      <td>4024.803754</td>\n",
       "      <td>36</td>\n",
       "      <td>среднее</td>\n",
       "      <td>1</td>\n",
       "      <td>женат / замужем</td>\n",
       "      <td>0</td>\n",
       "      <td>F</td>\n",
       "      <td>сотрудник</td>\n",
       "      <td>0</td>\n",
       "      <td>112080.014102</td>\n",
       "      <td>приобретение автомобиля</td>\n",
       "      <td>11.0</td>\n",
       "      <td>25.0</td>\n",
       "      <td>зрелые люди</td>\n",
       "    </tr>\n",
       "    <tr>\n",
       "      <th>2</th>\n",
       "      <td>0</td>\n",
       "      <td>5623.422610</td>\n",
       "      <td>33</td>\n",
       "      <td>среднее</td>\n",
       "      <td>1</td>\n",
       "      <td>женат / замужем</td>\n",
       "      <td>0</td>\n",
       "      <td>M</td>\n",
       "      <td>сотрудник</td>\n",
       "      <td>0</td>\n",
       "      <td>145885.952297</td>\n",
       "      <td>покупка жилья</td>\n",
       "      <td>15.4</td>\n",
       "      <td>17.6</td>\n",
       "      <td>молодежь</td>\n",
       "    </tr>\n",
       "    <tr>\n",
       "      <th>3</th>\n",
       "      <td>3</td>\n",
       "      <td>4124.747207</td>\n",
       "      <td>32</td>\n",
       "      <td>среднее</td>\n",
       "      <td>1</td>\n",
       "      <td>женат / замужем</td>\n",
       "      <td>0</td>\n",
       "      <td>M</td>\n",
       "      <td>сотрудник</td>\n",
       "      <td>0</td>\n",
       "      <td>267628.550329</td>\n",
       "      <td>дополнительное образование</td>\n",
       "      <td>11.3</td>\n",
       "      <td>20.7</td>\n",
       "      <td>молодежь</td>\n",
       "    </tr>\n",
       "    <tr>\n",
       "      <th>4</th>\n",
       "      <td>0</td>\n",
       "      <td>3402.660720</td>\n",
       "      <td>53</td>\n",
       "      <td>среднее</td>\n",
       "      <td>1</td>\n",
       "      <td>гражданский брак</td>\n",
       "      <td>1</td>\n",
       "      <td>F</td>\n",
       "      <td>пенсионер</td>\n",
       "      <td>0</td>\n",
       "      <td>158616.077870</td>\n",
       "      <td>сыграть свадьбу</td>\n",
       "      <td>9.3</td>\n",
       "      <td>43.7</td>\n",
       "      <td>зрелые люди</td>\n",
       "    </tr>\n",
       "  </tbody>\n",
       "</table>\n",
       "</div>"
      ],
      "text/plain": [
       "   children  days_employed  dob_years education  education_id  \\\n",
       "0         1    8437.673028         42    высшее             0   \n",
       "1         1    4024.803754         36   среднее             1   \n",
       "2         0    5623.422610         33   среднее             1   \n",
       "3         3    4124.747207         32   среднее             1   \n",
       "4         0    3402.660720         53   среднее             1   \n",
       "\n",
       "      family_status  family_status_id gender income_type  debt   total_income  \\\n",
       "0   женат / замужем                 0      F   сотрудник     0  253875.639453   \n",
       "1   женат / замужем                 0      F   сотрудник     0  112080.014102   \n",
       "2   женат / замужем                 0      M   сотрудник     0  145885.952297   \n",
       "3   женат / замужем                 0      M   сотрудник     0  267628.550329   \n",
       "4  гражданский брак                 1      F   пенсионер     0  158616.077870   \n",
       "\n",
       "                      purpose  yrs_employed  started_working    age_group  \n",
       "0               покупка жилья          23.1             18.9  зрелые люди  \n",
       "1     приобретение автомобиля          11.0             25.0  зрелые люди  \n",
       "2               покупка жилья          15.4             17.6     молодежь  \n",
       "3  дополнительное образование          11.3             20.7     молодежь  \n",
       "4             сыграть свадьбу           9.3             43.7  зрелые люди  "
      ]
     },
     "metadata": {},
     "output_type": "display_data"
    }
   ],
   "source": [
    "display(data.info())\n",
    "print()\n",
    "display(data.head())"
   ]
  },
  {
   "cell_type": "markdown",
   "metadata": {},
   "source": [
    "Видим, что можно преобразовать следующие значения:\n",
    "1. Столбец `days_employed` в целое число - вряд ли даже один знак после точки дает данным дополнительную ценность для результатов исследования\n",
    "2. Столбец `total_income` мы могли бы округлить до двух знаков после точки, так как речь о деньгах, но для целей исследования опять же будет достаточно представления в виде целого числа\n",
    "3. Добавленные столбцы `yrs_employed` и `started_working` также можем привести к целому числу - этого будет достаточно для стоящих перед ними целей "
   ]
  },
  {
   "cell_type": "code",
   "execution_count": 41,
   "metadata": {},
   "outputs": [],
   "source": [
    "#приводим значения в столбцах к цельночисленному типу\n",
    "data[['days_employed', 'yrs_employed', 'started_working', 'total_income']] = data[['days_employed', 'yrs_employed', 'started_working', 'total_income']].astype('int')"
   ]
  },
  {
   "cell_type": "code",
   "execution_count": 42,
   "metadata": {},
   "outputs": [
    {
     "data": {
      "text/html": [
       "<div>\n",
       "<style scoped>\n",
       "    .dataframe tbody tr th:only-of-type {\n",
       "        vertical-align: middle;\n",
       "    }\n",
       "\n",
       "    .dataframe tbody tr th {\n",
       "        vertical-align: top;\n",
       "    }\n",
       "\n",
       "    .dataframe thead th {\n",
       "        text-align: right;\n",
       "    }\n",
       "</style>\n",
       "<table border=\"1\" class=\"dataframe\">\n",
       "  <thead>\n",
       "    <tr style=\"text-align: right;\">\n",
       "      <th></th>\n",
       "      <th>children</th>\n",
       "      <th>days_employed</th>\n",
       "      <th>dob_years</th>\n",
       "      <th>education</th>\n",
       "      <th>education_id</th>\n",
       "      <th>family_status</th>\n",
       "      <th>family_status_id</th>\n",
       "      <th>gender</th>\n",
       "      <th>income_type</th>\n",
       "      <th>debt</th>\n",
       "      <th>total_income</th>\n",
       "      <th>purpose</th>\n",
       "      <th>yrs_employed</th>\n",
       "      <th>started_working</th>\n",
       "      <th>age_group</th>\n",
       "    </tr>\n",
       "  </thead>\n",
       "  <tbody>\n",
       "    <tr>\n",
       "      <th>0</th>\n",
       "      <td>1</td>\n",
       "      <td>8437</td>\n",
       "      <td>42</td>\n",
       "      <td>высшее</td>\n",
       "      <td>0</td>\n",
       "      <td>женат / замужем</td>\n",
       "      <td>0</td>\n",
       "      <td>F</td>\n",
       "      <td>сотрудник</td>\n",
       "      <td>0</td>\n",
       "      <td>253875</td>\n",
       "      <td>покупка жилья</td>\n",
       "      <td>23</td>\n",
       "      <td>18</td>\n",
       "      <td>зрелые люди</td>\n",
       "    </tr>\n",
       "    <tr>\n",
       "      <th>1</th>\n",
       "      <td>1</td>\n",
       "      <td>4024</td>\n",
       "      <td>36</td>\n",
       "      <td>среднее</td>\n",
       "      <td>1</td>\n",
       "      <td>женат / замужем</td>\n",
       "      <td>0</td>\n",
       "      <td>F</td>\n",
       "      <td>сотрудник</td>\n",
       "      <td>0</td>\n",
       "      <td>112080</td>\n",
       "      <td>приобретение автомобиля</td>\n",
       "      <td>11</td>\n",
       "      <td>25</td>\n",
       "      <td>зрелые люди</td>\n",
       "    </tr>\n",
       "    <tr>\n",
       "      <th>2</th>\n",
       "      <td>0</td>\n",
       "      <td>5623</td>\n",
       "      <td>33</td>\n",
       "      <td>среднее</td>\n",
       "      <td>1</td>\n",
       "      <td>женат / замужем</td>\n",
       "      <td>0</td>\n",
       "      <td>M</td>\n",
       "      <td>сотрудник</td>\n",
       "      <td>0</td>\n",
       "      <td>145885</td>\n",
       "      <td>покупка жилья</td>\n",
       "      <td>15</td>\n",
       "      <td>17</td>\n",
       "      <td>молодежь</td>\n",
       "    </tr>\n",
       "    <tr>\n",
       "      <th>3</th>\n",
       "      <td>3</td>\n",
       "      <td>4124</td>\n",
       "      <td>32</td>\n",
       "      <td>среднее</td>\n",
       "      <td>1</td>\n",
       "      <td>женат / замужем</td>\n",
       "      <td>0</td>\n",
       "      <td>M</td>\n",
       "      <td>сотрудник</td>\n",
       "      <td>0</td>\n",
       "      <td>267628</td>\n",
       "      <td>дополнительное образование</td>\n",
       "      <td>11</td>\n",
       "      <td>20</td>\n",
       "      <td>молодежь</td>\n",
       "    </tr>\n",
       "    <tr>\n",
       "      <th>4</th>\n",
       "      <td>0</td>\n",
       "      <td>3402</td>\n",
       "      <td>53</td>\n",
       "      <td>среднее</td>\n",
       "      <td>1</td>\n",
       "      <td>гражданский брак</td>\n",
       "      <td>1</td>\n",
       "      <td>F</td>\n",
       "      <td>пенсионер</td>\n",
       "      <td>0</td>\n",
       "      <td>158616</td>\n",
       "      <td>сыграть свадьбу</td>\n",
       "      <td>9</td>\n",
       "      <td>43</td>\n",
       "      <td>зрелые люди</td>\n",
       "    </tr>\n",
       "  </tbody>\n",
       "</table>\n",
       "</div>"
      ],
      "text/plain": [
       "   children  days_employed  dob_years education  education_id  \\\n",
       "0         1           8437         42    высшее             0   \n",
       "1         1           4024         36   среднее             1   \n",
       "2         0           5623         33   среднее             1   \n",
       "3         3           4124         32   среднее             1   \n",
       "4         0           3402         53   среднее             1   \n",
       "\n",
       "      family_status  family_status_id gender income_type  debt  total_income  \\\n",
       "0   женат / замужем                 0      F   сотрудник     0        253875   \n",
       "1   женат / замужем                 0      F   сотрудник     0        112080   \n",
       "2   женат / замужем                 0      M   сотрудник     0        145885   \n",
       "3   женат / замужем                 0      M   сотрудник     0        267628   \n",
       "4  гражданский брак                 1      F   пенсионер     0        158616   \n",
       "\n",
       "                      purpose  yrs_employed  started_working    age_group  \n",
       "0               покупка жилья            23               18  зрелые люди  \n",
       "1     приобретение автомобиля            11               25  зрелые люди  \n",
       "2               покупка жилья            15               17     молодежь  \n",
       "3  дополнительное образование            11               20     молодежь  \n",
       "4             сыграть свадьбу             9               43  зрелые люди  "
      ]
     },
     "execution_count": 42,
     "metadata": {},
     "output_type": "execute_result"
    }
   ],
   "source": [
    "data.head()"
   ]
  },
  {
   "cell_type": "code",
   "execution_count": 43,
   "metadata": {},
   "outputs": [
    {
     "name": "stdout",
     "output_type": "stream",
     "text": [
      "<class 'pandas.core.frame.DataFrame'>\n",
      "Int64Index: 21331 entries, 0 to 21333\n",
      "Data columns (total 15 columns):\n",
      " #   Column            Non-Null Count  Dtype \n",
      "---  ------            --------------  ----- \n",
      " 0   children          21331 non-null  int64 \n",
      " 1   days_employed     21331 non-null  int64 \n",
      " 2   dob_years         21331 non-null  int64 \n",
      " 3   education         21331 non-null  object\n",
      " 4   education_id      21331 non-null  int64 \n",
      " 5   family_status     21331 non-null  object\n",
      " 6   family_status_id  21331 non-null  int64 \n",
      " 7   gender            21331 non-null  object\n",
      " 8   income_type       21331 non-null  object\n",
      " 9   debt              21331 non-null  int64 \n",
      " 10  total_income      21331 non-null  int64 \n",
      " 11  purpose           21331 non-null  object\n",
      " 12  yrs_employed      21331 non-null  int64 \n",
      " 13  started_working   21331 non-null  int64 \n",
      " 14  age_group         21331 non-null  object\n",
      "dtypes: int64(9), object(6)\n",
      "memory usage: 2.6+ MB\n"
     ]
    }
   ],
   "source": [
    "#посмотрим на результат\n",
    "data.info()"
   ]
  },
  {
   "cell_type": "markdown",
   "metadata": {},
   "source": [
    "Наблюдаем снижение количества различных типов данных до двух: целое число и строка. "
   ]
  },
  {
   "cell_type": "markdown",
   "metadata": {},
   "source": [
    "**Вывод**"
   ]
  },
  {
   "cell_type": "markdown",
   "metadata": {},
   "source": [
    "Преобразование ряда столбцов из вещественного числа в целое позволило упростить визуальное восприятие данных в датасете без какого-либо потенциального негативного эффекта на результаты исследования. "
   ]
  },
  {
   "cell_type": "markdown",
   "metadata": {},
   "source": [
    "### Обработка дубликатов"
   ]
  },
  {
   "cell_type": "markdown",
   "metadata": {},
   "source": [
    "Мы уже избавились от дубликатов в столбце с уровнем образования. Вероятно, проблема была в том, что данные на входе не были валидированы по регистру, что и сформировало несколько идентичных категорий, записанных символами в разных регистрах. Столбец с источником дохода также проверен на наличие дубликатов перед расчетом медианного уровня дохода в группах, поэтому:\n",
    "1. Необходимо проверить столбец `family_status`\n",
    "2. После очистки этого столбца от возможных дубликатов, отбросить из датасета строки полных дубликатов при их наличии"
   ]
  },
  {
   "cell_type": "code",
   "execution_count": 44,
   "metadata": {},
   "outputs": [
    {
     "data": {
      "text/plain": [
       "женат / замужем          12271\n",
       "гражданский брак          4143\n",
       "Не женат / не замужем     2786\n",
       "в разводе                 1178\n",
       "вдовец / вдова             953\n",
       "Name: family_status, dtype: int64"
      ]
     },
     "execution_count": 44,
     "metadata": {},
     "output_type": "execute_result"
    }
   ],
   "source": [
    "data['family_status'].value_counts()"
   ]
  },
  {
   "cell_type": "markdown",
   "metadata": {},
   "source": [
    "Дублирующие значения не наблюдаем. "
   ]
  },
  {
   "cell_type": "code",
   "execution_count": 45,
   "metadata": {},
   "outputs": [
    {
     "name": "stdout",
     "output_type": "stream",
     "text": [
      "Количество полных дубликатов в датасете: 71\n"
     ]
    }
   ],
   "source": [
    "print('Количество полных дубликатов в датасете:', sum(data.duplicated()))"
   ]
  },
  {
   "cell_type": "code",
   "execution_count": 46,
   "metadata": {},
   "outputs": [],
   "source": [
    "#убираем полные дубликаты из сета\n",
    "data = data.drop_duplicates().reset_index(drop=True)"
   ]
  },
  {
   "cell_type": "markdown",
   "metadata": {},
   "source": [
    "**Вывод**"
   ]
  },
  {
   "cell_type": "markdown",
   "metadata": {},
   "source": [
    "1. В процессе удаления мы очищены варианты написания уровня образования, что позволило исключить дублирующие категории\n",
    "2. Также была удалена 71 строка-дубликат из сета (количество полных дублей выросла после очистки значений в некоторых столбцах). Вероятная причина появления - ошибки в процессе извлечения данных, так как строки копируют друг друга полностью, включая не \"строгие\" поля (категория займа)"
   ]
  },
  {
   "cell_type": "markdown",
   "metadata": {},
   "source": [
    "### Лемматизация"
   ]
  },
  {
   "cell_type": "markdown",
   "metadata": {},
   "source": [
    "При помощи библиотеки для лемматизации, цикла и списка \"шумовых\" слов составим словарь с наиболее популярными \"целями\" займа:"
   ]
  },
  {
   "cell_type": "code",
   "execution_count": 47,
   "metadata": {},
   "outputs": [],
   "source": [
    "lemmas = []\n",
    "for client in data['purpose']:\n",
    "    suspended_words = ['покупка', 'свой', 'высокий', 'получение', 'коммерческий', 'жилой', 'заниматься', 'дополнительный', 'проведение', 'сыграть', 'сдача', 'собственный', 'подержанный', 'подержать', 'приобретение', 'профильный']\n",
    "    l_words = m.lemmatize(client)\n",
    "    for word in l_words:\n",
    "        if len(word) > 3 and word not in suspended_words:\n",
    "            lemmas.append(word)"
   ]
  },
  {
   "cell_type": "code",
   "execution_count": 48,
   "metadata": {},
   "outputs": [
    {
     "name": "stdout",
     "output_type": "stream",
     "text": [
      "Counter({'недвижимость': 6293, 'жилье': 4415, 'автомобиль': 4276, 'образование': 3972, 'операция': 2583, 'свадьба': 2304, 'строительство': 1866, 'сделка': 938, 'семья': 634, 'ремонт': 603})\n"
     ]
    }
   ],
   "source": [
    "#соберем словарик из лемм, в котором видны популярные цели\n",
    "#данные из него же используем для отсева нерелеватных слов на предыдущем шаге\n",
    "lemmas_freq = Counter(lemmas)\n",
    "print(lemmas_freq)"
   ]
  },
  {
   "cell_type": "markdown",
   "metadata": {},
   "source": [
    "При помощи функции используем результат лемматизации и добавим в кажду строку датафрейма \"реальную\" цель получения кредита. Эту информацию можно использовать для категоризации. "
   ]
  },
  {
   "cell_type": "code",
   "execution_count": 49,
   "metadata": {},
   "outputs": [],
   "source": [
    "def purpose_detector(row):\n",
    "    for word in m.lemmatize(row['purpose']):\n",
    "        for key, value in lemmas_freq.items():\n",
    "            if word == key:\n",
    "                row['purpose_category'] = key\n",
    "    return row"
   ]
  },
  {
   "cell_type": "code",
   "execution_count": 50,
   "metadata": {},
   "outputs": [],
   "source": [
    "data['purpose_category'] = ''\n",
    "data = data.apply(purpose_detector, axis=1)"
   ]
  },
  {
   "cell_type": "code",
   "execution_count": 51,
   "metadata": {},
   "outputs": [
    {
     "data": {
      "text/html": [
       "<div>\n",
       "<style scoped>\n",
       "    .dataframe tbody tr th:only-of-type {\n",
       "        vertical-align: middle;\n",
       "    }\n",
       "\n",
       "    .dataframe tbody tr th {\n",
       "        vertical-align: top;\n",
       "    }\n",
       "\n",
       "    .dataframe thead th {\n",
       "        text-align: right;\n",
       "    }\n",
       "</style>\n",
       "<table border=\"1\" class=\"dataframe\">\n",
       "  <thead>\n",
       "    <tr style=\"text-align: right;\">\n",
       "      <th></th>\n",
       "      <th>children</th>\n",
       "      <th>days_employed</th>\n",
       "      <th>dob_years</th>\n",
       "      <th>education</th>\n",
       "      <th>education_id</th>\n",
       "      <th>family_status</th>\n",
       "      <th>family_status_id</th>\n",
       "      <th>gender</th>\n",
       "      <th>income_type</th>\n",
       "      <th>debt</th>\n",
       "      <th>total_income</th>\n",
       "      <th>purpose</th>\n",
       "      <th>yrs_employed</th>\n",
       "      <th>started_working</th>\n",
       "      <th>age_group</th>\n",
       "      <th>purpose_category</th>\n",
       "    </tr>\n",
       "  </thead>\n",
       "  <tbody>\n",
       "    <tr>\n",
       "      <th>0</th>\n",
       "      <td>1</td>\n",
       "      <td>8437</td>\n",
       "      <td>42</td>\n",
       "      <td>высшее</td>\n",
       "      <td>0</td>\n",
       "      <td>женат / замужем</td>\n",
       "      <td>0</td>\n",
       "      <td>F</td>\n",
       "      <td>сотрудник</td>\n",
       "      <td>0</td>\n",
       "      <td>253875</td>\n",
       "      <td>покупка жилья</td>\n",
       "      <td>23</td>\n",
       "      <td>18</td>\n",
       "      <td>зрелые люди</td>\n",
       "      <td>жилье</td>\n",
       "    </tr>\n",
       "    <tr>\n",
       "      <th>1</th>\n",
       "      <td>1</td>\n",
       "      <td>4024</td>\n",
       "      <td>36</td>\n",
       "      <td>среднее</td>\n",
       "      <td>1</td>\n",
       "      <td>женат / замужем</td>\n",
       "      <td>0</td>\n",
       "      <td>F</td>\n",
       "      <td>сотрудник</td>\n",
       "      <td>0</td>\n",
       "      <td>112080</td>\n",
       "      <td>приобретение автомобиля</td>\n",
       "      <td>11</td>\n",
       "      <td>25</td>\n",
       "      <td>зрелые люди</td>\n",
       "      <td>автомобиль</td>\n",
       "    </tr>\n",
       "    <tr>\n",
       "      <th>2</th>\n",
       "      <td>0</td>\n",
       "      <td>5623</td>\n",
       "      <td>33</td>\n",
       "      <td>среднее</td>\n",
       "      <td>1</td>\n",
       "      <td>женат / замужем</td>\n",
       "      <td>0</td>\n",
       "      <td>M</td>\n",
       "      <td>сотрудник</td>\n",
       "      <td>0</td>\n",
       "      <td>145885</td>\n",
       "      <td>покупка жилья</td>\n",
       "      <td>15</td>\n",
       "      <td>17</td>\n",
       "      <td>молодежь</td>\n",
       "      <td>жилье</td>\n",
       "    </tr>\n",
       "    <tr>\n",
       "      <th>3</th>\n",
       "      <td>3</td>\n",
       "      <td>4124</td>\n",
       "      <td>32</td>\n",
       "      <td>среднее</td>\n",
       "      <td>1</td>\n",
       "      <td>женат / замужем</td>\n",
       "      <td>0</td>\n",
       "      <td>M</td>\n",
       "      <td>сотрудник</td>\n",
       "      <td>0</td>\n",
       "      <td>267628</td>\n",
       "      <td>дополнительное образование</td>\n",
       "      <td>11</td>\n",
       "      <td>20</td>\n",
       "      <td>молодежь</td>\n",
       "      <td>образование</td>\n",
       "    </tr>\n",
       "    <tr>\n",
       "      <th>4</th>\n",
       "      <td>0</td>\n",
       "      <td>3402</td>\n",
       "      <td>53</td>\n",
       "      <td>среднее</td>\n",
       "      <td>1</td>\n",
       "      <td>гражданский брак</td>\n",
       "      <td>1</td>\n",
       "      <td>F</td>\n",
       "      <td>пенсионер</td>\n",
       "      <td>0</td>\n",
       "      <td>158616</td>\n",
       "      <td>сыграть свадьбу</td>\n",
       "      <td>9</td>\n",
       "      <td>43</td>\n",
       "      <td>зрелые люди</td>\n",
       "      <td>свадьба</td>\n",
       "    </tr>\n",
       "  </tbody>\n",
       "</table>\n",
       "</div>"
      ],
      "text/plain": [
       "   children  days_employed  dob_years education  education_id  \\\n",
       "0         1           8437         42    высшее             0   \n",
       "1         1           4024         36   среднее             1   \n",
       "2         0           5623         33   среднее             1   \n",
       "3         3           4124         32   среднее             1   \n",
       "4         0           3402         53   среднее             1   \n",
       "\n",
       "      family_status  family_status_id gender income_type  debt  total_income  \\\n",
       "0   женат / замужем                 0      F   сотрудник     0        253875   \n",
       "1   женат / замужем                 0      F   сотрудник     0        112080   \n",
       "2   женат / замужем                 0      M   сотрудник     0        145885   \n",
       "3   женат / замужем                 0      M   сотрудник     0        267628   \n",
       "4  гражданский брак                 1      F   пенсионер     0        158616   \n",
       "\n",
       "                      purpose  yrs_employed  started_working    age_group  \\\n",
       "0               покупка жилья            23               18  зрелые люди   \n",
       "1     приобретение автомобиля            11               25  зрелые люди   \n",
       "2               покупка жилья            15               17     молодежь   \n",
       "3  дополнительное образование            11               20     молодежь   \n",
       "4             сыграть свадьбу             9               43  зрелые люди   \n",
       "\n",
       "  purpose_category  \n",
       "0            жилье  \n",
       "1       автомобиль  \n",
       "2            жилье  \n",
       "3      образование  \n",
       "4          свадьба  "
      ]
     },
     "execution_count": 51,
     "metadata": {},
     "output_type": "execute_result"
    }
   ],
   "source": [
    "data.head()"
   ]
  },
  {
   "cell_type": "code",
   "execution_count": 52,
   "metadata": {},
   "outputs": [
    {
     "data": {
      "text/plain": [
       "children            0\n",
       "days_employed       0\n",
       "dob_years           0\n",
       "education           0\n",
       "education_id        0\n",
       "family_status       0\n",
       "family_status_id    0\n",
       "gender              0\n",
       "income_type         0\n",
       "debt                0\n",
       "total_income        0\n",
       "purpose             0\n",
       "yrs_employed        0\n",
       "started_working     0\n",
       "age_group           0\n",
       "purpose_category    0\n",
       "dtype: int64"
      ]
     },
     "execution_count": 52,
     "metadata": {},
     "output_type": "execute_result"
    }
   ],
   "source": [
    "#проверим столбцы на пропуски - видим, что в новом столбце пропусков нет\n",
    "data.isna().sum()"
   ]
  },
  {
   "cell_type": "markdown",
   "metadata": {},
   "source": [
    "**Вывод**"
   ]
  },
  {
   "cell_type": "markdown",
   "metadata": {},
   "source": [
    "При помощи лемматизации мы смогли преобразовать произвольную строку, использованную заемщиком для описания цели получения кредита, в конкретную цель, которую можно использовать для категоризации данных. "
   ]
  },
  {
   "cell_type": "markdown",
   "metadata": {},
   "source": [
    "### Категоризация данных"
   ]
  },
  {
   "cell_type": "markdown",
   "metadata": {},
   "source": [
    "На шагах выше уже была произведена категоризация записей по группе возраста и цели получения кредита. Ниже приведен пример, который позволяет используя только результаты категоризации получить интересные инсайты на базе имеющихся данных."
   ]
  },
  {
   "cell_type": "code",
   "execution_count": 53,
   "metadata": {},
   "outputs": [
    {
     "data": {
      "text/html": [
       "<div>\n",
       "<style scoped>\n",
       "    .dataframe tbody tr th:only-of-type {\n",
       "        vertical-align: middle;\n",
       "    }\n",
       "\n",
       "    .dataframe tbody tr th {\n",
       "        vertical-align: top;\n",
       "    }\n",
       "\n",
       "    .dataframe thead th {\n",
       "        text-align: right;\n",
       "    }\n",
       "</style>\n",
       "<table border=\"1\" class=\"dataframe\">\n",
       "  <thead>\n",
       "    <tr style=\"text-align: right;\">\n",
       "      <th></th>\n",
       "      <th></th>\n",
       "      <th>days_employed</th>\n",
       "      <th>debt</th>\n",
       "      <th>yrs_employed</th>\n",
       "    </tr>\n",
       "    <tr>\n",
       "      <th>age_group</th>\n",
       "      <th>purpose_category</th>\n",
       "      <th></th>\n",
       "      <th></th>\n",
       "      <th></th>\n",
       "    </tr>\n",
       "  </thead>\n",
       "  <tbody>\n",
       "    <tr>\n",
       "      <th rowspan=\"6\" valign=\"top\">зрелые люди</th>\n",
       "      <th>автомобиль</th>\n",
       "      <td>2615</td>\n",
       "      <td>0.083365</td>\n",
       "      <td>6.786616</td>\n",
       "    </tr>\n",
       "    <tr>\n",
       "      <th>жилье</th>\n",
       "      <td>2252</td>\n",
       "      <td>0.059503</td>\n",
       "      <td>6.726909</td>\n",
       "    </tr>\n",
       "    <tr>\n",
       "      <th>недвижимость</th>\n",
       "      <td>3867</td>\n",
       "      <td>0.069046</td>\n",
       "      <td>6.886475</td>\n",
       "    </tr>\n",
       "    <tr>\n",
       "      <th>образование</th>\n",
       "      <td>2399</td>\n",
       "      <td>0.081701</td>\n",
       "      <td>6.588995</td>\n",
       "    </tr>\n",
       "    <tr>\n",
       "      <th>свадьба</th>\n",
       "      <td>1388</td>\n",
       "      <td>0.079971</td>\n",
       "      <td>6.935879</td>\n",
       "    </tr>\n",
       "    <tr>\n",
       "      <th>семья</th>\n",
       "      <td>391</td>\n",
       "      <td>0.071611</td>\n",
       "      <td>6.365729</td>\n",
       "    </tr>\n",
       "    <tr>\n",
       "      <th rowspan=\"6\" valign=\"top\">молодежь</th>\n",
       "      <th>автомобиль</th>\n",
       "      <td>1285</td>\n",
       "      <td>0.126070</td>\n",
       "      <td>3.395331</td>\n",
       "    </tr>\n",
       "    <tr>\n",
       "      <th>жилье</th>\n",
       "      <td>1221</td>\n",
       "      <td>0.090090</td>\n",
       "      <td>3.375921</td>\n",
       "    </tr>\n",
       "    <tr>\n",
       "      <th>недвижимость</th>\n",
       "      <td>1913</td>\n",
       "      <td>0.096707</td>\n",
       "      <td>3.231573</td>\n",
       "    </tr>\n",
       "    <tr>\n",
       "      <th>образование</th>\n",
       "      <td>1227</td>\n",
       "      <td>0.127954</td>\n",
       "      <td>3.537082</td>\n",
       "    </tr>\n",
       "    <tr>\n",
       "      <th>свадьба</th>\n",
       "      <td>724</td>\n",
       "      <td>0.091160</td>\n",
       "      <td>3.382597</td>\n",
       "    </tr>\n",
       "    <tr>\n",
       "      <th>семья</th>\n",
       "      <td>182</td>\n",
       "      <td>0.087912</td>\n",
       "      <td>3.434066</td>\n",
       "    </tr>\n",
       "    <tr>\n",
       "      <th rowspan=\"6\" valign=\"top\">пенсионеры</th>\n",
       "      <th>автомобиль</th>\n",
       "      <td>376</td>\n",
       "      <td>0.047872</td>\n",
       "      <td>8.638298</td>\n",
       "    </tr>\n",
       "    <tr>\n",
       "      <th>жилье</th>\n",
       "      <td>308</td>\n",
       "      <td>0.055195</td>\n",
       "      <td>8.743506</td>\n",
       "    </tr>\n",
       "    <tr>\n",
       "      <th>недвижимость</th>\n",
       "      <td>513</td>\n",
       "      <td>0.038986</td>\n",
       "      <td>8.664717</td>\n",
       "    </tr>\n",
       "    <tr>\n",
       "      <th>образование</th>\n",
       "      <td>346</td>\n",
       "      <td>0.046243</td>\n",
       "      <td>8.921965</td>\n",
       "    </tr>\n",
       "    <tr>\n",
       "      <th>свадьба</th>\n",
       "      <td>192</td>\n",
       "      <td>0.036458</td>\n",
       "      <td>9.635417</td>\n",
       "    </tr>\n",
       "    <tr>\n",
       "      <th>семья</th>\n",
       "      <td>61</td>\n",
       "      <td>0.016393</td>\n",
       "      <td>10.213115</td>\n",
       "    </tr>\n",
       "  </tbody>\n",
       "</table>\n",
       "</div>"
      ],
      "text/plain": [
       "                              days_employed      debt  yrs_employed\n",
       "age_group   purpose_category                                       \n",
       "зрелые люди автомобиль                 2615  0.083365      6.786616\n",
       "            жилье                      2252  0.059503      6.726909\n",
       "            недвижимость               3867  0.069046      6.886475\n",
       "            образование                2399  0.081701      6.588995\n",
       "            свадьба                    1388  0.079971      6.935879\n",
       "            семья                       391  0.071611      6.365729\n",
       "молодежь    автомобиль                 1285  0.126070      3.395331\n",
       "            жилье                      1221  0.090090      3.375921\n",
       "            недвижимость               1913  0.096707      3.231573\n",
       "            образование                1227  0.127954      3.537082\n",
       "            свадьба                     724  0.091160      3.382597\n",
       "            семья                       182  0.087912      3.434066\n",
       "пенсионеры  автомобиль                  376  0.047872      8.638298\n",
       "            жилье                       308  0.055195      8.743506\n",
       "            недвижимость                513  0.038986      8.664717\n",
       "            образование                 346  0.046243      8.921965\n",
       "            свадьба                     192  0.036458      9.635417\n",
       "            семья                        61  0.016393     10.213115"
      ]
     },
     "execution_count": 53,
     "metadata": {},
     "output_type": "execute_result"
    }
   ],
   "source": [
    "data.groupby(['age_group', 'purpose_category']).agg({'days_employed': 'count', 'debt': 'mean', 'yrs_employed': 'mean'})"
   ]
  },
  {
   "cell_type": "markdown",
   "metadata": {},
   "source": [
    "Для ответа на вопрос о влиянии уровня дохода на вероятность возврата кредита нам потребуется также категоризация по доходу - для этого воспользуемся методом .cut, который нарежет данные на группы и результатом заполним дополнительный столбец. "
   ]
  },
  {
   "cell_type": "code",
   "execution_count": 54,
   "metadata": {},
   "outputs": [],
   "source": [
    "data['income_category'] = pd.cut(data['total_income'], \n",
    "                                 bins=[0, 50000, 100000, 150000, 200000, 250000, np.inf], \n",
    "                                 labels=['До 50K', '50K-100K', '100K-150K', '150K-200K','200K-250K', 'Свыше 250K'])"
   ]
  },
  {
   "cell_type": "code",
   "execution_count": 55,
   "metadata": {},
   "outputs": [
    {
     "data": {
      "text/html": [
       "<div>\n",
       "<style scoped>\n",
       "    .dataframe tbody tr th:only-of-type {\n",
       "        vertical-align: middle;\n",
       "    }\n",
       "\n",
       "    .dataframe tbody tr th {\n",
       "        vertical-align: top;\n",
       "    }\n",
       "\n",
       "    .dataframe thead tr th {\n",
       "        text-align: left;\n",
       "    }\n",
       "\n",
       "    .dataframe thead tr:last-of-type th {\n",
       "        text-align: right;\n",
       "    }\n",
       "</style>\n",
       "<table border=\"1\" class=\"dataframe\">\n",
       "  <thead>\n",
       "    <tr>\n",
       "      <th></th>\n",
       "      <th colspan=\"2\" halign=\"left\">total_income</th>\n",
       "    </tr>\n",
       "    <tr>\n",
       "      <th></th>\n",
       "      <th>count</th>\n",
       "      <th>median</th>\n",
       "    </tr>\n",
       "    <tr>\n",
       "      <th>income_category</th>\n",
       "      <th></th>\n",
       "      <th></th>\n",
       "    </tr>\n",
       "  </thead>\n",
       "  <tbody>\n",
       "    <tr>\n",
       "      <th>До 50K</th>\n",
       "      <td>368</td>\n",
       "      <td>43159.5</td>\n",
       "    </tr>\n",
       "    <tr>\n",
       "      <th>50K-100K</th>\n",
       "      <td>4056</td>\n",
       "      <td>81309.5</td>\n",
       "    </tr>\n",
       "    <tr>\n",
       "      <th>100K-150K</th>\n",
       "      <td>7330</td>\n",
       "      <td>126461.5</td>\n",
       "    </tr>\n",
       "    <tr>\n",
       "      <th>150K-200K</th>\n",
       "      <td>4489</td>\n",
       "      <td>170988.0</td>\n",
       "    </tr>\n",
       "    <tr>\n",
       "      <th>200K-250K</th>\n",
       "      <td>2225</td>\n",
       "      <td>221461.0</td>\n",
       "    </tr>\n",
       "    <tr>\n",
       "      <th>Свыше 250K</th>\n",
       "      <td>2792</td>\n",
       "      <td>305883.0</td>\n",
       "    </tr>\n",
       "  </tbody>\n",
       "</table>\n",
       "</div>"
      ],
      "text/plain": [
       "                total_income          \n",
       "                       count    median\n",
       "income_category                       \n",
       "До 50K                   368   43159.5\n",
       "50K-100K                4056   81309.5\n",
       "100K-150K               7330  126461.5\n",
       "150K-200K               4489  170988.0\n",
       "200K-250K               2225  221461.0\n",
       "Свыше 250K              2792  305883.0"
      ]
     },
     "execution_count": 55,
     "metadata": {},
     "output_type": "execute_result"
    }
   ],
   "source": [
    "#посмотрим на пример полученной категоризации\n",
    "data.groupby(['income_category']).agg({'total_income': ['count', 'median']})"
   ]
  },
  {
   "cell_type": "markdown",
   "metadata": {},
   "source": [
    "**Вывод**"
   ]
  },
  {
   "cell_type": "markdown",
   "metadata": {},
   "source": [
    "1. Были выделены две категории: группа по возрасту и цели получения кредита\n",
    "2. Также добавлена категоризация по уровню дохода"
   ]
  },
  {
   "cell_type": "markdown",
   "metadata": {},
   "source": [
    "## Шаг 3. Ответьте на вопросы"
   ]
  },
  {
   "cell_type": "markdown",
   "metadata": {},
   "source": [
    "- Есть ли зависимость между наличием детей и возвратом кредита в срок?"
   ]
  },
  {
   "cell_type": "code",
   "execution_count": 56,
   "metadata": {},
   "outputs": [
    {
     "data": {
      "text/html": [
       "<div>\n",
       "<style scoped>\n",
       "    .dataframe tbody tr th:only-of-type {\n",
       "        vertical-align: middle;\n",
       "    }\n",
       "\n",
       "    .dataframe tbody tr th {\n",
       "        vertical-align: top;\n",
       "    }\n",
       "\n",
       "    .dataframe thead tr th {\n",
       "        text-align: left;\n",
       "    }\n",
       "\n",
       "    .dataframe thead tr:last-of-type th {\n",
       "        text-align: right;\n",
       "    }\n",
       "</style>\n",
       "<table border=\"1\" class=\"dataframe\">\n",
       "  <thead>\n",
       "    <tr>\n",
       "      <th></th>\n",
       "      <th colspan=\"2\" halign=\"left\">debt</th>\n",
       "    </tr>\n",
       "    <tr>\n",
       "      <th></th>\n",
       "      <th>count</th>\n",
       "      <th>mean</th>\n",
       "    </tr>\n",
       "    <tr>\n",
       "      <th>children</th>\n",
       "      <th></th>\n",
       "      <th></th>\n",
       "    </tr>\n",
       "  </thead>\n",
       "  <tbody>\n",
       "    <tr>\n",
       "      <th>0</th>\n",
       "      <td>13955</td>\n",
       "      <td>0.075672</td>\n",
       "    </tr>\n",
       "    <tr>\n",
       "      <th>1</th>\n",
       "      <td>4821</td>\n",
       "      <td>0.091682</td>\n",
       "    </tr>\n",
       "    <tr>\n",
       "      <th>2</th>\n",
       "      <td>2107</td>\n",
       "      <td>0.094922</td>\n",
       "    </tr>\n",
       "    <tr>\n",
       "      <th>3</th>\n",
       "      <td>327</td>\n",
       "      <td>0.082569</td>\n",
       "    </tr>\n",
       "    <tr>\n",
       "      <th>4</th>\n",
       "      <td>41</td>\n",
       "      <td>0.097561</td>\n",
       "    </tr>\n",
       "    <tr>\n",
       "      <th>5</th>\n",
       "      <td>9</td>\n",
       "      <td>0.000000</td>\n",
       "    </tr>\n",
       "  </tbody>\n",
       "</table>\n",
       "</div>"
      ],
      "text/plain": [
       "           debt          \n",
       "          count      mean\n",
       "children                 \n",
       "0         13955  0.075672\n",
       "1          4821  0.091682\n",
       "2          2107  0.094922\n",
       "3           327  0.082569\n",
       "4            41  0.097561\n",
       "5             9  0.000000"
      ]
     },
     "execution_count": 56,
     "metadata": {},
     "output_type": "execute_result"
    }
   ],
   "source": [
    "data.groupby(['children']).agg({'debt': ['count', 'mean']})"
   ]
  },
  {
   "cell_type": "markdown",
   "metadata": {},
   "source": [
    "**Вывод**"
   ]
  },
  {
   "cell_type": "markdown",
   "metadata": {},
   "source": [
    "1. Наблюдаем наибольшее количество наблюдений в группе с 0 детей - 7.6%. В этой же группе самый низкий процент имеющих задолженность.\n",
    "2. При увеличении количества детей наблюдаем колебания доли от 8.3% до 9.8%, что все равно выше группы без детей\n",
    "3. В группе с 5 детьми доля нулевая, но учитывая малое количество наблюдений, можем пренебречь этой группой\n",
    "\n",
    "Таким образом, из предоставленных данных следует, что количество детей скорее отрицательно влияет на вероятность возврата кредита в срок, но в целом колебания небольшие."
   ]
  },
  {
   "cell_type": "markdown",
   "metadata": {},
   "source": [
    "- Есть ли зависимость между семейным положением и возвратом кредита в срок?"
   ]
  },
  {
   "cell_type": "code",
   "execution_count": 57,
   "metadata": {},
   "outputs": [
    {
     "data": {
      "text/html": [
       "<div>\n",
       "<style scoped>\n",
       "    .dataframe tbody tr th:only-of-type {\n",
       "        vertical-align: middle;\n",
       "    }\n",
       "\n",
       "    .dataframe tbody tr th {\n",
       "        vertical-align: top;\n",
       "    }\n",
       "\n",
       "    .dataframe thead tr th {\n",
       "        text-align: left;\n",
       "    }\n",
       "\n",
       "    .dataframe thead tr:last-of-type th {\n",
       "        text-align: right;\n",
       "    }\n",
       "</style>\n",
       "<table border=\"1\" class=\"dataframe\">\n",
       "  <thead>\n",
       "    <tr>\n",
       "      <th></th>\n",
       "      <th colspan=\"2\" halign=\"left\">debt</th>\n",
       "    </tr>\n",
       "    <tr>\n",
       "      <th></th>\n",
       "      <th>count</th>\n",
       "      <th>mean</th>\n",
       "    </tr>\n",
       "    <tr>\n",
       "      <th>family_status</th>\n",
       "      <th></th>\n",
       "      <th></th>\n",
       "    </tr>\n",
       "  </thead>\n",
       "  <tbody>\n",
       "    <tr>\n",
       "      <th>Не женат / не замужем</th>\n",
       "      <td>2783</td>\n",
       "      <td>0.098096</td>\n",
       "    </tr>\n",
       "    <tr>\n",
       "      <th>в разводе</th>\n",
       "      <td>1178</td>\n",
       "      <td>0.070458</td>\n",
       "    </tr>\n",
       "    <tr>\n",
       "      <th>вдовец / вдова</th>\n",
       "      <td>952</td>\n",
       "      <td>0.065126</td>\n",
       "    </tr>\n",
       "    <tr>\n",
       "      <th>гражданский брак</th>\n",
       "      <td>4117</td>\n",
       "      <td>0.093758</td>\n",
       "    </tr>\n",
       "    <tr>\n",
       "      <th>женат / замужем</th>\n",
       "      <td>12230</td>\n",
       "      <td>0.075634</td>\n",
       "    </tr>\n",
       "  </tbody>\n",
       "</table>\n",
       "</div>"
      ],
      "text/plain": [
       "                        debt          \n",
       "                       count      mean\n",
       "family_status                         \n",
       "Не женат / не замужем   2783  0.098096\n",
       "в разводе               1178  0.070458\n",
       "вдовец / вдова           952  0.065126\n",
       "гражданский брак        4117  0.093758\n",
       "женат / замужем        12230  0.075634"
      ]
     },
     "execution_count": 57,
     "metadata": {},
     "output_type": "execute_result"
    }
   ],
   "source": [
    "data.groupby(['family_status']).agg({'debt': ['count', 'mean']})"
   ]
  },
  {
   "cell_type": "markdown",
   "metadata": {},
   "source": [
    "**Вывод**"
   ]
  },
  {
   "cell_type": "markdown",
   "metadata": {},
   "source": [
    "1. В целом, можем наблюдать, что потенциальные заемщики, находящиеся в данный момент в браке, либо находившиеся в нем в прошлом (вдовы/вдовцы и разведенные) имеют меньшую долю просрочек (от 6.5% до 7.6%)\n",
    "2. Холостые, либо находящиеся в гражданском браке показывают более высокую долю просрочки (9.8% и 9.4% соответственно)\n",
    "\n",
    "Это позволяе нам предположить, что женатые сейчас или в прошлом в целом более надежные заемщики, чем холостые, либо находящиеся в гражданском браке. "
   ]
  },
  {
   "cell_type": "markdown",
   "metadata": {},
   "source": [
    "- Есть ли зависимость между уровнем дохода и возвратом кредита в срок?"
   ]
  },
  {
   "cell_type": "code",
   "execution_count": 58,
   "metadata": {},
   "outputs": [
    {
     "data": {
      "text/html": [
       "<div>\n",
       "<style scoped>\n",
       "    .dataframe tbody tr th:only-of-type {\n",
       "        vertical-align: middle;\n",
       "    }\n",
       "\n",
       "    .dataframe tbody tr th {\n",
       "        vertical-align: top;\n",
       "    }\n",
       "\n",
       "    .dataframe thead tr th {\n",
       "        text-align: left;\n",
       "    }\n",
       "\n",
       "    .dataframe thead tr:last-of-type th {\n",
       "        text-align: right;\n",
       "    }\n",
       "</style>\n",
       "<table border=\"1\" class=\"dataframe\">\n",
       "  <thead>\n",
       "    <tr>\n",
       "      <th></th>\n",
       "      <th colspan=\"2\" halign=\"left\">debt</th>\n",
       "    </tr>\n",
       "    <tr>\n",
       "      <th></th>\n",
       "      <th>count</th>\n",
       "      <th>mean</th>\n",
       "    </tr>\n",
       "    <tr>\n",
       "      <th>income_category</th>\n",
       "      <th></th>\n",
       "      <th></th>\n",
       "    </tr>\n",
       "  </thead>\n",
       "  <tbody>\n",
       "    <tr>\n",
       "      <th>До 50K</th>\n",
       "      <td>368</td>\n",
       "      <td>0.059783</td>\n",
       "    </tr>\n",
       "    <tr>\n",
       "      <th>50K-100K</th>\n",
       "      <td>4056</td>\n",
       "      <td>0.081361</td>\n",
       "    </tr>\n",
       "    <tr>\n",
       "      <th>100K-150K</th>\n",
       "      <td>7330</td>\n",
       "      <td>0.087449</td>\n",
       "    </tr>\n",
       "    <tr>\n",
       "      <th>150K-200K</th>\n",
       "      <td>4489</td>\n",
       "      <td>0.084429</td>\n",
       "    </tr>\n",
       "    <tr>\n",
       "      <th>200K-250K</th>\n",
       "      <td>2225</td>\n",
       "      <td>0.073708</td>\n",
       "    </tr>\n",
       "    <tr>\n",
       "      <th>Свыше 250K</th>\n",
       "      <td>2792</td>\n",
       "      <td>0.069126</td>\n",
       "    </tr>\n",
       "  </tbody>\n",
       "</table>\n",
       "</div>"
      ],
      "text/plain": [
       "                 debt          \n",
       "                count      mean\n",
       "income_category                \n",
       "До 50K            368  0.059783\n",
       "50K-100K         4056  0.081361\n",
       "100K-150K        7330  0.087449\n",
       "150K-200K        4489  0.084429\n",
       "200K-250K        2225  0.073708\n",
       "Свыше 250K       2792  0.069126"
      ]
     },
     "execution_count": 58,
     "metadata": {},
     "output_type": "execute_result"
    }
   ],
   "source": [
    "data.groupby(['income_category']).agg({'debt': ['count', 'mean']})"
   ]
  },
  {
   "cell_type": "markdown",
   "metadata": {},
   "source": [
    "**Вывод**"
   ]
  },
  {
   "cell_type": "markdown",
   "metadata": {},
   "source": [
    "1. Наиболее многочисленная группа по уровню дохода - 100-150 тысяч. В этой же группе наблюдается самый высокий процент должников - 8.8%\n",
    "2. Однако с ростом уровня дохода доля должников постепенно снижается: 8.4%, 7.4%, 6.9%\n",
    "\n",
    "Таким образом, мы можем полагать, что более высокий уровень дохода означает более высокую вероятность возврата денежных средств вовремя"
   ]
  },
  {
   "cell_type": "markdown",
   "metadata": {},
   "source": [
    "- Как разные цели кредита влияют на его возврат в срок?"
   ]
  },
  {
   "cell_type": "code",
   "execution_count": 59,
   "metadata": {},
   "outputs": [
    {
     "data": {
      "text/html": [
       "<div>\n",
       "<style scoped>\n",
       "    .dataframe tbody tr th:only-of-type {\n",
       "        vertical-align: middle;\n",
       "    }\n",
       "\n",
       "    .dataframe tbody tr th {\n",
       "        vertical-align: top;\n",
       "    }\n",
       "\n",
       "    .dataframe thead tr th {\n",
       "        text-align: left;\n",
       "    }\n",
       "\n",
       "    .dataframe thead tr:last-of-type th {\n",
       "        text-align: right;\n",
       "    }\n",
       "</style>\n",
       "<table border=\"1\" class=\"dataframe\">\n",
       "  <thead>\n",
       "    <tr>\n",
       "      <th></th>\n",
       "      <th colspan=\"2\" halign=\"left\">debt</th>\n",
       "    </tr>\n",
       "    <tr>\n",
       "      <th></th>\n",
       "      <th>count</th>\n",
       "      <th>mean</th>\n",
       "    </tr>\n",
       "    <tr>\n",
       "      <th>purpose_category</th>\n",
       "      <th></th>\n",
       "      <th></th>\n",
       "    </tr>\n",
       "  </thead>\n",
       "  <tbody>\n",
       "    <tr>\n",
       "      <th>автомобиль</th>\n",
       "      <td>4276</td>\n",
       "      <td>0.093078</td>\n",
       "    </tr>\n",
       "    <tr>\n",
       "      <th>жилье</th>\n",
       "      <td>3781</td>\n",
       "      <td>0.069029</td>\n",
       "    </tr>\n",
       "    <tr>\n",
       "      <th>недвижимость</th>\n",
       "      <td>6293</td>\n",
       "      <td>0.075004</td>\n",
       "    </tr>\n",
       "    <tr>\n",
       "      <th>образование</th>\n",
       "      <td>3972</td>\n",
       "      <td>0.092900</td>\n",
       "    </tr>\n",
       "    <tr>\n",
       "      <th>свадьба</th>\n",
       "      <td>2304</td>\n",
       "      <td>0.079861</td>\n",
       "    </tr>\n",
       "    <tr>\n",
       "      <th>семья</th>\n",
       "      <td>634</td>\n",
       "      <td>0.070978</td>\n",
       "    </tr>\n",
       "  </tbody>\n",
       "</table>\n",
       "</div>"
      ],
      "text/plain": [
       "                  debt          \n",
       "                 count      mean\n",
       "purpose_category                \n",
       "автомобиль        4276  0.093078\n",
       "жилье             3781  0.069029\n",
       "недвижимость      6293  0.075004\n",
       "образование       3972  0.092900\n",
       "свадьба           2304  0.079861\n",
       "семья              634  0.070978"
      ]
     },
     "execution_count": 59,
     "metadata": {},
     "output_type": "execute_result"
    }
   ],
   "source": [
    "data.groupby(['purpose_category']).agg({'debt': ['count', 'mean']})"
   ]
  },
  {
   "cell_type": "markdown",
   "metadata": {},
   "source": [
    "**Вывод**"
   ]
  },
  {
   "cell_type": "markdown",
   "metadata": {},
   "source": [
    "1. В группах \"автомобиль\" и \"образование\" наблюдается самый высокий процент должников. Можем предположить, что риск лишиться автомобиля или образование (которое отобрать в принципе невозможно) слабо дисциплинирует людей, поэтому мы и наблюдаем 9.3% дожников в обеих группах\n",
    "2. Самая низкая доля должников в группах \"жилье\" и \"семья\" - 6.9% и 7.1% соответственно \n",
    "\n",
    "На основании приведенных данных можем сделать вывод о влиянии цели кредита на вероятность его возврата вовремя. Более \"фундаментальные\" категории сильнее дисциплинируют заемщиков. "
   ]
  },
  {
   "cell_type": "markdown",
   "metadata": {},
   "source": [
    "## Шаг 4. Общий вывод"
   ]
  },
  {
   "cell_type": "markdown",
   "metadata": {},
   "source": [
    "1. Была произведена очистика данных и удаление дубликатов:\n",
    "    + В данных были обнаружены дубликаты категорий по уровню образования - проблема в разном регистре записи категории. Точно определить причину возникновения ошибки проблематично, но вероятно она где-то в процессе внесения данных в систему. Возможно использовались разные источники ввода. Валидацию входных данных можно проводить уже на этапе сбора\n",
    "    + Также зафиксировано порядка 70 строк полных дубликатов (при этом их количество выросло с примерно 55 до 70 после очистки дублей в столбце с категориями по уровню образования). Стоит уделить внимание процессу проверки введенной информации, так как уже в процессе сбора на уровне БД стоит иметь защитный механизм.\n",
    "    + В данных наблюдались два типа ошибка в данных с количеством отработанных дней (рекомендуется уделить особое внимание проверке заполнения данного столбца):\n",
    "        - Часть значений была отрицательной. Не стоит исключать проблему ввода данных, но наиболее вероятно, что более 15 тысяч таких значений появились из-за ошибки на каком-то из этапов промежуточной обработки данных. Эта проблема была устранена преобразованием отрицательных значений в положительные.\n",
    "        - Часть значений была неоправданно завышенной.\n",
    "    + В столбце с уровнем дохода наблюдался множество пропусков. Оно было скорректировано путем заполнения медианным значением для групп по возрасту и источнику дохода. Рекомендуется записывать и хранить в БД только данные о заемщиках с указанным уровнем дохода\n",
    "    + Также было выявлено, что в соответствии с указанными в таблице данными, часть заемщиков начала трудовую деятельность ранее законно установленного порога. Так как такие данные могут внести ошибки на этапе ответов на поставленные вопросы, было принято решение эту информацию исключить из анализа\n",
    "2. Для ответа на поставленные перед исследованием вопросы была проведена категоризация значений в трех разрезах:\n",
    "    + Группа по возрасту\n",
    "    + Группа по \"реальной\" цели получения кредита\n",
    "    + Группа по уровню дохода\n",
    "3. Установлено:\n",
    "    + Наличие детей скорее снижает вероятность возврата кредита в срок. При этом их количество влияет на долю должников в группах несущественно\n",
    "    + Наличие супрага в текущий момент, либо его наличие в прошлом (развод/утеря супруга) говорит в пользу более высокой вероятности возврата кредита в срок\n",
    "    + В группах заемщиков с более высоким уровнем дохода вероятность возврата кредита выше. При этом, при росте дохода наблюдается снижение доли должников \n",
    "    + Более \"фундаментальные\" категории займа (недвижимость, семья) показывают меньший процент должников. Наиболее \"опасные\" категории: автомобиль и образование"
   ]
  },
  {
   "cell_type": "code",
   "execution_count": 60,
   "metadata": {},
   "outputs": [
    {
     "data": {
      "text/html": [
       "<div>\n",
       "<style scoped>\n",
       "    .dataframe tbody tr th:only-of-type {\n",
       "        vertical-align: middle;\n",
       "    }\n",
       "\n",
       "    .dataframe tbody tr th {\n",
       "        vertical-align: top;\n",
       "    }\n",
       "\n",
       "    .dataframe thead th {\n",
       "        text-align: right;\n",
       "    }\n",
       "</style>\n",
       "<table border=\"1\" class=\"dataframe\">\n",
       "  <thead>\n",
       "    <tr style=\"text-align: right;\">\n",
       "      <th></th>\n",
       "      <th>children</th>\n",
       "      <th>days_employed</th>\n",
       "      <th>dob_years</th>\n",
       "      <th>education</th>\n",
       "      <th>education_id</th>\n",
       "      <th>family_status</th>\n",
       "      <th>family_status_id</th>\n",
       "      <th>gender</th>\n",
       "      <th>income_type</th>\n",
       "      <th>debt</th>\n",
       "      <th>total_income</th>\n",
       "      <th>purpose</th>\n",
       "      <th>yrs_employed</th>\n",
       "      <th>started_working</th>\n",
       "      <th>age_group</th>\n",
       "      <th>purpose_category</th>\n",
       "      <th>income_category</th>\n",
       "    </tr>\n",
       "  </thead>\n",
       "  <tbody>\n",
       "    <tr>\n",
       "      <th>0</th>\n",
       "      <td>1</td>\n",
       "      <td>8437</td>\n",
       "      <td>42</td>\n",
       "      <td>высшее</td>\n",
       "      <td>0</td>\n",
       "      <td>женат / замужем</td>\n",
       "      <td>0</td>\n",
       "      <td>F</td>\n",
       "      <td>сотрудник</td>\n",
       "      <td>0</td>\n",
       "      <td>253875</td>\n",
       "      <td>покупка жилья</td>\n",
       "      <td>23</td>\n",
       "      <td>18</td>\n",
       "      <td>зрелые люди</td>\n",
       "      <td>жилье</td>\n",
       "      <td>Свыше 250K</td>\n",
       "    </tr>\n",
       "    <tr>\n",
       "      <th>1</th>\n",
       "      <td>1</td>\n",
       "      <td>4024</td>\n",
       "      <td>36</td>\n",
       "      <td>среднее</td>\n",
       "      <td>1</td>\n",
       "      <td>женат / замужем</td>\n",
       "      <td>0</td>\n",
       "      <td>F</td>\n",
       "      <td>сотрудник</td>\n",
       "      <td>0</td>\n",
       "      <td>112080</td>\n",
       "      <td>приобретение автомобиля</td>\n",
       "      <td>11</td>\n",
       "      <td>25</td>\n",
       "      <td>зрелые люди</td>\n",
       "      <td>автомобиль</td>\n",
       "      <td>100K-150K</td>\n",
       "    </tr>\n",
       "    <tr>\n",
       "      <th>2</th>\n",
       "      <td>0</td>\n",
       "      <td>5623</td>\n",
       "      <td>33</td>\n",
       "      <td>среднее</td>\n",
       "      <td>1</td>\n",
       "      <td>женат / замужем</td>\n",
       "      <td>0</td>\n",
       "      <td>M</td>\n",
       "      <td>сотрудник</td>\n",
       "      <td>0</td>\n",
       "      <td>145885</td>\n",
       "      <td>покупка жилья</td>\n",
       "      <td>15</td>\n",
       "      <td>17</td>\n",
       "      <td>молодежь</td>\n",
       "      <td>жилье</td>\n",
       "      <td>100K-150K</td>\n",
       "    </tr>\n",
       "    <tr>\n",
       "      <th>3</th>\n",
       "      <td>3</td>\n",
       "      <td>4124</td>\n",
       "      <td>32</td>\n",
       "      <td>среднее</td>\n",
       "      <td>1</td>\n",
       "      <td>женат / замужем</td>\n",
       "      <td>0</td>\n",
       "      <td>M</td>\n",
       "      <td>сотрудник</td>\n",
       "      <td>0</td>\n",
       "      <td>267628</td>\n",
       "      <td>дополнительное образование</td>\n",
       "      <td>11</td>\n",
       "      <td>20</td>\n",
       "      <td>молодежь</td>\n",
       "      <td>образование</td>\n",
       "      <td>Свыше 250K</td>\n",
       "    </tr>\n",
       "    <tr>\n",
       "      <th>4</th>\n",
       "      <td>0</td>\n",
       "      <td>3402</td>\n",
       "      <td>53</td>\n",
       "      <td>среднее</td>\n",
       "      <td>1</td>\n",
       "      <td>гражданский брак</td>\n",
       "      <td>1</td>\n",
       "      <td>F</td>\n",
       "      <td>пенсионер</td>\n",
       "      <td>0</td>\n",
       "      <td>158616</td>\n",
       "      <td>сыграть свадьбу</td>\n",
       "      <td>9</td>\n",
       "      <td>43</td>\n",
       "      <td>зрелые люди</td>\n",
       "      <td>свадьба</td>\n",
       "      <td>150K-200K</td>\n",
       "    </tr>\n",
       "  </tbody>\n",
       "</table>\n",
       "</div>"
      ],
      "text/plain": [
       "   children  days_employed  dob_years education  education_id  \\\n",
       "0         1           8437         42    высшее             0   \n",
       "1         1           4024         36   среднее             1   \n",
       "2         0           5623         33   среднее             1   \n",
       "3         3           4124         32   среднее             1   \n",
       "4         0           3402         53   среднее             1   \n",
       "\n",
       "      family_status  family_status_id gender income_type  debt  total_income  \\\n",
       "0   женат / замужем                 0      F   сотрудник     0        253875   \n",
       "1   женат / замужем                 0      F   сотрудник     0        112080   \n",
       "2   женат / замужем                 0      M   сотрудник     0        145885   \n",
       "3   женат / замужем                 0      M   сотрудник     0        267628   \n",
       "4  гражданский брак                 1      F   пенсионер     0        158616   \n",
       "\n",
       "                      purpose  yrs_employed  started_working    age_group  \\\n",
       "0               покупка жилья            23               18  зрелые люди   \n",
       "1     приобретение автомобиля            11               25  зрелые люди   \n",
       "2               покупка жилья            15               17     молодежь   \n",
       "3  дополнительное образование            11               20     молодежь   \n",
       "4             сыграть свадьбу             9               43  зрелые люди   \n",
       "\n",
       "  purpose_category income_category  \n",
       "0            жилье      Свыше 250K  \n",
       "1       автомобиль       100K-150K  \n",
       "2            жилье       100K-150K  \n",
       "3      образование      Свыше 250K  \n",
       "4          свадьба       150K-200K  "
      ]
     },
     "execution_count": 60,
     "metadata": {},
     "output_type": "execute_result"
    }
   ],
   "source": [
    "data.head()"
   ]
  },
  {
   "cell_type": "markdown",
   "metadata": {},
   "source": [
    "## Чек-лист готовности проекта\n",
    "\n",
    "Поставьте 'x' в выполненных пунктах. Далее нажмите Shift+Enter."
   ]
  },
  {
   "cell_type": "markdown",
   "metadata": {},
   "source": [
    "- [x]  открыт файл;\n",
    "- [x]  файл изучен;\n",
    "- [x]  определены пропущенные значения;\n",
    "- [x]  заполнены пропущенные значения;\n",
    "- [x]  есть пояснение, какие пропущенные значения обнаружены;\n",
    "- [x]  описаны возможные причины появления пропусков в данных;\n",
    "- [x]  объяснено, по какому принципу заполнены пропуски;\n",
    "- [x]  заменен вещественный тип данных на целочисленный;\n",
    "- [x]  есть пояснение, какой метод используется для изменения типа данных и почему;\n",
    "- [x]  удалены дубликаты;\n",
    "- [x]  есть пояснение, какой метод используется для поиска и удаления дубликатов;\n",
    "- [x]  описаны возможные причины появления дубликатов в данных;\n",
    "- [x]  выделены леммы в значениях столбца с целями получения кредита;\n",
    "- [x]  описан процесс лемматизации;\n",
    "- [x]  данные категоризированы;\n",
    "- [x]  есть объяснение принципа категоризации данных;\n",
    "- [x]  есть ответ на вопрос: \"Есть ли зависимость между наличием детей и возвратом кредита в срок?\";\n",
    "- [x]  есть ответ на вопрос: \"Есть ли зависимость между семейным положением и возвратом кредита в срок?\";\n",
    "- [x]  есть ответ на вопрос: \"Есть ли зависимость между уровнем дохода и возвратом кредита в срок?\";\n",
    "- [x]  есть ответ на вопрос: \"Как разные цели кредита влияют на его возврат в срок?\";\n",
    "- [x]  в каждом этапе есть выводы;\n",
    "- [x]  есть общий вывод."
   ]
  }
 ],
 "metadata": {
  "ExecuteTimeLog": [
   {
    "duration": 809,
    "start_time": "2021-11-30T18:55:46.644Z"
   },
   {
    "duration": 95,
    "start_time": "2021-11-30T18:58:12.748Z"
   },
   {
    "duration": 16,
    "start_time": "2021-11-30T18:58:25.537Z"
   },
   {
    "duration": 37,
    "start_time": "2021-11-30T18:58:35.218Z"
   },
   {
    "duration": 8,
    "start_time": "2021-11-30T19:07:45.101Z"
   },
   {
    "duration": 381,
    "start_time": "2021-11-30T19:09:14.776Z"
   },
   {
    "duration": 10,
    "start_time": "2021-11-30T19:09:32.291Z"
   },
   {
    "duration": 89,
    "start_time": "2021-11-30T19:10:55.754Z"
   },
   {
    "duration": 10,
    "start_time": "2021-11-30T19:11:12.199Z"
   },
   {
    "duration": 81,
    "start_time": "2021-11-30T19:33:33.130Z"
   },
   {
    "duration": 80,
    "start_time": "2021-11-30T19:33:48.013Z"
   },
   {
    "duration": 735,
    "start_time": "2021-11-30T19:35:09.166Z"
   },
   {
    "duration": 4063,
    "start_time": "2021-11-30T19:37:26.813Z"
   },
   {
    "duration": 18,
    "start_time": "2021-11-30T19:38:41.537Z"
   },
   {
    "duration": 61,
    "start_time": "2021-11-30T19:38:53.865Z"
   },
   {
    "duration": 17,
    "start_time": "2021-11-30T19:39:00.052Z"
   },
   {
    "duration": 86,
    "start_time": "2021-11-30T19:39:04.157Z"
   },
   {
    "duration": 14,
    "start_time": "2021-11-30T19:39:19.678Z"
   },
   {
    "duration": 18,
    "start_time": "2021-11-30T19:39:21.444Z"
   },
   {
    "duration": 1758,
    "start_time": "2021-11-30T19:39:54.118Z"
   },
   {
    "duration": 12,
    "start_time": "2021-11-30T19:41:03.797Z"
   },
   {
    "duration": 17,
    "start_time": "2021-11-30T19:41:06.350Z"
   },
   {
    "duration": 25,
    "start_time": "2021-11-30T19:41:21.494Z"
   },
   {
    "duration": 18,
    "start_time": "2021-11-30T19:41:28.596Z"
   },
   {
    "duration": 80,
    "start_time": "2021-11-30T19:41:35.041Z"
   },
   {
    "duration": 16,
    "start_time": "2021-11-30T19:41:35.649Z"
   },
   {
    "duration": 49,
    "start_time": "2021-11-30T19:42:38.290Z"
   },
   {
    "duration": 790,
    "start_time": "2021-11-30T19:44:07.325Z"
   },
   {
    "duration": 66,
    "start_time": "2021-11-30T19:44:08.117Z"
   },
   {
    "duration": 18,
    "start_time": "2021-11-30T19:44:08.895Z"
   },
   {
    "duration": 26,
    "start_time": "2021-11-30T19:44:09.726Z"
   },
   {
    "duration": 37,
    "start_time": "2021-11-30T19:44:28.306Z"
   },
   {
    "duration": 16,
    "start_time": "2021-11-30T19:45:10.908Z"
   },
   {
    "duration": 10,
    "start_time": "2021-11-30T19:46:39.054Z"
   },
   {
    "duration": 78,
    "start_time": "2021-11-30T19:50:10.087Z"
   },
   {
    "duration": 88,
    "start_time": "2021-11-30T19:50:25.928Z"
   },
   {
    "duration": 387,
    "start_time": "2021-11-30T19:50:31.889Z"
   },
   {
    "duration": 16,
    "start_time": "2021-11-30T19:50:38.338Z"
   },
   {
    "duration": 19,
    "start_time": "2021-11-30T19:50:47.746Z"
   },
   {
    "duration": 4,
    "start_time": "2021-11-30T19:52:02.324Z"
   },
   {
    "duration": 20,
    "start_time": "2021-11-30T19:52:05.897Z"
   },
   {
    "duration": 22,
    "start_time": "2021-11-30T19:52:59.302Z"
   },
   {
    "duration": 22,
    "start_time": "2021-11-30T19:54:57.673Z"
   },
   {
    "duration": 21,
    "start_time": "2021-11-30T19:54:58.627Z"
   },
   {
    "duration": 725,
    "start_time": "2021-11-30T19:55:32.105Z"
   },
   {
    "duration": 62,
    "start_time": "2021-11-30T19:55:32.833Z"
   },
   {
    "duration": 15,
    "start_time": "2021-11-30T19:55:32.898Z"
   },
   {
    "duration": 27,
    "start_time": "2021-11-30T19:55:32.916Z"
   },
   {
    "duration": 27,
    "start_time": "2021-11-30T19:55:32.946Z"
   },
   {
    "duration": 13,
    "start_time": "2021-11-30T19:55:32.976Z"
   },
   {
    "duration": 8,
    "start_time": "2021-11-30T19:55:32.991Z"
   },
   {
    "duration": 18,
    "start_time": "2021-11-30T19:55:33.002Z"
   },
   {
    "duration": 58,
    "start_time": "2021-11-30T19:55:33.022Z"
   },
   {
    "duration": 473,
    "start_time": "2021-11-30T20:14:00.370Z"
   },
   {
    "duration": 38,
    "start_time": "2021-11-30T20:14:51.831Z"
   },
   {
    "duration": 309,
    "start_time": "2021-11-30T20:16:15.960Z"
   },
   {
    "duration": 677,
    "start_time": "2021-11-30T20:16:29.340Z"
   },
   {
    "duration": 599,
    "start_time": "2021-11-30T20:16:42.486Z"
   },
   {
    "duration": 39,
    "start_time": "2021-11-30T20:19:58.202Z"
   },
   {
    "duration": 26,
    "start_time": "2021-11-30T20:21:13.191Z"
   },
   {
    "duration": 15,
    "start_time": "2021-11-30T20:23:57.994Z"
   },
   {
    "duration": 46,
    "start_time": "2021-11-30T20:25:09.185Z"
   },
   {
    "duration": 1032,
    "start_time": "2021-11-30T20:26:32.835Z"
   },
   {
    "duration": 67,
    "start_time": "2021-11-30T20:26:33.871Z"
   },
   {
    "duration": 15,
    "start_time": "2021-11-30T20:26:33.942Z"
   },
   {
    "duration": 36,
    "start_time": "2021-11-30T20:26:33.960Z"
   },
   {
    "duration": 13,
    "start_time": "2021-11-30T20:26:33.999Z"
   },
   {
    "duration": 56,
    "start_time": "2021-11-30T20:26:34.014Z"
   },
   {
    "duration": 9,
    "start_time": "2021-11-30T20:26:34.073Z"
   },
   {
    "duration": 19,
    "start_time": "2021-11-30T20:26:34.086Z"
   },
   {
    "duration": 721,
    "start_time": "2021-11-30T20:26:34.108Z"
   },
   {
    "duration": 46,
    "start_time": "2021-11-30T20:26:34.832Z"
   },
   {
    "duration": 48,
    "start_time": "2021-11-30T20:26:34.880Z"
   },
   {
    "duration": 18,
    "start_time": "2021-11-30T20:27:28.091Z"
   },
   {
    "duration": 732,
    "start_time": "2021-11-30T20:29:00.721Z"
   },
   {
    "duration": 68,
    "start_time": "2021-11-30T20:29:01.456Z"
   },
   {
    "duration": 16,
    "start_time": "2021-11-30T20:29:01.527Z"
   },
   {
    "duration": 46,
    "start_time": "2021-11-30T20:29:01.546Z"
   },
   {
    "duration": 22,
    "start_time": "2021-11-30T20:29:01.594Z"
   },
   {
    "duration": 39,
    "start_time": "2021-11-30T20:29:01.619Z"
   },
   {
    "duration": 18,
    "start_time": "2021-11-30T20:29:01.660Z"
   },
   {
    "duration": 25,
    "start_time": "2021-11-30T20:29:01.681Z"
   },
   {
    "duration": 29,
    "start_time": "2021-11-30T20:29:01.710Z"
   },
   {
    "duration": 617,
    "start_time": "2021-11-30T20:29:01.742Z"
   },
   {
    "duration": 32,
    "start_time": "2021-11-30T20:29:02.361Z"
   },
   {
    "duration": 45,
    "start_time": "2021-11-30T20:29:02.395Z"
   },
   {
    "duration": 781,
    "start_time": "2021-11-30T20:29:20.946Z"
   },
   {
    "duration": 66,
    "start_time": "2021-11-30T20:29:21.730Z"
   },
   {
    "duration": 16,
    "start_time": "2021-11-30T20:29:21.799Z"
   },
   {
    "duration": 27,
    "start_time": "2021-11-30T20:29:21.818Z"
   },
   {
    "duration": 27,
    "start_time": "2021-11-30T20:29:21.847Z"
   },
   {
    "duration": 14,
    "start_time": "2021-11-30T20:29:21.876Z"
   },
   {
    "duration": 9,
    "start_time": "2021-11-30T20:29:21.893Z"
   },
   {
    "duration": 73,
    "start_time": "2021-11-30T20:29:21.904Z"
   },
   {
    "duration": 6,
    "start_time": "2021-11-30T20:29:38.014Z"
   },
   {
    "duration": 7,
    "start_time": "2021-11-30T20:30:19.615Z"
   },
   {
    "duration": 26,
    "start_time": "2021-11-30T20:30:32.459Z"
   },
   {
    "duration": 33,
    "start_time": "2021-11-30T20:30:58.367Z"
   },
   {
    "duration": 35,
    "start_time": "2021-11-30T20:31:08.417Z"
   },
   {
    "duration": 783,
    "start_time": "2021-11-30T20:32:20.280Z"
   },
   {
    "duration": 69,
    "start_time": "2021-11-30T20:32:21.067Z"
   },
   {
    "duration": 16,
    "start_time": "2021-11-30T20:32:21.139Z"
   },
   {
    "duration": 34,
    "start_time": "2021-11-30T20:32:21.158Z"
   },
   {
    "duration": 13,
    "start_time": "2021-11-30T20:32:21.195Z"
   },
   {
    "duration": 17,
    "start_time": "2021-11-30T20:32:21.210Z"
   },
   {
    "duration": 40,
    "start_time": "2021-11-30T20:32:21.230Z"
   },
   {
    "duration": 34,
    "start_time": "2021-11-30T20:32:21.273Z"
   },
   {
    "duration": 944,
    "start_time": "2021-11-30T20:34:25.159Z"
   },
   {
    "duration": 19,
    "start_time": "2021-11-30T20:34:35.473Z"
   },
   {
    "duration": 703,
    "start_time": "2021-11-30T20:34:38.336Z"
   },
   {
    "duration": 28,
    "start_time": "2021-11-30T20:35:59.671Z"
   },
   {
    "duration": 39,
    "start_time": "2021-11-30T20:39:25.202Z"
   },
   {
    "duration": 39,
    "start_time": "2021-11-30T20:39:47.381Z"
   },
   {
    "duration": 40,
    "start_time": "2021-11-30T20:40:42.269Z"
   },
   {
    "duration": 13,
    "start_time": "2021-11-30T20:45:55.566Z"
   },
   {
    "duration": 42,
    "start_time": "2021-11-30T20:46:19.465Z"
   },
   {
    "duration": 23,
    "start_time": "2021-11-30T20:47:47.586Z"
   },
   {
    "duration": 16,
    "start_time": "2021-11-30T20:47:48.471Z"
   },
   {
    "duration": 27,
    "start_time": "2021-11-30T20:48:38.904Z"
   },
   {
    "duration": 28,
    "start_time": "2021-11-30T20:49:33.585Z"
   },
   {
    "duration": 18,
    "start_time": "2021-11-30T20:49:44.409Z"
   },
   {
    "duration": 8346,
    "start_time": "2021-11-30T20:52:41.632Z"
   },
   {
    "duration": 733,
    "start_time": "2021-11-30T20:52:54.014Z"
   },
   {
    "duration": 70,
    "start_time": "2021-11-30T20:52:54.749Z"
   },
   {
    "duration": 15,
    "start_time": "2021-11-30T20:52:54.822Z"
   },
   {
    "duration": 49,
    "start_time": "2021-11-30T20:52:54.839Z"
   },
   {
    "duration": 10,
    "start_time": "2021-11-30T20:52:54.890Z"
   },
   {
    "duration": 16,
    "start_time": "2021-11-30T20:52:54.902Z"
   },
   {
    "duration": 46,
    "start_time": "2021-11-30T20:52:54.921Z"
   },
   {
    "duration": 34,
    "start_time": "2021-11-30T20:52:54.970Z"
   },
   {
    "duration": 27,
    "start_time": "2021-11-30T20:52:55.007Z"
   },
   {
    "duration": 674,
    "start_time": "2021-11-30T20:52:55.037Z"
   },
   {
    "duration": 54,
    "start_time": "2021-11-30T20:52:55.714Z"
   },
   {
    "duration": 43,
    "start_time": "2021-11-30T20:52:55.771Z"
   },
   {
    "duration": 53,
    "start_time": "2021-11-30T20:52:55.816Z"
   },
   {
    "duration": 18,
    "start_time": "2021-11-30T20:52:55.874Z"
   },
   {
    "duration": 393,
    "start_time": "2021-12-01T20:06:27.335Z"
   },
   {
    "duration": 1401,
    "start_time": "2021-12-01T20:06:37.300Z"
   },
   {
    "duration": 67,
    "start_time": "2021-12-01T20:06:38.703Z"
   },
   {
    "duration": 19,
    "start_time": "2021-12-01T20:06:38.774Z"
   },
   {
    "duration": 28,
    "start_time": "2021-12-01T20:06:38.796Z"
   },
   {
    "duration": 10,
    "start_time": "2021-12-01T20:06:38.827Z"
   },
   {
    "duration": 54,
    "start_time": "2021-12-01T20:06:38.839Z"
   },
   {
    "duration": 9,
    "start_time": "2021-12-01T20:06:38.896Z"
   },
   {
    "duration": 30,
    "start_time": "2021-12-01T20:06:38.907Z"
   },
   {
    "duration": 48,
    "start_time": "2021-12-01T20:06:38.941Z"
   },
   {
    "duration": 597,
    "start_time": "2021-12-01T20:06:38.992Z"
   },
   {
    "duration": 38,
    "start_time": "2021-12-01T20:06:39.592Z"
   },
   {
    "duration": 63,
    "start_time": "2021-12-01T20:06:39.632Z"
   },
   {
    "duration": 29,
    "start_time": "2021-12-01T20:06:39.698Z"
   },
   {
    "duration": 69,
    "start_time": "2021-12-01T20:06:39.729Z"
   },
   {
    "duration": 8,
    "start_time": "2021-12-01T20:07:40.855Z"
   },
   {
    "duration": 9,
    "start_time": "2021-12-01T20:07:46.473Z"
   },
   {
    "duration": 53,
    "start_time": "2021-12-01T20:08:09.054Z"
   },
   {
    "duration": 14,
    "start_time": "2021-12-01T20:10:04.216Z"
   },
   {
    "duration": 18,
    "start_time": "2021-12-01T20:10:09.837Z"
   },
   {
    "duration": 6,
    "start_time": "2021-12-01T20:14:07.727Z"
   },
   {
    "duration": 18,
    "start_time": "2021-12-01T20:14:11.639Z"
   },
   {
    "duration": 951,
    "start_time": "2021-12-01T20:14:49.206Z"
   },
   {
    "duration": 90,
    "start_time": "2021-12-01T20:14:50.160Z"
   },
   {
    "duration": 29,
    "start_time": "2021-12-01T20:14:50.254Z"
   },
   {
    "duration": 26,
    "start_time": "2021-12-01T20:14:50.286Z"
   },
   {
    "duration": 10,
    "start_time": "2021-12-01T20:14:50.314Z"
   },
   {
    "duration": 13,
    "start_time": "2021-12-01T20:14:50.327Z"
   },
   {
    "duration": 11,
    "start_time": "2021-12-01T20:14:50.383Z"
   },
   {
    "duration": 47,
    "start_time": "2021-12-01T20:14:50.399Z"
   },
   {
    "duration": 53,
    "start_time": "2021-12-01T20:14:50.450Z"
   },
   {
    "duration": 875,
    "start_time": "2021-12-01T20:14:50.507Z"
   },
   {
    "duration": 48,
    "start_time": "2021-12-01T20:14:51.385Z"
   },
   {
    "duration": 62,
    "start_time": "2021-12-01T20:14:51.436Z"
   },
   {
    "duration": 29,
    "start_time": "2021-12-01T20:14:51.501Z"
   },
   {
    "duration": 5,
    "start_time": "2021-12-01T20:14:51.533Z"
   },
   {
    "duration": 46,
    "start_time": "2021-12-01T20:14:51.541Z"
   },
   {
    "duration": 1023,
    "start_time": "2021-12-01T20:15:25.148Z"
   },
   {
    "duration": 95,
    "start_time": "2021-12-01T20:15:26.174Z"
   },
   {
    "duration": 28,
    "start_time": "2021-12-01T20:15:26.273Z"
   },
   {
    "duration": 41,
    "start_time": "2021-12-01T20:15:26.305Z"
   },
   {
    "duration": 37,
    "start_time": "2021-12-01T20:15:26.349Z"
   },
   {
    "duration": 21,
    "start_time": "2021-12-01T20:15:26.389Z"
   },
   {
    "duration": 10,
    "start_time": "2021-12-01T20:15:26.412Z"
   },
   {
    "duration": 78,
    "start_time": "2021-12-01T20:15:26.425Z"
   },
   {
    "duration": 23,
    "start_time": "2021-12-01T20:15:26.508Z"
   },
   {
    "duration": 859,
    "start_time": "2021-12-01T20:15:26.534Z"
   },
   {
    "duration": 56,
    "start_time": "2021-12-01T20:15:27.396Z"
   },
   {
    "duration": 63,
    "start_time": "2021-12-01T20:15:27.455Z"
   },
   {
    "duration": 30,
    "start_time": "2021-12-01T20:15:27.520Z"
   },
   {
    "duration": 32,
    "start_time": "2021-12-01T20:15:27.552Z"
   },
   {
    "duration": 19,
    "start_time": "2021-12-01T20:15:27.586Z"
   },
   {
    "duration": 6,
    "start_time": "2021-12-01T20:17:13.695Z"
   },
   {
    "duration": 20,
    "start_time": "2021-12-01T20:17:16.605Z"
   },
   {
    "duration": 52,
    "start_time": "2021-12-01T20:18:01.685Z"
   },
   {
    "duration": 748,
    "start_time": "2021-12-01T20:19:10.781Z"
   },
   {
    "duration": 70,
    "start_time": "2021-12-01T20:19:11.531Z"
   },
   {
    "duration": 15,
    "start_time": "2021-12-01T20:19:11.604Z"
   },
   {
    "duration": 30,
    "start_time": "2021-12-01T20:19:11.622Z"
   },
   {
    "duration": 12,
    "start_time": "2021-12-01T20:19:11.683Z"
   },
   {
    "duration": 15,
    "start_time": "2021-12-01T20:19:11.697Z"
   },
   {
    "duration": 10,
    "start_time": "2021-12-01T20:19:11.714Z"
   },
   {
    "duration": 69,
    "start_time": "2021-12-01T20:19:11.728Z"
   },
   {
    "duration": 21,
    "start_time": "2021-12-01T20:19:11.800Z"
   },
   {
    "duration": 618,
    "start_time": "2021-12-01T20:19:11.824Z"
   },
   {
    "duration": 57,
    "start_time": "2021-12-01T20:19:12.445Z"
   },
   {
    "duration": 39,
    "start_time": "2021-12-01T20:19:12.505Z"
   },
   {
    "duration": 55,
    "start_time": "2021-12-01T20:19:12.547Z"
   },
   {
    "duration": 6,
    "start_time": "2021-12-01T20:19:12.604Z"
   },
   {
    "duration": 70,
    "start_time": "2021-12-01T20:19:12.613Z"
   },
   {
    "duration": 22,
    "start_time": "2021-12-01T20:19:12.687Z"
   },
   {
    "duration": 8,
    "start_time": "2021-12-01T20:19:29.896Z"
   },
   {
    "duration": 776,
    "start_time": "2021-12-01T20:19:45.454Z"
   },
   {
    "duration": 69,
    "start_time": "2021-12-01T20:19:46.233Z"
   },
   {
    "duration": 14,
    "start_time": "2021-12-01T20:19:46.305Z"
   },
   {
    "duration": 25,
    "start_time": "2021-12-01T20:19:46.321Z"
   },
   {
    "duration": 34,
    "start_time": "2021-12-01T20:19:46.348Z"
   },
   {
    "duration": 10,
    "start_time": "2021-12-01T20:19:46.384Z"
   },
   {
    "duration": 15,
    "start_time": "2021-12-01T20:19:46.396Z"
   },
   {
    "duration": 8,
    "start_time": "2021-12-01T20:19:46.414Z"
   },
   {
    "duration": 75,
    "start_time": "2021-12-01T20:19:46.425Z"
   },
   {
    "duration": 20,
    "start_time": "2021-12-01T20:19:46.503Z"
   },
   {
    "duration": 613,
    "start_time": "2021-12-01T20:19:46.525Z"
   },
   {
    "duration": 54,
    "start_time": "2021-12-01T20:19:47.140Z"
   },
   {
    "duration": 40,
    "start_time": "2021-12-01T20:19:47.196Z"
   },
   {
    "duration": 54,
    "start_time": "2021-12-01T20:19:47.238Z"
   },
   {
    "duration": 6,
    "start_time": "2021-12-01T20:19:47.294Z"
   },
   {
    "duration": 53,
    "start_time": "2021-12-01T20:19:47.302Z"
   },
   {
    "duration": 41,
    "start_time": "2021-12-01T20:19:47.358Z"
   },
   {
    "duration": 708,
    "start_time": "2021-12-01T20:21:06.120Z"
   },
   {
    "duration": 66,
    "start_time": "2021-12-01T20:21:06.830Z"
   },
   {
    "duration": 14,
    "start_time": "2021-12-01T20:21:06.899Z"
   },
   {
    "duration": 27,
    "start_time": "2021-12-01T20:21:06.916Z"
   },
   {
    "duration": 7,
    "start_time": "2021-12-01T20:21:06.945Z"
   },
   {
    "duration": 10,
    "start_time": "2021-12-01T20:21:06.981Z"
   },
   {
    "duration": 14,
    "start_time": "2021-12-01T20:21:06.994Z"
   },
   {
    "duration": 8,
    "start_time": "2021-12-01T20:21:07.010Z"
   },
   {
    "duration": 67,
    "start_time": "2021-12-01T20:21:07.023Z"
   },
   {
    "duration": 20,
    "start_time": "2021-12-01T20:21:07.093Z"
   },
   {
    "duration": 603,
    "start_time": "2021-12-01T20:21:07.115Z"
   },
   {
    "duration": 40,
    "start_time": "2021-12-01T20:21:07.721Z"
   },
   {
    "duration": 58,
    "start_time": "2021-12-01T20:21:07.763Z"
   },
   {
    "duration": 28,
    "start_time": "2021-12-01T20:21:07.823Z"
   },
   {
    "duration": 31,
    "start_time": "2021-12-01T20:21:07.853Z"
   },
   {
    "duration": 80,
    "start_time": "2021-12-01T20:21:07.887Z"
   },
   {
    "duration": 36,
    "start_time": "2021-12-01T20:21:07.970Z"
   },
   {
    "duration": 48,
    "start_time": "2021-12-01T20:24:13.791Z"
   },
   {
    "duration": 37,
    "start_time": "2021-12-01T20:26:31.641Z"
   },
   {
    "duration": 39,
    "start_time": "2021-12-01T20:27:28.278Z"
   },
   {
    "duration": 24,
    "start_time": "2021-12-01T20:28:18.022Z"
   },
   {
    "duration": 7,
    "start_time": "2021-12-01T20:28:30.409Z"
   },
   {
    "duration": 11,
    "start_time": "2021-12-01T20:29:55.473Z"
   },
   {
    "duration": 15,
    "start_time": "2021-12-01T20:30:08.682Z"
   },
   {
    "duration": 18,
    "start_time": "2021-12-01T20:30:11.786Z"
   },
   {
    "duration": 967,
    "start_time": "2021-12-01T21:19:05.159Z"
   },
   {
    "duration": 90,
    "start_time": "2021-12-01T21:19:06.129Z"
   },
   {
    "duration": 22,
    "start_time": "2021-12-01T21:19:06.223Z"
   },
   {
    "duration": 41,
    "start_time": "2021-12-01T21:19:06.248Z"
   },
   {
    "duration": 9,
    "start_time": "2021-12-01T21:19:06.292Z"
   },
   {
    "duration": 10,
    "start_time": "2021-12-01T21:19:06.304Z"
   },
   {
    "duration": 17,
    "start_time": "2021-12-01T21:19:06.317Z"
   },
   {
    "duration": 9,
    "start_time": "2021-12-01T21:19:06.381Z"
   },
   {
    "duration": 31,
    "start_time": "2021-12-01T21:19:06.394Z"
   },
   {
    "duration": 53,
    "start_time": "2021-12-01T21:19:06.429Z"
   },
   {
    "duration": 613,
    "start_time": "2021-12-01T21:19:06.485Z"
   },
   {
    "duration": 38,
    "start_time": "2021-12-01T21:19:07.101Z"
   },
   {
    "duration": 66,
    "start_time": "2021-12-01T21:19:07.143Z"
   },
   {
    "duration": 32,
    "start_time": "2021-12-01T21:19:07.212Z"
   },
   {
    "duration": 6,
    "start_time": "2021-12-01T21:19:07.247Z"
   },
   {
    "duration": 78,
    "start_time": "2021-12-01T21:19:07.256Z"
   },
   {
    "duration": 7,
    "start_time": "2021-12-01T21:19:07.336Z"
   },
   {
    "duration": 43,
    "start_time": "2021-12-01T21:19:07.346Z"
   },
   {
    "duration": 21,
    "start_time": "2021-12-01T21:19:07.392Z"
   },
   {
    "duration": 25,
    "start_time": "2021-12-01T21:19:50.642Z"
   },
   {
    "duration": 17,
    "start_time": "2021-12-01T21:24:55.956Z"
   },
   {
    "duration": 20,
    "start_time": "2021-12-01T21:24:59.020Z"
   },
   {
    "duration": 447,
    "start_time": "2021-12-01T21:25:11.731Z"
   },
   {
    "duration": 40,
    "start_time": "2021-12-01T21:25:16.770Z"
   },
   {
    "duration": 15,
    "start_time": "2021-12-01T21:26:32.219Z"
   },
   {
    "duration": 7,
    "start_time": "2021-12-01T21:33:59.125Z"
   },
   {
    "duration": 6259,
    "start_time": "2021-12-01T21:34:27.546Z"
   },
   {
    "duration": 21,
    "start_time": "2021-12-01T21:34:42.238Z"
   },
   {
    "duration": 841,
    "start_time": "2021-12-01T21:35:01.246Z"
   },
   {
    "duration": 66,
    "start_time": "2021-12-01T21:35:02.090Z"
   },
   {
    "duration": 23,
    "start_time": "2021-12-01T21:35:02.159Z"
   },
   {
    "duration": 28,
    "start_time": "2021-12-01T21:35:02.185Z"
   },
   {
    "duration": 10,
    "start_time": "2021-12-01T21:35:02.216Z"
   },
   {
    "duration": 19,
    "start_time": "2021-12-01T21:35:02.228Z"
   },
   {
    "duration": 49,
    "start_time": "2021-12-01T21:35:02.249Z"
   },
   {
    "duration": 12,
    "start_time": "2021-12-01T21:35:02.303Z"
   },
   {
    "duration": 76,
    "start_time": "2021-12-01T21:35:02.318Z"
   },
   {
    "duration": 45,
    "start_time": "2021-12-01T21:35:02.398Z"
   },
   {
    "duration": 974,
    "start_time": "2021-12-01T21:35:02.446Z"
   },
   {
    "duration": 72,
    "start_time": "2021-12-01T21:35:03.423Z"
   },
   {
    "duration": 41,
    "start_time": "2021-12-01T21:35:03.499Z"
   },
   {
    "duration": 57,
    "start_time": "2021-12-01T21:35:03.543Z"
   },
   {
    "duration": 7,
    "start_time": "2021-12-01T21:35:03.603Z"
   },
   {
    "duration": 77,
    "start_time": "2021-12-01T21:35:03.612Z"
   },
   {
    "duration": 7,
    "start_time": "2021-12-01T21:35:03.692Z"
   },
   {
    "duration": 16,
    "start_time": "2021-12-01T21:35:03.702Z"
   },
   {
    "duration": 28,
    "start_time": "2021-12-01T21:35:03.722Z"
   },
   {
    "duration": 38,
    "start_time": "2021-12-01T21:35:03.781Z"
   },
   {
    "duration": 10,
    "start_time": "2021-12-01T21:35:03.821Z"
   },
   {
    "duration": 6,
    "start_time": "2021-12-01T21:35:03.834Z"
   },
   {
    "duration": 4612,
    "start_time": "2021-12-01T21:35:03.844Z"
   },
   {
    "duration": 25,
    "start_time": "2021-12-01T21:35:08.459Z"
   },
   {
    "duration": 496,
    "start_time": "2021-12-01T21:35:08.487Z"
   },
   {
    "duration": 769,
    "start_time": "2021-12-01T21:35:35.545Z"
   },
   {
    "duration": 64,
    "start_time": "2021-12-01T21:35:36.317Z"
   },
   {
    "duration": 15,
    "start_time": "2021-12-01T21:35:36.383Z"
   },
   {
    "duration": 27,
    "start_time": "2021-12-01T21:35:36.401Z"
   },
   {
    "duration": 7,
    "start_time": "2021-12-01T21:35:36.430Z"
   },
   {
    "duration": 48,
    "start_time": "2021-12-01T21:35:36.440Z"
   },
   {
    "duration": 15,
    "start_time": "2021-12-01T21:35:36.490Z"
   },
   {
    "duration": 10,
    "start_time": "2021-12-01T21:35:36.507Z"
   },
   {
    "duration": 73,
    "start_time": "2021-12-01T21:35:36.523Z"
   },
   {
    "duration": 19,
    "start_time": "2021-12-01T21:35:36.599Z"
   },
   {
    "duration": 613,
    "start_time": "2021-12-01T21:35:36.620Z"
   },
   {
    "duration": 50,
    "start_time": "2021-12-01T21:35:37.236Z"
   },
   {
    "duration": 40,
    "start_time": "2021-12-01T21:35:37.288Z"
   },
   {
    "duration": 52,
    "start_time": "2021-12-01T21:35:37.330Z"
   },
   {
    "duration": 5,
    "start_time": "2021-12-01T21:35:37.385Z"
   },
   {
    "duration": 51,
    "start_time": "2021-12-01T21:35:37.392Z"
   },
   {
    "duration": 6,
    "start_time": "2021-12-01T21:35:37.446Z"
   },
   {
    "duration": 13,
    "start_time": "2021-12-01T21:35:37.483Z"
   },
   {
    "duration": 20,
    "start_time": "2021-12-01T21:35:37.499Z"
   },
   {
    "duration": 28,
    "start_time": "2021-12-01T21:35:37.522Z"
   },
   {
    "duration": 35,
    "start_time": "2021-12-01T21:35:37.552Z"
   },
   {
    "duration": 6,
    "start_time": "2021-12-01T21:35:37.590Z"
   },
   {
    "duration": 5814,
    "start_time": "2021-12-01T21:35:37.599Z"
   },
   {
    "duration": 20,
    "start_time": "2021-12-01T21:35:43.415Z"
   },
   {
    "duration": 397,
    "start_time": "2021-12-01T21:35:43.438Z"
   },
   {
    "duration": 17,
    "start_time": "2021-12-01T21:36:25.932Z"
   },
   {
    "duration": 728,
    "start_time": "2021-12-01T21:36:55.431Z"
   },
   {
    "duration": 65,
    "start_time": "2021-12-01T21:36:56.161Z"
   },
   {
    "duration": 15,
    "start_time": "2021-12-01T21:36:56.229Z"
   },
   {
    "duration": 27,
    "start_time": "2021-12-01T21:36:56.246Z"
   },
   {
    "duration": 11,
    "start_time": "2021-12-01T21:36:56.275Z"
   },
   {
    "duration": 12,
    "start_time": "2021-12-01T21:36:56.289Z"
   },
   {
    "duration": 14,
    "start_time": "2021-12-01T21:36:56.304Z"
   },
   {
    "duration": 8,
    "start_time": "2021-12-01T21:36:56.321Z"
   },
   {
    "duration": 29,
    "start_time": "2021-12-01T21:36:56.333Z"
   },
   {
    "duration": 40,
    "start_time": "2021-12-01T21:36:56.365Z"
   },
   {
    "duration": 626,
    "start_time": "2021-12-01T21:36:56.407Z"
   },
   {
    "duration": 72,
    "start_time": "2021-12-01T21:36:57.035Z"
   },
   {
    "duration": 40,
    "start_time": "2021-12-01T21:36:57.110Z"
   },
   {
    "duration": 41,
    "start_time": "2021-12-01T21:36:57.152Z"
   },
   {
    "duration": 6,
    "start_time": "2021-12-01T21:36:57.195Z"
   },
   {
    "duration": 91,
    "start_time": "2021-12-01T21:36:57.204Z"
   },
   {
    "duration": 9,
    "start_time": "2021-12-01T21:36:57.298Z"
   },
   {
    "duration": 15,
    "start_time": "2021-12-01T21:36:57.310Z"
   },
   {
    "duration": 20,
    "start_time": "2021-12-01T21:36:57.382Z"
   },
   {
    "duration": 80,
    "start_time": "2021-12-01T21:36:57.404Z"
   },
   {
    "duration": 10,
    "start_time": "2021-12-01T21:36:57.486Z"
   },
   {
    "duration": 12,
    "start_time": "2021-12-01T21:36:57.499Z"
   },
   {
    "duration": 9102,
    "start_time": "2021-12-01T21:36:57.514Z"
   },
   {
    "duration": -33,
    "start_time": "2021-12-01T21:37:06.652Z"
   },
   {
    "duration": -33,
    "start_time": "2021-12-01T21:37:06.653Z"
   },
   {
    "duration": 5,
    "start_time": "2021-12-01T21:38:24.536Z"
   },
   {
    "duration": 22,
    "start_time": "2021-12-01T21:38:34.522Z"
   },
   {
    "duration": 4703,
    "start_time": "2021-12-01T21:38:54.682Z"
   },
   {
    "duration": 21,
    "start_time": "2021-12-01T21:39:02.254Z"
   },
   {
    "duration": 527,
    "start_time": "2021-12-01T21:40:20.803Z"
   },
   {
    "duration": 9,
    "start_time": "2021-12-01T21:40:24.934Z"
   },
   {
    "duration": 7,
    "start_time": "2021-12-01T21:41:19.742Z"
   },
   {
    "duration": 5,
    "start_time": "2021-12-01T21:41:21.995Z"
   },
   {
    "duration": 4564,
    "start_time": "2021-12-01T21:41:25.010Z"
   },
   {
    "duration": 21,
    "start_time": "2021-12-01T21:41:31.229Z"
   },
   {
    "duration": 30,
    "start_time": "2021-12-01T21:43:30.536Z"
   },
   {
    "duration": 37,
    "start_time": "2021-12-01T21:43:54.004Z"
   },
   {
    "duration": 27,
    "start_time": "2021-12-01T21:47:20.851Z"
   },
   {
    "duration": 39,
    "start_time": "2021-12-01T21:47:26.283Z"
   },
   {
    "duration": 33,
    "start_time": "2021-12-01T21:48:07.640Z"
   },
   {
    "duration": 19,
    "start_time": "2021-12-01T21:49:05.104Z"
   },
   {
    "duration": 27,
    "start_time": "2021-12-01T21:49:14.860Z"
   },
   {
    "duration": 19,
    "start_time": "2021-12-01T21:49:17.213Z"
   },
   {
    "duration": 46,
    "start_time": "2021-12-01T21:50:12.903Z"
   },
   {
    "duration": 58,
    "start_time": "2021-12-01T21:50:19.266Z"
   },
   {
    "duration": 305,
    "start_time": "2021-12-01T21:51:39.658Z"
   },
   {
    "duration": 760,
    "start_time": "2021-12-01T21:53:19.352Z"
   },
   {
    "duration": 643,
    "start_time": "2021-12-01T21:53:42.729Z"
   },
   {
    "duration": 8,
    "start_time": "2021-12-01T21:53:45.272Z"
   },
   {
    "duration": 735,
    "start_time": "2021-12-01T21:53:58.217Z"
   },
   {
    "duration": 70,
    "start_time": "2021-12-01T21:53:58.954Z"
   },
   {
    "duration": 16,
    "start_time": "2021-12-01T21:53:59.032Z"
   },
   {
    "duration": 56,
    "start_time": "2021-12-01T21:53:59.052Z"
   },
   {
    "duration": 7,
    "start_time": "2021-12-01T21:53:59.112Z"
   },
   {
    "duration": 10,
    "start_time": "2021-12-01T21:53:59.121Z"
   },
   {
    "duration": 51,
    "start_time": "2021-12-01T21:53:59.135Z"
   },
   {
    "duration": 11,
    "start_time": "2021-12-01T21:53:59.189Z"
   },
   {
    "duration": 31,
    "start_time": "2021-12-01T21:53:59.204Z"
   },
   {
    "duration": 52,
    "start_time": "2021-12-01T21:53:59.239Z"
   },
   {
    "duration": 878,
    "start_time": "2021-12-01T21:53:59.294Z"
   },
   {
    "duration": 48,
    "start_time": "2021-12-01T21:54:00.175Z"
   },
   {
    "duration": 75,
    "start_time": "2021-12-01T21:54:00.226Z"
   },
   {
    "duration": 44,
    "start_time": "2021-12-01T21:54:00.304Z"
   },
   {
    "duration": 32,
    "start_time": "2021-12-01T21:54:00.351Z"
   },
   {
    "duration": 73,
    "start_time": "2021-12-01T21:54:00.386Z"
   },
   {
    "duration": 24,
    "start_time": "2021-12-01T21:54:00.463Z"
   },
   {
    "duration": 28,
    "start_time": "2021-12-01T21:54:00.490Z"
   },
   {
    "duration": 34,
    "start_time": "2021-12-01T21:54:00.521Z"
   },
   {
    "duration": 56,
    "start_time": "2021-12-01T21:54:00.558Z"
   },
   {
    "duration": 13,
    "start_time": "2021-12-01T21:54:00.616Z"
   },
   {
    "duration": 8,
    "start_time": "2021-12-01T21:54:00.635Z"
   },
   {
    "duration": 7573,
    "start_time": "2021-12-01T21:54:00.647Z"
   },
   {
    "duration": 28,
    "start_time": "2021-12-01T21:54:08.223Z"
   },
   {
    "duration": 87,
    "start_time": "2021-12-01T21:54:08.254Z"
   },
   {
    "duration": 70,
    "start_time": "2021-12-01T21:54:08.344Z"
   },
   {
    "duration": 5,
    "start_time": "2021-12-01T21:55:52.977Z"
   },
   {
    "duration": 4253,
    "start_time": "2021-12-01T21:56:07.218Z"
   },
   {
    "duration": 5035,
    "start_time": "2021-12-01T21:56:21.248Z"
   },
   {
    "duration": 23,
    "start_time": "2021-12-01T21:56:35.498Z"
   },
   {
    "duration": 21,
    "start_time": "2021-12-01T21:57:35.122Z"
   },
   {
    "duration": 767,
    "start_time": "2021-12-01T21:59:05.104Z"
   },
   {
    "duration": 73,
    "start_time": "2021-12-01T21:59:05.874Z"
   },
   {
    "duration": 16,
    "start_time": "2021-12-01T21:59:05.950Z"
   },
   {
    "duration": 32,
    "start_time": "2021-12-01T21:59:05.982Z"
   },
   {
    "duration": 9,
    "start_time": "2021-12-01T21:59:06.017Z"
   },
   {
    "duration": 13,
    "start_time": "2021-12-01T21:59:06.029Z"
   },
   {
    "duration": 20,
    "start_time": "2021-12-01T21:59:06.089Z"
   },
   {
    "duration": 10,
    "start_time": "2021-12-01T21:59:06.112Z"
   },
   {
    "duration": 60,
    "start_time": "2021-12-01T21:59:06.127Z"
   },
   {
    "duration": 24,
    "start_time": "2021-12-01T21:59:06.190Z"
   },
   {
    "duration": 737,
    "start_time": "2021-12-01T21:59:06.217Z"
   },
   {
    "duration": 53,
    "start_time": "2021-12-01T21:59:06.957Z"
   },
   {
    "duration": 41,
    "start_time": "2021-12-01T21:59:07.013Z"
   },
   {
    "duration": 67,
    "start_time": "2021-12-01T21:59:07.057Z"
   },
   {
    "duration": 7,
    "start_time": "2021-12-01T21:59:07.127Z"
   },
   {
    "duration": 105,
    "start_time": "2021-12-01T21:59:07.137Z"
   },
   {
    "duration": 8,
    "start_time": "2021-12-01T21:59:07.245Z"
   },
   {
    "duration": 29,
    "start_time": "2021-12-01T21:59:07.256Z"
   },
   {
    "duration": 28,
    "start_time": "2021-12-01T21:59:07.291Z"
   },
   {
    "duration": 24,
    "start_time": "2021-12-01T21:59:07.322Z"
   },
   {
    "duration": 41,
    "start_time": "2021-12-01T21:59:07.349Z"
   },
   {
    "duration": 9,
    "start_time": "2021-12-01T21:59:07.395Z"
   },
   {
    "duration": 4795,
    "start_time": "2021-12-01T21:59:07.407Z"
   },
   {
    "duration": 23,
    "start_time": "2021-12-01T21:59:12.205Z"
   },
   {
    "duration": 78,
    "start_time": "2021-12-01T21:59:12.230Z"
   },
   {
    "duration": 4,
    "start_time": "2021-12-01T21:59:12.310Z"
   },
   {
    "duration": 4401,
    "start_time": "2021-12-01T21:59:12.318Z"
   },
   {
    "duration": 6,
    "start_time": "2021-12-01T21:59:16.722Z"
   },
   {
    "duration": 27,
    "start_time": "2021-12-01T22:01:01.397Z"
   },
   {
    "duration": 764,
    "start_time": "2021-12-04T13:28:59.323Z"
   },
   {
    "duration": 65,
    "start_time": "2021-12-04T13:29:00.091Z"
   },
   {
    "duration": 24,
    "start_time": "2021-12-04T13:29:00.159Z"
   },
   {
    "duration": 32,
    "start_time": "2021-12-04T13:29:00.186Z"
   },
   {
    "duration": 10,
    "start_time": "2021-12-04T13:29:00.221Z"
   },
   {
    "duration": 40,
    "start_time": "2021-12-04T13:29:00.233Z"
   },
   {
    "duration": 30,
    "start_time": "2021-12-04T13:29:00.277Z"
   },
   {
    "duration": 9,
    "start_time": "2021-12-04T13:29:00.312Z"
   },
   {
    "duration": 46,
    "start_time": "2021-12-04T13:29:00.324Z"
   },
   {
    "duration": 24,
    "start_time": "2021-12-04T13:29:00.373Z"
   },
   {
    "duration": 653,
    "start_time": "2021-12-04T13:29:00.400Z"
   },
   {
    "duration": 52,
    "start_time": "2021-12-04T13:29:01.056Z"
   },
   {
    "duration": 71,
    "start_time": "2021-12-04T13:29:01.111Z"
   },
   {
    "duration": 29,
    "start_time": "2021-12-04T13:29:01.185Z"
   },
   {
    "duration": 16,
    "start_time": "2021-12-04T13:29:01.217Z"
   },
   {
    "duration": 75,
    "start_time": "2021-12-04T13:29:01.236Z"
   },
   {
    "duration": 7,
    "start_time": "2021-12-04T13:29:01.313Z"
   },
   {
    "duration": 15,
    "start_time": "2021-12-04T13:29:01.323Z"
   },
   {
    "duration": 46,
    "start_time": "2021-12-04T13:29:01.341Z"
   },
   {
    "duration": 30,
    "start_time": "2021-12-04T13:29:01.389Z"
   },
   {
    "duration": 12,
    "start_time": "2021-12-04T13:29:01.422Z"
   },
   {
    "duration": 34,
    "start_time": "2021-12-04T13:29:01.436Z"
   },
   {
    "duration": 5001,
    "start_time": "2021-12-04T13:29:01.477Z"
   },
   {
    "duration": 22,
    "start_time": "2021-12-04T13:29:06.481Z"
   },
   {
    "duration": 77,
    "start_time": "2021-12-04T13:29:06.506Z"
   },
   {
    "duration": 4,
    "start_time": "2021-12-04T13:29:06.586Z"
   },
   {
    "duration": 4568,
    "start_time": "2021-12-04T13:29:06.593Z"
   },
   {
    "duration": 6,
    "start_time": "2021-12-04T13:29:11.164Z"
   },
   {
    "duration": 38,
    "start_time": "2021-12-04T13:29:11.173Z"
   },
   {
    "duration": 17,
    "start_time": "2021-12-04T13:29:46.420Z"
   },
   {
    "duration": 15,
    "start_time": "2021-12-04T13:30:46.285Z"
   },
   {
    "duration": 19,
    "start_time": "2021-12-04T13:37:08.102Z"
   },
   {
    "duration": 38,
    "start_time": "2021-12-04T13:37:41.177Z"
   },
   {
    "duration": 43,
    "start_time": "2021-12-04T13:37:51.865Z"
   },
   {
    "duration": 9,
    "start_time": "2021-12-04T13:42:58.490Z"
   },
   {
    "duration": 22,
    "start_time": "2021-12-04T13:43:07.555Z"
   },
   {
    "duration": 12,
    "start_time": "2021-12-04T13:45:18.863Z"
   },
   {
    "duration": 24,
    "start_time": "2021-12-04T13:45:19.551Z"
   },
   {
    "duration": 17,
    "start_time": "2021-12-04T13:45:32.810Z"
   },
   {
    "duration": 11,
    "start_time": "2021-12-04T13:54:21.287Z"
   },
   {
    "duration": 29,
    "start_time": "2021-12-04T13:55:58.778Z"
   },
   {
    "duration": 29,
    "start_time": "2021-12-04T13:56:19.828Z"
   },
   {
    "duration": 54,
    "start_time": "2021-12-04T13:56:42.585Z"
   },
   {
    "duration": 56,
    "start_time": "2021-12-04T13:57:03.010Z"
   },
   {
    "duration": 55,
    "start_time": "2021-12-04T13:57:30.009Z"
   },
   {
    "duration": 21,
    "start_time": "2021-12-04T14:13:28.268Z"
   },
   {
    "duration": 34,
    "start_time": "2021-12-04T14:13:54.069Z"
   },
   {
    "duration": 19,
    "start_time": "2021-12-04T14:14:01.379Z"
   },
   {
    "duration": 8,
    "start_time": "2021-12-04T14:18:18.030Z"
   },
   {
    "duration": 3,
    "start_time": "2021-12-04T14:23:27.044Z"
   },
   {
    "duration": 4993,
    "start_time": "2021-12-04T14:26:47.123Z"
   },
   {
    "duration": 667,
    "start_time": "2021-12-04T14:27:00.249Z"
   },
   {
    "duration": 33,
    "start_time": "2021-12-04T14:27:04.829Z"
   },
   {
    "duration": 8,
    "start_time": "2021-12-04T14:28:36.694Z"
   },
   {
    "duration": 26,
    "start_time": "2021-12-04T14:29:49.120Z"
   },
   {
    "duration": 268,
    "start_time": "2021-12-04T14:33:15.657Z"
   },
   {
    "duration": 1279,
    "start_time": "2021-12-04T14:33:27.375Z"
   },
   {
    "duration": 3905,
    "start_time": "2021-12-04T14:33:44.415Z"
   },
   {
    "duration": 27,
    "start_time": "2021-12-04T14:33:54.499Z"
   },
   {
    "duration": 3913,
    "start_time": "2021-12-04T14:34:36.807Z"
   },
   {
    "duration": 23,
    "start_time": "2021-12-04T14:34:42.695Z"
   },
   {
    "duration": 18,
    "start_time": "2021-12-04T14:35:06.062Z"
   },
   {
    "duration": 3903,
    "start_time": "2021-12-04T14:37:54.174Z"
   },
   {
    "duration": 3904,
    "start_time": "2021-12-04T14:38:12.945Z"
   },
   {
    "duration": 10,
    "start_time": "2021-12-04T14:38:18.528Z"
   },
   {
    "duration": 3948,
    "start_time": "2021-12-04T14:39:29.952Z"
   },
   {
    "duration": 9,
    "start_time": "2021-12-04T14:39:55.570Z"
   },
   {
    "duration": 768,
    "start_time": "2021-12-04T14:40:49.482Z"
   },
   {
    "duration": 70,
    "start_time": "2021-12-04T14:40:50.253Z"
   },
   {
    "duration": 16,
    "start_time": "2021-12-04T14:40:50.326Z"
   },
   {
    "duration": 44,
    "start_time": "2021-12-04T14:40:50.345Z"
   },
   {
    "duration": 7,
    "start_time": "2021-12-04T14:40:50.392Z"
   },
   {
    "duration": 12,
    "start_time": "2021-12-04T14:40:50.401Z"
   },
   {
    "duration": 15,
    "start_time": "2021-12-04T14:40:50.416Z"
   },
   {
    "duration": 46,
    "start_time": "2021-12-04T14:40:50.434Z"
   },
   {
    "duration": 33,
    "start_time": "2021-12-04T14:40:50.485Z"
   },
   {
    "duration": 55,
    "start_time": "2021-12-04T14:40:50.522Z"
   },
   {
    "duration": 636,
    "start_time": "2021-12-04T14:40:50.580Z"
   },
   {
    "duration": 60,
    "start_time": "2021-12-04T14:40:51.219Z"
   },
   {
    "duration": 40,
    "start_time": "2021-12-04T14:40:51.284Z"
   },
   {
    "duration": 47,
    "start_time": "2021-12-04T14:40:51.327Z"
   },
   {
    "duration": 12,
    "start_time": "2021-12-04T14:40:51.377Z"
   },
   {
    "duration": 57,
    "start_time": "2021-12-04T14:40:51.391Z"
   },
   {
    "duration": 23,
    "start_time": "2021-12-04T14:40:51.450Z"
   },
   {
    "duration": 17,
    "start_time": "2021-12-04T14:40:51.476Z"
   },
   {
    "duration": 20,
    "start_time": "2021-12-04T14:40:51.496Z"
   },
   {
    "duration": 55,
    "start_time": "2021-12-04T14:40:51.519Z"
   },
   {
    "duration": 17,
    "start_time": "2021-12-04T14:40:51.577Z"
   },
   {
    "duration": 8,
    "start_time": "2021-12-04T14:40:51.597Z"
   },
   {
    "duration": 4828,
    "start_time": "2021-12-04T14:40:51.607Z"
   },
   {
    "duration": 32,
    "start_time": "2021-12-04T14:40:56.438Z"
   },
   {
    "duration": 52,
    "start_time": "2021-12-04T14:40:56.473Z"
   },
   {
    "duration": 3,
    "start_time": "2021-12-04T14:40:56.528Z"
   },
   {
    "duration": 4515,
    "start_time": "2021-12-04T14:40:56.536Z"
   },
   {
    "duration": 15,
    "start_time": "2021-12-04T14:41:01.055Z"
   },
   {
    "duration": 53,
    "start_time": "2021-12-04T14:41:01.073Z"
   },
   {
    "duration": 17,
    "start_time": "2021-12-04T14:41:01.128Z"
   },
   {
    "duration": 68,
    "start_time": "2021-12-04T14:41:01.147Z"
   },
   {
    "duration": 8,
    "start_time": "2021-12-04T14:41:01.217Z"
   },
   {
    "duration": 32,
    "start_time": "2021-12-04T14:41:01.227Z"
   },
   {
    "duration": 21,
    "start_time": "2021-12-04T14:41:01.266Z"
   },
   {
    "duration": 11,
    "start_time": "2021-12-04T14:41:01.290Z"
   },
   {
    "duration": 36,
    "start_time": "2021-12-04T14:41:01.304Z"
   },
   {
    "duration": 57,
    "start_time": "2021-12-04T14:41:01.342Z"
   },
   {
    "duration": 5165,
    "start_time": "2021-12-04T14:41:01.402Z"
   },
   {
    "duration": 10,
    "start_time": "2021-12-04T14:41:06.571Z"
   },
   {
    "duration": 24,
    "start_time": "2021-12-04T14:41:06.584Z"
   },
   {
    "duration": 410,
    "start_time": "2021-12-04T14:53:30.012Z"
   },
   {
    "duration": 5,
    "start_time": "2021-12-04T14:57:33.383Z"
   },
   {
    "duration": 5,
    "start_time": "2021-12-04T14:57:42.782Z"
   },
   {
    "duration": 565,
    "start_time": "2021-12-04T14:58:10.336Z"
   },
   {
    "duration": 5,
    "start_time": "2021-12-04T14:58:43.025Z"
   },
   {
    "duration": 13250,
    "start_time": "2021-12-04T14:58:45.836Z"
   },
   {
    "duration": 25,
    "start_time": "2021-12-04T14:59:10.204Z"
   },
   {
    "duration": 734,
    "start_time": "2021-12-04T14:59:53.704Z"
   },
   {
    "duration": 68,
    "start_time": "2021-12-04T14:59:54.441Z"
   },
   {
    "duration": 16,
    "start_time": "2021-12-04T14:59:54.512Z"
   },
   {
    "duration": 51,
    "start_time": "2021-12-04T14:59:54.531Z"
   },
   {
    "duration": 7,
    "start_time": "2021-12-04T14:59:54.585Z"
   },
   {
    "duration": 11,
    "start_time": "2021-12-04T14:59:54.595Z"
   },
   {
    "duration": 15,
    "start_time": "2021-12-04T14:59:54.608Z"
   },
   {
    "duration": 46,
    "start_time": "2021-12-04T14:59:54.625Z"
   },
   {
    "duration": 36,
    "start_time": "2021-12-04T14:59:54.678Z"
   },
   {
    "duration": 51,
    "start_time": "2021-12-04T14:59:54.718Z"
   },
   {
    "duration": 649,
    "start_time": "2021-12-04T14:59:54.772Z"
   },
   {
    "duration": 58,
    "start_time": "2021-12-04T14:59:55.423Z"
   },
   {
    "duration": 41,
    "start_time": "2021-12-04T14:59:55.484Z"
   },
   {
    "duration": 55,
    "start_time": "2021-12-04T14:59:55.527Z"
   },
   {
    "duration": 6,
    "start_time": "2021-12-04T14:59:55.585Z"
   },
   {
    "duration": 78,
    "start_time": "2021-12-04T14:59:55.594Z"
   },
   {
    "duration": 8,
    "start_time": "2021-12-04T14:59:55.675Z"
   },
   {
    "duration": 14,
    "start_time": "2021-12-04T14:59:55.685Z"
   },
   {
    "duration": 21,
    "start_time": "2021-12-04T14:59:55.702Z"
   },
   {
    "duration": 63,
    "start_time": "2021-12-04T14:59:55.725Z"
   },
   {
    "duration": 10,
    "start_time": "2021-12-04T14:59:55.791Z"
   },
   {
    "duration": 10,
    "start_time": "2021-12-04T14:59:55.803Z"
   },
   {
    "duration": 5017,
    "start_time": "2021-12-04T14:59:55.815Z"
   },
   {
    "duration": 21,
    "start_time": "2021-12-04T15:00:00.834Z"
   },
   {
    "duration": 54,
    "start_time": "2021-12-04T15:00:00.872Z"
   },
   {
    "duration": 6,
    "start_time": "2021-12-04T15:00:00.928Z"
   },
   {
    "duration": 4642,
    "start_time": "2021-12-04T15:00:00.939Z"
   },
   {
    "duration": 8,
    "start_time": "2021-12-04T15:00:05.585Z"
   },
   {
    "duration": 43,
    "start_time": "2021-12-04T15:00:05.596Z"
   },
   {
    "duration": 29,
    "start_time": "2021-12-04T15:00:05.642Z"
   },
   {
    "duration": 52,
    "start_time": "2021-12-04T15:00:05.674Z"
   },
   {
    "duration": 37,
    "start_time": "2021-12-04T15:00:05.730Z"
   },
   {
    "duration": 35,
    "start_time": "2021-12-04T15:00:05.770Z"
   },
   {
    "duration": 34,
    "start_time": "2021-12-04T15:00:05.808Z"
   },
   {
    "duration": 24,
    "start_time": "2021-12-04T15:00:05.845Z"
   },
   {
    "duration": 36,
    "start_time": "2021-12-04T15:00:05.872Z"
   },
   {
    "duration": 31,
    "start_time": "2021-12-04T15:00:05.911Z"
   },
   {
    "duration": 4975,
    "start_time": "2021-12-04T15:00:05.944Z"
   },
   {
    "duration": 9,
    "start_time": "2021-12-04T15:00:10.922Z"
   },
   {
    "duration": 41,
    "start_time": "2021-12-04T15:00:10.933Z"
   },
   {
    "duration": 6,
    "start_time": "2021-12-04T15:00:10.977Z"
   },
   {
    "duration": 13056,
    "start_time": "2021-12-04T15:00:10.986Z"
   },
   {
    "duration": 25,
    "start_time": "2021-12-04T15:00:24.045Z"
   },
   {
    "duration": 18,
    "start_time": "2021-12-04T15:00:37.887Z"
   },
   {
    "duration": 15,
    "start_time": "2021-12-04T15:03:22.427Z"
   },
   {
    "duration": 23,
    "start_time": "2021-12-04T15:03:35.573Z"
   },
   {
    "duration": 16,
    "start_time": "2021-12-04T15:04:03.409Z"
   },
   {
    "duration": 27,
    "start_time": "2021-12-04T15:07:00.757Z"
   },
   {
    "duration": 25,
    "start_time": "2021-12-04T15:07:34.314Z"
   },
   {
    "duration": 38,
    "start_time": "2021-12-04T15:08:00.665Z"
   },
   {
    "duration": 25,
    "start_time": "2021-12-04T15:08:12.906Z"
   },
   {
    "duration": 29,
    "start_time": "2021-12-04T15:10:36.648Z"
   },
   {
    "duration": 24,
    "start_time": "2021-12-04T15:10:58.821Z"
   },
   {
    "duration": 10,
    "start_time": "2021-12-04T15:13:27.408Z"
   },
   {
    "duration": 68,
    "start_time": "2021-12-04T15:14:50.418Z"
   },
   {
    "duration": 63,
    "start_time": "2021-12-04T15:15:21.966Z"
   },
   {
    "duration": 8,
    "start_time": "2021-12-04T15:15:37.715Z"
   },
   {
    "duration": 16,
    "start_time": "2021-12-04T15:19:31.336Z"
   },
   {
    "duration": 9,
    "start_time": "2021-12-04T15:19:46.329Z"
   },
   {
    "duration": 17,
    "start_time": "2021-12-04T15:20:10.248Z"
   },
   {
    "duration": 8,
    "start_time": "2021-12-04T15:20:19.207Z"
   },
   {
    "duration": 10,
    "start_time": "2021-12-04T15:21:35.388Z"
   },
   {
    "duration": 20,
    "start_time": "2021-12-04T15:22:33.976Z"
   },
   {
    "duration": 18,
    "start_time": "2021-12-04T15:25:34.474Z"
   },
   {
    "duration": 10,
    "start_time": "2021-12-04T15:25:36.966Z"
   },
   {
    "duration": 804,
    "start_time": "2021-12-04T15:25:43.772Z"
   },
   {
    "duration": 70,
    "start_time": "2021-12-04T15:25:44.579Z"
   },
   {
    "duration": 19,
    "start_time": "2021-12-04T15:25:44.652Z"
   },
   {
    "duration": 37,
    "start_time": "2021-12-04T15:25:44.674Z"
   },
   {
    "duration": 9,
    "start_time": "2021-12-04T15:25:44.714Z"
   },
   {
    "duration": 48,
    "start_time": "2021-12-04T15:25:44.729Z"
   },
   {
    "duration": 18,
    "start_time": "2021-12-04T15:25:44.780Z"
   },
   {
    "duration": 13,
    "start_time": "2021-12-04T15:25:44.801Z"
   },
   {
    "duration": 72,
    "start_time": "2021-12-04T15:25:44.820Z"
   },
   {
    "duration": 16,
    "start_time": "2021-12-04T15:25:44.896Z"
   },
   {
    "duration": 696,
    "start_time": "2021-12-04T15:25:44.914Z"
   },
   {
    "duration": 64,
    "start_time": "2021-12-04T15:25:45.613Z"
   },
   {
    "duration": 42,
    "start_time": "2021-12-04T15:25:45.680Z"
   },
   {
    "duration": 61,
    "start_time": "2021-12-04T15:25:45.725Z"
   },
   {
    "duration": 6,
    "start_time": "2021-12-04T15:25:45.789Z"
   },
   {
    "duration": 75,
    "start_time": "2021-12-04T15:25:45.797Z"
   },
   {
    "duration": 11,
    "start_time": "2021-12-04T15:25:45.875Z"
   },
   {
    "duration": 16,
    "start_time": "2021-12-04T15:25:45.888Z"
   },
   {
    "duration": 23,
    "start_time": "2021-12-04T15:25:45.906Z"
   },
   {
    "duration": 68,
    "start_time": "2021-12-04T15:25:45.932Z"
   },
   {
    "duration": 10,
    "start_time": "2021-12-04T15:25:46.003Z"
   },
   {
    "duration": 7,
    "start_time": "2021-12-04T15:25:46.015Z"
   },
   {
    "duration": 5200,
    "start_time": "2021-12-04T15:25:46.025Z"
   },
   {
    "duration": 21,
    "start_time": "2021-12-04T15:25:51.227Z"
   },
   {
    "duration": 74,
    "start_time": "2021-12-04T15:25:51.251Z"
   },
   {
    "duration": 5,
    "start_time": "2021-12-04T15:25:51.328Z"
   },
   {
    "duration": 4880,
    "start_time": "2021-12-04T15:25:51.339Z"
   },
   {
    "duration": 6,
    "start_time": "2021-12-04T15:25:56.222Z"
   },
   {
    "duration": 50,
    "start_time": "2021-12-04T15:25:56.231Z"
   },
   {
    "duration": 18,
    "start_time": "2021-12-04T15:25:56.284Z"
   },
   {
    "duration": 93,
    "start_time": "2021-12-04T15:25:56.305Z"
   },
   {
    "duration": 10,
    "start_time": "2021-12-04T15:25:56.401Z"
   },
   {
    "duration": 27,
    "start_time": "2021-12-04T15:25:56.413Z"
   },
   {
    "duration": 30,
    "start_time": "2021-12-04T15:25:56.444Z"
   },
   {
    "duration": 43,
    "start_time": "2021-12-04T15:25:56.477Z"
   },
   {
    "duration": 10,
    "start_time": "2021-12-04T15:25:56.523Z"
   },
   {
    "duration": 55,
    "start_time": "2021-12-04T15:25:56.536Z"
   },
   {
    "duration": 18,
    "start_time": "2021-12-04T15:25:56.594Z"
   },
   {
    "duration": 10,
    "start_time": "2021-12-04T15:25:56.615Z"
   },
   {
    "duration": 69,
    "start_time": "2021-12-04T15:25:56.628Z"
   },
   {
    "duration": 31,
    "start_time": "2021-12-04T15:25:56.699Z"
   },
   {
    "duration": 6004,
    "start_time": "2021-12-04T15:25:56.733Z"
   },
   {
    "duration": 9,
    "start_time": "2021-12-04T15:26:02.740Z"
   },
   {
    "duration": 5,
    "start_time": "2021-12-04T15:26:02.767Z"
   },
   {
    "duration": 13878,
    "start_time": "2021-12-04T15:26:02.775Z"
   },
   {
    "duration": 31,
    "start_time": "2021-12-04T15:26:16.655Z"
   },
   {
    "duration": 26,
    "start_time": "2021-12-04T15:26:16.688Z"
   },
   {
    "duration": 29,
    "start_time": "2021-12-04T15:26:16.717Z"
   },
   {
    "duration": 42,
    "start_time": "2021-12-04T15:26:16.749Z"
   },
   {
    "duration": 22,
    "start_time": "2021-12-04T16:13:58.703Z"
   },
   {
    "duration": 423,
    "start_time": "2021-12-04T16:27:21.490Z"
   },
   {
    "duration": 27,
    "start_time": "2021-12-04T16:27:32.556Z"
   },
   {
    "duration": 9,
    "start_time": "2021-12-04T16:27:38.653Z"
   },
   {
    "duration": 23,
    "start_time": "2021-12-04T16:27:45.706Z"
   },
   {
    "duration": 18,
    "start_time": "2021-12-04T16:28:30.473Z"
   },
   {
    "duration": 8,
    "start_time": "2021-12-04T16:28:58.963Z"
   },
   {
    "duration": 19,
    "start_time": "2021-12-04T16:28:59.741Z"
   },
   {
    "duration": 21,
    "start_time": "2021-12-04T16:31:34.796Z"
   },
   {
    "duration": 18,
    "start_time": "2021-12-04T16:33:38.187Z"
   },
   {
    "duration": 21,
    "start_time": "2021-12-04T16:37:14.908Z"
   },
   {
    "duration": 316,
    "start_time": "2021-12-05T14:20:44.420Z"
   },
   {
    "duration": 810,
    "start_time": "2021-12-05T14:20:51.447Z"
   },
   {
    "duration": 64,
    "start_time": "2021-12-05T14:20:52.260Z"
   },
   {
    "duration": 15,
    "start_time": "2021-12-05T14:20:52.328Z"
   },
   {
    "duration": 41,
    "start_time": "2021-12-05T14:20:52.345Z"
   },
   {
    "duration": 7,
    "start_time": "2021-12-05T14:20:52.389Z"
   },
   {
    "duration": 26,
    "start_time": "2021-12-05T14:20:52.399Z"
   },
   {
    "duration": 41,
    "start_time": "2021-12-05T14:20:52.427Z"
   },
   {
    "duration": 16,
    "start_time": "2021-12-05T14:20:52.472Z"
   },
   {
    "duration": 9,
    "start_time": "2021-12-05T14:20:52.491Z"
   },
   {
    "duration": 32,
    "start_time": "2021-12-05T14:20:52.503Z"
   },
   {
    "duration": 21,
    "start_time": "2021-12-05T14:20:52.568Z"
   },
   {
    "duration": 625,
    "start_time": "2021-12-05T14:20:52.592Z"
   },
   {
    "duration": 54,
    "start_time": "2021-12-05T14:20:53.220Z"
   },
   {
    "duration": 37,
    "start_time": "2021-12-05T14:20:53.277Z"
   },
   {
    "duration": 54,
    "start_time": "2021-12-05T14:20:53.317Z"
   },
   {
    "duration": 7,
    "start_time": "2021-12-05T14:20:53.374Z"
   },
   {
    "duration": 50,
    "start_time": "2021-12-05T14:20:53.384Z"
   },
   {
    "duration": 32,
    "start_time": "2021-12-05T14:20:53.436Z"
   },
   {
    "duration": 15,
    "start_time": "2021-12-05T14:20:53.470Z"
   },
   {
    "duration": 19,
    "start_time": "2021-12-05T14:20:53.488Z"
   },
   {
    "duration": 58,
    "start_time": "2021-12-05T14:20:53.509Z"
   },
   {
    "duration": 11,
    "start_time": "2021-12-05T14:20:53.570Z"
   },
   {
    "duration": 5,
    "start_time": "2021-12-05T14:20:53.587Z"
   },
   {
    "duration": 4647,
    "start_time": "2021-12-05T14:20:53.596Z"
   },
   {
    "duration": 24,
    "start_time": "2021-12-05T14:20:58.245Z"
   },
   {
    "duration": 50,
    "start_time": "2021-12-05T14:20:58.272Z"
   },
   {
    "duration": 4,
    "start_time": "2021-12-05T14:20:58.324Z"
   },
   {
    "duration": 4404,
    "start_time": "2021-12-05T14:20:58.331Z"
   },
   {
    "duration": 7,
    "start_time": "2021-12-05T14:21:02.738Z"
   },
   {
    "duration": 45,
    "start_time": "2021-12-05T14:21:02.747Z"
   },
   {
    "duration": 19,
    "start_time": "2021-12-05T14:21:02.795Z"
   },
   {
    "duration": 111,
    "start_time": "2021-12-05T14:21:02.818Z"
   },
   {
    "duration": 8,
    "start_time": "2021-12-05T14:21:02.932Z"
   },
   {
    "duration": 16,
    "start_time": "2021-12-05T14:21:02.966Z"
   },
   {
    "duration": 40,
    "start_time": "2021-12-05T14:21:02.985Z"
   },
   {
    "duration": 39,
    "start_time": "2021-12-05T14:21:03.028Z"
   },
   {
    "duration": 21,
    "start_time": "2021-12-05T14:21:03.071Z"
   },
   {
    "duration": 28,
    "start_time": "2021-12-05T14:21:03.094Z"
   },
   {
    "duration": 44,
    "start_time": "2021-12-05T14:21:03.125Z"
   },
   {
    "duration": 32,
    "start_time": "2021-12-05T14:21:03.173Z"
   },
   {
    "duration": 60,
    "start_time": "2021-12-05T14:21:03.208Z"
   },
   {
    "duration": 6253,
    "start_time": "2021-12-05T14:21:03.270Z"
   },
   {
    "duration": 9,
    "start_time": "2021-12-05T14:21:09.526Z"
   },
   {
    "duration": 6,
    "start_time": "2021-12-05T14:21:09.538Z"
   },
   {
    "duration": 12862,
    "start_time": "2021-12-05T14:21:09.567Z"
   },
   {
    "duration": 20,
    "start_time": "2021-12-05T14:21:22.432Z"
   },
   {
    "duration": 30,
    "start_time": "2021-12-05T14:21:22.455Z"
   },
   {
    "duration": 28,
    "start_time": "2021-12-05T14:21:22.488Z"
   },
   {
    "duration": 48,
    "start_time": "2021-12-05T14:21:22.519Z"
   },
   {
    "duration": 21,
    "start_time": "2021-12-05T14:21:22.570Z"
   },
   {
    "duration": 19,
    "start_time": "2021-12-05T14:21:22.594Z"
   },
   {
    "duration": 58,
    "start_time": "2021-12-05T14:21:22.616Z"
   },
   {
    "duration": 21,
    "start_time": "2021-12-05T14:21:22.677Z"
   },
   {
    "duration": 22,
    "start_time": "2021-12-05T14:21:22.701Z"
   },
   {
    "duration": 29,
    "start_time": "2021-12-05T14:21:47.011Z"
   },
   {
    "duration": 32,
    "start_time": "2021-12-05T14:22:05.789Z"
   },
   {
    "duration": 769,
    "start_time": "2021-12-05T14:22:14.236Z"
   },
   {
    "duration": 67,
    "start_time": "2021-12-05T14:22:15.009Z"
   },
   {
    "duration": 15,
    "start_time": "2021-12-05T14:22:15.079Z"
   },
   {
    "duration": 29,
    "start_time": "2021-12-05T14:22:15.096Z"
   },
   {
    "duration": 38,
    "start_time": "2021-12-05T14:22:15.128Z"
   },
   {
    "duration": 27,
    "start_time": "2021-12-05T14:22:15.168Z"
   },
   {
    "duration": 10,
    "start_time": "2021-12-05T14:22:15.198Z"
   },
   {
    "duration": 14,
    "start_time": "2021-12-05T14:22:15.212Z"
   },
   {
    "duration": 46,
    "start_time": "2021-12-05T14:22:15.229Z"
   },
   {
    "duration": 31,
    "start_time": "2021-12-05T14:22:15.277Z"
   },
   {
    "duration": 19,
    "start_time": "2021-12-05T14:22:15.311Z"
   },
   {
    "duration": 639,
    "start_time": "2021-12-05T14:22:15.332Z"
   },
   {
    "duration": 40,
    "start_time": "2021-12-05T14:22:15.973Z"
   },
   {
    "duration": 64,
    "start_time": "2021-12-05T14:22:16.015Z"
   },
   {
    "duration": 29,
    "start_time": "2021-12-05T14:22:16.081Z"
   },
   {
    "duration": 6,
    "start_time": "2021-12-05T14:22:16.112Z"
   },
   {
    "duration": 78,
    "start_time": "2021-12-05T14:22:16.120Z"
   },
   {
    "duration": 6,
    "start_time": "2021-12-05T14:22:16.200Z"
   },
   {
    "duration": 14,
    "start_time": "2021-12-05T14:22:16.208Z"
   },
   {
    "duration": 48,
    "start_time": "2021-12-05T14:22:16.224Z"
   },
   {
    "duration": 26,
    "start_time": "2021-12-05T14:22:16.274Z"
   },
   {
    "duration": 9,
    "start_time": "2021-12-05T14:22:16.303Z"
   },
   {
    "duration": 6,
    "start_time": "2021-12-05T14:22:16.318Z"
   },
   {
    "duration": 4831,
    "start_time": "2021-12-05T14:22:16.327Z"
   },
   {
    "duration": 27,
    "start_time": "2021-12-05T14:22:21.160Z"
   },
   {
    "duration": 51,
    "start_time": "2021-12-05T14:22:21.189Z"
   },
   {
    "duration": 4,
    "start_time": "2021-12-05T14:22:21.242Z"
   },
   {
    "duration": 4202,
    "start_time": "2021-12-05T14:22:21.268Z"
   },
   {
    "duration": 7,
    "start_time": "2021-12-05T14:22:25.472Z"
   },
   {
    "duration": 34,
    "start_time": "2021-12-05T14:22:25.481Z"
   },
   {
    "duration": 16,
    "start_time": "2021-12-05T14:22:25.517Z"
   },
   {
    "duration": 86,
    "start_time": "2021-12-05T14:22:25.536Z"
   },
   {
    "duration": 8,
    "start_time": "2021-12-05T14:22:25.625Z"
   },
   {
    "duration": 41,
    "start_time": "2021-12-05T14:22:25.635Z"
   },
   {
    "duration": 36,
    "start_time": "2021-12-05T14:22:25.679Z"
   },
   {
    "duration": 8,
    "start_time": "2021-12-05T14:22:25.717Z"
   },
   {
    "duration": 51,
    "start_time": "2021-12-05T14:22:25.727Z"
   },
   {
    "duration": 21,
    "start_time": "2021-12-05T14:22:25.781Z"
   },
   {
    "duration": 11,
    "start_time": "2021-12-05T14:22:25.805Z"
   },
   {
    "duration": 60,
    "start_time": "2021-12-05T14:22:25.819Z"
   },
   {
    "duration": 32,
    "start_time": "2021-12-05T14:22:25.882Z"
   },
   {
    "duration": 4772,
    "start_time": "2021-12-05T14:22:25.916Z"
   },
   {
    "duration": 11,
    "start_time": "2021-12-05T14:22:30.691Z"
   },
   {
    "duration": 15,
    "start_time": "2021-12-05T14:22:30.705Z"
   },
   {
    "duration": 12271,
    "start_time": "2021-12-05T14:22:30.722Z"
   },
   {
    "duration": 21,
    "start_time": "2021-12-05T14:22:42.996Z"
   },
   {
    "duration": 24,
    "start_time": "2021-12-05T14:22:43.019Z"
   },
   {
    "duration": 50,
    "start_time": "2021-12-05T14:22:43.045Z"
   },
   {
    "duration": 8,
    "start_time": "2021-12-05T14:22:43.097Z"
   },
   {
    "duration": 19,
    "start_time": "2021-12-05T14:22:43.108Z"
   },
   {
    "duration": 39,
    "start_time": "2021-12-05T14:22:43.129Z"
   },
   {
    "duration": 19,
    "start_time": "2021-12-05T14:22:43.170Z"
   },
   {
    "duration": 18,
    "start_time": "2021-12-05T14:22:43.191Z"
   },
   {
    "duration": 18,
    "start_time": "2021-12-05T14:22:43.212Z"
   },
   {
    "duration": 751,
    "start_time": "2021-12-05T14:27:19.198Z"
   },
   {
    "duration": 67,
    "start_time": "2021-12-05T14:27:19.952Z"
   },
   {
    "duration": 18,
    "start_time": "2021-12-05T14:27:20.022Z"
   },
   {
    "duration": 52,
    "start_time": "2021-12-05T14:27:20.043Z"
   },
   {
    "duration": 21,
    "start_time": "2021-12-05T14:27:20.098Z"
   },
   {
    "duration": 33,
    "start_time": "2021-12-05T14:27:20.122Z"
   },
   {
    "duration": 11,
    "start_time": "2021-12-05T14:27:20.168Z"
   },
   {
    "duration": 15,
    "start_time": "2021-12-05T14:27:20.184Z"
   },
   {
    "duration": 9,
    "start_time": "2021-12-05T14:27:20.202Z"
   },
   {
    "duration": 70,
    "start_time": "2021-12-05T14:27:20.214Z"
   },
   {
    "duration": 20,
    "start_time": "2021-12-05T14:27:20.287Z"
   },
   {
    "duration": 624,
    "start_time": "2021-12-05T14:27:20.309Z"
   },
   {
    "duration": 53,
    "start_time": "2021-12-05T14:27:20.936Z"
   },
   {
    "duration": 41,
    "start_time": "2021-12-05T14:27:20.991Z"
   },
   {
    "duration": 51,
    "start_time": "2021-12-05T14:27:21.034Z"
   },
   {
    "duration": 8,
    "start_time": "2021-12-05T14:27:21.088Z"
   },
   {
    "duration": 83,
    "start_time": "2021-12-05T14:27:21.099Z"
   },
   {
    "duration": 9,
    "start_time": "2021-12-05T14:27:21.185Z"
   },
   {
    "duration": 25,
    "start_time": "2021-12-05T14:27:21.197Z"
   },
   {
    "duration": 21,
    "start_time": "2021-12-05T14:27:21.224Z"
   },
   {
    "duration": 36,
    "start_time": "2021-12-05T14:27:21.268Z"
   },
   {
    "duration": 23,
    "start_time": "2021-12-05T14:27:21.307Z"
   },
   {
    "duration": 7,
    "start_time": "2021-12-05T14:27:21.338Z"
   },
   {
    "duration": 4707,
    "start_time": "2021-12-05T14:27:21.369Z"
   },
   {
    "duration": 24,
    "start_time": "2021-12-05T14:27:26.079Z"
   },
   {
    "duration": 80,
    "start_time": "2021-12-05T14:27:26.106Z"
   },
   {
    "duration": 6,
    "start_time": "2021-12-05T14:27:26.188Z"
   },
   {
    "duration": 4257,
    "start_time": "2021-12-05T14:27:26.197Z"
   },
   {
    "duration": 16,
    "start_time": "2021-12-05T14:27:30.456Z"
   },
   {
    "duration": 31,
    "start_time": "2021-12-05T14:27:30.476Z"
   },
   {
    "duration": 16,
    "start_time": "2021-12-05T14:27:30.509Z"
   },
   {
    "duration": 88,
    "start_time": "2021-12-05T14:27:30.528Z"
   },
   {
    "duration": 7,
    "start_time": "2021-12-05T14:27:30.619Z"
   },
   {
    "duration": 38,
    "start_time": "2021-12-05T14:27:30.629Z"
   },
   {
    "duration": 27,
    "start_time": "2021-12-05T14:27:30.670Z"
   },
   {
    "duration": 22,
    "start_time": "2021-12-05T14:27:30.700Z"
   },
   {
    "duration": 46,
    "start_time": "2021-12-05T14:27:30.724Z"
   },
   {
    "duration": 8,
    "start_time": "2021-12-05T14:27:30.772Z"
   },
   {
    "duration": 38,
    "start_time": "2021-12-05T14:27:30.782Z"
   },
   {
    "duration": 44,
    "start_time": "2021-12-05T14:27:30.822Z"
   },
   {
    "duration": 34,
    "start_time": "2021-12-05T14:27:30.868Z"
   },
   {
    "duration": 45,
    "start_time": "2021-12-05T14:27:30.904Z"
   },
   {
    "duration": 30,
    "start_time": "2021-12-05T14:27:30.952Z"
   },
   {
    "duration": 4713,
    "start_time": "2021-12-05T14:27:30.985Z"
   },
   {
    "duration": 9,
    "start_time": "2021-12-05T14:27:35.701Z"
   },
   {
    "duration": 11,
    "start_time": "2021-12-05T14:27:35.713Z"
   },
   {
    "duration": 12458,
    "start_time": "2021-12-05T14:27:35.727Z"
   },
   {
    "duration": 23,
    "start_time": "2021-12-05T14:27:48.187Z"
   },
   {
    "duration": 24,
    "start_time": "2021-12-05T14:27:48.212Z"
   },
   {
    "duration": 46,
    "start_time": "2021-12-05T14:27:48.239Z"
   },
   {
    "duration": 9,
    "start_time": "2021-12-05T14:27:48.288Z"
   },
   {
    "duration": 20,
    "start_time": "2021-12-05T14:27:48.299Z"
   },
   {
    "duration": 51,
    "start_time": "2021-12-05T14:27:48.321Z"
   },
   {
    "duration": 21,
    "start_time": "2021-12-05T14:27:48.374Z"
   },
   {
    "duration": 21,
    "start_time": "2021-12-05T14:27:48.398Z"
   },
   {
    "duration": 57,
    "start_time": "2021-12-05T14:27:48.421Z"
   },
   {
    "duration": 845,
    "start_time": "2021-12-05T14:28:19.640Z"
   },
   {
    "duration": 65,
    "start_time": "2021-12-05T14:28:20.487Z"
   },
   {
    "duration": 20,
    "start_time": "2021-12-05T14:28:20.555Z"
   },
   {
    "duration": 27,
    "start_time": "2021-12-05T14:28:20.578Z"
   },
   {
    "duration": 13,
    "start_time": "2021-12-05T14:28:20.608Z"
   },
   {
    "duration": 52,
    "start_time": "2021-12-05T14:28:20.624Z"
   },
   {
    "duration": 11,
    "start_time": "2021-12-05T14:28:20.678Z"
   },
   {
    "duration": 19,
    "start_time": "2021-12-05T14:28:20.692Z"
   },
   {
    "duration": 9,
    "start_time": "2021-12-05T14:28:20.716Z"
   },
   {
    "duration": 69,
    "start_time": "2021-12-05T14:28:20.728Z"
   },
   {
    "duration": 27,
    "start_time": "2021-12-05T14:28:20.800Z"
   },
   {
    "duration": 640,
    "start_time": "2021-12-05T14:28:20.830Z"
   },
   {
    "duration": 41,
    "start_time": "2021-12-05T14:28:21.473Z"
   },
   {
    "duration": 66,
    "start_time": "2021-12-05T14:28:21.516Z"
   },
   {
    "duration": 28,
    "start_time": "2021-12-05T14:28:21.584Z"
   },
   {
    "duration": 6,
    "start_time": "2021-12-05T14:28:21.615Z"
   },
   {
    "duration": 86,
    "start_time": "2021-12-05T14:28:21.624Z"
   },
   {
    "duration": 6,
    "start_time": "2021-12-05T14:28:21.712Z"
   },
   {
    "duration": 14,
    "start_time": "2021-12-05T14:28:21.721Z"
   },
   {
    "duration": 37,
    "start_time": "2021-12-05T14:28:21.738Z"
   },
   {
    "duration": 27,
    "start_time": "2021-12-05T14:28:21.777Z"
   },
   {
    "duration": 9,
    "start_time": "2021-12-05T14:28:21.807Z"
   },
   {
    "duration": 6,
    "start_time": "2021-12-05T14:28:21.819Z"
   },
   {
    "duration": 4804,
    "start_time": "2021-12-05T14:28:21.827Z"
   },
   {
    "duration": 21,
    "start_time": "2021-12-05T14:28:26.633Z"
   },
   {
    "duration": 48,
    "start_time": "2021-12-05T14:28:26.667Z"
   },
   {
    "duration": 4,
    "start_time": "2021-12-05T14:28:26.720Z"
   },
   {
    "duration": 4365,
    "start_time": "2021-12-05T14:28:26.726Z"
   },
   {
    "duration": 7,
    "start_time": "2021-12-05T14:28:31.093Z"
   },
   {
    "duration": 37,
    "start_time": "2021-12-05T14:28:31.102Z"
   },
   {
    "duration": 33,
    "start_time": "2021-12-05T14:28:31.142Z"
   },
   {
    "duration": 60,
    "start_time": "2021-12-05T14:28:31.177Z"
   },
   {
    "duration": 29,
    "start_time": "2021-12-05T14:28:31.240Z"
   },
   {
    "duration": 8,
    "start_time": "2021-12-05T14:28:38.022Z"
   },
   {
    "duration": 44,
    "start_time": "2021-12-05T14:28:53.091Z"
   },
   {
    "duration": 15,
    "start_time": "2021-12-05T14:29:11.094Z"
   },
   {
    "duration": 377,
    "start_time": "2021-12-05T14:29:19.759Z"
   },
   {
    "duration": 93,
    "start_time": "2021-12-05T14:29:32.199Z"
   },
   {
    "duration": 285,
    "start_time": "2021-12-05T14:30:47.590Z"
   },
   {
    "duration": 290,
    "start_time": "2021-12-05T14:31:01.056Z"
   },
   {
    "duration": 44,
    "start_time": "2021-12-05T14:31:55.810Z"
   },
   {
    "duration": 9,
    "start_time": "2021-12-05T14:32:02.280Z"
   },
   {
    "duration": 10,
    "start_time": "2021-12-05T14:32:15.110Z"
   },
   {
    "duration": 10,
    "start_time": "2021-12-05T14:32:30.113Z"
   },
   {
    "duration": 9,
    "start_time": "2021-12-05T14:32:34.156Z"
   },
   {
    "duration": 6,
    "start_time": "2021-12-05T14:34:52.862Z"
   },
   {
    "duration": 9,
    "start_time": "2021-12-05T14:35:12.103Z"
   },
   {
    "duration": 9,
    "start_time": "2021-12-05T14:35:26.334Z"
   },
   {
    "duration": 9,
    "start_time": "2021-12-05T14:36:18.159Z"
   },
   {
    "duration": 803,
    "start_time": "2021-12-05T14:37:58.780Z"
   },
   {
    "duration": 68,
    "start_time": "2021-12-05T14:37:59.586Z"
   },
   {
    "duration": 17,
    "start_time": "2021-12-05T14:37:59.666Z"
   },
   {
    "duration": 29,
    "start_time": "2021-12-05T14:37:59.686Z"
   },
   {
    "duration": 8,
    "start_time": "2021-12-05T14:37:59.719Z"
   },
   {
    "duration": 60,
    "start_time": "2021-12-05T14:37:59.730Z"
   },
   {
    "duration": 13,
    "start_time": "2021-12-05T14:37:59.793Z"
   },
   {
    "duration": 17,
    "start_time": "2021-12-05T14:37:59.809Z"
   },
   {
    "duration": 10,
    "start_time": "2021-12-05T14:37:59.869Z"
   },
   {
    "duration": 32,
    "start_time": "2021-12-05T14:37:59.883Z"
   },
   {
    "duration": 57,
    "start_time": "2021-12-05T14:37:59.918Z"
   },
   {
    "duration": 717,
    "start_time": "2021-12-05T14:37:59.978Z"
   },
   {
    "duration": 40,
    "start_time": "2021-12-05T14:38:00.698Z"
   },
   {
    "duration": 64,
    "start_time": "2021-12-05T14:38:00.740Z"
   },
   {
    "duration": 30,
    "start_time": "2021-12-05T14:38:00.807Z"
   },
   {
    "duration": 29,
    "start_time": "2021-12-05T14:38:00.840Z"
   },
   {
    "duration": 56,
    "start_time": "2021-12-05T14:38:00.872Z"
   },
   {
    "duration": 8,
    "start_time": "2021-12-05T14:38:00.930Z"
   },
   {
    "duration": 12,
    "start_time": "2021-12-05T14:38:00.969Z"
   },
   {
    "duration": 25,
    "start_time": "2021-12-05T14:38:00.984Z"
   },
   {
    "duration": 57,
    "start_time": "2021-12-05T14:38:01.012Z"
   },
   {
    "duration": 29,
    "start_time": "2021-12-05T14:38:01.072Z"
   },
   {
    "duration": 27,
    "start_time": "2021-12-05T14:38:01.104Z"
   },
   {
    "duration": 4835,
    "start_time": "2021-12-05T14:38:01.134Z"
   },
   {
    "duration": 20,
    "start_time": "2021-12-05T14:38:05.972Z"
   },
   {
    "duration": 73,
    "start_time": "2021-12-05T14:38:05.994Z"
   },
   {
    "duration": 5,
    "start_time": "2021-12-05T14:38:06.073Z"
   },
   {
    "duration": 4179,
    "start_time": "2021-12-05T14:38:06.081Z"
   },
   {
    "duration": 7,
    "start_time": "2021-12-05T14:38:10.262Z"
   },
   {
    "duration": 30,
    "start_time": "2021-12-05T14:38:10.272Z"
   },
   {
    "duration": 17,
    "start_time": "2021-12-05T14:38:10.304Z"
   },
   {
    "duration": 89,
    "start_time": "2021-12-05T14:38:10.323Z"
   },
   {
    "duration": 8,
    "start_time": "2021-12-05T14:38:10.415Z"
   },
   {
    "duration": 15,
    "start_time": "2021-12-05T14:38:10.425Z"
   },
   {
    "duration": 15,
    "start_time": "2021-12-05T14:38:10.467Z"
   },
   {
    "duration": 9,
    "start_time": "2021-12-05T14:38:10.484Z"
   },
   {
    "duration": 35,
    "start_time": "2021-12-05T14:38:10.495Z"
   },
   {
    "duration": 9,
    "start_time": "2021-12-05T14:38:10.567Z"
   },
   {
    "duration": 20,
    "start_time": "2021-12-05T14:38:10.578Z"
   },
   {
    "duration": 21,
    "start_time": "2021-12-05T14:38:10.601Z"
   },
   {
    "duration": 47,
    "start_time": "2021-12-05T14:38:10.624Z"
   },
   {
    "duration": 28,
    "start_time": "2021-12-05T14:38:10.674Z"
   },
   {
    "duration": 30,
    "start_time": "2021-12-05T14:38:10.704Z"
   },
   {
    "duration": 4773,
    "start_time": "2021-12-05T14:38:10.736Z"
   },
   {
    "duration": 10,
    "start_time": "2021-12-05T14:38:15.512Z"
   },
   {
    "duration": 9,
    "start_time": "2021-12-05T14:38:15.525Z"
   },
   {
    "duration": 13073,
    "start_time": "2021-12-05T14:38:15.537Z"
   },
   {
    "duration": 19,
    "start_time": "2021-12-05T14:38:28.613Z"
   },
   {
    "duration": 35,
    "start_time": "2021-12-05T14:38:28.634Z"
   },
   {
    "duration": 24,
    "start_time": "2021-12-05T14:38:28.672Z"
   },
   {
    "duration": 9,
    "start_time": "2021-12-05T14:38:28.698Z"
   },
   {
    "duration": 19,
    "start_time": "2021-12-05T14:38:28.710Z"
   },
   {
    "duration": 52,
    "start_time": "2021-12-05T14:38:28.731Z"
   },
   {
    "duration": 18,
    "start_time": "2021-12-05T14:38:28.786Z"
   },
   {
    "duration": 18,
    "start_time": "2021-12-05T14:38:28.807Z"
   },
   {
    "duration": 55,
    "start_time": "2021-12-05T14:38:28.828Z"
   },
   {
    "duration": 11,
    "start_time": "2021-12-05T14:39:33.419Z"
   },
   {
    "duration": 23,
    "start_time": "2021-12-05T14:41:45.577Z"
   },
   {
    "duration": 13,
    "start_time": "2021-12-05T14:42:20.159Z"
   },
   {
    "duration": 10,
    "start_time": "2021-12-05T14:42:26.198Z"
   },
   {
    "duration": 10,
    "start_time": "2021-12-05T14:42:32.981Z"
   },
   {
    "duration": 19,
    "start_time": "2021-12-05T14:42:59.914Z"
   },
   {
    "duration": 18,
    "start_time": "2021-12-05T14:43:09.379Z"
   },
   {
    "duration": 18,
    "start_time": "2021-12-05T14:44:30.357Z"
   },
   {
    "duration": 124,
    "start_time": "2021-12-05T14:54:39.045Z"
   },
   {
    "duration": 10,
    "start_time": "2021-12-05T14:56:00.325Z"
   },
   {
    "duration": 23,
    "start_time": "2021-12-05T14:56:20.869Z"
   },
   {
    "duration": 10,
    "start_time": "2021-12-05T14:57:43.741Z"
   },
   {
    "duration": 23,
    "start_time": "2021-12-05T15:13:19.650Z"
   },
   {
    "duration": 806,
    "start_time": "2021-12-06T21:26:16.803Z"
   },
   {
    "duration": 69,
    "start_time": "2021-12-06T21:26:17.611Z"
   },
   {
    "duration": 20,
    "start_time": "2021-12-06T21:26:17.683Z"
   },
   {
    "duration": 55,
    "start_time": "2021-12-06T21:26:17.706Z"
   },
   {
    "duration": 10,
    "start_time": "2021-12-06T21:26:17.765Z"
   },
   {
    "duration": 25,
    "start_time": "2021-12-06T21:26:17.778Z"
   },
   {
    "duration": 10,
    "start_time": "2021-12-06T21:26:17.806Z"
   },
   {
    "duration": 56,
    "start_time": "2021-12-06T21:26:17.822Z"
   },
   {
    "duration": 9,
    "start_time": "2021-12-06T21:26:17.882Z"
   },
   {
    "duration": 31,
    "start_time": "2021-12-06T21:26:17.894Z"
   },
   {
    "duration": 22,
    "start_time": "2021-12-06T21:26:17.961Z"
   },
   {
    "duration": 615,
    "start_time": "2021-12-06T21:26:17.985Z"
   },
   {
    "duration": 37,
    "start_time": "2021-12-06T21:26:18.602Z"
   },
   {
    "duration": 58,
    "start_time": "2021-12-06T21:26:18.642Z"
   },
   {
    "duration": 61,
    "start_time": "2021-12-06T21:26:18.703Z"
   },
   {
    "duration": 8,
    "start_time": "2021-12-06T21:26:18.767Z"
   },
   {
    "duration": 57,
    "start_time": "2021-12-06T21:26:18.777Z"
   },
   {
    "duration": 31,
    "start_time": "2021-12-06T21:26:18.836Z"
   },
   {
    "duration": 17,
    "start_time": "2021-12-06T21:26:18.871Z"
   },
   {
    "duration": 19,
    "start_time": "2021-12-06T21:26:18.891Z"
   },
   {
    "duration": 58,
    "start_time": "2021-12-06T21:26:18.912Z"
   },
   {
    "duration": 10,
    "start_time": "2021-12-06T21:26:18.973Z"
   },
   {
    "duration": 6,
    "start_time": "2021-12-06T21:26:18.990Z"
   },
   {
    "duration": 4685,
    "start_time": "2021-12-06T21:26:18.999Z"
   },
   {
    "duration": 19,
    "start_time": "2021-12-06T21:26:23.687Z"
   },
   {
    "duration": 72,
    "start_time": "2021-12-06T21:26:23.709Z"
   },
   {
    "duration": 4,
    "start_time": "2021-12-06T21:26:23.784Z"
   },
   {
    "duration": 4386,
    "start_time": "2021-12-06T21:26:23.790Z"
   },
   {
    "duration": 6,
    "start_time": "2021-12-06T21:26:28.179Z"
   },
   {
    "duration": 28,
    "start_time": "2021-12-06T21:26:28.187Z"
   },
   {
    "duration": 45,
    "start_time": "2021-12-06T21:26:28.218Z"
   },
   {
    "duration": 59,
    "start_time": "2021-12-06T21:26:28.268Z"
   },
   {
    "duration": 7,
    "start_time": "2021-12-06T21:26:28.330Z"
   },
   {
    "duration": 33,
    "start_time": "2021-12-06T21:26:28.339Z"
   },
   {
    "duration": 17,
    "start_time": "2021-12-06T21:26:28.375Z"
   },
   {
    "duration": 8,
    "start_time": "2021-12-06T21:26:28.394Z"
   },
   {
    "duration": 9,
    "start_time": "2021-12-06T21:26:28.404Z"
   },
   {
    "duration": 52,
    "start_time": "2021-12-06T21:26:28.416Z"
   },
   {
    "duration": 18,
    "start_time": "2021-12-06T21:26:28.472Z"
   },
   {
    "duration": 69,
    "start_time": "2021-12-06T21:26:28.493Z"
   },
   {
    "duration": 12,
    "start_time": "2021-12-06T21:26:28.565Z"
   },
   {
    "duration": 19,
    "start_time": "2021-12-06T21:26:28.580Z"
   },
   {
    "duration": 21,
    "start_time": "2021-12-06T21:26:28.601Z"
   },
   {
    "duration": 41,
    "start_time": "2021-12-06T21:26:28.625Z"
   },
   {
    "duration": 30,
    "start_time": "2021-12-06T21:26:28.668Z"
   },
   {
    "duration": 29,
    "start_time": "2021-12-06T21:26:28.700Z"
   },
   {
    "duration": 5476,
    "start_time": "2021-12-06T21:26:28.760Z"
   },
   {
    "duration": 10,
    "start_time": "2021-12-06T21:26:34.239Z"
   },
   {
    "duration": 11,
    "start_time": "2021-12-06T21:26:34.251Z"
   },
   {
    "duration": 13230,
    "start_time": "2021-12-06T21:26:34.265Z"
   },
   {
    "duration": 20,
    "start_time": "2021-12-06T21:26:47.497Z"
   },
   {
    "duration": 14,
    "start_time": "2021-12-06T21:26:47.520Z"
   },
   {
    "duration": 48,
    "start_time": "2021-12-06T21:26:47.537Z"
   },
   {
    "duration": 8,
    "start_time": "2021-12-06T21:26:47.587Z"
   },
   {
    "duration": 20,
    "start_time": "2021-12-06T21:26:47.598Z"
   },
   {
    "duration": 53,
    "start_time": "2021-12-06T21:26:47.620Z"
   },
   {
    "duration": 23,
    "start_time": "2021-12-06T21:26:47.676Z"
   },
   {
    "duration": 16,
    "start_time": "2021-12-06T21:26:47.702Z"
   },
   {
    "duration": 55,
    "start_time": "2021-12-06T21:26:47.721Z"
   },
   {
    "duration": 21,
    "start_time": "2021-12-06T21:26:47.779Z"
   },
   {
    "duration": 573,
    "start_time": "2021-12-06T21:26:53.026Z"
   },
   {
    "duration": 429,
    "start_time": "2021-12-06T21:27:00.635Z"
   },
   {
    "duration": 442,
    "start_time": "2022-04-07T14:52:38.374Z"
   },
   {
    "duration": 0,
    "start_time": "2022-04-07T14:52:38.819Z"
   },
   {
    "duration": 0,
    "start_time": "2022-04-07T14:52:38.820Z"
   },
   {
    "duration": 0,
    "start_time": "2022-04-07T14:52:38.821Z"
   },
   {
    "duration": 0,
    "start_time": "2022-04-07T14:52:38.822Z"
   },
   {
    "duration": 0,
    "start_time": "2022-04-07T14:52:38.823Z"
   },
   {
    "duration": 0,
    "start_time": "2022-04-07T14:52:38.824Z"
   },
   {
    "duration": 0,
    "start_time": "2022-04-07T14:52:38.825Z"
   },
   {
    "duration": 0,
    "start_time": "2022-04-07T14:52:38.826Z"
   },
   {
    "duration": 0,
    "start_time": "2022-04-07T14:52:38.827Z"
   },
   {
    "duration": 0,
    "start_time": "2022-04-07T14:52:38.837Z"
   },
   {
    "duration": 0,
    "start_time": "2022-04-07T14:52:38.839Z"
   },
   {
    "duration": 1,
    "start_time": "2022-04-07T14:52:38.839Z"
   },
   {
    "duration": 0,
    "start_time": "2022-04-07T14:52:38.841Z"
   },
   {
    "duration": 0,
    "start_time": "2022-04-07T14:52:38.842Z"
   },
   {
    "duration": 0,
    "start_time": "2022-04-07T14:52:38.843Z"
   },
   {
    "duration": 0,
    "start_time": "2022-04-07T14:52:38.844Z"
   },
   {
    "duration": 0,
    "start_time": "2022-04-07T14:52:38.844Z"
   },
   {
    "duration": 0,
    "start_time": "2022-04-07T14:52:38.846Z"
   },
   {
    "duration": 0,
    "start_time": "2022-04-07T14:52:38.847Z"
   },
   {
    "duration": 0,
    "start_time": "2022-04-07T14:52:38.848Z"
   },
   {
    "duration": 0,
    "start_time": "2022-04-07T14:52:38.849Z"
   },
   {
    "duration": 0,
    "start_time": "2022-04-07T14:52:38.850Z"
   },
   {
    "duration": 0,
    "start_time": "2022-04-07T14:52:38.851Z"
   },
   {
    "duration": 0,
    "start_time": "2022-04-07T14:52:38.851Z"
   },
   {
    "duration": 0,
    "start_time": "2022-04-07T14:52:38.852Z"
   },
   {
    "duration": 0,
    "start_time": "2022-04-07T14:52:38.853Z"
   },
   {
    "duration": 0,
    "start_time": "2022-04-07T14:52:38.854Z"
   },
   {
    "duration": 0,
    "start_time": "2022-04-07T14:52:38.855Z"
   },
   {
    "duration": 0,
    "start_time": "2022-04-07T14:52:38.856Z"
   },
   {
    "duration": 0,
    "start_time": "2022-04-07T14:52:38.857Z"
   },
   {
    "duration": 0,
    "start_time": "2022-04-07T14:52:38.857Z"
   },
   {
    "duration": 0,
    "start_time": "2022-04-07T14:52:38.858Z"
   },
   {
    "duration": 0,
    "start_time": "2022-04-07T14:52:38.859Z"
   },
   {
    "duration": 0,
    "start_time": "2022-04-07T14:52:38.860Z"
   },
   {
    "duration": 0,
    "start_time": "2022-04-07T14:52:38.861Z"
   },
   {
    "duration": 0,
    "start_time": "2022-04-07T14:52:38.862Z"
   },
   {
    "duration": 0,
    "start_time": "2022-04-07T14:52:38.863Z"
   },
   {
    "duration": 0,
    "start_time": "2022-04-07T14:52:38.864Z"
   },
   {
    "duration": 0,
    "start_time": "2022-04-07T14:52:38.864Z"
   },
   {
    "duration": 0,
    "start_time": "2022-04-07T14:52:38.865Z"
   },
   {
    "duration": 0,
    "start_time": "2022-04-07T14:52:38.866Z"
   },
   {
    "duration": 0,
    "start_time": "2022-04-07T14:52:38.867Z"
   },
   {
    "duration": 0,
    "start_time": "2022-04-07T14:52:38.868Z"
   },
   {
    "duration": 0,
    "start_time": "2022-04-07T14:52:38.869Z"
   },
   {
    "duration": 0,
    "start_time": "2022-04-07T14:52:38.870Z"
   },
   {
    "duration": 0,
    "start_time": "2022-04-07T14:52:38.871Z"
   },
   {
    "duration": 0,
    "start_time": "2022-04-07T14:52:38.872Z"
   },
   {
    "duration": 0,
    "start_time": "2022-04-07T14:52:38.872Z"
   },
   {
    "duration": 0,
    "start_time": "2022-04-07T14:52:38.938Z"
   },
   {
    "duration": 0,
    "start_time": "2022-04-07T14:52:38.939Z"
   },
   {
    "duration": 0,
    "start_time": "2022-04-07T14:52:38.940Z"
   },
   {
    "duration": 0,
    "start_time": "2022-04-07T14:52:38.941Z"
   },
   {
    "duration": 0,
    "start_time": "2022-04-07T14:52:38.941Z"
   },
   {
    "duration": 0,
    "start_time": "2022-04-07T14:52:38.942Z"
   },
   {
    "duration": 0,
    "start_time": "2022-04-07T14:52:38.944Z"
   },
   {
    "duration": 0,
    "start_time": "2022-04-07T14:52:38.945Z"
   },
   {
    "duration": 0,
    "start_time": "2022-04-07T14:52:38.946Z"
   },
   {
    "duration": 0,
    "start_time": "2022-04-07T14:52:38.947Z"
   },
   {
    "duration": 0,
    "start_time": "2022-04-07T14:52:38.948Z"
   },
   {
    "duration": 415,
    "start_time": "2022-04-07T14:52:56.014Z"
   },
   {
    "duration": 58,
    "start_time": "2022-04-07T14:52:56.431Z"
   },
   {
    "duration": 14,
    "start_time": "2022-04-07T14:52:56.491Z"
   },
   {
    "duration": 16,
    "start_time": "2022-04-07T14:52:56.507Z"
   },
   {
    "duration": 13,
    "start_time": "2022-04-07T14:52:56.525Z"
   },
   {
    "duration": 19,
    "start_time": "2022-04-07T14:52:56.540Z"
   },
   {
    "duration": 7,
    "start_time": "2022-04-07T14:52:56.560Z"
   },
   {
    "duration": 8,
    "start_time": "2022-04-07T14:52:56.568Z"
   },
   {
    "duration": 9,
    "start_time": "2022-04-07T14:52:56.577Z"
   },
   {
    "duration": 54,
    "start_time": "2022-04-07T14:52:56.587Z"
   },
   {
    "duration": 9,
    "start_time": "2022-04-07T14:52:56.643Z"
   },
   {
    "duration": 548,
    "start_time": "2022-04-07T14:52:56.654Z"
   },
   {
    "duration": 23,
    "start_time": "2022-04-07T14:52:57.204Z"
   },
   {
    "duration": 21,
    "start_time": "2022-04-07T14:52:57.239Z"
   },
   {
    "duration": 17,
    "start_time": "2022-04-07T14:52:57.262Z"
   },
   {
    "duration": 7,
    "start_time": "2022-04-07T14:52:57.281Z"
   },
   {
    "duration": 49,
    "start_time": "2022-04-07T14:52:57.290Z"
   },
   {
    "duration": 5,
    "start_time": "2022-04-07T14:52:57.340Z"
   },
   {
    "duration": 21,
    "start_time": "2022-04-07T14:52:57.346Z"
   },
   {
    "duration": 12,
    "start_time": "2022-04-07T14:52:57.368Z"
   },
   {
    "duration": 20,
    "start_time": "2022-04-07T14:52:57.382Z"
   },
   {
    "duration": 11,
    "start_time": "2022-04-07T14:52:57.403Z"
   },
   {
    "duration": 9,
    "start_time": "2022-04-07T14:52:57.416Z"
   },
   {
    "duration": 1351,
    "start_time": "2022-04-07T14:52:57.426Z"
   },
   {
    "duration": 14,
    "start_time": "2022-04-07T14:52:58.779Z"
   },
   {
    "duration": 45,
    "start_time": "2022-04-07T14:52:58.794Z"
   },
   {
    "duration": 2,
    "start_time": "2022-04-07T14:52:58.841Z"
   },
   {
    "duration": 1132,
    "start_time": "2022-04-07T14:52:58.845Z"
   },
   {
    "duration": 9,
    "start_time": "2022-04-07T14:52:59.979Z"
   },
   {
    "duration": 40,
    "start_time": "2022-04-07T14:52:59.990Z"
   },
   {
    "duration": 16,
    "start_time": "2022-04-07T14:53:00.032Z"
   },
   {
    "duration": 62,
    "start_time": "2022-04-07T14:53:00.050Z"
   },
   {
    "duration": 5,
    "start_time": "2022-04-07T14:53:00.114Z"
   },
   {
    "duration": 13,
    "start_time": "2022-04-07T14:53:00.120Z"
   },
   {
    "duration": 15,
    "start_time": "2022-04-07T14:53:00.135Z"
   },
   {
    "duration": 19,
    "start_time": "2022-04-07T14:53:00.152Z"
   },
   {
    "duration": 39,
    "start_time": "2022-04-07T14:53:00.173Z"
   },
   {
    "duration": 27,
    "start_time": "2022-04-07T14:53:00.214Z"
   },
   {
    "duration": 26,
    "start_time": "2022-04-07T14:53:00.242Z"
   },
   {
    "duration": 41,
    "start_time": "2022-04-07T14:53:00.269Z"
   },
   {
    "duration": 16,
    "start_time": "2022-04-07T14:53:00.314Z"
   },
   {
    "duration": 31,
    "start_time": "2022-04-07T14:53:00.332Z"
   },
   {
    "duration": 38,
    "start_time": "2022-04-07T14:53:00.365Z"
   },
   {
    "duration": 24,
    "start_time": "2022-04-07T14:53:00.405Z"
   },
   {
    "duration": 47,
    "start_time": "2022-04-07T14:53:00.431Z"
   },
   {
    "duration": 64,
    "start_time": "2022-04-07T14:53:00.480Z"
   },
   {
    "duration": 3172,
    "start_time": "2022-04-07T14:53:00.546Z"
   },
   {
    "duration": 19,
    "start_time": "2022-04-07T14:53:03.720Z"
   },
   {
    "duration": 7,
    "start_time": "2022-04-07T14:53:03.741Z"
   },
   {
    "duration": 5136,
    "start_time": "2022-04-07T14:53:03.750Z"
   },
   {
    "duration": 13,
    "start_time": "2022-04-07T14:53:08.888Z"
   },
   {
    "duration": 43,
    "start_time": "2022-04-07T14:53:08.903Z"
   },
   {
    "duration": 39,
    "start_time": "2022-04-07T14:53:08.948Z"
   },
   {
    "duration": 9,
    "start_time": "2022-04-07T14:53:08.989Z"
   },
   {
    "duration": 25,
    "start_time": "2022-04-07T14:53:08.999Z"
   },
   {
    "duration": 38,
    "start_time": "2022-04-07T14:53:09.025Z"
   },
   {
    "duration": 31,
    "start_time": "2022-04-07T14:53:09.065Z"
   },
   {
    "duration": 26,
    "start_time": "2022-04-07T14:53:09.098Z"
   },
   {
    "duration": 37,
    "start_time": "2022-04-07T14:53:09.126Z"
   },
   {
    "duration": 25,
    "start_time": "2022-04-07T14:53:09.165Z"
   }
  ],
  "kernelspec": {
   "display_name": "Python 3 (ipykernel)",
   "language": "python",
   "name": "python3"
  },
  "language_info": {
   "codemirror_mode": {
    "name": "ipython",
    "version": 3
   },
   "file_extension": ".py",
   "mimetype": "text/x-python",
   "name": "python",
   "nbconvert_exporter": "python",
   "pygments_lexer": "ipython3",
   "version": "3.9.7"
  },
  "toc": {
   "base_numbering": 1,
   "nav_menu": {},
   "number_sections": true,
   "sideBar": true,
   "skip_h1_title": true,
   "title_cell": "Table of Contents",
   "title_sidebar": "Contents",
   "toc_cell": false,
   "toc_position": {
    "height": "calc(100% - 180px)",
    "left": "10px",
    "top": "150px",
    "width": "328px"
   },
   "toc_section_display": true,
   "toc_window_display": true
  }
 },
 "nbformat": 4,
 "nbformat_minor": 4
}
