{
 "cells": [
  {
   "cell_type": "code",
   "execution_count": 1,
   "metadata": {},
   "outputs": [],
   "source": [
    "import pandas as pd\n",
    "import numpy as np\n",
    "import matplotlib\n",
    "import matplotlib.pyplot as plt\n",
    "from scipy import stats \n",
    "import warnings\n",
    "warnings.filterwarnings('ignore')"
   ]
  },
  {
   "cell_type": "code",
   "execution_count": 2,
   "metadata": {},
   "outputs": [],
   "source": [
    "data = pd.read_csv('/datasets/games.csv')"
   ]
  },
  {
   "cell_type": "markdown",
   "metadata": {},
   "source": [
    "# Информация об исследовании"
   ]
  },
  {
   "cell_type": "markdown",
   "metadata": {},
   "source": [
    "Интернет-магазин видеоигр \"Стримчик\" планирует рекламные кампании на будущий год. В рамках планирования нужно выявить определяющие успешность игры закономерности. Это позволит сделать ставку на потенциально популярный продукт и спланировать рекламные кампании."
   ]
  },
  {
   "cell_type": "markdown",
   "metadata": {},
   "source": [
    "# Знакомство с данными и их предобработка"
   ]
  },
  {
   "cell_type": "code",
   "execution_count": 3,
   "metadata": {},
   "outputs": [
    {
     "data": {
      "text/html": [
       "<div>\n",
       "<style scoped>\n",
       "    .dataframe tbody tr th:only-of-type {\n",
       "        vertical-align: middle;\n",
       "    }\n",
       "\n",
       "    .dataframe tbody tr th {\n",
       "        vertical-align: top;\n",
       "    }\n",
       "\n",
       "    .dataframe thead th {\n",
       "        text-align: right;\n",
       "    }\n",
       "</style>\n",
       "<table border=\"1\" class=\"dataframe\">\n",
       "  <thead>\n",
       "    <tr style=\"text-align: right;\">\n",
       "      <th></th>\n",
       "      <th>Name</th>\n",
       "      <th>Platform</th>\n",
       "      <th>Year_of_Release</th>\n",
       "      <th>Genre</th>\n",
       "      <th>NA_sales</th>\n",
       "      <th>EU_sales</th>\n",
       "      <th>JP_sales</th>\n",
       "      <th>Other_sales</th>\n",
       "      <th>Critic_Score</th>\n",
       "      <th>User_Score</th>\n",
       "      <th>Rating</th>\n",
       "    </tr>\n",
       "  </thead>\n",
       "  <tbody>\n",
       "    <tr>\n",
       "      <td>0</td>\n",
       "      <td>Wii Sports</td>\n",
       "      <td>Wii</td>\n",
       "      <td>2006.0</td>\n",
       "      <td>Sports</td>\n",
       "      <td>41.36</td>\n",
       "      <td>28.96</td>\n",
       "      <td>3.77</td>\n",
       "      <td>8.45</td>\n",
       "      <td>76.0</td>\n",
       "      <td>8</td>\n",
       "      <td>E</td>\n",
       "    </tr>\n",
       "    <tr>\n",
       "      <td>1</td>\n",
       "      <td>Super Mario Bros.</td>\n",
       "      <td>NES</td>\n",
       "      <td>1985.0</td>\n",
       "      <td>Platform</td>\n",
       "      <td>29.08</td>\n",
       "      <td>3.58</td>\n",
       "      <td>6.81</td>\n",
       "      <td>0.77</td>\n",
       "      <td>NaN</td>\n",
       "      <td>NaN</td>\n",
       "      <td>NaN</td>\n",
       "    </tr>\n",
       "    <tr>\n",
       "      <td>2</td>\n",
       "      <td>Mario Kart Wii</td>\n",
       "      <td>Wii</td>\n",
       "      <td>2008.0</td>\n",
       "      <td>Racing</td>\n",
       "      <td>15.68</td>\n",
       "      <td>12.76</td>\n",
       "      <td>3.79</td>\n",
       "      <td>3.29</td>\n",
       "      <td>82.0</td>\n",
       "      <td>8.3</td>\n",
       "      <td>E</td>\n",
       "    </tr>\n",
       "    <tr>\n",
       "      <td>3</td>\n",
       "      <td>Wii Sports Resort</td>\n",
       "      <td>Wii</td>\n",
       "      <td>2009.0</td>\n",
       "      <td>Sports</td>\n",
       "      <td>15.61</td>\n",
       "      <td>10.93</td>\n",
       "      <td>3.28</td>\n",
       "      <td>2.95</td>\n",
       "      <td>80.0</td>\n",
       "      <td>8</td>\n",
       "      <td>E</td>\n",
       "    </tr>\n",
       "    <tr>\n",
       "      <td>4</td>\n",
       "      <td>Pokemon Red/Pokemon Blue</td>\n",
       "      <td>GB</td>\n",
       "      <td>1996.0</td>\n",
       "      <td>Role-Playing</td>\n",
       "      <td>11.27</td>\n",
       "      <td>8.89</td>\n",
       "      <td>10.22</td>\n",
       "      <td>1.00</td>\n",
       "      <td>NaN</td>\n",
       "      <td>NaN</td>\n",
       "      <td>NaN</td>\n",
       "    </tr>\n",
       "  </tbody>\n",
       "</table>\n",
       "</div>"
      ],
      "text/plain": [
       "                       Name Platform  Year_of_Release         Genre  NA_sales  \\\n",
       "0                Wii Sports      Wii           2006.0        Sports     41.36   \n",
       "1         Super Mario Bros.      NES           1985.0      Platform     29.08   \n",
       "2            Mario Kart Wii      Wii           2008.0        Racing     15.68   \n",
       "3         Wii Sports Resort      Wii           2009.0        Sports     15.61   \n",
       "4  Pokemon Red/Pokemon Blue       GB           1996.0  Role-Playing     11.27   \n",
       "\n",
       "   EU_sales  JP_sales  Other_sales  Critic_Score User_Score Rating  \n",
       "0     28.96      3.77         8.45          76.0          8      E  \n",
       "1      3.58      6.81         0.77           NaN        NaN    NaN  \n",
       "2     12.76      3.79         3.29          82.0        8.3      E  \n",
       "3     10.93      3.28         2.95          80.0          8      E  \n",
       "4      8.89     10.22         1.00           NaN        NaN    NaN  "
      ]
     },
     "execution_count": 3,
     "metadata": {},
     "output_type": "execute_result"
    }
   ],
   "source": [
    "#посмотрим на фрагмент набора данных, которым мы располагаем\n",
    "data.head()"
   ]
  },
  {
   "cell_type": "code",
   "execution_count": 4,
   "metadata": {},
   "outputs": [],
   "source": [
    "#передаем в датафрейм новый список индексов, где все наименования колонок приведены к нижнему регистру\n",
    "data.columns=['name', 'platform', 'year_of_release', 'genre', 'na_sales', 'eu_sales', \\\n",
    "              'jp_sales', 'other_sales', 'critic_score', 'user_score', 'rating']"
   ]
  },
  {
   "cell_type": "code",
   "execution_count": 5,
   "metadata": {},
   "outputs": [
    {
     "data": {
      "text/html": [
       "<div>\n",
       "<style scoped>\n",
       "    .dataframe tbody tr th:only-of-type {\n",
       "        vertical-align: middle;\n",
       "    }\n",
       "\n",
       "    .dataframe tbody tr th {\n",
       "        vertical-align: top;\n",
       "    }\n",
       "\n",
       "    .dataframe thead th {\n",
       "        text-align: right;\n",
       "    }\n",
       "</style>\n",
       "<table border=\"1\" class=\"dataframe\">\n",
       "  <thead>\n",
       "    <tr style=\"text-align: right;\">\n",
       "      <th></th>\n",
       "      <th>name</th>\n",
       "      <th>platform</th>\n",
       "      <th>year_of_release</th>\n",
       "      <th>genre</th>\n",
       "      <th>na_sales</th>\n",
       "      <th>eu_sales</th>\n",
       "      <th>jp_sales</th>\n",
       "      <th>other_sales</th>\n",
       "      <th>critic_score</th>\n",
       "      <th>user_score</th>\n",
       "      <th>rating</th>\n",
       "    </tr>\n",
       "  </thead>\n",
       "  <tbody>\n",
       "    <tr>\n",
       "      <td>0</td>\n",
       "      <td>Wii Sports</td>\n",
       "      <td>Wii</td>\n",
       "      <td>2006.0</td>\n",
       "      <td>Sports</td>\n",
       "      <td>41.36</td>\n",
       "      <td>28.96</td>\n",
       "      <td>3.77</td>\n",
       "      <td>8.45</td>\n",
       "      <td>76.0</td>\n",
       "      <td>8</td>\n",
       "      <td>E</td>\n",
       "    </tr>\n",
       "    <tr>\n",
       "      <td>1</td>\n",
       "      <td>Super Mario Bros.</td>\n",
       "      <td>NES</td>\n",
       "      <td>1985.0</td>\n",
       "      <td>Platform</td>\n",
       "      <td>29.08</td>\n",
       "      <td>3.58</td>\n",
       "      <td>6.81</td>\n",
       "      <td>0.77</td>\n",
       "      <td>NaN</td>\n",
       "      <td>NaN</td>\n",
       "      <td>NaN</td>\n",
       "    </tr>\n",
       "    <tr>\n",
       "      <td>2</td>\n",
       "      <td>Mario Kart Wii</td>\n",
       "      <td>Wii</td>\n",
       "      <td>2008.0</td>\n",
       "      <td>Racing</td>\n",
       "      <td>15.68</td>\n",
       "      <td>12.76</td>\n",
       "      <td>3.79</td>\n",
       "      <td>3.29</td>\n",
       "      <td>82.0</td>\n",
       "      <td>8.3</td>\n",
       "      <td>E</td>\n",
       "    </tr>\n",
       "    <tr>\n",
       "      <td>3</td>\n",
       "      <td>Wii Sports Resort</td>\n",
       "      <td>Wii</td>\n",
       "      <td>2009.0</td>\n",
       "      <td>Sports</td>\n",
       "      <td>15.61</td>\n",
       "      <td>10.93</td>\n",
       "      <td>3.28</td>\n",
       "      <td>2.95</td>\n",
       "      <td>80.0</td>\n",
       "      <td>8</td>\n",
       "      <td>E</td>\n",
       "    </tr>\n",
       "    <tr>\n",
       "      <td>4</td>\n",
       "      <td>Pokemon Red/Pokemon Blue</td>\n",
       "      <td>GB</td>\n",
       "      <td>1996.0</td>\n",
       "      <td>Role-Playing</td>\n",
       "      <td>11.27</td>\n",
       "      <td>8.89</td>\n",
       "      <td>10.22</td>\n",
       "      <td>1.00</td>\n",
       "      <td>NaN</td>\n",
       "      <td>NaN</td>\n",
       "      <td>NaN</td>\n",
       "    </tr>\n",
       "  </tbody>\n",
       "</table>\n",
       "</div>"
      ],
      "text/plain": [
       "                       name platform  year_of_release         genre  na_sales  \\\n",
       "0                Wii Sports      Wii           2006.0        Sports     41.36   \n",
       "1         Super Mario Bros.      NES           1985.0      Platform     29.08   \n",
       "2            Mario Kart Wii      Wii           2008.0        Racing     15.68   \n",
       "3         Wii Sports Resort      Wii           2009.0        Sports     15.61   \n",
       "4  Pokemon Red/Pokemon Blue       GB           1996.0  Role-Playing     11.27   \n",
       "\n",
       "   eu_sales  jp_sales  other_sales  critic_score user_score rating  \n",
       "0     28.96      3.77         8.45          76.0          8      E  \n",
       "1      3.58      6.81         0.77           NaN        NaN    NaN  \n",
       "2     12.76      3.79         3.29          82.0        8.3      E  \n",
       "3     10.93      3.28         2.95          80.0          8      E  \n",
       "4      8.89     10.22         1.00           NaN        NaN    NaN  "
      ]
     },
     "execution_count": 5,
     "metadata": {},
     "output_type": "execute_result"
    }
   ],
   "source": [
    "data.head()"
   ]
  },
  {
   "cell_type": "code",
   "execution_count": 6,
   "metadata": {},
   "outputs": [
    {
     "name": "stdout",
     "output_type": "stream",
     "text": [
      "<class 'pandas.core.frame.DataFrame'>\n",
      "RangeIndex: 16715 entries, 0 to 16714\n",
      "Data columns (total 11 columns):\n",
      "name               16713 non-null object\n",
      "platform           16715 non-null object\n",
      "year_of_release    16446 non-null float64\n",
      "genre              16713 non-null object\n",
      "na_sales           16715 non-null float64\n",
      "eu_sales           16715 non-null float64\n",
      "jp_sales           16715 non-null float64\n",
      "other_sales        16715 non-null float64\n",
      "critic_score       8137 non-null float64\n",
      "user_score         10014 non-null object\n",
      "rating             9949 non-null object\n",
      "dtypes: float64(6), object(5)\n",
      "memory usage: 1.4+ MB\n"
     ]
    }
   ],
   "source": [
    "#взглянем на информацию о нашем датасете\n",
    "data.info()"
   ]
  },
  {
   "cell_type": "markdown",
   "metadata": {},
   "source": [
    "<span style=\"text-decoration:underline\">Промежуточные выводы:</span>\n",
    "\n",
    "1. В таблице всего 16175 записей и 11 столбцов с данными\n",
    "2. 5 из 11 столбцов заполнены полностью. В остальных столбцах наблюдаются пропуски\n",
    "3. В столбце `name` 16713 наблюдений, что меньше общего числа записей в таблице на 2 - это странно, так как наименование игры, следуя логике данных, имеет определяющее значение - фактически, является объектом, атрибуты которого - данные в соседних столбцах. \n",
    "4. В столбце `year_of_release` использован тип данных - число с плавающей точкой, что не требуется для такой характеристики как год релиза игры\n",
    "5. Также в столбце `year_of_release` отсутствует часть значений и иного способа, кроме ручного, либо автоматизированного поиска информации для заполнения значений нет\n",
    "6. Судя по полученным семплам, число разрядов в столбцах с количеством проданных копий в миллионах недостаточно, поэтому у некоторых тайтлов в качестве продаж используются значения вида 0.00, что может не соответствовать действительности и, скорее всего, может повлиять на корректность значений о распределении продаж по регионам. Однако в свете тайтлов/платформ с десятками/сотнями миллионов продаж, это будет не очень существенно\n",
    "7. В столбце `genre` приведены данные типа \"строка\". Судя по контексту, это номинальные качественные данные с довольно ограниченным (в отличие от наименования тайтла) числом значений, поэтому для анализа успеха определенно жанра в различных разрезах имеет смысл проверить столбец на уникальность значений\n",
    "8. Столбцы с оценками и рейтингом также имеют существенное количество пропусков (иногда порядка 40%). Кроме того, тип данных не позволяет заполнить значения на основании пула имеющихся данных, но и заполнение значений нулями также будет некорректно.\n",
    "9. В столбце `user_score` у данных использован строковый тип, что требует преобразования к числу         \n",
    "10. Столбец `rating` похож по своей сути на жанр, но почти наверняка будет содержать еще меньше доступных значений\n",
    "\n",
    "<span style=\"text-decoration:underline\">Требуется:</span>\n",
    "\n",
    "1. Проверить 2 \"недостающие\" записи в столбце `name`\n",
    "2. Преобразовать тип данных столбца `year_of_release` в целое число\n",
    "3. Проверить столбец `genre` на предмет уникальности использованных значений (исключить разные варианты написания, ошибки)\n",
    "4. Проверить значения в столбцах продаж на предмет выбросов (ошибки ввода, обработки и т.п.)\n",
    "5. Изменить тип данных в столбце `user_score`\n",
    "6. Проверить значения оценок на предмет выбросов \n",
    "7. Проверить столбец `rating` на предмет уникальности использованных значений"
   ]
  },
  {
   "cell_type": "markdown",
   "metadata": {},
   "source": [
    "## Столбец `platform`"
   ]
  },
  {
   "cell_type": "code",
   "execution_count": 7,
   "metadata": {},
   "outputs": [
    {
     "data": {
      "text/plain": [
       "0"
      ]
     },
     "execution_count": 7,
     "metadata": {},
     "output_type": "execute_result"
    }
   ],
   "source": [
    "#посмотрим, есть ли полные дубликаты в таблице\n",
    "data.duplicated().sum()"
   ]
  },
  {
   "cell_type": "code",
   "execution_count": 8,
   "metadata": {},
   "outputs": [
    {
     "data": {
      "text/plain": [
       "PS2     2161\n",
       "DS      2151\n",
       "PS3     1331\n",
       "Wii     1320\n",
       "X360    1262\n",
       "PSP     1209\n",
       "PS      1197\n",
       "PC       974\n",
       "XB       824\n",
       "GBA      822\n",
       "GC       556\n",
       "3DS      520\n",
       "PSV      430\n",
       "PS4      392\n",
       "N64      319\n",
       "XOne     247\n",
       "SNES     239\n",
       "SAT      173\n",
       "WiiU     147\n",
       "2600     133\n",
       "GB        98\n",
       "NES       98\n",
       "DC        52\n",
       "GEN       29\n",
       "NG        12\n",
       "SCD        6\n",
       "WS         6\n",
       "3DO        3\n",
       "TG16       2\n",
       "GG         1\n",
       "PCFX       1\n",
       "Name: platform, dtype: int64"
      ]
     },
     "execution_count": 8,
     "metadata": {},
     "output_type": "execute_result"
    }
   ],
   "source": [
    "#оценив список игровых платформ, мы видим, что дубликатов или некорректного/различного написания нет\n",
    "data['platform'].value_counts()"
   ]
  },
  {
   "cell_type": "markdown",
   "metadata": {},
   "source": [
    "Мы видим, что по количеству выпущенных тайтлов в датасете лидирует компания Sony (ее игровые платформы занимают 1 и 3 строчки)."
   ]
  },
  {
   "cell_type": "code",
   "execution_count": 9,
   "metadata": {},
   "outputs": [
    {
     "data": {
      "text/html": [
       "<div>\n",
       "<style scoped>\n",
       "    .dataframe tbody tr th:only-of-type {\n",
       "        vertical-align: middle;\n",
       "    }\n",
       "\n",
       "    .dataframe tbody tr th {\n",
       "        vertical-align: top;\n",
       "    }\n",
       "\n",
       "    .dataframe thead th {\n",
       "        text-align: right;\n",
       "    }\n",
       "</style>\n",
       "<table border=\"1\" class=\"dataframe\">\n",
       "  <thead>\n",
       "    <tr style=\"text-align: right;\">\n",
       "      <th></th>\n",
       "      <th>name</th>\n",
       "      <th>platform</th>\n",
       "      <th>year_of_release</th>\n",
       "      <th>genre</th>\n",
       "      <th>na_sales</th>\n",
       "      <th>eu_sales</th>\n",
       "      <th>jp_sales</th>\n",
       "      <th>other_sales</th>\n",
       "      <th>critic_score</th>\n",
       "      <th>user_score</th>\n",
       "      <th>rating</th>\n",
       "    </tr>\n",
       "  </thead>\n",
       "  <tbody>\n",
       "    <tr>\n",
       "      <td>659</td>\n",
       "      <td>NaN</td>\n",
       "      <td>GEN</td>\n",
       "      <td>1993.0</td>\n",
       "      <td>NaN</td>\n",
       "      <td>1.78</td>\n",
       "      <td>0.53</td>\n",
       "      <td>0.00</td>\n",
       "      <td>0.08</td>\n",
       "      <td>NaN</td>\n",
       "      <td>NaN</td>\n",
       "      <td>NaN</td>\n",
       "    </tr>\n",
       "    <tr>\n",
       "      <td>14244</td>\n",
       "      <td>NaN</td>\n",
       "      <td>GEN</td>\n",
       "      <td>1993.0</td>\n",
       "      <td>NaN</td>\n",
       "      <td>0.00</td>\n",
       "      <td>0.00</td>\n",
       "      <td>0.03</td>\n",
       "      <td>0.00</td>\n",
       "      <td>NaN</td>\n",
       "      <td>NaN</td>\n",
       "      <td>NaN</td>\n",
       "    </tr>\n",
       "  </tbody>\n",
       "</table>\n",
       "</div>"
      ],
      "text/plain": [
       "      name platform  year_of_release genre  na_sales  eu_sales  jp_sales  \\\n",
       "659    NaN      GEN           1993.0   NaN      1.78      0.53      0.00   \n",
       "14244  NaN      GEN           1993.0   NaN      0.00      0.00      0.03   \n",
       "\n",
       "       other_sales  critic_score user_score rating  \n",
       "659           0.08           NaN        NaN    NaN  \n",
       "14244         0.00           NaN        NaN    NaN  "
      ]
     },
     "execution_count": 9,
     "metadata": {},
     "output_type": "execute_result"
    }
   ],
   "source": [
    "#отберем две записи из датасета, у которых отсутствует информация о наименовании игры\n",
    "data.loc[data['name'].isnull()]"
   ]
  },
  {
   "cell_type": "markdown",
   "metadata": {},
   "source": [
    "Мы видим, что в датасете есть данные о двух играх для платформы Sega Genesis, вышедших в 1993 году. Следует обратить внимание, что у записи с индексом 659 есть достаточное количество атрибутов, которые:\n",
    "\n",
    "1. Помогут найти ее название в Интернете вручную\n",
    "2. Наверняка существенно влияют на общий успех платформы (около 2.3 млн проданных копий)\n",
    "\n",
    "Поисковый запрос \"sega genesis 1993 north america sales 1.78 mln game\" возвращает ссылку на страницу с бестселлерами для Sega Genesis, в котором присутствует игра \"Mortal Kombat II\" (выпущена в апреле 1993 года и разошлась тиражом \"как минимум\" 1.78 млн копий). \n",
    "\n",
    "Держа в уме этот факт, взглянем на пул игр на платформу \"GEN\" в нашем датасете. "
   ]
  },
  {
   "cell_type": "markdown",
   "metadata": {},
   "source": [
    "В списке нет Mortal Kombat II, поэтому мы можем предположить, что запись с недостающим именем - это именно она. "
   ]
  },
  {
   "cell_type": "code",
   "execution_count": 10,
   "metadata": {},
   "outputs": [],
   "source": [
    "#присваиваем новое имя игре\n",
    "data.loc[(data['name'].isnull()) & (data['platform'] == 'GEN') & \\\n",
    "         (data['na_sales'] > 1.7), 'name'] = 'Mortal Kombat II'\n",
    "#ей же присваиваем новый жанр\n",
    "data.loc[(data['name'] == 'Mortal Kombat II') & (data['platform'] == 'GEN'), 'genre'] = 'Fighting'\n",
    "\n",
    "#вторая же строка не представляет для нас большого интереса и будет непросто найти эту игру в сети, поэтому\n",
    "#от нее мы просто избавимся\n",
    "data.drop(data.loc[data['name'].isnull()].index, inplace=True) \n",
    "data = data.reset_index(drop=True)"
   ]
  },
  {
   "cell_type": "code",
   "execution_count": 11,
   "metadata": {},
   "outputs": [],
   "source": [
    "#для простоты заполним пустые значения столбца year_of_release значениями, которые явно выходят за разумные границы (например, 1900 год)\n",
    "#тогда преобразование в тип \"целое число\" пройдет успешно, а при необходимости оценить данные в разрезе года, мы сможем легко \n",
    "#включить в отдельную группу те строки, у которых ранее отсутствовало значение\n",
    "data['year_of_release'] = data['year_of_release'].fillna(1900)\n",
    "data['year_of_release'] = data['year_of_release'].astype(int)"
   ]
  },
  {
   "cell_type": "code",
   "execution_count": 12,
   "metadata": {},
   "outputs": [
    {
     "data": {
      "text/html": [
       "<div>\n",
       "<style scoped>\n",
       "    .dataframe tbody tr th:only-of-type {\n",
       "        vertical-align: middle;\n",
       "    }\n",
       "\n",
       "    .dataframe tbody tr th {\n",
       "        vertical-align: top;\n",
       "    }\n",
       "\n",
       "    .dataframe thead th {\n",
       "        text-align: right;\n",
       "    }\n",
       "</style>\n",
       "<table border=\"1\" class=\"dataframe\">\n",
       "  <thead>\n",
       "    <tr style=\"text-align: right;\">\n",
       "      <th></th>\n",
       "      <th>name</th>\n",
       "      <th>platform</th>\n",
       "      <th>year_of_release</th>\n",
       "      <th>genre</th>\n",
       "      <th>na_sales</th>\n",
       "      <th>eu_sales</th>\n",
       "      <th>jp_sales</th>\n",
       "      <th>other_sales</th>\n",
       "      <th>critic_score</th>\n",
       "      <th>user_score</th>\n",
       "      <th>rating</th>\n",
       "    </tr>\n",
       "  </thead>\n",
       "  <tbody>\n",
       "    <tr>\n",
       "      <td>0</td>\n",
       "      <td>Wii Sports</td>\n",
       "      <td>Wii</td>\n",
       "      <td>2006</td>\n",
       "      <td>Sports</td>\n",
       "      <td>41.36</td>\n",
       "      <td>28.96</td>\n",
       "      <td>3.77</td>\n",
       "      <td>8.45</td>\n",
       "      <td>76.0</td>\n",
       "      <td>8</td>\n",
       "      <td>E</td>\n",
       "    </tr>\n",
       "    <tr>\n",
       "      <td>1</td>\n",
       "      <td>Super Mario Bros.</td>\n",
       "      <td>NES</td>\n",
       "      <td>1985</td>\n",
       "      <td>Platform</td>\n",
       "      <td>29.08</td>\n",
       "      <td>3.58</td>\n",
       "      <td>6.81</td>\n",
       "      <td>0.77</td>\n",
       "      <td>NaN</td>\n",
       "      <td>NaN</td>\n",
       "      <td>NaN</td>\n",
       "    </tr>\n",
       "    <tr>\n",
       "      <td>2</td>\n",
       "      <td>Mario Kart Wii</td>\n",
       "      <td>Wii</td>\n",
       "      <td>2008</td>\n",
       "      <td>Racing</td>\n",
       "      <td>15.68</td>\n",
       "      <td>12.76</td>\n",
       "      <td>3.79</td>\n",
       "      <td>3.29</td>\n",
       "      <td>82.0</td>\n",
       "      <td>8.3</td>\n",
       "      <td>E</td>\n",
       "    </tr>\n",
       "    <tr>\n",
       "      <td>3</td>\n",
       "      <td>Wii Sports Resort</td>\n",
       "      <td>Wii</td>\n",
       "      <td>2009</td>\n",
       "      <td>Sports</td>\n",
       "      <td>15.61</td>\n",
       "      <td>10.93</td>\n",
       "      <td>3.28</td>\n",
       "      <td>2.95</td>\n",
       "      <td>80.0</td>\n",
       "      <td>8</td>\n",
       "      <td>E</td>\n",
       "    </tr>\n",
       "    <tr>\n",
       "      <td>4</td>\n",
       "      <td>Pokemon Red/Pokemon Blue</td>\n",
       "      <td>GB</td>\n",
       "      <td>1996</td>\n",
       "      <td>Role-Playing</td>\n",
       "      <td>11.27</td>\n",
       "      <td>8.89</td>\n",
       "      <td>10.22</td>\n",
       "      <td>1.00</td>\n",
       "      <td>NaN</td>\n",
       "      <td>NaN</td>\n",
       "      <td>NaN</td>\n",
       "    </tr>\n",
       "  </tbody>\n",
       "</table>\n",
       "</div>"
      ],
      "text/plain": [
       "                       name platform  year_of_release         genre  na_sales  \\\n",
       "0                Wii Sports      Wii             2006        Sports     41.36   \n",
       "1         Super Mario Bros.      NES             1985      Platform     29.08   \n",
       "2            Mario Kart Wii      Wii             2008        Racing     15.68   \n",
       "3         Wii Sports Resort      Wii             2009        Sports     15.61   \n",
       "4  Pokemon Red/Pokemon Blue       GB             1996  Role-Playing     11.27   \n",
       "\n",
       "   eu_sales  jp_sales  other_sales  critic_score user_score rating  \n",
       "0     28.96      3.77         8.45          76.0          8      E  \n",
       "1      3.58      6.81         0.77           NaN        NaN    NaN  \n",
       "2     12.76      3.79         3.29          82.0        8.3      E  \n",
       "3     10.93      3.28         2.95          80.0          8      E  \n",
       "4      8.89     10.22         1.00           NaN        NaN    NaN  "
      ]
     },
     "execution_count": 12,
     "metadata": {},
     "output_type": "execute_result"
    }
   ],
   "source": [
    "data.head()"
   ]
  },
  {
   "cell_type": "markdown",
   "metadata": {},
   "source": [
    "Теперь нам необходимо оценить корректность указания года релиза для игр по платформам - возможно в данных есть ошибки."
   ]
  },
  {
   "cell_type": "code",
   "execution_count": 13,
   "metadata": {},
   "outputs": [
    {
     "data": {
      "text/html": [
       "<div>\n",
       "<style scoped>\n",
       "    .dataframe tbody tr th:only-of-type {\n",
       "        vertical-align: middle;\n",
       "    }\n",
       "\n",
       "    .dataframe tbody tr th {\n",
       "        vertical-align: top;\n",
       "    }\n",
       "\n",
       "    .dataframe thead th {\n",
       "        text-align: right;\n",
       "    }\n",
       "</style>\n",
       "<table border=\"1\" class=\"dataframe\">\n",
       "  <thead>\n",
       "    <tr style=\"text-align: right;\">\n",
       "      <th></th>\n",
       "      <th>min_year_of_release</th>\n",
       "      <th>max_year_of_release</th>\n",
       "      <th>life_cycle</th>\n",
       "    </tr>\n",
       "    <tr>\n",
       "      <th>platform</th>\n",
       "      <th></th>\n",
       "      <th></th>\n",
       "      <th></th>\n",
       "    </tr>\n",
       "  </thead>\n",
       "  <tbody>\n",
       "    <tr>\n",
       "      <td>PC</td>\n",
       "      <td>1985</td>\n",
       "      <td>2016</td>\n",
       "      <td>31</td>\n",
       "    </tr>\n",
       "    <tr>\n",
       "      <td>DS</td>\n",
       "      <td>1985</td>\n",
       "      <td>2013</td>\n",
       "      <td>28</td>\n",
       "    </tr>\n",
       "    <tr>\n",
       "      <td>GB</td>\n",
       "      <td>1988</td>\n",
       "      <td>2001</td>\n",
       "      <td>13</td>\n",
       "    </tr>\n",
       "    <tr>\n",
       "      <td>X360</td>\n",
       "      <td>2005</td>\n",
       "      <td>2016</td>\n",
       "      <td>11</td>\n",
       "    </tr>\n",
       "    <tr>\n",
       "      <td>PSP</td>\n",
       "      <td>2004</td>\n",
       "      <td>2015</td>\n",
       "      <td>11</td>\n",
       "    </tr>\n",
       "    <tr>\n",
       "      <td>PS2</td>\n",
       "      <td>2000</td>\n",
       "      <td>2011</td>\n",
       "      <td>11</td>\n",
       "    </tr>\n",
       "    <tr>\n",
       "      <td>NES</td>\n",
       "      <td>1983</td>\n",
       "      <td>1994</td>\n",
       "      <td>11</td>\n",
       "    </tr>\n",
       "    <tr>\n",
       "      <td>DC</td>\n",
       "      <td>1998</td>\n",
       "      <td>2008</td>\n",
       "      <td>10</td>\n",
       "    </tr>\n",
       "    <tr>\n",
       "      <td>Wii</td>\n",
       "      <td>2006</td>\n",
       "      <td>2016</td>\n",
       "      <td>10</td>\n",
       "    </tr>\n",
       "    <tr>\n",
       "      <td>PS3</td>\n",
       "      <td>2006</td>\n",
       "      <td>2016</td>\n",
       "      <td>10</td>\n",
       "    </tr>\n",
       "  </tbody>\n",
       "</table>\n",
       "</div>"
      ],
      "text/plain": [
       "          min_year_of_release  max_year_of_release  life_cycle\n",
       "platform                                                      \n",
       "PC                       1985                 2016          31\n",
       "DS                       1985                 2013          28\n",
       "GB                       1988                 2001          13\n",
       "X360                     2005                 2016          11\n",
       "PSP                      2004                 2015          11\n",
       "PS2                      2000                 2011          11\n",
       "NES                      1983                 1994          11\n",
       "DC                       1998                 2008          10\n",
       "Wii                      2006                 2016          10\n",
       "PS3                      2006                 2016          10"
      ]
     },
     "execution_count": 13,
     "metadata": {},
     "output_type": "execute_result"
    }
   ],
   "source": [
    "platform_year_check = data.loc[data['year_of_release'] != 1900]\\\n",
    ".pivot_table(index='platform', values='year_of_release', aggfunc=['min', 'max'])\n",
    "platform_year_check.columns=['min_year_of_release', 'max_year_of_release']\n",
    "platform_year_check['life_cycle'] = platform_year_check['max_year_of_release'] - platform_year_check['min_year_of_release']\n",
    "platform_year_check = platform_year_check.sort_values('life_cycle', ascending=False)\n",
    "platform_year_check.head(10)"
   ]
  },
  {
   "cell_type": "markdown",
   "metadata": {},
   "source": [
    "Мы видим два значения похожих на аномалию: \n",
    "\n",
    "1. PC - персональный компьютер\n",
    "2. DS - Nintendo DS\n",
    "\n",
    "Рассматривать значение в 31 год для ПК как аномалию мы не будем, так как ПК как игровую платформу невозможно разделить на явные \"дискретные\" поколения. Игра, выпущенная 30 лет назад для MS-DOS будет считаться игрой для той же платформы, что и игра выпущенная в 2016 году для Windows 7, несмотря на пропасть в поколении железа. Таким образом платформа PC будет выступать в виде исключения.\n",
    "\n",
    "DS - это портативная консоль Nintendo DS. По информации из открытых источников, эта консоль стартовала в 2004-2005 году (в зависимости от региона), а ее поддержка была прекращена в 2013 году. Соответственно, 1985 год в качестве минимальной релизной даты нам явно не подходит и необходимо внимательно посмотреть на записи с этим значением. "
   ]
  },
  {
   "cell_type": "code",
   "execution_count": 14,
   "metadata": {},
   "outputs": [
    {
     "data": {
      "text/html": [
       "<div>\n",
       "<style scoped>\n",
       "    .dataframe tbody tr th:only-of-type {\n",
       "        vertical-align: middle;\n",
       "    }\n",
       "\n",
       "    .dataframe tbody tr th {\n",
       "        vertical-align: top;\n",
       "    }\n",
       "\n",
       "    .dataframe thead th {\n",
       "        text-align: right;\n",
       "    }\n",
       "</style>\n",
       "<table border=\"1\" class=\"dataframe\">\n",
       "  <thead>\n",
       "    <tr style=\"text-align: right;\">\n",
       "      <th></th>\n",
       "      <th>name</th>\n",
       "      <th>platform</th>\n",
       "      <th>year_of_release</th>\n",
       "      <th>genre</th>\n",
       "      <th>na_sales</th>\n",
       "      <th>eu_sales</th>\n",
       "      <th>jp_sales</th>\n",
       "      <th>other_sales</th>\n",
       "      <th>critic_score</th>\n",
       "      <th>user_score</th>\n",
       "      <th>rating</th>\n",
       "    </tr>\n",
       "  </thead>\n",
       "  <tbody>\n",
       "    <tr>\n",
       "      <td>15956</td>\n",
       "      <td>Strongest Tokyo University Shogi DS</td>\n",
       "      <td>DS</td>\n",
       "      <td>1985</td>\n",
       "      <td>Action</td>\n",
       "      <td>0.0</td>\n",
       "      <td>0.0</td>\n",
       "      <td>0.02</td>\n",
       "      <td>0.0</td>\n",
       "      <td>NaN</td>\n",
       "      <td>NaN</td>\n",
       "      <td>NaN</td>\n",
       "    </tr>\n",
       "  </tbody>\n",
       "</table>\n",
       "</div>"
      ],
      "text/plain": [
       "                                      name platform  year_of_release   genre  \\\n",
       "15956  Strongest Tokyo University Shogi DS       DS             1985  Action   \n",
       "\n",
       "       na_sales  eu_sales  jp_sales  other_sales  critic_score user_score  \\\n",
       "15956       0.0       0.0      0.02          0.0           NaN        NaN   \n",
       "\n",
       "      rating  \n",
       "15956    NaN  "
      ]
     },
     "execution_count": 14,
     "metadata": {},
     "output_type": "execute_result"
    }
   ],
   "source": [
    "#ищем подозрительные строки для платформы DS\n",
    "data.loc[(data['platform'] == 'DS') & (data['year_of_release'] < 2004) & (data['year_of_release'] != 1900)]"
   ]
  },
  {
   "cell_type": "markdown",
   "metadata": {},
   "source": [
    "По информации из сети, эта игра была выпущена в 2010 году. Внесем соответствующие изменения в датасет."
   ]
  },
  {
   "cell_type": "code",
   "execution_count": 15,
   "metadata": {},
   "outputs": [
    {
     "data": {
      "text/html": [
       "<div>\n",
       "<style scoped>\n",
       "    .dataframe tbody tr th:only-of-type {\n",
       "        vertical-align: middle;\n",
       "    }\n",
       "\n",
       "    .dataframe tbody tr th {\n",
       "        vertical-align: top;\n",
       "    }\n",
       "\n",
       "    .dataframe thead th {\n",
       "        text-align: right;\n",
       "    }\n",
       "</style>\n",
       "<table border=\"1\" class=\"dataframe\">\n",
       "  <thead>\n",
       "    <tr style=\"text-align: right;\">\n",
       "      <th></th>\n",
       "      <th>name</th>\n",
       "      <th>platform</th>\n",
       "      <th>year_of_release</th>\n",
       "      <th>genre</th>\n",
       "      <th>na_sales</th>\n",
       "      <th>eu_sales</th>\n",
       "      <th>jp_sales</th>\n",
       "      <th>other_sales</th>\n",
       "      <th>critic_score</th>\n",
       "      <th>user_score</th>\n",
       "      <th>rating</th>\n",
       "    </tr>\n",
       "  </thead>\n",
       "  <tbody>\n",
       "    <tr>\n",
       "      <td>15956</td>\n",
       "      <td>Strongest Tokyo University Shogi DS</td>\n",
       "      <td>DS</td>\n",
       "      <td>2010</td>\n",
       "      <td>Action</td>\n",
       "      <td>0.0</td>\n",
       "      <td>0.0</td>\n",
       "      <td>0.02</td>\n",
       "      <td>0.0</td>\n",
       "      <td>NaN</td>\n",
       "      <td>NaN</td>\n",
       "      <td>NaN</td>\n",
       "    </tr>\n",
       "  </tbody>\n",
       "</table>\n",
       "</div>"
      ],
      "text/plain": [
       "                                      name platform  year_of_release   genre  \\\n",
       "15956  Strongest Tokyo University Shogi DS       DS             2010  Action   \n",
       "\n",
       "       na_sales  eu_sales  jp_sales  other_sales  critic_score user_score  \\\n",
       "15956       0.0       0.0      0.02          0.0           NaN        NaN   \n",
       "\n",
       "      rating  \n",
       "15956    NaN  "
      ]
     },
     "execution_count": 15,
     "metadata": {},
     "output_type": "execute_result"
    }
   ],
   "source": [
    "#присваиваем записи новое значение\n",
    "data.loc[(data['platform'] == 'DS') & (data['year_of_release'] < 2004) & (data['year_of_release'] != 1900), 'year_of_release']\\\n",
    "= 2010\n",
    "#ошибка исправлена\n",
    "data.loc[(data['name'] == 'Strongest Tokyo University Shogi DS')]"
   ]
  },
  {
   "cell_type": "markdown",
   "metadata": {},
   "source": [
    "## Столбец `genre`"
   ]
  },
  {
   "cell_type": "code",
   "execution_count": 16,
   "metadata": {},
   "outputs": [
    {
     "name": "stdout",
     "output_type": "stream",
     "text": [
      "Количество уникальных жанров в датасете: 12\n"
     ]
    }
   ],
   "source": [
    "#Посмотрим, сколько уникальных жанров указано в столбце genre\n",
    "print('Количество уникальных жанров в датасете:',  len(data['genre'].unique()))"
   ]
  },
  {
   "cell_type": "code",
   "execution_count": 17,
   "metadata": {},
   "outputs": [
    {
     "data": {
      "text/plain": [
       "Action          3369\n",
       "Sports          2348\n",
       "Misc            1750\n",
       "Role-Playing    1498\n",
       "Shooter         1323\n",
       "Adventure       1303\n",
       "Racing          1249\n",
       "Platform         888\n",
       "Simulation       873\n",
       "Fighting         850\n",
       "Strategy         683\n",
       "Puzzle           580\n",
       "Name: genre, dtype: int64"
      ]
     },
     "execution_count": 17,
     "metadata": {},
     "output_type": "execute_result"
    }
   ],
   "source": [
    "#Теперь оценим, нет ли дубликатов в списке\n",
    "data['genre'].value_counts()"
   ]
  },
  {
   "cell_type": "markdown",
   "metadata": {},
   "source": [
    "Очевидных проблем со списком жанров в датасете нет:\n",
    "\n",
    "* Жанр указан у всех записей таблицы\n",
    "* В списке жанров нет дубликатов"
   ]
  },
  {
   "cell_type": "markdown",
   "metadata": {},
   "source": [
    "## Данные о продажах"
   ]
  },
  {
   "cell_type": "code",
   "execution_count": 18,
   "metadata": {},
   "outputs": [
    {
     "data": {
      "text/html": [
       "<div>\n",
       "<style scoped>\n",
       "    .dataframe tbody tr th:only-of-type {\n",
       "        vertical-align: middle;\n",
       "    }\n",
       "\n",
       "    .dataframe tbody tr th {\n",
       "        vertical-align: top;\n",
       "    }\n",
       "\n",
       "    .dataframe thead th {\n",
       "        text-align: right;\n",
       "    }\n",
       "</style>\n",
       "<table border=\"1\" class=\"dataframe\">\n",
       "  <thead>\n",
       "    <tr style=\"text-align: right;\">\n",
       "      <th></th>\n",
       "      <th>na_sales</th>\n",
       "      <th>eu_sales</th>\n",
       "      <th>jp_sales</th>\n",
       "      <th>other_sales</th>\n",
       "    </tr>\n",
       "  </thead>\n",
       "  <tbody>\n",
       "    <tr>\n",
       "      <td>count</td>\n",
       "      <td>16714.000000</td>\n",
       "      <td>16714.000000</td>\n",
       "      <td>16714.000000</td>\n",
       "      <td>16714.000000</td>\n",
       "    </tr>\n",
       "    <tr>\n",
       "      <td>mean</td>\n",
       "      <td>0.263393</td>\n",
       "      <td>0.145068</td>\n",
       "      <td>0.077620</td>\n",
       "      <td>0.047345</td>\n",
       "    </tr>\n",
       "    <tr>\n",
       "      <td>std</td>\n",
       "      <td>0.813625</td>\n",
       "      <td>0.503352</td>\n",
       "      <td>0.308862</td>\n",
       "      <td>0.186736</td>\n",
       "    </tr>\n",
       "    <tr>\n",
       "      <td>min</td>\n",
       "      <td>0.000000</td>\n",
       "      <td>0.000000</td>\n",
       "      <td>0.000000</td>\n",
       "      <td>0.000000</td>\n",
       "    </tr>\n",
       "    <tr>\n",
       "      <td>25%</td>\n",
       "      <td>0.000000</td>\n",
       "      <td>0.000000</td>\n",
       "      <td>0.000000</td>\n",
       "      <td>0.000000</td>\n",
       "    </tr>\n",
       "    <tr>\n",
       "      <td>50%</td>\n",
       "      <td>0.080000</td>\n",
       "      <td>0.020000</td>\n",
       "      <td>0.000000</td>\n",
       "      <td>0.010000</td>\n",
       "    </tr>\n",
       "    <tr>\n",
       "      <td>75%</td>\n",
       "      <td>0.240000</td>\n",
       "      <td>0.110000</td>\n",
       "      <td>0.040000</td>\n",
       "      <td>0.030000</td>\n",
       "    </tr>\n",
       "    <tr>\n",
       "      <td>max</td>\n",
       "      <td>41.360000</td>\n",
       "      <td>28.960000</td>\n",
       "      <td>10.220000</td>\n",
       "      <td>10.570000</td>\n",
       "    </tr>\n",
       "  </tbody>\n",
       "</table>\n",
       "</div>"
      ],
      "text/plain": [
       "           na_sales      eu_sales      jp_sales   other_sales\n",
       "count  16714.000000  16714.000000  16714.000000  16714.000000\n",
       "mean       0.263393      0.145068      0.077620      0.047345\n",
       "std        0.813625      0.503352      0.308862      0.186736\n",
       "min        0.000000      0.000000      0.000000      0.000000\n",
       "25%        0.000000      0.000000      0.000000      0.000000\n",
       "50%        0.080000      0.020000      0.000000      0.010000\n",
       "75%        0.240000      0.110000      0.040000      0.030000\n",
       "max       41.360000     28.960000     10.220000     10.570000"
      ]
     },
     "execution_count": 18,
     "metadata": {},
     "output_type": "execute_result"
    }
   ],
   "source": [
    "#оценим данные по продажам игр\n",
    "data[['na_sales', 'eu_sales', 'jp_sales', 'other_sales']].describe()"
   ]
  },
  {
   "cell_type": "markdown",
   "metadata": {},
   "source": [
    "Явно выделяющихся значений нет. Видна особенность: При максимальных значениях, исчисляемых десятками миллионов, третий квартиль ни в одном из регионов не поднимается выше четверти миллиона проданных копий. \n",
    "\n",
    "Из этого можно сделать вывод, что большую часть оборота делают единичные игры - распределение будет смещено вправо (это видно и по разнице между средним и медианным значением). \n",
    "\n",
    "Также можно предположить, что платежеспособный спрос сконцентрирован в Северной Америке."
   ]
  },
  {
   "cell_type": "markdown",
   "metadata": {},
   "source": [
    "## Данные об оценках"
   ]
  },
  {
   "cell_type": "code",
   "execution_count": 19,
   "metadata": {},
   "outputs": [
    {
     "data": {
      "text/html": [
       "<div>\n",
       "<style scoped>\n",
       "    .dataframe tbody tr th:only-of-type {\n",
       "        vertical-align: middle;\n",
       "    }\n",
       "\n",
       "    .dataframe tbody tr th {\n",
       "        vertical-align: top;\n",
       "    }\n",
       "\n",
       "    .dataframe thead th {\n",
       "        text-align: right;\n",
       "    }\n",
       "</style>\n",
       "<table border=\"1\" class=\"dataframe\">\n",
       "  <thead>\n",
       "    <tr style=\"text-align: right;\">\n",
       "      <th></th>\n",
       "      <th>name</th>\n",
       "      <th>platform</th>\n",
       "      <th>year_of_release</th>\n",
       "      <th>genre</th>\n",
       "      <th>na_sales</th>\n",
       "      <th>eu_sales</th>\n",
       "      <th>jp_sales</th>\n",
       "      <th>other_sales</th>\n",
       "      <th>critic_score</th>\n",
       "      <th>user_score</th>\n",
       "      <th>rating</th>\n",
       "    </tr>\n",
       "  </thead>\n",
       "  <tbody>\n",
       "    <tr>\n",
       "      <td>1</td>\n",
       "      <td>Super Mario Bros.</td>\n",
       "      <td>NES</td>\n",
       "      <td>1985</td>\n",
       "      <td>Platform</td>\n",
       "      <td>29.08</td>\n",
       "      <td>3.58</td>\n",
       "      <td>6.81</td>\n",
       "      <td>0.77</td>\n",
       "      <td>NaN</td>\n",
       "      <td>NaN</td>\n",
       "      <td>NaN</td>\n",
       "    </tr>\n",
       "    <tr>\n",
       "      <td>4</td>\n",
       "      <td>Pokemon Red/Pokemon Blue</td>\n",
       "      <td>GB</td>\n",
       "      <td>1996</td>\n",
       "      <td>Role-Playing</td>\n",
       "      <td>11.27</td>\n",
       "      <td>8.89</td>\n",
       "      <td>10.22</td>\n",
       "      <td>1.00</td>\n",
       "      <td>NaN</td>\n",
       "      <td>NaN</td>\n",
       "      <td>NaN</td>\n",
       "    </tr>\n",
       "    <tr>\n",
       "      <td>5</td>\n",
       "      <td>Tetris</td>\n",
       "      <td>GB</td>\n",
       "      <td>1989</td>\n",
       "      <td>Puzzle</td>\n",
       "      <td>23.20</td>\n",
       "      <td>2.26</td>\n",
       "      <td>4.22</td>\n",
       "      <td>0.58</td>\n",
       "      <td>NaN</td>\n",
       "      <td>NaN</td>\n",
       "      <td>NaN</td>\n",
       "    </tr>\n",
       "    <tr>\n",
       "      <td>9</td>\n",
       "      <td>Duck Hunt</td>\n",
       "      <td>NES</td>\n",
       "      <td>1984</td>\n",
       "      <td>Shooter</td>\n",
       "      <td>26.93</td>\n",
       "      <td>0.63</td>\n",
       "      <td>0.28</td>\n",
       "      <td>0.47</td>\n",
       "      <td>NaN</td>\n",
       "      <td>NaN</td>\n",
       "      <td>NaN</td>\n",
       "    </tr>\n",
       "    <tr>\n",
       "      <td>10</td>\n",
       "      <td>Nintendogs</td>\n",
       "      <td>DS</td>\n",
       "      <td>2005</td>\n",
       "      <td>Simulation</td>\n",
       "      <td>9.05</td>\n",
       "      <td>10.95</td>\n",
       "      <td>1.93</td>\n",
       "      <td>2.74</td>\n",
       "      <td>NaN</td>\n",
       "      <td>NaN</td>\n",
       "      <td>NaN</td>\n",
       "    </tr>\n",
       "    <tr>\n",
       "      <td>...</td>\n",
       "      <td>...</td>\n",
       "      <td>...</td>\n",
       "      <td>...</td>\n",
       "      <td>...</td>\n",
       "      <td>...</td>\n",
       "      <td>...</td>\n",
       "      <td>...</td>\n",
       "      <td>...</td>\n",
       "      <td>...</td>\n",
       "      <td>...</td>\n",
       "      <td>...</td>\n",
       "    </tr>\n",
       "    <tr>\n",
       "      <td>16709</td>\n",
       "      <td>Samurai Warriors: Sanada Maru</td>\n",
       "      <td>PS3</td>\n",
       "      <td>2016</td>\n",
       "      <td>Action</td>\n",
       "      <td>0.00</td>\n",
       "      <td>0.00</td>\n",
       "      <td>0.01</td>\n",
       "      <td>0.00</td>\n",
       "      <td>NaN</td>\n",
       "      <td>NaN</td>\n",
       "      <td>NaN</td>\n",
       "    </tr>\n",
       "    <tr>\n",
       "      <td>16710</td>\n",
       "      <td>LMA Manager 2007</td>\n",
       "      <td>X360</td>\n",
       "      <td>2006</td>\n",
       "      <td>Sports</td>\n",
       "      <td>0.00</td>\n",
       "      <td>0.01</td>\n",
       "      <td>0.00</td>\n",
       "      <td>0.00</td>\n",
       "      <td>NaN</td>\n",
       "      <td>NaN</td>\n",
       "      <td>NaN</td>\n",
       "    </tr>\n",
       "    <tr>\n",
       "      <td>16711</td>\n",
       "      <td>Haitaka no Psychedelica</td>\n",
       "      <td>PSV</td>\n",
       "      <td>2016</td>\n",
       "      <td>Adventure</td>\n",
       "      <td>0.00</td>\n",
       "      <td>0.00</td>\n",
       "      <td>0.01</td>\n",
       "      <td>0.00</td>\n",
       "      <td>NaN</td>\n",
       "      <td>NaN</td>\n",
       "      <td>NaN</td>\n",
       "    </tr>\n",
       "    <tr>\n",
       "      <td>16712</td>\n",
       "      <td>Spirits &amp; Spells</td>\n",
       "      <td>GBA</td>\n",
       "      <td>2003</td>\n",
       "      <td>Platform</td>\n",
       "      <td>0.01</td>\n",
       "      <td>0.00</td>\n",
       "      <td>0.00</td>\n",
       "      <td>0.00</td>\n",
       "      <td>NaN</td>\n",
       "      <td>NaN</td>\n",
       "      <td>NaN</td>\n",
       "    </tr>\n",
       "    <tr>\n",
       "      <td>16713</td>\n",
       "      <td>Winning Post 8 2016</td>\n",
       "      <td>PSV</td>\n",
       "      <td>2016</td>\n",
       "      <td>Simulation</td>\n",
       "      <td>0.00</td>\n",
       "      <td>0.00</td>\n",
       "      <td>0.01</td>\n",
       "      <td>0.00</td>\n",
       "      <td>NaN</td>\n",
       "      <td>NaN</td>\n",
       "      <td>NaN</td>\n",
       "    </tr>\n",
       "  </tbody>\n",
       "</table>\n",
       "<p>6700 rows × 11 columns</p>\n",
       "</div>"
      ],
      "text/plain": [
       "                                name platform  year_of_release         genre  \\\n",
       "1                  Super Mario Bros.      NES             1985      Platform   \n",
       "4           Pokemon Red/Pokemon Blue       GB             1996  Role-Playing   \n",
       "5                             Tetris       GB             1989        Puzzle   \n",
       "9                          Duck Hunt      NES             1984       Shooter   \n",
       "10                        Nintendogs       DS             2005    Simulation   \n",
       "...                              ...      ...              ...           ...   \n",
       "16709  Samurai Warriors: Sanada Maru      PS3             2016        Action   \n",
       "16710               LMA Manager 2007     X360             2006        Sports   \n",
       "16711        Haitaka no Psychedelica      PSV             2016     Adventure   \n",
       "16712               Spirits & Spells      GBA             2003      Platform   \n",
       "16713            Winning Post 8 2016      PSV             2016    Simulation   \n",
       "\n",
       "       na_sales  eu_sales  jp_sales  other_sales  critic_score user_score  \\\n",
       "1         29.08      3.58      6.81         0.77           NaN        NaN   \n",
       "4         11.27      8.89     10.22         1.00           NaN        NaN   \n",
       "5         23.20      2.26      4.22         0.58           NaN        NaN   \n",
       "9         26.93      0.63      0.28         0.47           NaN        NaN   \n",
       "10         9.05     10.95      1.93         2.74           NaN        NaN   \n",
       "...         ...       ...       ...          ...           ...        ...   \n",
       "16709      0.00      0.00      0.01         0.00           NaN        NaN   \n",
       "16710      0.00      0.01      0.00         0.00           NaN        NaN   \n",
       "16711      0.00      0.00      0.01         0.00           NaN        NaN   \n",
       "16712      0.01      0.00      0.00         0.00           NaN        NaN   \n",
       "16713      0.00      0.00      0.01         0.00           NaN        NaN   \n",
       "\n",
       "      rating  \n",
       "1        NaN  \n",
       "4        NaN  \n",
       "5        NaN  \n",
       "9        NaN  \n",
       "10       NaN  \n",
       "...      ...  \n",
       "16709    NaN  \n",
       "16710    NaN  \n",
       "16711    NaN  \n",
       "16712    NaN  \n",
       "16713    NaN  \n",
       "\n",
       "[6700 rows x 11 columns]"
      ]
     },
     "execution_count": 19,
     "metadata": {},
     "output_type": "execute_result"
    }
   ],
   "source": [
    "data.loc[data['user_score'].isnull() == True]"
   ]
  },
  {
   "cell_type": "code",
   "execution_count": 20,
   "metadata": {},
   "outputs": [
    {
     "data": {
      "text/html": [
       "<div>\n",
       "<style scoped>\n",
       "    .dataframe tbody tr th:only-of-type {\n",
       "        vertical-align: middle;\n",
       "    }\n",
       "\n",
       "    .dataframe tbody tr th {\n",
       "        vertical-align: top;\n",
       "    }\n",
       "\n",
       "    .dataframe thead th {\n",
       "        text-align: right;\n",
       "    }\n",
       "</style>\n",
       "<table border=\"1\" class=\"dataframe\">\n",
       "  <thead>\n",
       "    <tr style=\"text-align: right;\">\n",
       "      <th></th>\n",
       "      <th>name</th>\n",
       "      <th>platform</th>\n",
       "      <th>year_of_release</th>\n",
       "      <th>genre</th>\n",
       "      <th>na_sales</th>\n",
       "      <th>eu_sales</th>\n",
       "      <th>jp_sales</th>\n",
       "      <th>other_sales</th>\n",
       "      <th>critic_score</th>\n",
       "      <th>user_score</th>\n",
       "      <th>rating</th>\n",
       "    </tr>\n",
       "  </thead>\n",
       "  <tbody>\n",
       "    <tr>\n",
       "      <td>0</td>\n",
       "      <td>Wii Sports</td>\n",
       "      <td>Wii</td>\n",
       "      <td>2006</td>\n",
       "      <td>Sports</td>\n",
       "      <td>41.36</td>\n",
       "      <td>28.96</td>\n",
       "      <td>3.77</td>\n",
       "      <td>8.45</td>\n",
       "      <td>76.0</td>\n",
       "      <td>8</td>\n",
       "      <td>E</td>\n",
       "    </tr>\n",
       "    <tr>\n",
       "      <td>1</td>\n",
       "      <td>Super Mario Bros.</td>\n",
       "      <td>NES</td>\n",
       "      <td>1985</td>\n",
       "      <td>Platform</td>\n",
       "      <td>29.08</td>\n",
       "      <td>3.58</td>\n",
       "      <td>6.81</td>\n",
       "      <td>0.77</td>\n",
       "      <td>NaN</td>\n",
       "      <td>NaN</td>\n",
       "      <td>NaN</td>\n",
       "    </tr>\n",
       "    <tr>\n",
       "      <td>2</td>\n",
       "      <td>Mario Kart Wii</td>\n",
       "      <td>Wii</td>\n",
       "      <td>2008</td>\n",
       "      <td>Racing</td>\n",
       "      <td>15.68</td>\n",
       "      <td>12.76</td>\n",
       "      <td>3.79</td>\n",
       "      <td>3.29</td>\n",
       "      <td>82.0</td>\n",
       "      <td>8.3</td>\n",
       "      <td>E</td>\n",
       "    </tr>\n",
       "    <tr>\n",
       "      <td>3</td>\n",
       "      <td>Wii Sports Resort</td>\n",
       "      <td>Wii</td>\n",
       "      <td>2009</td>\n",
       "      <td>Sports</td>\n",
       "      <td>15.61</td>\n",
       "      <td>10.93</td>\n",
       "      <td>3.28</td>\n",
       "      <td>2.95</td>\n",
       "      <td>80.0</td>\n",
       "      <td>8</td>\n",
       "      <td>E</td>\n",
       "    </tr>\n",
       "    <tr>\n",
       "      <td>4</td>\n",
       "      <td>Pokemon Red/Pokemon Blue</td>\n",
       "      <td>GB</td>\n",
       "      <td>1996</td>\n",
       "      <td>Role-Playing</td>\n",
       "      <td>11.27</td>\n",
       "      <td>8.89</td>\n",
       "      <td>10.22</td>\n",
       "      <td>1.00</td>\n",
       "      <td>NaN</td>\n",
       "      <td>NaN</td>\n",
       "      <td>NaN</td>\n",
       "    </tr>\n",
       "    <tr>\n",
       "      <td>5</td>\n",
       "      <td>Tetris</td>\n",
       "      <td>GB</td>\n",
       "      <td>1989</td>\n",
       "      <td>Puzzle</td>\n",
       "      <td>23.20</td>\n",
       "      <td>2.26</td>\n",
       "      <td>4.22</td>\n",
       "      <td>0.58</td>\n",
       "      <td>NaN</td>\n",
       "      <td>NaN</td>\n",
       "      <td>NaN</td>\n",
       "    </tr>\n",
       "    <tr>\n",
       "      <td>6</td>\n",
       "      <td>New Super Mario Bros.</td>\n",
       "      <td>DS</td>\n",
       "      <td>2006</td>\n",
       "      <td>Platform</td>\n",
       "      <td>11.28</td>\n",
       "      <td>9.14</td>\n",
       "      <td>6.50</td>\n",
       "      <td>2.88</td>\n",
       "      <td>89.0</td>\n",
       "      <td>8.5</td>\n",
       "      <td>E</td>\n",
       "    </tr>\n",
       "    <tr>\n",
       "      <td>7</td>\n",
       "      <td>Wii Play</td>\n",
       "      <td>Wii</td>\n",
       "      <td>2006</td>\n",
       "      <td>Misc</td>\n",
       "      <td>13.96</td>\n",
       "      <td>9.18</td>\n",
       "      <td>2.93</td>\n",
       "      <td>2.84</td>\n",
       "      <td>58.0</td>\n",
       "      <td>6.6</td>\n",
       "      <td>E</td>\n",
       "    </tr>\n",
       "    <tr>\n",
       "      <td>8</td>\n",
       "      <td>New Super Mario Bros. Wii</td>\n",
       "      <td>Wii</td>\n",
       "      <td>2009</td>\n",
       "      <td>Platform</td>\n",
       "      <td>14.44</td>\n",
       "      <td>6.94</td>\n",
       "      <td>4.70</td>\n",
       "      <td>2.24</td>\n",
       "      <td>87.0</td>\n",
       "      <td>8.4</td>\n",
       "      <td>E</td>\n",
       "    </tr>\n",
       "    <tr>\n",
       "      <td>9</td>\n",
       "      <td>Duck Hunt</td>\n",
       "      <td>NES</td>\n",
       "      <td>1984</td>\n",
       "      <td>Shooter</td>\n",
       "      <td>26.93</td>\n",
       "      <td>0.63</td>\n",
       "      <td>0.28</td>\n",
       "      <td>0.47</td>\n",
       "      <td>NaN</td>\n",
       "      <td>NaN</td>\n",
       "      <td>NaN</td>\n",
       "    </tr>\n",
       "    <tr>\n",
       "      <td>14</td>\n",
       "      <td>Kinect Adventures!</td>\n",
       "      <td>X360</td>\n",
       "      <td>2010</td>\n",
       "      <td>Misc</td>\n",
       "      <td>15.00</td>\n",
       "      <td>4.89</td>\n",
       "      <td>0.24</td>\n",
       "      <td>1.69</td>\n",
       "      <td>61.0</td>\n",
       "      <td>6.3</td>\n",
       "      <td>E</td>\n",
       "    </tr>\n",
       "    <tr>\n",
       "      <td>18</td>\n",
       "      <td>Super Mario World</td>\n",
       "      <td>SNES</td>\n",
       "      <td>1990</td>\n",
       "      <td>Platform</td>\n",
       "      <td>12.78</td>\n",
       "      <td>3.75</td>\n",
       "      <td>3.54</td>\n",
       "      <td>0.55</td>\n",
       "      <td>NaN</td>\n",
       "      <td>NaN</td>\n",
       "      <td>NaN</td>\n",
       "    </tr>\n",
       "    <tr>\n",
       "      <td>21</td>\n",
       "      <td>Super Mario Land</td>\n",
       "      <td>GB</td>\n",
       "      <td>1989</td>\n",
       "      <td>Platform</td>\n",
       "      <td>10.83</td>\n",
       "      <td>2.71</td>\n",
       "      <td>4.18</td>\n",
       "      <td>0.42</td>\n",
       "      <td>NaN</td>\n",
       "      <td>NaN</td>\n",
       "      <td>NaN</td>\n",
       "    </tr>\n",
       "  </tbody>\n",
       "</table>\n",
       "</div>"
      ],
      "text/plain": [
       "                         name platform  year_of_release         genre  \\\n",
       "0                  Wii Sports      Wii             2006        Sports   \n",
       "1           Super Mario Bros.      NES             1985      Platform   \n",
       "2              Mario Kart Wii      Wii             2008        Racing   \n",
       "3           Wii Sports Resort      Wii             2009        Sports   \n",
       "4    Pokemon Red/Pokemon Blue       GB             1996  Role-Playing   \n",
       "5                      Tetris       GB             1989        Puzzle   \n",
       "6       New Super Mario Bros.       DS             2006      Platform   \n",
       "7                    Wii Play      Wii             2006          Misc   \n",
       "8   New Super Mario Bros. Wii      Wii             2009      Platform   \n",
       "9                   Duck Hunt      NES             1984       Shooter   \n",
       "14         Kinect Adventures!     X360             2010          Misc   \n",
       "18          Super Mario World     SNES             1990      Platform   \n",
       "21           Super Mario Land       GB             1989      Platform   \n",
       "\n",
       "    na_sales  eu_sales  jp_sales  other_sales  critic_score user_score rating  \n",
       "0      41.36     28.96      3.77         8.45          76.0          8      E  \n",
       "1      29.08      3.58      6.81         0.77           NaN        NaN    NaN  \n",
       "2      15.68     12.76      3.79         3.29          82.0        8.3      E  \n",
       "3      15.61     10.93      3.28         2.95          80.0          8      E  \n",
       "4      11.27      8.89     10.22         1.00           NaN        NaN    NaN  \n",
       "5      23.20      2.26      4.22         0.58           NaN        NaN    NaN  \n",
       "6      11.28      9.14      6.50         2.88          89.0        8.5      E  \n",
       "7      13.96      9.18      2.93         2.84          58.0        6.6      E  \n",
       "8      14.44      6.94      4.70         2.24          87.0        8.4      E  \n",
       "9      26.93      0.63      0.28         0.47           NaN        NaN    NaN  \n",
       "14     15.00      4.89      0.24         1.69          61.0        6.3      E  \n",
       "18     12.78      3.75      3.54         0.55           NaN        NaN    NaN  \n",
       "21     10.83      2.71      4.18         0.42           NaN        NaN    NaN  "
      ]
     },
     "execution_count": 20,
     "metadata": {},
     "output_type": "execute_result"
    }
   ],
   "source": [
    "#для проверки отберем пул тайтлов, с продажами более 10 млн копий в Северной Америке\n",
    "#мы видим, что максимальные значения для всех регионов кроме other сосредоточены в этой 21 записи\n",
    "data.loc[data['na_sales'] > 10]"
   ]
  },
  {
   "cell_type": "code",
   "execution_count": 21,
   "metadata": {},
   "outputs": [
    {
     "data": {
      "text/plain": [
       "array(['8', nan, '8.3', '8.5', '6.6', '8.4', '8.6', '7.7', '6.3', '7.4',\n",
       "       '8.2', '9', '7.9', '8.1', '8.7', '7.1', '3.4', '5.3', '4.8', '3.2',\n",
       "       '8.9', '6.4', '7.8', '7.5', '2.6', '7.2', '9.2', '7', '7.3', '4.3',\n",
       "       '7.6', '5.7', '5', '9.1', '6.5', 'tbd', '8.8', '6.9', '9.4', '6.8',\n",
       "       '6.1', '6.7', '5.4', '4', '4.9', '4.5', '9.3', '6.2', '4.2', '6',\n",
       "       '3.7', '4.1', '5.8', '5.6', '5.5', '4.4', '4.6', '5.9', '3.9',\n",
       "       '3.1', '2.9', '5.2', '3.3', '4.7', '5.1', '3.5', '2.5', '1.9', '3',\n",
       "       '2.7', '2.2', '2', '9.5', '2.1', '3.6', '2.8', '1.8', '3.8', '0',\n",
       "       '1.6', '9.6', '2.4', '1.7', '1.1', '0.3', '1.5', '0.7', '1.2',\n",
       "       '2.3', '0.5', '1.3', '0.2', '0.6', '1.4', '0.9', '1', '9.7'],\n",
       "      dtype=object)"
      ]
     },
     "execution_count": 21,
     "metadata": {},
     "output_type": "execute_result"
    }
   ],
   "source": [
    "#посмотрим на список уникальных значений столбца user_score\n",
    "data['user_score'].unique()"
   ]
  },
  {
   "cell_type": "markdown",
   "metadata": {},
   "source": [
    "Помимо пустых значений, в списке присутствует строковое значение \"tbd\". Остальные значения выглядят как оценки в виде числа с плавающей точкой. Посчитаем общее количество значений в списке, количество пустых ячеек, количество записей со значением \"tbd\" и количество оценок. "
   ]
  },
  {
   "cell_type": "code",
   "execution_count": 22,
   "metadata": {},
   "outputs": [
    {
     "name": "stdout",
     "output_type": "stream",
     "text": [
      "Общее количество ячеек в столбце user_score: 16714\n",
      "Количество пустых записей в столбце с пользовательскими оценками: 6700\n",
      "Количество записей \"tbd\" в столбце с пользовательскими оценками: 2424\n",
      "Количество пользовательских оценок: 7590\n"
     ]
    }
   ],
   "source": [
    "print('Общее количество ячеек в столбце user_score:', len(data['user_score']))\n",
    "print('Количество пустых записей в столбце с пользовательскими оценками:', len(data.loc[data['user_score'].isnull()]))\n",
    "print('Количество записей \"tbd\" в столбце с пользовательскими оценками:', len(data.loc[data['user_score'] == 'tbd']))\n",
    "print('Количество пользовательских оценок:', len(data['user_score']) - len(data.loc[data['user_score'].isnull()])\\\n",
    "      - len(data.loc[data['user_score'] == 'tbd']))"
   ]
  },
  {
   "cell_type": "markdown",
   "metadata": {},
   "source": [
    "Аббревиатура \"tbd\" расшифровывается как \"To Be Determined\", что значит \"будет определено\". Вероятно, пользовательские оценки для тайтлов с данным значением в столбце `user_score` были в процессе подсчета, либо получения из какого-либо внешнего источника. Отсутствие оценки означает, что установить ее мы сможет только путем ручного определения, что очень трудоемко, а в виде простого строкового значения оно ценности для нас не представляет, поэтому его возможности привести к пустой строке."
   ]
  },
  {
   "cell_type": "code",
   "execution_count": 23,
   "metadata": {},
   "outputs": [],
   "source": [
    "data['user_score'] = data['user_score'].replace('tbd', np.nan) #заменим значение \"tbd\" на пустую ячейку\n",
    "data['user_score'] = pd.to_numeric(data['user_score'], errors='coerce') #сделаем преобразование столбца в число"
   ]
  },
  {
   "cell_type": "code",
   "execution_count": 24,
   "metadata": {},
   "outputs": [
    {
     "data": {
      "text/html": [
       "<div>\n",
       "<style scoped>\n",
       "    .dataframe tbody tr th:only-of-type {\n",
       "        vertical-align: middle;\n",
       "    }\n",
       "\n",
       "    .dataframe tbody tr th {\n",
       "        vertical-align: top;\n",
       "    }\n",
       "\n",
       "    .dataframe thead th {\n",
       "        text-align: right;\n",
       "    }\n",
       "</style>\n",
       "<table border=\"1\" class=\"dataframe\">\n",
       "  <thead>\n",
       "    <tr style=\"text-align: right;\">\n",
       "      <th></th>\n",
       "      <th>critic_score</th>\n",
       "      <th>user_score</th>\n",
       "    </tr>\n",
       "  </thead>\n",
       "  <tbody>\n",
       "    <tr>\n",
       "      <td>count</td>\n",
       "      <td>8137.000000</td>\n",
       "      <td>7590.000000</td>\n",
       "    </tr>\n",
       "    <tr>\n",
       "      <td>mean</td>\n",
       "      <td>68.967679</td>\n",
       "      <td>7.125046</td>\n",
       "    </tr>\n",
       "    <tr>\n",
       "      <td>std</td>\n",
       "      <td>13.938165</td>\n",
       "      <td>1.500006</td>\n",
       "    </tr>\n",
       "    <tr>\n",
       "      <td>min</td>\n",
       "      <td>13.000000</td>\n",
       "      <td>0.000000</td>\n",
       "    </tr>\n",
       "    <tr>\n",
       "      <td>25%</td>\n",
       "      <td>60.000000</td>\n",
       "      <td>6.400000</td>\n",
       "    </tr>\n",
       "    <tr>\n",
       "      <td>50%</td>\n",
       "      <td>71.000000</td>\n",
       "      <td>7.500000</td>\n",
       "    </tr>\n",
       "    <tr>\n",
       "      <td>75%</td>\n",
       "      <td>79.000000</td>\n",
       "      <td>8.200000</td>\n",
       "    </tr>\n",
       "    <tr>\n",
       "      <td>max</td>\n",
       "      <td>98.000000</td>\n",
       "      <td>9.700000</td>\n",
       "    </tr>\n",
       "  </tbody>\n",
       "</table>\n",
       "</div>"
      ],
      "text/plain": [
       "       critic_score   user_score\n",
       "count   8137.000000  7590.000000\n",
       "mean      68.967679     7.125046\n",
       "std       13.938165     1.500006\n",
       "min       13.000000     0.000000\n",
       "25%       60.000000     6.400000\n",
       "50%       71.000000     7.500000\n",
       "75%       79.000000     8.200000\n",
       "max       98.000000     9.700000"
      ]
     },
     "execution_count": 24,
     "metadata": {},
     "output_type": "execute_result"
    }
   ],
   "source": [
    "#cмотрим на полученные данные\n",
    "data[['critic_score', 'user_score']].describe()"
   ]
  },
  {
   "cell_type": "markdown",
   "metadata": {},
   "source": [
    "Мы видим, что необычных значений в столбце с оценками нет. \n",
    "\n",
    "Можем также обратить внимание на то, что в среднем пользователи склонны выставлять играм более высокие оценки, что объяснимо меньшим уровнем компетентности в вопросах оценки качества игр. Тем не менее, минимально возможное значение зафиксировано в столбце пользовательских оценок, что позволяет нам предположить больший уклон в сторону эмоциональной (субъективной) оценки продуктов в отличие от критиков."
   ]
  },
  {
   "cell_type": "markdown",
   "metadata": {},
   "source": [
    "## Данные о рейтингах"
   ]
  },
  {
   "cell_type": "code",
   "execution_count": 25,
   "metadata": {},
   "outputs": [
    {
     "data": {
      "text/plain": [
       "E       3990\n",
       "T       2961\n",
       "M       1563\n",
       "E10+    1420\n",
       "EC         8\n",
       "K-A        3\n",
       "RP         3\n",
       "AO         1\n",
       "Name: rating, dtype: int64"
      ]
     },
     "execution_count": 25,
     "metadata": {},
     "output_type": "execute_result"
    }
   ],
   "source": [
    "#посмотрим на значения в столбце\n",
    "data['rating'].value_counts()"
   ]
  },
  {
   "cell_type": "code",
   "execution_count": 26,
   "metadata": {},
   "outputs": [
    {
     "data": {
      "text/plain": [
       "array(['E', nan, 'M', 'T', 'E10+', 'K-A', 'AO', 'EC', 'RP'], dtype=object)"
      ]
     },
     "execution_count": 26,
     "metadata": {},
     "output_type": "execute_result"
    }
   ],
   "source": [
    "data['rating'].unique()"
   ]
  },
  {
   "cell_type": "markdown",
   "metadata": {},
   "source": [
    "* В столбце с рейтингами присутствуют 8 уникальных значений\n",
    "* 4 из 8 значений происвоены более чем 1000 разных компьютерных игры\n",
    "* 4 из 8 значений присвоены менее чем 10 разным тайтлам\n",
    "\n",
    "Имеет смысл проверить, что означает каждая литера в рейтинге и попытаться понять, есть ли объективная причина малого количества значений.\n",
    "\n",
    "Поиск позволил установить следующее:\n",
    "\n",
    "* ESRB (Entertainment Software Rating Board) - система рейтингов, используемая в Северной Америке\n",
    "    + E - базовый рейтинг. Игра подходит для всех возрастов\n",
    "    + T - подростковый рейтинг (для детей 13+ лет)\n",
    "    + M - рейтинг 17+\n",
    "    + E10+ - рейтинг игр для детей 10 лет и старше\n",
    "    + EC - раннее детство. Игра предназначена для детей дошкольного возраста\n",
    "    + RP - рейтинг в ожидании. <span style=\"text-decoration:underline\">Эта комбинация выступает в качестве филлера для игр, рейтинг которым еще не присвоен</span>\n",
    "    + K-A - рейтинг \"Kids to Adults\". По смыслу похоже, что рейтинг аналогичен рейтингу E \n",
    "    + AO - рейтинг игр \"только для взрослых\"\n",
    "\n",
    "<span style=\"text-decoration:underline\">Выводы:</span>\n",
    "\n",
    "1. Все приведенные значения действительно являются рейтингами\n",
    "2. Все приведененные рейтинги присваиваются организацией ESRB, действующей в Северной Америке\n",
    "3. Вероятные причины отсутствия рейтингов: \n",
    "    + Игра выпущена до создания организации ESRB (1994 год)\n",
    "    + В базе ESRB отсутствовали данные о тех тайтлах, которым не присвоен рейтинг в нашем датасете\n",
    "    + Игра не продавалась на территории Северной Америки официально \n",
    "    + Игре был присвоен другой рейтинг (например, другой организацией) и он использовался для продаж\n",
    "    + Технические проблемы:\n",
    "        - Ошибка синхронизации данных источника данных для нашего датасета и базы ESRB\n",
    "        - Ошибка выгрузки\n",
    "        \n",
    "В любом случае, заполнить пропуски возможно только поиском точного соответствия игры и рейтинга, присвоенного ей той или иной организацией - использовать текущие значения не представляется возможным."
   ]
  },
  {
   "cell_type": "markdown",
   "metadata": {},
   "source": [
    "## Дополнительные расчеты"
   ]
  },
  {
   "cell_type": "code",
   "execution_count": 27,
   "metadata": {},
   "outputs": [
    {
     "name": "stdout",
     "output_type": "stream",
     "text": [
      "<class 'pandas.core.frame.DataFrame'>\n",
      "RangeIndex: 16714 entries, 0 to 16713\n",
      "Data columns (total 11 columns):\n",
      "name               16714 non-null object\n",
      "platform           16714 non-null object\n",
      "year_of_release    16714 non-null int64\n",
      "genre              16714 non-null object\n",
      "na_sales           16714 non-null float64\n",
      "eu_sales           16714 non-null float64\n",
      "jp_sales           16714 non-null float64\n",
      "other_sales        16714 non-null float64\n",
      "critic_score       8137 non-null float64\n",
      "user_score         7590 non-null float64\n",
      "rating             9949 non-null object\n",
      "dtypes: float64(6), int64(1), object(4)\n",
      "memory usage: 1.4+ MB\n"
     ]
    }
   ],
   "source": [
    "#еще раз взглянем на сводку о нашем датасете\n",
    "data.info()"
   ]
  },
  {
   "cell_type": "code",
   "execution_count": 28,
   "metadata": {},
   "outputs": [
    {
     "data": {
      "text/html": [
       "<div>\n",
       "<style scoped>\n",
       "    .dataframe tbody tr th:only-of-type {\n",
       "        vertical-align: middle;\n",
       "    }\n",
       "\n",
       "    .dataframe tbody tr th {\n",
       "        vertical-align: top;\n",
       "    }\n",
       "\n",
       "    .dataframe thead th {\n",
       "        text-align: right;\n",
       "    }\n",
       "</style>\n",
       "<table border=\"1\" class=\"dataframe\">\n",
       "  <thead>\n",
       "    <tr style=\"text-align: right;\">\n",
       "      <th></th>\n",
       "      <th>name</th>\n",
       "      <th>platform</th>\n",
       "      <th>year_of_release</th>\n",
       "      <th>genre</th>\n",
       "      <th>na_sales</th>\n",
       "      <th>eu_sales</th>\n",
       "      <th>jp_sales</th>\n",
       "      <th>other_sales</th>\n",
       "      <th>critic_score</th>\n",
       "      <th>user_score</th>\n",
       "      <th>rating</th>\n",
       "      <th>total_sales</th>\n",
       "    </tr>\n",
       "  </thead>\n",
       "  <tbody>\n",
       "    <tr>\n",
       "      <td>16485</td>\n",
       "      <td>Super Dungeon Bros</td>\n",
       "      <td>PS4</td>\n",
       "      <td>2016</td>\n",
       "      <td>Action</td>\n",
       "      <td>0.01</td>\n",
       "      <td>0.00</td>\n",
       "      <td>0.00</td>\n",
       "      <td>0.00</td>\n",
       "      <td>42.0</td>\n",
       "      <td>2.3</td>\n",
       "      <td>E10+</td>\n",
       "      <td>0.01</td>\n",
       "    </tr>\n",
       "    <tr>\n",
       "      <td>966</td>\n",
       "      <td>Crazy Taxi</td>\n",
       "      <td>DC</td>\n",
       "      <td>2000</td>\n",
       "      <td>Racing</td>\n",
       "      <td>1.10</td>\n",
       "      <td>0.51</td>\n",
       "      <td>0.12</td>\n",
       "      <td>0.08</td>\n",
       "      <td>NaN</td>\n",
       "      <td>NaN</td>\n",
       "      <td>NaN</td>\n",
       "      <td>1.81</td>\n",
       "    </tr>\n",
       "    <tr>\n",
       "      <td>10849</td>\n",
       "      <td>Crash 'N' Burn</td>\n",
       "      <td>XB</td>\n",
       "      <td>2004</td>\n",
       "      <td>Racing</td>\n",
       "      <td>0.07</td>\n",
       "      <td>0.02</td>\n",
       "      <td>0.00</td>\n",
       "      <td>0.00</td>\n",
       "      <td>65.0</td>\n",
       "      <td>6.4</td>\n",
       "      <td>T</td>\n",
       "      <td>0.09</td>\n",
       "    </tr>\n",
       "    <tr>\n",
       "      <td>12930</td>\n",
       "      <td>Rez</td>\n",
       "      <td>PS2</td>\n",
       "      <td>2001</td>\n",
       "      <td>Shooter</td>\n",
       "      <td>0.03</td>\n",
       "      <td>0.02</td>\n",
       "      <td>0.00</td>\n",
       "      <td>0.01</td>\n",
       "      <td>78.0</td>\n",
       "      <td>8.3</td>\n",
       "      <td>E</td>\n",
       "      <td>0.06</td>\n",
       "    </tr>\n",
       "    <tr>\n",
       "      <td>11539</td>\n",
       "      <td>Shonen Jump's One Piece: Pirates Carnival</td>\n",
       "      <td>GC</td>\n",
       "      <td>2005</td>\n",
       "      <td>Misc</td>\n",
       "      <td>0.06</td>\n",
       "      <td>0.02</td>\n",
       "      <td>0.00</td>\n",
       "      <td>0.00</td>\n",
       "      <td>NaN</td>\n",
       "      <td>NaN</td>\n",
       "      <td>NaN</td>\n",
       "      <td>0.08</td>\n",
       "    </tr>\n",
       "  </tbody>\n",
       "</table>\n",
       "</div>"
      ],
      "text/plain": [
       "                                            name platform  year_of_release  \\\n",
       "16485                         Super Dungeon Bros      PS4             2016   \n",
       "966                                   Crazy Taxi       DC             2000   \n",
       "10849                             Crash 'N' Burn       XB             2004   \n",
       "12930                                        Rez      PS2             2001   \n",
       "11539  Shonen Jump's One Piece: Pirates Carnival       GC             2005   \n",
       "\n",
       "         genre  na_sales  eu_sales  jp_sales  other_sales  critic_score  \\\n",
       "16485   Action      0.01      0.00      0.00         0.00          42.0   \n",
       "966     Racing      1.10      0.51      0.12         0.08           NaN   \n",
       "10849   Racing      0.07      0.02      0.00         0.00          65.0   \n",
       "12930  Shooter      0.03      0.02      0.00         0.01          78.0   \n",
       "11539     Misc      0.06      0.02      0.00         0.00           NaN   \n",
       "\n",
       "       user_score rating  total_sales  \n",
       "16485         2.3   E10+         0.01  \n",
       "966           NaN    NaN         1.81  \n",
       "10849         6.4      T         0.09  \n",
       "12930         8.3      E         0.06  \n",
       "11539         NaN    NaN         0.08  "
      ]
     },
     "execution_count": 28,
     "metadata": {},
     "output_type": "execute_result"
    }
   ],
   "source": [
    "#дополним исходный датасет суммарными продажами по всем регионам\n",
    "data['total_sales'] = data[['na_sales', 'eu_sales', 'jp_sales', 'other_sales']].sum(axis='columns')\n",
    "#оценим результат\n",
    "data.sample(5)"
   ]
  },
  {
   "cell_type": "markdown",
   "metadata": {},
   "source": [
    "1. Мы избавились от 1 значения для игры без конкретного наименования тайтла\n",
    "2. Привели значение года выпуска к целом числу, переведя NaN в отдельную группу \"1900\" \n",
    "3. Проверили столбцы с категорийными переменными и не обнаружили дублирующих или избыточных значений\n",
    "4. Значения продаж заполнены данными для всех строк датасета, хотя и содержат нулевые значения, что может повлиять на оценку экономики - это необходимо учитывать при работе с данными\n",
    "5. Мы привели строковое значение 'tbd' в столбце с пользовательскими оценками к пустому значению, так как по информационной ценности в контексте числовой оценки оно находится на уровне пустой строки\n",
    "6. Добавили столбец с общим количеством проданных копий во всех регионах"
   ]
  },
  {
   "cell_type": "markdown",
   "metadata": {},
   "source": [
    "# Анализ данных"
   ]
  },
  {
   "cell_type": "markdown",
   "metadata": {},
   "source": [
    "## Количество игр, выпущенных в разные годы"
   ]
  },
  {
   "cell_type": "code",
   "execution_count": 29,
   "metadata": {},
   "outputs": [
    {
     "data": {
      "text/html": [
       "<div>\n",
       "<style scoped>\n",
       "    .dataframe tbody tr th:only-of-type {\n",
       "        vertical-align: middle;\n",
       "    }\n",
       "\n",
       "    .dataframe tbody tr th {\n",
       "        vertical-align: top;\n",
       "    }\n",
       "\n",
       "    .dataframe thead th {\n",
       "        text-align: right;\n",
       "    }\n",
       "</style>\n",
       "<table border=\"1\" class=\"dataframe\">\n",
       "  <thead>\n",
       "    <tr style=\"text-align: right;\">\n",
       "      <th></th>\n",
       "      <th>year_of_release</th>\n",
       "      <th>qty_of_titles</th>\n",
       "    </tr>\n",
       "  </thead>\n",
       "  <tbody>\n",
       "    <tr>\n",
       "      <td>0</td>\n",
       "      <td>1980</td>\n",
       "      <td>9</td>\n",
       "    </tr>\n",
       "    <tr>\n",
       "      <td>1</td>\n",
       "      <td>1981</td>\n",
       "      <td>46</td>\n",
       "    </tr>\n",
       "    <tr>\n",
       "      <td>2</td>\n",
       "      <td>1982</td>\n",
       "      <td>36</td>\n",
       "    </tr>\n",
       "    <tr>\n",
       "      <td>3</td>\n",
       "      <td>1983</td>\n",
       "      <td>17</td>\n",
       "    </tr>\n",
       "    <tr>\n",
       "      <td>4</td>\n",
       "      <td>1984</td>\n",
       "      <td>14</td>\n",
       "    </tr>\n",
       "    <tr>\n",
       "      <td>5</td>\n",
       "      <td>1985</td>\n",
       "      <td>13</td>\n",
       "    </tr>\n",
       "    <tr>\n",
       "      <td>6</td>\n",
       "      <td>1986</td>\n",
       "      <td>21</td>\n",
       "    </tr>\n",
       "    <tr>\n",
       "      <td>7</td>\n",
       "      <td>1987</td>\n",
       "      <td>16</td>\n",
       "    </tr>\n",
       "    <tr>\n",
       "      <td>8</td>\n",
       "      <td>1988</td>\n",
       "      <td>15</td>\n",
       "    </tr>\n",
       "    <tr>\n",
       "      <td>9</td>\n",
       "      <td>1989</td>\n",
       "      <td>17</td>\n",
       "    </tr>\n",
       "    <tr>\n",
       "      <td>10</td>\n",
       "      <td>1990</td>\n",
       "      <td>16</td>\n",
       "    </tr>\n",
       "    <tr>\n",
       "      <td>11</td>\n",
       "      <td>1991</td>\n",
       "      <td>41</td>\n",
       "    </tr>\n",
       "    <tr>\n",
       "      <td>12</td>\n",
       "      <td>1992</td>\n",
       "      <td>43</td>\n",
       "    </tr>\n",
       "    <tr>\n",
       "      <td>13</td>\n",
       "      <td>1993</td>\n",
       "      <td>61</td>\n",
       "    </tr>\n",
       "    <tr>\n",
       "      <td>14</td>\n",
       "      <td>1994</td>\n",
       "      <td>121</td>\n",
       "    </tr>\n",
       "    <tr>\n",
       "      <td>15</td>\n",
       "      <td>1995</td>\n",
       "      <td>219</td>\n",
       "    </tr>\n",
       "    <tr>\n",
       "      <td>16</td>\n",
       "      <td>1996</td>\n",
       "      <td>263</td>\n",
       "    </tr>\n",
       "    <tr>\n",
       "      <td>17</td>\n",
       "      <td>1997</td>\n",
       "      <td>289</td>\n",
       "    </tr>\n",
       "    <tr>\n",
       "      <td>18</td>\n",
       "      <td>1998</td>\n",
       "      <td>379</td>\n",
       "    </tr>\n",
       "    <tr>\n",
       "      <td>19</td>\n",
       "      <td>1999</td>\n",
       "      <td>338</td>\n",
       "    </tr>\n",
       "    <tr>\n",
       "      <td>20</td>\n",
       "      <td>2000</td>\n",
       "      <td>350</td>\n",
       "    </tr>\n",
       "    <tr>\n",
       "      <td>21</td>\n",
       "      <td>2001</td>\n",
       "      <td>482</td>\n",
       "    </tr>\n",
       "    <tr>\n",
       "      <td>22</td>\n",
       "      <td>2002</td>\n",
       "      <td>829</td>\n",
       "    </tr>\n",
       "    <tr>\n",
       "      <td>23</td>\n",
       "      <td>2003</td>\n",
       "      <td>775</td>\n",
       "    </tr>\n",
       "    <tr>\n",
       "      <td>24</td>\n",
       "      <td>2004</td>\n",
       "      <td>762</td>\n",
       "    </tr>\n",
       "    <tr>\n",
       "      <td>25</td>\n",
       "      <td>2005</td>\n",
       "      <td>939</td>\n",
       "    </tr>\n",
       "    <tr>\n",
       "      <td>26</td>\n",
       "      <td>2006</td>\n",
       "      <td>1006</td>\n",
       "    </tr>\n",
       "    <tr>\n",
       "      <td>27</td>\n",
       "      <td>2007</td>\n",
       "      <td>1197</td>\n",
       "    </tr>\n",
       "    <tr>\n",
       "      <td>28</td>\n",
       "      <td>2008</td>\n",
       "      <td>1427</td>\n",
       "    </tr>\n",
       "    <tr>\n",
       "      <td>29</td>\n",
       "      <td>2009</td>\n",
       "      <td>1426</td>\n",
       "    </tr>\n",
       "    <tr>\n",
       "      <td>30</td>\n",
       "      <td>2010</td>\n",
       "      <td>1256</td>\n",
       "    </tr>\n",
       "    <tr>\n",
       "      <td>31</td>\n",
       "      <td>2011</td>\n",
       "      <td>1136</td>\n",
       "    </tr>\n",
       "    <tr>\n",
       "      <td>32</td>\n",
       "      <td>2012</td>\n",
       "      <td>653</td>\n",
       "    </tr>\n",
       "    <tr>\n",
       "      <td>33</td>\n",
       "      <td>2013</td>\n",
       "      <td>544</td>\n",
       "    </tr>\n",
       "    <tr>\n",
       "      <td>34</td>\n",
       "      <td>2014</td>\n",
       "      <td>581</td>\n",
       "    </tr>\n",
       "    <tr>\n",
       "      <td>35</td>\n",
       "      <td>2015</td>\n",
       "      <td>606</td>\n",
       "    </tr>\n",
       "    <tr>\n",
       "      <td>36</td>\n",
       "      <td>2016</td>\n",
       "      <td>502</td>\n",
       "    </tr>\n",
       "  </tbody>\n",
       "</table>\n",
       "</div>"
      ],
      "text/plain": [
       "    year_of_release  qty_of_titles\n",
       "0              1980              9\n",
       "1              1981             46\n",
       "2              1982             36\n",
       "3              1983             17\n",
       "4              1984             14\n",
       "5              1985             13\n",
       "6              1986             21\n",
       "7              1987             16\n",
       "8              1988             15\n",
       "9              1989             17\n",
       "10             1990             16\n",
       "11             1991             41\n",
       "12             1992             43\n",
       "13             1993             61\n",
       "14             1994            121\n",
       "15             1995            219\n",
       "16             1996            263\n",
       "17             1997            289\n",
       "18             1998            379\n",
       "19             1999            338\n",
       "20             2000            350\n",
       "21             2001            482\n",
       "22             2002            829\n",
       "23             2003            775\n",
       "24             2004            762\n",
       "25             2005            939\n",
       "26             2006           1006\n",
       "27             2007           1197\n",
       "28             2008           1427\n",
       "29             2009           1426\n",
       "30             2010           1256\n",
       "31             2011           1136\n",
       "32             2012            653\n",
       "33             2013            544\n",
       "34             2014            581\n",
       "35             2015            606\n",
       "36             2016            502"
      ]
     },
     "metadata": {},
     "output_type": "display_data"
    }
   ],
   "source": [
    "#сформируем небольшой датафрейм через создание сводной таблицы с количеством тайтлов\n",
    "#исключим из датафрейма тайтлы с годом релиза 1900, которые ранее был присвоен строкам с пропуском в годе релиза\n",
    "games_per_year = data.loc[data['year_of_release'] != 1900].pivot_table(index='year_of_release', values='name', aggfunc=['count'])\n",
    "games_per_year = games_per_year.reset_index()\n",
    "games_per_year.columns=['year_of_release', 'qty_of_titles']\n",
    "display(games_per_year)"
   ]
  },
  {
   "cell_type": "code",
   "execution_count": 30,
   "metadata": {},
   "outputs": [
    {
     "name": "stdout",
     "output_type": "stream",
     "text": [
      "Доля записей, у которых не указан год релиза: 1.61%\n"
     ]
    }
   ],
   "source": [
    "print('Доля записей, у которых не указан год релиза: {0:.2f}%'\\\n",
    "      .format(len(data.loc[data['year_of_release'] == 1900]) / len(data.loc[data['year_of_release']]) * 100))"
   ]
  },
  {
   "cell_type": "code",
   "execution_count": 31,
   "metadata": {},
   "outputs": [
    {
     "data": {
      "image/png": "[encoded data removed]",
      "text/plain": [
       "<Figure size 1080x288 with 1 Axes>"
      ]
     },
     "metadata": {
      "needs_background": "light"
     },
     "output_type": "display_data"
    }
   ],
   "source": [
    "#построим диаграмму для количества выпущенных игр по годам\n",
    "index = games_per_year['year_of_release']\n",
    "values = games_per_year['qty_of_titles']\n",
    "\n",
    "fig, ax = plt.subplots()\n",
    "plt.bar(index, values)\n",
    "fig.set_figwidth(15)\n",
    "ax.set_xlabel('Год релиза')\n",
    "ax.set_ylabel('Количество выпущенных игр')\n",
    "plt.show()"
   ]
  },
  {
   "cell_type": "markdown",
   "metadata": {},
   "source": [
    "На диаграмме видны 4 \"точки интереса\": \n",
    "\n",
    "1. Мы видим, что до 1994 года количество выпускаемых игр было небольшим. Далее, в 1994-1995 годах количество удваивалось ежегодно. Вероятно, это связано с выпуском какой-то игровой платформы, либо нового жанра/тайтла. Возможно создание организации ESRB, возрастные рейтинги которой используются в стобце `rating` (1994 год), также связано с этим скачком\n",
    "2. Далее кривая роста количества проданных игр была практически пологой с плато в период 1998-1999 годов до 2002 года, где снова произошло практически удвоение количества выпускаемых тайтлов с небольшим откатом в 2003-2004. Возможно, это также связано с запуском новой платформы/тайтлов\n",
    "3. Пиковые значения количества выпускаемых игр для всей выборки лежат на отметках 2008-2009 годов\n",
    "4. В период 2011-2012 прозошло практически двойное сокращение количества выпускаемых игр. Количество опустилось ниже уровня 2002 года и вплоть до 2016 года находилось примерно на этом же уровне с некоторыми колебаниями в обоих направлениях\n",
    "\n",
    "Мы можем предположить, что полный объем данных в большей степени важен, если мы ставим перед собой цель проанализовароть развитие игровой индустрии. \n",
    "\n",
    "Наибольший интерес для нас представляют события, в результате которых происходили изменения, описанные выше. Более того, события, произошедшие в 21 веке скорее всего в большей степени отражают современные тенденции."
   ]
  },
  {
   "cell_type": "markdown",
   "metadata": {},
   "source": [
    "## Продажи игр в разрезе различных платформ и определение актуального периода"
   ]
  },
  {
   "cell_type": "code",
   "execution_count": 32,
   "metadata": {},
   "outputs": [
    {
     "data": {
      "text/html": [
       "<div>\n",
       "<style scoped>\n",
       "    .dataframe tbody tr th:only-of-type {\n",
       "        vertical-align: middle;\n",
       "    }\n",
       "\n",
       "    .dataframe tbody tr th {\n",
       "        vertical-align: top;\n",
       "    }\n",
       "\n",
       "    .dataframe thead th {\n",
       "        text-align: right;\n",
       "    }\n",
       "</style>\n",
       "<table border=\"1\" class=\"dataframe\">\n",
       "  <thead>\n",
       "    <tr style=\"text-align: right;\">\n",
       "      <th></th>\n",
       "      <th>platform</th>\n",
       "      <th>na_sales</th>\n",
       "      <th>eu_sales</th>\n",
       "      <th>jp_sales</th>\n",
       "      <th>other_sales</th>\n",
       "      <th>total_sales</th>\n",
       "    </tr>\n",
       "  </thead>\n",
       "  <tbody>\n",
       "    <tr>\n",
       "      <td>0</td>\n",
       "      <td>PS2</td>\n",
       "      <td>339.29</td>\n",
       "      <td>139.20</td>\n",
       "      <td>583.84</td>\n",
       "      <td>193.44</td>\n",
       "      <td>1255.77</td>\n",
       "    </tr>\n",
       "    <tr>\n",
       "      <td>1</td>\n",
       "      <td>X360</td>\n",
       "      <td>270.76</td>\n",
       "      <td>12.43</td>\n",
       "      <td>602.47</td>\n",
       "      <td>85.76</td>\n",
       "      <td>971.42</td>\n",
       "    </tr>\n",
       "    <tr>\n",
       "      <td>2</td>\n",
       "      <td>PS3</td>\n",
       "      <td>330.29</td>\n",
       "      <td>80.19</td>\n",
       "      <td>393.49</td>\n",
       "      <td>135.68</td>\n",
       "      <td>939.65</td>\n",
       "    </tr>\n",
       "    <tr>\n",
       "      <td>3</td>\n",
       "      <td>Wii</td>\n",
       "      <td>262.21</td>\n",
       "      <td>69.33</td>\n",
       "      <td>496.90</td>\n",
       "      <td>79.07</td>\n",
       "      <td>907.51</td>\n",
       "    </tr>\n",
       "    <tr>\n",
       "      <td>4</td>\n",
       "      <td>DS</td>\n",
       "      <td>188.89</td>\n",
       "      <td>175.57</td>\n",
       "      <td>382.40</td>\n",
       "      <td>59.26</td>\n",
       "      <td>806.12</td>\n",
       "    </tr>\n",
       "    <tr>\n",
       "      <td>5</td>\n",
       "      <td>PS</td>\n",
       "      <td>213.61</td>\n",
       "      <td>139.82</td>\n",
       "      <td>336.52</td>\n",
       "      <td>40.91</td>\n",
       "      <td>730.86</td>\n",
       "    </tr>\n",
       "    <tr>\n",
       "      <td>6</td>\n",
       "      <td>GBA</td>\n",
       "      <td>75.25</td>\n",
       "      <td>47.33</td>\n",
       "      <td>187.54</td>\n",
       "      <td>7.73</td>\n",
       "      <td>317.85</td>\n",
       "    </tr>\n",
       "    <tr>\n",
       "      <td>7</td>\n",
       "      <td>PS4</td>\n",
       "      <td>141.09</td>\n",
       "      <td>15.96</td>\n",
       "      <td>108.74</td>\n",
       "      <td>48.35</td>\n",
       "      <td>314.14</td>\n",
       "    </tr>\n",
       "    <tr>\n",
       "      <td>8</td>\n",
       "      <td>PSP</td>\n",
       "      <td>66.68</td>\n",
       "      <td>76.78</td>\n",
       "      <td>109.17</td>\n",
       "      <td>41.42</td>\n",
       "      <td>294.05</td>\n",
       "    </tr>\n",
       "    <tr>\n",
       "      <td>9</td>\n",
       "      <td>PC</td>\n",
       "      <td>142.44</td>\n",
       "      <td>0.17</td>\n",
       "      <td>94.53</td>\n",
       "      <td>22.38</td>\n",
       "      <td>259.52</td>\n",
       "    </tr>\n",
       "  </tbody>\n",
       "</table>\n",
       "</div>"
      ],
      "text/plain": [
       "  platform  na_sales  eu_sales  jp_sales  other_sales  total_sales\n",
       "0      PS2    339.29    139.20    583.84       193.44      1255.77\n",
       "1     X360    270.76     12.43    602.47        85.76       971.42\n",
       "2      PS3    330.29     80.19    393.49       135.68       939.65\n",
       "3      Wii    262.21     69.33    496.90        79.07       907.51\n",
       "4       DS    188.89    175.57    382.40        59.26       806.12\n",
       "5       PS    213.61    139.82    336.52        40.91       730.86\n",
       "6      GBA     75.25     47.33    187.54         7.73       317.85\n",
       "7      PS4    141.09     15.96    108.74        48.35       314.14\n",
       "8      PSP     66.68     76.78    109.17        41.42       294.05\n",
       "9       PC    142.44      0.17     94.53        22.38       259.52"
      ]
     },
     "execution_count": 32,
     "metadata": {},
     "output_type": "execute_result"
    }
   ],
   "source": [
    "#сформируем таблицу с общим количеством проданных игр и разбивкой по регионам и отсортируем по убыванию количества общих продаж\n",
    "platform_sales = data.pivot_table(index='platform', values=['na_sales', 'eu_sales', 'jp_sales', 'other_sales', 'total_sales'], aggfunc='sum')\\\n",
    ".sort_values('total_sales', ascending=False).reset_index()\n",
    "platform_sales.columns=['platform', 'na_sales', 'eu_sales', 'jp_sales', 'other_sales', 'total_sales']\n",
    "platform_sales.head(10)"
   ]
  },
  {
   "cell_type": "code",
   "execution_count": 33,
   "metadata": {},
   "outputs": [
    {
     "data": {
      "image/png": "[encoded data removed]",
      "text/plain": [
       "<Figure size 1080x288 with 1 Axes>"
      ]
     },
     "metadata": {
      "needs_background": "light"
     },
     "output_type": "display_data"
    },
    {
     "data": {
      "image/png": "[encoded data removed]",
      "text/plain": [
       "<Figure size 1080x288 with 1 Axes>"
      ]
     },
     "metadata": {
      "needs_background": "light"
     },
     "output_type": "display_data"
    },
    {
     "data": {
      "image/png": "[encoded data removed]",
      "text/plain": [
       "<Figure size 1080x288 with 1 Axes>"
      ]
     },
     "metadata": {
      "needs_background": "light"
     },
     "output_type": "display_data"
    },
    {
     "data": {
      "image/png": "[encoded data removed]",
      "text/plain": [
       "<Figure size 1080x288 with 1 Axes>"
      ]
     },
     "metadata": {
      "needs_background": "light"
     },
     "output_type": "display_data"
    },
    {
     "data": {
      "image/png": "[encoded data removed]",
      "text/plain": [
       "<Figure size 1080x288 with 1 Axes>"
      ]
     },
     "metadata": {
      "needs_background": "light"
     },
     "output_type": "display_data"
    },
    {
     "data": {
      "image/png": "[encoded data removed]",
      "text/plain": [
       "<Figure size 1080x288 with 1 Axes>"
      ]
     },
     "metadata": {
      "needs_background": "light"
     },
     "output_type": "display_data"
    },
    {
     "data": {
      "image/png": "[encoded data removed]",
      "text/plain": [
       "<Figure size 1080x288 with 1 Axes>"
      ]
     },
     "metadata": {
      "needs_background": "light"
     },
     "output_type": "display_data"
    }
   ],
   "source": [
    "#для построения графика распределения продаж по годам, соберем небольшую таблицу по данным платформы PS2\n",
    "platform_dist = data.loc[(data['year_of_release'] != 1900) & (data['platform'] == 'PS2')].pivot_table(index='year_of_release',\\\n",
    "                values='total_sales', aggfunc='sum').reset_index().sort_values('year_of_release', ascending=True)\n",
    "\n",
    "#построим диаграмму для количества выпущенных игр по годам\n",
    "index = platform_dist['year_of_release']\n",
    "values = platform_dist['total_sales']\n",
    "\n",
    "fig, ax = plt.subplots()\n",
    "plt.bar(index, values)\n",
    "fig.set_figwidth(15)\n",
    "fig.suptitle('Количество проданных игр по годам для PS2 (позиция №1 по общим продажам), млн. копий')\n",
    "ax.grid()\n",
    "plt.show()\n",
    "\n",
    "#для построения графика распределения продаж по годам, соберем небольшую таблицу по данным платформы X360\n",
    "platform_dist = data.loc[(data['year_of_release'] != 1900) & (data['platform'] == 'X360')].pivot_table(index='year_of_release',\\\n",
    "                values='total_sales', aggfunc='sum').reset_index().sort_values('year_of_release', ascending=True)\n",
    "\n",
    "#построим диаграмму для количества выпущенных игр по годам\n",
    "index = platform_dist['year_of_release']\n",
    "values = platform_dist['total_sales']\n",
    "\n",
    "fig, ax = plt.subplots()\n",
    "plt.bar(index, values)\n",
    "fig.set_figwidth(15)\n",
    "fig.suptitle('Количество проданных игр по годам для X360 (позиция №2 по общим продажам), млн. копий')\n",
    "ax.grid()\n",
    "plt.show()\n",
    "\n",
    "#для построения графика распределения продаж по годам, соберем небольшую таблицу по данным платформы PS3\n",
    "platform_dist = data.loc[(data['year_of_release'] != 1900) & (data['platform'] == 'PS3')].pivot_table(index='year_of_release',\\\n",
    "                values='total_sales', aggfunc='sum').reset_index().sort_values('year_of_release', ascending=True)\n",
    "\n",
    "#построим диаграмму для количества выпущенных игр по годам\n",
    "index = platform_dist['year_of_release']\n",
    "values = platform_dist['total_sales']\n",
    "\n",
    "fig, ax = plt.subplots()\n",
    "plt.bar(index, values)\n",
    "fig.set_figwidth(15)\n",
    "fig.suptitle('Количество проданных игр по годам для PS3 (позиция №3 по общим продажам), млн. копий')\n",
    "ax.grid()\n",
    "plt.show()\n",
    "\n",
    "#для построения графика распределения продаж по годам, соберем небольшую таблицу по данным платформы Wii\n",
    "platform_dist = data.loc[(data['year_of_release'] != 1900) & (data['platform'] == 'Wii')].pivot_table(index='year_of_release',\\\n",
    "                values='total_sales', aggfunc='sum').reset_index().sort_values('year_of_release', ascending=True)\n",
    "\n",
    "#построим диаграмму для количества выпущенных игр по годам\n",
    "index = platform_dist['year_of_release']\n",
    "values = platform_dist['total_sales']\n",
    "\n",
    "fig, ax = plt.subplots()\n",
    "plt.bar(index, values)\n",
    "fig.set_figwidth(15)\n",
    "fig.suptitle('Количество проданных игр по годам для Wii (позиция №4 по общим продажам), млн. копий')\n",
    "ax.grid()\n",
    "plt.show()\n",
    "\n",
    "#для построения графика распределения продаж по годам, соберем небольшую таблицу по данным платформы DS\n",
    "platform_dist = data.loc[(data['year_of_release'] != 1900) & (data['platform'] == 'DS')].pivot_table(index='year_of_release',\\\n",
    "                values='total_sales', aggfunc='sum').reset_index().sort_values('year_of_release', ascending=True)\n",
    "\n",
    "#построим диаграмму для количества выпущенных игр по годам\n",
    "index = platform_dist['year_of_release']\n",
    "values = platform_dist['total_sales']\n",
    "\n",
    "fig, ax = plt.subplots()\n",
    "plt.bar(index, values)\n",
    "fig.set_figwidth(15)\n",
    "fig.suptitle('Количество проданных игр по годам для DS (позиция №5 по общим продажам), млн. копий')\n",
    "ax.grid()\n",
    "plt.show()\n",
    "\n",
    "#для построения графика распределения продаж по годам, соберем небольшую таблицу по данным платформы PS\n",
    "platform_dist = data.loc[(data['year_of_release'] != 1900) & (data['platform'] == 'PS')].pivot_table(index='year_of_release',\\\n",
    "                values='total_sales', aggfunc='sum').reset_index().sort_values('year_of_release', ascending=True)\n",
    "\n",
    "#построим диаграмму для количества выпущенных игр по годам\n",
    "index = platform_dist['year_of_release']\n",
    "values = platform_dist['total_sales']\n",
    "\n",
    "fig, ax = plt.subplots()\n",
    "plt.bar(index, values)\n",
    "fig.set_figwidth(15)\n",
    "fig.suptitle('Количество проданных игр по годам для PS (позиция №6 по общим продажам), млн. копий')\n",
    "ax.grid()\n",
    "plt.show()\n",
    "\n",
    "#для построения графика распределения продаж по годам, соберем небольшую таблицу по данным платформы GBA\n",
    "platform_dist = data.loc[(data['year_of_release'] != 1900) & (data['platform'] == 'GBA')].pivot_table(index='year_of_release',\\\n",
    "                values='total_sales', aggfunc='sum').reset_index().sort_values('year_of_release', ascending=True)\n",
    "\n",
    "#построим диаграмму для количества выпущенных игр по годам\n",
    "index = platform_dist['year_of_release']\n",
    "values = platform_dist['total_sales']\n",
    "\n",
    "fig, ax = plt.subplots()\n",
    "plt.bar(index, values)\n",
    "fig.set_figwidth(15)\n",
    "fig.suptitle('Количество проданных игр по годам для GBA (позиция №7 по общим продажам), млн. копий')\n",
    "ax.grid()\n",
    "plt.show()"
   ]
  },
  {
   "cell_type": "markdown",
   "metadata": {},
   "source": [
    "Судя по графикам распределения продаж игр по годам для топовых 7 платформ, мы можем сделать следующие выводы: \n",
    "\n",
    "1. Полный срок жизни консоли стремится к отметке в районе 10 лет\n",
    "2. Наиболее \"продуктивный\" период жизненного цикла 5-7 лет, сосредоточенных вокруг пика (зачастую, 1 пика для всего жизненного цикла)\n",
    "3. На старте и ближе к концу жизненного цикла консоль пересекается со старым и новым поколением соответственно, что дает некое \"оттягивание\" части релизов на другую платформу\n",
    "\n",
    "Во всех случаях, распределение стремится к нормальному. Для платформы Playstation график выглядит практически хрестоматийно. В нашем распоряжении уже имеется таблица `platform_year_check`, которой мы пользовались для определения жизненного цикла каждой платформы и поиска аномалии консоли DS. С ее помощью посчитаем средний срок жизни платформы более точно: "
   ]
  },
  {
   "cell_type": "code",
   "execution_count": 34,
   "metadata": {},
   "outputs": [
    {
     "data": {
      "text/plain": [
       "count    30.000000\n",
       "mean      6.833333\n",
       "std       5.583741\n",
       "min       0.000000\n",
       "25%       3.000000\n",
       "50%       6.000000\n",
       "75%      10.000000\n",
       "max      28.000000\n",
       "Name: life_cycle, dtype: float64"
      ]
     },
     "execution_count": 34,
     "metadata": {},
     "output_type": "execute_result"
    }
   ],
   "source": [
    "#мы знаем, что платформа PC имеет долгий жизненный цикл за счет отсутствия явно выраженных поколений, поэтому 31 год для нее - норма\n",
    "#исключим этот вариант \n",
    "platform_year_check.loc[platform_year_check['life_cycle'] != 31, 'life_cycle'].describe()"
   ]
  },
  {
   "cell_type": "markdown",
   "metadata": {},
   "source": [
    "Мы видим, что средний жизненный цикл платформы - 6.2 года, что несколько меньше значения, которое мы увидели на графиках с продажами на топовых платформах. \n",
    "\n",
    "Однако следует обратить внимание на минимальное время жизни в 0 лет. Это маловероятно для коммерчески успешных платформ, поэтому попробуем взглянуть на \"хвост\" таблицы. "
   ]
  },
  {
   "cell_type": "code",
   "execution_count": 35,
   "metadata": {},
   "outputs": [
    {
     "data": {
      "text/html": [
       "<div>\n",
       "<style scoped>\n",
       "    .dataframe tbody tr th:only-of-type {\n",
       "        vertical-align: middle;\n",
       "    }\n",
       "\n",
       "    .dataframe tbody tr th {\n",
       "        vertical-align: top;\n",
       "    }\n",
       "\n",
       "    .dataframe thead th {\n",
       "        text-align: right;\n",
       "    }\n",
       "</style>\n",
       "<table border=\"1\" class=\"dataframe\">\n",
       "  <thead>\n",
       "    <tr style=\"text-align: right;\">\n",
       "      <th></th>\n",
       "      <th>min_year_of_release</th>\n",
       "      <th>max_year_of_release</th>\n",
       "      <th>life_cycle</th>\n",
       "    </tr>\n",
       "    <tr>\n",
       "      <th>platform</th>\n",
       "      <th></th>\n",
       "      <th></th>\n",
       "      <th></th>\n",
       "    </tr>\n",
       "  </thead>\n",
       "  <tbody>\n",
       "    <tr>\n",
       "      <td>N64</td>\n",
       "      <td>1996</td>\n",
       "      <td>2002</td>\n",
       "      <td>6</td>\n",
       "    </tr>\n",
       "    <tr>\n",
       "      <td>3DS</td>\n",
       "      <td>2011</td>\n",
       "      <td>2016</td>\n",
       "      <td>5</td>\n",
       "    </tr>\n",
       "    <tr>\n",
       "      <td>PSV</td>\n",
       "      <td>2011</td>\n",
       "      <td>2016</td>\n",
       "      <td>5</td>\n",
       "    </tr>\n",
       "    <tr>\n",
       "      <td>SAT</td>\n",
       "      <td>1994</td>\n",
       "      <td>1999</td>\n",
       "      <td>5</td>\n",
       "    </tr>\n",
       "    <tr>\n",
       "      <td>WiiU</td>\n",
       "      <td>2012</td>\n",
       "      <td>2016</td>\n",
       "      <td>4</td>\n",
       "    </tr>\n",
       "    <tr>\n",
       "      <td>GEN</td>\n",
       "      <td>1990</td>\n",
       "      <td>1994</td>\n",
       "      <td>4</td>\n",
       "    </tr>\n",
       "    <tr>\n",
       "      <td>NG</td>\n",
       "      <td>1993</td>\n",
       "      <td>1996</td>\n",
       "      <td>3</td>\n",
       "    </tr>\n",
       "    <tr>\n",
       "      <td>XOne</td>\n",
       "      <td>2013</td>\n",
       "      <td>2016</td>\n",
       "      <td>3</td>\n",
       "    </tr>\n",
       "    <tr>\n",
       "      <td>PS4</td>\n",
       "      <td>2013</td>\n",
       "      <td>2016</td>\n",
       "      <td>3</td>\n",
       "    </tr>\n",
       "    <tr>\n",
       "      <td>WS</td>\n",
       "      <td>1999</td>\n",
       "      <td>2001</td>\n",
       "      <td>2</td>\n",
       "    </tr>\n",
       "    <tr>\n",
       "      <td>3DO</td>\n",
       "      <td>1994</td>\n",
       "      <td>1995</td>\n",
       "      <td>1</td>\n",
       "    </tr>\n",
       "    <tr>\n",
       "      <td>SCD</td>\n",
       "      <td>1993</td>\n",
       "      <td>1994</td>\n",
       "      <td>1</td>\n",
       "    </tr>\n",
       "    <tr>\n",
       "      <td>TG16</td>\n",
       "      <td>1995</td>\n",
       "      <td>1995</td>\n",
       "      <td>0</td>\n",
       "    </tr>\n",
       "    <tr>\n",
       "      <td>PCFX</td>\n",
       "      <td>1996</td>\n",
       "      <td>1996</td>\n",
       "      <td>0</td>\n",
       "    </tr>\n",
       "    <tr>\n",
       "      <td>GG</td>\n",
       "      <td>1992</td>\n",
       "      <td>1992</td>\n",
       "      <td>0</td>\n",
       "    </tr>\n",
       "  </tbody>\n",
       "</table>\n",
       "</div>"
      ],
      "text/plain": [
       "          min_year_of_release  max_year_of_release  life_cycle\n",
       "platform                                                      \n",
       "N64                      1996                 2002           6\n",
       "3DS                      2011                 2016           5\n",
       "PSV                      2011                 2016           5\n",
       "SAT                      1994                 1999           5\n",
       "WiiU                     2012                 2016           4\n",
       "GEN                      1990                 1994           4\n",
       "NG                       1993                 1996           3\n",
       "XOne                     2013                 2016           3\n",
       "PS4                      2013                 2016           3\n",
       "WS                       1999                 2001           2\n",
       "3DO                      1994                 1995           1\n",
       "SCD                      1993                 1994           1\n",
       "TG16                     1995                 1995           0\n",
       "PCFX                     1996                 1996           0\n",
       "GG                       1992                 1992           0"
      ]
     },
     "execution_count": 35,
     "metadata": {},
     "output_type": "execute_result"
    }
   ],
   "source": [
    "platform_year_check.tail(15)"
   ]
  },
  {
   "cell_type": "markdown",
   "metadata": {},
   "source": [
    "В 15 записях таблицы с \"хвоста\" мы видим два типа игровых платформ:\n",
    "\n",
    "1. Консоли, у которых минимальный год релиза игр приходится на 90е годы при очень коротком жизненном цикле (0-4) года - такие платформы мы классифицируем как \"провалы\", данные которых нерелевантны для целей исследования\n",
    "2. Консоли, у которых максимальный год релиза игр совпадает с актуальным на момент выгрузки годом (2016) - это актуальное поколение консолей\n",
    "\n",
    "Поэтому для определения среднего срока жизни мы избавимся от провалов."
   ]
  },
  {
   "cell_type": "code",
   "execution_count": 36,
   "metadata": {},
   "outputs": [],
   "source": [
    "def failed_platforms_search(row): \n",
    "    if row['life_cycle'] <= 4 and row['max_year_of_release'] < 2016: #определим явные коммерческие провалы\n",
    "        row['platform_success'] = 'Коммерческий провал'\n",
    "    elif row['life_cycle'] > 4 and row['platform'] != 'PC' and row['max_year_of_release'] < 2016: #определим неактуальные платформы\n",
    "        row['platform_success'] = 'Неактуально'\n",
    "    elif row['life_cycle'] > 4 and row['life_cycle'] > 8 and row['platform'] != 'PC' and row['max_year_of_release'] == 2016:\n",
    "        row['platform_success'] = 'Потенциально неактуально'\n",
    "    else: #определим актуальные платформы\n",
    "        row['platform_success'] = 'Актуально'\n",
    "    return row"
   ]
  },
  {
   "cell_type": "code",
   "execution_count": 37,
   "metadata": {},
   "outputs": [
    {
     "data": {
      "text/html": [
       "<div>\n",
       "<style scoped>\n",
       "    .dataframe tbody tr th:only-of-type {\n",
       "        vertical-align: middle;\n",
       "    }\n",
       "\n",
       "    .dataframe tbody tr th {\n",
       "        vertical-align: top;\n",
       "    }\n",
       "\n",
       "    .dataframe thead th {\n",
       "        text-align: right;\n",
       "    }\n",
       "</style>\n",
       "<table border=\"1\" class=\"dataframe\">\n",
       "  <thead>\n",
       "    <tr style=\"text-align: right;\">\n",
       "      <th></th>\n",
       "      <th>platform</th>\n",
       "      <th>min_year_of_release</th>\n",
       "      <th>max_year_of_release</th>\n",
       "      <th>life_cycle</th>\n",
       "      <th>platform_success</th>\n",
       "    </tr>\n",
       "  </thead>\n",
       "  <tbody>\n",
       "    <tr>\n",
       "      <td>0</td>\n",
       "      <td>PC</td>\n",
       "      <td>1985</td>\n",
       "      <td>2016</td>\n",
       "      <td>31</td>\n",
       "      <td>Актуально</td>\n",
       "    </tr>\n",
       "    <tr>\n",
       "      <td>1</td>\n",
       "      <td>GB</td>\n",
       "      <td>1988</td>\n",
       "      <td>2001</td>\n",
       "      <td>13</td>\n",
       "      <td>Неактуально</td>\n",
       "    </tr>\n",
       "    <tr>\n",
       "      <td>2</td>\n",
       "      <td>NES</td>\n",
       "      <td>1983</td>\n",
       "      <td>1994</td>\n",
       "      <td>11</td>\n",
       "      <td>Неактуально</td>\n",
       "    </tr>\n",
       "    <tr>\n",
       "      <td>3</td>\n",
       "      <td>X360</td>\n",
       "      <td>2005</td>\n",
       "      <td>2016</td>\n",
       "      <td>11</td>\n",
       "      <td>Потенциально неактуально</td>\n",
       "    </tr>\n",
       "    <tr>\n",
       "      <td>4</td>\n",
       "      <td>PSP</td>\n",
       "      <td>2004</td>\n",
       "      <td>2015</td>\n",
       "      <td>11</td>\n",
       "      <td>Неактуально</td>\n",
       "    </tr>\n",
       "    <tr>\n",
       "      <td>5</td>\n",
       "      <td>PS2</td>\n",
       "      <td>2000</td>\n",
       "      <td>2011</td>\n",
       "      <td>11</td>\n",
       "      <td>Неактуально</td>\n",
       "    </tr>\n",
       "    <tr>\n",
       "      <td>6</td>\n",
       "      <td>DC</td>\n",
       "      <td>1998</td>\n",
       "      <td>2008</td>\n",
       "      <td>10</td>\n",
       "      <td>Неактуально</td>\n",
       "    </tr>\n",
       "    <tr>\n",
       "      <td>7</td>\n",
       "      <td>Wii</td>\n",
       "      <td>2006</td>\n",
       "      <td>2016</td>\n",
       "      <td>10</td>\n",
       "      <td>Потенциально неактуально</td>\n",
       "    </tr>\n",
       "    <tr>\n",
       "      <td>8</td>\n",
       "      <td>PS3</td>\n",
       "      <td>2006</td>\n",
       "      <td>2016</td>\n",
       "      <td>10</td>\n",
       "      <td>Потенциально неактуально</td>\n",
       "    </tr>\n",
       "    <tr>\n",
       "      <td>9</td>\n",
       "      <td>2600</td>\n",
       "      <td>1980</td>\n",
       "      <td>1989</td>\n",
       "      <td>9</td>\n",
       "      <td>Неактуально</td>\n",
       "    </tr>\n",
       "    <tr>\n",
       "      <td>10</td>\n",
       "      <td>SNES</td>\n",
       "      <td>1990</td>\n",
       "      <td>1999</td>\n",
       "      <td>9</td>\n",
       "      <td>Неактуально</td>\n",
       "    </tr>\n",
       "    <tr>\n",
       "      <td>11</td>\n",
       "      <td>PS</td>\n",
       "      <td>1994</td>\n",
       "      <td>2003</td>\n",
       "      <td>9</td>\n",
       "      <td>Неактуально</td>\n",
       "    </tr>\n",
       "    <tr>\n",
       "      <td>12</td>\n",
       "      <td>DS</td>\n",
       "      <td>2004</td>\n",
       "      <td>2013</td>\n",
       "      <td>9</td>\n",
       "      <td>Неактуально</td>\n",
       "    </tr>\n",
       "    <tr>\n",
       "      <td>13</td>\n",
       "      <td>XB</td>\n",
       "      <td>2000</td>\n",
       "      <td>2008</td>\n",
       "      <td>8</td>\n",
       "      <td>Неактуально</td>\n",
       "    </tr>\n",
       "    <tr>\n",
       "      <td>14</td>\n",
       "      <td>GBA</td>\n",
       "      <td>2000</td>\n",
       "      <td>2007</td>\n",
       "      <td>7</td>\n",
       "      <td>Неактуально</td>\n",
       "    </tr>\n",
       "    <tr>\n",
       "      <td>15</td>\n",
       "      <td>GC</td>\n",
       "      <td>2001</td>\n",
       "      <td>2007</td>\n",
       "      <td>6</td>\n",
       "      <td>Неактуально</td>\n",
       "    </tr>\n",
       "    <tr>\n",
       "      <td>16</td>\n",
       "      <td>N64</td>\n",
       "      <td>1996</td>\n",
       "      <td>2002</td>\n",
       "      <td>6</td>\n",
       "      <td>Неактуально</td>\n",
       "    </tr>\n",
       "    <tr>\n",
       "      <td>17</td>\n",
       "      <td>SAT</td>\n",
       "      <td>1994</td>\n",
       "      <td>1999</td>\n",
       "      <td>5</td>\n",
       "      <td>Неактуально</td>\n",
       "    </tr>\n",
       "    <tr>\n",
       "      <td>18</td>\n",
       "      <td>3DS</td>\n",
       "      <td>2011</td>\n",
       "      <td>2016</td>\n",
       "      <td>5</td>\n",
       "      <td>Актуально</td>\n",
       "    </tr>\n",
       "    <tr>\n",
       "      <td>19</td>\n",
       "      <td>PSV</td>\n",
       "      <td>2011</td>\n",
       "      <td>2016</td>\n",
       "      <td>5</td>\n",
       "      <td>Актуально</td>\n",
       "    </tr>\n",
       "    <tr>\n",
       "      <td>20</td>\n",
       "      <td>WiiU</td>\n",
       "      <td>2012</td>\n",
       "      <td>2016</td>\n",
       "      <td>4</td>\n",
       "      <td>Актуально</td>\n",
       "    </tr>\n",
       "    <tr>\n",
       "      <td>21</td>\n",
       "      <td>GEN</td>\n",
       "      <td>1990</td>\n",
       "      <td>1994</td>\n",
       "      <td>4</td>\n",
       "      <td>Коммерческий провал</td>\n",
       "    </tr>\n",
       "    <tr>\n",
       "      <td>22</td>\n",
       "      <td>NG</td>\n",
       "      <td>1993</td>\n",
       "      <td>1996</td>\n",
       "      <td>3</td>\n",
       "      <td>Коммерческий провал</td>\n",
       "    </tr>\n",
       "    <tr>\n",
       "      <td>23</td>\n",
       "      <td>PS4</td>\n",
       "      <td>2013</td>\n",
       "      <td>2016</td>\n",
       "      <td>3</td>\n",
       "      <td>Актуально</td>\n",
       "    </tr>\n",
       "    <tr>\n",
       "      <td>24</td>\n",
       "      <td>XOne</td>\n",
       "      <td>2013</td>\n",
       "      <td>2016</td>\n",
       "      <td>3</td>\n",
       "      <td>Актуально</td>\n",
       "    </tr>\n",
       "    <tr>\n",
       "      <td>25</td>\n",
       "      <td>WS</td>\n",
       "      <td>1999</td>\n",
       "      <td>2001</td>\n",
       "      <td>2</td>\n",
       "      <td>Коммерческий провал</td>\n",
       "    </tr>\n",
       "    <tr>\n",
       "      <td>26</td>\n",
       "      <td>SCD</td>\n",
       "      <td>1993</td>\n",
       "      <td>1994</td>\n",
       "      <td>1</td>\n",
       "      <td>Коммерческий провал</td>\n",
       "    </tr>\n",
       "    <tr>\n",
       "      <td>27</td>\n",
       "      <td>3DO</td>\n",
       "      <td>1994</td>\n",
       "      <td>1995</td>\n",
       "      <td>1</td>\n",
       "      <td>Коммерческий провал</td>\n",
       "    </tr>\n",
       "    <tr>\n",
       "      <td>28</td>\n",
       "      <td>TG16</td>\n",
       "      <td>1995</td>\n",
       "      <td>1995</td>\n",
       "      <td>0</td>\n",
       "      <td>Коммерческий провал</td>\n",
       "    </tr>\n",
       "    <tr>\n",
       "      <td>29</td>\n",
       "      <td>GG</td>\n",
       "      <td>1992</td>\n",
       "      <td>1992</td>\n",
       "      <td>0</td>\n",
       "      <td>Коммерческий провал</td>\n",
       "    </tr>\n",
       "    <tr>\n",
       "      <td>30</td>\n",
       "      <td>PCFX</td>\n",
       "      <td>1996</td>\n",
       "      <td>1996</td>\n",
       "      <td>0</td>\n",
       "      <td>Коммерческий провал</td>\n",
       "    </tr>\n",
       "  </tbody>\n",
       "</table>\n",
       "</div>"
      ],
      "text/plain": [
       "   platform  min_year_of_release  max_year_of_release  life_cycle  \\\n",
       "0        PC                 1985                 2016          31   \n",
       "1        GB                 1988                 2001          13   \n",
       "2       NES                 1983                 1994          11   \n",
       "3      X360                 2005                 2016          11   \n",
       "4       PSP                 2004                 2015          11   \n",
       "5       PS2                 2000                 2011          11   \n",
       "6        DC                 1998                 2008          10   \n",
       "7       Wii                 2006                 2016          10   \n",
       "8       PS3                 2006                 2016          10   \n",
       "9      2600                 1980                 1989           9   \n",
       "10     SNES                 1990                 1999           9   \n",
       "11       PS                 1994                 2003           9   \n",
       "12       DS                 2004                 2013           9   \n",
       "13       XB                 2000                 2008           8   \n",
       "14      GBA                 2000                 2007           7   \n",
       "15       GC                 2001                 2007           6   \n",
       "16      N64                 1996                 2002           6   \n",
       "17      SAT                 1994                 1999           5   \n",
       "18      3DS                 2011                 2016           5   \n",
       "19      PSV                 2011                 2016           5   \n",
       "20     WiiU                 2012                 2016           4   \n",
       "21      GEN                 1990                 1994           4   \n",
       "22       NG                 1993                 1996           3   \n",
       "23      PS4                 2013                 2016           3   \n",
       "24     XOne                 2013                 2016           3   \n",
       "25       WS                 1999                 2001           2   \n",
       "26      SCD                 1993                 1994           1   \n",
       "27      3DO                 1994                 1995           1   \n",
       "28     TG16                 1995                 1995           0   \n",
       "29       GG                 1992                 1992           0   \n",
       "30     PCFX                 1996                 1996           0   \n",
       "\n",
       "            platform_success  \n",
       "0                  Актуально  \n",
       "1                Неактуально  \n",
       "2                Неактуально  \n",
       "3   Потенциально неактуально  \n",
       "4                Неактуально  \n",
       "5                Неактуально  \n",
       "6                Неактуально  \n",
       "7   Потенциально неактуально  \n",
       "8   Потенциально неактуально  \n",
       "9                Неактуально  \n",
       "10               Неактуально  \n",
       "11               Неактуально  \n",
       "12               Неактуально  \n",
       "13               Неактуально  \n",
       "14               Неактуально  \n",
       "15               Неактуально  \n",
       "16               Неактуально  \n",
       "17               Неактуально  \n",
       "18                 Актуально  \n",
       "19                 Актуально  \n",
       "20                 Актуально  \n",
       "21       Коммерческий провал  \n",
       "22       Коммерческий провал  \n",
       "23                 Актуально  \n",
       "24                 Актуально  \n",
       "25       Коммерческий провал  \n",
       "26       Коммерческий провал  \n",
       "27       Коммерческий провал  \n",
       "28       Коммерческий провал  \n",
       "29       Коммерческий провал  \n",
       "30       Коммерческий провал  "
      ]
     },
     "execution_count": 37,
     "metadata": {},
     "output_type": "execute_result"
    }
   ],
   "source": [
    "#повторно используем фрагмент кода для формирования таблицы с расчетов жизненного цикла платформ с учетом исправления\n",
    "#которое мы внесли во время предобработки\n",
    "platform_year_check = data.loc[data['year_of_release'] != 1900]\\\n",
    ".pivot_table(index='platform', values='year_of_release', aggfunc=['min', 'max'])\n",
    "platform_year_check.columns=['min_year_of_release', 'max_year_of_release']\n",
    "platform_year_check['life_cycle'] = platform_year_check['max_year_of_release'] - platform_year_check['min_year_of_release']\n",
    "platform_year_check = platform_year_check.sort_values('life_cycle', ascending=False)\n",
    "\n",
    "platform_year_check = platform_year_check.reset_index()\n",
    "platform_year_check.apply(failed_platforms_search, axis=1)"
   ]
  },
  {
   "cell_type": "code",
   "execution_count": 38,
   "metadata": {},
   "outputs": [
    {
     "data": {
      "text/html": [
       "<div>\n",
       "<style scoped>\n",
       "    .dataframe tbody tr th:only-of-type {\n",
       "        vertical-align: middle;\n",
       "    }\n",
       "\n",
       "    .dataframe tbody tr th {\n",
       "        vertical-align: top;\n",
       "    }\n",
       "\n",
       "    .dataframe thead th {\n",
       "        text-align: right;\n",
       "    }\n",
       "</style>\n",
       "<table border=\"1\" class=\"dataframe\">\n",
       "  <thead>\n",
       "    <tr style=\"text-align: right;\">\n",
       "      <th></th>\n",
       "      <th>platform</th>\n",
       "    </tr>\n",
       "    <tr>\n",
       "      <th>platform_success</th>\n",
       "      <th></th>\n",
       "    </tr>\n",
       "  </thead>\n",
       "  <tbody>\n",
       "    <tr>\n",
       "      <td>Актуально</td>\n",
       "      <td>6</td>\n",
       "    </tr>\n",
       "    <tr>\n",
       "      <td>Коммерческий провал</td>\n",
       "      <td>8</td>\n",
       "    </tr>\n",
       "    <tr>\n",
       "      <td>Неактуально</td>\n",
       "      <td>14</td>\n",
       "    </tr>\n",
       "    <tr>\n",
       "      <td>Потенциально неактуально</td>\n",
       "      <td>3</td>\n",
       "    </tr>\n",
       "  </tbody>\n",
       "</table>\n",
       "</div>"
      ],
      "text/plain": [
       "                          platform\n",
       "platform_success                  \n",
       "Актуально                        6\n",
       "Коммерческий провал              8\n",
       "Неактуально                     14\n",
       "Потенциально неактуально         3"
      ]
     },
     "execution_count": 38,
     "metadata": {},
     "output_type": "execute_result"
    }
   ],
   "source": [
    "platform_year_check = platform_year_check.apply(failed_platforms_search, axis=1)\n",
    "platform_year_check.pivot_table(index='platform_success', values='platform', aggfunc='count')"
   ]
  },
  {
   "cell_type": "code",
   "execution_count": 39,
   "metadata": {},
   "outputs": [
    {
     "data": {
      "text/plain": [
       "count    17.000000\n",
       "mean      9.117647\n",
       "std       2.147160\n",
       "min       5.000000\n",
       "25%       8.000000\n",
       "50%       9.000000\n",
       "75%      11.000000\n",
       "max      13.000000\n",
       "Name: life_cycle, dtype: float64"
      ]
     },
     "execution_count": 39,
     "metadata": {},
     "output_type": "execute_result"
    }
   ],
   "source": [
    "#теперь скорректируем таблицу для расчета среднего срока жизни платформы, посмотрим на среднее для релевантных записей\n",
    "platform_year_check.loc[(platform_year_check['platform_success'] == 'Неактуально') | \\\n",
    "                        (platform_year_check['platform_success'] == 'Потенциально неактуально'), 'life_cycle'].describe()"
   ]
  },
  {
   "cell_type": "markdown",
   "metadata": {},
   "source": [
    "Мы видим: \n",
    "\n",
    "1. Среднее время жизни платформы 9.1 года. Для простоты будем считать, что платформа \"живет\" 9 лет\n",
    "2. Стандартное отклонение 2.15 года. Другими словами, около 70% всех платформ живут в диапазоне 7-11 лет"
   ]
  },
  {
   "cell_type": "code",
   "execution_count": 40,
   "metadata": {},
   "outputs": [],
   "source": [
    "games_per_year = data.loc[data['year_of_release'] != 1900].pivot_table(index='platform', columns='year_of_release',\\\n",
    "                                                                      values='total_sales', aggfunc='sum').fillna(0)"
   ]
  },
  {
   "cell_type": "code",
   "execution_count": 41,
   "metadata": {},
   "outputs": [],
   "source": [
    "#функиця для расчета \"активного\" жизненного цикла платформы\n",
    "#в качестве \"активно\" цикла используем значение по принципу правила Парето - годы, в которые продано 80 или более процентов\n",
    "#копий игр\n",
    "def active_life_cycle_counter(row):\n",
    "    platform_total_sales = 0 #переменная для записи суммы продаж\n",
    "    portions = [] #список для хранения доли продаж за каждый год\n",
    "    active_life_cycle = 0 #переменная для поиска значения равное или большее 80%\n",
    "    active_life_cycle_c = 0 #счетчик количества \"активных\" лет\n",
    "    for i in range (1980, 2017): #перебираем годы для каждой строки\n",
    "        if row[i] > 0: #если продажи больше нуля, добавляем значение к сумме\n",
    "            platform_total_sales += row[i]\n",
    "        else:\n",
    "            continue\n",
    "    for i in range (1980, 2017): #далее для каждой строки конвертируем сумму продаж в долю от общих продаж\n",
    "        if row[i] > 0:\n",
    "            row[i] = row[i] / platform_total_sales\n",
    "        else:\n",
    "            continue\n",
    "    for i in range (1980, 2017): #далее перебираем значения долей в строке и, если значение большу нуля, добавляем его в список\n",
    "        if row[i] > 0:\n",
    "            portions.append(row[i])\n",
    "    portions = sorted(portions, reverse=True) #чтобы продажи считали не с левого края распределения, а от моды, сортируем список по убыванию\n",
    "    for portion in portions: #перебираем значения списка, пока не получим суммарную долю равную или больше 80%\n",
    "        while active_life_cycle < 0.8:\n",
    "            active_life_cycle += portion\n",
    "            active_life_cycle_c += 1\n",
    "        row['active_life_cycle'] = active_life_cycle_c #в новый столбец возвращаем количество записей из списка - это \"активные\" годы\n",
    "    return row"
   ]
  },
  {
   "cell_type": "code",
   "execution_count": 42,
   "metadata": {},
   "outputs": [],
   "source": [
    "#применяем функцию и присоединяем результат расчета к существующей таблице с расчетом жизненного цикла платформы\n",
    "games_per_year = games_per_year.apply(active_life_cycle_counter, axis=1)\n",
    "platform_year_check = platform_year_check.join(games_per_year, on='platform')[['platform', 'min_year_of_release', \\\n",
    "'max_year_of_release', 'life_cycle', 'active_life_cycle', 'platform_success']]\n",
    "platform_year_check['active_life_cycle'] = platform_year_check['active_life_cycle'].astype(int)"
   ]
  },
  {
   "cell_type": "code",
   "execution_count": 43,
   "metadata": {},
   "outputs": [
    {
     "data": {
      "text/html": [
       "<div>\n",
       "<style scoped>\n",
       "    .dataframe tbody tr th:only-of-type {\n",
       "        vertical-align: middle;\n",
       "    }\n",
       "\n",
       "    .dataframe tbody tr th {\n",
       "        vertical-align: top;\n",
       "    }\n",
       "\n",
       "    .dataframe thead th {\n",
       "        text-align: right;\n",
       "    }\n",
       "</style>\n",
       "<table border=\"1\" class=\"dataframe\">\n",
       "  <thead>\n",
       "    <tr style=\"text-align: right;\">\n",
       "      <th></th>\n",
       "      <th>platform</th>\n",
       "      <th>min_year_of_release</th>\n",
       "      <th>max_year_of_release</th>\n",
       "      <th>life_cycle</th>\n",
       "      <th>active_life_cycle</th>\n",
       "      <th>platform_success</th>\n",
       "    </tr>\n",
       "  </thead>\n",
       "  <tbody>\n",
       "    <tr>\n",
       "      <td>0</td>\n",
       "      <td>PC</td>\n",
       "      <td>1985</td>\n",
       "      <td>2016</td>\n",
       "      <td>31</td>\n",
       "      <td>6</td>\n",
       "      <td>Актуально</td>\n",
       "    </tr>\n",
       "    <tr>\n",
       "      <td>1</td>\n",
       "      <td>GB</td>\n",
       "      <td>1988</td>\n",
       "      <td>2001</td>\n",
       "      <td>13</td>\n",
       "      <td>4</td>\n",
       "      <td>Неактуально</td>\n",
       "    </tr>\n",
       "    <tr>\n",
       "      <td>2</td>\n",
       "      <td>NES</td>\n",
       "      <td>1983</td>\n",
       "      <td>1994</td>\n",
       "      <td>11</td>\n",
       "      <td>4</td>\n",
       "      <td>Неактуально</td>\n",
       "    </tr>\n",
       "    <tr>\n",
       "      <td>3</td>\n",
       "      <td>X360</td>\n",
       "      <td>2005</td>\n",
       "      <td>2016</td>\n",
       "      <td>11</td>\n",
       "      <td>5</td>\n",
       "      <td>Потенциально неактуально</td>\n",
       "    </tr>\n",
       "    <tr>\n",
       "      <td>4</td>\n",
       "      <td>PSP</td>\n",
       "      <td>2004</td>\n",
       "      <td>2015</td>\n",
       "      <td>11</td>\n",
       "      <td>5</td>\n",
       "      <td>Неактуально</td>\n",
       "    </tr>\n",
       "    <tr>\n",
       "      <td>5</td>\n",
       "      <td>PS2</td>\n",
       "      <td>2000</td>\n",
       "      <td>2011</td>\n",
       "      <td>11</td>\n",
       "      <td>5</td>\n",
       "      <td>Неактуально</td>\n",
       "    </tr>\n",
       "    <tr>\n",
       "      <td>6</td>\n",
       "      <td>DC</td>\n",
       "      <td>1998</td>\n",
       "      <td>2008</td>\n",
       "      <td>10</td>\n",
       "      <td>3</td>\n",
       "      <td>Неактуально</td>\n",
       "    </tr>\n",
       "    <tr>\n",
       "      <td>7</td>\n",
       "      <td>Wii</td>\n",
       "      <td>2006</td>\n",
       "      <td>2016</td>\n",
       "      <td>10</td>\n",
       "      <td>4</td>\n",
       "      <td>Потенциально неактуально</td>\n",
       "    </tr>\n",
       "    <tr>\n",
       "      <td>8</td>\n",
       "      <td>PS3</td>\n",
       "      <td>2006</td>\n",
       "      <td>2016</td>\n",
       "      <td>10</td>\n",
       "      <td>5</td>\n",
       "      <td>Потенциально неактуально</td>\n",
       "    </tr>\n",
       "    <tr>\n",
       "      <td>9</td>\n",
       "      <td>2600</td>\n",
       "      <td>1980</td>\n",
       "      <td>1989</td>\n",
       "      <td>9</td>\n",
       "      <td>2</td>\n",
       "      <td>Неактуально</td>\n",
       "    </tr>\n",
       "    <tr>\n",
       "      <td>10</td>\n",
       "      <td>SNES</td>\n",
       "      <td>1990</td>\n",
       "      <td>1999</td>\n",
       "      <td>9</td>\n",
       "      <td>4</td>\n",
       "      <td>Неактуально</td>\n",
       "    </tr>\n",
       "    <tr>\n",
       "      <td>11</td>\n",
       "      <td>PS</td>\n",
       "      <td>1994</td>\n",
       "      <td>2003</td>\n",
       "      <td>9</td>\n",
       "      <td>4</td>\n",
       "      <td>Неактуально</td>\n",
       "    </tr>\n",
       "    <tr>\n",
       "      <td>12</td>\n",
       "      <td>DS</td>\n",
       "      <td>2004</td>\n",
       "      <td>2013</td>\n",
       "      <td>9</td>\n",
       "      <td>5</td>\n",
       "      <td>Неактуально</td>\n",
       "    </tr>\n",
       "    <tr>\n",
       "      <td>13</td>\n",
       "      <td>XB</td>\n",
       "      <td>2000</td>\n",
       "      <td>2008</td>\n",
       "      <td>8</td>\n",
       "      <td>4</td>\n",
       "      <td>Неактуально</td>\n",
       "    </tr>\n",
       "    <tr>\n",
       "      <td>14</td>\n",
       "      <td>GBA</td>\n",
       "      <td>2000</td>\n",
       "      <td>2007</td>\n",
       "      <td>7</td>\n",
       "      <td>4</td>\n",
       "      <td>Неактуально</td>\n",
       "    </tr>\n",
       "    <tr>\n",
       "      <td>15</td>\n",
       "      <td>GC</td>\n",
       "      <td>2001</td>\n",
       "      <td>2007</td>\n",
       "      <td>6</td>\n",
       "      <td>4</td>\n",
       "      <td>Неактуально</td>\n",
       "    </tr>\n",
       "    <tr>\n",
       "      <td>16</td>\n",
       "      <td>N64</td>\n",
       "      <td>1996</td>\n",
       "      <td>2002</td>\n",
       "      <td>6</td>\n",
       "      <td>4</td>\n",
       "      <td>Неактуально</td>\n",
       "    </tr>\n",
       "    <tr>\n",
       "      <td>17</td>\n",
       "      <td>SAT</td>\n",
       "      <td>1994</td>\n",
       "      <td>1999</td>\n",
       "      <td>5</td>\n",
       "      <td>3</td>\n",
       "      <td>Неактуально</td>\n",
       "    </tr>\n",
       "    <tr>\n",
       "      <td>18</td>\n",
       "      <td>3DS</td>\n",
       "      <td>2011</td>\n",
       "      <td>2016</td>\n",
       "      <td>5</td>\n",
       "      <td>4</td>\n",
       "      <td>Актуально</td>\n",
       "    </tr>\n",
       "    <tr>\n",
       "      <td>19</td>\n",
       "      <td>PSV</td>\n",
       "      <td>2011</td>\n",
       "      <td>2016</td>\n",
       "      <td>5</td>\n",
       "      <td>3</td>\n",
       "      <td>Актуально</td>\n",
       "    </tr>\n",
       "    <tr>\n",
       "      <td>20</td>\n",
       "      <td>WiiU</td>\n",
       "      <td>2012</td>\n",
       "      <td>2016</td>\n",
       "      <td>4</td>\n",
       "      <td>3</td>\n",
       "      <td>Актуально</td>\n",
       "    </tr>\n",
       "    <tr>\n",
       "      <td>21</td>\n",
       "      <td>GEN</td>\n",
       "      <td>1990</td>\n",
       "      <td>1994</td>\n",
       "      <td>4</td>\n",
       "      <td>2</td>\n",
       "      <td>Коммерческий провал</td>\n",
       "    </tr>\n",
       "    <tr>\n",
       "      <td>22</td>\n",
       "      <td>NG</td>\n",
       "      <td>1993</td>\n",
       "      <td>1996</td>\n",
       "      <td>3</td>\n",
       "      <td>2</td>\n",
       "      <td>Коммерческий провал</td>\n",
       "    </tr>\n",
       "    <tr>\n",
       "      <td>23</td>\n",
       "      <td>PS4</td>\n",
       "      <td>2013</td>\n",
       "      <td>2016</td>\n",
       "      <td>3</td>\n",
       "      <td>3</td>\n",
       "      <td>Актуально</td>\n",
       "    </tr>\n",
       "    <tr>\n",
       "      <td>24</td>\n",
       "      <td>XOne</td>\n",
       "      <td>2013</td>\n",
       "      <td>2016</td>\n",
       "      <td>3</td>\n",
       "      <td>3</td>\n",
       "      <td>Актуально</td>\n",
       "    </tr>\n",
       "    <tr>\n",
       "      <td>25</td>\n",
       "      <td>WS</td>\n",
       "      <td>1999</td>\n",
       "      <td>2001</td>\n",
       "      <td>2</td>\n",
       "      <td>2</td>\n",
       "      <td>Коммерческий провал</td>\n",
       "    </tr>\n",
       "    <tr>\n",
       "      <td>26</td>\n",
       "      <td>SCD</td>\n",
       "      <td>1993</td>\n",
       "      <td>1994</td>\n",
       "      <td>1</td>\n",
       "      <td>1</td>\n",
       "      <td>Коммерческий провал</td>\n",
       "    </tr>\n",
       "    <tr>\n",
       "      <td>27</td>\n",
       "      <td>3DO</td>\n",
       "      <td>1994</td>\n",
       "      <td>1995</td>\n",
       "      <td>1</td>\n",
       "      <td>2</td>\n",
       "      <td>Коммерческий провал</td>\n",
       "    </tr>\n",
       "    <tr>\n",
       "      <td>28</td>\n",
       "      <td>TG16</td>\n",
       "      <td>1995</td>\n",
       "      <td>1995</td>\n",
       "      <td>0</td>\n",
       "      <td>1</td>\n",
       "      <td>Коммерческий провал</td>\n",
       "    </tr>\n",
       "    <tr>\n",
       "      <td>29</td>\n",
       "      <td>GG</td>\n",
       "      <td>1992</td>\n",
       "      <td>1992</td>\n",
       "      <td>0</td>\n",
       "      <td>1</td>\n",
       "      <td>Коммерческий провал</td>\n",
       "    </tr>\n",
       "    <tr>\n",
       "      <td>30</td>\n",
       "      <td>PCFX</td>\n",
       "      <td>1996</td>\n",
       "      <td>1996</td>\n",
       "      <td>0</td>\n",
       "      <td>1</td>\n",
       "      <td>Коммерческий провал</td>\n",
       "    </tr>\n",
       "  </tbody>\n",
       "</table>\n",
       "</div>"
      ],
      "text/plain": [
       "   platform  min_year_of_release  max_year_of_release  life_cycle  \\\n",
       "0        PC                 1985                 2016          31   \n",
       "1        GB                 1988                 2001          13   \n",
       "2       NES                 1983                 1994          11   \n",
       "3      X360                 2005                 2016          11   \n",
       "4       PSP                 2004                 2015          11   \n",
       "5       PS2                 2000                 2011          11   \n",
       "6        DC                 1998                 2008          10   \n",
       "7       Wii                 2006                 2016          10   \n",
       "8       PS3                 2006                 2016          10   \n",
       "9      2600                 1980                 1989           9   \n",
       "10     SNES                 1990                 1999           9   \n",
       "11       PS                 1994                 2003           9   \n",
       "12       DS                 2004                 2013           9   \n",
       "13       XB                 2000                 2008           8   \n",
       "14      GBA                 2000                 2007           7   \n",
       "15       GC                 2001                 2007           6   \n",
       "16      N64                 1996                 2002           6   \n",
       "17      SAT                 1994                 1999           5   \n",
       "18      3DS                 2011                 2016           5   \n",
       "19      PSV                 2011                 2016           5   \n",
       "20     WiiU                 2012                 2016           4   \n",
       "21      GEN                 1990                 1994           4   \n",
       "22       NG                 1993                 1996           3   \n",
       "23      PS4                 2013                 2016           3   \n",
       "24     XOne                 2013                 2016           3   \n",
       "25       WS                 1999                 2001           2   \n",
       "26      SCD                 1993                 1994           1   \n",
       "27      3DO                 1994                 1995           1   \n",
       "28     TG16                 1995                 1995           0   \n",
       "29       GG                 1992                 1992           0   \n",
       "30     PCFX                 1996                 1996           0   \n",
       "\n",
       "    active_life_cycle          platform_success  \n",
       "0                   6                 Актуально  \n",
       "1                   4               Неактуально  \n",
       "2                   4               Неактуально  \n",
       "3                   5  Потенциально неактуально  \n",
       "4                   5               Неактуально  \n",
       "5                   5               Неактуально  \n",
       "6                   3               Неактуально  \n",
       "7                   4  Потенциально неактуально  \n",
       "8                   5  Потенциально неактуально  \n",
       "9                   2               Неактуально  \n",
       "10                  4               Неактуально  \n",
       "11                  4               Неактуально  \n",
       "12                  5               Неактуально  \n",
       "13                  4               Неактуально  \n",
       "14                  4               Неактуально  \n",
       "15                  4               Неактуально  \n",
       "16                  4               Неактуально  \n",
       "17                  3               Неактуально  \n",
       "18                  4                 Актуально  \n",
       "19                  3                 Актуально  \n",
       "20                  3                 Актуально  \n",
       "21                  2       Коммерческий провал  \n",
       "22                  2       Коммерческий провал  \n",
       "23                  3                 Актуально  \n",
       "24                  3                 Актуально  \n",
       "25                  2       Коммерческий провал  \n",
       "26                  1       Коммерческий провал  \n",
       "27                  2       Коммерческий провал  \n",
       "28                  1       Коммерческий провал  \n",
       "29                  1       Коммерческий провал  \n",
       "30                  1       Коммерческий провал  "
      ]
     },
     "execution_count": 43,
     "metadata": {},
     "output_type": "execute_result"
    }
   ],
   "source": [
    "platform_year_check"
   ]
  },
  {
   "cell_type": "markdown",
   "metadata": {},
   "source": [
    "Мы получили таблицу с полный жизненным циклом платформы и ее \"активным\" жизненным циклом. \n",
    "\n",
    "В \"подвале\" таблицы есть несколько строк, у которых \"активный\" срок жизни больше общего срока жизни. Это связано с особенностями подсчета: общий срок жизни - это разность между датой самого свежего релиза и самого старого релиза, поэтому идентичные годы дают в результате ноль - это признак \"провала\" платформы. Но это для нас не принципиально, так как для определения \"актуального\" периода для текущих платформ мы не будем использовать статистику провальных платформ."
   ]
  },
  {
   "cell_type": "code",
   "execution_count": 44,
   "metadata": {},
   "outputs": [
    {
     "data": {
      "text/plain": [
       "count    17.000000\n",
       "mean      4.058824\n",
       "std       0.826936\n",
       "min       2.000000\n",
       "25%       4.000000\n",
       "50%       4.000000\n",
       "75%       5.000000\n",
       "max       5.000000\n",
       "Name: active_life_cycle, dtype: float64"
      ]
     },
     "execution_count": 44,
     "metadata": {},
     "output_type": "execute_result"
    }
   ],
   "source": [
    "#посмотрим на статистику платформ, которые на являются коммерчискими провалами и, при этом, прошли или почти прошли полный \n",
    "#жизненный цикл\n",
    "platform_year_check.loc[(platform_year_check['platform_success'] == 'Неактуально') | \\\n",
    "                        (platform_year_check['platform_success'] == 'Потенциально неактуально'), 'active_life_cycle'].describe()"
   ]
  },
  {
   "cell_type": "code",
   "execution_count": 45,
   "metadata": {},
   "outputs": [
    {
     "data": {
      "text/html": [
       "<div>\n",
       "<style scoped>\n",
       "    .dataframe tbody tr th:only-of-type {\n",
       "        vertical-align: middle;\n",
       "    }\n",
       "\n",
       "    .dataframe tbody tr th {\n",
       "        vertical-align: top;\n",
       "    }\n",
       "\n",
       "    .dataframe thead th {\n",
       "        text-align: right;\n",
       "    }\n",
       "</style>\n",
       "<table border=\"1\" class=\"dataframe\">\n",
       "  <thead>\n",
       "    <tr style=\"text-align: right;\">\n",
       "      <th></th>\n",
       "      <th>platform</th>\n",
       "      <th>min_year_of_release</th>\n",
       "      <th>max_year_of_release</th>\n",
       "      <th>life_cycle</th>\n",
       "      <th>active_life_cycle</th>\n",
       "      <th>platform_success</th>\n",
       "    </tr>\n",
       "  </thead>\n",
       "  <tbody>\n",
       "    <tr>\n",
       "      <td>1</td>\n",
       "      <td>GB</td>\n",
       "      <td>1988</td>\n",
       "      <td>2001</td>\n",
       "      <td>13</td>\n",
       "      <td>4</td>\n",
       "      <td>Неактуально</td>\n",
       "    </tr>\n",
       "    <tr>\n",
       "      <td>2</td>\n",
       "      <td>NES</td>\n",
       "      <td>1983</td>\n",
       "      <td>1994</td>\n",
       "      <td>11</td>\n",
       "      <td>4</td>\n",
       "      <td>Неактуально</td>\n",
       "    </tr>\n",
       "    <tr>\n",
       "      <td>3</td>\n",
       "      <td>X360</td>\n",
       "      <td>2005</td>\n",
       "      <td>2016</td>\n",
       "      <td>11</td>\n",
       "      <td>5</td>\n",
       "      <td>Потенциально неактуально</td>\n",
       "    </tr>\n",
       "    <tr>\n",
       "      <td>4</td>\n",
       "      <td>PSP</td>\n",
       "      <td>2004</td>\n",
       "      <td>2015</td>\n",
       "      <td>11</td>\n",
       "      <td>5</td>\n",
       "      <td>Неактуально</td>\n",
       "    </tr>\n",
       "    <tr>\n",
       "      <td>5</td>\n",
       "      <td>PS2</td>\n",
       "      <td>2000</td>\n",
       "      <td>2011</td>\n",
       "      <td>11</td>\n",
       "      <td>5</td>\n",
       "      <td>Неактуально</td>\n",
       "    </tr>\n",
       "    <tr>\n",
       "      <td>6</td>\n",
       "      <td>DC</td>\n",
       "      <td>1998</td>\n",
       "      <td>2008</td>\n",
       "      <td>10</td>\n",
       "      <td>3</td>\n",
       "      <td>Неактуально</td>\n",
       "    </tr>\n",
       "    <tr>\n",
       "      <td>7</td>\n",
       "      <td>Wii</td>\n",
       "      <td>2006</td>\n",
       "      <td>2016</td>\n",
       "      <td>10</td>\n",
       "      <td>4</td>\n",
       "      <td>Потенциально неактуально</td>\n",
       "    </tr>\n",
       "    <tr>\n",
       "      <td>8</td>\n",
       "      <td>PS3</td>\n",
       "      <td>2006</td>\n",
       "      <td>2016</td>\n",
       "      <td>10</td>\n",
       "      <td>5</td>\n",
       "      <td>Потенциально неактуально</td>\n",
       "    </tr>\n",
       "    <tr>\n",
       "      <td>9</td>\n",
       "      <td>2600</td>\n",
       "      <td>1980</td>\n",
       "      <td>1989</td>\n",
       "      <td>9</td>\n",
       "      <td>2</td>\n",
       "      <td>Неактуально</td>\n",
       "    </tr>\n",
       "    <tr>\n",
       "      <td>10</td>\n",
       "      <td>SNES</td>\n",
       "      <td>1990</td>\n",
       "      <td>1999</td>\n",
       "      <td>9</td>\n",
       "      <td>4</td>\n",
       "      <td>Неактуально</td>\n",
       "    </tr>\n",
       "    <tr>\n",
       "      <td>11</td>\n",
       "      <td>PS</td>\n",
       "      <td>1994</td>\n",
       "      <td>2003</td>\n",
       "      <td>9</td>\n",
       "      <td>4</td>\n",
       "      <td>Неактуально</td>\n",
       "    </tr>\n",
       "    <tr>\n",
       "      <td>12</td>\n",
       "      <td>DS</td>\n",
       "      <td>2004</td>\n",
       "      <td>2013</td>\n",
       "      <td>9</td>\n",
       "      <td>5</td>\n",
       "      <td>Неактуально</td>\n",
       "    </tr>\n",
       "    <tr>\n",
       "      <td>13</td>\n",
       "      <td>XB</td>\n",
       "      <td>2000</td>\n",
       "      <td>2008</td>\n",
       "      <td>8</td>\n",
       "      <td>4</td>\n",
       "      <td>Неактуально</td>\n",
       "    </tr>\n",
       "    <tr>\n",
       "      <td>14</td>\n",
       "      <td>GBA</td>\n",
       "      <td>2000</td>\n",
       "      <td>2007</td>\n",
       "      <td>7</td>\n",
       "      <td>4</td>\n",
       "      <td>Неактуально</td>\n",
       "    </tr>\n",
       "    <tr>\n",
       "      <td>15</td>\n",
       "      <td>GC</td>\n",
       "      <td>2001</td>\n",
       "      <td>2007</td>\n",
       "      <td>6</td>\n",
       "      <td>4</td>\n",
       "      <td>Неактуально</td>\n",
       "    </tr>\n",
       "    <tr>\n",
       "      <td>16</td>\n",
       "      <td>N64</td>\n",
       "      <td>1996</td>\n",
       "      <td>2002</td>\n",
       "      <td>6</td>\n",
       "      <td>4</td>\n",
       "      <td>Неактуально</td>\n",
       "    </tr>\n",
       "    <tr>\n",
       "      <td>17</td>\n",
       "      <td>SAT</td>\n",
       "      <td>1994</td>\n",
       "      <td>1999</td>\n",
       "      <td>5</td>\n",
       "      <td>3</td>\n",
       "      <td>Неактуально</td>\n",
       "    </tr>\n",
       "  </tbody>\n",
       "</table>\n",
       "</div>"
      ],
      "text/plain": [
       "   platform  min_year_of_release  max_year_of_release  life_cycle  \\\n",
       "1        GB                 1988                 2001          13   \n",
       "2       NES                 1983                 1994          11   \n",
       "3      X360                 2005                 2016          11   \n",
       "4       PSP                 2004                 2015          11   \n",
       "5       PS2                 2000                 2011          11   \n",
       "6        DC                 1998                 2008          10   \n",
       "7       Wii                 2006                 2016          10   \n",
       "8       PS3                 2006                 2016          10   \n",
       "9      2600                 1980                 1989           9   \n",
       "10     SNES                 1990                 1999           9   \n",
       "11       PS                 1994                 2003           9   \n",
       "12       DS                 2004                 2013           9   \n",
       "13       XB                 2000                 2008           8   \n",
       "14      GBA                 2000                 2007           7   \n",
       "15       GC                 2001                 2007           6   \n",
       "16      N64                 1996                 2002           6   \n",
       "17      SAT                 1994                 1999           5   \n",
       "\n",
       "    active_life_cycle          platform_success  \n",
       "1                   4               Неактуально  \n",
       "2                   4               Неактуально  \n",
       "3                   5  Потенциально неактуально  \n",
       "4                   5               Неактуально  \n",
       "5                   5               Неактуально  \n",
       "6                   3               Неактуально  \n",
       "7                   4  Потенциально неактуально  \n",
       "8                   5  Потенциально неактуально  \n",
       "9                   2               Неактуально  \n",
       "10                  4               Неактуально  \n",
       "11                  4               Неактуально  \n",
       "12                  5               Неактуально  \n",
       "13                  4               Неактуально  \n",
       "14                  4               Неактуально  \n",
       "15                  4               Неактуально  \n",
       "16                  4               Неактуально  \n",
       "17                  3               Неактуально  "
      ]
     },
     "execution_count": 45,
     "metadata": {},
     "output_type": "execute_result"
    }
   ],
   "source": [
    "platform_year_check.loc[(platform_year_check['platform_success'] == 'Неактуально') | \\\n",
    "                        (platform_year_check['platform_success'] == 'Потенциально неактуально')]"
   ]
  },
  {
   "cell_type": "code",
   "execution_count": 46,
   "metadata": {},
   "outputs": [
    {
     "data": {
      "text/html": [
       "<div>\n",
       "<style scoped>\n",
       "    .dataframe tbody tr th:only-of-type {\n",
       "        vertical-align: middle;\n",
       "    }\n",
       "\n",
       "    .dataframe tbody tr th {\n",
       "        vertical-align: top;\n",
       "    }\n",
       "\n",
       "    .dataframe thead th {\n",
       "        text-align: right;\n",
       "    }\n",
       "</style>\n",
       "<table border=\"1\" class=\"dataframe\">\n",
       "  <thead>\n",
       "    <tr style=\"text-align: right;\">\n",
       "      <th></th>\n",
       "      <th>platform</th>\n",
       "      <th>min_year_of_release</th>\n",
       "      <th>max_year_of_release</th>\n",
       "      <th>life_cycle</th>\n",
       "      <th>active_life_cycle</th>\n",
       "      <th>platform_success</th>\n",
       "    </tr>\n",
       "  </thead>\n",
       "  <tbody>\n",
       "    <tr>\n",
       "      <td>0</td>\n",
       "      <td>PC</td>\n",
       "      <td>1985</td>\n",
       "      <td>2016</td>\n",
       "      <td>31</td>\n",
       "      <td>6</td>\n",
       "      <td>Актуально</td>\n",
       "    </tr>\n",
       "    <tr>\n",
       "      <td>18</td>\n",
       "      <td>3DS</td>\n",
       "      <td>2011</td>\n",
       "      <td>2016</td>\n",
       "      <td>5</td>\n",
       "      <td>4</td>\n",
       "      <td>Актуально</td>\n",
       "    </tr>\n",
       "    <tr>\n",
       "      <td>19</td>\n",
       "      <td>PSV</td>\n",
       "      <td>2011</td>\n",
       "      <td>2016</td>\n",
       "      <td>5</td>\n",
       "      <td>3</td>\n",
       "      <td>Актуально</td>\n",
       "    </tr>\n",
       "    <tr>\n",
       "      <td>20</td>\n",
       "      <td>WiiU</td>\n",
       "      <td>2012</td>\n",
       "      <td>2016</td>\n",
       "      <td>4</td>\n",
       "      <td>3</td>\n",
       "      <td>Актуально</td>\n",
       "    </tr>\n",
       "    <tr>\n",
       "      <td>23</td>\n",
       "      <td>PS4</td>\n",
       "      <td>2013</td>\n",
       "      <td>2016</td>\n",
       "      <td>3</td>\n",
       "      <td>3</td>\n",
       "      <td>Актуально</td>\n",
       "    </tr>\n",
       "    <tr>\n",
       "      <td>24</td>\n",
       "      <td>XOne</td>\n",
       "      <td>2013</td>\n",
       "      <td>2016</td>\n",
       "      <td>3</td>\n",
       "      <td>3</td>\n",
       "      <td>Актуально</td>\n",
       "    </tr>\n",
       "  </tbody>\n",
       "</table>\n",
       "</div>"
      ],
      "text/plain": [
       "   platform  min_year_of_release  max_year_of_release  life_cycle  \\\n",
       "0        PC                 1985                 2016          31   \n",
       "18      3DS                 2011                 2016           5   \n",
       "19      PSV                 2011                 2016           5   \n",
       "20     WiiU                 2012                 2016           4   \n",
       "23      PS4                 2013                 2016           3   \n",
       "24     XOne                 2013                 2016           3   \n",
       "\n",
       "    active_life_cycle platform_success  \n",
       "0                   6        Актуально  \n",
       "18                  4        Актуально  \n",
       "19                  3        Актуально  \n",
       "20                  3        Актуально  \n",
       "23                  3        Актуально  \n",
       "24                  3        Актуально  "
      ]
     },
     "execution_count": 46,
     "metadata": {},
     "output_type": "execute_result"
    }
   ],
   "source": [
    "platform_year_check.loc[(platform_year_check['platform_success'] == 'Актуально')]"
   ]
  },
  {
   "cell_type": "markdown",
   "metadata": {},
   "source": [
    "<span style=\"text-decoration:underline\">Выводы:</span>\n",
    "\n",
    "1. Срок \"актуальности\" платформы составляет в среднем 4 года\n",
    "2. Срок \"актуальности\" платформы колеблется в диапазоне 3-5 лет - вероятно, по истечению этого срока запускается новое поколение консолей и начинается конкуренция между ними за продажи\n",
    "3. Средний срок жизни платформы - 9 лет\n",
    "4. Средний срок жизни колеблется в диапазоне 7-11 лет\n",
    "5. Судя по списку актуальных платформ, мы можем выделить 3, в первую очередь перспективные:\n",
    "    + PC - как говорилось выше, данная платформа выступает как исключение, так как не делится на четкие поколения, поэтому ее можно рассматривать как актуальную на текущий момент\n",
    "    + PS4 - текущий срок жизни и \"активный\" срок жизни равны (\"активный\" срок меньше среднего значения) = платформа \"свежая\" и тайтлы для нее активно продаются\n",
    "    + XOne - аналогично PS4\n",
    "6. Также можно выделить группу условного второго приоритета: \n",
    "    + 3DS - срок \"активного\" жизненного цикла равен среднему значению и меньше общего срока жизни - вероятно, продажи пересекли рубеж снижения. Кроме того, консоль имеет характерную особенность - она портативная, что тоже может влиять на специфику спроса\n",
    "    + PSV - аналогично 3DS, за исключеним величины \"активного\" срока жизни, но он все же попадает в диапазон 3-5 лет, хоть и меньше средних 4 лет\n",
    "    + WiiU - срок \"активного\" жизненного цикла меньше общего срока жизни"
   ]
  },
  {
   "cell_type": "markdown",
   "metadata": {},
   "source": [
    "## Диаграмма \"ящик с усами\""
   ]
  },
  {
   "cell_type": "code",
   "execution_count": 47,
   "metadata": {},
   "outputs": [],
   "source": [
    "annual_sales_per_platform = data.loc[data['year_of_release'] != 1900].pivot_table(index='year_of_release',\\\n",
    "                            columns='platform', values='total_sales', aggfunc='sum')"
   ]
  },
  {
   "cell_type": "code",
   "execution_count": 48,
   "metadata": {},
   "outputs": [
    {
     "data": {
      "text/plain": [
       "<matplotlib.axes._subplots.AxesSubplot at 0x7f338d803810>"
      ]
     },
     "execution_count": 48,
     "metadata": {},
     "output_type": "execute_result"
    },
    {
     "data": {
      "image/png": "[encoded data removed]",
      "text/plain": [
       "<Figure size 1440x864 with 1 Axes>"
      ]
     },
     "metadata": {
      "needs_background": "light"
     },
     "output_type": "display_data"
    }
   ],
   "source": [
    "annual_sales_per_platform.plot(kind='box', figsize=(20, 12), grid=True)"
   ]
  },
  {
   "cell_type": "markdown",
   "metadata": {},
   "source": [
    "Текущий боксплот позволяет оценить общую картину по количеству проданных копий игр в разрезе платформ. График не очень удобно считывать, так как все \"ящики\" отсортированы по наименованию платформы. Поэтому более разумно перед чтением графика сделать его сортировку. "
   ]
  },
  {
   "cell_type": "code",
   "execution_count": 49,
   "metadata": {},
   "outputs": [
    {
     "data": {
      "text/plain": [
       "<matplotlib.axes._subplots.AxesSubplot at 0x7f338daace10>"
      ]
     },
     "execution_count": 49,
     "metadata": {},
     "output_type": "execute_result"
    },
    {
     "data": {
      "image/png": "[encoded data removed]",
      "text/plain": [
       "<Figure size 1440x864 with 1 Axes>"
      ]
     },
     "metadata": {
      "needs_background": "light"
     },
     "output_type": "display_data"
    }
   ],
   "source": [
    "index_sort = annual_sales_per_platform.sum().sort_values(ascending=False).index #считаем сумму по столбцам, сортируем их и забираем индексы\n",
    "#в отдельный список\n",
    "annual_sales_per_platform_sorted = annual_sales_per_platform[index_sort] #применяем отсортированные индексы к датафрейму\n",
    "annual_sales_per_platform_sorted.plot(kind='box', figsize=(20, 12), grid=True) #строим график"
   ]
  },
  {
   "cell_type": "markdown",
   "metadata": {},
   "source": [
    "<span style=\"text-decoration:underline\">Ящики на графике распределены по убыванию общего объема продаж игр в миллионах копий. На базе графика можно сделать следующие выводы:</span>\n",
    "\n",
    "1. По межквартильному размаху (нижняя и верхняя границы ящика) мы можем судить о том, насколько сильно \"разбросаны\" данные по той или иной платформе. В данном случае это косвенно говорит о том, насколько долго продавались игры - чем больше различных значений на временной оси, тем менее плотный интервал между 1 и 3 квартилями\n",
    "2. Второй интересный момент - это положение среднего и верхней границы ящика: по сочетанию этих двух элементов можно судить о колебаниях уровня продаж: чем дальше друг от друга среднее и верхняя граница \"усов\", тем больше был всплеск продаж в какой-то из годов по платформе. Например, мы можем предположить, что продажи для PS3 были значительно более \"стабильным\" в сравненни с продажами Nintendo Wii, несмотря на соседство по общему количеству проданных копий\n",
    "3. Так как все \"ящики\" отсортированы в порядке убывания общего количества проданных копий игр, мы можем исключить однозначно исключить PSV и WiiU из списка перспективных платформ, что подтверждает предположение, выдвинутое на основе анализа сроков жизни платформ \n",
    "4. Мы знаем, что консоли PS4 и XOne - это актуальные поколения на текущий момент (+PC, но его положение и график в очередной раз подтверждает \"исключительность\" из-за размытости поколений и, вероятно, каких-то дополнительных факторов). Однако, на графике мы видим, что несмотря на идентичные сроки жизни, PS4 существенно опережает XOne по продажам, что для нас делает это платформу наиболее привлекательной.\n",
    "\n",
    "Таким образом, список \"перспективных\" платформ на текущий момент выглядит следующим образом: \n",
    "\n",
    "1. PS4\n",
    "2. XOne\n",
    "3. PC\n",
    "4. 3DS"
   ]
  },
  {
   "cell_type": "markdown",
   "metadata": {},
   "source": [
    "## Анализ зависимости объема продаж от оценок пользователей и критиков"
   ]
  },
  {
   "cell_type": "code",
   "execution_count": 50,
   "metadata": {},
   "outputs": [
    {
     "data": {
      "text/plain": [
       "<matplotlib.axes._subplots.AxesSubplot at 0x7f338dad5a90>"
      ]
     },
     "execution_count": 50,
     "metadata": {},
     "output_type": "execute_result"
    },
    {
     "data": {
      "image/png": "[encoded data removed]",
      "text/plain": [
       "<Figure size 720x720 with 1 Axes>"
      ]
     },
     "metadata": {
      "needs_background": "light"
     },
     "output_type": "display_data"
    }
   ],
   "source": [
    "#так как годы в данном случае нас интересует в меньшей степени, для построения графика можем использовать в том числе группу\n",
    "#с 1900 годом для оценки максимально большого объема данных об оценках критиков\n",
    "data.plot(alpha=0.7, grid=True, x='critic_score', y='total_sales', style='x', figsize=(10, 10), ylim=(1, 40), kind='scatter',\\\n",
    "title='Распределение суммарных продаж в зависимости от оценок критиков, млн. копий')"
   ]
  },
  {
   "cell_type": "code",
   "execution_count": 51,
   "metadata": {},
   "outputs": [
    {
     "data": {
      "text/plain": [
       "<matplotlib.axes._subplots.AxesSubplot at 0x7f338d4279d0>"
      ]
     },
     "execution_count": 51,
     "metadata": {},
     "output_type": "execute_result"
    },
    {
     "data": {
      "image/png": "[encoded data removed]",
      "text/plain": [
       "<Figure size 720x720 with 1 Axes>"
      ]
     },
     "metadata": {
      "needs_background": "light"
     },
     "output_type": "display_data"
    }
   ],
   "source": [
    "#так как годы в данном случае нас интересует в меньшей степени, для построения графика можем использовать в том числе группу\n",
    "#с 1900 годом для оценки максимально большого объема данных об оценках критиков\n",
    "data.plot(alpha=0.7, grid=True, x='user_score', y='total_sales', style='x', figsize=(10, 10), ylim=(1, 40), kind='scatter',\\\n",
    "title='Распределение суммарных продаж в зависимости от оценок пользователей, млн. копий')"
   ]
  },
  {
   "cell_type": "markdown",
   "metadata": {},
   "source": [
    "Мы видим, что в целом графики для двух типов оценок сопоставимы. Однако есть пара любопытных моментов: \n",
    "\n",
    "1. На графике с оценками критикой мы видим, что значения продаж от 5 млн копий стартуют с оценки около 60 баллов; от 10 млн копий и выше для оценок около 80 баллов и выше\n",
    "2. На графике пользовательских оценок тайтлы с \"большими\" продажами сильнее распределены по оси оценок: \n",
    "    + Редкие значения продаж в диапазоне 5-15 млн копий наблюдаемы даже для оценок в 3-6 баллов, что крайне не характерно для оценок критиков \n",
    "    + В диапазоне 6-8 баллов наблюдаемые значения продаж могут чаще превышать отметку в 20 млн копий, а диапазон 10-15 млн копий наполнен значительно большим количеством значений\n",
    "    + Области графиков от 80 (8) баллов сравнимы для двух графиков \n",
    "    \n",
    "Наиболее вероятно, что пользовательские оценки выставляются играм позже оценок критиков. Предположение основывается на том, что критики могут оценить продукт и выставить ему оценку до релиза игры - вероятно, это может сказать на соответствии восприятия игры пользователя, а значит и ее продажах.\n",
    "\n",
    "Попробуем построить диаграмму рассеяния для обоих видов оценок."
   ]
  },
  {
   "cell_type": "code",
   "execution_count": 52,
   "metadata": {},
   "outputs": [
    {
     "data": {
      "text/plain": [
       "<matplotlib.axes._subplots.AxesSubplot at 0x7f338d39ebd0>"
      ]
     },
     "execution_count": 52,
     "metadata": {},
     "output_type": "execute_result"
    },
    {
     "data": {
      "image/png": "[encoded data removed]",
      "text/plain": [
       "<Figure size 720x720 with 1 Axes>"
      ]
     },
     "metadata": {
      "needs_background": "light"
     },
     "output_type": "display_data"
    }
   ],
   "source": [
    "#также построим диаграмму рассеяния для различных оценок\n",
    "data.plot(alpha=0.2, grid=True, x='user_score', y='critic_score', style='x', figsize=(10, 10), kind='scatter',\\\n",
    "title='Распределение суммарных продаж в зависимости от оценок пользователей и критиков')"
   ]
  },
  {
   "cell_type": "markdown",
   "metadata": {},
   "source": [
    "Мы видим, плотность соответствия оценок повышается примерно с 60-65 баллов (6-6.5) - график чем-то похож на комету, в хвосте которой увеличивается количество значений (тайтлов) оценки пользователей и критиков для которых существенно расходятся: при этом \"левое крыло\" (область выше 60 баллов по оценке критиков) визуально немного больше правого. \n",
    "\n",
    "Например, мы можем наблюдать относительно большое количество значений в диапазоне критических оценок 60-80 и одновременно пользовательских оценок 2-4 балла. Наблюдаемы также и обратные ситуации. "
   ]
  },
  {
   "cell_type": "markdown",
   "metadata": {},
   "source": [
    "Теперь в соответствии с заданием, посмотрим на оценки критиков и пользователей применительно к 1 популярной платформе. Для этого предлагаем использовать не самую актуальную платформу, а ту, у которой будет максимальное количество данных об оценках."
   ]
  },
  {
   "cell_type": "code",
   "execution_count": 53,
   "metadata": {},
   "outputs": [
    {
     "data": {
      "text/plain": [
       "PS2     1241\n",
       "X360     966\n",
       "PS3      877\n",
       "PC       770\n",
       "XB       586\n",
       "Name: platform, dtype: int64"
      ]
     },
     "execution_count": 53,
     "metadata": {},
     "output_type": "execute_result"
    }
   ],
   "source": [
    "data.loc[data['user_score'] > 0, 'platform'].value_counts().head()"
   ]
  },
  {
   "cell_type": "markdown",
   "metadata": {},
   "source": [
    "Наш выбор - PS2."
   ]
  },
  {
   "cell_type": "code",
   "execution_count": 54,
   "metadata": {},
   "outputs": [
    {
     "data": {
      "text/plain": [
       "<matplotlib.axes._subplots.AxesSubplot at 0x7f338d39b290>"
      ]
     },
     "execution_count": 54,
     "metadata": {},
     "output_type": "execute_result"
    },
    {
     "data": {
      "image/png": "[encoded data removed]",
      "text/plain": [
       "<Figure size 720x720 with 1 Axes>"
      ]
     },
     "metadata": {
      "needs_background": "light"
     },
     "output_type": "display_data"
    }
   ],
   "source": [
    "data.loc[data['platform'] == 'PS2'].plot(alpha=0.7, grid=True, x='critic_score', y='total_sales', style='x',\\\n",
    "                                         figsize=(10, 10), ylim=(0, 22), kind='scatter',\\\n",
    "title='Продажи игр для PS2 в зависимости от оценок критиков, млн. копий')"
   ]
  },
  {
   "cell_type": "code",
   "execution_count": 55,
   "metadata": {},
   "outputs": [
    {
     "data": {
      "text/plain": [
       "<matplotlib.axes._subplots.AxesSubplot at 0x7f338c300e50>"
      ]
     },
     "execution_count": 55,
     "metadata": {},
     "output_type": "execute_result"
    },
    {
     "data": {
      "image/png": "[encoded data removed]",
      "text/plain": [
       "<Figure size 720x720 with 1 Axes>"
      ]
     },
     "metadata": {
      "needs_background": "light"
     },
     "output_type": "display_data"
    }
   ],
   "source": [
    "data.loc[data['platform'] == 'PS2'].plot(alpha=0.7, grid=True, x='user_score', y='total_sales', style='x',\\\n",
    "                                         figsize=(10, 10), ylim=(0, 22), kind='scatter',\\\n",
    "title='Продажи игр для PS2 в зависимости от оценок пользователей, млн. копий')"
   ]
  },
  {
   "cell_type": "code",
   "execution_count": 56,
   "metadata": {},
   "outputs": [
    {
     "data": {
      "text/plain": [
       "<matplotlib.axes._subplots.AxesSubplot at 0x7f338c279a50>"
      ]
     },
     "execution_count": 56,
     "metadata": {},
     "output_type": "execute_result"
    },
    {
     "data": {
      "image/png": "[encoded data removed]",
      "text/plain": [
       "<Figure size 720x720 with 1 Axes>"
      ]
     },
     "metadata": {
      "needs_background": "light"
     },
     "output_type": "display_data"
    }
   ],
   "source": [
    "data.loc[data['platform'] == 'PS2'].plot(alpha=0.7, grid=True, x='user_score', y='critic_score', style='x',\\\n",
    "                                         figsize=(10, 10), kind='scatter',\\\n",
    "title='Распределение суммарных продаж в зависимости от оценок пользователей и критиков для PS2')"
   ]
  },
  {
   "cell_type": "markdown",
   "metadata": {},
   "source": [
    "<span style=\"text-decoration:underline\">Мы видим, что картина для отдельно взятой популярной игровой платформы похожа на общую картину по всем платформам::</span>\n",
    "\n",
    "1. С ростом оценки увеличивается количество точек на графике, увеличивается продажи игр: до 60 баллов по шкале критиков и до 6 баллов по шкале пользовательских оценок нет тайтлов, чьи продажи превышали бы 2.5 млн проданных копий\n",
    "2. В диапазоне 60-80% (60-80 баллов по оценкам критиков и 6-8 баллов по оценкам пользователей) довольно много тайтлов с продажами 2.5-5 млн копий. Наблюдается несколько значений в районе 5.5-6 млн копий\n",
    "3. Все остальные значения продаж (вплоть до 20+ млн проданных копий) лежат в диапазоне 80% млн или более\n",
    "4. Интересный факт: судя по пожеланию тайтлов-\"рекордсменов\" на кооординатных плоскостях различных оценок мы можем сделать предположение, что иногда оценки критиков могут быть выше оценок пользователей - возможно речь идет о каких-то проектах с существенными маркетинговыми затратами (в том числе, и на оценки профильных специалистов/изданий)\n",
    "5. Предположение из п. 4 в том числе находит косвенное подтверждение на диаграмме рассеяния двух типов оценок. Мы видим, что и для этой отдельно взятой платформы существует ряд тайтлов, оценки критиков и пользователей для которых категорически не совпали. \n",
    "\n",
    "Судя по диаграммам для PS2 и всех платформ в целом, мы можем предположить, что оценки влияют на продажи игр или, по крайней мере, между этими метриками есть зависимость, но оценки не являются единственным определяющим фактором, влияющим на продажи. "
   ]
  },
  {
   "cell_type": "code",
   "execution_count": 57,
   "metadata": {},
   "outputs": [
    {
     "name": "stdout",
     "output_type": "stream",
     "text": [
      "Корреляция между суммарными продажами игр и оценками критиков для всех платформ: 24.55%\n",
      "Корреляция между суммарными продажами игр и оценками пользователей для всех платформ: 8.82%\n"
     ]
    }
   ],
   "source": [
    "print('Корреляция между суммарными продажами игр и оценками критиков для всех платформ: {0:.2f}%'\\\n",
    "      .format(data['total_sales'].corr(data['critic_score']) * 100))\n",
    "print('Корреляция между суммарными продажами игр и оценками пользователей для всех платформ: {0:.2f}%'\\\n",
    "      .format(data['total_sales'].corr(data['user_score']) * 100))"
   ]
  },
  {
   "cell_type": "code",
   "execution_count": 58,
   "metadata": {},
   "outputs": [
    {
     "name": "stdout",
     "output_type": "stream",
     "text": [
      "Корреляция между суммарными продажами игр и оценками критиков для PS2: 39.54%\n",
      "Корреляция между суммарными продажами игр и оценками критиков для PS3: 43.24%\n",
      "Корреляция между суммарными продажами игр и оценками критиков для PS4: 40.66%\n",
      "Корреляция между суммарными продажами игр и оценками критиков для X360: 39.37%\n",
      "Корреляция между суммарными продажами игр и оценками критиков для XOne: 41.70%\n",
      "\n",
      "Корреляция между суммарными продажами игр и оценками пользователей для PS2: 17.29%\n",
      "Корреляция между суммарными продажами игр и оценками пользователей для PS3: 12.67%\n",
      "Корреляция между суммарными продажами игр и оценками пользователей для PS4: -3.20%\n",
      "Корреляция между суммарными продажами игр и оценками пользователей для X360: 11.45%\n",
      "Корреляция между суммарными продажами игр и оценками пользователей для XOne: -6.89%\n"
     ]
    }
   ],
   "source": [
    "print('Корреляция между суммарными продажами игр и оценками критиков для PS2: {0:.2f}%'\\\n",
    "      .format(data.loc[data['platform'] == 'PS2', 'total_sales']\\\n",
    "              .corr(data.loc[data['platform'] == 'PS2', 'critic_score']) * 100))\n",
    "print('Корреляция между суммарными продажами игр и оценками критиков для PS3: {0:.2f}%'\\\n",
    "      .format(data.loc[data['platform'] == 'PS3', 'total_sales']\\\n",
    "              .corr(data.loc[data['platform'] == 'PS3', 'critic_score']) * 100))\n",
    "print('Корреляция между суммарными продажами игр и оценками критиков для PS4: {0:.2f}%'\\\n",
    "      .format(data.loc[data['platform'] == 'PS4', 'total_sales']\\\n",
    "              .corr(data.loc[data['platform'] == 'PS4', 'critic_score']) * 100))\n",
    "print('Корреляция между суммарными продажами игр и оценками критиков для X360: {0:.2f}%'\\\n",
    "      .format(data.loc[data['platform'] == 'X360', 'total_sales']\\\n",
    "              .corr(data.loc[data['platform'] == 'X360', 'critic_score']) * 100))\n",
    "print('Корреляция между суммарными продажами игр и оценками критиков для XOne: {0:.2f}%'\\\n",
    "      .format(data.loc[data['platform'] == 'XOne', 'total_sales']\\\n",
    "              .corr(data.loc[data['platform'] == 'XOne', 'critic_score']) * 100))\n",
    "\n",
    "print()\n",
    "\n",
    "print('Корреляция между суммарными продажами игр и оценками пользователей для PS2: {0:.2f}%'\\\n",
    "      .format(data.loc[data['platform'] == 'PS2', 'total_sales']\\\n",
    "              .corr(data.loc[data['platform'] == 'PS2', 'user_score']) * 100))\n",
    "print('Корреляция между суммарными продажами игр и оценками пользователей для PS3: {0:.2f}%'\\\n",
    "      .format(data.loc[data['platform'] == 'PS3', 'total_sales']\\\n",
    "              .corr(data.loc[data['platform'] == 'PS3', 'user_score']) * 100))\n",
    "print('Корреляция между суммарными продажами игр и оценками пользователей для PS4: {0:.2f}%'\\\n",
    "      .format(data.loc[data['platform'] == 'PS4', 'total_sales']\\\n",
    "              .corr(data.loc[data['platform'] == 'PS4', 'user_score']) * 100))\n",
    "print('Корреляция между суммарными продажами игр и оценками пользователей для X360: {0:.2f}%'\\\n",
    "      .format(data.loc[data['platform'] == 'X360', 'total_sales']\\\n",
    "              .corr(data.loc[data['platform'] == 'X360', 'user_score']) * 100))\n",
    "print('Корреляция между суммарными продажами игр и оценками пользователей для XOne: {0:.2f}%'\\\n",
    "      .format(data.loc[data['platform'] == 'XOne', 'total_sales']\\\n",
    "              .corr(data.loc[data['platform'] == 'XOne', 'user_score']) * 100))"
   ]
  },
  {
   "cell_type": "markdown",
   "metadata": {},
   "source": [
    "Мы посчитали корреляцию между суммарными продажами игр и оценками критиков/пользователей для нескольких популярных платформ (в том числе тех, что выше были отнесены к \"актуальному\" поколению) и видим следующее:\n",
    "\n",
    "1. Корреляция между оценками критиков и общими продажами есть и находится немного ниже среднего уровня (около 40% для 5 платформ)\n",
    "2. Корреляция между оценками критиков и общими продажами прямая, то есть чем выше оценка критиков, тем выше продажи игры \n",
    "3. Корреляция между оценками пользователей и общими продажами игры также наблюдается, но она ближе к низкому уровню взаимосвязи (10-15%) \n",
    "4. Для \"актуального\" поколения консолей наблюдается интересная особенность: корреляция стала еще слабее, чем была для предыдущих поколений, но при этом появился тренд на обратную зависимость - чем ниже оценка, тем выше продажи. \n",
    "\n",
    "На базе этих данных мы можем сделать следующее предположение: **оценки критиков влияют на итоговые продажи игр**, но так как критики выставляют свои оценки значительно раньше пользователей (до релиза), то ожидания пользователей могут быть завышенными и, несмотря на большое количество копий, оценки пользователей могут быть ниже, чем оценки критиков (это видно, в том числе, и на диаграммах рассеяния)."
   ]
  },
  {
   "cell_type": "markdown",
   "metadata": {},
   "source": [
    "## Выявление популярных жанров"
   ]
  },
  {
   "cell_type": "code",
   "execution_count": 59,
   "metadata": {},
   "outputs": [
    {
     "data": {
      "text/html": [
       "<div>\n",
       "<style scoped>\n",
       "    .dataframe tbody tr th:only-of-type {\n",
       "        vertical-align: middle;\n",
       "    }\n",
       "\n",
       "    .dataframe tbody tr th {\n",
       "        vertical-align: top;\n",
       "    }\n",
       "\n",
       "    .dataframe thead th {\n",
       "        text-align: right;\n",
       "    }\n",
       "</style>\n",
       "<table border=\"1\" class=\"dataframe\">\n",
       "  <thead>\n",
       "    <tr style=\"text-align: right;\">\n",
       "      <th></th>\n",
       "      <th>total_sales</th>\n",
       "      <th>number_of_titles</th>\n",
       "      <th>mean_sales</th>\n",
       "    </tr>\n",
       "    <tr>\n",
       "      <th>genre</th>\n",
       "      <th></th>\n",
       "      <th></th>\n",
       "      <th></th>\n",
       "    </tr>\n",
       "  </thead>\n",
       "  <tbody>\n",
       "    <tr>\n",
       "      <td>Action</td>\n",
       "      <td>1744.17</td>\n",
       "      <td>3369</td>\n",
       "      <td>0.517711</td>\n",
       "    </tr>\n",
       "    <tr>\n",
       "      <td>Sports</td>\n",
       "      <td>1331.27</td>\n",
       "      <td>2348</td>\n",
       "      <td>0.566980</td>\n",
       "    </tr>\n",
       "    <tr>\n",
       "      <td>Shooter</td>\n",
       "      <td>1052.45</td>\n",
       "      <td>1323</td>\n",
       "      <td>0.795503</td>\n",
       "    </tr>\n",
       "    <tr>\n",
       "      <td>Role-Playing</td>\n",
       "      <td>934.56</td>\n",
       "      <td>1498</td>\n",
       "      <td>0.623872</td>\n",
       "    </tr>\n",
       "    <tr>\n",
       "      <td>Platform</td>\n",
       "      <td>827.77</td>\n",
       "      <td>888</td>\n",
       "      <td>0.932173</td>\n",
       "    </tr>\n",
       "    <tr>\n",
       "      <td>Misc</td>\n",
       "      <td>802.51</td>\n",
       "      <td>1750</td>\n",
       "      <td>0.458577</td>\n",
       "    </tr>\n",
       "    <tr>\n",
       "      <td>Racing</td>\n",
       "      <td>728.67</td>\n",
       "      <td>1249</td>\n",
       "      <td>0.583403</td>\n",
       "    </tr>\n",
       "    <tr>\n",
       "      <td>Fighting</td>\n",
       "      <td>449.92</td>\n",
       "      <td>850</td>\n",
       "      <td>0.529318</td>\n",
       "    </tr>\n",
       "    <tr>\n",
       "      <td>Simulation</td>\n",
       "      <td>389.97</td>\n",
       "      <td>873</td>\n",
       "      <td>0.446701</td>\n",
       "    </tr>\n",
       "    <tr>\n",
       "      <td>Puzzle</td>\n",
       "      <td>242.57</td>\n",
       "      <td>580</td>\n",
       "      <td>0.418224</td>\n",
       "    </tr>\n",
       "    <tr>\n",
       "      <td>Adventure</td>\n",
       "      <td>237.59</td>\n",
       "      <td>1303</td>\n",
       "      <td>0.182341</td>\n",
       "    </tr>\n",
       "    <tr>\n",
       "      <td>Strategy</td>\n",
       "      <td>174.23</td>\n",
       "      <td>683</td>\n",
       "      <td>0.255095</td>\n",
       "    </tr>\n",
       "  </tbody>\n",
       "</table>\n",
       "</div>"
      ],
      "text/plain": [
       "              total_sales  number_of_titles  mean_sales\n",
       "genre                                                  \n",
       "Action            1744.17              3369    0.517711\n",
       "Sports            1331.27              2348    0.566980\n",
       "Shooter           1052.45              1323    0.795503\n",
       "Role-Playing       934.56              1498    0.623872\n",
       "Platform           827.77               888    0.932173\n",
       "Misc               802.51              1750    0.458577\n",
       "Racing             728.67              1249    0.583403\n",
       "Fighting           449.92               850    0.529318\n",
       "Simulation         389.97               873    0.446701\n",
       "Puzzle             242.57               580    0.418224\n",
       "Adventure          237.59              1303    0.182341\n",
       "Strategy           174.23               683    0.255095"
      ]
     },
     "execution_count": 59,
     "metadata": {},
     "output_type": "execute_result"
    }
   ],
   "source": [
    "genres_chart = data.pivot_table(index='genre', values='total_sales', aggfunc=['sum', 'count', 'mean'])\n",
    "genres_chart.columns=['total_sales', 'number_of_titles', 'mean_sales']\n",
    "genres_chart.sort_values('total_sales', ascending=False)"
   ]
  },
  {
   "cell_type": "code",
   "execution_count": 60,
   "metadata": {},
   "outputs": [
    {
     "data": {
      "text/html": [
       "<div>\n",
       "<style scoped>\n",
       "    .dataframe tbody tr th:only-of-type {\n",
       "        vertical-align: middle;\n",
       "    }\n",
       "\n",
       "    .dataframe tbody tr th {\n",
       "        vertical-align: top;\n",
       "    }\n",
       "\n",
       "    .dataframe thead th {\n",
       "        text-align: right;\n",
       "    }\n",
       "</style>\n",
       "<table border=\"1\" class=\"dataframe\">\n",
       "  <thead>\n",
       "    <tr style=\"text-align: right;\">\n",
       "      <th></th>\n",
       "      <th>total_sales</th>\n",
       "      <th>number_of_titles</th>\n",
       "      <th>mean_sales</th>\n",
       "    </tr>\n",
       "    <tr>\n",
       "      <th>genre</th>\n",
       "      <th></th>\n",
       "      <th></th>\n",
       "      <th></th>\n",
       "    </tr>\n",
       "  </thead>\n",
       "  <tbody>\n",
       "    <tr>\n",
       "      <td>Platform</td>\n",
       "      <td>827.77</td>\n",
       "      <td>888</td>\n",
       "      <td>0.932173</td>\n",
       "    </tr>\n",
       "    <tr>\n",
       "      <td>Shooter</td>\n",
       "      <td>1052.45</td>\n",
       "      <td>1323</td>\n",
       "      <td>0.795503</td>\n",
       "    </tr>\n",
       "    <tr>\n",
       "      <td>Role-Playing</td>\n",
       "      <td>934.56</td>\n",
       "      <td>1498</td>\n",
       "      <td>0.623872</td>\n",
       "    </tr>\n",
       "    <tr>\n",
       "      <td>Racing</td>\n",
       "      <td>728.67</td>\n",
       "      <td>1249</td>\n",
       "      <td>0.583403</td>\n",
       "    </tr>\n",
       "    <tr>\n",
       "      <td>Sports</td>\n",
       "      <td>1331.27</td>\n",
       "      <td>2348</td>\n",
       "      <td>0.566980</td>\n",
       "    </tr>\n",
       "    <tr>\n",
       "      <td>Fighting</td>\n",
       "      <td>449.92</td>\n",
       "      <td>850</td>\n",
       "      <td>0.529318</td>\n",
       "    </tr>\n",
       "    <tr>\n",
       "      <td>Action</td>\n",
       "      <td>1744.17</td>\n",
       "      <td>3369</td>\n",
       "      <td>0.517711</td>\n",
       "    </tr>\n",
       "    <tr>\n",
       "      <td>Misc</td>\n",
       "      <td>802.51</td>\n",
       "      <td>1750</td>\n",
       "      <td>0.458577</td>\n",
       "    </tr>\n",
       "    <tr>\n",
       "      <td>Simulation</td>\n",
       "      <td>389.97</td>\n",
       "      <td>873</td>\n",
       "      <td>0.446701</td>\n",
       "    </tr>\n",
       "    <tr>\n",
       "      <td>Puzzle</td>\n",
       "      <td>242.57</td>\n",
       "      <td>580</td>\n",
       "      <td>0.418224</td>\n",
       "    </tr>\n",
       "    <tr>\n",
       "      <td>Strategy</td>\n",
       "      <td>174.23</td>\n",
       "      <td>683</td>\n",
       "      <td>0.255095</td>\n",
       "    </tr>\n",
       "    <tr>\n",
       "      <td>Adventure</td>\n",
       "      <td>237.59</td>\n",
       "      <td>1303</td>\n",
       "      <td>0.182341</td>\n",
       "    </tr>\n",
       "  </tbody>\n",
       "</table>\n",
       "</div>"
      ],
      "text/plain": [
       "              total_sales  number_of_titles  mean_sales\n",
       "genre                                                  \n",
       "Platform           827.77               888    0.932173\n",
       "Shooter           1052.45              1323    0.795503\n",
       "Role-Playing       934.56              1498    0.623872\n",
       "Racing             728.67              1249    0.583403\n",
       "Sports            1331.27              2348    0.566980\n",
       "Fighting           449.92               850    0.529318\n",
       "Action            1744.17              3369    0.517711\n",
       "Misc               802.51              1750    0.458577\n",
       "Simulation         389.97               873    0.446701\n",
       "Puzzle             242.57               580    0.418224\n",
       "Strategy           174.23               683    0.255095\n",
       "Adventure          237.59              1303    0.182341"
      ]
     },
     "execution_count": 60,
     "metadata": {},
     "output_type": "execute_result"
    }
   ],
   "source": [
    "genres_chart = data.pivot_table(index='genre', values='total_sales', aggfunc=['sum', 'count', 'mean'])\n",
    "genres_chart.columns=['total_sales', 'number_of_titles', 'mean_sales']\n",
    "genres_chart.sort_values('mean_sales', ascending=False)"
   ]
  },
  {
   "cell_type": "code",
   "execution_count": 61,
   "metadata": {},
   "outputs": [
    {
     "data": {
      "text/html": [
       "<div>\n",
       "<style scoped>\n",
       "    .dataframe tbody tr th:only-of-type {\n",
       "        vertical-align: middle;\n",
       "    }\n",
       "\n",
       "    .dataframe tbody tr th {\n",
       "        vertical-align: top;\n",
       "    }\n",
       "\n",
       "    .dataframe thead th {\n",
       "        text-align: right;\n",
       "    }\n",
       "</style>\n",
       "<table border=\"1\" class=\"dataframe\">\n",
       "  <thead>\n",
       "    <tr style=\"text-align: right;\">\n",
       "      <th></th>\n",
       "      <th>total_sales</th>\n",
       "      <th>number_of_titles</th>\n",
       "      <th>mean_sales</th>\n",
       "    </tr>\n",
       "    <tr>\n",
       "      <th>genre</th>\n",
       "      <th></th>\n",
       "      <th></th>\n",
       "      <th></th>\n",
       "    </tr>\n",
       "  </thead>\n",
       "  <tbody>\n",
       "    <tr>\n",
       "      <td>Action</td>\n",
       "      <td>1744.17</td>\n",
       "      <td>3369</td>\n",
       "      <td>0.517711</td>\n",
       "    </tr>\n",
       "    <tr>\n",
       "      <td>Adventure</td>\n",
       "      <td>237.59</td>\n",
       "      <td>1303</td>\n",
       "      <td>0.182341</td>\n",
       "    </tr>\n",
       "    <tr>\n",
       "      <td>Fighting</td>\n",
       "      <td>449.92</td>\n",
       "      <td>850</td>\n",
       "      <td>0.529318</td>\n",
       "    </tr>\n",
       "    <tr>\n",
       "      <td>Misc</td>\n",
       "      <td>802.51</td>\n",
       "      <td>1750</td>\n",
       "      <td>0.458577</td>\n",
       "    </tr>\n",
       "    <tr>\n",
       "      <td>Platform</td>\n",
       "      <td>827.77</td>\n",
       "      <td>888</td>\n",
       "      <td>0.932173</td>\n",
       "    </tr>\n",
       "    <tr>\n",
       "      <td>Puzzle</td>\n",
       "      <td>242.57</td>\n",
       "      <td>580</td>\n",
       "      <td>0.418224</td>\n",
       "    </tr>\n",
       "    <tr>\n",
       "      <td>Racing</td>\n",
       "      <td>728.67</td>\n",
       "      <td>1249</td>\n",
       "      <td>0.583403</td>\n",
       "    </tr>\n",
       "    <tr>\n",
       "      <td>Role-Playing</td>\n",
       "      <td>934.56</td>\n",
       "      <td>1498</td>\n",
       "      <td>0.623872</td>\n",
       "    </tr>\n",
       "    <tr>\n",
       "      <td>Shooter</td>\n",
       "      <td>1052.45</td>\n",
       "      <td>1323</td>\n",
       "      <td>0.795503</td>\n",
       "    </tr>\n",
       "    <tr>\n",
       "      <td>Simulation</td>\n",
       "      <td>389.97</td>\n",
       "      <td>873</td>\n",
       "      <td>0.446701</td>\n",
       "    </tr>\n",
       "    <tr>\n",
       "      <td>Sports</td>\n",
       "      <td>1331.27</td>\n",
       "      <td>2348</td>\n",
       "      <td>0.566980</td>\n",
       "    </tr>\n",
       "    <tr>\n",
       "      <td>Strategy</td>\n",
       "      <td>174.23</td>\n",
       "      <td>683</td>\n",
       "      <td>0.255095</td>\n",
       "    </tr>\n",
       "  </tbody>\n",
       "</table>\n",
       "</div>"
      ],
      "text/plain": [
       "              total_sales  number_of_titles  mean_sales\n",
       "genre                                                  \n",
       "Action            1744.17              3369    0.517711\n",
       "Adventure          237.59              1303    0.182341\n",
       "Fighting           449.92               850    0.529318\n",
       "Misc               802.51              1750    0.458577\n",
       "Platform           827.77               888    0.932173\n",
       "Puzzle             242.57               580    0.418224\n",
       "Racing             728.67              1249    0.583403\n",
       "Role-Playing       934.56              1498    0.623872\n",
       "Shooter           1052.45              1323    0.795503\n",
       "Simulation         389.97               873    0.446701\n",
       "Sports            1331.27              2348    0.566980\n",
       "Strategy           174.23               683    0.255095"
      ]
     },
     "execution_count": 61,
     "metadata": {},
     "output_type": "execute_result"
    }
   ],
   "source": [
    "genres_chart"
   ]
  },
  {
   "cell_type": "code",
   "execution_count": 62,
   "metadata": {},
   "outputs": [
    {
     "data": {
      "image/png": "[encoded data removed]",
      "text/plain": [
       "<Figure size 1080x288 with 1 Axes>"
      ]
     },
     "metadata": {
      "needs_background": "light"
     },
     "output_type": "display_data"
    },
    {
     "data": {
      "image/png": "[encoded data removed]",
      "text/plain": [
       "<Figure size 1080x288 with 1 Axes>"
      ]
     },
     "metadata": {
      "needs_background": "light"
     },
     "output_type": "display_data"
    },
    {
     "data": {
      "image/png": "[encoded data removed]",
      "text/plain": [
       "<Figure size 1080x288 with 1 Axes>"
      ]
     },
     "metadata": {
      "needs_background": "light"
     },
     "output_type": "display_data"
    }
   ],
   "source": [
    "index = genres_chart.sort_values('total_sales', ascending=False).index\n",
    "values = genres_chart.sort_values('total_sales', ascending=False)['total_sales']\n",
    "\n",
    "fig, ax = plt.subplots()\n",
    "plt.bar(index, values)\n",
    "fig.set_figwidth(15)\n",
    "fig.suptitle('Общее количество проданных копий всех игр жанра')\n",
    "ax.grid()\n",
    "plt.show()\n",
    "\n",
    "index = genres_chart.sort_values('number_of_titles', ascending=False).index\n",
    "values = genres_chart.sort_values('number_of_titles', ascending=False)['number_of_titles']\n",
    "\n",
    "fig, ax = plt.subplots()\n",
    "plt.bar(index, values)\n",
    "fig.set_figwidth(15)\n",
    "fig.suptitle('Количество тайтлов в рамках жанра')\n",
    "ax.grid()\n",
    "plt.show()\n",
    "\n",
    "index = genres_chart.sort_values('mean_sales', ascending=False).index\n",
    "values = genres_chart.sort_values('mean_sales', ascending=False)['mean_sales']\n",
    "\n",
    "fig, ax = plt.subplots()\n",
    "plt.bar(index, values)\n",
    "fig.set_figwidth(15)\n",
    "fig.suptitle('Среднее количество проданных копий на 1 игру жанра')\n",
    "ax.grid()\n",
    "plt.show()"
   ]
  },
  {
   "cell_type": "markdown",
   "metadata": {},
   "source": [
    "По суммарному объему продаж в миллионах копий мы видим первую тройку:\n",
    "* Action\n",
    "* Sports \n",
    "* Shooter\n",
    "\n",
    "Однако средние продажи в миллионах копий на 1 тайтл в рамках группы дают нам немного другую картину: \n",
    "\n",
    "* Platform\n",
    "* Shooter \n",
    "* Role-Playing\n",
    "\n",
    "Комбинация этих двух факторов дает нам представление о популярных жанрах, в которых чаще встречаются кассовые хиты: \n",
    "\n",
    "* Shooter \n",
    "* Platform\n",
    "* Role-Playing\n",
    "* Sports \n",
    "* Racing"
   ]
  },
  {
   "cell_type": "markdown",
   "metadata": {},
   "source": [
    "# Портрет пользователя по регионам"
   ]
  },
  {
   "cell_type": "markdown",
   "metadata": {},
   "source": [
    "## Регион \"Северная Америка\""
   ]
  },
  {
   "cell_type": "code",
   "execution_count": 63,
   "metadata": {},
   "outputs": [
    {
     "data": {
      "text/html": [
       "<div>\n",
       "<style scoped>\n",
       "    .dataframe tbody tr th:only-of-type {\n",
       "        vertical-align: middle;\n",
       "    }\n",
       "\n",
       "    .dataframe tbody tr th {\n",
       "        vertical-align: top;\n",
       "    }\n",
       "\n",
       "    .dataframe thead th {\n",
       "        text-align: right;\n",
       "    }\n",
       "</style>\n",
       "<table border=\"1\" class=\"dataframe\">\n",
       "  <thead>\n",
       "    <tr style=\"text-align: right;\">\n",
       "      <th></th>\n",
       "      <th>platform</th>\n",
       "      <th>na_sales</th>\n",
       "      <th>platform_success</th>\n",
       "      <th>min_year_of_release</th>\n",
       "      <th>max_year_of_release</th>\n",
       "    </tr>\n",
       "  </thead>\n",
       "  <tbody>\n",
       "    <tr>\n",
       "      <td>3</td>\n",
       "      <td>X360</td>\n",
       "      <td>602.47</td>\n",
       "      <td>Потенциально неактуально</td>\n",
       "      <td>2005</td>\n",
       "      <td>2016</td>\n",
       "    </tr>\n",
       "    <tr>\n",
       "      <td>5</td>\n",
       "      <td>PS2</td>\n",
       "      <td>583.84</td>\n",
       "      <td>Неактуально</td>\n",
       "      <td>2000</td>\n",
       "      <td>2011</td>\n",
       "    </tr>\n",
       "    <tr>\n",
       "      <td>7</td>\n",
       "      <td>Wii</td>\n",
       "      <td>496.90</td>\n",
       "      <td>Потенциально неактуально</td>\n",
       "      <td>2006</td>\n",
       "      <td>2016</td>\n",
       "    </tr>\n",
       "    <tr>\n",
       "      <td>8</td>\n",
       "      <td>PS3</td>\n",
       "      <td>393.49</td>\n",
       "      <td>Потенциально неактуально</td>\n",
       "      <td>2006</td>\n",
       "      <td>2016</td>\n",
       "    </tr>\n",
       "    <tr>\n",
       "      <td>12</td>\n",
       "      <td>DS</td>\n",
       "      <td>382.40</td>\n",
       "      <td>Неактуально</td>\n",
       "      <td>2004</td>\n",
       "      <td>2013</td>\n",
       "    </tr>\n",
       "  </tbody>\n",
       "</table>\n",
       "</div>"
      ],
      "text/plain": [
       "   platform  na_sales          platform_success  min_year_of_release  \\\n",
       "3      X360    602.47  Потенциально неактуально                 2005   \n",
       "5       PS2    583.84               Неактуально                 2000   \n",
       "7       Wii    496.90  Потенциально неактуально                 2006   \n",
       "8       PS3    393.49  Потенциально неактуально                 2006   \n",
       "12       DS    382.40               Неактуально                 2004   \n",
       "\n",
       "    max_year_of_release  \n",
       "3                  2016  \n",
       "5                  2011  \n",
       "7                  2016  \n",
       "8                  2016  \n",
       "12                 2013  "
      ]
     },
     "execution_count": 63,
     "metadata": {},
     "output_type": "execute_result"
    }
   ],
   "source": [
    "#соберем таблицу с продажами игр в Северной Америке с разбивкой по платформам\n",
    "na_popular_platforms = data.pivot_table(index='platform', values='na_sales', aggfunc='sum')\n",
    "#присоединим к ней ранее сформированную таблицу с текущим статусом платформы\n",
    "na_popular_platforms = platform_year_check.join(na_popular_platforms, on='platform')\\\n",
    "[['platform', 'na_sales', 'platform_success', 'min_year_of_release', 'max_year_of_release']]\n",
    "#отсортируем значения по убыванию количества проданных копий игр\n",
    "na_popular_platforms = na_popular_platforms.sort_values('na_sales', ascending=False)\n",
    "na_popular_platforms.head()"
   ]
  },
  {
   "cell_type": "markdown",
   "metadata": {},
   "source": [
    "Мы видим, что все платформы из топ 5 либо уже неактуальны, либо перестанут быть таковыми в ближайшем будущем. Однако мы видим, что платформа X360 находится на верхней строчке рейтинга со значительным отрывов в количестве проданных игр от PS3 и Wii. Так как X360 - это платформа американской компании, мы можем сделать предположение, что в этом регионе у X360 наиболее агрессивная маркетинговая политика, что дало закономерный результат. \n",
    "\n",
    "Посмотрим на топ 5 актуальных платформ. "
   ]
  },
  {
   "cell_type": "code",
   "execution_count": 64,
   "metadata": {},
   "outputs": [
    {
     "data": {
      "text/html": [
       "<div>\n",
       "<style scoped>\n",
       "    .dataframe tbody tr th:only-of-type {\n",
       "        vertical-align: middle;\n",
       "    }\n",
       "\n",
       "    .dataframe tbody tr th {\n",
       "        vertical-align: top;\n",
       "    }\n",
       "\n",
       "    .dataframe thead th {\n",
       "        text-align: right;\n",
       "    }\n",
       "</style>\n",
       "<table border=\"1\" class=\"dataframe\">\n",
       "  <thead>\n",
       "    <tr style=\"text-align: right;\">\n",
       "      <th></th>\n",
       "      <th>platform</th>\n",
       "      <th>na_sales</th>\n",
       "      <th>platform_success</th>\n",
       "      <th>min_year_of_release</th>\n",
       "      <th>max_year_of_release</th>\n",
       "    </tr>\n",
       "  </thead>\n",
       "  <tbody>\n",
       "    <tr>\n",
       "      <td>23</td>\n",
       "      <td>PS4</td>\n",
       "      <td>108.74</td>\n",
       "      <td>Актуально</td>\n",
       "      <td>2013</td>\n",
       "      <td>2016</td>\n",
       "    </tr>\n",
       "    <tr>\n",
       "      <td>0</td>\n",
       "      <td>PC</td>\n",
       "      <td>94.53</td>\n",
       "      <td>Актуально</td>\n",
       "      <td>1985</td>\n",
       "      <td>2016</td>\n",
       "    </tr>\n",
       "    <tr>\n",
       "      <td>24</td>\n",
       "      <td>XOne</td>\n",
       "      <td>93.12</td>\n",
       "      <td>Актуально</td>\n",
       "      <td>2013</td>\n",
       "      <td>2016</td>\n",
       "    </tr>\n",
       "    <tr>\n",
       "      <td>18</td>\n",
       "      <td>3DS</td>\n",
       "      <td>83.49</td>\n",
       "      <td>Актуально</td>\n",
       "      <td>2011</td>\n",
       "      <td>2016</td>\n",
       "    </tr>\n",
       "    <tr>\n",
       "      <td>20</td>\n",
       "      <td>WiiU</td>\n",
       "      <td>38.10</td>\n",
       "      <td>Актуально</td>\n",
       "      <td>2012</td>\n",
       "      <td>2016</td>\n",
       "    </tr>\n",
       "  </tbody>\n",
       "</table>\n",
       "</div>"
      ],
      "text/plain": [
       "   platform  na_sales platform_success  min_year_of_release  \\\n",
       "23      PS4    108.74        Актуально                 2013   \n",
       "0        PC     94.53        Актуально                 1985   \n",
       "24     XOne     93.12        Актуально                 2013   \n",
       "18      3DS     83.49        Актуально                 2011   \n",
       "20     WiiU     38.10        Актуально                 2012   \n",
       "\n",
       "    max_year_of_release  \n",
       "23                 2016  \n",
       "0                  2016  \n",
       "24                 2016  \n",
       "18                 2016  \n",
       "20                 2016  "
      ]
     },
     "execution_count": 64,
     "metadata": {},
     "output_type": "execute_result"
    }
   ],
   "source": [
    "na_popular_platforms.loc[na_popular_platforms['platform_success'] ==  'Актуально'].head()"
   ]
  },
  {
   "cell_type": "markdown",
   "metadata": {},
   "source": [
    "Мы видим, что в текущем поколении наиболее популярная платформа PS4, однако необходимо делать поправку на то, что PC и XOne - фактически, игровые платформы одной компании. \n",
    "\n",
    "Также весьма популярна портативная платформа Nintendo 3DS, уступая порядка 25 млн копий проданных игр лидеру и около 10 млн платформе XOne. \n",
    "\n",
    "А вот WiiU хоть и входит в топ 5, почти в два с половиной-три раза уступает по количеству проданных копий другим платформам из топа. "
   ]
  },
  {
   "cell_type": "code",
   "execution_count": 65,
   "metadata": {},
   "outputs": [
    {
     "data": {
      "text/html": [
       "<div>\n",
       "<style scoped>\n",
       "    .dataframe tbody tr th:only-of-type {\n",
       "        vertical-align: middle;\n",
       "    }\n",
       "\n",
       "    .dataframe tbody tr th {\n",
       "        vertical-align: top;\n",
       "    }\n",
       "\n",
       "    .dataframe thead th {\n",
       "        text-align: right;\n",
       "    }\n",
       "</style>\n",
       "<table border=\"1\" class=\"dataframe\">\n",
       "  <thead>\n",
       "    <tr style=\"text-align: right;\">\n",
       "      <th></th>\n",
       "      <th>na_sales</th>\n",
       "    </tr>\n",
       "    <tr>\n",
       "      <th>genre</th>\n",
       "      <th></th>\n",
       "    </tr>\n",
       "  </thead>\n",
       "  <tbody>\n",
       "    <tr>\n",
       "      <td>Action</td>\n",
       "      <td>879.01</td>\n",
       "    </tr>\n",
       "    <tr>\n",
       "      <td>Sports</td>\n",
       "      <td>684.43</td>\n",
       "    </tr>\n",
       "    <tr>\n",
       "      <td>Shooter</td>\n",
       "      <td>592.24</td>\n",
       "    </tr>\n",
       "    <tr>\n",
       "      <td>Platform</td>\n",
       "      <td>445.50</td>\n",
       "    </tr>\n",
       "    <tr>\n",
       "      <td>Misc</td>\n",
       "      <td>407.27</td>\n",
       "    </tr>\n",
       "  </tbody>\n",
       "</table>\n",
       "</div>"
      ],
      "text/plain": [
       "          na_sales\n",
       "genre             \n",
       "Action      879.01\n",
       "Sports      684.43\n",
       "Shooter     592.24\n",
       "Platform    445.50\n",
       "Misc        407.27"
      ]
     },
     "execution_count": 65,
     "metadata": {},
     "output_type": "execute_result"
    }
   ],
   "source": [
    "na_popular_genres = data.pivot_table(index='genre', values='na_sales', aggfunc='sum').sort_values('na_sales', ascending=False)\n",
    "na_popular_genres.head()\n",
    "#получаем top 5 популярных жанров в регионе"
   ]
  },
  {
   "cell_type": "markdown",
   "metadata": {},
   "source": [
    "Возможно, популярность жанра важна в том числе в разрезе различных платформ. Попробуем это понять:"
   ]
  },
  {
   "cell_type": "code",
   "execution_count": 66,
   "metadata": {},
   "outputs": [
    {
     "data": {
      "text/html": [
       "<div>\n",
       "<style scoped>\n",
       "    .dataframe tbody tr th:only-of-type {\n",
       "        vertical-align: middle;\n",
       "    }\n",
       "\n",
       "    .dataframe tbody tr th {\n",
       "        vertical-align: top;\n",
       "    }\n",
       "\n",
       "    .dataframe thead th {\n",
       "        text-align: right;\n",
       "    }\n",
       "</style>\n",
       "<table border=\"1\" class=\"dataframe\">\n",
       "  <thead>\n",
       "    <tr style=\"text-align: right;\">\n",
       "      <th></th>\n",
       "      <th>platform</th>\n",
       "      <th>na_sales</th>\n",
       "      <th>platform_success</th>\n",
       "      <th>min_year_of_release</th>\n",
       "      <th>max_year_of_release</th>\n",
       "      <th>Action</th>\n",
       "      <th>Adventure</th>\n",
       "      <th>Fighting</th>\n",
       "      <th>Misc</th>\n",
       "      <th>Platform</th>\n",
       "      <th>Puzzle</th>\n",
       "      <th>Racing</th>\n",
       "      <th>Role-Playing</th>\n",
       "      <th>Shooter</th>\n",
       "      <th>Simulation</th>\n",
       "      <th>Sports</th>\n",
       "      <th>Strategy</th>\n",
       "    </tr>\n",
       "  </thead>\n",
       "  <tbody>\n",
       "    <tr>\n",
       "      <td>23</td>\n",
       "      <td>PS4</td>\n",
       "      <td>108.74</td>\n",
       "      <td>Актуально</td>\n",
       "      <td>2013</td>\n",
       "      <td>2016</td>\n",
       "      <td>32.83</td>\n",
       "      <td>1.95</td>\n",
       "      <td>3.60</td>\n",
       "      <td>3.14</td>\n",
       "      <td>2.45</td>\n",
       "      <td>0.00</td>\n",
       "      <td>2.61</td>\n",
       "      <td>9.34</td>\n",
       "      <td>32.66</td>\n",
       "      <td>0.21</td>\n",
       "      <td>19.78</td>\n",
       "      <td>0.17</td>\n",
       "    </tr>\n",
       "    <tr>\n",
       "      <td>0</td>\n",
       "      <td>PC</td>\n",
       "      <td>94.53</td>\n",
       "      <td>Актуально</td>\n",
       "      <td>1985</td>\n",
       "      <td>2016</td>\n",
       "      <td>10.15</td>\n",
       "      <td>1.76</td>\n",
       "      <td>0.10</td>\n",
       "      <td>5.69</td>\n",
       "      <td>0.05</td>\n",
       "      <td>0.09</td>\n",
       "      <td>0.44</td>\n",
       "      <td>17.35</td>\n",
       "      <td>18.81</td>\n",
       "      <td>20.08</td>\n",
       "      <td>0.38</td>\n",
       "      <td>19.63</td>\n",
       "    </tr>\n",
       "    <tr>\n",
       "      <td>24</td>\n",
       "      <td>XOne</td>\n",
       "      <td>93.12</td>\n",
       "      <td>Актуально</td>\n",
       "      <td>2013</td>\n",
       "      <td>2016</td>\n",
       "      <td>21.37</td>\n",
       "      <td>1.27</td>\n",
       "      <td>1.65</td>\n",
       "      <td>4.77</td>\n",
       "      <td>0.51</td>\n",
       "      <td>NaN</td>\n",
       "      <td>4.36</td>\n",
       "      <td>6.15</td>\n",
       "      <td>36.86</td>\n",
       "      <td>0.32</td>\n",
       "      <td>15.59</td>\n",
       "      <td>0.27</td>\n",
       "    </tr>\n",
       "    <tr>\n",
       "      <td>18</td>\n",
       "      <td>3DS</td>\n",
       "      <td>83.49</td>\n",
       "      <td>Актуально</td>\n",
       "      <td>2011</td>\n",
       "      <td>2016</td>\n",
       "      <td>19.80</td>\n",
       "      <td>1.18</td>\n",
       "      <td>4.46</td>\n",
       "      <td>2.69</td>\n",
       "      <td>13.27</td>\n",
       "      <td>1.30</td>\n",
       "      <td>6.35</td>\n",
       "      <td>23.76</td>\n",
       "      <td>0.66</td>\n",
       "      <td>7.58</td>\n",
       "      <td>1.66</td>\n",
       "      <td>0.78</td>\n",
       "    </tr>\n",
       "    <tr>\n",
       "      <td>20</td>\n",
       "      <td>WiiU</td>\n",
       "      <td>38.10</td>\n",
       "      <td>Актуально</td>\n",
       "      <td>2012</td>\n",
       "      <td>2016</td>\n",
       "      <td>9.69</td>\n",
       "      <td>0.07</td>\n",
       "      <td>3.28</td>\n",
       "      <td>5.50</td>\n",
       "      <td>9.94</td>\n",
       "      <td>0.62</td>\n",
       "      <td>3.47</td>\n",
       "      <td>1.06</td>\n",
       "      <td>2.34</td>\n",
       "      <td>0.14</td>\n",
       "      <td>1.50</td>\n",
       "      <td>0.49</td>\n",
       "    </tr>\n",
       "  </tbody>\n",
       "</table>\n",
       "</div>"
      ],
      "text/plain": [
       "   platform  na_sales platform_success  min_year_of_release  \\\n",
       "23      PS4    108.74        Актуально                 2013   \n",
       "0        PC     94.53        Актуально                 1985   \n",
       "24     XOne     93.12        Актуально                 2013   \n",
       "18      3DS     83.49        Актуально                 2011   \n",
       "20     WiiU     38.10        Актуально                 2012   \n",
       "\n",
       "    max_year_of_release  Action  Adventure  Fighting  Misc  Platform  Puzzle  \\\n",
       "23                 2016   32.83       1.95      3.60  3.14      2.45    0.00   \n",
       "0                  2016   10.15       1.76      0.10  5.69      0.05    0.09   \n",
       "24                 2016   21.37       1.27      1.65  4.77      0.51     NaN   \n",
       "18                 2016   19.80       1.18      4.46  2.69     13.27    1.30   \n",
       "20                 2016    9.69       0.07      3.28  5.50      9.94    0.62   \n",
       "\n",
       "    Racing  Role-Playing  Shooter  Simulation  Sports  Strategy  \n",
       "23    2.61          9.34    32.66        0.21   19.78      0.17  \n",
       "0     0.44         17.35    18.81       20.08    0.38     19.63  \n",
       "24    4.36          6.15    36.86        0.32   15.59      0.27  \n",
       "18    6.35         23.76     0.66        7.58    1.66      0.78  \n",
       "20    3.47          1.06     2.34        0.14    1.50      0.49  "
      ]
     },
     "execution_count": 66,
     "metadata": {},
     "output_type": "execute_result"
    }
   ],
   "source": [
    "na_genre_sep = data.pivot_table(index='platform', columns='genre', values='na_sales', aggfunc='sum')\n",
    "na_popular_platforms = na_popular_platforms.join(na_genre_sep, on='platform')\n",
    "na_popular_platforms.loc[na_popular_platforms['platform_success'] == 'Актуально'].head()"
   ]
  },
  {
   "cell_type": "markdown",
   "metadata": {},
   "source": [
    "Картина действительно немного отличается: \n",
    "\n",
    "* Для группы \"стационарные консоли\" топ 5 в Северной Америке выглядит так: \n",
    "    + Shooter\n",
    "    + Action\n",
    "    + Sports \n",
    "    + Role-Playing\n",
    "    + Fighting\n",
    "    \n",
    "* Для PC этот топ значительно отличается (появляются два абсолютно непопулярных на консолях жанра): \n",
    "    + Simulation\n",
    "    + Strategy\n",
    "    + Shooter \n",
    "    + Role-Playing\n",
    "    + Action\n",
    "    \n",
    "* Для консолей Nintendo топ также отличается (на этих консолях также есть свой \"особенный жанр\" - платформеры): \n",
    "    + Action\n",
    "    + Platform\n",
    "    + Role-Playing (для 3DS) \n",
    "    + Simulation (для 3DS) \n",
    "    + Racing"
   ]
  },
  {
   "cell_type": "code",
   "execution_count": 67,
   "metadata": {},
   "outputs": [
    {
     "data": {
      "text/html": [
       "<div>\n",
       "<style scoped>\n",
       "    .dataframe tbody tr th:only-of-type {\n",
       "        vertical-align: middle;\n",
       "    }\n",
       "\n",
       "    .dataframe tbody tr th {\n",
       "        vertical-align: top;\n",
       "    }\n",
       "\n",
       "    .dataframe thead th {\n",
       "        text-align: right;\n",
       "    }\n",
       "</style>\n",
       "<table border=\"1\" class=\"dataframe\">\n",
       "  <thead>\n",
       "    <tr style=\"text-align: right;\">\n",
       "      <th></th>\n",
       "      <th>rating</th>\n",
       "      <th>na_sales</th>\n",
       "    </tr>\n",
       "  </thead>\n",
       "  <tbody>\n",
       "    <tr>\n",
       "      <td>1</td>\n",
       "      <td>E</td>\n",
       "      <td>1292.99</td>\n",
       "    </tr>\n",
       "    <tr>\n",
       "      <td>7</td>\n",
       "      <td>T</td>\n",
       "      <td>759.75</td>\n",
       "    </tr>\n",
       "    <tr>\n",
       "      <td>5</td>\n",
       "      <td>M</td>\n",
       "      <td>748.48</td>\n",
       "    </tr>\n",
       "    <tr>\n",
       "      <td>2</td>\n",
       "      <td>E10+</td>\n",
       "      <td>353.32</td>\n",
       "    </tr>\n",
       "    <tr>\n",
       "      <td>4</td>\n",
       "      <td>K-A</td>\n",
       "      <td>2.56</td>\n",
       "    </tr>\n",
       "    <tr>\n",
       "      <td>3</td>\n",
       "      <td>EC</td>\n",
       "      <td>1.53</td>\n",
       "    </tr>\n",
       "    <tr>\n",
       "      <td>0</td>\n",
       "      <td>AO</td>\n",
       "      <td>1.26</td>\n",
       "    </tr>\n",
       "    <tr>\n",
       "      <td>6</td>\n",
       "      <td>RP</td>\n",
       "      <td>0.00</td>\n",
       "    </tr>\n",
       "  </tbody>\n",
       "</table>\n",
       "</div>"
      ],
      "text/plain": [
       "  rating  na_sales\n",
       "1      E   1292.99\n",
       "7      T    759.75\n",
       "5      M    748.48\n",
       "2   E10+    353.32\n",
       "4    K-A      2.56\n",
       "3     EC      1.53\n",
       "0     AO      1.26\n",
       "6     RP      0.00"
      ]
     },
     "execution_count": 67,
     "metadata": {},
     "output_type": "execute_result"
    }
   ],
   "source": [
    "rating = data.pivot_table(index='rating', values='na_sales', aggfunc='sum').reset_index()\\\n",
    ".sort_values('na_sales', ascending=False)\n",
    "rating"
   ]
  },
  {
   "cell_type": "code",
   "execution_count": 68,
   "metadata": {},
   "outputs": [
    {
     "data": {
      "image/png": "[encoded data removed]",
      "text/plain": [
       "<Figure size 1080x288 with 1 Axes>"
      ]
     },
     "metadata": {
      "needs_background": "light"
     },
     "output_type": "display_data"
    }
   ],
   "source": [
    "index = rating['rating']\n",
    "values = rating['na_sales']\n",
    "\n",
    "fig, ax = plt.subplots()\n",
    "plt.bar(index, values)\n",
    "fig.set_figwidth(15)\n",
    "fig.suptitle('Количество проданных игр по возрастным рейтингам, млн. копий')\n",
    "ax.grid()\n",
    "plt.show()"
   ]
  },
  {
   "cell_type": "markdown",
   "metadata": {},
   "source": [
    "* ESRB (Entertainment Software Rating Board) - система рейтингов, используемая в Северной Америке\n",
    "    + E - базовый рейтинг. Игра подходит для всех возрастов\n",
    "    + T - подростковый рейтинг (для детей 13+ лет)\n",
    "    + M - рейтинг 17+\n",
    "    + E10+ - рейтинг игр для детей 10 лет и старше\n",
    "    + EC - раннее детство. Игра предназначена для детей дошкольного возраста\n",
    "    + RP - рейтинг в ожидании. <span style=\"text-decoration:underline\">Эта комбинация выступает в качестве филлера для игр, рейтинг которым еще не присвоен</span>\n",
    "    + K-A - рейтинг \"Kids to Adults\". По смыслу похоже, что рейтинг аналогичен рейтингу E \n",
    "    + AO - рейтинг игр \"только для взрослых\""
   ]
  },
  {
   "cell_type": "markdown",
   "metadata": {},
   "source": [
    "Мы видим, что наиболее продаваемые игры имеют рейтинг E, то есть пригодны для всех возрастов. Игры для детей 10 и 13 лет дают еще примерно такое же количество копий, как и игры для всех возрастов. Однако на втором месте по количеству проданных копий находятся игры с довольно высокой возрастной планкой - 17 лет. \n",
    "\n",
    "На графике не видно прямой зависимости между коммерческим успехом и рейтингом игры. "
   ]
  },
  {
   "cell_type": "markdown",
   "metadata": {},
   "source": [
    "## Регион \"Европа\""
   ]
  },
  {
   "cell_type": "code",
   "execution_count": 69,
   "metadata": {},
   "outputs": [
    {
     "data": {
      "text/html": [
       "<div>\n",
       "<style scoped>\n",
       "    .dataframe tbody tr th:only-of-type {\n",
       "        vertical-align: middle;\n",
       "    }\n",
       "\n",
       "    .dataframe tbody tr th {\n",
       "        vertical-align: top;\n",
       "    }\n",
       "\n",
       "    .dataframe thead th {\n",
       "        text-align: right;\n",
       "    }\n",
       "</style>\n",
       "<table border=\"1\" class=\"dataframe\">\n",
       "  <thead>\n",
       "    <tr style=\"text-align: right;\">\n",
       "      <th></th>\n",
       "      <th>platform</th>\n",
       "      <th>eu_sales</th>\n",
       "      <th>platform_success</th>\n",
       "      <th>min_year_of_release</th>\n",
       "      <th>max_year_of_release</th>\n",
       "    </tr>\n",
       "  </thead>\n",
       "  <tbody>\n",
       "    <tr>\n",
       "      <td>5</td>\n",
       "      <td>PS2</td>\n",
       "      <td>339.29</td>\n",
       "      <td>Неактуально</td>\n",
       "      <td>2000</td>\n",
       "      <td>2011</td>\n",
       "    </tr>\n",
       "    <tr>\n",
       "      <td>8</td>\n",
       "      <td>PS3</td>\n",
       "      <td>330.29</td>\n",
       "      <td>Потенциально неактуально</td>\n",
       "      <td>2006</td>\n",
       "      <td>2016</td>\n",
       "    </tr>\n",
       "    <tr>\n",
       "      <td>3</td>\n",
       "      <td>X360</td>\n",
       "      <td>270.76</td>\n",
       "      <td>Потенциально неактуально</td>\n",
       "      <td>2005</td>\n",
       "      <td>2016</td>\n",
       "    </tr>\n",
       "    <tr>\n",
       "      <td>7</td>\n",
       "      <td>Wii</td>\n",
       "      <td>262.21</td>\n",
       "      <td>Потенциально неактуально</td>\n",
       "      <td>2006</td>\n",
       "      <td>2016</td>\n",
       "    </tr>\n",
       "    <tr>\n",
       "      <td>11</td>\n",
       "      <td>PS</td>\n",
       "      <td>213.61</td>\n",
       "      <td>Неактуально</td>\n",
       "      <td>1994</td>\n",
       "      <td>2003</td>\n",
       "    </tr>\n",
       "  </tbody>\n",
       "</table>\n",
       "</div>"
      ],
      "text/plain": [
       "   platform  eu_sales          platform_success  min_year_of_release  \\\n",
       "5       PS2    339.29               Неактуально                 2000   \n",
       "8       PS3    330.29  Потенциально неактуально                 2006   \n",
       "3      X360    270.76  Потенциально неактуально                 2005   \n",
       "7       Wii    262.21  Потенциально неактуально                 2006   \n",
       "11       PS    213.61               Неактуально                 1994   \n",
       "\n",
       "    max_year_of_release  \n",
       "5                  2011  \n",
       "8                  2016  \n",
       "3                  2016  \n",
       "7                  2016  \n",
       "11                 2003  "
      ]
     },
     "execution_count": 69,
     "metadata": {},
     "output_type": "execute_result"
    }
   ],
   "source": [
    "#соберем таблицу с продажами игр в Европе с разбивкой по платформам\n",
    "eu_popular_platforms = data.pivot_table(index='platform', values='eu_sales', aggfunc='sum')\n",
    "#присоединим к ней ранее сформированную таблицу с текущим статусом платформы\n",
    "eu_popular_platforms = platform_year_check.join(eu_popular_platforms, on='platform')\\\n",
    "[['platform', 'eu_sales', 'platform_success', 'min_year_of_release', 'max_year_of_release']]\n",
    "#отсортируем значения по убыванию количества проданных копий игр\n",
    "eu_popular_platforms = eu_popular_platforms.sort_values('eu_sales', ascending=False)\n",
    "eu_popular_platforms.head()"
   ]
  },
  {
   "cell_type": "code",
   "execution_count": 70,
   "metadata": {},
   "outputs": [
    {
     "data": {
      "text/html": [
       "<div>\n",
       "<style scoped>\n",
       "    .dataframe tbody tr th:only-of-type {\n",
       "        vertical-align: middle;\n",
       "    }\n",
       "\n",
       "    .dataframe tbody tr th {\n",
       "        vertical-align: top;\n",
       "    }\n",
       "\n",
       "    .dataframe thead th {\n",
       "        text-align: right;\n",
       "    }\n",
       "</style>\n",
       "<table border=\"1\" class=\"dataframe\">\n",
       "  <thead>\n",
       "    <tr style=\"text-align: right;\">\n",
       "      <th></th>\n",
       "      <th>platform</th>\n",
       "      <th>eu_sales</th>\n",
       "      <th>platform_success</th>\n",
       "      <th>min_year_of_release</th>\n",
       "      <th>max_year_of_release</th>\n",
       "    </tr>\n",
       "  </thead>\n",
       "  <tbody>\n",
       "    <tr>\n",
       "      <td>0</td>\n",
       "      <td>PC</td>\n",
       "      <td>142.44</td>\n",
       "      <td>Актуально</td>\n",
       "      <td>1985</td>\n",
       "      <td>2016</td>\n",
       "    </tr>\n",
       "    <tr>\n",
       "      <td>23</td>\n",
       "      <td>PS4</td>\n",
       "      <td>141.09</td>\n",
       "      <td>Актуально</td>\n",
       "      <td>2013</td>\n",
       "      <td>2016</td>\n",
       "    </tr>\n",
       "    <tr>\n",
       "      <td>18</td>\n",
       "      <td>3DS</td>\n",
       "      <td>61.48</td>\n",
       "      <td>Актуально</td>\n",
       "      <td>2011</td>\n",
       "      <td>2016</td>\n",
       "    </tr>\n",
       "    <tr>\n",
       "      <td>24</td>\n",
       "      <td>XOne</td>\n",
       "      <td>51.59</td>\n",
       "      <td>Актуально</td>\n",
       "      <td>2013</td>\n",
       "      <td>2016</td>\n",
       "    </tr>\n",
       "    <tr>\n",
       "      <td>20</td>\n",
       "      <td>WiiU</td>\n",
       "      <td>25.13</td>\n",
       "      <td>Актуально</td>\n",
       "      <td>2012</td>\n",
       "      <td>2016</td>\n",
       "    </tr>\n",
       "  </tbody>\n",
       "</table>\n",
       "</div>"
      ],
      "text/plain": [
       "   platform  eu_sales platform_success  min_year_of_release  \\\n",
       "0        PC    142.44        Актуально                 1985   \n",
       "23      PS4    141.09        Актуально                 2013   \n",
       "18      3DS     61.48        Актуально                 2011   \n",
       "24     XOne     51.59        Актуально                 2013   \n",
       "20     WiiU     25.13        Актуально                 2012   \n",
       "\n",
       "    max_year_of_release  \n",
       "0                  2016  \n",
       "23                 2016  \n",
       "18                 2016  \n",
       "24                 2016  \n",
       "20                 2016  "
      ]
     },
     "execution_count": 70,
     "metadata": {},
     "output_type": "execute_result"
    }
   ],
   "source": [
    "#теперь посмотрим на топ 5 актуальных платформ\n",
    "eu_popular_platforms.loc[eu_popular_platforms['platform_success'] == 'Актуально'].head()"
   ]
  },
  {
   "cell_type": "markdown",
   "metadata": {},
   "source": [
    "Мы видим, что в Европе наиболее популярная игровая платформ - это PC. Вероятно, на это влияет Восточная Европа, где ПК всегда был популярен в силу большей универсальности платформы (она не только игровая). Практически вровень с этой платформой идет PS4 - эта платформа находится на первом месте в США, но довольно сильно уступает по общему количеству проданных копий игр (109 млн против 141 млн копий). "
   ]
  },
  {
   "cell_type": "code",
   "execution_count": 71,
   "metadata": {},
   "outputs": [
    {
     "data": {
      "text/html": [
       "<div>\n",
       "<style scoped>\n",
       "    .dataframe tbody tr th:only-of-type {\n",
       "        vertical-align: middle;\n",
       "    }\n",
       "\n",
       "    .dataframe tbody tr th {\n",
       "        vertical-align: top;\n",
       "    }\n",
       "\n",
       "    .dataframe thead th {\n",
       "        text-align: right;\n",
       "    }\n",
       "</style>\n",
       "<table border=\"1\" class=\"dataframe\">\n",
       "  <thead>\n",
       "    <tr style=\"text-align: right;\">\n",
       "      <th></th>\n",
       "      <th>eu_sales</th>\n",
       "    </tr>\n",
       "    <tr>\n",
       "      <th>genre</th>\n",
       "      <th></th>\n",
       "    </tr>\n",
       "  </thead>\n",
       "  <tbody>\n",
       "    <tr>\n",
       "      <td>Action</td>\n",
       "      <td>519.13</td>\n",
       "    </tr>\n",
       "    <tr>\n",
       "      <td>Sports</td>\n",
       "      <td>376.79</td>\n",
       "    </tr>\n",
       "    <tr>\n",
       "      <td>Shooter</td>\n",
       "      <td>317.34</td>\n",
       "    </tr>\n",
       "    <tr>\n",
       "      <td>Racing</td>\n",
       "      <td>236.51</td>\n",
       "    </tr>\n",
       "    <tr>\n",
       "      <td>Misc</td>\n",
       "      <td>212.74</td>\n",
       "    </tr>\n",
       "  </tbody>\n",
       "</table>\n",
       "</div>"
      ],
      "text/plain": [
       "         eu_sales\n",
       "genre            \n",
       "Action     519.13\n",
       "Sports     376.79\n",
       "Shooter    317.34\n",
       "Racing     236.51\n",
       "Misc       212.74"
      ]
     },
     "execution_count": 71,
     "metadata": {},
     "output_type": "execute_result"
    }
   ],
   "source": [
    "eu_popular_genres = data.pivot_table(index='genre', values='eu_sales', aggfunc='sum').sort_values('eu_sales', ascending=False)\n",
    "eu_popular_genres.head()\n",
    "#получаем top 5 популярных жанров в регионе"
   ]
  },
  {
   "cell_type": "markdown",
   "metadata": {},
   "source": [
    "Мы видим, что топ 5 жанров похож на результат Северной Америки с отличием на 4м месте - вместо жанра Platform мы видим Racing. Вероятно, на это влияет меньший спрос на консоли Nintendo, где, как мы выяснили, и популярны игры жанра \"платформер\". "
   ]
  },
  {
   "cell_type": "code",
   "execution_count": 72,
   "metadata": {},
   "outputs": [
    {
     "data": {
      "text/html": [
       "<div>\n",
       "<style scoped>\n",
       "    .dataframe tbody tr th:only-of-type {\n",
       "        vertical-align: middle;\n",
       "    }\n",
       "\n",
       "    .dataframe tbody tr th {\n",
       "        vertical-align: top;\n",
       "    }\n",
       "\n",
       "    .dataframe thead th {\n",
       "        text-align: right;\n",
       "    }\n",
       "</style>\n",
       "<table border=\"1\" class=\"dataframe\">\n",
       "  <thead>\n",
       "    <tr style=\"text-align: right;\">\n",
       "      <th></th>\n",
       "      <th>platform</th>\n",
       "      <th>eu_sales</th>\n",
       "      <th>platform_success</th>\n",
       "      <th>min_year_of_release</th>\n",
       "      <th>max_year_of_release</th>\n",
       "      <th>Action</th>\n",
       "      <th>Adventure</th>\n",
       "      <th>Fighting</th>\n",
       "      <th>Misc</th>\n",
       "      <th>Platform</th>\n",
       "      <th>Puzzle</th>\n",
       "      <th>Racing</th>\n",
       "      <th>Role-Playing</th>\n",
       "      <th>Shooter</th>\n",
       "      <th>Simulation</th>\n",
       "      <th>Sports</th>\n",
       "      <th>Strategy</th>\n",
       "    </tr>\n",
       "  </thead>\n",
       "  <tbody>\n",
       "    <tr>\n",
       "      <td>0</td>\n",
       "      <td>PC</td>\n",
       "      <td>142.44</td>\n",
       "      <td>Актуально</td>\n",
       "      <td>1985</td>\n",
       "      <td>2016</td>\n",
       "      <td>10.15</td>\n",
       "      <td>1.76</td>\n",
       "      <td>0.10</td>\n",
       "      <td>5.69</td>\n",
       "      <td>0.05</td>\n",
       "      <td>0.09</td>\n",
       "      <td>0.44</td>\n",
       "      <td>17.35</td>\n",
       "      <td>18.81</td>\n",
       "      <td>20.08</td>\n",
       "      <td>0.38</td>\n",
       "      <td>19.63</td>\n",
       "    </tr>\n",
       "    <tr>\n",
       "      <td>23</td>\n",
       "      <td>PS4</td>\n",
       "      <td>141.09</td>\n",
       "      <td>Актуально</td>\n",
       "      <td>2013</td>\n",
       "      <td>2016</td>\n",
       "      <td>32.83</td>\n",
       "      <td>1.95</td>\n",
       "      <td>3.60</td>\n",
       "      <td>3.14</td>\n",
       "      <td>2.45</td>\n",
       "      <td>0.00</td>\n",
       "      <td>2.61</td>\n",
       "      <td>9.34</td>\n",
       "      <td>32.66</td>\n",
       "      <td>0.21</td>\n",
       "      <td>19.78</td>\n",
       "      <td>0.17</td>\n",
       "    </tr>\n",
       "    <tr>\n",
       "      <td>18</td>\n",
       "      <td>3DS</td>\n",
       "      <td>61.48</td>\n",
       "      <td>Актуально</td>\n",
       "      <td>2011</td>\n",
       "      <td>2016</td>\n",
       "      <td>19.80</td>\n",
       "      <td>1.18</td>\n",
       "      <td>4.46</td>\n",
       "      <td>2.69</td>\n",
       "      <td>13.27</td>\n",
       "      <td>1.30</td>\n",
       "      <td>6.35</td>\n",
       "      <td>23.76</td>\n",
       "      <td>0.66</td>\n",
       "      <td>7.58</td>\n",
       "      <td>1.66</td>\n",
       "      <td>0.78</td>\n",
       "    </tr>\n",
       "    <tr>\n",
       "      <td>24</td>\n",
       "      <td>XOne</td>\n",
       "      <td>51.59</td>\n",
       "      <td>Актуально</td>\n",
       "      <td>2013</td>\n",
       "      <td>2016</td>\n",
       "      <td>21.37</td>\n",
       "      <td>1.27</td>\n",
       "      <td>1.65</td>\n",
       "      <td>4.77</td>\n",
       "      <td>0.51</td>\n",
       "      <td>NaN</td>\n",
       "      <td>4.36</td>\n",
       "      <td>6.15</td>\n",
       "      <td>36.86</td>\n",
       "      <td>0.32</td>\n",
       "      <td>15.59</td>\n",
       "      <td>0.27</td>\n",
       "    </tr>\n",
       "    <tr>\n",
       "      <td>20</td>\n",
       "      <td>WiiU</td>\n",
       "      <td>25.13</td>\n",
       "      <td>Актуально</td>\n",
       "      <td>2012</td>\n",
       "      <td>2016</td>\n",
       "      <td>9.69</td>\n",
       "      <td>0.07</td>\n",
       "      <td>3.28</td>\n",
       "      <td>5.50</td>\n",
       "      <td>9.94</td>\n",
       "      <td>0.62</td>\n",
       "      <td>3.47</td>\n",
       "      <td>1.06</td>\n",
       "      <td>2.34</td>\n",
       "      <td>0.14</td>\n",
       "      <td>1.50</td>\n",
       "      <td>0.49</td>\n",
       "    </tr>\n",
       "  </tbody>\n",
       "</table>\n",
       "</div>"
      ],
      "text/plain": [
       "   platform  eu_sales platform_success  min_year_of_release  \\\n",
       "0        PC    142.44        Актуально                 1985   \n",
       "23      PS4    141.09        Актуально                 2013   \n",
       "18      3DS     61.48        Актуально                 2011   \n",
       "24     XOne     51.59        Актуально                 2013   \n",
       "20     WiiU     25.13        Актуально                 2012   \n",
       "\n",
       "    max_year_of_release  Action  Adventure  Fighting  Misc  Platform  Puzzle  \\\n",
       "0                  2016   10.15       1.76      0.10  5.69      0.05    0.09   \n",
       "23                 2016   32.83       1.95      3.60  3.14      2.45    0.00   \n",
       "18                 2016   19.80       1.18      4.46  2.69     13.27    1.30   \n",
       "24                 2016   21.37       1.27      1.65  4.77      0.51     NaN   \n",
       "20                 2016    9.69       0.07      3.28  5.50      9.94    0.62   \n",
       "\n",
       "    Racing  Role-Playing  Shooter  Simulation  Sports  Strategy  \n",
       "0     0.44         17.35    18.81       20.08    0.38     19.63  \n",
       "23    2.61          9.34    32.66        0.21   19.78      0.17  \n",
       "18    6.35         23.76     0.66        7.58    1.66      0.78  \n",
       "24    4.36          6.15    36.86        0.32   15.59      0.27  \n",
       "20    3.47          1.06     2.34        0.14    1.50      0.49  "
      ]
     },
     "execution_count": 72,
     "metadata": {},
     "output_type": "execute_result"
    }
   ],
   "source": [
    "eu_genre_sep = data.pivot_table(index='platform', columns='genre', values='na_sales', aggfunc='sum')\n",
    "eu_popular_platforms = eu_popular_platforms.join(eu_genre_sep, on='platform')\n",
    "eu_popular_platforms.loc[eu_popular_platforms['platform_success'] == 'Актуально'].head()"
   ]
  },
  {
   "cell_type": "markdown",
   "metadata": {},
   "source": [
    "Несмотря на большую популярность \"традиционных\" консольных жанров в Европе, текущий лидер среди актуальных платформ совсем иначе расставляет приоритеты жанров: \n",
    "\n",
    "* Топ 5 жанров для PC (совпадает с аналогичным для Северной Америки): \n",
    "    + Simulation\n",
    "    + Strategy\n",
    "    + Shooter \n",
    "    + Role-Playing\n",
    "    + Action\n",
    "\n",
    "* Для группы \"стационарные консоли\" топ 5 в Европе выглядит так: \n",
    "    + Shooter\n",
    "    + Action\n",
    "    + Sports \n",
    "    + Role-Playing\n",
    "    + Misc.\n",
    "        \n",
    "* Для консолей Nintendo топ также отличается (на этих консолях также есть свой \"особенный жанр\" - платформеры): \n",
    "    + Action\n",
    "    + Role-Playing (для 3DS) \n",
    "    + Platform\n",
    "    + Racing \n",
    "    + Simulation (для 3DS)\n",
    "    \n",
    "    \n",
    "В целом, мы видим, что распределение жанр по разным типам платформ, входящих в пятерку актуальных, в Европе также отличается между платформами, но похоже на таковое в Северное Америке."
   ]
  },
  {
   "cell_type": "code",
   "execution_count": 73,
   "metadata": {},
   "outputs": [
    {
     "data": {
      "text/html": [
       "<div>\n",
       "<style scoped>\n",
       "    .dataframe tbody tr th:only-of-type {\n",
       "        vertical-align: middle;\n",
       "    }\n",
       "\n",
       "    .dataframe tbody tr th {\n",
       "        vertical-align: top;\n",
       "    }\n",
       "\n",
       "    .dataframe thead th {\n",
       "        text-align: right;\n",
       "    }\n",
       "</style>\n",
       "<table border=\"1\" class=\"dataframe\">\n",
       "  <thead>\n",
       "    <tr style=\"text-align: right;\">\n",
       "      <th></th>\n",
       "      <th>rating</th>\n",
       "      <th>eu_sales</th>\n",
       "    </tr>\n",
       "  </thead>\n",
       "  <tbody>\n",
       "    <tr>\n",
       "      <td>1</td>\n",
       "      <td>E</td>\n",
       "      <td>710.25</td>\n",
       "    </tr>\n",
       "    <tr>\n",
       "      <td>5</td>\n",
       "      <td>M</td>\n",
       "      <td>483.97</td>\n",
       "    </tr>\n",
       "    <tr>\n",
       "      <td>7</td>\n",
       "      <td>T</td>\n",
       "      <td>427.03</td>\n",
       "    </tr>\n",
       "    <tr>\n",
       "      <td>2</td>\n",
       "      <td>E10+</td>\n",
       "      <td>188.52</td>\n",
       "    </tr>\n",
       "    <tr>\n",
       "      <td>0</td>\n",
       "      <td>AO</td>\n",
       "      <td>0.61</td>\n",
       "    </tr>\n",
       "    <tr>\n",
       "      <td>4</td>\n",
       "      <td>K-A</td>\n",
       "      <td>0.27</td>\n",
       "    </tr>\n",
       "    <tr>\n",
       "      <td>3</td>\n",
       "      <td>EC</td>\n",
       "      <td>0.11</td>\n",
       "    </tr>\n",
       "    <tr>\n",
       "      <td>6</td>\n",
       "      <td>RP</td>\n",
       "      <td>0.08</td>\n",
       "    </tr>\n",
       "  </tbody>\n",
       "</table>\n",
       "</div>"
      ],
      "text/plain": [
       "  rating  eu_sales\n",
       "1      E    710.25\n",
       "5      M    483.97\n",
       "7      T    427.03\n",
       "2   E10+    188.52\n",
       "0     AO      0.61\n",
       "4    K-A      0.27\n",
       "3     EC      0.11\n",
       "6     RP      0.08"
      ]
     },
     "execution_count": 73,
     "metadata": {},
     "output_type": "execute_result"
    }
   ],
   "source": [
    "rating = data.pivot_table(index='rating', values='eu_sales', aggfunc='sum').reset_index()\\\n",
    ".sort_values('eu_sales', ascending=False)\n",
    "rating"
   ]
  },
  {
   "cell_type": "code",
   "execution_count": 74,
   "metadata": {},
   "outputs": [
    {
     "data": {
      "image/png": "[encoded data removed]",
      "text/plain": [
       "<Figure size 1080x288 with 1 Axes>"
      ]
     },
     "metadata": {
      "needs_background": "light"
     },
     "output_type": "display_data"
    }
   ],
   "source": [
    "index = rating['rating']\n",
    "values = rating['eu_sales']\n",
    "\n",
    "fig, ax = plt.subplots()\n",
    "plt.bar(index, values)\n",
    "fig.set_figwidth(15)\n",
    "fig.suptitle('Количество проданных игр по возрастным рейтингам, млн. копий')\n",
    "ax.grid()\n",
    "plt.show()"
   ]
  },
  {
   "cell_type": "markdown",
   "metadata": {},
   "source": [
    "Мы видим, что топ 3 состоит из тех же возрастных рейтингов, что и Северное Америке с отличием в их положении. Второе место в Европе по количеству проданных игр занимает рейтинг 17+. Не похоже, что возрастной рейтинг существенно влияет на продажи игр."
   ]
  },
  {
   "cell_type": "markdown",
   "metadata": {},
   "source": [
    "## Регион \"Япония\""
   ]
  },
  {
   "cell_type": "markdown",
   "metadata": {},
   "source": [
    "Проделаем аналогичный набор процедур для Японии."
   ]
  },
  {
   "cell_type": "code",
   "execution_count": 75,
   "metadata": {},
   "outputs": [
    {
     "data": {
      "text/html": [
       "<div>\n",
       "<style scoped>\n",
       "    .dataframe tbody tr th:only-of-type {\n",
       "        vertical-align: middle;\n",
       "    }\n",
       "\n",
       "    .dataframe tbody tr th {\n",
       "        vertical-align: top;\n",
       "    }\n",
       "\n",
       "    .dataframe thead th {\n",
       "        text-align: right;\n",
       "    }\n",
       "</style>\n",
       "<table border=\"1\" class=\"dataframe\">\n",
       "  <thead>\n",
       "    <tr style=\"text-align: right;\">\n",
       "      <th></th>\n",
       "      <th>platform</th>\n",
       "      <th>jp_sales</th>\n",
       "      <th>platform_success</th>\n",
       "      <th>min_year_of_release</th>\n",
       "      <th>max_year_of_release</th>\n",
       "    </tr>\n",
       "  </thead>\n",
       "  <tbody>\n",
       "    <tr>\n",
       "      <td>12</td>\n",
       "      <td>DS</td>\n",
       "      <td>175.57</td>\n",
       "      <td>Неактуально</td>\n",
       "      <td>2004</td>\n",
       "      <td>2013</td>\n",
       "    </tr>\n",
       "    <tr>\n",
       "      <td>11</td>\n",
       "      <td>PS</td>\n",
       "      <td>139.82</td>\n",
       "      <td>Неактуально</td>\n",
       "      <td>1994</td>\n",
       "      <td>2003</td>\n",
       "    </tr>\n",
       "    <tr>\n",
       "      <td>5</td>\n",
       "      <td>PS2</td>\n",
       "      <td>139.20</td>\n",
       "      <td>Неактуально</td>\n",
       "      <td>2000</td>\n",
       "      <td>2011</td>\n",
       "    </tr>\n",
       "    <tr>\n",
       "      <td>10</td>\n",
       "      <td>SNES</td>\n",
       "      <td>116.55</td>\n",
       "      <td>Неактуально</td>\n",
       "      <td>1990</td>\n",
       "      <td>1999</td>\n",
       "    </tr>\n",
       "    <tr>\n",
       "      <td>18</td>\n",
       "      <td>3DS</td>\n",
       "      <td>100.67</td>\n",
       "      <td>Актуально</td>\n",
       "      <td>2011</td>\n",
       "      <td>2016</td>\n",
       "    </tr>\n",
       "  </tbody>\n",
       "</table>\n",
       "</div>"
      ],
      "text/plain": [
       "   platform  jp_sales platform_success  min_year_of_release  \\\n",
       "12       DS    175.57      Неактуально                 2004   \n",
       "11       PS    139.82      Неактуально                 1994   \n",
       "5       PS2    139.20      Неактуально                 2000   \n",
       "10     SNES    116.55      Неактуально                 1990   \n",
       "18      3DS    100.67        Актуально                 2011   \n",
       "\n",
       "    max_year_of_release  \n",
       "12                 2013  \n",
       "11                 2003  \n",
       "5                  2011  \n",
       "10                 1999  \n",
       "18                 2016  "
      ]
     },
     "execution_count": 75,
     "metadata": {},
     "output_type": "execute_result"
    }
   ],
   "source": [
    "#соберем таблицу с продажами игр в Японии с разбивкой по платформам\n",
    "jp_popular_platforms = data.pivot_table(index='platform', values='jp_sales', aggfunc='sum')\n",
    "#присоединим к ней ранее сформированную таблицу с текущим статусом платформы\n",
    "jp_popular_platforms = platform_year_check.join(jp_popular_platforms, on='platform')\\\n",
    "[['platform', 'jp_sales', 'platform_success', 'min_year_of_release', 'max_year_of_release']]\n",
    "#отсортируем значения по убыванию количества проданных копий игр\n",
    "jp_popular_platforms = jp_popular_platforms.sort_values('jp_sales', ascending=False)\n",
    "jp_popular_platforms.head()"
   ]
  },
  {
   "cell_type": "markdown",
   "metadata": {},
   "source": [
    "Мы видим, что в исторической ретроспективе результаты Японии существенно отличаются: \n",
    "\n",
    "1. Топ 5 платформ состоит исключительно из японских игровых платформ\n",
    "2. 3 из 5 платформ принадлежат компании Nintendo\n",
    "3. Вместо 1 портативной платформы, характерной для Северной Америки и Европы, в Японии в топ по количеству проданных игр входят 2: DS и 3DS"
   ]
  },
  {
   "cell_type": "code",
   "execution_count": 76,
   "metadata": {},
   "outputs": [
    {
     "data": {
      "text/html": [
       "<div>\n",
       "<style scoped>\n",
       "    .dataframe tbody tr th:only-of-type {\n",
       "        vertical-align: middle;\n",
       "    }\n",
       "\n",
       "    .dataframe tbody tr th {\n",
       "        vertical-align: top;\n",
       "    }\n",
       "\n",
       "    .dataframe thead th {\n",
       "        text-align: right;\n",
       "    }\n",
       "</style>\n",
       "<table border=\"1\" class=\"dataframe\">\n",
       "  <thead>\n",
       "    <tr style=\"text-align: right;\">\n",
       "      <th></th>\n",
       "      <th>platform</th>\n",
       "      <th>jp_sales</th>\n",
       "      <th>platform_success</th>\n",
       "      <th>min_year_of_release</th>\n",
       "      <th>max_year_of_release</th>\n",
       "    </tr>\n",
       "  </thead>\n",
       "  <tbody>\n",
       "    <tr>\n",
       "      <td>18</td>\n",
       "      <td>3DS</td>\n",
       "      <td>100.67</td>\n",
       "      <td>Актуально</td>\n",
       "      <td>2011</td>\n",
       "      <td>2016</td>\n",
       "    </tr>\n",
       "    <tr>\n",
       "      <td>19</td>\n",
       "      <td>PSV</td>\n",
       "      <td>21.91</td>\n",
       "      <td>Актуально</td>\n",
       "      <td>2011</td>\n",
       "      <td>2016</td>\n",
       "    </tr>\n",
       "    <tr>\n",
       "      <td>23</td>\n",
       "      <td>PS4</td>\n",
       "      <td>15.96</td>\n",
       "      <td>Актуально</td>\n",
       "      <td>2013</td>\n",
       "      <td>2016</td>\n",
       "    </tr>\n",
       "    <tr>\n",
       "      <td>20</td>\n",
       "      <td>WiiU</td>\n",
       "      <td>13.01</td>\n",
       "      <td>Актуально</td>\n",
       "      <td>2012</td>\n",
       "      <td>2016</td>\n",
       "    </tr>\n",
       "    <tr>\n",
       "      <td>24</td>\n",
       "      <td>XOne</td>\n",
       "      <td>0.34</td>\n",
       "      <td>Актуально</td>\n",
       "      <td>2013</td>\n",
       "      <td>2016</td>\n",
       "    </tr>\n",
       "  </tbody>\n",
       "</table>\n",
       "</div>"
      ],
      "text/plain": [
       "   platform  jp_sales platform_success  min_year_of_release  \\\n",
       "18      3DS    100.67        Актуально                 2011   \n",
       "19      PSV     21.91        Актуально                 2011   \n",
       "23      PS4     15.96        Актуально                 2013   \n",
       "20     WiiU     13.01        Актуально                 2012   \n",
       "24     XOne      0.34        Актуально                 2013   \n",
       "\n",
       "    max_year_of_release  \n",
       "18                 2016  \n",
       "19                 2016  \n",
       "23                 2016  \n",
       "20                 2016  \n",
       "24                 2016  "
      ]
     },
     "execution_count": 76,
     "metadata": {},
     "output_type": "execute_result"
    }
   ],
   "source": [
    "#теперь посмотрим на топ 5 актуальных платформ\n",
    "jp_popular_platforms.loc[jp_popular_platforms['platform_success'] == 'Актуально'].head()"
   ]
  },
  {
   "cell_type": "markdown",
   "metadata": {},
   "source": [
    "Такая же \"специфическая\" картина характерна и для топ 5 актуальных платформ: \n",
    "\n",
    "1. С огромным отрывом (в 4.6 раза) лидирует портативная игровая платформа Nintendo 3DS (она же присутствует в топе популярных актуальных платформ и в других регионах 4 и 3 места в Северной Америке и Европе соответственно)\n",
    "2. Второе место занимает другая портативная платформа - Playstation Vita, которой нет в топ 5 актуальных платформ ни в одном другом регионе \n",
    "3. Закономерно, что PS4 и в этом топе показывает неплохой результат, уступив примерно четверть по количеству проданных игр платформе PSV (ранее мы уже установили, что это практически абсолютный лидер текущего поколения) \n",
    "4. Любопытно, что в числе современных платформ в Японии хоть и есть американский XOne, но на пятом месте, а от продаж 4 места (WiiU) она занимает около 2.6% - не \"отечественные\" платформы на этом рынке явно не очень востребованы."
   ]
  },
  {
   "cell_type": "code",
   "execution_count": 77,
   "metadata": {},
   "outputs": [
    {
     "data": {
      "text/html": [
       "<div>\n",
       "<style scoped>\n",
       "    .dataframe tbody tr th:only-of-type {\n",
       "        vertical-align: middle;\n",
       "    }\n",
       "\n",
       "    .dataframe tbody tr th {\n",
       "        vertical-align: top;\n",
       "    }\n",
       "\n",
       "    .dataframe thead th {\n",
       "        text-align: right;\n",
       "    }\n",
       "</style>\n",
       "<table border=\"1\" class=\"dataframe\">\n",
       "  <thead>\n",
       "    <tr style=\"text-align: right;\">\n",
       "      <th></th>\n",
       "      <th>jp_sales</th>\n",
       "    </tr>\n",
       "    <tr>\n",
       "      <th>genre</th>\n",
       "      <th></th>\n",
       "    </tr>\n",
       "  </thead>\n",
       "  <tbody>\n",
       "    <tr>\n",
       "      <td>Role-Playing</td>\n",
       "      <td>355.41</td>\n",
       "    </tr>\n",
       "    <tr>\n",
       "      <td>Action</td>\n",
       "      <td>161.43</td>\n",
       "    </tr>\n",
       "    <tr>\n",
       "      <td>Sports</td>\n",
       "      <td>135.54</td>\n",
       "    </tr>\n",
       "    <tr>\n",
       "      <td>Platform</td>\n",
       "      <td>130.83</td>\n",
       "    </tr>\n",
       "    <tr>\n",
       "      <td>Misc</td>\n",
       "      <td>108.11</td>\n",
       "    </tr>\n",
       "  </tbody>\n",
       "</table>\n",
       "</div>"
      ],
      "text/plain": [
       "              jp_sales\n",
       "genre                 \n",
       "Role-Playing    355.41\n",
       "Action          161.43\n",
       "Sports          135.54\n",
       "Platform        130.83\n",
       "Misc            108.11"
      ]
     },
     "execution_count": 77,
     "metadata": {},
     "output_type": "execute_result"
    }
   ],
   "source": [
    "jp_popular_genres = data.pivot_table(index='genre', values='jp_sales', aggfunc='sum').sort_values('jp_sales', ascending=False)\n",
    "jp_popular_genres.head()\n",
    "#получаем top 5 популярных жанров в регионе"
   ]
  },
  {
   "cell_type": "markdown",
   "metadata": {},
   "source": [
    "На фоне существенно отличающейся картины по спросу на игры в разрезе платформ, значительно отличаются и популярные жанры: \n",
    "\n",
    "1. Мы видим, что первую строчку с отрывом более чем в два раза занимает жанр RPG, которого просто не было в топах популярных игр в Европе и Северной Америке\n",
    "2. Также в топ вошли платформеры, которых тоже не было в Европе (но были в Северной Америке)\n",
    "\n",
    "Анализ структуры популярности жанров в разрезе плафтформ, который мы провели ранее, позволяет нам предположить, что наличие/отсутствие этих жанров обусловлено уровнем популярности игровых платформ Nintendo. "
   ]
  },
  {
   "cell_type": "code",
   "execution_count": 78,
   "metadata": {},
   "outputs": [
    {
     "data": {
      "text/html": [
       "<div>\n",
       "<style scoped>\n",
       "    .dataframe tbody tr th:only-of-type {\n",
       "        vertical-align: middle;\n",
       "    }\n",
       "\n",
       "    .dataframe tbody tr th {\n",
       "        vertical-align: top;\n",
       "    }\n",
       "\n",
       "    .dataframe thead th {\n",
       "        text-align: right;\n",
       "    }\n",
       "</style>\n",
       "<table border=\"1\" class=\"dataframe\">\n",
       "  <thead>\n",
       "    <tr style=\"text-align: right;\">\n",
       "      <th></th>\n",
       "      <th>platform</th>\n",
       "      <th>jp_sales</th>\n",
       "      <th>platform_success</th>\n",
       "      <th>min_year_of_release</th>\n",
       "      <th>max_year_of_release</th>\n",
       "      <th>Action</th>\n",
       "      <th>Adventure</th>\n",
       "      <th>Fighting</th>\n",
       "      <th>Misc</th>\n",
       "      <th>Platform</th>\n",
       "      <th>Puzzle</th>\n",
       "      <th>Racing</th>\n",
       "      <th>Role-Playing</th>\n",
       "      <th>Shooter</th>\n",
       "      <th>Simulation</th>\n",
       "      <th>Sports</th>\n",
       "      <th>Strategy</th>\n",
       "    </tr>\n",
       "  </thead>\n",
       "  <tbody>\n",
       "    <tr>\n",
       "      <td>18</td>\n",
       "      <td>3DS</td>\n",
       "      <td>100.67</td>\n",
       "      <td>Актуально</td>\n",
       "      <td>2011</td>\n",
       "      <td>2016</td>\n",
       "      <td>22.66</td>\n",
       "      <td>2.76</td>\n",
       "      <td>3.22</td>\n",
       "      <td>5.51</td>\n",
       "      <td>6.48</td>\n",
       "      <td>1.80</td>\n",
       "      <td>2.83</td>\n",
       "      <td>41.99</td>\n",
       "      <td>0.20</td>\n",
       "      <td>10.39</td>\n",
       "      <td>1.98</td>\n",
       "      <td>0.85</td>\n",
       "    </tr>\n",
       "    <tr>\n",
       "      <td>19</td>\n",
       "      <td>PSV</td>\n",
       "      <td>21.91</td>\n",
       "      <td>Актуально</td>\n",
       "      <td>2011</td>\n",
       "      <td>2016</td>\n",
       "      <td>6.84</td>\n",
       "      <td>2.33</td>\n",
       "      <td>0.68</td>\n",
       "      <td>2.31</td>\n",
       "      <td>0.06</td>\n",
       "      <td>0.05</td>\n",
       "      <td>0.16</td>\n",
       "      <td>7.85</td>\n",
       "      <td>0.24</td>\n",
       "      <td>0.07</td>\n",
       "      <td>1.05</td>\n",
       "      <td>0.27</td>\n",
       "    </tr>\n",
       "    <tr>\n",
       "      <td>23</td>\n",
       "      <td>PS4</td>\n",
       "      <td>15.96</td>\n",
       "      <td>Актуально</td>\n",
       "      <td>2013</td>\n",
       "      <td>2016</td>\n",
       "      <td>5.90</td>\n",
       "      <td>0.45</td>\n",
       "      <td>0.75</td>\n",
       "      <td>0.42</td>\n",
       "      <td>0.49</td>\n",
       "      <td>0.00</td>\n",
       "      <td>0.26</td>\n",
       "      <td>3.55</td>\n",
       "      <td>2.81</td>\n",
       "      <td>0.18</td>\n",
       "      <td>0.99</td>\n",
       "      <td>0.16</td>\n",
       "    </tr>\n",
       "    <tr>\n",
       "      <td>20</td>\n",
       "      <td>WiiU</td>\n",
       "      <td>13.01</td>\n",
       "      <td>Актуально</td>\n",
       "      <td>2012</td>\n",
       "      <td>2016</td>\n",
       "      <td>1.09</td>\n",
       "      <td>0.00</td>\n",
       "      <td>1.01</td>\n",
       "      <td>2.45</td>\n",
       "      <td>3.68</td>\n",
       "      <td>0.22</td>\n",
       "      <td>1.30</td>\n",
       "      <td>0.89</td>\n",
       "      <td>1.54</td>\n",
       "      <td>0.00</td>\n",
       "      <td>0.52</td>\n",
       "      <td>0.31</td>\n",
       "    </tr>\n",
       "    <tr>\n",
       "      <td>24</td>\n",
       "      <td>XOne</td>\n",
       "      <td>0.34</td>\n",
       "      <td>Актуально</td>\n",
       "      <td>2013</td>\n",
       "      <td>2016</td>\n",
       "      <td>0.05</td>\n",
       "      <td>0.03</td>\n",
       "      <td>0.01</td>\n",
       "      <td>0.01</td>\n",
       "      <td>0.00</td>\n",
       "      <td>NaN</td>\n",
       "      <td>0.05</td>\n",
       "      <td>0.01</td>\n",
       "      <td>0.16</td>\n",
       "      <td>0.00</td>\n",
       "      <td>0.02</td>\n",
       "      <td>0.00</td>\n",
       "    </tr>\n",
       "  </tbody>\n",
       "</table>\n",
       "</div>"
      ],
      "text/plain": [
       "   platform  jp_sales platform_success  min_year_of_release  \\\n",
       "18      3DS    100.67        Актуально                 2011   \n",
       "19      PSV     21.91        Актуально                 2011   \n",
       "23      PS4     15.96        Актуально                 2013   \n",
       "20     WiiU     13.01        Актуально                 2012   \n",
       "24     XOne      0.34        Актуально                 2013   \n",
       "\n",
       "    max_year_of_release  Action  Adventure  Fighting  Misc  Platform  Puzzle  \\\n",
       "18                 2016   22.66       2.76      3.22  5.51      6.48    1.80   \n",
       "19                 2016    6.84       2.33      0.68  2.31      0.06    0.05   \n",
       "23                 2016    5.90       0.45      0.75  0.42      0.49    0.00   \n",
       "20                 2016    1.09       0.00      1.01  2.45      3.68    0.22   \n",
       "24                 2016    0.05       0.03      0.01  0.01      0.00     NaN   \n",
       "\n",
       "    Racing  Role-Playing  Shooter  Simulation  Sports  Strategy  \n",
       "18    2.83         41.99     0.20       10.39    1.98      0.85  \n",
       "19    0.16          7.85     0.24        0.07    1.05      0.27  \n",
       "23    0.26          3.55     2.81        0.18    0.99      0.16  \n",
       "20    1.30          0.89     1.54        0.00    0.52      0.31  \n",
       "24    0.05          0.01     0.16        0.00    0.02      0.00  "
      ]
     },
     "execution_count": 78,
     "metadata": {},
     "output_type": "execute_result"
    }
   ],
   "source": [
    "jp_genre_sep = data.pivot_table(index='platform', columns='genre', values='jp_sales', aggfunc='sum')\n",
    "jp_popular_platforms = jp_popular_platforms.join(jp_genre_sep, on='platform')\n",
    "jp_popular_platforms.loc[jp_popular_platforms['platform_success'] == 'Актуально'].head()"
   ]
  },
  {
   "cell_type": "markdown",
   "metadata": {},
   "source": [
    "Так как в топе популярных платформ в Японии отсутствует PC, структура жанров на популярных платформах в Японии не удивляет - она похожа на топ популярных жанров."
   ]
  },
  {
   "cell_type": "code",
   "execution_count": 79,
   "metadata": {},
   "outputs": [
    {
     "data": {
      "text/html": [
       "<div>\n",
       "<style scoped>\n",
       "    .dataframe tbody tr th:only-of-type {\n",
       "        vertical-align: middle;\n",
       "    }\n",
       "\n",
       "    .dataframe tbody tr th {\n",
       "        vertical-align: top;\n",
       "    }\n",
       "\n",
       "    .dataframe thead th {\n",
       "        text-align: right;\n",
       "    }\n",
       "</style>\n",
       "<table border=\"1\" class=\"dataframe\">\n",
       "  <thead>\n",
       "    <tr style=\"text-align: right;\">\n",
       "      <th></th>\n",
       "      <th>rating</th>\n",
       "      <th>jp_sales</th>\n",
       "    </tr>\n",
       "  </thead>\n",
       "  <tbody>\n",
       "    <tr>\n",
       "      <td>1</td>\n",
       "      <td>E</td>\n",
       "      <td>198.11</td>\n",
       "    </tr>\n",
       "    <tr>\n",
       "      <td>7</td>\n",
       "      <td>T</td>\n",
       "      <td>151.40</td>\n",
       "    </tr>\n",
       "    <tr>\n",
       "      <td>5</td>\n",
       "      <td>M</td>\n",
       "      <td>64.24</td>\n",
       "    </tr>\n",
       "    <tr>\n",
       "      <td>2</td>\n",
       "      <td>E10+</td>\n",
       "      <td>40.20</td>\n",
       "    </tr>\n",
       "    <tr>\n",
       "      <td>4</td>\n",
       "      <td>K-A</td>\n",
       "      <td>1.46</td>\n",
       "    </tr>\n",
       "    <tr>\n",
       "      <td>0</td>\n",
       "      <td>AO</td>\n",
       "      <td>0.00</td>\n",
       "    </tr>\n",
       "    <tr>\n",
       "      <td>3</td>\n",
       "      <td>EC</td>\n",
       "      <td>0.00</td>\n",
       "    </tr>\n",
       "    <tr>\n",
       "      <td>6</td>\n",
       "      <td>RP</td>\n",
       "      <td>0.00</td>\n",
       "    </tr>\n",
       "  </tbody>\n",
       "</table>\n",
       "</div>"
      ],
      "text/plain": [
       "  rating  jp_sales\n",
       "1      E    198.11\n",
       "7      T    151.40\n",
       "5      M     64.24\n",
       "2   E10+     40.20\n",
       "4    K-A      1.46\n",
       "0     AO      0.00\n",
       "3     EC      0.00\n",
       "6     RP      0.00"
      ]
     },
     "execution_count": 79,
     "metadata": {},
     "output_type": "execute_result"
    }
   ],
   "source": [
    "rating = data.pivot_table(index='rating', values='jp_sales', aggfunc='sum').reset_index()\\\n",
    ".sort_values('jp_sales', ascending=False)\n",
    "rating"
   ]
  },
  {
   "cell_type": "code",
   "execution_count": 80,
   "metadata": {},
   "outputs": [
    {
     "data": {
      "image/png": "[encoded data removed]",
      "text/plain": [
       "<Figure size 1080x288 with 1 Axes>"
      ]
     },
     "metadata": {
      "needs_background": "light"
     },
     "output_type": "display_data"
    }
   ],
   "source": [
    "index = rating['rating']\n",
    "values = rating['jp_sales']\n",
    "\n",
    "fig, ax = plt.subplots()\n",
    "plt.bar(index, values)\n",
    "fig.set_figwidth(15)\n",
    "fig.suptitle('Количество проданных игр по возрастным рейтингам, млн. копий')\n",
    "ax.grid()\n",
    "plt.show()"
   ]
  },
  {
   "cell_type": "markdown",
   "metadata": {},
   "source": [
    "По распределению количества проданных игр по жанрам похожа на Северную Америку с одним существенным отличием - М (17+) практически вдвое уступает по количеству проданных копий. Вероятно, спрос на консоли Nintendo с этим связан."
   ]
  },
  {
   "cell_type": "markdown",
   "metadata": {},
   "source": [
    "# Проверка гипотез"
   ]
  },
  {
   "cell_type": "markdown",
   "metadata": {},
   "source": [
    "## Средние пользовательские рейтинги платформ Xbox One и PC одинаковые"
   ]
  },
  {
   "cell_type": "markdown",
   "metadata": {},
   "source": [
    "В соответствии с правилами формулирования гипотез:\n",
    "\n",
    "- **Нулевая гипотеза (H₀): Средние пользовательские рейтинги платформ Xbox One и PC одинаковы**\n",
    "- **Альтернативная гипотеза (H₀): Средние пользовательские рейтинги платформ Xbox One и PC различаются**\n",
    "\n",
    "Для проверки используем максимально высокий критерий статистической значимости, предполагая, что размер выборки может дать несколько искаженные данные. "
   ]
  },
  {
   "cell_type": "code",
   "execution_count": 81,
   "metadata": {},
   "outputs": [],
   "source": [
    "#сформируем два ряда данных с пользовательскими оценками в виде series\n",
    "xone_score = data.loc[(data['platform'] == 'XOne') & (data['user_score'] > 0), 'user_score']\n",
    "pc_score = data.loc[(data['platform'] == 'PC') & (data['user_score'] > 0), 'user_score']"
   ]
  },
  {
   "cell_type": "code",
   "execution_count": 82,
   "metadata": {},
   "outputs": [
    {
     "data": {
      "image/png": "[encoded data removed]",
      "text/plain": [
       "<Figure size 1080x504 with 1 Axes>"
      ]
     },
     "metadata": {
      "needs_background": "light"
     },
     "output_type": "display_data"
    }
   ],
   "source": [
    "plt.title('Распределение пользовательских оценок для платформы PC и XOne')\n",
    "pc_score.plot(kind='hist', bins=31, \n",
    "              figsize=(15, 7), grid=True,\n",
    "             label='PC', density=True, alpha=0.5)\n",
    "xone_score.plot(kind='hist', bins=31, \n",
    "                figsize=(15, 7), grid=True,\n",
    "               label='xone', density=True, alpha=0.5)\n",
    "plt.legend()\n",
    "plt.show()"
   ]
  },
  {
   "cell_type": "markdown",
   "metadata": {},
   "source": [
    "Судя по гистограммам, распределение пользовательских оценок для каждого не очень похоже на идеальное распределение, но стремится к нему."
   ]
  },
  {
   "cell_type": "code",
   "execution_count": 83,
   "metadata": {},
   "outputs": [
    {
     "data": {
      "text/plain": [
       "count    182.000000\n",
       "mean       6.521429\n",
       "std        1.380941\n",
       "min        1.600000\n",
       "25%        5.800000\n",
       "50%        6.800000\n",
       "75%        7.500000\n",
       "max        9.200000\n",
       "Name: user_score, dtype: float64"
      ]
     },
     "execution_count": 83,
     "metadata": {},
     "output_type": "execute_result"
    }
   ],
   "source": [
    "xone_score.describe()"
   ]
  },
  {
   "cell_type": "code",
   "execution_count": 84,
   "metadata": {},
   "outputs": [
    {
     "data": {
      "text/plain": [
       "count    770.000000\n",
       "mean       7.062468\n",
       "std        1.529963\n",
       "min        1.400000\n",
       "25%        6.200000\n",
       "50%        7.500000\n",
       "75%        8.200000\n",
       "max        9.300000\n",
       "Name: user_score, dtype: float64"
      ]
     },
     "execution_count": 84,
     "metadata": {},
     "output_type": "execute_result"
    }
   ],
   "source": [
    "pc_score.describe()"
   ]
  },
  {
   "cell_type": "markdown",
   "metadata": {},
   "source": [
    "Учитывая логику, по которой сформированы оценки: \n",
    "\n",
    "1. Мы работаем с количественными данными (так как каждая оценка является средним от множества дискретных оценок, она может принять любое значение со сколь угодно большим числом знаков после точки)\n",
    "2. Предполагаем, что данные подчиняются закону нормального распределения\n",
    "3. Так как мы работаем с пользовательскими оценками на двух разных платформах, мы предполагаем, что эти группы независимы друг от друга \n",
    "4. Мы сравниваем две группы \n",
    "\n",
    "Следовательно, будем использовать Т-тест с параметром `equal_var=False` для проведения теста Уэлча, так как мы предполагаем разность дисперсий для двух выборок (мы видим и в описании рядов и на гистограммах, что это вероятней всего так).\n",
    "\n",
    "Для теста используем довольно \"свободный\" уровень значимости в 5%."
   ]
  },
  {
   "cell_type": "code",
   "execution_count": 85,
   "metadata": {},
   "outputs": [
    {
     "name": "stdout",
     "output_type": "stream",
     "text": [
      "p-значение: 4.935072360183565e-06\n",
      "Отвергаем нулевую гипотезу\n"
     ]
    }
   ],
   "source": [
    "alpha = 0.05 #зададим критический уровень статистической значимости в 10%\n",
    "\n",
    "results = stats.ttest_ind(\n",
    "    xone_score, \n",
    "    pc_score,\n",
    "    equal_var=False)\n",
    "\n",
    "print('p-значение:', results.pvalue)\n",
    "\n",
    "if (results.pvalue < alpha):\n",
    "    print(\"Отвергаем нулевую гипотезу\")\n",
    "else:\n",
    "    print(\"Не получилось отвергнуть нулевую гипотезу\") "
   ]
  },
  {
   "cell_type": "markdown",
   "metadata": {},
   "source": [
    "Наши данные противоречат предположению о том, что средние пользовательские оценки на этих двух платформах одинаковы. "
   ]
  },
  {
   "cell_type": "markdown",
   "metadata": {},
   "source": [
    "## Средние пользовательские рейтинги жанров Action (англ. «действие», экшен-игры) и Sports (англ. «спортивные соревнования») разные"
   ]
  },
  {
   "cell_type": "markdown",
   "metadata": {},
   "source": [
    "В соответствии с правилами формулирования гипотез:\n",
    "\n",
    "- **Нулевая гипотеза (H₀): Средние пользовательские рейтинги жанров Action и Sports одинаковы**\n",
    "- **Альтернативная гипотеза (H₀): Средние пользовательские рейтинги жанров Action и Sports различаются**\n",
    "\n",
    "Для проверки используем максимально высокий критерий статистической значимости, предполагая, что размер выборки может дать несколько искаженные данные. "
   ]
  },
  {
   "cell_type": "code",
   "execution_count": 86,
   "metadata": {},
   "outputs": [],
   "source": [
    "action_genre_user_score = data.loc[(data['genre'] == 'Action') & (data['user_score'] > 0), 'user_score']\n",
    "sports_genre_user_score = data.loc[(data['genre'] == 'Sports') & (data['user_score'] > 0), 'user_score']"
   ]
  },
  {
   "cell_type": "code",
   "execution_count": 87,
   "metadata": {},
   "outputs": [
    {
     "data": {
      "image/png": "[encoded data removed]",
      "text/plain": [
       "<Figure size 1080x504 with 1 Axes>"
      ]
     },
     "metadata": {
      "needs_background": "light"
     },
     "output_type": "display_data"
    }
   ],
   "source": [
    "plt.title('Распределение пользовательских оценок для жанра Action и Sports')\n",
    "action_genre_user_score.plot(kind='hist', bins=31, \n",
    "              figsize=(15, 7), grid=True,\n",
    "             label='PC', density=True, alpha=0.5)\n",
    "sports_genre_user_score.plot(kind='hist', bins=31, \n",
    "                figsize=(15, 7), grid=True,\n",
    "               label='xone', density=True, alpha=0.5)\n",
    "plt.legend()\n",
    "plt.show()"
   ]
  },
  {
   "cell_type": "code",
   "execution_count": 88,
   "metadata": {},
   "outputs": [
    {
     "data": {
      "text/plain": [
       "count    1830.000000\n",
       "mean        7.054044\n",
       "std         1.425394\n",
       "min         0.300000\n",
       "25%         6.300000\n",
       "50%         7.400000\n",
       "75%         8.100000\n",
       "max         9.500000\n",
       "Name: user_score, dtype: float64"
      ]
     },
     "execution_count": 88,
     "metadata": {},
     "output_type": "execute_result"
    }
   ],
   "source": [
    "action_genre_user_score.describe()"
   ]
  },
  {
   "cell_type": "code",
   "execution_count": 89,
   "metadata": {},
   "outputs": [
    {
     "data": {
      "text/plain": [
       "count    1103.000000\n",
       "mean        6.961197\n",
       "std         1.611370\n",
       "min         0.200000\n",
       "25%         6.100000\n",
       "50%         7.400000\n",
       "75%         8.100000\n",
       "max         9.500000\n",
       "Name: user_score, dtype: float64"
      ]
     },
     "execution_count": 89,
     "metadata": {},
     "output_type": "execute_result"
    }
   ],
   "source": [
    "sports_genre_user_score.describe()"
   ]
  },
  {
   "cell_type": "markdown",
   "metadata": {},
   "source": [
    "Так как два этих ряда похожи по типу на данные из пункта выше, применим Т-тест по Уэлчу (по аналогии) с критическим уровнем статистической значимости в 5%."
   ]
  },
  {
   "cell_type": "code",
   "execution_count": 90,
   "metadata": {},
   "outputs": [
    {
     "name": "stdout",
     "output_type": "stream",
     "text": [
      "p-значение: 0.11483818791498286\n",
      "Не получилось отвергнуть нулевую гипотезу\n"
     ]
    }
   ],
   "source": [
    "alpha = 0.05 #зададим критический уровень статистической значимости в 1%\n",
    "\n",
    "results = stats.ttest_ind(\n",
    "    action_genre_user_score, \n",
    "    sports_genre_user_score,\n",
    "    equal_var=False)\n",
    "\n",
    "print('p-значение:', results.pvalue)\n",
    "\n",
    "if (results.pvalue < alpha):\n",
    "    print(\"Отвергаем нулевую гипотезу\")\n",
    "else:\n",
    "    print(\"Не получилось отвергнуть нулевую гипотезу\") "
   ]
  },
  {
   "cell_type": "markdown",
   "metadata": {},
   "source": [
    "С вероятность около 11.5% разность между средними оценками двух игр может быть случайной, поэтому мы не можем отвергнуть нулевую гипотезу - наши данные ей не противоречат.ь"
   ]
  },
  {
   "cell_type": "markdown",
   "metadata": {},
   "source": [
    "# Выволы"
   ]
  },
  {
   "cell_type": "markdown",
   "metadata": {},
   "source": [
    "<span style=\"text-decoration:underline\">По результатам анализа датасета о продажах игр мы можем сформулировать следующие выводы:</span>\n",
    "\n",
    "1. По результатам анализа общего и \"активного\" жизненного цикла разных платформ можно выделить 6 \"актуальных\":\n",
    "    + PC\n",
    "    + 3DS\n",
    "    + PSV\n",
    "    + WiiU\n",
    "    + PS4\n",
    "    + XOne\n",
    "2. Среди \"актуальных\" платформ можно выделить две условных группы:\n",
    "    + Группа 1 - максимально перспективные: \n",
    "        - PC - платформа-\"исключение\", так как не делится на четкие поколения, поэтому ее можно рассматривать как актуальную на текущий момент\n",
    "        - PS4 - текущий срок жизни и \"активный\" срок жизни равны (\"активный\" срок меньше среднего значения) = платформа \"свежая\" и тайтлы для нее активно продаются\n",
    "        - XOne - аналогично PS4\n",
    "    + Группа 2 - умеренно перспективные: \n",
    "        - 3DS - срок \"активного\" жизненного цикла равен среднему значению и меньше общего срока жизни - вероятно, продажи пересекли рубеж снижения. Кроме того, консоль имеет характерную особенность - она портативная, что тоже может влиять на специфику спроса\n",
    "        - PSV - аналогично 3DS, за исключеним величины \"активного\" срока жизни, но он все же попадает в диапазон 3-5 лет, хоть и меньше средних 4 лет\n",
    "        - WiiU - срок \"активного\" жизненного цикла меньше общего срока жизни\n",
    "3. Выявлены наиболее популярные жанры в целом по миру на всех платформах: \n",
    "    + Shooter \n",
    "    + Platform\n",
    "    + Role-Playing\n",
    "    + Sports \n",
    "    + Racing\n",
    "4. Выявлено также, что одна из популярных платформ (PC) имеет другую структуру популярных жанров, вероятно обусловленных особенностями взаимодействия пользователя с системой:\n",
    "    + Simulation\n",
    "    + Strategy\n",
    "    + Shooter \n",
    "    + Role-Playing\n",
    "    + Action\n",
    "5. Также установлено, что регион Япония значительно отличается как в части списка популярных платформ, так и в части популярных жанров:\n",
    "    + Популярные в Японии платформы: \n",
    "        - 3DS\n",
    "        - PSV\n",
    "        - PS4\n",
    "        - WiiU\n",
    "        - XOne (данную платформу можно было бы исключить по причине исчезающе малого количества проданных игр относительно остальных 4 платформ)\n",
    "    + Популярные в Японии жанры: \n",
    "        - Role-Playing (данный жанр требует анализа - наиболее вероятно, перечень тайтлов значительно отличается от игр этого же жанра, популярных в Европе или Северной Америке)\n",
    "        - Action\n",
    "        - Sports\n",
    "        - Platform\n",
    "        - Misc\n",
    "6. Регионы Европа и Северная Америка похожи по спросу на стационарные консоли, однако в Северной Америке в большей степени популярны консоли Nintendo, а в Европе, в свою очередь, больше ниша у ПК\n",
    "7. Установлено, что корреляция между оценками критиков и продажами игр составляет порядка 40% - таким образом, мы можем говорить о влиянии оценок критиков на продажи. В то же время, корреляция между оценками пользователей и продажами нестабильна - иногда наблюдается тенденция на изменение ее направления. \n",
    "8. Установлено, что некоторые тайтлы могут иметь обратно пропорциональные оценки критиков и пользователей\n",
    "9. Установлено, что средний срок жизни платформы - 9 лет, а \"активный\" срок жизни около 4 лет. "
   ]
  },
  {
   "cell_type": "code",
   "execution_count": null,
   "metadata": {},
   "outputs": [],
   "source": []
  }
 ],
 "metadata": {
  "ExecuteTimeLog": [
   {
    "duration": 1384,
    "start_time": "2022-01-11T02:08:22.146Z"
   },
   {
    "duration": 50,
    "start_time": "2022-01-11T02:09:34.643Z"
   },
   {
    "duration": 23,
    "start_time": "2022-01-11T02:17:25.539Z"
   },
   {
    "duration": 19,
    "start_time": "2022-01-11T02:18:10.819Z"
   },
   {
    "duration": 5,
    "start_time": "2022-01-11T02:18:27.400Z"
   },
   {
    "duration": 18,
    "start_time": "2022-01-11T02:18:43.322Z"
   },
   {
    "duration": 15,
    "start_time": "2022-01-11T02:18:54.308Z"
   },
   {
    "duration": 24,
    "start_time": "2022-01-11T02:19:25.484Z"
   },
   {
    "duration": 10,
    "start_time": "2022-01-11T02:19:36.617Z"
   },
   {
    "duration": 20,
    "start_time": "2022-01-11T02:20:03.975Z"
   },
   {
    "duration": 31,
    "start_time": "2022-01-11T02:21:08.459Z"
   },
   {
    "duration": 6,
    "start_time": "2022-01-11T02:21:45.430Z"
   },
   {
    "duration": 20,
    "start_time": "2022-01-11T02:23:01.996Z"
   },
   {
    "duration": 46,
    "start_time": "2022-01-11T02:23:32.171Z"
   },
   {
    "duration": 24,
    "start_time": "2022-01-11T02:24:06.489Z"
   },
   {
    "duration": 85,
    "start_time": "2022-01-11T02:24:16.324Z"
   },
   {
    "duration": 28,
    "start_time": "2022-01-11T02:24:29.787Z"
   },
   {
    "duration": 6,
    "start_time": "2022-01-11T02:24:41.582Z"
   },
   {
    "duration": 9,
    "start_time": "2022-01-11T02:24:48.088Z"
   },
   {
    "duration": 34,
    "start_time": "2022-01-11T02:25:54.332Z"
   },
   {
    "duration": 29,
    "start_time": "2022-01-11T02:26:17.097Z"
   },
   {
    "duration": 23,
    "start_time": "2022-01-11T02:26:27.407Z"
   },
   {
    "duration": 14,
    "start_time": "2022-01-11T02:26:37.126Z"
   },
   {
    "duration": 20,
    "start_time": "2022-01-11T02:27:03.221Z"
   },
   {
    "duration": 12,
    "start_time": "2022-01-11T02:27:27.844Z"
   },
   {
    "duration": 24,
    "start_time": "2022-01-11T02:27:37.573Z"
   },
   {
    "duration": 9,
    "start_time": "2022-01-11T02:27:57.281Z"
   },
   {
    "duration": 7,
    "start_time": "2022-01-11T02:28:04.121Z"
   },
   {
    "duration": 13,
    "start_time": "2022-01-11T02:28:56.960Z"
   },
   {
    "duration": 47,
    "start_time": "2022-01-11T02:29:05.520Z"
   },
   {
    "duration": 30,
    "start_time": "2022-01-11T02:46:02.920Z"
   },
   {
    "duration": 11,
    "start_time": "2022-01-11T02:46:12.865Z"
   },
   {
    "duration": 475,
    "start_time": "2022-01-11T02:46:24.604Z"
   },
   {
    "duration": 31,
    "start_time": "2022-01-11T02:47:18.307Z"
   },
   {
    "duration": 2674,
    "start_time": "2022-01-11T02:47:37.337Z"
   },
   {
    "duration": 12,
    "start_time": "2022-01-11T02:48:03.571Z"
   },
   {
    "duration": 12,
    "start_time": "2022-01-11T02:49:14.119Z"
   },
   {
    "duration": 7,
    "start_time": "2022-01-11T02:49:42.230Z"
   },
   {
    "duration": 157,
    "start_time": "2022-01-11T02:49:49.420Z"
   },
   {
    "duration": 62,
    "start_time": "2022-01-11T02:50:00.360Z"
   },
   {
    "duration": 13,
    "start_time": "2022-01-11T02:50:10.429Z"
   },
   {
    "duration": 89,
    "start_time": "2022-01-11T02:50:21.862Z"
   },
   {
    "duration": 26,
    "start_time": "2022-01-11T02:50:34.845Z"
   },
   {
    "duration": 8,
    "start_time": "2022-01-11T02:50:44.516Z"
   },
   {
    "duration": 135,
    "start_time": "2022-01-11T02:50:51.456Z"
   },
   {
    "duration": 17,
    "start_time": "2022-01-11T02:50:58.311Z"
   },
   {
    "duration": 13,
    "start_time": "2022-01-11T02:51:30.313Z"
   },
   {
    "duration": 19,
    "start_time": "2022-01-11T02:51:39.502Z"
   },
   {
    "duration": 14,
    "start_time": "2022-01-11T02:51:47.418Z"
   },
   {
    "duration": 26,
    "start_time": "2022-01-11T02:53:56.751Z"
   },
   {
    "duration": 1346,
    "start_time": "2022-01-11T02:54:07.022Z"
   },
   {
    "duration": 1387,
    "start_time": "2022-01-11T02:54:14.322Z"
   },
   {
    "duration": 1348,
    "start_time": "2022-01-11T02:55:07.410Z"
   },
   {
    "duration": 730,
    "start_time": "2022-01-11T02:56:15.596Z"
   },
   {
    "duration": 886,
    "start_time": "2022-01-11T02:56:24.096Z"
   },
   {
    "duration": 706,
    "start_time": "2022-01-11T02:57:09.379Z"
   },
   {
    "duration": 11,
    "start_time": "2022-01-11T02:57:44.558Z"
   },
   {
    "duration": 612,
    "start_time": "2022-01-11T02:58:03.027Z"
   },
   {
    "duration": 632,
    "start_time": "2022-01-11T02:58:17.935Z"
   },
   {
    "duration": 573,
    "start_time": "2022-01-11T02:58:31.398Z"
   },
   {
    "duration": 8,
    "start_time": "2022-01-11T02:59:04.418Z"
   },
   {
    "duration": 59,
    "start_time": "2022-01-11T02:59:17.547Z"
   },
   {
    "duration": 43,
    "start_time": "2022-01-11T03:00:09.679Z"
   },
   {
    "duration": 43,
    "start_time": "2022-01-11T03:00:19.913Z"
   },
   {
    "duration": 30,
    "start_time": "2022-01-11T03:01:28.834Z"
   },
   {
    "duration": 14,
    "start_time": "2022-01-11T03:01:46.587Z"
   },
   {
    "duration": 21,
    "start_time": "2022-01-11T03:02:15.322Z"
   },
   {
    "duration": 47,
    "start_time": "2022-01-11T03:03:13.221Z"
   },
   {
    "duration": 24,
    "start_time": "2022-01-11T03:03:31.281Z"
   },
   {
    "duration": 316,
    "start_time": "2022-01-11T03:03:40.335Z"
   },
   {
    "duration": 29,
    "start_time": "2022-01-11T03:04:27.485Z"
   },
   {
    "duration": 15,
    "start_time": "2022-01-11T03:04:34.827Z"
   },
   {
    "duration": 21,
    "start_time": "2022-01-11T03:04:52.775Z"
   },
   {
    "duration": 47,
    "start_time": "2022-01-11T03:05:08.662Z"
   },
   {
    "duration": 24,
    "start_time": "2022-01-11T03:05:25.969Z"
   },
   {
    "duration": 345,
    "start_time": "2022-01-11T03:05:33.132Z"
   },
   {
    "duration": 31,
    "start_time": "2022-01-11T03:06:23.472Z"
   },
   {
    "duration": 15,
    "start_time": "2022-01-11T03:06:45.417Z"
   },
   {
    "duration": 22,
    "start_time": "2022-01-11T03:07:01.298Z"
   },
   {
    "duration": 49,
    "start_time": "2022-01-11T03:07:19.307Z"
   },
   {
    "duration": 24,
    "start_time": "2022-01-11T03:07:47.106Z"
   },
   {
    "duration": 340,
    "start_time": "2022-01-11T03:07:53.945Z"
   },
   {
    "duration": 12,
    "start_time": "2022-01-11T03:09:43.446Z"
   },
   {
    "duration": 683,
    "start_time": "2022-01-11T03:09:53.418Z"
   },
   {
    "duration": 11,
    "start_time": "2022-01-11T03:10:16.774Z"
   },
   {
    "duration": 12,
    "start_time": "2022-01-11T03:10:24.712Z"
   },
   {
    "duration": 7,
    "start_time": "2022-01-11T03:16:38.895Z"
   },
   {
    "duration": 11,
    "start_time": "2022-01-11T03:17:39.763Z"
   },
   {
    "duration": 463,
    "start_time": "2022-01-11T03:17:50.107Z"
   },
   {
    "duration": 793,
    "start_time": "2022-01-11T03:18:38.800Z"
   },
   {
    "duration": 15,
    "start_time": "2022-01-11T03:18:59.617Z"
   },
   {
    "duration": 13,
    "start_time": "2022-01-11T03:19:08.742Z"
   },
   {
    "duration": 7,
    "start_time": "2022-01-11T03:19:57.767Z"
   },
   {
    "duration": 102,
    "start_time": "2022-01-11T03:20:11.778Z"
   },
   {
    "duration": 111,
    "start_time": "2022-01-13T06:06:13.386Z"
   },
   {
    "duration": 1008,
    "start_time": "2022-01-13T15:40:17.781Z"
   },
   {
    "duration": 36,
    "start_time": "2022-01-13T15:40:18.790Z"
   },
   {
    "duration": 13,
    "start_time": "2022-01-13T15:40:18.828Z"
   },
   {
    "duration": 5,
    "start_time": "2022-01-13T15:40:18.842Z"
   },
   {
    "duration": 16,
    "start_time": "2022-01-13T15:40:18.849Z"
   },
   {
    "duration": 14,
    "start_time": "2022-01-13T15:40:18.867Z"
   },
   {
    "duration": 44,
    "start_time": "2022-01-13T15:40:18.883Z"
   },
   {
    "duration": 9,
    "start_time": "2022-01-13T15:40:18.930Z"
   },
   {
    "duration": 17,
    "start_time": "2022-01-13T15:40:18.941Z"
   },
   {
    "duration": 28,
    "start_time": "2022-01-13T15:40:18.960Z"
   },
   {
    "duration": 5,
    "start_time": "2022-01-13T15:40:18.990Z"
   },
   {
    "duration": 38,
    "start_time": "2022-01-13T15:40:18.996Z"
   },
   {
    "duration": 40,
    "start_time": "2022-01-13T15:40:19.036Z"
   },
   {
    "duration": 18,
    "start_time": "2022-01-13T15:40:19.078Z"
   },
   {
    "duration": 43,
    "start_time": "2022-01-13T15:40:19.098Z"
   },
   {
    "duration": 5,
    "start_time": "2022-01-13T15:40:19.143Z"
   },
   {
    "duration": 10,
    "start_time": "2022-01-13T15:40:19.150Z"
   },
   {
    "duration": 35,
    "start_time": "2022-01-13T15:40:19.162Z"
   },
   {
    "duration": 45,
    "start_time": "2022-01-13T15:40:19.199Z"
   },
   {
    "duration": 18,
    "start_time": "2022-01-13T15:40:19.247Z"
   },
   {
    "duration": 9,
    "start_time": "2022-01-13T15:40:19.267Z"
   },
   {
    "duration": 17,
    "start_time": "2022-01-13T15:40:19.278Z"
   },
   {
    "duration": 31,
    "start_time": "2022-01-13T15:40:19.300Z"
   },
   {
    "duration": 16,
    "start_time": "2022-01-13T15:40:19.334Z"
   },
   {
    "duration": 5,
    "start_time": "2022-01-13T15:40:19.352Z"
   },
   {
    "duration": 5,
    "start_time": "2022-01-13T15:40:19.359Z"
   },
   {
    "duration": 11,
    "start_time": "2022-01-13T15:40:19.365Z"
   },
   {
    "duration": 17,
    "start_time": "2022-01-13T15:40:19.377Z"
   },
   {
    "duration": 41,
    "start_time": "2022-01-13T15:40:19.395Z"
   },
   {
    "duration": 7,
    "start_time": "2022-01-13T15:40:19.438Z"
   },
   {
    "duration": 264,
    "start_time": "2022-01-13T15:40:19.447Z"
   },
   {
    "duration": 22,
    "start_time": "2022-01-13T15:40:19.713Z"
   },
   {
    "duration": 1490,
    "start_time": "2022-01-13T15:40:19.737Z"
   },
   {
    "duration": 8,
    "start_time": "2022-01-13T15:40:21.228Z"
   },
   {
    "duration": 11,
    "start_time": "2022-01-13T15:40:21.237Z"
   },
   {
    "duration": 7,
    "start_time": "2022-01-13T15:40:21.249Z"
   },
   {
    "duration": 127,
    "start_time": "2022-01-13T15:40:21.257Z"
   },
   {
    "duration": 42,
    "start_time": "2022-01-13T15:40:21.386Z"
   },
   {
    "duration": 7,
    "start_time": "2022-01-13T15:40:21.429Z"
   },
   {
    "duration": 15,
    "start_time": "2022-01-13T15:40:21.438Z"
   },
   {
    "duration": 5,
    "start_time": "2022-01-13T15:40:21.455Z"
   },
   {
    "duration": 82,
    "start_time": "2022-01-13T15:40:21.461Z"
   },
   {
    "duration": 9,
    "start_time": "2022-01-13T15:40:21.545Z"
   },
   {
    "duration": 9,
    "start_time": "2022-01-13T15:40:21.556Z"
   },
   {
    "duration": 15,
    "start_time": "2022-01-13T15:40:21.567Z"
   },
   {
    "duration": 8,
    "start_time": "2022-01-13T15:40:21.583Z"
   },
   {
    "duration": 38,
    "start_time": "2022-01-13T15:40:21.593Z"
   },
   {
    "duration": 755,
    "start_time": "2022-01-13T15:40:21.633Z"
   },
   {
    "duration": 870,
    "start_time": "2022-01-13T15:40:22.390Z"
   },
   {
    "duration": 518,
    "start_time": "2022-01-13T15:40:23.261Z"
   },
   {
    "duration": 482,
    "start_time": "2022-01-13T15:40:23.780Z"
   },
   {
    "duration": 456,
    "start_time": "2022-01-13T15:40:24.264Z"
   },
   {
    "duration": 12,
    "start_time": "2022-01-13T15:40:24.722Z"
   },
   {
    "duration": 393,
    "start_time": "2022-01-13T15:40:24.736Z"
   },
   {
    "duration": 486,
    "start_time": "2022-01-13T15:40:25.132Z"
   },
   {
    "duration": 417,
    "start_time": "2022-01-13T15:40:25.620Z"
   },
   {
    "duration": 5,
    "start_time": "2022-01-13T15:40:26.039Z"
   },
   {
    "duration": 36,
    "start_time": "2022-01-13T15:40:26.046Z"
   },
   {
    "duration": 45,
    "start_time": "2022-01-13T15:40:26.083Z"
   },
   {
    "duration": 23,
    "start_time": "2022-01-13T15:40:26.130Z"
   },
   {
    "duration": 16,
    "start_time": "2022-01-13T15:40:26.154Z"
   },
   {
    "duration": 7,
    "start_time": "2022-01-13T15:40:26.171Z"
   },
   {
    "duration": 12,
    "start_time": "2022-01-13T15:40:26.180Z"
   },
   {
    "duration": 53,
    "start_time": "2022-01-13T15:40:26.194Z"
   },
   {
    "duration": 13,
    "start_time": "2022-01-13T15:40:26.248Z"
   },
   {
    "duration": 192,
    "start_time": "2022-01-13T15:40:26.262Z"
   },
   {
    "duration": 17,
    "start_time": "2022-01-13T15:40:26.455Z"
   },
   {
    "duration": 8,
    "start_time": "2022-01-13T15:40:26.476Z"
   },
   {
    "duration": 42,
    "start_time": "2022-01-13T15:40:26.486Z"
   },
   {
    "duration": 26,
    "start_time": "2022-01-13T15:40:26.530Z"
   },
   {
    "duration": 13,
    "start_time": "2022-01-13T15:40:26.557Z"
   },
   {
    "duration": 197,
    "start_time": "2022-01-13T15:40:26.571Z"
   },
   {
    "duration": 17,
    "start_time": "2022-01-13T15:40:26.770Z"
   },
   {
    "duration": 8,
    "start_time": "2022-01-13T15:40:26.788Z"
   },
   {
    "duration": 30,
    "start_time": "2022-01-13T15:40:26.798Z"
   },
   {
    "duration": 27,
    "start_time": "2022-01-13T15:40:26.829Z"
   },
   {
    "duration": 15,
    "start_time": "2022-01-13T15:40:26.858Z"
   },
   {
    "duration": 203,
    "start_time": "2022-01-13T15:40:26.875Z"
   },
   {
    "duration": 7,
    "start_time": "2022-01-13T15:40:27.079Z"
   },
   {
    "duration": 379,
    "start_time": "2022-01-13T15:40:27.088Z"
   },
   {
    "duration": 7,
    "start_time": "2022-01-13T15:40:27.468Z"
   },
   {
    "duration": 9,
    "start_time": "2022-01-13T15:40:27.477Z"
   },
   {
    "duration": 5,
    "start_time": "2022-01-13T15:40:27.488Z"
   },
   {
    "duration": 33,
    "start_time": "2022-01-13T15:40:27.494Z"
   },
   {
    "duration": 362,
    "start_time": "2022-01-13T15:40:27.529Z"
   },
   {
    "duration": 7,
    "start_time": "2022-01-13T15:40:27.892Z"
   },
   {
    "duration": 9,
    "start_time": "2022-01-13T15:40:27.900Z"
   },
   {
    "duration": 18,
    "start_time": "2022-01-13T15:40:27.911Z"
   },
   {
    "duration": 7137,
    "start_time": "2022-01-13T16:07:52.652Z"
   },
   {
    "duration": 6928,
    "start_time": "2022-01-13T16:08:50.477Z"
   },
   {
    "duration": 4,
    "start_time": "2022-01-13T16:09:34.093Z"
   },
   {
    "duration": 199,
    "start_time": "2022-01-13T16:09:41.285Z"
   },
   {
    "duration": 7,
    "start_time": "2022-01-13T16:09:52.962Z"
   },
   {
    "duration": 199,
    "start_time": "2022-01-13T16:10:30.773Z"
   },
   {
    "duration": 286,
    "start_time": "2022-01-13T16:10:39.378Z"
   },
   {
    "duration": 193,
    "start_time": "2022-01-13T16:13:13.277Z"
   },
   {
    "duration": 393,
    "start_time": "2022-01-13T16:14:31.961Z"
   },
   {
    "duration": 604,
    "start_time": "2022-01-13T16:16:32.894Z"
   },
   {
    "duration": 597,
    "start_time": "2022-01-13T16:16:48.495Z"
   },
   {
    "duration": 687,
    "start_time": "2022-01-13T16:17:16.893Z"
   },
   {
    "duration": 2,
    "start_time": "2022-01-13T16:19:24.300Z"
   },
   {
    "duration": 1026,
    "start_time": "2022-01-13T16:19:30.466Z"
   },
   {
    "duration": 37,
    "start_time": "2022-01-13T16:19:31.494Z"
   },
   {
    "duration": 13,
    "start_time": "2022-01-13T16:19:31.533Z"
   },
   {
    "duration": 3,
    "start_time": "2022-01-13T16:19:31.548Z"
   },
   {
    "duration": 17,
    "start_time": "2022-01-13T16:19:31.552Z"
   },
   {
    "duration": 14,
    "start_time": "2022-01-13T16:19:31.570Z"
   },
   {
    "duration": 21,
    "start_time": "2022-01-13T16:19:31.585Z"
   },
   {
    "duration": 6,
    "start_time": "2022-01-13T16:19:31.608Z"
   },
   {
    "duration": 12,
    "start_time": "2022-01-13T16:19:31.628Z"
   },
   {
    "duration": 19,
    "start_time": "2022-01-13T16:19:31.641Z"
   },
   {
    "duration": 4,
    "start_time": "2022-01-13T16:19:31.662Z"
   },
   {
    "duration": 16,
    "start_time": "2022-01-13T16:19:31.668Z"
   },
   {
    "duration": 42,
    "start_time": "2022-01-13T16:19:31.686Z"
   },
   {
    "duration": 13,
    "start_time": "2022-01-13T16:19:31.730Z"
   },
   {
    "duration": 21,
    "start_time": "2022-01-13T16:19:31.745Z"
   },
   {
    "duration": 4,
    "start_time": "2022-01-13T16:19:31.767Z"
   },
   {
    "duration": 12,
    "start_time": "2022-01-13T16:19:31.772Z"
   },
   {
    "duration": 24,
    "start_time": "2022-01-13T16:19:31.785Z"
   },
   {
    "duration": 31,
    "start_time": "2022-01-13T16:19:31.810Z"
   },
   {
    "duration": 17,
    "start_time": "2022-01-13T16:19:31.842Z"
   },
   {
    "duration": 7,
    "start_time": "2022-01-13T16:19:31.861Z"
   },
   {
    "duration": 15,
    "start_time": "2022-01-13T16:19:31.870Z"
   },
   {
    "duration": 7,
    "start_time": "2022-01-13T16:19:31.889Z"
   },
   {
    "duration": 37,
    "start_time": "2022-01-13T16:19:31.898Z"
   },
   {
    "duration": 5,
    "start_time": "2022-01-13T16:19:31.937Z"
   },
   {
    "duration": 6,
    "start_time": "2022-01-13T16:19:31.944Z"
   },
   {
    "duration": 10,
    "start_time": "2022-01-13T16:19:31.951Z"
   },
   {
    "duration": 16,
    "start_time": "2022-01-13T16:19:31.962Z"
   },
   {
    "duration": 16,
    "start_time": "2022-01-13T16:19:31.979Z"
   },
   {
    "duration": 35,
    "start_time": "2022-01-13T16:19:31.996Z"
   },
   {
    "duration": 252,
    "start_time": "2022-01-13T16:19:32.032Z"
   },
   {
    "duration": 18,
    "start_time": "2022-01-13T16:19:32.286Z"
   },
   {
    "duration": 1513,
    "start_time": "2022-01-13T16:19:32.306Z"
   },
   {
    "duration": 11,
    "start_time": "2022-01-13T16:19:33.821Z"
   },
   {
    "duration": 9,
    "start_time": "2022-01-13T16:19:33.833Z"
   },
   {
    "duration": 5,
    "start_time": "2022-01-13T16:19:33.843Z"
   },
   {
    "duration": 117,
    "start_time": "2022-01-13T16:19:33.849Z"
   },
   {
    "duration": 33,
    "start_time": "2022-01-13T16:19:33.968Z"
   },
   {
    "duration": 8,
    "start_time": "2022-01-13T16:19:34.003Z"
   },
   {
    "duration": 17,
    "start_time": "2022-01-13T16:19:34.027Z"
   },
   {
    "duration": 6,
    "start_time": "2022-01-13T16:19:34.045Z"
   },
   {
    "duration": 80,
    "start_time": "2022-01-13T16:19:34.052Z"
   },
   {
    "duration": 10,
    "start_time": "2022-01-13T16:19:34.133Z"
   },
   {
    "duration": 9,
    "start_time": "2022-01-13T16:19:34.144Z"
   },
   {
    "duration": 13,
    "start_time": "2022-01-13T16:19:34.155Z"
   },
   {
    "duration": 9,
    "start_time": "2022-01-13T16:19:34.169Z"
   },
   {
    "duration": 15,
    "start_time": "2022-01-13T16:19:34.180Z"
   },
   {
    "duration": 783,
    "start_time": "2022-01-13T16:19:34.197Z"
   },
   {
    "duration": 750,
    "start_time": "2022-01-13T16:19:34.981Z"
   },
   {
    "duration": 468,
    "start_time": "2022-01-13T16:19:35.733Z"
   },
   {
    "duration": 482,
    "start_time": "2022-01-13T16:19:36.202Z"
   },
   {
    "duration": 681,
    "start_time": "2022-01-13T16:19:36.686Z"
   },
   {
    "duration": 6,
    "start_time": "2022-01-13T16:19:37.369Z"
   },
   {
    "duration": 382,
    "start_time": "2022-01-13T16:19:37.377Z"
   },
   {
    "duration": 451,
    "start_time": "2022-01-13T16:19:37.760Z"
   },
   {
    "duration": 465,
    "start_time": "2022-01-13T16:19:38.213Z"
   },
   {
    "duration": 6,
    "start_time": "2022-01-13T16:19:38.680Z"
   },
   {
    "duration": 61,
    "start_time": "2022-01-13T16:19:38.688Z"
   },
   {
    "duration": 24,
    "start_time": "2022-01-13T16:19:38.750Z"
   },
   {
    "duration": 23,
    "start_time": "2022-01-13T16:19:38.775Z"
   },
   {
    "duration": 7,
    "start_time": "2022-01-13T16:19:38.799Z"
   },
   {
    "duration": 659,
    "start_time": "2022-01-13T16:19:38.807Z"
   },
   {
    "duration": 18,
    "start_time": "2022-01-13T16:19:39.467Z"
   },
   {
    "duration": 9,
    "start_time": "2022-01-13T16:19:39.487Z"
   },
   {
    "duration": 33,
    "start_time": "2022-01-13T16:19:39.498Z"
   },
   {
    "duration": 28,
    "start_time": "2022-01-13T16:19:39.533Z"
   },
   {
    "duration": 14,
    "start_time": "2022-01-13T16:19:39.562Z"
   },
   {
    "duration": 196,
    "start_time": "2022-01-13T16:19:39.582Z"
   },
   {
    "duration": 17,
    "start_time": "2022-01-13T16:19:39.780Z"
   },
   {
    "duration": 8,
    "start_time": "2022-01-13T16:19:39.798Z"
   },
   {
    "duration": 25,
    "start_time": "2022-01-13T16:19:39.808Z"
   },
   {
    "duration": 26,
    "start_time": "2022-01-13T16:19:39.834Z"
   },
   {
    "duration": 12,
    "start_time": "2022-01-13T16:19:39.861Z"
   },
   {
    "duration": 202,
    "start_time": "2022-01-13T16:19:39.875Z"
   },
   {
    "duration": 17,
    "start_time": "2022-01-13T16:19:40.078Z"
   },
   {
    "duration": 8,
    "start_time": "2022-01-13T16:19:40.096Z"
   },
   {
    "duration": 29,
    "start_time": "2022-01-13T16:19:40.105Z"
   },
   {
    "duration": 27,
    "start_time": "2022-01-13T16:19:40.136Z"
   },
   {
    "duration": 14,
    "start_time": "2022-01-13T16:19:40.164Z"
   },
   {
    "duration": 195,
    "start_time": "2022-01-13T16:19:40.180Z"
   },
   {
    "duration": 7,
    "start_time": "2022-01-13T16:19:40.376Z"
   },
   {
    "duration": 376,
    "start_time": "2022-01-13T16:19:40.385Z"
   },
   {
    "duration": 7,
    "start_time": "2022-01-13T16:19:40.762Z"
   },
   {
    "duration": 10,
    "start_time": "2022-01-13T16:19:40.770Z"
   },
   {
    "duration": 4,
    "start_time": "2022-01-13T16:19:40.782Z"
   },
   {
    "duration": 11,
    "start_time": "2022-01-13T16:19:40.787Z"
   },
   {
    "duration": 462,
    "start_time": "2022-01-13T16:19:40.800Z"
   },
   {
    "duration": 7,
    "start_time": "2022-01-13T16:19:41.264Z"
   },
   {
    "duration": 11,
    "start_time": "2022-01-13T16:19:41.272Z"
   },
   {
    "duration": 7,
    "start_time": "2022-01-13T16:19:41.285Z"
   }
  ],
  "kernelspec": {
   "display_name": "Python 3 (ipykernel)",
   "language": "python",
   "name": "python3"
  },
  "language_info": {
   "codemirror_mode": {
    "name": "ipython",
    "version": 3
   },
   "file_extension": ".py",
   "mimetype": "text/x-python",
   "name": "python",
   "nbconvert_exporter": "python",
   "pygments_lexer": "ipython3",
   "version": "3.9.7"
  },
  "toc": {
   "base_numbering": 1,
   "nav_menu": {},
   "number_sections": true,
   "sideBar": true,
   "skip_h1_title": false,
   "title_cell": "Table of Contents",
   "title_sidebar": "Contents",
   "toc_cell": false,
   "toc_position": {
    "height": "calc(100% - 180px)",
    "left": "10px",
    "top": "150px",
    "width": "294.19px"
   },
   "toc_section_display": true,
   "toc_window_display": true
  }
 },
 "nbformat": 4,
 "nbformat_minor": 4
}
