{
 "cells": [
  {
   "cell_type": "markdown",
   "metadata": {},
   "source": [
    "# Отток клиентов"
   ]
  },
  {
   "cell_type": "markdown",
   "metadata": {},
   "source": [
    "Из «Бета-Банка» стали уходить клиенты. Каждый месяц. Немного, но заметно. Банковские маркетологи посчитали: сохранять текущих клиентов дешевле, чем привлекать новых.\n",
    "\n",
    "Нужно спрогнозировать, уйдёт клиент из банка в ближайшее время или нет. Вам предоставлены исторические данные о поведении клиентов и расторжении договоров с банком. \n",
    "\n",
    "Постройте модель с предельно большим значением *F1*-меры. Чтобы сдать проект успешно, нужно довести метрику до 0.59. Проверьте *F1*-меру на тестовой выборке самостоятельно.\n",
    "\n",
    "Дополнительно измеряйте *AUC-ROC*, сравнивайте её значение с *F1*-мерой.\n",
    "\n",
    "Источник данных: [https://www.kaggle.com/barelydedicated/bank-customer-churn-modeling](https://www.kaggle.com/barelydedicated/bank-customer-churn-modeling)"
   ]
  },
  {
   "cell_type": "markdown",
   "metadata": {},
   "source": [
    "## Подготовка данных"
   ]
  },
  {
   "cell_type": "markdown",
   "metadata": {},
   "source": [
    "### Изучение данных"
   ]
  },
  {
   "cell_type": "code",
   "execution_count": 1,
   "metadata": {},
   "outputs": [],
   "source": [
    "import pandas as pd\n",
    "import matplotlib.pyplot as plt\n",
    "import seaborn as sns\n",
    "import numpy as np\n",
    "from sklearn.utils import shuffle\n",
    "from sklearn.preprocessing import OrdinalEncoder\n",
    "from sklearn.preprocessing import StandardScaler\n",
    "from sklearn.metrics import classification_report\n",
    "from sklearn.metrics import f1_score, precision_score, recall_score\n",
    "from sklearn.metrics import roc_curve\n",
    "from sklearn.metrics import roc_auc_score\n",
    "from sklearn.model_selection import GridSearchCV\n",
    "from sklearn.tree import DecisionTreeClassifier\n",
    "from sklearn.ensemble import RandomForestClassifier\n",
    "from sklearn.linear_model import LogisticRegression"
   ]
  },
  {
   "cell_type": "code",
   "execution_count": 2,
   "metadata": {},
   "outputs": [],
   "source": [
    "data = pd.read_csv('/datasets/Churn.csv', index_col=0)"
   ]
  },
  {
   "cell_type": "code",
   "execution_count": 3,
   "metadata": {},
   "outputs": [
    {
     "data": {
      "text/html": [
       "<div>\n",
       "<style scoped>\n",
       "    .dataframe tbody tr th:only-of-type {\n",
       "        vertical-align: middle;\n",
       "    }\n",
       "\n",
       "    .dataframe tbody tr th {\n",
       "        vertical-align: top;\n",
       "    }\n",
       "\n",
       "    .dataframe thead th {\n",
       "        text-align: right;\n",
       "    }\n",
       "</style>\n",
       "<table border=\"1\" class=\"dataframe\">\n",
       "  <thead>\n",
       "    <tr style=\"text-align: right;\">\n",
       "      <th></th>\n",
       "      <th>CustomerId</th>\n",
       "      <th>Surname</th>\n",
       "      <th>CreditScore</th>\n",
       "      <th>Geography</th>\n",
       "      <th>Gender</th>\n",
       "      <th>Age</th>\n",
       "      <th>Tenure</th>\n",
       "      <th>Balance</th>\n",
       "      <th>NumOfProducts</th>\n",
       "      <th>HasCrCard</th>\n",
       "      <th>IsActiveMember</th>\n",
       "      <th>EstimatedSalary</th>\n",
       "      <th>Exited</th>\n",
       "    </tr>\n",
       "    <tr>\n",
       "      <th>RowNumber</th>\n",
       "      <th></th>\n",
       "      <th></th>\n",
       "      <th></th>\n",
       "      <th></th>\n",
       "      <th></th>\n",
       "      <th></th>\n",
       "      <th></th>\n",
       "      <th></th>\n",
       "      <th></th>\n",
       "      <th></th>\n",
       "      <th></th>\n",
       "      <th></th>\n",
       "      <th></th>\n",
       "    </tr>\n",
       "  </thead>\n",
       "  <tbody>\n",
       "    <tr>\n",
       "      <td>1</td>\n",
       "      <td>15634602</td>\n",
       "      <td>Hargrave</td>\n",
       "      <td>619</td>\n",
       "      <td>France</td>\n",
       "      <td>Female</td>\n",
       "      <td>42</td>\n",
       "      <td>2.0</td>\n",
       "      <td>0.00</td>\n",
       "      <td>1</td>\n",
       "      <td>1</td>\n",
       "      <td>1</td>\n",
       "      <td>101348.88</td>\n",
       "      <td>1</td>\n",
       "    </tr>\n",
       "    <tr>\n",
       "      <td>2</td>\n",
       "      <td>15647311</td>\n",
       "      <td>Hill</td>\n",
       "      <td>608</td>\n",
       "      <td>Spain</td>\n",
       "      <td>Female</td>\n",
       "      <td>41</td>\n",
       "      <td>1.0</td>\n",
       "      <td>83807.86</td>\n",
       "      <td>1</td>\n",
       "      <td>0</td>\n",
       "      <td>1</td>\n",
       "      <td>112542.58</td>\n",
       "      <td>0</td>\n",
       "    </tr>\n",
       "    <tr>\n",
       "      <td>3</td>\n",
       "      <td>15619304</td>\n",
       "      <td>Onio</td>\n",
       "      <td>502</td>\n",
       "      <td>France</td>\n",
       "      <td>Female</td>\n",
       "      <td>42</td>\n",
       "      <td>8.0</td>\n",
       "      <td>159660.80</td>\n",
       "      <td>3</td>\n",
       "      <td>1</td>\n",
       "      <td>0</td>\n",
       "      <td>113931.57</td>\n",
       "      <td>1</td>\n",
       "    </tr>\n",
       "    <tr>\n",
       "      <td>4</td>\n",
       "      <td>15701354</td>\n",
       "      <td>Boni</td>\n",
       "      <td>699</td>\n",
       "      <td>France</td>\n",
       "      <td>Female</td>\n",
       "      <td>39</td>\n",
       "      <td>1.0</td>\n",
       "      <td>0.00</td>\n",
       "      <td>2</td>\n",
       "      <td>0</td>\n",
       "      <td>0</td>\n",
       "      <td>93826.63</td>\n",
       "      <td>0</td>\n",
       "    </tr>\n",
       "    <tr>\n",
       "      <td>5</td>\n",
       "      <td>15737888</td>\n",
       "      <td>Mitchell</td>\n",
       "      <td>850</td>\n",
       "      <td>Spain</td>\n",
       "      <td>Female</td>\n",
       "      <td>43</td>\n",
       "      <td>2.0</td>\n",
       "      <td>125510.82</td>\n",
       "      <td>1</td>\n",
       "      <td>1</td>\n",
       "      <td>1</td>\n",
       "      <td>79084.10</td>\n",
       "      <td>0</td>\n",
       "    </tr>\n",
       "  </tbody>\n",
       "</table>\n",
       "</div>"
      ],
      "text/plain": [
       "           CustomerId   Surname  CreditScore Geography  Gender  Age  Tenure  \\\n",
       "RowNumber                                                                     \n",
       "1            15634602  Hargrave          619    France  Female   42     2.0   \n",
       "2            15647311      Hill          608     Spain  Female   41     1.0   \n",
       "3            15619304      Onio          502    France  Female   42     8.0   \n",
       "4            15701354      Boni          699    France  Female   39     1.0   \n",
       "5            15737888  Mitchell          850     Spain  Female   43     2.0   \n",
       "\n",
       "             Balance  NumOfProducts  HasCrCard  IsActiveMember  \\\n",
       "RowNumber                                                        \n",
       "1               0.00              1          1               1   \n",
       "2           83807.86              1          0               1   \n",
       "3          159660.80              3          1               0   \n",
       "4               0.00              2          0               0   \n",
       "5          125510.82              1          1               1   \n",
       "\n",
       "           EstimatedSalary  Exited  \n",
       "RowNumber                           \n",
       "1                101348.88       1  \n",
       "2                112542.58       0  \n",
       "3                113931.57       1  \n",
       "4                 93826.63       0  \n",
       "5                 79084.10       0  "
      ]
     },
     "execution_count": 3,
     "metadata": {},
     "output_type": "execute_result"
    }
   ],
   "source": [
    "data.head()"
   ]
  },
  {
   "cell_type": "code",
   "execution_count": 4,
   "metadata": {},
   "outputs": [
    {
     "name": "stdout",
     "output_type": "stream",
     "text": [
      "<class 'pandas.core.frame.DataFrame'>\n",
      "Int64Index: 10000 entries, 1 to 10000\n",
      "Data columns (total 13 columns):\n",
      "CustomerId         10000 non-null int64\n",
      "Surname            10000 non-null object\n",
      "CreditScore        10000 non-null int64\n",
      "Geography          10000 non-null object\n",
      "Gender             10000 non-null object\n",
      "Age                10000 non-null int64\n",
      "Tenure             9091 non-null float64\n",
      "Balance            10000 non-null float64\n",
      "NumOfProducts      10000 non-null int64\n",
      "HasCrCard          10000 non-null int64\n",
      "IsActiveMember     10000 non-null int64\n",
      "EstimatedSalary    10000 non-null float64\n",
      "Exited             10000 non-null int64\n",
      "dtypes: float64(3), int64(7), object(3)\n",
      "memory usage: 1.1+ MB\n"
     ]
    }
   ],
   "source": [
    "data.info()"
   ]
  },
  {
   "cell_type": "code",
   "execution_count": 5,
   "metadata": {},
   "outputs": [
    {
     "name": "stdout",
     "output_type": "stream",
     "text": [
      "Количество дробных чисел в столбце \"Tenure\": 0\n"
     ]
    }
   ],
   "source": [
    "#проверим наличие десятичных дробей с числом, отличным от нуля после точки\n",
    "print('Количество дробных чисел в столбце \"Tenure\":' ,((data[~data['Tenure'].isna()]['Tenure'] % data[~data['Tenure'].isna()]['Tenure'].astype('int')) > 0).sum())"
   ]
  },
  {
   "cell_type": "code",
   "execution_count": 6,
   "metadata": {},
   "outputs": [
    {
     "data": {
      "text/html": [
       "<div>\n",
       "<style scoped>\n",
       "    .dataframe tbody tr th:only-of-type {\n",
       "        vertical-align: middle;\n",
       "    }\n",
       "\n",
       "    .dataframe tbody tr th {\n",
       "        vertical-align: top;\n",
       "    }\n",
       "\n",
       "    .dataframe thead th {\n",
       "        text-align: right;\n",
       "    }\n",
       "</style>\n",
       "<table border=\"1\" class=\"dataframe\">\n",
       "  <thead>\n",
       "    <tr style=\"text-align: right;\">\n",
       "      <th></th>\n",
       "      <th>CustomerId</th>\n",
       "      <th>Surname</th>\n",
       "      <th>CreditScore</th>\n",
       "      <th>Geography</th>\n",
       "      <th>Gender</th>\n",
       "      <th>Age</th>\n",
       "      <th>Tenure</th>\n",
       "      <th>Balance</th>\n",
       "      <th>NumOfProducts</th>\n",
       "      <th>HasCrCard</th>\n",
       "      <th>IsActiveMember</th>\n",
       "      <th>EstimatedSalary</th>\n",
       "      <th>Exited</th>\n",
       "    </tr>\n",
       "    <tr>\n",
       "      <th>RowNumber</th>\n",
       "      <th></th>\n",
       "      <th></th>\n",
       "      <th></th>\n",
       "      <th></th>\n",
       "      <th></th>\n",
       "      <th></th>\n",
       "      <th></th>\n",
       "      <th></th>\n",
       "      <th></th>\n",
       "      <th></th>\n",
       "      <th></th>\n",
       "      <th></th>\n",
       "      <th></th>\n",
       "    </tr>\n",
       "  </thead>\n",
       "  <tbody>\n",
       "    <tr>\n",
       "      <td>1</td>\n",
       "      <td>15634602</td>\n",
       "      <td>Hargrave</td>\n",
       "      <td>619</td>\n",
       "      <td>France</td>\n",
       "      <td>Female</td>\n",
       "      <td>42</td>\n",
       "      <td>2.0</td>\n",
       "      <td>0.00</td>\n",
       "      <td>1</td>\n",
       "      <td>1</td>\n",
       "      <td>1</td>\n",
       "      <td>101348.88</td>\n",
       "      <td>1</td>\n",
       "    </tr>\n",
       "    <tr>\n",
       "      <td>2</td>\n",
       "      <td>15647311</td>\n",
       "      <td>Hill</td>\n",
       "      <td>608</td>\n",
       "      <td>Spain</td>\n",
       "      <td>Female</td>\n",
       "      <td>41</td>\n",
       "      <td>1.0</td>\n",
       "      <td>83807.86</td>\n",
       "      <td>1</td>\n",
       "      <td>0</td>\n",
       "      <td>1</td>\n",
       "      <td>112542.58</td>\n",
       "      <td>0</td>\n",
       "    </tr>\n",
       "    <tr>\n",
       "      <td>3</td>\n",
       "      <td>15619304</td>\n",
       "      <td>Onio</td>\n",
       "      <td>502</td>\n",
       "      <td>France</td>\n",
       "      <td>Female</td>\n",
       "      <td>42</td>\n",
       "      <td>8.0</td>\n",
       "      <td>159660.80</td>\n",
       "      <td>3</td>\n",
       "      <td>1</td>\n",
       "      <td>0</td>\n",
       "      <td>113931.57</td>\n",
       "      <td>1</td>\n",
       "    </tr>\n",
       "    <tr>\n",
       "      <td>4</td>\n",
       "      <td>15701354</td>\n",
       "      <td>Boni</td>\n",
       "      <td>699</td>\n",
       "      <td>France</td>\n",
       "      <td>Female</td>\n",
       "      <td>39</td>\n",
       "      <td>1.0</td>\n",
       "      <td>0.00</td>\n",
       "      <td>2</td>\n",
       "      <td>0</td>\n",
       "      <td>0</td>\n",
       "      <td>93826.63</td>\n",
       "      <td>0</td>\n",
       "    </tr>\n",
       "    <tr>\n",
       "      <td>5</td>\n",
       "      <td>15737888</td>\n",
       "      <td>Mitchell</td>\n",
       "      <td>850</td>\n",
       "      <td>Spain</td>\n",
       "      <td>Female</td>\n",
       "      <td>43</td>\n",
       "      <td>2.0</td>\n",
       "      <td>125510.82</td>\n",
       "      <td>1</td>\n",
       "      <td>1</td>\n",
       "      <td>1</td>\n",
       "      <td>79084.10</td>\n",
       "      <td>0</td>\n",
       "    </tr>\n",
       "    <tr>\n",
       "      <td>...</td>\n",
       "      <td>...</td>\n",
       "      <td>...</td>\n",
       "      <td>...</td>\n",
       "      <td>...</td>\n",
       "      <td>...</td>\n",
       "      <td>...</td>\n",
       "      <td>...</td>\n",
       "      <td>...</td>\n",
       "      <td>...</td>\n",
       "      <td>...</td>\n",
       "      <td>...</td>\n",
       "      <td>...</td>\n",
       "      <td>...</td>\n",
       "    </tr>\n",
       "    <tr>\n",
       "      <td>9995</td>\n",
       "      <td>15719294</td>\n",
       "      <td>Wood</td>\n",
       "      <td>800</td>\n",
       "      <td>France</td>\n",
       "      <td>Female</td>\n",
       "      <td>29</td>\n",
       "      <td>2.0</td>\n",
       "      <td>0.00</td>\n",
       "      <td>2</td>\n",
       "      <td>0</td>\n",
       "      <td>0</td>\n",
       "      <td>167773.55</td>\n",
       "      <td>0</td>\n",
       "    </tr>\n",
       "    <tr>\n",
       "      <td>9996</td>\n",
       "      <td>15606229</td>\n",
       "      <td>Obijiaku</td>\n",
       "      <td>771</td>\n",
       "      <td>France</td>\n",
       "      <td>Male</td>\n",
       "      <td>39</td>\n",
       "      <td>5.0</td>\n",
       "      <td>0.00</td>\n",
       "      <td>2</td>\n",
       "      <td>1</td>\n",
       "      <td>0</td>\n",
       "      <td>96270.64</td>\n",
       "      <td>0</td>\n",
       "    </tr>\n",
       "    <tr>\n",
       "      <td>9997</td>\n",
       "      <td>15569892</td>\n",
       "      <td>Johnstone</td>\n",
       "      <td>516</td>\n",
       "      <td>France</td>\n",
       "      <td>Male</td>\n",
       "      <td>35</td>\n",
       "      <td>10.0</td>\n",
       "      <td>57369.61</td>\n",
       "      <td>1</td>\n",
       "      <td>1</td>\n",
       "      <td>1</td>\n",
       "      <td>101699.77</td>\n",
       "      <td>0</td>\n",
       "    </tr>\n",
       "    <tr>\n",
       "      <td>9998</td>\n",
       "      <td>15584532</td>\n",
       "      <td>Liu</td>\n",
       "      <td>709</td>\n",
       "      <td>France</td>\n",
       "      <td>Female</td>\n",
       "      <td>36</td>\n",
       "      <td>7.0</td>\n",
       "      <td>0.00</td>\n",
       "      <td>1</td>\n",
       "      <td>0</td>\n",
       "      <td>1</td>\n",
       "      <td>42085.58</td>\n",
       "      <td>1</td>\n",
       "    </tr>\n",
       "    <tr>\n",
       "      <td>9999</td>\n",
       "      <td>15682355</td>\n",
       "      <td>Sabbatini</td>\n",
       "      <td>772</td>\n",
       "      <td>Germany</td>\n",
       "      <td>Male</td>\n",
       "      <td>42</td>\n",
       "      <td>3.0</td>\n",
       "      <td>75075.31</td>\n",
       "      <td>2</td>\n",
       "      <td>1</td>\n",
       "      <td>0</td>\n",
       "      <td>92888.52</td>\n",
       "      <td>1</td>\n",
       "    </tr>\n",
       "  </tbody>\n",
       "</table>\n",
       "<p>9091 rows × 13 columns</p>\n",
       "</div>"
      ],
      "text/plain": [
       "           CustomerId    Surname  CreditScore Geography  Gender  Age  Tenure  \\\n",
       "RowNumber                                                                      \n",
       "1            15634602   Hargrave          619    France  Female   42     2.0   \n",
       "2            15647311       Hill          608     Spain  Female   41     1.0   \n",
       "3            15619304       Onio          502    France  Female   42     8.0   \n",
       "4            15701354       Boni          699    France  Female   39     1.0   \n",
       "5            15737888   Mitchell          850     Spain  Female   43     2.0   \n",
       "...               ...        ...          ...       ...     ...  ...     ...   \n",
       "9995         15719294       Wood          800    France  Female   29     2.0   \n",
       "9996         15606229   Obijiaku          771    France    Male   39     5.0   \n",
       "9997         15569892  Johnstone          516    France    Male   35    10.0   \n",
       "9998         15584532        Liu          709    France  Female   36     7.0   \n",
       "9999         15682355  Sabbatini          772   Germany    Male   42     3.0   \n",
       "\n",
       "             Balance  NumOfProducts  HasCrCard  IsActiveMember  \\\n",
       "RowNumber                                                        \n",
       "1               0.00              1          1               1   \n",
       "2           83807.86              1          0               1   \n",
       "3          159660.80              3          1               0   \n",
       "4               0.00              2          0               0   \n",
       "5          125510.82              1          1               1   \n",
       "...              ...            ...        ...             ...   \n",
       "9995            0.00              2          0               0   \n",
       "9996            0.00              2          1               0   \n",
       "9997        57369.61              1          1               1   \n",
       "9998            0.00              1          0               1   \n",
       "9999        75075.31              2          1               0   \n",
       "\n",
       "           EstimatedSalary  Exited  \n",
       "RowNumber                           \n",
       "1                101348.88       1  \n",
       "2                112542.58       0  \n",
       "3                113931.57       1  \n",
       "4                 93826.63       0  \n",
       "5                 79084.10       0  \n",
       "...                    ...     ...  \n",
       "9995             167773.55       0  \n",
       "9996              96270.64       0  \n",
       "9997             101699.77       0  \n",
       "9998              42085.58       1  \n",
       "9999              92888.52       1  \n",
       "\n",
       "[9091 rows x 13 columns]"
      ]
     },
     "execution_count": 6,
     "metadata": {},
     "output_type": "execute_result"
    }
   ],
   "source": [
    "data[~data['Tenure'].isna()] "
   ]
  },
  {
   "cell_type": "code",
   "execution_count": 7,
   "metadata": {},
   "outputs": [
    {
     "data": {
      "text/plain": [
       "CustomerId           0\n",
       "Surname              0\n",
       "CreditScore          0\n",
       "Geography            0\n",
       "Gender               0\n",
       "Age                  0\n",
       "Tenure             909\n",
       "Balance              0\n",
       "NumOfProducts        0\n",
       "HasCrCard            0\n",
       "IsActiveMember       0\n",
       "EstimatedSalary      0\n",
       "Exited               0\n",
       "dtype: int64"
      ]
     },
     "execution_count": 7,
     "metadata": {},
     "output_type": "execute_result"
    }
   ],
   "source": [
    "#посмотрим на количество столбцов в инверсии\n",
    "data.isna().sum()"
   ]
  },
  {
   "cell_type": "code",
   "execution_count": 8,
   "metadata": {},
   "outputs": [
    {
     "name": "stdout",
     "output_type": "stream",
     "text": [
      "Количество полных дубликатов в дата-сете: 0\n",
      "Количество уникальных значений в столбце \"CustomerId\": 10000\n"
     ]
    }
   ],
   "source": [
    "print('Количество полных дубликатов в дата-сете:', data.duplicated().sum())\n",
    "print('Количество уникальных значений в столбце \"CustomerId\":', len(data['CustomerId'].unique()))"
   ]
  },
  {
   "cell_type": "markdown",
   "metadata": {},
   "source": [
    "Оценим данные на предмет нерелевантных значений."
   ]
  },
  {
   "cell_type": "code",
   "execution_count": 9,
   "metadata": {},
   "outputs": [
    {
     "data": {
      "text/plain": [
       "France     5014\n",
       "Germany    2509\n",
       "Spain      2477\n",
       "Name: Geography, dtype: int64"
      ]
     },
     "execution_count": 9,
     "metadata": {},
     "output_type": "execute_result"
    }
   ],
   "source": [
    "data['Geography'].value_counts()"
   ]
  },
  {
   "cell_type": "code",
   "execution_count": 10,
   "metadata": {},
   "outputs": [
    {
     "data": {
      "text/plain": [
       "Male      5457\n",
       "Female    4543\n",
       "Name: Gender, dtype: int64"
      ]
     },
     "execution_count": 10,
     "metadata": {},
     "output_type": "execute_result"
    }
   ],
   "source": [
    "data['Gender'].value_counts()"
   ]
  },
  {
   "cell_type": "code",
   "execution_count": 11,
   "metadata": {},
   "outputs": [
    {
     "data": {
      "text/html": [
       "<div>\n",
       "<style scoped>\n",
       "    .dataframe tbody tr th:only-of-type {\n",
       "        vertical-align: middle;\n",
       "    }\n",
       "\n",
       "    .dataframe tbody tr th {\n",
       "        vertical-align: top;\n",
       "    }\n",
       "\n",
       "    .dataframe thead th {\n",
       "        text-align: right;\n",
       "    }\n",
       "</style>\n",
       "<table border=\"1\" class=\"dataframe\">\n",
       "  <thead>\n",
       "    <tr style=\"text-align: right;\">\n",
       "      <th></th>\n",
       "      <th>CustomerId</th>\n",
       "      <th>CreditScore</th>\n",
       "      <th>Age</th>\n",
       "      <th>Tenure</th>\n",
       "      <th>Balance</th>\n",
       "      <th>NumOfProducts</th>\n",
       "      <th>HasCrCard</th>\n",
       "      <th>IsActiveMember</th>\n",
       "      <th>EstimatedSalary</th>\n",
       "      <th>Exited</th>\n",
       "    </tr>\n",
       "  </thead>\n",
       "  <tbody>\n",
       "    <tr>\n",
       "      <td>count</td>\n",
       "      <td>1.000000e+04</td>\n",
       "      <td>10000.000000</td>\n",
       "      <td>10000.000000</td>\n",
       "      <td>9091.000000</td>\n",
       "      <td>10000.000000</td>\n",
       "      <td>10000.000000</td>\n",
       "      <td>10000.00000</td>\n",
       "      <td>10000.000000</td>\n",
       "      <td>10000.000000</td>\n",
       "      <td>10000.000000</td>\n",
       "    </tr>\n",
       "    <tr>\n",
       "      <td>mean</td>\n",
       "      <td>1.569094e+07</td>\n",
       "      <td>650.528800</td>\n",
       "      <td>38.921800</td>\n",
       "      <td>4.997690</td>\n",
       "      <td>76485.889288</td>\n",
       "      <td>1.530200</td>\n",
       "      <td>0.70550</td>\n",
       "      <td>0.515100</td>\n",
       "      <td>100090.239881</td>\n",
       "      <td>0.203700</td>\n",
       "    </tr>\n",
       "    <tr>\n",
       "      <td>std</td>\n",
       "      <td>7.193619e+04</td>\n",
       "      <td>96.653299</td>\n",
       "      <td>10.487806</td>\n",
       "      <td>2.894723</td>\n",
       "      <td>62397.405202</td>\n",
       "      <td>0.581654</td>\n",
       "      <td>0.45584</td>\n",
       "      <td>0.499797</td>\n",
       "      <td>57510.492818</td>\n",
       "      <td>0.402769</td>\n",
       "    </tr>\n",
       "    <tr>\n",
       "      <td>min</td>\n",
       "      <td>1.556570e+07</td>\n",
       "      <td>350.000000</td>\n",
       "      <td>18.000000</td>\n",
       "      <td>0.000000</td>\n",
       "      <td>0.000000</td>\n",
       "      <td>1.000000</td>\n",
       "      <td>0.00000</td>\n",
       "      <td>0.000000</td>\n",
       "      <td>11.580000</td>\n",
       "      <td>0.000000</td>\n",
       "    </tr>\n",
       "    <tr>\n",
       "      <td>25%</td>\n",
       "      <td>1.562853e+07</td>\n",
       "      <td>584.000000</td>\n",
       "      <td>32.000000</td>\n",
       "      <td>2.000000</td>\n",
       "      <td>0.000000</td>\n",
       "      <td>1.000000</td>\n",
       "      <td>0.00000</td>\n",
       "      <td>0.000000</td>\n",
       "      <td>51002.110000</td>\n",
       "      <td>0.000000</td>\n",
       "    </tr>\n",
       "    <tr>\n",
       "      <td>50%</td>\n",
       "      <td>1.569074e+07</td>\n",
       "      <td>652.000000</td>\n",
       "      <td>37.000000</td>\n",
       "      <td>5.000000</td>\n",
       "      <td>97198.540000</td>\n",
       "      <td>1.000000</td>\n",
       "      <td>1.00000</td>\n",
       "      <td>1.000000</td>\n",
       "      <td>100193.915000</td>\n",
       "      <td>0.000000</td>\n",
       "    </tr>\n",
       "    <tr>\n",
       "      <td>75%</td>\n",
       "      <td>1.575323e+07</td>\n",
       "      <td>718.000000</td>\n",
       "      <td>44.000000</td>\n",
       "      <td>7.000000</td>\n",
       "      <td>127644.240000</td>\n",
       "      <td>2.000000</td>\n",
       "      <td>1.00000</td>\n",
       "      <td>1.000000</td>\n",
       "      <td>149388.247500</td>\n",
       "      <td>0.000000</td>\n",
       "    </tr>\n",
       "    <tr>\n",
       "      <td>max</td>\n",
       "      <td>1.581569e+07</td>\n",
       "      <td>850.000000</td>\n",
       "      <td>92.000000</td>\n",
       "      <td>10.000000</td>\n",
       "      <td>250898.090000</td>\n",
       "      <td>4.000000</td>\n",
       "      <td>1.00000</td>\n",
       "      <td>1.000000</td>\n",
       "      <td>199992.480000</td>\n",
       "      <td>1.000000</td>\n",
       "    </tr>\n",
       "  </tbody>\n",
       "</table>\n",
       "</div>"
      ],
      "text/plain": [
       "         CustomerId   CreditScore           Age       Tenure        Balance  \\\n",
       "count  1.000000e+04  10000.000000  10000.000000  9091.000000   10000.000000   \n",
       "mean   1.569094e+07    650.528800     38.921800     4.997690   76485.889288   \n",
       "std    7.193619e+04     96.653299     10.487806     2.894723   62397.405202   \n",
       "min    1.556570e+07    350.000000     18.000000     0.000000       0.000000   \n",
       "25%    1.562853e+07    584.000000     32.000000     2.000000       0.000000   \n",
       "50%    1.569074e+07    652.000000     37.000000     5.000000   97198.540000   \n",
       "75%    1.575323e+07    718.000000     44.000000     7.000000  127644.240000   \n",
       "max    1.581569e+07    850.000000     92.000000    10.000000  250898.090000   \n",
       "\n",
       "       NumOfProducts    HasCrCard  IsActiveMember  EstimatedSalary  \\\n",
       "count   10000.000000  10000.00000    10000.000000     10000.000000   \n",
       "mean        1.530200      0.70550        0.515100    100090.239881   \n",
       "std         0.581654      0.45584        0.499797     57510.492818   \n",
       "min         1.000000      0.00000        0.000000        11.580000   \n",
       "25%         1.000000      0.00000        0.000000     51002.110000   \n",
       "50%         1.000000      1.00000        1.000000    100193.915000   \n",
       "75%         2.000000      1.00000        1.000000    149388.247500   \n",
       "max         4.000000      1.00000        1.000000    199992.480000   \n",
       "\n",
       "             Exited  \n",
       "count  10000.000000  \n",
       "mean       0.203700  \n",
       "std        0.402769  \n",
       "min        0.000000  \n",
       "25%        0.000000  \n",
       "50%        0.000000  \n",
       "75%        0.000000  \n",
       "max        1.000000  "
      ]
     },
     "execution_count": 11,
     "metadata": {},
     "output_type": "execute_result"
    }
   ],
   "source": [
    "data.describe()"
   ]
  },
  {
   "cell_type": "markdown",
   "metadata": {},
   "source": [
    "Наблюдаем следующее:\n",
    "1. В таблице нет полностью дублированных строк\n",
    "2. Все идентификаторы пользователей в таблице уникальны\n",
    "3. Из 13 столбцов в таблице пропуски наблюдаются только в `Tenure` (количество лет, в течение которых данный человек являлся клиентом банка) - пропущено 909 значений. Вероятно, потребуется заполнение этого столбца - исходим из допущения о том, что продолжительность использования услуг банка имеет связь с его актуальным статусом\n",
    "4. В столбце `Tenure` потребуется преобразование данных из числа с плавающей точкой в целое число\n",
    "5. Вероятно, столбцы `Balance` и `EstimatedSalary` также будет иметь смысл преобразовать в целое число, так как количество копеек не представляется данными, формирующими дополнительную аналитическую ценность при решении поставленной задачи\n",
    "6. В остальном, явные аномалии в данных не наблюдаются"
   ]
  },
  {
   "cell_type": "markdown",
   "metadata": {},
   "source": [
    "### Предобработка данных"
   ]
  },
  {
   "cell_type": "markdown",
   "metadata": {},
   "source": [
    "Перед преобразованием типов заполним пропуски в данных. Нам необходимо выработать принцип, в соответствии с которым будет произведено заполнение пропусков в столбце. Предположительно, наибольшая связь должна наблюдаться между продолжительностью использования услуг банка и возрастом клиента (столбце `Age`). Однако также может иметь значение и страна, так как, например, данный банк мог быть запущен в разных странах с разным лагом. Воспользуем инструментарием для поиска линейной зависимости - матрицей корреляции. "
   ]
  },
  {
   "cell_type": "code",
   "execution_count": 12,
   "metadata": {},
   "outputs": [
    {
     "data": {
      "image/png": "[encoded data removed]",
      "text/plain": [
       "<Figure size 1152x576 with 2 Axes>"
      ]
     },
     "metadata": {
      "needs_background": "light"
     },
     "output_type": "display_data"
    }
   ],
   "source": [
    "plt.figure(figsize=[16,8])\n",
    "plt.title('Корреляция между признаками')\n",
    "dataplot = sns.heatmap(data[~data['Tenure'].isna()].corr(), cmap=\"YlGnBu\", annot=True)\n",
    "\n",
    "plt.show()"
   ]
  },
  {
   "cell_type": "markdown",
   "metadata": {},
   "source": [
    "Мы наблюдаем отсутствие значимых линейных зависимостей между признаками в принципе. Гипотеза о зависимости возраста и продолжительности использования клиентом услуг банка не подтверждается, поэтому можем положиться на заполнения недостающих значений медианными значениями. Для снижения количества однообразных значений, возьмем медиану для групп по возрасту и стране использования. "
   ]
  },
  {
   "cell_type": "code",
   "execution_count": 13,
   "metadata": {},
   "outputs": [
    {
     "data": {
      "text/html": [
       "<div>\n",
       "<style scoped>\n",
       "    .dataframe tbody tr th:only-of-type {\n",
       "        vertical-align: middle;\n",
       "    }\n",
       "\n",
       "    .dataframe tbody tr th {\n",
       "        vertical-align: top;\n",
       "    }\n",
       "\n",
       "    .dataframe thead th {\n",
       "        text-align: right;\n",
       "    }\n",
       "</style>\n",
       "<table border=\"1\" class=\"dataframe\">\n",
       "  <thead>\n",
       "    <tr style=\"text-align: right;\">\n",
       "      <th></th>\n",
       "      <th>Geography</th>\n",
       "      <th>Age</th>\n",
       "      <th>Tenure</th>\n",
       "    </tr>\n",
       "  </thead>\n",
       "  <tbody>\n",
       "    <tr>\n",
       "      <td>0</td>\n",
       "      <td>France</td>\n",
       "      <td>18</td>\n",
       "      <td>6.0</td>\n",
       "    </tr>\n",
       "    <tr>\n",
       "      <td>1</td>\n",
       "      <td>France</td>\n",
       "      <td>19</td>\n",
       "      <td>5.0</td>\n",
       "    </tr>\n",
       "    <tr>\n",
       "      <td>2</td>\n",
       "      <td>France</td>\n",
       "      <td>20</td>\n",
       "      <td>4.0</td>\n",
       "    </tr>\n",
       "    <tr>\n",
       "      <td>3</td>\n",
       "      <td>France</td>\n",
       "      <td>21</td>\n",
       "      <td>4.0</td>\n",
       "    </tr>\n",
       "    <tr>\n",
       "      <td>4</td>\n",
       "      <td>France</td>\n",
       "      <td>22</td>\n",
       "      <td>5.0</td>\n",
       "    </tr>\n",
       "    <tr>\n",
       "      <td>...</td>\n",
       "      <td>...</td>\n",
       "      <td>...</td>\n",
       "      <td>...</td>\n",
       "    </tr>\n",
       "    <tr>\n",
       "      <td>191</td>\n",
       "      <td>Spain</td>\n",
       "      <td>77</td>\n",
       "      <td>5.0</td>\n",
       "    </tr>\n",
       "    <tr>\n",
       "      <td>192</td>\n",
       "      <td>Spain</td>\n",
       "      <td>78</td>\n",
       "      <td>2.0</td>\n",
       "    </tr>\n",
       "    <tr>\n",
       "      <td>193</td>\n",
       "      <td>Spain</td>\n",
       "      <td>79</td>\n",
       "      <td>5.0</td>\n",
       "    </tr>\n",
       "    <tr>\n",
       "      <td>194</td>\n",
       "      <td>Spain</td>\n",
       "      <td>80</td>\n",
       "      <td>8.0</td>\n",
       "    </tr>\n",
       "    <tr>\n",
       "      <td>195</td>\n",
       "      <td>Spain</td>\n",
       "      <td>88</td>\n",
       "      <td>10.0</td>\n",
       "    </tr>\n",
       "  </tbody>\n",
       "</table>\n",
       "<p>196 rows × 3 columns</p>\n",
       "</div>"
      ],
      "text/plain": [
       "    Geography  Age  Tenure\n",
       "0      France   18     6.0\n",
       "1      France   19     5.0\n",
       "2      France   20     4.0\n",
       "3      France   21     4.0\n",
       "4      France   22     5.0\n",
       "..        ...  ...     ...\n",
       "191     Spain   77     5.0\n",
       "192     Spain   78     2.0\n",
       "193     Spain   79     5.0\n",
       "194     Spain   80     8.0\n",
       "195     Spain   88    10.0\n",
       "\n",
       "[196 rows x 3 columns]"
      ]
     },
     "execution_count": 13,
     "metadata": {},
     "output_type": "execute_result"
    }
   ],
   "source": [
    "#соберем датафрейм с референтными значениями\n",
    "median_tenure = data[~data['Tenure'].isna()].groupby(['Geography', 'Age'], as_index=False).agg({'Tenure': 'median'})\n",
    "median_tenure"
   ]
  },
  {
   "cell_type": "code",
   "execution_count": 14,
   "metadata": {},
   "outputs": [],
   "source": [
    "#формируем новый столбец с референтными значениями, полученными на первом шаге\n",
    "\n",
    "data = data.merge(\n",
    "    median_tenure,\n",
    "    on=['Geography', 'Age'],\n",
    "    how='left')\n",
    "\n",
    "#при помощи логической индексации записываем референтные значения только для тех объектов, у которых ранее были пропуски\n",
    "data.loc[data['Tenure_x'].isna(), 'Tenure_x'] = data['Tenure_y']\n",
    "\n",
    "#выбрасываем столбец с референтными значениями, так как он нам более не требуется и обратно меняем наименование исходного столбца\n",
    "data = data.drop('Tenure_y', axis=1)\n",
    "data = data.rename(columns={'Tenure_x': 'Tenure'})"
   ]
  },
  {
   "cell_type": "code",
   "execution_count": 15,
   "metadata": {},
   "outputs": [
    {
     "name": "stdout",
     "output_type": "stream",
     "text": [
      "Количество пропусков в столбце \"Tenure\": 0\n"
     ]
    }
   ],
   "source": [
    "print('Количество пропусков в столбце \"Tenure\":', data['Tenure'].isna().sum())"
   ]
  },
  {
   "cell_type": "markdown",
   "metadata": {},
   "source": [
    "Больше пропусков в столбце `Tenure` не наблюдается. Перейдем к преобразованию типов. "
   ]
  },
  {
   "cell_type": "code",
   "execution_count": 16,
   "metadata": {},
   "outputs": [],
   "source": [
    "data['Tenure'] = data['Tenure'].astype('int') \n",
    "data['Balance'] = data['Balance'].astype('int') \n",
    "data['EstimatedSalary'] = data['EstimatedSalary'].astype('int') "
   ]
  },
  {
   "cell_type": "code",
   "execution_count": 17,
   "metadata": {},
   "outputs": [
    {
     "name": "stdout",
     "output_type": "stream",
     "text": [
      "<class 'pandas.core.frame.DataFrame'>\n",
      "Int64Index: 10000 entries, 0 to 9999\n",
      "Data columns (total 13 columns):\n",
      "CustomerId         10000 non-null int64\n",
      "Surname            10000 non-null object\n",
      "CreditScore        10000 non-null int64\n",
      "Geography          10000 non-null object\n",
      "Gender             10000 non-null object\n",
      "Age                10000 non-null int64\n",
      "Tenure             10000 non-null int64\n",
      "Balance            10000 non-null int64\n",
      "NumOfProducts      10000 non-null int64\n",
      "HasCrCard          10000 non-null int64\n",
      "IsActiveMember     10000 non-null int64\n",
      "EstimatedSalary    10000 non-null int64\n",
      "Exited             10000 non-null int64\n",
      "dtypes: int64(10), object(3)\n",
      "memory usage: 1.1+ MB\n"
     ]
    }
   ],
   "source": [
    "data.info()"
   ]
  },
  {
   "cell_type": "markdown",
   "metadata": {},
   "source": [
    "1. Пропуски в столбце `Tenure` заполнены референтными значениями\n",
    "2. Преобразованы типы данных в столбцах `Tenure`, `Balance`, `EstimatedSalary`"
   ]
  },
  {
   "cell_type": "markdown",
   "metadata": {},
   "source": [
    "### Подготовка данных для обучения"
   ]
  },
  {
   "cell_type": "markdown",
   "metadata": {},
   "source": [
    "Целевым признаком в настоящей задаче является содержимое столбца `Exited`. Этот столбец содержит только нули и единицы, что с учетом постановки исходной задачи говорит нам о необходимости решения задачи бинарной классификации. \n",
    "\n",
    "Перед переходом к решению задачи проведем следующие процедуры:\n",
    "\n",
    ". Деление датафрейма на признаки и целевой признак\n",
    ". Деление двух полученных датафреймов на обучающую, валидационную и тестовую выборки\n",
    ". Кодирование переменных\n",
    ". Масштабирование признаков "
   ]
  },
  {
   "cell_type": "code",
   "execution_count": 18,
   "metadata": {},
   "outputs": [],
   "source": [
    "#формируем датафреймы с признаками и целевым признаком\n",
    "features = data.drop(['CustomerId', 'Surname', 'Exited'], axis=1)\n",
    "target = data['Exited']"
   ]
  },
  {
   "cell_type": "markdown",
   "metadata": {},
   "source": [
    "Помимо целевого признака из датафрейма стоит удалить столбцы `CustomerId` и `Surname`, так как они содержат персонализированную информацию, которая нам не требуется при анализе признаков обезличенных сущностей (клиенты) - маловероятно, что ID пользователя или его фамилия как-то связаны с вероятностью ухода пользователя из банка (разве что в банке есть дискриминация по фамилии)."
   ]
  },
  {
   "cell_type": "code",
   "execution_count": 19,
   "metadata": {},
   "outputs": [],
   "source": [
    "#разобъем исходные данные на три выборки при помощи функции\n",
    "def three_samples_split(features, target, train_sample_size=0.60, validation_sample_size=0.20):\n",
    "    from sklearn.model_selection import train_test_split\n",
    "    initial_data_lenght = len(target)\n",
    "    train_features, df_features, train_target, df_target = train_test_split(\n",
    "        features,\n",
    "        target,\n",
    "        train_size=train_sample_size,\n",
    "        random_state=12345\n",
    "    )\n",
    "    current_validation_sample_size = (initial_data_lenght * validation_sample_size) / len(df_target)\n",
    "    validation_features, test_features, validation_target, test_target = train_test_split(\n",
    "        df_features,\n",
    "        df_target,\n",
    "        train_size=current_validation_sample_size,\n",
    "        random_state=12345\n",
    "    )\n",
    "    return train_features, train_target, validation_features, validation_target, test_features, test_target"
   ]
  },
  {
   "cell_type": "code",
   "execution_count": 20,
   "metadata": {},
   "outputs": [],
   "source": [
    "train_features, train_target, validation_features, validation_target, test_features, test_target = three_samples_split(features, target)"
   ]
  },
  {
   "cell_type": "code",
   "execution_count": 21,
   "metadata": {},
   "outputs": [
    {
     "name": "stdout",
     "output_type": "stream",
     "text": [
      "(6000, 10)\n",
      "(2000, 10)\n",
      "(2000, 10)\n"
     ]
    }
   ],
   "source": [
    "print(train_features.shape)\n",
    "print(validation_features.shape)\n",
    "print(test_features.shape)"
   ]
  },
  {
   "cell_type": "markdown",
   "metadata": {},
   "source": [
    "Для обучения модели нам потребуется выполнить кодирование переменных. Так как мы исключили фамилию и идентификатор клиента из сета, из категориальных переменных у нас осталась только страна проживания и пол. Для кодирования таких переменной в наилучшей степени подойдет прямое кодирование, так как значения не являются ранговыми (мы не можем расположить одно над другим в каком-то порядке). "
   ]
  },
  {
   "cell_type": "code",
   "execution_count": 22,
   "metadata": {},
   "outputs": [],
   "source": [
    "train_features = pd.get_dummies(train_features, drop_first=True)\n",
    "validation_features = pd.get_dummies(validation_features, drop_first=True)\n",
    "test_features = pd.get_dummies(test_features, drop_first=True)"
   ]
  },
  {
   "cell_type": "code",
   "execution_count": 23,
   "metadata": {},
   "outputs": [
    {
     "data": {
      "text/html": [
       "<div>\n",
       "<style scoped>\n",
       "    .dataframe tbody tr th:only-of-type {\n",
       "        vertical-align: middle;\n",
       "    }\n",
       "\n",
       "    .dataframe tbody tr th {\n",
       "        vertical-align: top;\n",
       "    }\n",
       "\n",
       "    .dataframe thead th {\n",
       "        text-align: right;\n",
       "    }\n",
       "</style>\n",
       "<table border=\"1\" class=\"dataframe\">\n",
       "  <thead>\n",
       "    <tr style=\"text-align: right;\">\n",
       "      <th></th>\n",
       "      <th>CreditScore</th>\n",
       "      <th>Age</th>\n",
       "      <th>Tenure</th>\n",
       "      <th>Balance</th>\n",
       "      <th>NumOfProducts</th>\n",
       "      <th>HasCrCard</th>\n",
       "      <th>IsActiveMember</th>\n",
       "      <th>EstimatedSalary</th>\n",
       "      <th>Geography_Germany</th>\n",
       "      <th>Geography_Spain</th>\n",
       "      <th>Gender_Male</th>\n",
       "    </tr>\n",
       "  </thead>\n",
       "  <tbody>\n",
       "    <tr>\n",
       "      <td>7479</td>\n",
       "      <td>567</td>\n",
       "      <td>35</td>\n",
       "      <td>8</td>\n",
       "      <td>153137</td>\n",
       "      <td>1</td>\n",
       "      <td>1</td>\n",
       "      <td>0</td>\n",
       "      <td>88659</td>\n",
       "      <td>0</td>\n",
       "      <td>1</td>\n",
       "      <td>1</td>\n",
       "    </tr>\n",
       "    <tr>\n",
       "      <td>3411</td>\n",
       "      <td>711</td>\n",
       "      <td>37</td>\n",
       "      <td>8</td>\n",
       "      <td>113899</td>\n",
       "      <td>1</td>\n",
       "      <td>0</td>\n",
       "      <td>0</td>\n",
       "      <td>80215</td>\n",
       "      <td>0</td>\n",
       "      <td>0</td>\n",
       "      <td>0</td>\n",
       "    </tr>\n",
       "    <tr>\n",
       "      <td>6027</td>\n",
       "      <td>850</td>\n",
       "      <td>44</td>\n",
       "      <td>3</td>\n",
       "      <td>140393</td>\n",
       "      <td>2</td>\n",
       "      <td>0</td>\n",
       "      <td>1</td>\n",
       "      <td>186285</td>\n",
       "      <td>1</td>\n",
       "      <td>0</td>\n",
       "      <td>1</td>\n",
       "    </tr>\n",
       "    <tr>\n",
       "      <td>1247</td>\n",
       "      <td>512</td>\n",
       "      <td>24</td>\n",
       "      <td>6</td>\n",
       "      <td>0</td>\n",
       "      <td>2</td>\n",
       "      <td>1</td>\n",
       "      <td>0</td>\n",
       "      <td>37654</td>\n",
       "      <td>0</td>\n",
       "      <td>0</td>\n",
       "      <td>1</td>\n",
       "    </tr>\n",
       "    <tr>\n",
       "      <td>3716</td>\n",
       "      <td>665</td>\n",
       "      <td>27</td>\n",
       "      <td>2</td>\n",
       "      <td>147435</td>\n",
       "      <td>1</td>\n",
       "      <td>0</td>\n",
       "      <td>0</td>\n",
       "      <td>187508</td>\n",
       "      <td>1</td>\n",
       "      <td>0</td>\n",
       "      <td>0</td>\n",
       "    </tr>\n",
       "  </tbody>\n",
       "</table>\n",
       "</div>"
      ],
      "text/plain": [
       "      CreditScore  Age  Tenure  Balance  NumOfProducts  HasCrCard  \\\n",
       "7479          567   35       8   153137              1          1   \n",
       "3411          711   37       8   113899              1          0   \n",
       "6027          850   44       3   140393              2          0   \n",
       "1247          512   24       6        0              2          1   \n",
       "3716          665   27       2   147435              1          0   \n",
       "\n",
       "      IsActiveMember  EstimatedSalary  Geography_Germany  Geography_Spain  \\\n",
       "7479               0            88659                  0                1   \n",
       "3411               0            80215                  0                0   \n",
       "6027               1           186285                  1                0   \n",
       "1247               0            37654                  0                0   \n",
       "3716               0           187508                  1                0   \n",
       "\n",
       "      Gender_Male  \n",
       "7479            1  \n",
       "3411            0  \n",
       "6027            1  \n",
       "1247            1  \n",
       "3716            0  "
      ]
     },
     "execution_count": 23,
     "metadata": {},
     "output_type": "execute_result"
    }
   ],
   "source": [
    "train_features.head()"
   ]
  },
  {
   "cell_type": "markdown",
   "metadata": {},
   "source": [
    "Выполним масштабирование признаков."
   ]
  },
  {
   "cell_type": "code",
   "execution_count": 24,
   "metadata": {},
   "outputs": [],
   "source": [
    "#положим в переменную список наименование столбцов в которых у нас лежат количественные переменные\n",
    "numeric = ['CreditScore', 'Age', 'Tenure', 'Balance', 'EstimatedSalary']"
   ]
  },
  {
   "cell_type": "code",
   "execution_count": 25,
   "metadata": {},
   "outputs": [],
   "source": [
    "#положим в переменную объект Scaler\n",
    "scaler = StandardScaler()\n",
    "\n",
    "#выполним обучение скейлера и преобразование количественных переменных на выборках\n",
    "train_features[numeric] = scaler.fit_transform(train_features[numeric])\n",
    "validation_features[numeric] = scaler.transform(validation_features[numeric])\n",
    "test_features[numeric] = scaler.transform(test_features[numeric])"
   ]
  },
  {
   "cell_type": "markdown",
   "metadata": {},
   "source": [
    "## Исследование задачи"
   ]
  },
  {
   "cell_type": "markdown",
   "metadata": {},
   "source": [
    "### Логистическая регрессия"
   ]
  },
  {
   "cell_type": "markdown",
   "metadata": {},
   "source": [
    "Мы располагаем очищенными данными, которые мы разделили на три выборки, выполнили кодирование переменных и масштабирование количественных признаков. Далее мы можем выполнить обучение моделей с использованием нескольких алгоритмов для выбора наилучшего по целевой метрике. "
   ]
  },
  {
   "cell_type": "code",
   "execution_count": 26,
   "metadata": {},
   "outputs": [],
   "source": [
    "model = LogisticRegression(random_state=12345, solver='lbfgs')\n",
    "model = model.fit(train_features, train_target)\n",
    "result_validation = model.score(validation_features, validation_target)\n",
    "result_test = model.score(test_features, test_target)"
   ]
  },
  {
   "cell_type": "code",
   "execution_count": 27,
   "metadata": {},
   "outputs": [],
   "source": [
    "predictions = model.predict(validation_features)"
   ]
  },
  {
   "cell_type": "code",
   "execution_count": 28,
   "metadata": {},
   "outputs": [
    {
     "name": "stdout",
     "output_type": "stream",
     "text": [
      "Полнота: 23.4%\n",
      "Точность: 56.6%\n",
      "F1-мера: 33.2%\n"
     ]
    }
   ],
   "source": [
    "precision = precision_score(validation_target, predictions)\n",
    "recall = recall_score(validation_target, predictions)\n",
    "f1 = f1_score(validation_target, predictions)\n",
    "\n",
    "print(f'Полнота: {recall:.1%}')\n",
    "print(f'Точность: {precision:.1%}')\n",
    "print(f'F1-мера: {f1:.1%}')"
   ]
  },
  {
   "cell_type": "markdown",
   "metadata": {},
   "source": [
    "Логистическая регрессия не дает приемлемых результатов. Судя по метрике Recall, модель слишком часто относит объект положительного класса к негативным объектам. "
   ]
  },
  {
   "cell_type": "markdown",
   "metadata": {},
   "source": [
    "### Дерево решений"
   ]
  },
  {
   "cell_type": "markdown",
   "metadata": {},
   "source": [
    "В качестве следующего алгоритма воспользуемся деревом решений. При помощи перебора гиперпараметров попробуем выбрать наилучшую их конфигурация для этого алгоритма с целью получить наивысшее значение меры F1 до балансировки классов или управления попрогом. "
   ]
  },
  {
   "cell_type": "code",
   "execution_count": 29,
   "metadata": {},
   "outputs": [
    {
     "data": {
      "text/html": [
       "<div>\n",
       "<style scoped>\n",
       "    .dataframe tbody tr th:only-of-type {\n",
       "        vertical-align: middle;\n",
       "    }\n",
       "\n",
       "    .dataframe tbody tr th {\n",
       "        vertical-align: top;\n",
       "    }\n",
       "\n",
       "    .dataframe thead th {\n",
       "        text-align: right;\n",
       "    }\n",
       "</style>\n",
       "<table border=\"1\" class=\"dataframe\">\n",
       "  <thead>\n",
       "    <tr style=\"text-align: right;\">\n",
       "      <th></th>\n",
       "      <th>param_criterion</th>\n",
       "      <th>param_max_depth</th>\n",
       "      <th>mean_test_score</th>\n",
       "      <th>mean_fit_time</th>\n",
       "    </tr>\n",
       "  </thead>\n",
       "  <tbody>\n",
       "    <tr>\n",
       "      <td>0</td>\n",
       "      <td>gini</td>\n",
       "      <td>11</td>\n",
       "      <td>0.538034</td>\n",
       "      <td>0.017797</td>\n",
       "    </tr>\n",
       "    <tr>\n",
       "      <td>10</td>\n",
       "      <td>entropy</td>\n",
       "      <td>11</td>\n",
       "      <td>0.535185</td>\n",
       "      <td>0.021243</td>\n",
       "    </tr>\n",
       "    <tr>\n",
       "      <td>11</td>\n",
       "      <td>entropy</td>\n",
       "      <td>12</td>\n",
       "      <td>0.533336</td>\n",
       "      <td>0.022054</td>\n",
       "    </tr>\n",
       "    <tr>\n",
       "      <td>12</td>\n",
       "      <td>entropy</td>\n",
       "      <td>13</td>\n",
       "      <td>0.529184</td>\n",
       "      <td>0.022146</td>\n",
       "    </tr>\n",
       "    <tr>\n",
       "      <td>13</td>\n",
       "      <td>entropy</td>\n",
       "      <td>14</td>\n",
       "      <td>0.525602</td>\n",
       "      <td>0.022984</td>\n",
       "    </tr>\n",
       "    <tr>\n",
       "      <td>1</td>\n",
       "      <td>gini</td>\n",
       "      <td>12</td>\n",
       "      <td>0.525336</td>\n",
       "      <td>0.017884</td>\n",
       "    </tr>\n",
       "    <tr>\n",
       "      <td>14</td>\n",
       "      <td>entropy</td>\n",
       "      <td>15</td>\n",
       "      <td>0.521749</td>\n",
       "      <td>0.023329</td>\n",
       "    </tr>\n",
       "    <tr>\n",
       "      <td>2</td>\n",
       "      <td>gini</td>\n",
       "      <td>13</td>\n",
       "      <td>0.521729</td>\n",
       "      <td>0.018982</td>\n",
       "    </tr>\n",
       "    <tr>\n",
       "      <td>15</td>\n",
       "      <td>entropy</td>\n",
       "      <td>16</td>\n",
       "      <td>0.521546</td>\n",
       "      <td>0.023910</td>\n",
       "    </tr>\n",
       "    <tr>\n",
       "      <td>4</td>\n",
       "      <td>gini</td>\n",
       "      <td>15</td>\n",
       "      <td>0.518054</td>\n",
       "      <td>0.019937</td>\n",
       "    </tr>\n",
       "  </tbody>\n",
       "</table>\n",
       "</div>"
      ],
      "text/plain": [
       "   param_criterion param_max_depth  mean_test_score  mean_fit_time\n",
       "0             gini              11         0.538034       0.017797\n",
       "10         entropy              11         0.535185       0.021243\n",
       "11         entropy              12         0.533336       0.022054\n",
       "12         entropy              13         0.529184       0.022146\n",
       "13         entropy              14         0.525602       0.022984\n",
       "1             gini              12         0.525336       0.017884\n",
       "14         entropy              15         0.521749       0.023329\n",
       "2             gini              13         0.521729       0.018982\n",
       "15         entropy              16         0.521546       0.023910\n",
       "4             gini              15         0.518054       0.019937"
      ]
     },
     "execution_count": 29,
     "metadata": {},
     "output_type": "execute_result"
    }
   ],
   "source": [
    "model = DecisionTreeClassifier(random_state=12345)\n",
    "\n",
    "#при помощи кросс-валидации переберем параметры дерева решений\n",
    "gscv = GridSearchCV(\n",
    "    model,\n",
    "    {\n",
    "        'max_depth': [x for x in range(train_features.shape[1], 21)],\n",
    "        'criterion': ['gini', 'entropy']\n",
    "    },\n",
    "    cv=5,\n",
    "    return_train_score=False,\n",
    "    scoring = 'f1'\n",
    ")\n",
    "\n",
    "gscv.fit(train_features, train_target)\n",
    "report = pd.DataFrame(gscv.cv_results_)\n",
    "report = report[['param_criterion', 'param_max_depth', 'mean_test_score', 'mean_fit_time']]\n",
    "report.sort_values(by='mean_test_score', ascending=False).head(10)"
   ]
  },
  {
   "cell_type": "code",
   "execution_count": 30,
   "metadata": {},
   "outputs": [],
   "source": [
    "#обучим дерево решений с наилучшими гиперпараметрами и сформируем предсказания на валидационной выборке\n",
    "model = DecisionTreeClassifier(max_depth=11, random_state=12345)\n",
    "model = model.fit(train_features, train_target)\n",
    "\n",
    "predictions = model.predict(validation_features)"
   ]
  },
  {
   "cell_type": "code",
   "execution_count": 31,
   "metadata": {},
   "outputs": [
    {
     "name": "stdout",
     "output_type": "stream",
     "text": [
      "Полнота: 47.6%\n",
      "Точность: 58.4%\n",
      "F1-мера: 52.4%\n"
     ]
    }
   ],
   "source": [
    "precision = precision_score(validation_target, predictions)\n",
    "recall = recall_score(validation_target, predictions)\n",
    "f1 = f1_score(validation_target, predictions)\n",
    "\n",
    "print(f'Полнота: {recall:.1%}')\n",
    "print(f'Точность: {precision:.1%}')\n",
    "print(f'F1-мера: {f1:.1%}')"
   ]
  },
  {
   "cell_type": "markdown",
   "metadata": {},
   "source": [
    "Мы видим, что на кросс-валидации параметры показали чуть лучший результат (в пределах погрешности - 1.4 процентных пункта). Однако мы наблюдаем значительный рост качества модели (с 33% до 52.4%) в первую очередь за счет снижения количества ошибок первого рода (рост метрики recall). Тем не менее, эта модель не дает нам небходимого качества (59%), что вынуждает нас продолжить исследование.  "
   ]
  },
  {
   "cell_type": "markdown",
   "metadata": {},
   "source": [
    "### Случайный лес"
   ]
  },
  {
   "cell_type": "code",
   "execution_count": 32,
   "metadata": {},
   "outputs": [
    {
     "data": {
      "text/html": [
       "<div>\n",
       "<style scoped>\n",
       "    .dataframe tbody tr th:only-of-type {\n",
       "        vertical-align: middle;\n",
       "    }\n",
       "\n",
       "    .dataframe tbody tr th {\n",
       "        vertical-align: top;\n",
       "    }\n",
       "\n",
       "    .dataframe thead th {\n",
       "        text-align: right;\n",
       "    }\n",
       "</style>\n",
       "<table border=\"1\" class=\"dataframe\">\n",
       "  <thead>\n",
       "    <tr style=\"text-align: right;\">\n",
       "      <th></th>\n",
       "      <th>param_n_estimators</th>\n",
       "      <th>param_max_depth</th>\n",
       "      <th>mean_test_score</th>\n",
       "      <th>mean_fit_time</th>\n",
       "    </tr>\n",
       "  </thead>\n",
       "  <tbody>\n",
       "    <tr>\n",
       "      <td>36</td>\n",
       "      <td>80</td>\n",
       "      <td>17</td>\n",
       "      <td>0.579202</td>\n",
       "      <td>0.411915</td>\n",
       "    </tr>\n",
       "    <tr>\n",
       "      <td>37</td>\n",
       "      <td>90</td>\n",
       "      <td>17</td>\n",
       "      <td>0.579094</td>\n",
       "      <td>0.455972</td>\n",
       "    </tr>\n",
       "    <tr>\n",
       "      <td>39</td>\n",
       "      <td>110</td>\n",
       "      <td>17</td>\n",
       "      <td>0.578605</td>\n",
       "      <td>0.506133</td>\n",
       "    </tr>\n",
       "    <tr>\n",
       "      <td>40</td>\n",
       "      <td>120</td>\n",
       "      <td>17</td>\n",
       "      <td>0.577975</td>\n",
       "      <td>0.582134</td>\n",
       "    </tr>\n",
       "    <tr>\n",
       "      <td>41</td>\n",
       "      <td>130</td>\n",
       "      <td>17</td>\n",
       "      <td>0.576620</td>\n",
       "      <td>0.624702</td>\n",
       "    </tr>\n",
       "    <tr>\n",
       "      <td>38</td>\n",
       "      <td>100</td>\n",
       "      <td>17</td>\n",
       "      <td>0.576075</td>\n",
       "      <td>0.502191</td>\n",
       "    </tr>\n",
       "    <tr>\n",
       "      <td>35</td>\n",
       "      <td>70</td>\n",
       "      <td>17</td>\n",
       "      <td>0.575716</td>\n",
       "      <td>0.343139</td>\n",
       "    </tr>\n",
       "    <tr>\n",
       "      <td>64</td>\n",
       "      <td>140</td>\n",
       "      <td>21</td>\n",
       "      <td>0.574674</td>\n",
       "      <td>0.663318</td>\n",
       "    </tr>\n",
       "    <tr>\n",
       "      <td>65</td>\n",
       "      <td>150</td>\n",
       "      <td>21</td>\n",
       "      <td>0.574507</td>\n",
       "      <td>0.718507</td>\n",
       "    </tr>\n",
       "    <tr>\n",
       "      <td>42</td>\n",
       "      <td>140</td>\n",
       "      <td>17</td>\n",
       "      <td>0.574253</td>\n",
       "      <td>0.671828</td>\n",
       "    </tr>\n",
       "  </tbody>\n",
       "</table>\n",
       "</div>"
      ],
      "text/plain": [
       "   param_n_estimators param_max_depth  mean_test_score  mean_fit_time\n",
       "36                 80              17         0.579202       0.411915\n",
       "37                 90              17         0.579094       0.455972\n",
       "39                110              17         0.578605       0.506133\n",
       "40                120              17         0.577975       0.582134\n",
       "41                130              17         0.576620       0.624702\n",
       "38                100              17         0.576075       0.502191\n",
       "35                 70              17         0.575716       0.343139\n",
       "64                140              21         0.574674       0.663318\n",
       "65                150              21         0.574507       0.718507\n",
       "42                140              17         0.574253       0.671828"
      ]
     },
     "execution_count": 32,
     "metadata": {},
     "output_type": "execute_result"
    }
   ],
   "source": [
    "model = RandomForestClassifier(random_state=12345)\n",
    "\n",
    "#при помощи кросс-валидации переберем параметры дерева решений\n",
    "gscv = GridSearchCV(\n",
    "    model,\n",
    "    {\n",
    "        'max_depth': [x for x in range(train_features.shape[1], train_features.shape[1]*2, 2)],\n",
    "        'n_estimators': [x for x in range(50, 160, 10)]\n",
    "    },\n",
    "    cv=5,\n",
    "    return_train_score=False,\n",
    "    scoring = 'f1'\n",
    ")\n",
    "\n",
    "gscv.fit(train_features, train_target)\n",
    "report = pd.DataFrame(gscv.cv_results_)\n",
    "report = report[['param_n_estimators', 'param_max_depth', 'mean_test_score', 'mean_fit_time']]\n",
    "report.sort_values(by='mean_test_score', ascending=False).head(10)"
   ]
  },
  {
   "cell_type": "markdown",
   "metadata": {},
   "source": [
    "Наблюдаем схожее значение метрики F1 для всех комбинаций гиперпараметров в топе отчета."
   ]
  },
  {
   "cell_type": "code",
   "execution_count": 33,
   "metadata": {},
   "outputs": [],
   "source": [
    "#обучим дерево решений с наилучшими гиперпараметрами и сформируем предсказания на валидационной выборке\n",
    "model = RandomForestClassifier(max_depth=17, n_estimators=80, random_state=12345)\n",
    "model = model.fit(train_features, train_target)\n",
    "\n",
    "predictions = model.predict(validation_features)"
   ]
  },
  {
   "cell_type": "code",
   "execution_count": 34,
   "metadata": {},
   "outputs": [
    {
     "name": "stdout",
     "output_type": "stream",
     "text": [
      "Полнота: 45.9%\n",
      "Точность: 76.2%\n",
      "F1-мера: 57.3%\n"
     ]
    }
   ],
   "source": [
    "precision = precision_score(validation_target, predictions)\n",
    "recall = recall_score(validation_target, predictions)\n",
    "f1 = f1_score(validation_target, predictions)\n",
    "\n",
    "print(f'Полнота: {recall:.1%}')\n",
    "print(f'Точность: {precision:.1%}')\n",
    "print(f'F1-мера: {f1:.1%}')"
   ]
  },
  {
   "cell_type": "markdown",
   "metadata": {},
   "source": [
    "Наблюдаем рост метрики F1 примерно на 5 процентных пунктов - в большей степени это произошло за счет метрики precision, то есть снижения количества объектов негативного класса, классифицированных как объекты положительного класса (ошибки второго рода). "
   ]
  },
  {
   "cell_type": "markdown",
   "metadata": {},
   "source": [
    "## Борьба с дисбалансом"
   ]
  },
  {
   "cell_type": "markdown",
   "metadata": {},
   "source": [
    "Попробуем отбалансировать классы внутри обучающей выборки. Для этого воспользуемся двумя способами:\n",
    "\n",
    "1. Обогащение тренировочной выборки объектами положительного класса - апсемплинг\n",
    "2. Управление порогом классификации"
   ]
  },
  {
   "cell_type": "code",
   "execution_count": 35,
   "metadata": {},
   "outputs": [
    {
     "data": {
      "text/plain": [
       "0    0.800667\n",
       "1    0.199333\n",
       "Name: Exited, dtype: float64"
      ]
     },
     "execution_count": 35,
     "metadata": {},
     "output_type": "execute_result"
    }
   ],
   "source": [
    "#оценим баланс классов в обучающей выборке\n",
    "train_target.value_counts(normalize=True)"
   ]
  },
  {
   "cell_type": "markdown",
   "metadata": {},
   "source": [
    "### Апсемплинг"
   ]
  },
  {
   "cell_type": "code",
   "execution_count": 36,
   "metadata": {},
   "outputs": [],
   "source": [
    "def upsample(features, target, repeat):\n",
    "    features_zeros = features[target == 0]\n",
    "    features_ones = features[target == 1]\n",
    "    target_zeros = target[target == 0]\n",
    "    target_ones = target[target == 1]\n",
    "\n",
    "    features_upsampled = pd.concat([features_zeros] + [features_ones] * repeat)\n",
    "    target_upsampled = pd.concat([target_zeros] + [target_ones] * repeat)\n",
    "    \n",
    "    features_upsampled, target_upsampled = shuffle(features_upsampled, target_upsampled, random_state=12345)\n",
    "    \n",
    "    return features_upsampled, target_upsampled"
   ]
  },
  {
   "cell_type": "code",
   "execution_count": 37,
   "metadata": {},
   "outputs": [],
   "source": [
    "features_upsampled, target_upsampled = upsample(train_features, train_target, 4)"
   ]
  },
  {
   "cell_type": "code",
   "execution_count": 38,
   "metadata": {},
   "outputs": [
    {
     "data": {
      "text/plain": [
       "0    0.501043\n",
       "1    0.498957\n",
       "Name: Exited, dtype: float64"
      ]
     },
     "execution_count": 38,
     "metadata": {},
     "output_type": "execute_result"
    }
   ],
   "source": [
    "#посмотрим, как теперь выглядит баланс классов в обогащенной выборке\n",
    "target_upsampled.value_counts(normalize=True)"
   ]
  },
  {
   "cell_type": "markdown",
   "metadata": {},
   "source": [
    "#### Логистическая регрессия"
   ]
  },
  {
   "cell_type": "markdown",
   "metadata": {},
   "source": [
    "Повторим обучение логистической регрессии, но уже на обогащенных данных. После обучения также повторим предсказание и оценим изменение точности прогнозирования. "
   ]
  },
  {
   "cell_type": "code",
   "execution_count": 39,
   "metadata": {},
   "outputs": [],
   "source": [
    "#обучим дерево решений с наилучшими гиперпараметрами и сформируем предсказания на валидационной выборке\n",
    "model = LogisticRegression(random_state=12345, solver='lbfgs')\n",
    "model = model.fit(features_upsampled, target_upsampled)\n",
    "\n",
    "predictions = model.predict(validation_features)"
   ]
  },
  {
   "cell_type": "code",
   "execution_count": 40,
   "metadata": {},
   "outputs": [
    {
     "name": "stdout",
     "output_type": "stream",
     "text": [
      "Полнота: 68.2%\n",
      "Точность: 38.1%\n",
      "F1-мера: 48.8%\n"
     ]
    }
   ],
   "source": [
    "precision = precision_score(validation_target, predictions)\n",
    "recall = recall_score(validation_target, predictions)\n",
    "f1 = f1_score(validation_target, predictions)\n",
    "\n",
    "print(f'Полнота: {recall:.1%}')\n",
    "print(f'Точность: {precision:.1%}')\n",
    "print(f'F1-мера: {f1:.1%}')"
   ]
  },
  {
   "cell_type": "code",
   "execution_count": 41,
   "metadata": {},
   "outputs": [
    {
     "name": "stdout",
     "output_type": "stream",
     "text": [
      "AUC-ROC: 76.4%\n"
     ]
    }
   ],
   "source": [
    "probabilities_valid = model.predict_proba(validation_features)\n",
    "probabilities_one_valid = probabilities_valid[:, 1]\n",
    "\n",
    "fpr, tpr, thresholds = roc_curve(validation_target, probabilities_one_valid)\n",
    "\n",
    "auc_roc = roc_auc_score(y_true=validation_target, y_score=probabilities_one_valid)\n",
    "\n",
    "print(f'AUC-ROC: {auc_roc:.1%}')"
   ]
  },
  {
   "cell_type": "markdown",
   "metadata": {},
   "source": [
    "#### Дерево решений"
   ]
  },
  {
   "cell_type": "code",
   "execution_count": 42,
   "metadata": {},
   "outputs": [],
   "source": [
    "#обучим дерево решений с наилучшими гиперпараметрами и сформируем предсказания на валидационной выборке\n",
    "model = DecisionTreeClassifier(max_depth=11, random_state=12345)\n",
    "model = model.fit(features_upsampled, target_upsampled)\n",
    "\n",
    "predictions = model.predict(validation_features)"
   ]
  },
  {
   "cell_type": "code",
   "execution_count": 43,
   "metadata": {},
   "outputs": [
    {
     "name": "stdout",
     "output_type": "stream",
     "text": [
      "Полнота: 61.2%\n",
      "Точность: 46.6%\n",
      "F1-мера: 52.9%\n"
     ]
    }
   ],
   "source": [
    "precision = precision_score(validation_target, predictions)\n",
    "recall = recall_score(validation_target, predictions)\n",
    "f1 = f1_score(validation_target, predictions)\n",
    "\n",
    "print(f'Полнота: {recall:.1%}')\n",
    "print(f'Точность: {precision:.1%}')\n",
    "print(f'F1-мера: {f1:.1%}')"
   ]
  },
  {
   "cell_type": "code",
   "execution_count": 44,
   "metadata": {},
   "outputs": [
    {
     "name": "stdout",
     "output_type": "stream",
     "text": [
      "AUC-ROC: 74.3%\n"
     ]
    }
   ],
   "source": [
    "probabilities_valid = model.predict_proba(validation_features)\n",
    "probabilities_one_valid = probabilities_valid[:, 1]\n",
    "\n",
    "fpr, tpr, thresholds = roc_curve(validation_target, probabilities_one_valid)\n",
    "\n",
    "auc_roc = roc_auc_score(y_true=validation_target, y_score=probabilities_one_valid)\n",
    "\n",
    "print(f'AUC-ROC: {auc_roc:.1%}')"
   ]
  },
  {
   "cell_type": "markdown",
   "metadata": {},
   "source": [
    "#### Случайный лес"
   ]
  },
  {
   "cell_type": "code",
   "execution_count": 45,
   "metadata": {},
   "outputs": [],
   "source": [
    "#обучим дерево решений с наилучшими гиперпараметрами и сформируем предсказания на валидационной выборке\n",
    "model = RandomForestClassifier(max_depth=17, n_estimators=80, random_state=12345)\n",
    "model = model.fit(features_upsampled, target_upsampled)\n",
    "\n",
    "predictions = model.predict(validation_features)"
   ]
  },
  {
   "cell_type": "code",
   "execution_count": 46,
   "metadata": {},
   "outputs": [
    {
     "name": "stdout",
     "output_type": "stream",
     "text": [
      "Полнота: 56.9%\n",
      "Точность: 66.3%\n",
      "F1-мера: 61.3%\n"
     ]
    }
   ],
   "source": [
    "precision = precision_score(validation_target, predictions)\n",
    "recall = recall_score(validation_target, predictions)\n",
    "f1 = f1_score(validation_target, predictions)\n",
    "\n",
    "print(f'Полнота: {recall:.1%}')\n",
    "print(f'Точность: {precision:.1%}')\n",
    "print(f'F1-мера: {f1:.1%}')"
   ]
  },
  {
   "cell_type": "code",
   "execution_count": 47,
   "metadata": {},
   "outputs": [],
   "source": [
    "predictions = model.predict(test_features)"
   ]
  },
  {
   "cell_type": "code",
   "execution_count": 48,
   "metadata": {},
   "outputs": [
    {
     "name": "stdout",
     "output_type": "stream",
     "text": [
      "Полнота: 55.3%\n",
      "Точность: 64.6%\n",
      "F1-мера: 59.6%\n"
     ]
    }
   ],
   "source": [
    "precision = precision_score(test_target, predictions)\n",
    "recall = recall_score(test_target, predictions)\n",
    "f1 = f1_score(test_target, predictions)\n",
    "\n",
    "print(f'Полнота: {recall:.1%}')\n",
    "print(f'Точность: {precision:.1%}')\n",
    "print(f'F1-мера: {f1:.1%}')"
   ]
  },
  {
   "cell_type": "code",
   "execution_count": 49,
   "metadata": {},
   "outputs": [
    {
     "name": "stdout",
     "output_type": "stream",
     "text": [
      "AUC-ROC: 84.4%\n"
     ]
    }
   ],
   "source": [
    "probabilities_valid = model.predict_proba(validation_features)\n",
    "probabilities_one_valid = probabilities_valid[:, 1]\n",
    "\n",
    "fpr, tpr, thresholds = roc_curve(validation_target, probabilities_one_valid)\n",
    "\n",
    "auc_roc = roc_auc_score(y_true=validation_target, y_score=probabilities_one_valid)\n",
    "\n",
    "print(f'AUC-ROC: {auc_roc:.1%}')"
   ]
  },
  {
   "cell_type": "markdown",
   "metadata": {},
   "source": [
    "### Изменение порога классификации"
   ]
  },
  {
   "cell_type": "markdown",
   "metadata": {},
   "source": [
    "Теперь попробуем использовать выборки без апскейлинга, но применим измененные пороги классификации. Поставим эксперимент с алгоритмом, который дал наилучший результат на предыдущих шагах - случайный лес. "
   ]
  },
  {
   "cell_type": "code",
   "execution_count": 50,
   "metadata": {},
   "outputs": [],
   "source": [
    "model = RandomForestClassifier(max_depth=17, n_estimators=80, random_state=12345)\n",
    "model = model.fit(train_features, train_target)\n",
    "\n",
    "predictions = model.predict(validation_features)"
   ]
  },
  {
   "cell_type": "code",
   "execution_count": 51,
   "metadata": {},
   "outputs": [],
   "source": [
    "probabilities_valid = model.predict_proba(validation_features)\n",
    "probabilities_one_valid = probabilities_valid[:, 1]"
   ]
  },
  {
   "cell_type": "code",
   "execution_count": 52,
   "metadata": {},
   "outputs": [
    {
     "name": "stdout",
     "output_type": "stream",
     "text": [
      "Порог = 0.00 | Точность = 0.214, Полнота = 0.995, F1-мера = 0.352\n",
      "Порог = 0.01 | Точность = 0.222, Полнота = 0.983, F1-мера = 0.362\n",
      "Порог = 0.02 | Точность = 0.237, Полнота = 0.967, F1-мера = 0.380\n",
      "Порог = 0.03 | Точность = 0.251, Полнота = 0.964, F1-мера = 0.398\n",
      "Порог = 0.04 | Точность = 0.260, Полнота = 0.947, F1-мера = 0.408\n",
      "Порог = 0.05 | Точность = 0.270, Полнота = 0.935, F1-мера = 0.419\n",
      "Порог = 0.06 | Точность = 0.282, Полнота = 0.926, F1-мера = 0.432\n",
      "Порог = 0.07 | Точность = 0.296, Полнота = 0.911, F1-мера = 0.447\n",
      "Порог = 0.08 | Точность = 0.307, Полнота = 0.900, F1-мера = 0.458\n",
      "Порог = 0.09 | Точность = 0.320, Полнота = 0.895, F1-мера = 0.472\n",
      "Порог = 0.10 | Точность = 0.332, Полнота = 0.880, F1-мера = 0.482\n",
      "Порог = 0.11 | Точность = 0.342, Полнота = 0.864, F1-мера = 0.489\n",
      "Порог = 0.12 | Точность = 0.357, Полнота = 0.854, F1-мера = 0.504\n",
      "Порог = 0.13 | Точность = 0.374, Полнота = 0.849, F1-мера = 0.519\n",
      "Порог = 0.14 | Точность = 0.382, Полнота = 0.830, F1-мера = 0.523\n",
      "Порог = 0.15 | Точность = 0.393, Полнота = 0.818, F1-мера = 0.531\n",
      "Порог = 0.16 | Точность = 0.401, Полнота = 0.811, F1-мера = 0.537\n",
      "Порог = 0.17 | Точность = 0.415, Полнота = 0.799, F1-мера = 0.547\n",
      "Порог = 0.18 | Точность = 0.428, Полнота = 0.780, F1-мера = 0.553\n",
      "Порог = 0.19 | Точность = 0.441, Полнота = 0.773, F1-мера = 0.562\n",
      "Порог = 0.20 | Точность = 0.451, Полнота = 0.756, F1-мера = 0.565\n",
      "Порог = 0.21 | Точность = 0.462, Полнота = 0.744, F1-мера = 0.570\n",
      "Порог = 0.22 | Точность = 0.474, Полнота = 0.734, F1-мера = 0.576\n",
      "Порог = 0.23 | Точность = 0.491, Полнота = 0.725, F1-мера = 0.586\n",
      "Порог = 0.24 | Точность = 0.499, Полнота = 0.711, F1-мера = 0.586\n",
      "Порог = 0.25 | Точность = 0.513, Полнота = 0.703, F1-мера = 0.593\n",
      "Порог = 0.26 | Точность = 0.523, Полнота = 0.696, F1-мера = 0.598\n",
      "Порог = 0.27 | Точность = 0.542, Полнота = 0.694, F1-мера = 0.609\n",
      "Порог = 0.28 | Точность = 0.547, Полнота = 0.677, F1-мера = 0.605\n",
      "Порог = 0.29 | Точность = 0.557, Полнота = 0.667, F1-мера = 0.607\n",
      "Порог = 0.30 | Точность = 0.569, Полнота = 0.658, F1-мера = 0.610\n",
      "Порог = 0.31 | Точность = 0.577, Полнота = 0.651, F1-мера = 0.612\n",
      "Порог = 0.32 | Точность = 0.595, Полнота = 0.639, F1-мера = 0.616\n",
      "Порог = 0.33 | Точность = 0.607, Полнота = 0.624, F1-мера = 0.616\n",
      "Порог = 0.34 | Точность = 0.618, Полнота = 0.608, F1-мера = 0.613\n",
      "Порог = 0.35 | Точность = 0.632, Полнота = 0.600, F1-мера = 0.616\n",
      "Порог = 0.36 | Точность = 0.642, Полнота = 0.596, F1-мера = 0.618\n",
      "Порог = 0.37 | Точность = 0.651, Полнота = 0.589, F1-мера = 0.618\n",
      "Порог = 0.38 | Точность = 0.655, Полнота = 0.586, F1-мера = 0.619\n",
      "Порог = 0.39 | Точность = 0.673, Полнота = 0.577, F1-мера = 0.621\n",
      "Порог = 0.40 | Точность = 0.679, Полнота = 0.567, F1-мера = 0.618\n",
      "Порог = 0.41 | Точность = 0.682, Полнота = 0.555, F1-мера = 0.612\n",
      "Порог = 0.42 | Точность = 0.687, Полнота = 0.536, F1-мера = 0.602\n",
      "Порог = 0.43 | Точность = 0.702, Полнота = 0.524, F1-мера = 0.600\n",
      "Порог = 0.44 | Точность = 0.719, Полнота = 0.519, F1-мера = 0.603\n",
      "Порог = 0.45 | Точность = 0.721, Полнота = 0.507, F1-мера = 0.596\n",
      "Порог = 0.46 | Точность = 0.724, Полнота = 0.495, F1-мера = 0.588\n",
      "Порог = 0.47 | Точность = 0.736, Полнота = 0.488, F1-мера = 0.587\n",
      "Порог = 0.48 | Точность = 0.749, Полнота = 0.478, F1-мера = 0.584\n",
      "Порог = 0.49 | Точность = 0.759, Полнота = 0.467, F1-мера = 0.578\n"
     ]
    }
   ],
   "source": [
    "for threshold in np.arange(0, 0.5, 0.01):\n",
    "    predicted_valid = probabilities_one_valid > threshold\n",
    "    precision = precision_score(validation_target, predicted_valid)\n",
    "    recall = recall_score(validation_target, predicted_valid)\n",
    "    f1 = f1_score(validation_target, predicted_valid)\n",
    "\n",
    "    print(\"Порог = {:.2f} | Точность = {:.3f}, Полнота = {:.3f}, F1-мера = {:.3f}\".format(\n",
    "        threshold, precision, recall, f1))"
   ]
  },
  {
   "cell_type": "markdown",
   "metadata": {},
   "source": [
    "Мы наблюдаем, что для порога вероятности в 39%, мы получаем наилучшее значение F-меры. Оно даже лучше, чем наилучшее значение, полученное тем же алгоритмов с такими же гиперпараметрами на выборке, подвергшейся апсемлингу. Проведем тестирование в соответствующем разделе."
   ]
  },
  {
   "cell_type": "markdown",
   "metadata": {},
   "source": [
    "## Тестирование модели"
   ]
  },
  {
   "cell_type": "markdown",
   "metadata": {},
   "source": [
    "Повторно обучим модель и построим для нее ROC-кривые: для дефолтного и кастомизированного порогов классификации. По итогам, сможем установить, какой из вариантов в наилучшей степени подходит для решения поставленной задачи. "
   ]
  },
  {
   "cell_type": "code",
   "execution_count": 53,
   "metadata": {},
   "outputs": [],
   "source": [
    "model = RandomForestClassifier(max_depth=17, n_estimators=80, random_state=12345)\n",
    "model = model.fit(features_upsampled, target_upsampled)"
   ]
  },
  {
   "cell_type": "code",
   "execution_count": 54,
   "metadata": {},
   "outputs": [],
   "source": [
    "predictions = model.predict(test_features)"
   ]
  },
  {
   "cell_type": "code",
   "execution_count": 55,
   "metadata": {},
   "outputs": [
    {
     "name": "stdout",
     "output_type": "stream",
     "text": [
      "Полнота: 55.3%\n",
      "Точность: 64.6%\n",
      "F1-мера: 59.6%\n"
     ]
    }
   ],
   "source": [
    "precision = precision_score(test_target, predictions)\n",
    "recall = recall_score(test_target, predictions)\n",
    "f1 = f1_score(test_target, predictions)\n",
    "\n",
    "print(f'Полнота: {recall:.1%}')\n",
    "print(f'Точность: {precision:.1%}')\n",
    "print(f'F1-мера: {f1:.1%}')"
   ]
  },
  {
   "cell_type": "code",
   "execution_count": 56,
   "metadata": {},
   "outputs": [
    {
     "data": {
      "image/png": "[encoded data removed]",
      "text/plain": [
       "<Figure size 1152x576 with 1 Axes>"
      ]
     },
     "metadata": {
      "needs_background": "light"
     },
     "output_type": "display_data"
    }
   ],
   "source": [
    "probabilities_valid = model.predict_proba(test_features)\n",
    "probabilities_one_valid = probabilities_valid[:, 1]\n",
    "\n",
    "fpr, tpr, thresholds = roc_curve(test_target, probabilities_one_valid)\n",
    "\n",
    "plt.figure(figsize=(16, 8))\n",
    "\n",
    "plt.plot([0, 1], [0, 1], linestyle='--')\n",
    "\n",
    "plt.plot(fpr, tpr)\n",
    "plt.xlim([0.0, 1.0])\n",
    "plt.ylim([0.0, 1.0])\n",
    "plt.xlabel('False Positive Rate')\n",
    "plt.ylabel('True Positive Rate')\n",
    "plt.title('ROC-кривая')\n",
    "\n",
    "plt.show()"
   ]
  },
  {
   "cell_type": "code",
   "execution_count": 57,
   "metadata": {},
   "outputs": [
    {
     "name": "stdout",
     "output_type": "stream",
     "text": [
      "AUC-ROC: 84.6%\n"
     ]
    }
   ],
   "source": [
    "auc_roc = roc_auc_score(y_true=test_target, y_score=probabilities_one_valid)\n",
    "\n",
    "print(f'AUC-ROC: {auc_roc:.1%}')"
   ]
  },
  {
   "cell_type": "code",
   "execution_count": 58,
   "metadata": {},
   "outputs": [],
   "source": [
    "probabilities_valid = model.predict_proba(test_features)\n",
    "probabilities_one_valid = probabilities_valid[:, 1]"
   ]
  },
  {
   "cell_type": "code",
   "execution_count": 59,
   "metadata": {},
   "outputs": [
    {
     "name": "stdout",
     "output_type": "stream",
     "text": [
      "Порог = 0.39 | Точность = 0.576, Полнота = 0.655, F1-мера = 0.613\n"
     ]
    }
   ],
   "source": [
    "threshold = 0.39\n",
    "predicted_valid = probabilities_one_valid > threshold \n",
    "precision = precision_score(test_target, predicted_valid)\n",
    "recall = recall_score(test_target, predicted_valid)\n",
    "f1 = f1_score(test_target, predicted_valid)\n",
    "\n",
    "print(\"Порог = {:.2f} | Точность = {:.3f}, Полнота = {:.3f}, F1-мера = {:.3f}\".format(threshold, precision, recall, f1))"
   ]
  },
  {
   "cell_type": "code",
   "execution_count": 60,
   "metadata": {},
   "outputs": [
    {
     "data": {
      "image/png": "[encoded data removed]",
      "text/plain": [
       "<Figure size 1152x576 with 1 Axes>"
      ]
     },
     "metadata": {
      "needs_background": "light"
     },
     "output_type": "display_data"
    }
   ],
   "source": [
    "fpr, tpr, thresholds = roc_curve(test_target, predicted_valid)\n",
    "\n",
    "plt.figure(figsize=(16, 8))\n",
    "\n",
    "plt.plot([0, 1], [0, 1], linestyle='--')\n",
    "\n",
    "plt.plot(fpr, tpr)\n",
    "plt.xlim([0.0, 1.0])\n",
    "plt.ylim([0.0, 1.0])\n",
    "plt.xlabel('False Positive Rate')\n",
    "plt.ylabel('True Positive Rate')\n",
    "plt.title('ROC-кривая')\n",
    "\n",
    "plt.show()"
   ]
  },
  {
   "cell_type": "code",
   "execution_count": 61,
   "metadata": {},
   "outputs": [
    {
     "name": "stdout",
     "output_type": "stream",
     "text": [
      "AUC-ROC: 76.3%\n"
     ]
    }
   ],
   "source": [
    "auc_roc = roc_auc_score(y_true=test_target, y_score=predicted_valid)\n",
    "\n",
    "print(f'AUC-ROC: {auc_roc:.1%}')"
   ]
  },
  {
   "cell_type": "code",
   "execution_count": 67,
   "metadata": {},
   "outputs": [
    {
     "data": {
      "text/plain": [
       "<matplotlib.axes._subplots.AxesSubplot at 0x7fa29e60db90>"
      ]
     },
     "execution_count": 67,
     "metadata": {},
     "output_type": "execute_result"
    },
    {
     "data": {
      "image/png": "[encoded data removed]",
      "text/plain": [
       "<Figure size 1152x576 with 1 Axes>"
      ]
     },
     "metadata": {
      "needs_background": "light"
     },
     "output_type": "display_data"
    }
   ],
   "source": [
    "plt.figure(figsize=(16, 8))\n",
    "plt.title('Важность признаков для прогнозирования')\n",
    "plt.xticks(rotation=45)\n",
    "sns.barplot(y=model.feature_importances_, x=features_upsampled.columns)"
   ]
  },
  {
   "cell_type": "markdown",
   "metadata": {},
   "source": [
    "Наблюдаем следующее:\n",
    "\n",
    "1. При дефолтном и кастомном порогах классификации модель позволяет получить целевое значение F-меры в 59%\n",
    "2. При использовании фиксированного порога классификации мы наблюдаем \"рубленую\" форму ROC-кривой, что вероятно объясняется \"искуственной\" природой порога\n",
    "3. Использование стандартного порога классификации возвращает лучшее значение AUC-ROC (+8 процентных пунктов), что позволяет утверждать нам о более точной способности модели классифицировать объекты и точно предсказывать отток клиента из банка"
   ]
  },
  {
   "cell_type": "markdown",
   "metadata": {},
   "source": [
    "## Выводы"
   ]
  },
  {
   "cell_type": "markdown",
   "metadata": {},
   "source": [
    "1. Произведено исследование данных - наблюдался явный дисбаланс классов (20% выборки - целевой класс) - для повышения точности использован метод апсемлинга, а также перебор порогов классификации: установлено, что апсемлинг позволяет получить желаемый результат\n",
    "2. В качестве алгоритмов для модели использованы три варианта со следующими значениями F1-меры на апсемленных данных:\n",
    "+ Логистическая регрессия (F1 ~49%)\n",
    "+ Дерево решений (F1 ~53%)\n",
    "+ (F1 ~61% для валидационной выборки и 60% для тестовой)\n",
    "3. Целевое значение достигнуто моделью, постороенной на базе алгоритма RandomForest со следующими гиперпараметрами:\n",
    "+ Количество деревьев - 80\n",
    "+ Глубина дерева - 17 \n",
    "4. Метрика AUC-ROC для указанного алгоритма на тестовой выборке показывает значение ~84%, что говорит о неплохой способности модели корректно предсказывать целевой признак объекта"
   ]
  },
  {
   "cell_type": "code",
   "execution_count": null,
   "metadata": {},
   "outputs": [],
   "source": []
  }
 ],
 "metadata": {
  "ExecuteTimeLog": [
   {
    "duration": 603,
    "start_time": "2022-02-10T20:46:32.113Z"
   },
   {
    "duration": 3,
    "start_time": "2022-02-10T20:46:43.972Z"
   },
   {
    "duration": 30,
    "start_time": "2022-02-10T20:47:08.431Z"
   },
   {
    "duration": 19,
    "start_time": "2022-02-10T20:47:15.917Z"
   },
   {
    "duration": 31,
    "start_time": "2022-02-10T20:48:42.646Z"
   },
   {
    "duration": 20,
    "start_time": "2022-02-10T20:48:44.318Z"
   },
   {
    "duration": 8,
    "start_time": "2022-02-11T06:39:45.206Z"
   },
   {
    "duration": 11,
    "start_time": "2022-02-11T06:39:58.925Z"
   },
   {
    "duration": 489,
    "start_time": "2022-02-13T11:49:28.423Z"
   },
   {
    "duration": 710,
    "start_time": "2022-02-13T11:49:38.879Z"
   },
   {
    "duration": 34,
    "start_time": "2022-02-13T11:49:39.592Z"
   },
   {
    "duration": 38,
    "start_time": "2022-02-13T11:49:39.629Z"
   },
   {
    "duration": 13,
    "start_time": "2022-02-13T11:49:39.670Z"
   },
   {
    "duration": 15,
    "start_time": "2022-02-13T11:49:39.686Z"
   },
   {
    "duration": 15,
    "start_time": "2022-02-13T11:50:15.595Z"
   },
   {
    "duration": 16,
    "start_time": "2022-02-13T11:51:20.450Z"
   },
   {
    "duration": 16,
    "start_time": "2022-02-13T11:51:30.464Z"
   },
   {
    "duration": 10,
    "start_time": "2022-02-13T11:55:54.921Z"
   },
   {
    "duration": 9,
    "start_time": "2022-02-13T11:56:30.927Z"
   },
   {
    "duration": 16,
    "start_time": "2022-02-13T11:59:29.127Z"
   },
   {
    "duration": 7,
    "start_time": "2022-02-13T12:00:20.151Z"
   },
   {
    "duration": 76,
    "start_time": "2022-02-13T12:00:25.907Z"
   },
   {
    "duration": 8,
    "start_time": "2022-02-13T12:00:28.992Z"
   },
   {
    "duration": 8,
    "start_time": "2022-02-13T12:00:32.205Z"
   },
   {
    "duration": 457,
    "start_time": "2022-02-13T12:01:05.173Z"
   },
   {
    "duration": 34,
    "start_time": "2022-02-13T12:01:53.727Z"
   },
   {
    "duration": 1538,
    "start_time": "2022-02-13T12:02:12.137Z"
   },
   {
    "duration": 12,
    "start_time": "2022-02-13T12:04:55.346Z"
   },
   {
    "duration": 10,
    "start_time": "2022-02-13T12:06:28.056Z"
   },
   {
    "duration": 12,
    "start_time": "2022-02-13T12:06:35.154Z"
   },
   {
    "duration": 11,
    "start_time": "2022-02-13T12:06:38.670Z"
   },
   {
    "duration": 11,
    "start_time": "2022-02-13T12:06:45.574Z"
   },
   {
    "duration": 17,
    "start_time": "2022-02-13T12:06:55.178Z"
   },
   {
    "duration": 367,
    "start_time": "2022-02-13T12:11:19.176Z"
   },
   {
    "duration": 22,
    "start_time": "2022-02-13T12:22:21.116Z"
   },
   {
    "duration": 752,
    "start_time": "2022-02-13T12:24:03.281Z"
   },
   {
    "duration": 1132,
    "start_time": "2022-02-13T12:24:20.469Z"
   },
   {
    "duration": 1306,
    "start_time": "2022-02-13T12:24:38.571Z"
   },
   {
    "duration": 1447,
    "start_time": "2022-02-13T12:25:32.443Z"
   },
   {
    "duration": 1094,
    "start_time": "2022-02-13T12:27:18.689Z"
   },
   {
    "duration": 1015,
    "start_time": "2022-02-13T12:27:28.246Z"
   },
   {
    "duration": 632,
    "start_time": "2022-02-13T12:28:10.682Z"
   },
   {
    "duration": 479,
    "start_time": "2022-02-13T12:28:14.998Z"
   },
   {
    "duration": 1195,
    "start_time": "2022-02-13T12:30:09.145Z"
   },
   {
    "duration": 1366,
    "start_time": "2022-02-13T12:31:02.210Z"
   },
   {
    "duration": 1384,
    "start_time": "2022-02-13T12:31:58.307Z"
   },
   {
    "duration": 33,
    "start_time": "2022-02-13T12:34:22.687Z"
   },
   {
    "duration": 4,
    "start_time": "2022-02-13T12:34:37.161Z"
   },
   {
    "duration": 255,
    "start_time": "2022-02-13T12:34:52.350Z"
   },
   {
    "duration": 19,
    "start_time": "2022-02-13T12:35:14.091Z"
   },
   {
    "duration": 235,
    "start_time": "2022-02-13T12:35:27.453Z"
   },
   {
    "duration": 47,
    "start_time": "2022-02-13T12:35:42.770Z"
   },
   {
    "duration": 90,
    "start_time": "2022-02-13T12:35:56.792Z"
   },
   {
    "duration": 87,
    "start_time": "2022-02-13T12:36:06.490Z"
   },
   {
    "duration": 80,
    "start_time": "2022-02-13T12:36:37.526Z"
   },
   {
    "duration": 230,
    "start_time": "2022-02-13T12:36:42.969Z"
   },
   {
    "duration": 33,
    "start_time": "2022-02-13T12:36:57.843Z"
   },
   {
    "duration": 27,
    "start_time": "2022-02-13T12:37:17.389Z"
   },
   {
    "duration": 1592,
    "start_time": "2022-02-13T12:37:42.270Z"
   },
   {
    "duration": 35,
    "start_time": "2022-02-13T12:44:53.235Z"
   },
   {
    "duration": 26,
    "start_time": "2022-02-13T12:45:05.583Z"
   },
   {
    "duration": 19,
    "start_time": "2022-02-13T12:45:53.878Z"
   },
   {
    "duration": 31,
    "start_time": "2022-02-13T12:45:56.849Z"
   },
   {
    "duration": 23,
    "start_time": "2022-02-13T12:46:29.758Z"
   },
   {
    "duration": 25,
    "start_time": "2022-02-13T12:46:39.166Z"
   },
   {
    "duration": 453,
    "start_time": "2022-02-13T12:46:44.234Z"
   },
   {
    "duration": 290,
    "start_time": "2022-02-13T12:46:53.569Z"
   },
   {
    "duration": 20,
    "start_time": "2022-02-13T12:53:26.767Z"
   },
   {
    "duration": 20,
    "start_time": "2022-02-13T12:53:31.692Z"
   },
   {
    "duration": 19,
    "start_time": "2022-02-13T12:54:15.871Z"
   },
   {
    "duration": 84,
    "start_time": "2022-02-13T12:56:21.789Z"
   },
   {
    "duration": 84,
    "start_time": "2022-02-13T12:56:27.993Z"
   },
   {
    "duration": 37,
    "start_time": "2022-02-13T12:59:57.702Z"
   },
   {
    "duration": 486,
    "start_time": "2022-02-13T13:00:11.416Z"
   },
   {
    "duration": 17,
    "start_time": "2022-02-13T13:01:08.771Z"
   },
   {
    "duration": 12,
    "start_time": "2022-02-13T13:01:16.374Z"
   },
   {
    "duration": 17,
    "start_time": "2022-02-13T13:02:37.447Z"
   },
   {
    "duration": 12,
    "start_time": "2022-02-13T13:02:38.816Z"
   },
   {
    "duration": 1464,
    "start_time": "2022-02-13T13:02:46.966Z"
   },
   {
    "duration": 37,
    "start_time": "2022-02-13T13:02:48.434Z"
   },
   {
    "duration": 24,
    "start_time": "2022-02-13T13:02:48.474Z"
   },
   {
    "duration": 16,
    "start_time": "2022-02-13T13:02:48.502Z"
   },
   {
    "duration": 33,
    "start_time": "2022-02-13T13:02:48.521Z"
   },
   {
    "duration": 34,
    "start_time": "2022-02-13T13:02:48.557Z"
   },
   {
    "duration": 11,
    "start_time": "2022-02-13T13:02:48.594Z"
   },
   {
    "duration": 55,
    "start_time": "2022-02-13T13:02:48.607Z"
   },
   {
    "duration": 1310,
    "start_time": "2022-02-13T13:02:48.666Z"
   },
   {
    "duration": 27,
    "start_time": "2022-02-13T13:02:49.978Z"
   },
   {
    "duration": 46,
    "start_time": "2022-02-13T13:02:50.008Z"
   },
   {
    "duration": 16,
    "start_time": "2022-02-13T13:02:50.057Z"
   },
   {
    "duration": 1589,
    "start_time": "2022-02-13T13:03:20.103Z"
   },
   {
    "duration": 34,
    "start_time": "2022-02-13T13:03:21.695Z"
   },
   {
    "duration": 30,
    "start_time": "2022-02-13T13:03:21.731Z"
   },
   {
    "duration": 16,
    "start_time": "2022-02-13T13:03:21.764Z"
   },
   {
    "duration": 15,
    "start_time": "2022-02-13T13:03:21.783Z"
   },
   {
    "duration": 73,
    "start_time": "2022-02-13T13:03:21.800Z"
   },
   {
    "duration": 11,
    "start_time": "2022-02-13T13:03:21.875Z"
   },
   {
    "duration": 20,
    "start_time": "2022-02-13T13:03:21.888Z"
   },
   {
    "duration": 1805,
    "start_time": "2022-02-13T13:03:21.911Z"
   },
   {
    "duration": 38,
    "start_time": "2022-02-13T13:03:23.719Z"
   },
   {
    "duration": 22,
    "start_time": "2022-02-13T13:03:23.760Z"
   },
   {
    "duration": 14,
    "start_time": "2022-02-13T13:03:23.785Z"
   },
   {
    "duration": 397,
    "start_time": "2022-02-13T13:03:50.862Z"
   },
   {
    "duration": 2140,
    "start_time": "2022-02-13T13:04:01.377Z"
   },
   {
    "duration": 43,
    "start_time": "2022-02-13T13:04:03.521Z"
   },
   {
    "duration": 23,
    "start_time": "2022-02-13T13:04:03.567Z"
   },
   {
    "duration": 15,
    "start_time": "2022-02-13T13:04:03.593Z"
   },
   {
    "duration": 39,
    "start_time": "2022-02-13T13:04:03.611Z"
   },
   {
    "duration": 52,
    "start_time": "2022-02-13T13:04:03.653Z"
   },
   {
    "duration": 36,
    "start_time": "2022-02-13T13:04:03.712Z"
   },
   {
    "duration": 23,
    "start_time": "2022-02-13T13:04:03.752Z"
   },
   {
    "duration": 1269,
    "start_time": "2022-02-13T13:04:03.780Z"
   },
   {
    "duration": 26,
    "start_time": "2022-02-13T13:04:05.052Z"
   },
   {
    "duration": 22,
    "start_time": "2022-02-13T13:04:05.080Z"
   },
   {
    "duration": 50,
    "start_time": "2022-02-13T13:04:05.104Z"
   },
   {
    "duration": 1859,
    "start_time": "2022-02-13T13:07:04.917Z"
   },
   {
    "duration": 1473,
    "start_time": "2022-02-13T13:08:17.005Z"
   },
   {
    "duration": 36,
    "start_time": "2022-02-13T13:08:18.481Z"
   },
   {
    "duration": 37,
    "start_time": "2022-02-13T13:08:18.520Z"
   },
   {
    "duration": 14,
    "start_time": "2022-02-13T13:08:18.560Z"
   },
   {
    "duration": 15,
    "start_time": "2022-02-13T13:08:18.577Z"
   },
   {
    "duration": 71,
    "start_time": "2022-02-13T13:08:18.595Z"
   },
   {
    "duration": 12,
    "start_time": "2022-02-13T13:08:18.669Z"
   },
   {
    "duration": 19,
    "start_time": "2022-02-13T13:08:18.684Z"
   },
   {
    "duration": 1279,
    "start_time": "2022-02-13T13:08:18.708Z"
   },
   {
    "duration": 28,
    "start_time": "2022-02-13T13:08:19.991Z"
   },
   {
    "duration": 45,
    "start_time": "2022-02-13T13:08:20.022Z"
   },
   {
    "duration": 22,
    "start_time": "2022-02-13T13:08:20.071Z"
   },
   {
    "duration": 5,
    "start_time": "2022-02-13T13:08:43.289Z"
   },
   {
    "duration": 14,
    "start_time": "2022-02-13T13:08:46.853Z"
   },
   {
    "duration": 8,
    "start_time": "2022-02-13T13:09:04.470Z"
   },
   {
    "duration": 438,
    "start_time": "2022-02-13T13:09:11.491Z"
   },
   {
    "duration": 7,
    "start_time": "2022-02-13T13:09:14.778Z"
   },
   {
    "duration": 8,
    "start_time": "2022-02-13T13:09:38.170Z"
   },
   {
    "duration": 9,
    "start_time": "2022-02-13T13:11:44.997Z"
   },
   {
    "duration": 18,
    "start_time": "2022-02-13T13:11:49.301Z"
   },
   {
    "duration": 1601,
    "start_time": "2022-02-13T13:14:21.963Z"
   },
   {
    "duration": 34,
    "start_time": "2022-02-13T13:14:23.567Z"
   },
   {
    "duration": 23,
    "start_time": "2022-02-13T13:14:23.604Z"
   },
   {
    "duration": 28,
    "start_time": "2022-02-13T13:14:23.630Z"
   },
   {
    "duration": 13,
    "start_time": "2022-02-13T13:14:23.661Z"
   },
   {
    "duration": 42,
    "start_time": "2022-02-13T13:14:23.677Z"
   },
   {
    "duration": 10,
    "start_time": "2022-02-13T13:14:23.749Z"
   },
   {
    "duration": 19,
    "start_time": "2022-02-13T13:14:23.762Z"
   },
   {
    "duration": 1281,
    "start_time": "2022-02-13T13:14:23.785Z"
   },
   {
    "duration": 26,
    "start_time": "2022-02-13T13:14:25.069Z"
   },
   {
    "duration": 52,
    "start_time": "2022-02-13T13:14:25.098Z"
   },
   {
    "duration": 406,
    "start_time": "2022-02-13T13:14:25.153Z"
   },
   {
    "duration": 8,
    "start_time": "2022-02-13T13:14:45.124Z"
   },
   {
    "duration": 17,
    "start_time": "2022-02-13T13:14:48.900Z"
   },
   {
    "duration": 15,
    "start_time": "2022-02-13T13:16:25.761Z"
   },
   {
    "duration": 2047,
    "start_time": "2022-02-13T13:16:33.141Z"
   },
   {
    "duration": 33,
    "start_time": "2022-02-13T13:16:35.193Z"
   },
   {
    "duration": 25,
    "start_time": "2022-02-13T13:16:35.229Z"
   },
   {
    "duration": 14,
    "start_time": "2022-02-13T13:16:35.257Z"
   },
   {
    "duration": 12,
    "start_time": "2022-02-13T13:16:35.274Z"
   },
   {
    "duration": 73,
    "start_time": "2022-02-13T13:16:35.288Z"
   },
   {
    "duration": 10,
    "start_time": "2022-02-13T13:16:35.364Z"
   },
   {
    "duration": 20,
    "start_time": "2022-02-13T13:16:35.377Z"
   },
   {
    "duration": 1238,
    "start_time": "2022-02-13T13:16:35.400Z"
   },
   {
    "duration": 30,
    "start_time": "2022-02-13T13:16:36.641Z"
   },
   {
    "duration": 29,
    "start_time": "2022-02-13T13:16:36.673Z"
   },
   {
    "duration": 50,
    "start_time": "2022-02-13T13:16:36.705Z"
   },
   {
    "duration": 1494,
    "start_time": "2022-02-13T13:33:30.638Z"
   },
   {
    "duration": 37,
    "start_time": "2022-02-13T13:33:32.136Z"
   },
   {
    "duration": 24,
    "start_time": "2022-02-13T13:33:32.176Z"
   },
   {
    "duration": 44,
    "start_time": "2022-02-13T13:33:32.205Z"
   },
   {
    "duration": 13,
    "start_time": "2022-02-13T13:33:32.252Z"
   },
   {
    "duration": 54,
    "start_time": "2022-02-13T13:33:32.268Z"
   },
   {
    "duration": 32,
    "start_time": "2022-02-13T13:33:32.325Z"
   },
   {
    "duration": 22,
    "start_time": "2022-02-13T13:33:32.360Z"
   },
   {
    "duration": 9,
    "start_time": "2022-02-13T13:33:32.387Z"
   },
   {
    "duration": 1272,
    "start_time": "2022-02-13T13:33:32.399Z"
   },
   {
    "duration": 32,
    "start_time": "2022-02-13T13:33:33.674Z"
   },
   {
    "duration": 58,
    "start_time": "2022-02-13T13:33:33.709Z"
   },
   {
    "duration": 14,
    "start_time": "2022-02-13T13:33:33.770Z"
   },
   {
    "duration": 10,
    "start_time": "2022-02-13T13:33:51.365Z"
   },
   {
    "duration": 10,
    "start_time": "2022-02-13T13:34:14.022Z"
   },
   {
    "duration": 58,
    "start_time": "2022-02-13T13:34:29.076Z"
   },
   {
    "duration": 7,
    "start_time": "2022-02-13T13:37:03.891Z"
   },
   {
    "duration": 8,
    "start_time": "2022-02-13T13:37:36.226Z"
   },
   {
    "duration": 12,
    "start_time": "2022-02-13T13:37:43.064Z"
   },
   {
    "duration": 5,
    "start_time": "2022-02-13T13:51:09.442Z"
   },
   {
    "duration": 6,
    "start_time": "2022-02-13T13:51:34.101Z"
   },
   {
    "duration": 78,
    "start_time": "2022-02-13T13:52:36.583Z"
   },
   {
    "duration": 341,
    "start_time": "2022-02-13T13:52:41.881Z"
   },
   {
    "duration": 6,
    "start_time": "2022-02-13T13:52:48.665Z"
   },
   {
    "duration": 7,
    "start_time": "2022-02-13T13:53:09.388Z"
   },
   {
    "duration": 18,
    "start_time": "2022-02-13T13:53:41.633Z"
   },
   {
    "duration": 5,
    "start_time": "2022-02-13T13:56:02.735Z"
   },
   {
    "duration": 6,
    "start_time": "2022-02-13T13:56:06.191Z"
   },
   {
    "duration": 43,
    "start_time": "2022-02-13T13:57:08.901Z"
   },
   {
    "duration": 13,
    "start_time": "2022-02-13T13:57:48.632Z"
   },
   {
    "duration": 5,
    "start_time": "2022-02-13T13:58:03.180Z"
   },
   {
    "duration": 11,
    "start_time": "2022-02-13T14:10:59.699Z"
   },
   {
    "duration": 9,
    "start_time": "2022-02-13T14:11:52.122Z"
   },
   {
    "duration": 9,
    "start_time": "2022-02-13T14:18:53.678Z"
   },
   {
    "duration": 8,
    "start_time": "2022-02-13T14:19:10.071Z"
   },
   {
    "duration": 6,
    "start_time": "2022-02-13T14:19:54.030Z"
   },
   {
    "duration": 16,
    "start_time": "2022-02-13T14:20:01.042Z"
   },
   {
    "duration": 5,
    "start_time": "2022-02-13T14:20:07.809Z"
   },
   {
    "duration": 7,
    "start_time": "2022-02-13T14:20:15.630Z"
   },
   {
    "duration": 1153,
    "start_time": "2022-02-13T14:30:32.147Z"
   },
   {
    "duration": 27,
    "start_time": "2022-02-13T14:30:43.551Z"
   },
   {
    "duration": 13,
    "start_time": "2022-02-13T14:31:49.874Z"
   },
   {
    "duration": 11,
    "start_time": "2022-02-13T14:32:06.757Z"
   },
   {
    "duration": 12,
    "start_time": "2022-02-13T14:32:11.300Z"
   },
   {
    "duration": 12,
    "start_time": "2022-02-13T14:32:13.073Z"
   },
   {
    "duration": 16,
    "start_time": "2022-02-13T14:32:14.631Z"
   },
   {
    "duration": 11,
    "start_time": "2022-02-13T14:32:16.281Z"
   },
   {
    "duration": 11,
    "start_time": "2022-02-13T14:32:17.833Z"
   },
   {
    "duration": 12,
    "start_time": "2022-02-13T14:32:19.585Z"
   },
   {
    "duration": 11,
    "start_time": "2022-02-13T14:32:21.814Z"
   },
   {
    "duration": 6,
    "start_time": "2022-02-13T14:38:54.467Z"
   },
   {
    "duration": 10,
    "start_time": "2022-02-13T14:39:09.262Z"
   },
   {
    "duration": 5,
    "start_time": "2022-02-13T14:39:26.338Z"
   },
   {
    "duration": 8,
    "start_time": "2022-02-13T14:40:30.688Z"
   },
   {
    "duration": 9,
    "start_time": "2022-02-13T14:40:34.373Z"
   },
   {
    "duration": 346,
    "start_time": "2022-02-13T14:40:53.371Z"
   },
   {
    "duration": 6,
    "start_time": "2022-02-13T14:42:00.983Z"
   },
   {
    "duration": 9,
    "start_time": "2022-02-13T14:42:08.562Z"
   },
   {
    "duration": 10,
    "start_time": "2022-02-13T14:43:32.564Z"
   },
   {
    "duration": 17,
    "start_time": "2022-02-13T14:43:34.264Z"
   },
   {
    "duration": 6,
    "start_time": "2022-02-13T14:43:35.123Z"
   },
   {
    "duration": 7,
    "start_time": "2022-02-13T14:44:05.722Z"
   },
   {
    "duration": 19,
    "start_time": "2022-02-13T14:44:06.441Z"
   },
   {
    "duration": 6,
    "start_time": "2022-02-13T14:44:06.956Z"
   },
   {
    "duration": 7,
    "start_time": "2022-02-13T14:45:24.802Z"
   },
   {
    "duration": 14,
    "start_time": "2022-02-13T14:45:25.366Z"
   },
   {
    "duration": 5,
    "start_time": "2022-02-13T14:45:27.983Z"
   },
   {
    "duration": 6,
    "start_time": "2022-02-13T14:47:18.810Z"
   },
   {
    "duration": 15,
    "start_time": "2022-02-13T14:47:19.401Z"
   },
   {
    "duration": 9,
    "start_time": "2022-02-13T14:47:40.169Z"
   },
   {
    "duration": 14,
    "start_time": "2022-02-13T14:47:40.801Z"
   },
   {
    "duration": 6,
    "start_time": "2022-02-13T14:47:41.607Z"
   },
   {
    "duration": 7,
    "start_time": "2022-02-13T14:47:57.228Z"
   },
   {
    "duration": 15,
    "start_time": "2022-02-13T14:47:57.668Z"
   },
   {
    "duration": 5,
    "start_time": "2022-02-13T14:47:58.551Z"
   },
   {
    "duration": 8,
    "start_time": "2022-02-13T14:51:47.534Z"
   },
   {
    "duration": 819,
    "start_time": "2022-02-13T14:51:48.234Z"
   },
   {
    "duration": 6,
    "start_time": "2022-02-13T14:52:18.018Z"
   },
   {
    "duration": 699,
    "start_time": "2022-02-13T14:52:18.852Z"
   },
   {
    "duration": 7,
    "start_time": "2022-02-13T14:52:32.050Z"
   },
   {
    "duration": 14,
    "start_time": "2022-02-13T14:52:32.635Z"
   },
   {
    "duration": 6,
    "start_time": "2022-02-13T14:52:33.615Z"
   },
   {
    "duration": 11,
    "start_time": "2022-02-13T14:55:48.195Z"
   },
   {
    "duration": 10,
    "start_time": "2022-02-13T14:55:51.985Z"
   },
   {
    "duration": 8,
    "start_time": "2022-02-13T14:56:09.857Z"
   },
   {
    "duration": 8,
    "start_time": "2022-02-13T14:56:33.318Z"
   },
   {
    "duration": 9,
    "start_time": "2022-02-13T14:56:37.938Z"
   },
   {
    "duration": 8,
    "start_time": "2022-02-13T14:56:42.258Z"
   },
   {
    "duration": 10,
    "start_time": "2022-02-13T14:56:49.427Z"
   },
   {
    "duration": 11,
    "start_time": "2022-02-13T14:56:53.422Z"
   },
   {
    "duration": 10,
    "start_time": "2022-02-13T14:57:17.686Z"
   },
   {
    "duration": 9,
    "start_time": "2022-02-13T14:57:43.968Z"
   },
   {
    "duration": 11,
    "start_time": "2022-02-13T14:58:00.233Z"
   },
   {
    "duration": 19,
    "start_time": "2022-02-13T14:58:19.933Z"
   },
   {
    "duration": 6,
    "start_time": "2022-02-13T15:06:43.732Z"
   },
   {
    "duration": 5,
    "start_time": "2022-02-13T15:06:47.941Z"
   },
   {
    "duration": 15,
    "start_time": "2022-02-13T15:06:48.908Z"
   },
   {
    "duration": 6,
    "start_time": "2022-02-13T15:06:50.413Z"
   },
   {
    "duration": 6,
    "start_time": "2022-02-13T15:07:48.290Z"
   },
   {
    "duration": 13,
    "start_time": "2022-02-13T15:07:51.654Z"
   },
   {
    "duration": 5,
    "start_time": "2022-02-13T15:07:59.958Z"
   },
   {
    "duration": 18,
    "start_time": "2022-02-13T15:08:43.495Z"
   },
   {
    "duration": 126,
    "start_time": "2022-02-13T15:18:22.287Z"
   },
   {
    "duration": 25,
    "start_time": "2022-02-13T15:18:26.319Z"
   },
   {
    "duration": 6,
    "start_time": "2022-02-13T15:22:30.356Z"
   },
   {
    "duration": 6,
    "start_time": "2022-02-13T15:22:34.422Z"
   },
   {
    "duration": 10,
    "start_time": "2022-02-13T15:22:36.716Z"
   },
   {
    "duration": 6,
    "start_time": "2022-02-13T15:22:37.109Z"
   },
   {
    "duration": 18,
    "start_time": "2022-02-13T15:22:38.452Z"
   },
   {
    "duration": 16,
    "start_time": "2022-02-13T15:22:39.356Z"
   },
   {
    "duration": 42,
    "start_time": "2022-02-13T15:24:14.142Z"
   },
   {
    "duration": 40,
    "start_time": "2022-02-13T15:27:36.394Z"
   },
   {
    "duration": 21,
    "start_time": "2022-02-13T15:27:37.398Z"
   },
   {
    "duration": 23,
    "start_time": "2022-02-13T15:30:38.180Z"
   },
   {
    "duration": 19,
    "start_time": "2022-02-13T15:32:06.066Z"
   },
   {
    "duration": 242,
    "start_time": "2022-02-13T15:32:37.691Z"
   },
   {
    "duration": 5,
    "start_time": "2022-02-13T15:32:59.572Z"
   },
   {
    "duration": 4,
    "start_time": "2022-02-13T15:33:06.292Z"
   },
   {
    "duration": 245,
    "start_time": "2022-02-13T15:37:33.207Z"
   },
   {
    "duration": 4,
    "start_time": "2022-02-13T15:37:35.732Z"
   },
   {
    "duration": 12,
    "start_time": "2022-02-13T15:37:36.225Z"
   },
   {
    "duration": 13,
    "start_time": "2022-02-13T15:37:57.325Z"
   },
   {
    "duration": 19,
    "start_time": "2022-02-13T15:37:59.853Z"
   },
   {
    "duration": 7,
    "start_time": "2022-02-13T15:38:54.210Z"
   },
   {
    "duration": 7,
    "start_time": "2022-02-13T15:38:55.716Z"
   },
   {
    "duration": 14,
    "start_time": "2022-02-13T15:38:57.182Z"
   },
   {
    "duration": 5,
    "start_time": "2022-02-13T15:38:57.539Z"
   },
   {
    "duration": 40,
    "start_time": "2022-02-13T15:39:00.137Z"
   },
   {
    "duration": 15,
    "start_time": "2022-02-13T15:39:01.158Z"
   },
   {
    "duration": 4,
    "start_time": "2022-02-13T15:39:03.235Z"
   },
   {
    "duration": 22,
    "start_time": "2022-02-13T15:39:03.524Z"
   },
   {
    "duration": 18,
    "start_time": "2022-02-13T15:39:06.110Z"
   },
   {
    "duration": 31,
    "start_time": "2022-02-13T15:39:43.470Z"
   },
   {
    "duration": 6,
    "start_time": "2022-02-13T15:40:04.883Z"
   },
   {
    "duration": 6,
    "start_time": "2022-02-13T15:40:05.464Z"
   },
   {
    "duration": 11,
    "start_time": "2022-02-13T15:40:05.797Z"
   },
   {
    "duration": 5,
    "start_time": "2022-02-13T15:40:06.004Z"
   },
   {
    "duration": 44,
    "start_time": "2022-02-13T15:40:10.840Z"
   },
   {
    "duration": 17,
    "start_time": "2022-02-13T15:40:11.181Z"
   },
   {
    "duration": 4,
    "start_time": "2022-02-13T15:40:13.119Z"
   },
   {
    "duration": 30,
    "start_time": "2022-02-13T15:40:13.452Z"
   },
   {
    "duration": 3,
    "start_time": "2022-02-13T15:40:14.537Z"
   },
   {
    "duration": 51,
    "start_time": "2022-02-13T15:41:37.983Z"
   },
   {
    "duration": 5,
    "start_time": "2022-02-13T15:42:29.241Z"
   },
   {
    "duration": 190,
    "start_time": "2022-02-13T15:43:05.759Z"
   },
   {
    "duration": 443,
    "start_time": "2022-02-13T15:43:22.105Z"
   },
   {
    "duration": 124,
    "start_time": "2022-02-13T15:43:54.632Z"
   },
   {
    "duration": 259,
    "start_time": "2022-02-13T15:44:07.996Z"
   },
   {
    "duration": 8,
    "start_time": "2022-02-13T15:44:22.193Z"
   },
   {
    "duration": 192,
    "start_time": "2022-02-13T15:44:28.563Z"
   },
   {
    "duration": 174,
    "start_time": "2022-02-13T15:44:53.375Z"
   },
   {
    "duration": 5,
    "start_time": "2022-02-13T15:45:46.718Z"
   },
   {
    "duration": 6,
    "start_time": "2022-02-13T15:46:23.916Z"
   },
   {
    "duration": 475,
    "start_time": "2022-02-13T15:46:26.567Z"
   },
   {
    "duration": 11,
    "start_time": "2022-02-13T15:46:47.342Z"
   },
   {
    "duration": 6,
    "start_time": "2022-02-13T15:46:59.712Z"
   },
   {
    "duration": 349,
    "start_time": "2022-02-13T15:48:56.506Z"
   },
   {
    "duration": 6,
    "start_time": "2022-02-13T15:49:21.713Z"
   },
   {
    "duration": 6,
    "start_time": "2022-02-13T15:49:33.116Z"
   },
   {
    "duration": 370,
    "start_time": "2022-02-13T16:03:46.961Z"
   },
   {
    "duration": 6,
    "start_time": "2022-02-13T16:04:01.977Z"
   },
   {
    "duration": 7,
    "start_time": "2022-02-13T16:04:05.438Z"
   },
   {
    "duration": 3533,
    "start_time": "2022-02-13T16:04:42.848Z"
   },
   {
    "duration": 57,
    "start_time": "2022-02-13T16:08:06.666Z"
   },
   {
    "duration": 16,
    "start_time": "2022-02-13T16:08:07.926Z"
   },
   {
    "duration": 7,
    "start_time": "2022-02-13T16:08:08.583Z"
   },
   {
    "duration": 421596,
    "start_time": "2022-02-13T16:15:30.639Z"
   },
   {
    "duration": 377974,
    "start_time": "2022-02-13T16:23:04.262Z"
   },
   {
    "duration": 5,
    "start_time": "2022-02-13T16:30:21.258Z"
   },
   {
    "duration": 9,
    "start_time": "2022-02-13T16:30:31.919Z"
   },
   {
    "duration": 266,
    "start_time": "2022-02-13T16:31:01.807Z"
   },
   {
    "duration": 326,
    "start_time": "2022-02-13T16:31:10.579Z"
   },
   {
    "duration": 145100,
    "start_time": "2022-02-13T16:31:56.771Z"
   },
   {
    "duration": 110259,
    "start_time": "2022-02-13T16:35:42.105Z"
   },
   {
    "duration": 799,
    "start_time": "2022-02-13T16:41:17.214Z"
   },
   {
    "duration": 421,
    "start_time": "2022-02-13T16:41:32.614Z"
   },
   {
    "duration": 16,
    "start_time": "2022-02-13T16:41:53.230Z"
   },
   {
    "duration": 14,
    "start_time": "2022-02-13T16:42:02.604Z"
   },
   {
    "duration": 795,
    "start_time": "2022-02-13T16:42:42.564Z"
   },
   {
    "duration": 12,
    "start_time": "2022-02-13T16:42:44.434Z"
   },
   {
    "duration": 5,
    "start_time": "2022-02-13T16:42:46.159Z"
   },
   {
    "duration": 304,
    "start_time": "2022-02-13T16:42:53.000Z"
   },
   {
    "duration": 12,
    "start_time": "2022-02-13T16:42:54.219Z"
   },
   {
    "duration": 6,
    "start_time": "2022-02-13T16:42:54.531Z"
   },
   {
    "duration": 57,
    "start_time": "2022-02-13T16:47:54.817Z"
   },
   {
    "duration": 10,
    "start_time": "2022-02-13T16:47:57.339Z"
   },
   {
    "duration": 9,
    "start_time": "2022-02-13T16:48:02.807Z"
   },
   {
    "duration": 3072,
    "start_time": "2022-02-13T16:49:15.550Z"
   },
   {
    "duration": 52,
    "start_time": "2022-02-13T16:49:24.571Z"
   },
   {
    "duration": 9,
    "start_time": "2022-02-13T16:49:46.235Z"
   },
   {
    "duration": 41,
    "start_time": "2022-02-13T16:49:47.232Z"
   },
   {
    "duration": 8,
    "start_time": "2022-02-13T16:55:55.489Z"
   },
   {
    "duration": 11,
    "start_time": "2022-02-13T16:56:03.910Z"
   },
   {
    "duration": 325,
    "start_time": "2022-02-13T16:57:53.202Z"
   },
   {
    "duration": 6,
    "start_time": "2022-02-13T16:58:00.051Z"
   },
   {
    "duration": 253,
    "start_time": "2022-02-13T16:58:01.074Z"
   },
   {
    "duration": 7,
    "start_time": "2022-02-13T16:58:43.540Z"
   },
   {
    "duration": 495,
    "start_time": "2022-02-13T16:58:44.009Z"
   },
   {
    "duration": 6,
    "start_time": "2022-02-13T16:59:04.576Z"
   },
   {
    "duration": 21,
    "start_time": "2022-02-13T16:59:10.988Z"
   },
   {
    "duration": 9,
    "start_time": "2022-02-13T16:59:29.932Z"
   },
   {
    "duration": 41,
    "start_time": "2022-02-13T17:01:47.858Z"
   },
   {
    "duration": 50,
    "start_time": "2022-02-13T17:02:05.770Z"
   },
   {
    "duration": 7,
    "start_time": "2022-02-13T17:02:06.622Z"
   },
   {
    "duration": 15,
    "start_time": "2022-02-13T17:02:17.176Z"
   },
   {
    "duration": 5,
    "start_time": "2022-02-13T17:02:28.976Z"
   },
   {
    "duration": 50,
    "start_time": "2022-02-13T17:09:02.921Z"
   },
   {
    "duration": 12,
    "start_time": "2022-02-13T17:09:20.426Z"
   },
   {
    "duration": 7,
    "start_time": "2022-02-13T17:09:26.410Z"
   },
   {
    "duration": 48,
    "start_time": "2022-02-13T17:09:43.848Z"
   },
   {
    "duration": 11,
    "start_time": "2022-02-13T17:09:45.784Z"
   },
   {
    "duration": 6,
    "start_time": "2022-02-13T17:09:46.837Z"
   },
   {
    "duration": 246,
    "start_time": "2022-02-13T17:10:46.804Z"
   },
   {
    "duration": 12,
    "start_time": "2022-02-13T17:10:47.769Z"
   },
   {
    "duration": 5,
    "start_time": "2022-02-13T17:10:48.415Z"
   },
   {
    "duration": 48,
    "start_time": "2022-02-13T17:11:05.726Z"
   },
   {
    "duration": 11,
    "start_time": "2022-02-13T17:11:06.261Z"
   },
   {
    "duration": 6,
    "start_time": "2022-02-13T17:11:06.688Z"
   },
   {
    "duration": 418,
    "start_time": "2022-02-13T17:11:58.756Z"
   },
   {
    "duration": 13,
    "start_time": "2022-02-13T17:12:00.173Z"
   },
   {
    "duration": 6,
    "start_time": "2022-02-13T17:12:00.841Z"
   },
   {
    "duration": 13,
    "start_time": "2022-02-13T17:12:18.129Z"
   },
   {
    "duration": 14,
    "start_time": "2022-02-13T17:12:26.926Z"
   },
   {
    "duration": 26,
    "start_time": "2022-02-13T17:13:53.755Z"
   },
   {
    "duration": 13,
    "start_time": "2022-02-13T17:13:54.271Z"
   },
   {
    "duration": 1644,
    "start_time": "2022-02-14T15:17:34.081Z"
   },
   {
    "duration": 34,
    "start_time": "2022-02-14T15:17:35.728Z"
   },
   {
    "duration": 24,
    "start_time": "2022-02-14T15:17:35.765Z"
   },
   {
    "duration": 16,
    "start_time": "2022-02-14T15:17:35.793Z"
   },
   {
    "duration": 47,
    "start_time": "2022-02-14T15:17:35.813Z"
   },
   {
    "duration": 35,
    "start_time": "2022-02-14T15:17:35.863Z"
   },
   {
    "duration": 9,
    "start_time": "2022-02-14T15:17:35.901Z"
   },
   {
    "duration": 18,
    "start_time": "2022-02-14T15:17:35.949Z"
   },
   {
    "duration": 8,
    "start_time": "2022-02-14T15:17:35.971Z"
   },
   {
    "duration": 13,
    "start_time": "2022-02-14T15:17:35.981Z"
   },
   {
    "duration": 86,
    "start_time": "2022-02-14T15:17:35.997Z"
   },
   {
    "duration": 1254,
    "start_time": "2022-02-14T15:17:36.085Z"
   },
   {
    "duration": 30,
    "start_time": "2022-02-14T15:17:37.350Z"
   },
   {
    "duration": 24,
    "start_time": "2022-02-14T15:17:37.383Z"
   },
   {
    "duration": 5,
    "start_time": "2022-02-14T15:17:37.409Z"
   },
   {
    "duration": 33,
    "start_time": "2022-02-14T15:17:37.416Z"
   },
   {
    "duration": 11,
    "start_time": "2022-02-14T15:17:37.452Z"
   },
   {
    "duration": 6,
    "start_time": "2022-02-14T15:17:37.465Z"
   },
   {
    "duration": 7,
    "start_time": "2022-02-14T15:17:37.473Z"
   },
   {
    "duration": 16,
    "start_time": "2022-02-14T15:17:37.483Z"
   },
   {
    "duration": 48,
    "start_time": "2022-02-14T15:17:37.502Z"
   },
   {
    "duration": 39,
    "start_time": "2022-02-14T15:17:37.552Z"
   },
   {
    "duration": 14,
    "start_time": "2022-02-14T15:17:37.598Z"
   },
   {
    "duration": 3,
    "start_time": "2022-02-14T15:17:37.615Z"
   },
   {
    "duration": 59,
    "start_time": "2022-02-14T15:17:37.620Z"
   },
   {
    "duration": 566,
    "start_time": "2022-02-14T15:17:37.683Z"
   },
   {
    "duration": 99,
    "start_time": "2022-02-14T15:17:38.252Z"
   },
   {
    "duration": 111,
    "start_time": "2022-02-14T15:17:38.355Z"
   },
   {
    "duration": 3791,
    "start_time": "2022-02-14T15:17:38.468Z"
   },
   {
    "duration": 39,
    "start_time": "2022-02-14T15:17:42.261Z"
   },
   {
    "duration": 15,
    "start_time": "2022-02-14T15:17:42.303Z"
   },
   {
    "duration": 34195,
    "start_time": "2022-02-14T15:17:42.348Z"
   },
   {
    "duration": 49,
    "start_time": "2022-02-14T15:18:16.497Z"
   },
   {
    "duration": 49,
    "start_time": "2022-02-14T15:18:16.498Z"
   },
   {
    "duration": 50,
    "start_time": "2022-02-14T15:18:16.499Z"
   },
   {
    "duration": 50,
    "start_time": "2022-02-14T15:18:16.501Z"
   },
   {
    "duration": 51,
    "start_time": "2022-02-14T15:18:16.502Z"
   },
   {
    "duration": 53,
    "start_time": "2022-02-14T15:18:16.503Z"
   },
   {
    "duration": 55,
    "start_time": "2022-02-14T15:18:16.503Z"
   },
   {
    "duration": 56,
    "start_time": "2022-02-14T15:18:16.504Z"
   },
   {
    "duration": 57,
    "start_time": "2022-02-14T15:18:16.505Z"
   },
   {
    "duration": 54,
    "start_time": "2022-02-14T15:18:16.510Z"
   },
   {
    "duration": 55,
    "start_time": "2022-02-14T15:18:16.512Z"
   },
   {
    "duration": 55,
    "start_time": "2022-02-14T15:18:16.514Z"
   },
   {
    "duration": 55,
    "start_time": "2022-02-14T15:18:16.516Z"
   },
   {
    "duration": 42,
    "start_time": "2022-02-14T15:18:16.532Z"
   },
   {
    "duration": 294,
    "start_time": "2022-02-14T15:18:22.357Z"
   },
   {
    "duration": 16,
    "start_time": "2022-02-14T15:18:22.653Z"
   },
   {
    "duration": 9,
    "start_time": "2022-02-14T15:18:22.673Z"
   },
   {
    "duration": 7,
    "start_time": "2022-02-14T15:18:22.686Z"
   },
   {
    "duration": 59,
    "start_time": "2022-02-14T15:18:22.695Z"
   },
   {
    "duration": 10,
    "start_time": "2022-02-14T15:18:22.757Z"
   },
   {
    "duration": 182,
    "start_time": "2022-02-14T15:18:22.770Z"
   },
   {
    "duration": 196,
    "start_time": "2022-02-14T15:18:22.955Z"
   },
   {
    "duration": 50,
    "start_time": "2022-02-14T15:18:23.156Z"
   },
   {
    "duration": 13,
    "start_time": "2022-02-14T15:18:23.209Z"
   },
   {
    "duration": 421,
    "start_time": "2022-02-14T15:18:23.249Z"
   },
   {
    "duration": 12,
    "start_time": "2022-02-14T15:18:23.673Z"
   },
   {
    "duration": 21,
    "start_time": "2022-02-14T15:18:23.688Z"
   },
   {
    "duration": 38,
    "start_time": "2022-02-14T15:18:23.711Z"
   },
   {
    "duration": 1336,
    "start_time": "2022-02-14T15:21:39.092Z"
   },
   {
    "duration": 12,
    "start_time": "2022-02-14T15:21:41.637Z"
   },
   {
    "duration": 91,
    "start_time": "2022-02-14T15:21:42.513Z"
   },
   {
    "duration": 14,
    "start_time": "2022-02-14T15:21:43.201Z"
   },
   {
    "duration": 180,
    "start_time": "2022-02-14T15:22:59.878Z"
   },
   {
    "duration": 252,
    "start_time": "2022-02-14T15:23:12.609Z"
   },
   {
    "duration": 30,
    "start_time": "2022-02-14T15:23:57.896Z"
   },
   {
    "duration": 6,
    "start_time": "2022-02-14T15:24:35.995Z"
   },
   {
    "duration": 334,
    "start_time": "2022-02-14T15:24:54.449Z"
   },
   {
    "duration": 64,
    "start_time": "2022-02-14T15:25:22.911Z"
   },
   {
    "duration": 67,
    "start_time": "2022-02-14T15:26:49.474Z"
   },
   {
    "duration": 328,
    "start_time": "2022-02-14T15:27:49.647Z"
   },
   {
    "duration": 28,
    "start_time": "2022-02-14T15:27:57.338Z"
   },
   {
    "duration": 76,
    "start_time": "2022-02-14T15:28:02.560Z"
   },
   {
    "duration": 922,
    "start_time": "2022-02-14T15:28:20.015Z"
   },
   {
    "duration": 56,
    "start_time": "2022-02-14T15:28:21.588Z"
   },
   {
    "duration": 69,
    "start_time": "2022-02-14T15:28:22.384Z"
   },
   {
    "duration": 790,
    "start_time": "2022-02-14T15:28:30.516Z"
   },
   {
    "duration": 47,
    "start_time": "2022-02-14T15:28:31.818Z"
   },
   {
    "duration": 76,
    "start_time": "2022-02-14T15:28:32.286Z"
   },
   {
    "duration": 163,
    "start_time": "2022-02-14T15:29:28.719Z"
   },
   {
    "duration": 10598,
    "start_time": "2022-02-14T15:29:38.989Z"
   },
   {
    "duration": 509,
    "start_time": "2022-02-14T15:29:51.388Z"
   },
   {
    "duration": 142,
    "start_time": "2022-02-14T15:29:52.444Z"
   },
   {
    "duration": 292,
    "start_time": "2022-02-14T15:30:00.496Z"
   },
   {
    "duration": 25,
    "start_time": "2022-02-14T15:30:02.415Z"
   },
   {
    "duration": 140,
    "start_time": "2022-02-14T15:30:03.255Z"
   },
   {
    "duration": 42,
    "start_time": "2022-02-14T15:31:09.033Z"
   },
   {
    "duration": 7,
    "start_time": "2022-02-14T15:31:09.587Z"
   },
   {
    "duration": 137,
    "start_time": "2022-02-14T15:31:10.083Z"
   },
   {
    "duration": 288,
    "start_time": "2022-02-14T15:31:14.463Z"
   },
   {
    "duration": 22,
    "start_time": "2022-02-14T15:31:15.091Z"
   },
   {
    "duration": 135,
    "start_time": "2022-02-14T15:31:15.564Z"
   },
   {
    "duration": 298,
    "start_time": "2022-02-14T15:31:20.491Z"
   },
   {
    "duration": 23,
    "start_time": "2022-02-14T15:31:22.141Z"
   },
   {
    "duration": 135,
    "start_time": "2022-02-14T15:31:24.796Z"
   },
   {
    "duration": 6,
    "start_time": "2022-02-14T15:33:04.305Z"
   },
   {
    "duration": 22,
    "start_time": "2022-02-14T15:33:09.902Z"
   },
   {
    "duration": 4558,
    "start_time": "2022-02-14T15:33:52.414Z"
   },
   {
    "duration": 1274,
    "start_time": "2022-02-14T15:34:16.962Z"
   },
   {
    "duration": 19,
    "start_time": "2022-02-14T15:34:18.927Z"
   },
   {
    "duration": 56,
    "start_time": "2022-02-14T15:34:20.279Z"
   },
   {
    "duration": 13,
    "start_time": "2022-02-14T15:34:20.951Z"
   },
   {
    "duration": 1363,
    "start_time": "2022-02-14T15:34:29.158Z"
   },
   {
    "duration": 14,
    "start_time": "2022-02-14T15:34:31.123Z"
   },
   {
    "duration": 59,
    "start_time": "2022-02-14T15:34:31.904Z"
   },
   {
    "duration": 14,
    "start_time": "2022-02-14T15:34:32.504Z"
   },
   {
    "duration": 1369,
    "start_time": "2022-02-14T15:34:40.992Z"
   },
   {
    "duration": 13,
    "start_time": "2022-02-14T15:34:42.851Z"
   },
   {
    "duration": 60,
    "start_time": "2022-02-14T15:34:43.717Z"
   },
   {
    "duration": 13,
    "start_time": "2022-02-14T15:34:44.363Z"
   },
   {
    "duration": 1347,
    "start_time": "2022-02-14T15:34:49.767Z"
   },
   {
    "duration": 13,
    "start_time": "2022-02-14T15:34:51.117Z"
   },
   {
    "duration": 61,
    "start_time": "2022-02-14T15:34:51.148Z"
   },
   {
    "duration": 13,
    "start_time": "2022-02-14T15:34:51.211Z"
   },
   {
    "duration": 1361,
    "start_time": "2022-02-14T15:34:59.342Z"
   },
   {
    "duration": 13,
    "start_time": "2022-02-14T15:35:01.064Z"
   },
   {
    "duration": 53,
    "start_time": "2022-02-14T15:35:01.600Z"
   },
   {
    "duration": 16,
    "start_time": "2022-02-14T15:35:02.005Z"
   },
   {
    "duration": 44145,
    "start_time": "2022-02-14T15:35:20.686Z"
   },
   {
    "duration": 288,
    "start_time": "2022-02-14T15:37:24.771Z"
   },
   {
    "duration": 15,
    "start_time": "2022-02-14T15:37:25.143Z"
   },
   {
    "duration": 1342,
    "start_time": "2022-02-14T15:37:38.348Z"
   },
   {
    "duration": 13,
    "start_time": "2022-02-14T15:37:39.693Z"
   },
   {
    "duration": 59,
    "start_time": "2022-02-14T15:37:40.747Z"
   },
   {
    "duration": 14,
    "start_time": "2022-02-14T15:37:41.095Z"
   },
   {
    "duration": 7,
    "start_time": "2022-02-14T15:37:54.066Z"
   },
   {
    "duration": 253497,
    "start_time": "2022-02-14T15:38:45.896Z"
   },
   {
    "duration": 745,
    "start_time": "2022-02-14T15:43:13.769Z"
   },
   {
    "duration": 13,
    "start_time": "2022-02-14T15:43:15.885Z"
   },
   {
    "duration": 1130,
    "start_time": "2022-02-14T15:43:31.155Z"
   },
   {
    "duration": 14,
    "start_time": "2022-02-14T15:43:32.858Z"
   },
   {
    "duration": 51,
    "start_time": "2022-02-14T15:43:33.662Z"
   },
   {
    "duration": 15,
    "start_time": "2022-02-14T15:43:33.969Z"
   },
   {
    "duration": 752,
    "start_time": "2022-02-14T15:44:24.312Z"
   },
   {
    "duration": 47,
    "start_time": "2022-02-14T15:44:25.739Z"
   },
   {
    "duration": 156,
    "start_time": "2022-02-14T15:44:27.120Z"
   },
   {
    "duration": 35,
    "start_time": "2022-02-14T15:53:26.178Z"
   },
   {
    "duration": 382,
    "start_time": "2022-02-14T15:54:40.271Z"
   },
   {
    "duration": 8,
    "start_time": "2022-02-14T15:55:25.795Z"
   },
   {
    "duration": 8,
    "start_time": "2022-02-14T15:55:29.113Z"
   },
   {
    "duration": 7,
    "start_time": "2022-02-14T15:55:46.507Z"
   },
   {
    "duration": 941,
    "start_time": "2022-02-14T15:56:12.372Z"
   },
   {
    "duration": 934,
    "start_time": "2022-02-14T15:56:24.161Z"
   },
   {
    "duration": 47,
    "start_time": "2022-02-14T15:57:16.222Z"
   },
   {
    "duration": 14,
    "start_time": "2022-02-14T15:57:16.930Z"
   },
   {
    "duration": 17,
    "start_time": "2022-02-14T15:59:59.546Z"
   },
   {
    "duration": 12,
    "start_time": "2022-02-14T16:01:05.801Z"
   },
   {
    "duration": 971,
    "start_time": "2022-02-14T16:01:08.926Z"
   },
   {
    "duration": 51,
    "start_time": "2022-02-14T16:01:10.731Z"
   },
   {
    "duration": 14,
    "start_time": "2022-02-14T16:01:11.812Z"
   },
   {
    "duration": 16,
    "start_time": "2022-02-14T16:01:38.822Z"
   },
   {
    "duration": 8,
    "start_time": "2022-02-14T16:01:40.537Z"
   },
   {
    "duration": 938,
    "start_time": "2022-02-14T16:01:42.029Z"
   },
   {
    "duration": 47,
    "start_time": "2022-02-14T16:01:44.251Z"
   },
   {
    "duration": 12,
    "start_time": "2022-02-14T16:01:45.548Z"
   },
   {
    "duration": 6,
    "start_time": "2022-02-14T16:01:56.704Z"
   },
   {
    "duration": 239,
    "start_time": "2022-02-14T16:02:00.336Z"
   },
   {
    "duration": 8,
    "start_time": "2022-02-14T16:02:43.912Z"
   },
   {
    "duration": 8,
    "start_time": "2022-02-14T16:02:49.254Z"
   },
   {
    "duration": 6,
    "start_time": "2022-02-14T16:03:37.502Z"
   },
   {
    "duration": 948,
    "start_time": "2022-02-14T16:04:30.645Z"
   },
   {
    "duration": 7,
    "start_time": "2022-02-14T16:04:32.580Z"
   },
   {
    "duration": 49,
    "start_time": "2022-02-14T16:04:36.756Z"
   },
   {
    "duration": 388,
    "start_time": "2022-02-14T16:04:37.772Z"
   },
   {
    "duration": 14,
    "start_time": "2022-02-14T16:04:42.696Z"
   },
   {
    "duration": 1170,
    "start_time": "2022-02-14T16:05:13.802Z"
   },
   {
    "duration": 6,
    "start_time": "2022-02-14T16:05:15.662Z"
   },
   {
    "duration": 59,
    "start_time": "2022-02-14T16:05:16.469Z"
   },
   {
    "duration": 15,
    "start_time": "2022-02-14T16:05:17.431Z"
   },
   {
    "duration": 1346,
    "start_time": "2022-02-14T16:06:09.120Z"
   },
   {
    "duration": 6,
    "start_time": "2022-02-14T16:06:11.249Z"
   },
   {
    "duration": 69,
    "start_time": "2022-02-14T16:06:12.000Z"
   },
   {
    "duration": 14,
    "start_time": "2022-02-14T16:06:12.099Z"
   },
   {
    "duration": 60,
    "start_time": "2022-02-14T16:07:14.430Z"
   },
   {
    "duration": 13,
    "start_time": "2022-02-14T16:07:15.073Z"
   },
   {
    "duration": 1105,
    "start_time": "2022-02-14T16:07:30.658Z"
   },
   {
    "duration": 7,
    "start_time": "2022-02-14T16:07:32.275Z"
   },
   {
    "duration": 51,
    "start_time": "2022-02-14T16:07:32.665Z"
   },
   {
    "duration": 15,
    "start_time": "2022-02-14T16:07:32.891Z"
   },
   {
    "duration": 47,
    "start_time": "2022-02-14T16:07:33.082Z"
   },
   {
    "duration": 13,
    "start_time": "2022-02-14T16:07:33.299Z"
   },
   {
    "duration": 1149,
    "start_time": "2022-02-14T16:08:59.948Z"
   },
   {
    "duration": 6,
    "start_time": "2022-02-14T16:09:01.705Z"
   },
   {
    "duration": 48,
    "start_time": "2022-02-14T16:09:02.330Z"
   },
   {
    "duration": 14,
    "start_time": "2022-02-14T16:09:02.771Z"
   },
   {
    "duration": 6,
    "start_time": "2022-02-14T16:10:38.635Z"
   },
   {
    "duration": 381,
    "start_time": "2022-02-14T16:11:18.501Z"
   },
   {
    "duration": 300,
    "start_time": "2022-02-14T16:11:40.858Z"
   },
   {
    "duration": 403,
    "start_time": "2022-02-14T16:12:31.552Z"
   },
   {
    "duration": 475,
    "start_time": "2022-02-14T16:12:42.759Z"
   },
   {
    "duration": 277,
    "start_time": "2022-02-14T16:14:30.709Z"
   },
   {
    "duration": 8,
    "start_time": "2022-02-14T16:14:44.312Z"
   },
   {
    "duration": 232,
    "start_time": "2022-02-14T16:14:53.026Z"
   },
   {
    "duration": 8,
    "start_time": "2022-02-14T16:15:00.181Z"
   },
   {
    "duration": 1597,
    "start_time": "2022-02-14T18:19:02.621Z"
   },
   {
    "duration": 36,
    "start_time": "2022-02-14T18:19:04.221Z"
   },
   {
    "duration": 21,
    "start_time": "2022-02-14T18:19:04.260Z"
   },
   {
    "duration": 14,
    "start_time": "2022-02-14T18:19:04.284Z"
   },
   {
    "duration": 12,
    "start_time": "2022-02-14T18:19:04.300Z"
   },
   {
    "duration": 67,
    "start_time": "2022-02-14T18:19:04.314Z"
   },
   {
    "duration": 9,
    "start_time": "2022-02-14T18:19:04.384Z"
   },
   {
    "duration": 17,
    "start_time": "2022-02-14T18:19:04.395Z"
   },
   {
    "duration": 10,
    "start_time": "2022-02-14T18:19:04.447Z"
   },
   {
    "duration": 9,
    "start_time": "2022-02-14T18:19:04.460Z"
   },
   {
    "duration": 83,
    "start_time": "2022-02-14T18:19:04.472Z"
   },
   {
    "duration": 1161,
    "start_time": "2022-02-14T18:19:04.558Z"
   },
   {
    "duration": 39,
    "start_time": "2022-02-14T18:19:05.721Z"
   },
   {
    "duration": 26,
    "start_time": "2022-02-14T18:19:05.763Z"
   },
   {
    "duration": 5,
    "start_time": "2022-02-14T18:19:05.792Z"
   },
   {
    "duration": 21,
    "start_time": "2022-02-14T18:19:05.799Z"
   },
   {
    "duration": 30,
    "start_time": "2022-02-14T18:19:05.823Z"
   },
   {
    "duration": 6,
    "start_time": "2022-02-14T18:19:05.855Z"
   },
   {
    "duration": 15,
    "start_time": "2022-02-14T18:19:05.863Z"
   },
   {
    "duration": 16,
    "start_time": "2022-02-14T18:19:05.880Z"
   },
   {
    "duration": 3,
    "start_time": "2022-02-14T18:19:05.899Z"
   },
   {
    "duration": 67,
    "start_time": "2022-02-14T18:19:05.906Z"
   },
   {
    "duration": 15,
    "start_time": "2022-02-14T18:19:05.976Z"
   },
   {
    "duration": 13,
    "start_time": "2022-02-14T18:19:05.994Z"
   },
   {
    "duration": 54,
    "start_time": "2022-02-14T18:19:06.010Z"
   },
   {
    "duration": 286,
    "start_time": "2022-02-14T18:19:06.066Z"
   },
   {
    "duration": 19,
    "start_time": "2022-02-14T18:19:06.449Z"
   },
   {
    "duration": 102,
    "start_time": "2022-02-14T18:19:06.551Z"
   },
   {
    "duration": 3736,
    "start_time": "2022-02-14T18:19:06.656Z"
   },
   {
    "duration": 38,
    "start_time": "2022-02-14T18:19:10.394Z"
   },
   {
    "duration": 13,
    "start_time": "2022-02-14T18:19:10.449Z"
   },
   {
    "duration": 276434,
    "start_time": "2022-02-14T18:19:10.464Z"
   },
   {
    "duration": 833,
    "start_time": "2022-02-14T18:23:46.900Z"
   },
   {
    "duration": 17,
    "start_time": "2022-02-14T18:23:47.736Z"
   },
   {
    "duration": 12,
    "start_time": "2022-02-14T18:23:47.756Z"
   },
   {
    "duration": 8,
    "start_time": "2022-02-14T18:23:47.771Z"
   },
   {
    "duration": 24,
    "start_time": "2022-02-14T18:23:47.781Z"
   },
   {
    "duration": 43,
    "start_time": "2022-02-14T18:23:47.807Z"
   },
   {
    "duration": 197,
    "start_time": "2022-02-14T18:23:47.853Z"
   },
   {
    "duration": 115,
    "start_time": "2022-02-14T18:23:48.053Z"
   },
   {
    "duration": 52,
    "start_time": "2022-02-14T18:23:48.250Z"
   },
   {
    "duration": 14,
    "start_time": "2022-02-14T18:23:48.304Z"
   },
   {
    "duration": 1236,
    "start_time": "2022-02-14T18:23:48.320Z"
   },
   {
    "duration": 18,
    "start_time": "2022-02-14T18:23:49.560Z"
   },
   {
    "duration": 45,
    "start_time": "2022-02-14T18:23:49.580Z"
   },
   {
    "duration": 37,
    "start_time": "2022-02-14T18:23:49.627Z"
   },
   {
    "duration": 811,
    "start_time": "2022-02-14T18:23:49.668Z"
   },
   {
    "duration": 52,
    "start_time": "2022-02-14T18:23:50.482Z"
   },
   {
    "duration": 159,
    "start_time": "2022-02-14T18:23:50.548Z"
   },
   {
    "duration": 53,
    "start_time": "2022-02-14T18:23:50.710Z"
   },
   {
    "duration": 1177,
    "start_time": "2022-02-14T18:23:50.765Z"
   },
   {
    "duration": 8,
    "start_time": "2022-02-14T18:23:51.945Z"
   },
   {
    "duration": 66,
    "start_time": "2022-02-14T18:23:51.956Z"
   },
   {
    "duration": 26,
    "start_time": "2022-02-14T18:23:52.024Z"
   },
   {
    "duration": 534,
    "start_time": "2022-02-14T18:23:52.053Z"
   },
   {
    "duration": 8,
    "start_time": "2022-02-14T18:23:52.589Z"
   },
   {
    "duration": 379,
    "start_time": "2022-02-14T19:24:58.675Z"
   },
   {
    "duration": 19,
    "start_time": "2022-02-14T19:25:00.006Z"
   },
   {
    "duration": 47,
    "start_time": "2022-02-14T19:25:01.102Z"
   },
   {
    "duration": 53,
    "start_time": "2022-02-14T19:25:30.920Z"
   },
   {
    "duration": 14,
    "start_time": "2022-02-14T19:25:32.313Z"
   },
   {
    "duration": 11,
    "start_time": "2022-02-14T19:25:33.155Z"
   },
   {
    "duration": 11,
    "start_time": "2022-02-14T19:26:03.291Z"
   },
   {
    "duration": 12,
    "start_time": "2022-02-14T19:26:37.112Z"
   },
   {
    "duration": 359,
    "start_time": "2022-02-14T19:26:47.598Z"
   },
   {
    "duration": 14,
    "start_time": "2022-02-14T19:26:48.501Z"
   },
   {
    "duration": 15,
    "start_time": "2022-02-14T19:26:49.128Z"
   },
   {
    "duration": 49,
    "start_time": "2022-02-14T19:26:52.022Z"
   },
   {
    "duration": 17,
    "start_time": "2022-02-14T19:26:52.246Z"
   },
   {
    "duration": 11,
    "start_time": "2022-02-14T19:26:52.719Z"
   },
   {
    "duration": 1085,
    "start_time": "2022-02-14T19:27:09.745Z"
   },
   {
    "duration": 21,
    "start_time": "2022-02-14T19:27:10.832Z"
   },
   {
    "duration": 47,
    "start_time": "2022-02-14T19:27:11.723Z"
   },
   {
    "duration": 13,
    "start_time": "2022-02-14T19:27:12.024Z"
   },
   {
    "duration": 52,
    "start_time": "2022-02-14T19:27:12.573Z"
   },
   {
    "duration": 9,
    "start_time": "2022-02-14T19:27:41.351Z"
   },
   {
    "duration": 764,
    "start_time": "2022-02-14T19:27:59.319Z"
   },
   {
    "duration": 64,
    "start_time": "2022-02-14T19:28:00.514Z"
   },
   {
    "duration": 360,
    "start_time": "2022-02-14T19:28:01.266Z"
   },
   {
    "duration": 1056,
    "start_time": "2022-02-14T19:37:27.369Z"
   },
   {
    "duration": 6,
    "start_time": "2022-02-14T19:37:29.468Z"
   },
   {
    "duration": 60,
    "start_time": "2022-02-14T19:37:32.614Z"
   },
   {
    "duration": 14,
    "start_time": "2022-02-14T19:37:33.766Z"
   },
   {
    "duration": 531,
    "start_time": "2022-02-14T19:37:35.370Z"
   },
   {
    "duration": 9,
    "start_time": "2022-02-14T19:37:36.614Z"
   },
   {
    "duration": 47,
    "start_time": "2022-02-14T19:37:47.685Z"
   },
   {
    "duration": 80,
    "start_time": "2022-02-14T19:38:28.393Z"
   },
   {
    "duration": 14,
    "start_time": "2022-02-14T19:38:35.134Z"
   },
   {
    "duration": 14,
    "start_time": "2022-02-14T19:39:29.862Z"
   },
   {
    "duration": 557,
    "start_time": "2022-02-14T19:41:08.503Z"
   },
   {
    "duration": 420,
    "start_time": "2022-02-14T19:41:32.864Z"
   },
   {
    "duration": 445,
    "start_time": "2022-02-14T19:42:04.845Z"
   },
   {
    "duration": 8,
    "start_time": "2022-02-14T19:42:42.285Z"
   },
   {
    "duration": 639,
    "start_time": "2022-02-14T20:00:15.732Z"
   },
   {
    "duration": 9,
    "start_time": "2022-02-14T20:00:27.399Z"
   },
   {
    "duration": 1570,
    "start_time": "2022-02-14T20:02:40.915Z"
   },
   {
    "duration": 33,
    "start_time": "2022-02-14T20:02:42.487Z"
   },
   {
    "duration": 31,
    "start_time": "2022-02-14T20:02:42.523Z"
   },
   {
    "duration": 12,
    "start_time": "2022-02-14T20:02:42.557Z"
   },
   {
    "duration": 10,
    "start_time": "2022-02-14T20:02:42.572Z"
   },
   {
    "duration": 70,
    "start_time": "2022-02-14T20:02:42.585Z"
   },
   {
    "duration": 10,
    "start_time": "2022-02-14T20:02:42.657Z"
   },
   {
    "duration": 16,
    "start_time": "2022-02-14T20:02:42.669Z"
   },
   {
    "duration": 8,
    "start_time": "2022-02-14T20:02:42.689Z"
   },
   {
    "duration": 48,
    "start_time": "2022-02-14T20:02:42.700Z"
   },
   {
    "duration": 59,
    "start_time": "2022-02-14T20:02:42.751Z"
   },
   {
    "duration": 1209,
    "start_time": "2022-02-14T20:02:42.812Z"
   },
   {
    "duration": 38,
    "start_time": "2022-02-14T20:02:44.023Z"
   },
   {
    "duration": 26,
    "start_time": "2022-02-14T20:02:44.063Z"
   },
   {
    "duration": 5,
    "start_time": "2022-02-14T20:02:44.092Z"
   },
   {
    "duration": 8,
    "start_time": "2022-02-14T20:02:44.099Z"
   },
   {
    "duration": 46,
    "start_time": "2022-02-14T20:02:44.109Z"
   },
   {
    "duration": 6,
    "start_time": "2022-02-14T20:02:44.157Z"
   },
   {
    "duration": 6,
    "start_time": "2022-02-14T20:02:44.166Z"
   },
   {
    "duration": 17,
    "start_time": "2022-02-14T20:02:44.175Z"
   },
   {
    "duration": 7,
    "start_time": "2022-02-14T20:02:44.194Z"
   },
   {
    "duration": 76,
    "start_time": "2022-02-14T20:02:44.204Z"
   },
   {
    "duration": 15,
    "start_time": "2022-02-14T20:02:44.283Z"
   },
   {
    "duration": 3,
    "start_time": "2022-02-14T20:02:44.301Z"
   },
   {
    "duration": 59,
    "start_time": "2022-02-14T20:02:44.306Z"
   },
   {
    "duration": 285,
    "start_time": "2022-02-14T20:02:44.368Z"
   },
   {
    "duration": 8,
    "start_time": "2022-02-14T20:02:44.751Z"
   },
   {
    "duration": 199,
    "start_time": "2022-02-14T20:02:44.763Z"
   },
   {
    "duration": 3720,
    "start_time": "2022-02-14T20:02:44.965Z"
   },
   {
    "duration": 36,
    "start_time": "2022-02-14T20:02:48.687Z"
   },
   {
    "duration": 29,
    "start_time": "2022-02-14T20:02:48.725Z"
   },
   {
    "duration": 254420,
    "start_time": "2022-02-14T20:02:48.756Z"
   },
   {
    "duration": 787,
    "start_time": "2022-02-14T20:07:03.179Z"
   },
   {
    "duration": 17,
    "start_time": "2022-02-14T20:07:03.970Z"
   },
   {
    "duration": 12,
    "start_time": "2022-02-14T20:07:03.990Z"
   },
   {
    "duration": 12,
    "start_time": "2022-02-14T20:07:04.004Z"
   },
   {
    "duration": 52,
    "start_time": "2022-02-14T20:07:04.018Z"
   },
   {
    "duration": 10,
    "start_time": "2022-02-14T20:07:04.073Z"
   },
   {
    "duration": 367,
    "start_time": "2022-02-14T20:07:04.086Z"
   },
   {
    "duration": 99,
    "start_time": "2022-02-14T20:07:04.456Z"
   },
   {
    "duration": 191,
    "start_time": "2022-02-14T20:07:04.557Z"
   },
   {
    "duration": 139,
    "start_time": "2022-02-14T20:07:04.752Z"
   },
   {
    "duration": 16,
    "start_time": "2022-02-14T20:07:04.894Z"
   },
   {
    "duration": 44,
    "start_time": "2022-02-14T20:07:04.913Z"
   },
   {
    "duration": 1082,
    "start_time": "2022-02-14T20:07:04.960Z"
   },
   {
    "duration": 17,
    "start_time": "2022-02-14T20:07:06.044Z"
   },
   {
    "duration": 46,
    "start_time": "2022-02-14T20:07:06.064Z"
   },
   {
    "duration": 41,
    "start_time": "2022-02-14T20:07:06.113Z"
   },
   {
    "duration": 52,
    "start_time": "2022-02-14T20:07:06.156Z"
   },
   {
    "duration": 784,
    "start_time": "2022-02-14T20:07:06.211Z"
   },
   {
    "duration": 59,
    "start_time": "2022-02-14T20:07:06.998Z"
   },
   {
    "duration": 352,
    "start_time": "2022-02-14T20:07:07.060Z"
   },
   {
    "duration": 1034,
    "start_time": "2022-02-14T20:07:07.415Z"
   },
   {
    "duration": 45,
    "start_time": "2022-02-14T20:07:08.452Z"
   },
   {
    "duration": 13,
    "start_time": "2022-02-14T20:07:08.499Z"
   },
   {
    "duration": 511,
    "start_time": "2022-02-14T20:07:08.514Z"
   },
   {
    "duration": 22,
    "start_time": "2022-02-14T20:07:09.027Z"
   },
   {
    "duration": 48,
    "start_time": "2022-02-14T20:07:09.052Z"
   },
   {
    "duration": 16,
    "start_time": "2022-02-14T20:07:09.103Z"
   },
   {
    "duration": 465,
    "start_time": "2022-02-14T20:07:09.121Z"
   },
   {
    "duration": 7,
    "start_time": "2022-02-14T20:07:09.588Z"
   },
   {
    "duration": 1218,
    "start_time": "2022-02-17T20:57:37.767Z"
   },
   {
    "duration": 29,
    "start_time": "2022-02-17T20:57:38.987Z"
   },
   {
    "duration": 14,
    "start_time": "2022-02-17T20:57:39.018Z"
   },
   {
    "duration": 8,
    "start_time": "2022-02-17T20:57:39.034Z"
   },
   {
    "duration": 10,
    "start_time": "2022-02-17T20:57:39.043Z"
   },
   {
    "duration": 19,
    "start_time": "2022-02-17T20:57:39.054Z"
   },
   {
    "duration": 6,
    "start_time": "2022-02-17T20:57:39.074Z"
   },
   {
    "duration": 9,
    "start_time": "2022-02-17T20:57:39.082Z"
   },
   {
    "duration": 6,
    "start_time": "2022-02-17T20:57:39.132Z"
   },
   {
    "duration": 5,
    "start_time": "2022-02-17T20:57:39.140Z"
   },
   {
    "duration": 32,
    "start_time": "2022-02-17T20:57:39.147Z"
   },
   {
    "duration": 815,
    "start_time": "2022-02-17T20:57:39.181Z"
   },
   {
    "duration": 15,
    "start_time": "2022-02-17T20:57:39.997Z"
   },
   {
    "duration": 28,
    "start_time": "2022-02-17T20:57:40.014Z"
   },
   {
    "duration": 4,
    "start_time": "2022-02-17T20:57:40.044Z"
   },
   {
    "duration": 11,
    "start_time": "2022-02-17T20:57:40.049Z"
   },
   {
    "duration": 29,
    "start_time": "2022-02-17T20:57:40.062Z"
   },
   {
    "duration": 16,
    "start_time": "2022-02-17T20:57:40.092Z"
   },
   {
    "duration": 31,
    "start_time": "2022-02-17T20:57:40.109Z"
   },
   {
    "duration": 49,
    "start_time": "2022-02-17T20:57:40.142Z"
   },
   {
    "duration": 33,
    "start_time": "2022-02-17T20:57:40.192Z"
   },
   {
    "duration": 42,
    "start_time": "2022-02-17T20:57:40.226Z"
   },
   {
    "duration": 10,
    "start_time": "2022-02-17T20:57:40.271Z"
   },
   {
    "duration": 14,
    "start_time": "2022-02-17T20:57:40.283Z"
   },
   {
    "duration": 27,
    "start_time": "2022-02-17T20:57:40.299Z"
   },
   {
    "duration": 114,
    "start_time": "2022-02-17T20:57:40.328Z"
   },
   {
    "duration": 97,
    "start_time": "2022-02-17T20:57:40.444Z"
   },
   {
    "duration": 189,
    "start_time": "2022-02-17T20:57:40.544Z"
   },
   {
    "duration": 2558,
    "start_time": "2022-02-17T20:57:40.734Z"
   },
   {
    "duration": 26,
    "start_time": "2022-02-17T20:57:43.294Z"
   },
   {
    "duration": 18,
    "start_time": "2022-02-17T20:57:43.321Z"
   },
   {
    "duration": 164895,
    "start_time": "2022-02-17T20:57:43.341Z"
   },
   {
    "duration": 514,
    "start_time": "2022-02-17T21:00:28.238Z"
   },
   {
    "duration": 10,
    "start_time": "2022-02-17T21:00:28.753Z"
   },
   {
    "duration": 6,
    "start_time": "2022-02-17T21:00:28.765Z"
   },
   {
    "duration": 4,
    "start_time": "2022-02-17T21:00:28.773Z"
   },
   {
    "duration": 14,
    "start_time": "2022-02-17T21:00:28.778Z"
   },
   {
    "duration": 6,
    "start_time": "2022-02-17T21:00:28.793Z"
   },
   {
    "duration": 141,
    "start_time": "2022-02-17T21:00:28.800Z"
   },
   {
    "duration": 101,
    "start_time": "2022-02-17T21:00:28.943Z"
   },
   {
    "duration": 100,
    "start_time": "2022-02-17T21:00:29.046Z"
   },
   {
    "duration": 206,
    "start_time": "2022-02-17T21:00:29.149Z"
   },
   {
    "duration": 10,
    "start_time": "2022-02-17T21:00:29.357Z"
   },
   {
    "duration": 7,
    "start_time": "2022-02-17T21:00:29.369Z"
   },
   {
    "duration": 708,
    "start_time": "2022-02-17T21:00:29.378Z"
   },
   {
    "duration": 10,
    "start_time": "2022-02-17T21:00:30.088Z"
   },
   {
    "duration": 46,
    "start_time": "2022-02-17T21:00:30.099Z"
   },
   {
    "duration": 8,
    "start_time": "2022-02-17T21:00:30.147Z"
   },
   {
    "duration": 52,
    "start_time": "2022-02-17T21:00:30.156Z"
   },
   {
    "duration": 487,
    "start_time": "2022-02-17T21:00:30.210Z"
   },
   {
    "duration": 41,
    "start_time": "2022-02-17T21:00:30.698Z"
   },
   {
    "duration": 220,
    "start_time": "2022-02-17T21:00:30.741Z"
   },
   {
    "duration": 687,
    "start_time": "2022-02-17T21:00:30.962Z"
   },
   {
    "duration": 33,
    "start_time": "2022-02-17T21:00:31.651Z"
   },
   {
    "duration": 9,
    "start_time": "2022-02-17T21:00:31.685Z"
   },
   {
    "duration": 303,
    "start_time": "2022-02-17T21:00:31.696Z"
   },
   {
    "duration": 5,
    "start_time": "2022-02-17T21:00:32.000Z"
   },
   {
    "duration": 51,
    "start_time": "2022-02-17T21:00:32.006Z"
   },
   {
    "duration": 8,
    "start_time": "2022-02-17T21:00:32.059Z"
   },
   {
    "duration": 266,
    "start_time": "2022-02-17T21:00:32.069Z"
   },
   {
    "duration": 4,
    "start_time": "2022-02-17T21:00:32.336Z"
   },
   {
    "duration": 600,
    "start_time": "2022-02-17T21:00:32.342Z"
   },
   {
    "duration": 6,
    "start_time": "2022-02-17T21:00:56.586Z"
   },
   {
    "duration": 5,
    "start_time": "2022-02-17T21:02:41.451Z"
   },
   {
    "duration": 293,
    "start_time": "2022-02-17T21:02:49.225Z"
   },
   {
    "duration": 294,
    "start_time": "2022-02-17T21:03:40.454Z"
   },
   {
    "duration": 321,
    "start_time": "2022-02-17T21:04:21.213Z"
   }
  ],
  "kernelspec": {
   "display_name": "Python 3 (ipykernel)",
   "language": "python",
   "name": "python3"
  },
  "language_info": {
   "codemirror_mode": {
    "name": "ipython",
    "version": 3
   },
   "file_extension": ".py",
   "mimetype": "text/x-python",
   "name": "python",
   "nbconvert_exporter": "python",
   "pygments_lexer": "ipython3",
   "version": "3.9.7"
  },
  "toc": {
   "base_numbering": 1,
   "nav_menu": {},
   "number_sections": true,
   "sideBar": true,
   "skip_h1_title": true,
   "title_cell": "Содержание",
   "title_sidebar": "Contents",
   "toc_cell": true,
   "toc_position": {
    "height": "calc(100% - 180px)",
    "left": "10px",
    "top": "150px",
    "width": "311.344px"
   },
   "toc_section_display": true,
   "toc_window_display": true
  }
 },
 "nbformat": 4,
 "nbformat_minor": 4
}
