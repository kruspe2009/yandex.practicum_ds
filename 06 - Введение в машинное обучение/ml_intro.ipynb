{
 "cells": [
  {
   "cell_type": "markdown",
   "metadata": {},
   "source": [
    "# Рекомендация тарифов"
   ]
  },
  {
   "cell_type": "markdown",
   "metadata": {},
   "source": [
    "В вашем распоряжении данные о поведении клиентов, которые уже перешли на эти тарифы (из проекта курса «Статистический анализ данных»). Нужно построить модель для задачи классификации, которая выберет подходящий тариф. Предобработка данных не понадобится — вы её уже сделали.\n",
    "\n",
    "Постройте модель с максимально большим значением *accuracy*. Чтобы сдать проект успешно, нужно довести долю правильных ответов по крайней мере до 0.75. Проверьте *accuracy* на тестовой выборке самостоятельно."
   ]
  },
  {
   "cell_type": "markdown",
   "metadata": {},
   "source": [
    "## Откройте и изучите файл"
   ]
  },
  {
   "cell_type": "code",
   "execution_count": 1,
   "metadata": {},
   "outputs": [],
   "source": [
    "import pandas as pd\n",
    "import time\n",
    "from sklearn.tree import DecisionTreeClassifier\n",
    "from sklearn.ensemble import RandomForestClassifier\n",
    "from sklearn.linear_model import LogisticRegression\n",
    "from sklearn.metrics import mean_squared_error\n",
    "from sklearn.metrics import recall_score\n",
    "from sklearn.metrics import classification_report\n",
    "from sklearn.dummy import DummyClassifier\n",
    "from sklearn.model_selection import GridSearchCV"
   ]
  },
  {
   "cell_type": "code",
   "execution_count": 2,
   "metadata": {},
   "outputs": [],
   "source": [
    "data = pd.read_csv('/datasets/users_behavior.csv')"
   ]
  },
  {
   "cell_type": "code",
   "execution_count": 3,
   "metadata": {},
   "outputs": [
    {
     "data": {
      "text/html": [
       "<div>\n",
       "<style scoped>\n",
       "    .dataframe tbody tr th:only-of-type {\n",
       "        vertical-align: middle;\n",
       "    }\n",
       "\n",
       "    .dataframe tbody tr th {\n",
       "        vertical-align: top;\n",
       "    }\n",
       "\n",
       "    .dataframe thead th {\n",
       "        text-align: right;\n",
       "    }\n",
       "</style>\n",
       "<table border=\"1\" class=\"dataframe\">\n",
       "  <thead>\n",
       "    <tr style=\"text-align: right;\">\n",
       "      <th></th>\n",
       "      <th>calls</th>\n",
       "      <th>minutes</th>\n",
       "      <th>messages</th>\n",
       "      <th>mb_used</th>\n",
       "      <th>is_ultra</th>\n",
       "    </tr>\n",
       "  </thead>\n",
       "  <tbody>\n",
       "    <tr>\n",
       "      <td>0</td>\n",
       "      <td>40.0</td>\n",
       "      <td>311.90</td>\n",
       "      <td>83.0</td>\n",
       "      <td>19915.42</td>\n",
       "      <td>0</td>\n",
       "    </tr>\n",
       "    <tr>\n",
       "      <td>1</td>\n",
       "      <td>85.0</td>\n",
       "      <td>516.75</td>\n",
       "      <td>56.0</td>\n",
       "      <td>22696.96</td>\n",
       "      <td>0</td>\n",
       "    </tr>\n",
       "    <tr>\n",
       "      <td>2</td>\n",
       "      <td>77.0</td>\n",
       "      <td>467.66</td>\n",
       "      <td>86.0</td>\n",
       "      <td>21060.45</td>\n",
       "      <td>0</td>\n",
       "    </tr>\n",
       "    <tr>\n",
       "      <td>3</td>\n",
       "      <td>106.0</td>\n",
       "      <td>745.53</td>\n",
       "      <td>81.0</td>\n",
       "      <td>8437.39</td>\n",
       "      <td>1</td>\n",
       "    </tr>\n",
       "    <tr>\n",
       "      <td>4</td>\n",
       "      <td>66.0</td>\n",
       "      <td>418.74</td>\n",
       "      <td>1.0</td>\n",
       "      <td>14502.75</td>\n",
       "      <td>0</td>\n",
       "    </tr>\n",
       "  </tbody>\n",
       "</table>\n",
       "</div>"
      ],
      "text/plain": [
       "   calls  minutes  messages   mb_used  is_ultra\n",
       "0   40.0   311.90      83.0  19915.42         0\n",
       "1   85.0   516.75      56.0  22696.96         0\n",
       "2   77.0   467.66      86.0  21060.45         0\n",
       "3  106.0   745.53      81.0   8437.39         1\n",
       "4   66.0   418.74       1.0  14502.75         0"
      ]
     },
     "execution_count": 3,
     "metadata": {},
     "output_type": "execute_result"
    }
   ],
   "source": [
    "data.head()"
   ]
  },
  {
   "cell_type": "code",
   "execution_count": 4,
   "metadata": {},
   "outputs": [],
   "source": [
    "features = data.drop(['is_ultra'], axis=1)\n",
    "target = data['is_ultra']"
   ]
  },
  {
   "cell_type": "markdown",
   "metadata": {},
   "source": [
    "## Разбейте данные на выборки"
   ]
  },
  {
   "cell_type": "markdown",
   "metadata": {},
   "source": [
    "Подготовим функцию, при помощи которой разделим имеющийся датасет на три выборки. Стандартная функция предоставляет возможность выполнить разделение только на две выборки, что нам не подходит. "
   ]
  },
  {
   "cell_type": "code",
   "execution_count": 5,
   "metadata": {},
   "outputs": [],
   "source": [
    "def three_samples_split(features, target, train_sample_size=0.50, validation_sample_size=0.25):\n",
    "    from sklearn.model_selection import train_test_split\n",
    "    initial_data_lenght = len(target)\n",
    "    train_features, df_features, train_target, df_target = train_test_split(\n",
    "        features,\n",
    "        target,\n",
    "        train_size=train_sample_size,\n",
    "        random_state=12345\n",
    "    )\n",
    "    current_validation_sample_size = (initial_data_lenght * validation_sample_size) / len(df_target)\n",
    "    validation_features, test_features, validation_target, test_target = train_test_split(\n",
    "        df_features,\n",
    "        df_target,\n",
    "        train_size=current_validation_sample_size,\n",
    "        random_state=12345\n",
    "    )\n",
    "    return train_features, train_target, validation_features, validation_target, test_features, test_target"
   ]
  },
  {
   "cell_type": "code",
   "execution_count": 6,
   "metadata": {},
   "outputs": [],
   "source": [
    "train_features, train_target, validation_features, validation_target, test_features, test_target = three_samples_split(features, target)"
   ]
  },
  {
   "cell_type": "code",
   "execution_count": 7,
   "metadata": {},
   "outputs": [
    {
     "name": "stdout",
     "output_type": "stream",
     "text": [
      "(1607, 4)\n",
      "(803, 4)\n",
      "(804, 4)\n"
     ]
    }
   ],
   "source": [
    "print(train_features.shape)\n",
    "print(validation_features.shape)\n",
    "print(test_features.shape)"
   ]
  },
  {
   "cell_type": "markdown",
   "metadata": {},
   "source": [
    "На выходе мы получили три выборки заданных размеров."
   ]
  },
  {
   "cell_type": "markdown",
   "metadata": {},
   "source": [
    "## Исследуйте модели"
   ]
  },
  {
   "cell_type": "code",
   "execution_count": 8,
   "metadata": {},
   "outputs": [
    {
     "data": {
      "text/plain": [
       "array([0, 1])"
      ]
     },
     "execution_count": 8,
     "metadata": {},
     "output_type": "execute_result"
    }
   ],
   "source": [
    "#посмотрим на значения целевого признака\n",
    "target.unique()"
   ]
  },
  {
   "cell_type": "markdown",
   "metadata": {},
   "source": [
    "Мы видим, что целевой признак принимает только два значения: 0 и 1. Это означает, что целевой признак является булевым, то есть категорийным. Следовательно, для его предсказания потребутся решить задачу классификации. Для решения задачи классификации мы можем использовать три алгоритма: \n",
    "\n",
    "* Логистическая регрессия\n",
    "* Дерево решений\n",
    "* Случайный лес"
   ]
  },
  {
   "cell_type": "markdown",
   "metadata": {},
   "source": [
    "### Логистическая регрессия"
   ]
  },
  {
   "cell_type": "code",
   "execution_count": 9,
   "metadata": {},
   "outputs": [],
   "source": [
    "#начнем с логистической регрессии\n",
    "model = LogisticRegression(random_state=12345, solver='lbfgs')\n",
    "model = model.fit(train_features, train_target)\n",
    "result_validation = model.score(validation_features, validation_target)\n",
    "result_test = model.score(test_features, test_target)"
   ]
  },
  {
   "cell_type": "code",
   "execution_count": 10,
   "metadata": {},
   "outputs": [
    {
     "name": "stdout",
     "output_type": "stream",
     "text": [
      "              precision    recall  f1-score   support\n",
      "\n",
      "       Smart       0.76      0.94      0.84       570\n",
      "       Ultra       0.66      0.27      0.38       233\n",
      "\n",
      "    accuracy                           0.75       803\n",
      "   macro avg       0.71      0.61      0.61       803\n",
      "weighted avg       0.73      0.75      0.71       803\n",
      "\n"
     ]
    }
   ],
   "source": [
    "report = classification_report(\n",
    "    y_true=validation_target,\n",
    "    y_pred=model.predict(validation_features),\n",
    "    target_names=['Smart', 'Ultra'])\n",
    "\n",
    "print(report)"
   ]
  },
  {
   "cell_type": "code",
   "execution_count": 11,
   "metadata": {},
   "outputs": [
    {
     "name": "stdout",
     "output_type": "stream",
     "text": [
      "              precision    recall  f1-score   support\n",
      "\n",
      "       Smart       0.77      0.97      0.86       571\n",
      "       Ultra       0.78      0.27      0.41       233\n",
      "\n",
      "    accuracy                           0.77       804\n",
      "   macro avg       0.77      0.62      0.63       804\n",
      "weighted avg       0.77      0.77      0.73       804\n",
      "\n"
     ]
    }
   ],
   "source": [
    "report = classification_report(\n",
    "    y_true=test_target,\n",
    "    y_pred=model.predict(test_features),\n",
    "    target_names=['Smart', 'Ultra'])\n",
    "\n",
    "print(report)"
   ]
  },
  {
   "cell_type": "markdown",
   "metadata": {},
   "source": [
    "Мы видим, что accuracy полученной модели находится на отметке, близкой к 0.75, что является минимально допустимым значением. Однако назвать прогноз модели на нельзя назвать в полной мере подходящим для поставленных целей - мы видим, что recall на обеих выборках дает не очень хороший результат для целевого класса - всего 27%. Это означает, что модель возвращает очень много ложно-позитивных результатов, то есть ошибок первого рода.\n",
    "\n",
    "Для бизнеса - это необходимость задействовать дополнительные ресурсы на контакт с пользователями, которые на самом деле не нуждаются в тарифе \"Ультра\". "
   ]
  },
  {
   "cell_type": "markdown",
   "metadata": {},
   "source": [
    "### Дерево решений"
   ]
  },
  {
   "cell_type": "code",
   "execution_count": 12,
   "metadata": {},
   "outputs": [
    {
     "data": {
      "text/html": [
       "<div>\n",
       "<style scoped>\n",
       "    .dataframe tbody tr th:only-of-type {\n",
       "        vertical-align: middle;\n",
       "    }\n",
       "\n",
       "    .dataframe tbody tr th {\n",
       "        vertical-align: top;\n",
       "    }\n",
       "\n",
       "    .dataframe thead th {\n",
       "        text-align: right;\n",
       "    }\n",
       "</style>\n",
       "<table border=\"1\" class=\"dataframe\">\n",
       "  <thead>\n",
       "    <tr style=\"text-align: right;\">\n",
       "      <th></th>\n",
       "      <th>param_criterion</th>\n",
       "      <th>param_max_depth</th>\n",
       "      <th>mean_test_score</th>\n",
       "      <th>mean_fit_time</th>\n",
       "    </tr>\n",
       "  </thead>\n",
       "  <tbody>\n",
       "    <tr>\n",
       "      <td>32</td>\n",
       "      <td>entropy</td>\n",
       "      <td>19</td>\n",
       "      <td>0.603041</td>\n",
       "      <td>0.009855</td>\n",
       "    </tr>\n",
       "    <tr>\n",
       "      <td>33</td>\n",
       "      <td>entropy</td>\n",
       "      <td>20</td>\n",
       "      <td>0.603036</td>\n",
       "      <td>0.009955</td>\n",
       "    </tr>\n",
       "    <tr>\n",
       "      <td>31</td>\n",
       "      <td>entropy</td>\n",
       "      <td>18</td>\n",
       "      <td>0.597261</td>\n",
       "      <td>0.009948</td>\n",
       "    </tr>\n",
       "    <tr>\n",
       "      <td>15</td>\n",
       "      <td>gini</td>\n",
       "      <td>19</td>\n",
       "      <td>0.595335</td>\n",
       "      <td>0.009052</td>\n",
       "    </tr>\n",
       "    <tr>\n",
       "      <td>29</td>\n",
       "      <td>entropy</td>\n",
       "      <td>16</td>\n",
       "      <td>0.589573</td>\n",
       "      <td>0.009989</td>\n",
       "    </tr>\n",
       "    <tr>\n",
       "      <td>16</td>\n",
       "      <td>gini</td>\n",
       "      <td>20</td>\n",
       "      <td>0.589555</td>\n",
       "      <td>0.009370</td>\n",
       "    </tr>\n",
       "    <tr>\n",
       "      <td>11</td>\n",
       "      <td>gini</td>\n",
       "      <td>15</td>\n",
       "      <td>0.589543</td>\n",
       "      <td>0.007747</td>\n",
       "    </tr>\n",
       "    <tr>\n",
       "      <td>30</td>\n",
       "      <td>entropy</td>\n",
       "      <td>17</td>\n",
       "      <td>0.587603</td>\n",
       "      <td>0.009706</td>\n",
       "    </tr>\n",
       "    <tr>\n",
       "      <td>13</td>\n",
       "      <td>gini</td>\n",
       "      <td>17</td>\n",
       "      <td>0.585708</td>\n",
       "      <td>0.008214</td>\n",
       "    </tr>\n",
       "    <tr>\n",
       "      <td>27</td>\n",
       "      <td>entropy</td>\n",
       "      <td>14</td>\n",
       "      <td>0.583775</td>\n",
       "      <td>0.009802</td>\n",
       "    </tr>\n",
       "  </tbody>\n",
       "</table>\n",
       "</div>"
      ],
      "text/plain": [
       "   param_criterion param_max_depth  mean_test_score  mean_fit_time\n",
       "32         entropy              19         0.603041       0.009855\n",
       "33         entropy              20         0.603036       0.009955\n",
       "31         entropy              18         0.597261       0.009948\n",
       "15            gini              19         0.595335       0.009052\n",
       "29         entropy              16         0.589573       0.009989\n",
       "16            gini              20         0.589555       0.009370\n",
       "11            gini              15         0.589543       0.007747\n",
       "30         entropy              17         0.587603       0.009706\n",
       "13            gini              17         0.585708       0.008214\n",
       "27         entropy              14         0.583775       0.009802"
      ]
     },
     "execution_count": 12,
     "metadata": {},
     "output_type": "execute_result"
    }
   ],
   "source": [
    "model = DecisionTreeClassifier(random_state=12345)\n",
    "\n",
    "gscv = GridSearchCV(\n",
    "    model,\n",
    "    {\n",
    "        'max_depth': [x for x in range(train_features.shape[1], 21)],\n",
    "        'criterion': ['gini', 'entropy']\n",
    "    },\n",
    "    cv=5,\n",
    "    return_train_score=False,\n",
    "    scoring = 'recall'\n",
    ")\n",
    "\n",
    "gscv.fit(train_features, train_target)\n",
    "report = pd.DataFrame(gscv.cv_results_)\n",
    "report = report[['param_criterion', 'param_max_depth', 'mean_test_score', 'mean_fit_time']]\n",
    "report.sort_values(by='mean_test_score', ascending=False).head(10)"
   ]
  },
  {
   "cell_type": "code",
   "execution_count": 13,
   "metadata": {},
   "outputs": [
    {
     "data": {
      "text/plain": [
       "DecisionTreeClassifier(class_weight=None, criterion='entropy', max_depth=19,\n",
       "                       max_features=None, max_leaf_nodes=None,\n",
       "                       min_impurity_decrease=0.0, min_impurity_split=None,\n",
       "                       min_samples_leaf=1, min_samples_split=2,\n",
       "                       min_weight_fraction_leaf=0.0, presort=False,\n",
       "                       random_state=12345, splitter='best')"
      ]
     },
     "execution_count": 13,
     "metadata": {},
     "output_type": "execute_result"
    }
   ],
   "source": [
    "decision_tree_classifier = DecisionTreeClassifier(criterion='entropy', max_depth=19, random_state=12345)\n",
    "decision_tree_classifier.fit(train_features, train_target)"
   ]
  },
  {
   "cell_type": "code",
   "execution_count": 14,
   "metadata": {},
   "outputs": [
    {
     "name": "stdout",
     "output_type": "stream",
     "text": [
      "              precision    recall  f1-score   support\n",
      "\n",
      "       Smart       0.83      0.83      0.83       571\n",
      "       Ultra       0.58      0.58      0.58       233\n",
      "\n",
      "    accuracy                           0.76       804\n",
      "   macro avg       0.71      0.70      0.70       804\n",
      "weighted avg       0.76      0.76      0.76       804\n",
      "\n"
     ]
    }
   ],
   "source": [
    "report = classification_report(\n",
    "    y_true=test_target,\n",
    "    y_pred=decision_tree_classifier.predict(test_features),\n",
    "    target_names=['Smart', 'Ultra'])\n",
    "\n",
    "print(report)"
   ]
  },
  {
   "cell_type": "markdown",
   "metadata": {},
   "source": [
    "Наблюдаем более интересные результаты у модели на базе алогритма \"Дерево решений\":\n",
    "\n",
    "1. Accuracy выросла на 1 процентный пункт и составляет 76%\n",
    "2. Наиболее проблемная метрика Recall также выросла до 58%"
   ]
  },
  {
   "cell_type": "markdown",
   "metadata": {},
   "source": [
    "### Случайный лес"
   ]
  },
  {
   "cell_type": "markdown",
   "metadata": {},
   "source": [
    "Попробуем другой алгоритм - случайный лес. Для перебора гиперпараметров также воспользуемся функцией, написанной ранее, внеся в нее некоторые модификации. \n",
    "\n",
    "В случае случайного леса мы будем использовать разные значения таких параметров как: \n",
    "\n",
    "* Критерий \n",
    "* Максимальная глубина одного дерева\n",
    "* Количество деревьев\n",
    "* Минимальное количество значений для сплита дерева \n",
    "\n",
    "Управлять этими параметрами будем, отталкиваясь от значений аргументов, передаваемых нашей функции. "
   ]
  },
  {
   "cell_type": "code",
   "execution_count": 15,
   "metadata": {},
   "outputs": [],
   "source": [
    "def random_forest_classifier(train_features,\n",
    "                             target_train,\n",
    "                             valid_features,\n",
    "                             valid_target,\n",
    "                             n_estimators,\n",
    "                             max_depth,\n",
    "                             min_samples_split\n",
    "                            ):\n",
    "    best_result = 0\n",
    "    for criterion in ['gini', 'entropy']:\n",
    "        print('Critetion', criterion)\n",
    "        for depth in range(train_features.shape[1], max_depth+1):\n",
    "            print('Depth =', depth)\n",
    "            for number in range(100, n_estimators+100, 100):\n",
    "                for min_samples in range(2, int((len(train_features)*min_samples_split))+1):\n",
    "                    model = RandomForestClassifier(criterion=criterion, max_depth=depth, n_estimators=number, random_state=12345, min_samples_split=min_samples)\n",
    "                    model.fit(train_features, target_train)\n",
    "                    result = model.score(valid_features, valid_target)\n",
    "                    if result > best_result:\n",
    "                        best_model = model\n",
    "                        best_result = result\n",
    "                        print(f'Best accuracy changed to {best_result:.2%}')\n",
    "    print(f'Наилучший результат {best_result:.2%}')\n",
    "    return best_model"
   ]
  },
  {
   "cell_type": "code",
   "execution_count": 16,
   "metadata": {
    "scrolled": true
   },
   "outputs": [
    {
     "name": "stdout",
     "output_type": "stream",
     "text": [
      "Critetion gini\n",
      "Depth = 4\n",
      "Best accuracy changed to 79.33%\n",
      "Depth = 5\n",
      "Best accuracy changed to 79.45%\n",
      "Depth = 6\n",
      "Depth = 7\n",
      "Best accuracy changed to 79.58%\n",
      "Depth = 8\n",
      "Best accuracy changed to 79.70%\n",
      "Depth = 9\n",
      "Best accuracy changed to 79.95%\n",
      "Depth = 10\n",
      "Critetion entropy\n",
      "Depth = 4\n",
      "Depth = 5\n",
      "Depth = 6\n",
      "Depth = 7\n",
      "Depth = 8\n",
      "Depth = 9\n",
      "Depth = 10\n",
      "Best accuracy changed to 80.07%\n",
      "Наилучший результат 80.07%\n"
     ]
    }
   ],
   "source": [
    "random_forest = random_forest_classifier(\n",
    "    train_features,\n",
    "    train_target,\n",
    "    validation_features,\n",
    "    validation_target,\n",
    "    1000,\n",
    "    10,\n",
    "    0.01)"
   ]
  },
  {
   "cell_type": "code",
   "execution_count": 17,
   "metadata": {},
   "outputs": [
    {
     "name": "stdout",
     "output_type": "stream",
     "text": [
      "              precision    recall  f1-score   support\n",
      "\n",
      "       Smart       0.84      0.94      0.88       571\n",
      "       Ultra       0.79      0.55      0.64       233\n",
      "\n",
      "    accuracy                           0.83       804\n",
      "   macro avg       0.81      0.74      0.76       804\n",
      "weighted avg       0.82      0.83      0.82       804\n",
      "\n"
     ]
    }
   ],
   "source": [
    "report = classification_report(\n",
    "    y_true=test_target,\n",
    "    y_pred=random_forest.predict(test_features),\n",
    "    target_names=['Smart', 'Ultra'])\n",
    "\n",
    "print(report)"
   ]
  },
  {
   "cell_type": "code",
   "execution_count": 18,
   "metadata": {},
   "outputs": [
    {
     "data": {
      "text/plain": [
       "RandomForestClassifier(bootstrap=True, class_weight=None, criterion='entropy',\n",
       "                       max_depth=10, max_features='auto', max_leaf_nodes=None,\n",
       "                       min_impurity_decrease=0.0, min_impurity_split=None,\n",
       "                       min_samples_leaf=1, min_samples_split=5,\n",
       "                       min_weight_fraction_leaf=0.0, n_estimators=300,\n",
       "                       n_jobs=None, oob_score=False, random_state=12345,\n",
       "                       verbose=0, warm_start=False)"
      ]
     },
     "execution_count": 18,
     "metadata": {},
     "output_type": "execute_result"
    }
   ],
   "source": [
    "random_forest"
   ]
  },
  {
   "cell_type": "markdown",
   "metadata": {},
   "source": [
    "Наблюдаем улучшение относительно дерева решений:\n",
    "\n",
    "1. Accuracy выросла до 83%\n",
    "2. Recall для целевого признака на тестовой выборке прибавил 15 процентных пунктов и остановился до отметки в 55%. Таким образом, доля ошибок первого рода составила менее половины, что является наилучшим результатом\n",
    "3. Наилучший результат случайный лес показал при следующих параметрах:\n",
    "    + Критерий - энтропия\n",
    "    + Максимальная глубина - 10 деревьев\n",
    "    + Минимальное количество элементов для сплита - 5\n",
    "    + Количество деревьев - 300"
   ]
  },
  {
   "cell_type": "markdown",
   "metadata": {},
   "source": [
    "## (бонус) Проверьте модели на адекватность"
   ]
  },
  {
   "cell_type": "markdown",
   "metadata": {},
   "source": [
    "Для проверки модели на адекватность воспользуемся DummyClassifier. Не будем передавать ему никакие гиперпараметры кроме random_state. "
   ]
  },
  {
   "cell_type": "code",
   "execution_count": 19,
   "metadata": {},
   "outputs": [],
   "source": [
    "model = DummyClassifier(random_state=12345)\n",
    "model.fit(train_features, train_target)\n",
    "dummy_prediction = model.predict(test_features)"
   ]
  },
  {
   "cell_type": "code",
   "execution_count": 20,
   "metadata": {},
   "outputs": [
    {
     "name": "stdout",
     "output_type": "stream",
     "text": [
      "              precision    recall  f1-score   support\n",
      "\n",
      "       Smart       0.72      0.67      0.69       571\n",
      "       Ultra       0.30      0.35      0.32       233\n",
      "\n",
      "    accuracy                           0.58       804\n",
      "   macro avg       0.51      0.51      0.51       804\n",
      "weighted avg       0.60      0.58      0.59       804\n",
      "\n"
     ]
    }
   ],
   "source": [
    "report = classification_report(\n",
    "    y_true=test_target,\n",
    "    y_pred=dummy_prediction,\n",
    "    target_names=['Smart', 'Ultra'])\n",
    "\n",
    "print(report)"
   ]
  },
  {
   "cell_type": "markdown",
   "metadata": {},
   "source": [
    "Мы видим, что наша обученная модель показывает значительно лучшие результаты по всем метрикам без исключения. "
   ]
  },
  {
   "cell_type": "markdown",
   "metadata": {},
   "source": [
    "## Выводы"
   ]
  },
  {
   "cell_type": "markdown",
   "metadata": {},
   "source": [
    "1. В ходе обучения моделей использованы три различных алгоритма:\n",
    "    + Логистическая регрессия\n",
    "    + Дерево решений\n",
    "    + Случайный лес\n",
    "2. Наихудший результат по целевой метрике на тестовой выборке показала логистическая регрессия. Accuracy - 77%.\n",
    "3. Наилучший результат демонстрирует случайный лес. Accuracy - 83%. \n",
    "4. Требуемое значение целевой метрики (Accuracy) достигнуто во всех 3 случаях\n",
    "5. В ходе подбора наилучшей комбинации гиперпараметров случайного леса проводились эксперименты с 4 из них:\n",
    "    + Критерий\n",
    "    + Максимальная глубина\n",
    "    + Минимальное количество элементов для сплита\n",
    "    + Количество деревьев\n",
    "6. Помимо наилучшей целевой метрики, случайный лес также показывает улучшение Recall: 27%, 43%, 55% соответственно у алгоритмов, приведенных в пункте 1. Таким образом, помимо наиболее высокой Accuracy случайный лес также лучше справляется с определением целевого класса объектов."
   ]
  },
  {
   "cell_type": "code",
   "execution_count": null,
   "metadata": {},
   "outputs": [],
   "source": []
  }
 ],
 "metadata": {
  "ExecuteTimeLog": [
   {
    "duration": 767,
    "start_time": "2022-01-27T20:47:32.464Z"
   },
   {
    "duration": 21,
    "start_time": "2022-01-27T20:48:05.516Z"
   },
   {
    "duration": 272,
    "start_time": "2022-01-27T20:49:13.934Z"
   },
   {
    "duration": 24,
    "start_time": "2022-01-27T20:57:26.274Z"
   },
   {
    "duration": 5,
    "start_time": "2022-01-27T20:58:15.818Z"
   },
   {
    "duration": 116,
    "start_time": "2022-01-27T21:00:01.683Z"
   },
   {
    "duration": 89,
    "start_time": "2022-01-27T21:01:16.408Z"
   },
   {
    "duration": 404,
    "start_time": "2022-01-27T21:01:28.684Z"
   },
   {
    "duration": 380,
    "start_time": "2022-01-27T21:02:10.108Z"
   },
   {
    "duration": 309,
    "start_time": "2022-01-27T21:02:14.985Z"
   },
   {
    "duration": 333,
    "start_time": "2022-01-27T21:02:19.250Z"
   },
   {
    "duration": 5,
    "start_time": "2022-01-27T21:15:57.680Z"
   },
   {
    "duration": 366,
    "start_time": "2022-01-27T21:16:27.645Z"
   },
   {
    "duration": 617,
    "start_time": "2022-01-27T21:16:51.826Z"
   },
   {
    "duration": 6,
    "start_time": "2022-01-27T21:18:08.805Z"
   },
   {
    "duration": 601,
    "start_time": "2022-01-27T21:18:09.994Z"
   },
   {
    "duration": 5,
    "start_time": "2022-01-27T21:18:58.293Z"
   },
   {
    "duration": 606,
    "start_time": "2022-01-27T21:19:05.171Z"
   },
   {
    "duration": 5,
    "start_time": "2022-01-27T21:19:16.458Z"
   },
   {
    "duration": 306,
    "start_time": "2022-01-27T21:19:18.183Z"
   },
   {
    "duration": 5,
    "start_time": "2022-01-27T21:19:51.151Z"
   },
   {
    "duration": 329,
    "start_time": "2022-01-27T21:19:51.610Z"
   },
   {
    "duration": 6,
    "start_time": "2022-01-27T21:20:12.205Z"
   },
   {
    "duration": 295,
    "start_time": "2022-01-27T21:20:13.548Z"
   },
   {
    "duration": 6,
    "start_time": "2022-01-27T21:20:42.608Z"
   },
   {
    "duration": 299,
    "start_time": "2022-01-27T21:20:43.421Z"
   },
   {
    "duration": 6,
    "start_time": "2022-01-27T21:20:58.958Z"
   },
   {
    "duration": 6,
    "start_time": "2022-01-27T21:21:07.140Z"
   },
   {
    "duration": 10,
    "start_time": "2022-01-27T21:21:09.544Z"
   },
   {
    "duration": 385,
    "start_time": "2022-01-27T21:21:53.091Z"
   },
   {
    "duration": 294,
    "start_time": "2022-01-27T21:22:03.438Z"
   },
   {
    "duration": 17,
    "start_time": "2022-01-27T21:22:06.826Z"
   },
   {
    "duration": 5,
    "start_time": "2022-01-27T21:22:13.483Z"
   },
   {
    "duration": 5,
    "start_time": "2022-01-27T21:22:28.189Z"
   },
   {
    "duration": 296,
    "start_time": "2022-01-27T21:22:50.239Z"
   },
   {
    "duration": 110,
    "start_time": "2022-01-27T21:23:06.663Z"
   },
   {
    "duration": 9,
    "start_time": "2022-01-27T21:23:14.029Z"
   },
   {
    "duration": 311,
    "start_time": "2022-01-27T21:23:58.658Z"
   },
   {
    "duration": 10,
    "start_time": "2022-01-27T21:24:08.439Z"
   },
   {
    "duration": 5,
    "start_time": "2022-01-27T21:24:20.945Z"
   },
   {
    "duration": 5,
    "start_time": "2022-01-27T21:24:33.248Z"
   },
   {
    "duration": 303,
    "start_time": "2022-01-27T21:27:18.046Z"
   },
   {
    "duration": 7,
    "start_time": "2022-01-27T21:27:25.142Z"
   },
   {
    "duration": 6,
    "start_time": "2022-01-27T21:27:39.032Z"
   },
   {
    "duration": 765,
    "start_time": "2022-01-27T21:29:34.564Z"
   },
   {
    "duration": 21,
    "start_time": "2022-01-27T21:29:35.332Z"
   },
   {
    "duration": 23,
    "start_time": "2022-01-27T21:29:35.356Z"
   },
   {
    "duration": 5,
    "start_time": "2022-01-27T21:29:35.382Z"
   },
   {
    "duration": 7,
    "start_time": "2022-01-27T21:29:35.390Z"
   },
   {
    "duration": 586,
    "start_time": "2022-01-27T21:29:35.399Z"
   },
   {
    "duration": 6,
    "start_time": "2022-01-27T21:29:35.987Z"
   },
   {
    "duration": 8,
    "start_time": "2022-01-27T21:29:35.996Z"
   },
   {
    "duration": 4,
    "start_time": "2022-01-27T21:30:31.912Z"
   },
   {
    "duration": 48,
    "start_time": "2022-01-27T21:30:57.557Z"
   },
   {
    "duration": 442,
    "start_time": "2022-01-27T21:31:56.641Z"
   },
   {
    "duration": 4,
    "start_time": "2022-01-27T21:33:35.785Z"
   },
   {
    "duration": 22,
    "start_time": "2022-01-27T21:33:39.817Z"
   },
   {
    "duration": 13,
    "start_time": "2022-01-27T21:33:47.572Z"
   },
   {
    "duration": 38,
    "start_time": "2022-01-27T21:34:07.171Z"
   },
   {
    "duration": 42,
    "start_time": "2022-01-27T21:35:06.045Z"
   },
   {
    "duration": 5,
    "start_time": "2022-01-27T21:35:18.770Z"
   },
   {
    "duration": 40,
    "start_time": "2022-01-27T21:35:46.791Z"
   },
   {
    "duration": 6,
    "start_time": "2022-01-27T21:35:48.625Z"
   },
   {
    "duration": 6,
    "start_time": "2022-01-27T21:35:53.628Z"
   },
   {
    "duration": 40,
    "start_time": "2022-01-27T21:36:04.951Z"
   },
   {
    "duration": 5,
    "start_time": "2022-01-27T21:36:11.163Z"
   },
   {
    "duration": 6,
    "start_time": "2022-01-27T21:36:13.666Z"
   },
   {
    "duration": 5,
    "start_time": "2022-01-27T21:36:14.102Z"
   },
   {
    "duration": 1568,
    "start_time": "2022-01-30T17:42:18.662Z"
   },
   {
    "duration": 26,
    "start_time": "2022-01-30T17:42:20.233Z"
   },
   {
    "duration": 25,
    "start_time": "2022-01-30T17:42:20.268Z"
   },
   {
    "duration": 6,
    "start_time": "2022-01-30T17:42:20.296Z"
   },
   {
    "duration": 44,
    "start_time": "2022-01-30T17:42:20.305Z"
   },
   {
    "duration": 23,
    "start_time": "2022-01-30T17:42:20.352Z"
   },
   {
    "duration": 13,
    "start_time": "2022-01-30T17:42:20.378Z"
   },
   {
    "duration": 10,
    "start_time": "2022-01-30T17:42:20.394Z"
   },
   {
    "duration": 58,
    "start_time": "2022-01-30T17:42:20.407Z"
   },
   {
    "duration": 5,
    "start_time": "2022-01-30T17:42:20.467Z"
   },
   {
    "duration": 8,
    "start_time": "2022-01-30T17:42:20.475Z"
   },
   {
    "duration": 1372,
    "start_time": "2022-01-30T17:42:37.027Z"
   },
   {
    "duration": 23,
    "start_time": "2022-01-30T17:42:38.401Z"
   },
   {
    "duration": 27,
    "start_time": "2022-01-30T17:42:38.426Z"
   },
   {
    "duration": 8,
    "start_time": "2022-01-30T17:42:38.456Z"
   },
   {
    "duration": 15,
    "start_time": "2022-01-30T17:42:38.468Z"
   },
   {
    "duration": 12,
    "start_time": "2022-01-30T17:42:38.486Z"
   },
   {
    "duration": 4,
    "start_time": "2022-01-30T17:42:38.501Z"
   },
   {
    "duration": 8,
    "start_time": "2022-01-30T17:42:38.507Z"
   },
   {
    "duration": 47,
    "start_time": "2022-01-30T17:42:38.550Z"
   },
   {
    "duration": 6,
    "start_time": "2022-01-30T17:42:38.599Z"
   },
   {
    "duration": 7,
    "start_time": "2022-01-30T17:42:38.607Z"
   },
   {
    "duration": 4,
    "start_time": "2022-01-30T18:12:59.747Z"
   },
   {
    "duration": 5,
    "start_time": "2022-01-30T18:14:30.638Z"
   },
   {
    "duration": 6,
    "start_time": "2022-01-30T18:15:06.982Z"
   },
   {
    "duration": 5,
    "start_time": "2022-01-30T18:15:12.516Z"
   },
   {
    "duration": 4,
    "start_time": "2022-01-30T18:29:27.491Z"
   },
   {
    "duration": 11,
    "start_time": "2022-01-30T18:31:30.529Z"
   },
   {
    "duration": 13,
    "start_time": "2022-01-30T18:31:37.331Z"
   },
   {
    "duration": 12,
    "start_time": "2022-01-30T18:31:43.951Z"
   },
   {
    "duration": 14,
    "start_time": "2022-01-30T18:32:10.588Z"
   },
   {
    "duration": 18,
    "start_time": "2022-01-30T18:35:07.647Z"
   },
   {
    "duration": 7,
    "start_time": "2022-01-30T18:35:58.357Z"
   },
   {
    "duration": 14,
    "start_time": "2022-01-30T18:36:07.841Z"
   },
   {
    "duration": 10,
    "start_time": "2022-01-30T18:36:24.168Z"
   },
   {
    "duration": 6,
    "start_time": "2022-01-30T18:36:24.271Z"
   },
   {
    "duration": 16,
    "start_time": "2022-01-30T18:49:04.121Z"
   },
   {
    "duration": 12,
    "start_time": "2022-01-30T18:49:15.326Z"
   },
   {
    "duration": 14,
    "start_time": "2022-01-30T18:49:37.830Z"
   },
   {
    "duration": 12,
    "start_time": "2022-01-30T18:49:38.789Z"
   },
   {
    "duration": 5,
    "start_time": "2022-01-30T19:06:06.317Z"
   },
   {
    "duration": 5,
    "start_time": "2022-01-30T19:06:10.777Z"
   },
   {
    "duration": 7,
    "start_time": "2022-01-30T19:14:04.066Z"
   },
   {
    "duration": 498,
    "start_time": "2022-01-30T19:14:37.046Z"
   },
   {
    "duration": 309,
    "start_time": "2022-01-30T19:14:49.712Z"
   },
   {
    "duration": 297,
    "start_time": "2022-01-30T19:15:16.884Z"
   },
   {
    "duration": 7,
    "start_time": "2022-01-30T19:15:25.709Z"
   },
   {
    "duration": 317,
    "start_time": "2022-01-30T19:15:27.234Z"
   },
   {
    "duration": 298,
    "start_time": "2022-01-30T19:15:45.058Z"
   },
   {
    "duration": 6,
    "start_time": "2022-01-30T19:15:54.008Z"
   },
   {
    "duration": 15,
    "start_time": "2022-01-30T19:16:52.632Z"
   },
   {
    "duration": 8,
    "start_time": "2022-01-30T19:30:48.061Z"
   },
   {
    "duration": 7,
    "start_time": "2022-01-30T19:34:00.163Z"
   },
   {
    "duration": 1677,
    "start_time": "2022-01-30T19:36:24.962Z"
   },
   {
    "duration": 31,
    "start_time": "2022-01-30T19:36:26.642Z"
   },
   {
    "duration": 32,
    "start_time": "2022-01-30T19:36:26.677Z"
   },
   {
    "duration": 7,
    "start_time": "2022-01-30T19:36:26.712Z"
   },
   {
    "duration": 27,
    "start_time": "2022-01-30T19:36:26.722Z"
   },
   {
    "duration": 16,
    "start_time": "2022-01-30T19:36:26.752Z"
   },
   {
    "duration": 6,
    "start_time": "2022-01-30T19:36:26.771Z"
   },
   {
    "duration": 9,
    "start_time": "2022-01-30T19:36:26.779Z"
   },
   {
    "duration": 96,
    "start_time": "2022-01-30T19:36:26.793Z"
   },
   {
    "duration": 16,
    "start_time": "2022-01-30T19:36:26.892Z"
   },
   {
    "duration": 16,
    "start_time": "2022-01-30T19:36:26.911Z"
   },
   {
    "duration": 26,
    "start_time": "2022-01-30T19:36:26.929Z"
   },
   {
    "duration": 431,
    "start_time": "2022-01-30T19:36:26.958Z"
   },
   {
    "duration": 433,
    "start_time": "2022-01-30T19:36:27.392Z"
   },
   {
    "duration": 20,
    "start_time": "2022-01-30T19:36:27.828Z"
   },
   {
    "duration": 6,
    "start_time": "2022-01-30T19:36:27.851Z"
   },
   {
    "duration": 1253,
    "start_time": "2022-01-30T19:36:59.830Z"
   },
   {
    "duration": 1690,
    "start_time": "2022-01-30T19:37:06.933Z"
   },
   {
    "duration": 24,
    "start_time": "2022-01-30T19:37:08.627Z"
   },
   {
    "duration": 32,
    "start_time": "2022-01-30T19:37:08.655Z"
   },
   {
    "duration": 8,
    "start_time": "2022-01-30T19:37:08.691Z"
   },
   {
    "duration": 17,
    "start_time": "2022-01-30T19:37:08.702Z"
   },
   {
    "duration": 41,
    "start_time": "2022-01-30T19:37:08.722Z"
   },
   {
    "duration": 13,
    "start_time": "2022-01-30T19:37:08.766Z"
   },
   {
    "duration": 7,
    "start_time": "2022-01-30T19:37:08.783Z"
   },
   {
    "duration": 80,
    "start_time": "2022-01-30T19:37:08.795Z"
   },
   {
    "duration": 17,
    "start_time": "2022-01-30T19:37:08.878Z"
   },
   {
    "duration": 15,
    "start_time": "2022-01-30T19:37:08.898Z"
   },
   {
    "duration": 40,
    "start_time": "2022-01-30T19:37:08.916Z"
   },
   {
    "duration": 378,
    "start_time": "2022-01-30T19:37:08.958Z"
   },
   {
    "duration": 407,
    "start_time": "2022-01-30T19:37:09.339Z"
   },
   {
    "duration": 15,
    "start_time": "2022-01-30T19:37:09.749Z"
   },
   {
    "duration": 7,
    "start_time": "2022-01-30T19:37:09.767Z"
   },
   {
    "duration": 269864,
    "start_time": "2022-01-30T19:37:09.777Z"
   },
   {
    "duration": 7,
    "start_time": "2022-01-30T19:43:16.157Z"
   },
   {
    "duration": 100929,
    "start_time": "2022-01-30T19:43:17.182Z"
   },
   {
    "duration": 7,
    "start_time": "2022-01-30T19:45:00.889Z"
   },
   {
    "duration": 9705,
    "start_time": "2022-01-30T19:45:01.580Z"
   },
   {
    "duration": 8,
    "start_time": "2022-01-30T19:45:29.780Z"
   },
   {
    "duration": 118116,
    "start_time": "2022-01-30T19:45:30.441Z"
   },
   {
    "duration": 5,
    "start_time": "2022-01-30T19:48:42.890Z"
   },
   {
    "duration": 287,
    "start_time": "2022-01-30T19:48:52.632Z"
   },
   {
    "duration": 5,
    "start_time": "2022-01-30T19:49:01.263Z"
   },
   {
    "duration": 7,
    "start_time": "2022-01-30T19:49:15.558Z"
   },
   {
    "duration": 249,
    "start_time": "2022-01-30T19:49:19.847Z"
   },
   {
    "duration": 242,
    "start_time": "2022-01-30T19:50:42.494Z"
   },
   {
    "duration": 4,
    "start_time": "2022-01-30T19:50:49.879Z"
   },
   {
    "duration": 249,
    "start_time": "2022-01-30T19:50:53.868Z"
   },
   {
    "duration": 5,
    "start_time": "2022-01-30T19:50:58.968Z"
   },
   {
    "duration": 5,
    "start_time": "2022-01-30T19:51:05.539Z"
   },
   {
    "duration": 173,
    "start_time": "2022-01-30T19:58:28.721Z"
   },
   {
    "duration": 87,
    "start_time": "2022-01-30T19:58:36.735Z"
   },
   {
    "duration": 9,
    "start_time": "2022-01-30T19:58:49.906Z"
   },
   {
    "duration": 47664,
    "start_time": "2022-01-30T19:58:52.465Z"
   },
   {
    "duration": 2,
    "start_time": "2022-01-30T19:59:40.132Z"
   },
   {
    "duration": 8,
    "start_time": "2022-01-30T19:59:42.887Z"
   },
   {
    "duration": 214264,
    "start_time": "2022-01-30T19:59:48.872Z"
   },
   {
    "duration": 7,
    "start_time": "2022-01-30T20:03:24.828Z"
   },
   {
    "duration": 16795,
    "start_time": "2022-01-30T20:03:44.444Z"
   },
   {
    "duration": 9,
    "start_time": "2022-01-30T20:04:10.848Z"
   },
   {
    "duration": 6,
    "start_time": "2022-01-30T20:04:24.974Z"
   },
   {
    "duration": 325,
    "start_time": "2022-01-30T20:04:25.905Z"
   },
   {
    "duration": 321,
    "start_time": "2022-01-30T20:04:27.616Z"
   },
   {
    "duration": 13,
    "start_time": "2022-01-30T20:04:28.217Z"
   },
   {
    "duration": 10,
    "start_time": "2022-01-30T20:04:36.346Z"
   },
   {
    "duration": 781785,
    "start_time": "2022-01-30T20:04:45.018Z"
   },
   {
    "duration": 63,
    "start_time": "2022-01-30T20:19:18.308Z"
   },
   {
    "duration": 6,
    "start_time": "2022-01-30T20:19:31.411Z"
   },
   {
    "duration": 8,
    "start_time": "2022-01-30T20:27:18.215Z"
   },
   {
    "duration": 508,
    "start_time": "2022-01-30T20:27:21.073Z"
   },
   {
    "duration": 8,
    "start_time": "2022-01-30T20:27:45.161Z"
   },
   {
    "duration": 941,
    "start_time": "2022-01-30T20:27:46.063Z"
   },
   {
    "duration": 10,
    "start_time": "2022-01-30T20:28:03.344Z"
   },
   {
    "duration": 75218,
    "start_time": "2022-01-30T20:28:04.064Z"
   },
   {
    "duration": 9,
    "start_time": "2022-01-30T20:29:21.202Z"
   },
   {
    "duration": 269150,
    "start_time": "2022-01-30T20:29:21.995Z"
   },
   {
    "duration": 5,
    "start_time": "2022-01-30T20:34:57.771Z"
   },
   {
    "duration": 6,
    "start_time": "2022-01-30T20:35:06.094Z"
   },
   {
    "duration": 6,
    "start_time": "2022-01-30T20:35:09.334Z"
   },
   {
    "duration": 260,
    "start_time": "2022-01-30T20:35:28.042Z"
   },
   {
    "duration": 5,
    "start_time": "2022-01-30T20:36:30.892Z"
   },
   {
    "duration": 7,
    "start_time": "2022-01-30T20:36:31.795Z"
   },
   {
    "duration": 17,
    "start_time": "2022-01-30T20:36:32.751Z"
   },
   {
    "duration": 5,
    "start_time": "2022-01-30T20:36:55.109Z"
   },
   {
    "duration": 6,
    "start_time": "2022-01-30T20:36:56.003Z"
   },
   {
    "duration": 11,
    "start_time": "2022-01-30T20:36:56.585Z"
   },
   {
    "duration": 5,
    "start_time": "2022-01-30T20:39:47.868Z"
   },
   {
    "duration": 4,
    "start_time": "2022-01-30T20:40:15.295Z"
   },
   {
    "duration": 453,
    "start_time": "2022-01-30T20:40:29.292Z"
   },
   {
    "duration": 294,
    "start_time": "2022-01-30T20:40:38.713Z"
   },
   {
    "duration": 266,
    "start_time": "2022-01-30T20:41:03.400Z"
   },
   {
    "duration": 7,
    "start_time": "2022-01-30T20:41:27.975Z"
   },
   {
    "duration": 6,
    "start_time": "2022-01-30T20:41:54.913Z"
   },
   {
    "duration": 11,
    "start_time": "2022-01-30T20:41:59.772Z"
   },
   {
    "duration": 1037,
    "start_time": "2022-01-31T06:16:08.238Z"
   },
   {
    "duration": 19,
    "start_time": "2022-01-31T06:16:09.277Z"
   },
   {
    "duration": 12,
    "start_time": "2022-01-31T06:16:09.298Z"
   },
   {
    "duration": 3,
    "start_time": "2022-01-31T06:16:09.312Z"
   },
   {
    "duration": 4,
    "start_time": "2022-01-31T06:16:09.316Z"
   },
   {
    "duration": 6,
    "start_time": "2022-01-31T06:16:09.322Z"
   },
   {
    "duration": 3,
    "start_time": "2022-01-31T06:16:09.330Z"
   },
   {
    "duration": 3,
    "start_time": "2022-01-31T06:16:09.335Z"
   },
   {
    "duration": 43,
    "start_time": "2022-01-31T06:16:09.341Z"
   },
   {
    "duration": 7,
    "start_time": "2022-01-31T06:16:09.385Z"
   },
   {
    "duration": 7,
    "start_time": "2022-01-31T06:16:09.393Z"
   },
   {
    "duration": 9,
    "start_time": "2022-01-31T06:16:09.401Z"
   },
   {
    "duration": 225,
    "start_time": "2022-01-31T06:16:09.411Z"
   },
   {
    "duration": 223,
    "start_time": "2022-01-31T06:16:09.637Z"
   },
   {
    "duration": 11,
    "start_time": "2022-01-31T06:16:09.862Z"
   },
   {
    "duration": 5,
    "start_time": "2022-01-31T06:16:09.874Z"
   },
   {
    "duration": 2509755,
    "start_time": "2022-01-31T06:16:09.880Z"
   },
   {
    "duration": 54,
    "start_time": "2022-01-31T06:57:59.638Z"
   },
   {
    "duration": 5,
    "start_time": "2022-01-31T06:57:59.693Z"
   },
   {
    "duration": 7,
    "start_time": "2022-01-31T06:57:59.700Z"
   },
   {
    "duration": 4,
    "start_time": "2022-01-31T07:00:01.549Z"
   },
   {
    "duration": 1040,
    "start_time": "2022-01-31T18:31:10.214Z"
   },
   {
    "duration": 17,
    "start_time": "2022-01-31T18:31:11.256Z"
   },
   {
    "duration": 16,
    "start_time": "2022-01-31T18:31:11.274Z"
   },
   {
    "duration": 6,
    "start_time": "2022-01-31T18:31:11.292Z"
   },
   {
    "duration": 14,
    "start_time": "2022-01-31T18:31:11.301Z"
   },
   {
    "duration": 7,
    "start_time": "2022-01-31T18:31:11.317Z"
   },
   {
    "duration": 5,
    "start_time": "2022-01-31T18:31:11.326Z"
   },
   {
    "duration": 5,
    "start_time": "2022-01-31T18:31:11.333Z"
   },
   {
    "duration": 31,
    "start_time": "2022-01-31T18:31:11.340Z"
   },
   {
    "duration": 48,
    "start_time": "2022-01-31T18:31:11.373Z"
   },
   {
    "duration": 11,
    "start_time": "2022-01-31T18:31:11.423Z"
   },
   {
    "duration": 5,
    "start_time": "2022-01-31T18:31:11.436Z"
   },
   {
    "duration": 307,
    "start_time": "2022-01-31T18:31:11.444Z"
   },
   {
    "duration": 266,
    "start_time": "2022-01-31T18:31:11.752Z"
   },
   {
    "duration": 9,
    "start_time": "2022-01-31T18:31:12.020Z"
   },
   {
    "duration": 5,
    "start_time": "2022-01-31T18:31:12.031Z"
   },
   {
    "duration": 2687235,
    "start_time": "2022-01-31T18:31:12.038Z"
   },
   {
    "duration": 57,
    "start_time": "2022-01-31T19:15:59.275Z"
   },
   {
    "duration": 4,
    "start_time": "2022-01-31T19:15:59.333Z"
   },
   {
    "duration": 7,
    "start_time": "2022-01-31T19:15:59.339Z"
   },
   {
    "duration": 327,
    "start_time": "2022-01-31T19:19:34.819Z"
   },
   {
    "duration": 4,
    "start_time": "2022-01-31T19:19:43.472Z"
   },
   {
    "duration": 1036,
    "start_time": "2022-01-31T21:26:17.134Z"
   },
   {
    "duration": 532,
    "start_time": "2022-01-31T21:32:42.940Z"
   },
   {
    "duration": 4,
    "start_time": "2022-01-31T21:32:55.081Z"
   },
   {
    "duration": 26,
    "start_time": "2022-01-31T21:32:55.087Z"
   },
   {
    "duration": 16,
    "start_time": "2022-01-31T21:32:55.115Z"
   },
   {
    "duration": 14,
    "start_time": "2022-01-31T21:32:55.133Z"
   },
   {
    "duration": 10,
    "start_time": "2022-01-31T21:32:55.149Z"
   },
   {
    "duration": 14,
    "start_time": "2022-01-31T21:32:55.161Z"
   },
   {
    "duration": 17,
    "start_time": "2022-01-31T21:32:55.176Z"
   },
   {
    "duration": 11,
    "start_time": "2022-01-31T21:32:55.195Z"
   },
   {
    "duration": 32,
    "start_time": "2022-01-31T21:32:55.209Z"
   },
   {
    "duration": 10,
    "start_time": "2022-01-31T21:32:55.243Z"
   },
   {
    "duration": 9,
    "start_time": "2022-01-31T21:32:55.255Z"
   },
   {
    "duration": 354,
    "start_time": "2022-01-31T21:33:01.306Z"
   },
   {
    "duration": 471,
    "start_time": "2022-01-31T21:33:15.925Z"
   },
   {
    "duration": 1141,
    "start_time": "2022-01-31T21:33:53.865Z"
   },
   {
    "duration": 1304,
    "start_time": "2022-02-01T19:22:42.853Z"
   },
   {
    "duration": 22,
    "start_time": "2022-02-01T19:22:44.160Z"
   },
   {
    "duration": 22,
    "start_time": "2022-02-01T19:22:44.185Z"
   },
   {
    "duration": 9,
    "start_time": "2022-02-01T19:22:44.210Z"
   },
   {
    "duration": 9,
    "start_time": "2022-02-01T19:22:44.221Z"
   },
   {
    "duration": 22,
    "start_time": "2022-02-01T19:22:44.233Z"
   },
   {
    "duration": 8,
    "start_time": "2022-02-01T19:22:44.257Z"
   },
   {
    "duration": 15,
    "start_time": "2022-02-01T19:22:44.268Z"
   },
   {
    "duration": 62,
    "start_time": "2022-02-01T19:22:44.286Z"
   },
   {
    "duration": 12,
    "start_time": "2022-02-01T19:22:44.352Z"
   },
   {
    "duration": 12,
    "start_time": "2022-02-01T19:22:44.366Z"
   },
   {
    "duration": 5,
    "start_time": "2022-02-01T19:22:44.380Z"
   },
   {
    "duration": 1799,
    "start_time": "2022-02-01T19:22:44.388Z"
   },
   {
    "duration": 1675,
    "start_time": "2022-02-01T19:23:05.520Z"
   },
   {
    "duration": 1918,
    "start_time": "2022-02-01T19:25:02.893Z"
   },
   {
    "duration": 1788,
    "start_time": "2022-02-01T19:25:07.843Z"
   },
   {
    "duration": 1826,
    "start_time": "2022-02-01T19:25:33.417Z"
   },
   {
    "duration": 4,
    "start_time": "2022-02-01T19:26:57.503Z"
   },
   {
    "duration": 383,
    "start_time": "2022-02-01T19:27:44.482Z"
   },
   {
    "duration": 16,
    "start_time": "2022-02-01T19:28:11.729Z"
   },
   {
    "duration": 11,
    "start_time": "2022-02-01T19:28:24.453Z"
   },
   {
    "duration": 232,
    "start_time": "2022-02-01T19:28:44.795Z"
   },
   {
    "duration": 408,
    "start_time": "2022-02-01T19:29:22.946Z"
   },
   {
    "duration": 6,
    "start_time": "2022-02-01T19:29:30.290Z"
   },
   {
    "duration": 334,
    "start_time": "2022-02-01T19:30:13.493Z"
   },
   {
    "duration": 11,
    "start_time": "2022-02-01T19:30:20.997Z"
   },
   {
    "duration": 14,
    "start_time": "2022-02-01T19:30:38.034Z"
   },
   {
    "duration": 1711,
    "start_time": "2022-02-01T19:32:08.759Z"
   },
   {
    "duration": 12,
    "start_time": "2022-02-01T19:33:20.558Z"
   },
   {
    "duration": 12,
    "start_time": "2022-02-01T19:33:21.904Z"
   },
   {
    "duration": 7,
    "start_time": "2022-02-01T19:38:24.936Z"
   },
   {
    "duration": 244,
    "start_time": "2022-02-01T19:38:34.694Z"
   },
   {
    "duration": 237,
    "start_time": "2022-02-01T19:38:54.123Z"
   },
   {
    "duration": 1883,
    "start_time": "2022-02-01T19:39:35.307Z"
   },
   {
    "duration": 16,
    "start_time": "2022-02-01T19:40:14.232Z"
   },
   {
    "duration": 15,
    "start_time": "2022-02-01T19:40:20.924Z"
   },
   {
    "duration": 11,
    "start_time": "2022-02-01T19:40:23.649Z"
   },
   {
    "duration": 16,
    "start_time": "2022-02-01T19:40:31.601Z"
   },
   {
    "duration": 12,
    "start_time": "2022-02-01T19:40:34.121Z"
   },
   {
    "duration": 23,
    "start_time": "2022-02-01T19:40:48.884Z"
   },
   {
    "duration": 12,
    "start_time": "2022-02-01T19:40:53.111Z"
   },
   {
    "duration": 1953,
    "start_time": "2022-02-01T19:41:11.449Z"
   },
   {
    "duration": 260,
    "start_time": "2022-02-01T19:45:40.468Z"
   },
   {
    "duration": 1371,
    "start_time": "2022-02-02T05:42:57.243Z"
   },
   {
    "duration": 26,
    "start_time": "2022-02-02T05:42:58.616Z"
   },
   {
    "duration": 31,
    "start_time": "2022-02-02T05:42:58.646Z"
   },
   {
    "duration": 6,
    "start_time": "2022-02-02T05:42:58.681Z"
   },
   {
    "duration": 8,
    "start_time": "2022-02-02T05:42:58.690Z"
   },
   {
    "duration": 18,
    "start_time": "2022-02-02T05:42:58.701Z"
   },
   {
    "duration": 31,
    "start_time": "2022-02-02T05:42:58.722Z"
   },
   {
    "duration": 11,
    "start_time": "2022-02-02T05:42:58.757Z"
   },
   {
    "duration": 85,
    "start_time": "2022-02-02T05:42:58.773Z"
   },
   {
    "duration": 15,
    "start_time": "2022-02-02T05:42:58.861Z"
   },
   {
    "duration": 15,
    "start_time": "2022-02-02T05:42:58.880Z"
   },
   {
    "duration": 2821,
    "start_time": "2022-02-02T05:42:58.898Z"
   },
   {
    "duration": 35,
    "start_time": "2022-02-02T05:43:01.722Z"
   },
   {
    "duration": 16,
    "start_time": "2022-02-02T05:43:01.761Z"
   },
   {
    "duration": 10,
    "start_time": "2022-02-02T05:43:01.780Z"
   },
   {
    "duration": 1511,
    "start_time": "2022-02-02T11:09:46.447Z"
   },
   {
    "duration": 25,
    "start_time": "2022-02-02T11:09:47.961Z"
   },
   {
    "duration": 22,
    "start_time": "2022-02-02T11:09:47.989Z"
   },
   {
    "duration": 5,
    "start_time": "2022-02-02T11:09:48.014Z"
   },
   {
    "duration": 26,
    "start_time": "2022-02-02T11:09:48.022Z"
   },
   {
    "duration": 9,
    "start_time": "2022-02-02T11:09:48.051Z"
   },
   {
    "duration": 5,
    "start_time": "2022-02-02T11:09:48.062Z"
   },
   {
    "duration": 10,
    "start_time": "2022-02-02T11:09:48.069Z"
   },
   {
    "duration": 65,
    "start_time": "2022-02-02T11:09:48.083Z"
   },
   {
    "duration": 10,
    "start_time": "2022-02-02T11:09:48.151Z"
   },
   {
    "duration": 10,
    "start_time": "2022-02-02T11:09:48.164Z"
   },
   {
    "duration": 1877,
    "start_time": "2022-02-02T11:09:48.177Z"
   },
   {
    "duration": 18,
    "start_time": "2022-02-02T11:09:50.056Z"
   },
   {
    "duration": 11,
    "start_time": "2022-02-02T11:09:50.077Z"
   },
   {
    "duration": 8,
    "start_time": "2022-02-02T11:09:50.090Z"
   },
   {
    "duration": 4094842,
    "start_time": "2022-02-02T11:09:50.100Z"
   },
   {
    "duration": 86,
    "start_time": "2022-02-02T12:18:04.948Z"
   },
   {
    "duration": 9,
    "start_time": "2022-02-02T12:18:05.050Z"
   },
   {
    "duration": 17,
    "start_time": "2022-02-02T12:18:05.062Z"
   },
   {
    "duration": 19,
    "start_time": "2022-02-02T12:18:05.082Z"
   }
  ],
  "kernelspec": {
   "display_name": "Python 3 (ipykernel)",
   "language": "python",
   "name": "python3"
  },
  "language_info": {
   "codemirror_mode": {
    "name": "ipython",
    "version": 3
   },
   "file_extension": ".py",
   "mimetype": "text/x-python",
   "name": "python",
   "nbconvert_exporter": "python",
   "pygments_lexer": "ipython3",
   "version": "3.9.7"
  },
  "toc": {
   "base_numbering": 1,
   "nav_menu": {},
   "number_sections": true,
   "sideBar": true,
   "skip_h1_title": true,
   "title_cell": "Table of Contents",
   "title_sidebar": "Contents",
   "toc_cell": false,
   "toc_position": {
    "height": "calc(100% - 180px)",
    "left": "10px",
    "top": "150px",
    "width": "311.356px"
   },
   "toc_section_display": true,
   "toc_window_display": true
  }
 },
 "nbformat": 4,
 "nbformat_minor": 4
}
